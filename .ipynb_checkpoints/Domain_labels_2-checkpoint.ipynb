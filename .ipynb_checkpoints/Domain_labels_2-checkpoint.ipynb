{
 "cells": [
  {
   "cell_type": "code",
   "execution_count": 1,
   "id": "238f2419",
   "metadata": {},
   "outputs": [],
   "source": [
    "#Import CSV Bibliothek \n",
    "import csv\n",
    "#Import Pandas and label it as pd\n",
    "import pandas as pd\n",
    "#Import numpy and label it as np \n",
    "import numpy as np\n",
    "#Import Json library\n",
    "import json\n",
    "#Set size of Data on 100,000,000 line  \n",
    "csv.field_size_limit(100000000)\n",
    "#Display max. rows and columns \n",
    "pd.options.display.max_columns = None\n",
    "pd.options.display.max_rows = None\n",
    "#Import tldextract for extraction of Domains\n",
    "import tldextract\n",
    "#Show warnings just in console \n",
    "import warnings\n",
    "warnings.filterwarnings('ignore')"
   ]
  },
  {
   "cell_type": "code",
   "execution_count": 2,
   "id": "cb62b094",
   "metadata": {},
   "outputs": [],
   "source": [
    "path = '../data/df_domains_left_right.tsv'\n",
    "\n",
    "df_liberal_conservative_domains = pd.read_csv(path, sep='\\t', error_bad_lines=False)"
   ]
  },
  {
   "cell_type": "code",
   "execution_count": 3,
   "id": "47043a3f",
   "metadata": {},
   "outputs": [
    {
     "name": "stdout",
     "output_type": "stream",
     "text": [
      "Shape:  (1589, 5)\n"
     ]
    },
    {
     "data": {
      "text/html": [
       "<div>\n",
       "<style scoped>\n",
       "    .dataframe tbody tr th:only-of-type {\n",
       "        vertical-align: middle;\n",
       "    }\n",
       "\n",
       "    .dataframe tbody tr th {\n",
       "        vertical-align: top;\n",
       "    }\n",
       "\n",
       "    .dataframe thead th {\n",
       "        text-align: right;\n",
       "    }\n",
       "</style>\n",
       "<table border=\"1\" class=\"dataframe\">\n",
       "  <thead>\n",
       "    <tr style=\"text-align: right;\">\n",
       "      <th></th>\n",
       "      <th>domain</th>\n",
       "      <th>mediabias_leftcenterbias</th>\n",
       "      <th>mediabias_leftbias</th>\n",
       "      <th>mediabias_rightcenterbias</th>\n",
       "      <th>mediabias_rightbias</th>\n",
       "    </tr>\n",
       "  </thead>\n",
       "  <tbody>\n",
       "    <tr>\n",
       "      <th>0</th>\n",
       "      <td>604now.com</td>\n",
       "      <td>1.0</td>\n",
       "      <td>0.0</td>\n",
       "      <td>0.0</td>\n",
       "      <td>0.0</td>\n",
       "    </tr>\n",
       "    <tr>\n",
       "      <th>1</th>\n",
       "      <td>972mag.com</td>\n",
       "      <td>1.0</td>\n",
       "      <td>0.0</td>\n",
       "      <td>0.0</td>\n",
       "      <td>0.0</td>\n",
       "    </tr>\n",
       "    <tr>\n",
       "      <th>2</th>\n",
       "      <td>Augustachronicle.com</td>\n",
       "      <td>1.0</td>\n",
       "      <td>0.0</td>\n",
       "      <td>0.0</td>\n",
       "      <td>0.0</td>\n",
       "    </tr>\n",
       "    <tr>\n",
       "      <th>3</th>\n",
       "      <td>Boston.com</td>\n",
       "      <td>1.0</td>\n",
       "      <td>0.0</td>\n",
       "      <td>0.0</td>\n",
       "      <td>0.0</td>\n",
       "    </tr>\n",
       "    <tr>\n",
       "      <th>4</th>\n",
       "      <td>Censor.NET</td>\n",
       "      <td>1.0</td>\n",
       "      <td>0.0</td>\n",
       "      <td>0.0</td>\n",
       "      <td>0.0</td>\n",
       "    </tr>\n",
       "  </tbody>\n",
       "</table>\n",
       "</div>"
      ],
      "text/plain": [
       "                 domain  mediabias_leftcenterbias  mediabias_leftbias  \\\n",
       "0            604now.com                       1.0                 0.0   \n",
       "1            972mag.com                       1.0                 0.0   \n",
       "2  Augustachronicle.com                       1.0                 0.0   \n",
       "3            Boston.com                       1.0                 0.0   \n",
       "4            Censor.NET                       1.0                 0.0   \n",
       "\n",
       "   mediabias_rightcenterbias  mediabias_rightbias  \n",
       "0                        0.0                  0.0  \n",
       "1                        0.0                  0.0  \n",
       "2                        0.0                  0.0  \n",
       "3                        0.0                  0.0  \n",
       "4                        0.0                  0.0  "
      ]
     },
     "execution_count": 3,
     "metadata": {},
     "output_type": "execute_result"
    }
   ],
   "source": [
    "print('Shape: ', df_liberal_conservative_domains.shape)\n",
    "df_liberal_conservative_domains.head()"
   ]
  },
  {
   "cell_type": "code",
   "execution_count": 4,
   "id": "821a3605",
   "metadata": {},
   "outputs": [
    {
     "name": "stdout",
     "output_type": "stream",
     "text": [
      "Shape:  (644, 5)\n"
     ]
    },
    {
     "data": {
      "text/html": [
       "<div>\n",
       "<style scoped>\n",
       "    .dataframe tbody tr th:only-of-type {\n",
       "        vertical-align: middle;\n",
       "    }\n",
       "\n",
       "    .dataframe tbody tr th {\n",
       "        vertical-align: top;\n",
       "    }\n",
       "\n",
       "    .dataframe thead th {\n",
       "        text-align: right;\n",
       "    }\n",
       "</style>\n",
       "<table border=\"1\" class=\"dataframe\">\n",
       "  <thead>\n",
       "    <tr style=\"text-align: right;\">\n",
       "      <th></th>\n",
       "      <th>domain</th>\n",
       "      <th>mediabias_leftcenterbias</th>\n",
       "      <th>mediabias_leftbias</th>\n",
       "      <th>mediabias_rightcenterbias</th>\n",
       "      <th>mediabias_rightbias</th>\n",
       "    </tr>\n",
       "  </thead>\n",
       "  <tbody>\n",
       "    <tr>\n",
       "      <th>0</th>\n",
       "      <td>604now.com</td>\n",
       "      <td>1.0</td>\n",
       "      <td>0.0</td>\n",
       "      <td>0.0</td>\n",
       "      <td>0.0</td>\n",
       "    </tr>\n",
       "    <tr>\n",
       "      <th>1</th>\n",
       "      <td>972mag.com</td>\n",
       "      <td>1.0</td>\n",
       "      <td>0.0</td>\n",
       "      <td>0.0</td>\n",
       "      <td>0.0</td>\n",
       "    </tr>\n",
       "    <tr>\n",
       "      <th>2</th>\n",
       "      <td>Augustachronicle.com</td>\n",
       "      <td>1.0</td>\n",
       "      <td>0.0</td>\n",
       "      <td>0.0</td>\n",
       "      <td>0.0</td>\n",
       "    </tr>\n",
       "    <tr>\n",
       "      <th>3</th>\n",
       "      <td>Boston.com</td>\n",
       "      <td>1.0</td>\n",
       "      <td>0.0</td>\n",
       "      <td>0.0</td>\n",
       "      <td>0.0</td>\n",
       "    </tr>\n",
       "    <tr>\n",
       "      <th>4</th>\n",
       "      <td>Censor.NET</td>\n",
       "      <td>1.0</td>\n",
       "      <td>0.0</td>\n",
       "      <td>0.0</td>\n",
       "      <td>0.0</td>\n",
       "    </tr>\n",
       "  </tbody>\n",
       "</table>\n",
       "</div>"
      ],
      "text/plain": [
       "                 domain  mediabias_leftcenterbias  mediabias_leftbias  \\\n",
       "0            604now.com                       1.0                 0.0   \n",
       "1            972mag.com                       1.0                 0.0   \n",
       "2  Augustachronicle.com                       1.0                 0.0   \n",
       "3            Boston.com                       1.0                 0.0   \n",
       "4            Censor.NET                       1.0                 0.0   \n",
       "\n",
       "   mediabias_rightcenterbias  mediabias_rightbias  \n",
       "0                        0.0                  0.0  \n",
       "1                        0.0                  0.0  \n",
       "2                        0.0                  0.0  \n",
       "3                        0.0                  0.0  \n",
       "4                        0.0                  0.0  "
      ]
     },
     "execution_count": 4,
     "metadata": {},
     "output_type": "execute_result"
    }
   ],
   "source": [
    "df_leftcenterbias = df_liberal_conservative_domains[df_liberal_conservative_domains['mediabias_leftcenterbias'] == 1]\n",
    "\n",
    "print('Shape: ', df_leftcenterbias.shape)\n",
    "df_leftcenterbias.head()"
   ]
  },
  {
   "cell_type": "code",
   "execution_count": 5,
   "id": "3ddd5e1b",
   "metadata": {},
   "outputs": [],
   "source": [
    "list_leftcenterbias_domains = df_leftcenterbias.domain.tolist()"
   ]
  },
  {
   "cell_type": "code",
   "execution_count": 6,
   "id": "599cbe59",
   "metadata": {},
   "outputs": [],
   "source": [
    "def get_unique_items(list_1):\n",
    "    \n",
    "    list_1 = np.array(list_1)\n",
    "    list_1 = np.unique(list_1)\n",
    "    list_1 = list_1.tolist()\n",
    "    \n",
    "    return list_1"
   ]
  },
  {
   "cell_type": "code",
   "execution_count": 7,
   "id": "c931b119",
   "metadata": {},
   "outputs": [
    {
     "data": {
      "text/plain": [
       "644"
      ]
     },
     "execution_count": 7,
     "metadata": {},
     "output_type": "execute_result"
    }
   ],
   "source": [
    "list_leftcenterbias_domains = get_unique_items(list_leftcenterbias_domains)\n",
    "len(list_leftcenterbias_domains)"
   ]
  },
  {
   "cell_type": "code",
   "execution_count": 8,
   "id": "2d572aa0",
   "metadata": {},
   "outputs": [
    {
     "name": "stdout",
     "output_type": "stream",
     "text": [
      "Shape:  (310, 5)\n"
     ]
    },
    {
     "data": {
      "text/html": [
       "<div>\n",
       "<style scoped>\n",
       "    .dataframe tbody tr th:only-of-type {\n",
       "        vertical-align: middle;\n",
       "    }\n",
       "\n",
       "    .dataframe tbody tr th {\n",
       "        vertical-align: top;\n",
       "    }\n",
       "\n",
       "    .dataframe thead th {\n",
       "        text-align: right;\n",
       "    }\n",
       "</style>\n",
       "<table border=\"1\" class=\"dataframe\">\n",
       "  <thead>\n",
       "    <tr style=\"text-align: right;\">\n",
       "      <th></th>\n",
       "      <th>domain</th>\n",
       "      <th>mediabias_leftcenterbias</th>\n",
       "      <th>mediabias_leftbias</th>\n",
       "      <th>mediabias_rightcenterbias</th>\n",
       "      <th>mediabias_rightbias</th>\n",
       "    </tr>\n",
       "  </thead>\n",
       "  <tbody>\n",
       "    <tr>\n",
       "      <th>644</th>\n",
       "      <td>19thnews.org</td>\n",
       "      <td>0.0</td>\n",
       "      <td>1.0</td>\n",
       "      <td>0.0</td>\n",
       "      <td>0.0</td>\n",
       "    </tr>\n",
       "    <tr>\n",
       "      <th>645</th>\n",
       "      <td>Accountable.US</td>\n",
       "      <td>0.0</td>\n",
       "      <td>1.0</td>\n",
       "      <td>0.0</td>\n",
       "      <td>0.0</td>\n",
       "    </tr>\n",
       "    <tr>\n",
       "      <th>646</th>\n",
       "      <td>Brut.Media</td>\n",
       "      <td>0.0</td>\n",
       "      <td>1.0</td>\n",
       "      <td>0.0</td>\n",
       "      <td>0.0</td>\n",
       "    </tr>\n",
       "    <tr>\n",
       "      <th>647</th>\n",
       "      <td>JoeBiden.com</td>\n",
       "      <td>0.0</td>\n",
       "      <td>1.0</td>\n",
       "      <td>0.0</td>\n",
       "      <td>0.0</td>\n",
       "    </tr>\n",
       "    <tr>\n",
       "      <th>648</th>\n",
       "      <td>Them.us</td>\n",
       "      <td>0.0</td>\n",
       "      <td>1.0</td>\n",
       "      <td>0.0</td>\n",
       "      <td>0.0</td>\n",
       "    </tr>\n",
       "  </tbody>\n",
       "</table>\n",
       "</div>"
      ],
      "text/plain": [
       "             domain  mediabias_leftcenterbias  mediabias_leftbias  \\\n",
       "644    19thnews.org                       0.0                 1.0   \n",
       "645  Accountable.US                       0.0                 1.0   \n",
       "646      Brut.Media                       0.0                 1.0   \n",
       "647    JoeBiden.com                       0.0                 1.0   \n",
       "648         Them.us                       0.0                 1.0   \n",
       "\n",
       "     mediabias_rightcenterbias  mediabias_rightbias  \n",
       "644                        0.0                  0.0  \n",
       "645                        0.0                  0.0  \n",
       "646                        0.0                  0.0  \n",
       "647                        0.0                  0.0  \n",
       "648                        0.0                  0.0  "
      ]
     },
     "execution_count": 8,
     "metadata": {},
     "output_type": "execute_result"
    }
   ],
   "source": [
    "df_leftbias = df_liberal_conservative_domains[df_liberal_conservative_domains['mediabias_leftbias'] == 1]\n",
    "\n",
    "print('Shape: ', df_leftbias.shape)\n",
    "df_leftbias.head()"
   ]
  },
  {
   "cell_type": "code",
   "execution_count": 9,
   "id": "adc8ca5a",
   "metadata": {},
   "outputs": [],
   "source": [
    "list_leftbias_domains = df_leftbias.domain.tolist()"
   ]
  },
  {
   "cell_type": "code",
   "execution_count": 10,
   "id": "8aae0a50",
   "metadata": {},
   "outputs": [
    {
     "data": {
      "text/plain": [
       "310"
      ]
     },
     "execution_count": 10,
     "metadata": {},
     "output_type": "execute_result"
    }
   ],
   "source": [
    "list_leftbias_domains = get_unique_items(list_leftbias_domains)\n",
    "len(list_leftbias_domains)"
   ]
  },
  {
   "cell_type": "code",
   "execution_count": 11,
   "id": "e63e0957",
   "metadata": {},
   "outputs": [
    {
     "name": "stdout",
     "output_type": "stream",
     "text": [
      "Shape:  (381, 5)\n"
     ]
    },
    {
     "data": {
      "text/html": [
       "<div>\n",
       "<style scoped>\n",
       "    .dataframe tbody tr th:only-of-type {\n",
       "        vertical-align: middle;\n",
       "    }\n",
       "\n",
       "    .dataframe tbody tr th {\n",
       "        vertical-align: top;\n",
       "    }\n",
       "\n",
       "    .dataframe thead th {\n",
       "        text-align: right;\n",
       "    }\n",
       "</style>\n",
       "<table border=\"1\" class=\"dataframe\">\n",
       "  <thead>\n",
       "    <tr style=\"text-align: right;\">\n",
       "      <th></th>\n",
       "      <th>domain</th>\n",
       "      <th>mediabias_leftcenterbias</th>\n",
       "      <th>mediabias_leftbias</th>\n",
       "      <th>mediabias_rightcenterbias</th>\n",
       "      <th>mediabias_rightbias</th>\n",
       "    </tr>\n",
       "  </thead>\n",
       "  <tbody>\n",
       "    <tr>\n",
       "      <th>954</th>\n",
       "      <td>13wham.com</td>\n",
       "      <td>0.0</td>\n",
       "      <td>0.0</td>\n",
       "      <td>1.0</td>\n",
       "      <td>0.0</td>\n",
       "    </tr>\n",
       "    <tr>\n",
       "      <th>955</th>\n",
       "      <td>19fortyfive.com</td>\n",
       "      <td>0.0</td>\n",
       "      <td>0.0</td>\n",
       "      <td>1.0</td>\n",
       "      <td>0.0</td>\n",
       "    </tr>\n",
       "    <tr>\n",
       "      <th>956</th>\n",
       "      <td>7news.com.au</td>\n",
       "      <td>0.0</td>\n",
       "      <td>0.0</td>\n",
       "      <td>1.0</td>\n",
       "      <td>0.0</td>\n",
       "    </tr>\n",
       "    <tr>\n",
       "      <th>957</th>\n",
       "      <td>9news.com.au</td>\n",
       "      <td>0.0</td>\n",
       "      <td>0.0</td>\n",
       "      <td>1.0</td>\n",
       "      <td>0.0</td>\n",
       "    </tr>\n",
       "    <tr>\n",
       "      <th>958</th>\n",
       "      <td>Deutschland.de</td>\n",
       "      <td>0.0</td>\n",
       "      <td>0.0</td>\n",
       "      <td>1.0</td>\n",
       "      <td>0.0</td>\n",
       "    </tr>\n",
       "  </tbody>\n",
       "</table>\n",
       "</div>"
      ],
      "text/plain": [
       "              domain  mediabias_leftcenterbias  mediabias_leftbias  \\\n",
       "954       13wham.com                       0.0                 0.0   \n",
       "955  19fortyfive.com                       0.0                 0.0   \n",
       "956     7news.com.au                       0.0                 0.0   \n",
       "957     9news.com.au                       0.0                 0.0   \n",
       "958   Deutschland.de                       0.0                 0.0   \n",
       "\n",
       "     mediabias_rightcenterbias  mediabias_rightbias  \n",
       "954                        1.0                  0.0  \n",
       "955                        1.0                  0.0  \n",
       "956                        1.0                  0.0  \n",
       "957                        1.0                  0.0  \n",
       "958                        1.0                  0.0  "
      ]
     },
     "execution_count": 11,
     "metadata": {},
     "output_type": "execute_result"
    }
   ],
   "source": [
    "df_rightcenterbias = df_liberal_conservative_domains[df_liberal_conservative_domains['mediabias_rightcenterbias'] == 1]\n",
    "\n",
    "print('Shape: ', df_rightcenterbias.shape)\n",
    "df_rightcenterbias.head()"
   ]
  },
  {
   "cell_type": "code",
   "execution_count": 12,
   "id": "9165eb93",
   "metadata": {},
   "outputs": [
    {
     "data": {
      "text/plain": [
       "381"
      ]
     },
     "execution_count": 12,
     "metadata": {},
     "output_type": "execute_result"
    }
   ],
   "source": [
    "list_rightcenterbias_domains = df_rightcenterbias.domain.tolist()\n",
    "\n",
    "list_rightcenterbias_domains = get_unique_items(list_rightcenterbias_domains)\n",
    "len(list_rightcenterbias_domains)"
   ]
  },
  {
   "cell_type": "code",
   "execution_count": 13,
   "id": "d9cb1f9e",
   "metadata": {},
   "outputs": [
    {
     "name": "stdout",
     "output_type": "stream",
     "text": [
      "Shape:  (254, 5)\n"
     ]
    },
    {
     "data": {
      "text/html": [
       "<div>\n",
       "<style scoped>\n",
       "    .dataframe tbody tr th:only-of-type {\n",
       "        vertical-align: middle;\n",
       "    }\n",
       "\n",
       "    .dataframe tbody tr th {\n",
       "        vertical-align: top;\n",
       "    }\n",
       "\n",
       "    .dataframe thead th {\n",
       "        text-align: right;\n",
       "    }\n",
       "</style>\n",
       "<table border=\"1\" class=\"dataframe\">\n",
       "  <thead>\n",
       "    <tr style=\"text-align: right;\">\n",
       "      <th></th>\n",
       "      <th>domain</th>\n",
       "      <th>mediabias_leftcenterbias</th>\n",
       "      <th>mediabias_leftbias</th>\n",
       "      <th>mediabias_rightcenterbias</th>\n",
       "      <th>mediabias_rightbias</th>\n",
       "    </tr>\n",
       "  </thead>\n",
       "  <tbody>\n",
       "    <tr>\n",
       "      <th>1335</th>\n",
       "      <td>2ndvote.com</td>\n",
       "      <td>0.0</td>\n",
       "      <td>0.0</td>\n",
       "      <td>0.0</td>\n",
       "      <td>1.0</td>\n",
       "    </tr>\n",
       "    <tr>\n",
       "      <th>1336</th>\n",
       "      <td>Abort73.com</td>\n",
       "      <td>0.0</td>\n",
       "      <td>0.0</td>\n",
       "      <td>0.0</td>\n",
       "      <td>1.0</td>\n",
       "    </tr>\n",
       "    <tr>\n",
       "      <th>1337</th>\n",
       "      <td>Aish.com</td>\n",
       "      <td>0.0</td>\n",
       "      <td>0.0</td>\n",
       "      <td>0.0</td>\n",
       "      <td>1.0</td>\n",
       "    </tr>\n",
       "    <tr>\n",
       "      <th>1338</th>\n",
       "      <td>AsianNews.it</td>\n",
       "      <td>0.0</td>\n",
       "      <td>0.0</td>\n",
       "      <td>0.0</td>\n",
       "      <td>1.0</td>\n",
       "    </tr>\n",
       "    <tr>\n",
       "      <th>1339</th>\n",
       "      <td>CAGW.org</td>\n",
       "      <td>0.0</td>\n",
       "      <td>0.0</td>\n",
       "      <td>0.0</td>\n",
       "      <td>1.0</td>\n",
       "    </tr>\n",
       "  </tbody>\n",
       "</table>\n",
       "</div>"
      ],
      "text/plain": [
       "            domain  mediabias_leftcenterbias  mediabias_leftbias  \\\n",
       "1335   2ndvote.com                       0.0                 0.0   \n",
       "1336   Abort73.com                       0.0                 0.0   \n",
       "1337      Aish.com                       0.0                 0.0   \n",
       "1338  AsianNews.it                       0.0                 0.0   \n",
       "1339      CAGW.org                       0.0                 0.0   \n",
       "\n",
       "      mediabias_rightcenterbias  mediabias_rightbias  \n",
       "1335                        0.0                  1.0  \n",
       "1336                        0.0                  1.0  \n",
       "1337                        0.0                  1.0  \n",
       "1338                        0.0                  1.0  \n",
       "1339                        0.0                  1.0  "
      ]
     },
     "execution_count": 13,
     "metadata": {},
     "output_type": "execute_result"
    }
   ],
   "source": [
    "df_rightbias = df_liberal_conservative_domains[df_liberal_conservative_domains['mediabias_rightbias'] == 1]\n",
    "\n",
    "print('Shape: ', df_rightbias.shape)\n",
    "df_rightbias.head()"
   ]
  },
  {
   "cell_type": "code",
   "execution_count": 14,
   "id": "b10a6a09",
   "metadata": {},
   "outputs": [
    {
     "data": {
      "text/plain": [
       "254"
      ]
     },
     "execution_count": 14,
     "metadata": {},
     "output_type": "execute_result"
    }
   ],
   "source": [
    "list_rightbias_domains = df_rightbias.domain.tolist()\n",
    "\n",
    "list_rightbias_domains = get_unique_items(list_rightbias_domains)\n",
    "len(list_rightbias_domains)"
   ]
  },
  {
   "cell_type": "markdown",
   "id": "45cffcfc",
   "metadata": {},
   "source": [
    "****"
   ]
  },
  {
   "cell_type": "code",
   "execution_count": 15,
   "id": "a1e0ede4",
   "metadata": {},
   "outputs": [],
   "source": [
    "path = '../data/df_domains_pro_anti_science.tsv'\n",
    "\n",
    "df_domains_pro_and_anti_science = pd.read_csv(path, sep='\\t', error_bad_lines=False)"
   ]
  },
  {
   "cell_type": "code",
   "execution_count": 16,
   "id": "6f5d5c47",
   "metadata": {},
   "outputs": [
    {
     "name": "stdout",
     "output_type": "stream",
     "text": [
      "Shape:  (1395, 4)\n"
     ]
    },
    {
     "data": {
      "text/html": [
       "<div>\n",
       "<style scoped>\n",
       "    .dataframe tbody tr th:only-of-type {\n",
       "        vertical-align: middle;\n",
       "    }\n",
       "\n",
       "    .dataframe tbody tr th {\n",
       "        vertical-align: top;\n",
       "    }\n",
       "\n",
       "    .dataframe thead th {\n",
       "        text-align: right;\n",
       "    }\n",
       "</style>\n",
       "<table border=\"1\" class=\"dataframe\">\n",
       "  <thead>\n",
       "    <tr style=\"text-align: right;\">\n",
       "      <th></th>\n",
       "      <th>domain</th>\n",
       "      <th>mediabias_proscience</th>\n",
       "      <th>mediabias_questionblesources</th>\n",
       "      <th>mediabias_conspiracy_psydoscience</th>\n",
       "    </tr>\n",
       "  </thead>\n",
       "  <tbody>\n",
       "    <tr>\n",
       "      <th>0</th>\n",
       "      <td>Covid.gov</td>\n",
       "      <td>1.0</td>\n",
       "      <td>0.0</td>\n",
       "      <td>0.0</td>\n",
       "    </tr>\n",
       "    <tr>\n",
       "      <th>1</th>\n",
       "      <td>Drugs.com</td>\n",
       "      <td>1.0</td>\n",
       "      <td>0.0</td>\n",
       "      <td>0.0</td>\n",
       "    </tr>\n",
       "    <tr>\n",
       "      <th>2</th>\n",
       "      <td>News-Medical.net</td>\n",
       "      <td>1.0</td>\n",
       "      <td>0.0</td>\n",
       "      <td>0.0</td>\n",
       "    </tr>\n",
       "    <tr>\n",
       "      <th>3</th>\n",
       "      <td>SciTechDaily.com</td>\n",
       "      <td>1.0</td>\n",
       "      <td>0.0</td>\n",
       "      <td>0.0</td>\n",
       "    </tr>\n",
       "    <tr>\n",
       "      <th>4</th>\n",
       "      <td>aaas.org</td>\n",
       "      <td>1.0</td>\n",
       "      <td>0.0</td>\n",
       "      <td>0.0</td>\n",
       "    </tr>\n",
       "  </tbody>\n",
       "</table>\n",
       "</div>"
      ],
      "text/plain": [
       "             domain  mediabias_proscience  mediabias_questionblesources  \\\n",
       "0         Covid.gov                   1.0                           0.0   \n",
       "1         Drugs.com                   1.0                           0.0   \n",
       "2  News-Medical.net                   1.0                           0.0   \n",
       "3  SciTechDaily.com                   1.0                           0.0   \n",
       "4          aaas.org                   1.0                           0.0   \n",
       "\n",
       "   mediabias_conspiracy_psydoscience  \n",
       "0                                0.0  \n",
       "1                                0.0  \n",
       "2                                0.0  \n",
       "3                                0.0  \n",
       "4                                0.0  "
      ]
     },
     "execution_count": 16,
     "metadata": {},
     "output_type": "execute_result"
    }
   ],
   "source": [
    "print('Shape: ', df_domains_pro_and_anti_science.shape)\n",
    "df_domains_pro_and_anti_science.head()"
   ]
  },
  {
   "cell_type": "code",
   "execution_count": 17,
   "id": "132f0a91",
   "metadata": {},
   "outputs": [
    {
     "name": "stdout",
     "output_type": "stream",
     "text": [
      "Shape:  (150, 4)\n"
     ]
    },
    {
     "data": {
      "text/html": [
       "<div>\n",
       "<style scoped>\n",
       "    .dataframe tbody tr th:only-of-type {\n",
       "        vertical-align: middle;\n",
       "    }\n",
       "\n",
       "    .dataframe tbody tr th {\n",
       "        vertical-align: top;\n",
       "    }\n",
       "\n",
       "    .dataframe thead th {\n",
       "        text-align: right;\n",
       "    }\n",
       "</style>\n",
       "<table border=\"1\" class=\"dataframe\">\n",
       "  <thead>\n",
       "    <tr style=\"text-align: right;\">\n",
       "      <th></th>\n",
       "      <th>domain</th>\n",
       "      <th>mediabias_proscience</th>\n",
       "      <th>mediabias_questionblesources</th>\n",
       "      <th>mediabias_conspiracy_psydoscience</th>\n",
       "    </tr>\n",
       "  </thead>\n",
       "  <tbody>\n",
       "    <tr>\n",
       "      <th>0</th>\n",
       "      <td>Covid.gov</td>\n",
       "      <td>1.0</td>\n",
       "      <td>0.0</td>\n",
       "      <td>0.0</td>\n",
       "    </tr>\n",
       "    <tr>\n",
       "      <th>1</th>\n",
       "      <td>Drugs.com</td>\n",
       "      <td>1.0</td>\n",
       "      <td>0.0</td>\n",
       "      <td>0.0</td>\n",
       "    </tr>\n",
       "    <tr>\n",
       "      <th>2</th>\n",
       "      <td>News-Medical.net</td>\n",
       "      <td>1.0</td>\n",
       "      <td>0.0</td>\n",
       "      <td>0.0</td>\n",
       "    </tr>\n",
       "    <tr>\n",
       "      <th>3</th>\n",
       "      <td>SciTechDaily.com</td>\n",
       "      <td>1.0</td>\n",
       "      <td>0.0</td>\n",
       "      <td>0.0</td>\n",
       "    </tr>\n",
       "    <tr>\n",
       "      <th>4</th>\n",
       "      <td>aaas.org</td>\n",
       "      <td>1.0</td>\n",
       "      <td>0.0</td>\n",
       "      <td>0.0</td>\n",
       "    </tr>\n",
       "  </tbody>\n",
       "</table>\n",
       "</div>"
      ],
      "text/plain": [
       "             domain  mediabias_proscience  mediabias_questionblesources  \\\n",
       "0         Covid.gov                   1.0                           0.0   \n",
       "1         Drugs.com                   1.0                           0.0   \n",
       "2  News-Medical.net                   1.0                           0.0   \n",
       "3  SciTechDaily.com                   1.0                           0.0   \n",
       "4          aaas.org                   1.0                           0.0   \n",
       "\n",
       "   mediabias_conspiracy_psydoscience  \n",
       "0                                0.0  \n",
       "1                                0.0  \n",
       "2                                0.0  \n",
       "3                                0.0  \n",
       "4                                0.0  "
      ]
     },
     "execution_count": 17,
     "metadata": {},
     "output_type": "execute_result"
    }
   ],
   "source": [
    "df_proscience_domains = df_domains_pro_and_anti_science[df_domains_pro_and_anti_science['mediabias_proscience'] == 1]\n",
    "\n",
    "print('Shape: ', df_proscience_domains.shape)\n",
    "df_proscience_domains.head()"
   ]
  },
  {
   "cell_type": "code",
   "execution_count": 18,
   "id": "a3553f65",
   "metadata": {},
   "outputs": [],
   "source": [
    "list_proscience_domains = df_proscience_domains.domain.tolist()"
   ]
  },
  {
   "cell_type": "code",
   "execution_count": 20,
   "id": "563220fe",
   "metadata": {},
   "outputs": [
    {
     "data": {
      "text/plain": [
       "150"
      ]
     },
     "execution_count": 20,
     "metadata": {},
     "output_type": "execute_result"
    }
   ],
   "source": [
    "list_proscience_domains = get_unique_items(list_proscience_domains)\n",
    "len(list_proscience_domains)"
   ]
  },
  {
   "cell_type": "code",
   "execution_count": 21,
   "id": "5cc33549",
   "metadata": {},
   "outputs": [
    {
     "name": "stdout",
     "output_type": "stream",
     "text": [
      "Shape:  (908, 4)\n"
     ]
    },
    {
     "data": {
      "text/html": [
       "<div>\n",
       "<style scoped>\n",
       "    .dataframe tbody tr th:only-of-type {\n",
       "        vertical-align: middle;\n",
       "    }\n",
       "\n",
       "    .dataframe tbody tr th {\n",
       "        vertical-align: top;\n",
       "    }\n",
       "\n",
       "    .dataframe thead th {\n",
       "        text-align: right;\n",
       "    }\n",
       "</style>\n",
       "<table border=\"1\" class=\"dataframe\">\n",
       "  <thead>\n",
       "    <tr style=\"text-align: right;\">\n",
       "      <th></th>\n",
       "      <th>domain</th>\n",
       "      <th>mediabias_proscience</th>\n",
       "      <th>mediabias_questionblesources</th>\n",
       "      <th>mediabias_conspiracy_psydoscience</th>\n",
       "    </tr>\n",
       "  </thead>\n",
       "  <tbody>\n",
       "    <tr>\n",
       "      <th>150</th>\n",
       "      <td>100percentfedup.com</td>\n",
       "      <td>0.0</td>\n",
       "      <td>1.0</td>\n",
       "      <td>0.0</td>\n",
       "    </tr>\n",
       "    <tr>\n",
       "      <th>151</th>\n",
       "      <td>12minutos.com</td>\n",
       "      <td>0.0</td>\n",
       "      <td>1.0</td>\n",
       "      <td>0.0</td>\n",
       "    </tr>\n",
       "    <tr>\n",
       "      <th>152</th>\n",
       "      <td>2020conservative.com</td>\n",
       "      <td>0.0</td>\n",
       "      <td>1.0</td>\n",
       "      <td>0.0</td>\n",
       "    </tr>\n",
       "    <tr>\n",
       "      <th>153</th>\n",
       "      <td>24Jours.com</td>\n",
       "      <td>0.0</td>\n",
       "      <td>1.0</td>\n",
       "      <td>0.0</td>\n",
       "    </tr>\n",
       "    <tr>\n",
       "      <th>154</th>\n",
       "      <td>4Chan.org</td>\n",
       "      <td>0.0</td>\n",
       "      <td>1.0</td>\n",
       "      <td>0.0</td>\n",
       "    </tr>\n",
       "  </tbody>\n",
       "</table>\n",
       "</div>"
      ],
      "text/plain": [
       "                   domain  mediabias_proscience  mediabias_questionblesources  \\\n",
       "150   100percentfedup.com                   0.0                           1.0   \n",
       "151         12minutos.com                   0.0                           1.0   \n",
       "152  2020conservative.com                   0.0                           1.0   \n",
       "153           24Jours.com                   0.0                           1.0   \n",
       "154             4Chan.org                   0.0                           1.0   \n",
       "\n",
       "     mediabias_conspiracy_psydoscience  \n",
       "150                                0.0  \n",
       "151                                0.0  \n",
       "152                                0.0  \n",
       "153                                0.0  \n",
       "154                                0.0  "
      ]
     },
     "execution_count": 21,
     "metadata": {},
     "output_type": "execute_result"
    }
   ],
   "source": [
    "df_domains_questionblesources = df_domains_pro_and_anti_science[df_domains_pro_and_anti_science['mediabias_questionblesources'] == 1]\n",
    "\n",
    "print('Shape: ', df_domains_questionblesources.shape)\n",
    "df_domains_questionblesources.head()"
   ]
  },
  {
   "cell_type": "code",
   "execution_count": 22,
   "id": "f439c705",
   "metadata": {},
   "outputs": [],
   "source": [
    "list_domains_questionblesources = df_domains_questionblesources.domain.tolist()"
   ]
  },
  {
   "cell_type": "code",
   "execution_count": 23,
   "id": "62d3c927",
   "metadata": {},
   "outputs": [
    {
     "name": "stdout",
     "output_type": "stream",
     "text": [
      "Shape:  (337, 4)\n"
     ]
    },
    {
     "data": {
      "text/html": [
       "<div>\n",
       "<style scoped>\n",
       "    .dataframe tbody tr th:only-of-type {\n",
       "        vertical-align: middle;\n",
       "    }\n",
       "\n",
       "    .dataframe tbody tr th {\n",
       "        vertical-align: top;\n",
       "    }\n",
       "\n",
       "    .dataframe thead th {\n",
       "        text-align: right;\n",
       "    }\n",
       "</style>\n",
       "<table border=\"1\" class=\"dataframe\">\n",
       "  <thead>\n",
       "    <tr style=\"text-align: right;\">\n",
       "      <th></th>\n",
       "      <th>domain</th>\n",
       "      <th>mediabias_proscience</th>\n",
       "      <th>mediabias_questionblesources</th>\n",
       "      <th>mediabias_conspiracy_psydoscience</th>\n",
       "    </tr>\n",
       "  </thead>\n",
       "  <tbody>\n",
       "    <tr>\n",
       "      <th>1058</th>\n",
       "      <td>2020ElectionCenter.com</td>\n",
       "      <td>0.0</td>\n",
       "      <td>0.0</td>\n",
       "      <td>1.0</td>\n",
       "    </tr>\n",
       "    <tr>\n",
       "      <th>1059</th>\n",
       "      <td>21stcenturywire.com</td>\n",
       "      <td>0.0</td>\n",
       "      <td>0.0</td>\n",
       "      <td>1.0</td>\n",
       "    </tr>\n",
       "    <tr>\n",
       "      <th>1060</th>\n",
       "      <td>369news.net</td>\n",
       "      <td>0.0</td>\n",
       "      <td>0.0</td>\n",
       "      <td>1.0</td>\n",
       "    </tr>\n",
       "    <tr>\n",
       "      <th>1061</th>\n",
       "      <td>79Days.News</td>\n",
       "      <td>0.0</td>\n",
       "      <td>0.0</td>\n",
       "      <td>1.0</td>\n",
       "    </tr>\n",
       "    <tr>\n",
       "      <th>1062</th>\n",
       "      <td>911truth.org</td>\n",
       "      <td>0.0</td>\n",
       "      <td>0.0</td>\n",
       "      <td>1.0</td>\n",
       "    </tr>\n",
       "  </tbody>\n",
       "</table>\n",
       "</div>"
      ],
      "text/plain": [
       "                      domain  mediabias_proscience  \\\n",
       "1058  2020ElectionCenter.com                   0.0   \n",
       "1059     21stcenturywire.com                   0.0   \n",
       "1060             369news.net                   0.0   \n",
       "1061             79Days.News                   0.0   \n",
       "1062            911truth.org                   0.0   \n",
       "\n",
       "      mediabias_questionblesources  mediabias_conspiracy_psydoscience  \n",
       "1058                           0.0                                1.0  \n",
       "1059                           0.0                                1.0  \n",
       "1060                           0.0                                1.0  \n",
       "1061                           0.0                                1.0  \n",
       "1062                           0.0                                1.0  "
      ]
     },
     "execution_count": 23,
     "metadata": {},
     "output_type": "execute_result"
    }
   ],
   "source": [
    "df_domains_conspiracy_psydoscience = df_domains_pro_and_anti_science[df_domains_pro_and_anti_science['mediabias_conspiracy_psydoscience'] == 1]\n",
    "\n",
    "print('Shape: ', df_domains_conspiracy_psydoscience.shape)\n",
    "df_domains_conspiracy_psydoscience.head()"
   ]
  },
  {
   "cell_type": "code",
   "execution_count": 24,
   "id": "9949e8bf",
   "metadata": {},
   "outputs": [],
   "source": [
    "list_domains_conspiracy_psydoscience = df_domains_conspiracy_psydoscience.domain.tolist()"
   ]
  },
  {
   "cell_type": "code",
   "execution_count": 25,
   "id": "d8deb5cc",
   "metadata": {},
   "outputs": [
    {
     "data": {
      "text/plain": [
       "1245"
      ]
     },
     "execution_count": 25,
     "metadata": {},
     "output_type": "execute_result"
    }
   ],
   "source": [
    "list_antiscience_domains = []\n",
    "list_antiscience_domains.extend(list_domains_conspiracy_psydoscience)\n",
    "list_antiscience_domains.extend(list_domains_questionblesources)\n",
    "\n",
    "list_antiscience_domains = get_unique_items(list_antiscience_domains)\n",
    "len(list_antiscience_domains)"
   ]
  },
  {
   "cell_type": "code",
   "execution_count": 34,
   "id": "28383191",
   "metadata": {},
   "outputs": [
    {
     "data": {
      "text/plain": [
       "2580"
      ]
     },
     "execution_count": 34,
     "metadata": {},
     "output_type": "execute_result"
    }
   ],
   "source": [
    "list_domains=[]\n",
    "list_domains.extend(list_antiscience_domains)\n",
    "list_domains.extend(list_leftcenterbias_domains)\n",
    "list_domains.extend(list_leftbias_domains)\n",
    "list_domains.extend(list_rightcenterbias_domains)\n",
    "\n",
    "\n",
    "list_domains = get_unique_items(list_domains)\n",
    "len(list_domains)"
   ]
  },
  {
   "cell_type": "code",
   "execution_count": 30,
   "id": "634f317c",
   "metadata": {},
   "outputs": [
    {
     "data": {
      "text/plain": [
       "1095"
      ]
     },
     "execution_count": 30,
     "metadata": {},
     "output_type": "execute_result"
    }
   ],
   "source": [
    "list_domains_2=[]\n",
    "list_domains_2.extend(list_proscience_domains)\n",
    "list_domains_2.extend(list_leftbias_domains)\n",
    "list_domains_2.extend(list_rightbias_domains)\n",
    "list_domains_2.extend(list_rightcenterbias_domains)\n",
    "\n",
    "\n",
    "list_domains_2 = get_unique_items(list_domains_2)\n",
    "len(list_domains_2)"
   ]
  },
  {
   "cell_type": "code",
   "execution_count": 28,
   "id": "19380820",
   "metadata": {},
   "outputs": [
    {
     "data": {
      "text/plain": [
       "2984"
      ]
     },
     "execution_count": 28,
     "metadata": {},
     "output_type": "execute_result"
    }
   ],
   "source": [
    "list_domains_3=[]\n",
    "list_domains_3.extend(list_domains)\n",
    "list_domains_3.extend(list_domains_2)\n",
    "\n",
    "\n",
    "list_domains_3 = get_unique_items(list_domains_3)\n",
    "len(list_domains_3)"
   ]
  },
  {
   "cell_type": "code",
   "execution_count": 36,
   "id": "170c2e60",
   "metadata": {},
   "outputs": [
    {
     "data": {
      "text/plain": [
       "(0, 8)"
      ]
     },
     "execution_count": 36,
     "metadata": {},
     "output_type": "execute_result"
    }
   ],
   "source": [
    "df = pd.merge(df_domains_pro_and_anti_science, df_liberal_conservative_domains, on='domain', how='inner')\n",
    "df.shape"
   ]
  },
  {
   "cell_type": "code",
   "execution_count": null,
   "id": "cd7e75fa",
   "metadata": {},
   "outputs": [],
   "source": []
  }
 ],
 "metadata": {
  "kernelspec": {
   "display_name": "Python 3",
   "language": "python",
   "name": "python3"
  },
  "language_info": {
   "codemirror_mode": {
    "name": "ipython",
    "version": 3
   },
   "file_extension": ".py",
   "mimetype": "text/x-python",
   "name": "python",
   "nbconvert_exporter": "python",
   "pygments_lexer": "ipython3",
   "version": "3.8.8"
  }
 },
 "nbformat": 4,
 "nbformat_minor": 5
}
