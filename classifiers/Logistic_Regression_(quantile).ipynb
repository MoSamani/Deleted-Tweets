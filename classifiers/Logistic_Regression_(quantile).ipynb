{
 "cells": [
  {
   "cell_type": "code",
   "execution_count": 1,
   "id": "8a4b1b21",
   "metadata": {},
   "outputs": [],
   "source": [
    "import csv\n",
    "import pandas as pd\n",
    "import numpy as np\n",
    "import json\n",
    "import jsonlines\n",
    "import re\n",
    "csv.field_size_limit(100000000)\n",
    "from datetime import datetime\n",
    "import os\n",
    "import matplotlib.pyplot as plt\n",
    "import seaborn as sns\n",
    "import pickle\n",
    "\n",
    "from sklearn.linear_model import LinearRegression\n",
    "from sklearn.linear_model import LogisticRegression\n",
    "from sklearn.tree import DecisionTreeClassifier\n",
    "from sklearn.model_selection import train_test_split\n",
    "from sklearn.dummy import DummyClassifier\n",
    "from sklearn.metrics import accuracy_score, confusion_matrix, r2_score, classification_report, log_loss\n",
    "from sklearn.model_selection import cross_val_score\n",
    "\n",
    "from sklearn.feature_selection import SelectFromModel\n",
    "from sklearn.feature_selection import RFE\n",
    "from sklearn.model_selection import GridSearchCV\n",
    "from sklearn.linear_model import LogisticRegressionCV\n",
    "from sklearn.model_selection import KFold\n",
    "\n",
    "try:\n",
    "    from urllib.parse import urlparse\n",
    "except ImportError:\n",
    "     from urlparse import urlparse\n",
    "%matplotlib inline \n",
    "\n",
    "import matplotlib.dates as mdates\n",
    "import matplotlib.ticker as tick\n",
    "\n",
    "import warnings\n",
    "warnings.filterwarnings(\"ignore\")\n",
    "\n",
    "pd.options.display.float_format = '{:.4f}'.format\n",
    "\n",
    "pd.options.display.max_columns = None\n",
    "pd.options.display.max_rows = None"
   ]
  },
  {
   "cell_type": "markdown",
   "id": "41f6e488",
   "metadata": {},
   "source": [
    "# **Logostic Regression** \n",
    "## *(1) TweetsCov19*\n",
    "#### (Content + User Features)"
   ]
  },
  {
   "cell_type": "code",
   "execution_count": 14,
   "id": "e87c65d2",
   "metadata": {},
   "outputs": [
    {
     "name": "stdout",
     "output_type": "stream",
     "text": [
      "Shape : (200000, 18)\n"
     ]
    },
    {
     "data": {
      "text/html": [
       "<div>\n",
       "<style scoped>\n",
       "    .dataframe tbody tr th:only-of-type {\n",
       "        vertical-align: middle;\n",
       "    }\n",
       "\n",
       "    .dataframe tbody tr th {\n",
       "        vertical-align: top;\n",
       "    }\n",
       "\n",
       "    .dataframe thead th {\n",
       "        text-align: right;\n",
       "    }\n",
       "</style>\n",
       "<table border=\"1\" class=\"dataframe\">\n",
       "  <thead>\n",
       "    <tr style=\"text-align: right;\">\n",
       "      <th></th>\n",
       "      <th>Tweet_Id</th>\n",
       "      <th>Username</th>\n",
       "      <th>Retweets</th>\n",
       "      <th>Favorites</th>\n",
       "      <th>Hashtags_num</th>\n",
       "      <th>Mentions_num</th>\n",
       "      <th>URLs_num</th>\n",
       "      <th>tweet_political_polarisation</th>\n",
       "      <th>tweet_science_polarisation</th>\n",
       "      <th>tweet_moderacy_polarisation</th>\n",
       "      <th>user_political_polarisation</th>\n",
       "      <th>user_science_polarisation</th>\n",
       "      <th>user_moderacy_polarisation</th>\n",
       "      <th>user_posted_tweets</th>\n",
       "      <th>user_deleted_tweets</th>\n",
       "      <th>user_Deletion_ratio</th>\n",
       "      <th>user_Reputation</th>\n",
       "      <th>Is_deleted</th>\n",
       "    </tr>\n",
       "  </thead>\n",
       "  <tbody>\n",
       "    <tr>\n",
       "      <th>0</th>\n",
       "      <td>1201881191831478274</td>\n",
       "      <td>636d167ce4b8f77824418196e91fed1b</td>\n",
       "      <td>0</td>\n",
       "      <td>0</td>\n",
       "      <td>0</td>\n",
       "      <td>0</td>\n",
       "      <td>0</td>\n",
       "      <td>0.0000</td>\n",
       "      <td>0.0000</td>\n",
       "      <td>0.0000</td>\n",
       "      <td>0.0000</td>\n",
       "      <td>0.0000</td>\n",
       "      <td>0.0000</td>\n",
       "      <td>1</td>\n",
       "      <td>1</td>\n",
       "      <td>1.0000</td>\n",
       "      <td>0.4675</td>\n",
       "      <td>True</td>\n",
       "    </tr>\n",
       "    <tr>\n",
       "      <th>1</th>\n",
       "      <td>1180274914248536065</td>\n",
       "      <td>1c13163376be1575ec47744214e470c2</td>\n",
       "      <td>0</td>\n",
       "      <td>0</td>\n",
       "      <td>0</td>\n",
       "      <td>2</td>\n",
       "      <td>0</td>\n",
       "      <td>0.0000</td>\n",
       "      <td>0.0000</td>\n",
       "      <td>0.0000</td>\n",
       "      <td>0.0000</td>\n",
       "      <td>0.0000</td>\n",
       "      <td>0.0000</td>\n",
       "      <td>2</td>\n",
       "      <td>2</td>\n",
       "      <td>1.0000</td>\n",
       "      <td>0.2258</td>\n",
       "      <td>True</td>\n",
       "    </tr>\n",
       "    <tr>\n",
       "      <th>2</th>\n",
       "      <td>1248838077675720705</td>\n",
       "      <td>a7f6502ef90a369910b8efd89977b0fe</td>\n",
       "      <td>0</td>\n",
       "      <td>0</td>\n",
       "      <td>0</td>\n",
       "      <td>5</td>\n",
       "      <td>0</td>\n",
       "      <td>0.0000</td>\n",
       "      <td>0.0000</td>\n",
       "      <td>0.0000</td>\n",
       "      <td>0.0000</td>\n",
       "      <td>0.0000</td>\n",
       "      <td>0.0000</td>\n",
       "      <td>2</td>\n",
       "      <td>2</td>\n",
       "      <td>1.0000</td>\n",
       "      <td>0.1120</td>\n",
       "      <td>True</td>\n",
       "    </tr>\n",
       "    <tr>\n",
       "      <th>3</th>\n",
       "      <td>1265033539487227904</td>\n",
       "      <td>ccf1364cfe318e307960285ee352981a</td>\n",
       "      <td>0</td>\n",
       "      <td>0</td>\n",
       "      <td>4</td>\n",
       "      <td>0</td>\n",
       "      <td>0</td>\n",
       "      <td>0.0000</td>\n",
       "      <td>0.0000</td>\n",
       "      <td>0.0000</td>\n",
       "      <td>1.0000</td>\n",
       "      <td>0.0000</td>\n",
       "      <td>-1.0000</td>\n",
       "      <td>5</td>\n",
       "      <td>1</td>\n",
       "      <td>0.2000</td>\n",
       "      <td>0.7878</td>\n",
       "      <td>True</td>\n",
       "    </tr>\n",
       "    <tr>\n",
       "      <th>4</th>\n",
       "      <td>1248513384028549120</td>\n",
       "      <td>43bbe33dbb90262a53eb12791a7f3a0d</td>\n",
       "      <td>0</td>\n",
       "      <td>0</td>\n",
       "      <td>0</td>\n",
       "      <td>0</td>\n",
       "      <td>0</td>\n",
       "      <td>0.0000</td>\n",
       "      <td>0.0000</td>\n",
       "      <td>0.0000</td>\n",
       "      <td>0.0000</td>\n",
       "      <td>0.0000</td>\n",
       "      <td>0.0000</td>\n",
       "      <td>1</td>\n",
       "      <td>1</td>\n",
       "      <td>1.0000</td>\n",
       "      <td>0.0000</td>\n",
       "      <td>True</td>\n",
       "    </tr>\n",
       "  </tbody>\n",
       "</table>\n",
       "</div>"
      ],
      "text/plain": [
       "              Tweet_Id                          Username  Retweets  Favorites  \\\n",
       "0  1201881191831478274  636d167ce4b8f77824418196e91fed1b         0          0   \n",
       "1  1180274914248536065  1c13163376be1575ec47744214e470c2         0          0   \n",
       "2  1248838077675720705  a7f6502ef90a369910b8efd89977b0fe         0          0   \n",
       "3  1265033539487227904  ccf1364cfe318e307960285ee352981a         0          0   \n",
       "4  1248513384028549120  43bbe33dbb90262a53eb12791a7f3a0d         0          0   \n",
       "\n",
       "   Hashtags_num  Mentions_num  URLs_num  tweet_political_polarisation  \\\n",
       "0             0             0         0                        0.0000   \n",
       "1             0             2         0                        0.0000   \n",
       "2             0             5         0                        0.0000   \n",
       "3             4             0         0                        0.0000   \n",
       "4             0             0         0                        0.0000   \n",
       "\n",
       "   tweet_science_polarisation  tweet_moderacy_polarisation  \\\n",
       "0                      0.0000                       0.0000   \n",
       "1                      0.0000                       0.0000   \n",
       "2                      0.0000                       0.0000   \n",
       "3                      0.0000                       0.0000   \n",
       "4                      0.0000                       0.0000   \n",
       "\n",
       "   user_political_polarisation  user_science_polarisation  \\\n",
       "0                       0.0000                     0.0000   \n",
       "1                       0.0000                     0.0000   \n",
       "2                       0.0000                     0.0000   \n",
       "3                       1.0000                     0.0000   \n",
       "4                       0.0000                     0.0000   \n",
       "\n",
       "   user_moderacy_polarisation  user_posted_tweets  user_deleted_tweets  \\\n",
       "0                      0.0000                   1                    1   \n",
       "1                      0.0000                   2                    2   \n",
       "2                      0.0000                   2                    2   \n",
       "3                     -1.0000                   5                    1   \n",
       "4                      0.0000                   1                    1   \n",
       "\n",
       "   user_Deletion_ratio  user_Reputation  Is_deleted  \n",
       "0               1.0000           0.4675        True  \n",
       "1               1.0000           0.2258        True  \n",
       "2               1.0000           0.1120        True  \n",
       "3               0.2000           0.7878        True  \n",
       "4               1.0000           0.0000        True  "
      ]
     },
     "execution_count": 14,
     "metadata": {},
     "output_type": "execute_result"
    }
   ],
   "source": [
    "path = '../data/df_tweetscov19_sample_200000_23_v2.tsv'\n",
    "\n",
    "df_tweetscov19_user = pd.read_csv(path, sep='\\t', error_bad_lines=False, names=['Tweet_Id', 'Username', 'Retweets', 'Favorites', 'Hashtags_num', 'Mentions_num', 'URLs_num', 'tweet_political_polarisation', 'tweet_science_polarisation', 'tweet_moderacy_polarisation', 'user_political_polarisation', 'user_science_polarisation', 'user_moderacy_polarisation', 'user_posted_tweets', 'user_deleted_tweets', 'user_Deletion_ratio', 'user_Reputation', 'Is_deleted' ])\n",
    "\n",
    "print('Shape :', df_tweetscov19_user.shape)\n",
    "df_tweetscov19_user.head()"
   ]
  },
  {
   "cell_type": "code",
   "execution_count": 15,
   "id": "1547e39f",
   "metadata": {},
   "outputs": [
    {
     "name": "stdout",
     "output_type": "stream",
     "text": [
      "7\n",
      "0.10 =>  0.0\n",
      "0.50 =>  1.0\n",
      "0.75 =>  2.0\n",
      "0.90 =>  7.0\n",
      "0.95 =>  12.0\n",
      "0.98 =>  17.0\n",
      "0.99 =>  20.0\n"
     ]
    }
   ],
   "source": [
    "#Quantile\n",
    "q = [0.1, 0.5, 0.75, 0.9, 0.95, 0.98, 0.99]\n",
    "print(len(q))\n",
    "for i in range(0,len(q)):\n",
    "    print(\"{:.2f}\".format(q[i]), '=> ',df_tweetscov19_user['user_deleted_tweets'].quantile(q[i]))\n"
   ]
  },
  {
   "cell_type": "code",
   "execution_count": 16,
   "id": "d4e87d19",
   "metadata": {},
   "outputs": [
    {
     "name": "stdout",
     "output_type": "stream",
     "text": [
      "Shape:  (200000, 18)\n"
     ]
    },
    {
     "data": {
      "text/html": [
       "<div>\n",
       "<style scoped>\n",
       "    .dataframe tbody tr th:only-of-type {\n",
       "        vertical-align: middle;\n",
       "    }\n",
       "\n",
       "    .dataframe tbody tr th {\n",
       "        vertical-align: top;\n",
       "    }\n",
       "\n",
       "    .dataframe thead th {\n",
       "        text-align: right;\n",
       "    }\n",
       "</style>\n",
       "<table border=\"1\" class=\"dataframe\">\n",
       "  <thead>\n",
       "    <tr style=\"text-align: right;\">\n",
       "      <th></th>\n",
       "      <th>Tweet_Id</th>\n",
       "      <th>Username</th>\n",
       "      <th>Retweets</th>\n",
       "      <th>Favorites</th>\n",
       "      <th>Hashtags_num</th>\n",
       "      <th>Mentions_num</th>\n",
       "      <th>URLs_num</th>\n",
       "      <th>tweet_political_polarisation</th>\n",
       "      <th>tweet_science_polarisation</th>\n",
       "      <th>tweet_moderacy_polarisation</th>\n",
       "      <th>user_political_polarisation</th>\n",
       "      <th>user_science_polarisation</th>\n",
       "      <th>user_moderacy_polarisation</th>\n",
       "      <th>user_posted_tweets</th>\n",
       "      <th>user_deleted_tweets</th>\n",
       "      <th>user_Deletion_ratio</th>\n",
       "      <th>user_Reputation</th>\n",
       "      <th>Is_deleted</th>\n",
       "    </tr>\n",
       "  </thead>\n",
       "  <tbody>\n",
       "    <tr>\n",
       "      <th>0</th>\n",
       "      <td>1253543952554262528</td>\n",
       "      <td>cde9b84588bc21b495ecf8ceb19d46f3</td>\n",
       "      <td>0</td>\n",
       "      <td>0</td>\n",
       "      <td>1</td>\n",
       "      <td>0</td>\n",
       "      <td>1</td>\n",
       "      <td>0.0000</td>\n",
       "      <td>0.0000</td>\n",
       "      <td>0.0000</td>\n",
       "      <td>0.0000</td>\n",
       "      <td>0.0000</td>\n",
       "      <td>0.0000</td>\n",
       "      <td>131</td>\n",
       "      <td>0</td>\n",
       "      <td>0.0000</td>\n",
       "      <td>0.5000</td>\n",
       "      <td>False</td>\n",
       "    </tr>\n",
       "    <tr>\n",
       "      <th>1</th>\n",
       "      <td>1261736485214027776</td>\n",
       "      <td>34df99aaf53d989bed631022446d0fe5</td>\n",
       "      <td>0</td>\n",
       "      <td>0</td>\n",
       "      <td>0</td>\n",
       "      <td>4</td>\n",
       "      <td>0</td>\n",
       "      <td>0.0000</td>\n",
       "      <td>0.0000</td>\n",
       "      <td>0.0000</td>\n",
       "      <td>0.0000</td>\n",
       "      <td>0.0000</td>\n",
       "      <td>0.0000</td>\n",
       "      <td>2</td>\n",
       "      <td>2</td>\n",
       "      <td>1.0000</td>\n",
       "      <td>0.1827</td>\n",
       "      <td>True</td>\n",
       "    </tr>\n",
       "    <tr>\n",
       "      <th>2</th>\n",
       "      <td>1220724088844574721</td>\n",
       "      <td>340e1f2698006936a33d92dfc209dabb</td>\n",
       "      <td>9</td>\n",
       "      <td>27</td>\n",
       "      <td>3</td>\n",
       "      <td>1</td>\n",
       "      <td>1</td>\n",
       "      <td>0.0000</td>\n",
       "      <td>0.0000</td>\n",
       "      <td>0.0000</td>\n",
       "      <td>-0.7692</td>\n",
       "      <td>0.0000</td>\n",
       "      <td>-0.9231</td>\n",
       "      <td>46</td>\n",
       "      <td>1</td>\n",
       "      <td>0.0217</td>\n",
       "      <td>0.9889</td>\n",
       "      <td>True</td>\n",
       "    </tr>\n",
       "    <tr>\n",
       "      <th>3</th>\n",
       "      <td>1215984216497770497</td>\n",
       "      <td>4f21024ddb90ee8d0dc2e3c0e74f22fb</td>\n",
       "      <td>3</td>\n",
       "      <td>0</td>\n",
       "      <td>1</td>\n",
       "      <td>1</td>\n",
       "      <td>0</td>\n",
       "      <td>0.0000</td>\n",
       "      <td>0.0000</td>\n",
       "      <td>0.0000</td>\n",
       "      <td>0.0000</td>\n",
       "      <td>0.0000</td>\n",
       "      <td>0.0000</td>\n",
       "      <td>74</td>\n",
       "      <td>0</td>\n",
       "      <td>0.0000</td>\n",
       "      <td>0.3346</td>\n",
       "      <td>False</td>\n",
       "    </tr>\n",
       "    <tr>\n",
       "      <th>4</th>\n",
       "      <td>1265551288575590400</td>\n",
       "      <td>6c9f5be69af36f801a7bcb852d2d882b</td>\n",
       "      <td>0</td>\n",
       "      <td>0</td>\n",
       "      <td>0</td>\n",
       "      <td>0</td>\n",
       "      <td>0</td>\n",
       "      <td>0.0000</td>\n",
       "      <td>0.0000</td>\n",
       "      <td>0.0000</td>\n",
       "      <td>0.0000</td>\n",
       "      <td>0.0000</td>\n",
       "      <td>0.0000</td>\n",
       "      <td>2</td>\n",
       "      <td>0</td>\n",
       "      <td>0.0000</td>\n",
       "      <td>0.6364</td>\n",
       "      <td>False</td>\n",
       "    </tr>\n",
       "  </tbody>\n",
       "</table>\n",
       "</div>"
      ],
      "text/plain": [
       "              Tweet_Id                          Username  Retweets  Favorites  \\\n",
       "0  1253543952554262528  cde9b84588bc21b495ecf8ceb19d46f3         0          0   \n",
       "1  1261736485214027776  34df99aaf53d989bed631022446d0fe5         0          0   \n",
       "2  1220724088844574721  340e1f2698006936a33d92dfc209dabb         9         27   \n",
       "3  1215984216497770497  4f21024ddb90ee8d0dc2e3c0e74f22fb         3          0   \n",
       "4  1265551288575590400  6c9f5be69af36f801a7bcb852d2d882b         0          0   \n",
       "\n",
       "   Hashtags_num  Mentions_num  URLs_num  tweet_political_polarisation  \\\n",
       "0             1             0         1                        0.0000   \n",
       "1             0             4         0                        0.0000   \n",
       "2             3             1         1                        0.0000   \n",
       "3             1             1         0                        0.0000   \n",
       "4             0             0         0                        0.0000   \n",
       "\n",
       "   tweet_science_polarisation  tweet_moderacy_polarisation  \\\n",
       "0                      0.0000                       0.0000   \n",
       "1                      0.0000                       0.0000   \n",
       "2                      0.0000                       0.0000   \n",
       "3                      0.0000                       0.0000   \n",
       "4                      0.0000                       0.0000   \n",
       "\n",
       "   user_political_polarisation  user_science_polarisation  \\\n",
       "0                       0.0000                     0.0000   \n",
       "1                       0.0000                     0.0000   \n",
       "2                      -0.7692                     0.0000   \n",
       "3                       0.0000                     0.0000   \n",
       "4                       0.0000                     0.0000   \n",
       "\n",
       "   user_moderacy_polarisation  user_posted_tweets  user_deleted_tweets  \\\n",
       "0                      0.0000                 131                    0   \n",
       "1                      0.0000                   2                    2   \n",
       "2                     -0.9231                  46                    1   \n",
       "3                      0.0000                  74                    0   \n",
       "4                      0.0000                   2                    0   \n",
       "\n",
       "   user_Deletion_ratio  user_Reputation  Is_deleted  \n",
       "0               0.0000           0.5000       False  \n",
       "1               1.0000           0.1827        True  \n",
       "2               0.0217           0.9889        True  \n",
       "3               0.0000           0.3346       False  \n",
       "4               0.0000           0.6364       False  "
      ]
     },
     "execution_count": 16,
     "metadata": {},
     "output_type": "execute_result"
    }
   ],
   "source": [
    "df_tweetscov19_user = df_tweetscov19_user.sample(frac=1).reset_index(drop=True)\n",
    "\n",
    "print('Shape: ', df_tweetscov19_user.shape)\n",
    "df_tweetscov19_user.head()"
   ]
  },
  {
   "cell_type": "code",
   "execution_count": 17,
   "id": "019114ab",
   "metadata": {},
   "outputs": [],
   "source": [
    "df_tweetscov19_del = df_tweetscov19_user[df_tweetscov19_user['Is_deleted']==True]\n",
    "df_tweetscov19_undel = df_tweetscov19_user[df_tweetscov19_user['Is_deleted']==False]"
   ]
  },
  {
   "cell_type": "code",
   "execution_count": 18,
   "id": "2d0534fe",
   "metadata": {},
   "outputs": [],
   "source": [
    "def plot_paiplot(df, hue, titel): \n",
    "   \n",
    "    #plt.rcParams[\"figure.figsize\"] = [6,4]\n",
    "    #fig, ax = plt.subplots()\n",
    "    sns.pairplot(df, hue = hue)\n",
    "\n",
    "    #ax.set_ylabel('Dataframe')\n",
    "\n",
    "    #ax.set_xlabel('Deletion ratio', fontsize=12)\n",
    "    #plt.margins(0.02)\n",
    "    #fig.tight_layout()\n",
    "    #plt.show()\n",
    "\n",
    "    #plt.savefig('C:/Mo/tweetDB/tweetscov19/TweetsCov19_tsv/data_aus_tsv/plot/log_reg/'+titel+'.jpg')"
   ]
  },
  {
   "cell_type": "code",
   "execution_count": 19,
   "id": "6211f234",
   "metadata": {},
   "outputs": [
    {
     "data": {
      "image/png": "[encoded data removed]",
      "text/plain": [
       "<Figure size 601.25x540 with 12 Axes>"
      ]
     },
     "metadata": {
      "needs_background": "light"
     },
     "output_type": "display_data"
    }
   ],
   "source": [
    "df = df_tweetscov19_user[['Is_deleted', 'user_political_polarisation', 'user_science_polarisation', 'user_moderacy_polarisation']]\n",
    "plot_paiplot(df, 'Is_deleted', 'pairplot_tweetsocv19_Retweet_favoriet_sentiment')"
   ]
  },
  {
   "cell_type": "code",
   "execution_count": 20,
   "id": "afe6d137",
   "metadata": {},
   "outputs": [
    {
     "data": {
      "text/plain": [
       "Index(['Tweet_Id', 'Username', 'Retweets', 'Favorites', 'Hashtags_num',\n",
       "       'Mentions_num', 'URLs_num', 'tweet_political_polarisation',\n",
       "       'tweet_science_polarisation', 'tweet_moderacy_polarisation',\n",
       "       'user_political_polarisation', 'user_science_polarisation',\n",
       "       'user_moderacy_polarisation', 'user_posted_tweets',\n",
       "       'user_deleted_tweets', 'user_Deletion_ratio', 'user_Reputation',\n",
       "       'Is_deleted'],\n",
       "      dtype='object')"
      ]
     },
     "execution_count": 20,
     "metadata": {},
     "output_type": "execute_result"
    }
   ],
   "source": [
    "features = df_tweetscov19_user.columns\n",
    "features"
   ]
  },
  {
   "cell_type": "code",
   "execution_count": 21,
   "id": "0896408f",
   "metadata": {},
   "outputs": [],
   "source": [
    "df_tweetscov19_user['Is_deleted'] = np.where(df_tweetscov19_user['Is_deleted'] == True, 1, 0)"
   ]
  },
  {
   "cell_type": "code",
   "execution_count": 22,
   "id": "6839c920",
   "metadata": {},
   "outputs": [
    {
     "data": {
      "text/html": [
       "<div>\n",
       "<style scoped>\n",
       "    .dataframe tbody tr th:only-of-type {\n",
       "        vertical-align: middle;\n",
       "    }\n",
       "\n",
       "    .dataframe tbody tr th {\n",
       "        vertical-align: top;\n",
       "    }\n",
       "\n",
       "    .dataframe thead th {\n",
       "        text-align: right;\n",
       "    }\n",
       "</style>\n",
       "<table border=\"1\" class=\"dataframe\">\n",
       "  <thead>\n",
       "    <tr style=\"text-align: right;\">\n",
       "      <th></th>\n",
       "      <th>Tweet_Id</th>\n",
       "      <th>Username</th>\n",
       "      <th>Retweets</th>\n",
       "      <th>Favorites</th>\n",
       "      <th>Hashtags_num</th>\n",
       "      <th>Mentions_num</th>\n",
       "      <th>URLs_num</th>\n",
       "      <th>tweet_political_polarisation</th>\n",
       "      <th>tweet_science_polarisation</th>\n",
       "      <th>tweet_moderacy_polarisation</th>\n",
       "      <th>user_political_polarisation</th>\n",
       "      <th>user_science_polarisation</th>\n",
       "      <th>user_moderacy_polarisation</th>\n",
       "      <th>user_posted_tweets</th>\n",
       "      <th>user_deleted_tweets</th>\n",
       "      <th>user_Deletion_ratio</th>\n",
       "      <th>user_Reputation</th>\n",
       "      <th>Is_deleted</th>\n",
       "    </tr>\n",
       "  </thead>\n",
       "  <tbody>\n",
       "    <tr>\n",
       "      <th>199995</th>\n",
       "      <td>1245875497705201664</td>\n",
       "      <td>36c93870cf0e33c1dcd10adb4a343a2d</td>\n",
       "      <td>111</td>\n",
       "      <td>509</td>\n",
       "      <td>0</td>\n",
       "      <td>1</td>\n",
       "      <td>0</td>\n",
       "      <td>0.0000</td>\n",
       "      <td>0.0000</td>\n",
       "      <td>0.0000</td>\n",
       "      <td>-1.0000</td>\n",
       "      <td>0.0000</td>\n",
       "      <td>-1.0000</td>\n",
       "      <td>28</td>\n",
       "      <td>0</td>\n",
       "      <td>0.0000</td>\n",
       "      <td>0.5760</td>\n",
       "      <td>0</td>\n",
       "    </tr>\n",
       "    <tr>\n",
       "      <th>199996</th>\n",
       "      <td>1199183360959975424</td>\n",
       "      <td>e728964ea124e7e93c956bb0da31b512</td>\n",
       "      <td>0</td>\n",
       "      <td>0</td>\n",
       "      <td>0</td>\n",
       "      <td>0</td>\n",
       "      <td>0</td>\n",
       "      <td>0.0000</td>\n",
       "      <td>0.0000</td>\n",
       "      <td>0.0000</td>\n",
       "      <td>0.0000</td>\n",
       "      <td>0.0000</td>\n",
       "      <td>0.0000</td>\n",
       "      <td>3</td>\n",
       "      <td>3</td>\n",
       "      <td>1.0000</td>\n",
       "      <td>0.4534</td>\n",
       "      <td>1</td>\n",
       "    </tr>\n",
       "    <tr>\n",
       "      <th>199997</th>\n",
       "      <td>1238944003388817409</td>\n",
       "      <td>47cc736f484e364b2e537e24de8cf70b</td>\n",
       "      <td>1</td>\n",
       "      <td>2</td>\n",
       "      <td>1</td>\n",
       "      <td>0</td>\n",
       "      <td>0</td>\n",
       "      <td>0.0000</td>\n",
       "      <td>0.0000</td>\n",
       "      <td>0.0000</td>\n",
       "      <td>0.0000</td>\n",
       "      <td>0.0000</td>\n",
       "      <td>0.0000</td>\n",
       "      <td>1</td>\n",
       "      <td>0</td>\n",
       "      <td>0.0000</td>\n",
       "      <td>0.2816</td>\n",
       "      <td>0</td>\n",
       "    </tr>\n",
       "    <tr>\n",
       "      <th>199998</th>\n",
       "      <td>1247055455148560386</td>\n",
       "      <td>93e046285a9a3beb77e55038944da923</td>\n",
       "      <td>10</td>\n",
       "      <td>142</td>\n",
       "      <td>0</td>\n",
       "      <td>0</td>\n",
       "      <td>0</td>\n",
       "      <td>0.0000</td>\n",
       "      <td>0.0000</td>\n",
       "      <td>0.0000</td>\n",
       "      <td>0.0000</td>\n",
       "      <td>0.0000</td>\n",
       "      <td>0.0000</td>\n",
       "      <td>1</td>\n",
       "      <td>0</td>\n",
       "      <td>0.0000</td>\n",
       "      <td>0.9945</td>\n",
       "      <td>0</td>\n",
       "    </tr>\n",
       "    <tr>\n",
       "      <th>199999</th>\n",
       "      <td>1187060446697705472</td>\n",
       "      <td>533aa314f60151b82339106dc798e923</td>\n",
       "      <td>0</td>\n",
       "      <td>0</td>\n",
       "      <td>0</td>\n",
       "      <td>1</td>\n",
       "      <td>0</td>\n",
       "      <td>0.0000</td>\n",
       "      <td>0.0000</td>\n",
       "      <td>0.0000</td>\n",
       "      <td>0.0000</td>\n",
       "      <td>0.0000</td>\n",
       "      <td>0.0000</td>\n",
       "      <td>4</td>\n",
       "      <td>4</td>\n",
       "      <td>1.0000</td>\n",
       "      <td>0.5687</td>\n",
       "      <td>1</td>\n",
       "    </tr>\n",
       "  </tbody>\n",
       "</table>\n",
       "</div>"
      ],
      "text/plain": [
       "                   Tweet_Id                          Username  Retweets  \\\n",
       "199995  1245875497705201664  36c93870cf0e33c1dcd10adb4a343a2d       111   \n",
       "199996  1199183360959975424  e728964ea124e7e93c956bb0da31b512         0   \n",
       "199997  1238944003388817409  47cc736f484e364b2e537e24de8cf70b         1   \n",
       "199998  1247055455148560386  93e046285a9a3beb77e55038944da923        10   \n",
       "199999  1187060446697705472  533aa314f60151b82339106dc798e923         0   \n",
       "\n",
       "        Favorites  Hashtags_num  Mentions_num  URLs_num  \\\n",
       "199995        509             0             1         0   \n",
       "199996          0             0             0         0   \n",
       "199997          2             1             0         0   \n",
       "199998        142             0             0         0   \n",
       "199999          0             0             1         0   \n",
       "\n",
       "        tweet_political_polarisation  tweet_science_polarisation  \\\n",
       "199995                        0.0000                      0.0000   \n",
       "199996                        0.0000                      0.0000   \n",
       "199997                        0.0000                      0.0000   \n",
       "199998                        0.0000                      0.0000   \n",
       "199999                        0.0000                      0.0000   \n",
       "\n",
       "        tweet_moderacy_polarisation  user_political_polarisation  \\\n",
       "199995                       0.0000                      -1.0000   \n",
       "199996                       0.0000                       0.0000   \n",
       "199997                       0.0000                       0.0000   \n",
       "199998                       0.0000                       0.0000   \n",
       "199999                       0.0000                       0.0000   \n",
       "\n",
       "        user_science_polarisation  user_moderacy_polarisation  \\\n",
       "199995                     0.0000                     -1.0000   \n",
       "199996                     0.0000                      0.0000   \n",
       "199997                     0.0000                      0.0000   \n",
       "199998                     0.0000                      0.0000   \n",
       "199999                     0.0000                      0.0000   \n",
       "\n",
       "        user_posted_tweets  user_deleted_tweets  user_Deletion_ratio  \\\n",
       "199995                  28                    0               0.0000   \n",
       "199996                   3                    3               1.0000   \n",
       "199997                   1                    0               0.0000   \n",
       "199998                   1                    0               0.0000   \n",
       "199999                   4                    4               1.0000   \n",
       "\n",
       "        user_Reputation  Is_deleted  \n",
       "199995           0.5760           0  \n",
       "199996           0.4534           1  \n",
       "199997           0.2816           0  \n",
       "199998           0.9945           0  \n",
       "199999           0.5687           1  "
      ]
     },
     "execution_count": 22,
     "metadata": {},
     "output_type": "execute_result"
    }
   ],
   "source": [
    "df_tweetscov19_user.tail()"
   ]
  },
  {
   "cell_type": "code",
   "execution_count": 23,
   "id": "43db50a1",
   "metadata": {},
   "outputs": [],
   "source": [
    "#df_tweetscov19_user = df_tweetscov19_user.drop(columns=[ 'user_political_polarisation','user_science_polarisation.','user_moderacy_polarisation'])\n",
    "df_tweetscov19_user = df_tweetscov19_user.drop(columns=[ 'Tweet_Id', 'Username', 'user_posted_tweets', 'user_deleted_tweets', 'user_Deletion_ratio'])"
   ]
  },
  {
   "cell_type": "code",
   "execution_count": 24,
   "id": "6ddbfaa8",
   "metadata": {},
   "outputs": [],
   "source": [
    "def get_X_y(df, features):\n",
    "    \n",
    "    if 'Is_deleted' not in features:\n",
    "        features = np.append(features, 'Is_deleted')\n",
    "        \n",
    "    df = df[features.tolist()]\n",
    "    X = df.drop('Is_deleted', axis=1)\n",
    "    y = df['Is_deleted']\n",
    "\n",
    "    y = y.astype(int)\n",
    "    print(X.shape)\n",
    "    print(y.shape)\n",
    "    \n",
    "    return X,y"
   ]
  },
  {
   "cell_type": "code",
   "execution_count": 25,
   "id": "8c5c1a69",
   "metadata": {},
   "outputs": [
    {
     "name": "stdout",
     "output_type": "stream",
     "text": [
      "(200000, 12)\n",
      "(200000,)\n"
     ]
    }
   ],
   "source": [
    "features = df_tweetscov19_user.columns\n",
    "X,y = get_X_y(df_tweetscov19_user, features)"
   ]
  },
  {
   "cell_type": "code",
   "execution_count": 26,
   "id": "7d0ce65e",
   "metadata": {},
   "outputs": [],
   "source": [
    "def split_train_test_valid(X,y):\n",
    "    X_train, X_test, y_train, y_test = train_test_split(X, y, train_size=0.8, test_size=0.2, random_state=15)\n",
    "    #X_train, X_valid, y_train, y_valid = train_test_split(X_train, y_train, train_size=0.8, test_size=0.2, random_state=15)\n",
    "    print(X_train.shape)\n",
    "    print(X_test.shape)\n",
    "    #print(X_valid.shape)\n",
    "\n",
    "    print(y_train.shape)\n",
    "    print(y_test.shape)\n",
    "    #print(y_valid.shape)\n",
    "    return  X_train, X_test, y_train, y_test"
   ]
  },
  {
   "cell_type": "code",
   "execution_count": 27,
   "id": "99638e39",
   "metadata": {},
   "outputs": [
    {
     "name": "stdout",
     "output_type": "stream",
     "text": [
      "(160000, 12)\n",
      "(40000, 12)\n",
      "(160000,)\n",
      "(40000,)\n"
     ]
    }
   ],
   "source": [
    "X_train, X_test, y_train, y_test = split_train_test_valid(X,y)"
   ]
  },
  {
   "cell_type": "code",
   "execution_count": 39,
   "id": "84c0245c",
   "metadata": {},
   "outputs": [],
   "source": [
    "def fit_log_reg(X,y):\n",
    "    l_regression = LogisticRegression(random_state=20, solver = 'lbfgs')\n",
    "    l_regression.fit(X,y)\n",
    "    return l_regression"
   ]
  },
  {
   "cell_type": "code",
   "execution_count": 40,
   "id": "747bddb8",
   "metadata": {},
   "outputs": [],
   "source": [
    "def test_log_reg(model, X_test, y_test):\n",
    "    y_pred = model.predict(X_test)\n",
    "    print('Accuracy :', accuracy_score(y_test, y_pred))\n",
    "    "
   ]
  },
  {
   "cell_type": "code",
   "execution_count": 41,
   "id": "9ba9b5e6",
   "metadata": {},
   "outputs": [],
   "source": [
    "l_regression = fit_log_reg(X_train, y_train)"
   ]
  },
  {
   "cell_type": "code",
   "execution_count": 42,
   "id": "7bf54124",
   "metadata": {},
   "outputs": [
    {
     "name": "stdout",
     "output_type": "stream",
     "text": [
      "Accuracy : 0.61175\n"
     ]
    }
   ],
   "source": [
    "test_log_reg(l_regression, X_test,y_test)"
   ]
  },
  {
   "cell_type": "code",
   "execution_count": 43,
   "id": "26193616",
   "metadata": {},
   "outputs": [
    {
     "name": "stdout",
     "output_type": "stream",
     "text": [
      "              precision    recall  f1-score   support\n",
      "\n",
      "           0       0.63      0.54      0.58      1987\n",
      "           1       0.60      0.69      0.64      2013\n",
      "\n",
      "    accuracy                           0.61      4000\n",
      "   macro avg       0.61      0.61      0.61      4000\n",
      "weighted avg       0.61      0.61      0.61      4000\n",
      "\n"
     ]
    }
   ],
   "source": [
    "y_pred = l_regression.predict(X_test)\n",
    "print(classification_report(y_test, y_pred))"
   ]
  },
  {
   "cell_type": "code",
   "execution_count": 44,
   "id": "0953711c",
   "metadata": {},
   "outputs": [],
   "source": [
    "def plot_confusion_matrix(confu_matrix, classes, titel):\n",
    "    sns.heatmap(confu_matrix, xticklabels = classes, yticklabels = classes, annot=True)\n",
    "    plt.title(titel)\n",
    "    plt.ylabel('True label')\n",
    "    plt.xlabel('Predicted label')"
   ]
  },
  {
   "cell_type": "code",
   "execution_count": 45,
   "id": "b8755c35",
   "metadata": {},
   "outputs": [
    {
     "name": "stdout",
     "output_type": "stream",
     "text": [
      "[[0.53648717 0.46351283]\n",
      " [0.31395926 0.68604074]]\n"
     ]
    },
    {
     "data": {
      "image/png": "[encoded data removed]",
      "text/plain": [
       "<Figure size 432x288 with 2 Axes>"
      ]
     },
     "metadata": {
      "needs_background": "light"
     },
     "output_type": "display_data"
    }
   ],
   "source": [
    "confusion_mx = confusion_matrix(y_test, y_pred)\n",
    "confusion_mx = confusion_mx / confusion_mx.sum(axis=1).reshape(-1,1)\n",
    "plot_confusion_matrix(confusion_mx, l_regression.classes_, 'Confusion Matrix')\n",
    "print(confusion_mx)"
   ]
  },
  {
   "cell_type": "code",
   "execution_count": 7,
   "id": "e84e0f69",
   "metadata": {},
   "outputs": [],
   "source": [
    "def print_cross_val_score(model, X, y):\n",
    "    scores = cross_val_score(model, X, y, cv=10, scoring='precision')\n",
    "    print(\" percision : %0.2f +/- %0.3f\" % (scores.mean(), scores.std()))\n",
    "    scores = cross_val_score(model, X, y, cv=10, scoring='f1')\n",
    "    print(\" f1        : %0.2f +/- %0.3f\" % (scores.mean(), scores.std()))\n",
    "    scores = cross_val_score(model, X, y, cv=10, scoring='recall')\n",
    "    print(\" recall    : %0.2f +/- %0.3f\" % (scores.mean(), scores.std()))"
   ]
  },
  {
   "cell_type": "code",
   "execution_count": 47,
   "id": "77a374a6",
   "metadata": {},
   "outputs": [
    {
     "name": "stdout",
     "output_type": "stream",
     "text": [
      " percision : 0.58 +/- 0.007\n",
      " f1        : 0.64 +/- 0.030\n",
      " recall    : 0.71 +/- 0.080\n"
     ]
    }
   ],
   "source": [
    "clf_cv = LogisticRegression(random_state=20, solver = 'lbfgs')\n",
    "print_cross_val_score(clf_cv, X, y)"
   ]
  },
  {
   "cell_type": "markdown",
   "id": "cd01f6ab",
   "metadata": {},
   "source": [
    "***"
   ]
  },
  {
   "cell_type": "code",
   "execution_count": 48,
   "id": "fd2ca093",
   "metadata": {},
   "outputs": [],
   "source": [
    "#Finding best DecisionTreeClassifier for detecting feature importances\n",
    "param_grid = {'criterion':['gini','entropy'],\n",
    "              'max_depth': range(1,10),\n",
    "              'random_state' : [5, 10, 15],\n",
    "              'min_samples_split' : range(1,10),\n",
    "              'min_samples_leaf' : range(1,10)}"
   ]
  },
  {
   "cell_type": "code",
   "execution_count": 49,
   "id": "24980675",
   "metadata": {},
   "outputs": [],
   "source": [
    "model = DecisionTreeClassifier()\n",
    "\n",
    "DecisionTreeClassifier_clf = GridSearchCV(model, param_grid=param_grid, cv=5, verbose=True, n_jobs=-1)"
   ]
  },
  {
   "cell_type": "code",
   "execution_count": 50,
   "id": "9fa7c8ca",
   "metadata": {},
   "outputs": [
    {
     "name": "stdout",
     "output_type": "stream",
     "text": [
      "Fitting 5 folds for each of 4374 candidates, totalling 21870 fits\n",
      "Wall time: 1min 21s\n"
     ]
    }
   ],
   "source": [
    "%%time\n",
    "best_clf = DecisionTreeClassifier_clf.fit(X_train,y_train)"
   ]
  },
  {
   "cell_type": "code",
   "execution_count": 51,
   "id": "0088e161",
   "metadata": {},
   "outputs": [
    {
     "data": {
      "text/plain": [
       "{'criterion': 'entropy',\n",
       " 'max_depth': 6,\n",
       " 'min_samples_leaf': 3,\n",
       " 'min_samples_split': 8,\n",
       " 'random_state': 10}"
      ]
     },
     "execution_count": 51,
     "metadata": {},
     "output_type": "execute_result"
    }
   ],
   "source": [
    "best_clf.best_params_"
   ]
  },
  {
   "cell_type": "markdown",
   "id": "66666ba9",
   "metadata": {},
   "source": [
    "****"
   ]
  },
  {
   "cell_type": "code",
   "execution_count": 58,
   "id": "fe34bdf4",
   "metadata": {},
   "outputs": [],
   "source": [
    "def features_classifier_tweetscov19(X, y):\n",
    "\n",
    "    decisionTC = DecisionTreeClassifier(random_state=10, criterion= 'entropy', max_depth = 6, min_samples_leaf= 3, min_samples_split= 8 )\n",
    "    decisionTC.fit(X,y)\n",
    "    \n",
    "    column_feature = {}\n",
    "\n",
    "    for i, c in enumerate(X):\n",
    "        #print(c, '   ', decisionTC.feature_importances_[i])\n",
    "\n",
    "        column_feature[c] = decisionTC.feature_importances_[i]\n",
    "        \n",
    "    df_column_feature = pd.DataFrame(column_feature.items(), columns=['Feature','importance'])\n",
    "    df_column_feature.sort_values(by = ['importance'], ascending = False, inplace = True)\n",
    "    \n",
    "    return df_column_feature.reset_index()"
   ]
  },
  {
   "cell_type": "code",
   "execution_count": 59,
   "id": "937cf130",
   "metadata": {},
   "outputs": [
    {
     "data": {
      "text/html": [
       "<div>\n",
       "<style scoped>\n",
       "    .dataframe tbody tr th:only-of-type {\n",
       "        vertical-align: middle;\n",
       "    }\n",
       "\n",
       "    .dataframe tbody tr th {\n",
       "        vertical-align: top;\n",
       "    }\n",
       "\n",
       "    .dataframe thead th {\n",
       "        text-align: right;\n",
       "    }\n",
       "</style>\n",
       "<table border=\"1\" class=\"dataframe\">\n",
       "  <thead>\n",
       "    <tr style=\"text-align: right;\">\n",
       "      <th></th>\n",
       "      <th>index</th>\n",
       "      <th>Feature</th>\n",
       "      <th>importance</th>\n",
       "    </tr>\n",
       "  </thead>\n",
       "  <tbody>\n",
       "    <tr>\n",
       "      <th>0</th>\n",
       "      <td>11</td>\n",
       "      <td>user_Reputation</td>\n",
       "      <td>0.4621</td>\n",
       "    </tr>\n",
       "    <tr>\n",
       "      <th>1</th>\n",
       "      <td>8</td>\n",
       "      <td>user_political_polarisation</td>\n",
       "      <td>0.1856</td>\n",
       "    </tr>\n",
       "    <tr>\n",
       "      <th>2</th>\n",
       "      <td>10</td>\n",
       "      <td>user_moderacy_polarisation</td>\n",
       "      <td>0.1416</td>\n",
       "    </tr>\n",
       "    <tr>\n",
       "      <th>3</th>\n",
       "      <td>4</td>\n",
       "      <td>URLs_num</td>\n",
       "      <td>0.0674</td>\n",
       "    </tr>\n",
       "    <tr>\n",
       "      <th>4</th>\n",
       "      <td>0</td>\n",
       "      <td>Retweets</td>\n",
       "      <td>0.0673</td>\n",
       "    </tr>\n",
       "    <tr>\n",
       "      <th>5</th>\n",
       "      <td>2</td>\n",
       "      <td>Hashtags_num</td>\n",
       "      <td>0.0453</td>\n",
       "    </tr>\n",
       "    <tr>\n",
       "      <th>6</th>\n",
       "      <td>1</td>\n",
       "      <td>Favorites</td>\n",
       "      <td>0.0139</td>\n",
       "    </tr>\n",
       "    <tr>\n",
       "      <th>7</th>\n",
       "      <td>9</td>\n",
       "      <td>user_science_polarisation</td>\n",
       "      <td>0.0067</td>\n",
       "    </tr>\n",
       "    <tr>\n",
       "      <th>8</th>\n",
       "      <td>3</td>\n",
       "      <td>Mentions_num</td>\n",
       "      <td>0.0061</td>\n",
       "    </tr>\n",
       "    <tr>\n",
       "      <th>9</th>\n",
       "      <td>6</td>\n",
       "      <td>tweet_science_polarisation</td>\n",
       "      <td>0.0039</td>\n",
       "    </tr>\n",
       "    <tr>\n",
       "      <th>10</th>\n",
       "      <td>5</td>\n",
       "      <td>tweet_political_polarisation</td>\n",
       "      <td>0.0000</td>\n",
       "    </tr>\n",
       "    <tr>\n",
       "      <th>11</th>\n",
       "      <td>7</td>\n",
       "      <td>tweet_moderacy_polarisation</td>\n",
       "      <td>0.0000</td>\n",
       "    </tr>\n",
       "  </tbody>\n",
       "</table>\n",
       "</div>"
      ],
      "text/plain": [
       "    index                       Feature  importance\n",
       "0      11               user_Reputation      0.4621\n",
       "1       8   user_political_polarisation      0.1856\n",
       "2      10    user_moderacy_polarisation      0.1416\n",
       "3       4                      URLs_num      0.0674\n",
       "4       0                      Retweets      0.0673\n",
       "5       2                  Hashtags_num      0.0453\n",
       "6       1                     Favorites      0.0139\n",
       "7       9     user_science_polarisation      0.0067\n",
       "8       3                  Mentions_num      0.0061\n",
       "9       6    tweet_science_polarisation      0.0039\n",
       "10      5  tweet_political_polarisation      0.0000\n",
       "11      7   tweet_moderacy_polarisation      0.0000"
      ]
     },
     "execution_count": 59,
     "metadata": {},
     "output_type": "execute_result"
    }
   ],
   "source": [
    "f_importances = features_classifier_tweetscov19( X, y)\n",
    "f_importances"
   ]
  },
  {
   "cell_type": "code",
   "execution_count": 60,
   "id": "f6119ef4",
   "metadata": {},
   "outputs": [
    {
     "name": "stdout",
     "output_type": "stream",
     "text": [
      "['user_Reputation' 'user_political_polarisation'\n",
      " 'user_moderacy_polarisation' 'URLs_num' 'Retweets' 'Hashtags_num'\n",
      " 'Favorites' 'user_science_polarisation' 'Mentions_num'\n",
      " 'tweet_science_polarisation']\n"
     ]
    }
   ],
   "source": [
    "f_importances = f_importances[f_importances['importance'] != 0.0]\n",
    "f_importances = f_importances.Feature.values\n",
    "print(f_importances)"
   ]
  },
  {
   "cell_type": "code",
   "execution_count": 61,
   "id": "bcea61b9",
   "metadata": {},
   "outputs": [
    {
     "data": {
      "text/plain": [
       "10"
      ]
     },
     "execution_count": 61,
     "metadata": {},
     "output_type": "execute_result"
    }
   ],
   "source": [
    "len(f_importances)"
   ]
  },
  {
   "cell_type": "code",
   "execution_count": 62,
   "id": "c9f2248d",
   "metadata": {},
   "outputs": [
    {
     "name": "stdout",
     "output_type": "stream",
     "text": [
      "(20000, 10)\n",
      "(20000,)\n"
     ]
    }
   ],
   "source": [
    "X_new,y = get_X_y(df_tweetscov19_user, f_importances)"
   ]
  },
  {
   "cell_type": "markdown",
   "id": "dfd9b34f",
   "metadata": {},
   "source": [
    "***"
   ]
  },
  {
   "cell_type": "code",
   "execution_count": 63,
   "id": "292389c1",
   "metadata": {},
   "outputs": [],
   "source": [
    "param_grid = [{'penalty': ['l1', 'l2', 'elasticnet', 'none']},\n",
    "             {'C' : np.logspace(-4,4,20)},\n",
    "             {'solver' : ['newton-cg', 'lbfgs', 'liblinear', 'ag', 'saga']},\n",
    "             {'max_iter' : [100, 200, 500, 1000, 2500, 5000]}]"
   ]
  },
  {
   "cell_type": "code",
   "execution_count": 64,
   "id": "4cbc6905",
   "metadata": {},
   "outputs": [],
   "source": [
    "l_regression_GridS = LogisticRegression()\n",
    "\n",
    "clf = GridSearchCV(l_regression_GridS, param_grid=param_grid, cv=5, verbose=True, n_jobs=-1)"
   ]
  },
  {
   "cell_type": "code",
   "execution_count": 65,
   "id": "0fc8f368",
   "metadata": {},
   "outputs": [
    {
     "name": "stdout",
     "output_type": "stream",
     "text": [
      "Fitting 5 folds for each of 35 candidates, totalling 175 fits\n",
      "Wall time: 3.63 s\n"
     ]
    }
   ],
   "source": [
    "%%time\n",
    "best_clf = clf.fit(X_train,y_train)"
   ]
  },
  {
   "cell_type": "code",
   "execution_count": 66,
   "id": "b38c7e60",
   "metadata": {},
   "outputs": [
    {
     "data": {
      "text/html": [
       "<style>#sk-container-id-1 {color: black;background-color: white;}#sk-container-id-1 pre{padding: 0;}#sk-container-id-1 div.sk-toggleable {background-color: white;}#sk-container-id-1 label.sk-toggleable__label {cursor: pointer;display: block;width: 100%;margin-bottom: 0;padding: 0.3em;box-sizing: border-box;text-align: center;}#sk-container-id-1 label.sk-toggleable__label-arrow:before {content: \"▸\";float: left;margin-right: 0.25em;color: #696969;}#sk-container-id-1 label.sk-toggleable__label-arrow:hover:before {color: black;}#sk-container-id-1 div.sk-estimator:hover label.sk-toggleable__label-arrow:before {color: black;}#sk-container-id-1 div.sk-toggleable__content {max-height: 0;max-width: 0;overflow: hidden;text-align: left;background-color: #f0f8ff;}#sk-container-id-1 div.sk-toggleable__content pre {margin: 0.2em;color: black;border-radius: 0.25em;background-color: #f0f8ff;}#sk-container-id-1 input.sk-toggleable__control:checked~div.sk-toggleable__content {max-height: 200px;max-width: 100%;overflow: auto;}#sk-container-id-1 input.sk-toggleable__control:checked~label.sk-toggleable__label-arrow:before {content: \"▾\";}#sk-container-id-1 div.sk-estimator input.sk-toggleable__control:checked~label.sk-toggleable__label {background-color: #d4ebff;}#sk-container-id-1 div.sk-label input.sk-toggleable__control:checked~label.sk-toggleable__label {background-color: #d4ebff;}#sk-container-id-1 input.sk-hidden--visually {border: 0;clip: rect(1px 1px 1px 1px);clip: rect(1px, 1px, 1px, 1px);height: 1px;margin: -1px;overflow: hidden;padding: 0;position: absolute;width: 1px;}#sk-container-id-1 div.sk-estimator {font-family: monospace;background-color: #f0f8ff;border: 1px dotted black;border-radius: 0.25em;box-sizing: border-box;margin-bottom: 0.5em;}#sk-container-id-1 div.sk-estimator:hover {background-color: #d4ebff;}#sk-container-id-1 div.sk-parallel-item::after {content: \"\";width: 100%;border-bottom: 1px solid gray;flex-grow: 1;}#sk-container-id-1 div.sk-label:hover label.sk-toggleable__label {background-color: #d4ebff;}#sk-container-id-1 div.sk-serial::before {content: \"\";position: absolute;border-left: 1px solid gray;box-sizing: border-box;top: 0;bottom: 0;left: 50%;z-index: 0;}#sk-container-id-1 div.sk-serial {display: flex;flex-direction: column;align-items: center;background-color: white;padding-right: 0.2em;padding-left: 0.2em;position: relative;}#sk-container-id-1 div.sk-item {position: relative;z-index: 1;}#sk-container-id-1 div.sk-parallel {display: flex;align-items: stretch;justify-content: center;background-color: white;position: relative;}#sk-container-id-1 div.sk-item::before, #sk-container-id-1 div.sk-parallel-item::before {content: \"\";position: absolute;border-left: 1px solid gray;box-sizing: border-box;top: 0;bottom: 0;left: 50%;z-index: -1;}#sk-container-id-1 div.sk-parallel-item {display: flex;flex-direction: column;z-index: 1;position: relative;background-color: white;}#sk-container-id-1 div.sk-parallel-item:first-child::after {align-self: flex-end;width: 50%;}#sk-container-id-1 div.sk-parallel-item:last-child::after {align-self: flex-start;width: 50%;}#sk-container-id-1 div.sk-parallel-item:only-child::after {width: 0;}#sk-container-id-1 div.sk-dashed-wrapped {border: 1px dashed gray;margin: 0 0.4em 0.5em 0.4em;box-sizing: border-box;padding-bottom: 0.4em;background-color: white;}#sk-container-id-1 div.sk-label label {font-family: monospace;font-weight: bold;display: inline-block;line-height: 1.2em;}#sk-container-id-1 div.sk-label-container {text-align: center;}#sk-container-id-1 div.sk-container {/* jupyter's `normalize.less` sets `[hidden] { display: none; }` but bootstrap.min.css set `[hidden] { display: none !important; }` so we also need the `!important` here to be able to override the default hidden behavior on the sphinx rendered scikit-learn.org. See: https://github.com/scikit-learn/scikit-learn/issues/21755 */display: inline-block !important;position: relative;}#sk-container-id-1 div.sk-text-repr-fallback {display: none;}</style><div id=\"sk-container-id-1\" class=\"sk-top-container\"><div class=\"sk-text-repr-fallback\"><pre>LogisticRegression(C=0.0018329807108324356)</pre><b>In a Jupyter environment, please rerun this cell to show the HTML representation or trust the notebook. <br />On GitHub, the HTML representation is unable to render, please try loading this page with nbviewer.org.</b></div><div class=\"sk-container\" hidden><div class=\"sk-item\"><div class=\"sk-estimator sk-toggleable\"><input class=\"sk-toggleable__control sk-hidden--visually\" id=\"sk-estimator-id-1\" type=\"checkbox\" checked><label for=\"sk-estimator-id-1\" class=\"sk-toggleable__label sk-toggleable__label-arrow\">LogisticRegression</label><div class=\"sk-toggleable__content\"><pre>LogisticRegression(C=0.0018329807108324356)</pre></div></div></div></div></div>"
      ],
      "text/plain": [
       "LogisticRegression(C=0.0018329807108324356)"
      ]
     },
     "execution_count": 66,
     "metadata": {},
     "output_type": "execute_result"
    }
   ],
   "source": [
    "best_clf.best_estimator_"
   ]
  },
  {
   "cell_type": "code",
   "execution_count": 42,
   "id": "3002218f",
   "metadata": {},
   "outputs": [
    {
     "data": {
      "text/plain": [
       "{'solver': 'newton-cg'}"
      ]
     },
     "execution_count": 42,
     "metadata": {},
     "output_type": "execute_result"
    }
   ],
   "source": [
    "best_clf.best_params_"
   ]
  },
  {
   "cell_type": "code",
   "execution_count": 67,
   "id": "d9abf0f4",
   "metadata": {},
   "outputs": [
    {
     "name": "stdout",
     "output_type": "stream",
     "text": [
      " percision : 0.58 +/- 0.007\n",
      " f1        : 0.63 +/- 0.037\n",
      " recall    : 0.69 +/- 0.092\n"
     ]
    }
   ],
   "source": [
    "l_regression_best = LogisticRegression(C=0.0018329807108324356)\n",
    "\n",
    "print_cross_val_score(l_regression_best, X_new, y)"
   ]
  },
  {
   "cell_type": "code",
   "execution_count": 28,
   "id": "922d0877",
   "metadata": {},
   "outputs": [
    {
     "name": "stdout",
     "output_type": "stream",
     "text": [
      " percision : 0.58 +/- 0.002\n",
      " f1        : 0.68 +/- 0.002\n",
      " recall    : 0.81 +/- 0.003\n"
     ]
    }
   ],
   "source": [
    "l_regression_best = LogisticRegression(C=0.0018329807108324356)\n",
    "\n",
    "print_cross_val_score(l_regression_best, X, y)"
   ]
  },
  {
   "cell_type": "markdown",
   "id": "9e657515",
   "metadata": {},
   "source": [
    "****************************************************************************\n",
    "****************************************************************************"
   ]
  },
  {
   "cell_type": "markdown",
   "id": "b0bb6d5a",
   "metadata": {},
   "source": [
    "### Tweetscov19\n",
    "#### (Conten only)"
   ]
  },
  {
   "cell_type": "code",
   "execution_count": 29,
   "id": "afd756df",
   "metadata": {},
   "outputs": [],
   "source": [
    "features = df_tweetscov19_user.columns\n",
    "features\n",
    "\n",
    "#features = features[2:83]\n",
    "df_tweetscov19_user = df_tweetscov19_user[features.tolist()]\n",
    "df_tweetscov19_user = df_tweetscov19_user.drop(columns=[ 'user_political_polarisation', 'user_science_polarisation', 'user_moderacy_polarisation', 'user_Reputation'])\n"
   ]
  },
  {
   "cell_type": "code",
   "execution_count": 30,
   "id": "95d92fb7",
   "metadata": {},
   "outputs": [
    {
     "name": "stdout",
     "output_type": "stream",
     "text": [
      "(200000, 8)\n",
      "(200000,)\n"
     ]
    }
   ],
   "source": [
    "features = df_tweetscov19_user.columns\n",
    "X,y = get_X_y(df_tweetscov19_user, features)"
   ]
  },
  {
   "cell_type": "code",
   "execution_count": 31,
   "id": "ef925868",
   "metadata": {},
   "outputs": [
    {
     "ename": "NameError",
     "evalue": "name 'features_classifier_tweetscov19' is not defined",
     "output_type": "error",
     "traceback": [
      "\u001b[1;31m---------------------------------------------------------------------------\u001b[0m",
      "\u001b[1;31mNameError\u001b[0m                                 Traceback (most recent call last)",
      "\u001b[1;32m<ipython-input-31-642278e65632>\u001b[0m in \u001b[0;36m<module>\u001b[1;34m\u001b[0m\n\u001b[1;32m----> 1\u001b[1;33m \u001b[0mf_importances\u001b[0m \u001b[1;33m=\u001b[0m \u001b[0mfeatures_classifier_tweetscov19\u001b[0m\u001b[1;33m(\u001b[0m \u001b[0mX\u001b[0m\u001b[1;33m,\u001b[0m \u001b[0my\u001b[0m\u001b[1;33m)\u001b[0m\u001b[1;33m\u001b[0m\u001b[1;33m\u001b[0m\u001b[0m\n\u001b[0m\u001b[0;32m      2\u001b[0m \u001b[0mf_importances\u001b[0m\u001b[1;33m\u001b[0m\u001b[1;33m\u001b[0m\u001b[0m\n",
      "\u001b[1;31mNameError\u001b[0m: name 'features_classifier_tweetscov19' is not defined"
     ]
    }
   ],
   "source": [
    "f_importances = features_classifier_tweetscov19( X, y)\n",
    "f_importances"
   ]
  },
  {
   "cell_type": "code",
   "execution_count": 72,
   "id": "3001af14",
   "metadata": {},
   "outputs": [
    {
     "name": "stdout",
     "output_type": "stream",
     "text": [
      "8\n",
      "['Retweets' 'URLs_num' 'Hashtags_num' 'Favorites'\n",
      " 'tweet_political_polarisation' 'Mentions_num'\n",
      " 'tweet_moderacy_polarisation' 'tweet_science_polarisation']\n"
     ]
    }
   ],
   "source": [
    "f_importances = f_importances[f_importances['importance'] != 0.0]\n",
    "f_importances = f_importances.Feature.values\n",
    "\n",
    "print(len(f_importances))\n",
    "print(f_importances)"
   ]
  },
  {
   "cell_type": "code",
   "execution_count": 73,
   "id": "a5d2ef02",
   "metadata": {},
   "outputs": [
    {
     "name": "stdout",
     "output_type": "stream",
     "text": [
      "(20000, 8)\n",
      "(20000,)\n"
     ]
    }
   ],
   "source": [
    "X_new,y = get_X_y(df_tweetscov19_user, f_importances)"
   ]
  },
  {
   "cell_type": "code",
   "execution_count": 75,
   "id": "f2dcee4b",
   "metadata": {},
   "outputs": [
    {
     "name": "stdout",
     "output_type": "stream",
     "text": [
      " percision : 0.56 +/- 0.016\n",
      " f1        : 0.65 +/- 0.018\n",
      " recall    : 0.78 +/- 0.068\n"
     ]
    }
   ],
   "source": [
    "l_regression_best = LogisticRegression(C=0.0018329807108324356)\n",
    "\n",
    "print_cross_val_score(l_regression_best, X_new, y)"
   ]
  },
  {
   "cell_type": "code",
   "execution_count": 32,
   "id": "4c12a968",
   "metadata": {},
   "outputs": [
    {
     "name": "stdout",
     "output_type": "stream",
     "text": [
      " percision : 0.55 +/- 0.002\n",
      " f1        : 0.66 +/- 0.002\n",
      " recall    : 0.83 +/- 0.004\n"
     ]
    }
   ],
   "source": [
    "l_regression_best = LogisticRegression(C=0.0018329807108324356)\n",
    "\n",
    "print_cross_val_score(l_regression_best, X, y)"
   ]
  },
  {
   "cell_type": "markdown",
   "id": "758a0d02",
   "metadata": {},
   "source": [
    "****************************************************************\n",
    "****************************************************************"
   ]
  },
  {
   "cell_type": "markdown",
   "id": "72c1da6c",
   "metadata": {},
   "source": [
    "## *(2)Tweetskb*\n",
    "### (Content + User feature)"
   ]
  },
  {
   "cell_type": "code",
   "execution_count": 33,
   "id": "fc70c4df",
   "metadata": {},
   "outputs": [
    {
     "name": "stdout",
     "output_type": "stream",
     "text": [
      "Shape : (200000, 18)\n"
     ]
    },
    {
     "data": {
      "text/html": [
       "<div>\n",
       "<style scoped>\n",
       "    .dataframe tbody tr th:only-of-type {\n",
       "        vertical-align: middle;\n",
       "    }\n",
       "\n",
       "    .dataframe tbody tr th {\n",
       "        vertical-align: top;\n",
       "    }\n",
       "\n",
       "    .dataframe thead th {\n",
       "        text-align: right;\n",
       "    }\n",
       "</style>\n",
       "<table border=\"1\" class=\"dataframe\">\n",
       "  <thead>\n",
       "    <tr style=\"text-align: right;\">\n",
       "      <th></th>\n",
       "      <th>Tweet_Id</th>\n",
       "      <th>Username</th>\n",
       "      <th>Retweets</th>\n",
       "      <th>Favorites</th>\n",
       "      <th>Hashtags_num</th>\n",
       "      <th>Mentions_num</th>\n",
       "      <th>URLs_num</th>\n",
       "      <th>tweet_political_polarisation</th>\n",
       "      <th>tweet_science_polarisation</th>\n",
       "      <th>tweet_moderacy_polarisation</th>\n",
       "      <th>user_political_polarisation</th>\n",
       "      <th>user_science_polarisation</th>\n",
       "      <th>user_moderacy_polarisation</th>\n",
       "      <th>user_posted_tweets</th>\n",
       "      <th>user_deleted_tweets</th>\n",
       "      <th>user_Deletion_ratio</th>\n",
       "      <th>user_Reputation</th>\n",
       "      <th>Is_deleted</th>\n",
       "    </tr>\n",
       "  </thead>\n",
       "  <tbody>\n",
       "    <tr>\n",
       "      <th>0</th>\n",
       "      <td>1223471572998074368</td>\n",
       "      <td>steven_leal54</td>\n",
       "      <td>0</td>\n",
       "      <td>0</td>\n",
       "      <td>0</td>\n",
       "      <td>1</td>\n",
       "      <td>0</td>\n",
       "      <td>0.0000</td>\n",
       "      <td>0.0000</td>\n",
       "      <td>0.0000</td>\n",
       "      <td>0.0000</td>\n",
       "      <td>0.0000</td>\n",
       "      <td>0.0000</td>\n",
       "      <td>2</td>\n",
       "      <td>2</td>\n",
       "      <td>1.0000</td>\n",
       "      <td>0.4051</td>\n",
       "      <td>True</td>\n",
       "    </tr>\n",
       "    <tr>\n",
       "      <th>1</th>\n",
       "      <td>1213585161071280128</td>\n",
       "      <td>Brittan29273626</td>\n",
       "      <td>144</td>\n",
       "      <td>394</td>\n",
       "      <td>0</td>\n",
       "      <td>0</td>\n",
       "      <td>1</td>\n",
       "      <td>0.0000</td>\n",
       "      <td>0.0000</td>\n",
       "      <td>0.0000</td>\n",
       "      <td>0.0000</td>\n",
       "      <td>0.0000</td>\n",
       "      <td>0.0000</td>\n",
       "      <td>2</td>\n",
       "      <td>2</td>\n",
       "      <td>1.0000</td>\n",
       "      <td>1.0000</td>\n",
       "      <td>True</td>\n",
       "    </tr>\n",
       "    <tr>\n",
       "      <th>2</th>\n",
       "      <td>1186217177675902976</td>\n",
       "      <td>YuumaTsukumo</td>\n",
       "      <td>0</td>\n",
       "      <td>0</td>\n",
       "      <td>1</td>\n",
       "      <td>0</td>\n",
       "      <td>0</td>\n",
       "      <td>0.0000</td>\n",
       "      <td>0.0000</td>\n",
       "      <td>0.0000</td>\n",
       "      <td>0.0000</td>\n",
       "      <td>0.0000</td>\n",
       "      <td>0.0000</td>\n",
       "      <td>1</td>\n",
       "      <td>1</td>\n",
       "      <td>1.0000</td>\n",
       "      <td>0.5548</td>\n",
       "      <td>True</td>\n",
       "    </tr>\n",
       "    <tr>\n",
       "      <th>3</th>\n",
       "      <td>1228371761416175616</td>\n",
       "      <td>jocelynlee_</td>\n",
       "      <td>2</td>\n",
       "      <td>4</td>\n",
       "      <td>0</td>\n",
       "      <td>0</td>\n",
       "      <td>0</td>\n",
       "      <td>0.0000</td>\n",
       "      <td>0.0000</td>\n",
       "      <td>0.0000</td>\n",
       "      <td>0.0000</td>\n",
       "      <td>0.0000</td>\n",
       "      <td>0.0000</td>\n",
       "      <td>2</td>\n",
       "      <td>2</td>\n",
       "      <td>1.0000</td>\n",
       "      <td>0.4786</td>\n",
       "      <td>True</td>\n",
       "    </tr>\n",
       "    <tr>\n",
       "      <th>4</th>\n",
       "      <td>1231907143835672577</td>\n",
       "      <td>StephanieKwinn</td>\n",
       "      <td>7</td>\n",
       "      <td>22</td>\n",
       "      <td>0</td>\n",
       "      <td>0</td>\n",
       "      <td>0</td>\n",
       "      <td>0.0000</td>\n",
       "      <td>0.0000</td>\n",
       "      <td>0.0000</td>\n",
       "      <td>0.0000</td>\n",
       "      <td>0.0000</td>\n",
       "      <td>0.0000</td>\n",
       "      <td>5</td>\n",
       "      <td>4</td>\n",
       "      <td>0.8000</td>\n",
       "      <td>0.6074</td>\n",
       "      <td>True</td>\n",
       "    </tr>\n",
       "  </tbody>\n",
       "</table>\n",
       "</div>"
      ],
      "text/plain": [
       "              Tweet_Id         Username  Retweets  Favorites  Hashtags_num  \\\n",
       "0  1223471572998074368    steven_leal54         0          0             0   \n",
       "1  1213585161071280128  Brittan29273626       144        394             0   \n",
       "2  1186217177675902976     YuumaTsukumo         0          0             1   \n",
       "3  1228371761416175616      jocelynlee_         2          4             0   \n",
       "4  1231907143835672577   StephanieKwinn         7         22             0   \n",
       "\n",
       "   Mentions_num  URLs_num  tweet_political_polarisation  \\\n",
       "0             1         0                        0.0000   \n",
       "1             0         1                        0.0000   \n",
       "2             0         0                        0.0000   \n",
       "3             0         0                        0.0000   \n",
       "4             0         0                        0.0000   \n",
       "\n",
       "   tweet_science_polarisation  tweet_moderacy_polarisation  \\\n",
       "0                      0.0000                       0.0000   \n",
       "1                      0.0000                       0.0000   \n",
       "2                      0.0000                       0.0000   \n",
       "3                      0.0000                       0.0000   \n",
       "4                      0.0000                       0.0000   \n",
       "\n",
       "   user_political_polarisation  user_science_polarisation  \\\n",
       "0                       0.0000                     0.0000   \n",
       "1                       0.0000                     0.0000   \n",
       "2                       0.0000                     0.0000   \n",
       "3                       0.0000                     0.0000   \n",
       "4                       0.0000                     0.0000   \n",
       "\n",
       "   user_moderacy_polarisation  user_posted_tweets  user_deleted_tweets  \\\n",
       "0                      0.0000                   2                    2   \n",
       "1                      0.0000                   2                    2   \n",
       "2                      0.0000                   1                    1   \n",
       "3                      0.0000                   2                    2   \n",
       "4                      0.0000                   5                    4   \n",
       "\n",
       "   user_Deletion_ratio  user_Reputation  Is_deleted  \n",
       "0               1.0000           0.4051        True  \n",
       "1               1.0000           1.0000        True  \n",
       "2               1.0000           0.5548        True  \n",
       "3               1.0000           0.4786        True  \n",
       "4               0.8000           0.6074        True  "
      ]
     },
     "execution_count": 33,
     "metadata": {},
     "output_type": "execute_result"
    }
   ],
   "source": [
    "path = '../data/df_tweetskb_sample_200000_9_v2.tsv'\n",
    "\n",
    "df_tweetskb_user = pd.read_csv(path, sep='\\t', error_bad_lines=False, names=['Tweet_Id', 'Username', 'Retweets', 'Favorites', 'Hashtags_num', 'Mentions_num', 'URLs_num', 'tweet_political_polarisation', 'tweet_science_polarisation', 'tweet_moderacy_polarisation', 'user_political_polarisation', 'user_science_polarisation', 'user_moderacy_polarisation', 'user_posted_tweets', 'user_deleted_tweets', 'user_Deletion_ratio', 'user_Reputation', 'Is_deleted' ])\n",
    "\n",
    "print('Shape :', df_tweetskb_user.shape)\n",
    "df_tweetskb_user.head()"
   ]
  },
  {
   "cell_type": "code",
   "execution_count": 34,
   "id": "ace8f3a3",
   "metadata": {},
   "outputs": [
    {
     "name": "stdout",
     "output_type": "stream",
     "text": [
      "7\n",
      "0.10 =>  0.0\n",
      "0.50 =>  1.0\n",
      "0.75 =>  2.0\n",
      "0.90 =>  4.0\n",
      "0.95 =>  5.0\n",
      "0.98 =>  7.0\n",
      "0.99 =>  8.0\n"
     ]
    }
   ],
   "source": [
    "#Quantile\n",
    "q = [0.1, 0.5, 0.75, 0.9, 0.95, 0.98, 0.99]\n",
    "print(len(q))\n",
    "for i in range(0,len(q)):\n",
    "    print(\"{:.2f}\".format(q[i]), '=> ',df_tweetskb_user['user_deleted_tweets'].quantile(q[i]))\n"
   ]
  },
  {
   "cell_type": "code",
   "execution_count": 35,
   "id": "9373726e",
   "metadata": {},
   "outputs": [
    {
     "name": "stdout",
     "output_type": "stream",
     "text": [
      "Shape:  (200000, 18)\n"
     ]
    },
    {
     "data": {
      "text/html": [
       "<div>\n",
       "<style scoped>\n",
       "    .dataframe tbody tr th:only-of-type {\n",
       "        vertical-align: middle;\n",
       "    }\n",
       "\n",
       "    .dataframe tbody tr th {\n",
       "        vertical-align: top;\n",
       "    }\n",
       "\n",
       "    .dataframe thead th {\n",
       "        text-align: right;\n",
       "    }\n",
       "</style>\n",
       "<table border=\"1\" class=\"dataframe\">\n",
       "  <thead>\n",
       "    <tr style=\"text-align: right;\">\n",
       "      <th></th>\n",
       "      <th>Tweet_Id</th>\n",
       "      <th>Username</th>\n",
       "      <th>Retweets</th>\n",
       "      <th>Favorites</th>\n",
       "      <th>Hashtags_num</th>\n",
       "      <th>Mentions_num</th>\n",
       "      <th>URLs_num</th>\n",
       "      <th>tweet_political_polarisation</th>\n",
       "      <th>tweet_science_polarisation</th>\n",
       "      <th>tweet_moderacy_polarisation</th>\n",
       "      <th>user_political_polarisation</th>\n",
       "      <th>user_science_polarisation</th>\n",
       "      <th>user_moderacy_polarisation</th>\n",
       "      <th>user_posted_tweets</th>\n",
       "      <th>user_deleted_tweets</th>\n",
       "      <th>user_Deletion_ratio</th>\n",
       "      <th>user_Reputation</th>\n",
       "      <th>Is_deleted</th>\n",
       "    </tr>\n",
       "  </thead>\n",
       "  <tbody>\n",
       "    <tr>\n",
       "      <th>0</th>\n",
       "      <td>1245224881903611915</td>\n",
       "      <td>flak2kay</td>\n",
       "      <td>0</td>\n",
       "      <td>0</td>\n",
       "      <td>0</td>\n",
       "      <td>1</td>\n",
       "      <td>0</td>\n",
       "      <td>0.0000</td>\n",
       "      <td>0.0000</td>\n",
       "      <td>0.0000</td>\n",
       "      <td>0.0000</td>\n",
       "      <td>0.0000</td>\n",
       "      <td>0.0000</td>\n",
       "      <td>3</td>\n",
       "      <td>3</td>\n",
       "      <td>1.0000</td>\n",
       "      <td>0.5134</td>\n",
       "      <td>True</td>\n",
       "    </tr>\n",
       "    <tr>\n",
       "      <th>1</th>\n",
       "      <td>1252599298803539969</td>\n",
       "      <td>BabyHomie_</td>\n",
       "      <td>0</td>\n",
       "      <td>0</td>\n",
       "      <td>0</td>\n",
       "      <td>1</td>\n",
       "      <td>0</td>\n",
       "      <td>0.0000</td>\n",
       "      <td>0.0000</td>\n",
       "      <td>0.0000</td>\n",
       "      <td>0.0000</td>\n",
       "      <td>0.0000</td>\n",
       "      <td>0.0000</td>\n",
       "      <td>6</td>\n",
       "      <td>6</td>\n",
       "      <td>1.0000</td>\n",
       "      <td>0.5131</td>\n",
       "      <td>True</td>\n",
       "    </tr>\n",
       "    <tr>\n",
       "      <th>2</th>\n",
       "      <td>1217068728870952961</td>\n",
       "      <td>jueunbebe</td>\n",
       "      <td>0</td>\n",
       "      <td>0</td>\n",
       "      <td>0</td>\n",
       "      <td>0</td>\n",
       "      <td>0</td>\n",
       "      <td>0.0000</td>\n",
       "      <td>0.0000</td>\n",
       "      <td>0.0000</td>\n",
       "      <td>0.0000</td>\n",
       "      <td>0.0000</td>\n",
       "      <td>0.0000</td>\n",
       "      <td>7</td>\n",
       "      <td>7</td>\n",
       "      <td>1.0000</td>\n",
       "      <td>0.5467</td>\n",
       "      <td>True</td>\n",
       "    </tr>\n",
       "    <tr>\n",
       "      <th>3</th>\n",
       "      <td>1219069327992709120</td>\n",
       "      <td>basedmorrison</td>\n",
       "      <td>0</td>\n",
       "      <td>0</td>\n",
       "      <td>0</td>\n",
       "      <td>1</td>\n",
       "      <td>0</td>\n",
       "      <td>0.0000</td>\n",
       "      <td>0.0000</td>\n",
       "      <td>0.0000</td>\n",
       "      <td>0.0000</td>\n",
       "      <td>0.0000</td>\n",
       "      <td>0.0000</td>\n",
       "      <td>2</td>\n",
       "      <td>1</td>\n",
       "      <td>0.5000</td>\n",
       "      <td>0.5842</td>\n",
       "      <td>True</td>\n",
       "    </tr>\n",
       "    <tr>\n",
       "      <th>4</th>\n",
       "      <td>1190991767799304195</td>\n",
       "      <td>thoughtsofneb</td>\n",
       "      <td>0</td>\n",
       "      <td>0</td>\n",
       "      <td>0</td>\n",
       "      <td>0</td>\n",
       "      <td>0</td>\n",
       "      <td>0.0000</td>\n",
       "      <td>0.0000</td>\n",
       "      <td>0.0000</td>\n",
       "      <td>0.0000</td>\n",
       "      <td>0.0000</td>\n",
       "      <td>0.0000</td>\n",
       "      <td>1</td>\n",
       "      <td>1</td>\n",
       "      <td>1.0000</td>\n",
       "      <td>0.1707</td>\n",
       "      <td>True</td>\n",
       "    </tr>\n",
       "  </tbody>\n",
       "</table>\n",
       "</div>"
      ],
      "text/plain": [
       "              Tweet_Id       Username  Retweets  Favorites  Hashtags_num  \\\n",
       "0  1245224881903611915       flak2kay         0          0             0   \n",
       "1  1252599298803539969     BabyHomie_         0          0             0   \n",
       "2  1217068728870952961      jueunbebe         0          0             0   \n",
       "3  1219069327992709120  basedmorrison         0          0             0   \n",
       "4  1190991767799304195  thoughtsofneb         0          0             0   \n",
       "\n",
       "   Mentions_num  URLs_num  tweet_political_polarisation  \\\n",
       "0             1         0                        0.0000   \n",
       "1             1         0                        0.0000   \n",
       "2             0         0                        0.0000   \n",
       "3             1         0                        0.0000   \n",
       "4             0         0                        0.0000   \n",
       "\n",
       "   tweet_science_polarisation  tweet_moderacy_polarisation  \\\n",
       "0                      0.0000                       0.0000   \n",
       "1                      0.0000                       0.0000   \n",
       "2                      0.0000                       0.0000   \n",
       "3                      0.0000                       0.0000   \n",
       "4                      0.0000                       0.0000   \n",
       "\n",
       "   user_political_polarisation  user_science_polarisation  \\\n",
       "0                       0.0000                     0.0000   \n",
       "1                       0.0000                     0.0000   \n",
       "2                       0.0000                     0.0000   \n",
       "3                       0.0000                     0.0000   \n",
       "4                       0.0000                     0.0000   \n",
       "\n",
       "   user_moderacy_polarisation  user_posted_tweets  user_deleted_tweets  \\\n",
       "0                      0.0000                   3                    3   \n",
       "1                      0.0000                   6                    6   \n",
       "2                      0.0000                   7                    7   \n",
       "3                      0.0000                   2                    1   \n",
       "4                      0.0000                   1                    1   \n",
       "\n",
       "   user_Deletion_ratio  user_Reputation  Is_deleted  \n",
       "0               1.0000           0.5134        True  \n",
       "1               1.0000           0.5131        True  \n",
       "2               1.0000           0.5467        True  \n",
       "3               0.5000           0.5842        True  \n",
       "4               1.0000           0.1707        True  "
      ]
     },
     "execution_count": 35,
     "metadata": {},
     "output_type": "execute_result"
    }
   ],
   "source": [
    "df_tweetskb_user = df_tweetskb_user.sample(frac=1).reset_index(drop=True)\n",
    "\n",
    "print('Shape: ', df_tweetskb_user.shape)\n",
    "df_tweetskb_user.head()"
   ]
  },
  {
   "cell_type": "code",
   "execution_count": 36,
   "id": "6e0a4768",
   "metadata": {},
   "outputs": [
    {
     "data": {
      "text/plain": [
       "191791"
      ]
     },
     "execution_count": 36,
     "metadata": {},
     "output_type": "execute_result"
    }
   ],
   "source": [
    "df_tweetskb_user.Username.unique().size"
   ]
  },
  {
   "cell_type": "code",
   "execution_count": 37,
   "id": "bb3e85a5",
   "metadata": {},
   "outputs": [],
   "source": [
    "df_tweetskb_del = df_tweetskb_user[df_tweetskb_user['Is_deleted']==True]\n",
    "df_tweetskb_undel = df_tweetskb_user[df_tweetskb_user['Is_deleted']==False]"
   ]
  },
  {
   "cell_type": "code",
   "execution_count": 87,
   "id": "8cdb7340",
   "metadata": {},
   "outputs": [
    {
     "data": {
      "image/png": "[encoded data removed]",
      "text/plain": [
       "<Figure size 601.25x540 with 12 Axes>"
      ]
     },
     "metadata": {
      "needs_background": "light"
     },
     "output_type": "display_data"
    }
   ],
   "source": [
    "df = df_tweetskb_user[['Is_deleted',  'user_political_polarisation', 'user_science_polarisation', 'user_moderacy_polarisation']]\n",
    "plot_paiplot(df, 'Is_deleted', 'pairplot_tweetskb_politic_science_moderacy')"
   ]
  },
  {
   "cell_type": "code",
   "execution_count": 38,
   "id": "8ea438a4",
   "metadata": {},
   "outputs": [
    {
     "data": {
      "text/plain": [
       "Index(['Tweet_Id', 'Username', 'Retweets', 'Favorites', 'Hashtags_num',\n",
       "       'Mentions_num', 'URLs_num', 'tweet_political_polarisation',\n",
       "       'tweet_science_polarisation', 'tweet_moderacy_polarisation',\n",
       "       'user_political_polarisation', 'user_science_polarisation',\n",
       "       'user_moderacy_polarisation', 'user_posted_tweets',\n",
       "       'user_deleted_tweets', 'user_Deletion_ratio', 'user_Reputation',\n",
       "       'Is_deleted'],\n",
       "      dtype='object')"
      ]
     },
     "execution_count": 38,
     "metadata": {},
     "output_type": "execute_result"
    }
   ],
   "source": [
    "features = df_tweetskb_user.columns\n",
    "features"
   ]
  },
  {
   "cell_type": "code",
   "execution_count": 39,
   "id": "52afff2e",
   "metadata": {},
   "outputs": [
    {
     "data": {
      "text/html": [
       "<div>\n",
       "<style scoped>\n",
       "    .dataframe tbody tr th:only-of-type {\n",
       "        vertical-align: middle;\n",
       "    }\n",
       "\n",
       "    .dataframe tbody tr th {\n",
       "        vertical-align: top;\n",
       "    }\n",
       "\n",
       "    .dataframe thead th {\n",
       "        text-align: right;\n",
       "    }\n",
       "</style>\n",
       "<table border=\"1\" class=\"dataframe\">\n",
       "  <thead>\n",
       "    <tr style=\"text-align: right;\">\n",
       "      <th></th>\n",
       "      <th>Tweet_Id</th>\n",
       "      <th>Username</th>\n",
       "      <th>Retweets</th>\n",
       "      <th>Favorites</th>\n",
       "      <th>Hashtags_num</th>\n",
       "      <th>Mentions_num</th>\n",
       "      <th>URLs_num</th>\n",
       "      <th>tweet_political_polarisation</th>\n",
       "      <th>tweet_science_polarisation</th>\n",
       "      <th>tweet_moderacy_polarisation</th>\n",
       "      <th>user_political_polarisation</th>\n",
       "      <th>user_science_polarisation</th>\n",
       "      <th>user_moderacy_polarisation</th>\n",
       "      <th>user_posted_tweets</th>\n",
       "      <th>user_deleted_tweets</th>\n",
       "      <th>user_Deletion_ratio</th>\n",
       "      <th>user_Reputation</th>\n",
       "      <th>Is_deleted</th>\n",
       "    </tr>\n",
       "  </thead>\n",
       "  <tbody>\n",
       "    <tr>\n",
       "      <th>0</th>\n",
       "      <td>1245224881903611915</td>\n",
       "      <td>flak2kay</td>\n",
       "      <td>0</td>\n",
       "      <td>0</td>\n",
       "      <td>0</td>\n",
       "      <td>1</td>\n",
       "      <td>0</td>\n",
       "      <td>0.0000</td>\n",
       "      <td>0.0000</td>\n",
       "      <td>0.0000</td>\n",
       "      <td>0.0000</td>\n",
       "      <td>0.0000</td>\n",
       "      <td>0.0000</td>\n",
       "      <td>3</td>\n",
       "      <td>3</td>\n",
       "      <td>1.0000</td>\n",
       "      <td>0.5134</td>\n",
       "      <td>1</td>\n",
       "    </tr>\n",
       "    <tr>\n",
       "      <th>1</th>\n",
       "      <td>1252599298803539969</td>\n",
       "      <td>BabyHomie_</td>\n",
       "      <td>0</td>\n",
       "      <td>0</td>\n",
       "      <td>0</td>\n",
       "      <td>1</td>\n",
       "      <td>0</td>\n",
       "      <td>0.0000</td>\n",
       "      <td>0.0000</td>\n",
       "      <td>0.0000</td>\n",
       "      <td>0.0000</td>\n",
       "      <td>0.0000</td>\n",
       "      <td>0.0000</td>\n",
       "      <td>6</td>\n",
       "      <td>6</td>\n",
       "      <td>1.0000</td>\n",
       "      <td>0.5131</td>\n",
       "      <td>1</td>\n",
       "    </tr>\n",
       "    <tr>\n",
       "      <th>2</th>\n",
       "      <td>1217068728870952961</td>\n",
       "      <td>jueunbebe</td>\n",
       "      <td>0</td>\n",
       "      <td>0</td>\n",
       "      <td>0</td>\n",
       "      <td>0</td>\n",
       "      <td>0</td>\n",
       "      <td>0.0000</td>\n",
       "      <td>0.0000</td>\n",
       "      <td>0.0000</td>\n",
       "      <td>0.0000</td>\n",
       "      <td>0.0000</td>\n",
       "      <td>0.0000</td>\n",
       "      <td>7</td>\n",
       "      <td>7</td>\n",
       "      <td>1.0000</td>\n",
       "      <td>0.5467</td>\n",
       "      <td>1</td>\n",
       "    </tr>\n",
       "    <tr>\n",
       "      <th>3</th>\n",
       "      <td>1219069327992709120</td>\n",
       "      <td>basedmorrison</td>\n",
       "      <td>0</td>\n",
       "      <td>0</td>\n",
       "      <td>0</td>\n",
       "      <td>1</td>\n",
       "      <td>0</td>\n",
       "      <td>0.0000</td>\n",
       "      <td>0.0000</td>\n",
       "      <td>0.0000</td>\n",
       "      <td>0.0000</td>\n",
       "      <td>0.0000</td>\n",
       "      <td>0.0000</td>\n",
       "      <td>2</td>\n",
       "      <td>1</td>\n",
       "      <td>0.5000</td>\n",
       "      <td>0.5842</td>\n",
       "      <td>1</td>\n",
       "    </tr>\n",
       "    <tr>\n",
       "      <th>4</th>\n",
       "      <td>1190991767799304195</td>\n",
       "      <td>thoughtsofneb</td>\n",
       "      <td>0</td>\n",
       "      <td>0</td>\n",
       "      <td>0</td>\n",
       "      <td>0</td>\n",
       "      <td>0</td>\n",
       "      <td>0.0000</td>\n",
       "      <td>0.0000</td>\n",
       "      <td>0.0000</td>\n",
       "      <td>0.0000</td>\n",
       "      <td>0.0000</td>\n",
       "      <td>0.0000</td>\n",
       "      <td>1</td>\n",
       "      <td>1</td>\n",
       "      <td>1.0000</td>\n",
       "      <td>0.1707</td>\n",
       "      <td>1</td>\n",
       "    </tr>\n",
       "  </tbody>\n",
       "</table>\n",
       "</div>"
      ],
      "text/plain": [
       "              Tweet_Id       Username  Retweets  Favorites  Hashtags_num  \\\n",
       "0  1245224881903611915       flak2kay         0          0             0   \n",
       "1  1252599298803539969     BabyHomie_         0          0             0   \n",
       "2  1217068728870952961      jueunbebe         0          0             0   \n",
       "3  1219069327992709120  basedmorrison         0          0             0   \n",
       "4  1190991767799304195  thoughtsofneb         0          0             0   \n",
       "\n",
       "   Mentions_num  URLs_num  tweet_political_polarisation  \\\n",
       "0             1         0                        0.0000   \n",
       "1             1         0                        0.0000   \n",
       "2             0         0                        0.0000   \n",
       "3             1         0                        0.0000   \n",
       "4             0         0                        0.0000   \n",
       "\n",
       "   tweet_science_polarisation  tweet_moderacy_polarisation  \\\n",
       "0                      0.0000                       0.0000   \n",
       "1                      0.0000                       0.0000   \n",
       "2                      0.0000                       0.0000   \n",
       "3                      0.0000                       0.0000   \n",
       "4                      0.0000                       0.0000   \n",
       "\n",
       "   user_political_polarisation  user_science_polarisation  \\\n",
       "0                       0.0000                     0.0000   \n",
       "1                       0.0000                     0.0000   \n",
       "2                       0.0000                     0.0000   \n",
       "3                       0.0000                     0.0000   \n",
       "4                       0.0000                     0.0000   \n",
       "\n",
       "   user_moderacy_polarisation  user_posted_tweets  user_deleted_tweets  \\\n",
       "0                      0.0000                   3                    3   \n",
       "1                      0.0000                   6                    6   \n",
       "2                      0.0000                   7                    7   \n",
       "3                      0.0000                   2                    1   \n",
       "4                      0.0000                   1                    1   \n",
       "\n",
       "   user_Deletion_ratio  user_Reputation  Is_deleted  \n",
       "0               1.0000           0.5134           1  \n",
       "1               1.0000           0.5131           1  \n",
       "2               1.0000           0.5467           1  \n",
       "3               0.5000           0.5842           1  \n",
       "4               1.0000           0.1707           1  "
      ]
     },
     "execution_count": 39,
     "metadata": {},
     "output_type": "execute_result"
    }
   ],
   "source": [
    "df_tweetskb_user['Is_deleted'] = np.where(df_tweetskb_user['Is_deleted'] == True, 1, 0)\n",
    "df_tweetskb_user.head()"
   ]
  },
  {
   "cell_type": "code",
   "execution_count": 40,
   "id": "0ef9347b",
   "metadata": {},
   "outputs": [],
   "source": [
    "df_tweetskb_user = df_tweetskb_user.drop(columns=[ 'Tweet_Id', 'Username', 'user_posted_tweets', 'user_deleted_tweets', 'user_Deletion_ratio'])"
   ]
  },
  {
   "cell_type": "code",
   "execution_count": 41,
   "id": "b0c6aabc",
   "metadata": {},
   "outputs": [
    {
     "name": "stdout",
     "output_type": "stream",
     "text": [
      "(200000, 12)\n",
      "(200000,)\n"
     ]
    }
   ],
   "source": [
    "features = df_tweetskb_user.columns\n",
    "X,y = get_X_y(df_tweetskb_user, features)"
   ]
  },
  {
   "cell_type": "code",
   "execution_count": 42,
   "id": "f786e05e",
   "metadata": {},
   "outputs": [
    {
     "name": "stdout",
     "output_type": "stream",
     "text": [
      "(160000, 12)\n",
      "(40000, 12)\n",
      "(160000,)\n",
      "(40000,)\n"
     ]
    }
   ],
   "source": [
    "X_train, X_test, y_train, y_test = split_train_test_valid(X,y)"
   ]
  },
  {
   "cell_type": "markdown",
   "id": "2671fb4f",
   "metadata": {},
   "source": [
    "***"
   ]
  },
  {
   "cell_type": "code",
   "execution_count": 94,
   "id": "43365b1e",
   "metadata": {},
   "outputs": [],
   "source": [
    "#Finding best DecisionTreeClassifier for detecting the feature importances\n",
    "param_grid = {'criterion':['gini','entropy'],\n",
    "              'max_depth': range(1,10),\n",
    "              'random_state' : [5, 10, 15],\n",
    "              'min_samples_split' : range(1,10),\n",
    "              'min_samples_leaf' : range(1,10)}"
   ]
  },
  {
   "cell_type": "code",
   "execution_count": 95,
   "id": "9b21d21f",
   "metadata": {},
   "outputs": [],
   "source": [
    "model = DecisionTreeClassifier()\n",
    "\n",
    "DecisionTreeClassifier_clf = GridSearchCV(model, param_grid=param_grid, cv=5, verbose=True, n_jobs=-1)"
   ]
  },
  {
   "cell_type": "code",
   "execution_count": 96,
   "id": "fd7ee58f",
   "metadata": {},
   "outputs": [
    {
     "name": "stdout",
     "output_type": "stream",
     "text": [
      "Fitting 5 folds for each of 4374 candidates, totalling 21870 fits\n",
      "Wall time: 1min 12s\n"
     ]
    }
   ],
   "source": [
    "%%time\n",
    "best_clf = DecisionTreeClassifier_clf.fit(X_train,y_train)"
   ]
  },
  {
   "cell_type": "code",
   "execution_count": 97,
   "id": "086406ef",
   "metadata": {},
   "outputs": [
    {
     "data": {
      "text/plain": [
       "{'criterion': 'gini',\n",
       " 'max_depth': 4,\n",
       " 'min_samples_leaf': 3,\n",
       " 'min_samples_split': 2,\n",
       " 'random_state': 5}"
      ]
     },
     "execution_count": 97,
     "metadata": {},
     "output_type": "execute_result"
    }
   ],
   "source": [
    "best_clf.best_params_"
   ]
  },
  {
   "cell_type": "code",
   "execution_count": 98,
   "id": "6a1934a6",
   "metadata": {},
   "outputs": [],
   "source": [
    "def features_classifier_tweetskb(X, y):\n",
    "\n",
    "    decisionTC = DecisionTreeClassifier(random_state=6, criterion= 'gini', max_depth = 4, min_samples_leaf=3, min_samples_split=2)\n",
    "    decisionTC.fit(X,y)\n",
    "    \n",
    "    column_feature = {}\n",
    "\n",
    "    for i, c in enumerate(X):\n",
    "        #print(c, '   ', decisionTC.feature_importances_[i])\n",
    "\n",
    "        column_feature[c] = decisionTC.feature_importances_[i]\n",
    "        \n",
    "    df_column_feature = pd.DataFrame(column_feature.items(), columns=['Feature','importance'])\n",
    "    df_column_feature.sort_values(by = ['importance'], ascending = False, inplace = True)\n",
    "    \n",
    "    return df_column_feature.reset_index()"
   ]
  },
  {
   "cell_type": "code",
   "execution_count": 99,
   "id": "29e5fca0",
   "metadata": {},
   "outputs": [
    {
     "data": {
      "text/html": [
       "<div>\n",
       "<style scoped>\n",
       "    .dataframe tbody tr th:only-of-type {\n",
       "        vertical-align: middle;\n",
       "    }\n",
       "\n",
       "    .dataframe tbody tr th {\n",
       "        vertical-align: top;\n",
       "    }\n",
       "\n",
       "    .dataframe thead th {\n",
       "        text-align: right;\n",
       "    }\n",
       "</style>\n",
       "<table border=\"1\" class=\"dataframe\">\n",
       "  <thead>\n",
       "    <tr style=\"text-align: right;\">\n",
       "      <th></th>\n",
       "      <th>index</th>\n",
       "      <th>Feature</th>\n",
       "      <th>importance</th>\n",
       "    </tr>\n",
       "  </thead>\n",
       "  <tbody>\n",
       "    <tr>\n",
       "      <th>0</th>\n",
       "      <td>0</td>\n",
       "      <td>Retweets</td>\n",
       "      <td>0.3843</td>\n",
       "    </tr>\n",
       "    <tr>\n",
       "      <th>1</th>\n",
       "      <td>11</td>\n",
       "      <td>user_Reputation</td>\n",
       "      <td>0.2544</td>\n",
       "    </tr>\n",
       "    <tr>\n",
       "      <th>2</th>\n",
       "      <td>8</td>\n",
       "      <td>user_political_polarisation</td>\n",
       "      <td>0.1573</td>\n",
       "    </tr>\n",
       "    <tr>\n",
       "      <th>3</th>\n",
       "      <td>4</td>\n",
       "      <td>URLs_num</td>\n",
       "      <td>0.0988</td>\n",
       "    </tr>\n",
       "    <tr>\n",
       "      <th>4</th>\n",
       "      <td>3</td>\n",
       "      <td>Mentions_num</td>\n",
       "      <td>0.0966</td>\n",
       "    </tr>\n",
       "    <tr>\n",
       "      <th>5</th>\n",
       "      <td>1</td>\n",
       "      <td>Favorites</td>\n",
       "      <td>0.0065</td>\n",
       "    </tr>\n",
       "    <tr>\n",
       "      <th>6</th>\n",
       "      <td>10</td>\n",
       "      <td>user_moderacy_polarisation</td>\n",
       "      <td>0.0022</td>\n",
       "    </tr>\n",
       "    <tr>\n",
       "      <th>7</th>\n",
       "      <td>2</td>\n",
       "      <td>Hashtags_num</td>\n",
       "      <td>0.0000</td>\n",
       "    </tr>\n",
       "    <tr>\n",
       "      <th>8</th>\n",
       "      <td>5</td>\n",
       "      <td>tweet_political_polarisation</td>\n",
       "      <td>0.0000</td>\n",
       "    </tr>\n",
       "    <tr>\n",
       "      <th>9</th>\n",
       "      <td>6</td>\n",
       "      <td>tweet_science_polarisation</td>\n",
       "      <td>0.0000</td>\n",
       "    </tr>\n",
       "    <tr>\n",
       "      <th>10</th>\n",
       "      <td>7</td>\n",
       "      <td>tweet_moderacy_polarisation</td>\n",
       "      <td>0.0000</td>\n",
       "    </tr>\n",
       "    <tr>\n",
       "      <th>11</th>\n",
       "      <td>9</td>\n",
       "      <td>user_science_polarisation</td>\n",
       "      <td>0.0000</td>\n",
       "    </tr>\n",
       "  </tbody>\n",
       "</table>\n",
       "</div>"
      ],
      "text/plain": [
       "    index                       Feature  importance\n",
       "0       0                      Retweets      0.3843\n",
       "1      11               user_Reputation      0.2544\n",
       "2       8   user_political_polarisation      0.1573\n",
       "3       4                      URLs_num      0.0988\n",
       "4       3                  Mentions_num      0.0966\n",
       "5       1                     Favorites      0.0065\n",
       "6      10    user_moderacy_polarisation      0.0022\n",
       "7       2                  Hashtags_num      0.0000\n",
       "8       5  tweet_political_polarisation      0.0000\n",
       "9       6    tweet_science_polarisation      0.0000\n",
       "10      7   tweet_moderacy_polarisation      0.0000\n",
       "11      9     user_science_polarisation      0.0000"
      ]
     },
     "execution_count": 99,
     "metadata": {},
     "output_type": "execute_result"
    }
   ],
   "source": [
    "f_importances = features_classifier_tweetskb( X, y)\n",
    "f_importances"
   ]
  },
  {
   "cell_type": "code",
   "execution_count": 100,
   "id": "c5e5eb9e",
   "metadata": {},
   "outputs": [
    {
     "name": "stdout",
     "output_type": "stream",
     "text": [
      "['Retweets' 'user_Reputation' 'user_political_polarisation' 'URLs_num'\n",
      " 'Mentions_num' 'Favorites' 'user_moderacy_polarisation']\n"
     ]
    }
   ],
   "source": [
    "f_importances = f_importances[f_importances['importance']!=0.0]\n",
    "f_importances = f_importances.Feature.values\n",
    "print(f_importances)"
   ]
  },
  {
   "cell_type": "code",
   "execution_count": 101,
   "id": "682f7a03",
   "metadata": {},
   "outputs": [
    {
     "name": "stdout",
     "output_type": "stream",
     "text": [
      "(20000, 7)\n",
      "(20000,)\n"
     ]
    }
   ],
   "source": [
    "X_new,y = get_X_y(df_tweetskb_user, f_importances)"
   ]
  },
  {
   "cell_type": "code",
   "execution_count": 102,
   "id": "73a9e702",
   "metadata": {},
   "outputs": [],
   "source": [
    "param_grid = [{'penalty': ['l1', 'l2', 'elasticnet', 'none']},\n",
    "             {'C' : np.logspace(-4,4,20)},\n",
    "             {'solver' : ['newton-cg', 'lbfgs', 'liblinear', 'ag', 'saga']},\n",
    "             {'max_iter' : [100, 200, 500, 1000, 2500, 5000]}]"
   ]
  },
  {
   "cell_type": "code",
   "execution_count": 103,
   "id": "50486fc8",
   "metadata": {},
   "outputs": [],
   "source": [
    "l_regression_GridS = LogisticRegression()\n",
    "\n",
    "best_clf = GridSearchCV(l_regression_GridS, param_grid=param_grid, cv=5, verbose=10, n_jobs=-1)"
   ]
  },
  {
   "cell_type": "code",
   "execution_count": 104,
   "id": "fb1351c3",
   "metadata": {},
   "outputs": [
    {
     "name": "stdout",
     "output_type": "stream",
     "text": [
      "Fitting 5 folds for each of 35 candidates, totalling 175 fits\n",
      "Wall time: 5.65 s\n"
     ]
    }
   ],
   "source": [
    "%%time\n",
    "best_clf = best_clf.fit(X_train,y_train)"
   ]
  },
  {
   "cell_type": "code",
   "execution_count": 105,
   "id": "af315e9e",
   "metadata": {},
   "outputs": [
    {
     "data": {
      "text/html": [
       "<style>#sk-container-id-2 {color: black;background-color: white;}#sk-container-id-2 pre{padding: 0;}#sk-container-id-2 div.sk-toggleable {background-color: white;}#sk-container-id-2 label.sk-toggleable__label {cursor: pointer;display: block;width: 100%;margin-bottom: 0;padding: 0.3em;box-sizing: border-box;text-align: center;}#sk-container-id-2 label.sk-toggleable__label-arrow:before {content: \"▸\";float: left;margin-right: 0.25em;color: #696969;}#sk-container-id-2 label.sk-toggleable__label-arrow:hover:before {color: black;}#sk-container-id-2 div.sk-estimator:hover label.sk-toggleable__label-arrow:before {color: black;}#sk-container-id-2 div.sk-toggleable__content {max-height: 0;max-width: 0;overflow: hidden;text-align: left;background-color: #f0f8ff;}#sk-container-id-2 div.sk-toggleable__content pre {margin: 0.2em;color: black;border-radius: 0.25em;background-color: #f0f8ff;}#sk-container-id-2 input.sk-toggleable__control:checked~div.sk-toggleable__content {max-height: 200px;max-width: 100%;overflow: auto;}#sk-container-id-2 input.sk-toggleable__control:checked~label.sk-toggleable__label-arrow:before {content: \"▾\";}#sk-container-id-2 div.sk-estimator input.sk-toggleable__control:checked~label.sk-toggleable__label {background-color: #d4ebff;}#sk-container-id-2 div.sk-label input.sk-toggleable__control:checked~label.sk-toggleable__label {background-color: #d4ebff;}#sk-container-id-2 input.sk-hidden--visually {border: 0;clip: rect(1px 1px 1px 1px);clip: rect(1px, 1px, 1px, 1px);height: 1px;margin: -1px;overflow: hidden;padding: 0;position: absolute;width: 1px;}#sk-container-id-2 div.sk-estimator {font-family: monospace;background-color: #f0f8ff;border: 1px dotted black;border-radius: 0.25em;box-sizing: border-box;margin-bottom: 0.5em;}#sk-container-id-2 div.sk-estimator:hover {background-color: #d4ebff;}#sk-container-id-2 div.sk-parallel-item::after {content: \"\";width: 100%;border-bottom: 1px solid gray;flex-grow: 1;}#sk-container-id-2 div.sk-label:hover label.sk-toggleable__label {background-color: #d4ebff;}#sk-container-id-2 div.sk-serial::before {content: \"\";position: absolute;border-left: 1px solid gray;box-sizing: border-box;top: 0;bottom: 0;left: 50%;z-index: 0;}#sk-container-id-2 div.sk-serial {display: flex;flex-direction: column;align-items: center;background-color: white;padding-right: 0.2em;padding-left: 0.2em;position: relative;}#sk-container-id-2 div.sk-item {position: relative;z-index: 1;}#sk-container-id-2 div.sk-parallel {display: flex;align-items: stretch;justify-content: center;background-color: white;position: relative;}#sk-container-id-2 div.sk-item::before, #sk-container-id-2 div.sk-parallel-item::before {content: \"\";position: absolute;border-left: 1px solid gray;box-sizing: border-box;top: 0;bottom: 0;left: 50%;z-index: -1;}#sk-container-id-2 div.sk-parallel-item {display: flex;flex-direction: column;z-index: 1;position: relative;background-color: white;}#sk-container-id-2 div.sk-parallel-item:first-child::after {align-self: flex-end;width: 50%;}#sk-container-id-2 div.sk-parallel-item:last-child::after {align-self: flex-start;width: 50%;}#sk-container-id-2 div.sk-parallel-item:only-child::after {width: 0;}#sk-container-id-2 div.sk-dashed-wrapped {border: 1px dashed gray;margin: 0 0.4em 0.5em 0.4em;box-sizing: border-box;padding-bottom: 0.4em;background-color: white;}#sk-container-id-2 div.sk-label label {font-family: monospace;font-weight: bold;display: inline-block;line-height: 1.2em;}#sk-container-id-2 div.sk-label-container {text-align: center;}#sk-container-id-2 div.sk-container {/* jupyter's `normalize.less` sets `[hidden] { display: none; }` but bootstrap.min.css set `[hidden] { display: none !important; }` so we also need the `!important` here to be able to override the default hidden behavior on the sphinx rendered scikit-learn.org. See: https://github.com/scikit-learn/scikit-learn/issues/21755 */display: inline-block !important;position: relative;}#sk-container-id-2 div.sk-text-repr-fallback {display: none;}</style><div id=\"sk-container-id-2\" class=\"sk-top-container\"><div class=\"sk-text-repr-fallback\"><pre>LogisticRegression(C=0.0018329807108324356)</pre><b>In a Jupyter environment, please rerun this cell to show the HTML representation or trust the notebook. <br />On GitHub, the HTML representation is unable to render, please try loading this page with nbviewer.org.</b></div><div class=\"sk-container\" hidden><div class=\"sk-item\"><div class=\"sk-estimator sk-toggleable\"><input class=\"sk-toggleable__control sk-hidden--visually\" id=\"sk-estimator-id-2\" type=\"checkbox\" checked><label for=\"sk-estimator-id-2\" class=\"sk-toggleable__label sk-toggleable__label-arrow\">LogisticRegression</label><div class=\"sk-toggleable__content\"><pre>LogisticRegression(C=0.0018329807108324356)</pre></div></div></div></div></div>"
      ],
      "text/plain": [
       "LogisticRegression(C=0.0018329807108324356)"
      ]
     },
     "execution_count": 105,
     "metadata": {},
     "output_type": "execute_result"
    }
   ],
   "source": [
    "best_clf.best_estimator_"
   ]
  },
  {
   "cell_type": "code",
   "execution_count": 106,
   "id": "e1b79bed",
   "metadata": {},
   "outputs": [
    {
     "name": "stdout",
     "output_type": "stream",
     "text": [
      " percision : 0.55 +/- 0.006\n",
      " f1        : 0.62 +/- 0.008\n",
      " recall    : 0.71 +/- 0.015\n"
     ]
    }
   ],
   "source": [
    "l_regression_best = LogisticRegression(C=0.0018329807108324356)\n",
    "\n",
    "print_cross_val_score(l_regression_best, X_new, y)"
   ]
  },
  {
   "cell_type": "code",
   "execution_count": 43,
   "id": "13d69c22",
   "metadata": {},
   "outputs": [
    {
     "name": "stdout",
     "output_type": "stream",
     "text": [
      " percision : 0.55 +/- 0.002\n",
      " f1        : 0.61 +/- 0.006\n",
      " recall    : 0.69 +/- 0.015\n"
     ]
    }
   ],
   "source": [
    "l_regression_best = LogisticRegression(C=0.0018329807108324356)\n",
    "\n",
    "print_cross_val_score(l_regression_best, X, y)"
   ]
  },
  {
   "cell_type": "markdown",
   "id": "ae9aeafb",
   "metadata": {},
   "source": [
    "**********************************************************************\n",
    "**********************************************************************"
   ]
  },
  {
   "cell_type": "markdown",
   "id": "af5dcd93",
   "metadata": {},
   "source": [
    "### Tweetskb\n",
    "#### (Content only)"
   ]
  },
  {
   "cell_type": "code",
   "execution_count": 44,
   "id": "583f49ba",
   "metadata": {},
   "outputs": [],
   "source": [
    "features = df_tweetskb_user.columns\n",
    "features\n",
    "\n",
    "#features = features[2:83]\n",
    "df_tweetskb_user = df_tweetskb_user[features.tolist()]\n",
    "df_tweetskb_user = df_tweetskb_user.drop(columns=[ 'user_political_polarisation', 'user_science_polarisation', 'user_moderacy_polarisation', 'user_Reputation'])\n"
   ]
  },
  {
   "cell_type": "code",
   "execution_count": 45,
   "id": "aa073050",
   "metadata": {},
   "outputs": [
    {
     "name": "stdout",
     "output_type": "stream",
     "text": [
      "(200000, 8)\n",
      "(200000,)\n"
     ]
    }
   ],
   "source": [
    "features = df_tweetskb_user.columns\n",
    "X,y = get_X_y(df_tweetskb_user, features)"
   ]
  },
  {
   "cell_type": "code",
   "execution_count": 46,
   "id": "cc79b0e1",
   "metadata": {},
   "outputs": [
    {
     "name": "stdout",
     "output_type": "stream",
     "text": [
      "(160000, 8)\n",
      "(40000, 8)\n",
      "(160000,)\n",
      "(40000,)\n"
     ]
    }
   ],
   "source": [
    "X_train, X_test, y_train, y_test = split_train_test_valid(X,y)"
   ]
  },
  {
   "cell_type": "code",
   "execution_count": 111,
   "id": "1c8236ea",
   "metadata": {},
   "outputs": [
    {
     "data": {
      "text/html": [
       "<div>\n",
       "<style scoped>\n",
       "    .dataframe tbody tr th:only-of-type {\n",
       "        vertical-align: middle;\n",
       "    }\n",
       "\n",
       "    .dataframe tbody tr th {\n",
       "        vertical-align: top;\n",
       "    }\n",
       "\n",
       "    .dataframe thead th {\n",
       "        text-align: right;\n",
       "    }\n",
       "</style>\n",
       "<table border=\"1\" class=\"dataframe\">\n",
       "  <thead>\n",
       "    <tr style=\"text-align: right;\">\n",
       "      <th></th>\n",
       "      <th>index</th>\n",
       "      <th>Feature</th>\n",
       "      <th>importance</th>\n",
       "    </tr>\n",
       "  </thead>\n",
       "  <tbody>\n",
       "    <tr>\n",
       "      <th>0</th>\n",
       "      <td>0</td>\n",
       "      <td>Retweets</td>\n",
       "      <td>0.6350</td>\n",
       "    </tr>\n",
       "    <tr>\n",
       "      <th>1</th>\n",
       "      <td>4</td>\n",
       "      <td>URLs_num</td>\n",
       "      <td>0.1881</td>\n",
       "    </tr>\n",
       "    <tr>\n",
       "      <th>2</th>\n",
       "      <td>3</td>\n",
       "      <td>Mentions_num</td>\n",
       "      <td>0.0847</td>\n",
       "    </tr>\n",
       "    <tr>\n",
       "      <th>3</th>\n",
       "      <td>1</td>\n",
       "      <td>Favorites</td>\n",
       "      <td>0.0460</td>\n",
       "    </tr>\n",
       "    <tr>\n",
       "      <th>4</th>\n",
       "      <td>2</td>\n",
       "      <td>Hashtags_num</td>\n",
       "      <td>0.0294</td>\n",
       "    </tr>\n",
       "    <tr>\n",
       "      <th>5</th>\n",
       "      <td>5</td>\n",
       "      <td>tweet_political_polarisation</td>\n",
       "      <td>0.0168</td>\n",
       "    </tr>\n",
       "    <tr>\n",
       "      <th>6</th>\n",
       "      <td>6</td>\n",
       "      <td>tweet_science_polarisation</td>\n",
       "      <td>0.0000</td>\n",
       "    </tr>\n",
       "    <tr>\n",
       "      <th>7</th>\n",
       "      <td>7</td>\n",
       "      <td>tweet_moderacy_polarisation</td>\n",
       "      <td>0.0000</td>\n",
       "    </tr>\n",
       "  </tbody>\n",
       "</table>\n",
       "</div>"
      ],
      "text/plain": [
       "   index                       Feature  importance\n",
       "0      0                      Retweets      0.6350\n",
       "1      4                      URLs_num      0.1881\n",
       "2      3                  Mentions_num      0.0847\n",
       "3      1                     Favorites      0.0460\n",
       "4      2                  Hashtags_num      0.0294\n",
       "5      5  tweet_political_polarisation      0.0168\n",
       "6      6    tweet_science_polarisation      0.0000\n",
       "7      7   tweet_moderacy_polarisation      0.0000"
      ]
     },
     "execution_count": 111,
     "metadata": {},
     "output_type": "execute_result"
    }
   ],
   "source": [
    "f_importances = features_classifier_tweetskb( X, y)\n",
    "f_importances"
   ]
  },
  {
   "cell_type": "code",
   "execution_count": 112,
   "id": "2851b993",
   "metadata": {},
   "outputs": [
    {
     "name": "stdout",
     "output_type": "stream",
     "text": [
      "['Retweets' 'URLs_num' 'Mentions_num' 'Favorites' 'Hashtags_num'\n",
      " 'tweet_political_polarisation']\n"
     ]
    }
   ],
   "source": [
    "f_importances = f_importances[f_importances['importance'] != 0.0]\n",
    "f_importances = f_importances.Feature.values\n",
    "print(f_importances)"
   ]
  },
  {
   "cell_type": "code",
   "execution_count": 113,
   "id": "cbacdc82",
   "metadata": {},
   "outputs": [
    {
     "name": "stdout",
     "output_type": "stream",
     "text": [
      "(20000, 6)\n",
      "(20000,)\n"
     ]
    }
   ],
   "source": [
    "X_new,y = get_X_y(df_tweetskb_user, f_importances)"
   ]
  },
  {
   "cell_type": "code",
   "execution_count": 116,
   "id": "a35f57ac",
   "metadata": {},
   "outputs": [
    {
     "name": "stdout",
     "output_type": "stream",
     "text": [
      " percision : 0.53 +/- 0.005\n",
      " f1        : 0.65 +/- 0.007\n",
      " recall    : 0.82 +/- 0.016\n"
     ]
    }
   ],
   "source": [
    "l_regression_best = LogisticRegression(C=0.0018329807108324356)\n",
    "\n",
    "print_cross_val_score(l_regression_best, X_new, y)"
   ]
  },
  {
   "cell_type": "code",
   "execution_count": 47,
   "id": "fe8d67af",
   "metadata": {},
   "outputs": [
    {
     "name": "stdout",
     "output_type": "stream",
     "text": [
      " percision : 0.53 +/- 0.001\n",
      " f1        : 0.65 +/- 0.002\n",
      " recall    : 0.85 +/- 0.006\n"
     ]
    }
   ],
   "source": [
    "l_regression_best = LogisticRegression(C=0.0018329807108324356)\n",
    "\n",
    "print_cross_val_score(l_regression_best, X, y)"
   ]
  },
  {
   "cell_type": "code",
   "execution_count": null,
   "id": "8d992e72",
   "metadata": {},
   "outputs": [],
   "source": []
  }
 ],
 "metadata": {
  "kernelspec": {
   "display_name": "Python 3",
   "language": "python",
   "name": "python3"
  },
  "language_info": {
   "codemirror_mode": {
    "name": "ipython",
    "version": 3
   },
   "file_extension": ".py",
   "mimetype": "text/x-python",
   "name": "python",
   "nbconvert_exporter": "python",
   "pygments_lexer": "ipython3",
   "version": "3.8.8"
  }
 },
 "nbformat": 4,
 "nbformat_minor": 5
}
