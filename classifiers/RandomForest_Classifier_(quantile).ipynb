{
 "cells": [
  {
   "cell_type": "code",
   "execution_count": 1,
   "id": "2f9c8f27",
   "metadata": {},
   "outputs": [],
   "source": [
    "import csv\n",
    "import pandas as pd\n",
    "import numpy as np\n",
    "import json\n",
    "import jsonlines\n",
    "import re\n",
    "from termcolor import colored\n",
    "csv.field_size_limit(100000000)\n",
    "\n",
    "from datetime import datetime\n",
    "import os\n",
    "import matplotlib.pyplot as plt\n",
    "import seaborn as sns\n",
    "import pickle\n",
    "\n",
    "import shap\n",
    "\n",
    "from sklearn.model_selection import train_test_split\n",
    "from sklearn.dummy import DummyClassifier\n",
    "from sklearn.metrics import accuracy_score, confusion_matrix, classification_report, log_loss\n",
    "from sklearn.model_selection import cross_val_score\n",
    "\n",
    "from sklearn.ensemble import RandomForestClassifier\n",
    "from sklearn.feature_selection import SelectFromModel\n",
    "from sklearn.feature_selection import RFE\n",
    "from sklearn.ensemble import GradientBoostingClassifier\n",
    "from sklearn.model_selection import GridSearchCV\n",
    "\n",
    "try:\n",
    "    from urllib.parse import urlparse\n",
    "except ImportError:\n",
    "     from urlparse import urlparse\n",
    "%matplotlib inline \n",
    "\n",
    "import matplotlib.dates as mdates\n",
    "import matplotlib.ticker as tick\n",
    "\n",
    "import warnings\n",
    "warnings.filterwarnings(\"ignore\")\n",
    "\n",
    "pd.options.display.max_columns = None\n",
    "pd.options.display.max_rows = None\n",
    "\n",
    "pd.options.display.float_format = '{:.4f}'.format\n",
    "\n",
    "from sklearn.metrics import precision_score\n",
    "from sklearn.metrics import recall_score\n",
    "from sklearn.metrics import f1_score"
   ]
  },
  {
   "cell_type": "markdown",
   "id": "4607a189",
   "metadata": {},
   "source": [
    " "
   ]
  },
  {
   "cell_type": "markdown",
   "id": "05d12dca",
   "metadata": {},
   "source": [
    "# RandomForestClassifier\n",
    "## TweetsCov19\n",
    "### (Tweet content + user features)"
   ]
  },
  {
   "cell_type": "code",
   "execution_count": 19,
   "id": "99c615e7",
   "metadata": {},
   "outputs": [
    {
     "name": "stdout",
     "output_type": "stream",
     "text": [
      "Shape : (20000, 18)\n"
     ]
    },
    {
     "data": {
      "text/html": [
       "<div>\n",
       "<style scoped>\n",
       "    .dataframe tbody tr th:only-of-type {\n",
       "        vertical-align: middle;\n",
       "    }\n",
       "\n",
       "    .dataframe tbody tr th {\n",
       "        vertical-align: top;\n",
       "    }\n",
       "\n",
       "    .dataframe thead th {\n",
       "        text-align: right;\n",
       "    }\n",
       "</style>\n",
       "<table border=\"1\" class=\"dataframe\">\n",
       "  <thead>\n",
       "    <tr style=\"text-align: right;\">\n",
       "      <th></th>\n",
       "      <th>Tweet_Id</th>\n",
       "      <th>Username</th>\n",
       "      <th>Retweets</th>\n",
       "      <th>Favorites</th>\n",
       "      <th>Hashtags_num</th>\n",
       "      <th>Mentions_num</th>\n",
       "      <th>URLs_num</th>\n",
       "      <th>tweet_political_polarisation</th>\n",
       "      <th>tweet_science_polarisation</th>\n",
       "      <th>tweet_moderacy_polarisation</th>\n",
       "      <th>user_political_polarisation</th>\n",
       "      <th>user_science_polarisation</th>\n",
       "      <th>user_moderacy_polarisation</th>\n",
       "      <th>user_posted_tweets</th>\n",
       "      <th>user_deleted_tweets</th>\n",
       "      <th>user_Deletion_ratio</th>\n",
       "      <th>user_Reputation</th>\n",
       "      <th>Is_deleted</th>\n",
       "    </tr>\n",
       "  </thead>\n",
       "  <tbody>\n",
       "    <tr>\n",
       "      <th>0</th>\n",
       "      <td>1251062002522324992</td>\n",
       "      <td>1b2c6c119645fd30f59e82204f9fad0c</td>\n",
       "      <td>0</td>\n",
       "      <td>0</td>\n",
       "      <td>1</td>\n",
       "      <td>0</td>\n",
       "      <td>0</td>\n",
       "      <td>0.0000</td>\n",
       "      <td>0.0000</td>\n",
       "      <td>0.0000</td>\n",
       "      <td>0.0000</td>\n",
       "      <td>0.0000</td>\n",
       "      <td>0.0000</td>\n",
       "      <td>4</td>\n",
       "      <td>4</td>\n",
       "      <td>1.0000</td>\n",
       "      <td>0.4557</td>\n",
       "      <td>True</td>\n",
       "    </tr>\n",
       "    <tr>\n",
       "      <th>1</th>\n",
       "      <td>1239315254447935488</td>\n",
       "      <td>93eb5ce04c313422a7d8cd2d2b3645d3</td>\n",
       "      <td>2</td>\n",
       "      <td>23</td>\n",
       "      <td>0</td>\n",
       "      <td>0</td>\n",
       "      <td>1</td>\n",
       "      <td>0.0000</td>\n",
       "      <td>0.0000</td>\n",
       "      <td>0.0000</td>\n",
       "      <td>0.0000</td>\n",
       "      <td>0.0000</td>\n",
       "      <td>0.0000</td>\n",
       "      <td>10</td>\n",
       "      <td>10</td>\n",
       "      <td>1.0000</td>\n",
       "      <td>0.9991</td>\n",
       "      <td>True</td>\n",
       "    </tr>\n",
       "    <tr>\n",
       "      <th>2</th>\n",
       "      <td>1221407834660921344</td>\n",
       "      <td>47eedb5b934285524e8268db666cb978</td>\n",
       "      <td>5</td>\n",
       "      <td>35</td>\n",
       "      <td>0</td>\n",
       "      <td>0</td>\n",
       "      <td>1</td>\n",
       "      <td>0.0000</td>\n",
       "      <td>0.0000</td>\n",
       "      <td>0.0000</td>\n",
       "      <td>0.0000</td>\n",
       "      <td>0.0000</td>\n",
       "      <td>0.0000</td>\n",
       "      <td>2</td>\n",
       "      <td>2</td>\n",
       "      <td>1.0000</td>\n",
       "      <td>0.6791</td>\n",
       "      <td>True</td>\n",
       "    </tr>\n",
       "    <tr>\n",
       "      <th>3</th>\n",
       "      <td>1266679393042092033</td>\n",
       "      <td>02ac4816b30dbb94aae77a22af2b626a</td>\n",
       "      <td>98</td>\n",
       "      <td>286</td>\n",
       "      <td>0</td>\n",
       "      <td>0</td>\n",
       "      <td>0</td>\n",
       "      <td>0.0000</td>\n",
       "      <td>0.0000</td>\n",
       "      <td>0.0000</td>\n",
       "      <td>0.0000</td>\n",
       "      <td>0.0000</td>\n",
       "      <td>0.0000</td>\n",
       "      <td>1</td>\n",
       "      <td>1</td>\n",
       "      <td>1.0000</td>\n",
       "      <td>0.1754</td>\n",
       "      <td>True</td>\n",
       "    </tr>\n",
       "    <tr>\n",
       "      <th>4</th>\n",
       "      <td>1256383353726664707</td>\n",
       "      <td>9595b8a5e5a56435a59885ca6b8ea9c0</td>\n",
       "      <td>0</td>\n",
       "      <td>0</td>\n",
       "      <td>0</td>\n",
       "      <td>0</td>\n",
       "      <td>1</td>\n",
       "      <td>0.0000</td>\n",
       "      <td>-1.0000</td>\n",
       "      <td>0.0000</td>\n",
       "      <td>0.0000</td>\n",
       "      <td>-1.0000</td>\n",
       "      <td>0.0000</td>\n",
       "      <td>1</td>\n",
       "      <td>1</td>\n",
       "      <td>1.0000</td>\n",
       "      <td>0.2100</td>\n",
       "      <td>True</td>\n",
       "    </tr>\n",
       "  </tbody>\n",
       "</table>\n",
       "</div>"
      ],
      "text/plain": [
       "              Tweet_Id                          Username  Retweets  Favorites  \\\n",
       "0  1251062002522324992  1b2c6c119645fd30f59e82204f9fad0c         0          0   \n",
       "1  1239315254447935488  93eb5ce04c313422a7d8cd2d2b3645d3         2         23   \n",
       "2  1221407834660921344  47eedb5b934285524e8268db666cb978         5         35   \n",
       "3  1266679393042092033  02ac4816b30dbb94aae77a22af2b626a        98        286   \n",
       "4  1256383353726664707  9595b8a5e5a56435a59885ca6b8ea9c0         0          0   \n",
       "\n",
       "   Hashtags_num  Mentions_num  URLs_num  tweet_political_polarisation  \\\n",
       "0             1             0         0                        0.0000   \n",
       "1             0             0         1                        0.0000   \n",
       "2             0             0         1                        0.0000   \n",
       "3             0             0         0                        0.0000   \n",
       "4             0             0         1                        0.0000   \n",
       "\n",
       "   tweet_science_polarisation  tweet_moderacy_polarisation  \\\n",
       "0                      0.0000                       0.0000   \n",
       "1                      0.0000                       0.0000   \n",
       "2                      0.0000                       0.0000   \n",
       "3                      0.0000                       0.0000   \n",
       "4                     -1.0000                       0.0000   \n",
       "\n",
       "   user_political_polarisation  user_science_polarisation  \\\n",
       "0                       0.0000                     0.0000   \n",
       "1                       0.0000                     0.0000   \n",
       "2                       0.0000                     0.0000   \n",
       "3                       0.0000                     0.0000   \n",
       "4                       0.0000                    -1.0000   \n",
       "\n",
       "   user_moderacy_polarisation  user_posted_tweets  user_deleted_tweets  \\\n",
       "0                      0.0000                   4                    4   \n",
       "1                      0.0000                  10                   10   \n",
       "2                      0.0000                   2                    2   \n",
       "3                      0.0000                   1                    1   \n",
       "4                      0.0000                   1                    1   \n",
       "\n",
       "   user_Deletion_ratio  user_Reputation  Is_deleted  \n",
       "0               1.0000           0.4557        True  \n",
       "1               1.0000           0.9991        True  \n",
       "2               1.0000           0.6791        True  \n",
       "3               1.0000           0.1754        True  \n",
       "4               1.0000           0.2100        True  "
      ]
     },
     "execution_count": 19,
     "metadata": {},
     "output_type": "execute_result"
    }
   ],
   "source": [
    "path = '../data/df_tweetscov19_sample_20000_23_v2.tsv'\n",
    "\n",
    "df_tweetscov19_user = pd.read_csv(path, sep='\\t', error_bad_lines=False, names=['Tweet_Id', 'Username', 'Retweets', 'Favorites', 'Hashtags_num', 'Mentions_num', 'URLs_num', 'tweet_political_polarisation', 'tweet_science_polarisation', 'tweet_moderacy_polarisation', 'user_political_polarisation', 'user_science_polarisation', 'user_moderacy_polarisation', 'user_posted_tweets', 'user_deleted_tweets', 'user_Deletion_ratio', 'user_Reputation', 'Is_deleted' ])\n",
    "\n",
    "print('Shape :', df_tweetscov19_user.shape)\n",
    "df_tweetscov19_user.head()"
   ]
  },
  {
   "cell_type": "code",
   "execution_count": 20,
   "id": "d32b706e",
   "metadata": {},
   "outputs": [
    {
     "name": "stdout",
     "output_type": "stream",
     "text": [
      "Shape:  (20000, 18)\n"
     ]
    },
    {
     "data": {
      "text/html": [
       "<div>\n",
       "<style scoped>\n",
       "    .dataframe tbody tr th:only-of-type {\n",
       "        vertical-align: middle;\n",
       "    }\n",
       "\n",
       "    .dataframe tbody tr th {\n",
       "        vertical-align: top;\n",
       "    }\n",
       "\n",
       "    .dataframe thead th {\n",
       "        text-align: right;\n",
       "    }\n",
       "</style>\n",
       "<table border=\"1\" class=\"dataframe\">\n",
       "  <thead>\n",
       "    <tr style=\"text-align: right;\">\n",
       "      <th></th>\n",
       "      <th>Tweet_Id</th>\n",
       "      <th>Username</th>\n",
       "      <th>Retweets</th>\n",
       "      <th>Favorites</th>\n",
       "      <th>Hashtags_num</th>\n",
       "      <th>Mentions_num</th>\n",
       "      <th>URLs_num</th>\n",
       "      <th>tweet_political_polarisation</th>\n",
       "      <th>tweet_science_polarisation</th>\n",
       "      <th>tweet_moderacy_polarisation</th>\n",
       "      <th>user_political_polarisation</th>\n",
       "      <th>user_science_polarisation</th>\n",
       "      <th>user_moderacy_polarisation</th>\n",
       "      <th>user_posted_tweets</th>\n",
       "      <th>user_deleted_tweets</th>\n",
       "      <th>user_Deletion_ratio</th>\n",
       "      <th>user_Reputation</th>\n",
       "      <th>Is_deleted</th>\n",
       "    </tr>\n",
       "  </thead>\n",
       "  <tbody>\n",
       "    <tr>\n",
       "      <th>0</th>\n",
       "      <td>1184511338757967879</td>\n",
       "      <td>9b44b8b6c5a9889664d6cd7ce2802e3f</td>\n",
       "      <td>2</td>\n",
       "      <td>4</td>\n",
       "      <td>2</td>\n",
       "      <td>0</td>\n",
       "      <td>0</td>\n",
       "      <td>0.0000</td>\n",
       "      <td>0.0000</td>\n",
       "      <td>0.0000</td>\n",
       "      <td>0.0000</td>\n",
       "      <td>0.0000</td>\n",
       "      <td>0.0000</td>\n",
       "      <td>2</td>\n",
       "      <td>0</td>\n",
       "      <td>0.0000</td>\n",
       "      <td>0.7202</td>\n",
       "      <td>False</td>\n",
       "    </tr>\n",
       "    <tr>\n",
       "      <th>1</th>\n",
       "      <td>1266906313025617923</td>\n",
       "      <td>65330ebcf5f4eb42bff5d737d4db3b6a</td>\n",
       "      <td>0</td>\n",
       "      <td>0</td>\n",
       "      <td>0</td>\n",
       "      <td>0</td>\n",
       "      <td>0</td>\n",
       "      <td>0.0000</td>\n",
       "      <td>0.0000</td>\n",
       "      <td>0.0000</td>\n",
       "      <td>0.0000</td>\n",
       "      <td>0.0000</td>\n",
       "      <td>0.0000</td>\n",
       "      <td>2</td>\n",
       "      <td>2</td>\n",
       "      <td>1.0000</td>\n",
       "      <td>0.7107</td>\n",
       "      <td>True</td>\n",
       "    </tr>\n",
       "    <tr>\n",
       "      <th>2</th>\n",
       "      <td>1266393051854966784</td>\n",
       "      <td>71a06fba077c76f2281c8bd4460f8041</td>\n",
       "      <td>0</td>\n",
       "      <td>0</td>\n",
       "      <td>0</td>\n",
       "      <td>0</td>\n",
       "      <td>0</td>\n",
       "      <td>0.0000</td>\n",
       "      <td>0.0000</td>\n",
       "      <td>0.0000</td>\n",
       "      <td>0.0000</td>\n",
       "      <td>0.0000</td>\n",
       "      <td>0.0000</td>\n",
       "      <td>3</td>\n",
       "      <td>1</td>\n",
       "      <td>0.3333</td>\n",
       "      <td>0.3792</td>\n",
       "      <td>True</td>\n",
       "    </tr>\n",
       "    <tr>\n",
       "      <th>3</th>\n",
       "      <td>1264181154522914818</td>\n",
       "      <td>413ff837abbff8fa8ea64571afcc451d</td>\n",
       "      <td>2</td>\n",
       "      <td>2</td>\n",
       "      <td>0</td>\n",
       "      <td>44</td>\n",
       "      <td>0</td>\n",
       "      <td>0.0000</td>\n",
       "      <td>0.0000</td>\n",
       "      <td>0.0000</td>\n",
       "      <td>0.0000</td>\n",
       "      <td>0.0000</td>\n",
       "      <td>0.0000</td>\n",
       "      <td>8</td>\n",
       "      <td>8</td>\n",
       "      <td>1.0000</td>\n",
       "      <td>0.5436</td>\n",
       "      <td>True</td>\n",
       "    </tr>\n",
       "    <tr>\n",
       "      <th>4</th>\n",
       "      <td>1242554112685768705</td>\n",
       "      <td>34f1f395fa112af3d3a92e97e421ba5c</td>\n",
       "      <td>0</td>\n",
       "      <td>0</td>\n",
       "      <td>0</td>\n",
       "      <td>41</td>\n",
       "      <td>0</td>\n",
       "      <td>0.0000</td>\n",
       "      <td>0.0000</td>\n",
       "      <td>0.0000</td>\n",
       "      <td>0.0000</td>\n",
       "      <td>0.0000</td>\n",
       "      <td>0.0000</td>\n",
       "      <td>1</td>\n",
       "      <td>0</td>\n",
       "      <td>0.0000</td>\n",
       "      <td>0.4200</td>\n",
       "      <td>False</td>\n",
       "    </tr>\n",
       "  </tbody>\n",
       "</table>\n",
       "</div>"
      ],
      "text/plain": [
       "              Tweet_Id                          Username  Retweets  Favorites  \\\n",
       "0  1184511338757967879  9b44b8b6c5a9889664d6cd7ce2802e3f         2          4   \n",
       "1  1266906313025617923  65330ebcf5f4eb42bff5d737d4db3b6a         0          0   \n",
       "2  1266393051854966784  71a06fba077c76f2281c8bd4460f8041         0          0   \n",
       "3  1264181154522914818  413ff837abbff8fa8ea64571afcc451d         2          2   \n",
       "4  1242554112685768705  34f1f395fa112af3d3a92e97e421ba5c         0          0   \n",
       "\n",
       "   Hashtags_num  Mentions_num  URLs_num  tweet_political_polarisation  \\\n",
       "0             2             0         0                        0.0000   \n",
       "1             0             0         0                        0.0000   \n",
       "2             0             0         0                        0.0000   \n",
       "3             0            44         0                        0.0000   \n",
       "4             0            41         0                        0.0000   \n",
       "\n",
       "   tweet_science_polarisation  tweet_moderacy_polarisation  \\\n",
       "0                      0.0000                       0.0000   \n",
       "1                      0.0000                       0.0000   \n",
       "2                      0.0000                       0.0000   \n",
       "3                      0.0000                       0.0000   \n",
       "4                      0.0000                       0.0000   \n",
       "\n",
       "   user_political_polarisation  user_science_polarisation  \\\n",
       "0                       0.0000                     0.0000   \n",
       "1                       0.0000                     0.0000   \n",
       "2                       0.0000                     0.0000   \n",
       "3                       0.0000                     0.0000   \n",
       "4                       0.0000                     0.0000   \n",
       "\n",
       "   user_moderacy_polarisation  user_posted_tweets  user_deleted_tweets  \\\n",
       "0                      0.0000                   2                    0   \n",
       "1                      0.0000                   2                    2   \n",
       "2                      0.0000                   3                    1   \n",
       "3                      0.0000                   8                    8   \n",
       "4                      0.0000                   1                    0   \n",
       "\n",
       "   user_Deletion_ratio  user_Reputation  Is_deleted  \n",
       "0               0.0000           0.7202       False  \n",
       "1               1.0000           0.7107        True  \n",
       "2               0.3333           0.3792        True  \n",
       "3               1.0000           0.5436        True  \n",
       "4               0.0000           0.4200       False  "
      ]
     },
     "execution_count": 20,
     "metadata": {},
     "output_type": "execute_result"
    }
   ],
   "source": [
    "df_tweetscov19_user = df_tweetscov19_user.sample(frac=1).reset_index(drop=True)\n",
    "\n",
    "print('Shape: ', df_tweetscov19_user.shape)\n",
    "df_tweetscov19_user.head()"
   ]
  },
  {
   "cell_type": "code",
   "execution_count": 21,
   "id": "47c54c9e",
   "metadata": {},
   "outputs": [
    {
     "data": {
      "text/plain": [
       "Index(['Tweet_Id', 'Username', 'Retweets', 'Favorites', 'Hashtags_num',\n",
       "       'Mentions_num', 'URLs_num', 'tweet_political_polarisation',\n",
       "       'tweet_science_polarisation', 'tweet_moderacy_polarisation',\n",
       "       'user_political_polarisation', 'user_science_polarisation',\n",
       "       'user_moderacy_polarisation', 'user_posted_tweets',\n",
       "       'user_deleted_tweets', 'user_Deletion_ratio', 'user_Reputation',\n",
       "       'Is_deleted'],\n",
       "      dtype='object')"
      ]
     },
     "execution_count": 21,
     "metadata": {},
     "output_type": "execute_result"
    }
   ],
   "source": [
    "features = df_tweetscov19_user.columns\n",
    "features"
   ]
  },
  {
   "cell_type": "code",
   "execution_count": 22,
   "id": "aec9cb9e",
   "metadata": {},
   "outputs": [
    {
     "data": {
      "text/html": [
       "<div>\n",
       "<style scoped>\n",
       "    .dataframe tbody tr th:only-of-type {\n",
       "        vertical-align: middle;\n",
       "    }\n",
       "\n",
       "    .dataframe tbody tr th {\n",
       "        vertical-align: top;\n",
       "    }\n",
       "\n",
       "    .dataframe thead th {\n",
       "        text-align: right;\n",
       "    }\n",
       "</style>\n",
       "<table border=\"1\" class=\"dataframe\">\n",
       "  <thead>\n",
       "    <tr style=\"text-align: right;\">\n",
       "      <th></th>\n",
       "      <th>Tweet_Id</th>\n",
       "      <th>Username</th>\n",
       "      <th>Retweets</th>\n",
       "      <th>Favorites</th>\n",
       "      <th>Hashtags_num</th>\n",
       "      <th>Mentions_num</th>\n",
       "      <th>URLs_num</th>\n",
       "      <th>tweet_political_polarisation</th>\n",
       "      <th>tweet_science_polarisation</th>\n",
       "      <th>tweet_moderacy_polarisation</th>\n",
       "      <th>user_political_polarisation</th>\n",
       "      <th>user_science_polarisation</th>\n",
       "      <th>user_moderacy_polarisation</th>\n",
       "      <th>user_posted_tweets</th>\n",
       "      <th>user_deleted_tweets</th>\n",
       "      <th>user_Deletion_ratio</th>\n",
       "      <th>user_Reputation</th>\n",
       "      <th>Is_deleted</th>\n",
       "    </tr>\n",
       "  </thead>\n",
       "  <tbody>\n",
       "    <tr>\n",
       "      <th>0</th>\n",
       "      <td>1184511338757967879</td>\n",
       "      <td>9b44b8b6c5a9889664d6cd7ce2802e3f</td>\n",
       "      <td>2</td>\n",
       "      <td>4</td>\n",
       "      <td>2</td>\n",
       "      <td>0</td>\n",
       "      <td>0</td>\n",
       "      <td>0.0000</td>\n",
       "      <td>0.0000</td>\n",
       "      <td>0.0000</td>\n",
       "      <td>0.0000</td>\n",
       "      <td>0.0000</td>\n",
       "      <td>0.0000</td>\n",
       "      <td>2</td>\n",
       "      <td>0</td>\n",
       "      <td>0.0000</td>\n",
       "      <td>0.7202</td>\n",
       "      <td>0</td>\n",
       "    </tr>\n",
       "    <tr>\n",
       "      <th>1</th>\n",
       "      <td>1266906313025617923</td>\n",
       "      <td>65330ebcf5f4eb42bff5d737d4db3b6a</td>\n",
       "      <td>0</td>\n",
       "      <td>0</td>\n",
       "      <td>0</td>\n",
       "      <td>0</td>\n",
       "      <td>0</td>\n",
       "      <td>0.0000</td>\n",
       "      <td>0.0000</td>\n",
       "      <td>0.0000</td>\n",
       "      <td>0.0000</td>\n",
       "      <td>0.0000</td>\n",
       "      <td>0.0000</td>\n",
       "      <td>2</td>\n",
       "      <td>2</td>\n",
       "      <td>1.0000</td>\n",
       "      <td>0.7107</td>\n",
       "      <td>1</td>\n",
       "    </tr>\n",
       "    <tr>\n",
       "      <th>2</th>\n",
       "      <td>1266393051854966784</td>\n",
       "      <td>71a06fba077c76f2281c8bd4460f8041</td>\n",
       "      <td>0</td>\n",
       "      <td>0</td>\n",
       "      <td>0</td>\n",
       "      <td>0</td>\n",
       "      <td>0</td>\n",
       "      <td>0.0000</td>\n",
       "      <td>0.0000</td>\n",
       "      <td>0.0000</td>\n",
       "      <td>0.0000</td>\n",
       "      <td>0.0000</td>\n",
       "      <td>0.0000</td>\n",
       "      <td>3</td>\n",
       "      <td>1</td>\n",
       "      <td>0.3333</td>\n",
       "      <td>0.3792</td>\n",
       "      <td>1</td>\n",
       "    </tr>\n",
       "    <tr>\n",
       "      <th>3</th>\n",
       "      <td>1264181154522914818</td>\n",
       "      <td>413ff837abbff8fa8ea64571afcc451d</td>\n",
       "      <td>2</td>\n",
       "      <td>2</td>\n",
       "      <td>0</td>\n",
       "      <td>44</td>\n",
       "      <td>0</td>\n",
       "      <td>0.0000</td>\n",
       "      <td>0.0000</td>\n",
       "      <td>0.0000</td>\n",
       "      <td>0.0000</td>\n",
       "      <td>0.0000</td>\n",
       "      <td>0.0000</td>\n",
       "      <td>8</td>\n",
       "      <td>8</td>\n",
       "      <td>1.0000</td>\n",
       "      <td>0.5436</td>\n",
       "      <td>1</td>\n",
       "    </tr>\n",
       "    <tr>\n",
       "      <th>4</th>\n",
       "      <td>1242554112685768705</td>\n",
       "      <td>34f1f395fa112af3d3a92e97e421ba5c</td>\n",
       "      <td>0</td>\n",
       "      <td>0</td>\n",
       "      <td>0</td>\n",
       "      <td>41</td>\n",
       "      <td>0</td>\n",
       "      <td>0.0000</td>\n",
       "      <td>0.0000</td>\n",
       "      <td>0.0000</td>\n",
       "      <td>0.0000</td>\n",
       "      <td>0.0000</td>\n",
       "      <td>0.0000</td>\n",
       "      <td>1</td>\n",
       "      <td>0</td>\n",
       "      <td>0.0000</td>\n",
       "      <td>0.4200</td>\n",
       "      <td>0</td>\n",
       "    </tr>\n",
       "  </tbody>\n",
       "</table>\n",
       "</div>"
      ],
      "text/plain": [
       "              Tweet_Id                          Username  Retweets  Favorites  \\\n",
       "0  1184511338757967879  9b44b8b6c5a9889664d6cd7ce2802e3f         2          4   \n",
       "1  1266906313025617923  65330ebcf5f4eb42bff5d737d4db3b6a         0          0   \n",
       "2  1266393051854966784  71a06fba077c76f2281c8bd4460f8041         0          0   \n",
       "3  1264181154522914818  413ff837abbff8fa8ea64571afcc451d         2          2   \n",
       "4  1242554112685768705  34f1f395fa112af3d3a92e97e421ba5c         0          0   \n",
       "\n",
       "   Hashtags_num  Mentions_num  URLs_num  tweet_political_polarisation  \\\n",
       "0             2             0         0                        0.0000   \n",
       "1             0             0         0                        0.0000   \n",
       "2             0             0         0                        0.0000   \n",
       "3             0            44         0                        0.0000   \n",
       "4             0            41         0                        0.0000   \n",
       "\n",
       "   tweet_science_polarisation  tweet_moderacy_polarisation  \\\n",
       "0                      0.0000                       0.0000   \n",
       "1                      0.0000                       0.0000   \n",
       "2                      0.0000                       0.0000   \n",
       "3                      0.0000                       0.0000   \n",
       "4                      0.0000                       0.0000   \n",
       "\n",
       "   user_political_polarisation  user_science_polarisation  \\\n",
       "0                       0.0000                     0.0000   \n",
       "1                       0.0000                     0.0000   \n",
       "2                       0.0000                     0.0000   \n",
       "3                       0.0000                     0.0000   \n",
       "4                       0.0000                     0.0000   \n",
       "\n",
       "   user_moderacy_polarisation  user_posted_tweets  user_deleted_tweets  \\\n",
       "0                      0.0000                   2                    0   \n",
       "1                      0.0000                   2                    2   \n",
       "2                      0.0000                   3                    1   \n",
       "3                      0.0000                   8                    8   \n",
       "4                      0.0000                   1                    0   \n",
       "\n",
       "   user_Deletion_ratio  user_Reputation  Is_deleted  \n",
       "0               0.0000           0.7202           0  \n",
       "1               1.0000           0.7107           1  \n",
       "2               0.3333           0.3792           1  \n",
       "3               1.0000           0.5436           1  \n",
       "4               0.0000           0.4200           0  "
      ]
     },
     "execution_count": 22,
     "metadata": {},
     "output_type": "execute_result"
    }
   ],
   "source": [
    "df_tweetscov19_user['Is_deleted'] = np.where(df_tweetscov19_user['Is_deleted'] == True, 1, 0)\n",
    "df_tweetscov19_user.head()"
   ]
  },
  {
   "cell_type": "code",
   "execution_count": 23,
   "id": "8e230c2e",
   "metadata": {},
   "outputs": [],
   "source": [
    "#df_tweetscov19_user = df_tweetscov19_user.drop(columns=[ 'user_political_polarisation','user_science_polarisation.','user_moderacy_polarisation'])\n",
    "df_tweetscov19_user = df_tweetscov19_user.drop(columns=[ 'Tweet_Id', 'Username',  'user_posted_tweets', 'user_deleted_tweets', 'user_Deletion_ratio'])"
   ]
  },
  {
   "cell_type": "code",
   "execution_count": 2,
   "id": "063e12f7",
   "metadata": {},
   "outputs": [],
   "source": [
    "def get_X_y(df, features):\n",
    "    \n",
    "    if 'Is_deleted' not in features:\n",
    "        features = np.append(features, 'Is_deleted')\n",
    "        \n",
    "    df = df[features.tolist()]\n",
    "    X = df.drop('Is_deleted', axis=1)\n",
    "    y = df['Is_deleted']\n",
    "\n",
    "    y = y.astype(int)\n",
    "    print(X.shape)\n",
    "    print(y.shape)\n",
    "    \n",
    "    return X,y"
   ]
  },
  {
   "cell_type": "code",
   "execution_count": 25,
   "id": "e708bec3",
   "metadata": {},
   "outputs": [
    {
     "name": "stdout",
     "output_type": "stream",
     "text": [
      "(20000, 12)\n",
      "(20000,)\n"
     ]
    }
   ],
   "source": [
    "features = df_tweetscov19_user.columns\n",
    "X,y = get_X_y(df_tweetscov19_user, features)"
   ]
  },
  {
   "cell_type": "code",
   "execution_count": 3,
   "id": "7d6f3776",
   "metadata": {},
   "outputs": [],
   "source": [
    "def split_train_test_valid(X,y):\n",
    "    X_train, X_test, y_train, y_test = train_test_split(X, y, train_size=0.8, test_size=0.2, random_state=15)\n",
    "    #X_train, X_valid, y_train, y_valid = train_test_split(X_train, y_train, train_size=0.8, test_size=0.2, random_state=15)\n",
    "    print(X_train.shape)\n",
    "    print(X_test.shape)\n",
    "    #print(X_valid.shape)\n",
    "\n",
    "    print(y_train.shape)\n",
    "    print(y_test.shape)\n",
    "    #print(y_valid.shape)\n",
    "    return  X_train, X_test, y_train, y_test"
   ]
  },
  {
   "cell_type": "code",
   "execution_count": 27,
   "id": "b1468242",
   "metadata": {},
   "outputs": [
    {
     "name": "stdout",
     "output_type": "stream",
     "text": [
      "(16000, 12)\n",
      "(4000, 12)\n",
      "(16000,)\n",
      "(4000,)\n"
     ]
    }
   ],
   "source": [
    "X_train, X_test, y_train, y_test = split_train_test_valid(X,y)"
   ]
  },
  {
   "cell_type": "code",
   "execution_count": 4,
   "id": "1ffc83bf",
   "metadata": {},
   "outputs": [],
   "source": [
    "def fit_random_forest_clf(X,y):\n",
    "\n",
    "    clf = RandomForestClassifier( n_jobs=-1)\n",
    "    clf.fit(X,y)\n",
    "    return clf"
   ]
  },
  {
   "cell_type": "code",
   "execution_count": 5,
   "id": "af526609",
   "metadata": {},
   "outputs": [],
   "source": [
    "def test_random_forest_clf(model, X_test, y_test):\n",
    "    \n",
    "    y_pred = model.predict(X_test)\n",
    "    print('Accuracy :', accuracy_score(y_test, y_pred))\n",
    "    "
   ]
  },
  {
   "cell_type": "code",
   "execution_count": 30,
   "id": "a5e5a7d3",
   "metadata": {},
   "outputs": [],
   "source": [
    "rf_model = fit_random_forest_clf(X_train, y_train)"
   ]
  },
  {
   "cell_type": "code",
   "execution_count": 31,
   "id": "2d15b46d",
   "metadata": {},
   "outputs": [
    {
     "name": "stdout",
     "output_type": "stream",
     "text": [
      "Accuracy : 0.57925\n"
     ]
    }
   ],
   "source": [
    "test_random_forest_clf(rf_model, X_test, y_test)"
   ]
  },
  {
   "cell_type": "code",
   "execution_count": 32,
   "id": "bc1ba355",
   "metadata": {},
   "outputs": [
    {
     "name": "stdout",
     "output_type": "stream",
     "text": [
      "              precision    recall  f1-score   support\n",
      "\n",
      "           0       0.58      0.59      0.59      2024\n",
      "           1       0.58      0.56      0.57      1976\n",
      "\n",
      "    accuracy                           0.58      4000\n",
      "   macro avg       0.58      0.58      0.58      4000\n",
      "weighted avg       0.58      0.58      0.58      4000\n",
      "\n"
     ]
    }
   ],
   "source": [
    "y_pred = rf_model.predict(X_test)\n",
    "print(classification_report(y_test, y_pred))"
   ]
  },
  {
   "cell_type": "code",
   "execution_count": 6,
   "id": "a0fc9bff",
   "metadata": {},
   "outputs": [],
   "source": [
    "def plot_confusion_matrix(y_test, y_pred, classes, titel):\n",
    "    \n",
    "    confusion_mx = confusion_matrix(y_test, y_pred)\n",
    "    confusion_mx = confusion_mx / confusion_mx.sum(axis=1).reshape(-1,1)\n",
    "    \n",
    "    sns.heatmap(confusion_mx, xticklabels = classes, yticklabels = classes, annot=True)\n",
    "    plt.title(titel)\n",
    "    plt.ylabel('True label')\n",
    "    plt.xlabel('Predicted label')"
   ]
  },
  {
   "cell_type": "code",
   "execution_count": 34,
   "id": "eb762a42",
   "metadata": {},
   "outputs": [
    {
     "data": {
      "image/png": "[encoded data removed]",
      "text/plain": [
       "<Figure size 432x288 with 2 Axes>"
      ]
     },
     "metadata": {
      "needs_background": "light"
     },
     "output_type": "display_data"
    }
   ],
   "source": [
    "plot_confusion_matrix(y_test, y_pred, rf_model.classes_, 'Confusion Matrix')"
   ]
  },
  {
   "cell_type": "markdown",
   "id": "cd16d67d",
   "metadata": {},
   "source": [
    "***"
   ]
  },
  {
   "cell_type": "code",
   "execution_count": 7,
   "id": "0b564d06",
   "metadata": {},
   "outputs": [],
   "source": [
    "def features_classifier_(df, model):\n",
    "\n",
    "    column_feature = {}\n",
    "\n",
    "    for i, c in enumerate(df):\n",
    "        #print(c, '   ', decisionTC.feature_importances_[i])\n",
    "\n",
    "        column_feature[c] = model.feature_importances_[i]\n",
    "        #print(c)\n",
    "    df_column_feature = pd.DataFrame(column_feature.items(), columns=['Feature','importance'])\n",
    "    df_column_feature.sort_values(by = ['importance'], ascending = False, inplace = True)\n",
    "\n",
    "    df_column_feature = df_column_feature.reset_index()\n",
    "    df_column_feature\n",
    "    return df_column_feature"
   ]
  },
  {
   "cell_type": "code",
   "execution_count": 36,
   "id": "3e82bf82",
   "metadata": {},
   "outputs": [
    {
     "data": {
      "text/html": [
       "<div>\n",
       "<style scoped>\n",
       "    .dataframe tbody tr th:only-of-type {\n",
       "        vertical-align: middle;\n",
       "    }\n",
       "\n",
       "    .dataframe tbody tr th {\n",
       "        vertical-align: top;\n",
       "    }\n",
       "\n",
       "    .dataframe thead th {\n",
       "        text-align: right;\n",
       "    }\n",
       "</style>\n",
       "<table border=\"1\" class=\"dataframe\">\n",
       "  <thead>\n",
       "    <tr style=\"text-align: right;\">\n",
       "      <th></th>\n",
       "      <th>index</th>\n",
       "      <th>Feature</th>\n",
       "      <th>importance</th>\n",
       "    </tr>\n",
       "  </thead>\n",
       "  <tbody>\n",
       "    <tr>\n",
       "      <th>0</th>\n",
       "      <td>11</td>\n",
       "      <td>user_Reputation</td>\n",
       "      <td>0.2964</td>\n",
       "    </tr>\n",
       "    <tr>\n",
       "      <th>1</th>\n",
       "      <td>8</td>\n",
       "      <td>user_political_polarisation</td>\n",
       "      <td>0.1349</td>\n",
       "    </tr>\n",
       "    <tr>\n",
       "      <th>2</th>\n",
       "      <td>10</td>\n",
       "      <td>user_moderacy_polarisation</td>\n",
       "      <td>0.1312</td>\n",
       "    </tr>\n",
       "    <tr>\n",
       "      <th>3</th>\n",
       "      <td>0</td>\n",
       "      <td>Retweets</td>\n",
       "      <td>0.0992</td>\n",
       "    </tr>\n",
       "    <tr>\n",
       "      <th>4</th>\n",
       "      <td>1</td>\n",
       "      <td>Favorites</td>\n",
       "      <td>0.0918</td>\n",
       "    </tr>\n",
       "    <tr>\n",
       "      <th>5</th>\n",
       "      <td>4</td>\n",
       "      <td>URLs_num</td>\n",
       "      <td>0.0798</td>\n",
       "    </tr>\n",
       "    <tr>\n",
       "      <th>6</th>\n",
       "      <td>2</td>\n",
       "      <td>Hashtags_num</td>\n",
       "      <td>0.0681</td>\n",
       "    </tr>\n",
       "    <tr>\n",
       "      <th>7</th>\n",
       "      <td>3</td>\n",
       "      <td>Mentions_num</td>\n",
       "      <td>0.0447</td>\n",
       "    </tr>\n",
       "    <tr>\n",
       "      <th>8</th>\n",
       "      <td>9</td>\n",
       "      <td>user_science_polarisation</td>\n",
       "      <td>0.0234</td>\n",
       "    </tr>\n",
       "    <tr>\n",
       "      <th>9</th>\n",
       "      <td>5</td>\n",
       "      <td>tweet_political_polarisation</td>\n",
       "      <td>0.0152</td>\n",
       "    </tr>\n",
       "    <tr>\n",
       "      <th>10</th>\n",
       "      <td>7</td>\n",
       "      <td>tweet_moderacy_polarisation</td>\n",
       "      <td>0.0102</td>\n",
       "    </tr>\n",
       "    <tr>\n",
       "      <th>11</th>\n",
       "      <td>6</td>\n",
       "      <td>tweet_science_polarisation</td>\n",
       "      <td>0.0051</td>\n",
       "    </tr>\n",
       "  </tbody>\n",
       "</table>\n",
       "</div>"
      ],
      "text/plain": [
       "    index                       Feature  importance\n",
       "0      11               user_Reputation      0.2964\n",
       "1       8   user_political_polarisation      0.1349\n",
       "2      10    user_moderacy_polarisation      0.1312\n",
       "3       0                      Retweets      0.0992\n",
       "4       1                     Favorites      0.0918\n",
       "5       4                      URLs_num      0.0798\n",
       "6       2                  Hashtags_num      0.0681\n",
       "7       3                  Mentions_num      0.0447\n",
       "8       9     user_science_polarisation      0.0234\n",
       "9       5  tweet_political_polarisation      0.0152\n",
       "10      7   tweet_moderacy_polarisation      0.0102\n",
       "11      6    tweet_science_polarisation      0.0051"
      ]
     },
     "execution_count": 36,
     "metadata": {},
     "output_type": "execute_result"
    }
   ],
   "source": [
    "rf_model = RandomForestClassifier(n_estimators = 300, max_features = 'sqrt',max_depth = 10, min_samples_split = 8, min_samples_leaf=1, bootstrap = True, n_jobs=-1)\n",
    "\n",
    "rf_model.fit(X_train, y_train)\n",
    "\n",
    "f_importances = features_classifier_(X_train, rf_model)\n",
    "f_importances"
   ]
  },
  {
   "cell_type": "code",
   "execution_count": 37,
   "id": "34295779",
   "metadata": {},
   "outputs": [
    {
     "name": "stdout",
     "output_type": "stream",
     "text": [
      "['user_Reputation' 'user_political_polarisation'\n",
      " 'user_moderacy_polarisation' 'Retweets' 'Favorites' 'URLs_num'\n",
      " 'Hashtags_num' 'Mentions_num' 'user_science_polarisation'\n",
      " 'tweet_political_polarisation' 'tweet_moderacy_polarisation']\n"
     ]
    }
   ],
   "source": [
    "f_importances = f_importances[f_importances['importance'] > 0.008]\n",
    "f_importances = f_importances.Feature.values\n",
    "print(f_importances)"
   ]
  },
  {
   "cell_type": "code",
   "execution_count": 38,
   "id": "0ae06c07",
   "metadata": {},
   "outputs": [
    {
     "data": {
      "text/plain": [
       "11"
      ]
     },
     "execution_count": 38,
     "metadata": {},
     "output_type": "execute_result"
    }
   ],
   "source": [
    "len(f_importances)"
   ]
  },
  {
   "cell_type": "code",
   "execution_count": 39,
   "id": "e1438a92",
   "metadata": {},
   "outputs": [
    {
     "name": "stdout",
     "output_type": "stream",
     "text": [
      "(20000, 11)\n",
      "(20000,)\n"
     ]
    }
   ],
   "source": [
    "X_new,y = get_X_y(df_tweetscov19_user, f_importances)"
   ]
  },
  {
   "cell_type": "code",
   "execution_count": 24,
   "id": "29f857a4",
   "metadata": {},
   "outputs": [],
   "source": [
    "def print_cross_val_score(model, X, y):\n",
    "    scores = cross_val_score(model, X, y, cv=10, scoring='precision')\n",
    "    print(\" percision : %0.2f +/- %0.3f\" % (scores.mean(), scores.std()))\n",
    "    scores = cross_val_score(model, X, y, cv=10, scoring='f1')\n",
    "    print(\" f1        : %0.2f +/- %0.3f\" % (scores.mean(), scores.std()))\n",
    "    scores = cross_val_score(model, X, y, cv=10, scoring='recall')\n",
    "    print(\" recall    : %0.2f +/- %0.3f\" % (scores.mean(), scores.std()))"
   ]
  },
  {
   "cell_type": "code",
   "execution_count": 41,
   "id": "974f9cd5",
   "metadata": {},
   "outputs": [
    {
     "name": "stdout",
     "output_type": "stream",
     "text": [
      " percision : 0.59 +/- 0.011\n",
      " f1        : 0.68 +/- 0.013\n",
      " recall    : 0.79 +/- 0.021\n",
      "Wall time: 24.3 s\n"
     ]
    }
   ],
   "source": [
    "%%time\n",
    "clf_cv = RandomForestClassifier(n_estimators = 300, max_features = 'sqrt',max_depth = 10, min_samples_split = 8, min_samples_leaf=1, bootstrap = True, n_jobs=-1)\n",
    "print_cross_val_score(clf_cv, X_new, y)"
   ]
  },
  {
   "cell_type": "code",
   "execution_count": 42,
   "id": "a288406b",
   "metadata": {},
   "outputs": [
    {
     "name": "stdout",
     "output_type": "stream",
     "text": [
      " percision : 0.60 +/- 0.010\n",
      " f1        : 0.68 +/- 0.013\n",
      " recall    : 0.79 +/- 0.022\n",
      "Wall time: 22.1 s\n"
     ]
    }
   ],
   "source": [
    "%%time\n",
    "clf_cv = RandomForestClassifier(n_estimators = 300, max_features = 'sqrt',max_depth = 10, min_samples_split = 8, min_samples_leaf=1, bootstrap = True, n_jobs=-1)\n",
    "print_cross_val_score(clf_cv, X, y)"
   ]
  },
  {
   "cell_type": "markdown",
   "id": "9c4fce52",
   "metadata": {},
   "source": [
    "******"
   ]
  },
  {
   "cell_type": "markdown",
   "id": "d8d67891",
   "metadata": {},
   "source": [
    "***"
   ]
  },
  {
   "cell_type": "markdown",
   "id": "a5b92e58",
   "metadata": {},
   "source": [
    "****"
   ]
  },
  {
   "cell_type": "code",
   "execution_count": 43,
   "id": "b724cbfd",
   "metadata": {},
   "outputs": [],
   "source": [
    "n_estimators = [100, 200, 300, 400, 500, 1000]\n",
    "max_features = ['sqrt', 'log2', 'auto']\n",
    "max_depth =  [2,4,6,8,10]\n",
    "min_samples_split = [2,4,8]\n",
    "min_samples_leaf = [1,2,4]\n",
    "bootstrap = [True, False]"
   ]
  },
  {
   "cell_type": "code",
   "execution_count": 44,
   "id": "73e1ba39",
   "metadata": {},
   "outputs": [
    {
     "name": "stdout",
     "output_type": "stream",
     "text": [
      "{'n_estimators': [100, 200, 300, 400, 500, 1000], 'max_features': ['sqrt', 'log2', 'auto'], 'max_depth': [2, 4, 6, 8, 10], 'min_samples_split': [2, 4, 8], 'min_samples_leaf': [1, 2, 4], 'bootstrap': [True, False]}\n"
     ]
    }
   ],
   "source": [
    "param_grid = {'n_estimators' : n_estimators,\n",
    "              'max_features' : max_features,\n",
    "              'max_depth' : max_depth,\n",
    "              'min_samples_split' : min_samples_split,\n",
    "              'min_samples_leaf' : min_samples_leaf,\n",
    "              'bootstrap' : bootstrap}\n",
    "print(param_grid)"
   ]
  },
  {
   "cell_type": "code",
   "execution_count": 28,
   "id": "0cdbd135",
   "metadata": {},
   "outputs": [],
   "source": [
    "rf_model = RandomForestClassifier()"
   ]
  },
  {
   "cell_type": "code",
   "execution_count": 31,
   "id": "7120c522",
   "metadata": {},
   "outputs": [
    {
     "name": "stdout",
     "output_type": "stream",
     "text": [
      "Fitting 3 folds for each of 1620 candidates, totalling 4860 fits\n",
      "Wall time: 1h 8min 34s\n"
     ]
    },
    {
     "data": {
      "text/html": [
       "<style>#sk-container-id-1 {color: black;background-color: white;}#sk-container-id-1 pre{padding: 0;}#sk-container-id-1 div.sk-toggleable {background-color: white;}#sk-container-id-1 label.sk-toggleable__label {cursor: pointer;display: block;width: 100%;margin-bottom: 0;padding: 0.3em;box-sizing: border-box;text-align: center;}#sk-container-id-1 label.sk-toggleable__label-arrow:before {content: \"▸\";float: left;margin-right: 0.25em;color: #696969;}#sk-container-id-1 label.sk-toggleable__label-arrow:hover:before {color: black;}#sk-container-id-1 div.sk-estimator:hover label.sk-toggleable__label-arrow:before {color: black;}#sk-container-id-1 div.sk-toggleable__content {max-height: 0;max-width: 0;overflow: hidden;text-align: left;background-color: #f0f8ff;}#sk-container-id-1 div.sk-toggleable__content pre {margin: 0.2em;color: black;border-radius: 0.25em;background-color: #f0f8ff;}#sk-container-id-1 input.sk-toggleable__control:checked~div.sk-toggleable__content {max-height: 200px;max-width: 100%;overflow: auto;}#sk-container-id-1 input.sk-toggleable__control:checked~label.sk-toggleable__label-arrow:before {content: \"▾\";}#sk-container-id-1 div.sk-estimator input.sk-toggleable__control:checked~label.sk-toggleable__label {background-color: #d4ebff;}#sk-container-id-1 div.sk-label input.sk-toggleable__control:checked~label.sk-toggleable__label {background-color: #d4ebff;}#sk-container-id-1 input.sk-hidden--visually {border: 0;clip: rect(1px 1px 1px 1px);clip: rect(1px, 1px, 1px, 1px);height: 1px;margin: -1px;overflow: hidden;padding: 0;position: absolute;width: 1px;}#sk-container-id-1 div.sk-estimator {font-family: monospace;background-color: #f0f8ff;border: 1px dotted black;border-radius: 0.25em;box-sizing: border-box;margin-bottom: 0.5em;}#sk-container-id-1 div.sk-estimator:hover {background-color: #d4ebff;}#sk-container-id-1 div.sk-parallel-item::after {content: \"\";width: 100%;border-bottom: 1px solid gray;flex-grow: 1;}#sk-container-id-1 div.sk-label:hover label.sk-toggleable__label {background-color: #d4ebff;}#sk-container-id-1 div.sk-serial::before {content: \"\";position: absolute;border-left: 1px solid gray;box-sizing: border-box;top: 0;bottom: 0;left: 50%;z-index: 0;}#sk-container-id-1 div.sk-serial {display: flex;flex-direction: column;align-items: center;background-color: white;padding-right: 0.2em;padding-left: 0.2em;position: relative;}#sk-container-id-1 div.sk-item {position: relative;z-index: 1;}#sk-container-id-1 div.sk-parallel {display: flex;align-items: stretch;justify-content: center;background-color: white;position: relative;}#sk-container-id-1 div.sk-item::before, #sk-container-id-1 div.sk-parallel-item::before {content: \"\";position: absolute;border-left: 1px solid gray;box-sizing: border-box;top: 0;bottom: 0;left: 50%;z-index: -1;}#sk-container-id-1 div.sk-parallel-item {display: flex;flex-direction: column;z-index: 1;position: relative;background-color: white;}#sk-container-id-1 div.sk-parallel-item:first-child::after {align-self: flex-end;width: 50%;}#sk-container-id-1 div.sk-parallel-item:last-child::after {align-self: flex-start;width: 50%;}#sk-container-id-1 div.sk-parallel-item:only-child::after {width: 0;}#sk-container-id-1 div.sk-dashed-wrapped {border: 1px dashed gray;margin: 0 0.4em 0.5em 0.4em;box-sizing: border-box;padding-bottom: 0.4em;background-color: white;}#sk-container-id-1 div.sk-label label {font-family: monospace;font-weight: bold;display: inline-block;line-height: 1.2em;}#sk-container-id-1 div.sk-label-container {text-align: center;}#sk-container-id-1 div.sk-container {/* jupyter's `normalize.less` sets `[hidden] { display: none; }` but bootstrap.min.css set `[hidden] { display: none !important; }` so we also need the `!important` here to be able to override the default hidden behavior on the sphinx rendered scikit-learn.org. See: https://github.com/scikit-learn/scikit-learn/issues/21755 */display: inline-block !important;position: relative;}#sk-container-id-1 div.sk-text-repr-fallback {display: none;}</style><div id=\"sk-container-id-1\" class=\"sk-top-container\"><div class=\"sk-text-repr-fallback\"><pre>GridSearchCV(cv=3, estimator=RandomForestClassifier(), n_jobs=-1,\n",
       "             param_grid={&#x27;bootstrap&#x27;: [True, False],\n",
       "                         &#x27;max_depth&#x27;: [2, 4, 6, 8, 10],\n",
       "                         &#x27;max_features&#x27;: [&#x27;sqrt&#x27;, &#x27;log2&#x27;, &#x27;auto&#x27;],\n",
       "                         &#x27;min_samples_leaf&#x27;: [1, 2, 4],\n",
       "                         &#x27;min_samples_split&#x27;: [2, 4, 8],\n",
       "                         &#x27;n_estimators&#x27;: [100, 200, 300, 400, 500, 1000]},\n",
       "             verbose=2)</pre><b>In a Jupyter environment, please rerun this cell to show the HTML representation or trust the notebook. <br />On GitHub, the HTML representation is unable to render, please try loading this page with nbviewer.org.</b></div><div class=\"sk-container\" hidden><div class=\"sk-item sk-dashed-wrapped\"><div class=\"sk-label-container\"><div class=\"sk-label sk-toggleable\"><input class=\"sk-toggleable__control sk-hidden--visually\" id=\"sk-estimator-id-1\" type=\"checkbox\" ><label for=\"sk-estimator-id-1\" class=\"sk-toggleable__label sk-toggleable__label-arrow\">GridSearchCV</label><div class=\"sk-toggleable__content\"><pre>GridSearchCV(cv=3, estimator=RandomForestClassifier(), n_jobs=-1,\n",
       "             param_grid={&#x27;bootstrap&#x27;: [True, False],\n",
       "                         &#x27;max_depth&#x27;: [2, 4, 6, 8, 10],\n",
       "                         &#x27;max_features&#x27;: [&#x27;sqrt&#x27;, &#x27;log2&#x27;, &#x27;auto&#x27;],\n",
       "                         &#x27;min_samples_leaf&#x27;: [1, 2, 4],\n",
       "                         &#x27;min_samples_split&#x27;: [2, 4, 8],\n",
       "                         &#x27;n_estimators&#x27;: [100, 200, 300, 400, 500, 1000]},\n",
       "             verbose=2)</pre></div></div></div><div class=\"sk-parallel\"><div class=\"sk-parallel-item\"><div class=\"sk-item\"><div class=\"sk-label-container\"><div class=\"sk-label sk-toggleable\"><input class=\"sk-toggleable__control sk-hidden--visually\" id=\"sk-estimator-id-2\" type=\"checkbox\" ><label for=\"sk-estimator-id-2\" class=\"sk-toggleable__label sk-toggleable__label-arrow\">estimator: RandomForestClassifier</label><div class=\"sk-toggleable__content\"><pre>RandomForestClassifier()</pre></div></div></div><div class=\"sk-serial\"><div class=\"sk-item\"><div class=\"sk-estimator sk-toggleable\"><input class=\"sk-toggleable__control sk-hidden--visually\" id=\"sk-estimator-id-3\" type=\"checkbox\" ><label for=\"sk-estimator-id-3\" class=\"sk-toggleable__label sk-toggleable__label-arrow\">RandomForestClassifier</label><div class=\"sk-toggleable__content\"><pre>RandomForestClassifier()</pre></div></div></div></div></div></div></div></div></div></div>"
      ],
      "text/plain": [
       "GridSearchCV(cv=3, estimator=RandomForestClassifier(), n_jobs=-1,\n",
       "             param_grid={'bootstrap': [True, False],\n",
       "                         'max_depth': [2, 4, 6, 8, 10],\n",
       "                         'max_features': ['sqrt', 'log2', 'auto'],\n",
       "                         'min_samples_leaf': [1, 2, 4],\n",
       "                         'min_samples_split': [2, 4, 8],\n",
       "                         'n_estimators': [100, 200, 300, 400, 500, 1000]},\n",
       "             verbose=2)"
      ]
     },
     "execution_count": 31,
     "metadata": {},
     "output_type": "execute_result"
    }
   ],
   "source": [
    "%%time\n",
    "clf_grid = GridSearchCV(rf_model, param_grid = param_grid, cv = 3, verbose = 2, n_jobs = -1)\n",
    "clf_grid.fit(X_train,y_train)"
   ]
  },
  {
   "cell_type": "code",
   "execution_count": 32,
   "id": "4057ab91",
   "metadata": {},
   "outputs": [
    {
     "data": {
      "text/plain": [
       "{'bootstrap': True,\n",
       " 'max_depth': 10,\n",
       " 'max_features': 'sqrt',\n",
       " 'min_samples_leaf': 1,\n",
       " 'min_samples_split': 8,\n",
       " 'n_estimators': 300}"
      ]
     },
     "execution_count": 32,
     "metadata": {},
     "output_type": "execute_result"
    }
   ],
   "source": [
    "clf_grid.best_params_"
   ]
  },
  {
   "cell_type": "code",
   "execution_count": 33,
   "id": "6f2edc16",
   "metadata": {},
   "outputs": [
    {
     "data": {
      "text/plain": [
       "0.641"
      ]
     },
     "execution_count": 33,
     "metadata": {},
     "output_type": "execute_result"
    }
   ],
   "source": [
    "clf_grid.score(X_test,y_test)"
   ]
  },
  {
   "cell_type": "code",
   "execution_count": 34,
   "id": "478c3562",
   "metadata": {},
   "outputs": [
    {
     "name": "stdout",
     "output_type": "stream",
     "text": [
      " percision : 0.61 +/- 0.009\n",
      " f1        : 0.69 +/- 0.012\n",
      " recall    : 0.79 +/- 0.019\n",
      "Wall time: 45.4 s\n"
     ]
    }
   ],
   "source": [
    "%%time\n",
    "#20 000 Tweets\n",
    "\n",
    "clf_cv = RandomForestClassifier(n_estimators = 300, max_features = 'sqrt',max_depth = 10, min_samples_split = 8, min_samples_leaf=1, bootstrap = True, n_jobs=-1)\n",
    "print_cross_val_score(clf_cv, X_new, y)\n"
   ]
  },
  {
   "cell_type": "code",
   "execution_count": 25,
   "id": "53610de2",
   "metadata": {},
   "outputs": [
    {
     "name": "stdout",
     "output_type": "stream",
     "text": [
      " percision : 0.61 +/- 0.002\n",
      " f1        : 0.69 +/- 0.002\n",
      " recall    : 0.80 +/- 0.005\n",
      "Wall time: 6min 43s\n"
     ]
    }
   ],
   "source": [
    "%%time\n",
    "#200 000 Tweets\n",
    "\n",
    "clf_cv = RandomForestClassifier(n_estimators = 300, max_features = 'sqrt',max_depth = 10, min_samples_split = 8, min_samples_leaf=1, bootstrap = True, n_jobs=-1)\n",
    "print_cross_val_score(clf_cv, X_new, y)\n"
   ]
  },
  {
   "cell_type": "markdown",
   "id": "8221e219",
   "metadata": {},
   "source": [
    "***"
   ]
  },
  {
   "cell_type": "code",
   "execution_count": 45,
   "id": "4cfa2580",
   "metadata": {},
   "outputs": [],
   "source": [
    "def plot_hist_Features(l_features_importances, l_features, title):\n",
    "    \n",
    "    #colors = ['mediumorchid', 'gold', 'green', 'peru', 'red', 'mediumslateblue', 'deepskyblue', 'darkkhaki', 'brown']\n",
    "    colors = ['steelblue', 'peru', 'black', 'mediumslateblue', 'lightblue']\n",
    "    \n",
    "    x = np.arange(len(l_features))\n",
    "    #figure(figsize=(12, 8), dpi=80)\n",
    "    fig, ax = plt.subplots()\n",
    "    plt.rcParams[\"figure.figsize\"] = [14,14]\n",
    "    #ax.hist(df1, df2 = bins,  color = 'mediumslateblue', label = 'nicht gelöscht')\n",
    "    ax.bar(x, l_features_importances, width = 0.5)\n",
    "    ax.set_title('Random Forest', fontweight=\"bold\", fontsize=20)\n",
    "    #ax.set_xlabel('Features', fontsize=12)\n",
    "    ax.set_ylabel('Feature Importance', fontsize=20)\n",
    "    ax.set_xticks(x)\n",
    "    ax.set_xticklabels(l_features, fontsize=26,  rotation='vertical')\n",
    "           \n",
    "    #ax.tick_params(axis='x', which='major', labelsize=14)\n",
    "    ax.tick_params(axis='y', which='major', labelsize=17)\n",
    "\n",
    "    fig.tight_layout()\n",
    "    #plt.legend()\n",
    "    #plt.savefig('../plots/'+title+'.pdf')\n"
   ]
  },
  {
   "cell_type": "code",
   "execution_count": 46,
   "id": "7b89d800",
   "metadata": {},
   "outputs": [
    {
     "ename": "AttributeError",
     "evalue": "'numpy.ndarray' object has no attribute 'Feature'",
     "output_type": "error",
     "traceback": [
      "\u001b[1;31m---------------------------------------------------------------------------\u001b[0m",
      "\u001b[1;31mAttributeError\u001b[0m                            Traceback (most recent call last)",
      "\u001b[1;32m<ipython-input-46-83ca6862ac64>\u001b[0m in \u001b[0;36m<module>\u001b[1;34m\u001b[0m\n\u001b[1;32m----> 1\u001b[1;33m \u001b[0ml_features\u001b[0m \u001b[1;33m=\u001b[0m \u001b[0mf_importances\u001b[0m\u001b[1;33m.\u001b[0m\u001b[0mFeature\u001b[0m\u001b[1;33m.\u001b[0m\u001b[0mtolist\u001b[0m\u001b[1;33m(\u001b[0m\u001b[1;33m)\u001b[0m\u001b[1;33m\u001b[0m\u001b[1;33m\u001b[0m\u001b[0m\n\u001b[0m\u001b[0;32m      2\u001b[0m \u001b[0ml_features\u001b[0m \u001b[1;33m=\u001b[0m \u001b[0ml_features\u001b[0m\u001b[1;33m[\u001b[0m\u001b[1;33m:\u001b[0m\u001b[1;36m10\u001b[0m\u001b[1;33m]\u001b[0m\u001b[1;33m\u001b[0m\u001b[1;33m\u001b[0m\u001b[0m\n\u001b[0;32m      3\u001b[0m \u001b[1;33m\u001b[0m\u001b[0m\n\u001b[0;32m      4\u001b[0m \u001b[0ml_features_importances\u001b[0m \u001b[1;33m=\u001b[0m \u001b[0mf_importances\u001b[0m\u001b[1;33m.\u001b[0m\u001b[0mimportance\u001b[0m\u001b[1;33m.\u001b[0m\u001b[0mtolist\u001b[0m\u001b[1;33m(\u001b[0m\u001b[1;33m)\u001b[0m\u001b[1;33m\u001b[0m\u001b[1;33m\u001b[0m\u001b[0m\n\u001b[0;32m      5\u001b[0m \u001b[0ml_features_importances\u001b[0m \u001b[1;33m=\u001b[0m \u001b[0ml_features_importances\u001b[0m\u001b[1;33m[\u001b[0m\u001b[1;36m0\u001b[0m\u001b[1;33m:\u001b[0m\u001b[1;36m10\u001b[0m\u001b[1;33m]\u001b[0m\u001b[1;33m\u001b[0m\u001b[1;33m\u001b[0m\u001b[0m\n",
      "\u001b[1;31mAttributeError\u001b[0m: 'numpy.ndarray' object has no attribute 'Feature'"
     ]
    }
   ],
   "source": [
    "l_features = f_importances.Feature.tolist()\n",
    "l_features = l_features[:10]\n",
    "\n",
    "l_features_importances = f_importances.importance.tolist()\n",
    "l_features_importances = l_features_importances[0:10]\n",
    "l_features"
   ]
  },
  {
   "cell_type": "code",
   "execution_count": 47,
   "id": "7212a1d3",
   "metadata": {},
   "outputs": [
    {
     "ename": "NameError",
     "evalue": "name 'l_features_importances' is not defined",
     "output_type": "error",
     "traceback": [
      "\u001b[1;31m---------------------------------------------------------------------------\u001b[0m",
      "\u001b[1;31mNameError\u001b[0m                                 Traceback (most recent call last)",
      "\u001b[1;32m<ipython-input-47-ffa79f57f246>\u001b[0m in \u001b[0;36m<module>\u001b[1;34m\u001b[0m\n\u001b[1;32m----> 1\u001b[1;33m \u001b[0mplot_hist_Features\u001b[0m\u001b[1;33m(\u001b[0m\u001b[0ml_features_importances\u001b[0m\u001b[1;33m,\u001b[0m \u001b[0ml_features\u001b[0m\u001b[1;33m,\u001b[0m \u001b[1;34m'Rf_tweetscov19_content_User'\u001b[0m\u001b[1;33m)\u001b[0m\u001b[1;33m\u001b[0m\u001b[1;33m\u001b[0m\u001b[0m\n\u001b[0m",
      "\u001b[1;31mNameError\u001b[0m: name 'l_features_importances' is not defined"
     ]
    }
   ],
   "source": [
    "plot_hist_Features(l_features_importances, l_features, 'Rf_tweetscov19_content_User')"
   ]
  },
  {
   "cell_type": "markdown",
   "id": "5ac329c7",
   "metadata": {},
   "source": [
    "************************************************\n",
    "************************************************"
   ]
  },
  {
   "cell_type": "markdown",
   "id": "94a0343d",
   "metadata": {},
   "source": [
    "## TweetsCov19\n",
    "### (Content only)"
   ]
  },
  {
   "cell_type": "code",
   "execution_count": 48,
   "id": "d89e4835",
   "metadata": {},
   "outputs": [],
   "source": [
    "features = df_tweetscov19_user.columns\n",
    "features\n",
    "\n",
    "#features = features[2:83]\n",
    "df_tweetscov19_user = df_tweetscov19_user[features.tolist()]\n",
    "df_tweetscov19_user = df_tweetscov19_user.drop(columns=[  'user_political_polarisation', 'user_science_polarisation', 'user_moderacy_polarisation', 'user_Reputation'])\n"
   ]
  },
  {
   "cell_type": "code",
   "execution_count": 49,
   "id": "a236c20d",
   "metadata": {},
   "outputs": [
    {
     "name": "stdout",
     "output_type": "stream",
     "text": [
      "(20000, 8)\n",
      "(20000,)\n"
     ]
    }
   ],
   "source": [
    "features = df_tweetscov19_user.columns\n",
    "X,y = get_X_y(df_tweetscov19_user, features)"
   ]
  },
  {
   "cell_type": "code",
   "execution_count": 50,
   "id": "50f15ca0",
   "metadata": {},
   "outputs": [
    {
     "name": "stdout",
     "output_type": "stream",
     "text": [
      "(16000, 8)\n",
      "(4000, 8)\n",
      "(16000,)\n",
      "(4000,)\n"
     ]
    }
   ],
   "source": [
    "X_train, X_test, y_train, y_test= split_train_test_valid(X,y)"
   ]
  },
  {
   "cell_type": "code",
   "execution_count": 51,
   "id": "18180c19",
   "metadata": {},
   "outputs": [
    {
     "data": {
      "text/html": [
       "<div>\n",
       "<style scoped>\n",
       "    .dataframe tbody tr th:only-of-type {\n",
       "        vertical-align: middle;\n",
       "    }\n",
       "\n",
       "    .dataframe tbody tr th {\n",
       "        vertical-align: top;\n",
       "    }\n",
       "\n",
       "    .dataframe thead th {\n",
       "        text-align: right;\n",
       "    }\n",
       "</style>\n",
       "<table border=\"1\" class=\"dataframe\">\n",
       "  <thead>\n",
       "    <tr style=\"text-align: right;\">\n",
       "      <th></th>\n",
       "      <th>index</th>\n",
       "      <th>Feature</th>\n",
       "      <th>importance</th>\n",
       "    </tr>\n",
       "  </thead>\n",
       "  <tbody>\n",
       "    <tr>\n",
       "      <th>0</th>\n",
       "      <td>0</td>\n",
       "      <td>Retweets</td>\n",
       "      <td>0.2379</td>\n",
       "    </tr>\n",
       "    <tr>\n",
       "      <th>1</th>\n",
       "      <td>1</td>\n",
       "      <td>Favorites</td>\n",
       "      <td>0.2320</td>\n",
       "    </tr>\n",
       "    <tr>\n",
       "      <th>2</th>\n",
       "      <td>4</td>\n",
       "      <td>URLs_num</td>\n",
       "      <td>0.1841</td>\n",
       "    </tr>\n",
       "    <tr>\n",
       "      <th>3</th>\n",
       "      <td>2</td>\n",
       "      <td>Hashtags_num</td>\n",
       "      <td>0.1272</td>\n",
       "    </tr>\n",
       "    <tr>\n",
       "      <th>4</th>\n",
       "      <td>3</td>\n",
       "      <td>Mentions_num</td>\n",
       "      <td>0.1049</td>\n",
       "    </tr>\n",
       "    <tr>\n",
       "      <th>5</th>\n",
       "      <td>5</td>\n",
       "      <td>tweet_political_polarisation</td>\n",
       "      <td>0.0537</td>\n",
       "    </tr>\n",
       "    <tr>\n",
       "      <th>6</th>\n",
       "      <td>7</td>\n",
       "      <td>tweet_moderacy_polarisation</td>\n",
       "      <td>0.0479</td>\n",
       "    </tr>\n",
       "    <tr>\n",
       "      <th>7</th>\n",
       "      <td>6</td>\n",
       "      <td>tweet_science_polarisation</td>\n",
       "      <td>0.0122</td>\n",
       "    </tr>\n",
       "  </tbody>\n",
       "</table>\n",
       "</div>"
      ],
      "text/plain": [
       "   index                       Feature  importance\n",
       "0      0                      Retweets      0.2379\n",
       "1      1                     Favorites      0.2320\n",
       "2      4                      URLs_num      0.1841\n",
       "3      2                  Hashtags_num      0.1272\n",
       "4      3                  Mentions_num      0.1049\n",
       "5      5  tweet_political_polarisation      0.0537\n",
       "6      7   tweet_moderacy_polarisation      0.0479\n",
       "7      6    tweet_science_polarisation      0.0122"
      ]
     },
     "execution_count": 51,
     "metadata": {},
     "output_type": "execute_result"
    }
   ],
   "source": [
    "clf_cv = RandomForestClassifier(n_estimators = 300, max_features = 'sqrt',max_depth = 10, min_samples_split = 8, min_samples_leaf=1, bootstrap = True, n_jobs=-1)\n",
    "clf_cv.fit(X_train, y_train)\n",
    "\n",
    "f_importances = features_classifier_(X, clf_cv)\n",
    "f_importances"
   ]
  },
  {
   "cell_type": "code",
   "execution_count": 52,
   "id": "6fb99e04",
   "metadata": {},
   "outputs": [
    {
     "name": "stdout",
     "output_type": "stream",
     "text": [
      "['Retweets' 'Favorites' 'URLs_num' 'Hashtags_num' 'Mentions_num'\n",
      " 'tweet_political_polarisation' 'tweet_moderacy_polarisation'\n",
      " 'tweet_science_polarisation']\n"
     ]
    }
   ],
   "source": [
    "f_importances = f_importances[f_importances['importance'] > 0.008]\n",
    "f_importances = f_importances.Feature.values\n",
    "print(f_importances)"
   ]
  },
  {
   "cell_type": "code",
   "execution_count": 53,
   "id": "b7ba909c",
   "metadata": {},
   "outputs": [
    {
     "name": "stdout",
     "output_type": "stream",
     "text": [
      "(20000, 8)\n",
      "(20000,)\n"
     ]
    }
   ],
   "source": [
    "X_new,y = get_X_y(df_tweetscov19_user, f_importances)"
   ]
  },
  {
   "cell_type": "code",
   "execution_count": 54,
   "id": "f4c84168",
   "metadata": {},
   "outputs": [
    {
     "name": "stdout",
     "output_type": "stream",
     "text": [
      " percision : 0.59 +/- 0.008\n",
      " f1        : 0.63 +/- 0.011\n",
      " recall    : 0.69 +/- 0.018\n",
      "Wall time: 17 s\n"
     ]
    }
   ],
   "source": [
    "%%time\n",
    "clf_cv = RandomForestClassifier(n_estimators = 300, max_features = 'sqrt',max_depth = 10, min_samples_split = 8, min_samples_leaf=1, bootstrap = True, n_jobs=-1)\n",
    "print_cross_val_score(rf_model, X_new, y)"
   ]
  },
  {
   "cell_type": "code",
   "execution_count": 55,
   "id": "42805a62",
   "metadata": {},
   "outputs": [
    {
     "name": "stdout",
     "output_type": "stream",
     "text": [
      " percision : 0.59 +/- 0.009\n",
      " f1        : 0.63 +/- 0.011\n",
      " recall    : 0.69 +/- 0.018\n",
      "Wall time: 16.3 s\n"
     ]
    }
   ],
   "source": [
    "%%time\n",
    "clf_cv = RandomForestClassifier(n_estimators = 300, max_features = 'sqrt',max_depth = 10, min_samples_split = 8, min_samples_leaf=1, bootstrap = True, n_jobs=-1)\n",
    "print_cross_val_score(rf_model, X, y)"
   ]
  },
  {
   "cell_type": "markdown",
   "id": "257f22f1",
   "metadata": {},
   "source": [
    "********************************************************\n",
    "********************************************************"
   ]
  },
  {
   "cell_type": "code",
   "execution_count": 32,
   "id": "d993ada1",
   "metadata": {},
   "outputs": [
    {
     "name": "stdout",
     "output_type": "stream",
     "text": [
      " percision : 0.60 +/- 0.003\n",
      " f1        : 0.66 +/- 0.003\n",
      " recall    : 0.72 +/- 0.004\n",
      "Wall time: 7min 46s\n"
     ]
    }
   ],
   "source": [
    "%%time\n",
    "#200 000 Tweets\n",
    "\n",
    "clf_cv = RandomForestClassifier(n_estimators = 300, max_features = 'sqrt',max_depth = 10, min_samples_split = 8, min_samples_leaf=1, bootstrap = True, n_jobs=-1)\n",
    "print_cross_val_score(clf_cv, X_new, y)\n"
   ]
  },
  {
   "cell_type": "markdown",
   "id": "650a1fc9",
   "metadata": {},
   "source": [
    "***"
   ]
  },
  {
   "cell_type": "markdown",
   "id": "0965b48e",
   "metadata": {},
   "source": [
    "## Plot feature Imortances\n",
    "### TweetCov19 (Content Only)"
   ]
  },
  {
   "cell_type": "code",
   "execution_count": 28,
   "id": "471d81ef",
   "metadata": {},
   "outputs": [],
   "source": [
    "def plot_hist_Features_content_only(l_features_importances, l_features, title):\n",
    "    \n",
    "    #colors = ['red', 'blue', 'peru', 'orange', 'yellow', 'mediumslateblue', 'deepskyblue', 'steelblue']\n",
    "    colors = ['peru', 'black', 'mediumslateblue', 'lightblue', 'lightgreen']\n",
    "    \n",
    "    x = np.arange(len(l_features))\n",
    "\n",
    "    fig, ax = plt.subplots()\n",
    "    plt.rcParams[\"figure.figsize\"] = [14,14]\n",
    "    \n",
    "    #ax.hist(df1, df2 = bins,  color = 'mediumslateblue', label = 'nicht gelöscht')\n",
    "    ax.bar(x, l_features_importances, width = 0.5)\n",
    "    ax.set_title('Random Forest', fontweight=\"bold\", fontsize=20)\n",
    "    #ax.set_xlabel('Features', fontsize=18)\n",
    "    ax.set_ylabel('Feature Importance', fontsize=20)\n",
    "           \n",
    "    #ax.tick_params(axis='x', which='major', labelsize=14)\n",
    "    ax.tick_params(axis='y', which='major', labelsize=17)\n",
    "\n",
    "    ax.set_xticks(x)\n",
    "    ax.set_xticklabels(l_features, fontsize=26,  rotation='vertical')\n",
    "    fig.tight_layout()\n",
    "    \n",
    "\n",
    "    #plt.legend()\n",
    "    plt.savefig('../plots/'+title+'.pdf')\n"
   ]
  },
  {
   "cell_type": "code",
   "execution_count": 29,
   "id": "ebcd6654",
   "metadata": {},
   "outputs": [
    {
     "data": {
      "text/plain": [
       "['Retweets',\n",
       " 'Favorites',\n",
       " 'Number of URLs',\n",
       " 'Text length',\n",
       " 'I',\n",
       " 'Number of hashtags',\n",
       " 'Political polarisation (tweet based)',\n",
       " 'Informal',\n",
       " 'Moderacy polarisation (tweet based)',\n",
       " 'Work']"
      ]
     },
     "execution_count": 29,
     "metadata": {},
     "output_type": "execute_result"
    }
   ],
   "source": [
    "l_features = f_importances.Feature.tolist()\n",
    "l_features = l_features[:10]\n",
    "\n",
    "l_features_importances = f_importances.importance.tolist()\n",
    "l_features_importances = l_features_importances[0:10]\n",
    "l_features"
   ]
  },
  {
   "cell_type": "code",
   "execution_count": 30,
   "id": "4559ea5b",
   "metadata": {},
   "outputs": [
    {
     "data": {
      "image/png": "[encoded data removed]",
      "text/plain": [
       "<Figure size 1008x1008 with 1 Axes>"
      ]
     },
     "metadata": {
      "needs_background": "light"
     },
     "output_type": "display_data"
    }
   ],
   "source": [
    "plot_hist_Features_content_only(l_features_importances, l_features, 'Rf_tweetscov19_content_only')"
   ]
  },
  {
   "cell_type": "markdown",
   "id": "9257edb0",
   "metadata": {},
   "source": [
    "************************************************\n",
    "************************************************"
   ]
  },
  {
   "cell_type": "markdown",
   "id": "66934795",
   "metadata": {},
   "source": [
    "# Tweetskb\n",
    "### (Content + User Features)"
   ]
  },
  {
   "cell_type": "code",
   "execution_count": 8,
   "id": "38485396",
   "metadata": {},
   "outputs": [
    {
     "name": "stdout",
     "output_type": "stream",
     "text": [
      "Shape : (20000, 18)\n"
     ]
    },
    {
     "data": {
      "text/html": [
       "<div>\n",
       "<style scoped>\n",
       "    .dataframe tbody tr th:only-of-type {\n",
       "        vertical-align: middle;\n",
       "    }\n",
       "\n",
       "    .dataframe tbody tr th {\n",
       "        vertical-align: top;\n",
       "    }\n",
       "\n",
       "    .dataframe thead th {\n",
       "        text-align: right;\n",
       "    }\n",
       "</style>\n",
       "<table border=\"1\" class=\"dataframe\">\n",
       "  <thead>\n",
       "    <tr style=\"text-align: right;\">\n",
       "      <th></th>\n",
       "      <th>Tweet_Id</th>\n",
       "      <th>Username</th>\n",
       "      <th>Retweets</th>\n",
       "      <th>Favorites</th>\n",
       "      <th>Hashtags_num</th>\n",
       "      <th>Mentions_num</th>\n",
       "      <th>URLs_num</th>\n",
       "      <th>tweet_political_polarisation</th>\n",
       "      <th>tweet_science_polarisation</th>\n",
       "      <th>tweet_moderacy_polarisation</th>\n",
       "      <th>user_political_polarisation</th>\n",
       "      <th>user_science_polarisation</th>\n",
       "      <th>user_moderacy_polarisation</th>\n",
       "      <th>user_posted_tweets</th>\n",
       "      <th>user_deleted_tweets</th>\n",
       "      <th>user_Deletion_ratio</th>\n",
       "      <th>user_Reputation</th>\n",
       "      <th>Is_deleted</th>\n",
       "    </tr>\n",
       "  </thead>\n",
       "  <tbody>\n",
       "    <tr>\n",
       "      <th>0</th>\n",
       "      <td>1215531172496801792</td>\n",
       "      <td>GingrrGoddess</td>\n",
       "      <td>0</td>\n",
       "      <td>0</td>\n",
       "      <td>7</td>\n",
       "      <td>0</td>\n",
       "      <td>0</td>\n",
       "      <td>0.0000</td>\n",
       "      <td>0.0000</td>\n",
       "      <td>0.0000</td>\n",
       "      <td>0.0000</td>\n",
       "      <td>0.0000</td>\n",
       "      <td>0.0000</td>\n",
       "      <td>7</td>\n",
       "      <td>3</td>\n",
       "      <td>0.4286</td>\n",
       "      <td>0.3011</td>\n",
       "      <td>True</td>\n",
       "    </tr>\n",
       "    <tr>\n",
       "      <th>1</th>\n",
       "      <td>1252892958808051712</td>\n",
       "      <td>jerdul3</td>\n",
       "      <td>0</td>\n",
       "      <td>0</td>\n",
       "      <td>0</td>\n",
       "      <td>1</td>\n",
       "      <td>0</td>\n",
       "      <td>0.0000</td>\n",
       "      <td>0.0000</td>\n",
       "      <td>0.0000</td>\n",
       "      <td>0.0000</td>\n",
       "      <td>0.0000</td>\n",
       "      <td>0.0000</td>\n",
       "      <td>3</td>\n",
       "      <td>3</td>\n",
       "      <td>1.0000</td>\n",
       "      <td>0.2933</td>\n",
       "      <td>True</td>\n",
       "    </tr>\n",
       "    <tr>\n",
       "      <th>2</th>\n",
       "      <td>1256687285598171136</td>\n",
       "      <td>porshiugh_</td>\n",
       "      <td>0</td>\n",
       "      <td>0</td>\n",
       "      <td>0</td>\n",
       "      <td>0</td>\n",
       "      <td>0</td>\n",
       "      <td>0.0000</td>\n",
       "      <td>0.0000</td>\n",
       "      <td>0.0000</td>\n",
       "      <td>0.0000</td>\n",
       "      <td>0.0000</td>\n",
       "      <td>0.0000</td>\n",
       "      <td>1</td>\n",
       "      <td>1</td>\n",
       "      <td>1.0000</td>\n",
       "      <td>0.4178</td>\n",
       "      <td>True</td>\n",
       "    </tr>\n",
       "    <tr>\n",
       "      <th>3</th>\n",
       "      <td>1224289441319010304</td>\n",
       "      <td>rchlvienne</td>\n",
       "      <td>0</td>\n",
       "      <td>0</td>\n",
       "      <td>0</td>\n",
       "      <td>0</td>\n",
       "      <td>0</td>\n",
       "      <td>0.0000</td>\n",
       "      <td>0.0000</td>\n",
       "      <td>0.0000</td>\n",
       "      <td>0.0000</td>\n",
       "      <td>0.0000</td>\n",
       "      <td>0.0000</td>\n",
       "      <td>2</td>\n",
       "      <td>2</td>\n",
       "      <td>1.0000</td>\n",
       "      <td>0.5632</td>\n",
       "      <td>True</td>\n",
       "    </tr>\n",
       "    <tr>\n",
       "      <th>4</th>\n",
       "      <td>1221607964043304969</td>\n",
       "      <td>Munisty600</td>\n",
       "      <td>0</td>\n",
       "      <td>0</td>\n",
       "      <td>0</td>\n",
       "      <td>1</td>\n",
       "      <td>0</td>\n",
       "      <td>0.0000</td>\n",
       "      <td>0.0000</td>\n",
       "      <td>0.0000</td>\n",
       "      <td>0.0000</td>\n",
       "      <td>0.0000</td>\n",
       "      <td>0.0000</td>\n",
       "      <td>1</td>\n",
       "      <td>1</td>\n",
       "      <td>1.0000</td>\n",
       "      <td>0.7288</td>\n",
       "      <td>True</td>\n",
       "    </tr>\n",
       "  </tbody>\n",
       "</table>\n",
       "</div>"
      ],
      "text/plain": [
       "              Tweet_Id       Username  Retweets  Favorites  Hashtags_num  \\\n",
       "0  1215531172496801792  GingrrGoddess         0          0             7   \n",
       "1  1252892958808051712        jerdul3         0          0             0   \n",
       "2  1256687285598171136     porshiugh_         0          0             0   \n",
       "3  1224289441319010304     rchlvienne         0          0             0   \n",
       "4  1221607964043304969     Munisty600         0          0             0   \n",
       "\n",
       "   Mentions_num  URLs_num  tweet_political_polarisation  \\\n",
       "0             0         0                        0.0000   \n",
       "1             1         0                        0.0000   \n",
       "2             0         0                        0.0000   \n",
       "3             0         0                        0.0000   \n",
       "4             1         0                        0.0000   \n",
       "\n",
       "   tweet_science_polarisation  tweet_moderacy_polarisation  \\\n",
       "0                      0.0000                       0.0000   \n",
       "1                      0.0000                       0.0000   \n",
       "2                      0.0000                       0.0000   \n",
       "3                      0.0000                       0.0000   \n",
       "4                      0.0000                       0.0000   \n",
       "\n",
       "   user_political_polarisation  user_science_polarisation  \\\n",
       "0                       0.0000                     0.0000   \n",
       "1                       0.0000                     0.0000   \n",
       "2                       0.0000                     0.0000   \n",
       "3                       0.0000                     0.0000   \n",
       "4                       0.0000                     0.0000   \n",
       "\n",
       "   user_moderacy_polarisation  user_posted_tweets  user_deleted_tweets  \\\n",
       "0                      0.0000                   7                    3   \n",
       "1                      0.0000                   3                    3   \n",
       "2                      0.0000                   1                    1   \n",
       "3                      0.0000                   2                    2   \n",
       "4                      0.0000                   1                    1   \n",
       "\n",
       "   user_Deletion_ratio  user_Reputation  Is_deleted  \n",
       "0               0.4286           0.3011        True  \n",
       "1               1.0000           0.2933        True  \n",
       "2               1.0000           0.4178        True  \n",
       "3               1.0000           0.5632        True  \n",
       "4               1.0000           0.7288        True  "
      ]
     },
     "execution_count": 8,
     "metadata": {},
     "output_type": "execute_result"
    }
   ],
   "source": [
    "path = '../data/df_tweetskb_sample_20000_9_v2.tsv'\n",
    "\n",
    "df_tweetskb_user = pd.read_csv(path, sep='\\t', error_bad_lines=False, names=['Tweet_Id', 'Username', 'Retweets', 'Favorites', 'Hashtags_num', 'Mentions_num', 'URLs_num', 'tweet_political_polarisation', 'tweet_science_polarisation', 'tweet_moderacy_polarisation', 'user_political_polarisation', 'user_science_polarisation', 'user_moderacy_polarisation', 'user_posted_tweets', 'user_deleted_tweets', 'user_Deletion_ratio', 'user_Reputation', 'Is_deleted' ])\n",
    "\n",
    "print('Shape :', df_tweetskb_user.shape)\n",
    "df_tweetskb_user.head()"
   ]
  },
  {
   "cell_type": "code",
   "execution_count": 9,
   "id": "7144e072",
   "metadata": {},
   "outputs": [],
   "source": [
    "features = df_tweetskb_user.columns\n",
    "#features"
   ]
  },
  {
   "cell_type": "code",
   "execution_count": 10,
   "id": "fcdae996",
   "metadata": {},
   "outputs": [
    {
     "data": {
      "text/html": [
       "<div>\n",
       "<style scoped>\n",
       "    .dataframe tbody tr th:only-of-type {\n",
       "        vertical-align: middle;\n",
       "    }\n",
       "\n",
       "    .dataframe tbody tr th {\n",
       "        vertical-align: top;\n",
       "    }\n",
       "\n",
       "    .dataframe thead th {\n",
       "        text-align: right;\n",
       "    }\n",
       "</style>\n",
       "<table border=\"1\" class=\"dataframe\">\n",
       "  <thead>\n",
       "    <tr style=\"text-align: right;\">\n",
       "      <th></th>\n",
       "      <th>Tweet_Id</th>\n",
       "      <th>Username</th>\n",
       "      <th>Retweets</th>\n",
       "      <th>Favorites</th>\n",
       "      <th>Hashtags_num</th>\n",
       "      <th>Mentions_num</th>\n",
       "      <th>URLs_num</th>\n",
       "      <th>tweet_political_polarisation</th>\n",
       "      <th>tweet_science_polarisation</th>\n",
       "      <th>tweet_moderacy_polarisation</th>\n",
       "      <th>user_political_polarisation</th>\n",
       "      <th>user_science_polarisation</th>\n",
       "      <th>user_moderacy_polarisation</th>\n",
       "      <th>user_posted_tweets</th>\n",
       "      <th>user_deleted_tweets</th>\n",
       "      <th>user_Deletion_ratio</th>\n",
       "      <th>user_Reputation</th>\n",
       "      <th>Is_deleted</th>\n",
       "    </tr>\n",
       "  </thead>\n",
       "  <tbody>\n",
       "    <tr>\n",
       "      <th>19995</th>\n",
       "      <td>1214560501507620870</td>\n",
       "      <td>_adventuretz</td>\n",
       "      <td>0</td>\n",
       "      <td>0</td>\n",
       "      <td>0</td>\n",
       "      <td>0</td>\n",
       "      <td>0</td>\n",
       "      <td>0.0000</td>\n",
       "      <td>0.0000</td>\n",
       "      <td>0.0000</td>\n",
       "      <td>0.0000</td>\n",
       "      <td>0.0000</td>\n",
       "      <td>0.0000</td>\n",
       "      <td>1</td>\n",
       "      <td>0</td>\n",
       "      <td>0.0000</td>\n",
       "      <td>0.2500</td>\n",
       "      <td>0</td>\n",
       "    </tr>\n",
       "    <tr>\n",
       "      <th>19996</th>\n",
       "      <td>1223003794834952194</td>\n",
       "      <td>BarbaraAnn1212</td>\n",
       "      <td>0</td>\n",
       "      <td>0</td>\n",
       "      <td>0</td>\n",
       "      <td>4</td>\n",
       "      <td>0</td>\n",
       "      <td>0.0000</td>\n",
       "      <td>0.0000</td>\n",
       "      <td>0.0000</td>\n",
       "      <td>0.0000</td>\n",
       "      <td>0.0000</td>\n",
       "      <td>0.0000</td>\n",
       "      <td>3</td>\n",
       "      <td>0</td>\n",
       "      <td>0.0000</td>\n",
       "      <td>0.3312</td>\n",
       "      <td>0</td>\n",
       "    </tr>\n",
       "    <tr>\n",
       "      <th>19997</th>\n",
       "      <td>1183941084067577856</td>\n",
       "      <td>DodsonNiagh</td>\n",
       "      <td>0</td>\n",
       "      <td>0</td>\n",
       "      <td>0</td>\n",
       "      <td>0</td>\n",
       "      <td>0</td>\n",
       "      <td>0.0000</td>\n",
       "      <td>0.0000</td>\n",
       "      <td>0.0000</td>\n",
       "      <td>0.0000</td>\n",
       "      <td>0.0000</td>\n",
       "      <td>0.0000</td>\n",
       "      <td>4</td>\n",
       "      <td>0</td>\n",
       "      <td>0.0000</td>\n",
       "      <td>0.4756</td>\n",
       "      <td>0</td>\n",
       "    </tr>\n",
       "    <tr>\n",
       "      <th>19998</th>\n",
       "      <td>1200293570323894273</td>\n",
       "      <td>sfawcus</td>\n",
       "      <td>1</td>\n",
       "      <td>3</td>\n",
       "      <td>0</td>\n",
       "      <td>0</td>\n",
       "      <td>0</td>\n",
       "      <td>0.0000</td>\n",
       "      <td>0.0000</td>\n",
       "      <td>0.0000</td>\n",
       "      <td>0.0000</td>\n",
       "      <td>0.0000</td>\n",
       "      <td>0.0000</td>\n",
       "      <td>2</td>\n",
       "      <td>0</td>\n",
       "      <td>0.0000</td>\n",
       "      <td>0.3576</td>\n",
       "      <td>0</td>\n",
       "    </tr>\n",
       "    <tr>\n",
       "      <th>19999</th>\n",
       "      <td>1266000506956271622</td>\n",
       "      <td>LunaticCODM</td>\n",
       "      <td>1</td>\n",
       "      <td>5</td>\n",
       "      <td>1</td>\n",
       "      <td>0</td>\n",
       "      <td>0</td>\n",
       "      <td>0.0000</td>\n",
       "      <td>0.0000</td>\n",
       "      <td>0.0000</td>\n",
       "      <td>0.0000</td>\n",
       "      <td>0.0000</td>\n",
       "      <td>0.0000</td>\n",
       "      <td>1</td>\n",
       "      <td>0</td>\n",
       "      <td>0.0000</td>\n",
       "      <td>0.2353</td>\n",
       "      <td>0</td>\n",
       "    </tr>\n",
       "  </tbody>\n",
       "</table>\n",
       "</div>"
      ],
      "text/plain": [
       "                  Tweet_Id        Username  Retweets  Favorites  Hashtags_num  \\\n",
       "19995  1214560501507620870    _adventuretz         0          0             0   \n",
       "19996  1223003794834952194  BarbaraAnn1212         0          0             0   \n",
       "19997  1183941084067577856     DodsonNiagh         0          0             0   \n",
       "19998  1200293570323894273         sfawcus         1          3             0   \n",
       "19999  1266000506956271622     LunaticCODM         1          5             1   \n",
       "\n",
       "       Mentions_num  URLs_num  tweet_political_polarisation  \\\n",
       "19995             0         0                        0.0000   \n",
       "19996             4         0                        0.0000   \n",
       "19997             0         0                        0.0000   \n",
       "19998             0         0                        0.0000   \n",
       "19999             0         0                        0.0000   \n",
       "\n",
       "       tweet_science_polarisation  tweet_moderacy_polarisation  \\\n",
       "19995                      0.0000                       0.0000   \n",
       "19996                      0.0000                       0.0000   \n",
       "19997                      0.0000                       0.0000   \n",
       "19998                      0.0000                       0.0000   \n",
       "19999                      0.0000                       0.0000   \n",
       "\n",
       "       user_political_polarisation  user_science_polarisation  \\\n",
       "19995                       0.0000                     0.0000   \n",
       "19996                       0.0000                     0.0000   \n",
       "19997                       0.0000                     0.0000   \n",
       "19998                       0.0000                     0.0000   \n",
       "19999                       0.0000                     0.0000   \n",
       "\n",
       "       user_moderacy_polarisation  user_posted_tweets  user_deleted_tweets  \\\n",
       "19995                      0.0000                   1                    0   \n",
       "19996                      0.0000                   3                    0   \n",
       "19997                      0.0000                   4                    0   \n",
       "19998                      0.0000                   2                    0   \n",
       "19999                      0.0000                   1                    0   \n",
       "\n",
       "       user_Deletion_ratio  user_Reputation  Is_deleted  \n",
       "19995               0.0000           0.2500           0  \n",
       "19996               0.0000           0.3312           0  \n",
       "19997               0.0000           0.4756           0  \n",
       "19998               0.0000           0.3576           0  \n",
       "19999               0.0000           0.2353           0  "
      ]
     },
     "execution_count": 10,
     "metadata": {},
     "output_type": "execute_result"
    }
   ],
   "source": [
    "df_tweetskb_user['Is_deleted'] = np.where(df_tweetskb_user['Is_deleted'] == True, 1, 0)\n",
    "df_tweetskb_user.tail()"
   ]
  },
  {
   "cell_type": "code",
   "execution_count": 11,
   "id": "2938b91a",
   "metadata": {},
   "outputs": [
    {
     "name": "stdout",
     "output_type": "stream",
     "text": [
      "Shape:  (20000, 18)\n"
     ]
    },
    {
     "data": {
      "text/html": [
       "<div>\n",
       "<style scoped>\n",
       "    .dataframe tbody tr th:only-of-type {\n",
       "        vertical-align: middle;\n",
       "    }\n",
       "\n",
       "    .dataframe tbody tr th {\n",
       "        vertical-align: top;\n",
       "    }\n",
       "\n",
       "    .dataframe thead th {\n",
       "        text-align: right;\n",
       "    }\n",
       "</style>\n",
       "<table border=\"1\" class=\"dataframe\">\n",
       "  <thead>\n",
       "    <tr style=\"text-align: right;\">\n",
       "      <th></th>\n",
       "      <th>Tweet_Id</th>\n",
       "      <th>Username</th>\n",
       "      <th>Retweets</th>\n",
       "      <th>Favorites</th>\n",
       "      <th>Hashtags_num</th>\n",
       "      <th>Mentions_num</th>\n",
       "      <th>URLs_num</th>\n",
       "      <th>tweet_political_polarisation</th>\n",
       "      <th>tweet_science_polarisation</th>\n",
       "      <th>tweet_moderacy_polarisation</th>\n",
       "      <th>user_political_polarisation</th>\n",
       "      <th>user_science_polarisation</th>\n",
       "      <th>user_moderacy_polarisation</th>\n",
       "      <th>user_posted_tweets</th>\n",
       "      <th>user_deleted_tweets</th>\n",
       "      <th>user_Deletion_ratio</th>\n",
       "      <th>user_Reputation</th>\n",
       "      <th>Is_deleted</th>\n",
       "    </tr>\n",
       "  </thead>\n",
       "  <tbody>\n",
       "    <tr>\n",
       "      <th>0</th>\n",
       "      <td>1265030154700632070</td>\n",
       "      <td>kaydagoddess_</td>\n",
       "      <td>0</td>\n",
       "      <td>0</td>\n",
       "      <td>0</td>\n",
       "      <td>0</td>\n",
       "      <td>0</td>\n",
       "      <td>0.0000</td>\n",
       "      <td>0.0000</td>\n",
       "      <td>0.0000</td>\n",
       "      <td>0.0000</td>\n",
       "      <td>0.0000</td>\n",
       "      <td>0.0000</td>\n",
       "      <td>1</td>\n",
       "      <td>0</td>\n",
       "      <td>0.0000</td>\n",
       "      <td>0.5724</td>\n",
       "      <td>0</td>\n",
       "    </tr>\n",
       "    <tr>\n",
       "      <th>1</th>\n",
       "      <td>1230490723960492034</td>\n",
       "      <td>match_latte1216</td>\n",
       "      <td>0</td>\n",
       "      <td>0</td>\n",
       "      <td>1</td>\n",
       "      <td>0</td>\n",
       "      <td>0</td>\n",
       "      <td>0.0000</td>\n",
       "      <td>0.0000</td>\n",
       "      <td>0.0000</td>\n",
       "      <td>0.0000</td>\n",
       "      <td>0.0000</td>\n",
       "      <td>0.0000</td>\n",
       "      <td>1</td>\n",
       "      <td>0</td>\n",
       "      <td>0.0000</td>\n",
       "      <td>0.4000</td>\n",
       "      <td>0</td>\n",
       "    </tr>\n",
       "    <tr>\n",
       "      <th>2</th>\n",
       "      <td>1228510291052388352</td>\n",
       "      <td>JenReadsRomance</td>\n",
       "      <td>0</td>\n",
       "      <td>0</td>\n",
       "      <td>0</td>\n",
       "      <td>1</td>\n",
       "      <td>0</td>\n",
       "      <td>0.0000</td>\n",
       "      <td>0.0000</td>\n",
       "      <td>0.0000</td>\n",
       "      <td>0.0000</td>\n",
       "      <td>0.0000</td>\n",
       "      <td>0.0000</td>\n",
       "      <td>15</td>\n",
       "      <td>0</td>\n",
       "      <td>0.0000</td>\n",
       "      <td>0.6259</td>\n",
       "      <td>0</td>\n",
       "    </tr>\n",
       "    <tr>\n",
       "      <th>3</th>\n",
       "      <td>1179257808115703809</td>\n",
       "      <td>yoongleselle</td>\n",
       "      <td>0</td>\n",
       "      <td>0</td>\n",
       "      <td>0</td>\n",
       "      <td>3</td>\n",
       "      <td>0</td>\n",
       "      <td>0.0000</td>\n",
       "      <td>0.0000</td>\n",
       "      <td>0.0000</td>\n",
       "      <td>0.0000</td>\n",
       "      <td>0.0000</td>\n",
       "      <td>0.0000</td>\n",
       "      <td>1</td>\n",
       "      <td>0</td>\n",
       "      <td>0.0000</td>\n",
       "      <td>0.4996</td>\n",
       "      <td>0</td>\n",
       "    </tr>\n",
       "    <tr>\n",
       "      <th>4</th>\n",
       "      <td>1221719092110823424</td>\n",
       "      <td>Drew2C</td>\n",
       "      <td>0</td>\n",
       "      <td>0</td>\n",
       "      <td>0</td>\n",
       "      <td>0</td>\n",
       "      <td>0</td>\n",
       "      <td>0.0000</td>\n",
       "      <td>0.0000</td>\n",
       "      <td>0.0000</td>\n",
       "      <td>0.0000</td>\n",
       "      <td>0.0000</td>\n",
       "      <td>0.0000</td>\n",
       "      <td>3</td>\n",
       "      <td>0</td>\n",
       "      <td>0.0000</td>\n",
       "      <td>0.4643</td>\n",
       "      <td>0</td>\n",
       "    </tr>\n",
       "  </tbody>\n",
       "</table>\n",
       "</div>"
      ],
      "text/plain": [
       "              Tweet_Id         Username  Retweets  Favorites  Hashtags_num  \\\n",
       "0  1265030154700632070    kaydagoddess_         0          0             0   \n",
       "1  1230490723960492034  match_latte1216         0          0             1   \n",
       "2  1228510291052388352  JenReadsRomance         0          0             0   \n",
       "3  1179257808115703809     yoongleselle         0          0             0   \n",
       "4  1221719092110823424           Drew2C         0          0             0   \n",
       "\n",
       "   Mentions_num  URLs_num  tweet_political_polarisation  \\\n",
       "0             0         0                        0.0000   \n",
       "1             0         0                        0.0000   \n",
       "2             1         0                        0.0000   \n",
       "3             3         0                        0.0000   \n",
       "4             0         0                        0.0000   \n",
       "\n",
       "   tweet_science_polarisation  tweet_moderacy_polarisation  \\\n",
       "0                      0.0000                       0.0000   \n",
       "1                      0.0000                       0.0000   \n",
       "2                      0.0000                       0.0000   \n",
       "3                      0.0000                       0.0000   \n",
       "4                      0.0000                       0.0000   \n",
       "\n",
       "   user_political_polarisation  user_science_polarisation  \\\n",
       "0                       0.0000                     0.0000   \n",
       "1                       0.0000                     0.0000   \n",
       "2                       0.0000                     0.0000   \n",
       "3                       0.0000                     0.0000   \n",
       "4                       0.0000                     0.0000   \n",
       "\n",
       "   user_moderacy_polarisation  user_posted_tweets  user_deleted_tweets  \\\n",
       "0                      0.0000                   1                    0   \n",
       "1                      0.0000                   1                    0   \n",
       "2                      0.0000                  15                    0   \n",
       "3                      0.0000                   1                    0   \n",
       "4                      0.0000                   3                    0   \n",
       "\n",
       "   user_Deletion_ratio  user_Reputation  Is_deleted  \n",
       "0               0.0000           0.5724           0  \n",
       "1               0.0000           0.4000           0  \n",
       "2               0.0000           0.6259           0  \n",
       "3               0.0000           0.4996           0  \n",
       "4               0.0000           0.4643           0  "
      ]
     },
     "execution_count": 11,
     "metadata": {},
     "output_type": "execute_result"
    }
   ],
   "source": [
    "df_tweetskb_user = df_tweetskb_user.sample(frac=1).reset_index(drop=True)\n",
    "\n",
    "print('Shape: ', df_tweetskb_user.shape)\n",
    "df_tweetskb_user.head()"
   ]
  },
  {
   "cell_type": "code",
   "execution_count": 12,
   "id": "49a20ff2",
   "metadata": {},
   "outputs": [
    {
     "name": "stdout",
     "output_type": "stream",
     "text": [
      "18\n"
     ]
    },
    {
     "data": {
      "text/plain": [
       "Index(['Tweet_Id', 'Username', 'Retweets', 'Favorites', 'Hashtags_num',\n",
       "       'Mentions_num', 'URLs_num', 'tweet_political_polarisation',\n",
       "       'tweet_science_polarisation', 'tweet_moderacy_polarisation',\n",
       "       'user_political_polarisation', 'user_science_polarisation',\n",
       "       'user_moderacy_polarisation', 'user_posted_tweets',\n",
       "       'user_deleted_tweets', 'user_Deletion_ratio', 'user_Reputation',\n",
       "       'Is_deleted'],\n",
       "      dtype='object')"
      ]
     },
     "execution_count": 12,
     "metadata": {},
     "output_type": "execute_result"
    }
   ],
   "source": [
    "print(len(features))\n",
    "features"
   ]
  },
  {
   "cell_type": "code",
   "execution_count": 13,
   "id": "f289a915",
   "metadata": {},
   "outputs": [],
   "source": [
    "#df_tweetskb_user = df_tweetskb_user.drop(columns=[ 'user_political_polarisation','user_science_polarisation.','user_moderacy_polarisation'])\n",
    "df_tweetskb_user = df_tweetskb_user.drop(columns=[ 'Tweet_Id', 'Username', 'user_posted_tweets', 'user_deleted_tweets', 'user_Deletion_ratio',])"
   ]
  },
  {
   "cell_type": "code",
   "execution_count": 14,
   "id": "30a8962a",
   "metadata": {},
   "outputs": [
    {
     "name": "stdout",
     "output_type": "stream",
     "text": [
      "(20000, 12)\n",
      "(20000,)\n"
     ]
    }
   ],
   "source": [
    "features = df_tweetskb_user.columns\n",
    "X,y = get_X_y(df_tweetskb_user, features)"
   ]
  },
  {
   "cell_type": "code",
   "execution_count": 15,
   "id": "2507fd54",
   "metadata": {},
   "outputs": [
    {
     "name": "stdout",
     "output_type": "stream",
     "text": [
      "(16000, 12)\n",
      "(4000, 12)\n",
      "(16000,)\n",
      "(4000,)\n"
     ]
    }
   ],
   "source": [
    "X_train, X_test, y_train, y_test = split_train_test_valid(X,y)"
   ]
  },
  {
   "cell_type": "code",
   "execution_count": 16,
   "id": "757fb1f8",
   "metadata": {},
   "outputs": [
    {
     "name": "stdout",
     "output_type": "stream",
     "text": [
      "Accuracy : 0.5415\n"
     ]
    }
   ],
   "source": [
    "rf_model = fit_random_forest_clf(X_train, y_train)\n",
    "test_random_forest_clf(rf_model, X_test, y_test)"
   ]
  },
  {
   "cell_type": "code",
   "execution_count": 17,
   "id": "8fe53fad",
   "metadata": {},
   "outputs": [
    {
     "name": "stdout",
     "output_type": "stream",
     "text": [
      "              precision    recall  f1-score   support\n",
      "\n",
      "           0       0.53      0.56      0.54      1941\n",
      "           1       0.56      0.53      0.54      2059\n",
      "\n",
      "    accuracy                           0.54      4000\n",
      "   macro avg       0.54      0.54      0.54      4000\n",
      "weighted avg       0.54      0.54      0.54      4000\n",
      "\n"
     ]
    }
   ],
   "source": [
    "y_pred = rf_model.predict(X_test)\n",
    "print(classification_report(y_test, y_pred))"
   ]
  },
  {
   "cell_type": "code",
   "execution_count": 18,
   "id": "0cd5a704",
   "metadata": {},
   "outputs": [
    {
     "data": {
      "image/png": "[encoded data removed]",
      "text/plain": [
       "<Figure size 432x288 with 2 Axes>"
      ]
     },
     "metadata": {
      "needs_background": "light"
     },
     "output_type": "display_data"
    }
   ],
   "source": [
    "plot_confusion_matrix(y_test, y_pred, rf_model.classes_, 'Confusion Matrix')"
   ]
  },
  {
   "cell_type": "code",
   "execution_count": 19,
   "id": "a9cae019",
   "metadata": {},
   "outputs": [
    {
     "data": {
      "text/html": [
       "<div>\n",
       "<style scoped>\n",
       "    .dataframe tbody tr th:only-of-type {\n",
       "        vertical-align: middle;\n",
       "    }\n",
       "\n",
       "    .dataframe tbody tr th {\n",
       "        vertical-align: top;\n",
       "    }\n",
       "\n",
       "    .dataframe thead th {\n",
       "        text-align: right;\n",
       "    }\n",
       "</style>\n",
       "<table border=\"1\" class=\"dataframe\">\n",
       "  <thead>\n",
       "    <tr style=\"text-align: right;\">\n",
       "      <th></th>\n",
       "      <th>index</th>\n",
       "      <th>Feature</th>\n",
       "      <th>importance</th>\n",
       "    </tr>\n",
       "  </thead>\n",
       "  <tbody>\n",
       "    <tr>\n",
       "      <th>0</th>\n",
       "      <td>11</td>\n",
       "      <td>user_Reputation</td>\n",
       "      <td>0.3287</td>\n",
       "    </tr>\n",
       "    <tr>\n",
       "      <th>1</th>\n",
       "      <td>0</td>\n",
       "      <td>Retweets</td>\n",
       "      <td>0.1476</td>\n",
       "    </tr>\n",
       "    <tr>\n",
       "      <th>2</th>\n",
       "      <td>1</td>\n",
       "      <td>Favorites</td>\n",
       "      <td>0.1334</td>\n",
       "    </tr>\n",
       "    <tr>\n",
       "      <th>3</th>\n",
       "      <td>3</td>\n",
       "      <td>Mentions_num</td>\n",
       "      <td>0.0824</td>\n",
       "    </tr>\n",
       "    <tr>\n",
       "      <th>4</th>\n",
       "      <td>8</td>\n",
       "      <td>user_political_polarisation</td>\n",
       "      <td>0.0767</td>\n",
       "    </tr>\n",
       "    <tr>\n",
       "      <th>5</th>\n",
       "      <td>4</td>\n",
       "      <td>URLs_num</td>\n",
       "      <td>0.0747</td>\n",
       "    </tr>\n",
       "    <tr>\n",
       "      <th>6</th>\n",
       "      <td>2</td>\n",
       "      <td>Hashtags_num</td>\n",
       "      <td>0.0700</td>\n",
       "    </tr>\n",
       "    <tr>\n",
       "      <th>7</th>\n",
       "      <td>10</td>\n",
       "      <td>user_moderacy_polarisation</td>\n",
       "      <td>0.0686</td>\n",
       "    </tr>\n",
       "    <tr>\n",
       "      <th>8</th>\n",
       "      <td>5</td>\n",
       "      <td>tweet_political_polarisation</td>\n",
       "      <td>0.0056</td>\n",
       "    </tr>\n",
       "    <tr>\n",
       "      <th>9</th>\n",
       "      <td>9</td>\n",
       "      <td>user_science_polarisation</td>\n",
       "      <td>0.0055</td>\n",
       "    </tr>\n",
       "    <tr>\n",
       "      <th>10</th>\n",
       "      <td>7</td>\n",
       "      <td>tweet_moderacy_polarisation</td>\n",
       "      <td>0.0043</td>\n",
       "    </tr>\n",
       "    <tr>\n",
       "      <th>11</th>\n",
       "      <td>6</td>\n",
       "      <td>tweet_science_polarisation</td>\n",
       "      <td>0.0026</td>\n",
       "    </tr>\n",
       "  </tbody>\n",
       "</table>\n",
       "</div>"
      ],
      "text/plain": [
       "    index                       Feature  importance\n",
       "0      11               user_Reputation      0.3287\n",
       "1       0                      Retweets      0.1476\n",
       "2       1                     Favorites      0.1334\n",
       "3       3                  Mentions_num      0.0824\n",
       "4       8   user_political_polarisation      0.0767\n",
       "5       4                      URLs_num      0.0747\n",
       "6       2                  Hashtags_num      0.0700\n",
       "7      10    user_moderacy_polarisation      0.0686\n",
       "8       5  tweet_political_polarisation      0.0056\n",
       "9       9     user_science_polarisation      0.0055\n",
       "10      7   tweet_moderacy_polarisation      0.0043\n",
       "11      6    tweet_science_polarisation      0.0026"
      ]
     },
     "execution_count": 19,
     "metadata": {},
     "output_type": "execute_result"
    }
   ],
   "source": [
    "clf_cv = RandomForestClassifier(n_estimators = 300, min_samples_split= 8, min_samples_leaf= 2, max_features= 'auto', max_depth = 10, bootstrap= False, n_jobs=-1)\n",
    "\n",
    "clf_cv.fit(X_train, y_train)\n",
    "\n",
    "f_importances = features_classifier_(X, clf_cv)\n",
    "f_importances"
   ]
  },
  {
   "cell_type": "code",
   "execution_count": 20,
   "id": "0af2204c",
   "metadata": {},
   "outputs": [
    {
     "name": "stdout",
     "output_type": "stream",
     "text": [
      "['user_Reputation' 'Retweets' 'Favorites' 'Mentions_num'\n",
      " 'user_political_polarisation' 'URLs_num' 'Hashtags_num'\n",
      " 'user_moderacy_polarisation']\n"
     ]
    }
   ],
   "source": [
    "f_importances = f_importances[f_importances['importance'] > 0.008]\n",
    "f_importances = f_importances.Feature.values\n",
    "print(f_importances)"
   ]
  },
  {
   "cell_type": "code",
   "execution_count": 21,
   "id": "20024f54",
   "metadata": {},
   "outputs": [
    {
     "name": "stdout",
     "output_type": "stream",
     "text": [
      "(20000, 8)\n",
      "(20000,)\n"
     ]
    }
   ],
   "source": [
    "X_new,y = get_X_y(df_tweetskb_user, f_importances)"
   ]
  },
  {
   "cell_type": "code",
   "execution_count": 25,
   "id": "179b00a3",
   "metadata": {},
   "outputs": [
    {
     "name": "stdout",
     "output_type": "stream",
     "text": [
      " percision : 0.56 +/- 0.007\n",
      " f1        : 0.62 +/- 0.008\n",
      " recall    : 0.70 +/- 0.012\n",
      "Wall time: 24.7 s\n"
     ]
    }
   ],
   "source": [
    "%%time\n",
    "clf_cv = RandomForestClassifier(n_estimators = 300, min_samples_split= 8, min_samples_leaf= 2, max_features= 'auto', max_depth = 10, bootstrap= False, n_jobs=-1)\n",
    "print_cross_val_score(clf_cv, X_new, y)"
   ]
  },
  {
   "cell_type": "code",
   "execution_count": 26,
   "id": "930d09dc",
   "metadata": {},
   "outputs": [
    {
     "name": "stdout",
     "output_type": "stream",
     "text": [
      " percision : 0.56 +/- 0.008\n",
      " f1        : 0.62 +/- 0.008\n",
      " recall    : 0.70 +/- 0.014\n",
      "Wall time: 24.1 s\n"
     ]
    }
   ],
   "source": [
    "%%time\n",
    "clf_cv = RandomForestClassifier(n_estimators = 300, min_samples_split= 8, min_samples_leaf= 2, max_features= 'auto', max_depth = 10, bootstrap= False, n_jobs=-1)\n",
    "print_cross_val_score(clf_cv, X, y)"
   ]
  },
  {
   "cell_type": "markdown",
   "id": "d94b1fd4",
   "metadata": {},
   "source": [
    "***"
   ]
  },
  {
   "cell_type": "code",
   "execution_count": 68,
   "id": "d4e13a11",
   "metadata": {},
   "outputs": [],
   "source": [
    "n_estimators = [100, 200, 300, 400, 500, 1000]\n",
    "max_features = ['sqrt', 'log2', 'auto']\n",
    "max_depth =  [2,4,6,8,10]\n",
    "min_samples_split = [2,4,8]\n",
    "min_samples_leaf = [1,2,4]\n",
    "bootstrap = [True, False]"
   ]
  },
  {
   "cell_type": "code",
   "execution_count": 69,
   "id": "aa2ea1b8",
   "metadata": {},
   "outputs": [
    {
     "name": "stdout",
     "output_type": "stream",
     "text": [
      "{'n_estimators': [100, 200, 300, 400, 500, 1000], 'max_features': ['sqrt', 'log2', 'auto'], 'max_depth': [2, 4, 6, 8, 10], 'min_samples_split': [2, 4, 8], 'min_samples_leaf': [1, 2, 4], 'bootstrap': [True, False]}\n"
     ]
    }
   ],
   "source": [
    "param_grid = {'n_estimators' : n_estimators,\n",
    "              'max_features' : max_features,\n",
    "              'max_depth' : max_depth,\n",
    "              'min_samples_split' : min_samples_split,\n",
    "              'min_samples_leaf' : min_samples_leaf,\n",
    "              'bootstrap' : bootstrap}\n",
    "print(param_grid)"
   ]
  },
  {
   "cell_type": "code",
   "execution_count": 26,
   "id": "32bfbdfc",
   "metadata": {},
   "outputs": [],
   "source": [
    "rf_model = RandomForestClassifier()"
   ]
  },
  {
   "cell_type": "code",
   "execution_count": 70,
   "id": "2456ee98",
   "metadata": {},
   "outputs": [
    {
     "name": "stdout",
     "output_type": "stream",
     "text": [
      "Fitting 3 folds for each of 1620 candidates, totalling 4860 fits\n",
      "Wall time: 57min 54s\n"
     ]
    },
    {
     "data": {
      "text/html": [
       "<style>#sk-container-id-2 {color: black;background-color: white;}#sk-container-id-2 pre{padding: 0;}#sk-container-id-2 div.sk-toggleable {background-color: white;}#sk-container-id-2 label.sk-toggleable__label {cursor: pointer;display: block;width: 100%;margin-bottom: 0;padding: 0.3em;box-sizing: border-box;text-align: center;}#sk-container-id-2 label.sk-toggleable__label-arrow:before {content: \"▸\";float: left;margin-right: 0.25em;color: #696969;}#sk-container-id-2 label.sk-toggleable__label-arrow:hover:before {color: black;}#sk-container-id-2 div.sk-estimator:hover label.sk-toggleable__label-arrow:before {color: black;}#sk-container-id-2 div.sk-toggleable__content {max-height: 0;max-width: 0;overflow: hidden;text-align: left;background-color: #f0f8ff;}#sk-container-id-2 div.sk-toggleable__content pre {margin: 0.2em;color: black;border-radius: 0.25em;background-color: #f0f8ff;}#sk-container-id-2 input.sk-toggleable__control:checked~div.sk-toggleable__content {max-height: 200px;max-width: 100%;overflow: auto;}#sk-container-id-2 input.sk-toggleable__control:checked~label.sk-toggleable__label-arrow:before {content: \"▾\";}#sk-container-id-2 div.sk-estimator input.sk-toggleable__control:checked~label.sk-toggleable__label {background-color: #d4ebff;}#sk-container-id-2 div.sk-label input.sk-toggleable__control:checked~label.sk-toggleable__label {background-color: #d4ebff;}#sk-container-id-2 input.sk-hidden--visually {border: 0;clip: rect(1px 1px 1px 1px);clip: rect(1px, 1px, 1px, 1px);height: 1px;margin: -1px;overflow: hidden;padding: 0;position: absolute;width: 1px;}#sk-container-id-2 div.sk-estimator {font-family: monospace;background-color: #f0f8ff;border: 1px dotted black;border-radius: 0.25em;box-sizing: border-box;margin-bottom: 0.5em;}#sk-container-id-2 div.sk-estimator:hover {background-color: #d4ebff;}#sk-container-id-2 div.sk-parallel-item::after {content: \"\";width: 100%;border-bottom: 1px solid gray;flex-grow: 1;}#sk-container-id-2 div.sk-label:hover label.sk-toggleable__label {background-color: #d4ebff;}#sk-container-id-2 div.sk-serial::before {content: \"\";position: absolute;border-left: 1px solid gray;box-sizing: border-box;top: 0;bottom: 0;left: 50%;z-index: 0;}#sk-container-id-2 div.sk-serial {display: flex;flex-direction: column;align-items: center;background-color: white;padding-right: 0.2em;padding-left: 0.2em;position: relative;}#sk-container-id-2 div.sk-item {position: relative;z-index: 1;}#sk-container-id-2 div.sk-parallel {display: flex;align-items: stretch;justify-content: center;background-color: white;position: relative;}#sk-container-id-2 div.sk-item::before, #sk-container-id-2 div.sk-parallel-item::before {content: \"\";position: absolute;border-left: 1px solid gray;box-sizing: border-box;top: 0;bottom: 0;left: 50%;z-index: -1;}#sk-container-id-2 div.sk-parallel-item {display: flex;flex-direction: column;z-index: 1;position: relative;background-color: white;}#sk-container-id-2 div.sk-parallel-item:first-child::after {align-self: flex-end;width: 50%;}#sk-container-id-2 div.sk-parallel-item:last-child::after {align-self: flex-start;width: 50%;}#sk-container-id-2 div.sk-parallel-item:only-child::after {width: 0;}#sk-container-id-2 div.sk-dashed-wrapped {border: 1px dashed gray;margin: 0 0.4em 0.5em 0.4em;box-sizing: border-box;padding-bottom: 0.4em;background-color: white;}#sk-container-id-2 div.sk-label label {font-family: monospace;font-weight: bold;display: inline-block;line-height: 1.2em;}#sk-container-id-2 div.sk-label-container {text-align: center;}#sk-container-id-2 div.sk-container {/* jupyter's `normalize.less` sets `[hidden] { display: none; }` but bootstrap.min.css set `[hidden] { display: none !important; }` so we also need the `!important` here to be able to override the default hidden behavior on the sphinx rendered scikit-learn.org. See: https://github.com/scikit-learn/scikit-learn/issues/21755 */display: inline-block !important;position: relative;}#sk-container-id-2 div.sk-text-repr-fallback {display: none;}</style><div id=\"sk-container-id-2\" class=\"sk-top-container\"><div class=\"sk-text-repr-fallback\"><pre>GridSearchCV(cv=3, estimator=RandomForestClassifier(n_jobs=-1), n_jobs=-1,\n",
       "             param_grid={&#x27;bootstrap&#x27;: [True, False],\n",
       "                         &#x27;max_depth&#x27;: [2, 4, 6, 8, 10],\n",
       "                         &#x27;max_features&#x27;: [&#x27;sqrt&#x27;, &#x27;log2&#x27;, &#x27;auto&#x27;],\n",
       "                         &#x27;min_samples_leaf&#x27;: [1, 2, 4],\n",
       "                         &#x27;min_samples_split&#x27;: [2, 4, 8],\n",
       "                         &#x27;n_estimators&#x27;: [100, 200, 300, 400, 500, 1000]},\n",
       "             verbose=10)</pre><b>In a Jupyter environment, please rerun this cell to show the HTML representation or trust the notebook. <br />On GitHub, the HTML representation is unable to render, please try loading this page with nbviewer.org.</b></div><div class=\"sk-container\" hidden><div class=\"sk-item sk-dashed-wrapped\"><div class=\"sk-label-container\"><div class=\"sk-label sk-toggleable\"><input class=\"sk-toggleable__control sk-hidden--visually\" id=\"sk-estimator-id-4\" type=\"checkbox\" ><label for=\"sk-estimator-id-4\" class=\"sk-toggleable__label sk-toggleable__label-arrow\">GridSearchCV</label><div class=\"sk-toggleable__content\"><pre>GridSearchCV(cv=3, estimator=RandomForestClassifier(n_jobs=-1), n_jobs=-1,\n",
       "             param_grid={&#x27;bootstrap&#x27;: [True, False],\n",
       "                         &#x27;max_depth&#x27;: [2, 4, 6, 8, 10],\n",
       "                         &#x27;max_features&#x27;: [&#x27;sqrt&#x27;, &#x27;log2&#x27;, &#x27;auto&#x27;],\n",
       "                         &#x27;min_samples_leaf&#x27;: [1, 2, 4],\n",
       "                         &#x27;min_samples_split&#x27;: [2, 4, 8],\n",
       "                         &#x27;n_estimators&#x27;: [100, 200, 300, 400, 500, 1000]},\n",
       "             verbose=10)</pre></div></div></div><div class=\"sk-parallel\"><div class=\"sk-parallel-item\"><div class=\"sk-item\"><div class=\"sk-label-container\"><div class=\"sk-label sk-toggleable\"><input class=\"sk-toggleable__control sk-hidden--visually\" id=\"sk-estimator-id-5\" type=\"checkbox\" ><label for=\"sk-estimator-id-5\" class=\"sk-toggleable__label sk-toggleable__label-arrow\">estimator: RandomForestClassifier</label><div class=\"sk-toggleable__content\"><pre>RandomForestClassifier(n_jobs=-1)</pre></div></div></div><div class=\"sk-serial\"><div class=\"sk-item\"><div class=\"sk-estimator sk-toggleable\"><input class=\"sk-toggleable__control sk-hidden--visually\" id=\"sk-estimator-id-6\" type=\"checkbox\" ><label for=\"sk-estimator-id-6\" class=\"sk-toggleable__label sk-toggleable__label-arrow\">RandomForestClassifier</label><div class=\"sk-toggleable__content\"><pre>RandomForestClassifier(n_jobs=-1)</pre></div></div></div></div></div></div></div></div></div></div>"
      ],
      "text/plain": [
       "GridSearchCV(cv=3, estimator=RandomForestClassifier(n_jobs=-1), n_jobs=-1,\n",
       "             param_grid={'bootstrap': [True, False],\n",
       "                         'max_depth': [2, 4, 6, 8, 10],\n",
       "                         'max_features': ['sqrt', 'log2', 'auto'],\n",
       "                         'min_samples_leaf': [1, 2, 4],\n",
       "                         'min_samples_split': [2, 4, 8],\n",
       "                         'n_estimators': [100, 200, 300, 400, 500, 1000]},\n",
       "             verbose=10)"
      ]
     },
     "execution_count": 70,
     "metadata": {},
     "output_type": "execute_result"
    }
   ],
   "source": [
    "%%time\n",
    "clf_grid = GridSearchCV(rf_model, param_grid = param_grid, cv = 3, verbose = 10, n_jobs = -1)\n",
    "clf_grid.fit(X_train,y_train)"
   ]
  },
  {
   "cell_type": "code",
   "execution_count": 71,
   "id": "af811b8d",
   "metadata": {},
   "outputs": [
    {
     "data": {
      "text/plain": [
       "{'bootstrap': False,\n",
       " 'max_depth': 10,\n",
       " 'max_features': 'auto',\n",
       " 'min_samples_leaf': 2,\n",
       " 'min_samples_split': 8,\n",
       " 'n_estimators': 300}"
      ]
     },
     "execution_count": 71,
     "metadata": {},
     "output_type": "execute_result"
    }
   ],
   "source": [
    "clf_grid.best_params_"
   ]
  },
  {
   "cell_type": "code",
   "execution_count": 27,
   "id": "77dd6708",
   "metadata": {},
   "outputs": [
    {
     "name": "stdout",
     "output_type": "stream",
     "text": [
      " percision : 0.56 +/- 0.008\n",
      " f1        : 0.62 +/- 0.008\n",
      " recall    : 0.69 +/- 0.015\n",
      "Wall time: 22.4 s\n"
     ]
    }
   ],
   "source": [
    "%%time\n",
    "#20000 Tweets\n",
    "clf_cv = RandomForestClassifier(n_estimators = 300, min_samples_split= 8, min_samples_leaf= 2, max_features= 'auto', max_depth = 10, bootstrap= False, n_jobs=-1)\n",
    "\n",
    "print_cross_val_score(clf_cv, X_new, y)"
   ]
  },
  {
   "cell_type": "code",
   "execution_count": 25,
   "id": "afa43871",
   "metadata": {},
   "outputs": [
    {
     "name": "stdout",
     "output_type": "stream",
     "text": [
      " percision : 0.57 +/- 0.003\n",
      " f1        : 0.64 +/- 0.003\n",
      " recall    : 0.72 +/- 0.003\n",
      "Wall time: 8min 46s\n"
     ]
    }
   ],
   "source": [
    "%%time\n",
    "#200 000 Tweets\n",
    "clf_cv = RandomForestClassifier(n_estimators = 300, min_samples_split= 8, min_samples_leaf= 2, max_features= 'auto', max_depth = 10, bootstrap= False, n_jobs=-1)\n",
    "\n",
    "print_cross_val_score(clf_cv, X_new, y)"
   ]
  },
  {
   "cell_type": "markdown",
   "id": "5695132c",
   "metadata": {},
   "source": [
    "*****************************************************\n",
    "*****************************************************"
   ]
  },
  {
   "cell_type": "markdown",
   "id": "3804e69c",
   "metadata": {},
   "source": [
    "## Plot feature Imortances\n",
    "### Tweetkb (Content + User)"
   ]
  },
  {
   "cell_type": "code",
   "execution_count": 40,
   "id": "80a1184e",
   "metadata": {},
   "outputs": [],
   "source": [
    "def plot_hist_Features_kb(l_features_importances, l_features, title):\n",
    "    \n",
    "    #colors = ['mediumorchid', 'gold', 'green', 'peru', 'red', 'mediumslateblue', 'deepskyblue', 'darkkhaki', 'brown']\n",
    "    colors = ['steelblue','Black', 'peru', 'mediumslateblue', 'lightgreen']\n",
    "    \n",
    "    x = np.arange(len(l_features))\n",
    "    #figure(figsize=(12, 8), dpi=80)\n",
    "    fig, ax = plt.subplots()\n",
    "    plt.rcParams[\"figure.figsize\"] = [14,14]\n",
    "    \n",
    "    #ax.hist(df1, df2 = bins,  color = 'mediumslateblue', label = 'nicht gelöscht')\n",
    "    ax.bar(x, l_features_importances, width = 0.5)\n",
    "    ax.set_title('Random Forest', fontweight=\"bold\", fontsize=20)\n",
    "    #ax.set_xlabel('Features', fontsize=12)\n",
    "    ax.set_ylabel('Feature Importance', fontsize=20)\n",
    "    ax.set_xticks(x)\n",
    "    ax.set_xticklabels(l_features, fontsize=26,  rotation='vertical')\n",
    "           \n",
    "    #ax.tick_params(axis='x', which='major', labelsize=14)\n",
    "    ax.tick_params(axis='y', which='major', labelsize=17)\n",
    "\n",
    "    fig.tight_layout()\n",
    "   #plt.legend()\n",
    "    plt.savefig('../plots/'+title+'.pdf')\n"
   ]
  },
  {
   "cell_type": "code",
   "execution_count": 41,
   "id": "317f1201",
   "metadata": {},
   "outputs": [
    {
     "data": {
      "text/plain": [
       "['Reputation (user)',\n",
       " 'Retweets',\n",
       " 'Favorites',\n",
       " 'Focusfuture',\n",
       " 'Political polarisation (user based)',\n",
       " 'Moderacy polarisation (user based)',\n",
       " 'Text length',\n",
       " 'Number of URLs',\n",
       " 'User sentiment average',\n",
       " 'Informal']"
      ]
     },
     "execution_count": 41,
     "metadata": {},
     "output_type": "execute_result"
    }
   ],
   "source": [
    "l_features = f_importances.Feature.tolist()\n",
    "l_features = l_features[:10]\n",
    "\n",
    "l_features_importances = f_importances.importance.tolist()\n",
    "l_features_importances = l_features_importances[0:10]\n",
    "l_features"
   ]
  },
  {
   "cell_type": "code",
   "execution_count": 42,
   "id": "7147ff63",
   "metadata": {},
   "outputs": [
    {
     "data": {
      "image/png": "[encoded data removed]",
      "text/plain": [
       "<Figure size 1008x1008 with 1 Axes>"
      ]
     },
     "metadata": {
      "needs_background": "light"
     },
     "output_type": "display_data"
    }
   ],
   "source": [
    "plot_hist_Features_kb(l_features_importances, l_features, 'Rf_tweetskb_content_user')"
   ]
  },
  {
   "cell_type": "markdown",
   "id": "951ff12f",
   "metadata": {},
   "source": [
    "***********************************************************************\n",
    "***********************************************************************"
   ]
  },
  {
   "cell_type": "markdown",
   "id": "3e379c01",
   "metadata": {},
   "source": [
    "## Tweetskb\n",
    "### Content only\n"
   ]
  },
  {
   "cell_type": "code",
   "execution_count": 89,
   "id": "beeb07d4",
   "metadata": {},
   "outputs": [],
   "source": [
    "features = df_tweetskb_user.columns\n",
    "features\n",
    "\n",
    "#features = features[2:83]\n",
    "df_tweetskb_user = df_tweetskb_user[features.tolist()]\n",
    "df_tweetskb_user = df_tweetskb_user.drop(columns=[   'user_political_polarisation', 'user_science_polarisation', 'user_moderacy_polarisation', 'user_Reputation',])\n"
   ]
  },
  {
   "cell_type": "code",
   "execution_count": 90,
   "id": "7068e208",
   "metadata": {},
   "outputs": [
    {
     "name": "stdout",
     "output_type": "stream",
     "text": [
      "(20000, 8)\n",
      "(20000,)\n"
     ]
    }
   ],
   "source": [
    "features = df_tweetskb_user.columns\n",
    "X,y = get_X_y(df_tweetskb_user, features)"
   ]
  },
  {
   "cell_type": "code",
   "execution_count": 91,
   "id": "1736f34a",
   "metadata": {},
   "outputs": [
    {
     "name": "stdout",
     "output_type": "stream",
     "text": [
      "(16000, 8)\n",
      "(4000, 8)\n",
      "(16000,)\n",
      "(4000,)\n"
     ]
    }
   ],
   "source": [
    "X_train, X_test, y_train, y_test = split_train_test_valid(X,y)"
   ]
  },
  {
   "cell_type": "code",
   "execution_count": 92,
   "id": "df2dd283",
   "metadata": {},
   "outputs": [
    {
     "data": {
      "text/html": [
       "<div>\n",
       "<style scoped>\n",
       "    .dataframe tbody tr th:only-of-type {\n",
       "        vertical-align: middle;\n",
       "    }\n",
       "\n",
       "    .dataframe tbody tr th {\n",
       "        vertical-align: top;\n",
       "    }\n",
       "\n",
       "    .dataframe thead th {\n",
       "        text-align: right;\n",
       "    }\n",
       "</style>\n",
       "<table border=\"1\" class=\"dataframe\">\n",
       "  <thead>\n",
       "    <tr style=\"text-align: right;\">\n",
       "      <th></th>\n",
       "      <th>index</th>\n",
       "      <th>Feature</th>\n",
       "      <th>importance</th>\n",
       "    </tr>\n",
       "  </thead>\n",
       "  <tbody>\n",
       "    <tr>\n",
       "      <th>0</th>\n",
       "      <td>0</td>\n",
       "      <td>Retweets</td>\n",
       "      <td>0.3168</td>\n",
       "    </tr>\n",
       "    <tr>\n",
       "      <th>1</th>\n",
       "      <td>1</td>\n",
       "      <td>Favorites</td>\n",
       "      <td>0.2895</td>\n",
       "    </tr>\n",
       "    <tr>\n",
       "      <th>2</th>\n",
       "      <td>3</td>\n",
       "      <td>Mentions_num</td>\n",
       "      <td>0.1303</td>\n",
       "    </tr>\n",
       "    <tr>\n",
       "      <th>3</th>\n",
       "      <td>2</td>\n",
       "      <td>Hashtags_num</td>\n",
       "      <td>0.1186</td>\n",
       "    </tr>\n",
       "    <tr>\n",
       "      <th>4</th>\n",
       "      <td>4</td>\n",
       "      <td>URLs_num</td>\n",
       "      <td>0.1021</td>\n",
       "    </tr>\n",
       "    <tr>\n",
       "      <th>5</th>\n",
       "      <td>5</td>\n",
       "      <td>tweet_political_polarisation</td>\n",
       "      <td>0.0226</td>\n",
       "    </tr>\n",
       "    <tr>\n",
       "      <th>6</th>\n",
       "      <td>7</td>\n",
       "      <td>tweet_moderacy_polarisation</td>\n",
       "      <td>0.0156</td>\n",
       "    </tr>\n",
       "    <tr>\n",
       "      <th>7</th>\n",
       "      <td>6</td>\n",
       "      <td>tweet_science_polarisation</td>\n",
       "      <td>0.0047</td>\n",
       "    </tr>\n",
       "  </tbody>\n",
       "</table>\n",
       "</div>"
      ],
      "text/plain": [
       "   index                       Feature  importance\n",
       "0      0                      Retweets      0.3168\n",
       "1      1                     Favorites      0.2895\n",
       "2      3                  Mentions_num      0.1303\n",
       "3      2                  Hashtags_num      0.1186\n",
       "4      4                      URLs_num      0.1021\n",
       "5      5  tweet_political_polarisation      0.0226\n",
       "6      7   tweet_moderacy_polarisation      0.0156\n",
       "7      6    tweet_science_polarisation      0.0047"
      ]
     },
     "execution_count": 92,
     "metadata": {},
     "output_type": "execute_result"
    }
   ],
   "source": [
    "clf_cv = RandomForestClassifier(n_estimators = 300, min_samples_split= 8, min_samples_leaf= 2, max_features= 'auto', max_depth = 10, bootstrap= False, n_jobs=-1)\n",
    "clf_cv.fit(X_train, y_train)\n",
    "\n",
    "f_importances = features_classifier_(X, clf_cv)\n",
    "f_importances"
   ]
  },
  {
   "cell_type": "code",
   "execution_count": 93,
   "id": "aabe7365",
   "metadata": {},
   "outputs": [
    {
     "name": "stdout",
     "output_type": "stream",
     "text": [
      "['Retweets' 'Favorites' 'Mentions_num' 'Hashtags_num' 'URLs_num'\n",
      " 'tweet_political_polarisation' 'tweet_moderacy_polarisation']\n"
     ]
    }
   ],
   "source": [
    "f_importances = f_importances[f_importances['importance'] > 0.008]\n",
    "f_importances = f_importances.Feature.values\n",
    "print(f_importances)"
   ]
  },
  {
   "cell_type": "code",
   "execution_count": 94,
   "id": "5a0349c9",
   "metadata": {},
   "outputs": [
    {
     "name": "stdout",
     "output_type": "stream",
     "text": [
      "(20000, 7)\n",
      "(20000,)\n"
     ]
    }
   ],
   "source": [
    "X_new,y = get_X_y(df_tweetskb_user, f_importances)"
   ]
  },
  {
   "cell_type": "code",
   "execution_count": 95,
   "id": "cc7647bc",
   "metadata": {},
   "outputs": [
    {
     "name": "stdout",
     "output_type": "stream",
     "text": [
      " percision : 0.55 +/- 0.008\n",
      " f1        : 0.62 +/- 0.011\n",
      " recall    : 0.71 +/- 0.016\n",
      "Wall time: 15.9 s\n"
     ]
    }
   ],
   "source": [
    "%%time\n",
    "clf_cv = RandomForestClassifier(n_estimators = 300, min_samples_split= 8, min_samples_leaf= 2, max_features= 'auto', max_depth = 10, bootstrap= False, n_jobs=-1)\n",
    "print_cross_val_score(clf_cv, X_new, y)"
   ]
  },
  {
   "cell_type": "code",
   "execution_count": 96,
   "id": "01ff9bb3",
   "metadata": {},
   "outputs": [
    {
     "name": "stdout",
     "output_type": "stream",
     "text": [
      " percision : 0.55 +/- 0.008\n",
      " f1        : 0.62 +/- 0.010\n",
      " recall    : 0.71 +/- 0.014\n",
      "Wall time: 16.6 s\n"
     ]
    }
   ],
   "source": [
    "%%time\n",
    "clf_cv = RandomForestClassifier(n_estimators = 300, min_samples_split= 8, min_samples_leaf= 2, max_features= 'auto', max_depth = 10, bootstrap= False, n_jobs=-1)\n",
    "print_cross_val_score(clf_cv, X, y)"
   ]
  },
  {
   "cell_type": "markdown",
   "id": "0b94fb57",
   "metadata": {},
   "source": [
    "***************************************************\n",
    "***************************************************"
   ]
  },
  {
   "cell_type": "code",
   "execution_count": 32,
   "id": "d8bace07",
   "metadata": {},
   "outputs": [
    {
     "name": "stdout",
     "output_type": "stream",
     "text": [
      " percision : 0.57 +/- 0.003\n",
      " f1        : 0.62 +/- 0.002\n",
      " recall    : 0.68 +/- 0.004\n",
      "Wall time: 9min 45s\n"
     ]
    }
   ],
   "source": [
    "%%time\n",
    "#200 000 Tweets\n",
    "clf_cv = RandomForestClassifier(n_estimators = 300, min_samples_split= 8, min_samples_leaf= 2, max_features= 'auto', max_depth = 10, bootstrap= False, n_jobs=-1)\n",
    "\n",
    "print_cross_val_score(clf_cv, X_new, y)"
   ]
  },
  {
   "cell_type": "markdown",
   "id": "18562fa8",
   "metadata": {},
   "source": [
    "***"
   ]
  },
  {
   "cell_type": "markdown",
   "id": "3233c790",
   "metadata": {},
   "source": [
    "## Plot feature Imortances\n",
    "### Tweetkb (Content Only )"
   ]
  },
  {
   "cell_type": "code",
   "execution_count": 47,
   "id": "69c72c63",
   "metadata": {},
   "outputs": [],
   "source": [
    "def plot_hist_Features_content_only_kb(l_features_importances, l_features, title):\n",
    "    \n",
    "    #colors = ['red', 'blue', 'peru', 'orange', 'yellow', 'mediumslateblue', 'deepskyblue', 'steelblue']\n",
    "    colors = ['black', 'peru', 'mediumslateblue', 'lightblue', 'lightgreen']\n",
    "    \n",
    "    x = np.arange(len(l_features))\n",
    "    #figure(figsize=(12, 8), dpi=80)\n",
    "    fig, ax = plt.subplots()\n",
    "    plt.rcParams[\"figure.figsize\"] = [10,7]\n",
    "    \n",
    "    #ax.hist(df1, df2 = bins,  color = 'mediumslateblue', label = 'nicht gelöscht')\n",
    "    ax.bar(x, l_features_importances, width = 0.5)\n",
    "    ax.set_title('Random Forest', fontweight=\"bold\", fontsize=20)\n",
    "    #ax.set_xlabel('Features', fontsize=12)\n",
    "    ax.set_ylabel('Feature Importance', fontsize=20)\n",
    "    ax.set_xticks(x)\n",
    "    ax.set_xticklabels(l_features, fontsize=26,  rotation='vertical')\n",
    "           \n",
    "    #ax.tick_params(axis='x', which='major', labelsize=14)\n",
    "    ax.tick_params(axis='y', which='major', labelsize=17)\n",
    "\n",
    "    fig.tight_layout()\n",
    " \n",
    "    #plt.legend()\n",
    "    plt.savefig('../plots/'+title+'.pdf')\n"
   ]
  },
  {
   "cell_type": "code",
   "execution_count": 48,
   "id": "487ce3da",
   "metadata": {},
   "outputs": [
    {
     "data": {
      "text/plain": [
       "['Retweets',\n",
       " 'Favorites',\n",
       " 'Focusfuture',\n",
       " 'Number of URLs',\n",
       " 'Text length',\n",
       " 'Informal',\n",
       " 'Sexual',\n",
       " 'Number of hashtags',\n",
       " 'Work',\n",
       " 'Article']"
      ]
     },
     "execution_count": 48,
     "metadata": {},
     "output_type": "execute_result"
    }
   ],
   "source": [
    "l_features = f_importances.Feature.tolist()\n",
    "l_features = l_features[:10]\n",
    "\n",
    "l_features_importances = f_importances.importance.tolist()\n",
    "l_features_importances = l_features_importances[0:10]\n",
    "l_features"
   ]
  },
  {
   "cell_type": "code",
   "execution_count": 49,
   "id": "1f8ae894",
   "metadata": {},
   "outputs": [
    {
     "data": {
      "image/png": "[encoded data removed]",
      "text/plain": [
       "<Figure size 1008x1008 with 1 Axes>"
      ]
     },
     "metadata": {
      "needs_background": "light"
     },
     "output_type": "display_data"
    }
   ],
   "source": [
    "plot_hist_Features_content_only_kb(l_features_importances, l_features, 'Rf_tweetskb_content_only')"
   ]
  },
  {
   "cell_type": "code",
   "execution_count": null,
   "id": "f45e4e30",
   "metadata": {},
   "outputs": [],
   "source": []
  }
 ],
 "metadata": {
  "kernelspec": {
   "display_name": "Python 3",
   "language": "python",
   "name": "python3"
  },
  "language_info": {
   "codemirror_mode": {
    "name": "ipython",
    "version": 3
   },
   "file_extension": ".py",
   "mimetype": "text/x-python",
   "name": "python",
   "nbconvert_exporter": "python",
   "pygments_lexer": "ipython3",
   "version": "3.8.8"
  }
 },
 "nbformat": 4,
 "nbformat_minor": 5
}
