{
 "cells": [
  {
   "cell_type": "code",
   "execution_count": 1,
   "id": "0d58770b",
   "metadata": {},
   "outputs": [],
   "source": [
    "#Import CSV Bibliothek \n",
    "import csv\n",
    "#Import Pandas and label it as pd\n",
    "import pandas as pd\n",
    "#Import numpy and label it as np \n",
    "import numpy as np\n",
    "#Import Json library\n",
    "import json\n",
    "#Set size of Data on 100,000,000 line  \n",
    "csv.field_size_limit(100000000)\n",
    "#Display max. rows and columns \n",
    "pd.options.display.max_columns = None\n",
    "pd.options.display.max_rows = None\n",
    "#Import tldextract for extraction of Domains\n",
    "import tldextract\n",
    "#Show warnings just in console \n",
    "import warnings\n",
    "warnings.filterwarnings('ignore')"
   ]
  },
  {
   "cell_type": "markdown",
   "id": "26e91423",
   "metadata": {},
   "source": [
    "***"
   ]
  },
  {
   "cell_type": "markdown",
   "id": "8defc5cf",
   "metadata": {},
   "source": [
    "# Political Polarisiation"
   ]
  },
  {
   "cell_type": "markdown",
   "id": "b88eebe8",
   "metadata": {},
   "source": [
    "### Liberale"
   ]
  },
  {
   "cell_type": "markdown",
   "id": "0c55c029",
   "metadata": {},
   "source": [
    "***"
   ]
  },
  {
   "cell_type": "code",
   "execution_count": 2,
   "id": "e6cd078b",
   "metadata": {},
   "outputs": [],
   "source": [
    "path = '../data/df_domains_left_right.tsv'\n",
    "\n",
    "df_domains_left_right = pd.read_csv(path, sep='\\t', error_bad_lines=False)"
   ]
  },
  {
   "cell_type": "code",
   "execution_count": 3,
   "id": "27e9b226",
   "metadata": {},
   "outputs": [
    {
     "name": "stdout",
     "output_type": "stream",
     "text": [
      "Shape:  (1589, 5)\n"
     ]
    },
    {
     "data": {
      "text/html": [
       "<div>\n",
       "<style scoped>\n",
       "    .dataframe tbody tr th:only-of-type {\n",
       "        vertical-align: middle;\n",
       "    }\n",
       "\n",
       "    .dataframe tbody tr th {\n",
       "        vertical-align: top;\n",
       "    }\n",
       "\n",
       "    .dataframe thead th {\n",
       "        text-align: right;\n",
       "    }\n",
       "</style>\n",
       "<table border=\"1\" class=\"dataframe\">\n",
       "  <thead>\n",
       "    <tr style=\"text-align: right;\">\n",
       "      <th></th>\n",
       "      <th>dom</th>\n",
       "      <th>mediabias_leftcenterbias</th>\n",
       "      <th>mediabias_leftbias</th>\n",
       "      <th>mediabias_rightcenterbias</th>\n",
       "      <th>mediabias_rightbias</th>\n",
       "    </tr>\n",
       "  </thead>\n",
       "  <tbody>\n",
       "    <tr>\n",
       "      <th>0</th>\n",
       "      <td>604now.com</td>\n",
       "      <td>1.0</td>\n",
       "      <td>0.0</td>\n",
       "      <td>0.0</td>\n",
       "      <td>0.0</td>\n",
       "    </tr>\n",
       "    <tr>\n",
       "      <th>1</th>\n",
       "      <td>972mag.com</td>\n",
       "      <td>1.0</td>\n",
       "      <td>0.0</td>\n",
       "      <td>0.0</td>\n",
       "      <td>0.0</td>\n",
       "    </tr>\n",
       "    <tr>\n",
       "      <th>2</th>\n",
       "      <td>Augustachronicle.com</td>\n",
       "      <td>1.0</td>\n",
       "      <td>0.0</td>\n",
       "      <td>0.0</td>\n",
       "      <td>0.0</td>\n",
       "    </tr>\n",
       "    <tr>\n",
       "      <th>3</th>\n",
       "      <td>Boston.com</td>\n",
       "      <td>1.0</td>\n",
       "      <td>0.0</td>\n",
       "      <td>0.0</td>\n",
       "      <td>0.0</td>\n",
       "    </tr>\n",
       "    <tr>\n",
       "      <th>4</th>\n",
       "      <td>Censor.NET</td>\n",
       "      <td>1.0</td>\n",
       "      <td>0.0</td>\n",
       "      <td>0.0</td>\n",
       "      <td>0.0</td>\n",
       "    </tr>\n",
       "  </tbody>\n",
       "</table>\n",
       "</div>"
      ],
      "text/plain": [
       "                    dom  mediabias_leftcenterbias  mediabias_leftbias  \\\n",
       "0            604now.com                       1.0                 0.0   \n",
       "1            972mag.com                       1.0                 0.0   \n",
       "2  Augustachronicle.com                       1.0                 0.0   \n",
       "3            Boston.com                       1.0                 0.0   \n",
       "4            Censor.NET                       1.0                 0.0   \n",
       "\n",
       "   mediabias_rightcenterbias  mediabias_rightbias  \n",
       "0                        0.0                  0.0  \n",
       "1                        0.0                  0.0  \n",
       "2                        0.0                  0.0  \n",
       "3                        0.0                  0.0  \n",
       "4                        0.0                  0.0  "
      ]
     },
     "execution_count": 3,
     "metadata": {},
     "output_type": "execute_result"
    }
   ],
   "source": [
    "print('Shape: ', df_domains_left_right.shape)\n",
    "df_domains_left_right.head()"
   ]
  },
  {
   "cell_type": "code",
   "execution_count": 4,
   "id": "5de21a85",
   "metadata": {},
   "outputs": [
    {
     "name": "stdout",
     "output_type": "stream",
     "text": [
      "Shape:  (644, 5)\n"
     ]
    },
    {
     "data": {
      "text/html": [
       "<div>\n",
       "<style scoped>\n",
       "    .dataframe tbody tr th:only-of-type {\n",
       "        vertical-align: middle;\n",
       "    }\n",
       "\n",
       "    .dataframe tbody tr th {\n",
       "        vertical-align: top;\n",
       "    }\n",
       "\n",
       "    .dataframe thead th {\n",
       "        text-align: right;\n",
       "    }\n",
       "</style>\n",
       "<table border=\"1\" class=\"dataframe\">\n",
       "  <thead>\n",
       "    <tr style=\"text-align: right;\">\n",
       "      <th></th>\n",
       "      <th>dom</th>\n",
       "      <th>mediabias_leftcenterbias</th>\n",
       "      <th>mediabias_leftbias</th>\n",
       "      <th>mediabias_rightcenterbias</th>\n",
       "      <th>mediabias_rightbias</th>\n",
       "    </tr>\n",
       "  </thead>\n",
       "  <tbody>\n",
       "    <tr>\n",
       "      <th>0</th>\n",
       "      <td>604now.com</td>\n",
       "      <td>1.0</td>\n",
       "      <td>0.0</td>\n",
       "      <td>0.0</td>\n",
       "      <td>0.0</td>\n",
       "    </tr>\n",
       "    <tr>\n",
       "      <th>1</th>\n",
       "      <td>972mag.com</td>\n",
       "      <td>1.0</td>\n",
       "      <td>0.0</td>\n",
       "      <td>0.0</td>\n",
       "      <td>0.0</td>\n",
       "    </tr>\n",
       "    <tr>\n",
       "      <th>2</th>\n",
       "      <td>Augustachronicle.com</td>\n",
       "      <td>1.0</td>\n",
       "      <td>0.0</td>\n",
       "      <td>0.0</td>\n",
       "      <td>0.0</td>\n",
       "    </tr>\n",
       "    <tr>\n",
       "      <th>3</th>\n",
       "      <td>Boston.com</td>\n",
       "      <td>1.0</td>\n",
       "      <td>0.0</td>\n",
       "      <td>0.0</td>\n",
       "      <td>0.0</td>\n",
       "    </tr>\n",
       "    <tr>\n",
       "      <th>4</th>\n",
       "      <td>Censor.NET</td>\n",
       "      <td>1.0</td>\n",
       "      <td>0.0</td>\n",
       "      <td>0.0</td>\n",
       "      <td>0.0</td>\n",
       "    </tr>\n",
       "  </tbody>\n",
       "</table>\n",
       "</div>"
      ],
      "text/plain": [
       "                    dom  mediabias_leftcenterbias  mediabias_leftbias  \\\n",
       "0            604now.com                       1.0                 0.0   \n",
       "1            972mag.com                       1.0                 0.0   \n",
       "2  Augustachronicle.com                       1.0                 0.0   \n",
       "3            Boston.com                       1.0                 0.0   \n",
       "4            Censor.NET                       1.0                 0.0   \n",
       "\n",
       "   mediabias_rightcenterbias  mediabias_rightbias  \n",
       "0                        0.0                  0.0  \n",
       "1                        0.0                  0.0  \n",
       "2                        0.0                  0.0  \n",
       "3                        0.0                  0.0  \n",
       "4                        0.0                  0.0  "
      ]
     },
     "execution_count": 4,
     "metadata": {},
     "output_type": "execute_result"
    }
   ],
   "source": [
    "df_dom_leftcenterbias = df_domains_left_right[df_domains_left_right['mediabias_leftcenterbias'] == 1]\n",
    "print('Shape: ', df_dom_leftcenterbias.shape)\n",
    "df_dom_leftcenterbias.head()"
   ]
  },
  {
   "cell_type": "code",
   "execution_count": 5,
   "id": "beb43801",
   "metadata": {},
   "outputs": [],
   "source": [
    "#Die Spalte der anti-wissenschaftlichen Domäne zu Liste umwandeln.\n",
    "list_dom_leftcenterbias = df_dom_leftcenterbias.dom.tolist()"
   ]
  },
  {
   "cell_type": "code",
   "execution_count": 6,
   "id": "460d25cd",
   "metadata": {},
   "outputs": [],
   "source": [
    "def get_unique_items(l1):\n",
    "    l1 = np.array(l1)\n",
    "    l1 = np.unique(l1)\n",
    "    l1 = l1.tolist()\n",
    "    \n",
    "    return l1"
   ]
  },
  {
   "cell_type": "code",
   "execution_count": 7,
   "id": "ba384765",
   "metadata": {},
   "outputs": [
    {
     "data": {
      "text/plain": [
       "644"
      ]
     },
     "execution_count": 7,
     "metadata": {},
     "output_type": "execute_result"
    }
   ],
   "source": [
    "list_dom_leftcenterbias = get_unique_items(list_dom_leftcenterbias)\n",
    "len(list_dom_leftcenterbias)"
   ]
  },
  {
   "cell_type": "code",
   "execution_count": 8,
   "id": "bb839858",
   "metadata": {},
   "outputs": [
    {
     "name": "stdout",
     "output_type": "stream",
     "text": [
      "Shape:  (310, 5)\n"
     ]
    },
    {
     "data": {
      "text/html": [
       "<div>\n",
       "<style scoped>\n",
       "    .dataframe tbody tr th:only-of-type {\n",
       "        vertical-align: middle;\n",
       "    }\n",
       "\n",
       "    .dataframe tbody tr th {\n",
       "        vertical-align: top;\n",
       "    }\n",
       "\n",
       "    .dataframe thead th {\n",
       "        text-align: right;\n",
       "    }\n",
       "</style>\n",
       "<table border=\"1\" class=\"dataframe\">\n",
       "  <thead>\n",
       "    <tr style=\"text-align: right;\">\n",
       "      <th></th>\n",
       "      <th>dom</th>\n",
       "      <th>mediabias_leftcenterbias</th>\n",
       "      <th>mediabias_leftbias</th>\n",
       "      <th>mediabias_rightcenterbias</th>\n",
       "      <th>mediabias_rightbias</th>\n",
       "    </tr>\n",
       "  </thead>\n",
       "  <tbody>\n",
       "    <tr>\n",
       "      <th>644</th>\n",
       "      <td>19thnews.org</td>\n",
       "      <td>0.0</td>\n",
       "      <td>1.0</td>\n",
       "      <td>0.0</td>\n",
       "      <td>0.0</td>\n",
       "    </tr>\n",
       "    <tr>\n",
       "      <th>645</th>\n",
       "      <td>Accountable.US</td>\n",
       "      <td>0.0</td>\n",
       "      <td>1.0</td>\n",
       "      <td>0.0</td>\n",
       "      <td>0.0</td>\n",
       "    </tr>\n",
       "    <tr>\n",
       "      <th>646</th>\n",
       "      <td>Brut.Media</td>\n",
       "      <td>0.0</td>\n",
       "      <td>1.0</td>\n",
       "      <td>0.0</td>\n",
       "      <td>0.0</td>\n",
       "    </tr>\n",
       "    <tr>\n",
       "      <th>647</th>\n",
       "      <td>JoeBiden.com</td>\n",
       "      <td>0.0</td>\n",
       "      <td>1.0</td>\n",
       "      <td>0.0</td>\n",
       "      <td>0.0</td>\n",
       "    </tr>\n",
       "    <tr>\n",
       "      <th>648</th>\n",
       "      <td>Them.us</td>\n",
       "      <td>0.0</td>\n",
       "      <td>1.0</td>\n",
       "      <td>0.0</td>\n",
       "      <td>0.0</td>\n",
       "    </tr>\n",
       "  </tbody>\n",
       "</table>\n",
       "</div>"
      ],
      "text/plain": [
       "                dom  mediabias_leftcenterbias  mediabias_leftbias  \\\n",
       "644    19thnews.org                       0.0                 1.0   \n",
       "645  Accountable.US                       0.0                 1.0   \n",
       "646      Brut.Media                       0.0                 1.0   \n",
       "647    JoeBiden.com                       0.0                 1.0   \n",
       "648         Them.us                       0.0                 1.0   \n",
       "\n",
       "     mediabias_rightcenterbias  mediabias_rightbias  \n",
       "644                        0.0                  0.0  \n",
       "645                        0.0                  0.0  \n",
       "646                        0.0                  0.0  \n",
       "647                        0.0                  0.0  \n",
       "648                        0.0                  0.0  "
      ]
     },
     "execution_count": 8,
     "metadata": {},
     "output_type": "execute_result"
    }
   ],
   "source": [
    "df_dom_leftbias = df_domains_left_right[df_domains_left_right['mediabias_leftbias'] == 1]\n",
    "print('Shape: ', df_dom_leftbias.shape)\n",
    "df_dom_leftbias.head()"
   ]
  },
  {
   "cell_type": "code",
   "execution_count": 9,
   "id": "689a755c",
   "metadata": {},
   "outputs": [],
   "source": [
    "list_dom_leftbias = df_dom_leftbias.dom.tolist()"
   ]
  },
  {
   "cell_type": "code",
   "execution_count": 10,
   "id": "ffc1825f",
   "metadata": {},
   "outputs": [
    {
     "data": {
      "text/plain": [
       "310"
      ]
     },
     "execution_count": 10,
     "metadata": {},
     "output_type": "execute_result"
    }
   ],
   "source": [
    "list_dom_leftbias = get_unique_items(list_dom_leftbias)\n",
    "len(list_dom_leftbias)"
   ]
  },
  {
   "cell_type": "code",
   "execution_count": 11,
   "id": "8fffc566",
   "metadata": {},
   "outputs": [
    {
     "data": {
      "text/plain": [
       "310"
      ]
     },
     "execution_count": 11,
     "metadata": {},
     "output_type": "execute_result"
    }
   ],
   "source": [
    "list_lib = []\n",
    "list_lib.extend(list_dom_leftbias)\n",
    "#list_lib.extend(list_dom_leftcenterbias)\n",
    "\n",
    "list_lib = get_unique_items(list_lib)\n",
    "len(list_lib)"
   ]
  },
  {
   "cell_type": "code",
   "execution_count": 12,
   "id": "e13e67a5",
   "metadata": {},
   "outputs": [
    {
     "ename": "ValueError",
     "evalue": "list.remove(x): x not in list",
     "output_type": "error",
     "traceback": [
      "\u001b[1;31m---------------------------------------------------------------------------\u001b[0m",
      "\u001b[1;31mValueError\u001b[0m                                Traceback (most recent call last)",
      "\u001b[1;32m<ipython-input-12-c2af2822f6ac>\u001b[0m in \u001b[0;36m<module>\u001b[1;34m\u001b[0m\n\u001b[1;32m----> 1\u001b[1;33m \u001b[0mlist_lib\u001b[0m\u001b[1;33m.\u001b[0m\u001b[0mremove\u001b[0m\u001b[1;33m(\u001b[0m\u001b[1;34m'dom'\u001b[0m\u001b[1;33m)\u001b[0m\u001b[1;33m\u001b[0m\u001b[1;33m\u001b[0m\u001b[0m\n\u001b[0m\u001b[0;32m      2\u001b[0m \u001b[1;31m#list_lib.remove('bbc.com')\u001b[0m\u001b[1;33m\u001b[0m\u001b[1;33m\u001b[0m\u001b[1;33m\u001b[0m\u001b[0m\n\u001b[0;32m      3\u001b[0m \u001b[1;31m#list_lib.remove('usatoday.com')\u001b[0m\u001b[1;33m\u001b[0m\u001b[1;33m\u001b[0m\u001b[1;33m\u001b[0m\u001b[0m\n",
      "\u001b[1;31mValueError\u001b[0m: list.remove(x): x not in list"
     ]
    }
   ],
   "source": [
    "list_lib.remove('dom')\n",
    "#list_lib.remove('bbc.com')\n",
    "#list_lib.remove('usatoday.com')"
   ]
  },
  {
   "cell_type": "code",
   "execution_count": 16,
   "id": "3f6ab612",
   "metadata": {},
   "outputs": [
    {
     "data": {
      "text/plain": [
       "310"
      ]
     },
     "execution_count": 16,
     "metadata": {},
     "output_type": "execute_result"
    }
   ],
   "source": [
    "len(list_lib)"
   ]
  },
  {
   "cell_type": "markdown",
   "id": "006dc313",
   "metadata": {},
   "source": [
    "***"
   ]
  },
  {
   "cell_type": "markdown",
   "id": "97ed1699",
   "metadata": {},
   "source": [
    "## Conservative"
   ]
  },
  {
   "cell_type": "markdown",
   "id": "cb73fc69",
   "metadata": {},
   "source": [
    "***"
   ]
  },
  {
   "cell_type": "code",
   "execution_count": 13,
   "id": "e12e9b08",
   "metadata": {},
   "outputs": [
    {
     "name": "stdout",
     "output_type": "stream",
     "text": [
      "Shape:  (381, 5)\n"
     ]
    },
    {
     "data": {
      "text/html": [
       "<div>\n",
       "<style scoped>\n",
       "    .dataframe tbody tr th:only-of-type {\n",
       "        vertical-align: middle;\n",
       "    }\n",
       "\n",
       "    .dataframe tbody tr th {\n",
       "        vertical-align: top;\n",
       "    }\n",
       "\n",
       "    .dataframe thead th {\n",
       "        text-align: right;\n",
       "    }\n",
       "</style>\n",
       "<table border=\"1\" class=\"dataframe\">\n",
       "  <thead>\n",
       "    <tr style=\"text-align: right;\">\n",
       "      <th></th>\n",
       "      <th>dom</th>\n",
       "      <th>mediabias_leftcenterbias</th>\n",
       "      <th>mediabias_leftbias</th>\n",
       "      <th>mediabias_rightcenterbias</th>\n",
       "      <th>mediabias_rightbias</th>\n",
       "    </tr>\n",
       "  </thead>\n",
       "  <tbody>\n",
       "    <tr>\n",
       "      <th>954</th>\n",
       "      <td>13wham.com</td>\n",
       "      <td>0.0</td>\n",
       "      <td>0.0</td>\n",
       "      <td>1.0</td>\n",
       "      <td>0.0</td>\n",
       "    </tr>\n",
       "    <tr>\n",
       "      <th>955</th>\n",
       "      <td>19fortyfive.com</td>\n",
       "      <td>0.0</td>\n",
       "      <td>0.0</td>\n",
       "      <td>1.0</td>\n",
       "      <td>0.0</td>\n",
       "    </tr>\n",
       "    <tr>\n",
       "      <th>956</th>\n",
       "      <td>7news.com.au</td>\n",
       "      <td>0.0</td>\n",
       "      <td>0.0</td>\n",
       "      <td>1.0</td>\n",
       "      <td>0.0</td>\n",
       "    </tr>\n",
       "    <tr>\n",
       "      <th>957</th>\n",
       "      <td>9news.com.au</td>\n",
       "      <td>0.0</td>\n",
       "      <td>0.0</td>\n",
       "      <td>1.0</td>\n",
       "      <td>0.0</td>\n",
       "    </tr>\n",
       "    <tr>\n",
       "      <th>958</th>\n",
       "      <td>Deutschland.de</td>\n",
       "      <td>0.0</td>\n",
       "      <td>0.0</td>\n",
       "      <td>1.0</td>\n",
       "      <td>0.0</td>\n",
       "    </tr>\n",
       "  </tbody>\n",
       "</table>\n",
       "</div>"
      ],
      "text/plain": [
       "                 dom  mediabias_leftcenterbias  mediabias_leftbias  \\\n",
       "954       13wham.com                       0.0                 0.0   \n",
       "955  19fortyfive.com                       0.0                 0.0   \n",
       "956     7news.com.au                       0.0                 0.0   \n",
       "957     9news.com.au                       0.0                 0.0   \n",
       "958   Deutschland.de                       0.0                 0.0   \n",
       "\n",
       "     mediabias_rightcenterbias  mediabias_rightbias  \n",
       "954                        1.0                  0.0  \n",
       "955                        1.0                  0.0  \n",
       "956                        1.0                  0.0  \n",
       "957                        1.0                  0.0  \n",
       "958                        1.0                  0.0  "
      ]
     },
     "execution_count": 13,
     "metadata": {},
     "output_type": "execute_result"
    }
   ],
   "source": [
    "df_dom_rightcenterbias = df_domains_left_right[df_domains_left_right['mediabias_rightcenterbias'] == 1]\n",
    "print('Shape: ', df_dom_rightcenterbias.shape)\n",
    "df_dom_rightcenterbias.head()"
   ]
  },
  {
   "cell_type": "code",
   "execution_count": 14,
   "id": "739a6ae5",
   "metadata": {},
   "outputs": [
    {
     "data": {
      "text/plain": [
       "381"
      ]
     },
     "execution_count": 14,
     "metadata": {},
     "output_type": "execute_result"
    }
   ],
   "source": [
    "list_rightcenterbias = df_dom_rightcenterbias.dom.tolist()\n",
    "\n",
    "list_rightcenterbias = get_unique_items(list_rightcenterbias)\n",
    "len(list_rightcenterbias)"
   ]
  },
  {
   "cell_type": "code",
   "execution_count": 15,
   "id": "b69f2bbe",
   "metadata": {},
   "outputs": [
    {
     "name": "stdout",
     "output_type": "stream",
     "text": [
      "Shape:  (254, 5)\n"
     ]
    },
    {
     "data": {
      "text/html": [
       "<div>\n",
       "<style scoped>\n",
       "    .dataframe tbody tr th:only-of-type {\n",
       "        vertical-align: middle;\n",
       "    }\n",
       "\n",
       "    .dataframe tbody tr th {\n",
       "        vertical-align: top;\n",
       "    }\n",
       "\n",
       "    .dataframe thead th {\n",
       "        text-align: right;\n",
       "    }\n",
       "</style>\n",
       "<table border=\"1\" class=\"dataframe\">\n",
       "  <thead>\n",
       "    <tr style=\"text-align: right;\">\n",
       "      <th></th>\n",
       "      <th>dom</th>\n",
       "      <th>mediabias_leftcenterbias</th>\n",
       "      <th>mediabias_leftbias</th>\n",
       "      <th>mediabias_rightcenterbias</th>\n",
       "      <th>mediabias_rightbias</th>\n",
       "    </tr>\n",
       "  </thead>\n",
       "  <tbody>\n",
       "    <tr>\n",
       "      <th>1335</th>\n",
       "      <td>2ndvote.com</td>\n",
       "      <td>0.0</td>\n",
       "      <td>0.0</td>\n",
       "      <td>0.0</td>\n",
       "      <td>1.0</td>\n",
       "    </tr>\n",
       "    <tr>\n",
       "      <th>1336</th>\n",
       "      <td>Abort73.com</td>\n",
       "      <td>0.0</td>\n",
       "      <td>0.0</td>\n",
       "      <td>0.0</td>\n",
       "      <td>1.0</td>\n",
       "    </tr>\n",
       "    <tr>\n",
       "      <th>1337</th>\n",
       "      <td>Aish.com</td>\n",
       "      <td>0.0</td>\n",
       "      <td>0.0</td>\n",
       "      <td>0.0</td>\n",
       "      <td>1.0</td>\n",
       "    </tr>\n",
       "    <tr>\n",
       "      <th>1338</th>\n",
       "      <td>AsianNews.it</td>\n",
       "      <td>0.0</td>\n",
       "      <td>0.0</td>\n",
       "      <td>0.0</td>\n",
       "      <td>1.0</td>\n",
       "    </tr>\n",
       "    <tr>\n",
       "      <th>1339</th>\n",
       "      <td>CAGW.org</td>\n",
       "      <td>0.0</td>\n",
       "      <td>0.0</td>\n",
       "      <td>0.0</td>\n",
       "      <td>1.0</td>\n",
       "    </tr>\n",
       "  </tbody>\n",
       "</table>\n",
       "</div>"
      ],
      "text/plain": [
       "               dom  mediabias_leftcenterbias  mediabias_leftbias  \\\n",
       "1335   2ndvote.com                       0.0                 0.0   \n",
       "1336   Abort73.com                       0.0                 0.0   \n",
       "1337      Aish.com                       0.0                 0.0   \n",
       "1338  AsianNews.it                       0.0                 0.0   \n",
       "1339      CAGW.org                       0.0                 0.0   \n",
       "\n",
       "      mediabias_rightcenterbias  mediabias_rightbias  \n",
       "1335                        0.0                  1.0  \n",
       "1336                        0.0                  1.0  \n",
       "1337                        0.0                  1.0  \n",
       "1338                        0.0                  1.0  \n",
       "1339                        0.0                  1.0  "
      ]
     },
     "execution_count": 15,
     "metadata": {},
     "output_type": "execute_result"
    }
   ],
   "source": [
    "df_dom_rightbias = df_domains_left_right[df_domains_left_right['mediabias_rightbias'] == 1]\n",
    "print('Shape: ', df_dom_rightbias.shape)\n",
    "df_dom_rightbias.head()"
   ]
  },
  {
   "cell_type": "code",
   "execution_count": 16,
   "id": "90307fda",
   "metadata": {},
   "outputs": [
    {
     "data": {
      "text/plain": [
       "254"
      ]
     },
     "execution_count": 16,
     "metadata": {},
     "output_type": "execute_result"
    }
   ],
   "source": [
    "df_dom_rightbias = df_dom_rightbias.dom.tolist()\n",
    "\n",
    "df_dom_rightbias = get_unique_items(df_dom_rightbias)\n",
    "len(df_dom_rightbias)"
   ]
  },
  {
   "cell_type": "code",
   "execution_count": 17,
   "id": "4ec97955",
   "metadata": {},
   "outputs": [
    {
     "data": {
      "text/plain": [
       "254"
      ]
     },
     "execution_count": 17,
     "metadata": {},
     "output_type": "execute_result"
    }
   ],
   "source": [
    "list_con = []\n",
    "list_con.extend(df_dom_rightbias)\n",
    "#list_con.extend(list_rightcenterbias)\n",
    "\n",
    "list_con = get_unique_items(list_con)\n",
    "len(list_con)"
   ]
  },
  {
   "cell_type": "code",
   "execution_count": 18,
   "id": "8391e998",
   "metadata": {},
   "outputs": [
    {
     "ename": "ValueError",
     "evalue": "list.remove(x): x not in list",
     "output_type": "error",
     "traceback": [
      "\u001b[1;31m---------------------------------------------------------------------------\u001b[0m",
      "\u001b[1;31mValueError\u001b[0m                                Traceback (most recent call last)",
      "\u001b[1;32m<ipython-input-18-dc4e33018385>\u001b[0m in \u001b[0;36m<module>\u001b[1;34m\u001b[0m\n\u001b[1;32m----> 1\u001b[1;33m \u001b[0mlist_con\u001b[0m\u001b[1;33m.\u001b[0m\u001b[0mremove\u001b[0m\u001b[1;33m(\u001b[0m\u001b[1;34m'dom'\u001b[0m\u001b[1;33m)\u001b[0m\u001b[1;33m\u001b[0m\u001b[1;33m\u001b[0m\u001b[0m\n\u001b[0m\u001b[0;32m      2\u001b[0m \u001b[1;31m#list_con.remove('bbc.com')\u001b[0m\u001b[1;33m\u001b[0m\u001b[1;33m\u001b[0m\u001b[1;33m\u001b[0m\u001b[0m\n\u001b[0;32m      3\u001b[0m \u001b[1;31m#list_con.remove('usatoday.com')\u001b[0m\u001b[1;33m\u001b[0m\u001b[1;33m\u001b[0m\u001b[1;33m\u001b[0m\u001b[0m\n",
      "\u001b[1;31mValueError\u001b[0m: list.remove(x): x not in list"
     ]
    }
   ],
   "source": [
    "list_con.remove('dom')\n",
    "#list_con.remove('bbc.com')\n",
    "#list_con.remove('usatoday.com')"
   ]
  },
  {
   "cell_type": "code",
   "execution_count": 23,
   "id": "50c8beab",
   "metadata": {},
   "outputs": [
    {
     "data": {
      "text/plain": [
       "254"
      ]
     },
     "execution_count": 23,
     "metadata": {},
     "output_type": "execute_result"
    }
   ],
   "source": [
    "len(list_con)"
   ]
  },
  {
   "cell_type": "markdown",
   "id": "da98e917",
   "metadata": {},
   "source": [
    "***"
   ]
  },
  {
   "cell_type": "markdown",
   "id": "2e6bb8ad",
   "metadata": {},
   "source": [
    "## TweetsCov19"
   ]
  },
  {
   "cell_type": "code",
   "execution_count": 2,
   "id": "eda60083",
   "metadata": {},
   "outputs": [
    {
     "name": "stdout",
     "output_type": "stream",
     "text": [
      "Shape : (9409841, 5)\n"
     ]
    },
    {
     "data": {
      "text/html": [
       "<div>\n",
       "<style scoped>\n",
       "    .dataframe tbody tr th:only-of-type {\n",
       "        vertical-align: middle;\n",
       "    }\n",
       "\n",
       "    .dataframe tbody tr th {\n",
       "        vertical-align: top;\n",
       "    }\n",
       "\n",
       "    .dataframe thead th {\n",
       "        text-align: right;\n",
       "    }\n",
       "</style>\n",
       "<table border=\"1\" class=\"dataframe\">\n",
       "  <thead>\n",
       "    <tr style=\"text-align: right;\">\n",
       "      <th></th>\n",
       "      <th>Tweet_Id</th>\n",
       "      <th>Username</th>\n",
       "      <th>is_deleted</th>\n",
       "      <th>Urls_num</th>\n",
       "      <th>Url_dom</th>\n",
       "    </tr>\n",
       "  </thead>\n",
       "  <tbody>\n",
       "    <tr>\n",
       "      <th>0</th>\n",
       "      <td>1178791637348212736</td>\n",
       "      <td>c57d4fb895c5f4a33d2a2b24709f93b5</td>\n",
       "      <td>True</td>\n",
       "      <td>0</td>\n",
       "      <td>0</td>\n",
       "    </tr>\n",
       "    <tr>\n",
       "      <th>1</th>\n",
       "      <td>1178791641601232896</td>\n",
       "      <td>627f7d4ef584ba33a676a4ebcb861cdb</td>\n",
       "      <td>False</td>\n",
       "      <td>1</td>\n",
       "      <td>catholicnewsagency.com</td>\n",
       "    </tr>\n",
       "    <tr>\n",
       "      <th>2</th>\n",
       "      <td>1178791643509612547</td>\n",
       "      <td>7966d5716c1c4f33591b17755184e3d6</td>\n",
       "      <td>False</td>\n",
       "      <td>0</td>\n",
       "      <td>0</td>\n",
       "    </tr>\n",
       "    <tr>\n",
       "      <th>3</th>\n",
       "      <td>1178791644214235137</td>\n",
       "      <td>f17996c036ed4cd981f5448fe00d9ed2</td>\n",
       "      <td>False</td>\n",
       "      <td>0</td>\n",
       "      <td>0</td>\n",
       "    </tr>\n",
       "    <tr>\n",
       "      <th>4</th>\n",
       "      <td>1178791645371875329</td>\n",
       "      <td>32a54e5f6d8a67de1bffd2e689594dc8</td>\n",
       "      <td>False</td>\n",
       "      <td>0</td>\n",
       "      <td>0</td>\n",
       "    </tr>\n",
       "  </tbody>\n",
       "</table>\n",
       "</div>"
      ],
      "text/plain": [
       "              Tweet_Id                          Username  is_deleted  \\\n",
       "0  1178791637348212736  c57d4fb895c5f4a33d2a2b24709f93b5        True   \n",
       "1  1178791641601232896  627f7d4ef584ba33a676a4ebcb861cdb       False   \n",
       "2  1178791643509612547  7966d5716c1c4f33591b17755184e3d6       False   \n",
       "3  1178791644214235137  f17996c036ed4cd981f5448fe00d9ed2       False   \n",
       "4  1178791645371875329  32a54e5f6d8a67de1bffd2e689594dc8       False   \n",
       "\n",
       "   Urls_num                 Url_dom  \n",
       "0         0                       0  \n",
       "1         1  catholicnewsagency.com  \n",
       "2         0                       0  \n",
       "3         0                       0  \n",
       "4         0                       0  "
      ]
     },
     "execution_count": 2,
     "metadata": {},
     "output_type": "execute_result"
    }
   ],
   "source": [
    "pfad_tsv1 = '../../tweetsCov19_id_is_dom.tsv'\n",
    "\n",
    "df_tweetscov19 = pd.read_csv(pfad_tsv1, sep='\\t', error_bad_lines=False, names=['Tweet_Id', 'Username','is_deleted','Urls_num', 'Url_dom'])\n",
    "pd.options.display.max_columns = None\n",
    "print('Shape :', df_tweetscov19.shape)\n",
    "df_tweetscov19.head()"
   ]
  },
  {
   "cell_type": "code",
   "execution_count": 20,
   "id": "b02a1f9d",
   "metadata": {},
   "outputs": [],
   "source": [
    "\n",
    "def get_politik_pol(domains):\n",
    "    domains_list = domains.split()\n",
    "    score = 0\n",
    "    for i in range(0, len(domains_list)):\n",
    "        \n",
    "        #d = tldextract.extract(domains_list[i])\n",
    "        #d = d.domain\n",
    "        \n",
    "        d = domains_list[i]\n",
    "        \n",
    "        \n",
    "        if d in list_lib:\n",
    "            score -=  1\n",
    "        \n",
    "    return score"
   ]
  },
  {
   "cell_type": "code",
   "execution_count": 21,
   "id": "f9c2e5dd",
   "metadata": {},
   "outputs": [],
   "source": [
    "df_tweetscov19['Url_dom'] = df_tweetscov19['Url_dom'].astype(str)\n",
    "df_tweetscov19['dom_neg_pol'] = df_tweetscov19.apply(lambda row: get_politik_pol(row['Url_dom']) if (row['Url_dom'] != '0') else 0, axis=1)"
   ]
  },
  {
   "cell_type": "code",
   "execution_count": 22,
   "id": "e3475b72",
   "metadata": {},
   "outputs": [
    {
     "data": {
      "text/html": [
       "<div>\n",
       "<style scoped>\n",
       "    .dataframe tbody tr th:only-of-type {\n",
       "        vertical-align: middle;\n",
       "    }\n",
       "\n",
       "    .dataframe tbody tr th {\n",
       "        vertical-align: top;\n",
       "    }\n",
       "\n",
       "    .dataframe thead th {\n",
       "        text-align: right;\n",
       "    }\n",
       "</style>\n",
       "<table border=\"1\" class=\"dataframe\">\n",
       "  <thead>\n",
       "    <tr style=\"text-align: right;\">\n",
       "      <th></th>\n",
       "      <th>Tweet_Id</th>\n",
       "      <th>Username</th>\n",
       "      <th>is_deleted</th>\n",
       "      <th>Urls_num</th>\n",
       "      <th>Url_dom</th>\n",
       "      <th>dom_neg_pol</th>\n",
       "    </tr>\n",
       "  </thead>\n",
       "  <tbody>\n",
       "    <tr>\n",
       "      <th>0</th>\n",
       "      <td>1178791637348212736</td>\n",
       "      <td>c57d4fb895c5f4a33d2a2b24709f93b5</td>\n",
       "      <td>True</td>\n",
       "      <td>0</td>\n",
       "      <td>0</td>\n",
       "      <td>0</td>\n",
       "    </tr>\n",
       "    <tr>\n",
       "      <th>1</th>\n",
       "      <td>1178791641601232896</td>\n",
       "      <td>627f7d4ef584ba33a676a4ebcb861cdb</td>\n",
       "      <td>False</td>\n",
       "      <td>1</td>\n",
       "      <td>catholicnewsagency.com</td>\n",
       "      <td>0</td>\n",
       "    </tr>\n",
       "    <tr>\n",
       "      <th>2</th>\n",
       "      <td>1178791643509612547</td>\n",
       "      <td>7966d5716c1c4f33591b17755184e3d6</td>\n",
       "      <td>False</td>\n",
       "      <td>0</td>\n",
       "      <td>0</td>\n",
       "      <td>0</td>\n",
       "    </tr>\n",
       "    <tr>\n",
       "      <th>3</th>\n",
       "      <td>1178791644214235137</td>\n",
       "      <td>f17996c036ed4cd981f5448fe00d9ed2</td>\n",
       "      <td>False</td>\n",
       "      <td>0</td>\n",
       "      <td>0</td>\n",
       "      <td>0</td>\n",
       "    </tr>\n",
       "    <tr>\n",
       "      <th>4</th>\n",
       "      <td>1178791645371875329</td>\n",
       "      <td>32a54e5f6d8a67de1bffd2e689594dc8</td>\n",
       "      <td>False</td>\n",
       "      <td>0</td>\n",
       "      <td>0</td>\n",
       "      <td>0</td>\n",
       "    </tr>\n",
       "  </tbody>\n",
       "</table>\n",
       "</div>"
      ],
      "text/plain": [
       "              Tweet_Id                          Username  is_deleted  \\\n",
       "0  1178791637348212736  c57d4fb895c5f4a33d2a2b24709f93b5        True   \n",
       "1  1178791641601232896  627f7d4ef584ba33a676a4ebcb861cdb       False   \n",
       "2  1178791643509612547  7966d5716c1c4f33591b17755184e3d6       False   \n",
       "3  1178791644214235137  f17996c036ed4cd981f5448fe00d9ed2       False   \n",
       "4  1178791645371875329  32a54e5f6d8a67de1bffd2e689594dc8       False   \n",
       "\n",
       "   Urls_num                 Url_dom  dom_neg_pol  \n",
       "0         0                       0            0  \n",
       "1         1  catholicnewsagency.com            0  \n",
       "2         0                       0            0  \n",
       "3         0                       0            0  \n",
       "4         0                       0            0  "
      ]
     },
     "execution_count": 22,
     "metadata": {},
     "output_type": "execute_result"
    }
   ],
   "source": [
    "df_tweetscov19.head()"
   ]
  },
  {
   "cell_type": "code",
   "execution_count": 23,
   "id": "571e1807",
   "metadata": {},
   "outputs": [
    {
     "data": {
      "text/plain": [
       "(100446, 6)"
      ]
     },
     "execution_count": 23,
     "metadata": {},
     "output_type": "execute_result"
    }
   ],
   "source": [
    "#Anzahl der Tweets die eine Wertung weniger als 0 haben.\n",
    "df_tweetscov19[df_tweetscov19['dom_neg_pol'] < 0].shape"
   ]
  },
  {
   "cell_type": "code",
   "execution_count": 24,
   "id": "2f60e57c",
   "metadata": {},
   "outputs": [],
   "source": [
    "\n",
    "def get_politik_pol_pos(domains):\n",
    "    domains_list = domains.split()\n",
    "    score = 0\n",
    "    for i in range(0, len(domains_list)):\n",
    "        \n",
    "        #d = tldextract.extract(domains_list[i])\n",
    "        #d = d.domain\n",
    "       \n",
    "        d =  domains_list[i]\n",
    "        \n",
    "        if d in list_con:\n",
    "            score +=  1\n",
    "        \n",
    "    return score"
   ]
  },
  {
   "cell_type": "code",
   "execution_count": 25,
   "id": "d5c82230",
   "metadata": {},
   "outputs": [],
   "source": [
    "df_tweetscov19['dom_pos_pol'] = df_tweetscov19.apply(lambda row: get_politik_pol_pos(row['Url_dom']) if (row['Url_dom'] != '0') else 0, axis=1)"
   ]
  },
  {
   "cell_type": "code",
   "execution_count": 26,
   "id": "6e73050d",
   "metadata": {},
   "outputs": [
    {
     "data": {
      "text/html": [
       "<div>\n",
       "<style scoped>\n",
       "    .dataframe tbody tr th:only-of-type {\n",
       "        vertical-align: middle;\n",
       "    }\n",
       "\n",
       "    .dataframe tbody tr th {\n",
       "        vertical-align: top;\n",
       "    }\n",
       "\n",
       "    .dataframe thead th {\n",
       "        text-align: right;\n",
       "    }\n",
       "</style>\n",
       "<table border=\"1\" class=\"dataframe\">\n",
       "  <thead>\n",
       "    <tr style=\"text-align: right;\">\n",
       "      <th></th>\n",
       "      <th>Tweet_Id</th>\n",
       "      <th>Username</th>\n",
       "      <th>is_deleted</th>\n",
       "      <th>Urls_num</th>\n",
       "      <th>Url_dom</th>\n",
       "      <th>dom_neg_pol</th>\n",
       "      <th>dom_pos_pol</th>\n",
       "    </tr>\n",
       "  </thead>\n",
       "  <tbody>\n",
       "    <tr>\n",
       "      <th>0</th>\n",
       "      <td>1178791637348212736</td>\n",
       "      <td>c57d4fb895c5f4a33d2a2b24709f93b5</td>\n",
       "      <td>True</td>\n",
       "      <td>0</td>\n",
       "      <td>0</td>\n",
       "      <td>0</td>\n",
       "      <td>0</td>\n",
       "    </tr>\n",
       "    <tr>\n",
       "      <th>1</th>\n",
       "      <td>1178791641601232896</td>\n",
       "      <td>627f7d4ef584ba33a676a4ebcb861cdb</td>\n",
       "      <td>False</td>\n",
       "      <td>1</td>\n",
       "      <td>catholicnewsagency.com</td>\n",
       "      <td>0</td>\n",
       "      <td>0</td>\n",
       "    </tr>\n",
       "    <tr>\n",
       "      <th>2</th>\n",
       "      <td>1178791643509612547</td>\n",
       "      <td>7966d5716c1c4f33591b17755184e3d6</td>\n",
       "      <td>False</td>\n",
       "      <td>0</td>\n",
       "      <td>0</td>\n",
       "      <td>0</td>\n",
       "      <td>0</td>\n",
       "    </tr>\n",
       "    <tr>\n",
       "      <th>3</th>\n",
       "      <td>1178791644214235137</td>\n",
       "      <td>f17996c036ed4cd981f5448fe00d9ed2</td>\n",
       "      <td>False</td>\n",
       "      <td>0</td>\n",
       "      <td>0</td>\n",
       "      <td>0</td>\n",
       "      <td>0</td>\n",
       "    </tr>\n",
       "    <tr>\n",
       "      <th>4</th>\n",
       "      <td>1178791645371875329</td>\n",
       "      <td>32a54e5f6d8a67de1bffd2e689594dc8</td>\n",
       "      <td>False</td>\n",
       "      <td>0</td>\n",
       "      <td>0</td>\n",
       "      <td>0</td>\n",
       "      <td>0</td>\n",
       "    </tr>\n",
       "  </tbody>\n",
       "</table>\n",
       "</div>"
      ],
      "text/plain": [
       "              Tweet_Id                          Username  is_deleted  \\\n",
       "0  1178791637348212736  c57d4fb895c5f4a33d2a2b24709f93b5        True   \n",
       "1  1178791641601232896  627f7d4ef584ba33a676a4ebcb861cdb       False   \n",
       "2  1178791643509612547  7966d5716c1c4f33591b17755184e3d6       False   \n",
       "3  1178791644214235137  f17996c036ed4cd981f5448fe00d9ed2       False   \n",
       "4  1178791645371875329  32a54e5f6d8a67de1bffd2e689594dc8       False   \n",
       "\n",
       "   Urls_num                 Url_dom  dom_neg_pol  dom_pos_pol  \n",
       "0         0                       0            0            0  \n",
       "1         1  catholicnewsagency.com            0            0  \n",
       "2         0                       0            0            0  \n",
       "3         0                       0            0            0  \n",
       "4         0                       0            0            0  "
      ]
     },
     "execution_count": 26,
     "metadata": {},
     "output_type": "execute_result"
    }
   ],
   "source": [
    "df_tweetscov19.head()"
   ]
  },
  {
   "cell_type": "code",
   "execution_count": 27,
   "id": "44ccc144",
   "metadata": {},
   "outputs": [
    {
     "data": {
      "text/plain": [
       "(57721, 7)"
      ]
     },
     "execution_count": 27,
     "metadata": {},
     "output_type": "execute_result"
    }
   ],
   "source": [
    "df_tweetscov19[df_tweetscov19['dom_pos_pol'] > 0].shape"
   ]
  },
  {
   "cell_type": "code",
   "execution_count": 28,
   "id": "3a03f013",
   "metadata": {},
   "outputs": [],
   "source": [
    "\n",
    "df_tweetscov19_unique_user = df_tweetscov19.groupby('Username')['Urls_num', 'dom_neg_pol', 'dom_pos_pol'].sum()"
   ]
  },
  {
   "cell_type": "code",
   "execution_count": 29,
   "id": "85057364",
   "metadata": {},
   "outputs": [
    {
     "data": {
      "text/plain": [
       "(4095876, 3)"
      ]
     },
     "execution_count": 29,
     "metadata": {},
     "output_type": "execute_result"
    }
   ],
   "source": [
    "#Anzahl der einzigartigen Users in Dataframe\n",
    "df_tweetscov19_unique_user.shape"
   ]
  },
  {
   "cell_type": "code",
   "execution_count": 30,
   "id": "d3bfe5a1",
   "metadata": {},
   "outputs": [
    {
     "data": {
      "text/html": [
       "<div>\n",
       "<style scoped>\n",
       "    .dataframe tbody tr th:only-of-type {\n",
       "        vertical-align: middle;\n",
       "    }\n",
       "\n",
       "    .dataframe tbody tr th {\n",
       "        vertical-align: top;\n",
       "    }\n",
       "\n",
       "    .dataframe thead th {\n",
       "        text-align: right;\n",
       "    }\n",
       "</style>\n",
       "<table border=\"1\" class=\"dataframe\">\n",
       "  <thead>\n",
       "    <tr style=\"text-align: right;\">\n",
       "      <th></th>\n",
       "      <th>Urls_num</th>\n",
       "      <th>dom_neg_pol</th>\n",
       "      <th>dom_pos_pol</th>\n",
       "    </tr>\n",
       "    <tr>\n",
       "      <th>Username</th>\n",
       "      <th></th>\n",
       "      <th></th>\n",
       "      <th></th>\n",
       "    </tr>\n",
       "  </thead>\n",
       "  <tbody>\n",
       "    <tr>\n",
       "      <th>0004878b3fd069f70a0277acafeffad1</th>\n",
       "      <td>1</td>\n",
       "      <td>0</td>\n",
       "      <td>1</td>\n",
       "    </tr>\n",
       "    <tr>\n",
       "      <th>00065a00b971b5e1629d504e0ddf2da0</th>\n",
       "      <td>27</td>\n",
       "      <td>0</td>\n",
       "      <td>2</td>\n",
       "    </tr>\n",
       "    <tr>\n",
       "      <th>00084b153bbf7f4a8c1df3b638e07765</th>\n",
       "      <td>15</td>\n",
       "      <td>0</td>\n",
       "      <td>1</td>\n",
       "    </tr>\n",
       "    <tr>\n",
       "      <th>000b3162b12624888e26748e2756dfe4</th>\n",
       "      <td>1</td>\n",
       "      <td>0</td>\n",
       "      <td>1</td>\n",
       "    </tr>\n",
       "    <tr>\n",
       "      <th>000df0c86153a1e9e65feca1051f8c1e</th>\n",
       "      <td>7</td>\n",
       "      <td>0</td>\n",
       "      <td>4</td>\n",
       "    </tr>\n",
       "  </tbody>\n",
       "</table>\n",
       "</div>"
      ],
      "text/plain": [
       "                                  Urls_num  dom_neg_pol  dom_pos_pol\n",
       "Username                                                            \n",
       "0004878b3fd069f70a0277acafeffad1         1            0            1\n",
       "00065a00b971b5e1629d504e0ddf2da0        27            0            2\n",
       "00084b153bbf7f4a8c1df3b638e07765        15            0            1\n",
       "000b3162b12624888e26748e2756dfe4         1            0            1\n",
       "000df0c86153a1e9e65feca1051f8c1e         7            0            4"
      ]
     },
     "execution_count": 30,
     "metadata": {},
     "output_type": "execute_result"
    }
   ],
   "source": [
    "df_tweetscov19_unique_user[df_tweetscov19_unique_user['dom_pos_pol']>0].head()"
   ]
  },
  {
   "cell_type": "code",
   "execution_count": 31,
   "id": "289d8c52",
   "metadata": {},
   "outputs": [],
   "source": [
    "df_tweetscov19_unique_user['pol_num'] = df_tweetscov19_unique_user.apply(lambda row: (-1 * (row['dom_pos_pol'] - row['dom_neg_pol'])) if (row['dom_pos_pol'] - row['dom_neg_pol']) < 0 else (row['dom_pos_pol'] - row['dom_neg_pol']), axis=1)"
   ]
  },
  {
   "cell_type": "code",
   "execution_count": 32,
   "id": "31d6b3d5",
   "metadata": {},
   "outputs": [
    {
     "data": {
      "text/html": [
       "<div>\n",
       "<style scoped>\n",
       "    .dataframe tbody tr th:only-of-type {\n",
       "        vertical-align: middle;\n",
       "    }\n",
       "\n",
       "    .dataframe tbody tr th {\n",
       "        vertical-align: top;\n",
       "    }\n",
       "\n",
       "    .dataframe thead th {\n",
       "        text-align: right;\n",
       "    }\n",
       "</style>\n",
       "<table border=\"1\" class=\"dataframe\">\n",
       "  <thead>\n",
       "    <tr style=\"text-align: right;\">\n",
       "      <th></th>\n",
       "      <th>Urls_num</th>\n",
       "      <th>dom_neg_pol</th>\n",
       "      <th>dom_pos_pol</th>\n",
       "      <th>pol_num</th>\n",
       "    </tr>\n",
       "    <tr>\n",
       "      <th>Username</th>\n",
       "      <th></th>\n",
       "      <th></th>\n",
       "      <th></th>\n",
       "      <th></th>\n",
       "    </tr>\n",
       "  </thead>\n",
       "  <tbody>\n",
       "    <tr>\n",
       "      <th>00008de3f61d5f04329ee6867d5475b9</th>\n",
       "      <td>1</td>\n",
       "      <td>-1</td>\n",
       "      <td>0</td>\n",
       "      <td>1</td>\n",
       "    </tr>\n",
       "    <tr>\n",
       "      <th>00012a177385cd6e7590e2acb3f206e3</th>\n",
       "      <td>1</td>\n",
       "      <td>-1</td>\n",
       "      <td>0</td>\n",
       "      <td>1</td>\n",
       "    </tr>\n",
       "    <tr>\n",
       "      <th>0001a863c159122c712c53258cf13c8b</th>\n",
       "      <td>1</td>\n",
       "      <td>-1</td>\n",
       "      <td>0</td>\n",
       "      <td>1</td>\n",
       "    </tr>\n",
       "    <tr>\n",
       "      <th>000353a523eec0084e195fafc082a6a9</th>\n",
       "      <td>1</td>\n",
       "      <td>-1</td>\n",
       "      <td>0</td>\n",
       "      <td>1</td>\n",
       "    </tr>\n",
       "    <tr>\n",
       "      <th>0003e8427d9272dd24f2bcb66b871ea9</th>\n",
       "      <td>2</td>\n",
       "      <td>-2</td>\n",
       "      <td>0</td>\n",
       "      <td>2</td>\n",
       "    </tr>\n",
       "  </tbody>\n",
       "</table>\n",
       "</div>"
      ],
      "text/plain": [
       "                                  Urls_num  dom_neg_pol  dom_pos_pol  pol_num\n",
       "Username                                                                     \n",
       "00008de3f61d5f04329ee6867d5475b9         1           -1            0        1\n",
       "00012a177385cd6e7590e2acb3f206e3         1           -1            0        1\n",
       "0001a863c159122c712c53258cf13c8b         1           -1            0        1\n",
       "000353a523eec0084e195fafc082a6a9         1           -1            0        1\n",
       "0003e8427d9272dd24f2bcb66b871ea9         2           -2            0        2"
      ]
     },
     "execution_count": 32,
     "metadata": {},
     "output_type": "execute_result"
    }
   ],
   "source": [
    "df_tweetscov19_unique_user[df_tweetscov19_unique_user['dom_neg_pol']<0].head()"
   ]
  },
  {
   "cell_type": "code",
   "execution_count": 33,
   "id": "66e48a91",
   "metadata": {},
   "outputs": [],
   "source": [
    "\n",
    "df_tweetscov19_unique_user['user_pol'] = df_tweetscov19_unique_user.apply(lambda row: (row['dom_neg_pol'] + row['dom_pos_pol']) / row['pol_num'] if row['pol_num'] != 0 else 0, axis=1)"
   ]
  },
  {
   "cell_type": "code",
   "execution_count": 34,
   "id": "d64eea2e",
   "metadata": {},
   "outputs": [
    {
     "data": {
      "text/html": [
       "<div>\n",
       "<style scoped>\n",
       "    .dataframe tbody tr th:only-of-type {\n",
       "        vertical-align: middle;\n",
       "    }\n",
       "\n",
       "    .dataframe tbody tr th {\n",
       "        vertical-align: top;\n",
       "    }\n",
       "\n",
       "    .dataframe thead th {\n",
       "        text-align: right;\n",
       "    }\n",
       "</style>\n",
       "<table border=\"1\" class=\"dataframe\">\n",
       "  <thead>\n",
       "    <tr style=\"text-align: right;\">\n",
       "      <th></th>\n",
       "      <th>Urls_num</th>\n",
       "      <th>dom_neg_pol</th>\n",
       "      <th>dom_pos_pol</th>\n",
       "      <th>pol_num</th>\n",
       "      <th>user_pol</th>\n",
       "    </tr>\n",
       "    <tr>\n",
       "      <th>Username</th>\n",
       "      <th></th>\n",
       "      <th></th>\n",
       "      <th></th>\n",
       "      <th></th>\n",
       "      <th></th>\n",
       "    </tr>\n",
       "  </thead>\n",
       "  <tbody>\n",
       "    <tr>\n",
       "      <th>0013aaa4da0461c58d0b1306af75af02</th>\n",
       "      <td>215</td>\n",
       "      <td>-4</td>\n",
       "      <td>16</td>\n",
       "      <td>20</td>\n",
       "      <td>0.6</td>\n",
       "    </tr>\n",
       "    <tr>\n",
       "      <th>00247be59d748ab0e377ab5885ecc66b</th>\n",
       "      <td>7</td>\n",
       "      <td>-5</td>\n",
       "      <td>0</td>\n",
       "      <td>5</td>\n",
       "      <td>-1.0</td>\n",
       "    </tr>\n",
       "    <tr>\n",
       "      <th>002f506ad2fa8c2cb570fa65d135de67</th>\n",
       "      <td>24</td>\n",
       "      <td>-12</td>\n",
       "      <td>0</td>\n",
       "      <td>12</td>\n",
       "      <td>-1.0</td>\n",
       "    </tr>\n",
       "    <tr>\n",
       "      <th>006ee9819f09274ad87ac8c201f1de47</th>\n",
       "      <td>8</td>\n",
       "      <td>-3</td>\n",
       "      <td>0</td>\n",
       "      <td>3</td>\n",
       "      <td>-1.0</td>\n",
       "    </tr>\n",
       "    <tr>\n",
       "      <th>0091266f66182afa0aad50f206a84f38</th>\n",
       "      <td>371</td>\n",
       "      <td>-7</td>\n",
       "      <td>0</td>\n",
       "      <td>7</td>\n",
       "      <td>-1.0</td>\n",
       "    </tr>\n",
       "  </tbody>\n",
       "</table>\n",
       "</div>"
      ],
      "text/plain": [
       "                                  Urls_num  dom_neg_pol  dom_pos_pol  pol_num  \\\n",
       "Username                                                                        \n",
       "0013aaa4da0461c58d0b1306af75af02       215           -4           16       20   \n",
       "00247be59d748ab0e377ab5885ecc66b         7           -5            0        5   \n",
       "002f506ad2fa8c2cb570fa65d135de67        24          -12            0       12   \n",
       "006ee9819f09274ad87ac8c201f1de47         8           -3            0        3   \n",
       "0091266f66182afa0aad50f206a84f38       371           -7            0        7   \n",
       "\n",
       "                                  user_pol  \n",
       "Username                                    \n",
       "0013aaa4da0461c58d0b1306af75af02       0.6  \n",
       "00247be59d748ab0e377ab5885ecc66b      -1.0  \n",
       "002f506ad2fa8c2cb570fa65d135de67      -1.0  \n",
       "006ee9819f09274ad87ac8c201f1de47      -1.0  \n",
       "0091266f66182afa0aad50f206a84f38      -1.0  "
      ]
     },
     "execution_count": 34,
     "metadata": {},
     "output_type": "execute_result"
    }
   ],
   "source": [
    "df_tweetscov19_unique_user[df_tweetscov19_unique_user['dom_neg_pol']<-2].head()"
   ]
  },
  {
   "cell_type": "code",
   "execution_count": 35,
   "id": "0d1817e1",
   "metadata": {},
   "outputs": [],
   "source": [
    "#Die Benutzer, die eine Wertung von 0 bekommen haben, werden ausgenommen.\n",
    "df_tweetscov19_unique_user_0 = df_tweetscov19_unique_user[df_tweetscov19_unique_user['user_pol'] != 0]"
   ]
  },
  {
   "cell_type": "code",
   "execution_count": 36,
   "id": "ddc29222",
   "metadata": {},
   "outputs": [
    {
     "data": {
      "text/plain": [
       "(50852, 5)"
      ]
     },
     "execution_count": 36,
     "metadata": {},
     "output_type": "execute_result"
    }
   ],
   "source": [
    "#Die Form der Dataframe\n",
    "df_tweetscov19_unique_user_0.shape"
   ]
  },
  {
   "cell_type": "code",
   "execution_count": 37,
   "id": "56c46f47",
   "metadata": {},
   "outputs": [
    {
     "data": {
      "text/plain": [
       "(17663, 5)"
      ]
     },
     "execution_count": 37,
     "metadata": {},
     "output_type": "execute_result"
    }
   ],
   "source": [
    "#Die Form der Dataframe Konservativen.\n",
    "df_tweetscov19_unique_user_0[df_tweetscov19_unique_user_0['user_pol'] > 0].shape"
   ]
  },
  {
   "cell_type": "code",
   "execution_count": 38,
   "id": "cd8d71f7",
   "metadata": {},
   "outputs": [
    {
     "data": {
      "text/plain": [
       "(33189, 5)"
      ]
     },
     "execution_count": 38,
     "metadata": {},
     "output_type": "execute_result"
    }
   ],
   "source": [
    "#Die Form der Dataframe Liberalen.\n",
    "df_tweetscov19_unique_user_0[df_tweetscov19_unique_user_0['user_pol'] < 0].shape"
   ]
  },
  {
   "cell_type": "code",
   "execution_count": 39,
   "id": "483fddcf",
   "metadata": {},
   "outputs": [
    {
     "data": {
      "text/html": [
       "<div>\n",
       "<style scoped>\n",
       "    .dataframe tbody tr th:only-of-type {\n",
       "        vertical-align: middle;\n",
       "    }\n",
       "\n",
       "    .dataframe tbody tr th {\n",
       "        vertical-align: top;\n",
       "    }\n",
       "\n",
       "    .dataframe thead th {\n",
       "        text-align: right;\n",
       "    }\n",
       "</style>\n",
       "<table border=\"1\" class=\"dataframe\">\n",
       "  <thead>\n",
       "    <tr style=\"text-align: right;\">\n",
       "      <th></th>\n",
       "      <th>Urls_num</th>\n",
       "      <th>dom_neg_pol</th>\n",
       "      <th>dom_pos_pol</th>\n",
       "      <th>pol_num</th>\n",
       "      <th>user_pol</th>\n",
       "    </tr>\n",
       "    <tr>\n",
       "      <th>Username</th>\n",
       "      <th></th>\n",
       "      <th></th>\n",
       "      <th></th>\n",
       "      <th></th>\n",
       "      <th></th>\n",
       "    </tr>\n",
       "  </thead>\n",
       "  <tbody>\n",
       "    <tr>\n",
       "      <th>00008de3f61d5f04329ee6867d5475b9</th>\n",
       "      <td>1</td>\n",
       "      <td>-1</td>\n",
       "      <td>0</td>\n",
       "      <td>1</td>\n",
       "      <td>-1.0</td>\n",
       "    </tr>\n",
       "    <tr>\n",
       "      <th>00012a177385cd6e7590e2acb3f206e3</th>\n",
       "      <td>1</td>\n",
       "      <td>-1</td>\n",
       "      <td>0</td>\n",
       "      <td>1</td>\n",
       "      <td>-1.0</td>\n",
       "    </tr>\n",
       "    <tr>\n",
       "      <th>0001a863c159122c712c53258cf13c8b</th>\n",
       "      <td>1</td>\n",
       "      <td>-1</td>\n",
       "      <td>0</td>\n",
       "      <td>1</td>\n",
       "      <td>-1.0</td>\n",
       "    </tr>\n",
       "    <tr>\n",
       "      <th>000353a523eec0084e195fafc082a6a9</th>\n",
       "      <td>1</td>\n",
       "      <td>-1</td>\n",
       "      <td>0</td>\n",
       "      <td>1</td>\n",
       "      <td>-1.0</td>\n",
       "    </tr>\n",
       "    <tr>\n",
       "      <th>0003e8427d9272dd24f2bcb66b871ea9</th>\n",
       "      <td>2</td>\n",
       "      <td>-2</td>\n",
       "      <td>0</td>\n",
       "      <td>2</td>\n",
       "      <td>-1.0</td>\n",
       "    </tr>\n",
       "  </tbody>\n",
       "</table>\n",
       "</div>"
      ],
      "text/plain": [
       "                                  Urls_num  dom_neg_pol  dom_pos_pol  pol_num  \\\n",
       "Username                                                                        \n",
       "00008de3f61d5f04329ee6867d5475b9         1           -1            0        1   \n",
       "00012a177385cd6e7590e2acb3f206e3         1           -1            0        1   \n",
       "0001a863c159122c712c53258cf13c8b         1           -1            0        1   \n",
       "000353a523eec0084e195fafc082a6a9         1           -1            0        1   \n",
       "0003e8427d9272dd24f2bcb66b871ea9         2           -2            0        2   \n",
       "\n",
       "                                  user_pol  \n",
       "Username                                    \n",
       "00008de3f61d5f04329ee6867d5475b9      -1.0  \n",
       "00012a177385cd6e7590e2acb3f206e3      -1.0  \n",
       "0001a863c159122c712c53258cf13c8b      -1.0  \n",
       "000353a523eec0084e195fafc082a6a9      -1.0  \n",
       "0003e8427d9272dd24f2bcb66b871ea9      -1.0  "
      ]
     },
     "execution_count": 39,
     "metadata": {},
     "output_type": "execute_result"
    }
   ],
   "source": [
    "df_tweetscov19_unique_user_0.head()"
   ]
  },
  {
   "cell_type": "code",
   "execution_count": 57,
   "id": "01f1244f",
   "metadata": {},
   "outputs": [],
   "source": [
    "#Die polarisieten Werte für Tweets werden gespeichert.\n",
    "pfad_tsv3 = '../data/dataframes/tweetsCov19_user_dom_politik.tsv'\n",
    "\n",
    "with open(pfad_tsv3, 'w', newline='', encoding=\"utf-8\") as out_file:\n",
    "    tsv_writer = csv.writer(out_file, delimiter=\"\\t\")\n",
    "    for idx, row in df_tweetscov19.iterrows():\n",
    "        tsv_writer.writerow(row.values.tolist())"
   ]
  },
  {
   "cell_type": "code",
   "execution_count": 40,
   "id": "f214ccbf",
   "metadata": {},
   "outputs": [
    {
     "data": {
      "text/html": [
       "<div>\n",
       "<style scoped>\n",
       "    .dataframe tbody tr th:only-of-type {\n",
       "        vertical-align: middle;\n",
       "    }\n",
       "\n",
       "    .dataframe tbody tr th {\n",
       "        vertical-align: top;\n",
       "    }\n",
       "\n",
       "    .dataframe thead th {\n",
       "        text-align: right;\n",
       "    }\n",
       "</style>\n",
       "<table border=\"1\" class=\"dataframe\">\n",
       "  <thead>\n",
       "    <tr style=\"text-align: right;\">\n",
       "      <th></th>\n",
       "      <th>Username</th>\n",
       "      <th>Urls_num</th>\n",
       "      <th>dom_neg_pol</th>\n",
       "      <th>dom_pos_pol</th>\n",
       "      <th>pol_num</th>\n",
       "      <th>user_pol</th>\n",
       "    </tr>\n",
       "  </thead>\n",
       "  <tbody>\n",
       "    <tr>\n",
       "      <th>0</th>\n",
       "      <td>00008de3f61d5f04329ee6867d5475b9</td>\n",
       "      <td>1</td>\n",
       "      <td>-1</td>\n",
       "      <td>0</td>\n",
       "      <td>1</td>\n",
       "      <td>-1.0</td>\n",
       "    </tr>\n",
       "    <tr>\n",
       "      <th>1</th>\n",
       "      <td>00012a177385cd6e7590e2acb3f206e3</td>\n",
       "      <td>1</td>\n",
       "      <td>-1</td>\n",
       "      <td>0</td>\n",
       "      <td>1</td>\n",
       "      <td>-1.0</td>\n",
       "    </tr>\n",
       "    <tr>\n",
       "      <th>2</th>\n",
       "      <td>0001a863c159122c712c53258cf13c8b</td>\n",
       "      <td>1</td>\n",
       "      <td>-1</td>\n",
       "      <td>0</td>\n",
       "      <td>1</td>\n",
       "      <td>-1.0</td>\n",
       "    </tr>\n",
       "    <tr>\n",
       "      <th>3</th>\n",
       "      <td>000353a523eec0084e195fafc082a6a9</td>\n",
       "      <td>1</td>\n",
       "      <td>-1</td>\n",
       "      <td>0</td>\n",
       "      <td>1</td>\n",
       "      <td>-1.0</td>\n",
       "    </tr>\n",
       "    <tr>\n",
       "      <th>4</th>\n",
       "      <td>0003e8427d9272dd24f2bcb66b871ea9</td>\n",
       "      <td>2</td>\n",
       "      <td>-2</td>\n",
       "      <td>0</td>\n",
       "      <td>2</td>\n",
       "      <td>-1.0</td>\n",
       "    </tr>\n",
       "  </tbody>\n",
       "</table>\n",
       "</div>"
      ],
      "text/plain": [
       "                           Username  Urls_num  dom_neg_pol  dom_pos_pol  \\\n",
       "0  00008de3f61d5f04329ee6867d5475b9         1           -1            0   \n",
       "1  00012a177385cd6e7590e2acb3f206e3         1           -1            0   \n",
       "2  0001a863c159122c712c53258cf13c8b         1           -1            0   \n",
       "3  000353a523eec0084e195fafc082a6a9         1           -1            0   \n",
       "4  0003e8427d9272dd24f2bcb66b871ea9         2           -2            0   \n",
       "\n",
       "   pol_num  user_pol  \n",
       "0        1      -1.0  \n",
       "1        1      -1.0  \n",
       "2        1      -1.0  \n",
       "3        1      -1.0  \n",
       "4        2      -1.0  "
      ]
     },
     "execution_count": 40,
     "metadata": {},
     "output_type": "execute_result"
    }
   ],
   "source": [
    "df_tweetscov19_unique_user_0 = df_tweetscov19_unique_user_0.reset_index()\n",
    "df_tweetscov19_unique_user_0.head()"
   ]
  },
  {
   "cell_type": "code",
   "execution_count": 41,
   "id": "4b791728",
   "metadata": {},
   "outputs": [],
   "source": [
    "#Die polarisieten Werte für Tweets werden gespeichert.\n",
    "pfad_tsv3 = '../../tweetsCov19_user_dom_politic_2.tsv'\n",
    "\n",
    "with open(pfad_tsv3, 'w', newline='', encoding=\"utf-8\") as out_file:\n",
    "    tsv_writer = csv.writer(out_file, delimiter=\"\\t\")\n",
    "    for idx, row in df_tweetscov19_unique_user_0.iterrows():\n",
    "        tsv_writer.writerow(row.values.tolist())"
   ]
  },
  {
   "cell_type": "markdown",
   "id": "ce883c91",
   "metadata": {},
   "source": [
    "****"
   ]
  },
  {
   "cell_type": "markdown",
   "id": "b992bb16",
   "metadata": {},
   "source": [
    "## Polarisierungen berechnen\n",
    "### TweetsKB"
   ]
  },
  {
   "cell_type": "markdown",
   "id": "938c2746",
   "metadata": {},
   "source": [
    "***"
   ]
  },
  {
   "cell_type": "code",
   "execution_count": 5,
   "id": "fa181852",
   "metadata": {},
   "outputs": [
    {
     "name": "stdout",
     "output_type": "stream",
     "text": [
      "Shape : (9409841, 5)\n"
     ]
    },
    {
     "data": {
      "text/html": [
       "<div>\n",
       "<style scoped>\n",
       "    .dataframe tbody tr th:only-of-type {\n",
       "        vertical-align: middle;\n",
       "    }\n",
       "\n",
       "    .dataframe tbody tr th {\n",
       "        vertical-align: top;\n",
       "    }\n",
       "\n",
       "    .dataframe thead th {\n",
       "        text-align: right;\n",
       "    }\n",
       "</style>\n",
       "<table border=\"1\" class=\"dataframe\">\n",
       "  <thead>\n",
       "    <tr style=\"text-align: right;\">\n",
       "      <th></th>\n",
       "      <th>Tweet_Id</th>\n",
       "      <th>Username</th>\n",
       "      <th>is_deleted</th>\n",
       "      <th>URLs_dom</th>\n",
       "      <th>URLs_num</th>\n",
       "    </tr>\n",
       "  </thead>\n",
       "  <tbody>\n",
       "    <tr>\n",
       "      <th>0</th>\n",
       "      <td>1178791636039589889</td>\n",
       "      <td>DCComics</td>\n",
       "      <td>False</td>\n",
       "      <td>dcuniverseinfinite.com</td>\n",
       "      <td>1</td>\n",
       "    </tr>\n",
       "    <tr>\n",
       "      <th>1</th>\n",
       "      <td>1178791641265639424</td>\n",
       "      <td>seanberdyz</td>\n",
       "      <td>True</td>\n",
       "      <td>carrd.co</td>\n",
       "      <td>1</td>\n",
       "    </tr>\n",
       "    <tr>\n",
       "      <th>2</th>\n",
       "      <td>1178791640573579264</td>\n",
       "      <td>AnArtistAtBirth</td>\n",
       "      <td>True</td>\n",
       "      <td>0</td>\n",
       "      <td>0</td>\n",
       "    </tr>\n",
       "    <tr>\n",
       "      <th>3</th>\n",
       "      <td>1178791644797255680</td>\n",
       "      <td>lagosboygang</td>\n",
       "      <td>True</td>\n",
       "      <td>0</td>\n",
       "      <td>0</td>\n",
       "    </tr>\n",
       "    <tr>\n",
       "      <th>4</th>\n",
       "      <td>1178791648056217600</td>\n",
       "      <td>Phenom_Hoops</td>\n",
       "      <td>False</td>\n",
       "      <td>phenomhoopreport.com</td>\n",
       "      <td>1</td>\n",
       "    </tr>\n",
       "  </tbody>\n",
       "</table>\n",
       "</div>"
      ],
      "text/plain": [
       "              Tweet_Id         Username  is_deleted                URLs_dom  \\\n",
       "0  1178791636039589889         DCComics       False  dcuniverseinfinite.com   \n",
       "1  1178791641265639424       seanberdyz        True                carrd.co   \n",
       "2  1178791640573579264  AnArtistAtBirth        True                       0   \n",
       "3  1178791644797255680     lagosboygang        True                       0   \n",
       "4  1178791648056217600     Phenom_Hoops       False    phenomhoopreport.com   \n",
       "\n",
       "   URLs_num  \n",
       "0         1  \n",
       "1         1  \n",
       "2         0  \n",
       "3         0  \n",
       "4         1  "
      ]
     },
     "execution_count": 5,
     "metadata": {},
     "output_type": "execute_result"
    }
   ],
   "source": [
    "pfad_tsv = '../../tweetskb_sample_id_is_dom.tsv'\n",
    "\n",
    "df_tweetskb = pd.read_csv(pfad_tsv, sep='\\t', error_bad_lines=False, names=['Tweet_Id', \"Username\", 'is_deleted', 'URLs_dom', 'URLs_num'])\n",
    "pd.options.display.max_columns = None\n",
    "print('Shape :', df_tweetskb.shape)\n",
    "df_tweetskb.head()"
   ]
  },
  {
   "cell_type": "code",
   "execution_count": 43,
   "id": "65736cb8",
   "metadata": {},
   "outputs": [],
   "source": [
    "df_tweetskb['URLs_dom'] = df_tweetskb['URLs_dom'].astype(str)\n",
    "df_tweetskb['dom_neg_pol'] = df_tweetskb.apply(lambda row: get_politik_pol(row['URLs_dom']) if (row['URLs_dom'] != '0') else 0, axis=1)"
   ]
  },
  {
   "cell_type": "code",
   "execution_count": 44,
   "id": "9084e5db",
   "metadata": {},
   "outputs": [
    {
     "data": {
      "text/plain": [
       "(22137, 6)"
      ]
     },
     "execution_count": 44,
     "metadata": {},
     "output_type": "execute_result"
    }
   ],
   "source": [
    "df_tweetskb[df_tweetskb['dom_neg_pol'] < 0].shape"
   ]
  },
  {
   "cell_type": "code",
   "execution_count": 45,
   "id": "2034abfa",
   "metadata": {},
   "outputs": [],
   "source": [
    "df_tweetskb['dom_pos_pol'] = df_tweetskb.apply(lambda row: get_politik_pol_pos(row['URLs_dom']) if (row['URLs_dom'] != '0') else 0, axis=1)"
   ]
  },
  {
   "cell_type": "code",
   "execution_count": 46,
   "id": "de7ced45",
   "metadata": {},
   "outputs": [
    {
     "data": {
      "text/plain": [
       "(13878, 7)"
      ]
     },
     "execution_count": 46,
     "metadata": {},
     "output_type": "execute_result"
    }
   ],
   "source": [
    "df_tweetskb[df_tweetskb['dom_pos_pol'] > 0].shape"
   ]
  },
  {
   "cell_type": "code",
   "execution_count": 47,
   "id": "cdbcd873",
   "metadata": {},
   "outputs": [],
   "source": [
    "\n",
    "df_tweetskb_unique_user = df_tweetskb.groupby('Username')['URLs_num', 'dom_neg_pol', 'dom_pos_pol'].sum()"
   ]
  },
  {
   "cell_type": "code",
   "execution_count": 48,
   "id": "f44d5424",
   "metadata": {},
   "outputs": [
    {
     "data": {
      "text/plain": [
       "(5208425, 3)"
      ]
     },
     "execution_count": 48,
     "metadata": {},
     "output_type": "execute_result"
    }
   ],
   "source": [
    "df_tweetskb_unique_user.shape"
   ]
  },
  {
   "cell_type": "code",
   "execution_count": 49,
   "id": "7806d253",
   "metadata": {},
   "outputs": [
    {
     "data": {
      "text/html": [
       "<div>\n",
       "<style scoped>\n",
       "    .dataframe tbody tr th:only-of-type {\n",
       "        vertical-align: middle;\n",
       "    }\n",
       "\n",
       "    .dataframe tbody tr th {\n",
       "        vertical-align: top;\n",
       "    }\n",
       "\n",
       "    .dataframe thead th {\n",
       "        text-align: right;\n",
       "    }\n",
       "</style>\n",
       "<table border=\"1\" class=\"dataframe\">\n",
       "  <thead>\n",
       "    <tr style=\"text-align: right;\">\n",
       "      <th></th>\n",
       "      <th>URLs_num</th>\n",
       "      <th>dom_neg_pol</th>\n",
       "      <th>dom_pos_pol</th>\n",
       "    </tr>\n",
       "    <tr>\n",
       "      <th>Username</th>\n",
       "      <th></th>\n",
       "      <th></th>\n",
       "      <th></th>\n",
       "    </tr>\n",
       "  </thead>\n",
       "  <tbody>\n",
       "    <tr>\n",
       "      <th>00000000</th>\n",
       "      <td>0</td>\n",
       "      <td>0</td>\n",
       "      <td>0</td>\n",
       "    </tr>\n",
       "    <tr>\n",
       "      <th>000000000yt</th>\n",
       "      <td>0</td>\n",
       "      <td>0</td>\n",
       "      <td>0</td>\n",
       "    </tr>\n",
       "    <tr>\n",
       "      <th>00000000martin</th>\n",
       "      <td>0</td>\n",
       "      <td>0</td>\n",
       "      <td>0</td>\n",
       "    </tr>\n",
       "    <tr>\n",
       "      <th>000000911a</th>\n",
       "      <td>0</td>\n",
       "      <td>0</td>\n",
       "      <td>0</td>\n",
       "    </tr>\n",
       "    <tr>\n",
       "      <th>000000_127</th>\n",
       "      <td>0</td>\n",
       "      <td>0</td>\n",
       "      <td>0</td>\n",
       "    </tr>\n",
       "  </tbody>\n",
       "</table>\n",
       "</div>"
      ],
      "text/plain": [
       "                URLs_num  dom_neg_pol  dom_pos_pol\n",
       "Username                                          \n",
       "00000000               0            0            0\n",
       "000000000yt            0            0            0\n",
       "00000000martin         0            0            0\n",
       "000000911a             0            0            0\n",
       "000000_127             0            0            0"
      ]
     },
     "execution_count": 49,
     "metadata": {},
     "output_type": "execute_result"
    }
   ],
   "source": [
    "df_tweetskb_unique_user.head()"
   ]
  },
  {
   "cell_type": "code",
   "execution_count": 50,
   "id": "f739f037",
   "metadata": {},
   "outputs": [],
   "source": [
    "df_tweetskb_unique_user['pol_num'] = df_tweetskb_unique_user.apply(lambda row: (-1 * (row['dom_pos_pol'] - row['dom_neg_pol'])) if (row['dom_pos_pol'] - row['dom_neg_pol']) < 0 else (row['dom_pos_pol'] - row['dom_neg_pol']), axis=1)"
   ]
  },
  {
   "cell_type": "code",
   "execution_count": 51,
   "id": "c542907a",
   "metadata": {},
   "outputs": [
    {
     "data": {
      "text/html": [
       "<div>\n",
       "<style scoped>\n",
       "    .dataframe tbody tr th:only-of-type {\n",
       "        vertical-align: middle;\n",
       "    }\n",
       "\n",
       "    .dataframe tbody tr th {\n",
       "        vertical-align: top;\n",
       "    }\n",
       "\n",
       "    .dataframe thead th {\n",
       "        text-align: right;\n",
       "    }\n",
       "</style>\n",
       "<table border=\"1\" class=\"dataframe\">\n",
       "  <thead>\n",
       "    <tr style=\"text-align: right;\">\n",
       "      <th></th>\n",
       "      <th>URLs_num</th>\n",
       "      <th>dom_neg_pol</th>\n",
       "      <th>dom_pos_pol</th>\n",
       "      <th>pol_num</th>\n",
       "    </tr>\n",
       "    <tr>\n",
       "      <th>Username</th>\n",
       "      <th></th>\n",
       "      <th></th>\n",
       "      <th></th>\n",
       "      <th></th>\n",
       "    </tr>\n",
       "  </thead>\n",
       "  <tbody>\n",
       "    <tr>\n",
       "      <th>0nehunter69</th>\n",
       "      <td>4</td>\n",
       "      <td>-3</td>\n",
       "      <td>0</td>\n",
       "      <td>3</td>\n",
       "    </tr>\n",
       "    <tr>\n",
       "      <th>1120Eclipse</th>\n",
       "      <td>20</td>\n",
       "      <td>-3</td>\n",
       "      <td>1</td>\n",
       "      <td>4</td>\n",
       "    </tr>\n",
       "    <tr>\n",
       "      <th>11thHour</th>\n",
       "      <td>14</td>\n",
       "      <td>-9</td>\n",
       "      <td>0</td>\n",
       "      <td>9</td>\n",
       "    </tr>\n",
       "    <tr>\n",
       "      <th>1GameNut</th>\n",
       "      <td>4</td>\n",
       "      <td>-4</td>\n",
       "      <td>0</td>\n",
       "      <td>4</td>\n",
       "    </tr>\n",
       "    <tr>\n",
       "      <th>1Krohmer13</th>\n",
       "      <td>29</td>\n",
       "      <td>-3</td>\n",
       "      <td>5</td>\n",
       "      <td>8</td>\n",
       "    </tr>\n",
       "  </tbody>\n",
       "</table>\n",
       "</div>"
      ],
      "text/plain": [
       "             URLs_num  dom_neg_pol  dom_pos_pol  pol_num\n",
       "Username                                                \n",
       "0nehunter69         4           -3            0        3\n",
       "1120Eclipse        20           -3            1        4\n",
       "11thHour           14           -9            0        9\n",
       "1GameNut            4           -4            0        4\n",
       "1Krohmer13         29           -3            5        8"
      ]
     },
     "execution_count": 51,
     "metadata": {},
     "output_type": "execute_result"
    }
   ],
   "source": [
    "df_tweetskb_unique_user[df_tweetskb_unique_user['dom_neg_pol']<-2].head()"
   ]
  },
  {
   "cell_type": "code",
   "execution_count": 52,
   "id": "0c0782f8",
   "metadata": {},
   "outputs": [],
   "source": [
    "\n",
    "df_tweetskb_unique_user['user_pol'] = df_tweetskb_unique_user.apply(lambda row: (row['dom_neg_pol'] + row['dom_pos_pol']) / row['pol_num'] if row['pol_num'] != 0 else 0, axis=1)"
   ]
  },
  {
   "cell_type": "code",
   "execution_count": 53,
   "id": "406ee92d",
   "metadata": {},
   "outputs": [],
   "source": [
    "df_tweetskb_unique_user_0 = df_tweetskb_unique_user[df_tweetskb_unique_user['user_pol'] != 0]"
   ]
  },
  {
   "cell_type": "code",
   "execution_count": 54,
   "id": "31a8d705",
   "metadata": {},
   "outputs": [
    {
     "data": {
      "text/plain": [
       "(18019, 5)"
      ]
     },
     "execution_count": 54,
     "metadata": {},
     "output_type": "execute_result"
    }
   ],
   "source": [
    "df_tweetskb_unique_user_0.shape"
   ]
  },
  {
   "cell_type": "code",
   "execution_count": 55,
   "id": "3dad0b9b",
   "metadata": {},
   "outputs": [
    {
     "data": {
      "text/plain": [
       "(6767, 5)"
      ]
     },
     "execution_count": 55,
     "metadata": {},
     "output_type": "execute_result"
    }
   ],
   "source": [
    "df_tweetskb_unique_user_0[df_tweetskb_unique_user_0['user_pol'] > 0].shape"
   ]
  },
  {
   "cell_type": "code",
   "execution_count": 56,
   "id": "fab1fb89",
   "metadata": {},
   "outputs": [
    {
     "data": {
      "text/plain": [
       "(11252, 5)"
      ]
     },
     "execution_count": 56,
     "metadata": {},
     "output_type": "execute_result"
    }
   ],
   "source": [
    "df_tweetskb_unique_user_0[df_tweetskb_unique_user_0['user_pol'] < 0].shape"
   ]
  },
  {
   "cell_type": "code",
   "execution_count": 76,
   "id": "78d1b2b0",
   "metadata": {},
   "outputs": [],
   "source": [
    "pfad_tsv3 = '../data/dataframes/tweetskb_user_dom_politik.tsv'\n",
    "\n",
    "with open(pfad_tsv3, 'w', newline='', encoding=\"utf-8\") as out_file:\n",
    "    tsv_writer = csv.writer(out_file, delimiter=\"\\t\")\n",
    "    for idx, row in df_tweetskb.iterrows():\n",
    "        tsv_writer.writerow(row.values.tolist())"
   ]
  },
  {
   "cell_type": "code",
   "execution_count": 57,
   "id": "1d80d615",
   "metadata": {},
   "outputs": [
    {
     "data": {
      "text/html": [
       "<div>\n",
       "<style scoped>\n",
       "    .dataframe tbody tr th:only-of-type {\n",
       "        vertical-align: middle;\n",
       "    }\n",
       "\n",
       "    .dataframe tbody tr th {\n",
       "        vertical-align: top;\n",
       "    }\n",
       "\n",
       "    .dataframe thead th {\n",
       "        text-align: right;\n",
       "    }\n",
       "</style>\n",
       "<table border=\"1\" class=\"dataframe\">\n",
       "  <thead>\n",
       "    <tr style=\"text-align: right;\">\n",
       "      <th></th>\n",
       "      <th>Username</th>\n",
       "      <th>URLs_num</th>\n",
       "      <th>dom_neg_pol</th>\n",
       "      <th>dom_pos_pol</th>\n",
       "      <th>pol_num</th>\n",
       "      <th>user_pol</th>\n",
       "    </tr>\n",
       "  </thead>\n",
       "  <tbody>\n",
       "    <tr>\n",
       "      <th>0</th>\n",
       "      <td>0000Condor</td>\n",
       "      <td>1</td>\n",
       "      <td>-1</td>\n",
       "      <td>0</td>\n",
       "      <td>1</td>\n",
       "      <td>-1.0</td>\n",
       "    </tr>\n",
       "    <tr>\n",
       "      <th>1</th>\n",
       "      <td>01_zebra</td>\n",
       "      <td>4</td>\n",
       "      <td>0</td>\n",
       "      <td>1</td>\n",
       "      <td>1</td>\n",
       "      <td>1.0</td>\n",
       "    </tr>\n",
       "    <tr>\n",
       "      <th>2</th>\n",
       "      <td>05e9d20d8cd6400</td>\n",
       "      <td>1</td>\n",
       "      <td>-1</td>\n",
       "      <td>0</td>\n",
       "      <td>1</td>\n",
       "      <td>-1.0</td>\n",
       "    </tr>\n",
       "    <tr>\n",
       "      <th>3</th>\n",
       "      <td>08_diane08</td>\n",
       "      <td>1</td>\n",
       "      <td>-1</td>\n",
       "      <td>0</td>\n",
       "      <td>1</td>\n",
       "      <td>-1.0</td>\n",
       "    </tr>\n",
       "    <tr>\n",
       "      <th>4</th>\n",
       "      <td>097cypher</td>\n",
       "      <td>1</td>\n",
       "      <td>-1</td>\n",
       "      <td>0</td>\n",
       "      <td>1</td>\n",
       "      <td>-1.0</td>\n",
       "    </tr>\n",
       "  </tbody>\n",
       "</table>\n",
       "</div>"
      ],
      "text/plain": [
       "          Username  URLs_num  dom_neg_pol  dom_pos_pol  pol_num  user_pol\n",
       "0       0000Condor         1           -1            0        1      -1.0\n",
       "1         01_zebra         4            0            1        1       1.0\n",
       "2  05e9d20d8cd6400         1           -1            0        1      -1.0\n",
       "3       08_diane08         1           -1            0        1      -1.0\n",
       "4        097cypher         1           -1            0        1      -1.0"
      ]
     },
     "execution_count": 57,
     "metadata": {},
     "output_type": "execute_result"
    }
   ],
   "source": [
    "df_tweetskb_unique_user_0 = df_tweetskb_unique_user_0.reset_index()\n",
    "df_tweetskb_unique_user_0.head()"
   ]
  },
  {
   "cell_type": "code",
   "execution_count": 58,
   "id": "d3a47c93",
   "metadata": {},
   "outputs": [],
   "source": [
    "pfad_tsv3 = '../../tweetskb_user_dom_politic_2.tsv'\n",
    "\n",
    "with open(pfad_tsv3, 'w', newline='', encoding=\"utf-8\") as out_file:\n",
    "    tsv_writer = csv.writer(out_file, delimiter=\"\\t\")\n",
    "    for idx, row in df_tweetskb_unique_user_0.iterrows():\n",
    "        tsv_writer.writerow(row.values.tolist())"
   ]
  },
  {
   "cell_type": "code",
   "execution_count": null,
   "id": "dab82d7f",
   "metadata": {},
   "outputs": [],
   "source": []
  }
 ],
 "metadata": {
  "kernelspec": {
   "display_name": "Python 3",
   "language": "python",
   "name": "python3"
  },
  "language_info": {
   "codemirror_mode": {
    "name": "ipython",
    "version": 3
   },
   "file_extension": ".py",
   "mimetype": "text/x-python",
   "name": "python",
   "nbconvert_exporter": "python",
   "pygments_lexer": "ipython3",
   "version": "3.8.8"
  }
 },
 "nbformat": 4,
 "nbformat_minor": 5
}
