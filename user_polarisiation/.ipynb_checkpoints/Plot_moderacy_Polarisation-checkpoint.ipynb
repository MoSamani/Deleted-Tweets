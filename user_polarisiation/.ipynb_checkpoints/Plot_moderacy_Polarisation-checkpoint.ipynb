{
 "cells": [
  {
   "cell_type": "code",
   "execution_count": 1,
   "id": "bc0f3bba",
   "metadata": {},
   "outputs": [],
   "source": [
    "#CSV Bibliothek importieren \n",
    "import csv\n",
    "#Pandas importieren und als pd bezeichnen\n",
    "import pandas as pd\n",
    "#Numpy importieren und als np bezeichnen \n",
    "import numpy as np\n",
    "#Json Biliothek importieren\n",
    "import json\n",
    "#Obere Schranke für die Größe der Daten auf 100,000,000 setzen  \n",
    "csv.field_size_limit(100000000)\n",
    "#Maximale Anzahl von Zeilen und Spalten Zeigen \n",
    "pd.options.display.max_columns = None\n",
    "pd.options.display.max_rows = None\n",
    "#Um die Zeiträume bearbeiten zu können\n",
    "from datetime import datetime\n",
    "#Seaborn für die Plot importieren\n",
    "import seaborn as sns\n",
    "#matplotlib Importieren und als plt bezeichnen\n",
    "import matplotlib\n",
    "import matplotlib.pyplot as plt\n",
    "#Macht die Plots inline\n",
    "%matplotlib inline \n",
    "#dates importieren, um Zeitstempel bearbeiten zu können\n",
    "import matplotlib.dates as mdates\n",
    "#tick importieren\n",
    "import matplotlib.ticker as tick\n",
    "#Die Nachkommastellen auf 4 Zashlen einschränken\n",
    "pd.options.display.float_format = '{:.4f}'.format\n",
    "\n",
    "from matplotlib.ticker import ScalarFormatter\n",
    "from matplotlib import ticker\n",
    "import warnings\n",
    "warnings.filterwarnings(\"ignore\")"
   ]
  },
  {
   "cell_type": "markdown",
   "id": "1f1764da",
   "metadata": {},
   "source": [
    "***"
   ]
  },
  {
   "cell_type": "markdown",
   "id": "51d397bc",
   "metadata": {},
   "source": [
    "# TweetsCov19\n",
    "## KDE-Plot"
   ]
  },
  {
   "cell_type": "markdown",
   "id": "416aeea1",
   "metadata": {},
   "source": [
    "****"
   ]
  },
  {
   "cell_type": "code",
   "execution_count": 2,
   "id": "e9f299f3",
   "metadata": {},
   "outputs": [
    {
     "name": "stdout",
     "output_type": "stream",
     "text": [
      "Shape : (129134, 5)\n"
     ]
    },
    {
     "data": {
      "text/html": [
       "<div>\n",
       "<style scoped>\n",
       "    .dataframe tbody tr th:only-of-type {\n",
       "        vertical-align: middle;\n",
       "    }\n",
       "\n",
       "    .dataframe tbody tr th {\n",
       "        vertical-align: top;\n",
       "    }\n",
       "\n",
       "    .dataframe thead th {\n",
       "        text-align: right;\n",
       "    }\n",
       "</style>\n",
       "<table border=\"1\" class=\"dataframe\">\n",
       "  <thead>\n",
       "    <tr style=\"text-align: right;\">\n",
       "      <th></th>\n",
       "      <th>Username</th>\n",
       "      <th>Number_of_moderates</th>\n",
       "      <th>Number_of_hardlines</th>\n",
       "      <th>Sum_polarised_domains</th>\n",
       "      <th>moderacy</th>\n",
       "    </tr>\n",
       "  </thead>\n",
       "  <tbody>\n",
       "    <tr>\n",
       "      <th>0</th>\n",
       "      <td>00008ca06f863b962f72cc9167d7978a</td>\n",
       "      <td>-1</td>\n",
       "      <td>0</td>\n",
       "      <td>1</td>\n",
       "      <td>-1.0000</td>\n",
       "    </tr>\n",
       "    <tr>\n",
       "      <th>1</th>\n",
       "      <td>00008de3f61d5f04329ee6867d5475b9</td>\n",
       "      <td>0</td>\n",
       "      <td>1</td>\n",
       "      <td>1</td>\n",
       "      <td>1.0000</td>\n",
       "    </tr>\n",
       "    <tr>\n",
       "      <th>2</th>\n",
       "      <td>00012a177385cd6e7590e2acb3f206e3</td>\n",
       "      <td>0</td>\n",
       "      <td>1</td>\n",
       "      <td>1</td>\n",
       "      <td>1.0000</td>\n",
       "    </tr>\n",
       "    <tr>\n",
       "      <th>3</th>\n",
       "      <td>00016e20a3865cb74581803c27d27b89</td>\n",
       "      <td>-1</td>\n",
       "      <td>0</td>\n",
       "      <td>1</td>\n",
       "      <td>-1.0000</td>\n",
       "    </tr>\n",
       "    <tr>\n",
       "      <th>4</th>\n",
       "      <td>0001a863c159122c712c53258cf13c8b</td>\n",
       "      <td>0</td>\n",
       "      <td>1</td>\n",
       "      <td>1</td>\n",
       "      <td>1.0000</td>\n",
       "    </tr>\n",
       "  </tbody>\n",
       "</table>\n",
       "</div>"
      ],
      "text/plain": [
       "                           Username  Number_of_moderates  Number_of_hardlines  \\\n",
       "0  00008ca06f863b962f72cc9167d7978a                   -1                    0   \n",
       "1  00008de3f61d5f04329ee6867d5475b9                    0                    1   \n",
       "2  00012a177385cd6e7590e2acb3f206e3                    0                    1   \n",
       "3  00016e20a3865cb74581803c27d27b89                   -1                    0   \n",
       "4  0001a863c159122c712c53258cf13c8b                    0                    1   \n",
       "\n",
       "   Sum_polarised_domains  moderacy  \n",
       "0                      1   -1.0000  \n",
       "1                      1    1.0000  \n",
       "2                      1    1.0000  \n",
       "3                      1   -1.0000  \n",
       "4                      1    1.0000  "
      ]
     },
     "execution_count": 2,
     "metadata": {},
     "output_type": "execute_result"
    }
   ],
   "source": [
    "path = '../data/tweetscov19_moderacy_polarized_users_with_atleast_one_polarized_domain_v2.tsv'\n",
    "\n",
    "df_tweetscov19_moderacy_polarized_and_neutralized = pd.read_csv(path, sep='\\t', error_bad_lines=False, names=['Username', 'Number_of_moderates', 'Number_of_hardlines', 'Sum_polarised_domains', 'moderacy'])\n",
    "\n",
    "print('Shape :', df_tweetscov19_moderacy_polarized_and_neutralized.shape)\n",
    "df_tweetscov19_moderacy_polarized_and_neutralized.head()"
   ]
  },
  {
   "cell_type": "code",
   "execution_count": 3,
   "id": "2c414fc0",
   "metadata": {},
   "outputs": [
    {
     "name": "stdout",
     "output_type": "stream",
     "text": [
      "Form : (9409841, 9)\n"
     ]
    },
    {
     "data": {
      "text/html": [
       "<div>\n",
       "<style scoped>\n",
       "    .dataframe tbody tr th:only-of-type {\n",
       "        vertical-align: middle;\n",
       "    }\n",
       "\n",
       "    .dataframe tbody tr th {\n",
       "        vertical-align: top;\n",
       "    }\n",
       "\n",
       "    .dataframe thead th {\n",
       "        text-align: right;\n",
       "    }\n",
       "</style>\n",
       "<table border=\"1\" class=\"dataframe\">\n",
       "  <thead>\n",
       "    <tr style=\"text-align: right;\">\n",
       "      <th></th>\n",
       "      <th>Tweet_Id</th>\n",
       "      <th>Username</th>\n",
       "      <th>Followers</th>\n",
       "      <th>Friends</th>\n",
       "      <th>is_deleted</th>\n",
       "      <th>Reputation</th>\n",
       "      <th>num_posted</th>\n",
       "      <th>num_deleted</th>\n",
       "      <th>Deletionratio</th>\n",
       "    </tr>\n",
       "  </thead>\n",
       "  <tbody>\n",
       "    <tr>\n",
       "      <th>0</th>\n",
       "      <td>1178791637348212736</td>\n",
       "      <td>c57d4fb895c5f4a33d2a2b24709f93b5</td>\n",
       "      <td>764191</td>\n",
       "      <td>132</td>\n",
       "      <td>True</td>\n",
       "      <td>0.9998</td>\n",
       "      <td>21</td>\n",
       "      <td>21</td>\n",
       "      <td>1.0000</td>\n",
       "    </tr>\n",
       "    <tr>\n",
       "      <th>1</th>\n",
       "      <td>1181705842275573766</td>\n",
       "      <td>c57d4fb895c5f4a33d2a2b24709f93b5</td>\n",
       "      <td>765034</td>\n",
       "      <td>132</td>\n",
       "      <td>True</td>\n",
       "      <td>0.9998</td>\n",
       "      <td>21</td>\n",
       "      <td>21</td>\n",
       "      <td>1.0000</td>\n",
       "    </tr>\n",
       "    <tr>\n",
       "      <th>2</th>\n",
       "      <td>1187828746503540738</td>\n",
       "      <td>c57d4fb895c5f4a33d2a2b24709f93b5</td>\n",
       "      <td>766578</td>\n",
       "      <td>132</td>\n",
       "      <td>True</td>\n",
       "      <td>0.9998</td>\n",
       "      <td>21</td>\n",
       "      <td>21</td>\n",
       "      <td>1.0000</td>\n",
       "    </tr>\n",
       "    <tr>\n",
       "      <th>3</th>\n",
       "      <td>1192622772658290688</td>\n",
       "      <td>c57d4fb895c5f4a33d2a2b24709f93b5</td>\n",
       "      <td>767939</td>\n",
       "      <td>133</td>\n",
       "      <td>True</td>\n",
       "      <td>0.9998</td>\n",
       "      <td>21</td>\n",
       "      <td>21</td>\n",
       "      <td>1.0000</td>\n",
       "    </tr>\n",
       "    <tr>\n",
       "      <th>4</th>\n",
       "      <td>1193272068621717504</td>\n",
       "      <td>c57d4fb895c5f4a33d2a2b24709f93b5</td>\n",
       "      <td>768180</td>\n",
       "      <td>133</td>\n",
       "      <td>True</td>\n",
       "      <td>0.9998</td>\n",
       "      <td>21</td>\n",
       "      <td>21</td>\n",
       "      <td>1.0000</td>\n",
       "    </tr>\n",
       "  </tbody>\n",
       "</table>\n",
       "</div>"
      ],
      "text/plain": [
       "              Tweet_Id                          Username  Followers  Friends  \\\n",
       "0  1178791637348212736  c57d4fb895c5f4a33d2a2b24709f93b5     764191      132   \n",
       "1  1181705842275573766  c57d4fb895c5f4a33d2a2b24709f93b5     765034      132   \n",
       "2  1187828746503540738  c57d4fb895c5f4a33d2a2b24709f93b5     766578      132   \n",
       "3  1192622772658290688  c57d4fb895c5f4a33d2a2b24709f93b5     767939      133   \n",
       "4  1193272068621717504  c57d4fb895c5f4a33d2a2b24709f93b5     768180      133   \n",
       "\n",
       "   is_deleted  Reputation  num_posted  num_deleted  Deletionratio  \n",
       "0        True      0.9998          21           21         1.0000  \n",
       "1        True      0.9998          21           21         1.0000  \n",
       "2        True      0.9998          21           21         1.0000  \n",
       "3        True      0.9998          21           21         1.0000  \n",
       "4        True      0.9998          21           21         1.0000  "
      ]
     },
     "execution_count": 3,
     "metadata": {},
     "output_type": "execute_result"
    }
   ],
   "source": [
    "pfad_tsv = '../data/TweetsCov19_alltweets_reputation_deletionratio.tsv'\n",
    "\n",
    "df_tweetscov19_alltweets_reputation_deletionratio = pd.read_csv(pfad_tsv, sep='\\t', error_bad_lines=False, names=['Tweet_Id', 'Username', 'Followers', 'Friends', 'is_deleted', 'Reputation', 'num_posted', 'num_deleted', 'Deletionratio'])\n",
    "\n",
    "print('Form :', df_tweetscov19_alltweets_reputation_deletionratio.shape)\n",
    "df_tweetscov19_alltweets_reputation_deletionratio.head()"
   ]
  },
  {
   "cell_type": "code",
   "execution_count": 4,
   "id": "66daf0d8",
   "metadata": {},
   "outputs": [
    {
     "name": "stdout",
     "output_type": "stream",
     "text": [
      "Form : (1757450, 4)\n"
     ]
    },
    {
     "data": {
      "text/html": [
       "<div>\n",
       "<style scoped>\n",
       "    .dataframe tbody tr th:only-of-type {\n",
       "        vertical-align: middle;\n",
       "    }\n",
       "\n",
       "    .dataframe tbody tr th {\n",
       "        vertical-align: top;\n",
       "    }\n",
       "\n",
       "    .dataframe thead th {\n",
       "        text-align: right;\n",
       "    }\n",
       "</style>\n",
       "<table border=\"1\" class=\"dataframe\">\n",
       "  <thead>\n",
       "    <tr style=\"text-align: right;\">\n",
       "      <th></th>\n",
       "      <th>Username</th>\n",
       "      <th>is_deleted</th>\n",
       "      <th>Reputation</th>\n",
       "      <th>moderacy</th>\n",
       "    </tr>\n",
       "  </thead>\n",
       "  <tbody>\n",
       "    <tr>\n",
       "      <th>0</th>\n",
       "      <td>7966d5716c1c4f33591b17755184e3d6</td>\n",
       "      <td>False</td>\n",
       "      <td>0.5722</td>\n",
       "      <td>-1.0000</td>\n",
       "    </tr>\n",
       "    <tr>\n",
       "      <th>1</th>\n",
       "      <td>7966d5716c1c4f33591b17755184e3d6</td>\n",
       "      <td>True</td>\n",
       "      <td>0.5722</td>\n",
       "      <td>-1.0000</td>\n",
       "    </tr>\n",
       "    <tr>\n",
       "      <th>2</th>\n",
       "      <td>7966d5716c1c4f33591b17755184e3d6</td>\n",
       "      <td>False</td>\n",
       "      <td>0.5722</td>\n",
       "      <td>-1.0000</td>\n",
       "    </tr>\n",
       "    <tr>\n",
       "      <th>3</th>\n",
       "      <td>7966d5716c1c4f33591b17755184e3d6</td>\n",
       "      <td>False</td>\n",
       "      <td>0.5722</td>\n",
       "      <td>-1.0000</td>\n",
       "    </tr>\n",
       "    <tr>\n",
       "      <th>4</th>\n",
       "      <td>7966d5716c1c4f33591b17755184e3d6</td>\n",
       "      <td>True</td>\n",
       "      <td>0.5722</td>\n",
       "      <td>-1.0000</td>\n",
       "    </tr>\n",
       "  </tbody>\n",
       "</table>\n",
       "</div>"
      ],
      "text/plain": [
       "                           Username  is_deleted  Reputation  moderacy\n",
       "0  7966d5716c1c4f33591b17755184e3d6       False      0.5722   -1.0000\n",
       "1  7966d5716c1c4f33591b17755184e3d6        True      0.5722   -1.0000\n",
       "2  7966d5716c1c4f33591b17755184e3d6       False      0.5722   -1.0000\n",
       "3  7966d5716c1c4f33591b17755184e3d6       False      0.5722   -1.0000\n",
       "4  7966d5716c1c4f33591b17755184e3d6        True      0.5722   -1.0000"
      ]
     },
     "execution_count": 4,
     "metadata": {},
     "output_type": "execute_result"
    }
   ],
   "source": [
    "df_tweetscov19_alltweets_reputation_deletionratio = df_tweetscov19_alltweets_reputation_deletionratio[['Username', 'is_deleted', 'Reputation']]\n",
    "\n",
    "df_tweetscov19_moderacy_polarized_and_neutralized = df_tweetscov19_moderacy_polarized_and_neutralized[['Username', 'moderacy']]\n",
    "\n",
    "df_tweetscov19 = pd.merge(df_tweetscov19_alltweets_reputation_deletionratio, df_tweetscov19_moderacy_polarized_and_neutralized, on='Username', how='inner')\n",
    "print('Form :', df_tweetscov19.shape)\n",
    "df_tweetscov19.head()"
   ]
  },
  {
   "cell_type": "markdown",
   "id": "7426ee5c",
   "metadata": {},
   "source": [
    "***"
   ]
  },
  {
   "cell_type": "code",
   "execution_count": 8,
   "id": "4fefb069",
   "metadata": {},
   "outputs": [
    {
     "name": "stdout",
     "output_type": "stream",
     "text": [
      "October:  -0.484\n",
      "November:  -0.53\n",
      "December:  -0.513\n",
      "Januar:  -0.528\n",
      "February:  -0.52\n",
      "March:  -0.518\n",
      "April:  -0.542\n",
      "Mai:  -0.538\n"
     ]
    }
   ],
   "source": [
    "path = '../data/df_tweetscov19_october2019_moderacy_polarized_users.tsv'\n",
    "October = pd.read_csv(path, sep='\\t', error_bad_lines=False, names=['Username', 'Number_of_liberals', 'Number_of_conservatives', 'Sum_polarised_domains', 'politic'])\n",
    "print('October: ', '{0:.3g}'.format(October.politic.mean()))\n",
    "\n",
    "path = '../data/df_tweetscov19_november2019_moderacy_polarized_users.tsv'\n",
    "November = pd.read_csv(path, sep='\\t', error_bad_lines=False, names=['Username', 'Number_of_liberals', 'Number_of_conservatives', 'Sum_polarised_domains', 'politic'])\n",
    "print('November: ', '{0:.3g}'.format(November.politic.mean()))\n",
    "\n",
    "path = '../data/df_tweetscov19_december2019_moderacy_polarized_users.tsv'\n",
    "December = pd.read_csv(path, sep='\\t', error_bad_lines=False, names=['Username', 'Number_of_liberals', 'Number_of_conservatives', 'Sum_polarised_domains', 'politic'])\n",
    "print('December: ', '{0:.3g}'.format(December.politic.mean()))\n",
    "\n",
    "path = '../data/df_tweetscov19_januar2020_moderacy_polarized_users.tsv'\n",
    "Januar = pd.read_csv(path, sep='\\t', error_bad_lines=False, names=['Username', 'Number_of_liberals', 'Number_of_conservatives', 'Sum_polarised_domains', 'politic'])\n",
    "print('Januar: ', '{0:.3g}'.format(Januar.politic.mean()))\n",
    "\n",
    "path = '../data/df_tweetscov19_februar2020_moderacy_polarized_users.tsv'\n",
    "Februar = pd.read_csv(path, sep='\\t', error_bad_lines=False, names=['Username', 'Number_of_liberals', 'Number_of_conservatives', 'Sum_polarised_domains', 'politic'])\n",
    "print('February: ', '{0:.3g}'.format(Februar.politic.mean()))\n",
    "\n",
    "path = '../data/df_tweetscov19_maerz2020_moderacy_polarized_users.tsv'\n",
    "March = pd.read_csv(path, sep='\\t', error_bad_lines=False, names=['Username', 'Number_of_liberals', 'Number_of_conservatives', 'Sum_polarised_domains', 'politic'])\n",
    "print('March: ', '{0:.3g}'.format(March.politic.mean()))\n",
    "\n",
    "path = '../data/df_tweetscov19_April2020_moderacy_polarized_users.tsv'\n",
    "April = pd.read_csv(path, sep='\\t', error_bad_lines=False, names=['Username', 'Number_of_liberals', 'Number_of_conservatives', 'Sum_polarised_domains', 'politic'])\n",
    "print('April: ', '{0:.3g}'.format(April.politic.mean()))\n",
    "\n",
    "path = '../data/df_tweetscov19_mai2020_moderacy_polarized_users.tsv'\n",
    "Mai = pd.read_csv(path, sep='\\t', error_bad_lines=False, names=['Username', 'Number_of_liberals', 'Number_of_conservatives', 'Sum_polarised_domains', 'politic'])\n",
    "print('Mai: ', '{0:.3g}'.format(Mai.politic.mean()))\n"
   ]
  },
  {
   "cell_type": "markdown",
   "id": "bc90aef4",
   "metadata": {},
   "source": [
    "***"
   ]
  },
  {
   "cell_type": "code",
   "execution_count": 5,
   "id": "0ba29a87",
   "metadata": {},
   "outputs": [
    {
     "name": "stdout",
     "output_type": "stream",
     "text": [
      "Alle Users: 129134\n"
     ]
    }
   ],
   "source": [
    "print('Alle Users:', df_tweetscov19.Username.unique().size)\n"
   ]
  },
  {
   "cell_type": "code",
   "execution_count": 6,
   "id": "2b0ffee2",
   "metadata": {},
   "outputs": [],
   "source": [
    "# df_tweetscov19 = df_tweetscov19[df_tweetscov19['moderacy'] != 0]\n",
    "\n",
    "# print('Shape: ', df_tweetscov19.shape)\n",
    "# df_tweetscov19.head()"
   ]
  },
  {
   "cell_type": "code",
   "execution_count": 7,
   "id": "24f63218",
   "metadata": {},
   "outputs": [],
   "source": [
    "df_tweetscov19_del = df_tweetscov19[df_tweetscov19['is_deleted']==True]\n",
    "df_tweetscov19_undel = df_tweetscov19[df_tweetscov19['is_deleted']==False]"
   ]
  },
  {
   "cell_type": "code",
   "execution_count": 8,
   "id": "299d05c2",
   "metadata": {},
   "outputs": [
    {
     "name": "stdout",
     "output_type": "stream",
     "text": [
      "Deleted Tweets: (329590, 4)\n",
      "Non-deleted Tweets: (1427860, 4)\n"
     ]
    }
   ],
   "source": [
    "print('Deleted Tweets:', df_tweetscov19_del.shape)\n",
    "print('Non-deleted Tweets:', df_tweetscov19_undel.shape)\n"
   ]
  },
  {
   "cell_type": "code",
   "execution_count": 9,
   "id": "4f5fe32c",
   "metadata": {},
   "outputs": [
    {
     "name": "stdout",
     "output_type": "stream",
     "text": [
      "Alle Users: 129134\n",
      "Alle hard. Users in gesammten Tweets: 40879\n",
      "Tweets of hard. Users in gesammten Tweets: 551077\n",
      "Alle mod. Users in gesammten Tweets: 83364\n",
      "Tweets of mod. Users in gesammten Tweets: 1109976\n"
     ]
    }
   ],
   "source": [
    "print('Alle Users:', df_tweetscov19.Username.unique().size)\n",
    "\n",
    "df = df_tweetscov19[df_tweetscov19['moderacy']>0]\n",
    "print('Alle hard. Users in gesammten Tweets:', df.Username.unique().size)\n",
    "print('Tweets of hard. Users in gesammten Tweets:', df.shape[0])\n",
    "\n",
    "df = df_tweetscov19[df_tweetscov19['moderacy']<0]\n",
    "print('Alle mod. Users in gesammten Tweets:', df.Username.unique().size)\n",
    "print('Tweets of mod. Users in gesammten Tweets:', df.shape[0])\n"
   ]
  },
  {
   "cell_type": "code",
   "execution_count": 10,
   "id": "5a98a975",
   "metadata": {},
   "outputs": [
    {
     "name": "stdout",
     "output_type": "stream",
     "text": [
      "Alle Users: 31288\n",
      "Alle hard. Users in gelöschten Tweets: 11908\n",
      "Tweets of hard. Users in gesammten Tweets: 159200\n",
      "Alle mod. Users in  gelöschten Tweets: 17878\n",
      "Tweets of mod. Users in gesammten Tweets: 148742\n"
     ]
    }
   ],
   "source": [
    "print('Alle Users:', df_tweetscov19_del.Username.unique().size)\n",
    "\n",
    "df = df_tweetscov19_del[df_tweetscov19_del['moderacy']>0]\n",
    "print('Alle hard. Users in gelöschten Tweets:', df.Username.unique().size)\n",
    "print('Tweets of hard. Users in gesammten Tweets:', df.shape[0])\n",
    "\n",
    "\n",
    "df = df_tweetscov19_del[df_tweetscov19_del['moderacy']<0]\n",
    "print('Alle mod. Users in  gelöschten Tweets:', df.Username.unique().size)\n",
    "print('Tweets of mod. Users in gesammten Tweets:', df.shape[0])\n"
   ]
  },
  {
   "cell_type": "code",
   "execution_count": 11,
   "id": "f17b5c22",
   "metadata": {},
   "outputs": [
    {
     "name": "stdout",
     "output_type": "stream",
     "text": [
      "Alle Users: 110154\n",
      "Alle hard. Users in nicht gelöschten Tweets: 32366\n",
      "Tweets of hard. Users in gesammten Tweets: 391877\n",
      "Alle mod. Users in nicht gelöschten Tweets: 73645\n",
      "Tweets of mod. Users in gesammten Tweets: 961234\n"
     ]
    }
   ],
   "source": [
    "print('Alle Users:', df_tweetscov19_undel.Username.unique().size)\n",
    "\n",
    "df = df_tweetscov19_undel[df_tweetscov19_undel['moderacy']>0]\n",
    "print('Alle hard. Users in nicht gelöschten Tweets:', df.Username.unique().size)\n",
    "print('Tweets of hard. Users in gesammten Tweets:', df.shape[0])\n",
    "\n",
    "df = df_tweetscov19_undel[df_tweetscov19_undel['moderacy']<0]\n",
    "print('Alle mod. Users in nicht gelöschten Tweets:', df.Username.unique().size)\n",
    "print('Tweets of mod. Users in gesammten Tweets:', df.shape[0])\n"
   ]
  },
  {
   "cell_type": "code",
   "execution_count": 12,
   "id": "ec9abaf7",
   "metadata": {},
   "outputs": [
    {
     "name": "stdout",
     "output_type": "stream",
     "text": [
      "Alle Users: 4891\n",
      "Alle neutral Users in gelöschten Tweets: 1502\n",
      "Tweets of neutral Users in gelöschten Tweets: 21648\n",
      "Alle neutral Users in nicht gelöschten Tweets: 4143\n",
      "Tweets of neutral Users in nicht gelöschten Tweets: 74749\n"
     ]
    }
   ],
   "source": [
    "df_tweetscov19_neutral = df_tweetscov19[df_tweetscov19['moderacy']==0]\n",
    "print('Alle Users:', df_tweetscov19_neutral.Username.unique().size)\n",
    "\n",
    "df = df_tweetscov19_del[df_tweetscov19_del['moderacy']==0]\n",
    "print('Alle neutral Users in gelöschten Tweets:', df.Username.unique().size)\n",
    "print('Tweets of neutral Users in gelöschten Tweets:', df.shape[0])\n",
    "\n",
    "df = df_tweetscov19_undel[df_tweetscov19_undel['moderacy']==0]\n",
    "print('Alle neutral Users in nicht gelöschten Tweets:', df.Username.unique().size)\n",
    "print('Tweets of neutral Users in nicht gelöschten Tweets:', df.shape[0])"
   ]
  },
  {
   "cell_type": "code",
   "execution_count": 13,
   "id": "c6b6b13e",
   "metadata": {},
   "outputs": [],
   "source": [
    "def plot_kdeplot_v1(df, hue, x, x_label, titel, name): \n",
    "    #fig = plt.figure()\n",
    "    #ax = fig.add_subplot()\n",
    "    ax = sns.kdeplot(data=df, x=x, hue=hue, fill=True, legend= False)\n",
    "    #plt.rcParams[\"figure.figsize\"] = [7,5]\n",
    "\n",
    "    ax.set_ylabel(ylabel='Density', fontsize=15)\n",
    "    ax.set_xlabel(xlabel=x_label, fontsize=17)\n",
    "\n",
    "    ax.tick_params(axis='x', which='major', labelsize=16)\n",
    "    ax.tick_params(axis='y', which='major', labelsize=15)\n",
    "\n",
    "    #plt.margins(0.02)\n",
    "    #fig.tight_layout()\n",
    "    #plt.show()\n",
    "    plt.legend(labels = ['Deleted','Non-deleted'], bbox_to_anchor=(0.2, 1.13), ncol=2, loc=2, borderaxespad=0, fontsize=12)\n",
    "    #g.set_title(titel, fontweight=\"bold\")\n",
    "    #plt.legend(labels = ['Deleted','Non-deleted'], bbox_to_anchor=(1.02, 1.), loc=2, borderaxespad=0)\n",
    "    plt.tight_layout()\n",
    "#     plt.savefig('../plots/'+name+'.pdf')\n"
   ]
  },
  {
   "cell_type": "code",
   "execution_count": 14,
   "id": "97cc9f94",
   "metadata": {},
   "outputs": [
    {
     "data": {
      "image/png": "[encoded data removed]",
      "text/plain": [
       "<Figure size 432x288 with 1 Axes>"
      ]
     },
     "metadata": {
      "needs_background": "light"
     },
     "output_type": "display_data"
    }
   ],
   "source": [
    "df = df_tweetscov19[['is_deleted', 'moderacy']]\n",
    "plot_kdeplot_v1(df, 'is_deleted','moderacy' ,'Moderacy' ,'TweetsCov19', 'kdeplot_tweetscov19_moderacy_all_tweets_conditionaldistribution')"
   ]
  },
  {
   "cell_type": "code",
   "execution_count": 15,
   "id": "6d96c43a",
   "metadata": {},
   "outputs": [],
   "source": [
    "def plot_kdeplot_v2(df, hue, x, x_label, titel, name): \n",
    "    \n",
    "    #fig = plt.figure()\n",
    "    #ax = fig.add_subplot()\n",
    "    #ax = sns.kdeplot(data=df, x=x, hue=hue, fill=True, legend= False)\n",
    "    ax = sns.kdeplot(data=df, x=x, hue=hue, multiple=\"fill\", legend= False)\n",
    "\n",
    "    #plt.rcParams[\"figure.figsize\"] = [7,5]\n",
    "\n",
    "    ax.set_title('Moderacy', fontsize=22)\n",
    "    ax.set_ylabel(ylabel='Density', fontsize=22)\n",
    "    ax.set_xlabel(xlabel=x_label, fontsize=22)\n",
    "\n",
    "    ax.tick_params(axis='x', which='major', labelsize=18)\n",
    "    ax.tick_params(axis='y', which='major', labelsize=18)\n",
    "\n",
    "    #plt.margins(0.02)\n",
    "    #fig.tight_layout()\n",
    "    #plt.show()\n",
    "    #plt.legend(labels = ['Deleted','Non-deleted'], bbox_to_anchor=(0.2, 1.13), ncol=2, loc=2, borderaxespad=0, fontsize=12)\n",
    "    #g.set_title(titel, fontweight=\"bold\")\n",
    "    #plt.legend(labels = ['Deleted','Non-deleted'], bbox_to_anchor=(1.02, 1.), loc=2, borderaxespad=0)\n",
    "    plt.legend([],[], frameon=False)\n",
    "\n",
    "    plt.tight_layout()\n",
    "#     plt.savefig('../plots/'+name+'.pdf')\n"
   ]
  },
  {
   "cell_type": "code",
   "execution_count": 16,
   "id": "a4731a07",
   "metadata": {},
   "outputs": [
    {
     "data": {
      "image/png": "[encoded data removed]",
      "text/plain": [
       "<Figure size 432x288 with 1 Axes>"
      ]
     },
     "metadata": {
      "needs_background": "light"
     },
     "output_type": "display_data"
    }
   ],
   "source": [
    "df = df_tweetscov19[['is_deleted', 'moderacy']]\n",
    "plot_kdeplot_v2(df, 'is_deleted','moderacy' ,'Moderate <-> Hardline' ,'TweetsCov19', 'kdeplot_tweetscov19_moderacy_all_tweets_Normalizethestackeddistribution')"
   ]
  },
  {
   "cell_type": "code",
   "execution_count": 51,
   "id": "02b53bc7",
   "metadata": {},
   "outputs": [],
   "source": [
    "def plot_kdeplot_v3(df, hue, x, x_label, titel, name): \n",
    "    #ax = sns.kdeplot(data=df, x=x, hue=hue, multiple=\"fill\")\n",
    "    ax = sns.kdeplot(\n",
    "    data=df, x=x, hue=hue,\n",
    "    cumulative=True, common_norm=False, common_grid=True,\n",
    "    )\n",
    "    \n",
    "    ax.set_ylabel(ylabel='Density', fontsize=15)\n",
    "    ax.set_xlabel(xlabel=x_label, fontsize=17)\n",
    "\n",
    "    ax.tick_params(axis='x', which='major', labelsize=16)\n",
    "    ax.tick_params(axis='y', which='major', labelsize=15)\n",
    "\n",
    "    plt.legend(labels = ['Deleted','Non-deleted'], bbox_to_anchor=(0.2, 1.13), ncol=2, loc=2, borderaxespad=0, fontsize=12)\n",
    "    #g.set_title(titel, fontweight=\"bold\")\n",
    "    #plt.legend(labels = ['Deleted','Non-deleted'], bbox_to_anchor=(1.02, 1.), loc=2, borderaxespad=0)\n",
    "    plt.tight_layout()\n",
    "    plt.savefig('../plots/'+name+'.pdf')\n"
   ]
  },
  {
   "cell_type": "code",
   "execution_count": 52,
   "id": "7533262d",
   "metadata": {},
   "outputs": [
    {
     "data": {
      "image/png": "[encoded data removed]",
      "text/plain": [
       "<Figure size 432x288 with 1 Axes>"
      ]
     },
     "metadata": {
      "needs_background": "light"
     },
     "output_type": "display_data"
    }
   ],
   "source": [
    "df = df_tweetscov19[['is_deleted', 'moderacy']]\n",
    "plot_kdeplot_v3(df, 'is_deleted','moderacy' ,'Moderacy' ,'TweetsCov19', 'kdeplot_tweetscov19_moderacy_all_tweets_cumulativedistributionfunction')"
   ]
  },
  {
   "cell_type": "markdown",
   "id": "adefd05a",
   "metadata": {},
   "source": [
    "***"
   ]
  },
  {
   "cell_type": "markdown",
   "id": "03402bb8",
   "metadata": {},
   "source": [
    "# Histogram"
   ]
  },
  {
   "cell_type": "markdown",
   "id": "e27aa2ae",
   "metadata": {},
   "source": [
    "***"
   ]
  },
  {
   "cell_type": "markdown",
   "id": "2b37a20a",
   "metadata": {},
   "source": [
    "***"
   ]
  },
  {
   "cell_type": "code",
   "execution_count": 17,
   "id": "8bfe9a17",
   "metadata": {},
   "outputs": [],
   "source": [
    "def thousands(x, pos):\n",
    "    if x <1000 :\n",
    "        return '{:1.0f}'.format(x*1e-3)\n",
    "    \"\"\"The two args are the value and tick position.\"\"\"\n",
    "    return '{:1.0f}k'.format(x*1e-3)\n",
    "\n",
    "def plot_histogram(df, titel):\n",
    "    \n",
    "    fig, ax = plt.subplots()\n",
    "    \n",
    "    N, bins, patches = ax.hist(df, bins=11, color = 'gray')\n",
    "    patches[5].set_label('Neutral')\n",
    "    patches[5].set_facecolor('gray')\n",
    "    for i in range(0,5):\n",
    "        patches[i].set_facecolor('pink')\n",
    "    patches[1].set_label('Moderate')\n",
    "    for i in range(6,len(patches)):\n",
    "        patches[i].set_facecolor('purple')\n",
    "    patches[9].set_label('Hardline')\n",
    "        \n",
    "    ax.tick_params(axis='x', which='major', labelsize=18)\n",
    "    ax.tick_params(axis='y', which='major', labelsize=18)\n",
    "\n",
    "    figsize=(8, 6)\n",
    "    ax.set_title('Moderacy', fontsize=22)\n",
    "    ax.set_ylabel('Number of users', fontsize=22)\n",
    "    ax.set_xlabel(xlabel='Moderate <-> Hardline' , fontsize=22)\n",
    "    ax.yaxis.set_major_formatter(thousands)\n",
    "\n",
    "    #plt.title('Political polarization', fontsize=18)\n",
    "    plt.legend( fontsize=14)\n",
    "    plt.tight_layout()\n",
    "#     plt.savefig('../plots/'+titel+'.pdf')"
   ]
  },
  {
   "cell_type": "code",
   "execution_count": 18,
   "id": "5e6525ce",
   "metadata": {},
   "outputs": [],
   "source": [
    "df_tweetscov19_del = df_tweetscov19[df_tweetscov19['is_deleted']==True]\n",
    "df_tweetscov19_undel = df_tweetscov19[df_tweetscov19['is_deleted']==False]"
   ]
  },
  {
   "cell_type": "code",
   "execution_count": 19,
   "id": "00291b88",
   "metadata": {},
   "outputs": [
    {
     "data": {
      "image/png": "[encoded data removed]",
      "text/plain": [
       "<Figure size 432x288 with 1 Axes>"
      ]
     },
     "metadata": {
      "needs_background": "light"
     },
     "output_type": "display_data"
    }
   ],
   "source": [
    "df = df_tweetscov19.drop_duplicates(subset=['Username'])\n",
    "plot_histogram(df['moderacy'],'hist_tweetsCov19_moderacy_polarized_users(alltweets)')"
   ]
  },
  {
   "cell_type": "code",
   "execution_count": 20,
   "id": "7b4293a0",
   "metadata": {},
   "outputs": [
    {
     "data": {
      "image/png": "[encoded data removed]",
      "text/plain": [
       "<Figure size 432x288 with 1 Axes>"
      ]
     },
     "metadata": {
      "needs_background": "light"
     },
     "output_type": "display_data"
    }
   ],
   "source": [
    "df = df_tweetscov19_del.drop_duplicates(subset=['Username'])\n",
    "plot_histogram(df['moderacy'],'hist_tweetsCov19_afterlockdown_moderacy_polarized_users(deletedtweets)')"
   ]
  },
  {
   "cell_type": "code",
   "execution_count": 21,
   "id": "73f2b0d2",
   "metadata": {},
   "outputs": [
    {
     "data": {
      "image/png": "[encoded data removed]",
      "text/plain": [
       "<Figure size 432x288 with 1 Axes>"
      ]
     },
     "metadata": {
      "needs_background": "light"
     },
     "output_type": "display_data"
    }
   ],
   "source": [
    "df = df_tweetscov19_undel.drop_duplicates(subset=['Username'])\n",
    "plot_histogram(df['moderacy'],'hist_tweetsCov19_moderacy_polarized_users(nondeletedtweets)')"
   ]
  },
  {
   "cell_type": "markdown",
   "id": "41f6f69f",
   "metadata": {},
   "source": [
    "***"
   ]
  },
  {
   "cell_type": "markdown",
   "id": "b4b96aba",
   "metadata": {},
   "source": [
    "# Heatmap\n",
    "### Reputation-Polarisierung"
   ]
  },
  {
   "cell_type": "markdown",
   "id": "6c7a069e",
   "metadata": {},
   "source": [
    "***"
   ]
  },
  {
   "cell_type": "markdown",
   "id": "20e773da",
   "metadata": {},
   "source": [
    "***"
   ]
  },
  {
   "cell_type": "code",
   "execution_count": 5,
   "id": "6f11a673",
   "metadata": {},
   "outputs": [],
   "source": [
    "import plotly.express as px\n",
    "import plotly.graph_objs as go\n",
    "import plotly.offline as pyo\n",
    "\n",
    "def density_hp(df, title, x, y, color):\n",
    "    fig = px.density_heatmap(df, x=x, y=y, nbinsx=20, nbinsy=20, color_continuous_scale=color)\n",
    "    fig.layout.height = 500\n",
    "    fig.layout.width = 600\n",
    "    fig.update_layout(\n",
    "        title= dict(\n",
    "            text= \"Moderacy\",\n",
    "            y=0.95,\n",
    "            x=0.45,\n",
    "            xanchor= 'center',\n",
    "            yanchor= 'top'),\n",
    "        titlefont = dict(\n",
    "             family = 'Arial, sans-serif',\n",
    "             size = 32,\n",
    "             color = 'Black'\n",
    "              ),\n",
    "        xaxis = dict(\n",
    "            title='Moderate <-> Hardline',\n",
    "            \n",
    "            tickmode = 'linear',\n",
    "            tickformat=\".1f\",\n",
    "            dtick = 0.5,\n",
    "            tickfont = dict(\n",
    "            family = 'Arial, sans-serif',\n",
    "            size = 28,\n",
    "            color = 'black'\n",
    "              ),\n",
    "            titlefont = dict(\n",
    "             family = 'Arial, sans-serif',\n",
    "             size = 32,\n",
    "             color = 'Black'\n",
    "              ),\n",
    "            ),\n",
    "        yaxis = dict(\n",
    "            tickmode = 'linear',\n",
    "            tickformat=\".1f\",\n",
    "            dtick = 0.5,\n",
    "            tickfont = dict(\n",
    "            family = 'Arial, sans-serif',\n",
    "            size = 28,\n",
    "            color = 'black'\n",
    "              ),\n",
    "        titlefont = dict(\n",
    "             family = 'Arial, sans-serif',\n",
    "             size = 32,\n",
    "             color = 'Black'\n",
    "              ),\n",
    "            ),\n",
    "        coloraxis_colorbar=dict(\n",
    "            title=\"Tweets\",\n",
    "            thicknessmode=\"pixels\",\n",
    "            titlefont = dict(\n",
    "             family = 'Arial, sans-serif',\n",
    "             size = 32,\n",
    "             color = 'Black'\n",
    "              ),\n",
    "            tickfont = dict(\n",
    "            family = 'Arial, sans-serif',\n",
    "            size = 25,\n",
    "            color = 'black'\n",
    "              ),\n",
    "            ),\n",
    "\n",
    "\n",
    "        )\n",
    "\n",
    "    #fig.show()\n",
    "    pyo.plot(fig, filename=title+\".html\")\n",
    "#     fig.write_image('../plots/heatmaps/'+title+'.pdf')"
   ]
  },
  {
   "cell_type": "code",
   "execution_count": 6,
   "id": "6c34b6e0",
   "metadata": {},
   "outputs": [],
   "source": [
    "#All Tweets\n",
    "df = df_tweetscov19[['is_deleted', 'moderacy', 'Reputation']]\n",
    "\n",
    "df_del =  df[df['is_deleted']==True]\n",
    "df_undel = df[df['is_deleted']==False]"
   ]
  },
  {
   "cell_type": "code",
   "execution_count": 7,
   "id": "bba2781a",
   "metadata": {},
   "outputs": [],
   "source": [
    "density_hp(df,'density_hp_moderacy_polarisation_tweetscov19_alltweets' ,'moderacy', 'Reputation', 'Purples')"
   ]
  },
  {
   "cell_type": "code",
   "execution_count": 8,
   "id": "ecbec1ab",
   "metadata": {},
   "outputs": [],
   "source": [
    "density_hp(df_del,'density_hp_moderacy_polarisation_tweetscov19_deleted' ,'moderacy', 'Reputation', 'Purples')"
   ]
  },
  {
   "cell_type": "code",
   "execution_count": 9,
   "id": "39c73247",
   "metadata": {},
   "outputs": [],
   "source": [
    "density_hp(df_undel,'density_hp_moderacy_polarisation_tweetscov19_nondeleted' ,'moderacy', 'Reputation', 'Purples')"
   ]
  },
  {
   "cell_type": "markdown",
   "id": "6be3c299",
   "metadata": {},
   "source": [
    "***"
   ]
  },
  {
   "cell_type": "markdown",
   "id": "fe42d579",
   "metadata": {},
   "source": [
    "***"
   ]
  },
  {
   "cell_type": "markdown",
   "id": "c3eeffb0",
   "metadata": {},
   "source": [
    "# TweetKB"
   ]
  },
  {
   "cell_type": "markdown",
   "id": "8248f2ca",
   "metadata": {},
   "source": [
    "***"
   ]
  },
  {
   "cell_type": "code",
   "execution_count": 23,
   "id": "6a6fb82a",
   "metadata": {},
   "outputs": [
    {
     "name": "stdout",
     "output_type": "stream",
     "text": [
      "Shape : (48333, 5)\n"
     ]
    },
    {
     "data": {
      "text/html": [
       "<div>\n",
       "<style scoped>\n",
       "    .dataframe tbody tr th:only-of-type {\n",
       "        vertical-align: middle;\n",
       "    }\n",
       "\n",
       "    .dataframe tbody tr th {\n",
       "        vertical-align: top;\n",
       "    }\n",
       "\n",
       "    .dataframe thead th {\n",
       "        text-align: right;\n",
       "    }\n",
       "</style>\n",
       "<table border=\"1\" class=\"dataframe\">\n",
       "  <thead>\n",
       "    <tr style=\"text-align: right;\">\n",
       "      <th></th>\n",
       "      <th>Username</th>\n",
       "      <th>Number_of_moderates</th>\n",
       "      <th>Number_of_hardlines</th>\n",
       "      <th>Sum_polarised_domains</th>\n",
       "      <th>moderacy</th>\n",
       "    </tr>\n",
       "  </thead>\n",
       "  <tbody>\n",
       "    <tr>\n",
       "      <th>0</th>\n",
       "      <td>0000Condor</td>\n",
       "      <td>0</td>\n",
       "      <td>1</td>\n",
       "      <td>1</td>\n",
       "      <td>1.0000</td>\n",
       "    </tr>\n",
       "    <tr>\n",
       "      <th>1</th>\n",
       "      <td>007AliSohrab</td>\n",
       "      <td>-1</td>\n",
       "      <td>0</td>\n",
       "      <td>1</td>\n",
       "      <td>-1.0000</td>\n",
       "    </tr>\n",
       "    <tr>\n",
       "      <th>2</th>\n",
       "      <td>007plus100</td>\n",
       "      <td>-1</td>\n",
       "      <td>0</td>\n",
       "      <td>1</td>\n",
       "      <td>-1.0000</td>\n",
       "    </tr>\n",
       "    <tr>\n",
       "      <th>3</th>\n",
       "      <td>01_zebra</td>\n",
       "      <td>0</td>\n",
       "      <td>1</td>\n",
       "      <td>1</td>\n",
       "      <td>1.0000</td>\n",
       "    </tr>\n",
       "    <tr>\n",
       "      <th>4</th>\n",
       "      <td>01pod</td>\n",
       "      <td>-1</td>\n",
       "      <td>0</td>\n",
       "      <td>1</td>\n",
       "      <td>-1.0000</td>\n",
       "    </tr>\n",
       "  </tbody>\n",
       "</table>\n",
       "</div>"
      ],
      "text/plain": [
       "       Username  Number_of_moderates  Number_of_hardlines  \\\n",
       "0    0000Condor                    0                    1   \n",
       "1  007AliSohrab                   -1                    0   \n",
       "2    007plus100                   -1                    0   \n",
       "3      01_zebra                    0                    1   \n",
       "4         01pod                   -1                    0   \n",
       "\n",
       "   Sum_polarised_domains  moderacy  \n",
       "0                      1    1.0000  \n",
       "1                      1   -1.0000  \n",
       "2                      1   -1.0000  \n",
       "3                      1    1.0000  \n",
       "4                      1   -1.0000  "
      ]
     },
     "execution_count": 23,
     "metadata": {},
     "output_type": "execute_result"
    }
   ],
   "source": [
    "path = '../data/tweetskb_moderacy_polarized_users_with_atleast_one_polarized_domain_v2.tsv'\n",
    "\n",
    "df_tweetskb_moderacy_polarized_and_neutralized = pd.read_csv(path, sep='\\t', error_bad_lines=False, names=['Username', 'Number_of_moderates', 'Number_of_hardlines', 'Sum_polarised_domains', 'moderacy'])\n",
    "\n",
    "print('Shape :', df_tweetskb_moderacy_polarized_and_neutralized.shape)\n",
    "df_tweetskb_moderacy_polarized_and_neutralized.head()"
   ]
  },
  {
   "cell_type": "code",
   "execution_count": 24,
   "id": "7df94e49",
   "metadata": {},
   "outputs": [
    {
     "name": "stdout",
     "output_type": "stream",
     "text": [
      "Form : (9409841, 9)\n"
     ]
    },
    {
     "data": {
      "text/html": [
       "<div>\n",
       "<style scoped>\n",
       "    .dataframe tbody tr th:only-of-type {\n",
       "        vertical-align: middle;\n",
       "    }\n",
       "\n",
       "    .dataframe tbody tr th {\n",
       "        vertical-align: top;\n",
       "    }\n",
       "\n",
       "    .dataframe thead th {\n",
       "        text-align: right;\n",
       "    }\n",
       "</style>\n",
       "<table border=\"1\" class=\"dataframe\">\n",
       "  <thead>\n",
       "    <tr style=\"text-align: right;\">\n",
       "      <th></th>\n",
       "      <th>Tweet_Id</th>\n",
       "      <th>Username</th>\n",
       "      <th>Followers</th>\n",
       "      <th>Friends</th>\n",
       "      <th>is_deleted</th>\n",
       "      <th>num_posted</th>\n",
       "      <th>num_del</th>\n",
       "      <th>Deletionratio</th>\n",
       "      <th>Reputation</th>\n",
       "    </tr>\n",
       "  </thead>\n",
       "  <tbody>\n",
       "    <tr>\n",
       "      <th>0</th>\n",
       "      <td>1178791636039589889</td>\n",
       "      <td>DCComics</td>\n",
       "      <td>3349606</td>\n",
       "      <td>563</td>\n",
       "      <td>False</td>\n",
       "      <td>42</td>\n",
       "      <td>0</td>\n",
       "      <td>0.0000</td>\n",
       "      <td>0.9998</td>\n",
       "    </tr>\n",
       "    <tr>\n",
       "      <th>1</th>\n",
       "      <td>1179833467644850176</td>\n",
       "      <td>DCComics</td>\n",
       "      <td>3351904</td>\n",
       "      <td>563</td>\n",
       "      <td>False</td>\n",
       "      <td>42</td>\n",
       "      <td>0</td>\n",
       "      <td>0.0000</td>\n",
       "      <td>0.9998</td>\n",
       "    </tr>\n",
       "    <tr>\n",
       "      <th>2</th>\n",
       "      <td>1180490470125965313</td>\n",
       "      <td>DCComics</td>\n",
       "      <td>3354879</td>\n",
       "      <td>563</td>\n",
       "      <td>False</td>\n",
       "      <td>42</td>\n",
       "      <td>0</td>\n",
       "      <td>0.0000</td>\n",
       "      <td>0.9998</td>\n",
       "    </tr>\n",
       "    <tr>\n",
       "      <th>3</th>\n",
       "      <td>1187059882534400000</td>\n",
       "      <td>DCComics</td>\n",
       "      <td>3369484</td>\n",
       "      <td>562</td>\n",
       "      <td>False</td>\n",
       "      <td>42</td>\n",
       "      <td>0</td>\n",
       "      <td>0.0000</td>\n",
       "      <td>0.9998</td>\n",
       "    </tr>\n",
       "    <tr>\n",
       "      <th>4</th>\n",
       "      <td>1190311668141580288</td>\n",
       "      <td>DCComics</td>\n",
       "      <td>3376154</td>\n",
       "      <td>564</td>\n",
       "      <td>False</td>\n",
       "      <td>42</td>\n",
       "      <td>0</td>\n",
       "      <td>0.0000</td>\n",
       "      <td>0.9998</td>\n",
       "    </tr>\n",
       "  </tbody>\n",
       "</table>\n",
       "</div>"
      ],
      "text/plain": [
       "              Tweet_Id  Username  Followers  Friends  is_deleted  num_posted  \\\n",
       "0  1178791636039589889  DCComics    3349606      563       False          42   \n",
       "1  1179833467644850176  DCComics    3351904      563       False          42   \n",
       "2  1180490470125965313  DCComics    3354879      563       False          42   \n",
       "3  1187059882534400000  DCComics    3369484      562       False          42   \n",
       "4  1190311668141580288  DCComics    3376154      564       False          42   \n",
       "\n",
       "   num_del  Deletionratio  Reputation  \n",
       "0        0         0.0000      0.9998  \n",
       "1        0         0.0000      0.9998  \n",
       "2        0         0.0000      0.9998  \n",
       "3        0         0.0000      0.9998  \n",
       "4        0         0.0000      0.9998  "
      ]
     },
     "execution_count": 24,
     "metadata": {},
     "output_type": "execute_result"
    }
   ],
   "source": [
    "path = '../data/TweetsKB_alltweets_reputation_deletionratio.tsv'\n",
    "\n",
    "df_tweetskb_alltweets_reputation_deletionratio = pd.read_csv(path, sep='\\t', error_bad_lines=False, names=['Tweet_Id', 'Username', 'Followers', 'Friends', 'is_deleted', 'num_posted', 'num_del', 'Deletionratio',  'Reputation'])\n",
    "\n",
    "print('Form :', df_tweetskb_alltweets_reputation_deletionratio.shape)\n",
    "df_tweetskb_alltweets_reputation_deletionratio.head()"
   ]
  },
  {
   "cell_type": "code",
   "execution_count": 25,
   "id": "c01a1f06",
   "metadata": {},
   "outputs": [
    {
     "name": "stdout",
     "output_type": "stream",
     "text": [
      "Form : (408258, 4)\n"
     ]
    },
    {
     "data": {
      "text/html": [
       "<div>\n",
       "<style scoped>\n",
       "    .dataframe tbody tr th:only-of-type {\n",
       "        vertical-align: middle;\n",
       "    }\n",
       "\n",
       "    .dataframe tbody tr th {\n",
       "        vertical-align: top;\n",
       "    }\n",
       "\n",
       "    .dataframe thead th {\n",
       "        text-align: right;\n",
       "    }\n",
       "</style>\n",
       "<table border=\"1\" class=\"dataframe\">\n",
       "  <thead>\n",
       "    <tr style=\"text-align: right;\">\n",
       "      <th></th>\n",
       "      <th>Username</th>\n",
       "      <th>is_deleted</th>\n",
       "      <th>Reputation</th>\n",
       "      <th>moderacy</th>\n",
       "    </tr>\n",
       "  </thead>\n",
       "  <tbody>\n",
       "    <tr>\n",
       "      <th>0</th>\n",
       "      <td>DCComics</td>\n",
       "      <td>False</td>\n",
       "      <td>0.9998</td>\n",
       "      <td>-1.0000</td>\n",
       "    </tr>\n",
       "    <tr>\n",
       "      <th>1</th>\n",
       "      <td>DCComics</td>\n",
       "      <td>False</td>\n",
       "      <td>0.9998</td>\n",
       "      <td>-1.0000</td>\n",
       "    </tr>\n",
       "    <tr>\n",
       "      <th>2</th>\n",
       "      <td>DCComics</td>\n",
       "      <td>False</td>\n",
       "      <td>0.9998</td>\n",
       "      <td>-1.0000</td>\n",
       "    </tr>\n",
       "    <tr>\n",
       "      <th>3</th>\n",
       "      <td>DCComics</td>\n",
       "      <td>False</td>\n",
       "      <td>0.9998</td>\n",
       "      <td>-1.0000</td>\n",
       "    </tr>\n",
       "    <tr>\n",
       "      <th>4</th>\n",
       "      <td>DCComics</td>\n",
       "      <td>False</td>\n",
       "      <td>0.9998</td>\n",
       "      <td>-1.0000</td>\n",
       "    </tr>\n",
       "  </tbody>\n",
       "</table>\n",
       "</div>"
      ],
      "text/plain": [
       "   Username  is_deleted  Reputation  moderacy\n",
       "0  DCComics       False      0.9998   -1.0000\n",
       "1  DCComics       False      0.9998   -1.0000\n",
       "2  DCComics       False      0.9998   -1.0000\n",
       "3  DCComics       False      0.9998   -1.0000\n",
       "4  DCComics       False      0.9998   -1.0000"
      ]
     },
     "execution_count": 25,
     "metadata": {},
     "output_type": "execute_result"
    }
   ],
   "source": [
    "df_tweetskb_alltweets_reputation_deletionratio = df_tweetskb_alltweets_reputation_deletionratio[['Username', 'is_deleted', 'Reputation']]\n",
    "\n",
    "df_tweetskb_moderacy_polarized_and_neutralized = df_tweetskb_moderacy_polarized_and_neutralized[['Username', 'moderacy']]\n",
    "\n",
    "df_tweetskb = pd.merge(df_tweetskb_alltweets_reputation_deletionratio, df_tweetskb_moderacy_polarized_and_neutralized, on='Username', how='inner')\n",
    "print('Form :', df_tweetskb.shape)\n",
    "df_tweetskb.head()"
   ]
  },
  {
   "cell_type": "markdown",
   "id": "bf8e9b6b",
   "metadata": {},
   "source": [
    "***"
   ]
  },
  {
   "cell_type": "code",
   "execution_count": 2,
   "id": "382bbc38",
   "metadata": {},
   "outputs": [
    {
     "name": "stdout",
     "output_type": "stream",
     "text": [
      "October:  -0.496\n",
      "November:  -0.49\n",
      "December:  -0.518\n",
      "Januar:  -0.48\n",
      "February:  -0.495\n",
      "March:  -0.535\n",
      "April:  -0.535\n",
      "Mai:  -0.511\n"
     ]
    }
   ],
   "source": [
    "path = '../data/df_tweetskb_october2019_moderacy_polarized_users.tsv'\n",
    "October = pd.read_csv(path, sep='\\t', error_bad_lines=False, names=['Username', 'Number_of_liberals', 'Number_of_conservatives', 'Sum_polarised_domains', 'politic'])\n",
    "print('October: ', '{0:.3g}'.format(October.politic.mean()))\n",
    "\n",
    "path = '../data/df_tweetskb_november2019_moderacy_polarized_users.tsv'\n",
    "November = pd.read_csv(path, sep='\\t', error_bad_lines=False, names=['Username', 'Number_of_liberals', 'Number_of_conservatives', 'Sum_polarised_domains', 'politic'])\n",
    "print('November: ', '{0:.3g}'.format(November.politic.mean()))\n",
    "\n",
    "path = '../data/df_tweetskb_december2019_moderacy_polarized_users.tsv'\n",
    "December = pd.read_csv(path, sep='\\t', error_bad_lines=False, names=['Username', 'Number_of_liberals', 'Number_of_conservatives', 'Sum_polarised_domains', 'politic'])\n",
    "print('December: ', '{0:.3g}'.format(December.politic.mean()))\n",
    "\n",
    "path = '../data/df_tweetskb_januar2020_moderacy_polarized_users.tsv'\n",
    "Januar = pd.read_csv(path, sep='\\t', error_bad_lines=False, names=['Username', 'Number_of_liberals', 'Number_of_conservatives', 'Sum_polarised_domains', 'politic'])\n",
    "print('Januar: ', '{0:.3g}'.format(Januar.politic.mean()))\n",
    "\n",
    "path = '../data/df_tweetskb_februar2020_moderacy_polarized_users.tsv'\n",
    "Februar = pd.read_csv(path, sep='\\t', error_bad_lines=False, names=['Username', 'Number_of_liberals', 'Number_of_conservatives', 'Sum_polarised_domains', 'politic'])\n",
    "print('February: ', '{0:.3g}'.format(Februar.politic.mean()))\n",
    "\n",
    "path = '../data/df_tweetskb_maerz2020_moderacy_polarized_users.tsv'\n",
    "March = pd.read_csv(path, sep='\\t', error_bad_lines=False, names=['Username', 'Number_of_liberals', 'Number_of_conservatives', 'Sum_polarised_domains', 'politic'])\n",
    "print('March: ', '{0:.3g}'.format(March.politic.mean()))\n",
    "\n",
    "path = '../data/df_tweetskb_April2020_moderacy_polarized_users.tsv'\n",
    "April = pd.read_csv(path, sep='\\t', error_bad_lines=False, names=['Username', 'Number_of_liberals', 'Number_of_conservatives', 'Sum_polarised_domains', 'politic'])\n",
    "print('April: ', '{0:.3g}'.format(April.politic.mean()))\n",
    "\n",
    "path = '../data/df_tweetskb_mai2020_moderacy_polarized_users.tsv'\n",
    "Mai = pd.read_csv(path, sep='\\t', error_bad_lines=False, names=['Username', 'Number_of_liberals', 'Number_of_conservatives', 'Sum_polarised_domains', 'politic'])\n",
    "print('Mai: ', '{0:.3g}'.format(Mai.politic.mean()))\n"
   ]
  },
  {
   "cell_type": "markdown",
   "id": "aee6babf",
   "metadata": {},
   "source": [
    "***"
   ]
  },
  {
   "cell_type": "markdown",
   "id": "60777bde",
   "metadata": {},
   "source": [
    "## KDE-Plot"
   ]
  },
  {
   "cell_type": "code",
   "execution_count": 26,
   "id": "8f2a64b3",
   "metadata": {},
   "outputs": [],
   "source": [
    "# df_tweetskb = df_tweetskb[df_tweetskb['moderacy'] != 0]\n",
    "\n",
    "# print('Shape: ', df_tweetskb.shape)\n",
    "# df_tweetskb.head()"
   ]
  },
  {
   "cell_type": "code",
   "execution_count": 27,
   "id": "8bf427e7",
   "metadata": {},
   "outputs": [],
   "source": [
    "df_tweetskb_del = df_tweetskb[df_tweetskb['is_deleted']==True]\n",
    "df_tweetskb_undel = df_tweetskb[df_tweetskb['is_deleted']==False]"
   ]
  },
  {
   "cell_type": "code",
   "execution_count": 28,
   "id": "8e42e48c",
   "metadata": {},
   "outputs": [
    {
     "name": "stdout",
     "output_type": "stream",
     "text": [
      "Deleted Tweets: (90123, 4)\n",
      "Non-deleted Tweets: (318135, 4)\n"
     ]
    }
   ],
   "source": [
    "print('Deleted Tweets:', df_tweetskb_del.shape)\n",
    "print('Non-deleted Tweets:', df_tweetskb_undel.shape)"
   ]
  },
  {
   "cell_type": "code",
   "execution_count": 29,
   "id": "cb85bdd4",
   "metadata": {},
   "outputs": [
    {
     "name": "stdout",
     "output_type": "stream",
     "text": [
      "Alle Users: 48333\n",
      "Alle hard. Users in gesammten Tweets: 15573\n",
      "Tweets of hard. Users in gesammten Tweets: 153333\n",
      "Alle mod. Users in gesammten Tweets: 31277\n",
      "Tweets of mod. Users in gesammten Tweets: 230305\n"
     ]
    }
   ],
   "source": [
    "print('Alle Users:', df_tweetskb.Username.unique().size)\n",
    "\n",
    "df = df_tweetskb[df_tweetskb['moderacy']>0]\n",
    "print('Alle hard. Users in gesammten Tweets:', df.Username.unique().size)\n",
    "print('Tweets of hard. Users in gesammten Tweets:', df.shape[0])\n",
    "\n",
    "df = df_tweetskb[df_tweetskb['moderacy']<0]\n",
    "print('Alle mod. Users in gesammten Tweets:', df.Username.unique().size)\n",
    "print('Tweets of mod. Users in gesammten Tweets:', df.shape[0])\n"
   ]
  },
  {
   "cell_type": "code",
   "execution_count": 30,
   "id": "8759951b",
   "metadata": {},
   "outputs": [
    {
     "name": "stdout",
     "output_type": "stream",
     "text": [
      "Alle Users: 11525\n",
      "Alle hard. Users in gelöschten Tweets: 4745\n",
      "Tweets of hard. Users in gesammten Tweets: 46654\n",
      "Alle mod. Users in gelöschten Tweets: 6293\n",
      "Tweets of mod. Users in gesammten Tweets: 37800\n"
     ]
    }
   ],
   "source": [
    "print('Alle Users:', df_tweetskb_del.Username.unique().size)\n",
    "\n",
    "df = df_tweetskb_del[df_tweetskb_del['moderacy']>0]\n",
    "print('Alle hard. Users in gelöschten Tweets:', df.Username.unique().size)\n",
    "print('Tweets of hard. Users in gesammten Tweets:', df.shape[0])\n",
    "\n",
    "\n",
    "df = df_tweetskb_del[df_tweetskb_del['moderacy']<0]\n",
    "print('Alle mod. Users in gelöschten Tweets:', df.Username.unique().size)\n",
    "print('Tweets of mod. Users in gesammten Tweets:', df.shape[0])\n"
   ]
  },
  {
   "cell_type": "code",
   "execution_count": 31,
   "id": "ec7610ba",
   "metadata": {},
   "outputs": [
    {
     "name": "stdout",
     "output_type": "stream",
     "text": [
      "Alle Users: 40071\n",
      "Alle hard. Users in nicht gelöschten Tweets: 11867\n",
      "Tweets of hard. Users in gesammten Tweets: 106679\n",
      "Alle mod. Users in nicht gelöschten Tweets: 27012\n",
      "Tweets of mod. Users in gesammten Tweets: 192505\n"
     ]
    }
   ],
   "source": [
    "print('Alle Users:', df_tweetskb_undel.Username.unique().size)\n",
    "\n",
    "df = df_tweetskb_undel[df_tweetskb_undel['moderacy']>0]\n",
    "print('Alle hard. Users in nicht gelöschten Tweets:', df.Username.unique().size)\n",
    "print('Tweets of hard. Users in gesammten Tweets:', df.shape[0])\n",
    "\n",
    "\n",
    "df = df_tweetskb_undel[df_tweetskb_undel['moderacy']<0]\n",
    "print('Alle mod. Users in nicht gelöschten Tweets:', df.Username.unique().size)\n",
    "print('Tweets of mod. Users in gesammten Tweets:', df.shape[0])\n"
   ]
  },
  {
   "cell_type": "code",
   "execution_count": 32,
   "id": "9fbe3932",
   "metadata": {},
   "outputs": [
    {
     "name": "stdout",
     "output_type": "stream",
     "text": [
      "Alle Users: 1483\n",
      "Alle neutral Users in gelöschten Tweets: 487\n",
      "Tweets of neutral Users in gelöschten Tweets: 5669\n",
      "Alle neutral Users in nicht gelöschten Tweets: 1192\n",
      "Tweets of neutral Users in nicht gelöschten Tweets: 18951\n"
     ]
    }
   ],
   "source": [
    "df_tweetskb_neutral = df_tweetskb[df_tweetskb['moderacy']==0]\n",
    "print('Alle Users:', df_tweetskb_neutral.Username.unique().size)\n",
    "\n",
    "df = df_tweetskb_del[df_tweetskb_del['moderacy']==0]\n",
    "print('Alle neutral Users in gelöschten Tweets:', df.Username.unique().size)\n",
    "print('Tweets of neutral Users in gelöschten Tweets:', df.shape[0])\n",
    "\n",
    "df = df_tweetskb_undel[df_tweetskb_undel['moderacy']==0]\n",
    "print('Alle neutral Users in nicht gelöschten Tweets:', df.Username.unique().size)\n",
    "print('Tweets of neutral Users in nicht gelöschten Tweets:', df.shape[0])"
   ]
  },
  {
   "cell_type": "code",
   "execution_count": 33,
   "id": "51b1ebef",
   "metadata": {},
   "outputs": [
    {
     "data": {
      "image/png": "[encoded data removed]",
      "text/plain": [
       "<Figure size 432x288 with 1 Axes>"
      ]
     },
     "metadata": {
      "needs_background": "light"
     },
     "output_type": "display_data"
    }
   ],
   "source": [
    "df = df_tweetskb[['is_deleted', 'moderacy']]\n",
    "plot_kdeplot_v1(df, 'is_deleted','moderacy' ,'Moderacy' ,'TweetsCov19', 'kdeplot_tweetskb_moderacy_all_tweets_conditionaldistribution')"
   ]
  },
  {
   "cell_type": "code",
   "execution_count": 34,
   "id": "05f82dcd",
   "metadata": {},
   "outputs": [
    {
     "data": {
      "image/png": "[encoded data removed]",
      "text/plain": [
       "<Figure size 432x288 with 1 Axes>"
      ]
     },
     "metadata": {
      "needs_background": "light"
     },
     "output_type": "display_data"
    }
   ],
   "source": [
    "df = df_tweetskb[['is_deleted', 'moderacy']]\n",
    "plot_kdeplot_v2(df, 'is_deleted','moderacy' ,'Moderate <-> Hardline' ,'TweetsCov19', 'kdeplot_tweetskb_moderacy_all_tweets_Normalizethestackeddistribution')"
   ]
  },
  {
   "cell_type": "code",
   "execution_count": 50,
   "id": "848920b4",
   "metadata": {},
   "outputs": [
    {
     "data": {
      "image/png": "[encoded data removed]",
      "text/plain": [
       "<Figure size 432x288 with 1 Axes>"
      ]
     },
     "metadata": {
      "needs_background": "light"
     },
     "output_type": "display_data"
    }
   ],
   "source": [
    "df = df_tweetskb[['is_deleted', 'moderacy']]\n",
    "plot_kdeplot_v3(df, 'is_deleted','moderacy' ,'Moderacy' ,'TweetsCov19', 'kdeplot_tweetskb_moderacy_all_tweets_cumulativedistributionfunction')"
   ]
  },
  {
   "cell_type": "markdown",
   "id": "e1ffbb69",
   "metadata": {},
   "source": [
    "***"
   ]
  },
  {
   "cell_type": "markdown",
   "id": "3cdc5fc0",
   "metadata": {},
   "source": [
    "# Histogram"
   ]
  },
  {
   "cell_type": "markdown",
   "id": "b86cabba",
   "metadata": {},
   "source": [
    "***"
   ]
  },
  {
   "cell_type": "markdown",
   "id": "6f8956b0",
   "metadata": {},
   "source": [
    "****"
   ]
  },
  {
   "cell_type": "code",
   "execution_count": 35,
   "id": "b3b99678",
   "metadata": {},
   "outputs": [],
   "source": [
    "def thousands(x, pos):\n",
    "    if x <1000 :\n",
    "        return '{:1.0f}'.format(x*1e-3)\n",
    "    \"\"\"The two args are the value and tick position.\"\"\"\n",
    "    return '{:1.0f}k'.format(x*1e-3)\n",
    "\n",
    "def plot_histogram_kb(df, titel):\n",
    "    \n",
    "    fig, ax = plt.subplots()\n",
    "    colors = ['b', 'r']\n",
    "    labels = ['Liberale', 'konservativ']\n",
    "    \n",
    "    N, bins, patches = ax.hist(df, bins=11, color = 'gray')\n",
    "    patches[5].set_label('Neutral')\n",
    "    patches[5].set_facecolor('gray')\n",
    "    for i in range(0,5):\n",
    "        patches[i].set_facecolor('pink')\n",
    "    patches[1].set_label('Moderate')\n",
    "    for i in range(6,len(patches)):\n",
    "        patches[i].set_facecolor('purple')\n",
    "    patches[9].set_label('Hardline')\n",
    "   \n",
    "          \n",
    "    ax.tick_params(axis='x', which='major', labelsize=18)\n",
    "    ax.tick_params(axis='y', which='major', labelsize=18)\n",
    "\n",
    "    figsize=(8, 6)\n",
    "    ax.set_title('Moderacy', fontsize=22)\n",
    "    ax.set_ylabel('Number of users', fontsize=22)\n",
    "    ax.set_xlabel(xlabel='Moderate <-> Hardline' , fontsize=22)\n",
    "    ax.yaxis.set_major_formatter(thousands)\n",
    "\n",
    "    #plt.title('Political polarization', fontsize=18)\n",
    "    plt.legend( fontsize=14)\n",
    "    plt.tight_layout()\n",
    "#     plt.savefig('../plots/'+titel+'.pdf')"
   ]
  },
  {
   "cell_type": "code",
   "execution_count": 36,
   "id": "7a0bb985",
   "metadata": {},
   "outputs": [],
   "source": [
    "df_tweetskb_del = df_tweetskb[df_tweetskb['is_deleted']==True]\n",
    "df_tweetskb_undel = df_tweetskb[df_tweetskb['is_deleted']==False]"
   ]
  },
  {
   "cell_type": "code",
   "execution_count": 37,
   "id": "ace6739c",
   "metadata": {},
   "outputs": [
    {
     "data": {
      "image/png": "[encoded data removed]",
      "text/plain": [
       "<Figure size 432x288 with 1 Axes>"
      ]
     },
     "metadata": {
      "needs_background": "light"
     },
     "output_type": "display_data"
    }
   ],
   "source": [
    "#All Tweets\n",
    "df = df_tweetskb.drop_duplicates(subset=['Username'])\n",
    "plot_histogram_kb(df['moderacy'],'hist_tweetsKB_moderacy_polarized_users(alltweets)')"
   ]
  },
  {
   "cell_type": "code",
   "execution_count": 38,
   "id": "aa8fcf1b",
   "metadata": {},
   "outputs": [
    {
     "data": {
      "image/png": "[encoded data removed]",
      "text/plain": [
       "<Figure size 432x288 with 1 Axes>"
      ]
     },
     "metadata": {
      "needs_background": "light"
     },
     "output_type": "display_data"
    }
   ],
   "source": [
    "df = df_tweetskb_del.drop_duplicates(subset=['Username'])\n",
    "plot_histogram_kb(df['moderacy'],'hist_tweetsKB__beforlockdown_moderacy_polarized_users(deletedtweets)')"
   ]
  },
  {
   "cell_type": "code",
   "execution_count": 39,
   "id": "9dd4ceb2",
   "metadata": {},
   "outputs": [
    {
     "data": {
      "image/png": "[encoded data removed]",
      "text/plain": [
       "<Figure size 432x288 with 1 Axes>"
      ]
     },
     "metadata": {
      "needs_background": "light"
     },
     "output_type": "display_data"
    }
   ],
   "source": [
    "df = df_tweetskb_undel.drop_duplicates(subset=['Username'])\n",
    "plot_histogram_kb(df['moderacy'],'hist_tweetsKB_moderacy_polarized_users(nondeletedtweets)')"
   ]
  },
  {
   "cell_type": "markdown",
   "id": "73a4b3b1",
   "metadata": {},
   "source": [
    "***"
   ]
  },
  {
   "cell_type": "markdown",
   "id": "53b2687d",
   "metadata": {},
   "source": [
    "# Heatmap\n",
    "### Reputation-Polarisierung"
   ]
  },
  {
   "cell_type": "markdown",
   "id": "cbc1ed08",
   "metadata": {},
   "source": [
    "***"
   ]
  },
  {
   "cell_type": "code",
   "execution_count": 13,
   "id": "1ae3da92",
   "metadata": {},
   "outputs": [],
   "source": [
    "#All Tweets\n",
    "df = df_tweetskb[['is_deleted', 'moderacy', 'Reputation']]\n",
    "\n",
    "df_del =  df[df['is_deleted']==True]\n",
    "df_undel = df[df['is_deleted']==False]"
   ]
  },
  {
   "cell_type": "code",
   "execution_count": 14,
   "id": "c0c73604",
   "metadata": {},
   "outputs": [],
   "source": [
    "density_hp(df,'density_hp_moderacy_polarisation_tweetskb_alltweets' ,'moderacy', 'Reputation', 'Purples')"
   ]
  },
  {
   "cell_type": "code",
   "execution_count": 15,
   "id": "c61d2f17",
   "metadata": {},
   "outputs": [],
   "source": [
    "density_hp(df_del,'density_hp_moderacy_polarisation_tweetskb_deleted' ,'moderacy', 'Reputation', 'Purples')"
   ]
  },
  {
   "cell_type": "code",
   "execution_count": 16,
   "id": "974528a5",
   "metadata": {},
   "outputs": [],
   "source": [
    "density_hp(df_undel,'density_hp_moderacy_polarisation_tweetskb_nondeleted' ,'moderacy', 'Reputation', 'Purples')"
   ]
  },
  {
   "cell_type": "code",
   "execution_count": null,
   "id": "f49eb976",
   "metadata": {},
   "outputs": [],
   "source": []
  }
 ],
 "metadata": {
  "kernelspec": {
   "display_name": "Python 3",
   "language": "python",
   "name": "python3"
  },
  "language_info": {
   "codemirror_mode": {
    "name": "ipython",
    "version": 3
   },
   "file_extension": ".py",
   "mimetype": "text/x-python",
   "name": "python",
   "nbconvert_exporter": "python",
   "pygments_lexer": "ipython3",
   "version": "3.8.8"
  }
 },
 "nbformat": 4,
 "nbformat_minor": 5
}
