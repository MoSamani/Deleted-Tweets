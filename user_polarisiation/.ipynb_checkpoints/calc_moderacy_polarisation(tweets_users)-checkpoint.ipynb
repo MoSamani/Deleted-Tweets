{
 "cells": [
  {
   "cell_type": "code",
   "execution_count": 1,
   "id": "48980fe5",
   "metadata": {},
   "outputs": [],
   "source": [
    "#CSV Bibliothek importieren \n",
    "import csv\n",
    "#Pandas importieren und als pd bezeichnen\n",
    "import pandas as pd\n",
    "#Numpy importieren und als np bezeichnen \n",
    "import numpy as np\n",
    "#Json Biliothek importieren\n",
    "import json\n",
    "#Obere Schranke für die Größe der Daten auf 100,000,000 setzen  \n",
    "csv.field_size_limit(100000000)\n",
    "#Maximale Anzahl von Zeilen und Spalten Zeigen \n",
    "pd.options.display.max_columns = None\n",
    "pd.options.display.max_rows = None\n",
    "#Extraktion der Domäne\n",
    "import tldextract"
   ]
  },
  {
   "cell_type": "markdown",
   "id": "0323ee4a",
   "metadata": {},
   "source": [
    "***"
   ]
  },
  {
   "cell_type": "markdown",
   "id": "8302f676",
   "metadata": {},
   "source": [
    "***"
   ]
  },
  {
   "cell_type": "markdown",
   "id": "91d9ada2",
   "metadata": {},
   "source": [
    "### Moderate"
   ]
  },
  {
   "cell_type": "code",
   "execution_count": 2,
   "id": "334bee4c",
   "metadata": {},
   "outputs": [],
   "source": [
    "path = '../data/df_domains_left_right.tsv'\n",
    "\n",
    "df_domains_left_right = pd.read_csv(path, sep='\\t', error_bad_lines=False)"
   ]
  },
  {
   "cell_type": "code",
   "execution_count": 3,
   "id": "f109882b",
   "metadata": {},
   "outputs": [
    {
     "name": "stdout",
     "output_type": "stream",
     "text": [
      "Shape:  (1589, 5)\n"
     ]
    },
    {
     "data": {
      "text/html": [
       "<div>\n",
       "<style scoped>\n",
       "    .dataframe tbody tr th:only-of-type {\n",
       "        vertical-align: middle;\n",
       "    }\n",
       "\n",
       "    .dataframe tbody tr th {\n",
       "        vertical-align: top;\n",
       "    }\n",
       "\n",
       "    .dataframe thead th {\n",
       "        text-align: right;\n",
       "    }\n",
       "</style>\n",
       "<table border=\"1\" class=\"dataframe\">\n",
       "  <thead>\n",
       "    <tr style=\"text-align: right;\">\n",
       "      <th></th>\n",
       "      <th>dom</th>\n",
       "      <th>mediabias_leftcenterbias</th>\n",
       "      <th>mediabias_leftbias</th>\n",
       "      <th>mediabias_rightcenterbias</th>\n",
       "      <th>mediabias_rightbias</th>\n",
       "    </tr>\n",
       "  </thead>\n",
       "  <tbody>\n",
       "    <tr>\n",
       "      <th>0</th>\n",
       "      <td>604now.com</td>\n",
       "      <td>1.0</td>\n",
       "      <td>0.0</td>\n",
       "      <td>0.0</td>\n",
       "      <td>0.0</td>\n",
       "    </tr>\n",
       "    <tr>\n",
       "      <th>1</th>\n",
       "      <td>972mag.com</td>\n",
       "      <td>1.0</td>\n",
       "      <td>0.0</td>\n",
       "      <td>0.0</td>\n",
       "      <td>0.0</td>\n",
       "    </tr>\n",
       "    <tr>\n",
       "      <th>2</th>\n",
       "      <td>Augustachronicle.com</td>\n",
       "      <td>1.0</td>\n",
       "      <td>0.0</td>\n",
       "      <td>0.0</td>\n",
       "      <td>0.0</td>\n",
       "    </tr>\n",
       "    <tr>\n",
       "      <th>3</th>\n",
       "      <td>Boston.com</td>\n",
       "      <td>1.0</td>\n",
       "      <td>0.0</td>\n",
       "      <td>0.0</td>\n",
       "      <td>0.0</td>\n",
       "    </tr>\n",
       "    <tr>\n",
       "      <th>4</th>\n",
       "      <td>Censor.NET</td>\n",
       "      <td>1.0</td>\n",
       "      <td>0.0</td>\n",
       "      <td>0.0</td>\n",
       "      <td>0.0</td>\n",
       "    </tr>\n",
       "  </tbody>\n",
       "</table>\n",
       "</div>"
      ],
      "text/plain": [
       "                    dom  mediabias_leftcenterbias  mediabias_leftbias  \\\n",
       "0            604now.com                       1.0                 0.0   \n",
       "1            972mag.com                       1.0                 0.0   \n",
       "2  Augustachronicle.com                       1.0                 0.0   \n",
       "3            Boston.com                       1.0                 0.0   \n",
       "4            Censor.NET                       1.0                 0.0   \n",
       "\n",
       "   mediabias_rightcenterbias  mediabias_rightbias  \n",
       "0                        0.0                  0.0  \n",
       "1                        0.0                  0.0  \n",
       "2                        0.0                  0.0  \n",
       "3                        0.0                  0.0  \n",
       "4                        0.0                  0.0  "
      ]
     },
     "execution_count": 3,
     "metadata": {},
     "output_type": "execute_result"
    }
   ],
   "source": [
    "print('Shape: ', df_domains_left_right.shape)\n",
    "df_domains_left_right.head()"
   ]
  },
  {
   "cell_type": "code",
   "execution_count": 4,
   "id": "312227dc",
   "metadata": {},
   "outputs": [
    {
     "name": "stdout",
     "output_type": "stream",
     "text": [
      "Shape:  (644, 5)\n"
     ]
    },
    {
     "data": {
      "text/html": [
       "<div>\n",
       "<style scoped>\n",
       "    .dataframe tbody tr th:only-of-type {\n",
       "        vertical-align: middle;\n",
       "    }\n",
       "\n",
       "    .dataframe tbody tr th {\n",
       "        vertical-align: top;\n",
       "    }\n",
       "\n",
       "    .dataframe thead th {\n",
       "        text-align: right;\n",
       "    }\n",
       "</style>\n",
       "<table border=\"1\" class=\"dataframe\">\n",
       "  <thead>\n",
       "    <tr style=\"text-align: right;\">\n",
       "      <th></th>\n",
       "      <th>dom</th>\n",
       "      <th>mediabias_leftcenterbias</th>\n",
       "      <th>mediabias_leftbias</th>\n",
       "      <th>mediabias_rightcenterbias</th>\n",
       "      <th>mediabias_rightbias</th>\n",
       "    </tr>\n",
       "  </thead>\n",
       "  <tbody>\n",
       "    <tr>\n",
       "      <th>0</th>\n",
       "      <td>604now.com</td>\n",
       "      <td>1.0</td>\n",
       "      <td>0.0</td>\n",
       "      <td>0.0</td>\n",
       "      <td>0.0</td>\n",
       "    </tr>\n",
       "    <tr>\n",
       "      <th>1</th>\n",
       "      <td>972mag.com</td>\n",
       "      <td>1.0</td>\n",
       "      <td>0.0</td>\n",
       "      <td>0.0</td>\n",
       "      <td>0.0</td>\n",
       "    </tr>\n",
       "    <tr>\n",
       "      <th>2</th>\n",
       "      <td>Augustachronicle.com</td>\n",
       "      <td>1.0</td>\n",
       "      <td>0.0</td>\n",
       "      <td>0.0</td>\n",
       "      <td>0.0</td>\n",
       "    </tr>\n",
       "    <tr>\n",
       "      <th>3</th>\n",
       "      <td>Boston.com</td>\n",
       "      <td>1.0</td>\n",
       "      <td>0.0</td>\n",
       "      <td>0.0</td>\n",
       "      <td>0.0</td>\n",
       "    </tr>\n",
       "    <tr>\n",
       "      <th>4</th>\n",
       "      <td>Censor.NET</td>\n",
       "      <td>1.0</td>\n",
       "      <td>0.0</td>\n",
       "      <td>0.0</td>\n",
       "      <td>0.0</td>\n",
       "    </tr>\n",
       "  </tbody>\n",
       "</table>\n",
       "</div>"
      ],
      "text/plain": [
       "                    dom  mediabias_leftcenterbias  mediabias_leftbias  \\\n",
       "0            604now.com                       1.0                 0.0   \n",
       "1            972mag.com                       1.0                 0.0   \n",
       "2  Augustachronicle.com                       1.0                 0.0   \n",
       "3            Boston.com                       1.0                 0.0   \n",
       "4            Censor.NET                       1.0                 0.0   \n",
       "\n",
       "   mediabias_rightcenterbias  mediabias_rightbias  \n",
       "0                        0.0                  0.0  \n",
       "1                        0.0                  0.0  \n",
       "2                        0.0                  0.0  \n",
       "3                        0.0                  0.0  \n",
       "4                        0.0                  0.0  "
      ]
     },
     "execution_count": 4,
     "metadata": {},
     "output_type": "execute_result"
    }
   ],
   "source": [
    "df_dom_leftcenterbias = df_domains_left_right[df_domains_left_right['mediabias_leftcenterbias'] == 1]\n",
    "print('Shape: ', df_dom_leftcenterbias.shape)\n",
    "df_dom_leftcenterbias.head()"
   ]
  },
  {
   "cell_type": "code",
   "execution_count": 5,
   "id": "b1057b99",
   "metadata": {},
   "outputs": [],
   "source": [
    "list_dom_leftcenterbias = df_dom_leftcenterbias.dom.tolist()"
   ]
  },
  {
   "cell_type": "code",
   "execution_count": 6,
   "id": "e73506ee",
   "metadata": {},
   "outputs": [],
   "source": [
    "def get_unique_items(l1):\n",
    "    l1 = np.array(l1)\n",
    "    l1 = np.unique(l1)\n",
    "    l1 = l1.tolist()\n",
    "    \n",
    "    return l1"
   ]
  },
  {
   "cell_type": "code",
   "execution_count": 7,
   "id": "81ff2715",
   "metadata": {},
   "outputs": [
    {
     "data": {
      "text/plain": [
       "644"
      ]
     },
     "execution_count": 7,
     "metadata": {},
     "output_type": "execute_result"
    }
   ],
   "source": [
    "list_dom_leftcenterbias = get_unique_items(list_dom_leftcenterbias)\n",
    "len(list_dom_leftcenterbias)"
   ]
  },
  {
   "cell_type": "code",
   "execution_count": 8,
   "id": "5d4ebde9",
   "metadata": {},
   "outputs": [
    {
     "name": "stdout",
     "output_type": "stream",
     "text": [
      "Shape:  (381, 5)\n"
     ]
    },
    {
     "data": {
      "text/html": [
       "<div>\n",
       "<style scoped>\n",
       "    .dataframe tbody tr th:only-of-type {\n",
       "        vertical-align: middle;\n",
       "    }\n",
       "\n",
       "    .dataframe tbody tr th {\n",
       "        vertical-align: top;\n",
       "    }\n",
       "\n",
       "    .dataframe thead th {\n",
       "        text-align: right;\n",
       "    }\n",
       "</style>\n",
       "<table border=\"1\" class=\"dataframe\">\n",
       "  <thead>\n",
       "    <tr style=\"text-align: right;\">\n",
       "      <th></th>\n",
       "      <th>dom</th>\n",
       "      <th>mediabias_leftcenterbias</th>\n",
       "      <th>mediabias_leftbias</th>\n",
       "      <th>mediabias_rightcenterbias</th>\n",
       "      <th>mediabias_rightbias</th>\n",
       "    </tr>\n",
       "  </thead>\n",
       "  <tbody>\n",
       "    <tr>\n",
       "      <th>954</th>\n",
       "      <td>13wham.com</td>\n",
       "      <td>0.0</td>\n",
       "      <td>0.0</td>\n",
       "      <td>1.0</td>\n",
       "      <td>0.0</td>\n",
       "    </tr>\n",
       "    <tr>\n",
       "      <th>955</th>\n",
       "      <td>19fortyfive.com</td>\n",
       "      <td>0.0</td>\n",
       "      <td>0.0</td>\n",
       "      <td>1.0</td>\n",
       "      <td>0.0</td>\n",
       "    </tr>\n",
       "    <tr>\n",
       "      <th>956</th>\n",
       "      <td>7news.com.au</td>\n",
       "      <td>0.0</td>\n",
       "      <td>0.0</td>\n",
       "      <td>1.0</td>\n",
       "      <td>0.0</td>\n",
       "    </tr>\n",
       "    <tr>\n",
       "      <th>957</th>\n",
       "      <td>9news.com.au</td>\n",
       "      <td>0.0</td>\n",
       "      <td>0.0</td>\n",
       "      <td>1.0</td>\n",
       "      <td>0.0</td>\n",
       "    </tr>\n",
       "    <tr>\n",
       "      <th>958</th>\n",
       "      <td>Deutschland.de</td>\n",
       "      <td>0.0</td>\n",
       "      <td>0.0</td>\n",
       "      <td>1.0</td>\n",
       "      <td>0.0</td>\n",
       "    </tr>\n",
       "  </tbody>\n",
       "</table>\n",
       "</div>"
      ],
      "text/plain": [
       "                 dom  mediabias_leftcenterbias  mediabias_leftbias  \\\n",
       "954       13wham.com                       0.0                 0.0   \n",
       "955  19fortyfive.com                       0.0                 0.0   \n",
       "956     7news.com.au                       0.0                 0.0   \n",
       "957     9news.com.au                       0.0                 0.0   \n",
       "958   Deutschland.de                       0.0                 0.0   \n",
       "\n",
       "     mediabias_rightcenterbias  mediabias_rightbias  \n",
       "954                        1.0                  0.0  \n",
       "955                        1.0                  0.0  \n",
       "956                        1.0                  0.0  \n",
       "957                        1.0                  0.0  \n",
       "958                        1.0                  0.0  "
      ]
     },
     "execution_count": 8,
     "metadata": {},
     "output_type": "execute_result"
    }
   ],
   "source": [
    "df_dom_rightcenterbias = df_domains_left_right[df_domains_left_right['mediabias_rightcenterbias'] == 1]\n",
    "print('Shape: ', df_dom_rightcenterbias.shape)\n",
    "df_dom_rightcenterbias.head()"
   ]
  },
  {
   "cell_type": "markdown",
   "id": "1c291278",
   "metadata": {},
   "source": [
    "***"
   ]
  },
  {
   "cell_type": "code",
   "execution_count": 9,
   "id": "3b7157e7",
   "metadata": {},
   "outputs": [
    {
     "data": {
      "text/plain": [
       "381"
      ]
     },
     "execution_count": 9,
     "metadata": {},
     "output_type": "execute_result"
    }
   ],
   "source": [
    "list_rightcenterbias = df_dom_rightcenterbias.dom.tolist()\n",
    "\n",
    "list_rightcenterbias = get_unique_items(list_rightcenterbias)\n",
    "len(list_rightcenterbias)"
   ]
  },
  {
   "cell_type": "code",
   "execution_count": 10,
   "id": "7d3f5484",
   "metadata": {},
   "outputs": [
    {
     "data": {
      "text/plain": [
       "1025"
      ]
     },
     "execution_count": 10,
     "metadata": {},
     "output_type": "execute_result"
    }
   ],
   "source": [
    "list_mod = []\n",
    "list_mod.extend(list_rightcenterbias)\n",
    "list_mod.extend(list_dom_leftcenterbias)\n",
    "\n",
    "list_mod = get_unique_items(list_mod)\n",
    "len(list_mod)"
   ]
  },
  {
   "cell_type": "code",
   "execution_count": 16,
   "id": "bda6155a",
   "metadata": {},
   "outputs": [
    {
     "ename": "ValueError",
     "evalue": "list.remove(x): x not in list",
     "output_type": "error",
     "traceback": [
      "\u001b[1;31m---------------------------------------------------------------------------\u001b[0m",
      "\u001b[1;31mValueError\u001b[0m                                Traceback (most recent call last)",
      "\u001b[1;32m<ipython-input-16-b05e8c7e05df>\u001b[0m in \u001b[0;36m<module>\u001b[1;34m\u001b[0m\n\u001b[1;32m----> 1\u001b[1;33m \u001b[0mlist_mod\u001b[0m\u001b[1;33m.\u001b[0m\u001b[0mremove\u001b[0m\u001b[1;33m(\u001b[0m\u001b[1;34m'dom'\u001b[0m\u001b[1;33m)\u001b[0m\u001b[1;33m\u001b[0m\u001b[1;33m\u001b[0m\u001b[0m\n\u001b[0m",
      "\u001b[1;31mValueError\u001b[0m: list.remove(x): x not in list"
     ]
    }
   ],
   "source": [
    "list_mod.remove('dom')"
   ]
  },
  {
   "cell_type": "markdown",
   "id": "ba157f46",
   "metadata": {},
   "source": [
    "***"
   ]
  },
  {
   "cell_type": "markdown",
   "id": "058e9d66",
   "metadata": {},
   "source": [
    "## Hardline"
   ]
  },
  {
   "cell_type": "code",
   "execution_count": 11,
   "id": "56ec1541",
   "metadata": {},
   "outputs": [
    {
     "name": "stdout",
     "output_type": "stream",
     "text": [
      "Shape:  (310, 5)\n"
     ]
    },
    {
     "data": {
      "text/html": [
       "<div>\n",
       "<style scoped>\n",
       "    .dataframe tbody tr th:only-of-type {\n",
       "        vertical-align: middle;\n",
       "    }\n",
       "\n",
       "    .dataframe tbody tr th {\n",
       "        vertical-align: top;\n",
       "    }\n",
       "\n",
       "    .dataframe thead th {\n",
       "        text-align: right;\n",
       "    }\n",
       "</style>\n",
       "<table border=\"1\" class=\"dataframe\">\n",
       "  <thead>\n",
       "    <tr style=\"text-align: right;\">\n",
       "      <th></th>\n",
       "      <th>dom</th>\n",
       "      <th>mediabias_leftcenterbias</th>\n",
       "      <th>mediabias_leftbias</th>\n",
       "      <th>mediabias_rightcenterbias</th>\n",
       "      <th>mediabias_rightbias</th>\n",
       "    </tr>\n",
       "  </thead>\n",
       "  <tbody>\n",
       "    <tr>\n",
       "      <th>644</th>\n",
       "      <td>19thnews.org</td>\n",
       "      <td>0.0</td>\n",
       "      <td>1.0</td>\n",
       "      <td>0.0</td>\n",
       "      <td>0.0</td>\n",
       "    </tr>\n",
       "    <tr>\n",
       "      <th>645</th>\n",
       "      <td>Accountable.US</td>\n",
       "      <td>0.0</td>\n",
       "      <td>1.0</td>\n",
       "      <td>0.0</td>\n",
       "      <td>0.0</td>\n",
       "    </tr>\n",
       "    <tr>\n",
       "      <th>646</th>\n",
       "      <td>Brut.Media</td>\n",
       "      <td>0.0</td>\n",
       "      <td>1.0</td>\n",
       "      <td>0.0</td>\n",
       "      <td>0.0</td>\n",
       "    </tr>\n",
       "    <tr>\n",
       "      <th>647</th>\n",
       "      <td>JoeBiden.com</td>\n",
       "      <td>0.0</td>\n",
       "      <td>1.0</td>\n",
       "      <td>0.0</td>\n",
       "      <td>0.0</td>\n",
       "    </tr>\n",
       "    <tr>\n",
       "      <th>648</th>\n",
       "      <td>Them.us</td>\n",
       "      <td>0.0</td>\n",
       "      <td>1.0</td>\n",
       "      <td>0.0</td>\n",
       "      <td>0.0</td>\n",
       "    </tr>\n",
       "  </tbody>\n",
       "</table>\n",
       "</div>"
      ],
      "text/plain": [
       "                dom  mediabias_leftcenterbias  mediabias_leftbias  \\\n",
       "644    19thnews.org                       0.0                 1.0   \n",
       "645  Accountable.US                       0.0                 1.0   \n",
       "646      Brut.Media                       0.0                 1.0   \n",
       "647    JoeBiden.com                       0.0                 1.0   \n",
       "648         Them.us                       0.0                 1.0   \n",
       "\n",
       "     mediabias_rightcenterbias  mediabias_rightbias  \n",
       "644                        0.0                  0.0  \n",
       "645                        0.0                  0.0  \n",
       "646                        0.0                  0.0  \n",
       "647                        0.0                  0.0  \n",
       "648                        0.0                  0.0  "
      ]
     },
     "execution_count": 11,
     "metadata": {},
     "output_type": "execute_result"
    }
   ],
   "source": [
    "df_dom_leftbias = df_domains_left_right[df_domains_left_right['mediabias_leftbias'] == 1]\n",
    "print('Shape: ', df_dom_leftbias.shape)\n",
    "df_dom_leftbias.head()"
   ]
  },
  {
   "cell_type": "code",
   "execution_count": 12,
   "id": "9b5c6b27",
   "metadata": {},
   "outputs": [
    {
     "data": {
      "text/plain": [
       "310"
      ]
     },
     "execution_count": 12,
     "metadata": {},
     "output_type": "execute_result"
    }
   ],
   "source": [
    "list_dom_leftbias = df_dom_leftbias.dom.tolist()\n",
    "\n",
    "list_dom_leftbias = get_unique_items(list_dom_leftbias)\n",
    "len(list_dom_leftbias)"
   ]
  },
  {
   "cell_type": "code",
   "execution_count": 13,
   "id": "09b8f28d",
   "metadata": {},
   "outputs": [
    {
     "name": "stdout",
     "output_type": "stream",
     "text": [
      "Shape:  (254, 5)\n"
     ]
    },
    {
     "data": {
      "text/html": [
       "<div>\n",
       "<style scoped>\n",
       "    .dataframe tbody tr th:only-of-type {\n",
       "        vertical-align: middle;\n",
       "    }\n",
       "\n",
       "    .dataframe tbody tr th {\n",
       "        vertical-align: top;\n",
       "    }\n",
       "\n",
       "    .dataframe thead th {\n",
       "        text-align: right;\n",
       "    }\n",
       "</style>\n",
       "<table border=\"1\" class=\"dataframe\">\n",
       "  <thead>\n",
       "    <tr style=\"text-align: right;\">\n",
       "      <th></th>\n",
       "      <th>dom</th>\n",
       "      <th>mediabias_leftcenterbias</th>\n",
       "      <th>mediabias_leftbias</th>\n",
       "      <th>mediabias_rightcenterbias</th>\n",
       "      <th>mediabias_rightbias</th>\n",
       "    </tr>\n",
       "  </thead>\n",
       "  <tbody>\n",
       "    <tr>\n",
       "      <th>1335</th>\n",
       "      <td>2ndvote.com</td>\n",
       "      <td>0.0</td>\n",
       "      <td>0.0</td>\n",
       "      <td>0.0</td>\n",
       "      <td>1.0</td>\n",
       "    </tr>\n",
       "    <tr>\n",
       "      <th>1336</th>\n",
       "      <td>Abort73.com</td>\n",
       "      <td>0.0</td>\n",
       "      <td>0.0</td>\n",
       "      <td>0.0</td>\n",
       "      <td>1.0</td>\n",
       "    </tr>\n",
       "    <tr>\n",
       "      <th>1337</th>\n",
       "      <td>Aish.com</td>\n",
       "      <td>0.0</td>\n",
       "      <td>0.0</td>\n",
       "      <td>0.0</td>\n",
       "      <td>1.0</td>\n",
       "    </tr>\n",
       "    <tr>\n",
       "      <th>1338</th>\n",
       "      <td>AsianNews.it</td>\n",
       "      <td>0.0</td>\n",
       "      <td>0.0</td>\n",
       "      <td>0.0</td>\n",
       "      <td>1.0</td>\n",
       "    </tr>\n",
       "    <tr>\n",
       "      <th>1339</th>\n",
       "      <td>CAGW.org</td>\n",
       "      <td>0.0</td>\n",
       "      <td>0.0</td>\n",
       "      <td>0.0</td>\n",
       "      <td>1.0</td>\n",
       "    </tr>\n",
       "  </tbody>\n",
       "</table>\n",
       "</div>"
      ],
      "text/plain": [
       "               dom  mediabias_leftcenterbias  mediabias_leftbias  \\\n",
       "1335   2ndvote.com                       0.0                 0.0   \n",
       "1336   Abort73.com                       0.0                 0.0   \n",
       "1337      Aish.com                       0.0                 0.0   \n",
       "1338  AsianNews.it                       0.0                 0.0   \n",
       "1339      CAGW.org                       0.0                 0.0   \n",
       "\n",
       "      mediabias_rightcenterbias  mediabias_rightbias  \n",
       "1335                        0.0                  1.0  \n",
       "1336                        0.0                  1.0  \n",
       "1337                        0.0                  1.0  \n",
       "1338                        0.0                  1.0  \n",
       "1339                        0.0                  1.0  "
      ]
     },
     "execution_count": 13,
     "metadata": {},
     "output_type": "execute_result"
    }
   ],
   "source": [
    "df_dom_rightbias = df_domains_left_right[df_domains_left_right['mediabias_rightbias'] == 1]\n",
    "print('Shape: ', df_dom_rightbias.shape)\n",
    "df_dom_rightbias.head()"
   ]
  },
  {
   "cell_type": "code",
   "execution_count": 14,
   "id": "b3d9071a",
   "metadata": {},
   "outputs": [
    {
     "data": {
      "text/plain": [
       "254"
      ]
     },
     "execution_count": 14,
     "metadata": {},
     "output_type": "execute_result"
    }
   ],
   "source": [
    "df_dom_rightbias = df_dom_rightbias.dom.tolist()\n",
    "\n",
    "df_dom_rightbias = get_unique_items(df_dom_rightbias)\n",
    "len(df_dom_rightbias)"
   ]
  },
  {
   "cell_type": "code",
   "execution_count": 15,
   "id": "4bbe982d",
   "metadata": {},
   "outputs": [
    {
     "data": {
      "text/plain": [
       "635"
      ]
     },
     "execution_count": 15,
     "metadata": {},
     "output_type": "execute_result"
    }
   ],
   "source": [
    "list_hard = []\n",
    "list_hard.extend(df_dom_rightbias)\n",
    "list_hard.extend(list_rightcenterbias)\n",
    "\n",
    "list_hard = get_unique_items(list_hard)\n",
    "len(list_hard)"
   ]
  },
  {
   "cell_type": "code",
   "execution_count": 17,
   "id": "cb64ab7a",
   "metadata": {},
   "outputs": [
    {
     "ename": "ValueError",
     "evalue": "list.remove(x): x not in list",
     "output_type": "error",
     "traceback": [
      "\u001b[1;31m---------------------------------------------------------------------------\u001b[0m",
      "\u001b[1;31mValueError\u001b[0m                                Traceback (most recent call last)",
      "\u001b[1;32m<ipython-input-17-b05e8c7e05df>\u001b[0m in \u001b[0;36m<module>\u001b[1;34m\u001b[0m\n\u001b[1;32m----> 1\u001b[1;33m \u001b[0mlist_mod\u001b[0m\u001b[1;33m.\u001b[0m\u001b[0mremove\u001b[0m\u001b[1;33m(\u001b[0m\u001b[1;34m'dom'\u001b[0m\u001b[1;33m)\u001b[0m\u001b[1;33m\u001b[0m\u001b[1;33m\u001b[0m\u001b[0m\n\u001b[0m",
      "\u001b[1;31mValueError\u001b[0m: list.remove(x): x not in list"
     ]
    }
   ],
   "source": [
    "list_mod.remove('dom')"
   ]
  },
  {
   "cell_type": "markdown",
   "id": "5beae86a",
   "metadata": {},
   "source": [
    "## Polarisierungen berechnen\n",
    "### TweetsCov19"
   ]
  },
  {
   "cell_type": "markdown",
   "id": "962b82f9",
   "metadata": {},
   "source": [
    "***"
   ]
  },
  {
   "cell_type": "code",
   "execution_count": 18,
   "id": "ce8a2fc4",
   "metadata": {},
   "outputs": [
    {
     "name": "stdout",
     "output_type": "stream",
     "text": [
      "Shape : (9409841, 5)\n"
     ]
    },
    {
     "data": {
      "text/html": [
       "<div>\n",
       "<style scoped>\n",
       "    .dataframe tbody tr th:only-of-type {\n",
       "        vertical-align: middle;\n",
       "    }\n",
       "\n",
       "    .dataframe tbody tr th {\n",
       "        vertical-align: top;\n",
       "    }\n",
       "\n",
       "    .dataframe thead th {\n",
       "        text-align: right;\n",
       "    }\n",
       "</style>\n",
       "<table border=\"1\" class=\"dataframe\">\n",
       "  <thead>\n",
       "    <tr style=\"text-align: right;\">\n",
       "      <th></th>\n",
       "      <th>Tweet_Id</th>\n",
       "      <th>Username</th>\n",
       "      <th>is_deleted</th>\n",
       "      <th>Urls_num</th>\n",
       "      <th>Url_dom</th>\n",
       "    </tr>\n",
       "  </thead>\n",
       "  <tbody>\n",
       "    <tr>\n",
       "      <th>0</th>\n",
       "      <td>1178791637348212736</td>\n",
       "      <td>c57d4fb895c5f4a33d2a2b24709f93b5</td>\n",
       "      <td>True</td>\n",
       "      <td>0</td>\n",
       "      <td>0</td>\n",
       "    </tr>\n",
       "    <tr>\n",
       "      <th>1</th>\n",
       "      <td>1178791641601232896</td>\n",
       "      <td>627f7d4ef584ba33a676a4ebcb861cdb</td>\n",
       "      <td>False</td>\n",
       "      <td>1</td>\n",
       "      <td>catholicnewsagency.com</td>\n",
       "    </tr>\n",
       "    <tr>\n",
       "      <th>2</th>\n",
       "      <td>1178791643509612547</td>\n",
       "      <td>7966d5716c1c4f33591b17755184e3d6</td>\n",
       "      <td>False</td>\n",
       "      <td>0</td>\n",
       "      <td>0</td>\n",
       "    </tr>\n",
       "    <tr>\n",
       "      <th>3</th>\n",
       "      <td>1178791644214235137</td>\n",
       "      <td>f17996c036ed4cd981f5448fe00d9ed2</td>\n",
       "      <td>False</td>\n",
       "      <td>0</td>\n",
       "      <td>0</td>\n",
       "    </tr>\n",
       "    <tr>\n",
       "      <th>4</th>\n",
       "      <td>1178791645371875329</td>\n",
       "      <td>32a54e5f6d8a67de1bffd2e689594dc8</td>\n",
       "      <td>False</td>\n",
       "      <td>0</td>\n",
       "      <td>0</td>\n",
       "    </tr>\n",
       "  </tbody>\n",
       "</table>\n",
       "</div>"
      ],
      "text/plain": [
       "              Tweet_Id                          Username  is_deleted  \\\n",
       "0  1178791637348212736  c57d4fb895c5f4a33d2a2b24709f93b5        True   \n",
       "1  1178791641601232896  627f7d4ef584ba33a676a4ebcb861cdb       False   \n",
       "2  1178791643509612547  7966d5716c1c4f33591b17755184e3d6       False   \n",
       "3  1178791644214235137  f17996c036ed4cd981f5448fe00d9ed2       False   \n",
       "4  1178791645371875329  32a54e5f6d8a67de1bffd2e689594dc8       False   \n",
       "\n",
       "   Urls_num                 Url_dom  \n",
       "0         0                       0  \n",
       "1         1  catholicnewsagency.com  \n",
       "2         0                       0  \n",
       "3         0                       0  \n",
       "4         0                       0  "
      ]
     },
     "execution_count": 18,
     "metadata": {},
     "output_type": "execute_result"
    }
   ],
   "source": [
    "#Alle tweets als Dataframe lesen.\n",
    "pfad_tsv1 = '../../tweetsCov19_id_is_dom.tsv'\n",
    "\n",
    "df_tweetscov19 = pd.read_csv(pfad_tsv1, sep='\\t', error_bad_lines=False, names=['Tweet_Id', 'Username','is_deleted','Urls_num', 'Url_dom'])\n",
    "pd.options.display.max_columns = None\n",
    "print('Shape :', df_tweetscov19.shape)\n",
    "df_tweetscov19.head()"
   ]
  },
  {
   "cell_type": "code",
   "execution_count": 19,
   "id": "705c23d9",
   "metadata": {},
   "outputs": [],
   "source": [
    "#Diese Methode bekommt benutzten Domäne als ein String,\n",
    "#Wandelt sie die String-daten zu Liste um.\n",
    "#Die Methode geht die Liste durch, prüft jede Domain. \n",
    "#Wenn Domain in moderaten Domäne wäre, dann bekommt der Tweet dafür eine Wertung von -1.\n",
    "\n",
    "\n",
    "def get_mod_pol(domains):\n",
    "    domains_list = domains.split()\n",
    "    score = 0\n",
    "    for i in range(0, len(domains_list)):\n",
    "        \n",
    "        #d = tldextract.extract(domains_list[i])\n",
    "        #d = d.domain\n",
    "        \n",
    "        d = domains_list[i]\n",
    "        \n",
    "        if d in list_mod:\n",
    "            score -=  1\n",
    "        \n",
    "    return score"
   ]
  },
  {
   "cell_type": "code",
   "execution_count": 20,
   "id": "24454a3d",
   "metadata": {},
   "outputs": [],
   "source": [
    "#Für alle Tweets wird die Anzahl der benutzten moderaten Domäne berechnet.\n",
    "df_tweetscov19['Url_dom'] = df_tweetscov19['Url_dom'].astype(str)\n",
    "df_tweetscov19['dom_mod_pol'] = df_tweetscov19.apply(lambda row: get_mod_pol(row['Url_dom']) if (row['Url_dom'] != '0') else 0, axis=1)"
   ]
  },
  {
   "cell_type": "code",
   "execution_count": 21,
   "id": "c9733ad6",
   "metadata": {},
   "outputs": [
    {
     "data": {
      "text/html": [
       "<div>\n",
       "<style scoped>\n",
       "    .dataframe tbody tr th:only-of-type {\n",
       "        vertical-align: middle;\n",
       "    }\n",
       "\n",
       "    .dataframe tbody tr th {\n",
       "        vertical-align: top;\n",
       "    }\n",
       "\n",
       "    .dataframe thead th {\n",
       "        text-align: right;\n",
       "    }\n",
       "</style>\n",
       "<table border=\"1\" class=\"dataframe\">\n",
       "  <thead>\n",
       "    <tr style=\"text-align: right;\">\n",
       "      <th></th>\n",
       "      <th>Tweet_Id</th>\n",
       "      <th>Username</th>\n",
       "      <th>is_deleted</th>\n",
       "      <th>Urls_num</th>\n",
       "      <th>Url_dom</th>\n",
       "      <th>dom_mod_pol</th>\n",
       "    </tr>\n",
       "  </thead>\n",
       "  <tbody>\n",
       "    <tr>\n",
       "      <th>0</th>\n",
       "      <td>1178791637348212736</td>\n",
       "      <td>c57d4fb895c5f4a33d2a2b24709f93b5</td>\n",
       "      <td>True</td>\n",
       "      <td>0</td>\n",
       "      <td>0</td>\n",
       "      <td>0</td>\n",
       "    </tr>\n",
       "    <tr>\n",
       "      <th>1</th>\n",
       "      <td>1178791641601232896</td>\n",
       "      <td>627f7d4ef584ba33a676a4ebcb861cdb</td>\n",
       "      <td>False</td>\n",
       "      <td>1</td>\n",
       "      <td>catholicnewsagency.com</td>\n",
       "      <td>0</td>\n",
       "    </tr>\n",
       "    <tr>\n",
       "      <th>2</th>\n",
       "      <td>1178791643509612547</td>\n",
       "      <td>7966d5716c1c4f33591b17755184e3d6</td>\n",
       "      <td>False</td>\n",
       "      <td>0</td>\n",
       "      <td>0</td>\n",
       "      <td>0</td>\n",
       "    </tr>\n",
       "    <tr>\n",
       "      <th>3</th>\n",
       "      <td>1178791644214235137</td>\n",
       "      <td>f17996c036ed4cd981f5448fe00d9ed2</td>\n",
       "      <td>False</td>\n",
       "      <td>0</td>\n",
       "      <td>0</td>\n",
       "      <td>0</td>\n",
       "    </tr>\n",
       "    <tr>\n",
       "      <th>4</th>\n",
       "      <td>1178791645371875329</td>\n",
       "      <td>32a54e5f6d8a67de1bffd2e689594dc8</td>\n",
       "      <td>False</td>\n",
       "      <td>0</td>\n",
       "      <td>0</td>\n",
       "      <td>0</td>\n",
       "    </tr>\n",
       "  </tbody>\n",
       "</table>\n",
       "</div>"
      ],
      "text/plain": [
       "              Tweet_Id                          Username  is_deleted  \\\n",
       "0  1178791637348212736  c57d4fb895c5f4a33d2a2b24709f93b5        True   \n",
       "1  1178791641601232896  627f7d4ef584ba33a676a4ebcb861cdb       False   \n",
       "2  1178791643509612547  7966d5716c1c4f33591b17755184e3d6       False   \n",
       "3  1178791644214235137  f17996c036ed4cd981f5448fe00d9ed2       False   \n",
       "4  1178791645371875329  32a54e5f6d8a67de1bffd2e689594dc8       False   \n",
       "\n",
       "   Urls_num                 Url_dom  dom_mod_pol  \n",
       "0         0                       0            0  \n",
       "1         1  catholicnewsagency.com            0  \n",
       "2         0                       0            0  \n",
       "3         0                       0            0  \n",
       "4         0                       0            0  "
      ]
     },
     "execution_count": 21,
     "metadata": {},
     "output_type": "execute_result"
    }
   ],
   "source": [
    "df_tweetscov19.head()"
   ]
  },
  {
   "cell_type": "code",
   "execution_count": 22,
   "id": "a30409a8",
   "metadata": {},
   "outputs": [
    {
     "data": {
      "text/plain": [
       "(453982, 6)"
      ]
     },
     "execution_count": 22,
     "metadata": {},
     "output_type": "execute_result"
    }
   ],
   "source": [
    "df_tweetscov19[df_tweetscov19['dom_mod_pol'] < 0].shape"
   ]
  },
  {
   "cell_type": "code",
   "execution_count": 23,
   "id": "be4d302c",
   "metadata": {},
   "outputs": [],
   "source": [
    "#Diese Methode bekommt benutzten Domäne als ein String,\n",
    "#Wandel sie die String-daten zu Liste um.\n",
    "#Die Methode geht die Liste durch, prüft jede Domain. \n",
    "#Wenn Domain in Hardliner-Domäne wäre, dann bekommt der Tweet dafür eine Wertung von 1\n",
    "\n",
    "def get_hard_pol(domains):\n",
    "    domains_list = domains.split()\n",
    "    score = 0\n",
    "    for i in range(0, len(domains_list)):\n",
    "        \n",
    "        #d = tldextract.extract(domains_list[i])\n",
    "        #d = d.domain\n",
    "       \n",
    "        d = domains_list[i]\n",
    "        \n",
    "        if d in list_hard:\n",
    "            score +=  1\n",
    "        \n",
    "    return score"
   ]
  },
  {
   "cell_type": "code",
   "execution_count": 24,
   "id": "5fbdc8c4",
   "metadata": {},
   "outputs": [],
   "source": [
    "#Für alle Tweets wird die anzahl der benutzten konservativen Domäne berechnet.\n",
    "df_tweetscov19['dom_hard_pol'] = df_tweetscov19.apply(lambda row: get_hard_pol(row['Url_dom']) if (row['Url_dom'] != '0') else 0, axis=1)"
   ]
  },
  {
   "cell_type": "code",
   "execution_count": 25,
   "id": "989ab8a9",
   "metadata": {},
   "outputs": [
    {
     "data": {
      "text/html": [
       "<div>\n",
       "<style scoped>\n",
       "    .dataframe tbody tr th:only-of-type {\n",
       "        vertical-align: middle;\n",
       "    }\n",
       "\n",
       "    .dataframe tbody tr th {\n",
       "        vertical-align: top;\n",
       "    }\n",
       "\n",
       "    .dataframe thead th {\n",
       "        text-align: right;\n",
       "    }\n",
       "</style>\n",
       "<table border=\"1\" class=\"dataframe\">\n",
       "  <thead>\n",
       "    <tr style=\"text-align: right;\">\n",
       "      <th></th>\n",
       "      <th>Tweet_Id</th>\n",
       "      <th>Username</th>\n",
       "      <th>is_deleted</th>\n",
       "      <th>Urls_num</th>\n",
       "      <th>Url_dom</th>\n",
       "      <th>dom_mod_pol</th>\n",
       "      <th>dom_hard_pol</th>\n",
       "    </tr>\n",
       "  </thead>\n",
       "  <tbody>\n",
       "    <tr>\n",
       "      <th>0</th>\n",
       "      <td>1178791637348212736</td>\n",
       "      <td>c57d4fb895c5f4a33d2a2b24709f93b5</td>\n",
       "      <td>True</td>\n",
       "      <td>0</td>\n",
       "      <td>0</td>\n",
       "      <td>0</td>\n",
       "      <td>0</td>\n",
       "    </tr>\n",
       "    <tr>\n",
       "      <th>1</th>\n",
       "      <td>1178791641601232896</td>\n",
       "      <td>627f7d4ef584ba33a676a4ebcb861cdb</td>\n",
       "      <td>False</td>\n",
       "      <td>1</td>\n",
       "      <td>catholicnewsagency.com</td>\n",
       "      <td>0</td>\n",
       "      <td>0</td>\n",
       "    </tr>\n",
       "    <tr>\n",
       "      <th>2</th>\n",
       "      <td>1178791643509612547</td>\n",
       "      <td>7966d5716c1c4f33591b17755184e3d6</td>\n",
       "      <td>False</td>\n",
       "      <td>0</td>\n",
       "      <td>0</td>\n",
       "      <td>0</td>\n",
       "      <td>0</td>\n",
       "    </tr>\n",
       "    <tr>\n",
       "      <th>3</th>\n",
       "      <td>1178791644214235137</td>\n",
       "      <td>f17996c036ed4cd981f5448fe00d9ed2</td>\n",
       "      <td>False</td>\n",
       "      <td>0</td>\n",
       "      <td>0</td>\n",
       "      <td>0</td>\n",
       "      <td>0</td>\n",
       "    </tr>\n",
       "    <tr>\n",
       "      <th>4</th>\n",
       "      <td>1178791645371875329</td>\n",
       "      <td>32a54e5f6d8a67de1bffd2e689594dc8</td>\n",
       "      <td>False</td>\n",
       "      <td>0</td>\n",
       "      <td>0</td>\n",
       "      <td>0</td>\n",
       "      <td>0</td>\n",
       "    </tr>\n",
       "  </tbody>\n",
       "</table>\n",
       "</div>"
      ],
      "text/plain": [
       "              Tweet_Id                          Username  is_deleted  \\\n",
       "0  1178791637348212736  c57d4fb895c5f4a33d2a2b24709f93b5        True   \n",
       "1  1178791641601232896  627f7d4ef584ba33a676a4ebcb861cdb       False   \n",
       "2  1178791643509612547  7966d5716c1c4f33591b17755184e3d6       False   \n",
       "3  1178791644214235137  f17996c036ed4cd981f5448fe00d9ed2       False   \n",
       "4  1178791645371875329  32a54e5f6d8a67de1bffd2e689594dc8       False   \n",
       "\n",
       "   Urls_num                 Url_dom  dom_mod_pol  dom_hard_pol  \n",
       "0         0                       0            0             0  \n",
       "1         1  catholicnewsagency.com            0             0  \n",
       "2         0                       0            0             0  \n",
       "3         0                       0            0             0  \n",
       "4         0                       0            0             0  "
      ]
     },
     "execution_count": 25,
     "metadata": {},
     "output_type": "execute_result"
    }
   ],
   "source": [
    "df_tweetscov19.head()"
   ]
  },
  {
   "cell_type": "code",
   "execution_count": 26,
   "id": "bb980814",
   "metadata": {},
   "outputs": [
    {
     "data": {
      "text/plain": [
       "(140774, 7)"
      ]
     },
     "execution_count": 26,
     "metadata": {},
     "output_type": "execute_result"
    }
   ],
   "source": [
    "df_tweetscov19[df_tweetscov19['dom_hard_pol'] > 0].shape"
   ]
  },
  {
   "cell_type": "code",
   "execution_count": 27,
   "id": "99b4077c",
   "metadata": {},
   "outputs": [
    {
     "name": "stderr",
     "output_type": "stream",
     "text": [
      "<ipython-input-27-bbe9aef53859>:4: FutureWarning: Indexing with multiple keys (implicitly converted to a tuple of keys) will be deprecated, use a list instead.\n",
      "  df_tweetscov19_unique_user = df_tweetscov19.groupby('Username')['Urls_num', 'dom_mod_pol', 'dom_hard_pol'].sum()\n"
     ]
    }
   ],
   "source": [
    "#Hier werden die Benutzer in Dataframe gruppiert, und die Features 'Anzahl der Domäne', 'Negative Wertungen' und 'Psoitive Wertungen' werden summiert. \n",
    "#dom_mod_pol = Moderaten\n",
    "#dom_hard_pol = Hardliner\n",
    "df_tweetscov19_unique_user = df_tweetscov19.groupby('Username')['Urls_num', 'dom_mod_pol', 'dom_hard_pol'].sum()"
   ]
  },
  {
   "cell_type": "code",
   "execution_count": 28,
   "id": "aa76ce45",
   "metadata": {},
   "outputs": [
    {
     "data": {
      "text/plain": [
       "(4095876, 3)"
      ]
     },
     "execution_count": 28,
     "metadata": {},
     "output_type": "execute_result"
    }
   ],
   "source": [
    "df_tweetscov19_unique_user.shape"
   ]
  },
  {
   "cell_type": "code",
   "execution_count": 29,
   "id": "9d74fb31",
   "metadata": {},
   "outputs": [
    {
     "data": {
      "text/html": [
       "<div>\n",
       "<style scoped>\n",
       "    .dataframe tbody tr th:only-of-type {\n",
       "        vertical-align: middle;\n",
       "    }\n",
       "\n",
       "    .dataframe tbody tr th {\n",
       "        vertical-align: top;\n",
       "    }\n",
       "\n",
       "    .dataframe thead th {\n",
       "        text-align: right;\n",
       "    }\n",
       "</style>\n",
       "<table border=\"1\" class=\"dataframe\">\n",
       "  <thead>\n",
       "    <tr style=\"text-align: right;\">\n",
       "      <th></th>\n",
       "      <th>Urls_num</th>\n",
       "      <th>dom_mod_pol</th>\n",
       "      <th>dom_hard_pol</th>\n",
       "    </tr>\n",
       "    <tr>\n",
       "      <th>Username</th>\n",
       "      <th></th>\n",
       "      <th></th>\n",
       "      <th></th>\n",
       "    </tr>\n",
       "  </thead>\n",
       "  <tbody>\n",
       "    <tr>\n",
       "      <th>000220d9d43b6b1ad7dbbdbfbcc53371</th>\n",
       "      <td>5</td>\n",
       "      <td>-3</td>\n",
       "      <td>2</td>\n",
       "    </tr>\n",
       "    <tr>\n",
       "      <th>0004878b3fd069f70a0277acafeffad1</th>\n",
       "      <td>1</td>\n",
       "      <td>0</td>\n",
       "      <td>1</td>\n",
       "    </tr>\n",
       "    <tr>\n",
       "      <th>00053d9e1dc6f9efac2648ecd1d4ce03</th>\n",
       "      <td>9</td>\n",
       "      <td>-4</td>\n",
       "      <td>1</td>\n",
       "    </tr>\n",
       "    <tr>\n",
       "      <th>000548ba8e1e9eeaa908d4a8eef43a77</th>\n",
       "      <td>1</td>\n",
       "      <td>-1</td>\n",
       "      <td>1</td>\n",
       "    </tr>\n",
       "    <tr>\n",
       "      <th>000576e39362d72241f34077f5c58153</th>\n",
       "      <td>5</td>\n",
       "      <td>-1</td>\n",
       "      <td>1</td>\n",
       "    </tr>\n",
       "  </tbody>\n",
       "</table>\n",
       "</div>"
      ],
      "text/plain": [
       "                                  Urls_num  dom_mod_pol  dom_hard_pol\n",
       "Username                                                             \n",
       "000220d9d43b6b1ad7dbbdbfbcc53371         5           -3             2\n",
       "0004878b3fd069f70a0277acafeffad1         1            0             1\n",
       "00053d9e1dc6f9efac2648ecd1d4ce03         9           -4             1\n",
       "000548ba8e1e9eeaa908d4a8eef43a77         1           -1             1\n",
       "000576e39362d72241f34077f5c58153         5           -1             1"
      ]
     },
     "execution_count": 29,
     "metadata": {},
     "output_type": "execute_result"
    }
   ],
   "source": [
    "df_tweetscov19_unique_user[df_tweetscov19_unique_user['dom_hard_pol']>0].head()"
   ]
  },
  {
   "cell_type": "code",
   "execution_count": 30,
   "id": "eb54ace2",
   "metadata": {},
   "outputs": [],
   "source": [
    "#Anzahl der benutzten polarisierten Domäne wird berechnet.\n",
    "df_tweetscov19_unique_user['pol_num'] = df_tweetscov19_unique_user.apply(lambda row: (row['dom_hard_pol'] - row['dom_mod_pol']), axis=1)"
   ]
  },
  {
   "cell_type": "code",
   "execution_count": 31,
   "id": "2877036a",
   "metadata": {},
   "outputs": [
    {
     "data": {
      "text/html": [
       "<div>\n",
       "<style scoped>\n",
       "    .dataframe tbody tr th:only-of-type {\n",
       "        vertical-align: middle;\n",
       "    }\n",
       "\n",
       "    .dataframe tbody tr th {\n",
       "        vertical-align: top;\n",
       "    }\n",
       "\n",
       "    .dataframe thead th {\n",
       "        text-align: right;\n",
       "    }\n",
       "</style>\n",
       "<table border=\"1\" class=\"dataframe\">\n",
       "  <thead>\n",
       "    <tr style=\"text-align: right;\">\n",
       "      <th></th>\n",
       "      <th>Urls_num</th>\n",
       "      <th>dom_mod_pol</th>\n",
       "      <th>dom_hard_pol</th>\n",
       "      <th>pol_num</th>\n",
       "    </tr>\n",
       "    <tr>\n",
       "      <th>Username</th>\n",
       "      <th></th>\n",
       "      <th></th>\n",
       "      <th></th>\n",
       "      <th></th>\n",
       "    </tr>\n",
       "  </thead>\n",
       "  <tbody>\n",
       "    <tr>\n",
       "      <th>00008ca06f863b962f72cc9167d7978a</th>\n",
       "      <td>1</td>\n",
       "      <td>-1</td>\n",
       "      <td>0</td>\n",
       "      <td>1</td>\n",
       "    </tr>\n",
       "    <tr>\n",
       "      <th>00016e20a3865cb74581803c27d27b89</th>\n",
       "      <td>1</td>\n",
       "      <td>-1</td>\n",
       "      <td>0</td>\n",
       "      <td>1</td>\n",
       "    </tr>\n",
       "    <tr>\n",
       "      <th>000186b796b0eb667801aad27ca978eb</th>\n",
       "      <td>5</td>\n",
       "      <td>-2</td>\n",
       "      <td>0</td>\n",
       "      <td>2</td>\n",
       "    </tr>\n",
       "    <tr>\n",
       "      <th>000220d9d43b6b1ad7dbbdbfbcc53371</th>\n",
       "      <td>5</td>\n",
       "      <td>-3</td>\n",
       "      <td>2</td>\n",
       "      <td>5</td>\n",
       "    </tr>\n",
       "    <tr>\n",
       "      <th>000222229ae52915cddbcddaf8261891</th>\n",
       "      <td>1</td>\n",
       "      <td>-1</td>\n",
       "      <td>0</td>\n",
       "      <td>1</td>\n",
       "    </tr>\n",
       "  </tbody>\n",
       "</table>\n",
       "</div>"
      ],
      "text/plain": [
       "                                  Urls_num  dom_mod_pol  dom_hard_pol  pol_num\n",
       "Username                                                                      \n",
       "00008ca06f863b962f72cc9167d7978a         1           -1             0        1\n",
       "00016e20a3865cb74581803c27d27b89         1           -1             0        1\n",
       "000186b796b0eb667801aad27ca978eb         5           -2             0        2\n",
       "000220d9d43b6b1ad7dbbdbfbcc53371         5           -3             2        5\n",
       "000222229ae52915cddbcddaf8261891         1           -1             0        1"
      ]
     },
     "execution_count": 31,
     "metadata": {},
     "output_type": "execute_result"
    }
   ],
   "source": [
    "df_tweetscov19_unique_user[df_tweetscov19_unique_user['dom_mod_pol']<0].head()"
   ]
  },
  {
   "cell_type": "code",
   "execution_count": 32,
   "id": "41b74775",
   "metadata": {},
   "outputs": [],
   "source": [
    "#Die Polarisierung der Domäne wird berechnet.\n",
    "#Anzahl der Moderatne + der Hardliner durch die Anzahl der benutzten Domäne.\n",
    "df_tweetscov19_unique_user['user_pol'] = df_tweetscov19_unique_user.apply(lambda row: (row['dom_mod_pol'] + row['dom_hard_pol']) / row['pol_num'] if row['pol_num'] != 0 else 0, axis=1)"
   ]
  },
  {
   "cell_type": "code",
   "execution_count": 33,
   "id": "67f970a9",
   "metadata": {},
   "outputs": [
    {
     "data": {
      "text/html": [
       "<div>\n",
       "<style scoped>\n",
       "    .dataframe tbody tr th:only-of-type {\n",
       "        vertical-align: middle;\n",
       "    }\n",
       "\n",
       "    .dataframe tbody tr th {\n",
       "        vertical-align: top;\n",
       "    }\n",
       "\n",
       "    .dataframe thead th {\n",
       "        text-align: right;\n",
       "    }\n",
       "</style>\n",
       "<table border=\"1\" class=\"dataframe\">\n",
       "  <thead>\n",
       "    <tr style=\"text-align: right;\">\n",
       "      <th></th>\n",
       "      <th>Urls_num</th>\n",
       "      <th>dom_mod_pol</th>\n",
       "      <th>dom_hard_pol</th>\n",
       "      <th>pol_num</th>\n",
       "      <th>user_pol</th>\n",
       "    </tr>\n",
       "    <tr>\n",
       "      <th>Username</th>\n",
       "      <th></th>\n",
       "      <th></th>\n",
       "      <th></th>\n",
       "      <th></th>\n",
       "      <th></th>\n",
       "    </tr>\n",
       "  </thead>\n",
       "  <tbody>\n",
       "    <tr>\n",
       "      <th>000220d9d43b6b1ad7dbbdbfbcc53371</th>\n",
       "      <td>5</td>\n",
       "      <td>-3</td>\n",
       "      <td>2</td>\n",
       "      <td>5</td>\n",
       "      <td>-0.200000</td>\n",
       "    </tr>\n",
       "    <tr>\n",
       "      <th>00053d9e1dc6f9efac2648ecd1d4ce03</th>\n",
       "      <td>9</td>\n",
       "      <td>-4</td>\n",
       "      <td>1</td>\n",
       "      <td>5</td>\n",
       "      <td>-0.600000</td>\n",
       "    </tr>\n",
       "    <tr>\n",
       "      <th>00065a00b971b5e1629d504e0ddf2da0</th>\n",
       "      <td>27</td>\n",
       "      <td>-7</td>\n",
       "      <td>4</td>\n",
       "      <td>11</td>\n",
       "      <td>-0.272727</td>\n",
       "    </tr>\n",
       "    <tr>\n",
       "      <th>0006a238065c3acb128041e666b58f07</th>\n",
       "      <td>13</td>\n",
       "      <td>-5</td>\n",
       "      <td>1</td>\n",
       "      <td>6</td>\n",
       "      <td>-0.666667</td>\n",
       "    </tr>\n",
       "    <tr>\n",
       "      <th>000aa7c6d8842347d36e2d756d57ca50</th>\n",
       "      <td>8</td>\n",
       "      <td>-3</td>\n",
       "      <td>2</td>\n",
       "      <td>5</td>\n",
       "      <td>-0.200000</td>\n",
       "    </tr>\n",
       "  </tbody>\n",
       "</table>\n",
       "</div>"
      ],
      "text/plain": [
       "                                  Urls_num  dom_mod_pol  dom_hard_pol  \\\n",
       "Username                                                                \n",
       "000220d9d43b6b1ad7dbbdbfbcc53371         5           -3             2   \n",
       "00053d9e1dc6f9efac2648ecd1d4ce03         9           -4             1   \n",
       "00065a00b971b5e1629d504e0ddf2da0        27           -7             4   \n",
       "0006a238065c3acb128041e666b58f07        13           -5             1   \n",
       "000aa7c6d8842347d36e2d756d57ca50         8           -3             2   \n",
       "\n",
       "                                  pol_num  user_pol  \n",
       "Username                                             \n",
       "000220d9d43b6b1ad7dbbdbfbcc53371        5 -0.200000  \n",
       "00053d9e1dc6f9efac2648ecd1d4ce03        5 -0.600000  \n",
       "00065a00b971b5e1629d504e0ddf2da0       11 -0.272727  \n",
       "0006a238065c3acb128041e666b58f07        6 -0.666667  \n",
       "000aa7c6d8842347d36e2d756d57ca50        5 -0.200000  "
      ]
     },
     "execution_count": 33,
     "metadata": {},
     "output_type": "execute_result"
    }
   ],
   "source": [
    "df_tweetscov19_unique_user[df_tweetscov19_unique_user['dom_mod_pol']<-2].head()"
   ]
  },
  {
   "cell_type": "code",
   "execution_count": 34,
   "id": "6f180522",
   "metadata": {},
   "outputs": [],
   "source": [
    "#Die Benutzer, die eine Wertung von 0 bekommen haben, werden ausgenommen.\n",
    "df_tweetscov19_unique_user_0 = df_tweetscov19_unique_user[df_tweetscov19_unique_user['user_pol'] != 0]"
   ]
  },
  {
   "cell_type": "code",
   "execution_count": 35,
   "id": "8cace1a0",
   "metadata": {},
   "outputs": [
    {
     "data": {
      "text/plain": [
       "(132402, 5)"
      ]
     },
     "execution_count": 35,
     "metadata": {},
     "output_type": "execute_result"
    }
   ],
   "source": [
    "#Die Form der Dataframe\n",
    "df_tweetscov19_unique_user_0.shape"
   ]
  },
  {
   "cell_type": "code",
   "execution_count": 36,
   "id": "9a5a82c8",
   "metadata": {},
   "outputs": [
    {
     "data": {
      "text/plain": [
       "(14538, 5)"
      ]
     },
     "execution_count": 36,
     "metadata": {},
     "output_type": "execute_result"
    }
   ],
   "source": [
    "#Die Form der Dataframe Hardliner.\n",
    "df_tweetscov19_unique_user_0[df_tweetscov19_unique_user_0['user_pol'] > 0].shape"
   ]
  },
  {
   "cell_type": "code",
   "execution_count": 37,
   "id": "56ec7e1f",
   "metadata": {},
   "outputs": [
    {
     "data": {
      "text/plain": [
       "(117864, 5)"
      ]
     },
     "execution_count": 37,
     "metadata": {},
     "output_type": "execute_result"
    }
   ],
   "source": [
    "#Die Form der Dataframe Moderaten.\n",
    "df_tweetscov19_unique_user_0[df_tweetscov19_unique_user_0['user_pol'] < 0].shape"
   ]
  },
  {
   "cell_type": "code",
   "execution_count": 97,
   "id": "11d2fdb9",
   "metadata": {},
   "outputs": [],
   "source": [
    "#Die polarisieten Werte für Tweets werden gespeichert.\n",
    "#pfad_tsv3 = 'C:/Mo/tweetDB/tweetscov19/TweetsCov19_tsv/data_sample/dom_label/tweetscov19_dom_moderacy.tsv'\n",
    "\n",
    "with open(pfad_tsv3, 'w', newline='', encoding=\"utf-8\") as out_file:\n",
    "    tsv_writer = csv.writer(out_file, delimiter=\"\\t\")\n",
    "    for idx, row in df_tweetscov19.iterrows():\n",
    "        tsv_writer.writerow(row.values.tolist())"
   ]
  },
  {
   "cell_type": "code",
   "execution_count": 38,
   "id": "ad92bb16",
   "metadata": {},
   "outputs": [],
   "source": [
    "df_tweetscov19_unique_user_0 = df_tweetscov19_unique_user_0.reset_index()"
   ]
  },
  {
   "cell_type": "code",
   "execution_count": 39,
   "id": "efe04c69",
   "metadata": {},
   "outputs": [],
   "source": [
    "#Die Benutzer mit bekannten polarisierten Ansichten speichern. \n",
    "pfad_tsv3 = '../../tweetsCov19_user_dom_moderacy.tsv'\n",
    "\n",
    "with open(pfad_tsv3, 'w', newline='', encoding=\"utf-8\") as out_file:\n",
    "    tsv_writer = csv.writer(out_file, delimiter=\"\\t\")\n",
    "    for idx, row in df_tweetscov19_unique_user_0.iterrows():\n",
    "        tsv_writer.writerow(row.values.tolist())"
   ]
  },
  {
   "cell_type": "markdown",
   "id": "ee3c5f68",
   "metadata": {},
   "source": [
    "***"
   ]
  },
  {
   "cell_type": "markdown",
   "id": "fb8b285a",
   "metadata": {},
   "source": [
    "## Polarisierungen berechnen\n",
    "### TweetsKB"
   ]
  },
  {
   "cell_type": "markdown",
   "id": "f1127fb8",
   "metadata": {},
   "source": [
    "***"
   ]
  },
  {
   "cell_type": "code",
   "execution_count": 40,
   "id": "78c338da",
   "metadata": {},
   "outputs": [
    {
     "name": "stdout",
     "output_type": "stream",
     "text": [
      "Shape : (9409841, 5)\n"
     ]
    },
    {
     "data": {
      "text/html": [
       "<div>\n",
       "<style scoped>\n",
       "    .dataframe tbody tr th:only-of-type {\n",
       "        vertical-align: middle;\n",
       "    }\n",
       "\n",
       "    .dataframe tbody tr th {\n",
       "        vertical-align: top;\n",
       "    }\n",
       "\n",
       "    .dataframe thead th {\n",
       "        text-align: right;\n",
       "    }\n",
       "</style>\n",
       "<table border=\"1\" class=\"dataframe\">\n",
       "  <thead>\n",
       "    <tr style=\"text-align: right;\">\n",
       "      <th></th>\n",
       "      <th>Tweet_Id</th>\n",
       "      <th>Username</th>\n",
       "      <th>is_deleted</th>\n",
       "      <th>URLs_dom</th>\n",
       "      <th>URLs_num</th>\n",
       "    </tr>\n",
       "  </thead>\n",
       "  <tbody>\n",
       "    <tr>\n",
       "      <th>0</th>\n",
       "      <td>1178791636039589889</td>\n",
       "      <td>DCComics</td>\n",
       "      <td>False</td>\n",
       "      <td>dcuniverseinfinite.com</td>\n",
       "      <td>1</td>\n",
       "    </tr>\n",
       "    <tr>\n",
       "      <th>1</th>\n",
       "      <td>1178791641265639424</td>\n",
       "      <td>seanberdyz</td>\n",
       "      <td>True</td>\n",
       "      <td>carrd.co</td>\n",
       "      <td>1</td>\n",
       "    </tr>\n",
       "    <tr>\n",
       "      <th>2</th>\n",
       "      <td>1178791640573579264</td>\n",
       "      <td>AnArtistAtBirth</td>\n",
       "      <td>True</td>\n",
       "      <td>0</td>\n",
       "      <td>0</td>\n",
       "    </tr>\n",
       "    <tr>\n",
       "      <th>3</th>\n",
       "      <td>1178791644797255680</td>\n",
       "      <td>lagosboygang</td>\n",
       "      <td>True</td>\n",
       "      <td>0</td>\n",
       "      <td>0</td>\n",
       "    </tr>\n",
       "    <tr>\n",
       "      <th>4</th>\n",
       "      <td>1178791648056217600</td>\n",
       "      <td>Phenom_Hoops</td>\n",
       "      <td>False</td>\n",
       "      <td>phenomhoopreport.com</td>\n",
       "      <td>1</td>\n",
       "    </tr>\n",
       "  </tbody>\n",
       "</table>\n",
       "</div>"
      ],
      "text/plain": [
       "              Tweet_Id         Username  is_deleted                URLs_dom  \\\n",
       "0  1178791636039589889         DCComics       False  dcuniverseinfinite.com   \n",
       "1  1178791641265639424       seanberdyz        True                carrd.co   \n",
       "2  1178791640573579264  AnArtistAtBirth        True                       0   \n",
       "3  1178791644797255680     lagosboygang        True                       0   \n",
       "4  1178791648056217600     Phenom_Hoops       False    phenomhoopreport.com   \n",
       "\n",
       "   URLs_num  \n",
       "0         1  \n",
       "1         1  \n",
       "2         0  \n",
       "3         0  \n",
       "4         1  "
      ]
     },
     "execution_count": 40,
     "metadata": {},
     "output_type": "execute_result"
    }
   ],
   "source": [
    "#Dataframe wird gelesen.\n",
    "pfad_tsv3 = '../../tweetskb_sample_id_is_dom.tsv'\n",
    "\n",
    "df_tweetskb = pd.read_csv(pfad_tsv3, sep='\\t', error_bad_lines=False, names=['Tweet_Id', \"Username\", 'is_deleted', 'URLs_dom', 'URLs_num'])\n",
    "pd.options.display.max_columns = None\n",
    "print('Shape :', df_tweetskb.shape)\n",
    "df_tweetskb.head()"
   ]
  },
  {
   "cell_type": "code",
   "execution_count": 41,
   "id": "386ac730",
   "metadata": {},
   "outputs": [],
   "source": [
    "#Für alle Domäne in Tweets wird die Anzahl der moderaten Domäne berechnet.\n",
    "df_tweetskb['URLs_dom'] = df_tweetskb['URLs_dom'].astype(str)\n",
    "df_tweetskb['dom_mod_pol'] = df_tweetskb.apply(lambda row: get_mod_pol(row['URLs_dom']) if (row['URLs_dom'] != '0') else 0, axis=1)"
   ]
  },
  {
   "cell_type": "code",
   "execution_count": 42,
   "id": "196793e3",
   "metadata": {},
   "outputs": [
    {
     "data": {
      "text/plain": [
       "(97737, 6)"
      ]
     },
     "execution_count": 42,
     "metadata": {},
     "output_type": "execute_result"
    }
   ],
   "source": [
    "df_tweetskb[df_tweetskb['dom_mod_pol'] < 0].shape"
   ]
  },
  {
   "cell_type": "code",
   "execution_count": 43,
   "id": "b5b9e2cc",
   "metadata": {},
   "outputs": [],
   "source": [
    "#Für alle Domäne in Tweets wird die Anzahl der Hardliner-Domäne berechnet.\n",
    "df_tweetskb['dom_hard_pol'] = df_tweetskb.apply(lambda row: get_hard_pol(row['URLs_dom']) if (row['URLs_dom'] != '0') else 0, axis=1)"
   ]
  },
  {
   "cell_type": "code",
   "execution_count": 44,
   "id": "d0f5cf02",
   "metadata": {},
   "outputs": [
    {
     "data": {
      "text/plain": [
       "(33123, 7)"
      ]
     },
     "execution_count": 44,
     "metadata": {},
     "output_type": "execute_result"
    }
   ],
   "source": [
    "df_tweetskb[df_tweetskb['dom_hard_pol'] > 0].shape"
   ]
  },
  {
   "cell_type": "code",
   "execution_count": 45,
   "id": "ae30e543",
   "metadata": {},
   "outputs": [
    {
     "name": "stderr",
     "output_type": "stream",
     "text": [
      "<ipython-input-45-15af3bd14a92>:4: FutureWarning: Indexing with multiple keys (implicitly converted to a tuple of keys) will be deprecated, use a list instead.\n",
      "  df_tweetskb_unique_user = df_tweetskb.groupby('Username')['URLs_num', 'dom_mod_pol', 'dom_hard_pol'].sum()\n"
     ]
    }
   ],
   "source": [
    "#Hier werden die Benutzer in Dataframe gruppiert, und die Features 'Anzahl der Domäne', 'Negative Wertungen' und 'Psoitive Wertungen' werden summiert. \n",
    "#dom_mod_pol = Moderaten\n",
    "#dom_hard_pol = Hardliner\n",
    "df_tweetskb_unique_user = df_tweetskb.groupby('Username')['URLs_num', 'dom_mod_pol', 'dom_hard_pol'].sum()"
   ]
  },
  {
   "cell_type": "code",
   "execution_count": 46,
   "id": "a520fd66",
   "metadata": {},
   "outputs": [
    {
     "data": {
      "text/plain": [
       "(5208425, 3)"
      ]
     },
     "execution_count": 46,
     "metadata": {},
     "output_type": "execute_result"
    }
   ],
   "source": [
    "df_tweetskb_unique_user.shape"
   ]
  },
  {
   "cell_type": "code",
   "execution_count": 47,
   "id": "c569aec9",
   "metadata": {},
   "outputs": [
    {
     "data": {
      "text/html": [
       "<div>\n",
       "<style scoped>\n",
       "    .dataframe tbody tr th:only-of-type {\n",
       "        vertical-align: middle;\n",
       "    }\n",
       "\n",
       "    .dataframe tbody tr th {\n",
       "        vertical-align: top;\n",
       "    }\n",
       "\n",
       "    .dataframe thead th {\n",
       "        text-align: right;\n",
       "    }\n",
       "</style>\n",
       "<table border=\"1\" class=\"dataframe\">\n",
       "  <thead>\n",
       "    <tr style=\"text-align: right;\">\n",
       "      <th></th>\n",
       "      <th>URLs_num</th>\n",
       "      <th>dom_mod_pol</th>\n",
       "      <th>dom_hard_pol</th>\n",
       "    </tr>\n",
       "    <tr>\n",
       "      <th>Username</th>\n",
       "      <th></th>\n",
       "      <th></th>\n",
       "      <th></th>\n",
       "    </tr>\n",
       "  </thead>\n",
       "  <tbody>\n",
       "    <tr>\n",
       "      <th>00000000</th>\n",
       "      <td>0</td>\n",
       "      <td>0</td>\n",
       "      <td>0</td>\n",
       "    </tr>\n",
       "    <tr>\n",
       "      <th>000000000yt</th>\n",
       "      <td>0</td>\n",
       "      <td>0</td>\n",
       "      <td>0</td>\n",
       "    </tr>\n",
       "    <tr>\n",
       "      <th>00000000martin</th>\n",
       "      <td>0</td>\n",
       "      <td>0</td>\n",
       "      <td>0</td>\n",
       "    </tr>\n",
       "    <tr>\n",
       "      <th>000000911a</th>\n",
       "      <td>0</td>\n",
       "      <td>0</td>\n",
       "      <td>0</td>\n",
       "    </tr>\n",
       "    <tr>\n",
       "      <th>000000_127</th>\n",
       "      <td>0</td>\n",
       "      <td>0</td>\n",
       "      <td>0</td>\n",
       "    </tr>\n",
       "  </tbody>\n",
       "</table>\n",
       "</div>"
      ],
      "text/plain": [
       "                URLs_num  dom_mod_pol  dom_hard_pol\n",
       "Username                                           \n",
       "00000000               0            0             0\n",
       "000000000yt            0            0             0\n",
       "00000000martin         0            0             0\n",
       "000000911a             0            0             0\n",
       "000000_127             0            0             0"
      ]
     },
     "execution_count": 47,
     "metadata": {},
     "output_type": "execute_result"
    }
   ],
   "source": [
    "df_tweetskb_unique_user.head()"
   ]
  },
  {
   "cell_type": "code",
   "execution_count": 48,
   "id": "0016a6ae",
   "metadata": {},
   "outputs": [],
   "source": [
    "#Die Anzahl der benutzten polarisierten Domäne werden berechnet.\n",
    "df_tweetskb_unique_user['pol_num'] = df_tweetskb_unique_user.apply(lambda row:  (row['dom_hard_pol'] - row['dom_mod_pol']), axis=1)"
   ]
  },
  {
   "cell_type": "code",
   "execution_count": 49,
   "id": "e356d685",
   "metadata": {},
   "outputs": [
    {
     "data": {
      "text/html": [
       "<div>\n",
       "<style scoped>\n",
       "    .dataframe tbody tr th:only-of-type {\n",
       "        vertical-align: middle;\n",
       "    }\n",
       "\n",
       "    .dataframe tbody tr th {\n",
       "        vertical-align: top;\n",
       "    }\n",
       "\n",
       "    .dataframe thead th {\n",
       "        text-align: right;\n",
       "    }\n",
       "</style>\n",
       "<table border=\"1\" class=\"dataframe\">\n",
       "  <thead>\n",
       "    <tr style=\"text-align: right;\">\n",
       "      <th></th>\n",
       "      <th>URLs_num</th>\n",
       "      <th>dom_mod_pol</th>\n",
       "      <th>dom_hard_pol</th>\n",
       "      <th>pol_num</th>\n",
       "    </tr>\n",
       "    <tr>\n",
       "      <th>Username</th>\n",
       "      <th></th>\n",
       "      <th></th>\n",
       "      <th></th>\n",
       "      <th></th>\n",
       "    </tr>\n",
       "  </thead>\n",
       "  <tbody>\n",
       "    <tr>\n",
       "      <th>100FrogLegs</th>\n",
       "      <td>6</td>\n",
       "      <td>-3</td>\n",
       "      <td>1</td>\n",
       "      <td>4</td>\n",
       "    </tr>\n",
       "    <tr>\n",
       "      <th>1066Live</th>\n",
       "      <td>11</td>\n",
       "      <td>-7</td>\n",
       "      <td>0</td>\n",
       "      <td>7</td>\n",
       "    </tr>\n",
       "    <tr>\n",
       "      <th>10F01C0</th>\n",
       "      <td>7</td>\n",
       "      <td>-3</td>\n",
       "      <td>1</td>\n",
       "      <td>4</td>\n",
       "    </tr>\n",
       "    <tr>\n",
       "      <th>1120Eclipse</th>\n",
       "      <td>20</td>\n",
       "      <td>-14</td>\n",
       "      <td>2</td>\n",
       "      <td>16</td>\n",
       "    </tr>\n",
       "    <tr>\n",
       "      <th>123RHGreen</th>\n",
       "      <td>54</td>\n",
       "      <td>-3</td>\n",
       "      <td>7</td>\n",
       "      <td>10</td>\n",
       "    </tr>\n",
       "  </tbody>\n",
       "</table>\n",
       "</div>"
      ],
      "text/plain": [
       "             URLs_num  dom_mod_pol  dom_hard_pol  pol_num\n",
       "Username                                                 \n",
       "100FrogLegs         6           -3             1        4\n",
       "1066Live           11           -7             0        7\n",
       "10F01C0             7           -3             1        4\n",
       "1120Eclipse        20          -14             2       16\n",
       "123RHGreen         54           -3             7       10"
      ]
     },
     "execution_count": 49,
     "metadata": {},
     "output_type": "execute_result"
    }
   ],
   "source": [
    "df_tweetskb_unique_user[df_tweetskb_unique_user['dom_mod_pol']<-2].head()"
   ]
  },
  {
   "cell_type": "code",
   "execution_count": 50,
   "id": "e8249cbe",
   "metadata": {},
   "outputs": [],
   "source": [
    "#Die Polarisierungswerte für die Benutzer wird berechnet.\n",
    "df_tweetskb_unique_user['user_pol'] = df_tweetskb_unique_user.apply(lambda row: (row['dom_mod_pol'] + row['dom_hard_pol']) / row['pol_num'] if row['pol_num'] != 0 else 0, axis=1)"
   ]
  },
  {
   "cell_type": "code",
   "execution_count": 51,
   "id": "28223d31",
   "metadata": {},
   "outputs": [],
   "source": [
    "#Die Benutzer, die eine Wertung von 0 bekommen haben, werden ausgenommen.\n",
    "df_tweetskb_unique_user_0 = df_tweetskb_unique_user[df_tweetskb_unique_user['user_pol'] != 0]"
   ]
  },
  {
   "cell_type": "code",
   "execution_count": 52,
   "id": "dc5dc567",
   "metadata": {},
   "outputs": [
    {
     "data": {
      "text/plain": [
       "(49995, 5)"
      ]
     },
     "execution_count": 52,
     "metadata": {},
     "output_type": "execute_result"
    }
   ],
   "source": [
    "#Die Form der Dataframe\n",
    "df_tweetskb_unique_user_0.shape"
   ]
  },
  {
   "cell_type": "code",
   "execution_count": 53,
   "id": "8ec65892",
   "metadata": {},
   "outputs": [
    {
     "data": {
      "text/plain": [
       "(6002, 5)"
      ]
     },
     "execution_count": 53,
     "metadata": {},
     "output_type": "execute_result"
    }
   ],
   "source": [
    "#Die Hardliner \n",
    "df_tweetskb_unique_user_0[df_tweetskb_unique_user_0['user_pol'] > 0].shape"
   ]
  },
  {
   "cell_type": "code",
   "execution_count": 54,
   "id": "240de925",
   "metadata": {},
   "outputs": [
    {
     "data": {
      "text/plain": [
       "(43993, 5)"
      ]
     },
     "execution_count": 54,
     "metadata": {},
     "output_type": "execute_result"
    }
   ],
   "source": [
    "#Die Moderaten\n",
    "df_tweetskb_unique_user_0[df_tweetskb_unique_user_0['user_pol'] < 0].shape"
   ]
  },
  {
   "cell_type": "code",
   "execution_count": 129,
   "id": "92692d8f",
   "metadata": {},
   "outputs": [],
   "source": [
    "#Die polarisierten Werte für die Tweets werden gespeichert.\n",
    "pfad_tsv3 = 'C:/Mo/tweetDB/tweetscov19/TweetsCov19_tsv/data_sample/dom_label/tweetskb_dom_moderacy.tsv'\n",
    "\n",
    "with open(pfad_tsv3, 'w', newline='', encoding=\"utf-8\") as out_file:\n",
    "    tsv_writer = csv.writer(out_file, delimiter=\"\\t\")\n",
    "    for idx, row in df_tweetskb.iterrows():\n",
    "        tsv_writer.writerow(row.values.tolist())"
   ]
  },
  {
   "cell_type": "code",
   "execution_count": 55,
   "id": "a362e77c",
   "metadata": {},
   "outputs": [],
   "source": [
    "df_tweetskb_unique_user_0 = df_tweetskb_unique_user_0.reset_index()"
   ]
  },
  {
   "cell_type": "code",
   "execution_count": 56,
   "id": "15c4ac38",
   "metadata": {},
   "outputs": [],
   "source": [
    "#Die Benutzer mit polarisierten Werte werden gespeichert.\n",
    "pfad_tsv3 = '../../tweetskb_user_dom_moderacy.tsv'\n",
    "\n",
    "with open(pfad_tsv3, 'w', newline='', encoding=\"utf-8\") as out_file:\n",
    "    tsv_writer = csv.writer(out_file, delimiter=\"\\t\")\n",
    "    for idx, row in df_tweetskb_unique_user_0.iterrows():\n",
    "        tsv_writer.writerow(row.values.tolist())"
   ]
  },
  {
   "cell_type": "code",
   "execution_count": null,
   "id": "983cfb21",
   "metadata": {},
   "outputs": [],
   "source": []
  }
 ],
 "metadata": {
  "kernelspec": {
   "display_name": "Python 3",
   "language": "python",
   "name": "python3"
  },
  "language_info": {
   "codemirror_mode": {
    "name": "ipython",
    "version": 3
   },
   "file_extension": ".py",
   "mimetype": "text/x-python",
   "name": "python",
   "nbconvert_exporter": "python",
   "pygments_lexer": "ipython3",
   "version": "3.8.8"
  }
 },
 "nbformat": 4,
 "nbformat_minor": 5
}
