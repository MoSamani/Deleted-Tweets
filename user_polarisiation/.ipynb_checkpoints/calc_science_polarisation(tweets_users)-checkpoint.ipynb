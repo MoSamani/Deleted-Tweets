{
 "cells": [
  {
   "cell_type": "code",
   "execution_count": 1,
   "id": "1e776b58",
   "metadata": {},
   "outputs": [],
   "source": [
    "#CSV Bibliothek importieren \n",
    "import csv\n",
    "#Pandas importieren und als pd bezeichnen\n",
    "import pandas as pd\n",
    "#Numpy importieren und als np bezeichnen \n",
    "import numpy as np\n",
    "#Json Biliothek importieren\n",
    "import json\n",
    "#Obere Schranke für die Größe der Daten auf 100,000,000 setzen  \n",
    "csv.field_size_limit(100000000)\n",
    "#Maximale Anzahl von Zeilen und Spalten Zeigen \n",
    "pd.options.display.max_columns = None\n",
    "pd.options.display.max_rows = None\n",
    "#Extraktion der Domäne\n",
    "import tldextract"
   ]
  },
  {
   "cell_type": "markdown",
   "id": "1157839f",
   "metadata": {},
   "source": [
    "***"
   ]
  },
  {
   "cell_type": "markdown",
   "id": "0bc60b2d",
   "metadata": {},
   "source": [
    "### Pro_science"
   ]
  },
  {
   "cell_type": "code",
   "execution_count": 80,
   "id": "3d9fe67f",
   "metadata": {},
   "outputs": [],
   "source": [
    "list_prosc = []"
   ]
  },
  {
   "cell_type": "code",
   "execution_count": 12,
   "id": "0442c04f",
   "metadata": {},
   "outputs": [
    {
     "data": {
      "text/plain": [
       "120"
      ]
     },
     "execution_count": 12,
     "metadata": {},
     "output_type": "execute_result"
    }
   ],
   "source": [
    "#Anzahl der Domäne, die Pro-Wissenschaftliche Meinungen vertretten.\n",
    "len(list_prosc)"
   ]
  },
  {
   "cell_type": "code",
   "execution_count": null,
   "id": "343d79ef",
   "metadata": {},
   "outputs": [],
   "source": []
  },
  {
   "cell_type": "code",
   "execution_count": null,
   "id": "35dd2880",
   "metadata": {},
   "outputs": [],
   "source": []
  },
  {
   "cell_type": "markdown",
   "id": "afa13432",
   "metadata": {},
   "source": [
    "***"
   ]
  },
  {
   "cell_type": "markdown",
   "id": "79d582b4",
   "metadata": {},
   "source": [
    "## Anti_science"
   ]
  },
  {
   "cell_type": "markdown",
   "id": "e7fb2978",
   "metadata": {},
   "source": [
    "***"
   ]
  },
  {
   "cell_type": "code",
   "execution_count": null,
   "id": "c2a24eed",
   "metadata": {},
   "outputs": [],
   "source": [
    "list_antisc = []"
   ]
  },
  {
   "cell_type": "code",
   "execution_count": null,
   "id": "000edf4e",
   "metadata": {},
   "outputs": [],
   "source": []
  },
  {
   "cell_type": "code",
   "execution_count": null,
   "id": "94d3da04",
   "metadata": {},
   "outputs": [],
   "source": []
  },
  {
   "cell_type": "code",
   "execution_count": null,
   "id": "3743b315",
   "metadata": {},
   "outputs": [],
   "source": []
  },
  {
   "cell_type": "code",
   "execution_count": null,
   "id": "51704905",
   "metadata": {},
   "outputs": [],
   "source": []
  },
  {
   "cell_type": "markdown",
   "id": "671c9eda",
   "metadata": {},
   "source": [
    "## Polarisierungen berechnen\n",
    "### TweetsCov19"
   ]
  },
  {
   "cell_type": "markdown",
   "id": "7c900d28",
   "metadata": {},
   "source": [
    "---"
   ]
  },
  {
   "cell_type": "code",
   "execution_count": 12,
   "id": "07fbc657",
   "metadata": {},
   "outputs": [
    {
     "name": "stdout",
     "output_type": "stream",
     "text": [
      "Shape : (9409841, 5)\n"
     ]
    },
    {
     "data": {
      "text/html": [
       "<div>\n",
       "<style scoped>\n",
       "    .dataframe tbody tr th:only-of-type {\n",
       "        vertical-align: middle;\n",
       "    }\n",
       "\n",
       "    .dataframe tbody tr th {\n",
       "        vertical-align: top;\n",
       "    }\n",
       "\n",
       "    .dataframe thead th {\n",
       "        text-align: right;\n",
       "    }\n",
       "</style>\n",
       "<table border=\"1\" class=\"dataframe\">\n",
       "  <thead>\n",
       "    <tr style=\"text-align: right;\">\n",
       "      <th></th>\n",
       "      <th>Tweet_Id</th>\n",
       "      <th>Username</th>\n",
       "      <th>is_deleted</th>\n",
       "      <th>Urls_num</th>\n",
       "      <th>Url_dom</th>\n",
       "    </tr>\n",
       "  </thead>\n",
       "  <tbody>\n",
       "    <tr>\n",
       "      <th>0</th>\n",
       "      <td>1178791637348212736</td>\n",
       "      <td>c57d4fb895c5f4a33d2a2b24709f93b5</td>\n",
       "      <td>True</td>\n",
       "      <td>0</td>\n",
       "      <td>0</td>\n",
       "    </tr>\n",
       "    <tr>\n",
       "      <th>1</th>\n",
       "      <td>1178791641601232896</td>\n",
       "      <td>627f7d4ef584ba33a676a4ebcb861cdb</td>\n",
       "      <td>False</td>\n",
       "      <td>1</td>\n",
       "      <td>catholicnewsagency.com</td>\n",
       "    </tr>\n",
       "    <tr>\n",
       "      <th>2</th>\n",
       "      <td>1178791643509612547</td>\n",
       "      <td>7966d5716c1c4f33591b17755184e3d6</td>\n",
       "      <td>False</td>\n",
       "      <td>0</td>\n",
       "      <td>0</td>\n",
       "    </tr>\n",
       "    <tr>\n",
       "      <th>3</th>\n",
       "      <td>1178791644214235137</td>\n",
       "      <td>f17996c036ed4cd981f5448fe00d9ed2</td>\n",
       "      <td>False</td>\n",
       "      <td>0</td>\n",
       "      <td>0</td>\n",
       "    </tr>\n",
       "    <tr>\n",
       "      <th>4</th>\n",
       "      <td>1178791645371875329</td>\n",
       "      <td>32a54e5f6d8a67de1bffd2e689594dc8</td>\n",
       "      <td>False</td>\n",
       "      <td>0</td>\n",
       "      <td>0</td>\n",
       "    </tr>\n",
       "  </tbody>\n",
       "</table>\n",
       "</div>"
      ],
      "text/plain": [
       "              Tweet_Id                          Username  is_deleted  \\\n",
       "0  1178791637348212736  c57d4fb895c5f4a33d2a2b24709f93b5        True   \n",
       "1  1178791641601232896  627f7d4ef584ba33a676a4ebcb861cdb       False   \n",
       "2  1178791643509612547  7966d5716c1c4f33591b17755184e3d6       False   \n",
       "3  1178791644214235137  f17996c036ed4cd981f5448fe00d9ed2       False   \n",
       "4  1178791645371875329  32a54e5f6d8a67de1bffd2e689594dc8       False   \n",
       "\n",
       "   Urls_num                 Url_dom  \n",
       "0         0                       0  \n",
       "1         1  catholicnewsagency.com  \n",
       "2         0                       0  \n",
       "3         0                       0  \n",
       "4         0                       0  "
      ]
     },
     "execution_count": 12,
     "metadata": {},
     "output_type": "execute_result"
    }
   ],
   "source": [
    "#Alle Tweets als Dataframe lesen.\n",
    "pfad_tsv1 = 'C:/Mo/tweetDB/tweetscov19/TweetsCov19_tsv/data_sample/TweetsCov19_sample/url/tweetsCov19_id_is_dom.tsv'\n",
    "\n",
    "df_tweetscov19 = pd.read_csv(pfad_tsv1, sep='\\t', error_bad_lines=False, names=['Tweet_Id', 'Username','is_deleted','Urls_num', 'Url_dom'])\n",
    "pd.options.display.max_columns = None\n",
    "print('Shape :', df_tweetscov19.shape)\n",
    "df_tweetscov19.head()"
   ]
  },
  {
   "cell_type": "code",
   "execution_count": 13,
   "id": "3cb3e7fc",
   "metadata": {},
   "outputs": [],
   "source": [
    "#Diese Methode bekommt die benutzten Domäne als ein String ein.\n",
    "#Wandelt sie die String-Daten zu Liste um.\n",
    "#Die Methode geht die Liste durch, prüft jede Domain. \n",
    "#Wenn Domain in anti-wissenschaftliche Domänen wäre, dann bekommt der Tweet dafür eine Wertung von -1.\n",
    "\n",
    "def get_ascience_pol(domains):\n",
    "    domains_list = domains.split()\n",
    "    score = 0\n",
    "    for i in range(0, len(domains_list)):\n",
    "        \n",
    "        d = tldextract.extract(domains_list[i])\n",
    "        d = d.domain\n",
    "                   \n",
    "        \n",
    "        if d in list_antisc:\n",
    "            score -=  1\n",
    "        \n",
    "    return score"
   ]
  },
  {
   "cell_type": "code",
   "execution_count": 14,
   "id": "ae558792",
   "metadata": {},
   "outputs": [],
   "source": [
    "#Für alle Tweets wird die Funktion get_ascience_pol() gerufen.\n",
    "df_tweetscov19['Url_dom'] = df_tweetscov19['Url_dom'].astype(str)\n",
    "df_tweetscov19['dom_neg_scien'] = df_tweetscov19.apply(lambda row: get_ascience_pol(row['Url_dom']) if (row['Url_dom'] != '0') else 0, axis=1)"
   ]
  },
  {
   "cell_type": "code",
   "execution_count": 15,
   "id": "0990d023",
   "metadata": {},
   "outputs": [
    {
     "data": {
      "text/html": [
       "<div>\n",
       "<style scoped>\n",
       "    .dataframe tbody tr th:only-of-type {\n",
       "        vertical-align: middle;\n",
       "    }\n",
       "\n",
       "    .dataframe tbody tr th {\n",
       "        vertical-align: top;\n",
       "    }\n",
       "\n",
       "    .dataframe thead th {\n",
       "        text-align: right;\n",
       "    }\n",
       "</style>\n",
       "<table border=\"1\" class=\"dataframe\">\n",
       "  <thead>\n",
       "    <tr style=\"text-align: right;\">\n",
       "      <th></th>\n",
       "      <th>Tweet_Id</th>\n",
       "      <th>Username</th>\n",
       "      <th>is_deleted</th>\n",
       "      <th>Urls_num</th>\n",
       "      <th>Url_dom</th>\n",
       "      <th>dom_neg_scien</th>\n",
       "    </tr>\n",
       "  </thead>\n",
       "  <tbody>\n",
       "    <tr>\n",
       "      <th>0</th>\n",
       "      <td>1178791637348212736</td>\n",
       "      <td>c57d4fb895c5f4a33d2a2b24709f93b5</td>\n",
       "      <td>True</td>\n",
       "      <td>0</td>\n",
       "      <td>0</td>\n",
       "      <td>0</td>\n",
       "    </tr>\n",
       "    <tr>\n",
       "      <th>1</th>\n",
       "      <td>1178791641601232896</td>\n",
       "      <td>627f7d4ef584ba33a676a4ebcb861cdb</td>\n",
       "      <td>False</td>\n",
       "      <td>1</td>\n",
       "      <td>catholicnewsagency.com</td>\n",
       "      <td>0</td>\n",
       "    </tr>\n",
       "    <tr>\n",
       "      <th>2</th>\n",
       "      <td>1178791643509612547</td>\n",
       "      <td>7966d5716c1c4f33591b17755184e3d6</td>\n",
       "      <td>False</td>\n",
       "      <td>0</td>\n",
       "      <td>0</td>\n",
       "      <td>0</td>\n",
       "    </tr>\n",
       "    <tr>\n",
       "      <th>3</th>\n",
       "      <td>1178791644214235137</td>\n",
       "      <td>f17996c036ed4cd981f5448fe00d9ed2</td>\n",
       "      <td>False</td>\n",
       "      <td>0</td>\n",
       "      <td>0</td>\n",
       "      <td>0</td>\n",
       "    </tr>\n",
       "    <tr>\n",
       "      <th>4</th>\n",
       "      <td>1178791645371875329</td>\n",
       "      <td>32a54e5f6d8a67de1bffd2e689594dc8</td>\n",
       "      <td>False</td>\n",
       "      <td>0</td>\n",
       "      <td>0</td>\n",
       "      <td>0</td>\n",
       "    </tr>\n",
       "  </tbody>\n",
       "</table>\n",
       "</div>"
      ],
      "text/plain": [
       "              Tweet_Id                          Username  is_deleted  \\\n",
       "0  1178791637348212736  c57d4fb895c5f4a33d2a2b24709f93b5        True   \n",
       "1  1178791641601232896  627f7d4ef584ba33a676a4ebcb861cdb       False   \n",
       "2  1178791643509612547  7966d5716c1c4f33591b17755184e3d6       False   \n",
       "3  1178791644214235137  f17996c036ed4cd981f5448fe00d9ed2       False   \n",
       "4  1178791645371875329  32a54e5f6d8a67de1bffd2e689594dc8       False   \n",
       "\n",
       "   Urls_num                 Url_dom  dom_neg_scien  \n",
       "0         0                       0              0  \n",
       "1         1  catholicnewsagency.com              0  \n",
       "2         0                       0              0  \n",
       "3         0                       0              0  \n",
       "4         0                       0              0  "
      ]
     },
     "execution_count": 15,
     "metadata": {},
     "output_type": "execute_result"
    }
   ],
   "source": [
    "df_tweetscov19.head()"
   ]
  },
  {
   "cell_type": "code",
   "execution_count": 16,
   "id": "929329d4",
   "metadata": {},
   "outputs": [
    {
     "data": {
      "text/plain": [
       "(90732, 6)"
      ]
     },
     "execution_count": 16,
     "metadata": {},
     "output_type": "execute_result"
    }
   ],
   "source": [
    "#Anzahl der Tweets die eine Wertung weniger als 0 haben.\n",
    "df_tweetscov19[df_tweetscov19['dom_neg_scien'] < 0].shape"
   ]
  },
  {
   "cell_type": "code",
   "execution_count": 17,
   "id": "1b5e497d",
   "metadata": {},
   "outputs": [],
   "source": [
    "#Diese Methode bekommt benutzten Domäne als ein String.\n",
    "#Wandelt sie die String-Daten zu Liste um.\n",
    "#Die Methode geht die Liste durch, prüft jede Domain. \n",
    "#Wenn Domain in pro-wissenschaftlichen Domäne wäre, dann bekommt der Tweet dafür eine Wertung von 1.\n",
    "\n",
    "def get_scienc_pos(domains):\n",
    "    domains_list = domains.split()\n",
    "    score = 0\n",
    "    for i in range(0, len(domains_list)):\n",
    "        \n",
    "        d = tldextract.extract(domains_list[i])\n",
    "        d = d.domain\n",
    "       \n",
    "            \n",
    "        \n",
    "        if d in list_prosc:\n",
    "            score +=  1\n",
    "        \n",
    "    return score"
   ]
  },
  {
   "cell_type": "code",
   "execution_count": 18,
   "id": "f0bbb3ce",
   "metadata": {},
   "outputs": [],
   "source": [
    "#Für jeden Tweets wird die anzahl der benutzten pro-wissenschaftlichen Domäne berechnet.\n",
    "df_tweetscov19['dom_pos_scien'] = df_tweetscov19.apply(lambda row: get_scienc_pos(row['Url_dom']) if (row['Url_dom'] != '0') else 0, axis=1)"
   ]
  },
  {
   "cell_type": "code",
   "execution_count": 19,
   "id": "5996a6e6",
   "metadata": {},
   "outputs": [
    {
     "data": {
      "text/html": [
       "<div>\n",
       "<style scoped>\n",
       "    .dataframe tbody tr th:only-of-type {\n",
       "        vertical-align: middle;\n",
       "    }\n",
       "\n",
       "    .dataframe tbody tr th {\n",
       "        vertical-align: top;\n",
       "    }\n",
       "\n",
       "    .dataframe thead th {\n",
       "        text-align: right;\n",
       "    }\n",
       "</style>\n",
       "<table border=\"1\" class=\"dataframe\">\n",
       "  <thead>\n",
       "    <tr style=\"text-align: right;\">\n",
       "      <th></th>\n",
       "      <th>Tweet_Id</th>\n",
       "      <th>Username</th>\n",
       "      <th>is_deleted</th>\n",
       "      <th>Urls_num</th>\n",
       "      <th>Url_dom</th>\n",
       "      <th>dom_neg_scien</th>\n",
       "      <th>dom_pos_scien</th>\n",
       "    </tr>\n",
       "  </thead>\n",
       "  <tbody>\n",
       "    <tr>\n",
       "      <th>0</th>\n",
       "      <td>1178791637348212736</td>\n",
       "      <td>c57d4fb895c5f4a33d2a2b24709f93b5</td>\n",
       "      <td>True</td>\n",
       "      <td>0</td>\n",
       "      <td>0</td>\n",
       "      <td>0</td>\n",
       "      <td>0</td>\n",
       "    </tr>\n",
       "    <tr>\n",
       "      <th>1</th>\n",
       "      <td>1178791641601232896</td>\n",
       "      <td>627f7d4ef584ba33a676a4ebcb861cdb</td>\n",
       "      <td>False</td>\n",
       "      <td>1</td>\n",
       "      <td>catholicnewsagency.com</td>\n",
       "      <td>0</td>\n",
       "      <td>0</td>\n",
       "    </tr>\n",
       "    <tr>\n",
       "      <th>2</th>\n",
       "      <td>1178791643509612547</td>\n",
       "      <td>7966d5716c1c4f33591b17755184e3d6</td>\n",
       "      <td>False</td>\n",
       "      <td>0</td>\n",
       "      <td>0</td>\n",
       "      <td>0</td>\n",
       "      <td>0</td>\n",
       "    </tr>\n",
       "    <tr>\n",
       "      <th>3</th>\n",
       "      <td>1178791644214235137</td>\n",
       "      <td>f17996c036ed4cd981f5448fe00d9ed2</td>\n",
       "      <td>False</td>\n",
       "      <td>0</td>\n",
       "      <td>0</td>\n",
       "      <td>0</td>\n",
       "      <td>0</td>\n",
       "    </tr>\n",
       "    <tr>\n",
       "      <th>4</th>\n",
       "      <td>1178791645371875329</td>\n",
       "      <td>32a54e5f6d8a67de1bffd2e689594dc8</td>\n",
       "      <td>False</td>\n",
       "      <td>0</td>\n",
       "      <td>0</td>\n",
       "      <td>0</td>\n",
       "      <td>0</td>\n",
       "    </tr>\n",
       "  </tbody>\n",
       "</table>\n",
       "</div>"
      ],
      "text/plain": [
       "              Tweet_Id                          Username  is_deleted  \\\n",
       "0  1178791637348212736  c57d4fb895c5f4a33d2a2b24709f93b5        True   \n",
       "1  1178791641601232896  627f7d4ef584ba33a676a4ebcb861cdb       False   \n",
       "2  1178791643509612547  7966d5716c1c4f33591b17755184e3d6       False   \n",
       "3  1178791644214235137  f17996c036ed4cd981f5448fe00d9ed2       False   \n",
       "4  1178791645371875329  32a54e5f6d8a67de1bffd2e689594dc8       False   \n",
       "\n",
       "   Urls_num                 Url_dom  dom_neg_scien  dom_pos_scien  \n",
       "0         0                       0              0              0  \n",
       "1         1  catholicnewsagency.com              0              0  \n",
       "2         0                       0              0              0  \n",
       "3         0                       0              0              0  \n",
       "4         0                       0              0              0  "
      ]
     },
     "execution_count": 19,
     "metadata": {},
     "output_type": "execute_result"
    }
   ],
   "source": [
    "df_tweetscov19.head()"
   ]
  },
  {
   "cell_type": "code",
   "execution_count": 20,
   "id": "2d37c01b",
   "metadata": {},
   "outputs": [
    {
     "data": {
      "text/plain": [
       "(67078, 7)"
      ]
     },
     "execution_count": 20,
     "metadata": {},
     "output_type": "execute_result"
    }
   ],
   "source": [
    "df_tweetscov19[df_tweetscov19['dom_pos_scien'] > 0].shape"
   ]
  },
  {
   "cell_type": "code",
   "execution_count": 21,
   "id": "61021db8",
   "metadata": {},
   "outputs": [
    {
     "name": "stderr",
     "output_type": "stream",
     "text": [
      "<ipython-input-21-ab622b5b2d43>:1: FutureWarning: Indexing with multiple keys (implicitly converted to a tuple of keys) will be deprecated, use a list instead.\n",
      "  df_tweetscov19_unique_user = df_tweetscov19.groupby('Username')['Urls_num', 'dom_neg_scien', 'dom_pos_scien'].sum()\n"
     ]
    }
   ],
   "source": [
    "#Hier werdrn die Benutzer in Datframe gruppiert, und die Features 'Anzahl der Domäne', 'Negative Wertungen' und 'Psoitive Wertungen summiert.' \n",
    "#dom_neg_scien = Anti-Wissenschaft\n",
    "#dom_pos_scien = Pro-Wissenschaft\n",
    "df_tweetscov19_unique_user = df_tweetscov19.groupby('Username')['Urls_num', 'dom_neg_scien', 'dom_pos_scien'].sum()"
   ]
  },
  {
   "cell_type": "code",
   "execution_count": 22,
   "id": "b8047044",
   "metadata": {},
   "outputs": [
    {
     "data": {
      "text/plain": [
       "(4095876, 3)"
      ]
     },
     "execution_count": 22,
     "metadata": {},
     "output_type": "execute_result"
    }
   ],
   "source": [
    "#Anzahl der einzigartigen Users in Dataframe\n",
    "df_tweetscov19_unique_user.shape"
   ]
  },
  {
   "cell_type": "code",
   "execution_count": 23,
   "id": "fcd94807",
   "metadata": {},
   "outputs": [
    {
     "data": {
      "text/html": [
       "<div>\n",
       "<style scoped>\n",
       "    .dataframe tbody tr th:only-of-type {\n",
       "        vertical-align: middle;\n",
       "    }\n",
       "\n",
       "    .dataframe tbody tr th {\n",
       "        vertical-align: top;\n",
       "    }\n",
       "\n",
       "    .dataframe thead th {\n",
       "        text-align: right;\n",
       "    }\n",
       "</style>\n",
       "<table border=\"1\" class=\"dataframe\">\n",
       "  <thead>\n",
       "    <tr style=\"text-align: right;\">\n",
       "      <th></th>\n",
       "      <th>Urls_num</th>\n",
       "      <th>dom_neg_scien</th>\n",
       "      <th>dom_pos_scien</th>\n",
       "    </tr>\n",
       "    <tr>\n",
       "      <th>Username</th>\n",
       "      <th></th>\n",
       "      <th></th>\n",
       "      <th></th>\n",
       "    </tr>\n",
       "  </thead>\n",
       "  <tbody>\n",
       "    <tr>\n",
       "      <th>0002eb2aff20e181397afe8cdebdd395</th>\n",
       "      <td>1</td>\n",
       "      <td>0</td>\n",
       "      <td>1</td>\n",
       "    </tr>\n",
       "    <tr>\n",
       "      <th>00065a00b971b5e1629d504e0ddf2da0</th>\n",
       "      <td>27</td>\n",
       "      <td>-4</td>\n",
       "      <td>1</td>\n",
       "    </tr>\n",
       "    <tr>\n",
       "      <th>0006a238065c3acb128041e666b58f07</th>\n",
       "      <td>13</td>\n",
       "      <td>0</td>\n",
       "      <td>2</td>\n",
       "    </tr>\n",
       "    <tr>\n",
       "      <th>00084b153bbf7f4a8c1df3b638e07765</th>\n",
       "      <td>15</td>\n",
       "      <td>-9</td>\n",
       "      <td>4</td>\n",
       "    </tr>\n",
       "    <tr>\n",
       "      <th>0008667130fe3776676804ff59e8ce3b</th>\n",
       "      <td>5</td>\n",
       "      <td>0</td>\n",
       "      <td>2</td>\n",
       "    </tr>\n",
       "  </tbody>\n",
       "</table>\n",
       "</div>"
      ],
      "text/plain": [
       "                                  Urls_num  dom_neg_scien  dom_pos_scien\n",
       "Username                                                                \n",
       "0002eb2aff20e181397afe8cdebdd395         1              0              1\n",
       "00065a00b971b5e1629d504e0ddf2da0        27             -4              1\n",
       "0006a238065c3acb128041e666b58f07        13              0              2\n",
       "00084b153bbf7f4a8c1df3b638e07765        15             -9              4\n",
       "0008667130fe3776676804ff59e8ce3b         5              0              2"
      ]
     },
     "execution_count": 23,
     "metadata": {},
     "output_type": "execute_result"
    }
   ],
   "source": [
    "df_tweetscov19_unique_user[df_tweetscov19_unique_user['dom_pos_scien']>0].head()"
   ]
  },
  {
   "cell_type": "code",
   "execution_count": 24,
   "id": "0480020e",
   "metadata": {},
   "outputs": [],
   "source": [
    "#Anzahl der benutzten polarisierten Domäne wird berechnet.\n",
    "df_tweetscov19_unique_user['pol_num'] = df_tweetscov19_unique_user.apply(lambda row:  (row['dom_pos_scien'] - row['dom_neg_scien']), axis=1)"
   ]
  },
  {
   "cell_type": "code",
   "execution_count": 25,
   "id": "d7409983",
   "metadata": {},
   "outputs": [
    {
     "data": {
      "text/html": [
       "<div>\n",
       "<style scoped>\n",
       "    .dataframe tbody tr th:only-of-type {\n",
       "        vertical-align: middle;\n",
       "    }\n",
       "\n",
       "    .dataframe tbody tr th {\n",
       "        vertical-align: top;\n",
       "    }\n",
       "\n",
       "    .dataframe thead th {\n",
       "        text-align: right;\n",
       "    }\n",
       "</style>\n",
       "<table border=\"1\" class=\"dataframe\">\n",
       "  <thead>\n",
       "    <tr style=\"text-align: right;\">\n",
       "      <th></th>\n",
       "      <th>Urls_num</th>\n",
       "      <th>dom_neg_scien</th>\n",
       "      <th>dom_pos_scien</th>\n",
       "      <th>pol_num</th>\n",
       "    </tr>\n",
       "    <tr>\n",
       "      <th>Username</th>\n",
       "      <th></th>\n",
       "      <th></th>\n",
       "      <th></th>\n",
       "      <th></th>\n",
       "    </tr>\n",
       "  </thead>\n",
       "  <tbody>\n",
       "    <tr>\n",
       "      <th>00065a00b971b5e1629d504e0ddf2da0</th>\n",
       "      <td>27</td>\n",
       "      <td>-4</td>\n",
       "      <td>1</td>\n",
       "      <td>5</td>\n",
       "    </tr>\n",
       "    <tr>\n",
       "      <th>000795932bf3bc3ab05b5efc1b07104b</th>\n",
       "      <td>2</td>\n",
       "      <td>-1</td>\n",
       "      <td>0</td>\n",
       "      <td>1</td>\n",
       "    </tr>\n",
       "    <tr>\n",
       "      <th>00084b153bbf7f4a8c1df3b638e07765</th>\n",
       "      <td>15</td>\n",
       "      <td>-9</td>\n",
       "      <td>4</td>\n",
       "      <td>13</td>\n",
       "    </tr>\n",
       "    <tr>\n",
       "      <th>00098f7374d9ea6b43df2c97931ecf01</th>\n",
       "      <td>1</td>\n",
       "      <td>-1</td>\n",
       "      <td>1</td>\n",
       "      <td>2</td>\n",
       "    </tr>\n",
       "    <tr>\n",
       "      <th>000df0c86153a1e9e65feca1051f8c1e</th>\n",
       "      <td>7</td>\n",
       "      <td>-4</td>\n",
       "      <td>1</td>\n",
       "      <td>5</td>\n",
       "    </tr>\n",
       "  </tbody>\n",
       "</table>\n",
       "</div>"
      ],
      "text/plain": [
       "                                  Urls_num  dom_neg_scien  dom_pos_scien  \\\n",
       "Username                                                                   \n",
       "00065a00b971b5e1629d504e0ddf2da0        27             -4              1   \n",
       "000795932bf3bc3ab05b5efc1b07104b         2             -1              0   \n",
       "00084b153bbf7f4a8c1df3b638e07765        15             -9              4   \n",
       "00098f7374d9ea6b43df2c97931ecf01         1             -1              1   \n",
       "000df0c86153a1e9e65feca1051f8c1e         7             -4              1   \n",
       "\n",
       "                                  pol_num  \n",
       "Username                                   \n",
       "00065a00b971b5e1629d504e0ddf2da0        5  \n",
       "000795932bf3bc3ab05b5efc1b07104b        1  \n",
       "00084b153bbf7f4a8c1df3b638e07765       13  \n",
       "00098f7374d9ea6b43df2c97931ecf01        2  \n",
       "000df0c86153a1e9e65feca1051f8c1e        5  "
      ]
     },
     "execution_count": 25,
     "metadata": {},
     "output_type": "execute_result"
    }
   ],
   "source": [
    "df_tweetscov19_unique_user[df_tweetscov19_unique_user['dom_neg_scien']<0].head()"
   ]
  },
  {
   "cell_type": "code",
   "execution_count": 26,
   "id": "93703b97",
   "metadata": {},
   "outputs": [],
   "source": [
    "#Die Polarisierung der Domäne wird berechnet.\n",
    "#Anzahl der Negativen + der Positiven durch die Anzahl der benutzten Domäne \n",
    "df_tweetscov19_unique_user['user_pol'] = df_tweetscov19_unique_user.apply(lambda row: (row['dom_neg_scien'] + row['dom_pos_scien']) / row['pol_num'] if row['pol_num'] != 0 else 0, axis=1)"
   ]
  },
  {
   "cell_type": "code",
   "execution_count": 27,
   "id": "5fa996a6",
   "metadata": {},
   "outputs": [
    {
     "data": {
      "text/html": [
       "<div>\n",
       "<style scoped>\n",
       "    .dataframe tbody tr th:only-of-type {\n",
       "        vertical-align: middle;\n",
       "    }\n",
       "\n",
       "    .dataframe tbody tr th {\n",
       "        vertical-align: top;\n",
       "    }\n",
       "\n",
       "    .dataframe thead th {\n",
       "        text-align: right;\n",
       "    }\n",
       "</style>\n",
       "<table border=\"1\" class=\"dataframe\">\n",
       "  <thead>\n",
       "    <tr style=\"text-align: right;\">\n",
       "      <th></th>\n",
       "      <th>Urls_num</th>\n",
       "      <th>dom_neg_scien</th>\n",
       "      <th>dom_pos_scien</th>\n",
       "      <th>pol_num</th>\n",
       "      <th>user_pol</th>\n",
       "    </tr>\n",
       "    <tr>\n",
       "      <th>Username</th>\n",
       "      <th></th>\n",
       "      <th></th>\n",
       "      <th></th>\n",
       "      <th></th>\n",
       "      <th></th>\n",
       "    </tr>\n",
       "  </thead>\n",
       "  <tbody>\n",
       "    <tr>\n",
       "      <th>00065a00b971b5e1629d504e0ddf2da0</th>\n",
       "      <td>27</td>\n",
       "      <td>-4</td>\n",
       "      <td>1</td>\n",
       "      <td>5</td>\n",
       "      <td>-0.600000</td>\n",
       "    </tr>\n",
       "    <tr>\n",
       "      <th>00084b153bbf7f4a8c1df3b638e07765</th>\n",
       "      <td>15</td>\n",
       "      <td>-9</td>\n",
       "      <td>4</td>\n",
       "      <td>13</td>\n",
       "      <td>-0.384615</td>\n",
       "    </tr>\n",
       "    <tr>\n",
       "      <th>000df0c86153a1e9e65feca1051f8c1e</th>\n",
       "      <td>7</td>\n",
       "      <td>-4</td>\n",
       "      <td>1</td>\n",
       "      <td>5</td>\n",
       "      <td>-0.600000</td>\n",
       "    </tr>\n",
       "    <tr>\n",
       "      <th>0013aaa4da0461c58d0b1306af75af02</th>\n",
       "      <td>215</td>\n",
       "      <td>-14</td>\n",
       "      <td>9</td>\n",
       "      <td>23</td>\n",
       "      <td>-0.217391</td>\n",
       "    </tr>\n",
       "    <tr>\n",
       "      <th>0023797612d9ad76ffd7024c324c499c</th>\n",
       "      <td>8</td>\n",
       "      <td>-8</td>\n",
       "      <td>5</td>\n",
       "      <td>13</td>\n",
       "      <td>-0.230769</td>\n",
       "    </tr>\n",
       "  </tbody>\n",
       "</table>\n",
       "</div>"
      ],
      "text/plain": [
       "                                  Urls_num  dom_neg_scien  dom_pos_scien  \\\n",
       "Username                                                                   \n",
       "00065a00b971b5e1629d504e0ddf2da0        27             -4              1   \n",
       "00084b153bbf7f4a8c1df3b638e07765        15             -9              4   \n",
       "000df0c86153a1e9e65feca1051f8c1e         7             -4              1   \n",
       "0013aaa4da0461c58d0b1306af75af02       215            -14              9   \n",
       "0023797612d9ad76ffd7024c324c499c         8             -8              5   \n",
       "\n",
       "                                  pol_num  user_pol  \n",
       "Username                                             \n",
       "00065a00b971b5e1629d504e0ddf2da0        5 -0.600000  \n",
       "00084b153bbf7f4a8c1df3b638e07765       13 -0.384615  \n",
       "000df0c86153a1e9e65feca1051f8c1e        5 -0.600000  \n",
       "0013aaa4da0461c58d0b1306af75af02       23 -0.217391  \n",
       "0023797612d9ad76ffd7024c324c499c       13 -0.230769  "
      ]
     },
     "execution_count": 27,
     "metadata": {},
     "output_type": "execute_result"
    }
   ],
   "source": [
    "df_tweetscov19_unique_user[df_tweetscov19_unique_user['dom_neg_scien']<-2].head()"
   ]
  },
  {
   "cell_type": "code",
   "execution_count": 28,
   "id": "21150cdb",
   "metadata": {},
   "outputs": [],
   "source": [
    "#Die Benutzer, die eine Wertung von 0 bekommen haben, werden ausgenommen.\n",
    "df_tweetscov19_unique_user_0 = df_tweetscov19_unique_user[df_tweetscov19_unique_user['user_pol'] != 0]"
   ]
  },
  {
   "cell_type": "code",
   "execution_count": 29,
   "id": "f10dd27e",
   "metadata": {},
   "outputs": [
    {
     "data": {
      "text/plain": [
       "(36104, 5)"
      ]
     },
     "execution_count": 29,
     "metadata": {},
     "output_type": "execute_result"
    }
   ],
   "source": [
    "#Die Form der Dataframe\n",
    "df_tweetscov19_unique_user_0.shape"
   ]
  },
  {
   "cell_type": "code",
   "execution_count": 30,
   "id": "4af33ee5",
   "metadata": {},
   "outputs": [
    {
     "data": {
      "text/plain": [
       "(19226, 5)"
      ]
     },
     "execution_count": 30,
     "metadata": {},
     "output_type": "execute_result"
    }
   ],
   "source": [
    "#Die Form der Dataframe für die Benutzer mit positiven polarisierten Wert.\n",
    "df_tweetscov19_unique_user_0[df_tweetscov19_unique_user_0['user_pol'] > 0].shape"
   ]
  },
  {
   "cell_type": "code",
   "execution_count": 31,
   "id": "ec4dc261",
   "metadata": {},
   "outputs": [
    {
     "data": {
      "text/plain": [
       "(16878, 5)"
      ]
     },
     "execution_count": 31,
     "metadata": {},
     "output_type": "execute_result"
    }
   ],
   "source": [
    "#Die Form der Dataframe für die Benutzer mit negativen polarisierten Wert.\n",
    "df_tweetscov19_unique_user_0[df_tweetscov19_unique_user_0['user_pol'] < 0].shape"
   ]
  },
  {
   "cell_type": "code",
   "execution_count": 37,
   "id": "98b5a03d",
   "metadata": {},
   "outputs": [],
   "source": [
    "#Die polarisieten Werte für Tweets werden gespeichert.\n",
    "pfad_tsv3 = 'C:/Mo/tweetDB/tweetscov19/TweetsCov19_tsv/data_sample/dom_label/tweetscov19_dom_science.tsv'\n",
    "\n",
    "with open(pfad_tsv3, 'w', newline='', encoding=\"utf-8\") as out_file:\n",
    "    tsv_writer = csv.writer(out_file, delimiter=\"\\t\")\n",
    "    for idx, row in df_tweetscov19.iterrows():\n",
    "        tsv_writer.writerow(row.values.tolist())"
   ]
  },
  {
   "cell_type": "code",
   "execution_count": 39,
   "id": "13620310",
   "metadata": {},
   "outputs": [
    {
     "data": {
      "text/html": [
       "<div>\n",
       "<style scoped>\n",
       "    .dataframe tbody tr th:only-of-type {\n",
       "        vertical-align: middle;\n",
       "    }\n",
       "\n",
       "    .dataframe tbody tr th {\n",
       "        vertical-align: top;\n",
       "    }\n",
       "\n",
       "    .dataframe thead th {\n",
       "        text-align: right;\n",
       "    }\n",
       "</style>\n",
       "<table border=\"1\" class=\"dataframe\">\n",
       "  <thead>\n",
       "    <tr style=\"text-align: right;\">\n",
       "      <th></th>\n",
       "      <th>Username</th>\n",
       "      <th>Urls_num</th>\n",
       "      <th>dom_neg_scien</th>\n",
       "      <th>dom_pos_scien</th>\n",
       "      <th>pol_num</th>\n",
       "      <th>user_pol</th>\n",
       "    </tr>\n",
       "  </thead>\n",
       "  <tbody>\n",
       "    <tr>\n",
       "      <th>0</th>\n",
       "      <td>0002eb2aff20e181397afe8cdebdd395</td>\n",
       "      <td>1</td>\n",
       "      <td>0</td>\n",
       "      <td>1</td>\n",
       "      <td>1</td>\n",
       "      <td>1.000000</td>\n",
       "    </tr>\n",
       "    <tr>\n",
       "      <th>1</th>\n",
       "      <td>00065a00b971b5e1629d504e0ddf2da0</td>\n",
       "      <td>27</td>\n",
       "      <td>-4</td>\n",
       "      <td>1</td>\n",
       "      <td>5</td>\n",
       "      <td>-0.600000</td>\n",
       "    </tr>\n",
       "    <tr>\n",
       "      <th>2</th>\n",
       "      <td>0006a238065c3acb128041e666b58f07</td>\n",
       "      <td>13</td>\n",
       "      <td>0</td>\n",
       "      <td>2</td>\n",
       "      <td>2</td>\n",
       "      <td>1.000000</td>\n",
       "    </tr>\n",
       "    <tr>\n",
       "      <th>3</th>\n",
       "      <td>000795932bf3bc3ab05b5efc1b07104b</td>\n",
       "      <td>2</td>\n",
       "      <td>-1</td>\n",
       "      <td>0</td>\n",
       "      <td>1</td>\n",
       "      <td>-1.000000</td>\n",
       "    </tr>\n",
       "    <tr>\n",
       "      <th>4</th>\n",
       "      <td>00084b153bbf7f4a8c1df3b638e07765</td>\n",
       "      <td>15</td>\n",
       "      <td>-9</td>\n",
       "      <td>4</td>\n",
       "      <td>13</td>\n",
       "      <td>-0.384615</td>\n",
       "    </tr>\n",
       "  </tbody>\n",
       "</table>\n",
       "</div>"
      ],
      "text/plain": [
       "                           Username  Urls_num  dom_neg_scien  dom_pos_scien  \\\n",
       "0  0002eb2aff20e181397afe8cdebdd395         1              0              1   \n",
       "1  00065a00b971b5e1629d504e0ddf2da0        27             -4              1   \n",
       "2  0006a238065c3acb128041e666b58f07        13              0              2   \n",
       "3  000795932bf3bc3ab05b5efc1b07104b         2             -1              0   \n",
       "4  00084b153bbf7f4a8c1df3b638e07765        15             -9              4   \n",
       "\n",
       "   pol_num  user_pol  \n",
       "0        1  1.000000  \n",
       "1        5 -0.600000  \n",
       "2        2  1.000000  \n",
       "3        1 -1.000000  \n",
       "4       13 -0.384615  "
      ]
     },
     "execution_count": 39,
     "metadata": {},
     "output_type": "execute_result"
    }
   ],
   "source": [
    "df_tweetscov19_unique_user_0 = df_tweetscov19_unique_user_0.reset_index()\n",
    "df_tweetscov19_unique_user_0.head()"
   ]
  },
  {
   "cell_type": "code",
   "execution_count": 40,
   "id": "785cf834",
   "metadata": {},
   "outputs": [],
   "source": [
    "#Die Benutzer mit bekannten polarisierten Ansichten speichern. \n",
    "pfad_tsv3 = 'C:/Mo/tweetDB/tweetscov19/TweetsCov19_tsv/data_sample/dom_label/users/tweetscov19_unique_user_dom_science.tsv'\n",
    "\n",
    "with open(pfad_tsv3, 'w', newline='', encoding=\"utf-8\") as out_file:\n",
    "    tsv_writer = csv.writer(out_file, delimiter=\"\\t\")\n",
    "    for idx, row in df_tweetscov19_unique_user_0.iterrows():\n",
    "        tsv_writer.writerow(row.values.tolist())"
   ]
  },
  {
   "cell_type": "markdown",
   "id": "28d5c15e",
   "metadata": {},
   "source": [
    "***"
   ]
  },
  {
   "cell_type": "markdown",
   "id": "252d04c5",
   "metadata": {},
   "source": [
    "## Polarisierungen berechnen\n",
    "### TweetsKB"
   ]
  },
  {
   "cell_type": "markdown",
   "id": "70abba15",
   "metadata": {},
   "source": [
    "***"
   ]
  },
  {
   "cell_type": "code",
   "execution_count": 41,
   "id": "0c06e05d",
   "metadata": {},
   "outputs": [
    {
     "name": "stdout",
     "output_type": "stream",
     "text": [
      "Shape : (9409841, 5)\n"
     ]
    },
    {
     "data": {
      "text/html": [
       "<div>\n",
       "<style scoped>\n",
       "    .dataframe tbody tr th:only-of-type {\n",
       "        vertical-align: middle;\n",
       "    }\n",
       "\n",
       "    .dataframe tbody tr th {\n",
       "        vertical-align: top;\n",
       "    }\n",
       "\n",
       "    .dataframe thead th {\n",
       "        text-align: right;\n",
       "    }\n",
       "</style>\n",
       "<table border=\"1\" class=\"dataframe\">\n",
       "  <thead>\n",
       "    <tr style=\"text-align: right;\">\n",
       "      <th></th>\n",
       "      <th>Tweet_Id</th>\n",
       "      <th>Username</th>\n",
       "      <th>is_deleted</th>\n",
       "      <th>URLs_dom</th>\n",
       "      <th>URLs_num</th>\n",
       "    </tr>\n",
       "  </thead>\n",
       "  <tbody>\n",
       "    <tr>\n",
       "      <th>0</th>\n",
       "      <td>1178791636039589889</td>\n",
       "      <td>DCComics</td>\n",
       "      <td>False</td>\n",
       "      <td>dcuniverseinfinite.com</td>\n",
       "      <td>1</td>\n",
       "    </tr>\n",
       "    <tr>\n",
       "      <th>1</th>\n",
       "      <td>1178791641265639424</td>\n",
       "      <td>seanberdyz</td>\n",
       "      <td>True</td>\n",
       "      <td>carrd.co</td>\n",
       "      <td>1</td>\n",
       "    </tr>\n",
       "    <tr>\n",
       "      <th>2</th>\n",
       "      <td>1178791640573579264</td>\n",
       "      <td>AnArtistAtBirth</td>\n",
       "      <td>True</td>\n",
       "      <td>0</td>\n",
       "      <td>0</td>\n",
       "    </tr>\n",
       "    <tr>\n",
       "      <th>3</th>\n",
       "      <td>1178791644797255680</td>\n",
       "      <td>lagosboygang</td>\n",
       "      <td>True</td>\n",
       "      <td>0</td>\n",
       "      <td>0</td>\n",
       "    </tr>\n",
       "    <tr>\n",
       "      <th>4</th>\n",
       "      <td>1178791648056217600</td>\n",
       "      <td>Phenom_Hoops</td>\n",
       "      <td>False</td>\n",
       "      <td>phenomhoopreport.com</td>\n",
       "      <td>1</td>\n",
       "    </tr>\n",
       "  </tbody>\n",
       "</table>\n",
       "</div>"
      ],
      "text/plain": [
       "              Tweet_Id         Username  is_deleted                URLs_dom  \\\n",
       "0  1178791636039589889         DCComics       False  dcuniverseinfinite.com   \n",
       "1  1178791641265639424       seanberdyz        True                carrd.co   \n",
       "2  1178791640573579264  AnArtistAtBirth        True                       0   \n",
       "3  1178791644797255680     lagosboygang        True                       0   \n",
       "4  1178791648056217600     Phenom_Hoops       False    phenomhoopreport.com   \n",
       "\n",
       "   URLs_num  \n",
       "0         1  \n",
       "1         1  \n",
       "2         0  \n",
       "3         0  \n",
       "4         1  "
      ]
     },
     "execution_count": 41,
     "metadata": {},
     "output_type": "execute_result"
    }
   ],
   "source": [
    "#Dataframe wird gelesen.\n",
    "pfad_tsv3 = 'C:/Mo/tweetDB/tweetscov19/TweetsCov19_tsv/data_sample/tweetskb_sample/url/tweetskb_sample_id_is_urls.tsv'\n",
    "\n",
    "df_tweetskb = pd.read_csv(pfad_tsv3, sep='\\t', error_bad_lines=False, names=['Tweet_Id', \"Username\", 'is_deleted', 'URLs_dom', 'URLs_num'])\n",
    "pd.options.display.max_columns = None\n",
    "print('Shape :', df_tweetskb.shape)\n",
    "df_tweetskb.head()"
   ]
  },
  {
   "cell_type": "code",
   "execution_count": 42,
   "id": "6fb2914d",
   "metadata": {},
   "outputs": [],
   "source": [
    "#Für alle Domäne in Tweets wird die Anzahl der anti-Wissenschaftlichen Domäne berechnet.\n",
    "df_tweetskb['URLs_dom'] = df_tweetskb['URLs_dom'].astype(str)\n",
    "df_tweetskb['dom_neg_scien'] = df_tweetskb.apply(lambda row: get_ascience_pol(row['URLs_dom']) if (row['URLs_dom'] != '0') else 0, axis=1)"
   ]
  },
  {
   "cell_type": "code",
   "execution_count": 43,
   "id": "0d6ae275",
   "metadata": {},
   "outputs": [
    {
     "data": {
      "text/plain": [
       "(21796, 6)"
      ]
     },
     "execution_count": 43,
     "metadata": {},
     "output_type": "execute_result"
    }
   ],
   "source": [
    "#Form der Dataframe\n",
    "df_tweetskb[df_tweetskb['dom_neg_scien'] < 0].shape"
   ]
  },
  {
   "cell_type": "code",
   "execution_count": 44,
   "id": "84693b26",
   "metadata": {},
   "outputs": [],
   "source": [
    "#Für alle Domäne in Tweets wird die Anzahl der pro-Wissenschaftlichen Domäne berechnet.\n",
    "df_tweetskb['dom_pos_scien'] = df_tweetskb.apply(lambda row: get_scienc_pos(row['URLs_dom']) if (row['URLs_dom'] != '0') else 0, axis=1)"
   ]
  },
  {
   "cell_type": "code",
   "execution_count": 45,
   "id": "7de83846",
   "metadata": {},
   "outputs": [
    {
     "data": {
      "text/plain": [
       "(14453, 7)"
      ]
     },
     "execution_count": 45,
     "metadata": {},
     "output_type": "execute_result"
    }
   ],
   "source": [
    "#Form der Dataframe\n",
    "df_tweetskb[df_tweetskb['dom_pos_scien'] > 0].shape"
   ]
  },
  {
   "cell_type": "code",
   "execution_count": 46,
   "id": "b9f3e654",
   "metadata": {},
   "outputs": [
    {
     "name": "stderr",
     "output_type": "stream",
     "text": [
      "<ipython-input-46-185a630db4bb>:1: FutureWarning: Indexing with multiple keys (implicitly converted to a tuple of keys) will be deprecated, use a list instead.\n",
      "  df_tweetskb_unique_user = df_tweetskb.groupby('Username')['URLs_num', 'dom_neg_scien', 'dom_pos_scien'].sum()\n"
     ]
    }
   ],
   "source": [
    "#Hier werden die Benutzer in Dataframe gruppiert, und die Features 'Anzahl der Domäne', 'Negative Wertungen' und 'Psoitive Wertungen summiert.' \n",
    "#dom_neg_scien = Anti-Wissenschaft\n",
    "#dom_pos_scien = Pro-Wissenschaft\n",
    "df_tweetskb_unique_user = df_tweetskb.groupby('Username')['URLs_num', 'dom_neg_scien', 'dom_pos_scien'].sum()"
   ]
  },
  {
   "cell_type": "code",
   "execution_count": 47,
   "id": "083f81c8",
   "metadata": {},
   "outputs": [
    {
     "data": {
      "text/plain": [
       "(5208425, 3)"
      ]
     },
     "execution_count": 47,
     "metadata": {},
     "output_type": "execute_result"
    }
   ],
   "source": [
    "df_tweetskb_unique_user.shape"
   ]
  },
  {
   "cell_type": "code",
   "execution_count": 48,
   "id": "b8be5f81",
   "metadata": {},
   "outputs": [
    {
     "data": {
      "text/html": [
       "<div>\n",
       "<style scoped>\n",
       "    .dataframe tbody tr th:only-of-type {\n",
       "        vertical-align: middle;\n",
       "    }\n",
       "\n",
       "    .dataframe tbody tr th {\n",
       "        vertical-align: top;\n",
       "    }\n",
       "\n",
       "    .dataframe thead th {\n",
       "        text-align: right;\n",
       "    }\n",
       "</style>\n",
       "<table border=\"1\" class=\"dataframe\">\n",
       "  <thead>\n",
       "    <tr style=\"text-align: right;\">\n",
       "      <th></th>\n",
       "      <th>URLs_num</th>\n",
       "      <th>dom_neg_scien</th>\n",
       "      <th>dom_pos_scien</th>\n",
       "    </tr>\n",
       "    <tr>\n",
       "      <th>Username</th>\n",
       "      <th></th>\n",
       "      <th></th>\n",
       "      <th></th>\n",
       "    </tr>\n",
       "  </thead>\n",
       "  <tbody>\n",
       "    <tr>\n",
       "      <th>00000000</th>\n",
       "      <td>0</td>\n",
       "      <td>0</td>\n",
       "      <td>0</td>\n",
       "    </tr>\n",
       "    <tr>\n",
       "      <th>000000000yt</th>\n",
       "      <td>0</td>\n",
       "      <td>0</td>\n",
       "      <td>0</td>\n",
       "    </tr>\n",
       "    <tr>\n",
       "      <th>00000000martin</th>\n",
       "      <td>0</td>\n",
       "      <td>0</td>\n",
       "      <td>0</td>\n",
       "    </tr>\n",
       "    <tr>\n",
       "      <th>000000911a</th>\n",
       "      <td>0</td>\n",
       "      <td>0</td>\n",
       "      <td>0</td>\n",
       "    </tr>\n",
       "    <tr>\n",
       "      <th>000000_127</th>\n",
       "      <td>0</td>\n",
       "      <td>0</td>\n",
       "      <td>0</td>\n",
       "    </tr>\n",
       "  </tbody>\n",
       "</table>\n",
       "</div>"
      ],
      "text/plain": [
       "                URLs_num  dom_neg_scien  dom_pos_scien\n",
       "Username                                              \n",
       "00000000               0              0              0\n",
       "000000000yt            0              0              0\n",
       "00000000martin         0              0              0\n",
       "000000911a             0              0              0\n",
       "000000_127             0              0              0"
      ]
     },
     "execution_count": 48,
     "metadata": {},
     "output_type": "execute_result"
    }
   ],
   "source": [
    "df_tweetskb_unique_user.head()"
   ]
  },
  {
   "cell_type": "code",
   "execution_count": 49,
   "id": "4b40c366",
   "metadata": {},
   "outputs": [],
   "source": [
    "#Die Anzahl der benutzten polarisierten Domäne wird berechnet.\n",
    "df_tweetskb_unique_user['pol_num'] = df_tweetskb_unique_user.apply(lambda row: (row['dom_pos_scien'] - row['dom_neg_scien']), axis=1)"
   ]
  },
  {
   "cell_type": "code",
   "execution_count": 50,
   "id": "4bd8ed8c",
   "metadata": {},
   "outputs": [
    {
     "data": {
      "text/html": [
       "<div>\n",
       "<style scoped>\n",
       "    .dataframe tbody tr th:only-of-type {\n",
       "        vertical-align: middle;\n",
       "    }\n",
       "\n",
       "    .dataframe tbody tr th {\n",
       "        vertical-align: top;\n",
       "    }\n",
       "\n",
       "    .dataframe thead th {\n",
       "        text-align: right;\n",
       "    }\n",
       "</style>\n",
       "<table border=\"1\" class=\"dataframe\">\n",
       "  <thead>\n",
       "    <tr style=\"text-align: right;\">\n",
       "      <th></th>\n",
       "      <th>URLs_num</th>\n",
       "      <th>dom_neg_scien</th>\n",
       "      <th>dom_pos_scien</th>\n",
       "      <th>pol_num</th>\n",
       "    </tr>\n",
       "    <tr>\n",
       "      <th>Username</th>\n",
       "      <th></th>\n",
       "      <th></th>\n",
       "      <th></th>\n",
       "      <th></th>\n",
       "    </tr>\n",
       "  </thead>\n",
       "  <tbody>\n",
       "    <tr>\n",
       "      <th>0nehunter69</th>\n",
       "      <td>4</td>\n",
       "      <td>-3</td>\n",
       "      <td>3</td>\n",
       "      <td>6</td>\n",
       "    </tr>\n",
       "    <tr>\n",
       "      <th>10thAmendment</th>\n",
       "      <td>10</td>\n",
       "      <td>-8</td>\n",
       "      <td>7</td>\n",
       "      <td>15</td>\n",
       "    </tr>\n",
       "    <tr>\n",
       "      <th>123RHGreen</th>\n",
       "      <td>54</td>\n",
       "      <td>-18</td>\n",
       "      <td>17</td>\n",
       "      <td>35</td>\n",
       "    </tr>\n",
       "    <tr>\n",
       "      <th>1776AmericaUSA</th>\n",
       "      <td>12</td>\n",
       "      <td>-7</td>\n",
       "      <td>4</td>\n",
       "      <td>11</td>\n",
       "    </tr>\n",
       "    <tr>\n",
       "      <th>1776Resistance</th>\n",
       "      <td>13</td>\n",
       "      <td>-3</td>\n",
       "      <td>0</td>\n",
       "      <td>3</td>\n",
       "    </tr>\n",
       "  </tbody>\n",
       "</table>\n",
       "</div>"
      ],
      "text/plain": [
       "                URLs_num  dom_neg_scien  dom_pos_scien  pol_num\n",
       "Username                                                       \n",
       "0nehunter69            4             -3              3        6\n",
       "10thAmendment         10             -8              7       15\n",
       "123RHGreen            54            -18             17       35\n",
       "1776AmericaUSA        12             -7              4       11\n",
       "1776Resistance        13             -3              0        3"
      ]
     },
     "execution_count": 50,
     "metadata": {},
     "output_type": "execute_result"
    }
   ],
   "source": [
    "df_tweetskb_unique_user[df_tweetskb_unique_user['dom_neg_scien']<-2].head()"
   ]
  },
  {
   "cell_type": "code",
   "execution_count": 51,
   "id": "a1a28c7a",
   "metadata": {},
   "outputs": [],
   "source": [
    "#Die Polarisierungswerte für die Benutzer wird berechnet.\n",
    "df_tweetskb_unique_user['user_pol'] = df_tweetskb_unique_user.apply(lambda row: (row['dom_neg_scien'] + row['dom_pos_scien']) / row['pol_num'] if row['pol_num'] != 0 else 0, axis=1)"
   ]
  },
  {
   "cell_type": "code",
   "execution_count": 52,
   "id": "796521de",
   "metadata": {},
   "outputs": [],
   "source": [
    "#Die Benutzer, die eine Wertung von 0 bekommen haben, werden ausgenommen.\n",
    "df_tweetskb_unique_user_0 = df_tweetskb_unique_user[df_tweetskb_unique_user['user_pol'] != 0]"
   ]
  },
  {
   "cell_type": "code",
   "execution_count": 53,
   "id": "e01cf141",
   "metadata": {},
   "outputs": [
    {
     "data": {
      "text/plain": [
       "(11311, 5)"
      ]
     },
     "execution_count": 53,
     "metadata": {},
     "output_type": "execute_result"
    }
   ],
   "source": [
    "#Die Form der Dataframe \n",
    "df_tweetskb_unique_user_0.shape"
   ]
  },
  {
   "cell_type": "code",
   "execution_count": 54,
   "id": "f0a3cf50",
   "metadata": {},
   "outputs": [
    {
     "data": {
      "text/plain": [
       "(5019, 5)"
      ]
     },
     "execution_count": 54,
     "metadata": {},
     "output_type": "execute_result"
    }
   ],
   "source": [
    "#Die Benutzer, die eine positive Wertung haben. \n",
    "df_tweetskb_unique_user_0[df_tweetskb_unique_user_0['user_pol'] > 0].shape"
   ]
  },
  {
   "cell_type": "code",
   "execution_count": 55,
   "id": "b8132fec",
   "metadata": {},
   "outputs": [
    {
     "data": {
      "text/plain": [
       "(6292, 5)"
      ]
     },
     "execution_count": 55,
     "metadata": {},
     "output_type": "execute_result"
    }
   ],
   "source": [
    "#Die Benutzer, die eine negative Wertung haben. \n",
    "df_tweetskb_unique_user_0[df_tweetskb_unique_user_0['user_pol'] < 0].shape"
   ]
  },
  {
   "cell_type": "code",
   "execution_count": 71,
   "id": "19bf9d90",
   "metadata": {},
   "outputs": [],
   "source": [
    "#Die polarisierten Werte für die Tweets werden gespeichert.\n",
    "pfad_tsv3 = 'C:/Mo/tweetDB/tweetscov19/TweetsCov19_tsv/data_sample/dom_label/tweetskb_dom_schience.tsv'\n",
    "\n",
    "with open(pfad_tsv3, 'w', newline='', encoding=\"utf-8\") as out_file:\n",
    "    tsv_writer = csv.writer(out_file, delimiter=\"\\t\")\n",
    "    for idx, row in df_tweetskb.iterrows():\n",
    "        tsv_writer.writerow(row.values.tolist())"
   ]
  },
  {
   "cell_type": "code",
   "execution_count": 69,
   "id": "1848f791",
   "metadata": {},
   "outputs": [
    {
     "data": {
      "text/html": [
       "<div>\n",
       "<style scoped>\n",
       "    .dataframe tbody tr th:only-of-type {\n",
       "        vertical-align: middle;\n",
       "    }\n",
       "\n",
       "    .dataframe tbody tr th {\n",
       "        vertical-align: top;\n",
       "    }\n",
       "\n",
       "    .dataframe thead th {\n",
       "        text-align: right;\n",
       "    }\n",
       "</style>\n",
       "<table border=\"1\" class=\"dataframe\">\n",
       "  <thead>\n",
       "    <tr style=\"text-align: right;\">\n",
       "      <th></th>\n",
       "      <th>Username</th>\n",
       "      <th>URLs_num</th>\n",
       "      <th>dom_neg_scien</th>\n",
       "      <th>dom_pos_scien</th>\n",
       "      <th>pol_num</th>\n",
       "      <th>user_pol</th>\n",
       "    </tr>\n",
       "  </thead>\n",
       "  <tbody>\n",
       "    <tr>\n",
       "      <th>0</th>\n",
       "      <td>01_zebra</td>\n",
       "      <td>4</td>\n",
       "      <td>-1</td>\n",
       "      <td>0</td>\n",
       "      <td>1</td>\n",
       "      <td>-1.0</td>\n",
       "    </tr>\n",
       "    <tr>\n",
       "      <th>1</th>\n",
       "      <td>01sth02</td>\n",
       "      <td>1</td>\n",
       "      <td>0</td>\n",
       "      <td>1</td>\n",
       "      <td>1</td>\n",
       "      <td>1.0</td>\n",
       "    </tr>\n",
       "    <tr>\n",
       "      <th>2</th>\n",
       "      <td>02MK13B</td>\n",
       "      <td>1</td>\n",
       "      <td>-1</td>\n",
       "      <td>0</td>\n",
       "      <td>1</td>\n",
       "      <td>-1.0</td>\n",
       "    </tr>\n",
       "    <tr>\n",
       "      <th>3</th>\n",
       "      <td>08_diane08</td>\n",
       "      <td>1</td>\n",
       "      <td>-1</td>\n",
       "      <td>0</td>\n",
       "      <td>1</td>\n",
       "      <td>-1.0</td>\n",
       "    </tr>\n",
       "    <tr>\n",
       "      <th>4</th>\n",
       "      <td>0Ludicris5</td>\n",
       "      <td>4</td>\n",
       "      <td>-2</td>\n",
       "      <td>0</td>\n",
       "      <td>2</td>\n",
       "      <td>-1.0</td>\n",
       "    </tr>\n",
       "  </tbody>\n",
       "</table>\n",
       "</div>"
      ],
      "text/plain": [
       "     Username  URLs_num  dom_neg_scien  dom_pos_scien  pol_num  user_pol\n",
       "0    01_zebra         4             -1              0        1      -1.0\n",
       "1     01sth02         1              0              1        1       1.0\n",
       "2     02MK13B         1             -1              0        1      -1.0\n",
       "3  08_diane08         1             -1              0        1      -1.0\n",
       "4  0Ludicris5         4             -2              0        2      -1.0"
      ]
     },
     "execution_count": 69,
     "metadata": {},
     "output_type": "execute_result"
    }
   ],
   "source": [
    "df_tweetskb_unique_user_0 = df_tweetskb_unique_user_0.reset_index()\n",
    "df_tweetskb_unique_user_0.head()"
   ]
  },
  {
   "cell_type": "code",
   "execution_count": 70,
   "id": "a6021604",
   "metadata": {},
   "outputs": [
    {
     "data": {
      "text/plain": [
       "(11311, 6)"
      ]
     },
     "execution_count": 70,
     "metadata": {},
     "output_type": "execute_result"
    }
   ],
   "source": [
    "df_tweetskb_unique_user_0.shape"
   ]
  },
  {
   "cell_type": "code",
   "execution_count": 72,
   "id": "f56478e0",
   "metadata": {},
   "outputs": [],
   "source": [
    "#Die Benutzer mit polarisierten Werte werden gespeichert.\n",
    "pfad_tsv3 = 'C:/Mo/tweetDB/tweetscov19/TweetsCov19_tsv/data_sample/dom_label/users/tweetskb_unique_user_dom_science.tsv'\n",
    "\n",
    "with open(pfad_tsv3, 'w', newline='', encoding=\"utf-8\") as out_file:\n",
    "    tsv_writer = csv.writer(out_file, delimiter=\"\\t\")\n",
    "    for idx, row in df_tweetskb_unique_user_0.iterrows():\n",
    "        tsv_writer.writerow(row.values.tolist())"
   ]
  }
 ],
 "metadata": {
  "kernelspec": {
   "display_name": "Python 3",
   "language": "python",
   "name": "python3"
  },
  "language_info": {
   "codemirror_mode": {
    "name": "ipython",
    "version": 3
   },
   "file_extension": ".py",
   "mimetype": "text/x-python",
   "name": "python",
   "nbconvert_exporter": "python",
   "pygments_lexer": "ipython3",
   "version": "3.8.8"
  }
 },
 "nbformat": 4,
 "nbformat_minor": 5
}
