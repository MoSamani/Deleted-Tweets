{
 "cells": [
  {
   "cell_type": "code",
   "execution_count": 2,
   "id": "0d58770b",
   "metadata": {},
   "outputs": [],
   "source": [
    "#Import CSV Bibliothek \n",
    "import csv\n",
    "#Import Pandas and label it as pd\n",
    "import pandas as pd\n",
    "#Import numpy and label it as np \n",
    "import numpy as np\n",
    "#Import Json library\n",
    "import json\n",
    "#Set size of Data on 100,000,000 line  \n",
    "csv.field_size_limit(100000000)\n",
    "#Display max. rows and columns \n",
    "pd.options.display.max_columns = None\n",
    "pd.options.display.max_rows = None\n",
    "#Import tldextract for extraction of Domains\n",
    "import tldextract\n",
    "#Show warnings just in console \n",
    "import warnings\n",
    "warnings.filterwarnings('ignore')"
   ]
  },
  {
   "cell_type": "markdown",
   "id": "26e91423",
   "metadata": {},
   "source": [
    "***"
   ]
  },
  {
   "cell_type": "markdown",
   "id": "8defc5cf",
   "metadata": {},
   "source": [
    "# Political Polarisiation"
   ]
  },
  {
   "cell_type": "markdown",
   "id": "b88eebe8",
   "metadata": {},
   "source": [
    "### Liberale domais"
   ]
  },
  {
   "cell_type": "markdown",
   "id": "0c55c029",
   "metadata": {},
   "source": [
    "***"
   ]
  },
  {
   "cell_type": "code",
   "execution_count": 3,
   "id": "e6cd078b",
   "metadata": {},
   "outputs": [],
   "source": [
    "path = '../data/df_domains_left_right.tsv'\n",
    "\n",
    "df_liberal_conservative_domains = pd.read_csv(path, sep='\\t', error_bad_lines=False)"
   ]
  },
  {
   "cell_type": "code",
   "execution_count": 4,
   "id": "27e9b226",
   "metadata": {},
   "outputs": [
    {
     "name": "stdout",
     "output_type": "stream",
     "text": [
      "Shape:  (1589, 5)\n"
     ]
    },
    {
     "data": {
      "text/html": [
       "<div>\n",
       "<style scoped>\n",
       "    .dataframe tbody tr th:only-of-type {\n",
       "        vertical-align: middle;\n",
       "    }\n",
       "\n",
       "    .dataframe tbody tr th {\n",
       "        vertical-align: top;\n",
       "    }\n",
       "\n",
       "    .dataframe thead th {\n",
       "        text-align: right;\n",
       "    }\n",
       "</style>\n",
       "<table border=\"1\" class=\"dataframe\">\n",
       "  <thead>\n",
       "    <tr style=\"text-align: right;\">\n",
       "      <th></th>\n",
       "      <th>domain</th>\n",
       "      <th>mediabias_leftcenterbias</th>\n",
       "      <th>mediabias_leftbias</th>\n",
       "      <th>mediabias_rightcenterbias</th>\n",
       "      <th>mediabias_rightbias</th>\n",
       "    </tr>\n",
       "  </thead>\n",
       "  <tbody>\n",
       "    <tr>\n",
       "      <th>0</th>\n",
       "      <td>604now.com</td>\n",
       "      <td>1.0</td>\n",
       "      <td>0.0</td>\n",
       "      <td>0.0</td>\n",
       "      <td>0.0</td>\n",
       "    </tr>\n",
       "    <tr>\n",
       "      <th>1</th>\n",
       "      <td>972mag.com</td>\n",
       "      <td>1.0</td>\n",
       "      <td>0.0</td>\n",
       "      <td>0.0</td>\n",
       "      <td>0.0</td>\n",
       "    </tr>\n",
       "    <tr>\n",
       "      <th>2</th>\n",
       "      <td>Augustachronicle.com</td>\n",
       "      <td>1.0</td>\n",
       "      <td>0.0</td>\n",
       "      <td>0.0</td>\n",
       "      <td>0.0</td>\n",
       "    </tr>\n",
       "    <tr>\n",
       "      <th>3</th>\n",
       "      <td>Boston.com</td>\n",
       "      <td>1.0</td>\n",
       "      <td>0.0</td>\n",
       "      <td>0.0</td>\n",
       "      <td>0.0</td>\n",
       "    </tr>\n",
       "    <tr>\n",
       "      <th>4</th>\n",
       "      <td>Censor.NET</td>\n",
       "      <td>1.0</td>\n",
       "      <td>0.0</td>\n",
       "      <td>0.0</td>\n",
       "      <td>0.0</td>\n",
       "    </tr>\n",
       "  </tbody>\n",
       "</table>\n",
       "</div>"
      ],
      "text/plain": [
       "                 domain  mediabias_leftcenterbias  mediabias_leftbias  \\\n",
       "0            604now.com                       1.0                 0.0   \n",
       "1            972mag.com                       1.0                 0.0   \n",
       "2  Augustachronicle.com                       1.0                 0.0   \n",
       "3            Boston.com                       1.0                 0.0   \n",
       "4            Censor.NET                       1.0                 0.0   \n",
       "\n",
       "   mediabias_rightcenterbias  mediabias_rightbias  \n",
       "0                        0.0                  0.0  \n",
       "1                        0.0                  0.0  \n",
       "2                        0.0                  0.0  \n",
       "3                        0.0                  0.0  \n",
       "4                        0.0                  0.0  "
      ]
     },
     "execution_count": 4,
     "metadata": {},
     "output_type": "execute_result"
    }
   ],
   "source": [
    "print('Shape: ', df_liberal_conservative_domains.shape)\n",
    "df_liberal_conservative_domains.head()"
   ]
  },
  {
   "cell_type": "code",
   "execution_count": 5,
   "id": "5de21a85",
   "metadata": {},
   "outputs": [
    {
     "name": "stdout",
     "output_type": "stream",
     "text": [
      "Shape:  (644, 5)\n"
     ]
    },
    {
     "data": {
      "text/html": [
       "<div>\n",
       "<style scoped>\n",
       "    .dataframe tbody tr th:only-of-type {\n",
       "        vertical-align: middle;\n",
       "    }\n",
       "\n",
       "    .dataframe tbody tr th {\n",
       "        vertical-align: top;\n",
       "    }\n",
       "\n",
       "    .dataframe thead th {\n",
       "        text-align: right;\n",
       "    }\n",
       "</style>\n",
       "<table border=\"1\" class=\"dataframe\">\n",
       "  <thead>\n",
       "    <tr style=\"text-align: right;\">\n",
       "      <th></th>\n",
       "      <th>domain</th>\n",
       "      <th>mediabias_leftcenterbias</th>\n",
       "      <th>mediabias_leftbias</th>\n",
       "      <th>mediabias_rightcenterbias</th>\n",
       "      <th>mediabias_rightbias</th>\n",
       "    </tr>\n",
       "  </thead>\n",
       "  <tbody>\n",
       "    <tr>\n",
       "      <th>0</th>\n",
       "      <td>604now.com</td>\n",
       "      <td>1.0</td>\n",
       "      <td>0.0</td>\n",
       "      <td>0.0</td>\n",
       "      <td>0.0</td>\n",
       "    </tr>\n",
       "    <tr>\n",
       "      <th>1</th>\n",
       "      <td>972mag.com</td>\n",
       "      <td>1.0</td>\n",
       "      <td>0.0</td>\n",
       "      <td>0.0</td>\n",
       "      <td>0.0</td>\n",
       "    </tr>\n",
       "    <tr>\n",
       "      <th>2</th>\n",
       "      <td>Augustachronicle.com</td>\n",
       "      <td>1.0</td>\n",
       "      <td>0.0</td>\n",
       "      <td>0.0</td>\n",
       "      <td>0.0</td>\n",
       "    </tr>\n",
       "    <tr>\n",
       "      <th>3</th>\n",
       "      <td>Boston.com</td>\n",
       "      <td>1.0</td>\n",
       "      <td>0.0</td>\n",
       "      <td>0.0</td>\n",
       "      <td>0.0</td>\n",
       "    </tr>\n",
       "    <tr>\n",
       "      <th>4</th>\n",
       "      <td>Censor.NET</td>\n",
       "      <td>1.0</td>\n",
       "      <td>0.0</td>\n",
       "      <td>0.0</td>\n",
       "      <td>0.0</td>\n",
       "    </tr>\n",
       "  </tbody>\n",
       "</table>\n",
       "</div>"
      ],
      "text/plain": [
       "                 domain  mediabias_leftcenterbias  mediabias_leftbias  \\\n",
       "0            604now.com                       1.0                 0.0   \n",
       "1            972mag.com                       1.0                 0.0   \n",
       "2  Augustachronicle.com                       1.0                 0.0   \n",
       "3            Boston.com                       1.0                 0.0   \n",
       "4            Censor.NET                       1.0                 0.0   \n",
       "\n",
       "   mediabias_rightcenterbias  mediabias_rightbias  \n",
       "0                        0.0                  0.0  \n",
       "1                        0.0                  0.0  \n",
       "2                        0.0                  0.0  \n",
       "3                        0.0                  0.0  \n",
       "4                        0.0                  0.0  "
      ]
     },
     "execution_count": 5,
     "metadata": {},
     "output_type": "execute_result"
    }
   ],
   "source": [
    "df_leftcenterbias = df_liberal_conservative_domains[df_liberal_conservative_domains['mediabias_leftcenterbias'] == 1]\n",
    "\n",
    "print('Shape: ', df_leftcenterbias.shape)\n",
    "df_leftcenterbias.head()"
   ]
  },
  {
   "cell_type": "code",
   "execution_count": 6,
   "id": "beb43801",
   "metadata": {},
   "outputs": [],
   "source": [
    "list_leftcenterbias_domains = df_leftcenterbias.domain.tolist()"
   ]
  },
  {
   "cell_type": "code",
   "execution_count": 7,
   "id": "460d25cd",
   "metadata": {},
   "outputs": [],
   "source": [
    "def get_unique_items(list_1):\n",
    "    \n",
    "    list_1 = np.array(list_1)\n",
    "    list_1 = np.unique(list_1)\n",
    "    list_1 = list_1.tolist()\n",
    "    \n",
    "    return list_1"
   ]
  },
  {
   "cell_type": "code",
   "execution_count": 8,
   "id": "ba384765",
   "metadata": {},
   "outputs": [
    {
     "data": {
      "text/plain": [
       "644"
      ]
     },
     "execution_count": 8,
     "metadata": {},
     "output_type": "execute_result"
    }
   ],
   "source": [
    "list_leftcenterbias_domains = get_unique_items(list_leftcenterbias_domains)\n",
    "len(list_leftcenterbias_domains)"
   ]
  },
  {
   "cell_type": "code",
   "execution_count": 9,
   "id": "bb839858",
   "metadata": {},
   "outputs": [
    {
     "name": "stdout",
     "output_type": "stream",
     "text": [
      "Shape:  (310, 5)\n"
     ]
    },
    {
     "data": {
      "text/html": [
       "<div>\n",
       "<style scoped>\n",
       "    .dataframe tbody tr th:only-of-type {\n",
       "        vertical-align: middle;\n",
       "    }\n",
       "\n",
       "    .dataframe tbody tr th {\n",
       "        vertical-align: top;\n",
       "    }\n",
       "\n",
       "    .dataframe thead th {\n",
       "        text-align: right;\n",
       "    }\n",
       "</style>\n",
       "<table border=\"1\" class=\"dataframe\">\n",
       "  <thead>\n",
       "    <tr style=\"text-align: right;\">\n",
       "      <th></th>\n",
       "      <th>domain</th>\n",
       "      <th>mediabias_leftcenterbias</th>\n",
       "      <th>mediabias_leftbias</th>\n",
       "      <th>mediabias_rightcenterbias</th>\n",
       "      <th>mediabias_rightbias</th>\n",
       "    </tr>\n",
       "  </thead>\n",
       "  <tbody>\n",
       "    <tr>\n",
       "      <th>644</th>\n",
       "      <td>19thnews.org</td>\n",
       "      <td>0.0</td>\n",
       "      <td>1.0</td>\n",
       "      <td>0.0</td>\n",
       "      <td>0.0</td>\n",
       "    </tr>\n",
       "    <tr>\n",
       "      <th>645</th>\n",
       "      <td>Accountable.US</td>\n",
       "      <td>0.0</td>\n",
       "      <td>1.0</td>\n",
       "      <td>0.0</td>\n",
       "      <td>0.0</td>\n",
       "    </tr>\n",
       "    <tr>\n",
       "      <th>646</th>\n",
       "      <td>Brut.Media</td>\n",
       "      <td>0.0</td>\n",
       "      <td>1.0</td>\n",
       "      <td>0.0</td>\n",
       "      <td>0.0</td>\n",
       "    </tr>\n",
       "    <tr>\n",
       "      <th>647</th>\n",
       "      <td>JoeBiden.com</td>\n",
       "      <td>0.0</td>\n",
       "      <td>1.0</td>\n",
       "      <td>0.0</td>\n",
       "      <td>0.0</td>\n",
       "    </tr>\n",
       "    <tr>\n",
       "      <th>648</th>\n",
       "      <td>Them.us</td>\n",
       "      <td>0.0</td>\n",
       "      <td>1.0</td>\n",
       "      <td>0.0</td>\n",
       "      <td>0.0</td>\n",
       "    </tr>\n",
       "  </tbody>\n",
       "</table>\n",
       "</div>"
      ],
      "text/plain": [
       "             domain  mediabias_leftcenterbias  mediabias_leftbias  \\\n",
       "644    19thnews.org                       0.0                 1.0   \n",
       "645  Accountable.US                       0.0                 1.0   \n",
       "646      Brut.Media                       0.0                 1.0   \n",
       "647    JoeBiden.com                       0.0                 1.0   \n",
       "648         Them.us                       0.0                 1.0   \n",
       "\n",
       "     mediabias_rightcenterbias  mediabias_rightbias  \n",
       "644                        0.0                  0.0  \n",
       "645                        0.0                  0.0  \n",
       "646                        0.0                  0.0  \n",
       "647                        0.0                  0.0  \n",
       "648                        0.0                  0.0  "
      ]
     },
     "execution_count": 9,
     "metadata": {},
     "output_type": "execute_result"
    }
   ],
   "source": [
    "df_leftbias = df_liberal_conservative_domains[df_liberal_conservative_domains['mediabias_leftbias'] == 1]\n",
    "\n",
    "print('Shape: ', df_leftbias.shape)\n",
    "df_leftbias.head()"
   ]
  },
  {
   "cell_type": "code",
   "execution_count": 10,
   "id": "689a755c",
   "metadata": {},
   "outputs": [],
   "source": [
    "list_leftbias_domains = df_leftbias.domain.tolist()"
   ]
  },
  {
   "cell_type": "code",
   "execution_count": 11,
   "id": "ffc1825f",
   "metadata": {},
   "outputs": [
    {
     "data": {
      "text/plain": [
       "310"
      ]
     },
     "execution_count": 11,
     "metadata": {},
     "output_type": "execute_result"
    }
   ],
   "source": [
    "list_leftbias_domains = get_unique_items(list_leftbias_domains)\n",
    "len(list_leftbias_domains)"
   ]
  },
  {
   "cell_type": "code",
   "execution_count": 12,
   "id": "8fffc566",
   "metadata": {},
   "outputs": [
    {
     "data": {
      "text/plain": [
       "954"
      ]
     },
     "execution_count": 12,
     "metadata": {},
     "output_type": "execute_result"
    }
   ],
   "source": [
    "list_liberal_domains = []\n",
    "\n",
    "list_liberal_domains.extend(list_leftbias_domains)\n",
    "list_liberal_domains.extend(list_leftcenterbias_domains)\n",
    "\n",
    "list_liberal_domains = get_unique_items(list_liberal_domains)\n",
    "len(list_liberal_domains)"
   ]
  },
  {
   "cell_type": "markdown",
   "id": "006dc313",
   "metadata": {},
   "source": [
    "***"
   ]
  },
  {
   "cell_type": "markdown",
   "id": "97ed1699",
   "metadata": {},
   "source": [
    "## Conservative Domains"
   ]
  },
  {
   "cell_type": "markdown",
   "id": "cb73fc69",
   "metadata": {},
   "source": [
    "***"
   ]
  },
  {
   "cell_type": "code",
   "execution_count": 13,
   "id": "e12e9b08",
   "metadata": {},
   "outputs": [
    {
     "name": "stdout",
     "output_type": "stream",
     "text": [
      "Shape:  (381, 5)\n"
     ]
    },
    {
     "data": {
      "text/html": [
       "<div>\n",
       "<style scoped>\n",
       "    .dataframe tbody tr th:only-of-type {\n",
       "        vertical-align: middle;\n",
       "    }\n",
       "\n",
       "    .dataframe tbody tr th {\n",
       "        vertical-align: top;\n",
       "    }\n",
       "\n",
       "    .dataframe thead th {\n",
       "        text-align: right;\n",
       "    }\n",
       "</style>\n",
       "<table border=\"1\" class=\"dataframe\">\n",
       "  <thead>\n",
       "    <tr style=\"text-align: right;\">\n",
       "      <th></th>\n",
       "      <th>domain</th>\n",
       "      <th>mediabias_leftcenterbias</th>\n",
       "      <th>mediabias_leftbias</th>\n",
       "      <th>mediabias_rightcenterbias</th>\n",
       "      <th>mediabias_rightbias</th>\n",
       "    </tr>\n",
       "  </thead>\n",
       "  <tbody>\n",
       "    <tr>\n",
       "      <th>954</th>\n",
       "      <td>13wham.com</td>\n",
       "      <td>0.0</td>\n",
       "      <td>0.0</td>\n",
       "      <td>1.0</td>\n",
       "      <td>0.0</td>\n",
       "    </tr>\n",
       "    <tr>\n",
       "      <th>955</th>\n",
       "      <td>19fortyfive.com</td>\n",
       "      <td>0.0</td>\n",
       "      <td>0.0</td>\n",
       "      <td>1.0</td>\n",
       "      <td>0.0</td>\n",
       "    </tr>\n",
       "    <tr>\n",
       "      <th>956</th>\n",
       "      <td>7news.com.au</td>\n",
       "      <td>0.0</td>\n",
       "      <td>0.0</td>\n",
       "      <td>1.0</td>\n",
       "      <td>0.0</td>\n",
       "    </tr>\n",
       "    <tr>\n",
       "      <th>957</th>\n",
       "      <td>9news.com.au</td>\n",
       "      <td>0.0</td>\n",
       "      <td>0.0</td>\n",
       "      <td>1.0</td>\n",
       "      <td>0.0</td>\n",
       "    </tr>\n",
       "    <tr>\n",
       "      <th>958</th>\n",
       "      <td>Deutschland.de</td>\n",
       "      <td>0.0</td>\n",
       "      <td>0.0</td>\n",
       "      <td>1.0</td>\n",
       "      <td>0.0</td>\n",
       "    </tr>\n",
       "  </tbody>\n",
       "</table>\n",
       "</div>"
      ],
      "text/plain": [
       "              domain  mediabias_leftcenterbias  mediabias_leftbias  \\\n",
       "954       13wham.com                       0.0                 0.0   \n",
       "955  19fortyfive.com                       0.0                 0.0   \n",
       "956     7news.com.au                       0.0                 0.0   \n",
       "957     9news.com.au                       0.0                 0.0   \n",
       "958   Deutschland.de                       0.0                 0.0   \n",
       "\n",
       "     mediabias_rightcenterbias  mediabias_rightbias  \n",
       "954                        1.0                  0.0  \n",
       "955                        1.0                  0.0  \n",
       "956                        1.0                  0.0  \n",
       "957                        1.0                  0.0  \n",
       "958                        1.0                  0.0  "
      ]
     },
     "execution_count": 13,
     "metadata": {},
     "output_type": "execute_result"
    }
   ],
   "source": [
    "df_rightcenterbias = df_liberal_conservative_domains[df_liberal_conservative_domains['mediabias_rightcenterbias'] == 1]\n",
    "\n",
    "print('Shape: ', df_rightcenterbias.shape)\n",
    "df_rightcenterbias.head()"
   ]
  },
  {
   "cell_type": "code",
   "execution_count": 14,
   "id": "739a6ae5",
   "metadata": {},
   "outputs": [
    {
     "data": {
      "text/plain": [
       "381"
      ]
     },
     "execution_count": 14,
     "metadata": {},
     "output_type": "execute_result"
    }
   ],
   "source": [
    "list_rightcenterbias_domains = df_rightcenterbias.domain.tolist()\n",
    "\n",
    "list_rightcenterbias_domains = get_unique_items(list_rightcenterbias_domains)\n",
    "len(list_rightcenterbias_domains)"
   ]
  },
  {
   "cell_type": "code",
   "execution_count": 15,
   "id": "b69f2bbe",
   "metadata": {},
   "outputs": [
    {
     "name": "stdout",
     "output_type": "stream",
     "text": [
      "Shape:  (254, 5)\n"
     ]
    },
    {
     "data": {
      "text/html": [
       "<div>\n",
       "<style scoped>\n",
       "    .dataframe tbody tr th:only-of-type {\n",
       "        vertical-align: middle;\n",
       "    }\n",
       "\n",
       "    .dataframe tbody tr th {\n",
       "        vertical-align: top;\n",
       "    }\n",
       "\n",
       "    .dataframe thead th {\n",
       "        text-align: right;\n",
       "    }\n",
       "</style>\n",
       "<table border=\"1\" class=\"dataframe\">\n",
       "  <thead>\n",
       "    <tr style=\"text-align: right;\">\n",
       "      <th></th>\n",
       "      <th>domain</th>\n",
       "      <th>mediabias_leftcenterbias</th>\n",
       "      <th>mediabias_leftbias</th>\n",
       "      <th>mediabias_rightcenterbias</th>\n",
       "      <th>mediabias_rightbias</th>\n",
       "    </tr>\n",
       "  </thead>\n",
       "  <tbody>\n",
       "    <tr>\n",
       "      <th>1335</th>\n",
       "      <td>2ndvote.com</td>\n",
       "      <td>0.0</td>\n",
       "      <td>0.0</td>\n",
       "      <td>0.0</td>\n",
       "      <td>1.0</td>\n",
       "    </tr>\n",
       "    <tr>\n",
       "      <th>1336</th>\n",
       "      <td>Abort73.com</td>\n",
       "      <td>0.0</td>\n",
       "      <td>0.0</td>\n",
       "      <td>0.0</td>\n",
       "      <td>1.0</td>\n",
       "    </tr>\n",
       "    <tr>\n",
       "      <th>1337</th>\n",
       "      <td>Aish.com</td>\n",
       "      <td>0.0</td>\n",
       "      <td>0.0</td>\n",
       "      <td>0.0</td>\n",
       "      <td>1.0</td>\n",
       "    </tr>\n",
       "    <tr>\n",
       "      <th>1338</th>\n",
       "      <td>AsianNews.it</td>\n",
       "      <td>0.0</td>\n",
       "      <td>0.0</td>\n",
       "      <td>0.0</td>\n",
       "      <td>1.0</td>\n",
       "    </tr>\n",
       "    <tr>\n",
       "      <th>1339</th>\n",
       "      <td>CAGW.org</td>\n",
       "      <td>0.0</td>\n",
       "      <td>0.0</td>\n",
       "      <td>0.0</td>\n",
       "      <td>1.0</td>\n",
       "    </tr>\n",
       "  </tbody>\n",
       "</table>\n",
       "</div>"
      ],
      "text/plain": [
       "            domain  mediabias_leftcenterbias  mediabias_leftbias  \\\n",
       "1335   2ndvote.com                       0.0                 0.0   \n",
       "1336   Abort73.com                       0.0                 0.0   \n",
       "1337      Aish.com                       0.0                 0.0   \n",
       "1338  AsianNews.it                       0.0                 0.0   \n",
       "1339      CAGW.org                       0.0                 0.0   \n",
       "\n",
       "      mediabias_rightcenterbias  mediabias_rightbias  \n",
       "1335                        0.0                  1.0  \n",
       "1336                        0.0                  1.0  \n",
       "1337                        0.0                  1.0  \n",
       "1338                        0.0                  1.0  \n",
       "1339                        0.0                  1.0  "
      ]
     },
     "execution_count": 15,
     "metadata": {},
     "output_type": "execute_result"
    }
   ],
   "source": [
    "df_rightbias = df_liberal_conservative_domains[df_liberal_conservative_domains['mediabias_rightbias'] == 1]\n",
    "\n",
    "print('Shape: ', df_rightbias.shape)\n",
    "df_rightbias.head()"
   ]
  },
  {
   "cell_type": "code",
   "execution_count": 16,
   "id": "90307fda",
   "metadata": {},
   "outputs": [
    {
     "data": {
      "text/plain": [
       "254"
      ]
     },
     "execution_count": 16,
     "metadata": {},
     "output_type": "execute_result"
    }
   ],
   "source": [
    "list_rightbias_domains = df_rightbias.domain.tolist()\n",
    "\n",
    "list_rightbias_domains = get_unique_items(list_rightbias_domains)\n",
    "len(list_rightbias_domains)"
   ]
  },
  {
   "cell_type": "code",
   "execution_count": 17,
   "id": "4ec97955",
   "metadata": {},
   "outputs": [
    {
     "data": {
      "text/plain": [
       "635"
      ]
     },
     "execution_count": 17,
     "metadata": {},
     "output_type": "execute_result"
    }
   ],
   "source": [
    "list_conservative_domains = []\n",
    "\n",
    "list_conservative_domains.extend(list_rightbias_domains)\n",
    "list_conservative_domains.extend(list_rightcenterbias_domains)\n",
    "\n",
    "list_conservative_domains = get_unique_items(list_conservative_domains)\n",
    "len(list_conservative_domains)"
   ]
  },
  {
   "cell_type": "markdown",
   "id": "da98e917",
   "metadata": {},
   "source": [
    "***"
   ]
  },
  {
   "cell_type": "markdown",
   "id": "2e6bb8ad",
   "metadata": {},
   "source": [
    "## TweetsCov19"
   ]
  },
  {
   "cell_type": "code",
   "execution_count": 122,
   "id": "eda60083",
   "metadata": {},
   "outputs": [
    {
     "name": "stdout",
     "output_type": "stream",
     "text": [
      "Shape : (543328, 5)\n"
     ]
    },
    {
     "data": {
      "text/html": [
       "<div>\n",
       "<style scoped>\n",
       "    .dataframe tbody tr th:only-of-type {\n",
       "        vertical-align: middle;\n",
       "    }\n",
       "\n",
       "    .dataframe tbody tr th {\n",
       "        vertical-align: top;\n",
       "    }\n",
       "\n",
       "    .dataframe thead th {\n",
       "        text-align: right;\n",
       "    }\n",
       "</style>\n",
       "<table border=\"1\" class=\"dataframe\">\n",
       "  <thead>\n",
       "    <tr style=\"text-align: right;\">\n",
       "      <th></th>\n",
       "      <th>Tweet_Id</th>\n",
       "      <th>Username</th>\n",
       "      <th>Timestamp</th>\n",
       "      <th>Is_deleted</th>\n",
       "      <th>Domains</th>\n",
       "    </tr>\n",
       "  </thead>\n",
       "  <tbody>\n",
       "    <tr>\n",
       "      <th>0</th>\n",
       "      <td>1190055855015763975</td>\n",
       "      <td>e71645b65241196dbdb84329bd84cc94</td>\n",
       "      <td>2019-11-01 00:00:00+00:00</td>\n",
       "      <td>False</td>\n",
       "      <td>payhip.com</td>\n",
       "    </tr>\n",
       "    <tr>\n",
       "      <th>1</th>\n",
       "      <td>1190055853140959232</td>\n",
       "      <td>8813c1fdde450068e6586b0bc6ac8892</td>\n",
       "      <td>2019-11-01 00:00:00+00:00</td>\n",
       "      <td>False</td>\n",
       "      <td>0</td>\n",
       "    </tr>\n",
       "    <tr>\n",
       "      <th>2</th>\n",
       "      <td>1190055855007289345</td>\n",
       "      <td>45ad0ab027f5623b5749ab3bdb0bb493</td>\n",
       "      <td>2019-11-01 00:00:00+00:00</td>\n",
       "      <td>False</td>\n",
       "      <td>madamenoire.com</td>\n",
       "    </tr>\n",
       "    <tr>\n",
       "      <th>3</th>\n",
       "      <td>1190055859105271809</td>\n",
       "      <td>15d44d07924f603ab2f33dc4c44e1a97</td>\n",
       "      <td>2019-11-01 00:00:01+00:00</td>\n",
       "      <td>False</td>\n",
       "      <td>soundcloud.com</td>\n",
       "    </tr>\n",
       "    <tr>\n",
       "      <th>4</th>\n",
       "      <td>1190055892777099264</td>\n",
       "      <td>065a6d22613aeb5fc5345fd19334e31e</td>\n",
       "      <td>2019-11-01 00:00:09+00:00</td>\n",
       "      <td>False</td>\n",
       "      <td>lazymusicguru.com</td>\n",
       "    </tr>\n",
       "  </tbody>\n",
       "</table>\n",
       "</div>"
      ],
      "text/plain": [
       "              Tweet_Id                          Username  \\\n",
       "0  1190055855015763975  e71645b65241196dbdb84329bd84cc94   \n",
       "1  1190055853140959232  8813c1fdde450068e6586b0bc6ac8892   \n",
       "2  1190055855007289345  45ad0ab027f5623b5749ab3bdb0bb493   \n",
       "3  1190055859105271809  15d44d07924f603ab2f33dc4c44e1a97   \n",
       "4  1190055892777099264  065a6d22613aeb5fc5345fd19334e31e   \n",
       "\n",
       "                   Timestamp  Is_deleted            Domains  \n",
       "0  2019-11-01 00:00:00+00:00       False         payhip.com  \n",
       "1  2019-11-01 00:00:00+00:00       False                  0  \n",
       "2  2019-11-01 00:00:00+00:00       False    madamenoire.com  \n",
       "3  2019-11-01 00:00:01+00:00       False     soundcloud.com  \n",
       "4  2019-11-01 00:00:09+00:00       False  lazymusicguru.com  "
      ]
     },
     "execution_count": 122,
     "metadata": {},
     "output_type": "execute_result"
    }
   ],
   "source": [
    "path_tweetscov19 = '../data/df_tweetscov19_november2019.tsv'\n",
    "\n",
    "df_tweetscov19 = pd.read_csv(path_tweetscov19, sep='\\t', error_bad_lines=False, names=['Tweet_Id', 'Username', 'Timestamp', 'Is_deleted', 'Domains'])\n",
    "\n",
    "print('Shape :', df_tweetscov19.shape)\n",
    "df_tweetscov19.head()"
   ]
  },
  {
   "cell_type": "code",
   "execution_count": 123,
   "id": "b02a1f9d",
   "metadata": {},
   "outputs": [],
   "source": [
    "def get_number_of_liberal_domains(domains):\n",
    "    \n",
    "    domains_list = domains.split()\n",
    "    score = 0\n",
    "    \n",
    "    for i in range(0, len(domains_list)):\n",
    "        \n",
    "        #d = tldextract.extract(domains_list[i])\n",
    "        #d = d.domain\n",
    "        d = domains_list[i]\n",
    "        \n",
    "        if d in list_liberal_domains:\n",
    "            score -=  1\n",
    "        \n",
    "    return score"
   ]
  },
  {
   "cell_type": "code",
   "execution_count": 124,
   "id": "f9c2e5dd",
   "metadata": {},
   "outputs": [],
   "source": [
    "df_tweetscov19['Domains'] = df_tweetscov19['Domains'].astype(str)\n",
    "\n",
    "df_tweetscov19['Number_of_liberals'] = df_tweetscov19.apply(lambda row: get_number_of_liberal_domains(row['Domains']) if (row['Domains'] != '0') else 0, axis=1)"
   ]
  },
  {
   "cell_type": "code",
   "execution_count": 125,
   "id": "e3475b72",
   "metadata": {},
   "outputs": [
    {
     "data": {
      "text/html": [
       "<div>\n",
       "<style scoped>\n",
       "    .dataframe tbody tr th:only-of-type {\n",
       "        vertical-align: middle;\n",
       "    }\n",
       "\n",
       "    .dataframe tbody tr th {\n",
       "        vertical-align: top;\n",
       "    }\n",
       "\n",
       "    .dataframe thead th {\n",
       "        text-align: right;\n",
       "    }\n",
       "</style>\n",
       "<table border=\"1\" class=\"dataframe\">\n",
       "  <thead>\n",
       "    <tr style=\"text-align: right;\">\n",
       "      <th></th>\n",
       "      <th>Tweet_Id</th>\n",
       "      <th>Username</th>\n",
       "      <th>Timestamp</th>\n",
       "      <th>Is_deleted</th>\n",
       "      <th>Domains</th>\n",
       "      <th>Number_of_liberals</th>\n",
       "    </tr>\n",
       "  </thead>\n",
       "  <tbody>\n",
       "    <tr>\n",
       "      <th>0</th>\n",
       "      <td>1190055855015763975</td>\n",
       "      <td>e71645b65241196dbdb84329bd84cc94</td>\n",
       "      <td>2019-11-01 00:00:00+00:00</td>\n",
       "      <td>False</td>\n",
       "      <td>payhip.com</td>\n",
       "      <td>0</td>\n",
       "    </tr>\n",
       "    <tr>\n",
       "      <th>1</th>\n",
       "      <td>1190055853140959232</td>\n",
       "      <td>8813c1fdde450068e6586b0bc6ac8892</td>\n",
       "      <td>2019-11-01 00:00:00+00:00</td>\n",
       "      <td>False</td>\n",
       "      <td>0</td>\n",
       "      <td>0</td>\n",
       "    </tr>\n",
       "    <tr>\n",
       "      <th>2</th>\n",
       "      <td>1190055855007289345</td>\n",
       "      <td>45ad0ab027f5623b5749ab3bdb0bb493</td>\n",
       "      <td>2019-11-01 00:00:00+00:00</td>\n",
       "      <td>False</td>\n",
       "      <td>madamenoire.com</td>\n",
       "      <td>0</td>\n",
       "    </tr>\n",
       "    <tr>\n",
       "      <th>3</th>\n",
       "      <td>1190055859105271809</td>\n",
       "      <td>15d44d07924f603ab2f33dc4c44e1a97</td>\n",
       "      <td>2019-11-01 00:00:01+00:00</td>\n",
       "      <td>False</td>\n",
       "      <td>soundcloud.com</td>\n",
       "      <td>0</td>\n",
       "    </tr>\n",
       "    <tr>\n",
       "      <th>4</th>\n",
       "      <td>1190055892777099264</td>\n",
       "      <td>065a6d22613aeb5fc5345fd19334e31e</td>\n",
       "      <td>2019-11-01 00:00:09+00:00</td>\n",
       "      <td>False</td>\n",
       "      <td>lazymusicguru.com</td>\n",
       "      <td>0</td>\n",
       "    </tr>\n",
       "  </tbody>\n",
       "</table>\n",
       "</div>"
      ],
      "text/plain": [
       "              Tweet_Id                          Username  \\\n",
       "0  1190055855015763975  e71645b65241196dbdb84329bd84cc94   \n",
       "1  1190055853140959232  8813c1fdde450068e6586b0bc6ac8892   \n",
       "2  1190055855007289345  45ad0ab027f5623b5749ab3bdb0bb493   \n",
       "3  1190055859105271809  15d44d07924f603ab2f33dc4c44e1a97   \n",
       "4  1190055892777099264  065a6d22613aeb5fc5345fd19334e31e   \n",
       "\n",
       "                   Timestamp  Is_deleted            Domains  \\\n",
       "0  2019-11-01 00:00:00+00:00       False         payhip.com   \n",
       "1  2019-11-01 00:00:00+00:00       False                  0   \n",
       "2  2019-11-01 00:00:00+00:00       False    madamenoire.com   \n",
       "3  2019-11-01 00:00:01+00:00       False     soundcloud.com   \n",
       "4  2019-11-01 00:00:09+00:00       False  lazymusicguru.com   \n",
       "\n",
       "   Number_of_liberals  \n",
       "0                   0  \n",
       "1                   0  \n",
       "2                   0  \n",
       "3                   0  \n",
       "4                   0  "
      ]
     },
     "execution_count": 125,
     "metadata": {},
     "output_type": "execute_result"
    }
   ],
   "source": [
    "df_tweetscov19.head()"
   ]
  },
  {
   "cell_type": "code",
   "execution_count": 126,
   "id": "571e1807",
   "metadata": {},
   "outputs": [
    {
     "name": "stdout",
     "output_type": "stream",
     "text": [
      " Number of Tweets with at least one liberal Domain:  14936\n"
     ]
    }
   ],
   "source": [
    "tweets_with_liberal_domains = df_tweetscov19[df_tweetscov19['Number_of_liberals'] < 0].shape\n",
    "\n",
    "print(' Number of Tweets with at least one liberal Domain: ', tweets_with_liberal_domains[0])"
   ]
  },
  {
   "cell_type": "code",
   "execution_count": 127,
   "id": "2f60e57c",
   "metadata": {},
   "outputs": [],
   "source": [
    "def get_number_of_conservative_domains(domains):\n",
    "    domains_list = domains.split()\n",
    "    score = 0\n",
    "    for i in range(0, len(domains_list)):\n",
    "        \n",
    "        #d = tldextract.extract(domains_list[i])\n",
    "        #d = d.domain\n",
    "        d =  domains_list[i]\n",
    "        \n",
    "        if d in list_conservative_domains:\n",
    "            score +=  1\n",
    "        \n",
    "    return score"
   ]
  },
  {
   "cell_type": "code",
   "execution_count": 128,
   "id": "d5c82230",
   "metadata": {},
   "outputs": [],
   "source": [
    "df_tweetscov19['Number_of_conservatives'] = df_tweetscov19.apply(lambda row: get_number_of_conservative_domains(row['Domains']) if (row['Domains'] != '0') else 0, axis=1)"
   ]
  },
  {
   "cell_type": "code",
   "execution_count": 129,
   "id": "6e73050d",
   "metadata": {},
   "outputs": [
    {
     "data": {
      "text/html": [
       "<div>\n",
       "<style scoped>\n",
       "    .dataframe tbody tr th:only-of-type {\n",
       "        vertical-align: middle;\n",
       "    }\n",
       "\n",
       "    .dataframe tbody tr th {\n",
       "        vertical-align: top;\n",
       "    }\n",
       "\n",
       "    .dataframe thead th {\n",
       "        text-align: right;\n",
       "    }\n",
       "</style>\n",
       "<table border=\"1\" class=\"dataframe\">\n",
       "  <thead>\n",
       "    <tr style=\"text-align: right;\">\n",
       "      <th></th>\n",
       "      <th>Tweet_Id</th>\n",
       "      <th>Username</th>\n",
       "      <th>Timestamp</th>\n",
       "      <th>Is_deleted</th>\n",
       "      <th>Domains</th>\n",
       "      <th>Number_of_liberals</th>\n",
       "      <th>Number_of_conservatives</th>\n",
       "    </tr>\n",
       "  </thead>\n",
       "  <tbody>\n",
       "    <tr>\n",
       "      <th>0</th>\n",
       "      <td>1190055855015763975</td>\n",
       "      <td>e71645b65241196dbdb84329bd84cc94</td>\n",
       "      <td>2019-11-01 00:00:00+00:00</td>\n",
       "      <td>False</td>\n",
       "      <td>payhip.com</td>\n",
       "      <td>0</td>\n",
       "      <td>0</td>\n",
       "    </tr>\n",
       "    <tr>\n",
       "      <th>1</th>\n",
       "      <td>1190055853140959232</td>\n",
       "      <td>8813c1fdde450068e6586b0bc6ac8892</td>\n",
       "      <td>2019-11-01 00:00:00+00:00</td>\n",
       "      <td>False</td>\n",
       "      <td>0</td>\n",
       "      <td>0</td>\n",
       "      <td>0</td>\n",
       "    </tr>\n",
       "    <tr>\n",
       "      <th>2</th>\n",
       "      <td>1190055855007289345</td>\n",
       "      <td>45ad0ab027f5623b5749ab3bdb0bb493</td>\n",
       "      <td>2019-11-01 00:00:00+00:00</td>\n",
       "      <td>False</td>\n",
       "      <td>madamenoire.com</td>\n",
       "      <td>0</td>\n",
       "      <td>0</td>\n",
       "    </tr>\n",
       "    <tr>\n",
       "      <th>3</th>\n",
       "      <td>1190055859105271809</td>\n",
       "      <td>15d44d07924f603ab2f33dc4c44e1a97</td>\n",
       "      <td>2019-11-01 00:00:01+00:00</td>\n",
       "      <td>False</td>\n",
       "      <td>soundcloud.com</td>\n",
       "      <td>0</td>\n",
       "      <td>0</td>\n",
       "    </tr>\n",
       "    <tr>\n",
       "      <th>4</th>\n",
       "      <td>1190055892777099264</td>\n",
       "      <td>065a6d22613aeb5fc5345fd19334e31e</td>\n",
       "      <td>2019-11-01 00:00:09+00:00</td>\n",
       "      <td>False</td>\n",
       "      <td>lazymusicguru.com</td>\n",
       "      <td>0</td>\n",
       "      <td>0</td>\n",
       "    </tr>\n",
       "  </tbody>\n",
       "</table>\n",
       "</div>"
      ],
      "text/plain": [
       "              Tweet_Id                          Username  \\\n",
       "0  1190055855015763975  e71645b65241196dbdb84329bd84cc94   \n",
       "1  1190055853140959232  8813c1fdde450068e6586b0bc6ac8892   \n",
       "2  1190055855007289345  45ad0ab027f5623b5749ab3bdb0bb493   \n",
       "3  1190055859105271809  15d44d07924f603ab2f33dc4c44e1a97   \n",
       "4  1190055892777099264  065a6d22613aeb5fc5345fd19334e31e   \n",
       "\n",
       "                   Timestamp  Is_deleted            Domains  \\\n",
       "0  2019-11-01 00:00:00+00:00       False         payhip.com   \n",
       "1  2019-11-01 00:00:00+00:00       False                  0   \n",
       "2  2019-11-01 00:00:00+00:00       False    madamenoire.com   \n",
       "3  2019-11-01 00:00:01+00:00       False     soundcloud.com   \n",
       "4  2019-11-01 00:00:09+00:00       False  lazymusicguru.com   \n",
       "\n",
       "   Number_of_liberals  Number_of_conservatives  \n",
       "0                   0                        0  \n",
       "1                   0                        0  \n",
       "2                   0                        0  \n",
       "3                   0                        0  \n",
       "4                   0                        0  "
      ]
     },
     "execution_count": 129,
     "metadata": {},
     "output_type": "execute_result"
    }
   ],
   "source": [
    "df_tweetscov19.head()"
   ]
  },
  {
   "cell_type": "code",
   "execution_count": 130,
   "id": "44ccc144",
   "metadata": {},
   "outputs": [
    {
     "name": "stdout",
     "output_type": "stream",
     "text": [
      "Number of Tweets with at least one conservative domain:  4367\n"
     ]
    }
   ],
   "source": [
    "tweets_with_consevative_domain = df_tweetscov19[df_tweetscov19['Number_of_conservatives'] > 0].shape\n",
    "\n",
    "print('Number of Tweets with at least one conservative domain: ',tweets_with_consevative_domain[0])"
   ]
  },
  {
   "cell_type": "code",
   "execution_count": 131,
   "id": "3a03f013",
   "metadata": {},
   "outputs": [
    {
     "name": "stdout",
     "output_type": "stream",
     "text": [
      "Number of unique users in TweeetsCOV19:  407101\n"
     ]
    }
   ],
   "source": [
    "df_tweetscov19_unique_users = df_tweetscov19.groupby('Username')[ 'Number_of_liberals', 'Number_of_conservatives'].sum()\n",
    "\n",
    "print('Number of unique users in TweeetsCOV19: ', df_tweetscov19_unique_users.shape[0])"
   ]
  },
  {
   "cell_type": "code",
   "execution_count": 132,
   "id": "d3bfe5a1",
   "metadata": {},
   "outputs": [
    {
     "data": {
      "text/html": [
       "<div>\n",
       "<style scoped>\n",
       "    .dataframe tbody tr th:only-of-type {\n",
       "        vertical-align: middle;\n",
       "    }\n",
       "\n",
       "    .dataframe tbody tr th {\n",
       "        vertical-align: top;\n",
       "    }\n",
       "\n",
       "    .dataframe thead th {\n",
       "        text-align: right;\n",
       "    }\n",
       "</style>\n",
       "<table border=\"1\" class=\"dataframe\">\n",
       "  <thead>\n",
       "    <tr style=\"text-align: right;\">\n",
       "      <th></th>\n",
       "      <th>Number_of_liberals</th>\n",
       "      <th>Number_of_conservatives</th>\n",
       "    </tr>\n",
       "    <tr>\n",
       "      <th>Username</th>\n",
       "      <th></th>\n",
       "      <th></th>\n",
       "    </tr>\n",
       "  </thead>\n",
       "  <tbody>\n",
       "    <tr>\n",
       "      <th>0013aaa4da0461c58d0b1306af75af02</th>\n",
       "      <td>0</td>\n",
       "      <td>1</td>\n",
       "    </tr>\n",
       "    <tr>\n",
       "      <th>005ea28b01fe09ea0f012b72f360938e</th>\n",
       "      <td>0</td>\n",
       "      <td>1</td>\n",
       "    </tr>\n",
       "    <tr>\n",
       "      <th>006bd5aa9044fb939def43b4a6df7058</th>\n",
       "      <td>0</td>\n",
       "      <td>1</td>\n",
       "    </tr>\n",
       "    <tr>\n",
       "      <th>008fa17b61baa70c6996888eb419cffd</th>\n",
       "      <td>0</td>\n",
       "      <td>2</td>\n",
       "    </tr>\n",
       "    <tr>\n",
       "      <th>00999e3df190e27161681c2cb71bbad2</th>\n",
       "      <td>-2</td>\n",
       "      <td>2</td>\n",
       "    </tr>\n",
       "  </tbody>\n",
       "</table>\n",
       "</div>"
      ],
      "text/plain": [
       "                                  Number_of_liberals  Number_of_conservatives\n",
       "Username                                                                     \n",
       "0013aaa4da0461c58d0b1306af75af02                   0                        1\n",
       "005ea28b01fe09ea0f012b72f360938e                   0                        1\n",
       "006bd5aa9044fb939def43b4a6df7058                   0                        1\n",
       "008fa17b61baa70c6996888eb419cffd                   0                        2\n",
       "00999e3df190e27161681c2cb71bbad2                  -2                        2"
      ]
     },
     "execution_count": 132,
     "metadata": {},
     "output_type": "execute_result"
    }
   ],
   "source": [
    "df_tweetscov19_unique_users[df_tweetscov19_unique_users['Number_of_conservatives']>0].head()"
   ]
  },
  {
   "cell_type": "code",
   "execution_count": 133,
   "id": "289d8c52",
   "metadata": {},
   "outputs": [],
   "source": [
    "df_tweetscov19_unique_users['Sum_polarized_domains'] = df_tweetscov19_unique_users.apply(lambda row: ((row['Number_of_conservatives'] - row['Number_of_liberals'])), axis=1)"
   ]
  },
  {
   "cell_type": "code",
   "execution_count": 134,
   "id": "31d6b3d5",
   "metadata": {},
   "outputs": [
    {
     "data": {
      "text/html": [
       "<div>\n",
       "<style scoped>\n",
       "    .dataframe tbody tr th:only-of-type {\n",
       "        vertical-align: middle;\n",
       "    }\n",
       "\n",
       "    .dataframe tbody tr th {\n",
       "        vertical-align: top;\n",
       "    }\n",
       "\n",
       "    .dataframe thead th {\n",
       "        text-align: right;\n",
       "    }\n",
       "</style>\n",
       "<table border=\"1\" class=\"dataframe\">\n",
       "  <thead>\n",
       "    <tr style=\"text-align: right;\">\n",
       "      <th></th>\n",
       "      <th>Number_of_liberals</th>\n",
       "      <th>Number_of_conservatives</th>\n",
       "      <th>Sum_polarized_domains</th>\n",
       "    </tr>\n",
       "    <tr>\n",
       "      <th>Username</th>\n",
       "      <th></th>\n",
       "      <th></th>\n",
       "      <th></th>\n",
       "    </tr>\n",
       "  </thead>\n",
       "  <tbody>\n",
       "    <tr>\n",
       "      <th>00053d9e1dc6f9efac2648ecd1d4ce03</th>\n",
       "      <td>-1</td>\n",
       "      <td>0</td>\n",
       "      <td>1</td>\n",
       "    </tr>\n",
       "    <tr>\n",
       "      <th>001c826d76c4bd475794920c8844b4db</th>\n",
       "      <td>-1</td>\n",
       "      <td>0</td>\n",
       "      <td>1</td>\n",
       "    </tr>\n",
       "    <tr>\n",
       "      <th>002f31aacd0ff57c0e75383b4285c75a</th>\n",
       "      <td>-1</td>\n",
       "      <td>0</td>\n",
       "      <td>1</td>\n",
       "    </tr>\n",
       "    <tr>\n",
       "      <th>00313972f1bd406aa9a327aab6ffe976</th>\n",
       "      <td>-3</td>\n",
       "      <td>0</td>\n",
       "      <td>3</td>\n",
       "    </tr>\n",
       "    <tr>\n",
       "      <th>0037a52b5297dd03726565e8aab3df54</th>\n",
       "      <td>-1</td>\n",
       "      <td>0</td>\n",
       "      <td>1</td>\n",
       "    </tr>\n",
       "  </tbody>\n",
       "</table>\n",
       "</div>"
      ],
      "text/plain": [
       "                                  Number_of_liberals  Number_of_conservatives  \\\n",
       "Username                                                                        \n",
       "00053d9e1dc6f9efac2648ecd1d4ce03                  -1                        0   \n",
       "001c826d76c4bd475794920c8844b4db                  -1                        0   \n",
       "002f31aacd0ff57c0e75383b4285c75a                  -1                        0   \n",
       "00313972f1bd406aa9a327aab6ffe976                  -3                        0   \n",
       "0037a52b5297dd03726565e8aab3df54                  -1                        0   \n",
       "\n",
       "                                  Sum_polarized_domains  \n",
       "Username                                                 \n",
       "00053d9e1dc6f9efac2648ecd1d4ce03                      1  \n",
       "001c826d76c4bd475794920c8844b4db                      1  \n",
       "002f31aacd0ff57c0e75383b4285c75a                      1  \n",
       "00313972f1bd406aa9a327aab6ffe976                      3  \n",
       "0037a52b5297dd03726565e8aab3df54                      1  "
      ]
     },
     "execution_count": 134,
     "metadata": {},
     "output_type": "execute_result"
    }
   ],
   "source": [
    "df_tweetscov19_unique_users[df_tweetscov19_unique_users['Number_of_liberals']<0].head()"
   ]
  },
  {
   "cell_type": "code",
   "execution_count": 135,
   "id": "66e48a91",
   "metadata": {},
   "outputs": [],
   "source": [
    "df_tweetscov19_unique_users['normalised_polarisation'] = df_tweetscov19_unique_users.apply(lambda row: (row['Number_of_liberals'] + row['Number_of_conservatives']) / row['Sum_polarized_domains'] if row['Sum_polarized_domains'] != 0 else 0, axis=1)"
   ]
  },
  {
   "cell_type": "code",
   "execution_count": 136,
   "id": "d64eea2e",
   "metadata": {},
   "outputs": [
    {
     "data": {
      "text/html": [
       "<div>\n",
       "<style scoped>\n",
       "    .dataframe tbody tr th:only-of-type {\n",
       "        vertical-align: middle;\n",
       "    }\n",
       "\n",
       "    .dataframe tbody tr th {\n",
       "        vertical-align: top;\n",
       "    }\n",
       "\n",
       "    .dataframe thead th {\n",
       "        text-align: right;\n",
       "    }\n",
       "</style>\n",
       "<table border=\"1\" class=\"dataframe\">\n",
       "  <thead>\n",
       "    <tr style=\"text-align: right;\">\n",
       "      <th></th>\n",
       "      <th>Number_of_liberals</th>\n",
       "      <th>Number_of_conservatives</th>\n",
       "      <th>Sum_polarized_domains</th>\n",
       "      <th>normalised_polarisation</th>\n",
       "    </tr>\n",
       "    <tr>\n",
       "      <th>Username</th>\n",
       "      <th></th>\n",
       "      <th></th>\n",
       "      <th></th>\n",
       "      <th></th>\n",
       "    </tr>\n",
       "  </thead>\n",
       "  <tbody>\n",
       "    <tr>\n",
       "      <th>00313972f1bd406aa9a327aab6ffe976</th>\n",
       "      <td>-3</td>\n",
       "      <td>0</td>\n",
       "      <td>3</td>\n",
       "      <td>-1.0</td>\n",
       "    </tr>\n",
       "    <tr>\n",
       "      <th>0112ee46f71771164544eb00853355e1</th>\n",
       "      <td>-3</td>\n",
       "      <td>0</td>\n",
       "      <td>3</td>\n",
       "      <td>-1.0</td>\n",
       "    </tr>\n",
       "    <tr>\n",
       "      <th>01a4a4222a1260baf8657b99173d2f40</th>\n",
       "      <td>-7</td>\n",
       "      <td>0</td>\n",
       "      <td>7</td>\n",
       "      <td>-1.0</td>\n",
       "    </tr>\n",
       "    <tr>\n",
       "      <th>0335f6fb06cc3cb753b3a3de231ec55b</th>\n",
       "      <td>-4</td>\n",
       "      <td>0</td>\n",
       "      <td>4</td>\n",
       "      <td>-1.0</td>\n",
       "    </tr>\n",
       "    <tr>\n",
       "      <th>033b151c88a7a8005f4dd90bb754e4c9</th>\n",
       "      <td>-3</td>\n",
       "      <td>1</td>\n",
       "      <td>4</td>\n",
       "      <td>-0.5</td>\n",
       "    </tr>\n",
       "  </tbody>\n",
       "</table>\n",
       "</div>"
      ],
      "text/plain": [
       "                                  Number_of_liberals  Number_of_conservatives  \\\n",
       "Username                                                                        \n",
       "00313972f1bd406aa9a327aab6ffe976                  -3                        0   \n",
       "0112ee46f71771164544eb00853355e1                  -3                        0   \n",
       "01a4a4222a1260baf8657b99173d2f40                  -7                        0   \n",
       "0335f6fb06cc3cb753b3a3de231ec55b                  -4                        0   \n",
       "033b151c88a7a8005f4dd90bb754e4c9                  -3                        1   \n",
       "\n",
       "                                  Sum_polarized_domains  \\\n",
       "Username                                                  \n",
       "00313972f1bd406aa9a327aab6ffe976                      3   \n",
       "0112ee46f71771164544eb00853355e1                      3   \n",
       "01a4a4222a1260baf8657b99173d2f40                      7   \n",
       "0335f6fb06cc3cb753b3a3de231ec55b                      4   \n",
       "033b151c88a7a8005f4dd90bb754e4c9                      4   \n",
       "\n",
       "                                  normalised_polarisation  \n",
       "Username                                                   \n",
       "00313972f1bd406aa9a327aab6ffe976                     -1.0  \n",
       "0112ee46f71771164544eb00853355e1                     -1.0  \n",
       "01a4a4222a1260baf8657b99173d2f40                     -1.0  \n",
       "0335f6fb06cc3cb753b3a3de231ec55b                     -1.0  \n",
       "033b151c88a7a8005f4dd90bb754e4c9                     -0.5  "
      ]
     },
     "execution_count": 136,
     "metadata": {},
     "output_type": "execute_result"
    }
   ],
   "source": [
    "df_tweetscov19_unique_users[df_tweetscov19_unique_users['Number_of_liberals']<-2].head()"
   ]
  },
  {
   "cell_type": "code",
   "execution_count": 137,
   "id": "219a2e56",
   "metadata": {},
   "outputs": [
    {
     "name": "stdout",
     "output_type": "stream",
     "text": [
      "Number of users with with at least one polarized domain:  12133\n"
     ]
    }
   ],
   "source": [
    "users_with_with_atleast_one_polarized_domain = df_tweetscov19_unique_users[df_tweetscov19_unique_users['Sum_polarized_domains']>0]\n",
    "\n",
    "print('Number of users with with at least one polarized domain: ',users_with_with_atleast_one_polarized_domain.shape[0])"
   ]
  },
  {
   "cell_type": "code",
   "execution_count": 138,
   "id": "93c3fbfd",
   "metadata": {},
   "outputs": [
    {
     "data": {
      "text/html": [
       "<div>\n",
       "<style scoped>\n",
       "    .dataframe tbody tr th:only-of-type {\n",
       "        vertical-align: middle;\n",
       "    }\n",
       "\n",
       "    .dataframe tbody tr th {\n",
       "        vertical-align: top;\n",
       "    }\n",
       "\n",
       "    .dataframe thead th {\n",
       "        text-align: right;\n",
       "    }\n",
       "</style>\n",
       "<table border=\"1\" class=\"dataframe\">\n",
       "  <thead>\n",
       "    <tr style=\"text-align: right;\">\n",
       "      <th></th>\n",
       "      <th>Number_of_liberals</th>\n",
       "      <th>Number_of_conservatives</th>\n",
       "      <th>Sum_polarized_domains</th>\n",
       "      <th>normalised_polarisation</th>\n",
       "    </tr>\n",
       "    <tr>\n",
       "      <th>Username</th>\n",
       "      <th></th>\n",
       "      <th></th>\n",
       "      <th></th>\n",
       "      <th></th>\n",
       "    </tr>\n",
       "  </thead>\n",
       "  <tbody>\n",
       "    <tr>\n",
       "      <th>00999e3df190e27161681c2cb71bbad2</th>\n",
       "      <td>-2</td>\n",
       "      <td>2</td>\n",
       "      <td>4</td>\n",
       "      <td>0.0</td>\n",
       "    </tr>\n",
       "    <tr>\n",
       "      <th>01ecf7cbb2eb224958d81aa9f768bfc2</th>\n",
       "      <td>-1</td>\n",
       "      <td>1</td>\n",
       "      <td>2</td>\n",
       "      <td>0.0</td>\n",
       "    </tr>\n",
       "    <tr>\n",
       "      <th>022786f0940c0ebea958fa4f69f64941</th>\n",
       "      <td>-1</td>\n",
       "      <td>1</td>\n",
       "      <td>2</td>\n",
       "      <td>0.0</td>\n",
       "    </tr>\n",
       "    <tr>\n",
       "      <th>048bc88471d40579f7cd29009311eb24</th>\n",
       "      <td>-1</td>\n",
       "      <td>1</td>\n",
       "      <td>2</td>\n",
       "      <td>0.0</td>\n",
       "    </tr>\n",
       "    <tr>\n",
       "      <th>0645753dd19a612198d068b2f891a81e</th>\n",
       "      <td>-1</td>\n",
       "      <td>1</td>\n",
       "      <td>2</td>\n",
       "      <td>0.0</td>\n",
       "    </tr>\n",
       "  </tbody>\n",
       "</table>\n",
       "</div>"
      ],
      "text/plain": [
       "                                  Number_of_liberals  Number_of_conservatives  \\\n",
       "Username                                                                        \n",
       "00999e3df190e27161681c2cb71bbad2                  -2                        2   \n",
       "01ecf7cbb2eb224958d81aa9f768bfc2                  -1                        1   \n",
       "022786f0940c0ebea958fa4f69f64941                  -1                        1   \n",
       "048bc88471d40579f7cd29009311eb24                  -1                        1   \n",
       "0645753dd19a612198d068b2f891a81e                  -1                        1   \n",
       "\n",
       "                                  Sum_polarized_domains  \\\n",
       "Username                                                  \n",
       "00999e3df190e27161681c2cb71bbad2                      4   \n",
       "01ecf7cbb2eb224958d81aa9f768bfc2                      2   \n",
       "022786f0940c0ebea958fa4f69f64941                      2   \n",
       "048bc88471d40579f7cd29009311eb24                      2   \n",
       "0645753dd19a612198d068b2f891a81e                      2   \n",
       "\n",
       "                                  normalised_polarisation  \n",
       "Username                                                   \n",
       "00999e3df190e27161681c2cb71bbad2                      0.0  \n",
       "01ecf7cbb2eb224958d81aa9f768bfc2                      0.0  \n",
       "022786f0940c0ebea958fa4f69f64941                      0.0  \n",
       "048bc88471d40579f7cd29009311eb24                      0.0  \n",
       "0645753dd19a612198d068b2f891a81e                      0.0  "
      ]
     },
     "execution_count": 138,
     "metadata": {},
     "output_type": "execute_result"
    }
   ],
   "source": [
    "users_with_with_atleast_one_polarized_domain[users_with_with_atleast_one_polarized_domain['normalised_polarisation'] == 0].head()"
   ]
  },
  {
   "cell_type": "code",
   "execution_count": 139,
   "id": "0d1817e1",
   "metadata": {},
   "outputs": [
    {
     "name": "stdout",
     "output_type": "stream",
     "text": [
      "Number of recognised polarized users:  11918\n"
     ]
    }
   ],
   "source": [
    "df_tweetscov19_unique_user_without_zero_polarisation = df_tweetscov19_unique_users[df_tweetscov19_unique_users['normalised_polarisation'] != 0]\n",
    "\n",
    "polarised_users = df_tweetscov19_unique_user_without_zero_polarisation.shape\n",
    "print('Number of recognised polarized users: ', polarised_users[0])"
   ]
  },
  {
   "cell_type": "code",
   "execution_count": 140,
   "id": "56c46f47",
   "metadata": {},
   "outputs": [
    {
     "name": "stdout",
     "output_type": "stream",
     "text": [
      "Number of conservatives :  2814\n"
     ]
    }
   ],
   "source": [
    "conservatives = df_tweetscov19_unique_user_without_zero_polarisation[df_tweetscov19_unique_user_without_zero_polarisation['normalised_polarisation'] > 0].shape\n",
    "\n",
    "print('Number of conservatives : ', conservatives[0])"
   ]
  },
  {
   "cell_type": "code",
   "execution_count": 141,
   "id": "cd8d71f7",
   "metadata": {},
   "outputs": [
    {
     "name": "stdout",
     "output_type": "stream",
     "text": [
      "Number of liberals :  9104\n"
     ]
    }
   ],
   "source": [
    "liberals = df_tweetscov19_unique_user_without_zero_polarisation[df_tweetscov19_unique_user_without_zero_polarisation['normalised_polarisation'] < 0].shape\n",
    "\n",
    "print('Number of liberals : ', liberals[0])"
   ]
  },
  {
   "cell_type": "code",
   "execution_count": 142,
   "id": "483fddcf",
   "metadata": {},
   "outputs": [
    {
     "data": {
      "text/html": [
       "<div>\n",
       "<style scoped>\n",
       "    .dataframe tbody tr th:only-of-type {\n",
       "        vertical-align: middle;\n",
       "    }\n",
       "\n",
       "    .dataframe tbody tr th {\n",
       "        vertical-align: top;\n",
       "    }\n",
       "\n",
       "    .dataframe thead th {\n",
       "        text-align: right;\n",
       "    }\n",
       "</style>\n",
       "<table border=\"1\" class=\"dataframe\">\n",
       "  <thead>\n",
       "    <tr style=\"text-align: right;\">\n",
       "      <th></th>\n",
       "      <th>Number_of_liberals</th>\n",
       "      <th>Number_of_conservatives</th>\n",
       "      <th>Sum_polarized_domains</th>\n",
       "      <th>normalised_polarisation</th>\n",
       "    </tr>\n",
       "    <tr>\n",
       "      <th>Username</th>\n",
       "      <th></th>\n",
       "      <th></th>\n",
       "      <th></th>\n",
       "      <th></th>\n",
       "    </tr>\n",
       "  </thead>\n",
       "  <tbody>\n",
       "    <tr>\n",
       "      <th>00053d9e1dc6f9efac2648ecd1d4ce03</th>\n",
       "      <td>-1</td>\n",
       "      <td>0</td>\n",
       "      <td>1</td>\n",
       "      <td>-1.0</td>\n",
       "    </tr>\n",
       "    <tr>\n",
       "      <th>0013aaa4da0461c58d0b1306af75af02</th>\n",
       "      <td>0</td>\n",
       "      <td>1</td>\n",
       "      <td>1</td>\n",
       "      <td>1.0</td>\n",
       "    </tr>\n",
       "    <tr>\n",
       "      <th>001c826d76c4bd475794920c8844b4db</th>\n",
       "      <td>-1</td>\n",
       "      <td>0</td>\n",
       "      <td>1</td>\n",
       "      <td>-1.0</td>\n",
       "    </tr>\n",
       "    <tr>\n",
       "      <th>002f31aacd0ff57c0e75383b4285c75a</th>\n",
       "      <td>-1</td>\n",
       "      <td>0</td>\n",
       "      <td>1</td>\n",
       "      <td>-1.0</td>\n",
       "    </tr>\n",
       "    <tr>\n",
       "      <th>00313972f1bd406aa9a327aab6ffe976</th>\n",
       "      <td>-3</td>\n",
       "      <td>0</td>\n",
       "      <td>3</td>\n",
       "      <td>-1.0</td>\n",
       "    </tr>\n",
       "  </tbody>\n",
       "</table>\n",
       "</div>"
      ],
      "text/plain": [
       "                                  Number_of_liberals  Number_of_conservatives  \\\n",
       "Username                                                                        \n",
       "00053d9e1dc6f9efac2648ecd1d4ce03                  -1                        0   \n",
       "0013aaa4da0461c58d0b1306af75af02                   0                        1   \n",
       "001c826d76c4bd475794920c8844b4db                  -1                        0   \n",
       "002f31aacd0ff57c0e75383b4285c75a                  -1                        0   \n",
       "00313972f1bd406aa9a327aab6ffe976                  -3                        0   \n",
       "\n",
       "                                  Sum_polarized_domains  \\\n",
       "Username                                                  \n",
       "00053d9e1dc6f9efac2648ecd1d4ce03                      1   \n",
       "0013aaa4da0461c58d0b1306af75af02                      1   \n",
       "001c826d76c4bd475794920c8844b4db                      1   \n",
       "002f31aacd0ff57c0e75383b4285c75a                      1   \n",
       "00313972f1bd406aa9a327aab6ffe976                      3   \n",
       "\n",
       "                                  normalised_polarisation  \n",
       "Username                                                   \n",
       "00053d9e1dc6f9efac2648ecd1d4ce03                     -1.0  \n",
       "0013aaa4da0461c58d0b1306af75af02                      1.0  \n",
       "001c826d76c4bd475794920c8844b4db                     -1.0  \n",
       "002f31aacd0ff57c0e75383b4285c75a                     -1.0  \n",
       "00313972f1bd406aa9a327aab6ffe976                     -1.0  "
      ]
     },
     "execution_count": 142,
     "metadata": {},
     "output_type": "execute_result"
    }
   ],
   "source": [
    "df_tweetscov19_unique_user_without_zero_polarisation.head()"
   ]
  },
  {
   "cell_type": "code",
   "execution_count": 143,
   "id": "f214ccbf",
   "metadata": {},
   "outputs": [
    {
     "data": {
      "text/html": [
       "<div>\n",
       "<style scoped>\n",
       "    .dataframe tbody tr th:only-of-type {\n",
       "        vertical-align: middle;\n",
       "    }\n",
       "\n",
       "    .dataframe tbody tr th {\n",
       "        vertical-align: top;\n",
       "    }\n",
       "\n",
       "    .dataframe thead th {\n",
       "        text-align: right;\n",
       "    }\n",
       "</style>\n",
       "<table border=\"1\" class=\"dataframe\">\n",
       "  <thead>\n",
       "    <tr style=\"text-align: right;\">\n",
       "      <th></th>\n",
       "      <th>Username</th>\n",
       "      <th>Number_of_liberals</th>\n",
       "      <th>Number_of_conservatives</th>\n",
       "      <th>Sum_polarized_domains</th>\n",
       "      <th>normalised_polarisation</th>\n",
       "    </tr>\n",
       "  </thead>\n",
       "  <tbody>\n",
       "    <tr>\n",
       "      <th>0</th>\n",
       "      <td>00053d9e1dc6f9efac2648ecd1d4ce03</td>\n",
       "      <td>-1</td>\n",
       "      <td>0</td>\n",
       "      <td>1</td>\n",
       "      <td>-1.0</td>\n",
       "    </tr>\n",
       "    <tr>\n",
       "      <th>1</th>\n",
       "      <td>0013aaa4da0461c58d0b1306af75af02</td>\n",
       "      <td>0</td>\n",
       "      <td>1</td>\n",
       "      <td>1</td>\n",
       "      <td>1.0</td>\n",
       "    </tr>\n",
       "    <tr>\n",
       "      <th>2</th>\n",
       "      <td>001c826d76c4bd475794920c8844b4db</td>\n",
       "      <td>-1</td>\n",
       "      <td>0</td>\n",
       "      <td>1</td>\n",
       "      <td>-1.0</td>\n",
       "    </tr>\n",
       "    <tr>\n",
       "      <th>3</th>\n",
       "      <td>002f31aacd0ff57c0e75383b4285c75a</td>\n",
       "      <td>-1</td>\n",
       "      <td>0</td>\n",
       "      <td>1</td>\n",
       "      <td>-1.0</td>\n",
       "    </tr>\n",
       "    <tr>\n",
       "      <th>4</th>\n",
       "      <td>00313972f1bd406aa9a327aab6ffe976</td>\n",
       "      <td>-3</td>\n",
       "      <td>0</td>\n",
       "      <td>3</td>\n",
       "      <td>-1.0</td>\n",
       "    </tr>\n",
       "  </tbody>\n",
       "</table>\n",
       "</div>"
      ],
      "text/plain": [
       "                           Username  Number_of_liberals  \\\n",
       "0  00053d9e1dc6f9efac2648ecd1d4ce03                  -1   \n",
       "1  0013aaa4da0461c58d0b1306af75af02                   0   \n",
       "2  001c826d76c4bd475794920c8844b4db                  -1   \n",
       "3  002f31aacd0ff57c0e75383b4285c75a                  -1   \n",
       "4  00313972f1bd406aa9a327aab6ffe976                  -3   \n",
       "\n",
       "   Number_of_conservatives  Sum_polarized_domains  normalised_polarisation  \n",
       "0                        0                      1                     -1.0  \n",
       "1                        1                      1                      1.0  \n",
       "2                        0                      1                     -1.0  \n",
       "3                        0                      1                     -1.0  \n",
       "4                        0                      3                     -1.0  "
      ]
     },
     "execution_count": 143,
     "metadata": {},
     "output_type": "execute_result"
    }
   ],
   "source": [
    "df_tweetscov19_unique_user_without_zero_polarisation = df_tweetscov19_unique_user_without_zero_polarisation.reset_index()\n",
    "df_tweetscov19_unique_user_without_zero_polarisation.head()"
   ]
  },
  {
   "cell_type": "markdown",
   "id": "ac611ab5",
   "metadata": {},
   "source": [
    "***"
   ]
  },
  {
   "cell_type": "markdown",
   "id": "086c6145",
   "metadata": {},
   "source": [
    "***"
   ]
  },
  {
   "cell_type": "code",
   "execution_count": 76,
   "id": "0e451df5",
   "metadata": {},
   "outputs": [],
   "source": [
    "# df_tweetscov19 = df_tweetscov19[['Tweet_Id', 'Number_of_liberals', 'Number_of_conservatives']]\n",
    "\n",
    "# path = '../data/tweetscov19_tweets_political_polarized.tsv'\n",
    "\n",
    "# with open(path, 'w', newline='', encoding=\"utf-8\") as out_file:\n",
    "#     tsv_writer = csv.writer(out_file, delimiter=\"\\t\")\n",
    "#     for idx, row in df_tweetscov19.iterrows():\n",
    "#         tsv_writer.writerow(row.values.tolist())"
   ]
  },
  {
   "cell_type": "markdown",
   "id": "50962d8a",
   "metadata": {},
   "source": [
    "***"
   ]
  },
  {
   "cell_type": "code",
   "execution_count": 144,
   "id": "60520188",
   "metadata": {},
   "outputs": [],
   "source": [
    "users_with_with_atleast_one_polarized_domain = users_with_with_atleast_one_polarized_domain.reset_index()\n",
    "users_with_with_atleast_one_polarized_domain.head()\n",
    "\n",
    "pfad_tsv3 = '../data/df_tweetscov19_november2019_political_polarized_useres.tsv'\n",
    "\n",
    "with open(pfad_tsv3, 'w', newline='', encoding=\"utf-8\") as out_file:\n",
    "    tsv_writer = csv.writer(out_file, delimiter=\"\\t\")\n",
    "    for idx, row in users_with_with_atleast_one_polarized_domain.iterrows():\n",
    "        tsv_writer.writerow(row.values.tolist())"
   ]
  },
  {
   "cell_type": "markdown",
   "id": "6778ebd9",
   "metadata": {},
   "source": [
    "***"
   ]
  },
  {
   "cell_type": "code",
   "execution_count": 95,
   "id": "4b791728",
   "metadata": {},
   "outputs": [],
   "source": [
    "pfad_tsv3 = '../data/tweetscov19_beforlockdown_political_polarized_useres.tsv'\n",
    "\n",
    "with open(pfad_tsv3, 'w', newline='', encoding=\"utf-8\") as out_file:\n",
    "    tsv_writer = csv.writer(out_file, delimiter=\"\\t\")\n",
    "    for idx, row in tweetscov19_beforlockdown_political_polarized_useres.iterrows():\n",
    "        tsv_writer.writerow(row.values.tolist())"
   ]
  },
  {
   "cell_type": "markdown",
   "id": "ce883c91",
   "metadata": {},
   "source": [
    "****"
   ]
  },
  {
   "cell_type": "markdown",
   "id": "b992bb16",
   "metadata": {},
   "source": [
    "## Polarisierungen berechnen\n",
    "### TweetsKB"
   ]
  },
  {
   "cell_type": "markdown",
   "id": "938c2746",
   "metadata": {},
   "source": [
    "***"
   ]
  },
  {
   "cell_type": "code",
   "execution_count": 19,
   "id": "fa181852",
   "metadata": {},
   "outputs": [
    {
     "name": "stdout",
     "output_type": "stream",
     "text": [
      "Shape : (1152147, 5)\n"
     ]
    },
    {
     "data": {
      "text/html": [
       "<div>\n",
       "<style scoped>\n",
       "    .dataframe tbody tr th:only-of-type {\n",
       "        vertical-align: middle;\n",
       "    }\n",
       "\n",
       "    .dataframe tbody tr th {\n",
       "        vertical-align: top;\n",
       "    }\n",
       "\n",
       "    .dataframe thead th {\n",
       "        text-align: right;\n",
       "    }\n",
       "</style>\n",
       "<table border=\"1\" class=\"dataframe\">\n",
       "  <thead>\n",
       "    <tr style=\"text-align: right;\">\n",
       "      <th></th>\n",
       "      <th>Tweet_Id</th>\n",
       "      <th>Username</th>\n",
       "      <th>Timestamp</th>\n",
       "      <th>Is_deleted</th>\n",
       "      <th>Domains</th>\n",
       "    </tr>\n",
       "  </thead>\n",
       "  <tbody>\n",
       "    <tr>\n",
       "      <th>0</th>\n",
       "      <td>1212161513924022277</td>\n",
       "      <td>jeffvandermeer</td>\n",
       "      <td>2020-01-01 00:00:00+00:00</td>\n",
       "      <td>False</td>\n",
       "      <td>0</td>\n",
       "    </tr>\n",
       "    <tr>\n",
       "      <th>1</th>\n",
       "      <td>1212161515823853568</td>\n",
       "      <td>BarclaysFAWSL</td>\n",
       "      <td>2020-01-01 00:00:00+00:00</td>\n",
       "      <td>False</td>\n",
       "      <td>0</td>\n",
       "    </tr>\n",
       "    <tr>\n",
       "      <th>2</th>\n",
       "      <td>1212161513248743424</td>\n",
       "      <td>Reuters</td>\n",
       "      <td>2020-01-01 00:00:00+00:00</td>\n",
       "      <td>False</td>\n",
       "      <td>0</td>\n",
       "    </tr>\n",
       "    <tr>\n",
       "      <th>3</th>\n",
       "      <td>1212161513215021056</td>\n",
       "      <td>ArcSystemWorksU</td>\n",
       "      <td>2020-01-01 00:00:00+00:00</td>\n",
       "      <td>False</td>\n",
       "      <td>0</td>\n",
       "    </tr>\n",
       "    <tr>\n",
       "      <th>4</th>\n",
       "      <td>1212161514913849346</td>\n",
       "      <td>itdoesnteggs</td>\n",
       "      <td>2020-01-01 00:00:00+00:00</td>\n",
       "      <td>False</td>\n",
       "      <td>0</td>\n",
       "    </tr>\n",
       "  </tbody>\n",
       "</table>\n",
       "</div>"
      ],
      "text/plain": [
       "              Tweet_Id         Username                  Timestamp  \\\n",
       "0  1212161513924022277   jeffvandermeer  2020-01-01 00:00:00+00:00   \n",
       "1  1212161515823853568    BarclaysFAWSL  2020-01-01 00:00:00+00:00   \n",
       "2  1212161513248743424          Reuters  2020-01-01 00:00:00+00:00   \n",
       "3  1212161513215021056  ArcSystemWorksU  2020-01-01 00:00:00+00:00   \n",
       "4  1212161514913849346     itdoesnteggs  2020-01-01 00:00:00+00:00   \n",
       "\n",
       "   Is_deleted Domains  \n",
       "0       False       0  \n",
       "1       False       0  \n",
       "2       False       0  \n",
       "3       False       0  \n",
       "4       False       0  "
      ]
     },
     "execution_count": 19,
     "metadata": {},
     "output_type": "execute_result"
    }
   ],
   "source": [
    "pfad_tsv = '../data/df_tweetskb_januar2020.tsv'\n",
    "\n",
    "df_tweetskb = pd.read_csv(pfad_tsv, sep='\\t', error_bad_lines=False, names=['Tweet_Id', 'Username','Timestamp', 'Is_deleted', 'Domains'])\n",
    "\n",
    "print('Shape :', df_tweetskb.shape)\n",
    "df_tweetskb.head()"
   ]
  },
  {
   "cell_type": "code",
   "execution_count": 20,
   "id": "65736cb8",
   "metadata": {},
   "outputs": [],
   "source": [
    "df_tweetskb['Domains'] = df_tweetskb['Domains'].astype(str)\n",
    "\n",
    "df_tweetskb['Number_of_liberals'] = df_tweetskb.apply(lambda row: get_number_of_liberal_domains(row['Domains']) if (row['Domains'] != '0') else 0, axis=1)"
   ]
  },
  {
   "cell_type": "code",
   "execution_count": 21,
   "id": "9084e5db",
   "metadata": {},
   "outputs": [
    {
     "name": "stdout",
     "output_type": "stream",
     "text": [
      "Number of Tweets with at least one liberal domain: 12286\n"
     ]
    }
   ],
   "source": [
    "liberal_tweets = df_tweetskb[df_tweetskb['Number_of_liberals'] < 0].shape\n",
    "\n",
    "print('Number of Tweets with at least one liberal domain:' , liberal_tweets[0])"
   ]
  },
  {
   "cell_type": "code",
   "execution_count": 22,
   "id": "2034abfa",
   "metadata": {},
   "outputs": [],
   "source": [
    "df_tweetskb['Number_of_conservatives'] = df_tweetskb.apply(lambda row: get_number_of_conservative_domains(row['Domains']) if (row['Domains'] != '0') else 0, axis=1)"
   ]
  },
  {
   "cell_type": "code",
   "execution_count": 23,
   "id": "de7ced45",
   "metadata": {},
   "outputs": [
    {
     "name": "stdout",
     "output_type": "stream",
     "text": [
      "Number of Tweets with at least one conservative domain: 4066\n"
     ]
    }
   ],
   "source": [
    "conservative_tweets = df_tweetskb[df_tweetskb['Number_of_conservatives'] > 0].shape\n",
    "\n",
    "print('Number of Tweets with at least one conservative domain:' , conservative_tweets[0])"
   ]
  },
  {
   "cell_type": "code",
   "execution_count": 24,
   "id": "cdbcd873",
   "metadata": {},
   "outputs": [],
   "source": [
    "df_tweetskb_unique_users = df_tweetskb.groupby('Username')[ 'Number_of_liberals', 'Number_of_conservatives'].sum()"
   ]
  },
  {
   "cell_type": "code",
   "execution_count": 25,
   "id": "f44d5424",
   "metadata": {},
   "outputs": [
    {
     "name": "stdout",
     "output_type": "stream",
     "text": [
      "Number of unique useres in TweetsKB:  886760\n"
     ]
    }
   ],
   "source": [
    "unique_users= df_tweetskb_unique_users.shape\n",
    "\n",
    "print('Number of unique useres in TweetsKB: ', unique_users[0])"
   ]
  },
  {
   "cell_type": "code",
   "execution_count": 26,
   "id": "7806d253",
   "metadata": {},
   "outputs": [
    {
     "data": {
      "text/html": [
       "<div>\n",
       "<style scoped>\n",
       "    .dataframe tbody tr th:only-of-type {\n",
       "        vertical-align: middle;\n",
       "    }\n",
       "\n",
       "    .dataframe tbody tr th {\n",
       "        vertical-align: top;\n",
       "    }\n",
       "\n",
       "    .dataframe thead th {\n",
       "        text-align: right;\n",
       "    }\n",
       "</style>\n",
       "<table border=\"1\" class=\"dataframe\">\n",
       "  <thead>\n",
       "    <tr style=\"text-align: right;\">\n",
       "      <th></th>\n",
       "      <th>Number_of_liberals</th>\n",
       "      <th>Number_of_conservatives</th>\n",
       "    </tr>\n",
       "    <tr>\n",
       "      <th>Username</th>\n",
       "      <th></th>\n",
       "      <th></th>\n",
       "    </tr>\n",
       "  </thead>\n",
       "  <tbody>\n",
       "    <tr>\n",
       "      <th>000000911a</th>\n",
       "      <td>0</td>\n",
       "      <td>0</td>\n",
       "    </tr>\n",
       "    <tr>\n",
       "      <th>000000_aaaaaaa</th>\n",
       "      <td>0</td>\n",
       "      <td>0</td>\n",
       "    </tr>\n",
       "    <tr>\n",
       "      <th>00000codename</th>\n",
       "      <td>0</td>\n",
       "      <td>0</td>\n",
       "    </tr>\n",
       "    <tr>\n",
       "      <th>00001smhq</th>\n",
       "      <td>0</td>\n",
       "      <td>0</td>\n",
       "    </tr>\n",
       "    <tr>\n",
       "      <th>00007soni</th>\n",
       "      <td>0</td>\n",
       "      <td>0</td>\n",
       "    </tr>\n",
       "  </tbody>\n",
       "</table>\n",
       "</div>"
      ],
      "text/plain": [
       "                Number_of_liberals  Number_of_conservatives\n",
       "Username                                                   \n",
       "000000911a                       0                        0\n",
       "000000_aaaaaaa                   0                        0\n",
       "00000codename                    0                        0\n",
       "00001smhq                        0                        0\n",
       "00007soni                        0                        0"
      ]
     },
     "execution_count": 26,
     "metadata": {},
     "output_type": "execute_result"
    }
   ],
   "source": [
    "df_tweetskb_unique_users.head()"
   ]
  },
  {
   "cell_type": "code",
   "execution_count": 27,
   "id": "f739f037",
   "metadata": {},
   "outputs": [],
   "source": [
    "df_tweetskb_unique_users['Sum_polarized_domains'] = df_tweetskb_unique_users.apply(lambda row: ( (row['Number_of_conservatives'] - row['Number_of_liberals'])), axis=1)"
   ]
  },
  {
   "cell_type": "code",
   "execution_count": 28,
   "id": "c542907a",
   "metadata": {},
   "outputs": [
    {
     "data": {
      "text/html": [
       "<div>\n",
       "<style scoped>\n",
       "    .dataframe tbody tr th:only-of-type {\n",
       "        vertical-align: middle;\n",
       "    }\n",
       "\n",
       "    .dataframe tbody tr th {\n",
       "        vertical-align: top;\n",
       "    }\n",
       "\n",
       "    .dataframe thead th {\n",
       "        text-align: right;\n",
       "    }\n",
       "</style>\n",
       "<table border=\"1\" class=\"dataframe\">\n",
       "  <thead>\n",
       "    <tr style=\"text-align: right;\">\n",
       "      <th></th>\n",
       "      <th>Number_of_liberals</th>\n",
       "      <th>Number_of_conservatives</th>\n",
       "      <th>Sum_polarized_domains</th>\n",
       "    </tr>\n",
       "    <tr>\n",
       "      <th>Username</th>\n",
       "      <th></th>\n",
       "      <th></th>\n",
       "      <th></th>\n",
       "    </tr>\n",
       "  </thead>\n",
       "  <tbody>\n",
       "    <tr>\n",
       "      <th>2021_free</th>\n",
       "      <td>-3</td>\n",
       "      <td>0</td>\n",
       "      <td>3</td>\n",
       "    </tr>\n",
       "    <tr>\n",
       "      <th>415holgate</th>\n",
       "      <td>-10</td>\n",
       "      <td>0</td>\n",
       "      <td>10</td>\n",
       "    </tr>\n",
       "    <tr>\n",
       "      <th>4PawShop</th>\n",
       "      <td>-12</td>\n",
       "      <td>4</td>\n",
       "      <td>16</td>\n",
       "    </tr>\n",
       "    <tr>\n",
       "      <th>5_2blue</th>\n",
       "      <td>-5</td>\n",
       "      <td>0</td>\n",
       "      <td>5</td>\n",
       "    </tr>\n",
       "    <tr>\n",
       "      <th>770CHQR</th>\n",
       "      <td>-4</td>\n",
       "      <td>0</td>\n",
       "      <td>4</td>\n",
       "    </tr>\n",
       "  </tbody>\n",
       "</table>\n",
       "</div>"
      ],
      "text/plain": [
       "            Number_of_liberals  Number_of_conservatives  Sum_polarized_domains\n",
       "Username                                                                      \n",
       "2021_free                   -3                        0                      3\n",
       "415holgate                 -10                        0                     10\n",
       "4PawShop                   -12                        4                     16\n",
       "5_2blue                     -5                        0                      5\n",
       "770CHQR                     -4                        0                      4"
      ]
     },
     "execution_count": 28,
     "metadata": {},
     "output_type": "execute_result"
    }
   ],
   "source": [
    "df_tweetskb_unique_users[df_tweetskb_unique_users['Number_of_liberals']<-2].head()"
   ]
  },
  {
   "cell_type": "code",
   "execution_count": 29,
   "id": "0c0782f8",
   "metadata": {},
   "outputs": [],
   "source": [
    "df_tweetskb_unique_users['normalised_polarisation'] = df_tweetskb_unique_users.apply(lambda row: (row['Number_of_liberals'] + row['Number_of_conservatives']) / row['Sum_polarized_domains'] if row['Sum_polarized_domains'] != 0 else 0, axis=1)"
   ]
  },
  {
   "cell_type": "code",
   "execution_count": 30,
   "id": "1da285ea",
   "metadata": {},
   "outputs": [
    {
     "name": "stdout",
     "output_type": "stream",
     "text": [
      "df tweetskb unique users with atleast one polarized domain:  11568\n"
     ]
    }
   ],
   "source": [
    "df_tweetskb_unique_users_with_atleast_one_polarized_domain= df_tweetskb_unique_users[df_tweetskb_unique_users['Sum_polarized_domains'] > 0]\n",
    "\n",
    "print('df tweetskb unique users with atleast one polarized domain: ', df_tweetskb_unique_users_with_atleast_one_polarized_domain.shape[0])"
   ]
  },
  {
   "cell_type": "code",
   "execution_count": 31,
   "id": "36f169b1",
   "metadata": {},
   "outputs": [
    {
     "data": {
      "text/html": [
       "<div>\n",
       "<style scoped>\n",
       "    .dataframe tbody tr th:only-of-type {\n",
       "        vertical-align: middle;\n",
       "    }\n",
       "\n",
       "    .dataframe tbody tr th {\n",
       "        vertical-align: top;\n",
       "    }\n",
       "\n",
       "    .dataframe thead th {\n",
       "        text-align: right;\n",
       "    }\n",
       "</style>\n",
       "<table border=\"1\" class=\"dataframe\">\n",
       "  <thead>\n",
       "    <tr style=\"text-align: right;\">\n",
       "      <th></th>\n",
       "      <th>Number_of_liberals</th>\n",
       "      <th>Number_of_conservatives</th>\n",
       "      <th>Sum_polarized_domains</th>\n",
       "      <th>normalised_polarisation</th>\n",
       "    </tr>\n",
       "    <tr>\n",
       "      <th>Username</th>\n",
       "      <th></th>\n",
       "      <th></th>\n",
       "      <th></th>\n",
       "      <th></th>\n",
       "    </tr>\n",
       "  </thead>\n",
       "  <tbody>\n",
       "    <tr>\n",
       "      <th>7SealsOfTheEnd</th>\n",
       "      <td>-1</td>\n",
       "      <td>1</td>\n",
       "      <td>2</td>\n",
       "      <td>0.0</td>\n",
       "    </tr>\n",
       "    <tr>\n",
       "      <th>ACTBrigitte</th>\n",
       "      <td>-1</td>\n",
       "      <td>1</td>\n",
       "      <td>2</td>\n",
       "      <td>0.0</td>\n",
       "    </tr>\n",
       "    <tr>\n",
       "      <th>AamAadmiParty</th>\n",
       "      <td>-1</td>\n",
       "      <td>1</td>\n",
       "      <td>2</td>\n",
       "      <td>0.0</td>\n",
       "    </tr>\n",
       "    <tr>\n",
       "      <th>AaronBastani</th>\n",
       "      <td>-1</td>\n",
       "      <td>1</td>\n",
       "      <td>2</td>\n",
       "      <td>0.0</td>\n",
       "    </tr>\n",
       "    <tr>\n",
       "      <th>AllBRKNews</th>\n",
       "      <td>-1</td>\n",
       "      <td>1</td>\n",
       "      <td>2</td>\n",
       "      <td>0.0</td>\n",
       "    </tr>\n",
       "  </tbody>\n",
       "</table>\n",
       "</div>"
      ],
      "text/plain": [
       "                Number_of_liberals  Number_of_conservatives  \\\n",
       "Username                                                      \n",
       "7SealsOfTheEnd                  -1                        1   \n",
       "ACTBrigitte                     -1                        1   \n",
       "AamAadmiParty                   -1                        1   \n",
       "AaronBastani                    -1                        1   \n",
       "AllBRKNews                      -1                        1   \n",
       "\n",
       "                Sum_polarized_domains  normalised_polarisation  \n",
       "Username                                                        \n",
       "7SealsOfTheEnd                      2                      0.0  \n",
       "ACTBrigitte                         2                      0.0  \n",
       "AamAadmiParty                       2                      0.0  \n",
       "AaronBastani                        2                      0.0  \n",
       "AllBRKNews                          2                      0.0  "
      ]
     },
     "execution_count": 31,
     "metadata": {},
     "output_type": "execute_result"
    }
   ],
   "source": [
    "df_tweetskb_unique_users_with_atleast_one_polarized_domain[df_tweetskb_unique_users_with_atleast_one_polarized_domain['normalised_polarisation']==0].head()"
   ]
  },
  {
   "cell_type": "code",
   "execution_count": 32,
   "id": "406ee92d",
   "metadata": {},
   "outputs": [],
   "source": [
    "# df_tweetskb_unique_users_without_zero_polarisation = df_tweetskb_unique_users[df_tweetskb_unique_users['normalised_polarisation'] != 0]"
   ]
  },
  {
   "cell_type": "code",
   "execution_count": 33,
   "id": "31a8d705",
   "metadata": {},
   "outputs": [],
   "source": [
    "# polarised_users = df_tweetskb_unique_users_without_zero_polarisation.shape\n",
    "\n",
    "# print('Number of recognised polarized users', polarised_users[0])"
   ]
  },
  {
   "cell_type": "code",
   "execution_count": 55,
   "id": "3dad0b9b",
   "metadata": {},
   "outputs": [
    {
     "name": "stdout",
     "output_type": "stream",
     "text": [
      "Number of recognised conservative users:  9975\n"
     ]
    }
   ],
   "source": [
    "conservative_users = df_tweetskb_unique_users_without_zero_polarisation[df_tweetskb_unique_users_without_zero_polarisation['normalised_polarisation'] > 0].shape\n",
    "\n",
    "print('Number of recognised conservative users: ', conservative_users[0])"
   ]
  },
  {
   "cell_type": "code",
   "execution_count": 56,
   "id": "fab1fb89",
   "metadata": {},
   "outputs": [
    {
     "name": "stdout",
     "output_type": "stream",
     "text": [
      "Number of recognised liberal users:  32490\n"
     ]
    }
   ],
   "source": [
    "liberal_users = df_tweetskb_unique_users_without_zero_polarisation[df_tweetskb_unique_users_without_zero_polarisation['normalised_polarisation'] < 0].shape\n",
    "\n",
    "print('Number of recognised liberal users: ', liberal_users[0])"
   ]
  },
  {
   "cell_type": "code",
   "execution_count": 92,
   "id": "1d80d615",
   "metadata": {},
   "outputs": [
    {
     "data": {
      "text/html": [
       "<div>\n",
       "<style scoped>\n",
       "    .dataframe tbody tr th:only-of-type {\n",
       "        vertical-align: middle;\n",
       "    }\n",
       "\n",
       "    .dataframe tbody tr th {\n",
       "        vertical-align: top;\n",
       "    }\n",
       "\n",
       "    .dataframe thead th {\n",
       "        text-align: right;\n",
       "    }\n",
       "</style>\n",
       "<table border=\"1\" class=\"dataframe\">\n",
       "  <thead>\n",
       "    <tr style=\"text-align: right;\">\n",
       "      <th></th>\n",
       "      <th>Username</th>\n",
       "      <th>Number_of_liberals</th>\n",
       "      <th>Number_of_conservatives</th>\n",
       "      <th>Sum_polarized_domains</th>\n",
       "      <th>normalised_polarisation</th>\n",
       "    </tr>\n",
       "  </thead>\n",
       "  <tbody>\n",
       "    <tr>\n",
       "      <th>0</th>\n",
       "      <td>0000Condor</td>\n",
       "      <td>-1</td>\n",
       "      <td>0</td>\n",
       "      <td>1</td>\n",
       "      <td>-1.0</td>\n",
       "    </tr>\n",
       "    <tr>\n",
       "      <th>1</th>\n",
       "      <td>007newsandviews</td>\n",
       "      <td>-1</td>\n",
       "      <td>0</td>\n",
       "      <td>1</td>\n",
       "      <td>-1.0</td>\n",
       "    </tr>\n",
       "    <tr>\n",
       "      <th>2</th>\n",
       "      <td>007plus100</td>\n",
       "      <td>-1</td>\n",
       "      <td>0</td>\n",
       "      <td>1</td>\n",
       "      <td>-1.0</td>\n",
       "    </tr>\n",
       "    <tr>\n",
       "      <th>3</th>\n",
       "      <td>00CelebNewz00</td>\n",
       "      <td>-1</td>\n",
       "      <td>0</td>\n",
       "      <td>1</td>\n",
       "      <td>-1.0</td>\n",
       "    </tr>\n",
       "    <tr>\n",
       "      <th>4</th>\n",
       "      <td>00Mit89</td>\n",
       "      <td>0</td>\n",
       "      <td>1</td>\n",
       "      <td>1</td>\n",
       "      <td>1.0</td>\n",
       "    </tr>\n",
       "  </tbody>\n",
       "</table>\n",
       "</div>"
      ],
      "text/plain": [
       "          Username  Number_of_liberals  Number_of_conservatives  \\\n",
       "0       0000Condor                  -1                        0   \n",
       "1  007newsandviews                  -1                        0   \n",
       "2       007plus100                  -1                        0   \n",
       "3    00CelebNewz00                  -1                        0   \n",
       "4          00Mit89                   0                        1   \n",
       "\n",
       "   Sum_polarized_domains  normalised_polarisation  \n",
       "0                      1                     -1.0  \n",
       "1                      1                     -1.0  \n",
       "2                      1                     -1.0  \n",
       "3                      1                     -1.0  \n",
       "4                      1                      1.0  "
      ]
     },
     "execution_count": 92,
     "metadata": {},
     "output_type": "execute_result"
    }
   ],
   "source": [
    "df_tweetskb_unique_users_without_zero_polarisation = df_tweetskb_unique_users_without_zero_polarisation.reset_index()\n",
    "df_tweetskb_unique_users_without_zero_polarisation.head()"
   ]
  },
  {
   "cell_type": "markdown",
   "id": "ee630931",
   "metadata": {},
   "source": [
    "***"
   ]
  },
  {
   "cell_type": "markdown",
   "id": "122f970a",
   "metadata": {},
   "source": [
    "***"
   ]
  },
  {
   "cell_type": "code",
   "execution_count": 93,
   "id": "f2ff365f",
   "metadata": {},
   "outputs": [],
   "source": [
    "df_tweetskb = df_tweetskb[['Tweet_Id', 'Number_of_liberals', 'Number_of_conservatives']]\n",
    "\n",
    "path = '../data/tweetskb_tweet_political_polarized.tsv'\n",
    "\n",
    "with open(path, 'w', newline='', encoding=\"utf-8\") as out_file:\n",
    "    tsv_writer = csv.writer(out_file, delimiter=\"\\t\")\n",
    "    for idx, row in df_tweetskb.iterrows():\n",
    "        tsv_writer.writerow(row.values.tolist())"
   ]
  },
  {
   "cell_type": "markdown",
   "id": "4ec32870",
   "metadata": {},
   "source": [
    "***"
   ]
  },
  {
   "cell_type": "code",
   "execution_count": 33,
   "id": "89fe5b9e",
   "metadata": {},
   "outputs": [],
   "source": [
    "df_tweetskb_unique_users_with_atleast_one_polarized_domain = df_tweetskb_unique_users_with_atleast_one_polarized_domain.reset_index()\n",
    "df_tweetskb_unique_users_with_atleast_one_polarized_domain.head()\n",
    "\n",
    "pfad_tsv3 = '../data/df_tweetskb_januar2020_political_polarized_users.tsv'\n",
    "\n",
    "with open(pfad_tsv3, 'w', newline='', encoding=\"utf-8\") as out_file:\n",
    "    tsv_writer = csv.writer(out_file, delimiter=\"\\t\")\n",
    "    for idx, row in df_tweetskb_unique_users_with_atleast_one_polarized_domain.iterrows():\n",
    "        tsv_writer.writerow(row.values.tolist())"
   ]
  },
  {
   "cell_type": "markdown",
   "id": "745d1c29",
   "metadata": {},
   "source": [
    "***"
   ]
  },
  {
   "cell_type": "code",
   "execution_count": 129,
   "id": "d3a47c93",
   "metadata": {},
   "outputs": [],
   "source": [
    "pfad_tsv3 = '../data/tweetskb_political_polarized_users.tsv'\n",
    "\n",
    "with open(pfad_tsv3, 'w', newline='', encoding=\"utf-8\") as out_file:\n",
    "    tsv_writer = csv.writer(out_file, delimiter=\"\\t\")\n",
    "    for idx, row in df_tweetskb_unique_users_without_zero_polarisation.iterrows():\n",
    "        tsv_writer.writerow(row.values.tolist())"
   ]
  }
 ],
 "metadata": {
  "kernelspec": {
   "display_name": "Python 3",
   "language": "python",
   "name": "python3"
  },
  "language_info": {
   "codemirror_mode": {
    "name": "ipython",
    "version": 3
   },
   "file_extension": ".py",
   "mimetype": "text/x-python",
   "name": "python",
   "nbconvert_exporter": "python",
   "pygments_lexer": "ipython3",
   "version": "3.8.8"
  }
 },
 "nbformat": 4,
 "nbformat_minor": 5
}
