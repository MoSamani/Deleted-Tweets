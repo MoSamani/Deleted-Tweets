{
 "cells": [
  {
   "cell_type": "code",
   "execution_count": 13,
   "id": "8b06fe21",
   "metadata": {},
   "outputs": [],
   "source": [
    "#CSV Bibliothek importieren \n",
    "import csv\n",
    "#Pandas importieren und als pd bezeichnen\n",
    "import pandas as pd\n",
    "#Numpy importieren und als np bezeichnen \n",
    "import numpy as np\n",
    "#Json Biliothek importieren\n",
    "import json\n",
    "#Obere Schranke für die Größe der Daten auf 100,000,000 setzen  \n",
    "csv.field_size_limit(100000000)\n",
    "#Maximale Anzahl von Zeilen und Spalten Zeigen \n",
    "pd.options.display.max_columns = None\n",
    "pd.options.display.max_rows = None\n",
    "#Um die Zeiträume bearbeiten zu können\n",
    "from datetime import datetime\n",
    "#Seaborn für die Plot importieren\n",
    "import seaborn as sns\n",
    "#matplotlib Importieren und als plt bezeichnen\n",
    "import matplotlib.pyplot as plt\n",
    "#Macht die Plots inline\n",
    "%matplotlib inline \n",
    "#dates importieren, um Zeitstempel bearbeiten zu können\n",
    "import matplotlib.dates as mdates\n",
    "#tick importieren\n",
    "import matplotlib.ticker as tick\n",
    "#Die Nachkommastellen auf 4 Zashlen einschränken\n",
    "pd.options.display.float_format = '{:.4f}'.format\n",
    "\n",
    "import matplotlib.ticker                         # here's where the formatter is\n",
    "from matplotlib.ticker import ScalarFormatter\n",
    "from matplotlib import ticker\n"
   ]
  },
  {
   "cell_type": "markdown",
   "id": "49f918fb",
   "metadata": {},
   "source": [
    "****"
   ]
  },
  {
   "cell_type": "code",
   "execution_count": 14,
   "id": "98c15d57",
   "metadata": {},
   "outputs": [
    {
     "name": "stdout",
     "output_type": "stream",
     "text": [
      "Shape : (2216076, 7)\n"
     ]
    },
    {
     "data": {
      "text/html": [
       "<div>\n",
       "<style scoped>\n",
       "    .dataframe tbody tr th:only-of-type {\n",
       "        vertical-align: middle;\n",
       "    }\n",
       "\n",
       "    .dataframe tbody tr th {\n",
       "        vertical-align: top;\n",
       "    }\n",
       "\n",
       "    .dataframe thead th {\n",
       "        text-align: right;\n",
       "    }\n",
       "</style>\n",
       "<table border=\"1\" class=\"dataframe\">\n",
       "  <thead>\n",
       "    <tr style=\"text-align: right;\">\n",
       "      <th></th>\n",
       "      <th>Username</th>\n",
       "      <th>politic</th>\n",
       "      <th>science</th>\n",
       "      <th>moderacy</th>\n",
       "      <th>Deletion_ratio</th>\n",
       "      <th>Reputation</th>\n",
       "      <th>is_deleted</th>\n",
       "    </tr>\n",
       "  </thead>\n",
       "  <tbody>\n",
       "    <tr>\n",
       "      <th>0</th>\n",
       "      <td>00008ca06f863b962f72cc9167d7978a</td>\n",
       "      <td>-1.0000</td>\n",
       "      <td>0.0000</td>\n",
       "      <td>-1.0000</td>\n",
       "      <td>0.0000</td>\n",
       "      <td>0.1828</td>\n",
       "      <td>False</td>\n",
       "    </tr>\n",
       "    <tr>\n",
       "      <th>1</th>\n",
       "      <td>00008de3f61d5f04329ee6867d5475b9</td>\n",
       "      <td>-1.0000</td>\n",
       "      <td>0.0000</td>\n",
       "      <td>1.0000</td>\n",
       "      <td>1.0000</td>\n",
       "      <td>0.6003</td>\n",
       "      <td>True</td>\n",
       "    </tr>\n",
       "    <tr>\n",
       "      <th>2</th>\n",
       "      <td>00012a177385cd6e7590e2acb3f206e3</td>\n",
       "      <td>-1.0000</td>\n",
       "      <td>0.0000</td>\n",
       "      <td>1.0000</td>\n",
       "      <td>1.0000</td>\n",
       "      <td>0.3327</td>\n",
       "      <td>True</td>\n",
       "    </tr>\n",
       "    <tr>\n",
       "      <th>3</th>\n",
       "      <td>00012a177385cd6e7590e2acb3f206e3</td>\n",
       "      <td>-1.0000</td>\n",
       "      <td>0.0000</td>\n",
       "      <td>1.0000</td>\n",
       "      <td>1.0000</td>\n",
       "      <td>0.3327</td>\n",
       "      <td>True</td>\n",
       "    </tr>\n",
       "    <tr>\n",
       "      <th>4</th>\n",
       "      <td>00016e20a3865cb74581803c27d27b89</td>\n",
       "      <td>-1.0000</td>\n",
       "      <td>0.0000</td>\n",
       "      <td>-1.0000</td>\n",
       "      <td>0.0000</td>\n",
       "      <td>0.5896</td>\n",
       "      <td>False</td>\n",
       "    </tr>\n",
       "  </tbody>\n",
       "</table>\n",
       "</div>"
      ],
      "text/plain": [
       "                           Username  politic  science  moderacy  \\\n",
       "0  00008ca06f863b962f72cc9167d7978a  -1.0000   0.0000   -1.0000   \n",
       "1  00008de3f61d5f04329ee6867d5475b9  -1.0000   0.0000    1.0000   \n",
       "2  00012a177385cd6e7590e2acb3f206e3  -1.0000   0.0000    1.0000   \n",
       "3  00012a177385cd6e7590e2acb3f206e3  -1.0000   0.0000    1.0000   \n",
       "4  00016e20a3865cb74581803c27d27b89  -1.0000   0.0000   -1.0000   \n",
       "\n",
       "   Deletion_ratio  Reputation  is_deleted  \n",
       "0          0.0000      0.1828       False  \n",
       "1          1.0000      0.6003        True  \n",
       "2          1.0000      0.3327        True  \n",
       "3          1.0000      0.3327        True  \n",
       "4          0.0000      0.5896       False  "
      ]
     },
     "execution_count": 14,
     "metadata": {},
     "output_type": "execute_result"
    }
   ],
   "source": [
    "path = '../data/tweetsCov19_polarized_users_deletionratio_reputation.tsv'\n",
    "\n",
    "df_tweetscov19 = pd.read_csv(path, sep='\\t', error_bad_lines=False, names=[ \"Username\", 'politic', 'science', 'moderacy', 'Deletion_ratio', 'Reputation', 'is_deleted'])\n",
    "\n",
    "print('Shape :', df_tweetscov19.shape)\n",
    "df_tweetscov19.head()"
   ]
  },
  {
   "cell_type": "code",
   "execution_count": 15,
   "id": "a2a1875f",
   "metadata": {},
   "outputs": [
    {
     "name": "stdout",
     "output_type": "stream",
     "text": [
      "Shape:  (1973156, 7)\n"
     ]
    },
    {
     "data": {
      "text/html": [
       "<div>\n",
       "<style scoped>\n",
       "    .dataframe tbody tr th:only-of-type {\n",
       "        vertical-align: middle;\n",
       "    }\n",
       "\n",
       "    .dataframe tbody tr th {\n",
       "        vertical-align: top;\n",
       "    }\n",
       "\n",
       "    .dataframe thead th {\n",
       "        text-align: right;\n",
       "    }\n",
       "</style>\n",
       "<table border=\"1\" class=\"dataframe\">\n",
       "  <thead>\n",
       "    <tr style=\"text-align: right;\">\n",
       "      <th></th>\n",
       "      <th>Username</th>\n",
       "      <th>politic</th>\n",
       "      <th>science</th>\n",
       "      <th>moderacy</th>\n",
       "      <th>Deletion_ratio</th>\n",
       "      <th>Reputation</th>\n",
       "      <th>is_deleted</th>\n",
       "    </tr>\n",
       "  </thead>\n",
       "  <tbody>\n",
       "    <tr>\n",
       "      <th>0</th>\n",
       "      <td>00008ca06f863b962f72cc9167d7978a</td>\n",
       "      <td>-1.0000</td>\n",
       "      <td>0.0000</td>\n",
       "      <td>-1.0000</td>\n",
       "      <td>0.0000</td>\n",
       "      <td>0.1828</td>\n",
       "      <td>False</td>\n",
       "    </tr>\n",
       "    <tr>\n",
       "      <th>1</th>\n",
       "      <td>00008de3f61d5f04329ee6867d5475b9</td>\n",
       "      <td>-1.0000</td>\n",
       "      <td>0.0000</td>\n",
       "      <td>1.0000</td>\n",
       "      <td>1.0000</td>\n",
       "      <td>0.6003</td>\n",
       "      <td>True</td>\n",
       "    </tr>\n",
       "    <tr>\n",
       "      <th>2</th>\n",
       "      <td>00012a177385cd6e7590e2acb3f206e3</td>\n",
       "      <td>-1.0000</td>\n",
       "      <td>0.0000</td>\n",
       "      <td>1.0000</td>\n",
       "      <td>1.0000</td>\n",
       "      <td>0.3327</td>\n",
       "      <td>True</td>\n",
       "    </tr>\n",
       "    <tr>\n",
       "      <th>3</th>\n",
       "      <td>00012a177385cd6e7590e2acb3f206e3</td>\n",
       "      <td>-1.0000</td>\n",
       "      <td>0.0000</td>\n",
       "      <td>1.0000</td>\n",
       "      <td>1.0000</td>\n",
       "      <td>0.3327</td>\n",
       "      <td>True</td>\n",
       "    </tr>\n",
       "    <tr>\n",
       "      <th>4</th>\n",
       "      <td>00016e20a3865cb74581803c27d27b89</td>\n",
       "      <td>-1.0000</td>\n",
       "      <td>0.0000</td>\n",
       "      <td>-1.0000</td>\n",
       "      <td>0.0000</td>\n",
       "      <td>0.5896</td>\n",
       "      <td>False</td>\n",
       "    </tr>\n",
       "  </tbody>\n",
       "</table>\n",
       "</div>"
      ],
      "text/plain": [
       "                           Username  politic  science  moderacy  \\\n",
       "0  00008ca06f863b962f72cc9167d7978a  -1.0000   0.0000   -1.0000   \n",
       "1  00008de3f61d5f04329ee6867d5475b9  -1.0000   0.0000    1.0000   \n",
       "2  00012a177385cd6e7590e2acb3f206e3  -1.0000   0.0000    1.0000   \n",
       "3  00012a177385cd6e7590e2acb3f206e3  -1.0000   0.0000    1.0000   \n",
       "4  00016e20a3865cb74581803c27d27b89  -1.0000   0.0000   -1.0000   \n",
       "\n",
       "   Deletion_ratio  Reputation  is_deleted  \n",
       "0          0.0000      0.1828       False  \n",
       "1          1.0000      0.6003        True  \n",
       "2          1.0000      0.3327        True  \n",
       "3          1.0000      0.3327        True  \n",
       "4          0.0000      0.5896       False  "
      ]
     },
     "execution_count": 15,
     "metadata": {},
     "output_type": "execute_result"
    }
   ],
   "source": [
    "df_tweetscov19 = df_tweetscov19[df_tweetscov19['politic'] != 0]\n",
    "\n",
    "print('Shape: ', df_tweetscov19.shape)\n",
    "df_tweetscov19.head()"
   ]
  },
  {
   "cell_type": "code",
   "execution_count": 16,
   "id": "4d6606e5",
   "metadata": {},
   "outputs": [],
   "source": [
    "df_tweetscov19_del = df_tweetscov19[df_tweetscov19['is_deleted']==True]\n",
    "df_tweetscov19_undel = df_tweetscov19[df_tweetscov19['is_deleted']==False]"
   ]
  },
  {
   "cell_type": "code",
   "execution_count": 17,
   "id": "90f18c79",
   "metadata": {},
   "outputs": [],
   "source": [
    "df = df_tweetscov19[['politic', 'Reputation']]\n",
    "df = df.round(1)"
   ]
  },
  {
   "cell_type": "code",
   "execution_count": 18,
   "id": "426ee927",
   "metadata": {},
   "outputs": [
    {
     "name": "stdout",
     "output_type": "stream",
     "text": [
      "(225, 3)\n"
     ]
    }
   ],
   "source": [
    "df = df.groupby(['politic', 'Reputation']).size().reset_index(name='count')\n",
    "print(df.shape)"
   ]
  },
  {
   "cell_type": "code",
   "execution_count": 19,
   "id": "3d8f92b7",
   "metadata": {},
   "outputs": [
    {
     "data": {
      "text/html": [
       "<div>\n",
       "<style scoped>\n",
       "    .dataframe tbody tr th:only-of-type {\n",
       "        vertical-align: middle;\n",
       "    }\n",
       "\n",
       "    .dataframe tbody tr th {\n",
       "        vertical-align: top;\n",
       "    }\n",
       "\n",
       "    .dataframe thead th {\n",
       "        text-align: right;\n",
       "    }\n",
       "</style>\n",
       "<table border=\"1\" class=\"dataframe\">\n",
       "  <thead>\n",
       "    <tr style=\"text-align: right;\">\n",
       "      <th></th>\n",
       "      <th>politic</th>\n",
       "      <th>Reputation</th>\n",
       "      <th>count</th>\n",
       "    </tr>\n",
       "  </thead>\n",
       "  <tbody>\n",
       "    <tr>\n",
       "      <th>0</th>\n",
       "      <td>-1.0000</td>\n",
       "      <td>0.0000</td>\n",
       "      <td>9309</td>\n",
       "    </tr>\n",
       "    <tr>\n",
       "      <th>1</th>\n",
       "      <td>-1.0000</td>\n",
       "      <td>0.1000</td>\n",
       "      <td>24283</td>\n",
       "    </tr>\n",
       "    <tr>\n",
       "      <th>2</th>\n",
       "      <td>-1.0000</td>\n",
       "      <td>0.2000</td>\n",
       "      <td>34297</td>\n",
       "    </tr>\n",
       "    <tr>\n",
       "      <th>3</th>\n",
       "      <td>-1.0000</td>\n",
       "      <td>0.3000</td>\n",
       "      <td>46713</td>\n",
       "    </tr>\n",
       "    <tr>\n",
       "      <th>4</th>\n",
       "      <td>-1.0000</td>\n",
       "      <td>0.4000</td>\n",
       "      <td>64905</td>\n",
       "    </tr>\n",
       "    <tr>\n",
       "      <th>5</th>\n",
       "      <td>-1.0000</td>\n",
       "      <td>0.5000</td>\n",
       "      <td>152544</td>\n",
       "    </tr>\n",
       "    <tr>\n",
       "      <th>6</th>\n",
       "      <td>-1.0000</td>\n",
       "      <td>0.6000</td>\n",
       "      <td>75642</td>\n",
       "    </tr>\n",
       "    <tr>\n",
       "      <th>7</th>\n",
       "      <td>-1.0000</td>\n",
       "      <td>0.7000</td>\n",
       "      <td>61423</td>\n",
       "    </tr>\n",
       "    <tr>\n",
       "      <th>8</th>\n",
       "      <td>-1.0000</td>\n",
       "      <td>0.8000</td>\n",
       "      <td>67803</td>\n",
       "    </tr>\n",
       "    <tr>\n",
       "      <th>9</th>\n",
       "      <td>-1.0000</td>\n",
       "      <td>0.9000</td>\n",
       "      <td>119714</td>\n",
       "    </tr>\n",
       "  </tbody>\n",
       "</table>\n",
       "</div>"
      ],
      "text/plain": [
       "   politic  Reputation   count\n",
       "0  -1.0000      0.0000    9309\n",
       "1  -1.0000      0.1000   24283\n",
       "2  -1.0000      0.2000   34297\n",
       "3  -1.0000      0.3000   46713\n",
       "4  -1.0000      0.4000   64905\n",
       "5  -1.0000      0.5000  152544\n",
       "6  -1.0000      0.6000   75642\n",
       "7  -1.0000      0.7000   61423\n",
       "8  -1.0000      0.8000   67803\n",
       "9  -1.0000      0.9000  119714"
      ]
     },
     "execution_count": 19,
     "metadata": {},
     "output_type": "execute_result"
    }
   ],
   "source": [
    "df.head(10)"
   ]
  },
  {
   "cell_type": "code",
   "execution_count": 20,
   "id": "196c1036",
   "metadata": {},
   "outputs": [],
   "source": [
    "heatmap_data = pd.pivot_table(df, values='count', index=['Reputation'], columns=['politic'], aggfunc='sum', fill_value=0)"
   ]
  },
  {
   "cell_type": "code",
   "execution_count": 21,
   "id": "51c60364",
   "metadata": {},
   "outputs": [
    {
     "name": "stdout",
     "output_type": "stream",
     "text": [
      "(11, 21)\n"
     ]
    }
   ],
   "source": [
    "print(heatmap_data.shape)\n",
    "#heatmap_data.head(10)\n",
    "heatmap_data = heatmap_data.replace(np.nan, 0)\n",
    "\n",
    "#heatmap_data.drop(index=df.index[:1],inplace=True)"
   ]
  },
  {
   "cell_type": "code",
   "execution_count": 22,
   "id": "2338b81e",
   "metadata": {},
   "outputs": [
    {
     "data": {
      "text/plain": [
       "Text(626.1346437500001, 0.5, 'Number of tweets')"
      ]
     },
     "execution_count": 22,
     "metadata": {},
     "output_type": "execute_result"
    },
    {
     "data": {
      "image/png": "[encoded data removed]",
      "text/plain": [
       "<Figure size 720x720 with 2 Axes>"
      ]
     },
     "metadata": {
      "needs_background": "light"
     },
     "output_type": "display_data"
    }
   ],
   "source": [
    "fig, ax = plt.subplots(figsize=(10, 10))\n",
    "heatmap_data = heatmap_data.sort_values(by=\"Reputation\",ascending=False)\n",
    "\n",
    "sns.heatmap(data = heatmap_data, square=True, norm=matplotlib.colors.LogNorm(), cbar_kws={\"shrink\": 0.5})\n",
    "ax.tick_params(labelsize=15)\n",
    "ax.figure.axes[-1].set_ylabel('Number of tweets', size=20)\n"
   ]
  },
  {
   "cell_type": "code",
   "execution_count": 26,
   "id": "d52dc53a",
   "metadata": {},
   "outputs": [
    {
     "name": "stderr",
     "output_type": "stream",
     "text": [
      "<ipython-input-26-b3425827c8a1>:6: MatplotlibDeprecationWarning: You are modifying the state of a globally registered colormap. In future versions, you will not be able to modify a registered colormap in-place. To remove this warning, you can make a copy of the colormap first. cmap = copy.copy(mpl.cm.get_cmap(\"Blues\"))\n",
      "  color.set_bad('white')    # if the value is bad the color would be lightblue instead of white\n"
     ]
    },
    {
     "data": {
      "text/plain": [
       "Text(624.7756437500002, 0.5, 'Number of tweets')"
      ]
     },
     "execution_count": 26,
     "metadata": {},
     "output_type": "execute_result"
    },
    {
     "data": {
      "image/png": "[encoded data removed]",
      "text/plain": [
       "<Figure size 720x720 with 2 Axes>"
      ]
     },
     "metadata": {},
     "output_type": "display_data"
    }
   ],
   "source": [
    "heatmap_data_2 = df.pivot(\"Reputation\", \"politic\", \"count\")\n",
    "heatmap_data_2 = heatmap_data_2.replace(np.nan, 0)\n",
    "heatmap_data_2 = heatmap_data_2.sort_values(by=\"Reputation\",ascending=False)\n",
    "\n",
    "color = plt.get_cmap('Blues')   # default color\n",
    "color.set_bad('white')    # if the value is bad the color would be lightblue instead of white\n",
    "\n",
    "sns.set(font_scale=2)\n",
    "f, ax = plt.subplots(figsize=(10, 10))\n",
    "sns.heatmap(heatmap_data_2, square=True, norm= matplotlib.colors.LogNorm(), cbar_kws={\"shrink\": 0.45}, cmap=color)\n",
    "ax.tick_params(labelsize=15)\n",
    "ax.figure.axes[-1].set_ylabel('Number of tweets', size=20)\n",
    "\n"
   ]
  },
  {
   "cell_type": "code",
   "execution_count": 24,
   "id": "61070d2f",
   "metadata": {},
   "outputs": [
    {
     "name": "stderr",
     "output_type": "stream",
     "text": [
      "<ipython-input-24-a70bff5ca663>:6: MatplotlibDeprecationWarning: You are modifying the state of a globally registered colormap. In future versions, you will not be able to modify a registered colormap in-place. To remove this warning, you can make a copy of the colormap first. cmap = copy.copy(mpl.cm.get_cmap(\"Blues\"))\n",
      "  color.set_bad('white')    # if the value is bad the color would be lightblue instead of white\n"
     ]
    },
    {
     "data": {
      "text/plain": [
       "Text(397.6966437500001, 0.5, 'Number of tweets')"
      ]
     },
     "execution_count": 24,
     "metadata": {},
     "output_type": "execute_result"
    },
    {
     "data": {
      "image/png": "[encoded data removed]",
      "text/plain": [
       "<Figure size 432x288 with 2 Axes>"
      ]
     },
     "metadata": {},
     "output_type": "display_data"
    }
   ],
   "source": [
    "heatmap_data_2 = df.pivot(\"Reputation\", \"politic\", \"count\")\n",
    "heatmap_data_2 = heatmap_data_2.replace(np.nan, 0)\n",
    "heatmap_data_2 = heatmap_data_2.sort_values(by=\"Reputation\",ascending=False)\n",
    "\n",
    "color = plt.get_cmap('Blues')   # default color\n",
    "color.set_bad('white')    # if the value is bad the color would be lightblue instead of white\n",
    "\n",
    "sns.set(font_scale=2)\n",
    "f, ax = plt.subplots(figsize=(6, 4))\n",
    "sns.heatmap(heatmap_data_2, square=False, norm= matplotlib.colors.LogNorm(), cbar_kws={\"shrink\": 1}, cmap=color)\n",
    "ax.tick_params(labelsize=15)\n",
    "ax.figure.axes[-1].set_ylabel('Number of tweets', size=20)\n",
    "\n"
   ]
  },
  {
   "cell_type": "code",
   "execution_count": 25,
   "id": "1b9b48dd",
   "metadata": {},
   "outputs": [
    {
     "data": {
      "text/html": [
       "<div>\n",
       "<style scoped>\n",
       "    .dataframe tbody tr th:only-of-type {\n",
       "        vertical-align: middle;\n",
       "    }\n",
       "\n",
       "    .dataframe tbody tr th {\n",
       "        vertical-align: top;\n",
       "    }\n",
       "\n",
       "    .dataframe thead th {\n",
       "        text-align: right;\n",
       "    }\n",
       "</style>\n",
       "<table border=\"1\" class=\"dataframe\">\n",
       "  <thead>\n",
       "    <tr style=\"text-align: right;\">\n",
       "      <th>politic</th>\n",
       "      <th>-1.0000</th>\n",
       "      <th>-0.9000</th>\n",
       "      <th>-0.8000</th>\n",
       "      <th>-0.7000</th>\n",
       "      <th>-0.6000</th>\n",
       "      <th>-0.5000</th>\n",
       "      <th>-0.4000</th>\n",
       "      <th>-0.3000</th>\n",
       "      <th>-0.2000</th>\n",
       "      <th>-0.1000</th>\n",
       "      <th>0.0000</th>\n",
       "      <th>0.1000</th>\n",
       "      <th>0.2000</th>\n",
       "      <th>0.3000</th>\n",
       "      <th>0.4000</th>\n",
       "      <th>0.5000</th>\n",
       "      <th>0.6000</th>\n",
       "      <th>0.7000</th>\n",
       "      <th>0.8000</th>\n",
       "      <th>0.9000</th>\n",
       "      <th>1.0000</th>\n",
       "    </tr>\n",
       "    <tr>\n",
       "      <th>Reputation</th>\n",
       "      <th></th>\n",
       "      <th></th>\n",
       "      <th></th>\n",
       "      <th></th>\n",
       "      <th></th>\n",
       "      <th></th>\n",
       "      <th></th>\n",
       "      <th></th>\n",
       "      <th></th>\n",
       "      <th></th>\n",
       "      <th></th>\n",
       "      <th></th>\n",
       "      <th></th>\n",
       "      <th></th>\n",
       "      <th></th>\n",
       "      <th></th>\n",
       "      <th></th>\n",
       "      <th></th>\n",
       "      <th></th>\n",
       "      <th></th>\n",
       "      <th></th>\n",
       "    </tr>\n",
       "  </thead>\n",
       "  <tbody>\n",
       "    <tr>\n",
       "      <th>1.0000</th>\n",
       "      <td>377177.0000</td>\n",
       "      <td>33149.0000</td>\n",
       "      <td>32223.0000</td>\n",
       "      <td>20997.0000</td>\n",
       "      <td>21972.0000</td>\n",
       "      <td>14048.0000</td>\n",
       "      <td>14421.0000</td>\n",
       "      <td>16924.0000</td>\n",
       "      <td>15608.0000</td>\n",
       "      <td>10381.0000</td>\n",
       "      <td>4985.0000</td>\n",
       "      <td>6244.0000</td>\n",
       "      <td>8559.0000</td>\n",
       "      <td>12959.0000</td>\n",
       "      <td>8294.0000</td>\n",
       "      <td>8934.0000</td>\n",
       "      <td>5457.0000</td>\n",
       "      <td>7740.0000</td>\n",
       "      <td>6579.0000</td>\n",
       "      <td>2106.0000</td>\n",
       "      <td>81393.0000</td>\n",
       "    </tr>\n",
       "    <tr>\n",
       "      <th>0.9000</th>\n",
       "      <td>119714.0000</td>\n",
       "      <td>14120.0000</td>\n",
       "      <td>12872.0000</td>\n",
       "      <td>6663.0000</td>\n",
       "      <td>7244.0000</td>\n",
       "      <td>7268.0000</td>\n",
       "      <td>2767.0000</td>\n",
       "      <td>11331.0000</td>\n",
       "      <td>2133.0000</td>\n",
       "      <td>2459.0000</td>\n",
       "      <td>1235.0000</td>\n",
       "      <td>3005.0000</td>\n",
       "      <td>3222.0000</td>\n",
       "      <td>5407.0000</td>\n",
       "      <td>1808.0000</td>\n",
       "      <td>2816.0000</td>\n",
       "      <td>1643.0000</td>\n",
       "      <td>1311.0000</td>\n",
       "      <td>1489.0000</td>\n",
       "      <td>359.0000</td>\n",
       "      <td>23014.0000</td>\n",
       "    </tr>\n",
       "    <tr>\n",
       "      <th>0.8000</th>\n",
       "      <td>67803.0000</td>\n",
       "      <td>6737.0000</td>\n",
       "      <td>7421.0000</td>\n",
       "      <td>2735.0000</td>\n",
       "      <td>3529.0000</td>\n",
       "      <td>6091.0000</td>\n",
       "      <td>1158.0000</td>\n",
       "      <td>4753.0000</td>\n",
       "      <td>1617.0000</td>\n",
       "      <td>2672.0000</td>\n",
       "      <td>553.0000</td>\n",
       "      <td>571.0000</td>\n",
       "      <td>1360.0000</td>\n",
       "      <td>1608.0000</td>\n",
       "      <td>682.0000</td>\n",
       "      <td>2295.0000</td>\n",
       "      <td>1077.0000</td>\n",
       "      <td>1049.0000</td>\n",
       "      <td>1030.0000</td>\n",
       "      <td>1315.0000</td>\n",
       "      <td>16105.0000</td>\n",
       "    </tr>\n",
       "    <tr>\n",
       "      <th>0.7000</th>\n",
       "      <td>61423.0000</td>\n",
       "      <td>4669.0000</td>\n",
       "      <td>4205.0000</td>\n",
       "      <td>3290.0000</td>\n",
       "      <td>3138.0000</td>\n",
       "      <td>2331.0000</td>\n",
       "      <td>1253.0000</td>\n",
       "      <td>2667.0000</td>\n",
       "      <td>3082.0000</td>\n",
       "      <td>2149.0000</td>\n",
       "      <td>77.0000</td>\n",
       "      <td>1333.0000</td>\n",
       "      <td>820.0000</td>\n",
       "      <td>1833.0000</td>\n",
       "      <td>969.0000</td>\n",
       "      <td>1452.0000</td>\n",
       "      <td>856.0000</td>\n",
       "      <td>836.0000</td>\n",
       "      <td>1402.0000</td>\n",
       "      <td>740.0000</td>\n",
       "      <td>14070.0000</td>\n",
       "    </tr>\n",
       "    <tr>\n",
       "      <th>0.6000</th>\n",
       "      <td>75642.0000</td>\n",
       "      <td>8006.0000</td>\n",
       "      <td>8123.0000</td>\n",
       "      <td>4050.0000</td>\n",
       "      <td>2875.0000</td>\n",
       "      <td>4041.0000</td>\n",
       "      <td>1658.0000</td>\n",
       "      <td>5380.0000</td>\n",
       "      <td>2175.0000</td>\n",
       "      <td>1230.0000</td>\n",
       "      <td>581.0000</td>\n",
       "      <td>1356.0000</td>\n",
       "      <td>1648.0000</td>\n",
       "      <td>3790.0000</td>\n",
       "      <td>1031.0000</td>\n",
       "      <td>2054.0000</td>\n",
       "      <td>2590.0000</td>\n",
       "      <td>1447.0000</td>\n",
       "      <td>1230.0000</td>\n",
       "      <td>1549.0000</td>\n",
       "      <td>17649.0000</td>\n",
       "    </tr>\n",
       "  </tbody>\n",
       "</table>\n",
       "</div>"
      ],
      "text/plain": [
       "politic        -1.0000    -0.9000    -0.8000    -0.7000    -0.6000    -0.5000  \\\n",
       "Reputation                                                                      \n",
       "1.0000     377177.0000 33149.0000 32223.0000 20997.0000 21972.0000 14048.0000   \n",
       "0.9000     119714.0000 14120.0000 12872.0000  6663.0000  7244.0000  7268.0000   \n",
       "0.8000      67803.0000  6737.0000  7421.0000  2735.0000  3529.0000  6091.0000   \n",
       "0.7000      61423.0000  4669.0000  4205.0000  3290.0000  3138.0000  2331.0000   \n",
       "0.6000      75642.0000  8006.0000  8123.0000  4050.0000  2875.0000  4041.0000   \n",
       "\n",
       "politic       -0.4000    -0.3000    -0.2000    -0.1000   0.0000    0.1000   \\\n",
       "Reputation                                                                   \n",
       "1.0000     14421.0000 16924.0000 15608.0000 10381.0000 4985.0000 6244.0000   \n",
       "0.9000      2767.0000 11331.0000  2133.0000  2459.0000 1235.0000 3005.0000   \n",
       "0.8000      1158.0000  4753.0000  1617.0000  2672.0000  553.0000  571.0000   \n",
       "0.7000      1253.0000  2667.0000  3082.0000  2149.0000   77.0000 1333.0000   \n",
       "0.6000      1658.0000  5380.0000  2175.0000  1230.0000  581.0000 1356.0000   \n",
       "\n",
       "politic      0.2000     0.3000    0.4000    0.5000    0.6000    0.7000   \\\n",
       "Reputation                                                                \n",
       "1.0000     8559.0000 12959.0000 8294.0000 8934.0000 5457.0000 7740.0000   \n",
       "0.9000     3222.0000  5407.0000 1808.0000 2816.0000 1643.0000 1311.0000   \n",
       "0.8000     1360.0000  1608.0000  682.0000 2295.0000 1077.0000 1049.0000   \n",
       "0.7000      820.0000  1833.0000  969.0000 1452.0000  856.0000  836.0000   \n",
       "0.6000     1648.0000  3790.0000 1031.0000 2054.0000 2590.0000 1447.0000   \n",
       "\n",
       "politic      0.8000    0.9000     1.0000   \n",
       "Reputation                                 \n",
       "1.0000     6579.0000 2106.0000 81393.0000  \n",
       "0.9000     1489.0000  359.0000 23014.0000  \n",
       "0.8000     1030.0000 1315.0000 16105.0000  \n",
       "0.7000     1402.0000  740.0000 14070.0000  \n",
       "0.6000     1230.0000 1549.0000 17649.0000  "
      ]
     },
     "execution_count": 25,
     "metadata": {},
     "output_type": "execute_result"
    }
   ],
   "source": [
    "heatmap_data_2.head()"
   ]
  },
  {
   "cell_type": "code",
   "execution_count": null,
   "id": "5176e19c",
   "metadata": {},
   "outputs": [],
   "source": []
  }
 ],
 "metadata": {
  "kernelspec": {
   "display_name": "Python 3",
   "language": "python",
   "name": "python3"
  },
  "language_info": {
   "codemirror_mode": {
    "name": "ipython",
    "version": 3
   },
   "file_extension": ".py",
   "mimetype": "text/x-python",
   "name": "python",
   "nbconvert_exporter": "python",
   "pygments_lexer": "ipython3",
   "version": "3.8.8"
  }
 },
 "nbformat": 4,
 "nbformat_minor": 5
}
