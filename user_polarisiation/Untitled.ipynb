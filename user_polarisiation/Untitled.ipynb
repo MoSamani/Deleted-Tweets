{
 "cells": [
  {
   "cell_type": "code",
   "execution_count": 1,
   "id": "21edbd36",
   "metadata": {},
   "outputs": [],
   "source": [
    "#Import CSV Bibliothek \n",
    "import csv\n",
    "#Import Pandas and label it as pd\n",
    "import pandas as pd\n",
    "#Import numpy and label it as np \n",
    "import numpy as np\n",
    "#Import Json library\n",
    "import json\n",
    "#Set size of Data on 100,000,000 line  \n",
    "csv.field_size_limit(100000000)\n",
    "#Display max. rows and columns \n",
    "pd.options.display.max_columns = None\n",
    "pd.options.display.max_rows = None\n",
    "#Import tldextract for extraction of Domains\n",
    "import tldextract\n",
    "#Show warnings just in console \n",
    "import warnings\n",
    "warnings.filterwarnings('ignore')\n",
    "\n",
    "import re\n",
    "#import logging\n",
    "\n",
    "# exit(main())"
   ]
  },
  {
   "cell_type": "code",
   "execution_count": 2,
   "id": "51c82ffd",
   "metadata": {},
   "outputs": [],
   "source": [
    "class Destination:\n",
    "    name: str\n",
    "    airport_code: str\n",
    "    description: str\n",
    "\n",
    "    def __init__(self, name: str, airport_code: str, description: str):\n",
    "        self.name = name\n",
    "        self.airport_code = airport_code\n",
    "        self.description = description"
   ]
  },
  {
   "cell_type": "code",
   "execution_count": 3,
   "id": "ddcbfa6f",
   "metadata": {},
   "outputs": [],
   "source": [
    "def get_list_of_recommendations(txt) -> int:\n",
    "    if len(txt) <= 0:\n",
    "        raise Exception(\"The format of the Inputs does not match predefined recommendations formatting!!!\")\n",
    "    return (re.findall('.*\\d.\\s.*\\([A-Z]{3}\\)', txt))"
   ]
  },
  {
   "cell_type": "code",
   "execution_count": 4,
   "id": "45d9c678",
   "metadata": {},
   "outputs": [],
   "source": [
    "def get_description(txt)-> str:\n",
    "    \n",
    "    description = re.findall(\"(Description:.*).\\B\", txt)\n",
    "        \n",
    "    if (len(description)!=1):\n",
    "        return None\n",
    "    \n",
    "    if len(description)!=0:\n",
    "        description = description[0].replace('Description:', '')\n",
    "    \n",
    "    return description"
   ]
  },
  {
   "cell_type": "code",
   "execution_count": 5,
   "id": "655f798f",
   "metadata": {},
   "outputs": [],
   "source": [
    "def get_number_of_recommendation(recommendation) -> str:\n",
    "    num = re.findall(r'\\d.\\s', recommendation)\n",
    "    if len(num)!=1:\n",
    "            return None\n",
    "    return num[0]"
   ]
  },
  {
   "cell_type": "code",
   "execution_count": 6,
   "id": "3eceab56",
   "metadata": {},
   "outputs": [],
   "source": [
    "def get_airport_code(recommendation) -> str:\n",
    "    airport_code = re.findall(r'\\([A-Z]{3}\\)', recommendation)\n",
    "    if len(airport_code)!=1:\n",
    "            return None\n",
    "    return airport_code[0]"
   ]
  },
  {
   "cell_type": "code",
   "execution_count": 7,
   "id": "645da016",
   "metadata": {},
   "outputs": [],
   "source": [
    "def get_name_of_airport(recommendation) -> str:\n",
    "    airport_name = re.findall(r'\\d.\\s(.*)\\([A-Z]{3}\\)', recommendation)\n",
    "    if len(airport_name)!=1:\n",
    "        return None\n",
    "    return airport_name [0]"
   ]
  },
  {
   "cell_type": "code",
   "execution_count": 8,
   "id": "67507872",
   "metadata": {},
   "outputs": [],
   "source": [
    "def create_instance_from_recommendations(recommended_airports) -> []:\n",
    "    \n",
    "    destinations = []\n",
    "    for i in range(0, len(recommended_airports)):\n",
    "        recommendation = recommended_airports[i]\n",
    "        print(recommendation)\n",
    "        num = get_number_of_recommendation(recommendation)   \n",
    "        airport_code = get_airport_code(recommendation)\n",
    "        airport_name = get_name_of_airport(recommendation)\n",
    "\n",
    "        description = None\n",
    "        if \"Description\" in recommendation:\n",
    "            description = get_description(recommendation)\n",
    "           \n",
    "        print(description)\n",
    "        cond1= (airport_name != None)\n",
    "        cond2= (airport_code != None)\n",
    "        \n",
    "        if (cond1 & cond2):\n",
    "            destination = Destination(airport_name, airport_code, description)\n",
    "            destinations.append(destination)\n",
    "\n",
    "    return destinations"
   ]
  },
  {
   "cell_type": "code",
   "execution_count": 9,
   "id": "d7cf28c2",
   "metadata": {},
   "outputs": [],
   "source": [
    "def get_airports(recommendation_from_chatgpt:str=None) -> []:\n",
    "\n",
    "    recommended_airports = get_list_of_recommendations(recommendation_from_chatgpt)\n",
    "    destinations = create_instance_from_recommendations(recommended_airports)\n",
    "    \n",
    "    return destinations"
   ]
  },
  {
   "cell_type": "code",
   "execution_count": 13,
   "id": "55484c7d",
   "metadata": {},
   "outputs": [],
   "source": [
    "gpt = \"\"\"Sure, here are three places for vocation in the world with an airport nearby (including IATA airport code):\n",
    "1. SSydney, Australia - Kingsford Smith Airport (SYD)\\\n",
    "2. Rio de Janeiro, Brazil - Galeão International Airport (GIG)\n",
    "3. Bangkok, Thailand - Suvarnabhumi Airport (BKK)\n",
    "\"\"\""
   ]
  },
  {
   "cell_type": "code",
   "execution_count": 14,
   "id": "1724b3bf",
   "metadata": {},
   "outputs": [
    {
     "name": "stdout",
     "output_type": "stream",
     "text": [
      "1. SSydney, Australia - Kingsford Smith Airport (SYD)2. Rio de Janeiro, Brazil - Galeão International Airport (GIG)\n",
      "None\n",
      "3. Bangkok, Thailand - Suvarnabhumi Airport (BKK)\n",
      "None\n"
     ]
    },
    {
     "data": {
      "text/plain": [
       "[<__main__.Destination at 0x1e891017940>]"
      ]
     },
     "execution_count": 14,
     "metadata": {},
     "output_type": "execute_result"
    }
   ],
   "source": [
    "destinations = get_airports(gpt)\n",
    "destinations"
   ]
  },
  {
   "cell_type": "code",
   "execution_count": 15,
   "id": "5f03ec73",
   "metadata": {},
   "outputs": [
    {
     "name": "stdout",
     "output_type": "stream",
     "text": [
      "1\n",
      "Bangkok, Thailand - Suvarnabhumi Airport \n",
      "(BKK)\n",
      "None\n"
     ]
    }
   ],
   "source": [
    "for i in range(0, len(destinations)):\n",
    "    print(i+1)\n",
    "    print(destinations[i].name)\n",
    "    print(destinations[i].airport_code)\n",
    "    print(destinations[i].description)"
   ]
  },
  {
   "cell_type": "code",
   "execution_count": 16,
   "id": "251931dd",
   "metadata": {},
   "outputs": [
    {
     "data": {
      "text/plain": [
       "'Sure, here are three places for vocation in the world with an airport nearby (including IATA airport code):\\n'"
      ]
     },
     "execution_count": 16,
     "metadata": {},
     "output_type": "execute_result"
    }
   ],
   "source": [
    "import io\n",
    "buf = io.StringIO(gpt)\n",
    "buf.readline()"
   ]
  },
  {
   "cell_type": "code",
   "execution_count": 17,
   "id": "8dd89a8b",
   "metadata": {},
   "outputs": [
    {
     "data": {
      "text/plain": [
       "['Sure, here are three places for vocation in the world with an airport nearby (including IATA airport code):',\n",
       " '1. SSydney, Australia - Kingsford Smith Airport (SYD)2. Rio de Janeiro, Brazil - Galeão International Airport (GIG)',\n",
       " '3. Bangkok, Thailand - Suvarnabhumi Airport (BKK)',\n",
       " '']"
      ]
     },
     "execution_count": 17,
     "metadata": {},
     "output_type": "execute_result"
    }
   ],
   "source": [
    "gpt.split(\"\\n\")"
   ]
  },
  {
   "cell_type": "code",
   "execution_count": 20,
   "id": "00afaf7f",
   "metadata": {},
   "outputs": [],
   "source": [
    "#gpt = \"\"\"Sure, here are three places for vocation in the world with an airport nearby (including IATA airport code):\n",
    "#1. SSydney, Australia - Kingsford Smith Airport (SYD)\n",
    "#2. Rio de Janeiro, Brazil - Galeão International Airport (GIG)\n",
    "#3. Bangkok, Thailand - Suvarnabhumi Airport (BKK)\n",
    "#\"\"\"\n",
    "\n",
    "#destinations = get_airports(gpt)\n",
    "#destinations"
   ]
  },
  {
   "cell_type": "code",
   "execution_count": 35,
   "id": "a3c6c5b3",
   "metadata": {},
   "outputs": [],
   "source": [
    "class Parser:\n",
    "    recommendation_from_chatgpt: str\n",
    "\n",
    "    def __init__(self, recommendation_from_chatgpt:str=None):\n",
    "        self.recommendation_from_chatgpt = recommendation_from_chatgpt\n",
    "        \n",
    "\n",
    "    def get_list_of_recommendations(self, txt) -> int:\n",
    "        if len(txt) <= 0:\n",
    "            raise Exception(\"The format of the Inputs does not match predefined recommendations formatting!!!\")\n",
    "        return (re.findall('.*\\d.\\s.*\\([A-Z]{3}\\)', txt))\n",
    "\n",
    "    def get_number_of_recommendation(self, recommendation) -> str:\n",
    "        num = re.findall(r'\\d.\\s', recommendation)\n",
    "        if len(num)!=1:\n",
    "            return None\n",
    "        return num[0]\n",
    "\n",
    "    def get_airport_code(self, recommendation) -> str:\n",
    "        airport_code = re.findall(r'\\([A-Z]{3}\\)', recommendation)\n",
    "        if len(airport_code)!=1:\n",
    "            return None\n",
    "        return airport_code[0]\n",
    "\n",
    "    def get_name_of_airport(self, recommendation) -> str:\n",
    "        airport_name = re.findall(r'\\d.\\s(.*)\\([A-Z]{3}\\)', recommendation)\n",
    "        if len(airport_name)!=1:\n",
    "            return None\n",
    "        return airport_name [0]\n",
    "\n",
    "\n",
    "    def get_description(self, txt)-> str:\n",
    "\n",
    "        description = re.findall(\"(Description:.*).\\B\", txt)\n",
    "\n",
    "        if (len(description)!=1):\n",
    "            return None\n",
    "\n",
    "        if len(description)!=0:\n",
    "            description = description[0].replace('Description:', '')\n",
    "\n",
    "        return description\n",
    "\n",
    "    def create_instances_from_recommendations(self, recommended_airports) -> []:\n",
    "\n",
    "        destinations = []\n",
    "        for i in range(0, len(recommended_airports)):\n",
    "            recommendation = recommended_airports[i]\n",
    "            print(recommendation)\n",
    "            num = get_number_of_recommendation(recommendation)\n",
    "            airport_code = get_airport_code(recommendation)\n",
    "            airport_name = get_name_of_airport(recommendation)\n",
    "\n",
    "            description = None\n",
    "            if \"Description\" in recommendation:\n",
    "                description = get_description(recommendation)\n",
    "\n",
    "            print(description)\n",
    "            cond1= (airport_name != None)\n",
    "            cond2= (airport_code != None)\n",
    "\n",
    "            if (cond1 & cond2):\n",
    "                destination = Destination(airport_name, airport_code, description)\n",
    "                destinations.append(destination)\n",
    "\n",
    "        return destinations\n",
    "\n",
    "    def get_airports(self) -> []:\n",
    "\n",
    "        recommended_airports = get_list_of_recommendations(self.recommendation_from_chatgpt)\n",
    "        destinations = self.create_instances_from_recommendations(recommended_airports)\n",
    "\n",
    "        return destinations"
   ]
  },
  {
   "cell_type": "code",
   "execution_count": 36,
   "id": "228da859",
   "metadata": {},
   "outputs": [],
   "source": [
    "parser = Parser(gpt)"
   ]
  },
  {
   "cell_type": "code",
   "execution_count": 37,
   "id": "62b31b33",
   "metadata": {},
   "outputs": [
    {
     "name": "stdout",
     "output_type": "stream",
     "text": [
      "1. SSydney, Australia - Kingsford Smith Airport (SYD)\n",
      "None\n",
      "2. Rio de Janeiro, Brazil - Galeão International Airport (GIG)\n",
      "None\n",
      "3. Bangkok, Thailand - Suvarnabhumi Airport (BKK)\n",
      "None\n"
     ]
    }
   ],
   "source": [
    "destinations = parser.get_airports()"
   ]
  },
  {
   "cell_type": "code",
   "execution_count": 50,
   "id": "fab58b7c",
   "metadata": {},
   "outputs": [
    {
     "data": {
      "text/plain": [
       "'Sure, here are three places for vocation in the world with an airport nearby (including IATA airport code):\\n            2. Rio de Janeiro, Brazil - Galeão International Airport (GIG)\\n            3. Bangkok, Thailand - Suvarnabhumi Airport (BKK)'"
      ]
     },
     "execution_count": 50,
     "metadata": {},
     "output_type": "execute_result"
    }
   ],
   "source": [
    "txt"
   ]
  },
  {
   "cell_type": "code",
   "execution_count": 12,
   "id": "34cc1eb6",
   "metadata": {},
   "outputs": [
    {
     "name": "stdout",
     "output_type": "stream",
     "text": [
      "['Rio de Janeiro, Brazil - Galeão International Airport ', 'Bangkok, Thailand - Suvarnabhumi Airport ']\n"
     ]
    }
   ],
   "source": [
    "txt = \"\"\"Sure, here are three places for vocation in the world with an airport nearby (including IATA airport code):\n",
    "            2. Rio de Janeiro, Brazil - Galeão International Airport (GIG)\n",
    "            3. Bangkok, Thailand - Suvarnabhumi Airport (BKK)\"\"\"\n",
    "\n",
    "x = re.findall(\"\\d.\\s(.*)\\([A-Z]{3}\\)\", txt)\n",
    "print(x)"
   ]
  },
  {
   "cell_type": "code",
   "execution_count": 25,
   "id": "77b24557",
   "metadata": {},
   "outputs": [
    {
     "data": {
      "text/plain": [
       "[' Beautiful palm-fringed beaches and crystal clear waters make this place an ideal vacation spot. The famous Waikiki Beach is just minutes away from the airport with a picturesque pier in the background',\n",
       " ' This destination offers stunning white sand beaches lined with palm trees and clear blue waters. A beautiful pier stretches out into the ocean, providing an excellent view of the surrounding area',\n",
       " ' Known for its lush green landscapes and pristine beaches, this location features palm trees along the shoreline with a pier extending into the ocean. The beautiful scenery makes it an ideal vacation spot']"
      ]
     },
     "execution_count": 25,
     "metadata": {},
     "output_type": "execute_result"
    }
   ],
   "source": [
    "txt = \"\"\"1. Honolulu, Hawaii, USA - HNL (Honolulu International Airport)\n",
    "   Description: Beautiful palm-fringed beaches and crystal clear waters make this place an ideal vacation spot. The famous Waikiki Beach is just minutes away from the airport with a picturesque pier in the background.\n",
    " \n",
    "2. Cancun, Mexico - CUN (Cancún International Airport)\n",
    "   Description: This destination offers stunning white sand beaches lined with palm trees and clear blue waters. A beautiful pier stretches out into the ocean, providing an excellent view of the surrounding area.\n",
    " \n",
    "3. Bali, Indonesia - DPS (Ngurah Rai International Airport)\n",
    "   Description: Known for its lush green landscapes and pristine beaches, this location features palm trees along the shoreline with a pier extending into the ocean. The beautiful scenery makes it an ideal vacation spot.\"\"\"\n",
    "\n",
    "description = re.findall(\"(Description: .*)\\.\", txt)\n",
    "for i in range(0,len(description)):\n",
    "     description[i] = description[i].replace('Description:', '')\n",
    "description"
   ]
  },
  {
   "cell_type": "code",
   "execution_count": 309,
   "id": "a170de5d",
   "metadata": {},
   "outputs": [
    {
     "name": "stdout",
     "output_type": "stream",
     "text": [
      "t\n"
     ]
    }
   ],
   "source": [
    "if \"Description\" in txt:\n",
    "    print('t')"
   ]
  },
  {
   "cell_type": "code",
   "execution_count": 14,
   "id": "8d70e9c2",
   "metadata": {},
   "outputs": [
    {
     "name": "stdout",
     "output_type": "stream",
     "text": [
      "['1.', '2.', '3.']\n"
     ]
    }
   ],
   "source": [
    "\n",
    "m = re.findall('(\\d.)', gpt)\n",
    "print(m)"
   ]
  },
  {
   "cell_type": "code",
   "execution_count": 387,
   "id": "74ab9f30",
   "metadata": {},
   "outputs": [
    {
     "data": {
      "text/plain": [
       "True"
      ]
     },
     "execution_count": 387,
     "metadata": {},
     "output_type": "execute_result"
    }
   ],
   "source": [
    "None==None"
   ]
  },
  {
   "cell_type": "code",
   "execution_count": null,
   "id": "f2685157",
   "metadata": {},
   "outputs": [],
   "source": []
  },
  {
   "cell_type": "code",
   "execution_count": null,
   "id": "d003487d",
   "metadata": {},
   "outputs": [],
   "source": []
  }
 ],
 "metadata": {
  "kernelspec": {
   "display_name": "Python 3",
   "language": "python",
   "name": "python3"
  },
  "language_info": {
   "codemirror_mode": {
    "name": "ipython",
    "version": 3
   },
   "file_extension": ".py",
   "mimetype": "text/x-python",
   "name": "python",
   "nbconvert_exporter": "python",
   "pygments_lexer": "ipython3",
   "version": "3.8.8"
  }
 },
 "nbformat": 4,
 "nbformat_minor": 5
}
