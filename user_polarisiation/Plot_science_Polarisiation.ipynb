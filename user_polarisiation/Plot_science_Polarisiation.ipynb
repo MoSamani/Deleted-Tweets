{
 "cells": [
  {
   "cell_type": "code",
   "execution_count": 1,
   "id": "bc0f3bba",
   "metadata": {},
   "outputs": [],
   "source": [
    "#CSV Bibliothek importieren \n",
    "import csv\n",
    "#Pandas importieren und als pd bezeichnen\n",
    "import pandas as pd\n",
    "#Numpy importieren und als np bezeichnen \n",
    "import numpy as np\n",
    "#Json Biliothek importieren\n",
    "import json\n",
    "#Obere Schranke für die Größe der Daten auf 100,000,000 setzen  \n",
    "csv.field_size_limit(100000000)\n",
    "#Maximale Anzahl von Zeilen und Spalten Zeigen \n",
    "pd.options.display.max_columns = None\n",
    "pd.options.display.max_rows = None\n",
    "#Um die Zeiträume bearbeiten zu können\n",
    "from datetime import datetime\n",
    "#Seaborn für die Plot importieren\n",
    "import seaborn as sns\n",
    "#matplotlib Importieren und als plt bezeichnen\n",
    "import matplotlib\n",
    "import matplotlib.pyplot as plt\n",
    "#Macht die Plots inline\n",
    "%matplotlib inline \n",
    "#dates importieren, um Zeitstempel bearbeiten zu können\n",
    "import matplotlib.dates as mdates\n",
    "#tick importieren\n",
    "import matplotlib.ticker as tick\n",
    "#Die Nachkommastellen auf 4 Zashlen einschränken\n",
    "pd.options.display.float_format = '{:.4f}'.format\n",
    "\n",
    "from matplotlib.ticker import ScalarFormatter\n",
    "from matplotlib import ticker\n",
    "\n",
    "import warnings\n",
    "warnings.filterwarnings(\"ignore\")"
   ]
  },
  {
   "cell_type": "markdown",
   "id": "61c9e610",
   "metadata": {},
   "source": [
    "***"
   ]
  },
  {
   "cell_type": "markdown",
   "id": "baed96c1",
   "metadata": {},
   "source": [
    "# TweetsCov19\n",
    "## KDE-Plot"
   ]
  },
  {
   "cell_type": "markdown",
   "id": "dac7220a",
   "metadata": {},
   "source": [
    "***"
   ]
  },
  {
   "cell_type": "code",
   "execution_count": 2,
   "id": "bcb6846e",
   "metadata": {},
   "outputs": [
    {
     "name": "stdout",
     "output_type": "stream",
     "text": [
      "Shape : (44493, 5)\n"
     ]
    },
    {
     "data": {
      "text/html": [
       "<div>\n",
       "<style scoped>\n",
       "    .dataframe tbody tr th:only-of-type {\n",
       "        vertical-align: middle;\n",
       "    }\n",
       "\n",
       "    .dataframe tbody tr th {\n",
       "        vertical-align: top;\n",
       "    }\n",
       "\n",
       "    .dataframe thead th {\n",
       "        text-align: right;\n",
       "    }\n",
       "</style>\n",
       "<table border=\"1\" class=\"dataframe\">\n",
       "  <thead>\n",
       "    <tr style=\"text-align: right;\">\n",
       "      <th></th>\n",
       "      <th>Username</th>\n",
       "      <th>Number_of_antiscience_domains</th>\n",
       "      <th>Number_of_proscience_domains</th>\n",
       "      <th>Sum_polarised_domains</th>\n",
       "      <th>science</th>\n",
       "    </tr>\n",
       "  </thead>\n",
       "  <tbody>\n",
       "    <tr>\n",
       "      <th>0</th>\n",
       "      <td>000238f324f5063164908c27a7f310cd</td>\n",
       "      <td>-1</td>\n",
       "      <td>0</td>\n",
       "      <td>1</td>\n",
       "      <td>-1.0000</td>\n",
       "    </tr>\n",
       "    <tr>\n",
       "      <th>1</th>\n",
       "      <td>0002eb2aff20e181397afe8cdebdd395</td>\n",
       "      <td>0</td>\n",
       "      <td>1</td>\n",
       "      <td>1</td>\n",
       "      <td>1.0000</td>\n",
       "    </tr>\n",
       "    <tr>\n",
       "      <th>2</th>\n",
       "      <td>00065a00b971b5e1629d504e0ddf2da0</td>\n",
       "      <td>-3</td>\n",
       "      <td>0</td>\n",
       "      <td>3</td>\n",
       "      <td>-1.0000</td>\n",
       "    </tr>\n",
       "    <tr>\n",
       "      <th>3</th>\n",
       "      <td>0006a238065c3acb128041e666b58f07</td>\n",
       "      <td>0</td>\n",
       "      <td>2</td>\n",
       "      <td>2</td>\n",
       "      <td>1.0000</td>\n",
       "    </tr>\n",
       "    <tr>\n",
       "      <th>4</th>\n",
       "      <td>000795932bf3bc3ab05b5efc1b07104b</td>\n",
       "      <td>-1</td>\n",
       "      <td>0</td>\n",
       "      <td>1</td>\n",
       "      <td>-1.0000</td>\n",
       "    </tr>\n",
       "  </tbody>\n",
       "</table>\n",
       "</div>"
      ],
      "text/plain": [
       "                           Username  Number_of_antiscience_domains  \\\n",
       "0  000238f324f5063164908c27a7f310cd                             -1   \n",
       "1  0002eb2aff20e181397afe8cdebdd395                              0   \n",
       "2  00065a00b971b5e1629d504e0ddf2da0                             -3   \n",
       "3  0006a238065c3acb128041e666b58f07                              0   \n",
       "4  000795932bf3bc3ab05b5efc1b07104b                             -1   \n",
       "\n",
       "   Number_of_proscience_domains  Sum_polarised_domains  science  \n",
       "0                             0                      1  -1.0000  \n",
       "1                             1                      1   1.0000  \n",
       "2                             0                      3  -1.0000  \n",
       "3                             2                      2   1.0000  \n",
       "4                             0                      1  -1.0000  "
      ]
     },
     "execution_count": 2,
     "metadata": {},
     "output_type": "execute_result"
    }
   ],
   "source": [
    "path = '../data/tweetscov19_science_polarized_users_with_atleast_one_polarized_domain.tsv'\n",
    "\n",
    "df_tweetscov19_science_polarized_and_neutralized = pd.read_csv(path, sep='\\t', error_bad_lines=False, names=['Username', 'Number_of_antiscience_domains', 'Number_of_proscience_domains', 'Sum_polarised_domains', 'science'])\n",
    "\n",
    "print('Shape :', df_tweetscov19_science_polarized_and_neutralized.shape)\n",
    "df_tweetscov19_science_polarized_and_neutralized.head()"
   ]
  },
  {
   "cell_type": "code",
   "execution_count": 3,
   "id": "4df89447",
   "metadata": {},
   "outputs": [
    {
     "name": "stdout",
     "output_type": "stream",
     "text": [
      "Form : (9409841, 9)\n"
     ]
    },
    {
     "data": {
      "text/html": [
       "<div>\n",
       "<style scoped>\n",
       "    .dataframe tbody tr th:only-of-type {\n",
       "        vertical-align: middle;\n",
       "    }\n",
       "\n",
       "    .dataframe tbody tr th {\n",
       "        vertical-align: top;\n",
       "    }\n",
       "\n",
       "    .dataframe thead th {\n",
       "        text-align: right;\n",
       "    }\n",
       "</style>\n",
       "<table border=\"1\" class=\"dataframe\">\n",
       "  <thead>\n",
       "    <tr style=\"text-align: right;\">\n",
       "      <th></th>\n",
       "      <th>Tweet_Id</th>\n",
       "      <th>Username</th>\n",
       "      <th>Followers</th>\n",
       "      <th>Friends</th>\n",
       "      <th>is_deleted</th>\n",
       "      <th>Reputation</th>\n",
       "      <th>num_posted</th>\n",
       "      <th>num_deleted</th>\n",
       "      <th>Deletionratio</th>\n",
       "    </tr>\n",
       "  </thead>\n",
       "  <tbody>\n",
       "    <tr>\n",
       "      <th>0</th>\n",
       "      <td>1178791637348212736</td>\n",
       "      <td>c57d4fb895c5f4a33d2a2b24709f93b5</td>\n",
       "      <td>764191</td>\n",
       "      <td>132</td>\n",
       "      <td>True</td>\n",
       "      <td>0.9998</td>\n",
       "      <td>21</td>\n",
       "      <td>21</td>\n",
       "      <td>1.0000</td>\n",
       "    </tr>\n",
       "    <tr>\n",
       "      <th>1</th>\n",
       "      <td>1181705842275573766</td>\n",
       "      <td>c57d4fb895c5f4a33d2a2b24709f93b5</td>\n",
       "      <td>765034</td>\n",
       "      <td>132</td>\n",
       "      <td>True</td>\n",
       "      <td>0.9998</td>\n",
       "      <td>21</td>\n",
       "      <td>21</td>\n",
       "      <td>1.0000</td>\n",
       "    </tr>\n",
       "    <tr>\n",
       "      <th>2</th>\n",
       "      <td>1187828746503540738</td>\n",
       "      <td>c57d4fb895c5f4a33d2a2b24709f93b5</td>\n",
       "      <td>766578</td>\n",
       "      <td>132</td>\n",
       "      <td>True</td>\n",
       "      <td>0.9998</td>\n",
       "      <td>21</td>\n",
       "      <td>21</td>\n",
       "      <td>1.0000</td>\n",
       "    </tr>\n",
       "    <tr>\n",
       "      <th>3</th>\n",
       "      <td>1192622772658290688</td>\n",
       "      <td>c57d4fb895c5f4a33d2a2b24709f93b5</td>\n",
       "      <td>767939</td>\n",
       "      <td>133</td>\n",
       "      <td>True</td>\n",
       "      <td>0.9998</td>\n",
       "      <td>21</td>\n",
       "      <td>21</td>\n",
       "      <td>1.0000</td>\n",
       "    </tr>\n",
       "    <tr>\n",
       "      <th>4</th>\n",
       "      <td>1193272068621717504</td>\n",
       "      <td>c57d4fb895c5f4a33d2a2b24709f93b5</td>\n",
       "      <td>768180</td>\n",
       "      <td>133</td>\n",
       "      <td>True</td>\n",
       "      <td>0.9998</td>\n",
       "      <td>21</td>\n",
       "      <td>21</td>\n",
       "      <td>1.0000</td>\n",
       "    </tr>\n",
       "  </tbody>\n",
       "</table>\n",
       "</div>"
      ],
      "text/plain": [
       "              Tweet_Id                          Username  Followers  Friends  \\\n",
       "0  1178791637348212736  c57d4fb895c5f4a33d2a2b24709f93b5     764191      132   \n",
       "1  1181705842275573766  c57d4fb895c5f4a33d2a2b24709f93b5     765034      132   \n",
       "2  1187828746503540738  c57d4fb895c5f4a33d2a2b24709f93b5     766578      132   \n",
       "3  1192622772658290688  c57d4fb895c5f4a33d2a2b24709f93b5     767939      133   \n",
       "4  1193272068621717504  c57d4fb895c5f4a33d2a2b24709f93b5     768180      133   \n",
       "\n",
       "   is_deleted  Reputation  num_posted  num_deleted  Deletionratio  \n",
       "0        True      0.9998          21           21         1.0000  \n",
       "1        True      0.9998          21           21         1.0000  \n",
       "2        True      0.9998          21           21         1.0000  \n",
       "3        True      0.9998          21           21         1.0000  \n",
       "4        True      0.9998          21           21         1.0000  "
      ]
     },
     "execution_count": 3,
     "metadata": {},
     "output_type": "execute_result"
    }
   ],
   "source": [
    "pfad_tsv = '../data/TweetsCov19_alltweets_reputation_deletionratio.tsv'\n",
    "\n",
    "df_tweetscov19_alltweets_reputation_deletionratio = pd.read_csv(pfad_tsv, sep='\\t', error_bad_lines=False, names=['Tweet_Id', 'Username', 'Followers', 'Friends', 'is_deleted', 'Reputation', 'num_posted', 'num_deleted', 'Deletionratio'])\n",
    "\n",
    "print('Form :', df_tweetscov19_alltweets_reputation_deletionratio.shape)\n",
    "df_tweetscov19_alltweets_reputation_deletionratio.head()"
   ]
  },
  {
   "cell_type": "code",
   "execution_count": 4,
   "id": "83e86863",
   "metadata": {},
   "outputs": [
    {
     "name": "stdout",
     "output_type": "stream",
     "text": [
      "Form : (905746, 4)\n"
     ]
    },
    {
     "data": {
      "text/html": [
       "<div>\n",
       "<style scoped>\n",
       "    .dataframe tbody tr th:only-of-type {\n",
       "        vertical-align: middle;\n",
       "    }\n",
       "\n",
       "    .dataframe tbody tr th {\n",
       "        vertical-align: top;\n",
       "    }\n",
       "\n",
       "    .dataframe thead th {\n",
       "        text-align: right;\n",
       "    }\n",
       "</style>\n",
       "<table border=\"1\" class=\"dataframe\">\n",
       "  <thead>\n",
       "    <tr style=\"text-align: right;\">\n",
       "      <th></th>\n",
       "      <th>Username</th>\n",
       "      <th>is_deleted</th>\n",
       "      <th>Reputation</th>\n",
       "      <th>science</th>\n",
       "    </tr>\n",
       "  </thead>\n",
       "  <tbody>\n",
       "    <tr>\n",
       "      <th>0</th>\n",
       "      <td>cd45cd8eae02f9b33d9e7de16042534d</td>\n",
       "      <td>False</td>\n",
       "      <td>0.8605</td>\n",
       "      <td>-1.0000</td>\n",
       "    </tr>\n",
       "    <tr>\n",
       "      <th>1</th>\n",
       "      <td>cd45cd8eae02f9b33d9e7de16042534d</td>\n",
       "      <td>False</td>\n",
       "      <td>0.8605</td>\n",
       "      <td>-1.0000</td>\n",
       "    </tr>\n",
       "    <tr>\n",
       "      <th>2</th>\n",
       "      <td>cd45cd8eae02f9b33d9e7de16042534d</td>\n",
       "      <td>True</td>\n",
       "      <td>0.8605</td>\n",
       "      <td>-1.0000</td>\n",
       "    </tr>\n",
       "    <tr>\n",
       "      <th>3</th>\n",
       "      <td>cd45cd8eae02f9b33d9e7de16042534d</td>\n",
       "      <td>False</td>\n",
       "      <td>0.8605</td>\n",
       "      <td>-1.0000</td>\n",
       "    </tr>\n",
       "    <tr>\n",
       "      <th>4</th>\n",
       "      <td>cd45cd8eae02f9b33d9e7de16042534d</td>\n",
       "      <td>False</td>\n",
       "      <td>0.8605</td>\n",
       "      <td>-1.0000</td>\n",
       "    </tr>\n",
       "  </tbody>\n",
       "</table>\n",
       "</div>"
      ],
      "text/plain": [
       "                           Username  is_deleted  Reputation  science\n",
       "0  cd45cd8eae02f9b33d9e7de16042534d       False      0.8605  -1.0000\n",
       "1  cd45cd8eae02f9b33d9e7de16042534d       False      0.8605  -1.0000\n",
       "2  cd45cd8eae02f9b33d9e7de16042534d        True      0.8605  -1.0000\n",
       "3  cd45cd8eae02f9b33d9e7de16042534d       False      0.8605  -1.0000\n",
       "4  cd45cd8eae02f9b33d9e7de16042534d       False      0.8605  -1.0000"
      ]
     },
     "execution_count": 4,
     "metadata": {},
     "output_type": "execute_result"
    }
   ],
   "source": [
    "df_tweetscov19_alltweets_reputation_deletionratio = df_tweetscov19_alltweets_reputation_deletionratio[['Username', 'is_deleted', 'Reputation']]\n",
    "\n",
    "df_tweetscov19_science_polarized_and_neutralized = df_tweetscov19_science_polarized_and_neutralized[['Username', 'science']]\n",
    "\n",
    "df_tweetscov19 = pd.merge(df_tweetscov19_alltweets_reputation_deletionratio, df_tweetscov19_science_polarized_and_neutralized, on='Username', how='inner')\n",
    "print('Form :', df_tweetscov19.shape)\n",
    "df_tweetscov19.head()"
   ]
  },
  {
   "cell_type": "markdown",
   "id": "1d3ced49",
   "metadata": {},
   "source": [
    "****"
   ]
  },
  {
   "cell_type": "code",
   "execution_count": 5,
   "id": "5607aaa8",
   "metadata": {},
   "outputs": [
    {
     "name": "stdout",
     "output_type": "stream",
     "text": [
      "Alle Users: 44493\n"
     ]
    }
   ],
   "source": [
    "print('Alle Users:', df_tweetscov19.Username.unique().size)\n"
   ]
  },
  {
   "cell_type": "code",
   "execution_count": 6,
   "id": "3dd80ff1",
   "metadata": {},
   "outputs": [
    {
     "name": "stdout",
     "output_type": "stream",
     "text": [
      "Shape:  (876719, 4)\n"
     ]
    },
    {
     "data": {
      "text/html": [
       "<div>\n",
       "<style scoped>\n",
       "    .dataframe tbody tr th:only-of-type {\n",
       "        vertical-align: middle;\n",
       "    }\n",
       "\n",
       "    .dataframe tbody tr th {\n",
       "        vertical-align: top;\n",
       "    }\n",
       "\n",
       "    .dataframe thead th {\n",
       "        text-align: right;\n",
       "    }\n",
       "</style>\n",
       "<table border=\"1\" class=\"dataframe\">\n",
       "  <thead>\n",
       "    <tr style=\"text-align: right;\">\n",
       "      <th></th>\n",
       "      <th>Username</th>\n",
       "      <th>is_deleted</th>\n",
       "      <th>Reputation</th>\n",
       "      <th>science</th>\n",
       "    </tr>\n",
       "  </thead>\n",
       "  <tbody>\n",
       "    <tr>\n",
       "      <th>0</th>\n",
       "      <td>cd45cd8eae02f9b33d9e7de16042534d</td>\n",
       "      <td>False</td>\n",
       "      <td>0.8605</td>\n",
       "      <td>-1.0000</td>\n",
       "    </tr>\n",
       "    <tr>\n",
       "      <th>1</th>\n",
       "      <td>cd45cd8eae02f9b33d9e7de16042534d</td>\n",
       "      <td>False</td>\n",
       "      <td>0.8605</td>\n",
       "      <td>-1.0000</td>\n",
       "    </tr>\n",
       "    <tr>\n",
       "      <th>2</th>\n",
       "      <td>cd45cd8eae02f9b33d9e7de16042534d</td>\n",
       "      <td>True</td>\n",
       "      <td>0.8605</td>\n",
       "      <td>-1.0000</td>\n",
       "    </tr>\n",
       "    <tr>\n",
       "      <th>3</th>\n",
       "      <td>cd45cd8eae02f9b33d9e7de16042534d</td>\n",
       "      <td>False</td>\n",
       "      <td>0.8605</td>\n",
       "      <td>-1.0000</td>\n",
       "    </tr>\n",
       "    <tr>\n",
       "      <th>4</th>\n",
       "      <td>cd45cd8eae02f9b33d9e7de16042534d</td>\n",
       "      <td>False</td>\n",
       "      <td>0.8605</td>\n",
       "      <td>-1.0000</td>\n",
       "    </tr>\n",
       "  </tbody>\n",
       "</table>\n",
       "</div>"
      ],
      "text/plain": [
       "                           Username  is_deleted  Reputation  science\n",
       "0  cd45cd8eae02f9b33d9e7de16042534d       False      0.8605  -1.0000\n",
       "1  cd45cd8eae02f9b33d9e7de16042534d       False      0.8605  -1.0000\n",
       "2  cd45cd8eae02f9b33d9e7de16042534d        True      0.8605  -1.0000\n",
       "3  cd45cd8eae02f9b33d9e7de16042534d       False      0.8605  -1.0000\n",
       "4  cd45cd8eae02f9b33d9e7de16042534d       False      0.8605  -1.0000"
      ]
     },
     "execution_count": 6,
     "metadata": {},
     "output_type": "execute_result"
    }
   ],
   "source": [
    "df_tweetscov19 = df_tweetscov19[df_tweetscov19['science'] != 0]\n",
    "\n",
    "print('Shape: ', df_tweetscov19.shape)\n",
    "df_tweetscov19.head()"
   ]
  },
  {
   "cell_type": "code",
   "execution_count": 16,
   "id": "094c5420",
   "metadata": {},
   "outputs": [],
   "source": [
    "df_tweetscov19_del = df_tweetscov19[df_tweetscov19['is_deleted']==True]\n",
    "df_tweetscov19_undel = df_tweetscov19[df_tweetscov19['is_deleted']==False]"
   ]
  },
  {
   "cell_type": "code",
   "execution_count": 17,
   "id": "28aa8928",
   "metadata": {},
   "outputs": [
    {
     "name": "stdout",
     "output_type": "stream",
     "text": [
      "Deleted Tweets: (253163, 4)\n",
      "Non-deleted Tweets: (652583, 4)\n"
     ]
    }
   ],
   "source": [
    "print('Deleted Tweets:', df_tweetscov19_del.shape)\n",
    "print('Non-deleted Tweets:', df_tweetscov19_undel.shape)"
   ]
  },
  {
   "cell_type": "code",
   "execution_count": 18,
   "id": "1d64901d",
   "metadata": {},
   "outputs": [
    {
     "name": "stdout",
     "output_type": "stream",
     "text": [
      "Alle Users: 44493\n",
      "Alle pro. Users in gesammten Tweets: 18352\n",
      "Tweets of pro. Users in gesammten Tweets: 291021\n",
      "Alle anti. Users in gesammten Tweets: 25591\n",
      "Tweets of anti. Users in gesammten Tweets: 585698\n"
     ]
    }
   ],
   "source": [
    "print('Alle Users:', df_tweetscov19.Username.unique().size)\n",
    "\n",
    "df = df_tweetscov19[df_tweetscov19['science']>0]\n",
    "print('Alle pro. Users in gesammten Tweets:', df.Username.unique().size)\n",
    "print('Tweets of pro. Users in gesammten Tweets:', df.shape[0])\n",
    "\n",
    "df = df_tweetscov19[df_tweetscov19['science']<0]\n",
    "print('Alle anti. Users in gesammten Tweets:', df.Username.unique().size)\n",
    "print('Tweets of anti. Users in gesammten Tweets:', df.shape[0])\n"
   ]
  },
  {
   "cell_type": "code",
   "execution_count": 19,
   "id": "aa4f2d7b",
   "metadata": {},
   "outputs": [
    {
     "name": "stdout",
     "output_type": "stream",
     "text": [
      "Alle Users: 16030\n",
      "Alle pro. Users in gelöschten Tweets: 4096\n",
      "Tweets of pro. Users in gelöschten Tweets: 31194\n",
      "Alle anti. Users in gelöschten Tweets: 11676\n",
      "Tweets of anti. Users in gelöschten Tweets: 216169\n"
     ]
    }
   ],
   "source": [
    "print('Alle Users:', df_tweetscov19_del.Username.unique().size)\n",
    "\n",
    "df = df_tweetscov19_del[df_tweetscov19_del['science']>0]\n",
    "print('Alle pro. Users in gelöschten Tweets:', df.Username.unique().size)\n",
    "print('Tweets of pro. Users in gelöschten Tweets:', df.shape[0])\n",
    "\n",
    "df = df_tweetscov19_del[df_tweetscov19_del['science']<0]\n",
    "print('Alle anti. Users in gelöschten Tweets:', df.Username.unique().size)\n",
    "print('Tweets of anti. Users in gelöschten Tweets:', df.shape[0])\n"
   ]
  },
  {
   "cell_type": "code",
   "execution_count": 20,
   "id": "2fd0a340",
   "metadata": {},
   "outputs": [
    {
     "name": "stdout",
     "output_type": "stream",
     "text": [
      "Alle Users: 33446\n",
      "Alle pro. Users in nicht gelöschten Tweets: 16225\n",
      "Tweets of pro. Users in nicht gelöschten Tweets: 259827\n",
      "Alle anti. Users in nicht gelöschten Tweets: 16784\n",
      "Tweets of anti. Users in nicht gelöschten Tweets: 369529\n"
     ]
    }
   ],
   "source": [
    "print('Alle Users:', df_tweetscov19_undel.Username.unique().size)\n",
    "\n",
    "df = df_tweetscov19_undel[df_tweetscov19_undel['science']>0]\n",
    "print('Alle pro. Users in nicht gelöschten Tweets:', df.Username.unique().size)\n",
    "print('Tweets of pro. Users in nicht gelöschten Tweets:', df.shape[0])\n",
    "\n",
    "df = df_tweetscov19_undel[df_tweetscov19_undel['science']<0]\n",
    "print('Alle anti. Users in nicht gelöschten Tweets:', df.Username.unique().size)\n",
    "print('Tweets of anti. Users in nicht gelöschten Tweets:', df.shape[0])\n"
   ]
  },
  {
   "cell_type": "code",
   "execution_count": 21,
   "id": "25cb55f1",
   "metadata": {},
   "outputs": [
    {
     "name": "stdout",
     "output_type": "stream",
     "text": [
      "Alle Users: 550\n",
      "Alle neutral Users in gelöschten Tweets: 258\n",
      "Tweets of neutral Users in gelöschten Tweets: 5800\n",
      "Alle neutral Users in nicht gelöschten Tweets: 437\n",
      "Tweets of neutral Users in nicht gelöschten Tweets: 23227\n"
     ]
    }
   ],
   "source": [
    "df_tweetscov19_neutral = df_tweetscov19[df_tweetscov19['science']==0]\n",
    "print('Alle Users:', df_tweetscov19_neutral.Username.unique().size)\n",
    "\n",
    "df = df_tweetscov19_del[df_tweetscov19_del['science']==0]\n",
    "print('Alle neutral Users in gelöschten Tweets:', df.Username.unique().size)\n",
    "print('Tweets of neutral Users in gelöschten Tweets:', df.shape[0])\n",
    "\n",
    "df = df_tweetscov19_undel[df_tweetscov19_undel['science']==0]\n",
    "print('Alle neutral Users in nicht gelöschten Tweets:', df.Username.unique().size)\n",
    "print('Tweets of neutral Users in nicht gelöschten Tweets:', df.shape[0])"
   ]
  },
  {
   "cell_type": "code",
   "execution_count": 47,
   "id": "265186af",
   "metadata": {},
   "outputs": [],
   "source": [
    "def plot_kdeplot_v1(df, hue, x, x_label, titel, name): \n",
    "    #fig = plt.figure()\n",
    "    #ax = fig.add_subplot()\n",
    "    ax = sns.kdeplot(data=df, x=x, hue=hue, fill=True, legend= False)\n",
    "    #plt.rcParams[\"figure.figsize\"] = [7,5]\n",
    "\n",
    "    ax.set_ylabel(ylabel='Density', fontsize=15)\n",
    "    ax.set_xlabel(xlabel=x_label, fontsize=17)\n",
    "\n",
    "    ax.tick_params(axis='x', which='major', labelsize=16)\n",
    "    ax.tick_params(axis='y', which='major', labelsize=15)\n",
    "\n",
    "    #plt.margins(0.02)\n",
    "    #fig.tight_layout()\n",
    "    #plt.show()\n",
    "    plt.legend(labels = ['Deleted','Non-deleted'], bbox_to_anchor=(0.2, 1.13), ncol=2, loc=2, borderaxespad=0, fontsize=12)\n",
    "    #g.set_title(titel, fontweight=\"bold\")\n",
    "    #plt.legend(labels = ['Deleted','Non-deleted'], bbox_to_anchor=(1.02, 1.), loc=2, borderaxespad=0)\n",
    "    plt.tight_layout()\n",
    "    plt.savefig('../plots/'+name+'.pdf')\n"
   ]
  },
  {
   "cell_type": "code",
   "execution_count": 48,
   "id": "5fa04aac",
   "metadata": {},
   "outputs": [
    {
     "data": {
      "image/png": "[encoded data removed]",
      "text/plain": [
       "<Figure size 432x288 with 1 Axes>"
      ]
     },
     "metadata": {
      "needs_background": "light"
     },
     "output_type": "display_data"
    }
   ],
   "source": [
    "df = df_tweetscov19[['is_deleted', 'science']]\n",
    "plot_kdeplot_v1(df, 'is_deleted','science' ,'Science' ,'TweetsCov19', 'kdeplot_tweetscov19_science_all_tweets_conditionaldistribution')"
   ]
  },
  {
   "cell_type": "code",
   "execution_count": 5,
   "id": "1d09ccc3",
   "metadata": {},
   "outputs": [],
   "source": [
    "def plot_kdeplot_v2(df, hue, x, x_label, titel, name): \n",
    "    \n",
    "    #fig = plt.figure()\n",
    "    #ax = fig.add_subplot()\n",
    "    #ax = sns.kdeplot(data=df, x=x, hue=hue, fill=True, legend= False)\n",
    "    ax = sns.kdeplot(data=df, x=x, hue=hue, multiple=\"fill\", legend= False)\n",
    "\n",
    "    #plt.rcParams[\"figure.figsize\"] = [7,5]\n",
    "\n",
    "    ax.set_title('Science', fontsize=22)\n",
    "    ax.set_ylabel(ylabel='Density', fontsize=22)\n",
    "    ax.set_xlabel(xlabel=x_label, fontsize=22)\n",
    "\n",
    "    ax.tick_params(axis='x', which='major', labelsize=18)\n",
    "    ax.tick_params(axis='y', which='major', labelsize=18)\n",
    "\n",
    "    #plt.margins(0.02)\n",
    "    #fig.tight_layout()\n",
    "    #plt.show()\n",
    "    #plt.legend(labels = ['Deleted','Non-deleted'], bbox_to_anchor=(0.2, 1.13), ncol=2, loc=2, borderaxespad=0, fontsize=12)\n",
    "    #g.set_title(titel, fontweight=\"bold\")\n",
    "    #plt.legend(labels = ['Deleted','Non-deleted'], bbox_to_anchor=(1.02, 1.), loc=2, borderaxespad=0)\n",
    "    plt.legend([],[], frameon=False)\n",
    "    plt.tight_layout()\n",
    "    plt.savefig('../plots/'+name+'.pdf')\n"
   ]
  },
  {
   "cell_type": "code",
   "execution_count": 6,
   "id": "1c78b677",
   "metadata": {},
   "outputs": [
    {
     "data": {
      "image/png": "[encoded data removed]",
      "text/plain": [
       "<Figure size 432x288 with 1 Axes>"
      ]
     },
     "metadata": {
      "needs_background": "light"
     },
     "output_type": "display_data"
    }
   ],
   "source": [
    "df = df_tweetscov19[['is_deleted', 'science']]\n",
    "plot_kdeplot_v2(df, 'is_deleted','science' ,'Anti-science <-> Pro-science' ,'TweetsCov19', 'kdeplot_tweetscov19_science_all_tweets_Normalizethestackeddistribution')"
   ]
  },
  {
   "cell_type": "code",
   "execution_count": 51,
   "id": "bff8165e",
   "metadata": {},
   "outputs": [],
   "source": [
    "def plot_kdeplot_v3(df, hue, x, x_label, titel, name): \n",
    "    #ax = sns.kdeplot(data=df, x=x, hue=hue, multiple=\"fill\")\n",
    "    ax = sns.kdeplot(\n",
    "    data=df, x=x, hue=hue,\n",
    "    cumulative=True, common_norm=False, common_grid=True,\n",
    "    )\n",
    "    \n",
    "    ax.set_ylabel(ylabel='Density', fontsize=15)\n",
    "    ax.set_xlabel(xlabel=x_label, fontsize=17)\n",
    "\n",
    "    ax.tick_params(axis='x', which='major', labelsize=16)\n",
    "    ax.tick_params(axis='y', which='major', labelsize=15)\n",
    "\n",
    "    plt.legend(labels = ['Deleted','Non-deleted'], bbox_to_anchor=(0.2, 1.13), ncol=2, loc=2, borderaxespad=0, fontsize=12)\n",
    "    #g.set_title(titel, fontweight=\"bold\")\n",
    "    #plt.legend(labels = ['Deleted','Non-deleted'], bbox_to_anchor=(1.02, 1.), loc=2, borderaxespad=0)\n",
    "    plt.tight_layout()\n",
    "    plt.savefig('../plots/'+name+'.pdf')\n"
   ]
  },
  {
   "cell_type": "code",
   "execution_count": 52,
   "id": "10e4c63f",
   "metadata": {},
   "outputs": [
    {
     "data": {
      "image/png": "[encoded data removed]",
      "text/plain": [
       "<Figure size 432x288 with 1 Axes>"
      ]
     },
     "metadata": {
      "needs_background": "light"
     },
     "output_type": "display_data"
    }
   ],
   "source": [
    "df = df_tweetscov19[['is_deleted', 'science']]\n",
    "plot_kdeplot_v3(df, 'is_deleted','science' ,'Science' ,'TweetsCov19', 'kdeplot_tweetscov19_science_all_tweets_cumulativedistributionfunction')"
   ]
  },
  {
   "cell_type": "markdown",
   "id": "e91dd532",
   "metadata": {},
   "source": [
    "***"
   ]
  },
  {
   "cell_type": "markdown",
   "id": "9dbd96ec",
   "metadata": {},
   "source": [
    "# Histogram"
   ]
  },
  {
   "cell_type": "markdown",
   "id": "8375fd69",
   "metadata": {},
   "source": [
    "***"
   ]
  },
  {
   "cell_type": "markdown",
   "id": "cb30a177",
   "metadata": {},
   "source": [
    "***"
   ]
  },
  {
   "cell_type": "code",
   "execution_count": 14,
   "id": "4873a3a3",
   "metadata": {},
   "outputs": [],
   "source": [
    "def thousands(x, pos):\n",
    "    if x <1000 :\n",
    "        return '{:1.0f}'.format(x*1e-3)\n",
    "    \"\"\"The two args are the value and tick position.\"\"\"\n",
    "    return '{:1.0f}k'.format(x*1e-3)\n",
    "\n",
    "def plot_histogram(df, titel):\n",
    "    \n",
    "    fig, ax = plt.subplots()\n",
    "    \n",
    "    \n",
    "    N, bins, patches = ax.hist(df, bins=11, color = 'gray')\n",
    "    patches[5].set_label('Neutral')\n",
    "    patches[5].set_facecolor('gray')\n",
    "    for i in range(0,5):\n",
    "        patches[i].set_facecolor('forestgreen')\n",
    "    patches[1].set_label('Anti-Science')\n",
    "    for i in range(6,len(patches)):\n",
    "        patches[i].set_facecolor('gold')\n",
    "    patches[9].set_label('Pro-Science')\n",
    "    ax.tick_params(axis='x', which='major', labelsize=18)\n",
    "    ax.tick_params(axis='y', which='major', labelsize=18)\n",
    "\n",
    "    figsize=(8, 6)\n",
    "    ax.set_title('Science', fontsize=22)\n",
    "    ax.set_ylabel('Number of users', fontsize=22)\n",
    "    ax.set_xlabel(xlabel='Anti-science <-> Pro-science', fontsize=22)\n",
    "    ax.yaxis.set_major_formatter(thousands)\n",
    "\n",
    "    #f = ticker.ScalarFormatter(useOffset=False, useMathText=True)\n",
    "    #g = lambda x,pos : \"${}$\".format(f._formatSciNotation('%1.10e' % x))\n",
    "    #ax.yaxis.set_major_formatter(ticker.FuncFormatter(g))\n",
    "    \n",
    "    #plt.title('Political polarization', fontsize=18)\n",
    "    plt.legend(loc='upper center', fontsize=14)\n",
    "    #plt.legend( fontsize=12)\n",
    "\n",
    "    plt.tight_layout()\n",
    "    plt.savefig('../plots/'+titel+'.pdf')"
   ]
  },
  {
   "cell_type": "code",
   "execution_count": 6,
   "id": "8dd48948",
   "metadata": {},
   "outputs": [],
   "source": [
    "df_tweetscov19_del = df_tweetscov19[df_tweetscov19['is_deleted']==True]\n",
    "df_tweetscov19_undel = df_tweetscov19[df_tweetscov19['is_deleted']==False]"
   ]
  },
  {
   "cell_type": "code",
   "execution_count": 7,
   "id": "94d6f66c",
   "metadata": {},
   "outputs": [],
   "source": [
    "#matplotlib.rcParams['font.family'] = ['sans-serif']"
   ]
  },
  {
   "cell_type": "code",
   "execution_count": 10,
   "id": "9d69aa05",
   "metadata": {},
   "outputs": [
    {
     "data": {
      "image/png": "[encoded data removed]",
      "text/plain": [
       "<Figure size 432x288 with 1 Axes>"
      ]
     },
     "metadata": {
      "needs_background": "light"
     },
     "output_type": "display_data"
    }
   ],
   "source": [
    "df = df_tweetscov19.drop_duplicates(subset=['Username'])\n",
    "plot_histogram(df['science'],'hist_tweetsCov19_science_polarized_users(alltweets)')"
   ]
  },
  {
   "cell_type": "code",
   "execution_count": 13,
   "id": "18d39e9a",
   "metadata": {},
   "outputs": [
    {
     "data": {
      "image/png": "[encoded data removed]",
      "text/plain": [
       "<Figure size 432x288 with 1 Axes>"
      ]
     },
     "metadata": {
      "needs_background": "light"
     },
     "output_type": "display_data"
    }
   ],
   "source": [
    "df = df_tweetscov19_del.drop_duplicates(subset=['Username'])\n",
    "plot_histogram(df['science'],'hist_tweetsCov19_science_polarized_users(deletedtweets)')"
   ]
  },
  {
   "cell_type": "code",
   "execution_count": 15,
   "id": "793c94a7",
   "metadata": {},
   "outputs": [
    {
     "data": {
      "image/png": "[encoded data removed]",
      "text/plain": [
       "<Figure size 432x288 with 1 Axes>"
      ]
     },
     "metadata": {
      "needs_background": "light"
     },
     "output_type": "display_data"
    }
   ],
   "source": [
    "df = df_tweetscov19_undel.drop_duplicates(subset=['Username'])\n",
    "plot_histogram(df['science'],'hist_tweetsCov19_science_polarized_users(nondeletedtweets)')"
   ]
  },
  {
   "cell_type": "markdown",
   "id": "9aca78fd",
   "metadata": {},
   "source": [
    "***"
   ]
  },
  {
   "cell_type": "markdown",
   "id": "c420f855",
   "metadata": {},
   "source": [
    "# Heatmap\n",
    "### Reputation-Polarisierung"
   ]
  },
  {
   "cell_type": "markdown",
   "id": "312838da",
   "metadata": {},
   "source": [
    "***"
   ]
  },
  {
   "cell_type": "markdown",
   "id": "1701cd74",
   "metadata": {},
   "source": [
    "***"
   ]
  },
  {
   "cell_type": "code",
   "execution_count": 27,
   "id": "e4955211",
   "metadata": {},
   "outputs": [],
   "source": [
    "import plotly.express as px\n",
    "import plotly.graph_objs as go\n",
    "import plotly.offline as pyo\n",
    "\n",
    "def density_hp(df, title, x, y, color):\n",
    "    fig = px.density_heatmap(df, x=x, y=y, nbinsx=20, nbinsy=20, color_continuous_scale=color)\n",
    "    fig.layout.height = 500\n",
    "    fig.layout.width = 600\n",
    "    fig.update_layout(\n",
    "        title= dict(\n",
    "            text= \"Science\",\n",
    "            y=0.95,\n",
    "            x=0.45,\n",
    "            xanchor= 'center',\n",
    "            yanchor= 'top'),\n",
    "        titlefont = dict(\n",
    "             family = 'Arial, sans-serif',\n",
    "             size = 32,\n",
    "             color = 'Black'\n",
    "              ),\n",
    "        xaxis = dict(\n",
    "            title='Anti-science  <->  Pro-science',\n",
    "            \n",
    "            tickmode = 'linear',\n",
    "            dtick = 0.5,\n",
    "            tickfont = dict(\n",
    "            family = 'Arial, sans-serif',\n",
    "            size = 28,\n",
    "            color = 'black'\n",
    "              ),\n",
    "            titlefont = dict(\n",
    "             family = 'Arial, sans-serif',\n",
    "             size = 32,\n",
    "             color = 'Black'\n",
    "              ),\n",
    "            ),\n",
    "        yaxis = dict(\n",
    "            tickmode = 'linear',\n",
    "            dtick = 0.5,\n",
    "            tickfont = dict(\n",
    "            family = 'Arial, sans-serif',\n",
    "            size = 28,\n",
    "            color = 'black'\n",
    "              ),\n",
    "        titlefont = dict(\n",
    "             family = 'Arial, sans-serif',\n",
    "             size = 32,\n",
    "             color = 'Black'\n",
    "              ),\n",
    "            ),\n",
    "        coloraxis_colorbar=dict(\n",
    "            title=\"Tweets\",\n",
    "            thicknessmode=\"pixels\",\n",
    "            titlefont = dict(\n",
    "             family = 'Arial, sans-serif',\n",
    "             size = 32,\n",
    "             color = 'Black'\n",
    "              ),\n",
    "            tickfont = dict(\n",
    "            family = 'Arial, sans-serif',\n",
    "            size = 25,\n",
    "            color = 'black'\n",
    "              ),\n",
    "            ),\n",
    "\n",
    "\n",
    "        )\n",
    "\n",
    "    #fig.show()\n",
    "    pyo.plot(fig, filename=title+\".html\")\n",
    "    fig.write_image('../plots/heatmaps/'+title+'.pdf')"
   ]
  },
  {
   "cell_type": "code",
   "execution_count": 28,
   "id": "89797641",
   "metadata": {},
   "outputs": [],
   "source": [
    "#All Tweets\n",
    "df = df_tweetscov19[['is_deleted', 'science', 'Reputation']]\n",
    "\n",
    "df_del =  df[df['is_deleted']==True]\n",
    "df_undel = df[df['is_deleted']==False]"
   ]
  },
  {
   "cell_type": "code",
   "execution_count": 29,
   "id": "a7a2da15",
   "metadata": {},
   "outputs": [],
   "source": [
    "density_hp(df,'density_hp_science_polarisation_tweetscov19_alltweets' ,'science', 'Reputation', 'Greens')"
   ]
  },
  {
   "cell_type": "code",
   "execution_count": 30,
   "id": "79df53cf",
   "metadata": {},
   "outputs": [],
   "source": [
    "density_hp(df_del,'density_hp_science_polarisation_tweetscov19_deleted' ,'science', 'Reputation', 'Greens')"
   ]
  },
  {
   "cell_type": "code",
   "execution_count": 31,
   "id": "0c7bedaf",
   "metadata": {},
   "outputs": [],
   "source": [
    "density_hp(df_undel,'density_hp_science_polarisation_tweetscov19_nondeleted' ,'science', 'Reputation', 'Greens')"
   ]
  },
  {
   "cell_type": "markdown",
   "id": "c2e1bda5",
   "metadata": {},
   "source": [
    "****"
   ]
  },
  {
   "cell_type": "markdown",
   "id": "7936fc79",
   "metadata": {},
   "source": [
    "***"
   ]
  },
  {
   "cell_type": "markdown",
   "id": "c3eeffb0",
   "metadata": {},
   "source": [
    "# TweetKB\n",
    "## KDE-Plot"
   ]
  },
  {
   "cell_type": "markdown",
   "id": "bf1449e0",
   "metadata": {},
   "source": [
    "***"
   ]
  },
  {
   "cell_type": "code",
   "execution_count": 16,
   "id": "b74f16a8",
   "metadata": {},
   "outputs": [
    {
     "name": "stdout",
     "output_type": "stream",
     "text": [
      "Shape : (15325, 5)\n"
     ]
    },
    {
     "data": {
      "text/html": [
       "<div>\n",
       "<style scoped>\n",
       "    .dataframe tbody tr th:only-of-type {\n",
       "        vertical-align: middle;\n",
       "    }\n",
       "\n",
       "    .dataframe tbody tr th {\n",
       "        vertical-align: top;\n",
       "    }\n",
       "\n",
       "    .dataframe thead th {\n",
       "        text-align: right;\n",
       "    }\n",
       "</style>\n",
       "<table border=\"1\" class=\"dataframe\">\n",
       "  <thead>\n",
       "    <tr style=\"text-align: right;\">\n",
       "      <th></th>\n",
       "      <th>Username</th>\n",
       "      <th>Number_of_antiscience_domains</th>\n",
       "      <th>Number_of_proscience_domains</th>\n",
       "      <th>Sum_polarised_domains</th>\n",
       "      <th>science</th>\n",
       "    </tr>\n",
       "  </thead>\n",
       "  <tbody>\n",
       "    <tr>\n",
       "      <th>0</th>\n",
       "      <td>000000hSure</td>\n",
       "      <td>-1</td>\n",
       "      <td>0</td>\n",
       "      <td>1</td>\n",
       "      <td>-1.0000</td>\n",
       "    </tr>\n",
       "    <tr>\n",
       "      <th>1</th>\n",
       "      <td>01splcheck</td>\n",
       "      <td>-1</td>\n",
       "      <td>0</td>\n",
       "      <td>1</td>\n",
       "      <td>-1.0000</td>\n",
       "    </tr>\n",
       "    <tr>\n",
       "      <th>2</th>\n",
       "      <td>01sth02</td>\n",
       "      <td>0</td>\n",
       "      <td>1</td>\n",
       "      <td>1</td>\n",
       "      <td>1.0000</td>\n",
       "    </tr>\n",
       "    <tr>\n",
       "      <th>3</th>\n",
       "      <td>0Bettymowery2</td>\n",
       "      <td>-1</td>\n",
       "      <td>0</td>\n",
       "      <td>1</td>\n",
       "      <td>-1.0000</td>\n",
       "    </tr>\n",
       "    <tr>\n",
       "      <th>4</th>\n",
       "      <td>0Ludicris5</td>\n",
       "      <td>-2</td>\n",
       "      <td>0</td>\n",
       "      <td>2</td>\n",
       "      <td>-1.0000</td>\n",
       "    </tr>\n",
       "  </tbody>\n",
       "</table>\n",
       "</div>"
      ],
      "text/plain": [
       "        Username  Number_of_antiscience_domains  Number_of_proscience_domains  \\\n",
       "0    000000hSure                             -1                             0   \n",
       "1     01splcheck                             -1                             0   \n",
       "2        01sth02                              0                             1   \n",
       "3  0Bettymowery2                             -1                             0   \n",
       "4     0Ludicris5                             -2                             0   \n",
       "\n",
       "   Sum_polarised_domains  science  \n",
       "0                      1  -1.0000  \n",
       "1                      1  -1.0000  \n",
       "2                      1   1.0000  \n",
       "3                      1  -1.0000  \n",
       "4                      2  -1.0000  "
      ]
     },
     "execution_count": 16,
     "metadata": {},
     "output_type": "execute_result"
    }
   ],
   "source": [
    "path = '../data/tweetskb_science_polarized_users_with_atleast_one_polarized_domain.tsv'\n",
    "\n",
    "df_tweetskb_science_polarized_and_neutralized = pd.read_csv(path, sep='\\t', error_bad_lines=False, names=['Username', 'Number_of_antiscience_domains', 'Number_of_proscience_domains', 'Sum_polarised_domains', 'science'])\n",
    "\n",
    "print('Shape :', df_tweetskb_science_polarized_and_neutralized.shape)\n",
    "df_tweetskb_science_polarized_and_neutralized.head()"
   ]
  },
  {
   "cell_type": "code",
   "execution_count": 17,
   "id": "bef8da1d",
   "metadata": {},
   "outputs": [
    {
     "name": "stdout",
     "output_type": "stream",
     "text": [
      "Form : (9409841, 9)\n"
     ]
    },
    {
     "data": {
      "text/html": [
       "<div>\n",
       "<style scoped>\n",
       "    .dataframe tbody tr th:only-of-type {\n",
       "        vertical-align: middle;\n",
       "    }\n",
       "\n",
       "    .dataframe tbody tr th {\n",
       "        vertical-align: top;\n",
       "    }\n",
       "\n",
       "    .dataframe thead th {\n",
       "        text-align: right;\n",
       "    }\n",
       "</style>\n",
       "<table border=\"1\" class=\"dataframe\">\n",
       "  <thead>\n",
       "    <tr style=\"text-align: right;\">\n",
       "      <th></th>\n",
       "      <th>Tweet_Id</th>\n",
       "      <th>Username</th>\n",
       "      <th>Followers</th>\n",
       "      <th>Friends</th>\n",
       "      <th>is_deleted</th>\n",
       "      <th>num_posted</th>\n",
       "      <th>num_del</th>\n",
       "      <th>Deletionratio</th>\n",
       "      <th>Reputation</th>\n",
       "    </tr>\n",
       "  </thead>\n",
       "  <tbody>\n",
       "    <tr>\n",
       "      <th>0</th>\n",
       "      <td>1178791636039589889</td>\n",
       "      <td>DCComics</td>\n",
       "      <td>3349606</td>\n",
       "      <td>563</td>\n",
       "      <td>False</td>\n",
       "      <td>42</td>\n",
       "      <td>0</td>\n",
       "      <td>0.0000</td>\n",
       "      <td>0.9998</td>\n",
       "    </tr>\n",
       "    <tr>\n",
       "      <th>1</th>\n",
       "      <td>1179833467644850176</td>\n",
       "      <td>DCComics</td>\n",
       "      <td>3351904</td>\n",
       "      <td>563</td>\n",
       "      <td>False</td>\n",
       "      <td>42</td>\n",
       "      <td>0</td>\n",
       "      <td>0.0000</td>\n",
       "      <td>0.9998</td>\n",
       "    </tr>\n",
       "    <tr>\n",
       "      <th>2</th>\n",
       "      <td>1180490470125965313</td>\n",
       "      <td>DCComics</td>\n",
       "      <td>3354879</td>\n",
       "      <td>563</td>\n",
       "      <td>False</td>\n",
       "      <td>42</td>\n",
       "      <td>0</td>\n",
       "      <td>0.0000</td>\n",
       "      <td>0.9998</td>\n",
       "    </tr>\n",
       "    <tr>\n",
       "      <th>3</th>\n",
       "      <td>1187059882534400000</td>\n",
       "      <td>DCComics</td>\n",
       "      <td>3369484</td>\n",
       "      <td>562</td>\n",
       "      <td>False</td>\n",
       "      <td>42</td>\n",
       "      <td>0</td>\n",
       "      <td>0.0000</td>\n",
       "      <td>0.9998</td>\n",
       "    </tr>\n",
       "    <tr>\n",
       "      <th>4</th>\n",
       "      <td>1190311668141580288</td>\n",
       "      <td>DCComics</td>\n",
       "      <td>3376154</td>\n",
       "      <td>564</td>\n",
       "      <td>False</td>\n",
       "      <td>42</td>\n",
       "      <td>0</td>\n",
       "      <td>0.0000</td>\n",
       "      <td>0.9998</td>\n",
       "    </tr>\n",
       "  </tbody>\n",
       "</table>\n",
       "</div>"
      ],
      "text/plain": [
       "              Tweet_Id  Username  Followers  Friends  is_deleted  num_posted  \\\n",
       "0  1178791636039589889  DCComics    3349606      563       False          42   \n",
       "1  1179833467644850176  DCComics    3351904      563       False          42   \n",
       "2  1180490470125965313  DCComics    3354879      563       False          42   \n",
       "3  1187059882534400000  DCComics    3369484      562       False          42   \n",
       "4  1190311668141580288  DCComics    3376154      564       False          42   \n",
       "\n",
       "   num_del  Deletionratio  Reputation  \n",
       "0        0         0.0000      0.9998  \n",
       "1        0         0.0000      0.9998  \n",
       "2        0         0.0000      0.9998  \n",
       "3        0         0.0000      0.9998  \n",
       "4        0         0.0000      0.9998  "
      ]
     },
     "execution_count": 17,
     "metadata": {},
     "output_type": "execute_result"
    }
   ],
   "source": [
    "path = '../data/TweetsKB_alltweets_reputation_deletionratio.tsv'\n",
    "\n",
    "df_tweetskb_alltweets_reputation_deletionratio = pd.read_csv(path, sep='\\t', error_bad_lines=False, names=['Tweet_Id', 'Username', 'Followers', 'Friends', 'is_deleted', 'num_posted', 'num_del', 'Deletionratio',  'Reputation'])\n",
    "\n",
    "print('Form :', df_tweetskb_alltweets_reputation_deletionratio.shape)\n",
    "df_tweetskb_alltweets_reputation_deletionratio.head()"
   ]
  },
  {
   "cell_type": "code",
   "execution_count": 18,
   "id": "ab025c05",
   "metadata": {},
   "outputs": [
    {
     "name": "stdout",
     "output_type": "stream",
     "text": [
      "Form : (159330, 4)\n"
     ]
    },
    {
     "data": {
      "text/html": [
       "<div>\n",
       "<style scoped>\n",
       "    .dataframe tbody tr th:only-of-type {\n",
       "        vertical-align: middle;\n",
       "    }\n",
       "\n",
       "    .dataframe tbody tr th {\n",
       "        vertical-align: top;\n",
       "    }\n",
       "\n",
       "    .dataframe thead th {\n",
       "        text-align: right;\n",
       "    }\n",
       "</style>\n",
       "<table border=\"1\" class=\"dataframe\">\n",
       "  <thead>\n",
       "    <tr style=\"text-align: right;\">\n",
       "      <th></th>\n",
       "      <th>Username</th>\n",
       "      <th>is_deleted</th>\n",
       "      <th>Reputation</th>\n",
       "      <th>science</th>\n",
       "    </tr>\n",
       "  </thead>\n",
       "  <tbody>\n",
       "    <tr>\n",
       "      <th>0</th>\n",
       "      <td>caveofbeauty</td>\n",
       "      <td>False</td>\n",
       "      <td>0.9898</td>\n",
       "      <td>1.0000</td>\n",
       "    </tr>\n",
       "    <tr>\n",
       "      <th>1</th>\n",
       "      <td>caveofbeauty</td>\n",
       "      <td>False</td>\n",
       "      <td>0.9898</td>\n",
       "      <td>1.0000</td>\n",
       "    </tr>\n",
       "    <tr>\n",
       "      <th>2</th>\n",
       "      <td>caveofbeauty</td>\n",
       "      <td>False</td>\n",
       "      <td>0.9898</td>\n",
       "      <td>1.0000</td>\n",
       "    </tr>\n",
       "    <tr>\n",
       "      <th>3</th>\n",
       "      <td>caveofbeauty</td>\n",
       "      <td>False</td>\n",
       "      <td>0.9898</td>\n",
       "      <td>1.0000</td>\n",
       "    </tr>\n",
       "    <tr>\n",
       "      <th>4</th>\n",
       "      <td>caveofbeauty</td>\n",
       "      <td>False</td>\n",
       "      <td>0.9898</td>\n",
       "      <td>1.0000</td>\n",
       "    </tr>\n",
       "  </tbody>\n",
       "</table>\n",
       "</div>"
      ],
      "text/plain": [
       "       Username  is_deleted  Reputation  science\n",
       "0  caveofbeauty       False      0.9898   1.0000\n",
       "1  caveofbeauty       False      0.9898   1.0000\n",
       "2  caveofbeauty       False      0.9898   1.0000\n",
       "3  caveofbeauty       False      0.9898   1.0000\n",
       "4  caveofbeauty       False      0.9898   1.0000"
      ]
     },
     "execution_count": 18,
     "metadata": {},
     "output_type": "execute_result"
    }
   ],
   "source": [
    "df_tweetskb_alltweets_reputation_deletionratio = df_tweetskb_alltweets_reputation_deletionratio[['Username', 'is_deleted', 'Reputation']]\n",
    "\n",
    "df_tweetskb_science_polarized_and_neutralized = df_tweetskb_science_polarized_and_neutralized[['Username', 'science']]\n",
    "\n",
    "df_tweetskb = pd.merge(df_tweetskb_alltweets_reputation_deletionratio, df_tweetskb_science_polarized_and_neutralized, on='Username', how='inner')\n",
    "print('Form :', df_tweetskb.shape)\n",
    "df_tweetskb.head()"
   ]
  },
  {
   "cell_type": "markdown",
   "id": "84eb4b13",
   "metadata": {},
   "source": [
    "***"
   ]
  },
  {
   "cell_type": "code",
   "execution_count": 11,
   "id": "704b1995",
   "metadata": {},
   "outputs": [
    {
     "name": "stdout",
     "output_type": "stream",
     "text": [
      "Alle Users: 78638\n"
     ]
    }
   ],
   "source": [
    "print('Alle Users:', df_tweetskb.Username.unique().size)\n"
   ]
  },
  {
   "cell_type": "code",
   "execution_count": 12,
   "id": "658cdc98",
   "metadata": {},
   "outputs": [
    {
     "name": "stdout",
     "output_type": "stream",
     "text": [
      "Shape:  (157172, 7)\n"
     ]
    },
    {
     "data": {
      "text/html": [
       "<div>\n",
       "<style scoped>\n",
       "    .dataframe tbody tr th:only-of-type {\n",
       "        vertical-align: middle;\n",
       "    }\n",
       "\n",
       "    .dataframe tbody tr th {\n",
       "        vertical-align: top;\n",
       "    }\n",
       "\n",
       "    .dataframe thead th {\n",
       "        text-align: right;\n",
       "    }\n",
       "</style>\n",
       "<table border=\"1\" class=\"dataframe\">\n",
       "  <thead>\n",
       "    <tr style=\"text-align: right;\">\n",
       "      <th></th>\n",
       "      <th>Username</th>\n",
       "      <th>politic</th>\n",
       "      <th>science</th>\n",
       "      <th>moderacy</th>\n",
       "      <th>Deletion_ratio</th>\n",
       "      <th>Reputation</th>\n",
       "      <th>is_deleted</th>\n",
       "    </tr>\n",
       "  </thead>\n",
       "  <tbody>\n",
       "    <tr>\n",
       "      <th>50</th>\n",
       "      <td>0Bettymowery2</td>\n",
       "      <td>0.3333</td>\n",
       "      <td>-1.0000</td>\n",
       "      <td>0.3333</td>\n",
       "      <td>0.0000</td>\n",
       "      <td>0.4324</td>\n",
       "      <td>False</td>\n",
       "    </tr>\n",
       "    <tr>\n",
       "      <th>51</th>\n",
       "      <td>0Bettymowery2</td>\n",
       "      <td>0.3333</td>\n",
       "      <td>-1.0000</td>\n",
       "      <td>0.3333</td>\n",
       "      <td>0.0000</td>\n",
       "      <td>0.4324</td>\n",
       "      <td>False</td>\n",
       "    </tr>\n",
       "    <tr>\n",
       "      <th>52</th>\n",
       "      <td>0Bettymowery2</td>\n",
       "      <td>0.3333</td>\n",
       "      <td>-1.0000</td>\n",
       "      <td>0.3333</td>\n",
       "      <td>0.0000</td>\n",
       "      <td>0.4324</td>\n",
       "      <td>False</td>\n",
       "    </tr>\n",
       "    <tr>\n",
       "      <th>53</th>\n",
       "      <td>0Bettymowery2</td>\n",
       "      <td>0.3333</td>\n",
       "      <td>-1.0000</td>\n",
       "      <td>0.3333</td>\n",
       "      <td>0.0000</td>\n",
       "      <td>0.4324</td>\n",
       "      <td>False</td>\n",
       "    </tr>\n",
       "    <tr>\n",
       "      <th>54</th>\n",
       "      <td>0Bettymowery2</td>\n",
       "      <td>0.3333</td>\n",
       "      <td>-1.0000</td>\n",
       "      <td>0.3333</td>\n",
       "      <td>0.0000</td>\n",
       "      <td>0.4324</td>\n",
       "      <td>False</td>\n",
       "    </tr>\n",
       "  </tbody>\n",
       "</table>\n",
       "</div>"
      ],
      "text/plain": [
       "         Username  politic  science  moderacy  Deletion_ratio  Reputation  \\\n",
       "50  0Bettymowery2   0.3333  -1.0000    0.3333          0.0000      0.4324   \n",
       "51  0Bettymowery2   0.3333  -1.0000    0.3333          0.0000      0.4324   \n",
       "52  0Bettymowery2   0.3333  -1.0000    0.3333          0.0000      0.4324   \n",
       "53  0Bettymowery2   0.3333  -1.0000    0.3333          0.0000      0.4324   \n",
       "54  0Bettymowery2   0.3333  -1.0000    0.3333          0.0000      0.4324   \n",
       "\n",
       "    is_deleted  \n",
       "50       False  \n",
       "51       False  \n",
       "52       False  \n",
       "53       False  \n",
       "54       False  "
      ]
     },
     "execution_count": 12,
     "metadata": {},
     "output_type": "execute_result"
    }
   ],
   "source": [
    "df_tweetskb = df_tweetskb[df_tweetskb['science'] != 0]\n",
    "\n",
    "print('Shape: ', df_tweetskb.shape)\n",
    "df_tweetskb.head()"
   ]
  },
  {
   "cell_type": "code",
   "execution_count": 25,
   "id": "dfc11c2d",
   "metadata": {},
   "outputs": [],
   "source": [
    "df_tweetskb_del = df_tweetskb[df_tweetskb['is_deleted']==True]\n",
    "df_tweetskb_undel = df_tweetskb[df_tweetskb['is_deleted']==False]"
   ]
  },
  {
   "cell_type": "code",
   "execution_count": 26,
   "id": "962387dd",
   "metadata": {},
   "outputs": [
    {
     "name": "stdout",
     "output_type": "stream",
     "text": [
      "Deleted Tweets: (63128, 4)\n",
      "Non-deleted Tweets: (96202, 4)\n"
     ]
    }
   ],
   "source": [
    "print('Deleted Tweets:', df_tweetskb_del.shape)\n",
    "print('Non-deleted Tweets:', df_tweetskb_undel.shape)"
   ]
  },
  {
   "cell_type": "code",
   "execution_count": 27,
   "id": "d2944da1",
   "metadata": {},
   "outputs": [
    {
     "data": {
      "text/plain": [
       "(63128, 4)"
      ]
     },
     "execution_count": 27,
     "metadata": {},
     "output_type": "execute_result"
    }
   ],
   "source": [
    "df_tweetskb_del.shape"
   ]
  },
  {
   "cell_type": "code",
   "execution_count": 28,
   "id": "3a91b334",
   "metadata": {},
   "outputs": [
    {
     "name": "stdout",
     "output_type": "stream",
     "text": [
      "Alle Users: 15325\n",
      "Alle pro. Users in gesammten Tweets: 4769\n",
      "Tweets of pro. Users in gesammten Tweets: 24649\n",
      "Alle anti. Users in gesammten Tweets: 10493\n",
      "Tweets of anti. Users in gesammten Tweets: 132523\n"
     ]
    }
   ],
   "source": [
    "print('Alle Users:', df_tweetskb.Username.unique().size)\n",
    "\n",
    "df = df_tweetskb[df_tweetskb['science']>0]\n",
    "print('Alle pro. Users in gesammten Tweets:', df.Username.unique().size)\n",
    "print('Tweets of pro. Users in gesammten Tweets:', df.shape[0])\n",
    "\n",
    "df = df_tweetskb[df_tweetskb['science']<0]\n",
    "print('Alle anti. Users in gesammten Tweets:', df.Username.unique().size)\n",
    "print('Tweets of anti. Users in gesammten Tweets:', df.shape[0])\n"
   ]
  },
  {
   "cell_type": "code",
   "execution_count": 29,
   "id": "52fc2fda",
   "metadata": {},
   "outputs": [
    {
     "name": "stdout",
     "output_type": "stream",
     "text": [
      "Alle Users: 5643\n",
      "Alle pro. Users in gelöschten Tweets: 736\n",
      "Tweets of pro. Users in gelöschten Tweets: 3396\n",
      "Alle anti. Users in gelöschten Tweets: 4880\n",
      "Tweets of anti. Users in gelöschten Tweets: 58931\n"
     ]
    }
   ],
   "source": [
    "print('Alle Users:', df_tweetskb_del.Username.unique().size)\n",
    "\n",
    "df = df_tweetskb_del[df_tweetskb_del['science']>0]\n",
    "print('Alle pro. Users in gelöschten Tweets:', df.Username.unique().size)\n",
    "print('Tweets of pro. Users in gelöschten Tweets:', df.shape[0])\n",
    "\n",
    "df = df_tweetskb_del[df_tweetskb_del['science']<0]\n",
    "print('Alle anti. Users in gelöschten Tweets:', df.Username.unique().size)\n",
    "print('Tweets of anti. Users in gelöschten Tweets:', df.shape[0])\n"
   ]
  },
  {
   "cell_type": "code",
   "execution_count": 30,
   "id": "fd83f396",
   "metadata": {},
   "outputs": [
    {
     "name": "stdout",
     "output_type": "stream",
     "text": [
      "Alle Users: 10521\n",
      "Alle pro. Users in nicht gelöschten Tweets: 4251\n",
      "Tweets of pro. Users in nicht gelöschten Tweets: 21253\n",
      "Alle anti. Users in nicht gelöschten Tweets: 6221\n",
      "Tweets of anti. Users in nicht gelöschten Tweets: 73592\n"
     ]
    }
   ],
   "source": [
    "print('Alle Users:', df_tweetskb_undel.Username.unique().size)\n",
    "\n",
    "df = df_tweetskb_undel[df_tweetskb_undel['science']>0]\n",
    "print('Alle pro. Users in nicht gelöschten Tweets:', df.Username.unique().size)\n",
    "print('Tweets of pro. Users in nicht gelöschten Tweets:', df.shape[0])\n",
    "\n",
    "df = df_tweetskb_undel[df_tweetskb_undel['science']<0]\n",
    "print('Alle anti. Users in nicht gelöschten Tweets:', df.Username.unique().size)\n",
    "print('Tweets of anti. Users in nicht gelöschten Tweets:', df.shape[0])\n"
   ]
  },
  {
   "cell_type": "code",
   "execution_count": 31,
   "id": "6fb4a89b",
   "metadata": {},
   "outputs": [
    {
     "name": "stdout",
     "output_type": "stream",
     "text": [
      "Alle Users: 63\n",
      "Alle neutral Users in gelöschten Tweets: 27\n",
      "Tweets of neutral Users in gelöschten Tweets: 801\n",
      "Alle neutral Users in nicht gelöschten Tweets: 49\n",
      "Tweets of neutral Users in nicht gelöschten Tweets: 1357\n"
     ]
    }
   ],
   "source": [
    "df_tweetskb_neutral = df_tweetskb[df_tweetskb['science']==0]\n",
    "print('Alle Users:', df_tweetskb_neutral.Username.unique().size)\n",
    "\n",
    "df = df_tweetskb_del[df_tweetskb_del['science']==0]\n",
    "print('Alle neutral Users in gelöschten Tweets:', df.Username.unique().size)\n",
    "print('Tweets of neutral Users in gelöschten Tweets:', df.shape[0])\n",
    "\n",
    "df = df_tweetskb_undel[df_tweetskb_undel['science']==0]\n",
    "print('Alle neutral Users in nicht gelöschten Tweets:', df.Username.unique().size)\n",
    "print('Tweets of neutral Users in nicht gelöschten Tweets:', df.shape[0])"
   ]
  },
  {
   "cell_type": "code",
   "execution_count": 44,
   "id": "1a2372d9",
   "metadata": {},
   "outputs": [
    {
     "data": {
      "image/png": "[encoded data removed]",
      "text/plain": [
       "<Figure size 432x288 with 1 Axes>"
      ]
     },
     "metadata": {
      "needs_background": "light"
     },
     "output_type": "display_data"
    }
   ],
   "source": [
    "df = df_tweetskb[['is_deleted', 'science']]\n",
    "plot_kdeplot_v1(df, 'is_deleted','science' ,'Science' ,'TweetsCov19', 'kdeplot_tweetskb_science_all_tweets_conditionaldistribution')"
   ]
  },
  {
   "cell_type": "code",
   "execution_count": 35,
   "id": "7d81a510",
   "metadata": {},
   "outputs": [
    {
     "data": {
      "image/png": "[encoded data removed]",
      "text/plain": [
       "<Figure size 432x288 with 1 Axes>"
      ]
     },
     "metadata": {
      "needs_background": "light"
     },
     "output_type": "display_data"
    }
   ],
   "source": [
    "df = df_tweetskb[['is_deleted', 'science']]\n",
    "plot_kdeplot_v2(df, 'is_deleted','science' ,'Anti-science <-> Pro-science' ,'TweetsCov19', 'kdeplot_tweetskb_science_all_tweets_Normalizethestackeddistribution')"
   ]
  },
  {
   "cell_type": "code",
   "execution_count": 54,
   "id": "c8e4befc",
   "metadata": {},
   "outputs": [
    {
     "data": {
      "image/png": "[encoded data removed]",
      "text/plain": [
       "<Figure size 432x288 with 1 Axes>"
      ]
     },
     "metadata": {
      "needs_background": "light"
     },
     "output_type": "display_data"
    }
   ],
   "source": [
    "df = df_tweetskb[['is_deleted', 'science']]\n",
    "plot_kdeplot_v3(df, 'is_deleted','science' ,'Science' ,'TweetsCov19', 'kdeplot_tweetskb_science_all_tweets_cumulativedistributionfunction')"
   ]
  },
  {
   "cell_type": "markdown",
   "id": "2df3ceb7",
   "metadata": {},
   "source": [
    "***"
   ]
  },
  {
   "cell_type": "markdown",
   "id": "43c28fa3",
   "metadata": {},
   "source": [
    "# Histogram"
   ]
  },
  {
   "cell_type": "markdown",
   "id": "0479e55b",
   "metadata": {},
   "source": [
    "***"
   ]
  },
  {
   "cell_type": "markdown",
   "id": "c7cd9f69",
   "metadata": {},
   "source": [
    "---"
   ]
  },
  {
   "cell_type": "code",
   "execution_count": 19,
   "id": "4fbc8a56",
   "metadata": {},
   "outputs": [],
   "source": [
    "def thousands(x, pos):\n",
    "    if x <1000 :\n",
    "        return '{:1.0f}'.format(x*1e-3)\n",
    "    \"\"\"The two args are the value and tick position.\"\"\"\n",
    "    return '{:1.0f}k'.format(x*1e-3)\n",
    "\n",
    "def plot_histogram_kb(df, titel):\n",
    "    \n",
    "    fig, ax = plt.subplots()\n",
    "    colors = ['b', 'r']\n",
    "    labels = ['Liberale', 'konservativ']\n",
    "    \n",
    "    N, bins, patches = ax.hist(df, bins=11, color = 'gray')\n",
    "    patches[5].set_label('Neutral')\n",
    "    patches[5].set_facecolor('gray')\n",
    "    for i in range(0,5):\n",
    "        patches[i].set_facecolor('green')\n",
    "    patches[1].set_label('Anti-Science')\n",
    "    for i in range(6,len(patches)):\n",
    "        patches[i].set_facecolor('khaki')\n",
    "    patches[9].set_label('Pro-Science')\n",
    "        \n",
    "    ax.tick_params(axis='x', which='major', labelsize=18)\n",
    "    ax.tick_params(axis='y', which='major', labelsize=18)\n",
    "\n",
    "    figsize=(8, 6)\n",
    "    ax.set_title('Science', fontsize=22)\n",
    "    ax.set_ylabel('Number of users', fontsize=22)\n",
    "    ax.set_xlabel(xlabel='Anti-science <-> Pro-science', fontsize=22)\n",
    "    ax.yaxis.set_major_formatter(thousands)\n",
    "\n",
    "    #plt.title('Political polarization', fontsize=18)\n",
    "    #plt.legend( fontsize=14)\n",
    "    plt.legend(loc='upper center', fontsize=14)\n",
    "\n",
    "    plt.tight_layout()\n",
    "\n",
    "    plt.savefig('../plots/'+titel+'.pdf')"
   ]
  },
  {
   "cell_type": "code",
   "execution_count": 20,
   "id": "e69eaa55",
   "metadata": {},
   "outputs": [],
   "source": [
    "df_tweetskb_del = df_tweetskb[df_tweetskb['is_deleted']==True]\n",
    "df_tweetskb_undel = df_tweetskb[df_tweetskb['is_deleted']==False]"
   ]
  },
  {
   "cell_type": "code",
   "execution_count": 21,
   "id": "da9f5dc9",
   "metadata": {},
   "outputs": [
    {
     "data": {
      "image/png": "[encoded data removed]",
      "text/plain": [
       "<Figure size 432x288 with 1 Axes>"
      ]
     },
     "metadata": {
      "needs_background": "light"
     },
     "output_type": "display_data"
    }
   ],
   "source": [
    "#All Tweets\n",
    "df = df_tweetskb.drop_duplicates(subset=['Username'])\n",
    "plot_histogram_kb(df['science'],'hist_tweetsKB_science_polarized_users(alltweets)')"
   ]
  },
  {
   "cell_type": "code",
   "execution_count": 22,
   "id": "9e1c454e",
   "metadata": {},
   "outputs": [
    {
     "data": {
      "image/png": "[encoded data removed]",
      "text/plain": [
       "<Figure size 432x288 with 1 Axes>"
      ]
     },
     "metadata": {
      "needs_background": "light"
     },
     "output_type": "display_data"
    }
   ],
   "source": [
    "df = df_tweetskb_del.drop_duplicates(subset=['Username'])\n",
    "plot_histogram_kb(df['science'],'hist_tweetsKB_science_polarized_users(deletedtweets)')"
   ]
  },
  {
   "cell_type": "code",
   "execution_count": 23,
   "id": "d750b37a",
   "metadata": {},
   "outputs": [
    {
     "data": {
      "image/png": "[encoded data removed]",
      "text/plain": [
       "<Figure size 432x288 with 1 Axes>"
      ]
     },
     "metadata": {
      "needs_background": "light"
     },
     "output_type": "display_data"
    }
   ],
   "source": [
    "df = df_tweetskb_undel.drop_duplicates(subset=['Username'])\n",
    "plot_histogram_kb(df['science'],'hist_tweetsKB_science_polarized_users(nondeletedtweets)')"
   ]
  },
  {
   "cell_type": "markdown",
   "id": "cfa3d02f",
   "metadata": {},
   "source": [
    "***"
   ]
  },
  {
   "cell_type": "markdown",
   "id": "52a5c2c3",
   "metadata": {},
   "source": [
    "# Heatmap\n",
    "### Reputation-Polarisierung"
   ]
  },
  {
   "cell_type": "markdown",
   "id": "4f4369ed",
   "metadata": {},
   "source": [
    "***"
   ]
  },
  {
   "cell_type": "code",
   "execution_count": 43,
   "id": "baf011d3",
   "metadata": {},
   "outputs": [],
   "source": [
    "#All Tweets\n",
    "df = df_tweetskb[['is_deleted', 'science', 'Reputation']]\n",
    "\n",
    "df_del =  df[df['is_deleted']==True]\n",
    "df_undel = df[df['is_deleted']==False]"
   ]
  },
  {
   "cell_type": "code",
   "execution_count": 44,
   "id": "848a1754",
   "metadata": {},
   "outputs": [],
   "source": [
    "density_hp(df,'density_hp_science_polarisation_tweetskb_alltweets' ,'science', 'Reputation', 'Greens')"
   ]
  },
  {
   "cell_type": "code",
   "execution_count": 45,
   "id": "14e588da",
   "metadata": {},
   "outputs": [],
   "source": [
    "density_hp(df_del,'density_hp_science_polarisation_tweetskb_deleted' ,'science', 'Reputation', 'Greens')"
   ]
  },
  {
   "cell_type": "code",
   "execution_count": 46,
   "id": "c0bdfd49",
   "metadata": {},
   "outputs": [],
   "source": [
    "density_hp(df_undel,'density_hp_science_polarisation_tweetskb_nondeleted' ,'science', 'Reputation', 'Greens')"
   ]
  },
  {
   "cell_type": "code",
   "execution_count": null,
   "id": "02995bd7",
   "metadata": {},
   "outputs": [],
   "source": []
  }
 ],
 "metadata": {
  "kernelspec": {
   "display_name": "Python 3",
   "language": "python",
   "name": "python3"
  },
  "language_info": {
   "codemirror_mode": {
    "name": "ipython",
    "version": 3
   },
   "file_extension": ".py",
   "mimetype": "text/x-python",
   "name": "python",
   "nbconvert_exporter": "python",
   "pygments_lexer": "ipython3",
   "version": "3.8.8"
  }
 },
 "nbformat": 4,
 "nbformat_minor": 5
}
