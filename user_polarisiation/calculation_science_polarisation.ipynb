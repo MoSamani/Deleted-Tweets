{
 "cells": [
  {
   "cell_type": "code",
   "execution_count": 1,
   "id": "1e776b58",
   "metadata": {},
   "outputs": [],
   "source": [
    "#CSV Bibliothek importieren \n",
    "import csv\n",
    "#Pandas importieren und als pd bezeichnen\n",
    "import pandas as pd\n",
    "#Numpy importieren und als np bezeichnen \n",
    "import numpy as np\n",
    "#Json Biliothek importieren\n",
    "import json\n",
    "#Obere Schranke für die Größe der Daten auf 100,000,000 setzen  \n",
    "csv.field_size_limit(100000000)\n",
    "#Maximale Anzahl von Zeilen und Spalten Zeigen \n",
    "pd.options.display.max_columns = None\n",
    "pd.options.display.max_rows = None\n",
    "#Extraktion der Domäne\n",
    "import tldextract"
   ]
  },
  {
   "cell_type": "markdown",
   "id": "1157839f",
   "metadata": {},
   "source": [
    "***"
   ]
  },
  {
   "cell_type": "markdown",
   "id": "0bc60b2d",
   "metadata": {},
   "source": [
    "### Pro_science domains"
   ]
  },
  {
   "cell_type": "code",
   "execution_count": 2,
   "id": "e0da2226",
   "metadata": {},
   "outputs": [],
   "source": [
    "path = '../data/df_domains_pro_anti_science.tsv'\n",
    "\n",
    "df_domains_pro_and_anti_science = pd.read_csv(path, sep='\\t', error_bad_lines=False)"
   ]
  },
  {
   "cell_type": "code",
   "execution_count": 3,
   "id": "39085495",
   "metadata": {},
   "outputs": [
    {
     "name": "stdout",
     "output_type": "stream",
     "text": [
      "Shape:  (1395, 4)\n"
     ]
    },
    {
     "data": {
      "text/html": [
       "<div>\n",
       "<style scoped>\n",
       "    .dataframe tbody tr th:only-of-type {\n",
       "        vertical-align: middle;\n",
       "    }\n",
       "\n",
       "    .dataframe tbody tr th {\n",
       "        vertical-align: top;\n",
       "    }\n",
       "\n",
       "    .dataframe thead th {\n",
       "        text-align: right;\n",
       "    }\n",
       "</style>\n",
       "<table border=\"1\" class=\"dataframe\">\n",
       "  <thead>\n",
       "    <tr style=\"text-align: right;\">\n",
       "      <th></th>\n",
       "      <th>domain</th>\n",
       "      <th>mediabias_proscience</th>\n",
       "      <th>mediabias_questionblesources</th>\n",
       "      <th>mediabias_conspiracy_psydoscience</th>\n",
       "    </tr>\n",
       "  </thead>\n",
       "  <tbody>\n",
       "    <tr>\n",
       "      <th>0</th>\n",
       "      <td>Covid.gov</td>\n",
       "      <td>1.0</td>\n",
       "      <td>0.0</td>\n",
       "      <td>0.0</td>\n",
       "    </tr>\n",
       "    <tr>\n",
       "      <th>1</th>\n",
       "      <td>Drugs.com</td>\n",
       "      <td>1.0</td>\n",
       "      <td>0.0</td>\n",
       "      <td>0.0</td>\n",
       "    </tr>\n",
       "    <tr>\n",
       "      <th>2</th>\n",
       "      <td>News-Medical.net</td>\n",
       "      <td>1.0</td>\n",
       "      <td>0.0</td>\n",
       "      <td>0.0</td>\n",
       "    </tr>\n",
       "    <tr>\n",
       "      <th>3</th>\n",
       "      <td>SciTechDaily.com</td>\n",
       "      <td>1.0</td>\n",
       "      <td>0.0</td>\n",
       "      <td>0.0</td>\n",
       "    </tr>\n",
       "    <tr>\n",
       "      <th>4</th>\n",
       "      <td>aaas.org</td>\n",
       "      <td>1.0</td>\n",
       "      <td>0.0</td>\n",
       "      <td>0.0</td>\n",
       "    </tr>\n",
       "  </tbody>\n",
       "</table>\n",
       "</div>"
      ],
      "text/plain": [
       "             domain  mediabias_proscience  mediabias_questionblesources  \\\n",
       "0         Covid.gov                   1.0                           0.0   \n",
       "1         Drugs.com                   1.0                           0.0   \n",
       "2  News-Medical.net                   1.0                           0.0   \n",
       "3  SciTechDaily.com                   1.0                           0.0   \n",
       "4          aaas.org                   1.0                           0.0   \n",
       "\n",
       "   mediabias_conspiracy_psydoscience  \n",
       "0                                0.0  \n",
       "1                                0.0  \n",
       "2                                0.0  \n",
       "3                                0.0  \n",
       "4                                0.0  "
      ]
     },
     "execution_count": 3,
     "metadata": {},
     "output_type": "execute_result"
    }
   ],
   "source": [
    "print('Shape: ', df_domains_pro_and_anti_science.shape)\n",
    "df_domains_pro_and_anti_science.head()"
   ]
  },
  {
   "cell_type": "code",
   "execution_count": 4,
   "id": "fd8cb2ba",
   "metadata": {},
   "outputs": [
    {
     "name": "stdout",
     "output_type": "stream",
     "text": [
      "Shape:  (150, 4)\n"
     ]
    },
    {
     "data": {
      "text/html": [
       "<div>\n",
       "<style scoped>\n",
       "    .dataframe tbody tr th:only-of-type {\n",
       "        vertical-align: middle;\n",
       "    }\n",
       "\n",
       "    .dataframe tbody tr th {\n",
       "        vertical-align: top;\n",
       "    }\n",
       "\n",
       "    .dataframe thead th {\n",
       "        text-align: right;\n",
       "    }\n",
       "</style>\n",
       "<table border=\"1\" class=\"dataframe\">\n",
       "  <thead>\n",
       "    <tr style=\"text-align: right;\">\n",
       "      <th></th>\n",
       "      <th>domain</th>\n",
       "      <th>mediabias_proscience</th>\n",
       "      <th>mediabias_questionblesources</th>\n",
       "      <th>mediabias_conspiracy_psydoscience</th>\n",
       "    </tr>\n",
       "  </thead>\n",
       "  <tbody>\n",
       "    <tr>\n",
       "      <th>0</th>\n",
       "      <td>Covid.gov</td>\n",
       "      <td>1.0</td>\n",
       "      <td>0.0</td>\n",
       "      <td>0.0</td>\n",
       "    </tr>\n",
       "    <tr>\n",
       "      <th>1</th>\n",
       "      <td>Drugs.com</td>\n",
       "      <td>1.0</td>\n",
       "      <td>0.0</td>\n",
       "      <td>0.0</td>\n",
       "    </tr>\n",
       "    <tr>\n",
       "      <th>2</th>\n",
       "      <td>News-Medical.net</td>\n",
       "      <td>1.0</td>\n",
       "      <td>0.0</td>\n",
       "      <td>0.0</td>\n",
       "    </tr>\n",
       "    <tr>\n",
       "      <th>3</th>\n",
       "      <td>SciTechDaily.com</td>\n",
       "      <td>1.0</td>\n",
       "      <td>0.0</td>\n",
       "      <td>0.0</td>\n",
       "    </tr>\n",
       "    <tr>\n",
       "      <th>4</th>\n",
       "      <td>aaas.org</td>\n",
       "      <td>1.0</td>\n",
       "      <td>0.0</td>\n",
       "      <td>0.0</td>\n",
       "    </tr>\n",
       "  </tbody>\n",
       "</table>\n",
       "</div>"
      ],
      "text/plain": [
       "             domain  mediabias_proscience  mediabias_questionblesources  \\\n",
       "0         Covid.gov                   1.0                           0.0   \n",
       "1         Drugs.com                   1.0                           0.0   \n",
       "2  News-Medical.net                   1.0                           0.0   \n",
       "3  SciTechDaily.com                   1.0                           0.0   \n",
       "4          aaas.org                   1.0                           0.0   \n",
       "\n",
       "   mediabias_conspiracy_psydoscience  \n",
       "0                                0.0  \n",
       "1                                0.0  \n",
       "2                                0.0  \n",
       "3                                0.0  \n",
       "4                                0.0  "
      ]
     },
     "execution_count": 4,
     "metadata": {},
     "output_type": "execute_result"
    }
   ],
   "source": [
    "df_proscience_domains = df_domains_pro_and_anti_science[df_domains_pro_and_anti_science['mediabias_proscience'] == 1]\n",
    "\n",
    "print('Shape: ', df_proscience_domains.shape)\n",
    "df_proscience_domains.head()"
   ]
  },
  {
   "cell_type": "code",
   "execution_count": 5,
   "id": "e4fd3099",
   "metadata": {},
   "outputs": [],
   "source": [
    "list_proscience_domains = df_proscience_domains.domain.tolist()"
   ]
  },
  {
   "cell_type": "code",
   "execution_count": 6,
   "id": "3d9fe67f",
   "metadata": {},
   "outputs": [],
   "source": [
    "def get_unique_items(l1):\n",
    "    l1 = np.array(l1)\n",
    "    l1 = np.unique(l1)\n",
    "    l1 = l1.tolist()\n",
    "    \n",
    "    return l1"
   ]
  },
  {
   "cell_type": "code",
   "execution_count": 7,
   "id": "79b3bf31",
   "metadata": {},
   "outputs": [
    {
     "data": {
      "text/plain": [
       "150"
      ]
     },
     "execution_count": 7,
     "metadata": {},
     "output_type": "execute_result"
    }
   ],
   "source": [
    "list_proscience_domains = get_unique_items(list_proscience_domains)\n",
    "len(list_proscience_domains)"
   ]
  },
  {
   "cell_type": "markdown",
   "id": "c215a9a0",
   "metadata": {},
   "source": [
    "***"
   ]
  },
  {
   "cell_type": "markdown",
   "id": "5edafb48",
   "metadata": {},
   "source": [
    "## Anti_science"
   ]
  },
  {
   "cell_type": "markdown",
   "id": "e7fb2978",
   "metadata": {},
   "source": [
    "***"
   ]
  },
  {
   "cell_type": "code",
   "execution_count": 8,
   "id": "87c7ba33",
   "metadata": {},
   "outputs": [
    {
     "name": "stdout",
     "output_type": "stream",
     "text": [
      "Shape:  (908, 4)\n"
     ]
    },
    {
     "data": {
      "text/html": [
       "<div>\n",
       "<style scoped>\n",
       "    .dataframe tbody tr th:only-of-type {\n",
       "        vertical-align: middle;\n",
       "    }\n",
       "\n",
       "    .dataframe tbody tr th {\n",
       "        vertical-align: top;\n",
       "    }\n",
       "\n",
       "    .dataframe thead th {\n",
       "        text-align: right;\n",
       "    }\n",
       "</style>\n",
       "<table border=\"1\" class=\"dataframe\">\n",
       "  <thead>\n",
       "    <tr style=\"text-align: right;\">\n",
       "      <th></th>\n",
       "      <th>domain</th>\n",
       "      <th>mediabias_proscience</th>\n",
       "      <th>mediabias_questionblesources</th>\n",
       "      <th>mediabias_conspiracy_psydoscience</th>\n",
       "    </tr>\n",
       "  </thead>\n",
       "  <tbody>\n",
       "    <tr>\n",
       "      <th>150</th>\n",
       "      <td>100percentfedup.com</td>\n",
       "      <td>0.0</td>\n",
       "      <td>1.0</td>\n",
       "      <td>0.0</td>\n",
       "    </tr>\n",
       "    <tr>\n",
       "      <th>151</th>\n",
       "      <td>12minutos.com</td>\n",
       "      <td>0.0</td>\n",
       "      <td>1.0</td>\n",
       "      <td>0.0</td>\n",
       "    </tr>\n",
       "    <tr>\n",
       "      <th>152</th>\n",
       "      <td>2020conservative.com</td>\n",
       "      <td>0.0</td>\n",
       "      <td>1.0</td>\n",
       "      <td>0.0</td>\n",
       "    </tr>\n",
       "    <tr>\n",
       "      <th>153</th>\n",
       "      <td>24Jours.com</td>\n",
       "      <td>0.0</td>\n",
       "      <td>1.0</td>\n",
       "      <td>0.0</td>\n",
       "    </tr>\n",
       "    <tr>\n",
       "      <th>154</th>\n",
       "      <td>4Chan.org</td>\n",
       "      <td>0.0</td>\n",
       "      <td>1.0</td>\n",
       "      <td>0.0</td>\n",
       "    </tr>\n",
       "  </tbody>\n",
       "</table>\n",
       "</div>"
      ],
      "text/plain": [
       "                   domain  mediabias_proscience  mediabias_questionblesources  \\\n",
       "150   100percentfedup.com                   0.0                           1.0   \n",
       "151         12minutos.com                   0.0                           1.0   \n",
       "152  2020conservative.com                   0.0                           1.0   \n",
       "153           24Jours.com                   0.0                           1.0   \n",
       "154             4Chan.org                   0.0                           1.0   \n",
       "\n",
       "     mediabias_conspiracy_psydoscience  \n",
       "150                                0.0  \n",
       "151                                0.0  \n",
       "152                                0.0  \n",
       "153                                0.0  \n",
       "154                                0.0  "
      ]
     },
     "execution_count": 8,
     "metadata": {},
     "output_type": "execute_result"
    }
   ],
   "source": [
    "df_domains_questionblesources = df_domains_pro_and_anti_science[df_domains_pro_and_anti_science['mediabias_questionblesources'] == 1]\n",
    "\n",
    "print('Shape: ', df_domains_questionblesources.shape)\n",
    "df_domains_questionblesources.head()"
   ]
  },
  {
   "cell_type": "code",
   "execution_count": 9,
   "id": "97721e65",
   "metadata": {},
   "outputs": [],
   "source": [
    "list_domains_questionblesources = df_domains_questionblesources.domain.tolist()"
   ]
  },
  {
   "cell_type": "code",
   "execution_count": 10,
   "id": "b48b3eb4",
   "metadata": {},
   "outputs": [
    {
     "name": "stdout",
     "output_type": "stream",
     "text": [
      "Shape:  (337, 4)\n"
     ]
    },
    {
     "data": {
      "text/html": [
       "<div>\n",
       "<style scoped>\n",
       "    .dataframe tbody tr th:only-of-type {\n",
       "        vertical-align: middle;\n",
       "    }\n",
       "\n",
       "    .dataframe tbody tr th {\n",
       "        vertical-align: top;\n",
       "    }\n",
       "\n",
       "    .dataframe thead th {\n",
       "        text-align: right;\n",
       "    }\n",
       "</style>\n",
       "<table border=\"1\" class=\"dataframe\">\n",
       "  <thead>\n",
       "    <tr style=\"text-align: right;\">\n",
       "      <th></th>\n",
       "      <th>domain</th>\n",
       "      <th>mediabias_proscience</th>\n",
       "      <th>mediabias_questionblesources</th>\n",
       "      <th>mediabias_conspiracy_psydoscience</th>\n",
       "    </tr>\n",
       "  </thead>\n",
       "  <tbody>\n",
       "    <tr>\n",
       "      <th>1058</th>\n",
       "      <td>2020ElectionCenter.com</td>\n",
       "      <td>0.0</td>\n",
       "      <td>0.0</td>\n",
       "      <td>1.0</td>\n",
       "    </tr>\n",
       "    <tr>\n",
       "      <th>1059</th>\n",
       "      <td>21stcenturywire.com</td>\n",
       "      <td>0.0</td>\n",
       "      <td>0.0</td>\n",
       "      <td>1.0</td>\n",
       "    </tr>\n",
       "    <tr>\n",
       "      <th>1060</th>\n",
       "      <td>369news.net</td>\n",
       "      <td>0.0</td>\n",
       "      <td>0.0</td>\n",
       "      <td>1.0</td>\n",
       "    </tr>\n",
       "    <tr>\n",
       "      <th>1061</th>\n",
       "      <td>79Days.News</td>\n",
       "      <td>0.0</td>\n",
       "      <td>0.0</td>\n",
       "      <td>1.0</td>\n",
       "    </tr>\n",
       "    <tr>\n",
       "      <th>1062</th>\n",
       "      <td>911truth.org</td>\n",
       "      <td>0.0</td>\n",
       "      <td>0.0</td>\n",
       "      <td>1.0</td>\n",
       "    </tr>\n",
       "  </tbody>\n",
       "</table>\n",
       "</div>"
      ],
      "text/plain": [
       "                      domain  mediabias_proscience  \\\n",
       "1058  2020ElectionCenter.com                   0.0   \n",
       "1059     21stcenturywire.com                   0.0   \n",
       "1060             369news.net                   0.0   \n",
       "1061             79Days.News                   0.0   \n",
       "1062            911truth.org                   0.0   \n",
       "\n",
       "      mediabias_questionblesources  mediabias_conspiracy_psydoscience  \n",
       "1058                           0.0                                1.0  \n",
       "1059                           0.0                                1.0  \n",
       "1060                           0.0                                1.0  \n",
       "1061                           0.0                                1.0  \n",
       "1062                           0.0                                1.0  "
      ]
     },
     "execution_count": 10,
     "metadata": {},
     "output_type": "execute_result"
    }
   ],
   "source": [
    "df_domains_conspiracy_psydoscience = df_domains_pro_and_anti_science[df_domains_pro_and_anti_science['mediabias_conspiracy_psydoscience'] == 1]\n",
    "\n",
    "print('Shape: ', df_domains_conspiracy_psydoscience.shape)\n",
    "df_domains_conspiracy_psydoscience.head()"
   ]
  },
  {
   "cell_type": "code",
   "execution_count": 11,
   "id": "7da93543",
   "metadata": {},
   "outputs": [],
   "source": [
    "list_domains_conspiracy_psydoscience = df_domains_conspiracy_psydoscience.domain.tolist()"
   ]
  },
  {
   "cell_type": "code",
   "execution_count": 12,
   "id": "fdae9386",
   "metadata": {},
   "outputs": [
    {
     "data": {
      "text/plain": [
       "1245"
      ]
     },
     "execution_count": 12,
     "metadata": {},
     "output_type": "execute_result"
    }
   ],
   "source": [
    "list_antiscience_domains = []\n",
    "list_antiscience_domains.extend(list_domains_conspiracy_psydoscience)\n",
    "list_antiscience_domains.extend(list_domains_questionblesources)\n",
    "\n",
    "list_antiscience_domains = get_unique_items(list_antiscience_domains)\n",
    "len(list_antiscience_domains)"
   ]
  },
  {
   "cell_type": "markdown",
   "id": "671c9eda",
   "metadata": {},
   "source": [
    "## Polarisierungen berechnen\n",
    "### TweetsCov19"
   ]
  },
  {
   "cell_type": "markdown",
   "id": "7c900d28",
   "metadata": {},
   "source": [
    "---"
   ]
  },
  {
   "cell_type": "code",
   "execution_count": 13,
   "id": "07fbc657",
   "metadata": {},
   "outputs": [
    {
     "name": "stdout",
     "output_type": "stream",
     "text": [
      "Shape : (9409841, 4)\n"
     ]
    },
    {
     "data": {
      "text/html": [
       "<div>\n",
       "<style scoped>\n",
       "    .dataframe tbody tr th:only-of-type {\n",
       "        vertical-align: middle;\n",
       "    }\n",
       "\n",
       "    .dataframe tbody tr th {\n",
       "        vertical-align: top;\n",
       "    }\n",
       "\n",
       "    .dataframe thead th {\n",
       "        text-align: right;\n",
       "    }\n",
       "</style>\n",
       "<table border=\"1\" class=\"dataframe\">\n",
       "  <thead>\n",
       "    <tr style=\"text-align: right;\">\n",
       "      <th></th>\n",
       "      <th>Tweet_Id</th>\n",
       "      <th>Username</th>\n",
       "      <th>Is_deleted</th>\n",
       "      <th>Domains</th>\n",
       "    </tr>\n",
       "  </thead>\n",
       "  <tbody>\n",
       "    <tr>\n",
       "      <th>0</th>\n",
       "      <td>1178791637348212736</td>\n",
       "      <td>c57d4fb895c5f4a33d2a2b24709f93b5</td>\n",
       "      <td>True</td>\n",
       "      <td>0</td>\n",
       "    </tr>\n",
       "    <tr>\n",
       "      <th>1</th>\n",
       "      <td>1178791641601232896</td>\n",
       "      <td>627f7d4ef584ba33a676a4ebcb861cdb</td>\n",
       "      <td>False</td>\n",
       "      <td>catholicnewsagency.com</td>\n",
       "    </tr>\n",
       "    <tr>\n",
       "      <th>2</th>\n",
       "      <td>1178791643509612547</td>\n",
       "      <td>7966d5716c1c4f33591b17755184e3d6</td>\n",
       "      <td>False</td>\n",
       "      <td>0</td>\n",
       "    </tr>\n",
       "    <tr>\n",
       "      <th>3</th>\n",
       "      <td>1178791644214235137</td>\n",
       "      <td>f17996c036ed4cd981f5448fe00d9ed2</td>\n",
       "      <td>False</td>\n",
       "      <td>0</td>\n",
       "    </tr>\n",
       "    <tr>\n",
       "      <th>4</th>\n",
       "      <td>1178791645371875329</td>\n",
       "      <td>32a54e5f6d8a67de1bffd2e689594dc8</td>\n",
       "      <td>False</td>\n",
       "      <td>0</td>\n",
       "    </tr>\n",
       "  </tbody>\n",
       "</table>\n",
       "</div>"
      ],
      "text/plain": [
       "              Tweet_Id                          Username  Is_deleted  \\\n",
       "0  1178791637348212736  c57d4fb895c5f4a33d2a2b24709f93b5        True   \n",
       "1  1178791641601232896  627f7d4ef584ba33a676a4ebcb861cdb       False   \n",
       "2  1178791643509612547  7966d5716c1c4f33591b17755184e3d6       False   \n",
       "3  1178791644214235137  f17996c036ed4cd981f5448fe00d9ed2       False   \n",
       "4  1178791645371875329  32a54e5f6d8a67de1bffd2e689594dc8       False   \n",
       "\n",
       "                  Domains  \n",
       "0                       0  \n",
       "1  catholicnewsagency.com  \n",
       "2                       0  \n",
       "3                       0  \n",
       "4                       0  "
      ]
     },
     "execution_count": 13,
     "metadata": {},
     "output_type": "execute_result"
    }
   ],
   "source": [
    "path = '../data/tweetscov19_id_isdeleted_domains.tsv'\n",
    "\n",
    "df_tweetscov19 = pd.read_csv(path, sep='\\t', error_bad_lines=False, names=['Tweet_Id', 'Username','Is_deleted', 'Domains'])\n",
    "\n",
    "print('Shape :', df_tweetscov19.shape)\n",
    "df_tweetscov19.head()"
   ]
  },
  {
   "cell_type": "code",
   "execution_count": 14,
   "id": "3cb3e7fc",
   "metadata": {},
   "outputs": [],
   "source": [
    "def get_number_of_antiscience_domains(domains):\n",
    "    domains_list = domains.split()\n",
    "    score = 0\n",
    "    for i in range(0, len(domains_list)):\n",
    "        \n",
    "        #d = tldextract.extract(domains_list[i])\n",
    "        #d = d.domain          \n",
    "        d = domains_list[i]\n",
    "        \n",
    "        if d in list_antiscience_domains:\n",
    "            score -=  1\n",
    "        \n",
    "    return score"
   ]
  },
  {
   "cell_type": "code",
   "execution_count": 15,
   "id": "ae558792",
   "metadata": {},
   "outputs": [],
   "source": [
    "df_tweetscov19['Domains'] = df_tweetscov19['Domains'].astype(str)\n",
    "\n",
    "df_tweetscov19['number_of_antisciens_domains'] = df_tweetscov19.apply(lambda row: get_number_of_antiscience_domains(row['Domains']) if (row['Domains'] != '0') else 0, axis=1)"
   ]
  },
  {
   "cell_type": "code",
   "execution_count": 18,
   "id": "0990d023",
   "metadata": {},
   "outputs": [
    {
     "data": {
      "text/html": [
       "<div>\n",
       "<style scoped>\n",
       "    .dataframe tbody tr th:only-of-type {\n",
       "        vertical-align: middle;\n",
       "    }\n",
       "\n",
       "    .dataframe tbody tr th {\n",
       "        vertical-align: top;\n",
       "    }\n",
       "\n",
       "    .dataframe thead th {\n",
       "        text-align: right;\n",
       "    }\n",
       "</style>\n",
       "<table border=\"1\" class=\"dataframe\">\n",
       "  <thead>\n",
       "    <tr style=\"text-align: right;\">\n",
       "      <th></th>\n",
       "      <th>Tweet_Id</th>\n",
       "      <th>Username</th>\n",
       "      <th>Is_deleted</th>\n",
       "      <th>Domains</th>\n",
       "      <th>number_of_antisciens_domains</th>\n",
       "    </tr>\n",
       "  </thead>\n",
       "  <tbody>\n",
       "    <tr>\n",
       "      <th>0</th>\n",
       "      <td>1178791637348212736</td>\n",
       "      <td>c57d4fb895c5f4a33d2a2b24709f93b5</td>\n",
       "      <td>True</td>\n",
       "      <td>0</td>\n",
       "      <td>0</td>\n",
       "    </tr>\n",
       "    <tr>\n",
       "      <th>1</th>\n",
       "      <td>1178791641601232896</td>\n",
       "      <td>627f7d4ef584ba33a676a4ebcb861cdb</td>\n",
       "      <td>False</td>\n",
       "      <td>catholicnewsagency.com</td>\n",
       "      <td>0</td>\n",
       "    </tr>\n",
       "    <tr>\n",
       "      <th>2</th>\n",
       "      <td>1178791643509612547</td>\n",
       "      <td>7966d5716c1c4f33591b17755184e3d6</td>\n",
       "      <td>False</td>\n",
       "      <td>0</td>\n",
       "      <td>0</td>\n",
       "    </tr>\n",
       "    <tr>\n",
       "      <th>3</th>\n",
       "      <td>1178791644214235137</td>\n",
       "      <td>f17996c036ed4cd981f5448fe00d9ed2</td>\n",
       "      <td>False</td>\n",
       "      <td>0</td>\n",
       "      <td>0</td>\n",
       "    </tr>\n",
       "    <tr>\n",
       "      <th>4</th>\n",
       "      <td>1178791645371875329</td>\n",
       "      <td>32a54e5f6d8a67de1bffd2e689594dc8</td>\n",
       "      <td>False</td>\n",
       "      <td>0</td>\n",
       "      <td>0</td>\n",
       "    </tr>\n",
       "  </tbody>\n",
       "</table>\n",
       "</div>"
      ],
      "text/plain": [
       "              Tweet_Id                          Username  Is_deleted  \\\n",
       "0  1178791637348212736  c57d4fb895c5f4a33d2a2b24709f93b5        True   \n",
       "1  1178791641601232896  627f7d4ef584ba33a676a4ebcb861cdb       False   \n",
       "2  1178791643509612547  7966d5716c1c4f33591b17755184e3d6       False   \n",
       "3  1178791644214235137  f17996c036ed4cd981f5448fe00d9ed2       False   \n",
       "4  1178791645371875329  32a54e5f6d8a67de1bffd2e689594dc8       False   \n",
       "\n",
       "                  Domains  number_of_antisciens_domains  \n",
       "0                       0                             0  \n",
       "1  catholicnewsagency.com                             0  \n",
       "2                       0                             0  \n",
       "3                       0                             0  \n",
       "4                       0                             0  "
      ]
     },
     "execution_count": 18,
     "metadata": {},
     "output_type": "execute_result"
    }
   ],
   "source": [
    "df_tweetscov19.head()"
   ]
  },
  {
   "cell_type": "code",
   "execution_count": 19,
   "id": "929329d4",
   "metadata": {},
   "outputs": [
    {
     "name": "stdout",
     "output_type": "stream",
     "text": [
      "Number of tweets with at least one antiscience Domain:  113408\n"
     ]
    }
   ],
   "source": [
    "tweets_with_antiscience_domains = df_tweetscov19[df_tweetscov19['number_of_antisciens_domains'] < 0].shape\n",
    "\n",
    "print('Number of tweets with at least one antiscience Domain: ', tweets_with_antiscience_domains[0])"
   ]
  },
  {
   "cell_type": "code",
   "execution_count": 20,
   "id": "1b5e497d",
   "metadata": {},
   "outputs": [],
   "source": [
    "def get_number_of_proscience_domains(domains):\n",
    "    domains_list = domains.split()\n",
    "    score = 0\n",
    "    for i in range(0, len(domains_list)):\n",
    "        \n",
    "        #d = tldextract.extract(domains_list[i])\n",
    "        #d = d.domain\n",
    "       \n",
    "            \n",
    "        d = domains_list[i]\n",
    "        if d in list_proscience_domains:\n",
    "            score +=  1\n",
    "        \n",
    "    return score"
   ]
  },
  {
   "cell_type": "code",
   "execution_count": 21,
   "id": "f0bbb3ce",
   "metadata": {},
   "outputs": [],
   "source": [
    "df_tweetscov19['number_of_prosciens_domains'] = df_tweetscov19.apply(lambda row: get_number_of_proscience_domains(row['Domains']) if (row['Domains'] != '0') else 0, axis=1)"
   ]
  },
  {
   "cell_type": "code",
   "execution_count": 22,
   "id": "5996a6e6",
   "metadata": {},
   "outputs": [
    {
     "data": {
      "text/html": [
       "<div>\n",
       "<style scoped>\n",
       "    .dataframe tbody tr th:only-of-type {\n",
       "        vertical-align: middle;\n",
       "    }\n",
       "\n",
       "    .dataframe tbody tr th {\n",
       "        vertical-align: top;\n",
       "    }\n",
       "\n",
       "    .dataframe thead th {\n",
       "        text-align: right;\n",
       "    }\n",
       "</style>\n",
       "<table border=\"1\" class=\"dataframe\">\n",
       "  <thead>\n",
       "    <tr style=\"text-align: right;\">\n",
       "      <th></th>\n",
       "      <th>Tweet_Id</th>\n",
       "      <th>Username</th>\n",
       "      <th>Is_deleted</th>\n",
       "      <th>Domains</th>\n",
       "      <th>number_of_antisciens_domains</th>\n",
       "      <th>number_of_prosciens_domains</th>\n",
       "    </tr>\n",
       "  </thead>\n",
       "  <tbody>\n",
       "    <tr>\n",
       "      <th>0</th>\n",
       "      <td>1178791637348212736</td>\n",
       "      <td>c57d4fb895c5f4a33d2a2b24709f93b5</td>\n",
       "      <td>True</td>\n",
       "      <td>0</td>\n",
       "      <td>0</td>\n",
       "      <td>0</td>\n",
       "    </tr>\n",
       "    <tr>\n",
       "      <th>1</th>\n",
       "      <td>1178791641601232896</td>\n",
       "      <td>627f7d4ef584ba33a676a4ebcb861cdb</td>\n",
       "      <td>False</td>\n",
       "      <td>catholicnewsagency.com</td>\n",
       "      <td>0</td>\n",
       "      <td>0</td>\n",
       "    </tr>\n",
       "    <tr>\n",
       "      <th>2</th>\n",
       "      <td>1178791643509612547</td>\n",
       "      <td>7966d5716c1c4f33591b17755184e3d6</td>\n",
       "      <td>False</td>\n",
       "      <td>0</td>\n",
       "      <td>0</td>\n",
       "      <td>0</td>\n",
       "    </tr>\n",
       "    <tr>\n",
       "      <th>3</th>\n",
       "      <td>1178791644214235137</td>\n",
       "      <td>f17996c036ed4cd981f5448fe00d9ed2</td>\n",
       "      <td>False</td>\n",
       "      <td>0</td>\n",
       "      <td>0</td>\n",
       "      <td>0</td>\n",
       "    </tr>\n",
       "    <tr>\n",
       "      <th>4</th>\n",
       "      <td>1178791645371875329</td>\n",
       "      <td>32a54e5f6d8a67de1bffd2e689594dc8</td>\n",
       "      <td>False</td>\n",
       "      <td>0</td>\n",
       "      <td>0</td>\n",
       "      <td>0</td>\n",
       "    </tr>\n",
       "  </tbody>\n",
       "</table>\n",
       "</div>"
      ],
      "text/plain": [
       "              Tweet_Id                          Username  Is_deleted  \\\n",
       "0  1178791637348212736  c57d4fb895c5f4a33d2a2b24709f93b5        True   \n",
       "1  1178791641601232896  627f7d4ef584ba33a676a4ebcb861cdb       False   \n",
       "2  1178791643509612547  7966d5716c1c4f33591b17755184e3d6       False   \n",
       "3  1178791644214235137  f17996c036ed4cd981f5448fe00d9ed2       False   \n",
       "4  1178791645371875329  32a54e5f6d8a67de1bffd2e689594dc8       False   \n",
       "\n",
       "                  Domains  number_of_antisciens_domains  \\\n",
       "0                       0                             0   \n",
       "1  catholicnewsagency.com                             0   \n",
       "2                       0                             0   \n",
       "3                       0                             0   \n",
       "4                       0                             0   \n",
       "\n",
       "   number_of_prosciens_domains  \n",
       "0                            0  \n",
       "1                            0  \n",
       "2                            0  \n",
       "3                            0  \n",
       "4                            0  "
      ]
     },
     "execution_count": 22,
     "metadata": {},
     "output_type": "execute_result"
    }
   ],
   "source": [
    "df_tweetscov19.head()"
   ]
  },
  {
   "cell_type": "code",
   "execution_count": 23,
   "id": "2d37c01b",
   "metadata": {},
   "outputs": [
    {
     "name": "stdout",
     "output_type": "stream",
     "text": [
      "Number of tweets with at least one proscience domain:  34962\n"
     ]
    }
   ],
   "source": [
    "tweets_with_proscience_domains = df_tweetscov19[df_tweetscov19['number_of_prosciens_domains'] > 0].shape\n",
    "\n",
    "print('Number of tweets with at least one proscience domain: ', tweets_with_proscience_domains[0])"
   ]
  },
  {
   "cell_type": "code",
   "execution_count": 24,
   "id": "61021db8",
   "metadata": {},
   "outputs": [
    {
     "name": "stderr",
     "output_type": "stream",
     "text": [
      "<ipython-input-24-5a729d8510a2>:1: FutureWarning: Indexing with multiple keys (implicitly converted to a tuple of keys) will be deprecated, use a list instead.\n",
      "  df_tweetscov19_unique_user = df_tweetscov19.groupby('Username')[ 'number_of_antisciens_domains', 'number_of_prosciens_domains'].sum()\n"
     ]
    }
   ],
   "source": [
    "\n",
    "df_tweetscov19_unique_user = df_tweetscov19.groupby('Username')[ 'number_of_antisciens_domains', 'number_of_prosciens_domains'].sum()"
   ]
  },
  {
   "cell_type": "code",
   "execution_count": 25,
   "id": "b8047044",
   "metadata": {},
   "outputs": [
    {
     "name": "stdout",
     "output_type": "stream",
     "text": [
      "Number of unique users in TweetsCOV19:  4095876\n"
     ]
    }
   ],
   "source": [
    "number_of_unique_useres = df_tweetscov19_unique_user.shape\n",
    "\n",
    "print('Number of unique users in TweetsCOV19: ', number_of_unique_useres[0])"
   ]
  },
  {
   "cell_type": "code",
   "execution_count": 26,
   "id": "fcd94807",
   "metadata": {},
   "outputs": [
    {
     "data": {
      "text/html": [
       "<div>\n",
       "<style scoped>\n",
       "    .dataframe tbody tr th:only-of-type {\n",
       "        vertical-align: middle;\n",
       "    }\n",
       "\n",
       "    .dataframe tbody tr th {\n",
       "        vertical-align: top;\n",
       "    }\n",
       "\n",
       "    .dataframe thead th {\n",
       "        text-align: right;\n",
       "    }\n",
       "</style>\n",
       "<table border=\"1\" class=\"dataframe\">\n",
       "  <thead>\n",
       "    <tr style=\"text-align: right;\">\n",
       "      <th></th>\n",
       "      <th>number_of_antisciens_domains</th>\n",
       "      <th>number_of_prosciens_domains</th>\n",
       "    </tr>\n",
       "    <tr>\n",
       "      <th>Username</th>\n",
       "      <th></th>\n",
       "      <th></th>\n",
       "    </tr>\n",
       "  </thead>\n",
       "  <tbody>\n",
       "    <tr>\n",
       "      <th>0002eb2aff20e181397afe8cdebdd395</th>\n",
       "      <td>0</td>\n",
       "      <td>1</td>\n",
       "    </tr>\n",
       "    <tr>\n",
       "      <th>0006a238065c3acb128041e666b58f07</th>\n",
       "      <td>0</td>\n",
       "      <td>2</td>\n",
       "    </tr>\n",
       "    <tr>\n",
       "      <th>0008667130fe3776676804ff59e8ce3b</th>\n",
       "      <td>0</td>\n",
       "      <td>3</td>\n",
       "    </tr>\n",
       "    <tr>\n",
       "      <th>000d4b29789dbf222f58a0b29a63b0e1</th>\n",
       "      <td>0</td>\n",
       "      <td>1</td>\n",
       "    </tr>\n",
       "    <tr>\n",
       "      <th>000e3562755686866515f367bb4d457b</th>\n",
       "      <td>0</td>\n",
       "      <td>1</td>\n",
       "    </tr>\n",
       "  </tbody>\n",
       "</table>\n",
       "</div>"
      ],
      "text/plain": [
       "                                  number_of_antisciens_domains  \\\n",
       "Username                                                         \n",
       "0002eb2aff20e181397afe8cdebdd395                             0   \n",
       "0006a238065c3acb128041e666b58f07                             0   \n",
       "0008667130fe3776676804ff59e8ce3b                             0   \n",
       "000d4b29789dbf222f58a0b29a63b0e1                             0   \n",
       "000e3562755686866515f367bb4d457b                             0   \n",
       "\n",
       "                                  number_of_prosciens_domains  \n",
       "Username                                                       \n",
       "0002eb2aff20e181397afe8cdebdd395                            1  \n",
       "0006a238065c3acb128041e666b58f07                            2  \n",
       "0008667130fe3776676804ff59e8ce3b                            3  \n",
       "000d4b29789dbf222f58a0b29a63b0e1                            1  \n",
       "000e3562755686866515f367bb4d457b                            1  "
      ]
     },
     "execution_count": 26,
     "metadata": {},
     "output_type": "execute_result"
    }
   ],
   "source": [
    "df_tweetscov19_unique_user[df_tweetscov19_unique_user['number_of_prosciens_domains']>0].head()"
   ]
  },
  {
   "cell_type": "code",
   "execution_count": 27,
   "id": "0480020e",
   "metadata": {},
   "outputs": [],
   "source": [
    "df_tweetscov19_unique_user['Sum_polarized_domains'] = df_tweetscov19_unique_user.apply(lambda row:  (row['number_of_prosciens_domains'] - row['number_of_antisciens_domains']), axis=1)"
   ]
  },
  {
   "cell_type": "code",
   "execution_count": 28,
   "id": "d7409983",
   "metadata": {},
   "outputs": [
    {
     "data": {
      "text/html": [
       "<div>\n",
       "<style scoped>\n",
       "    .dataframe tbody tr th:only-of-type {\n",
       "        vertical-align: middle;\n",
       "    }\n",
       "\n",
       "    .dataframe tbody tr th {\n",
       "        vertical-align: top;\n",
       "    }\n",
       "\n",
       "    .dataframe thead th {\n",
       "        text-align: right;\n",
       "    }\n",
       "</style>\n",
       "<table border=\"1\" class=\"dataframe\">\n",
       "  <thead>\n",
       "    <tr style=\"text-align: right;\">\n",
       "      <th></th>\n",
       "      <th>number_of_antisciens_domains</th>\n",
       "      <th>number_of_prosciens_domains</th>\n",
       "      <th>Sum_polarized_domains</th>\n",
       "    </tr>\n",
       "    <tr>\n",
       "      <th>Username</th>\n",
       "      <th></th>\n",
       "      <th></th>\n",
       "      <th></th>\n",
       "    </tr>\n",
       "  </thead>\n",
       "  <tbody>\n",
       "    <tr>\n",
       "      <th>000238f324f5063164908c27a7f310cd</th>\n",
       "      <td>-1</td>\n",
       "      <td>0</td>\n",
       "      <td>1</td>\n",
       "    </tr>\n",
       "    <tr>\n",
       "      <th>00065a00b971b5e1629d504e0ddf2da0</th>\n",
       "      <td>-3</td>\n",
       "      <td>0</td>\n",
       "      <td>3</td>\n",
       "    </tr>\n",
       "    <tr>\n",
       "      <th>000795932bf3bc3ab05b5efc1b07104b</th>\n",
       "      <td>-1</td>\n",
       "      <td>0</td>\n",
       "      <td>1</td>\n",
       "    </tr>\n",
       "    <tr>\n",
       "      <th>00084b153bbf7f4a8c1df3b638e07765</th>\n",
       "      <td>-8</td>\n",
       "      <td>0</td>\n",
       "      <td>8</td>\n",
       "    </tr>\n",
       "    <tr>\n",
       "      <th>00098f7374d9ea6b43df2c97931ecf01</th>\n",
       "      <td>-1</td>\n",
       "      <td>0</td>\n",
       "      <td>1</td>\n",
       "    </tr>\n",
       "  </tbody>\n",
       "</table>\n",
       "</div>"
      ],
      "text/plain": [
       "                                  number_of_antisciens_domains  \\\n",
       "Username                                                         \n",
       "000238f324f5063164908c27a7f310cd                            -1   \n",
       "00065a00b971b5e1629d504e0ddf2da0                            -3   \n",
       "000795932bf3bc3ab05b5efc1b07104b                            -1   \n",
       "00084b153bbf7f4a8c1df3b638e07765                            -8   \n",
       "00098f7374d9ea6b43df2c97931ecf01                            -1   \n",
       "\n",
       "                                  number_of_prosciens_domains  \\\n",
       "Username                                                        \n",
       "000238f324f5063164908c27a7f310cd                            0   \n",
       "00065a00b971b5e1629d504e0ddf2da0                            0   \n",
       "000795932bf3bc3ab05b5efc1b07104b                            0   \n",
       "00084b153bbf7f4a8c1df3b638e07765                            0   \n",
       "00098f7374d9ea6b43df2c97931ecf01                            0   \n",
       "\n",
       "                                  Sum_polarized_domains  \n",
       "Username                                                 \n",
       "000238f324f5063164908c27a7f310cd                      1  \n",
       "00065a00b971b5e1629d504e0ddf2da0                      3  \n",
       "000795932bf3bc3ab05b5efc1b07104b                      1  \n",
       "00084b153bbf7f4a8c1df3b638e07765                      8  \n",
       "00098f7374d9ea6b43df2c97931ecf01                      1  "
      ]
     },
     "execution_count": 28,
     "metadata": {},
     "output_type": "execute_result"
    }
   ],
   "source": [
    "df_tweetscov19_unique_user[df_tweetscov19_unique_user['number_of_antisciens_domains']<0].head()"
   ]
  },
  {
   "cell_type": "code",
   "execution_count": 29,
   "id": "93703b97",
   "metadata": {},
   "outputs": [],
   "source": [
    "df_tweetscov19_unique_user['normalised_polarisation'] = df_tweetscov19_unique_user.apply(lambda row: (row['number_of_antisciens_domains'] + row['number_of_prosciens_domains']) / row['Sum_polarized_domains'] if row['Sum_polarized_domains'] != 0 else 0, axis=1)"
   ]
  },
  {
   "cell_type": "code",
   "execution_count": 30,
   "id": "5fa996a6",
   "metadata": {},
   "outputs": [
    {
     "data": {
      "text/html": [
       "<div>\n",
       "<style scoped>\n",
       "    .dataframe tbody tr th:only-of-type {\n",
       "        vertical-align: middle;\n",
       "    }\n",
       "\n",
       "    .dataframe tbody tr th {\n",
       "        vertical-align: top;\n",
       "    }\n",
       "\n",
       "    .dataframe thead th {\n",
       "        text-align: right;\n",
       "    }\n",
       "</style>\n",
       "<table border=\"1\" class=\"dataframe\">\n",
       "  <thead>\n",
       "    <tr style=\"text-align: right;\">\n",
       "      <th></th>\n",
       "      <th>number_of_antisciens_domains</th>\n",
       "      <th>number_of_prosciens_domains</th>\n",
       "      <th>Sum_polarized_domains</th>\n",
       "      <th>normalised_polarisation</th>\n",
       "    </tr>\n",
       "    <tr>\n",
       "      <th>Username</th>\n",
       "      <th></th>\n",
       "      <th></th>\n",
       "      <th></th>\n",
       "      <th></th>\n",
       "    </tr>\n",
       "  </thead>\n",
       "  <tbody>\n",
       "    <tr>\n",
       "      <th>00065a00b971b5e1629d504e0ddf2da0</th>\n",
       "      <td>-3</td>\n",
       "      <td>0</td>\n",
       "      <td>3</td>\n",
       "      <td>-1.00000</td>\n",
       "    </tr>\n",
       "    <tr>\n",
       "      <th>00084b153bbf7f4a8c1df3b638e07765</th>\n",
       "      <td>-8</td>\n",
       "      <td>0</td>\n",
       "      <td>8</td>\n",
       "      <td>-1.00000</td>\n",
       "    </tr>\n",
       "    <tr>\n",
       "      <th>0013aaa4da0461c58d0b1306af75af02</th>\n",
       "      <td>-16</td>\n",
       "      <td>5</td>\n",
       "      <td>21</td>\n",
       "      <td>-0.52381</td>\n",
       "    </tr>\n",
       "    <tr>\n",
       "      <th>00231111ddf5695458a1354b2dba79e3</th>\n",
       "      <td>-3</td>\n",
       "      <td>0</td>\n",
       "      <td>3</td>\n",
       "      <td>-1.00000</td>\n",
       "    </tr>\n",
       "    <tr>\n",
       "      <th>0023797612d9ad76ffd7024c324c499c</th>\n",
       "      <td>-7</td>\n",
       "      <td>0</td>\n",
       "      <td>7</td>\n",
       "      <td>-1.00000</td>\n",
       "    </tr>\n",
       "  </tbody>\n",
       "</table>\n",
       "</div>"
      ],
      "text/plain": [
       "                                  number_of_antisciens_domains  \\\n",
       "Username                                                         \n",
       "00065a00b971b5e1629d504e0ddf2da0                            -3   \n",
       "00084b153bbf7f4a8c1df3b638e07765                            -8   \n",
       "0013aaa4da0461c58d0b1306af75af02                           -16   \n",
       "00231111ddf5695458a1354b2dba79e3                            -3   \n",
       "0023797612d9ad76ffd7024c324c499c                            -7   \n",
       "\n",
       "                                  number_of_prosciens_domains  \\\n",
       "Username                                                        \n",
       "00065a00b971b5e1629d504e0ddf2da0                            0   \n",
       "00084b153bbf7f4a8c1df3b638e07765                            0   \n",
       "0013aaa4da0461c58d0b1306af75af02                            5   \n",
       "00231111ddf5695458a1354b2dba79e3                            0   \n",
       "0023797612d9ad76ffd7024c324c499c                            0   \n",
       "\n",
       "                                  Sum_polarized_domains  \\\n",
       "Username                                                  \n",
       "00065a00b971b5e1629d504e0ddf2da0                      3   \n",
       "00084b153bbf7f4a8c1df3b638e07765                      8   \n",
       "0013aaa4da0461c58d0b1306af75af02                     21   \n",
       "00231111ddf5695458a1354b2dba79e3                      3   \n",
       "0023797612d9ad76ffd7024c324c499c                      7   \n",
       "\n",
       "                                  normalised_polarisation  \n",
       "Username                                                   \n",
       "00065a00b971b5e1629d504e0ddf2da0                 -1.00000  \n",
       "00084b153bbf7f4a8c1df3b638e07765                 -1.00000  \n",
       "0013aaa4da0461c58d0b1306af75af02                 -0.52381  \n",
       "00231111ddf5695458a1354b2dba79e3                 -1.00000  \n",
       "0023797612d9ad76ffd7024c324c499c                 -1.00000  "
      ]
     },
     "execution_count": 30,
     "metadata": {},
     "output_type": "execute_result"
    }
   ],
   "source": [
    "df_tweetscov19_unique_user[df_tweetscov19_unique_user['number_of_antisciens_domains']<-2].head()"
   ]
  },
  {
   "cell_type": "code",
   "execution_count": 31,
   "id": "21150cdb",
   "metadata": {},
   "outputs": [],
   "source": [
    "df_tweetscov19_unique_user_without_zero_polarisation = df_tweetscov19_unique_user[df_tweetscov19_unique_user['normalised_polarisation'] != 0]"
   ]
  },
  {
   "cell_type": "code",
   "execution_count": 32,
   "id": "f10dd27e",
   "metadata": {},
   "outputs": [
    {
     "name": "stdout",
     "output_type": "stream",
     "text": [
      "Number of science polarized users in TWeetsCOV19:  43943\n"
     ]
    }
   ],
   "source": [
    "number_of_science_polarized_users = df_tweetscov19_unique_user_without_zero_polarisation.shape\n",
    "\n",
    "print('Number of science polarized users in TWeetsCOV19: ', number_of_science_polarized_users[0])"
   ]
  },
  {
   "cell_type": "code",
   "execution_count": 33,
   "id": "4af33ee5",
   "metadata": {},
   "outputs": [
    {
     "name": "stdout",
     "output_type": "stream",
     "text": [
      "Number of proscience polarized users in TWeetsCOV19:  18352\n"
     ]
    }
   ],
   "source": [
    "number_of_proscience_polarized_users = df_tweetscov19_unique_user_without_zero_polarisation[df_tweetscov19_unique_user_without_zero_polarisation['normalised_polarisation'] > 0].shape\n",
    "\n",
    "print('Number of proscience polarized users in TWeetsCOV19: ', number_of_proscience_polarized_users[0])"
   ]
  },
  {
   "cell_type": "code",
   "execution_count": 34,
   "id": "ec4dc261",
   "metadata": {},
   "outputs": [
    {
     "name": "stdout",
     "output_type": "stream",
     "text": [
      "Number of antiscience polarized users in TWeetsCOV19:  25591\n"
     ]
    }
   ],
   "source": [
    "number_of_antiscience_polarized_users = df_tweetscov19_unique_user_without_zero_polarisation[df_tweetscov19_unique_user_without_zero_polarisation['normalised_polarisation'] < 0].shape\n",
    "\n",
    "print('Number of antiscience polarized users in TWeetsCOV19: ', number_of_antiscience_polarized_users[0])"
   ]
  },
  {
   "cell_type": "markdown",
   "id": "393f3960",
   "metadata": {},
   "source": [
    "****"
   ]
  },
  {
   "cell_type": "code",
   "execution_count": 35,
   "id": "13620310",
   "metadata": {},
   "outputs": [
    {
     "data": {
      "text/html": [
       "<div>\n",
       "<style scoped>\n",
       "    .dataframe tbody tr th:only-of-type {\n",
       "        vertical-align: middle;\n",
       "    }\n",
       "\n",
       "    .dataframe tbody tr th {\n",
       "        vertical-align: top;\n",
       "    }\n",
       "\n",
       "    .dataframe thead th {\n",
       "        text-align: right;\n",
       "    }\n",
       "</style>\n",
       "<table border=\"1\" class=\"dataframe\">\n",
       "  <thead>\n",
       "    <tr style=\"text-align: right;\">\n",
       "      <th></th>\n",
       "      <th>Username</th>\n",
       "      <th>number_of_antisciens_domains</th>\n",
       "      <th>number_of_prosciens_domains</th>\n",
       "      <th>Sum_polarized_domains</th>\n",
       "      <th>normalised_polarisation</th>\n",
       "    </tr>\n",
       "  </thead>\n",
       "  <tbody>\n",
       "    <tr>\n",
       "      <th>0</th>\n",
       "      <td>000238f324f5063164908c27a7f310cd</td>\n",
       "      <td>-1</td>\n",
       "      <td>0</td>\n",
       "      <td>1</td>\n",
       "      <td>-1.0</td>\n",
       "    </tr>\n",
       "    <tr>\n",
       "      <th>1</th>\n",
       "      <td>0002eb2aff20e181397afe8cdebdd395</td>\n",
       "      <td>0</td>\n",
       "      <td>1</td>\n",
       "      <td>1</td>\n",
       "      <td>1.0</td>\n",
       "    </tr>\n",
       "    <tr>\n",
       "      <th>2</th>\n",
       "      <td>00065a00b971b5e1629d504e0ddf2da0</td>\n",
       "      <td>-3</td>\n",
       "      <td>0</td>\n",
       "      <td>3</td>\n",
       "      <td>-1.0</td>\n",
       "    </tr>\n",
       "    <tr>\n",
       "      <th>3</th>\n",
       "      <td>0006a238065c3acb128041e666b58f07</td>\n",
       "      <td>0</td>\n",
       "      <td>2</td>\n",
       "      <td>2</td>\n",
       "      <td>1.0</td>\n",
       "    </tr>\n",
       "    <tr>\n",
       "      <th>4</th>\n",
       "      <td>000795932bf3bc3ab05b5efc1b07104b</td>\n",
       "      <td>-1</td>\n",
       "      <td>0</td>\n",
       "      <td>1</td>\n",
       "      <td>-1.0</td>\n",
       "    </tr>\n",
       "  </tbody>\n",
       "</table>\n",
       "</div>"
      ],
      "text/plain": [
       "                           Username  number_of_antisciens_domains  \\\n",
       "0  000238f324f5063164908c27a7f310cd                            -1   \n",
       "1  0002eb2aff20e181397afe8cdebdd395                             0   \n",
       "2  00065a00b971b5e1629d504e0ddf2da0                            -3   \n",
       "3  0006a238065c3acb128041e666b58f07                             0   \n",
       "4  000795932bf3bc3ab05b5efc1b07104b                            -1   \n",
       "\n",
       "   number_of_prosciens_domains  Sum_polarized_domains  normalised_polarisation  \n",
       "0                            0                      1                     -1.0  \n",
       "1                            1                      1                      1.0  \n",
       "2                            0                      3                     -1.0  \n",
       "3                            2                      2                      1.0  \n",
       "4                            0                      1                     -1.0  "
      ]
     },
     "execution_count": 35,
     "metadata": {},
     "output_type": "execute_result"
    }
   ],
   "source": [
    "df_tweetscov19_unique_user_without_zero_polarisation = df_tweetscov19_unique_user_without_zero_polarisation.reset_index()\n",
    "df_tweetscov19_unique_user_without_zero_polarisation.head()"
   ]
  },
  {
   "cell_type": "markdown",
   "id": "d3ee52dc",
   "metadata": {},
   "source": [
    "***"
   ]
  },
  {
   "cell_type": "markdown",
   "id": "21e3b13b",
   "metadata": {},
   "source": [
    "***"
   ]
  },
  {
   "cell_type": "code",
   "execution_count": 36,
   "id": "c784f718",
   "metadata": {},
   "outputs": [],
   "source": [
    "df_tweetscov19 = df_tweetscov19[['Tweet_Id', 'number_of_antisciens_domains', 'number_of_prosciens_domains']]\n",
    "\n",
    "\n",
    "path = '../data/tweetscov19_tweets_science_polarized.tsv'\n",
    "\n",
    "with open(path, 'w', newline='', encoding=\"utf-8\") as out_file:\n",
    "    tsv_writer = csv.writer(out_file, delimiter=\"\\t\")\n",
    "    for idx, row in df_tweetscov19.iterrows():\n",
    "        tsv_writer.writerow(row.values.tolist())"
   ]
  },
  {
   "cell_type": "markdown",
   "id": "c4db57a9",
   "metadata": {},
   "source": [
    "***"
   ]
  },
  {
   "cell_type": "markdown",
   "id": "295fd93a",
   "metadata": {},
   "source": [
    "***"
   ]
  },
  {
   "cell_type": "code",
   "execution_count": 70,
   "id": "785cf834",
   "metadata": {},
   "outputs": [],
   "source": [
    "pfad_tsv3 = '../data/tweetscov19_science_polarized_users.tsv'\n",
    "\n",
    "with open(pfad_tsv3, 'w', newline='', encoding=\"utf-8\") as out_file:\n",
    "    tsv_writer = csv.writer(out_file, delimiter=\"\\t\")\n",
    "    for idx, row in df_tweetscov19_unique_user_without_zero_polarisation.iterrows():\n",
    "        tsv_writer.writerow(row.values.tolist())"
   ]
  },
  {
   "cell_type": "markdown",
   "id": "28d5c15e",
   "metadata": {},
   "source": [
    "***"
   ]
  },
  {
   "cell_type": "markdown",
   "id": "252d04c5",
   "metadata": {},
   "source": [
    "## Polarisierungen berechnen\n",
    "### TweetsKB"
   ]
  },
  {
   "cell_type": "markdown",
   "id": "70abba15",
   "metadata": {},
   "source": [
    "***"
   ]
  },
  {
   "cell_type": "code",
   "execution_count": 37,
   "id": "0c06e05d",
   "metadata": {},
   "outputs": [
    {
     "name": "stdout",
     "output_type": "stream",
     "text": [
      "Shape : (9409841, 4)\n"
     ]
    },
    {
     "data": {
      "text/html": [
       "<div>\n",
       "<style scoped>\n",
       "    .dataframe tbody tr th:only-of-type {\n",
       "        vertical-align: middle;\n",
       "    }\n",
       "\n",
       "    .dataframe tbody tr th {\n",
       "        vertical-align: top;\n",
       "    }\n",
       "\n",
       "    .dataframe thead th {\n",
       "        text-align: right;\n",
       "    }\n",
       "</style>\n",
       "<table border=\"1\" class=\"dataframe\">\n",
       "  <thead>\n",
       "    <tr style=\"text-align: right;\">\n",
       "      <th></th>\n",
       "      <th>Tweet_Id</th>\n",
       "      <th>Username</th>\n",
       "      <th>Is_deleted</th>\n",
       "      <th>Domains</th>\n",
       "    </tr>\n",
       "  </thead>\n",
       "  <tbody>\n",
       "    <tr>\n",
       "      <th>0</th>\n",
       "      <td>1178791636039589889</td>\n",
       "      <td>DCComics</td>\n",
       "      <td>False</td>\n",
       "      <td>dcuniverseinfinite.com</td>\n",
       "    </tr>\n",
       "    <tr>\n",
       "      <th>1</th>\n",
       "      <td>1178791641265639424</td>\n",
       "      <td>seanberdyz</td>\n",
       "      <td>True</td>\n",
       "      <td>carrd.co</td>\n",
       "    </tr>\n",
       "    <tr>\n",
       "      <th>2</th>\n",
       "      <td>1178791640573579264</td>\n",
       "      <td>AnArtistAtBirth</td>\n",
       "      <td>True</td>\n",
       "      <td>0</td>\n",
       "    </tr>\n",
       "    <tr>\n",
       "      <th>3</th>\n",
       "      <td>1178791644797255680</td>\n",
       "      <td>lagosboygang</td>\n",
       "      <td>True</td>\n",
       "      <td>0</td>\n",
       "    </tr>\n",
       "    <tr>\n",
       "      <th>4</th>\n",
       "      <td>1178791648056217600</td>\n",
       "      <td>Phenom_Hoops</td>\n",
       "      <td>False</td>\n",
       "      <td>phenomhoopreport.com</td>\n",
       "    </tr>\n",
       "  </tbody>\n",
       "</table>\n",
       "</div>"
      ],
      "text/plain": [
       "              Tweet_Id         Username  Is_deleted                 Domains\n",
       "0  1178791636039589889         DCComics       False  dcuniverseinfinite.com\n",
       "1  1178791641265639424       seanberdyz        True                carrd.co\n",
       "2  1178791640573579264  AnArtistAtBirth        True                       0\n",
       "3  1178791644797255680     lagosboygang        True                       0\n",
       "4  1178791648056217600     Phenom_Hoops       False    phenomhoopreport.com"
      ]
     },
     "execution_count": 37,
     "metadata": {},
     "output_type": "execute_result"
    }
   ],
   "source": [
    "pfad_tsv3 = '../data/tweetskb_id_isdeleted_domains.tsv'\n",
    "\n",
    "df_tweetskb = pd.read_csv(pfad_tsv3, sep='\\t', error_bad_lines=False, names=['Tweet_Id', 'Username', 'Is_deleted', 'Domains'])\n",
    "\n",
    "print('Shape :', df_tweetskb.shape)\n",
    "df_tweetskb.head()"
   ]
  },
  {
   "cell_type": "code",
   "execution_count": 38,
   "id": "6fb2914d",
   "metadata": {},
   "outputs": [],
   "source": [
    "df_tweetskb['Domains'] = df_tweetskb['Domains'].astype(str)\n",
    "df_tweetskb['number_of_antisciens_domains'] = df_tweetskb.apply(lambda row: get_number_of_antiscience_domains(row['Domains']) if (row['Domains'] != '0') else 0, axis=1)"
   ]
  },
  {
   "cell_type": "code",
   "execution_count": 39,
   "id": "0d6ae275",
   "metadata": {},
   "outputs": [
    {
     "name": "stdout",
     "output_type": "stream",
     "text": [
      "Number of tweets with at least one antiscience Domain:  27483\n"
     ]
    }
   ],
   "source": [
    "tweets_with_antiscience_domains = df_tweetskb[df_tweetskb['number_of_antisciens_domains'] < 0].shape\n",
    "\n",
    "print('Number of tweets with at least one antiscience Domain: ', tweets_with_antiscience_domains[0])"
   ]
  },
  {
   "cell_type": "code",
   "execution_count": 40,
   "id": "84693b26",
   "metadata": {},
   "outputs": [],
   "source": [
    "df_tweetskb['number_of_prosciens_domains'] = df_tweetskb.apply(lambda row: get_number_of_proscience_domains(row['Domains']) if (row['Domains'] != '0') else 0, axis=1)"
   ]
  },
  {
   "cell_type": "code",
   "execution_count": 41,
   "id": "7de83846",
   "metadata": {},
   "outputs": [
    {
     "name": "stdout",
     "output_type": "stream",
     "text": [
      "Number of tweets with at least one antiscience Domain:  6599\n"
     ]
    }
   ],
   "source": [
    "tweets_with_proscience_domains = df_tweetskb[df_tweetskb['number_of_prosciens_domains'] > 0].shape\n",
    "\n",
    "print('Number of tweets with at least one antiscience Domain: ', tweets_with_proscience_domains[0])"
   ]
  },
  {
   "cell_type": "code",
   "execution_count": 42,
   "id": "b9f3e654",
   "metadata": {},
   "outputs": [
    {
     "name": "stderr",
     "output_type": "stream",
     "text": [
      "<ipython-input-42-532f45cc846d>:1: FutureWarning: Indexing with multiple keys (implicitly converted to a tuple of keys) will be deprecated, use a list instead.\n",
      "  df_tweetskb_unique_user = df_tweetskb.groupby('Username')[ 'number_of_antisciens_domains', 'number_of_prosciens_domains'].sum()\n"
     ]
    }
   ],
   "source": [
    "\n",
    "df_tweetskb_unique_user = df_tweetskb.groupby('Username')[ 'number_of_antisciens_domains', 'number_of_prosciens_domains'].sum()"
   ]
  },
  {
   "cell_type": "code",
   "execution_count": 43,
   "id": "083f81c8",
   "metadata": {},
   "outputs": [
    {
     "name": "stdout",
     "output_type": "stream",
     "text": [
      "Number of unique users in TweetsKB:  5208425\n"
     ]
    }
   ],
   "source": [
    "unique_users = df_tweetskb_unique_user.shape\n",
    "\n",
    "print('Number of unique users in TweetsKB: ', unique_users[0])"
   ]
  },
  {
   "cell_type": "code",
   "execution_count": 44,
   "id": "b8be5f81",
   "metadata": {},
   "outputs": [
    {
     "data": {
      "text/html": [
       "<div>\n",
       "<style scoped>\n",
       "    .dataframe tbody tr th:only-of-type {\n",
       "        vertical-align: middle;\n",
       "    }\n",
       "\n",
       "    .dataframe tbody tr th {\n",
       "        vertical-align: top;\n",
       "    }\n",
       "\n",
       "    .dataframe thead th {\n",
       "        text-align: right;\n",
       "    }\n",
       "</style>\n",
       "<table border=\"1\" class=\"dataframe\">\n",
       "  <thead>\n",
       "    <tr style=\"text-align: right;\">\n",
       "      <th></th>\n",
       "      <th>number_of_antisciens_domains</th>\n",
       "      <th>number_of_prosciens_domains</th>\n",
       "    </tr>\n",
       "    <tr>\n",
       "      <th>Username</th>\n",
       "      <th></th>\n",
       "      <th></th>\n",
       "    </tr>\n",
       "  </thead>\n",
       "  <tbody>\n",
       "    <tr>\n",
       "      <th>00000000</th>\n",
       "      <td>0</td>\n",
       "      <td>0</td>\n",
       "    </tr>\n",
       "    <tr>\n",
       "      <th>000000000yt</th>\n",
       "      <td>0</td>\n",
       "      <td>0</td>\n",
       "    </tr>\n",
       "    <tr>\n",
       "      <th>00000000martin</th>\n",
       "      <td>0</td>\n",
       "      <td>0</td>\n",
       "    </tr>\n",
       "    <tr>\n",
       "      <th>000000911a</th>\n",
       "      <td>0</td>\n",
       "      <td>0</td>\n",
       "    </tr>\n",
       "    <tr>\n",
       "      <th>000000_127</th>\n",
       "      <td>0</td>\n",
       "      <td>0</td>\n",
       "    </tr>\n",
       "  </tbody>\n",
       "</table>\n",
       "</div>"
      ],
      "text/plain": [
       "                number_of_antisciens_domains  number_of_prosciens_domains\n",
       "Username                                                                 \n",
       "00000000                                   0                            0\n",
       "000000000yt                                0                            0\n",
       "00000000martin                             0                            0\n",
       "000000911a                                 0                            0\n",
       "000000_127                                 0                            0"
      ]
     },
     "execution_count": 44,
     "metadata": {},
     "output_type": "execute_result"
    }
   ],
   "source": [
    "df_tweetskb_unique_user.head()"
   ]
  },
  {
   "cell_type": "code",
   "execution_count": 45,
   "id": "4b40c366",
   "metadata": {},
   "outputs": [],
   "source": [
    "df_tweetskb_unique_user['Sum_polarized_domains'] = df_tweetskb_unique_user.apply(lambda row: (row['number_of_prosciens_domains'] - row['number_of_antisciens_domains']), axis=1)"
   ]
  },
  {
   "cell_type": "code",
   "execution_count": 46,
   "id": "4bd8ed8c",
   "metadata": {},
   "outputs": [
    {
     "data": {
      "text/html": [
       "<div>\n",
       "<style scoped>\n",
       "    .dataframe tbody tr th:only-of-type {\n",
       "        vertical-align: middle;\n",
       "    }\n",
       "\n",
       "    .dataframe tbody tr th {\n",
       "        vertical-align: top;\n",
       "    }\n",
       "\n",
       "    .dataframe thead th {\n",
       "        text-align: right;\n",
       "    }\n",
       "</style>\n",
       "<table border=\"1\" class=\"dataframe\">\n",
       "  <thead>\n",
       "    <tr style=\"text-align: right;\">\n",
       "      <th></th>\n",
       "      <th>number_of_antisciens_domains</th>\n",
       "      <th>number_of_prosciens_domains</th>\n",
       "      <th>Sum_polarized_domains</th>\n",
       "    </tr>\n",
       "    <tr>\n",
       "      <th>Username</th>\n",
       "      <th></th>\n",
       "      <th></th>\n",
       "      <th></th>\n",
       "    </tr>\n",
       "  </thead>\n",
       "  <tbody>\n",
       "    <tr>\n",
       "      <th>100PercFEDUP</th>\n",
       "      <td>-8</td>\n",
       "      <td>0</td>\n",
       "      <td>8</td>\n",
       "    </tr>\n",
       "    <tr>\n",
       "      <th>10thAmendment</th>\n",
       "      <td>-10</td>\n",
       "      <td>0</td>\n",
       "      <td>10</td>\n",
       "    </tr>\n",
       "    <tr>\n",
       "      <th>1234renodog</th>\n",
       "      <td>-3</td>\n",
       "      <td>0</td>\n",
       "      <td>3</td>\n",
       "    </tr>\n",
       "    <tr>\n",
       "      <th>123RHGreen</th>\n",
       "      <td>-21</td>\n",
       "      <td>0</td>\n",
       "      <td>21</td>\n",
       "    </tr>\n",
       "    <tr>\n",
       "      <th>125LolaLola</th>\n",
       "      <td>-3</td>\n",
       "      <td>0</td>\n",
       "      <td>3</td>\n",
       "    </tr>\n",
       "  </tbody>\n",
       "</table>\n",
       "</div>"
      ],
      "text/plain": [
       "               number_of_antisciens_domains  number_of_prosciens_domains  \\\n",
       "Username                                                                   \n",
       "100PercFEDUP                             -8                            0   \n",
       "10thAmendment                           -10                            0   \n",
       "1234renodog                              -3                            0   \n",
       "123RHGreen                              -21                            0   \n",
       "125LolaLola                              -3                            0   \n",
       "\n",
       "               Sum_polarized_domains  \n",
       "Username                              \n",
       "100PercFEDUP                       8  \n",
       "10thAmendment                     10  \n",
       "1234renodog                        3  \n",
       "123RHGreen                        21  \n",
       "125LolaLola                        3  "
      ]
     },
     "execution_count": 46,
     "metadata": {},
     "output_type": "execute_result"
    }
   ],
   "source": [
    "df_tweetskb_unique_user[df_tweetskb_unique_user['number_of_antisciens_domains']<-2].head()"
   ]
  },
  {
   "cell_type": "code",
   "execution_count": 47,
   "id": "a1a28c7a",
   "metadata": {},
   "outputs": [],
   "source": [
    "df_tweetskb_unique_user['normalised_polarisation'] = df_tweetskb_unique_user.apply(lambda row: (row['number_of_antisciens_domains'] + row['number_of_prosciens_domains']) / row['Sum_polarized_domains'] if row['Sum_polarized_domains'] != 0 else 0, axis=1)"
   ]
  },
  {
   "cell_type": "code",
   "execution_count": 48,
   "id": "796521de",
   "metadata": {},
   "outputs": [],
   "source": [
    "df_tweetskb_unique_user_without_zero_polarisation = df_tweetskb_unique_user[df_tweetskb_unique_user['normalised_polarisation'] != 0]"
   ]
  },
  {
   "cell_type": "code",
   "execution_count": 49,
   "id": "e01cf141",
   "metadata": {},
   "outputs": [
    {
     "name": "stdout",
     "output_type": "stream",
     "text": [
      "Number of science polarized users in TWeetsKB:  15262\n"
     ]
    }
   ],
   "source": [
    "number_of_science_polarized_users = df_tweetskb_unique_user_without_zero_polarisation.shape\n",
    "\n",
    "print('Number of science polarized users in TWeetsKB: ', number_of_science_polarized_users[0])"
   ]
  },
  {
   "cell_type": "code",
   "execution_count": 50,
   "id": "f0a3cf50",
   "metadata": {},
   "outputs": [
    {
     "name": "stdout",
     "output_type": "stream",
     "text": [
      "Number of proscience polarized users in TWeetsKB:  4769\n"
     ]
    }
   ],
   "source": [
    "number_of_proscience_polarized_users = df_tweetskb_unique_user_without_zero_polarisation[df_tweetskb_unique_user_without_zero_polarisation['normalised_polarisation'] > 0].shape\n",
    "\n",
    "print('Number of proscience polarized users in TWeetsKB: ', number_of_proscience_polarized_users[0])"
   ]
  },
  {
   "cell_type": "code",
   "execution_count": 51,
   "id": "b8132fec",
   "metadata": {},
   "outputs": [
    {
     "name": "stdout",
     "output_type": "stream",
     "text": [
      "Number of antiscience polarized users in TWeetsKB:  10493\n"
     ]
    }
   ],
   "source": [
    "number_of_antiscience_polarized_users = df_tweetskb_unique_user_without_zero_polarisation[df_tweetskb_unique_user_without_zero_polarisation['normalised_polarisation'] < 0].shape\n",
    "\n",
    "print('Number of antiscience polarized users in TWeetsKB: ', number_of_antiscience_polarized_users[0])"
   ]
  },
  {
   "cell_type": "code",
   "execution_count": 52,
   "id": "1848f791",
   "metadata": {},
   "outputs": [
    {
     "data": {
      "text/html": [
       "<div>\n",
       "<style scoped>\n",
       "    .dataframe tbody tr th:only-of-type {\n",
       "        vertical-align: middle;\n",
       "    }\n",
       "\n",
       "    .dataframe tbody tr th {\n",
       "        vertical-align: top;\n",
       "    }\n",
       "\n",
       "    .dataframe thead th {\n",
       "        text-align: right;\n",
       "    }\n",
       "</style>\n",
       "<table border=\"1\" class=\"dataframe\">\n",
       "  <thead>\n",
       "    <tr style=\"text-align: right;\">\n",
       "      <th></th>\n",
       "      <th>Username</th>\n",
       "      <th>number_of_antisciens_domains</th>\n",
       "      <th>number_of_prosciens_domains</th>\n",
       "      <th>Sum_polarized_domains</th>\n",
       "      <th>normalised_polarisation</th>\n",
       "    </tr>\n",
       "  </thead>\n",
       "  <tbody>\n",
       "    <tr>\n",
       "      <th>0</th>\n",
       "      <td>000000hSure</td>\n",
       "      <td>-1</td>\n",
       "      <td>0</td>\n",
       "      <td>1</td>\n",
       "      <td>-1.0</td>\n",
       "    </tr>\n",
       "    <tr>\n",
       "      <th>1</th>\n",
       "      <td>01splcheck</td>\n",
       "      <td>-1</td>\n",
       "      <td>0</td>\n",
       "      <td>1</td>\n",
       "      <td>-1.0</td>\n",
       "    </tr>\n",
       "    <tr>\n",
       "      <th>2</th>\n",
       "      <td>01sth02</td>\n",
       "      <td>0</td>\n",
       "      <td>1</td>\n",
       "      <td>1</td>\n",
       "      <td>1.0</td>\n",
       "    </tr>\n",
       "    <tr>\n",
       "      <th>3</th>\n",
       "      <td>0Bettymowery2</td>\n",
       "      <td>-1</td>\n",
       "      <td>0</td>\n",
       "      <td>1</td>\n",
       "      <td>-1.0</td>\n",
       "    </tr>\n",
       "    <tr>\n",
       "      <th>4</th>\n",
       "      <td>0Ludicris5</td>\n",
       "      <td>-2</td>\n",
       "      <td>0</td>\n",
       "      <td>2</td>\n",
       "      <td>-1.0</td>\n",
       "    </tr>\n",
       "  </tbody>\n",
       "</table>\n",
       "</div>"
      ],
      "text/plain": [
       "        Username  number_of_antisciens_domains  number_of_prosciens_domains  \\\n",
       "0    000000hSure                            -1                            0   \n",
       "1     01splcheck                            -1                            0   \n",
       "2        01sth02                             0                            1   \n",
       "3  0Bettymowery2                            -1                            0   \n",
       "4     0Ludicris5                            -2                            0   \n",
       "\n",
       "   Sum_polarized_domains  normalised_polarisation  \n",
       "0                      1                     -1.0  \n",
       "1                      1                     -1.0  \n",
       "2                      1                      1.0  \n",
       "3                      1                     -1.0  \n",
       "4                      2                     -1.0  "
      ]
     },
     "execution_count": 52,
     "metadata": {},
     "output_type": "execute_result"
    }
   ],
   "source": [
    "df_tweetskb_unique_user_without_zero_polarisation = df_tweetskb_unique_user_without_zero_polarisation.reset_index()\n",
    "df_tweetskb_unique_user_without_zero_polarisation.head()"
   ]
  },
  {
   "cell_type": "markdown",
   "id": "3fe00d32",
   "metadata": {},
   "source": [
    "***"
   ]
  },
  {
   "cell_type": "markdown",
   "id": "1b4bf50f",
   "metadata": {},
   "source": [
    "***"
   ]
  },
  {
   "cell_type": "code",
   "execution_count": 53,
   "id": "f6363d2b",
   "metadata": {},
   "outputs": [],
   "source": [
    "df_tweetskb = df_tweetskb[['Tweet_Id', 'number_of_antisciens_domains', 'number_of_prosciens_domains']]\n",
    "\n",
    "path = '../data/tweetskb_tweets_science_polarized.tsv'\n",
    "\n",
    "with open(path, 'w', newline='', encoding=\"utf-8\") as out_file:\n",
    "    tsv_writer = csv.writer(out_file, delimiter=\"\\t\")\n",
    "    for idx, row in df_tweetskb.iterrows():\n",
    "        tsv_writer.writerow(row.values.tolist())"
   ]
  },
  {
   "cell_type": "markdown",
   "id": "ae97aeb8",
   "metadata": {},
   "source": [
    "***"
   ]
  },
  {
   "cell_type": "markdown",
   "id": "9c7a4bca",
   "metadata": {},
   "source": [
    "***"
   ]
  },
  {
   "cell_type": "code",
   "execution_count": 98,
   "id": "f56478e0",
   "metadata": {},
   "outputs": [],
   "source": [
    "pfad_tsv3 = '../data/tweetskb_science_polarized_users.tsv'\n",
    "\n",
    "with open(pfad_tsv3, 'w', newline='', encoding=\"utf-8\") as out_file:\n",
    "    tsv_writer = csv.writer(out_file, delimiter=\"\\t\")\n",
    "    for idx, row in df_tweetskb_unique_user_without_zero_polarisation.iterrows():\n",
    "        tsv_writer.writerow(row.values.tolist())"
   ]
  },
  {
   "cell_type": "code",
   "execution_count": null,
   "id": "f7cf2a5a",
   "metadata": {},
   "outputs": [],
   "source": []
  }
 ],
 "metadata": {
  "kernelspec": {
   "display_name": "Python 3",
   "language": "python",
   "name": "python3"
  },
  "language_info": {
   "codemirror_mode": {
    "name": "ipython",
    "version": 3
   },
   "file_extension": ".py",
   "mimetype": "text/x-python",
   "name": "python",
   "nbconvert_exporter": "python",
   "pygments_lexer": "ipython3",
   "version": "3.8.8"
  }
 },
 "nbformat": 4,
 "nbformat_minor": 5
}
