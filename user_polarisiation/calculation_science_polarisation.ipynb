{
 "cells": [
  {
   "cell_type": "code",
   "execution_count": 1,
   "id": "1e776b58",
   "metadata": {},
   "outputs": [],
   "source": [
    "#CSV Bibliothek importieren \n",
    "import csv\n",
    "#Pandas importieren und als pd bezeichnen\n",
    "import pandas as pd\n",
    "#Numpy importieren und als np bezeichnen \n",
    "import numpy as np\n",
    "#Json Biliothek importieren\n",
    "import json\n",
    "#Obere Schranke für die Größe der Daten auf 100,000,000 setzen  \n",
    "csv.field_size_limit(100000000)\n",
    "#Maximale Anzahl von Zeilen und Spalten Zeigen \n",
    "pd.options.display.max_columns = None\n",
    "pd.options.display.max_rows = None\n",
    "#Extraktion der Domäne\n",
    "import tldextract\n",
    "import warnings\n",
    "warnings.filterwarnings('ignore')"
   ]
  },
  {
   "cell_type": "markdown",
   "id": "1157839f",
   "metadata": {},
   "source": [
    "***"
   ]
  },
  {
   "cell_type": "markdown",
   "id": "0bc60b2d",
   "metadata": {},
   "source": [
    "### Pro_science domains"
   ]
  },
  {
   "cell_type": "code",
   "execution_count": 2,
   "id": "e0da2226",
   "metadata": {},
   "outputs": [],
   "source": [
    "path = '../data/df_domains_pro_anti_science.tsv'\n",
    "\n",
    "df_domains_pro_and_anti_science = pd.read_csv(path, sep='\\t', error_bad_lines=False)"
   ]
  },
  {
   "cell_type": "code",
   "execution_count": 3,
   "id": "39085495",
   "metadata": {},
   "outputs": [
    {
     "name": "stdout",
     "output_type": "stream",
     "text": [
      "Shape:  (1395, 4)\n"
     ]
    },
    {
     "data": {
      "text/html": [
       "<div>\n",
       "<style scoped>\n",
       "    .dataframe tbody tr th:only-of-type {\n",
       "        vertical-align: middle;\n",
       "    }\n",
       "\n",
       "    .dataframe tbody tr th {\n",
       "        vertical-align: top;\n",
       "    }\n",
       "\n",
       "    .dataframe thead th {\n",
       "        text-align: right;\n",
       "    }\n",
       "</style>\n",
       "<table border=\"1\" class=\"dataframe\">\n",
       "  <thead>\n",
       "    <tr style=\"text-align: right;\">\n",
       "      <th></th>\n",
       "      <th>domain</th>\n",
       "      <th>mediabias_proscience</th>\n",
       "      <th>mediabias_questionblesources</th>\n",
       "      <th>mediabias_conspiracy_psydoscience</th>\n",
       "    </tr>\n",
       "  </thead>\n",
       "  <tbody>\n",
       "    <tr>\n",
       "      <th>0</th>\n",
       "      <td>Covid.gov</td>\n",
       "      <td>1.0</td>\n",
       "      <td>0.0</td>\n",
       "      <td>0.0</td>\n",
       "    </tr>\n",
       "    <tr>\n",
       "      <th>1</th>\n",
       "      <td>Drugs.com</td>\n",
       "      <td>1.0</td>\n",
       "      <td>0.0</td>\n",
       "      <td>0.0</td>\n",
       "    </tr>\n",
       "    <tr>\n",
       "      <th>2</th>\n",
       "      <td>News-Medical.net</td>\n",
       "      <td>1.0</td>\n",
       "      <td>0.0</td>\n",
       "      <td>0.0</td>\n",
       "    </tr>\n",
       "    <tr>\n",
       "      <th>3</th>\n",
       "      <td>SciTechDaily.com</td>\n",
       "      <td>1.0</td>\n",
       "      <td>0.0</td>\n",
       "      <td>0.0</td>\n",
       "    </tr>\n",
       "    <tr>\n",
       "      <th>4</th>\n",
       "      <td>aaas.org</td>\n",
       "      <td>1.0</td>\n",
       "      <td>0.0</td>\n",
       "      <td>0.0</td>\n",
       "    </tr>\n",
       "  </tbody>\n",
       "</table>\n",
       "</div>"
      ],
      "text/plain": [
       "             domain  mediabias_proscience  mediabias_questionblesources  \\\n",
       "0         Covid.gov                   1.0                           0.0   \n",
       "1         Drugs.com                   1.0                           0.0   \n",
       "2  News-Medical.net                   1.0                           0.0   \n",
       "3  SciTechDaily.com                   1.0                           0.0   \n",
       "4          aaas.org                   1.0                           0.0   \n",
       "\n",
       "   mediabias_conspiracy_psydoscience  \n",
       "0                                0.0  \n",
       "1                                0.0  \n",
       "2                                0.0  \n",
       "3                                0.0  \n",
       "4                                0.0  "
      ]
     },
     "execution_count": 3,
     "metadata": {},
     "output_type": "execute_result"
    }
   ],
   "source": [
    "print('Shape: ', df_domains_pro_and_anti_science.shape)\n",
    "df_domains_pro_and_anti_science.head()"
   ]
  },
  {
   "cell_type": "code",
   "execution_count": 4,
   "id": "fd8cb2ba",
   "metadata": {},
   "outputs": [
    {
     "name": "stdout",
     "output_type": "stream",
     "text": [
      "Shape:  (150, 4)\n"
     ]
    },
    {
     "data": {
      "text/html": [
       "<div>\n",
       "<style scoped>\n",
       "    .dataframe tbody tr th:only-of-type {\n",
       "        vertical-align: middle;\n",
       "    }\n",
       "\n",
       "    .dataframe tbody tr th {\n",
       "        vertical-align: top;\n",
       "    }\n",
       "\n",
       "    .dataframe thead th {\n",
       "        text-align: right;\n",
       "    }\n",
       "</style>\n",
       "<table border=\"1\" class=\"dataframe\">\n",
       "  <thead>\n",
       "    <tr style=\"text-align: right;\">\n",
       "      <th></th>\n",
       "      <th>domain</th>\n",
       "      <th>mediabias_proscience</th>\n",
       "      <th>mediabias_questionblesources</th>\n",
       "      <th>mediabias_conspiracy_psydoscience</th>\n",
       "    </tr>\n",
       "  </thead>\n",
       "  <tbody>\n",
       "    <tr>\n",
       "      <th>0</th>\n",
       "      <td>Covid.gov</td>\n",
       "      <td>1.0</td>\n",
       "      <td>0.0</td>\n",
       "      <td>0.0</td>\n",
       "    </tr>\n",
       "    <tr>\n",
       "      <th>1</th>\n",
       "      <td>Drugs.com</td>\n",
       "      <td>1.0</td>\n",
       "      <td>0.0</td>\n",
       "      <td>0.0</td>\n",
       "    </tr>\n",
       "    <tr>\n",
       "      <th>2</th>\n",
       "      <td>News-Medical.net</td>\n",
       "      <td>1.0</td>\n",
       "      <td>0.0</td>\n",
       "      <td>0.0</td>\n",
       "    </tr>\n",
       "    <tr>\n",
       "      <th>3</th>\n",
       "      <td>SciTechDaily.com</td>\n",
       "      <td>1.0</td>\n",
       "      <td>0.0</td>\n",
       "      <td>0.0</td>\n",
       "    </tr>\n",
       "    <tr>\n",
       "      <th>4</th>\n",
       "      <td>aaas.org</td>\n",
       "      <td>1.0</td>\n",
       "      <td>0.0</td>\n",
       "      <td>0.0</td>\n",
       "    </tr>\n",
       "  </tbody>\n",
       "</table>\n",
       "</div>"
      ],
      "text/plain": [
       "             domain  mediabias_proscience  mediabias_questionblesources  \\\n",
       "0         Covid.gov                   1.0                           0.0   \n",
       "1         Drugs.com                   1.0                           0.0   \n",
       "2  News-Medical.net                   1.0                           0.0   \n",
       "3  SciTechDaily.com                   1.0                           0.0   \n",
       "4          aaas.org                   1.0                           0.0   \n",
       "\n",
       "   mediabias_conspiracy_psydoscience  \n",
       "0                                0.0  \n",
       "1                                0.0  \n",
       "2                                0.0  \n",
       "3                                0.0  \n",
       "4                                0.0  "
      ]
     },
     "execution_count": 4,
     "metadata": {},
     "output_type": "execute_result"
    }
   ],
   "source": [
    "df_proscience_domains = df_domains_pro_and_anti_science[df_domains_pro_and_anti_science['mediabias_proscience'] == 1]\n",
    "\n",
    "print('Shape: ', df_proscience_domains.shape)\n",
    "df_proscience_domains.head()"
   ]
  },
  {
   "cell_type": "code",
   "execution_count": 5,
   "id": "e4fd3099",
   "metadata": {},
   "outputs": [
    {
     "data": {
      "text/plain": [
       "150"
      ]
     },
     "execution_count": 5,
     "metadata": {},
     "output_type": "execute_result"
    }
   ],
   "source": [
    "list_proscience_domains = df_proscience_domains.domain.tolist()\n",
    "len(list_proscience_domains)"
   ]
  },
  {
   "cell_type": "markdown",
   "id": "c215a9a0",
   "metadata": {},
   "source": [
    "***"
   ]
  },
  {
   "cell_type": "markdown",
   "id": "5edafb48",
   "metadata": {},
   "source": [
    "## Anti_science"
   ]
  },
  {
   "cell_type": "markdown",
   "id": "e7fb2978",
   "metadata": {},
   "source": [
    "***"
   ]
  },
  {
   "cell_type": "code",
   "execution_count": 6,
   "id": "87c7ba33",
   "metadata": {},
   "outputs": [
    {
     "name": "stdout",
     "output_type": "stream",
     "text": [
      "Shape:  (908, 4)\n"
     ]
    },
    {
     "data": {
      "text/html": [
       "<div>\n",
       "<style scoped>\n",
       "    .dataframe tbody tr th:only-of-type {\n",
       "        vertical-align: middle;\n",
       "    }\n",
       "\n",
       "    .dataframe tbody tr th {\n",
       "        vertical-align: top;\n",
       "    }\n",
       "\n",
       "    .dataframe thead th {\n",
       "        text-align: right;\n",
       "    }\n",
       "</style>\n",
       "<table border=\"1\" class=\"dataframe\">\n",
       "  <thead>\n",
       "    <tr style=\"text-align: right;\">\n",
       "      <th></th>\n",
       "      <th>domain</th>\n",
       "      <th>mediabias_proscience</th>\n",
       "      <th>mediabias_questionblesources</th>\n",
       "      <th>mediabias_conspiracy_psydoscience</th>\n",
       "    </tr>\n",
       "  </thead>\n",
       "  <tbody>\n",
       "    <tr>\n",
       "      <th>150</th>\n",
       "      <td>100percentfedup.com</td>\n",
       "      <td>0.0</td>\n",
       "      <td>1.0</td>\n",
       "      <td>0.0</td>\n",
       "    </tr>\n",
       "    <tr>\n",
       "      <th>151</th>\n",
       "      <td>12minutos.com</td>\n",
       "      <td>0.0</td>\n",
       "      <td>1.0</td>\n",
       "      <td>0.0</td>\n",
       "    </tr>\n",
       "    <tr>\n",
       "      <th>152</th>\n",
       "      <td>2020conservative.com</td>\n",
       "      <td>0.0</td>\n",
       "      <td>1.0</td>\n",
       "      <td>0.0</td>\n",
       "    </tr>\n",
       "    <tr>\n",
       "      <th>153</th>\n",
       "      <td>24Jours.com</td>\n",
       "      <td>0.0</td>\n",
       "      <td>1.0</td>\n",
       "      <td>0.0</td>\n",
       "    </tr>\n",
       "    <tr>\n",
       "      <th>154</th>\n",
       "      <td>4Chan.org</td>\n",
       "      <td>0.0</td>\n",
       "      <td>1.0</td>\n",
       "      <td>0.0</td>\n",
       "    </tr>\n",
       "  </tbody>\n",
       "</table>\n",
       "</div>"
      ],
      "text/plain": [
       "                   domain  mediabias_proscience  mediabias_questionblesources  \\\n",
       "150   100percentfedup.com                   0.0                           1.0   \n",
       "151         12minutos.com                   0.0                           1.0   \n",
       "152  2020conservative.com                   0.0                           1.0   \n",
       "153           24Jours.com                   0.0                           1.0   \n",
       "154             4Chan.org                   0.0                           1.0   \n",
       "\n",
       "     mediabias_conspiracy_psydoscience  \n",
       "150                                0.0  \n",
       "151                                0.0  \n",
       "152                                0.0  \n",
       "153                                0.0  \n",
       "154                                0.0  "
      ]
     },
     "execution_count": 6,
     "metadata": {},
     "output_type": "execute_result"
    }
   ],
   "source": [
    "df_domains_questionblesources = df_domains_pro_and_anti_science[df_domains_pro_and_anti_science['mediabias_questionblesources'] == 1]\n",
    "\n",
    "print('Shape: ', df_domains_questionblesources.shape)\n",
    "df_domains_questionblesources.head()"
   ]
  },
  {
   "cell_type": "code",
   "execution_count": 7,
   "id": "97721e65",
   "metadata": {},
   "outputs": [],
   "source": [
    "list_domains_questionblesources = df_domains_questionblesources.domain.tolist()"
   ]
  },
  {
   "cell_type": "code",
   "execution_count": 8,
   "id": "b48b3eb4",
   "metadata": {},
   "outputs": [
    {
     "name": "stdout",
     "output_type": "stream",
     "text": [
      "Shape:  (337, 4)\n"
     ]
    },
    {
     "data": {
      "text/html": [
       "<div>\n",
       "<style scoped>\n",
       "    .dataframe tbody tr th:only-of-type {\n",
       "        vertical-align: middle;\n",
       "    }\n",
       "\n",
       "    .dataframe tbody tr th {\n",
       "        vertical-align: top;\n",
       "    }\n",
       "\n",
       "    .dataframe thead th {\n",
       "        text-align: right;\n",
       "    }\n",
       "</style>\n",
       "<table border=\"1\" class=\"dataframe\">\n",
       "  <thead>\n",
       "    <tr style=\"text-align: right;\">\n",
       "      <th></th>\n",
       "      <th>domain</th>\n",
       "      <th>mediabias_proscience</th>\n",
       "      <th>mediabias_questionblesources</th>\n",
       "      <th>mediabias_conspiracy_psydoscience</th>\n",
       "    </tr>\n",
       "  </thead>\n",
       "  <tbody>\n",
       "    <tr>\n",
       "      <th>1058</th>\n",
       "      <td>2020ElectionCenter.com</td>\n",
       "      <td>0.0</td>\n",
       "      <td>0.0</td>\n",
       "      <td>1.0</td>\n",
       "    </tr>\n",
       "    <tr>\n",
       "      <th>1059</th>\n",
       "      <td>21stcenturywire.com</td>\n",
       "      <td>0.0</td>\n",
       "      <td>0.0</td>\n",
       "      <td>1.0</td>\n",
       "    </tr>\n",
       "    <tr>\n",
       "      <th>1060</th>\n",
       "      <td>369news.net</td>\n",
       "      <td>0.0</td>\n",
       "      <td>0.0</td>\n",
       "      <td>1.0</td>\n",
       "    </tr>\n",
       "    <tr>\n",
       "      <th>1061</th>\n",
       "      <td>79Days.News</td>\n",
       "      <td>0.0</td>\n",
       "      <td>0.0</td>\n",
       "      <td>1.0</td>\n",
       "    </tr>\n",
       "    <tr>\n",
       "      <th>1062</th>\n",
       "      <td>911truth.org</td>\n",
       "      <td>0.0</td>\n",
       "      <td>0.0</td>\n",
       "      <td>1.0</td>\n",
       "    </tr>\n",
       "  </tbody>\n",
       "</table>\n",
       "</div>"
      ],
      "text/plain": [
       "                      domain  mediabias_proscience  \\\n",
       "1058  2020ElectionCenter.com                   0.0   \n",
       "1059     21stcenturywire.com                   0.0   \n",
       "1060             369news.net                   0.0   \n",
       "1061             79Days.News                   0.0   \n",
       "1062            911truth.org                   0.0   \n",
       "\n",
       "      mediabias_questionblesources  mediabias_conspiracy_psydoscience  \n",
       "1058                           0.0                                1.0  \n",
       "1059                           0.0                                1.0  \n",
       "1060                           0.0                                1.0  \n",
       "1061                           0.0                                1.0  \n",
       "1062                           0.0                                1.0  "
      ]
     },
     "execution_count": 8,
     "metadata": {},
     "output_type": "execute_result"
    }
   ],
   "source": [
    "df_domains_conspiracy_psydoscience = df_domains_pro_and_anti_science[df_domains_pro_and_anti_science['mediabias_conspiracy_psydoscience'] == 1]\n",
    "\n",
    "print('Shape: ', df_domains_conspiracy_psydoscience.shape)\n",
    "df_domains_conspiracy_psydoscience.head()"
   ]
  },
  {
   "cell_type": "code",
   "execution_count": 9,
   "id": "7da93543",
   "metadata": {},
   "outputs": [],
   "source": [
    "list_domains_conspiracy_psydoscience = df_domains_conspiracy_psydoscience.domain.tolist()"
   ]
  },
  {
   "cell_type": "code",
   "execution_count": 10,
   "id": "fdae9386",
   "metadata": {},
   "outputs": [
    {
     "data": {
      "text/plain": [
       "1245"
      ]
     },
     "execution_count": 10,
     "metadata": {},
     "output_type": "execute_result"
    }
   ],
   "source": [
    "list_antiscience_domains = []\n",
    "list_antiscience_domains.extend(list_domains_conspiracy_psydoscience)\n",
    "list_antiscience_domains.extend(list_domains_questionblesources)\n",
    "len(list_antiscience_domains)"
   ]
  },
  {
   "cell_type": "markdown",
   "id": "671c9eda",
   "metadata": {},
   "source": [
    "## Polarisierungen berechnen\n",
    "### TweetsCov19\n",
    "### User Polarisation"
   ]
  },
  {
   "cell_type": "markdown",
   "id": "7c900d28",
   "metadata": {},
   "source": [
    "---"
   ]
  },
  {
   "cell_type": "code",
   "execution_count": 11,
   "id": "07fbc657",
   "metadata": {},
   "outputs": [
    {
     "name": "stdout",
     "output_type": "stream",
     "text": [
      "Shape : (9409841, 4)\n"
     ]
    },
    {
     "data": {
      "text/html": [
       "<div>\n",
       "<style scoped>\n",
       "    .dataframe tbody tr th:only-of-type {\n",
       "        vertical-align: middle;\n",
       "    }\n",
       "\n",
       "    .dataframe tbody tr th {\n",
       "        vertical-align: top;\n",
       "    }\n",
       "\n",
       "    .dataframe thead th {\n",
       "        text-align: right;\n",
       "    }\n",
       "</style>\n",
       "<table border=\"1\" class=\"dataframe\">\n",
       "  <thead>\n",
       "    <tr style=\"text-align: right;\">\n",
       "      <th></th>\n",
       "      <th>Tweet_Id</th>\n",
       "      <th>Username</th>\n",
       "      <th>Is_deleted</th>\n",
       "      <th>Domains</th>\n",
       "    </tr>\n",
       "  </thead>\n",
       "  <tbody>\n",
       "    <tr>\n",
       "      <th>0</th>\n",
       "      <td>1178791637348212736</td>\n",
       "      <td>c57d4fb895c5f4a33d2a2b24709f93b5</td>\n",
       "      <td>True</td>\n",
       "      <td>0</td>\n",
       "    </tr>\n",
       "    <tr>\n",
       "      <th>1</th>\n",
       "      <td>1178791641601232896</td>\n",
       "      <td>627f7d4ef584ba33a676a4ebcb861cdb</td>\n",
       "      <td>False</td>\n",
       "      <td>catholicnewsagency.com</td>\n",
       "    </tr>\n",
       "    <tr>\n",
       "      <th>2</th>\n",
       "      <td>1178791643509612547</td>\n",
       "      <td>7966d5716c1c4f33591b17755184e3d6</td>\n",
       "      <td>False</td>\n",
       "      <td>0</td>\n",
       "    </tr>\n",
       "    <tr>\n",
       "      <th>3</th>\n",
       "      <td>1178791644214235137</td>\n",
       "      <td>f17996c036ed4cd981f5448fe00d9ed2</td>\n",
       "      <td>False</td>\n",
       "      <td>0</td>\n",
       "    </tr>\n",
       "    <tr>\n",
       "      <th>4</th>\n",
       "      <td>1178791645371875329</td>\n",
       "      <td>32a54e5f6d8a67de1bffd2e689594dc8</td>\n",
       "      <td>False</td>\n",
       "      <td>0</td>\n",
       "    </tr>\n",
       "  </tbody>\n",
       "</table>\n",
       "</div>"
      ],
      "text/plain": [
       "              Tweet_Id                          Username  Is_deleted  \\\n",
       "0  1178791637348212736  c57d4fb895c5f4a33d2a2b24709f93b5        True   \n",
       "1  1178791641601232896  627f7d4ef584ba33a676a4ebcb861cdb       False   \n",
       "2  1178791643509612547  7966d5716c1c4f33591b17755184e3d6       False   \n",
       "3  1178791644214235137  f17996c036ed4cd981f5448fe00d9ed2       False   \n",
       "4  1178791645371875329  32a54e5f6d8a67de1bffd2e689594dc8       False   \n",
       "\n",
       "                  Domains  \n",
       "0                       0  \n",
       "1  catholicnewsagency.com  \n",
       "2                       0  \n",
       "3                       0  \n",
       "4                       0  "
      ]
     },
     "execution_count": 11,
     "metadata": {},
     "output_type": "execute_result"
    }
   ],
   "source": [
    "path = '../data/tweetscov19_id_isdeleted_domains.tsv'\n",
    "\n",
    "df_tweetscov19 = pd.read_csv(path, sep='\\t', error_bad_lines=False, names=['Tweet_Id', 'Username' ,'Is_deleted', 'Domains'])\n",
    "\n",
    "print('Shape :', df_tweetscov19.shape)\n",
    "df_tweetscov19.head()"
   ]
  },
  {
   "cell_type": "code",
   "execution_count": 12,
   "id": "3cb3e7fc",
   "metadata": {},
   "outputs": [],
   "source": [
    "def get_number_of_antiscience_domains(domains):\n",
    "    domains_list = domains.split()\n",
    "    score = 0\n",
    "    for i in range(0, len(domains_list)):\n",
    "        \n",
    "        #d = tldextract.extract(domains_list[i])\n",
    "        #d = d.domain          \n",
    "        d = domains_list[i]\n",
    "        \n",
    "        if d in list_antiscience_domains:\n",
    "            score -=  1\n",
    "        \n",
    "    return score"
   ]
  },
  {
   "cell_type": "code",
   "execution_count": 13,
   "id": "31630bf3",
   "metadata": {},
   "outputs": [],
   "source": [
    "def get_number_of_proscience_domains(domains):\n",
    "    domains_list = domains.split()\n",
    "    score = 0\n",
    "    for i in range(0, len(domains_list)):\n",
    "        \n",
    "        #d = tldextract.extract(domains_list[i])\n",
    "        #d = d.domain\n",
    "       \n",
    "            \n",
    "        d = domains_list[i]\n",
    "        if d in list_proscience_domains:\n",
    "            score +=  1\n",
    "        \n",
    "    return score"
   ]
  },
  {
   "cell_type": "code",
   "execution_count": 14,
   "id": "12d8d495",
   "metadata": {},
   "outputs": [],
   "source": [
    "def get_polarized_users(df, dim1, dim2, user_polarisation):\n",
    "    \n",
    "    df.Domains = df.Domains.astype(str)\n",
    "\n",
    "    df[dim1] = df.apply(lambda row: get_number_of_antiscience_domains(row.Domains) if (row.Domains != '0') else 0, axis=1)\n",
    "    num_domains_dim1 = df[df[dim1] < 0].shape[0]\n",
    "    #print(f\"{dim1} : {num_domains_dim1}\")\n",
    "    \n",
    "    df[dim2] = df.apply(lambda row: get_number_of_proscience_domains(row.Domains) if (row.Domains != '0') else 0, axis=1)\n",
    "    num_domains_dim2 = df[df[dim2] > 0].shape[0]\n",
    "    #print(f'{dim2}: {num_domains_dim2}')\n",
    "    \n",
    "    df_unique_users = df.groupby('Username')[ dim1, dim2].sum()\n",
    "    print(f'Number of unique users in Dataframe: {df_unique_users.shape[0]}')\n",
    "    \n",
    "    df_unique_users['count_polarized_domains'] = df_unique_users.apply(lambda row: ((row[dim2] - row[dim1])), axis=1)\n",
    "    df_unique_users[user_polarisation] = df_unique_users.apply(lambda row: (row[dim1] + row[dim2]) / row.count_polarized_domains if row.count_polarized_domains != 0 else 0, axis=1)\n",
    "    \n",
    "    ########################### Prints ########################\n",
    "    \n",
    "    conservatives = df_unique_users[df_unique_users[user_polarisation] > 0].shape[0]\n",
    "    print('Number of recegnised Proscience : ', conservatives)\n",
    "\n",
    "    liberals = df_unique_users[df_unique_users[user_polarisation] < 0].shape[0]\n",
    "    print('Number of recegnised Antiscience : ', liberals)\n",
    "\n",
    "    number_of_neutrale_users = df_unique_users[(df_unique_users[user_polarisation] == 0) & (df_unique_users.count_polarized_domains > 0)].shape[0]\n",
    "    print('Number of recognised neutral users: ', number_of_neutrale_users)\n",
    "\n",
    "    number_of_unique_users = df_unique_users[df_unique_users.count_polarized_domains>0].shape[0]\n",
    "    print('Number of recognised polarized users: ', number_of_unique_users)\n",
    "    \n",
    "    return df, df_unique_users"
   ]
  },
  {
   "cell_type": "code",
   "execution_count": 15,
   "id": "490dbd49",
   "metadata": {},
   "outputs": [
    {
     "name": "stdout",
     "output_type": "stream",
     "text": [
      "Number of unique users in Dataframe: 4095876\n",
      "Number of recegnised Proscience :  18352\n",
      "Number of recegnised Antiscience :  25591\n",
      "Number of recognised neutral users:  550\n",
      "Number of recognised polarized users:  44493\n"
     ]
    }
   ],
   "source": [
    "df_tweetscov19, df_tweetscov19_unique_users = get_polarized_users(df_tweetscov19, 'number_of_antisciens_domains', 'number_of_prosciens_domains', 'user_science_polarisation')"
   ]
  },
  {
   "cell_type": "markdown",
   "id": "393f3960",
   "metadata": {},
   "source": [
    "****"
   ]
  },
  {
   "cell_type": "markdown",
   "id": "7e398b4f",
   "metadata": {},
   "source": [
    "### Tweet Polarisation"
   ]
  },
  {
   "cell_type": "code",
   "execution_count": 16,
   "id": "cb826401",
   "metadata": {},
   "outputs": [],
   "source": [
    "def get_polarized_tweets(df, dim1, dim2, tweet_polarisation):\n",
    "    \n",
    "    df['count_polarized_domains'] = df.apply(lambda row: ((row[dim2] - row[dim1])), axis=1)\n",
    "    df[tweet_polarisation] = df.apply(lambda row: (row[dim1] + row[dim2]) / row['count_polarized_domains'] if row['count_polarized_domains'] != 0 else 0, axis=1)\n",
    "    \n",
    "    ###################### Prints ########################\n",
    "    \n",
    "    liberal_tweets = df[df[tweet_polarisation] < 0].shape[0]\n",
    "    print(f\"Anti science tweets: {liberal_tweets}\")\n",
    "\n",
    "    conservative_tweets = df[df[tweet_polarisation] > 0].shape[0]\n",
    "    print(f\"Pro sciene tweets: {conservative_tweets}\")\n",
    "\n",
    "    neutral_tweets = df[(df[tweet_polarisation] == 0) & (df.count_polarized_domains > 0)].shape[0]\n",
    "    print(f\"Neutral tweets: {neutral_tweets}\")\n",
    "\n",
    "    polarized_tweets = df[df.count_polarized_domains > 0].shape[0]\n",
    "    print(f\"Polarized_tweets: {polarized_tweets}\")\n",
    "\n",
    "    return df"
   ]
  },
  {
   "cell_type": "code",
   "execution_count": 17,
   "id": "3f9bf8c6",
   "metadata": {},
   "outputs": [
    {
     "name": "stdout",
     "output_type": "stream",
     "text": [
      "liberal_tweets: 113348\n",
      "conservative_tweets: 34906\n",
      "neutral_tweets: 54\n",
      "polarized_tweets: 148308\n"
     ]
    }
   ],
   "source": [
    "df_tweetscov19 = get_polarized_tweets(df_tweetscov19, 'number_of_antisciens_domains', 'number_of_prosciens_domains', 'tweet_political_polarisation')"
   ]
  },
  {
   "cell_type": "markdown",
   "id": "d3ee52dc",
   "metadata": {},
   "source": [
    "***"
   ]
  },
  {
   "cell_type": "markdown",
   "id": "21e3b13b",
   "metadata": {},
   "source": [
    "***"
   ]
  },
  {
   "cell_type": "code",
   "execution_count": 18,
   "id": "c784f718",
   "metadata": {},
   "outputs": [],
   "source": [
    "# df_tweetscov19 = df_tweetscov19[['Tweet_Id', 'number_of_antisciens_domains', 'number_of_prosciens_domains', 'count_polarized_domains', 'tweet_science_polarisation']]\n",
    "\n",
    "\n",
    "# path = '../data/tweetscov19_science_polarized_tweets.tsv'\n",
    "\n",
    "# df_tweetscov19.Tweet_Id = df_tweetscov19.Tweet_Id.astype(str)\n",
    "\n",
    "# with open(path, 'w', newline='', encoding=\"utf-8\") as out_file:\n",
    "#     tsv_writer = csv.writer(out_file, delimiter=\"\\t\")\n",
    "#     for idx, row in df_tweetscov19.iterrows():\n",
    "#         tsv_writer.writerow(row.values.tolist())"
   ]
  },
  {
   "cell_type": "code",
   "execution_count": 19,
   "id": "785cf834",
   "metadata": {},
   "outputs": [],
   "source": [
    "# df_tweetscov19_unique_user = df_tweetscov19_unique_user.reset_index()\n",
    "# df_tweetscov19_unique_user.head()\n",
    "\n",
    "# pfad_tsv3 = '../data/tweetscov19_science_polarized_users.tsv'\n",
    "\n",
    "# with open(pfad_tsv3, 'w', newline='', encoding=\"utf-8\") as out_file:\n",
    "#     tsv_writer = csv.writer(out_file, delimiter=\"\\t\")\n",
    "#     for idx, row in df_tweetscov19_unique_user.iterrows():\n",
    "#         tsv_writer.writerow(row.values.tolist())"
   ]
  },
  {
   "cell_type": "markdown",
   "id": "28d5c15e",
   "metadata": {},
   "source": [
    "***"
   ]
  },
  {
   "cell_type": "markdown",
   "id": "252d04c5",
   "metadata": {},
   "source": [
    "## Polarisierungen berechnen\n",
    "### TweetsKB\n",
    "### User Polarisation\n"
   ]
  },
  {
   "cell_type": "markdown",
   "id": "70abba15",
   "metadata": {},
   "source": [
    "***"
   ]
  },
  {
   "cell_type": "code",
   "execution_count": 20,
   "id": "0c06e05d",
   "metadata": {},
   "outputs": [
    {
     "name": "stdout",
     "output_type": "stream",
     "text": [
      "Shape : (9409841, 4)\n"
     ]
    },
    {
     "data": {
      "text/html": [
       "<div>\n",
       "<style scoped>\n",
       "    .dataframe tbody tr th:only-of-type {\n",
       "        vertical-align: middle;\n",
       "    }\n",
       "\n",
       "    .dataframe tbody tr th {\n",
       "        vertical-align: top;\n",
       "    }\n",
       "\n",
       "    .dataframe thead th {\n",
       "        text-align: right;\n",
       "    }\n",
       "</style>\n",
       "<table border=\"1\" class=\"dataframe\">\n",
       "  <thead>\n",
       "    <tr style=\"text-align: right;\">\n",
       "      <th></th>\n",
       "      <th>Tweet_Id</th>\n",
       "      <th>Username</th>\n",
       "      <th>Is_deleted</th>\n",
       "      <th>Domains</th>\n",
       "    </tr>\n",
       "  </thead>\n",
       "  <tbody>\n",
       "    <tr>\n",
       "      <th>0</th>\n",
       "      <td>1178791636039589889</td>\n",
       "      <td>DCComics</td>\n",
       "      <td>False</td>\n",
       "      <td>dcuniverseinfinite.com</td>\n",
       "    </tr>\n",
       "    <tr>\n",
       "      <th>1</th>\n",
       "      <td>1178791641265639424</td>\n",
       "      <td>seanberdyz</td>\n",
       "      <td>True</td>\n",
       "      <td>carrd.co</td>\n",
       "    </tr>\n",
       "    <tr>\n",
       "      <th>2</th>\n",
       "      <td>1178791640573579264</td>\n",
       "      <td>AnArtistAtBirth</td>\n",
       "      <td>True</td>\n",
       "      <td>0</td>\n",
       "    </tr>\n",
       "    <tr>\n",
       "      <th>3</th>\n",
       "      <td>1178791644797255680</td>\n",
       "      <td>lagosboygang</td>\n",
       "      <td>True</td>\n",
       "      <td>0</td>\n",
       "    </tr>\n",
       "    <tr>\n",
       "      <th>4</th>\n",
       "      <td>1178791648056217600</td>\n",
       "      <td>Phenom_Hoops</td>\n",
       "      <td>False</td>\n",
       "      <td>phenomhoopreport.com</td>\n",
       "    </tr>\n",
       "  </tbody>\n",
       "</table>\n",
       "</div>"
      ],
      "text/plain": [
       "              Tweet_Id         Username  Is_deleted                 Domains\n",
       "0  1178791636039589889         DCComics       False  dcuniverseinfinite.com\n",
       "1  1178791641265639424       seanberdyz        True                carrd.co\n",
       "2  1178791640573579264  AnArtistAtBirth        True                       0\n",
       "3  1178791644797255680     lagosboygang        True                       0\n",
       "4  1178791648056217600     Phenom_Hoops       False    phenomhoopreport.com"
      ]
     },
     "execution_count": 20,
     "metadata": {},
     "output_type": "execute_result"
    }
   ],
   "source": [
    "pfad_tsv3 = '../data/tweetskb_id_isdeleted_domains.tsv'\n",
    "\n",
    "df_tweetskb = pd.read_csv(pfad_tsv3, sep='\\t', error_bad_lines=False, names=['Tweet_Id', 'Username' ,'Is_deleted', 'Domains'])\n",
    "\n",
    "print('Shape :', df_tweetskb.shape)\n",
    "df_tweetskb.head()"
   ]
  },
  {
   "cell_type": "code",
   "execution_count": 21,
   "id": "1fa01e35",
   "metadata": {},
   "outputs": [
    {
     "name": "stdout",
     "output_type": "stream",
     "text": [
      "Number of unique users in Dataframe: 5208425\n",
      "Number of recegnised Proscience :  4769\n",
      "Number of recegnised Antiscience :  10493\n",
      "Number of recognised neutral users:  63\n",
      "Number of recognised polarized users:  15325\n"
     ]
    }
   ],
   "source": [
    "df_tweetskb, df_tweetskb_unique_users = get_polarized_users(df_tweetskb, 'number_of_antisciens_domains', 'number_of_prosciens_domains', 'user_science_polarisation')"
   ]
  },
  {
   "cell_type": "markdown",
   "id": "3fe00d32",
   "metadata": {},
   "source": [
    "***"
   ]
  },
  {
   "cell_type": "markdown",
   "id": "ff68995b",
   "metadata": {},
   "source": [
    "### Tweet polarisation"
   ]
  },
  {
   "cell_type": "code",
   "execution_count": 22,
   "id": "d6841ce5",
   "metadata": {},
   "outputs": [
    {
     "name": "stdout",
     "output_type": "stream",
     "text": [
      "liberal_tweets: 27482\n",
      "conservative_tweets: 6598\n",
      "neutral_tweets: 1\n",
      "polarized_tweets: 34081\n"
     ]
    }
   ],
   "source": [
    "df_tweetskb = get_polarized_tweets(df_tweetskb,  'number_of_antisciens_domains', 'number_of_prosciens_domains', 'tweet_political_polarisation')"
   ]
  },
  {
   "cell_type": "markdown",
   "id": "1b4bf50f",
   "metadata": {},
   "source": [
    "***"
   ]
  },
  {
   "cell_type": "code",
   "execution_count": 23,
   "id": "f6363d2b",
   "metadata": {},
   "outputs": [],
   "source": [
    "# df_tweetskb = df_tweetskb[['Tweet_Id', 'number_of_antisciens_domains', 'number_of_prosciens_domains', 'count_polarized_domains', 'tweet_science_polarisation']]\n",
    "\n",
    "# path = '../data/tweetskb_science_polarized_tweets.tsv'\n",
    "\n",
    "# df_tweetskb.Tweet_Id = df_tweetskb.Tweet_Id.astype(str)\n",
    "\n",
    "# with open(path, 'w', newline='', encoding=\"utf-8\") as out_file:\n",
    "#     tsv_writer = csv.writer(out_file, delimiter=\"\\t\")\n",
    "#     for idx, row in df_tweetskb.iterrows():\n",
    "#         tsv_writer.writerow(row.values.tolist())"
   ]
  },
  {
   "cell_type": "code",
   "execution_count": 24,
   "id": "f56478e0",
   "metadata": {},
   "outputs": [],
   "source": [
    "# df_tweetskb_unique_user = df_tweetskb_unique_user.reset_index()\n",
    "# df_tweetskb_unique_user.head()\n",
    "\n",
    "# pfad_tsv3 = '../data/tweetskb_science_polarized_users.tsv'\n",
    "\n",
    "# with open(pfad_tsv3, 'w', newline='', encoding=\"utf-8\") as out_file:\n",
    "#     tsv_writer = csv.writer(out_file, delimiter=\"\\t\")\n",
    "#     for idx, row in df_tweetskb_unique_user.iterrows():\n",
    "#         tsv_writer.writerow(row.values.tolist())"
   ]
  },
  {
   "cell_type": "code",
   "execution_count": null,
   "id": "910793f4",
   "metadata": {},
   "outputs": [],
   "source": []
  }
 ],
 "metadata": {
  "kernelspec": {
   "display_name": "Python 3",
   "language": "python",
   "name": "python3"
  },
  "language_info": {
   "codemirror_mode": {
    "name": "ipython",
    "version": 3
   },
   "file_extension": ".py",
   "mimetype": "text/x-python",
   "name": "python",
   "nbconvert_exporter": "python",
   "pygments_lexer": "ipython3",
   "version": "3.8.8"
  }
 },
 "nbformat": 4,
 "nbformat_minor": 5
}
