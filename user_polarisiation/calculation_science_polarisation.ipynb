{
 "cells": [
  {
   "cell_type": "code",
   "execution_count": 30,
   "id": "1e776b58",
   "metadata": {},
   "outputs": [],
   "source": [
    "#CSV Bibliothek importieren \n",
    "import csv\n",
    "#Pandas importieren und als pd bezeichnen\n",
    "import pandas as pd\n",
    "#Numpy importieren und als np bezeichnen \n",
    "import numpy as np\n",
    "#Json Biliothek importieren\n",
    "import json\n",
    "#Obere Schranke für die Größe der Daten auf 100,000,000 setzen  \n",
    "csv.field_size_limit(100000000)\n",
    "#Maximale Anzahl von Zeilen und Spalten Zeigen \n",
    "pd.options.display.max_columns = None\n",
    "pd.options.display.max_rows = None\n",
    "#Extraktion der Domäne\n",
    "import tldextract"
   ]
  },
  {
   "cell_type": "markdown",
   "id": "1157839f",
   "metadata": {},
   "source": [
    "***"
   ]
  },
  {
   "cell_type": "markdown",
   "id": "0bc60b2d",
   "metadata": {},
   "source": [
    "### Pro_science domains"
   ]
  },
  {
   "cell_type": "code",
   "execution_count": 31,
   "id": "e0da2226",
   "metadata": {},
   "outputs": [],
   "source": [
    "path = '../data/df_domains_pro_anti_science.tsv'\n",
    "\n",
    "df_domains_pro_and_anti_science = pd.read_csv(path, sep='\\t', error_bad_lines=False)"
   ]
  },
  {
   "cell_type": "code",
   "execution_count": 32,
   "id": "39085495",
   "metadata": {},
   "outputs": [
    {
     "name": "stdout",
     "output_type": "stream",
     "text": [
      "Shape:  (1395, 4)\n"
     ]
    },
    {
     "data": {
      "text/html": [
       "<div>\n",
       "<style scoped>\n",
       "    .dataframe tbody tr th:only-of-type {\n",
       "        vertical-align: middle;\n",
       "    }\n",
       "\n",
       "    .dataframe tbody tr th {\n",
       "        vertical-align: top;\n",
       "    }\n",
       "\n",
       "    .dataframe thead th {\n",
       "        text-align: right;\n",
       "    }\n",
       "</style>\n",
       "<table border=\"1\" class=\"dataframe\">\n",
       "  <thead>\n",
       "    <tr style=\"text-align: right;\">\n",
       "      <th></th>\n",
       "      <th>domain</th>\n",
       "      <th>mediabias_proscience</th>\n",
       "      <th>mediabias_questionblesources</th>\n",
       "      <th>mediabias_conspiracy_psydoscience</th>\n",
       "    </tr>\n",
       "  </thead>\n",
       "  <tbody>\n",
       "    <tr>\n",
       "      <th>0</th>\n",
       "      <td>Covid.gov</td>\n",
       "      <td>1.0</td>\n",
       "      <td>0.0</td>\n",
       "      <td>0.0</td>\n",
       "    </tr>\n",
       "    <tr>\n",
       "      <th>1</th>\n",
       "      <td>Drugs.com</td>\n",
       "      <td>1.0</td>\n",
       "      <td>0.0</td>\n",
       "      <td>0.0</td>\n",
       "    </tr>\n",
       "    <tr>\n",
       "      <th>2</th>\n",
       "      <td>News-Medical.net</td>\n",
       "      <td>1.0</td>\n",
       "      <td>0.0</td>\n",
       "      <td>0.0</td>\n",
       "    </tr>\n",
       "    <tr>\n",
       "      <th>3</th>\n",
       "      <td>SciTechDaily.com</td>\n",
       "      <td>1.0</td>\n",
       "      <td>0.0</td>\n",
       "      <td>0.0</td>\n",
       "    </tr>\n",
       "    <tr>\n",
       "      <th>4</th>\n",
       "      <td>aaas.org</td>\n",
       "      <td>1.0</td>\n",
       "      <td>0.0</td>\n",
       "      <td>0.0</td>\n",
       "    </tr>\n",
       "  </tbody>\n",
       "</table>\n",
       "</div>"
      ],
      "text/plain": [
       "             domain  mediabias_proscience  mediabias_questionblesources  \\\n",
       "0         Covid.gov                   1.0                           0.0   \n",
       "1         Drugs.com                   1.0                           0.0   \n",
       "2  News-Medical.net                   1.0                           0.0   \n",
       "3  SciTechDaily.com                   1.0                           0.0   \n",
       "4          aaas.org                   1.0                           0.0   \n",
       "\n",
       "   mediabias_conspiracy_psydoscience  \n",
       "0                                0.0  \n",
       "1                                0.0  \n",
       "2                                0.0  \n",
       "3                                0.0  \n",
       "4                                0.0  "
      ]
     },
     "execution_count": 32,
     "metadata": {},
     "output_type": "execute_result"
    }
   ],
   "source": [
    "print('Shape: ', df_domains_pro_and_anti_science.shape)\n",
    "df_domains_pro_and_anti_science.head()"
   ]
  },
  {
   "cell_type": "code",
   "execution_count": 33,
   "id": "fd8cb2ba",
   "metadata": {},
   "outputs": [
    {
     "name": "stdout",
     "output_type": "stream",
     "text": [
      "Shape:  (150, 4)\n"
     ]
    },
    {
     "data": {
      "text/html": [
       "<div>\n",
       "<style scoped>\n",
       "    .dataframe tbody tr th:only-of-type {\n",
       "        vertical-align: middle;\n",
       "    }\n",
       "\n",
       "    .dataframe tbody tr th {\n",
       "        vertical-align: top;\n",
       "    }\n",
       "\n",
       "    .dataframe thead th {\n",
       "        text-align: right;\n",
       "    }\n",
       "</style>\n",
       "<table border=\"1\" class=\"dataframe\">\n",
       "  <thead>\n",
       "    <tr style=\"text-align: right;\">\n",
       "      <th></th>\n",
       "      <th>domain</th>\n",
       "      <th>mediabias_proscience</th>\n",
       "      <th>mediabias_questionblesources</th>\n",
       "      <th>mediabias_conspiracy_psydoscience</th>\n",
       "    </tr>\n",
       "  </thead>\n",
       "  <tbody>\n",
       "    <tr>\n",
       "      <th>0</th>\n",
       "      <td>Covid.gov</td>\n",
       "      <td>1.0</td>\n",
       "      <td>0.0</td>\n",
       "      <td>0.0</td>\n",
       "    </tr>\n",
       "    <tr>\n",
       "      <th>1</th>\n",
       "      <td>Drugs.com</td>\n",
       "      <td>1.0</td>\n",
       "      <td>0.0</td>\n",
       "      <td>0.0</td>\n",
       "    </tr>\n",
       "    <tr>\n",
       "      <th>2</th>\n",
       "      <td>News-Medical.net</td>\n",
       "      <td>1.0</td>\n",
       "      <td>0.0</td>\n",
       "      <td>0.0</td>\n",
       "    </tr>\n",
       "    <tr>\n",
       "      <th>3</th>\n",
       "      <td>SciTechDaily.com</td>\n",
       "      <td>1.0</td>\n",
       "      <td>0.0</td>\n",
       "      <td>0.0</td>\n",
       "    </tr>\n",
       "    <tr>\n",
       "      <th>4</th>\n",
       "      <td>aaas.org</td>\n",
       "      <td>1.0</td>\n",
       "      <td>0.0</td>\n",
       "      <td>0.0</td>\n",
       "    </tr>\n",
       "  </tbody>\n",
       "</table>\n",
       "</div>"
      ],
      "text/plain": [
       "             domain  mediabias_proscience  mediabias_questionblesources  \\\n",
       "0         Covid.gov                   1.0                           0.0   \n",
       "1         Drugs.com                   1.0                           0.0   \n",
       "2  News-Medical.net                   1.0                           0.0   \n",
       "3  SciTechDaily.com                   1.0                           0.0   \n",
       "4          aaas.org                   1.0                           0.0   \n",
       "\n",
       "   mediabias_conspiracy_psydoscience  \n",
       "0                                0.0  \n",
       "1                                0.0  \n",
       "2                                0.0  \n",
       "3                                0.0  \n",
       "4                                0.0  "
      ]
     },
     "execution_count": 33,
     "metadata": {},
     "output_type": "execute_result"
    }
   ],
   "source": [
    "df_proscience_domains = df_domains_pro_and_anti_science[df_domains_pro_and_anti_science['mediabias_proscience'] == 1]\n",
    "\n",
    "print('Shape: ', df_proscience_domains.shape)\n",
    "df_proscience_domains.head()"
   ]
  },
  {
   "cell_type": "code",
   "execution_count": 34,
   "id": "e4fd3099",
   "metadata": {},
   "outputs": [],
   "source": [
    "list_proscience_domains = df_proscience_domains.domain.tolist()"
   ]
  },
  {
   "cell_type": "code",
   "execution_count": 35,
   "id": "3d9fe67f",
   "metadata": {},
   "outputs": [],
   "source": [
    "def get_unique_items(l1):\n",
    "    l1 = np.array(l1)\n",
    "    l1 = np.unique(l1)\n",
    "    l1 = l1.tolist()\n",
    "    \n",
    "    return l1"
   ]
  },
  {
   "cell_type": "code",
   "execution_count": 36,
   "id": "79b3bf31",
   "metadata": {},
   "outputs": [
    {
     "data": {
      "text/plain": [
       "150"
      ]
     },
     "execution_count": 36,
     "metadata": {},
     "output_type": "execute_result"
    }
   ],
   "source": [
    "list_proscience_domains = get_unique_items(list_proscience_domains)\n",
    "len(list_proscience_domains)"
   ]
  },
  {
   "cell_type": "markdown",
   "id": "c215a9a0",
   "metadata": {},
   "source": [
    "***"
   ]
  },
  {
   "cell_type": "markdown",
   "id": "5edafb48",
   "metadata": {},
   "source": [
    "## Anti_science"
   ]
  },
  {
   "cell_type": "markdown",
   "id": "e7fb2978",
   "metadata": {},
   "source": [
    "***"
   ]
  },
  {
   "cell_type": "code",
   "execution_count": 37,
   "id": "87c7ba33",
   "metadata": {},
   "outputs": [
    {
     "name": "stdout",
     "output_type": "stream",
     "text": [
      "Shape:  (908, 4)\n"
     ]
    },
    {
     "data": {
      "text/html": [
       "<div>\n",
       "<style scoped>\n",
       "    .dataframe tbody tr th:only-of-type {\n",
       "        vertical-align: middle;\n",
       "    }\n",
       "\n",
       "    .dataframe tbody tr th {\n",
       "        vertical-align: top;\n",
       "    }\n",
       "\n",
       "    .dataframe thead th {\n",
       "        text-align: right;\n",
       "    }\n",
       "</style>\n",
       "<table border=\"1\" class=\"dataframe\">\n",
       "  <thead>\n",
       "    <tr style=\"text-align: right;\">\n",
       "      <th></th>\n",
       "      <th>domain</th>\n",
       "      <th>mediabias_proscience</th>\n",
       "      <th>mediabias_questionblesources</th>\n",
       "      <th>mediabias_conspiracy_psydoscience</th>\n",
       "    </tr>\n",
       "  </thead>\n",
       "  <tbody>\n",
       "    <tr>\n",
       "      <th>150</th>\n",
       "      <td>100percentfedup.com</td>\n",
       "      <td>0.0</td>\n",
       "      <td>1.0</td>\n",
       "      <td>0.0</td>\n",
       "    </tr>\n",
       "    <tr>\n",
       "      <th>151</th>\n",
       "      <td>12minutos.com</td>\n",
       "      <td>0.0</td>\n",
       "      <td>1.0</td>\n",
       "      <td>0.0</td>\n",
       "    </tr>\n",
       "    <tr>\n",
       "      <th>152</th>\n",
       "      <td>2020conservative.com</td>\n",
       "      <td>0.0</td>\n",
       "      <td>1.0</td>\n",
       "      <td>0.0</td>\n",
       "    </tr>\n",
       "    <tr>\n",
       "      <th>153</th>\n",
       "      <td>24Jours.com</td>\n",
       "      <td>0.0</td>\n",
       "      <td>1.0</td>\n",
       "      <td>0.0</td>\n",
       "    </tr>\n",
       "    <tr>\n",
       "      <th>154</th>\n",
       "      <td>4Chan.org</td>\n",
       "      <td>0.0</td>\n",
       "      <td>1.0</td>\n",
       "      <td>0.0</td>\n",
       "    </tr>\n",
       "  </tbody>\n",
       "</table>\n",
       "</div>"
      ],
      "text/plain": [
       "                   domain  mediabias_proscience  mediabias_questionblesources  \\\n",
       "150   100percentfedup.com                   0.0                           1.0   \n",
       "151         12minutos.com                   0.0                           1.0   \n",
       "152  2020conservative.com                   0.0                           1.0   \n",
       "153           24Jours.com                   0.0                           1.0   \n",
       "154             4Chan.org                   0.0                           1.0   \n",
       "\n",
       "     mediabias_conspiracy_psydoscience  \n",
       "150                                0.0  \n",
       "151                                0.0  \n",
       "152                                0.0  \n",
       "153                                0.0  \n",
       "154                                0.0  "
      ]
     },
     "execution_count": 37,
     "metadata": {},
     "output_type": "execute_result"
    }
   ],
   "source": [
    "df_domains_questionblesources = df_domains_pro_and_anti_science[df_domains_pro_and_anti_science['mediabias_questionblesources'] == 1]\n",
    "\n",
    "print('Shape: ', df_domains_questionblesources.shape)\n",
    "df_domains_questionblesources.head()"
   ]
  },
  {
   "cell_type": "code",
   "execution_count": 38,
   "id": "97721e65",
   "metadata": {},
   "outputs": [],
   "source": [
    "list_domains_questionblesources = df_domains_questionblesources.domain.tolist()"
   ]
  },
  {
   "cell_type": "code",
   "execution_count": 39,
   "id": "b48b3eb4",
   "metadata": {},
   "outputs": [
    {
     "name": "stdout",
     "output_type": "stream",
     "text": [
      "Shape:  (337, 4)\n"
     ]
    },
    {
     "data": {
      "text/html": [
       "<div>\n",
       "<style scoped>\n",
       "    .dataframe tbody tr th:only-of-type {\n",
       "        vertical-align: middle;\n",
       "    }\n",
       "\n",
       "    .dataframe tbody tr th {\n",
       "        vertical-align: top;\n",
       "    }\n",
       "\n",
       "    .dataframe thead th {\n",
       "        text-align: right;\n",
       "    }\n",
       "</style>\n",
       "<table border=\"1\" class=\"dataframe\">\n",
       "  <thead>\n",
       "    <tr style=\"text-align: right;\">\n",
       "      <th></th>\n",
       "      <th>domain</th>\n",
       "      <th>mediabias_proscience</th>\n",
       "      <th>mediabias_questionblesources</th>\n",
       "      <th>mediabias_conspiracy_psydoscience</th>\n",
       "    </tr>\n",
       "  </thead>\n",
       "  <tbody>\n",
       "    <tr>\n",
       "      <th>1058</th>\n",
       "      <td>2020ElectionCenter.com</td>\n",
       "      <td>0.0</td>\n",
       "      <td>0.0</td>\n",
       "      <td>1.0</td>\n",
       "    </tr>\n",
       "    <tr>\n",
       "      <th>1059</th>\n",
       "      <td>21stcenturywire.com</td>\n",
       "      <td>0.0</td>\n",
       "      <td>0.0</td>\n",
       "      <td>1.0</td>\n",
       "    </tr>\n",
       "    <tr>\n",
       "      <th>1060</th>\n",
       "      <td>369news.net</td>\n",
       "      <td>0.0</td>\n",
       "      <td>0.0</td>\n",
       "      <td>1.0</td>\n",
       "    </tr>\n",
       "    <tr>\n",
       "      <th>1061</th>\n",
       "      <td>79Days.News</td>\n",
       "      <td>0.0</td>\n",
       "      <td>0.0</td>\n",
       "      <td>1.0</td>\n",
       "    </tr>\n",
       "    <tr>\n",
       "      <th>1062</th>\n",
       "      <td>911truth.org</td>\n",
       "      <td>0.0</td>\n",
       "      <td>0.0</td>\n",
       "      <td>1.0</td>\n",
       "    </tr>\n",
       "  </tbody>\n",
       "</table>\n",
       "</div>"
      ],
      "text/plain": [
       "                      domain  mediabias_proscience  \\\n",
       "1058  2020ElectionCenter.com                   0.0   \n",
       "1059     21stcenturywire.com                   0.0   \n",
       "1060             369news.net                   0.0   \n",
       "1061             79Days.News                   0.0   \n",
       "1062            911truth.org                   0.0   \n",
       "\n",
       "      mediabias_questionblesources  mediabias_conspiracy_psydoscience  \n",
       "1058                           0.0                                1.0  \n",
       "1059                           0.0                                1.0  \n",
       "1060                           0.0                                1.0  \n",
       "1061                           0.0                                1.0  \n",
       "1062                           0.0                                1.0  "
      ]
     },
     "execution_count": 39,
     "metadata": {},
     "output_type": "execute_result"
    }
   ],
   "source": [
    "df_domains_conspiracy_psydoscience = df_domains_pro_and_anti_science[df_domains_pro_and_anti_science['mediabias_conspiracy_psydoscience'] == 1]\n",
    "\n",
    "print('Shape: ', df_domains_conspiracy_psydoscience.shape)\n",
    "df_domains_conspiracy_psydoscience.head()"
   ]
  },
  {
   "cell_type": "code",
   "execution_count": 40,
   "id": "7da93543",
   "metadata": {},
   "outputs": [],
   "source": [
    "list_domains_conspiracy_psydoscience = df_domains_conspiracy_psydoscience.domain.tolist()"
   ]
  },
  {
   "cell_type": "code",
   "execution_count": 41,
   "id": "fdae9386",
   "metadata": {},
   "outputs": [
    {
     "data": {
      "text/plain": [
       "1245"
      ]
     },
     "execution_count": 41,
     "metadata": {},
     "output_type": "execute_result"
    }
   ],
   "source": [
    "list_antiscience_domains = []\n",
    "list_antiscience_domains.extend(list_domains_conspiracy_psydoscience)\n",
    "list_antiscience_domains.extend(list_domains_questionblesources)\n",
    "\n",
    "list_antiscience_domains = get_unique_items(list_antiscience_domains)\n",
    "len(list_antiscience_domains)"
   ]
  },
  {
   "cell_type": "markdown",
   "id": "671c9eda",
   "metadata": {},
   "source": [
    "## Polarisierungen berechnen\n",
    "### TweetsCov19"
   ]
  },
  {
   "cell_type": "markdown",
   "id": "7c900d28",
   "metadata": {},
   "source": [
    "---"
   ]
  },
  {
   "cell_type": "code",
   "execution_count": 13,
   "id": "07fbc657",
   "metadata": {},
   "outputs": [
    {
     "name": "stdout",
     "output_type": "stream",
     "text": [
      "Shape : (1797419, 5)\n"
     ]
    },
    {
     "data": {
      "text/html": [
       "<div>\n",
       "<style scoped>\n",
       "    .dataframe tbody tr th:only-of-type {\n",
       "        vertical-align: middle;\n",
       "    }\n",
       "\n",
       "    .dataframe tbody tr th {\n",
       "        vertical-align: top;\n",
       "    }\n",
       "\n",
       "    .dataframe thead th {\n",
       "        text-align: right;\n",
       "    }\n",
       "</style>\n",
       "<table border=\"1\" class=\"dataframe\">\n",
       "  <thead>\n",
       "    <tr style=\"text-align: right;\">\n",
       "      <th></th>\n",
       "      <th>Tweet_Id</th>\n",
       "      <th>Username</th>\n",
       "      <th>Timestamp</th>\n",
       "      <th>Is_deleted</th>\n",
       "      <th>Domains</th>\n",
       "    </tr>\n",
       "  </thead>\n",
       "  <tbody>\n",
       "    <tr>\n",
       "      <th>0</th>\n",
       "      <td>1256010447515516931</td>\n",
       "      <td>e03ffc23e75c403f5a2363a17a9d7ba0</td>\n",
       "      <td>2020-05-01 00:00:00+00:00</td>\n",
       "      <td>False</td>\n",
       "      <td>0</td>\n",
       "    </tr>\n",
       "    <tr>\n",
       "      <th>1</th>\n",
       "      <td>1256010444747108352</td>\n",
       "      <td>c3579f256ef8063db35cc6ec5a4e3653</td>\n",
       "      <td>2020-05-01 00:00:00+00:00</td>\n",
       "      <td>False</td>\n",
       "      <td>0</td>\n",
       "    </tr>\n",
       "    <tr>\n",
       "      <th>2</th>\n",
       "      <td>1256010446559039488</td>\n",
       "      <td>9897f9df6e48f764570e5e4535833703</td>\n",
       "      <td>2020-05-01 00:00:00+00:00</td>\n",
       "      <td>False</td>\n",
       "      <td>themarysue.com</td>\n",
       "    </tr>\n",
       "    <tr>\n",
       "      <th>3</th>\n",
       "      <td>1256010447507128324</td>\n",
       "      <td>68d58fda5bc46a45cde9aeb6cbd63585</td>\n",
       "      <td>2020-05-01 00:00:00+00:00</td>\n",
       "      <td>False</td>\n",
       "      <td>fox5dc.com</td>\n",
       "    </tr>\n",
       "    <tr>\n",
       "      <th>4</th>\n",
       "      <td>1256010447955701760</td>\n",
       "      <td>6524eab4c1031db6288c117374214f17</td>\n",
       "      <td>2020-05-01 00:00:00+00:00</td>\n",
       "      <td>False</td>\n",
       "      <td>0</td>\n",
       "    </tr>\n",
       "  </tbody>\n",
       "</table>\n",
       "</div>"
      ],
      "text/plain": [
       "              Tweet_Id                          Username  \\\n",
       "0  1256010447515516931  e03ffc23e75c403f5a2363a17a9d7ba0   \n",
       "1  1256010444747108352  c3579f256ef8063db35cc6ec5a4e3653   \n",
       "2  1256010446559039488  9897f9df6e48f764570e5e4535833703   \n",
       "3  1256010447507128324  68d58fda5bc46a45cde9aeb6cbd63585   \n",
       "4  1256010447955701760  6524eab4c1031db6288c117374214f17   \n",
       "\n",
       "                   Timestamp  Is_deleted         Domains  \n",
       "0  2020-05-01 00:00:00+00:00       False               0  \n",
       "1  2020-05-01 00:00:00+00:00       False               0  \n",
       "2  2020-05-01 00:00:00+00:00       False  themarysue.com  \n",
       "3  2020-05-01 00:00:00+00:00       False      fox5dc.com  \n",
       "4  2020-05-01 00:00:00+00:00       False               0  "
      ]
     },
     "execution_count": 13,
     "metadata": {},
     "output_type": "execute_result"
    }
   ],
   "source": [
    "path = '../data/df_tweetscov19_mai2020.tsv'\n",
    "\n",
    "df_tweetscov19 = pd.read_csv(path, sep='\\t', error_bad_lines=False, names=['Tweet_Id', 'Username','Timestamp' ,'Is_deleted', 'Domains'])\n",
    "\n",
    "print('Shape :', df_tweetscov19.shape)\n",
    "df_tweetscov19.head()"
   ]
  },
  {
   "cell_type": "code",
   "execution_count": 42,
   "id": "3cb3e7fc",
   "metadata": {},
   "outputs": [],
   "source": [
    "def get_number_of_antiscience_domains(domains):\n",
    "    domains_list = domains.split()\n",
    "    score = 0\n",
    "    for i in range(0, len(domains_list)):\n",
    "        \n",
    "        #d = tldextract.extract(domains_list[i])\n",
    "        #d = d.domain          \n",
    "        d = domains_list[i]\n",
    "        \n",
    "        if d in list_antiscience_domains:\n",
    "            score -=  1\n",
    "        \n",
    "    return score"
   ]
  },
  {
   "cell_type": "code",
   "execution_count": 15,
   "id": "ae558792",
   "metadata": {},
   "outputs": [],
   "source": [
    "df_tweetscov19['Domains'] = df_tweetscov19['Domains'].astype(str)\n",
    "\n",
    "df_tweetscov19['number_of_antisciens_domains'] = df_tweetscov19.apply(lambda row: get_number_of_antiscience_domains(row['Domains']) if (row['Domains'] != '0') else 0, axis=1)"
   ]
  },
  {
   "cell_type": "code",
   "execution_count": 16,
   "id": "0990d023",
   "metadata": {},
   "outputs": [
    {
     "data": {
      "text/html": [
       "<div>\n",
       "<style scoped>\n",
       "    .dataframe tbody tr th:only-of-type {\n",
       "        vertical-align: middle;\n",
       "    }\n",
       "\n",
       "    .dataframe tbody tr th {\n",
       "        vertical-align: top;\n",
       "    }\n",
       "\n",
       "    .dataframe thead th {\n",
       "        text-align: right;\n",
       "    }\n",
       "</style>\n",
       "<table border=\"1\" class=\"dataframe\">\n",
       "  <thead>\n",
       "    <tr style=\"text-align: right;\">\n",
       "      <th></th>\n",
       "      <th>Tweet_Id</th>\n",
       "      <th>Username</th>\n",
       "      <th>Timestamp</th>\n",
       "      <th>Is_deleted</th>\n",
       "      <th>Domains</th>\n",
       "      <th>number_of_antisciens_domains</th>\n",
       "    </tr>\n",
       "  </thead>\n",
       "  <tbody>\n",
       "    <tr>\n",
       "      <th>0</th>\n",
       "      <td>1256010447515516931</td>\n",
       "      <td>e03ffc23e75c403f5a2363a17a9d7ba0</td>\n",
       "      <td>2020-05-01 00:00:00+00:00</td>\n",
       "      <td>False</td>\n",
       "      <td>0</td>\n",
       "      <td>0</td>\n",
       "    </tr>\n",
       "    <tr>\n",
       "      <th>1</th>\n",
       "      <td>1256010444747108352</td>\n",
       "      <td>c3579f256ef8063db35cc6ec5a4e3653</td>\n",
       "      <td>2020-05-01 00:00:00+00:00</td>\n",
       "      <td>False</td>\n",
       "      <td>0</td>\n",
       "      <td>0</td>\n",
       "    </tr>\n",
       "    <tr>\n",
       "      <th>2</th>\n",
       "      <td>1256010446559039488</td>\n",
       "      <td>9897f9df6e48f764570e5e4535833703</td>\n",
       "      <td>2020-05-01 00:00:00+00:00</td>\n",
       "      <td>False</td>\n",
       "      <td>themarysue.com</td>\n",
       "      <td>0</td>\n",
       "    </tr>\n",
       "    <tr>\n",
       "      <th>3</th>\n",
       "      <td>1256010447507128324</td>\n",
       "      <td>68d58fda5bc46a45cde9aeb6cbd63585</td>\n",
       "      <td>2020-05-01 00:00:00+00:00</td>\n",
       "      <td>False</td>\n",
       "      <td>fox5dc.com</td>\n",
       "      <td>0</td>\n",
       "    </tr>\n",
       "    <tr>\n",
       "      <th>4</th>\n",
       "      <td>1256010447955701760</td>\n",
       "      <td>6524eab4c1031db6288c117374214f17</td>\n",
       "      <td>2020-05-01 00:00:00+00:00</td>\n",
       "      <td>False</td>\n",
       "      <td>0</td>\n",
       "      <td>0</td>\n",
       "    </tr>\n",
       "  </tbody>\n",
       "</table>\n",
       "</div>"
      ],
      "text/plain": [
       "              Tweet_Id                          Username  \\\n",
       "0  1256010447515516931  e03ffc23e75c403f5a2363a17a9d7ba0   \n",
       "1  1256010444747108352  c3579f256ef8063db35cc6ec5a4e3653   \n",
       "2  1256010446559039488  9897f9df6e48f764570e5e4535833703   \n",
       "3  1256010447507128324  68d58fda5bc46a45cde9aeb6cbd63585   \n",
       "4  1256010447955701760  6524eab4c1031db6288c117374214f17   \n",
       "\n",
       "                   Timestamp  Is_deleted         Domains  \\\n",
       "0  2020-05-01 00:00:00+00:00       False               0   \n",
       "1  2020-05-01 00:00:00+00:00       False               0   \n",
       "2  2020-05-01 00:00:00+00:00       False  themarysue.com   \n",
       "3  2020-05-01 00:00:00+00:00       False      fox5dc.com   \n",
       "4  2020-05-01 00:00:00+00:00       False               0   \n",
       "\n",
       "   number_of_antisciens_domains  \n",
       "0                             0  \n",
       "1                             0  \n",
       "2                             0  \n",
       "3                             0  \n",
       "4                             0  "
      ]
     },
     "execution_count": 16,
     "metadata": {},
     "output_type": "execute_result"
    }
   ],
   "source": [
    "df_tweetscov19.head()"
   ]
  },
  {
   "cell_type": "code",
   "execution_count": 17,
   "id": "929329d4",
   "metadata": {},
   "outputs": [
    {
     "name": "stdout",
     "output_type": "stream",
     "text": [
      "Number of tweets with at least one antiscience Domain:  24691\n"
     ]
    }
   ],
   "source": [
    "tweets_with_antiscience_domains = df_tweetscov19[df_tweetscov19['number_of_antisciens_domains'] < 0].shape\n",
    "\n",
    "print('Number of tweets with at least one antiscience Domain: ', tweets_with_antiscience_domains[0])"
   ]
  },
  {
   "cell_type": "code",
   "execution_count": 43,
   "id": "1b5e497d",
   "metadata": {},
   "outputs": [],
   "source": [
    "def get_number_of_proscience_domains(domains):\n",
    "    domains_list = domains.split()\n",
    "    score = 0\n",
    "    for i in range(0, len(domains_list)):\n",
    "        \n",
    "        #d = tldextract.extract(domains_list[i])\n",
    "        #d = d.domain\n",
    "       \n",
    "            \n",
    "        d = domains_list[i]\n",
    "        if d in list_proscience_domains:\n",
    "            score +=  1\n",
    "        \n",
    "    return score"
   ]
  },
  {
   "cell_type": "code",
   "execution_count": 19,
   "id": "f0bbb3ce",
   "metadata": {},
   "outputs": [],
   "source": [
    "df_tweetscov19['number_of_prosciens_domains'] = df_tweetscov19.apply(lambda row: get_number_of_proscience_domains(row['Domains']) if (row['Domains'] != '0') else 0, axis=1)"
   ]
  },
  {
   "cell_type": "code",
   "execution_count": 20,
   "id": "5996a6e6",
   "metadata": {},
   "outputs": [
    {
     "data": {
      "text/html": [
       "<div>\n",
       "<style scoped>\n",
       "    .dataframe tbody tr th:only-of-type {\n",
       "        vertical-align: middle;\n",
       "    }\n",
       "\n",
       "    .dataframe tbody tr th {\n",
       "        vertical-align: top;\n",
       "    }\n",
       "\n",
       "    .dataframe thead th {\n",
       "        text-align: right;\n",
       "    }\n",
       "</style>\n",
       "<table border=\"1\" class=\"dataframe\">\n",
       "  <thead>\n",
       "    <tr style=\"text-align: right;\">\n",
       "      <th></th>\n",
       "      <th>Tweet_Id</th>\n",
       "      <th>Username</th>\n",
       "      <th>Timestamp</th>\n",
       "      <th>Is_deleted</th>\n",
       "      <th>Domains</th>\n",
       "      <th>number_of_antisciens_domains</th>\n",
       "      <th>number_of_prosciens_domains</th>\n",
       "    </tr>\n",
       "  </thead>\n",
       "  <tbody>\n",
       "    <tr>\n",
       "      <th>0</th>\n",
       "      <td>1256010447515516931</td>\n",
       "      <td>e03ffc23e75c403f5a2363a17a9d7ba0</td>\n",
       "      <td>2020-05-01 00:00:00+00:00</td>\n",
       "      <td>False</td>\n",
       "      <td>0</td>\n",
       "      <td>0</td>\n",
       "      <td>0</td>\n",
       "    </tr>\n",
       "    <tr>\n",
       "      <th>1</th>\n",
       "      <td>1256010444747108352</td>\n",
       "      <td>c3579f256ef8063db35cc6ec5a4e3653</td>\n",
       "      <td>2020-05-01 00:00:00+00:00</td>\n",
       "      <td>False</td>\n",
       "      <td>0</td>\n",
       "      <td>0</td>\n",
       "      <td>0</td>\n",
       "    </tr>\n",
       "    <tr>\n",
       "      <th>2</th>\n",
       "      <td>1256010446559039488</td>\n",
       "      <td>9897f9df6e48f764570e5e4535833703</td>\n",
       "      <td>2020-05-01 00:00:00+00:00</td>\n",
       "      <td>False</td>\n",
       "      <td>themarysue.com</td>\n",
       "      <td>0</td>\n",
       "      <td>0</td>\n",
       "    </tr>\n",
       "    <tr>\n",
       "      <th>3</th>\n",
       "      <td>1256010447507128324</td>\n",
       "      <td>68d58fda5bc46a45cde9aeb6cbd63585</td>\n",
       "      <td>2020-05-01 00:00:00+00:00</td>\n",
       "      <td>False</td>\n",
       "      <td>fox5dc.com</td>\n",
       "      <td>0</td>\n",
       "      <td>0</td>\n",
       "    </tr>\n",
       "    <tr>\n",
       "      <th>4</th>\n",
       "      <td>1256010447955701760</td>\n",
       "      <td>6524eab4c1031db6288c117374214f17</td>\n",
       "      <td>2020-05-01 00:00:00+00:00</td>\n",
       "      <td>False</td>\n",
       "      <td>0</td>\n",
       "      <td>0</td>\n",
       "      <td>0</td>\n",
       "    </tr>\n",
       "  </tbody>\n",
       "</table>\n",
       "</div>"
      ],
      "text/plain": [
       "              Tweet_Id                          Username  \\\n",
       "0  1256010447515516931  e03ffc23e75c403f5a2363a17a9d7ba0   \n",
       "1  1256010444747108352  c3579f256ef8063db35cc6ec5a4e3653   \n",
       "2  1256010446559039488  9897f9df6e48f764570e5e4535833703   \n",
       "3  1256010447507128324  68d58fda5bc46a45cde9aeb6cbd63585   \n",
       "4  1256010447955701760  6524eab4c1031db6288c117374214f17   \n",
       "\n",
       "                   Timestamp  Is_deleted         Domains  \\\n",
       "0  2020-05-01 00:00:00+00:00       False               0   \n",
       "1  2020-05-01 00:00:00+00:00       False               0   \n",
       "2  2020-05-01 00:00:00+00:00       False  themarysue.com   \n",
       "3  2020-05-01 00:00:00+00:00       False      fox5dc.com   \n",
       "4  2020-05-01 00:00:00+00:00       False               0   \n",
       "\n",
       "   number_of_antisciens_domains  number_of_prosciens_domains  \n",
       "0                             0                            0  \n",
       "1                             0                            0  \n",
       "2                             0                            0  \n",
       "3                             0                            0  \n",
       "4                             0                            0  "
      ]
     },
     "execution_count": 20,
     "metadata": {},
     "output_type": "execute_result"
    }
   ],
   "source": [
    "df_tweetscov19.head()"
   ]
  },
  {
   "cell_type": "code",
   "execution_count": 21,
   "id": "2d37c01b",
   "metadata": {},
   "outputs": [
    {
     "name": "stdout",
     "output_type": "stream",
     "text": [
      "Number of tweets with at least one proscience domain:  7475\n"
     ]
    }
   ],
   "source": [
    "tweets_with_proscience_domains = df_tweetscov19[df_tweetscov19['number_of_prosciens_domains'] > 0].shape\n",
    "\n",
    "print('Number of tweets with at least one proscience domain: ', tweets_with_proscience_domains[0])"
   ]
  },
  {
   "cell_type": "code",
   "execution_count": 22,
   "id": "61021db8",
   "metadata": {},
   "outputs": [
    {
     "name": "stderr",
     "output_type": "stream",
     "text": [
      "<ipython-input-22-5a729d8510a2>:1: FutureWarning: Indexing with multiple keys (implicitly converted to a tuple of keys) will be deprecated, use a list instead.\n",
      "  df_tweetscov19_unique_user = df_tweetscov19.groupby('Username')[ 'number_of_antisciens_domains', 'number_of_prosciens_domains'].sum()\n"
     ]
    }
   ],
   "source": [
    "\n",
    "df_tweetscov19_unique_user = df_tweetscov19.groupby('Username')[ 'number_of_antisciens_domains', 'number_of_prosciens_domains'].sum()"
   ]
  },
  {
   "cell_type": "code",
   "execution_count": 23,
   "id": "b8047044",
   "metadata": {},
   "outputs": [
    {
     "name": "stdout",
     "output_type": "stream",
     "text": [
      "Number of unique users in TweetsCOV19:  1064424\n"
     ]
    }
   ],
   "source": [
    "number_of_unique_useres = df_tweetscov19_unique_user.shape\n",
    "\n",
    "print('Number of unique users in TweetsCOV19: ', number_of_unique_useres[0])"
   ]
  },
  {
   "cell_type": "code",
   "execution_count": 24,
   "id": "fcd94807",
   "metadata": {},
   "outputs": [
    {
     "data": {
      "text/html": [
       "<div>\n",
       "<style scoped>\n",
       "    .dataframe tbody tr th:only-of-type {\n",
       "        vertical-align: middle;\n",
       "    }\n",
       "\n",
       "    .dataframe tbody tr th {\n",
       "        vertical-align: top;\n",
       "    }\n",
       "\n",
       "    .dataframe thead th {\n",
       "        text-align: right;\n",
       "    }\n",
       "</style>\n",
       "<table border=\"1\" class=\"dataframe\">\n",
       "  <thead>\n",
       "    <tr style=\"text-align: right;\">\n",
       "      <th></th>\n",
       "      <th>number_of_antisciens_domains</th>\n",
       "      <th>number_of_prosciens_domains</th>\n",
       "    </tr>\n",
       "    <tr>\n",
       "      <th>Username</th>\n",
       "      <th></th>\n",
       "      <th></th>\n",
       "    </tr>\n",
       "  </thead>\n",
       "  <tbody>\n",
       "    <tr>\n",
       "      <th>0002eb2aff20e181397afe8cdebdd395</th>\n",
       "      <td>0</td>\n",
       "      <td>1</td>\n",
       "    </tr>\n",
       "    <tr>\n",
       "      <th>0008667130fe3776676804ff59e8ce3b</th>\n",
       "      <td>0</td>\n",
       "      <td>1</td>\n",
       "    </tr>\n",
       "    <tr>\n",
       "      <th>0033ba10624ff9ac3a12b4c223cbc0ce</th>\n",
       "      <td>0</td>\n",
       "      <td>1</td>\n",
       "    </tr>\n",
       "    <tr>\n",
       "      <th>005696709556b8960c0598385492e8e0</th>\n",
       "      <td>0</td>\n",
       "      <td>1</td>\n",
       "    </tr>\n",
       "    <tr>\n",
       "      <th>0061dfef45d68a3fc2be1f8003bbe904</th>\n",
       "      <td>0</td>\n",
       "      <td>2</td>\n",
       "    </tr>\n",
       "  </tbody>\n",
       "</table>\n",
       "</div>"
      ],
      "text/plain": [
       "                                  number_of_antisciens_domains  \\\n",
       "Username                                                         \n",
       "0002eb2aff20e181397afe8cdebdd395                             0   \n",
       "0008667130fe3776676804ff59e8ce3b                             0   \n",
       "0033ba10624ff9ac3a12b4c223cbc0ce                             0   \n",
       "005696709556b8960c0598385492e8e0                             0   \n",
       "0061dfef45d68a3fc2be1f8003bbe904                             0   \n",
       "\n",
       "                                  number_of_prosciens_domains  \n",
       "Username                                                       \n",
       "0002eb2aff20e181397afe8cdebdd395                            1  \n",
       "0008667130fe3776676804ff59e8ce3b                            1  \n",
       "0033ba10624ff9ac3a12b4c223cbc0ce                            1  \n",
       "005696709556b8960c0598385492e8e0                            1  \n",
       "0061dfef45d68a3fc2be1f8003bbe904                            2  "
      ]
     },
     "execution_count": 24,
     "metadata": {},
     "output_type": "execute_result"
    }
   ],
   "source": [
    "df_tweetscov19_unique_user[df_tweetscov19_unique_user['number_of_prosciens_domains']>0].head()"
   ]
  },
  {
   "cell_type": "code",
   "execution_count": 25,
   "id": "0480020e",
   "metadata": {},
   "outputs": [],
   "source": [
    "df_tweetscov19_unique_user['Sum_polarized_domains'] = df_tweetscov19_unique_user.apply(lambda row:  (row['number_of_prosciens_domains'] - row['number_of_antisciens_domains']), axis=1)"
   ]
  },
  {
   "cell_type": "code",
   "execution_count": 26,
   "id": "d7409983",
   "metadata": {},
   "outputs": [
    {
     "data": {
      "text/html": [
       "<div>\n",
       "<style scoped>\n",
       "    .dataframe tbody tr th:only-of-type {\n",
       "        vertical-align: middle;\n",
       "    }\n",
       "\n",
       "    .dataframe tbody tr th {\n",
       "        vertical-align: top;\n",
       "    }\n",
       "\n",
       "    .dataframe thead th {\n",
       "        text-align: right;\n",
       "    }\n",
       "</style>\n",
       "<table border=\"1\" class=\"dataframe\">\n",
       "  <thead>\n",
       "    <tr style=\"text-align: right;\">\n",
       "      <th></th>\n",
       "      <th>number_of_antisciens_domains</th>\n",
       "      <th>number_of_prosciens_domains</th>\n",
       "      <th>Sum_polarized_domains</th>\n",
       "    </tr>\n",
       "    <tr>\n",
       "      <th>Username</th>\n",
       "      <th></th>\n",
       "      <th></th>\n",
       "      <th></th>\n",
       "    </tr>\n",
       "  </thead>\n",
       "  <tbody>\n",
       "    <tr>\n",
       "      <th>000238f324f5063164908c27a7f310cd</th>\n",
       "      <td>-1</td>\n",
       "      <td>0</td>\n",
       "      <td>1</td>\n",
       "    </tr>\n",
       "    <tr>\n",
       "      <th>00065a00b971b5e1629d504e0ddf2da0</th>\n",
       "      <td>-1</td>\n",
       "      <td>0</td>\n",
       "      <td>1</td>\n",
       "    </tr>\n",
       "    <tr>\n",
       "      <th>00084b153bbf7f4a8c1df3b638e07765</th>\n",
       "      <td>-2</td>\n",
       "      <td>0</td>\n",
       "      <td>2</td>\n",
       "    </tr>\n",
       "    <tr>\n",
       "      <th>000bcb01b05c0f275601b470ab115a06</th>\n",
       "      <td>-1</td>\n",
       "      <td>0</td>\n",
       "      <td>1</td>\n",
       "    </tr>\n",
       "    <tr>\n",
       "      <th>0013aaa4da0461c58d0b1306af75af02</th>\n",
       "      <td>-1</td>\n",
       "      <td>0</td>\n",
       "      <td>1</td>\n",
       "    </tr>\n",
       "  </tbody>\n",
       "</table>\n",
       "</div>"
      ],
      "text/plain": [
       "                                  number_of_antisciens_domains  \\\n",
       "Username                                                         \n",
       "000238f324f5063164908c27a7f310cd                            -1   \n",
       "00065a00b971b5e1629d504e0ddf2da0                            -1   \n",
       "00084b153bbf7f4a8c1df3b638e07765                            -2   \n",
       "000bcb01b05c0f275601b470ab115a06                            -1   \n",
       "0013aaa4da0461c58d0b1306af75af02                            -1   \n",
       "\n",
       "                                  number_of_prosciens_domains  \\\n",
       "Username                                                        \n",
       "000238f324f5063164908c27a7f310cd                            0   \n",
       "00065a00b971b5e1629d504e0ddf2da0                            0   \n",
       "00084b153bbf7f4a8c1df3b638e07765                            0   \n",
       "000bcb01b05c0f275601b470ab115a06                            0   \n",
       "0013aaa4da0461c58d0b1306af75af02                            0   \n",
       "\n",
       "                                  Sum_polarized_domains  \n",
       "Username                                                 \n",
       "000238f324f5063164908c27a7f310cd                      1  \n",
       "00065a00b971b5e1629d504e0ddf2da0                      1  \n",
       "00084b153bbf7f4a8c1df3b638e07765                      2  \n",
       "000bcb01b05c0f275601b470ab115a06                      1  \n",
       "0013aaa4da0461c58d0b1306af75af02                      1  "
      ]
     },
     "execution_count": 26,
     "metadata": {},
     "output_type": "execute_result"
    }
   ],
   "source": [
    "df_tweetscov19_unique_user[df_tweetscov19_unique_user['number_of_antisciens_domains']<0].head()"
   ]
  },
  {
   "cell_type": "code",
   "execution_count": 27,
   "id": "93703b97",
   "metadata": {},
   "outputs": [],
   "source": [
    "df_tweetscov19_unique_user['normalised_polarisation'] = df_tweetscov19_unique_user.apply(lambda row: (row['number_of_antisciens_domains'] + row['number_of_prosciens_domains']) / row['Sum_polarized_domains'] if row['Sum_polarized_domains'] != 0 else 0, axis=1)"
   ]
  },
  {
   "cell_type": "code",
   "execution_count": 28,
   "id": "5fa996a6",
   "metadata": {},
   "outputs": [
    {
     "data": {
      "text/html": [
       "<div>\n",
       "<style scoped>\n",
       "    .dataframe tbody tr th:only-of-type {\n",
       "        vertical-align: middle;\n",
       "    }\n",
       "\n",
       "    .dataframe tbody tr th {\n",
       "        vertical-align: top;\n",
       "    }\n",
       "\n",
       "    .dataframe thead th {\n",
       "        text-align: right;\n",
       "    }\n",
       "</style>\n",
       "<table border=\"1\" class=\"dataframe\">\n",
       "  <thead>\n",
       "    <tr style=\"text-align: right;\">\n",
       "      <th></th>\n",
       "      <th>number_of_antisciens_domains</th>\n",
       "      <th>number_of_prosciens_domains</th>\n",
       "      <th>Sum_polarized_domains</th>\n",
       "      <th>normalised_polarisation</th>\n",
       "    </tr>\n",
       "    <tr>\n",
       "      <th>Username</th>\n",
       "      <th></th>\n",
       "      <th></th>\n",
       "      <th></th>\n",
       "      <th></th>\n",
       "    </tr>\n",
       "  </thead>\n",
       "  <tbody>\n",
       "    <tr>\n",
       "      <th>00b956ef2630a87295ee039edc94941d</th>\n",
       "      <td>-38</td>\n",
       "      <td>0</td>\n",
       "      <td>38</td>\n",
       "      <td>-1.0</td>\n",
       "    </tr>\n",
       "    <tr>\n",
       "      <th>015b920a4302d63b6a0e9cb2b0033ff5</th>\n",
       "      <td>-12</td>\n",
       "      <td>0</td>\n",
       "      <td>12</td>\n",
       "      <td>-1.0</td>\n",
       "    </tr>\n",
       "    <tr>\n",
       "      <th>017f9a97863fc2d5c1ed97f2c74c3ec8</th>\n",
       "      <td>-4</td>\n",
       "      <td>0</td>\n",
       "      <td>4</td>\n",
       "      <td>-1.0</td>\n",
       "    </tr>\n",
       "    <tr>\n",
       "      <th>01baae45b1a3710bf078f4e14c409ea0</th>\n",
       "      <td>-3</td>\n",
       "      <td>0</td>\n",
       "      <td>3</td>\n",
       "      <td>-1.0</td>\n",
       "    </tr>\n",
       "    <tr>\n",
       "      <th>01c85f37fda688a470fa0698665e31cb</th>\n",
       "      <td>-14</td>\n",
       "      <td>0</td>\n",
       "      <td>14</td>\n",
       "      <td>-1.0</td>\n",
       "    </tr>\n",
       "  </tbody>\n",
       "</table>\n",
       "</div>"
      ],
      "text/plain": [
       "                                  number_of_antisciens_domains  \\\n",
       "Username                                                         \n",
       "00b956ef2630a87295ee039edc94941d                           -38   \n",
       "015b920a4302d63b6a0e9cb2b0033ff5                           -12   \n",
       "017f9a97863fc2d5c1ed97f2c74c3ec8                            -4   \n",
       "01baae45b1a3710bf078f4e14c409ea0                            -3   \n",
       "01c85f37fda688a470fa0698665e31cb                           -14   \n",
       "\n",
       "                                  number_of_prosciens_domains  \\\n",
       "Username                                                        \n",
       "00b956ef2630a87295ee039edc94941d                            0   \n",
       "015b920a4302d63b6a0e9cb2b0033ff5                            0   \n",
       "017f9a97863fc2d5c1ed97f2c74c3ec8                            0   \n",
       "01baae45b1a3710bf078f4e14c409ea0                            0   \n",
       "01c85f37fda688a470fa0698665e31cb                            0   \n",
       "\n",
       "                                  Sum_polarized_domains  \\\n",
       "Username                                                  \n",
       "00b956ef2630a87295ee039edc94941d                     38   \n",
       "015b920a4302d63b6a0e9cb2b0033ff5                     12   \n",
       "017f9a97863fc2d5c1ed97f2c74c3ec8                      4   \n",
       "01baae45b1a3710bf078f4e14c409ea0                      3   \n",
       "01c85f37fda688a470fa0698665e31cb                     14   \n",
       "\n",
       "                                  normalised_polarisation  \n",
       "Username                                                   \n",
       "00b956ef2630a87295ee039edc94941d                     -1.0  \n",
       "015b920a4302d63b6a0e9cb2b0033ff5                     -1.0  \n",
       "017f9a97863fc2d5c1ed97f2c74c3ec8                     -1.0  \n",
       "01baae45b1a3710bf078f4e14c409ea0                     -1.0  \n",
       "01c85f37fda688a470fa0698665e31cb                     -1.0  "
      ]
     },
     "execution_count": 28,
     "metadata": {},
     "output_type": "execute_result"
    }
   ],
   "source": [
    "df_tweetscov19_unique_user[df_tweetscov19_unique_user['number_of_antisciens_domains']<-2].head()"
   ]
  },
  {
   "cell_type": "code",
   "execution_count": 29,
   "id": "ea80122c",
   "metadata": {},
   "outputs": [
    {
     "name": "stdout",
     "output_type": "stream",
     "text": [
      "Number of users with with at least one polarized domain:  13298\n"
     ]
    }
   ],
   "source": [
    "users_with_with_atleast_one_polarized_domain = df_tweetscov19_unique_user[df_tweetscov19_unique_user['Sum_polarized_domains']>0]\n",
    "\n",
    "print('Number of users with with at least one polarized domain: ',users_with_with_atleast_one_polarized_domain.shape[0])"
   ]
  },
  {
   "cell_type": "code",
   "execution_count": 30,
   "id": "953a622b",
   "metadata": {},
   "outputs": [
    {
     "data": {
      "text/html": [
       "<div>\n",
       "<style scoped>\n",
       "    .dataframe tbody tr th:only-of-type {\n",
       "        vertical-align: middle;\n",
       "    }\n",
       "\n",
       "    .dataframe tbody tr th {\n",
       "        vertical-align: top;\n",
       "    }\n",
       "\n",
       "    .dataframe thead th {\n",
       "        text-align: right;\n",
       "    }\n",
       "</style>\n",
       "<table border=\"1\" class=\"dataframe\">\n",
       "  <thead>\n",
       "    <tr style=\"text-align: right;\">\n",
       "      <th></th>\n",
       "      <th>number_of_antisciens_domains</th>\n",
       "      <th>number_of_prosciens_domains</th>\n",
       "      <th>Sum_polarized_domains</th>\n",
       "      <th>normalised_polarisation</th>\n",
       "    </tr>\n",
       "    <tr>\n",
       "      <th>Username</th>\n",
       "      <th></th>\n",
       "      <th></th>\n",
       "      <th></th>\n",
       "      <th></th>\n",
       "    </tr>\n",
       "  </thead>\n",
       "  <tbody>\n",
       "    <tr>\n",
       "      <th>006ca2433c6375610b279462e28fa322</th>\n",
       "      <td>-1</td>\n",
       "      <td>1</td>\n",
       "      <td>2</td>\n",
       "      <td>0.0</td>\n",
       "    </tr>\n",
       "    <tr>\n",
       "      <th>0573ad28d8f376c0f183c86c8747179c</th>\n",
       "      <td>-1</td>\n",
       "      <td>1</td>\n",
       "      <td>2</td>\n",
       "      <td>0.0</td>\n",
       "    </tr>\n",
       "    <tr>\n",
       "      <th>077e09bb652f5b61f270e9c5b6b82cd5</th>\n",
       "      <td>-1</td>\n",
       "      <td>1</td>\n",
       "      <td>2</td>\n",
       "      <td>0.0</td>\n",
       "    </tr>\n",
       "    <tr>\n",
       "      <th>07d06a39ed29f064c438655cf59d1274</th>\n",
       "      <td>-1</td>\n",
       "      <td>1</td>\n",
       "      <td>2</td>\n",
       "      <td>0.0</td>\n",
       "    </tr>\n",
       "    <tr>\n",
       "      <th>07d4b4dac03341b975acffd7e3d95746</th>\n",
       "      <td>-1</td>\n",
       "      <td>1</td>\n",
       "      <td>2</td>\n",
       "      <td>0.0</td>\n",
       "    </tr>\n",
       "  </tbody>\n",
       "</table>\n",
       "</div>"
      ],
      "text/plain": [
       "                                  number_of_antisciens_domains  \\\n",
       "Username                                                         \n",
       "006ca2433c6375610b279462e28fa322                            -1   \n",
       "0573ad28d8f376c0f183c86c8747179c                            -1   \n",
       "077e09bb652f5b61f270e9c5b6b82cd5                            -1   \n",
       "07d06a39ed29f064c438655cf59d1274                            -1   \n",
       "07d4b4dac03341b975acffd7e3d95746                            -1   \n",
       "\n",
       "                                  number_of_prosciens_domains  \\\n",
       "Username                                                        \n",
       "006ca2433c6375610b279462e28fa322                            1   \n",
       "0573ad28d8f376c0f183c86c8747179c                            1   \n",
       "077e09bb652f5b61f270e9c5b6b82cd5                            1   \n",
       "07d06a39ed29f064c438655cf59d1274                            1   \n",
       "07d4b4dac03341b975acffd7e3d95746                            1   \n",
       "\n",
       "                                  Sum_polarized_domains  \\\n",
       "Username                                                  \n",
       "006ca2433c6375610b279462e28fa322                      2   \n",
       "0573ad28d8f376c0f183c86c8747179c                      2   \n",
       "077e09bb652f5b61f270e9c5b6b82cd5                      2   \n",
       "07d06a39ed29f064c438655cf59d1274                      2   \n",
       "07d4b4dac03341b975acffd7e3d95746                      2   \n",
       "\n",
       "                                  normalised_polarisation  \n",
       "Username                                                   \n",
       "006ca2433c6375610b279462e28fa322                      0.0  \n",
       "0573ad28d8f376c0f183c86c8747179c                      0.0  \n",
       "077e09bb652f5b61f270e9c5b6b82cd5                      0.0  \n",
       "07d06a39ed29f064c438655cf59d1274                      0.0  \n",
       "07d4b4dac03341b975acffd7e3d95746                      0.0  "
      ]
     },
     "execution_count": 30,
     "metadata": {},
     "output_type": "execute_result"
    }
   ],
   "source": [
    "users_with_with_atleast_one_polarized_domain[users_with_with_atleast_one_polarized_domain['normalised_polarisation'] == 0].head()"
   ]
  },
  {
   "cell_type": "code",
   "execution_count": 31,
   "id": "21150cdb",
   "metadata": {},
   "outputs": [],
   "source": [
    "#df_tweetscov19_unique_user_without_zero_polarisation = df_tweetscov19_unique_user[df_tweetscov19_unique_user['normalised_polarisation'] != 0]"
   ]
  },
  {
   "cell_type": "code",
   "execution_count": 32,
   "id": "f10dd27e",
   "metadata": {},
   "outputs": [],
   "source": [
    "#number_of_science_polarized_users = df_tweetscov19_unique_user_without_zero_polarisation.shape\n",
    "\n",
    "#print('Number of science polarized users in TWeetsCOV19: ', number_of_science_polarized_users[0])"
   ]
  },
  {
   "cell_type": "code",
   "execution_count": 33,
   "id": "4af33ee5",
   "metadata": {},
   "outputs": [
    {
     "name": "stdout",
     "output_type": "stream",
     "text": [
      "Number of proscience polarized users in TWeetsCOV19:  1693\n"
     ]
    }
   ],
   "source": [
    "number_of_proscience_polarized_users = df_tweetscov19_unique_user_without_zero_polarisation[df_tweetscov19_unique_user_without_zero_polarisation['normalised_polarisation'] > 0].shape\n",
    "\n",
    "print('Number of proscience polarized users in TWeetsCOV19: ', number_of_proscience_polarized_users[0])"
   ]
  },
  {
   "cell_type": "code",
   "execution_count": 34,
   "id": "ec4dc261",
   "metadata": {},
   "outputs": [
    {
     "name": "stdout",
     "output_type": "stream",
     "text": [
      "Number of antiscience polarized users in TWeetsCOV19:  3286\n"
     ]
    }
   ],
   "source": [
    "number_of_antiscience_polarized_users = df_tweetscov19_unique_user_without_zero_polarisation[df_tweetscov19_unique_user_without_zero_polarisation['normalised_polarisation'] < 0].shape\n",
    "\n",
    "print('Number of antiscience polarized users in TWeetsCOV19: ', number_of_antiscience_polarized_users[0])"
   ]
  },
  {
   "cell_type": "markdown",
   "id": "393f3960",
   "metadata": {},
   "source": [
    "****"
   ]
  },
  {
   "cell_type": "code",
   "execution_count": 35,
   "id": "13620310",
   "metadata": {},
   "outputs": [
    {
     "data": {
      "text/html": [
       "<div>\n",
       "<style scoped>\n",
       "    .dataframe tbody tr th:only-of-type {\n",
       "        vertical-align: middle;\n",
       "    }\n",
       "\n",
       "    .dataframe tbody tr th {\n",
       "        vertical-align: top;\n",
       "    }\n",
       "\n",
       "    .dataframe thead th {\n",
       "        text-align: right;\n",
       "    }\n",
       "</style>\n",
       "<table border=\"1\" class=\"dataframe\">\n",
       "  <thead>\n",
       "    <tr style=\"text-align: right;\">\n",
       "      <th></th>\n",
       "      <th>Username</th>\n",
       "      <th>number_of_antisciens_domains</th>\n",
       "      <th>number_of_prosciens_domains</th>\n",
       "      <th>Sum_polarized_domains</th>\n",
       "      <th>normalised_polarisation</th>\n",
       "    </tr>\n",
       "  </thead>\n",
       "  <tbody>\n",
       "    <tr>\n",
       "      <th>0</th>\n",
       "      <td>000df0c86153a1e9e65feca1051f8c1e</td>\n",
       "      <td>-1</td>\n",
       "      <td>0</td>\n",
       "      <td>1</td>\n",
       "      <td>-1.0</td>\n",
       "    </tr>\n",
       "    <tr>\n",
       "      <th>1</th>\n",
       "      <td>0013aaa4da0461c58d0b1306af75af02</td>\n",
       "      <td>-1</td>\n",
       "      <td>0</td>\n",
       "      <td>1</td>\n",
       "      <td>-1.0</td>\n",
       "    </tr>\n",
       "    <tr>\n",
       "      <th>2</th>\n",
       "      <td>0013ba9584257735e7b0380b5b831fe4</td>\n",
       "      <td>0</td>\n",
       "      <td>1</td>\n",
       "      <td>1</td>\n",
       "      <td>1.0</td>\n",
       "    </tr>\n",
       "    <tr>\n",
       "      <th>3</th>\n",
       "      <td>003ceef9d66817ec38c877b26b013d1d</td>\n",
       "      <td>0</td>\n",
       "      <td>1</td>\n",
       "      <td>1</td>\n",
       "      <td>1.0</td>\n",
       "    </tr>\n",
       "    <tr>\n",
       "      <th>4</th>\n",
       "      <td>005696709556b8960c0598385492e8e0</td>\n",
       "      <td>0</td>\n",
       "      <td>1</td>\n",
       "      <td>1</td>\n",
       "      <td>1.0</td>\n",
       "    </tr>\n",
       "  </tbody>\n",
       "</table>\n",
       "</div>"
      ],
      "text/plain": [
       "                           Username  number_of_antisciens_domains  \\\n",
       "0  000df0c86153a1e9e65feca1051f8c1e                            -1   \n",
       "1  0013aaa4da0461c58d0b1306af75af02                            -1   \n",
       "2  0013ba9584257735e7b0380b5b831fe4                             0   \n",
       "3  003ceef9d66817ec38c877b26b013d1d                             0   \n",
       "4  005696709556b8960c0598385492e8e0                             0   \n",
       "\n",
       "   number_of_prosciens_domains  Sum_polarized_domains  normalised_polarisation  \n",
       "0                            0                      1                     -1.0  \n",
       "1                            0                      1                     -1.0  \n",
       "2                            1                      1                      1.0  \n",
       "3                            1                      1                      1.0  \n",
       "4                            1                      1                      1.0  "
      ]
     },
     "execution_count": 35,
     "metadata": {},
     "output_type": "execute_result"
    }
   ],
   "source": [
    "df_tweetscov19_unique_user_without_zero_polarisation = df_tweetscov19_unique_user_without_zero_polarisation.reset_index()\n",
    "df_tweetscov19_unique_user_without_zero_polarisation.head()"
   ]
  },
  {
   "cell_type": "markdown",
   "id": "d3ee52dc",
   "metadata": {},
   "source": [
    "***"
   ]
  },
  {
   "cell_type": "markdown",
   "id": "21e3b13b",
   "metadata": {},
   "source": [
    "***"
   ]
  },
  {
   "cell_type": "code",
   "execution_count": 36,
   "id": "c784f718",
   "metadata": {},
   "outputs": [],
   "source": [
    "df_tweetscov19 = df_tweetscov19[['Tweet_Id', 'number_of_antisciens_domains', 'number_of_prosciens_domains']]\n",
    "\n",
    "\n",
    "path = '../data/tweetscov19_tweets_science_polarized.tsv'\n",
    "\n",
    "with open(path, 'w', newline='', encoding=\"utf-8\") as out_file:\n",
    "    tsv_writer = csv.writer(out_file, delimiter=\"\\t\")\n",
    "    for idx, row in df_tweetscov19.iterrows():\n",
    "        tsv_writer.writerow(row.values.tolist())"
   ]
  },
  {
   "cell_type": "markdown",
   "id": "c4db57a9",
   "metadata": {},
   "source": [
    "***"
   ]
  },
  {
   "cell_type": "code",
   "execution_count": 33,
   "id": "fc55d26f",
   "metadata": {},
   "outputs": [],
   "source": [
    "users_with_with_atleast_one_polarized_domain = users_with_with_atleast_one_polarized_domain.reset_index()\n",
    "users_with_with_atleast_one_polarized_domain.head()\n",
    "\n",
    "pfad_tsv3 = '../data/df_tweetscov19_mai2020_science_polarized_users.tsv'\n",
    "\n",
    "with open(pfad_tsv3, 'w', newline='', encoding=\"utf-8\") as out_file:\n",
    "    tsv_writer = csv.writer(out_file, delimiter=\"\\t\")\n",
    "    for idx, row in users_with_with_atleast_one_polarized_domain.iterrows():\n",
    "        tsv_writer.writerow(row.values.tolist())"
   ]
  },
  {
   "cell_type": "markdown",
   "id": "295fd93a",
   "metadata": {},
   "source": [
    "***"
   ]
  },
  {
   "cell_type": "code",
   "execution_count": 70,
   "id": "785cf834",
   "metadata": {},
   "outputs": [],
   "source": [
    "pfad_tsv3 = '../data/tweetscov19_science_polarized_users.tsv'\n",
    "\n",
    "with open(pfad_tsv3, 'w', newline='', encoding=\"utf-8\") as out_file:\n",
    "    tsv_writer = csv.writer(out_file, delimiter=\"\\t\")\n",
    "    for idx, row in df_tweetscov19_unique_user_without_zero_polarisation.iterrows():\n",
    "        tsv_writer.writerow(row.values.tolist())"
   ]
  },
  {
   "cell_type": "markdown",
   "id": "28d5c15e",
   "metadata": {},
   "source": [
    "***"
   ]
  },
  {
   "cell_type": "markdown",
   "id": "252d04c5",
   "metadata": {},
   "source": [
    "## Polarisierungen berechnen\n",
    "### TweetsKB"
   ]
  },
  {
   "cell_type": "markdown",
   "id": "70abba15",
   "metadata": {},
   "source": [
    "***"
   ]
  },
  {
   "cell_type": "code",
   "execution_count": 44,
   "id": "0c06e05d",
   "metadata": {},
   "outputs": [
    {
     "name": "stdout",
     "output_type": "stream",
     "text": [
      "Shape : (1152147, 5)\n"
     ]
    },
    {
     "data": {
      "text/html": [
       "<div>\n",
       "<style scoped>\n",
       "    .dataframe tbody tr th:only-of-type {\n",
       "        vertical-align: middle;\n",
       "    }\n",
       "\n",
       "    .dataframe tbody tr th {\n",
       "        vertical-align: top;\n",
       "    }\n",
       "\n",
       "    .dataframe thead th {\n",
       "        text-align: right;\n",
       "    }\n",
       "</style>\n",
       "<table border=\"1\" class=\"dataframe\">\n",
       "  <thead>\n",
       "    <tr style=\"text-align: right;\">\n",
       "      <th></th>\n",
       "      <th>Tweet_Id</th>\n",
       "      <th>Username</th>\n",
       "      <th>Timestamp</th>\n",
       "      <th>Is_deleted</th>\n",
       "      <th>Domains</th>\n",
       "    </tr>\n",
       "  </thead>\n",
       "  <tbody>\n",
       "    <tr>\n",
       "      <th>0</th>\n",
       "      <td>1212161513924022277</td>\n",
       "      <td>jeffvandermeer</td>\n",
       "      <td>2020-01-01 00:00:00+00:00</td>\n",
       "      <td>False</td>\n",
       "      <td>0</td>\n",
       "    </tr>\n",
       "    <tr>\n",
       "      <th>1</th>\n",
       "      <td>1212161515823853568</td>\n",
       "      <td>BarclaysFAWSL</td>\n",
       "      <td>2020-01-01 00:00:00+00:00</td>\n",
       "      <td>False</td>\n",
       "      <td>0</td>\n",
       "    </tr>\n",
       "    <tr>\n",
       "      <th>2</th>\n",
       "      <td>1212161513248743424</td>\n",
       "      <td>Reuters</td>\n",
       "      <td>2020-01-01 00:00:00+00:00</td>\n",
       "      <td>False</td>\n",
       "      <td>0</td>\n",
       "    </tr>\n",
       "    <tr>\n",
       "      <th>3</th>\n",
       "      <td>1212161513215021056</td>\n",
       "      <td>ArcSystemWorksU</td>\n",
       "      <td>2020-01-01 00:00:00+00:00</td>\n",
       "      <td>False</td>\n",
       "      <td>0</td>\n",
       "    </tr>\n",
       "    <tr>\n",
       "      <th>4</th>\n",
       "      <td>1212161514913849346</td>\n",
       "      <td>itdoesnteggs</td>\n",
       "      <td>2020-01-01 00:00:00+00:00</td>\n",
       "      <td>False</td>\n",
       "      <td>0</td>\n",
       "    </tr>\n",
       "  </tbody>\n",
       "</table>\n",
       "</div>"
      ],
      "text/plain": [
       "              Tweet_Id         Username                  Timestamp  \\\n",
       "0  1212161513924022277   jeffvandermeer  2020-01-01 00:00:00+00:00   \n",
       "1  1212161515823853568    BarclaysFAWSL  2020-01-01 00:00:00+00:00   \n",
       "2  1212161513248743424          Reuters  2020-01-01 00:00:00+00:00   \n",
       "3  1212161513215021056  ArcSystemWorksU  2020-01-01 00:00:00+00:00   \n",
       "4  1212161514913849346     itdoesnteggs  2020-01-01 00:00:00+00:00   \n",
       "\n",
       "   Is_deleted Domains  \n",
       "0       False       0  \n",
       "1       False       0  \n",
       "2       False       0  \n",
       "3       False       0  \n",
       "4       False       0  "
      ]
     },
     "execution_count": 44,
     "metadata": {},
     "output_type": "execute_result"
    }
   ],
   "source": [
    "pfad_tsv3 = '../data/df_tweetskb_januar2020.tsv'\n",
    "\n",
    "df_tweetskb = pd.read_csv(pfad_tsv3, sep='\\t', error_bad_lines=False, names=['Tweet_Id', 'Username', 'Timestamp' ,'Is_deleted', 'Domains'])\n",
    "\n",
    "print('Shape :', df_tweetskb.shape)\n",
    "df_tweetskb.head()"
   ]
  },
  {
   "cell_type": "code",
   "execution_count": 45,
   "id": "6fb2914d",
   "metadata": {},
   "outputs": [],
   "source": [
    "df_tweetskb['Domains'] = df_tweetskb['Domains'].astype(str)\n",
    "df_tweetskb['number_of_antisciens_domains'] = df_tweetskb.apply(lambda row: get_number_of_antiscience_domains(row['Domains']) if (row['Domains'] != '0') else 0, axis=1)"
   ]
  },
  {
   "cell_type": "code",
   "execution_count": 46,
   "id": "0d6ae275",
   "metadata": {},
   "outputs": [
    {
     "name": "stdout",
     "output_type": "stream",
     "text": [
      "Number of tweets with at least one antiscience Domain:  3553\n"
     ]
    }
   ],
   "source": [
    "tweets_with_antiscience_domains = df_tweetskb[df_tweetskb['number_of_antisciens_domains'] < 0].shape\n",
    "\n",
    "print('Number of tweets with at least one antiscience Domain: ', tweets_with_antiscience_domains[0])"
   ]
  },
  {
   "cell_type": "code",
   "execution_count": 47,
   "id": "84693b26",
   "metadata": {},
   "outputs": [],
   "source": [
    "df_tweetskb['number_of_prosciens_domains'] = df_tweetskb.apply(lambda row: get_number_of_proscience_domains(row['Domains']) if (row['Domains'] != '0') else 0, axis=1)"
   ]
  },
  {
   "cell_type": "code",
   "execution_count": 48,
   "id": "7de83846",
   "metadata": {},
   "outputs": [
    {
     "name": "stdout",
     "output_type": "stream",
     "text": [
      "Number of tweets with at least one antiscience Domain:  689\n"
     ]
    }
   ],
   "source": [
    "tweets_with_proscience_domains = df_tweetskb[df_tweetskb['number_of_prosciens_domains'] > 0].shape\n",
    "\n",
    "print('Number of tweets with at least one antiscience Domain: ', tweets_with_proscience_domains[0])"
   ]
  },
  {
   "cell_type": "code",
   "execution_count": 49,
   "id": "b9f3e654",
   "metadata": {},
   "outputs": [
    {
     "name": "stderr",
     "output_type": "stream",
     "text": [
      "<ipython-input-49-532f45cc846d>:1: FutureWarning: Indexing with multiple keys (implicitly converted to a tuple of keys) will be deprecated, use a list instead.\n",
      "  df_tweetskb_unique_user = df_tweetskb.groupby('Username')[ 'number_of_antisciens_domains', 'number_of_prosciens_domains'].sum()\n"
     ]
    }
   ],
   "source": [
    "\n",
    "df_tweetskb_unique_user = df_tweetskb.groupby('Username')[ 'number_of_antisciens_domains', 'number_of_prosciens_domains'].sum()"
   ]
  },
  {
   "cell_type": "code",
   "execution_count": 50,
   "id": "083f81c8",
   "metadata": {},
   "outputs": [
    {
     "name": "stdout",
     "output_type": "stream",
     "text": [
      "Number of unique users in TweetsKB:  886760\n"
     ]
    }
   ],
   "source": [
    "unique_users = df_tweetskb_unique_user.shape\n",
    "\n",
    "print('Number of unique users in TweetsKB: ', unique_users[0])"
   ]
  },
  {
   "cell_type": "code",
   "execution_count": 51,
   "id": "b8be5f81",
   "metadata": {},
   "outputs": [
    {
     "data": {
      "text/html": [
       "<div>\n",
       "<style scoped>\n",
       "    .dataframe tbody tr th:only-of-type {\n",
       "        vertical-align: middle;\n",
       "    }\n",
       "\n",
       "    .dataframe tbody tr th {\n",
       "        vertical-align: top;\n",
       "    }\n",
       "\n",
       "    .dataframe thead th {\n",
       "        text-align: right;\n",
       "    }\n",
       "</style>\n",
       "<table border=\"1\" class=\"dataframe\">\n",
       "  <thead>\n",
       "    <tr style=\"text-align: right;\">\n",
       "      <th></th>\n",
       "      <th>number_of_antisciens_domains</th>\n",
       "      <th>number_of_prosciens_domains</th>\n",
       "    </tr>\n",
       "    <tr>\n",
       "      <th>Username</th>\n",
       "      <th></th>\n",
       "      <th></th>\n",
       "    </tr>\n",
       "  </thead>\n",
       "  <tbody>\n",
       "    <tr>\n",
       "      <th>000000911a</th>\n",
       "      <td>0</td>\n",
       "      <td>0</td>\n",
       "    </tr>\n",
       "    <tr>\n",
       "      <th>000000_aaaaaaa</th>\n",
       "      <td>0</td>\n",
       "      <td>0</td>\n",
       "    </tr>\n",
       "    <tr>\n",
       "      <th>00000codename</th>\n",
       "      <td>0</td>\n",
       "      <td>0</td>\n",
       "    </tr>\n",
       "    <tr>\n",
       "      <th>00001smhq</th>\n",
       "      <td>0</td>\n",
       "      <td>0</td>\n",
       "    </tr>\n",
       "    <tr>\n",
       "      <th>00007soni</th>\n",
       "      <td>0</td>\n",
       "      <td>0</td>\n",
       "    </tr>\n",
       "  </tbody>\n",
       "</table>\n",
       "</div>"
      ],
      "text/plain": [
       "                number_of_antisciens_domains  number_of_prosciens_domains\n",
       "Username                                                                 \n",
       "000000911a                                 0                            0\n",
       "000000_aaaaaaa                             0                            0\n",
       "00000codename                              0                            0\n",
       "00001smhq                                  0                            0\n",
       "00007soni                                  0                            0"
      ]
     },
     "execution_count": 51,
     "metadata": {},
     "output_type": "execute_result"
    }
   ],
   "source": [
    "df_tweetskb_unique_user.head()"
   ]
  },
  {
   "cell_type": "code",
   "execution_count": 52,
   "id": "4b40c366",
   "metadata": {},
   "outputs": [],
   "source": [
    "df_tweetskb_unique_user['Sum_polarized_domains'] = df_tweetskb_unique_user.apply(lambda row: (row['number_of_prosciens_domains'] - row['number_of_antisciens_domains']), axis=1)"
   ]
  },
  {
   "cell_type": "code",
   "execution_count": 53,
   "id": "4bd8ed8c",
   "metadata": {},
   "outputs": [
    {
     "data": {
      "text/html": [
       "<div>\n",
       "<style scoped>\n",
       "    .dataframe tbody tr th:only-of-type {\n",
       "        vertical-align: middle;\n",
       "    }\n",
       "\n",
       "    .dataframe tbody tr th {\n",
       "        vertical-align: top;\n",
       "    }\n",
       "\n",
       "    .dataframe thead th {\n",
       "        text-align: right;\n",
       "    }\n",
       "</style>\n",
       "<table border=\"1\" class=\"dataframe\">\n",
       "  <thead>\n",
       "    <tr style=\"text-align: right;\">\n",
       "      <th></th>\n",
       "      <th>number_of_antisciens_domains</th>\n",
       "      <th>number_of_prosciens_domains</th>\n",
       "      <th>Sum_polarized_domains</th>\n",
       "    </tr>\n",
       "    <tr>\n",
       "      <th>Username</th>\n",
       "      <th></th>\n",
       "      <th></th>\n",
       "      <th></th>\n",
       "    </tr>\n",
       "  </thead>\n",
       "  <tbody>\n",
       "    <tr>\n",
       "      <th>1776Stonewall</th>\n",
       "      <td>-7</td>\n",
       "      <td>0</td>\n",
       "      <td>7</td>\n",
       "    </tr>\n",
       "    <tr>\n",
       "      <th>623Sis</th>\n",
       "      <td>-3</td>\n",
       "      <td>0</td>\n",
       "      <td>3</td>\n",
       "    </tr>\n",
       "    <tr>\n",
       "      <th>AIIAmericanGirI</th>\n",
       "      <td>-7</td>\n",
       "      <td>0</td>\n",
       "      <td>7</td>\n",
       "    </tr>\n",
       "    <tr>\n",
       "      <th>ASimplePatriot</th>\n",
       "      <td>-7</td>\n",
       "      <td>0</td>\n",
       "      <td>7</td>\n",
       "    </tr>\n",
       "    <tr>\n",
       "      <th>AinsworthKeith</th>\n",
       "      <td>-3</td>\n",
       "      <td>0</td>\n",
       "      <td>3</td>\n",
       "    </tr>\n",
       "  </tbody>\n",
       "</table>\n",
       "</div>"
      ],
      "text/plain": [
       "                 number_of_antisciens_domains  number_of_prosciens_domains  \\\n",
       "Username                                                                     \n",
       "1776Stonewall                              -7                            0   \n",
       "623Sis                                     -3                            0   \n",
       "AIIAmericanGirI                            -7                            0   \n",
       "ASimplePatriot                             -7                            0   \n",
       "AinsworthKeith                             -3                            0   \n",
       "\n",
       "                 Sum_polarized_domains  \n",
       "Username                                \n",
       "1776Stonewall                        7  \n",
       "623Sis                               3  \n",
       "AIIAmericanGirI                      7  \n",
       "ASimplePatriot                       7  \n",
       "AinsworthKeith                       3  "
      ]
     },
     "execution_count": 53,
     "metadata": {},
     "output_type": "execute_result"
    }
   ],
   "source": [
    "df_tweetskb_unique_user[df_tweetskb_unique_user['number_of_antisciens_domains']<-2].head()"
   ]
  },
  {
   "cell_type": "code",
   "execution_count": 54,
   "id": "a1a28c7a",
   "metadata": {},
   "outputs": [],
   "source": [
    "df_tweetskb_unique_user['normalised_polarisation'] = df_tweetskb_unique_user.apply(lambda row: (row['number_of_antisciens_domains'] + row['number_of_prosciens_domains']) / row['Sum_polarized_domains'] if row['Sum_polarized_domains'] != 0 else 0, axis=1)"
   ]
  },
  {
   "cell_type": "code",
   "execution_count": 55,
   "id": "5be43dd7",
   "metadata": {},
   "outputs": [
    {
     "name": "stdout",
     "output_type": "stream",
     "text": [
      "df tweetskb unique users with atleast one polarized domain:  2713\n"
     ]
    }
   ],
   "source": [
    "df_tweetskb_unique_users_with_atleast_one_polarized_domain= df_tweetskb_unique_user[df_tweetskb_unique_user['Sum_polarized_domains'] >0]\n",
    "\n",
    "print('df tweetskb unique users with atleast one polarized domain: ', df_tweetskb_unique_users_with_atleast_one_polarized_domain.shape[0])"
   ]
  },
  {
   "cell_type": "code",
   "execution_count": 56,
   "id": "20af5ac9",
   "metadata": {},
   "outputs": [
    {
     "data": {
      "text/html": [
       "<div>\n",
       "<style scoped>\n",
       "    .dataframe tbody tr th:only-of-type {\n",
       "        vertical-align: middle;\n",
       "    }\n",
       "\n",
       "    .dataframe tbody tr th {\n",
       "        vertical-align: top;\n",
       "    }\n",
       "\n",
       "    .dataframe thead th {\n",
       "        text-align: right;\n",
       "    }\n",
       "</style>\n",
       "<table border=\"1\" class=\"dataframe\">\n",
       "  <thead>\n",
       "    <tr style=\"text-align: right;\">\n",
       "      <th></th>\n",
       "      <th>number_of_antisciens_domains</th>\n",
       "      <th>number_of_prosciens_domains</th>\n",
       "      <th>Sum_polarized_domains</th>\n",
       "      <th>normalised_polarisation</th>\n",
       "    </tr>\n",
       "    <tr>\n",
       "      <th>Username</th>\n",
       "      <th></th>\n",
       "      <th></th>\n",
       "      <th></th>\n",
       "      <th></th>\n",
       "    </tr>\n",
       "  </thead>\n",
       "  <tbody>\n",
       "    <tr>\n",
       "      <th>EcoInternetDrGB</th>\n",
       "      <td>-1</td>\n",
       "      <td>1</td>\n",
       "      <td>2</td>\n",
       "      <td>0.0</td>\n",
       "    </tr>\n",
       "    <tr>\n",
       "      <th>FionasRevenge</th>\n",
       "      <td>-1</td>\n",
       "      <td>1</td>\n",
       "      <td>2</td>\n",
       "      <td>0.0</td>\n",
       "    </tr>\n",
       "    <tr>\n",
       "      <th>LotusOak2</th>\n",
       "      <td>-4</td>\n",
       "      <td>4</td>\n",
       "      <td>8</td>\n",
       "      <td>0.0</td>\n",
       "    </tr>\n",
       "    <tr>\n",
       "      <th>QAnonNotables</th>\n",
       "      <td>-1</td>\n",
       "      <td>1</td>\n",
       "      <td>2</td>\n",
       "      <td>0.0</td>\n",
       "    </tr>\n",
       "    <tr>\n",
       "      <th>downloadbucks</th>\n",
       "      <td>-1</td>\n",
       "      <td>1</td>\n",
       "      <td>2</td>\n",
       "      <td>0.0</td>\n",
       "    </tr>\n",
       "  </tbody>\n",
       "</table>\n",
       "</div>"
      ],
      "text/plain": [
       "                 number_of_antisciens_domains  number_of_prosciens_domains  \\\n",
       "Username                                                                     \n",
       "EcoInternetDrGB                            -1                            1   \n",
       "FionasRevenge                              -1                            1   \n",
       "LotusOak2                                  -4                            4   \n",
       "QAnonNotables                              -1                            1   \n",
       "downloadbucks                              -1                            1   \n",
       "\n",
       "                 Sum_polarized_domains  normalised_polarisation  \n",
       "Username                                                         \n",
       "EcoInternetDrGB                      2                      0.0  \n",
       "FionasRevenge                        2                      0.0  \n",
       "LotusOak2                            8                      0.0  \n",
       "QAnonNotables                        2                      0.0  \n",
       "downloadbucks                        2                      0.0  "
      ]
     },
     "execution_count": 56,
     "metadata": {},
     "output_type": "execute_result"
    }
   ],
   "source": [
    "df_tweetskb_unique_users_with_atleast_one_polarized_domain[df_tweetskb_unique_users_with_atleast_one_polarized_domain['normalised_polarisation']==0].head()"
   ]
  },
  {
   "cell_type": "code",
   "execution_count": 57,
   "id": "796521de",
   "metadata": {},
   "outputs": [],
   "source": [
    "#df_tweetskb_unique_user_without_zero_polarisation = df_tweetskb_unique_user[df_tweetskb_unique_user['normalised_polarisation'] != 0]"
   ]
  },
  {
   "cell_type": "code",
   "execution_count": 58,
   "id": "e01cf141",
   "metadata": {},
   "outputs": [],
   "source": [
    "#number_of_science_polarized_users = df_tweetskb_unique_user_without_zero_polarisation.shape\n",
    "\n",
    "#print('Number of science polarized users in TWeetsKB: ', number_of_science_polarized_users[0])"
   ]
  },
  {
   "cell_type": "code",
   "execution_count": 48,
   "id": "f0a3cf50",
   "metadata": {},
   "outputs": [
    {
     "name": "stdout",
     "output_type": "stream",
     "text": [
      "Number of proscience polarized users in TWeetsKB:  2424\n"
     ]
    }
   ],
   "source": [
    "number_of_proscience_polarized_users = df_tweetskb_unique_user_without_zero_polarisation[df_tweetskb_unique_user_without_zero_polarisation['normalised_polarisation'] > 0].shape\n",
    "\n",
    "print('Number of proscience polarized users in TWeetsKB: ', number_of_proscience_polarized_users[0])"
   ]
  },
  {
   "cell_type": "code",
   "execution_count": 51,
   "id": "b8132fec",
   "metadata": {},
   "outputs": [
    {
     "name": "stdout",
     "output_type": "stream",
     "text": [
      "Number of antiscience polarized users in TWeetsKB:  10493\n"
     ]
    }
   ],
   "source": [
    "number_of_antiscience_polarized_users = df_tweetskb_unique_user_without_zero_polarisation[df_tweetskb_unique_user_without_zero_polarisation['normalised_polarisation'] < 0].shape\n",
    "\n",
    "print('Number of antiscience polarized users in TWeetsKB: ', number_of_antiscience_polarized_users[0])"
   ]
  },
  {
   "cell_type": "code",
   "execution_count": 52,
   "id": "1848f791",
   "metadata": {},
   "outputs": [
    {
     "data": {
      "text/html": [
       "<div>\n",
       "<style scoped>\n",
       "    .dataframe tbody tr th:only-of-type {\n",
       "        vertical-align: middle;\n",
       "    }\n",
       "\n",
       "    .dataframe tbody tr th {\n",
       "        vertical-align: top;\n",
       "    }\n",
       "\n",
       "    .dataframe thead th {\n",
       "        text-align: right;\n",
       "    }\n",
       "</style>\n",
       "<table border=\"1\" class=\"dataframe\">\n",
       "  <thead>\n",
       "    <tr style=\"text-align: right;\">\n",
       "      <th></th>\n",
       "      <th>Username</th>\n",
       "      <th>number_of_antisciens_domains</th>\n",
       "      <th>number_of_prosciens_domains</th>\n",
       "      <th>Sum_polarized_domains</th>\n",
       "      <th>normalised_polarisation</th>\n",
       "    </tr>\n",
       "  </thead>\n",
       "  <tbody>\n",
       "    <tr>\n",
       "      <th>0</th>\n",
       "      <td>000000hSure</td>\n",
       "      <td>-1</td>\n",
       "      <td>0</td>\n",
       "      <td>1</td>\n",
       "      <td>-1.0</td>\n",
       "    </tr>\n",
       "    <tr>\n",
       "      <th>1</th>\n",
       "      <td>01splcheck</td>\n",
       "      <td>-1</td>\n",
       "      <td>0</td>\n",
       "      <td>1</td>\n",
       "      <td>-1.0</td>\n",
       "    </tr>\n",
       "    <tr>\n",
       "      <th>2</th>\n",
       "      <td>01sth02</td>\n",
       "      <td>0</td>\n",
       "      <td>1</td>\n",
       "      <td>1</td>\n",
       "      <td>1.0</td>\n",
       "    </tr>\n",
       "    <tr>\n",
       "      <th>3</th>\n",
       "      <td>0Bettymowery2</td>\n",
       "      <td>-1</td>\n",
       "      <td>0</td>\n",
       "      <td>1</td>\n",
       "      <td>-1.0</td>\n",
       "    </tr>\n",
       "    <tr>\n",
       "      <th>4</th>\n",
       "      <td>0Ludicris5</td>\n",
       "      <td>-2</td>\n",
       "      <td>0</td>\n",
       "      <td>2</td>\n",
       "      <td>-1.0</td>\n",
       "    </tr>\n",
       "  </tbody>\n",
       "</table>\n",
       "</div>"
      ],
      "text/plain": [
       "        Username  number_of_antisciens_domains  number_of_prosciens_domains  \\\n",
       "0    000000hSure                            -1                            0   \n",
       "1     01splcheck                            -1                            0   \n",
       "2        01sth02                             0                            1   \n",
       "3  0Bettymowery2                            -1                            0   \n",
       "4     0Ludicris5                            -2                            0   \n",
       "\n",
       "   Sum_polarized_domains  normalised_polarisation  \n",
       "0                      1                     -1.0  \n",
       "1                      1                     -1.0  \n",
       "2                      1                      1.0  \n",
       "3                      1                     -1.0  \n",
       "4                      2                     -1.0  "
      ]
     },
     "execution_count": 52,
     "metadata": {},
     "output_type": "execute_result"
    }
   ],
   "source": [
    "df_tweetskb_unique_user_without_zero_polarisation = df_tweetskb_unique_user_without_zero_polarisation.reset_index()\n",
    "df_tweetskb_unique_user_without_zero_polarisation.head()"
   ]
  },
  {
   "cell_type": "markdown",
   "id": "3fe00d32",
   "metadata": {},
   "source": [
    "***"
   ]
  },
  {
   "cell_type": "markdown",
   "id": "1b4bf50f",
   "metadata": {},
   "source": [
    "***"
   ]
  },
  {
   "cell_type": "code",
   "execution_count": 53,
   "id": "f6363d2b",
   "metadata": {},
   "outputs": [],
   "source": [
    "df_tweetskb = df_tweetskb[['Tweet_Id', 'number_of_antisciens_domains', 'number_of_prosciens_domains']]\n",
    "\n",
    "path = '../data/tweetskb_tweets_science_polarized.tsv'\n",
    "\n",
    "with open(path, 'w', newline='', encoding=\"utf-8\") as out_file:\n",
    "    tsv_writer = csv.writer(out_file, delimiter=\"\\t\")\n",
    "    for idx, row in df_tweetskb.iterrows():\n",
    "        tsv_writer.writerow(row.values.tolist())"
   ]
  },
  {
   "cell_type": "markdown",
   "id": "ae97aeb8",
   "metadata": {},
   "source": [
    "***"
   ]
  },
  {
   "cell_type": "code",
   "execution_count": 59,
   "id": "53cc2470",
   "metadata": {},
   "outputs": [],
   "source": [
    "df_tweetskb_unique_users_with_atleast_one_polarized_domain = df_tweetskb_unique_users_with_atleast_one_polarized_domain.reset_index()\n",
    "df_tweetskb_unique_users_with_atleast_one_polarized_domain.head()\n",
    "\n",
    "pfad_tsv3 = '../data/df_tweetskb_januar2020_science_polarized_users.tsv'\n",
    "\n",
    "with open(pfad_tsv3, 'w', newline='', encoding=\"utf-8\") as out_file:\n",
    "    tsv_writer = csv.writer(out_file, delimiter=\"\\t\")\n",
    "    for idx, row in df_tweetskb_unique_users_with_atleast_one_polarized_domain.iterrows():\n",
    "        tsv_writer.writerow(row.values.tolist())"
   ]
  },
  {
   "cell_type": "markdown",
   "id": "9c7a4bca",
   "metadata": {},
   "source": [
    "***"
   ]
  },
  {
   "cell_type": "code",
   "execution_count": 98,
   "id": "f56478e0",
   "metadata": {},
   "outputs": [],
   "source": [
    "pfad_tsv3 = '../data/tweetskb_science_polarized_users.tsv'\n",
    "\n",
    "with open(pfad_tsv3, 'w', newline='', encoding=\"utf-8\") as out_file:\n",
    "    tsv_writer = csv.writer(out_file, delimiter=\"\\t\")\n",
    "    for idx, row in df_tweetskb_unique_user_without_zero_polarisation.iterrows():\n",
    "        tsv_writer.writerow(row.values.tolist())"
   ]
  }
 ],
 "metadata": {
  "kernelspec": {
   "display_name": "Python 3",
   "language": "python",
   "name": "python3"
  },
  "language_info": {
   "codemirror_mode": {
    "name": "ipython",
    "version": 3
   },
   "file_extension": ".py",
   "mimetype": "text/x-python",
   "name": "python",
   "nbconvert_exporter": "python",
   "pygments_lexer": "ipython3",
   "version": "3.8.8"
  }
 },
 "nbformat": 4,
 "nbformat_minor": 5
}
