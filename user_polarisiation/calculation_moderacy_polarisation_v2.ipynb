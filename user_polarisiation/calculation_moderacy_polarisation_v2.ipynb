{
 "cells": [
  {
   "cell_type": "code",
   "execution_count": 3,
   "id": "48980fe5",
   "metadata": {},
   "outputs": [],
   "source": [
    "#CSV Bibliothek importieren \n",
    "import csv\n",
    "#Pandas importieren und als pd bezeichnen\n",
    "import pandas as pd\n",
    "#Numpy importieren und als np bezeichnen \n",
    "import numpy as np\n",
    "#Json Biliothek importieren\n",
    "import json\n",
    "#Obere Schranke für die Größe der Daten auf 100,000,000 setzen  \n",
    "csv.field_size_limit(100000000)\n",
    "#Maximale Anzahl von Zeilen und Spalten Zeigen \n",
    "pd.options.display.max_columns = None\n",
    "pd.options.display.max_rows = None\n",
    "#Extraktion der Domäne\n",
    "import tldextract"
   ]
  },
  {
   "cell_type": "markdown",
   "id": "0323ee4a",
   "metadata": {},
   "source": [
    "***"
   ]
  },
  {
   "cell_type": "markdown",
   "id": "8302f676",
   "metadata": {},
   "source": [
    "***"
   ]
  },
  {
   "cell_type": "markdown",
   "id": "91d9ada2",
   "metadata": {},
   "source": [
    "### Moderate"
   ]
  },
  {
   "cell_type": "code",
   "execution_count": 5,
   "id": "334bee4c",
   "metadata": {},
   "outputs": [],
   "source": [
    "path = '../data/df_domains_moderate_564.tsv'\n",
    "\n",
    "df_domains_moderate = pd.read_csv(path, sep='\\t', error_bad_lines=False)"
   ]
  },
  {
   "cell_type": "code",
   "execution_count": 6,
   "id": "f109882b",
   "metadata": {},
   "outputs": [
    {
     "name": "stdout",
     "output_type": "stream",
     "text": [
      "Shape:  (564, 9)\n"
     ]
    },
    {
     "data": {
      "text/html": [
       "<div>\n",
       "<style scoped>\n",
       "    .dataframe tbody tr th:only-of-type {\n",
       "        vertical-align: middle;\n",
       "    }\n",
       "\n",
       "    .dataframe tbody tr th {\n",
       "        vertical-align: top;\n",
       "    }\n",
       "\n",
       "    .dataframe thead th {\n",
       "        text-align: right;\n",
       "    }\n",
       "</style>\n",
       "<table border=\"1\" class=\"dataframe\">\n",
       "  <thead>\n",
       "    <tr style=\"text-align: right;\">\n",
       "      <th></th>\n",
       "      <th>domain</th>\n",
       "      <th>mediabias_leftcenterbias_x</th>\n",
       "      <th>mediabias_leftbias_x</th>\n",
       "      <th>mediabias_rightcenterbias_x</th>\n",
       "      <th>mediabias_rightbias_x</th>\n",
       "      <th>mediabias_leftcenterbias_y</th>\n",
       "      <th>mediabias_leftbias_y</th>\n",
       "      <th>mediabias_rightcenterbias_y</th>\n",
       "      <th>mediabias_rightbias_y</th>\n",
       "    </tr>\n",
       "  </thead>\n",
       "  <tbody>\n",
       "    <tr>\n",
       "      <th>0</th>\n",
       "      <td>armscontrol.org</td>\n",
       "      <td>NaN</td>\n",
       "      <td>NaN</td>\n",
       "      <td>NaN</td>\n",
       "      <td>NaN</td>\n",
       "      <td>1.0</td>\n",
       "      <td>0.0</td>\n",
       "      <td>0.0</td>\n",
       "      <td>0.0</td>\n",
       "    </tr>\n",
       "    <tr>\n",
       "      <th>1</th>\n",
       "      <td>omplex.com</td>\n",
       "      <td>NaN</td>\n",
       "      <td>NaN</td>\n",
       "      <td>NaN</td>\n",
       "      <td>NaN</td>\n",
       "      <td>1.0</td>\n",
       "      <td>0.0</td>\n",
       "      <td>0.0</td>\n",
       "      <td>0.0</td>\n",
       "    </tr>\n",
       "    <tr>\n",
       "      <th>2</th>\n",
       "      <td>mainichi.jp</td>\n",
       "      <td>NaN</td>\n",
       "      <td>NaN</td>\n",
       "      <td>NaN</td>\n",
       "      <td>NaN</td>\n",
       "      <td>1.0</td>\n",
       "      <td>0.0</td>\n",
       "      <td>0.0</td>\n",
       "      <td>0.0</td>\n",
       "    </tr>\n",
       "    <tr>\n",
       "      <th>3</th>\n",
       "      <td>tcf.org</td>\n",
       "      <td>NaN</td>\n",
       "      <td>NaN</td>\n",
       "      <td>NaN</td>\n",
       "      <td>NaN</td>\n",
       "      <td>1.0</td>\n",
       "      <td>0.0</td>\n",
       "      <td>0.0</td>\n",
       "      <td>0.0</td>\n",
       "    </tr>\n",
       "    <tr>\n",
       "      <th>4</th>\n",
       "      <td>yaleglobal.yale.edu</td>\n",
       "      <td>NaN</td>\n",
       "      <td>NaN</td>\n",
       "      <td>NaN</td>\n",
       "      <td>NaN</td>\n",
       "      <td>1.0</td>\n",
       "      <td>0.0</td>\n",
       "      <td>0.0</td>\n",
       "      <td>0.0</td>\n",
       "    </tr>\n",
       "  </tbody>\n",
       "</table>\n",
       "</div>"
      ],
      "text/plain": [
       "                domain  mediabias_leftcenterbias_x  mediabias_leftbias_x  \\\n",
       "0      armscontrol.org                         NaN                   NaN   \n",
       "1           omplex.com                         NaN                   NaN   \n",
       "2          mainichi.jp                         NaN                   NaN   \n",
       "3              tcf.org                         NaN                   NaN   \n",
       "4  yaleglobal.yale.edu                         NaN                   NaN   \n",
       "\n",
       "   mediabias_rightcenterbias_x  mediabias_rightbias_x  \\\n",
       "0                          NaN                    NaN   \n",
       "1                          NaN                    NaN   \n",
       "2                          NaN                    NaN   \n",
       "3                          NaN                    NaN   \n",
       "4                          NaN                    NaN   \n",
       "\n",
       "   mediabias_leftcenterbias_y  mediabias_leftbias_y  \\\n",
       "0                         1.0                   0.0   \n",
       "1                         1.0                   0.0   \n",
       "2                         1.0                   0.0   \n",
       "3                         1.0                   0.0   \n",
       "4                         1.0                   0.0   \n",
       "\n",
       "   mediabias_rightcenterbias_y  mediabias_rightbias_y  \n",
       "0                          0.0                    0.0  \n",
       "1                          0.0                    0.0  \n",
       "2                          0.0                    0.0  \n",
       "3                          0.0                    0.0  \n",
       "4                          0.0                    0.0  "
      ]
     },
     "execution_count": 6,
     "metadata": {},
     "output_type": "execute_result"
    }
   ],
   "source": [
    "print('Shape: ', df_domains_moderate.shape)\n",
    "df_domains_moderate.head()"
   ]
  },
  {
   "cell_type": "code",
   "execution_count": 8,
   "id": "061f957b",
   "metadata": {},
   "outputs": [
    {
     "data": {
      "text/plain": [
       "564"
      ]
     },
     "execution_count": 8,
     "metadata": {},
     "output_type": "execute_result"
    }
   ],
   "source": [
    "df_domains_moderate.domain.unique().shape[0]"
   ]
  },
  {
   "cell_type": "code",
   "execution_count": 9,
   "id": "f59014b4",
   "metadata": {},
   "outputs": [
    {
     "data": {
      "text/plain": [
       "564"
      ]
     },
     "execution_count": 9,
     "metadata": {},
     "output_type": "execute_result"
    }
   ],
   "source": [
    "list_moderat_domains = df_domains_moderate.domain.to_list()\n",
    "len(list_moderat_domains)"
   ]
  },
  {
   "cell_type": "markdown",
   "id": "1c291278",
   "metadata": {},
   "source": [
    "***"
   ]
  },
  {
   "cell_type": "markdown",
   "id": "ba157f46",
   "metadata": {},
   "source": [
    "***"
   ]
  },
  {
   "cell_type": "markdown",
   "id": "058e9d66",
   "metadata": {},
   "source": [
    "## Hardline"
   ]
  },
  {
   "cell_type": "code",
   "execution_count": 10,
   "id": "f3c25496",
   "metadata": {},
   "outputs": [],
   "source": [
    "path = '../data/df_domains_left_right.tsv'\n",
    "\n",
    "df_liberal_conservative_domains = pd.read_csv(path, sep='\\t', error_bad_lines=False)"
   ]
  },
  {
   "cell_type": "code",
   "execution_count": 11,
   "id": "56ec1541",
   "metadata": {},
   "outputs": [
    {
     "name": "stdout",
     "output_type": "stream",
     "text": [
      "Shape:  (310, 5)\n"
     ]
    },
    {
     "data": {
      "text/html": [
       "<div>\n",
       "<style scoped>\n",
       "    .dataframe tbody tr th:only-of-type {\n",
       "        vertical-align: middle;\n",
       "    }\n",
       "\n",
       "    .dataframe tbody tr th {\n",
       "        vertical-align: top;\n",
       "    }\n",
       "\n",
       "    .dataframe thead th {\n",
       "        text-align: right;\n",
       "    }\n",
       "</style>\n",
       "<table border=\"1\" class=\"dataframe\">\n",
       "  <thead>\n",
       "    <tr style=\"text-align: right;\">\n",
       "      <th></th>\n",
       "      <th>domain</th>\n",
       "      <th>mediabias_leftcenterbias</th>\n",
       "      <th>mediabias_leftbias</th>\n",
       "      <th>mediabias_rightcenterbias</th>\n",
       "      <th>mediabias_rightbias</th>\n",
       "    </tr>\n",
       "  </thead>\n",
       "  <tbody>\n",
       "    <tr>\n",
       "      <th>644</th>\n",
       "      <td>19thnews.org</td>\n",
       "      <td>0.0</td>\n",
       "      <td>1.0</td>\n",
       "      <td>0.0</td>\n",
       "      <td>0.0</td>\n",
       "    </tr>\n",
       "    <tr>\n",
       "      <th>645</th>\n",
       "      <td>Accountable.US</td>\n",
       "      <td>0.0</td>\n",
       "      <td>1.0</td>\n",
       "      <td>0.0</td>\n",
       "      <td>0.0</td>\n",
       "    </tr>\n",
       "    <tr>\n",
       "      <th>646</th>\n",
       "      <td>Brut.Media</td>\n",
       "      <td>0.0</td>\n",
       "      <td>1.0</td>\n",
       "      <td>0.0</td>\n",
       "      <td>0.0</td>\n",
       "    </tr>\n",
       "    <tr>\n",
       "      <th>647</th>\n",
       "      <td>JoeBiden.com</td>\n",
       "      <td>0.0</td>\n",
       "      <td>1.0</td>\n",
       "      <td>0.0</td>\n",
       "      <td>0.0</td>\n",
       "    </tr>\n",
       "    <tr>\n",
       "      <th>648</th>\n",
       "      <td>Them.us</td>\n",
       "      <td>0.0</td>\n",
       "      <td>1.0</td>\n",
       "      <td>0.0</td>\n",
       "      <td>0.0</td>\n",
       "    </tr>\n",
       "  </tbody>\n",
       "</table>\n",
       "</div>"
      ],
      "text/plain": [
       "             domain  mediabias_leftcenterbias  mediabias_leftbias  \\\n",
       "644    19thnews.org                       0.0                 1.0   \n",
       "645  Accountable.US                       0.0                 1.0   \n",
       "646      Brut.Media                       0.0                 1.0   \n",
       "647    JoeBiden.com                       0.0                 1.0   \n",
       "648         Them.us                       0.0                 1.0   \n",
       "\n",
       "     mediabias_rightcenterbias  mediabias_rightbias  \n",
       "644                        0.0                  0.0  \n",
       "645                        0.0                  0.0  \n",
       "646                        0.0                  0.0  \n",
       "647                        0.0                  0.0  \n",
       "648                        0.0                  0.0  "
      ]
     },
     "execution_count": 11,
     "metadata": {},
     "output_type": "execute_result"
    }
   ],
   "source": [
    "df_domain_leftbias = df_liberal_conservative_domains[df_liberal_conservative_domains['mediabias_leftbias'] == 1]\n",
    "\n",
    "print('Shape: ', df_domain_leftbias.shape)\n",
    "df_domain_leftbias.head()"
   ]
  },
  {
   "cell_type": "code",
   "execution_count": 13,
   "id": "09b8f28d",
   "metadata": {},
   "outputs": [
    {
     "name": "stdout",
     "output_type": "stream",
     "text": [
      "Shape:  (254, 5)\n"
     ]
    },
    {
     "data": {
      "text/html": [
       "<div>\n",
       "<style scoped>\n",
       "    .dataframe tbody tr th:only-of-type {\n",
       "        vertical-align: middle;\n",
       "    }\n",
       "\n",
       "    .dataframe tbody tr th {\n",
       "        vertical-align: top;\n",
       "    }\n",
       "\n",
       "    .dataframe thead th {\n",
       "        text-align: right;\n",
       "    }\n",
       "</style>\n",
       "<table border=\"1\" class=\"dataframe\">\n",
       "  <thead>\n",
       "    <tr style=\"text-align: right;\">\n",
       "      <th></th>\n",
       "      <th>domain</th>\n",
       "      <th>mediabias_leftcenterbias</th>\n",
       "      <th>mediabias_leftbias</th>\n",
       "      <th>mediabias_rightcenterbias</th>\n",
       "      <th>mediabias_rightbias</th>\n",
       "    </tr>\n",
       "  </thead>\n",
       "  <tbody>\n",
       "    <tr>\n",
       "      <th>1335</th>\n",
       "      <td>2ndvote.com</td>\n",
       "      <td>0.0</td>\n",
       "      <td>0.0</td>\n",
       "      <td>0.0</td>\n",
       "      <td>1.0</td>\n",
       "    </tr>\n",
       "    <tr>\n",
       "      <th>1336</th>\n",
       "      <td>Abort73.com</td>\n",
       "      <td>0.0</td>\n",
       "      <td>0.0</td>\n",
       "      <td>0.0</td>\n",
       "      <td>1.0</td>\n",
       "    </tr>\n",
       "    <tr>\n",
       "      <th>1337</th>\n",
       "      <td>Aish.com</td>\n",
       "      <td>0.0</td>\n",
       "      <td>0.0</td>\n",
       "      <td>0.0</td>\n",
       "      <td>1.0</td>\n",
       "    </tr>\n",
       "    <tr>\n",
       "      <th>1338</th>\n",
       "      <td>AsianNews.it</td>\n",
       "      <td>0.0</td>\n",
       "      <td>0.0</td>\n",
       "      <td>0.0</td>\n",
       "      <td>1.0</td>\n",
       "    </tr>\n",
       "    <tr>\n",
       "      <th>1339</th>\n",
       "      <td>CAGW.org</td>\n",
       "      <td>0.0</td>\n",
       "      <td>0.0</td>\n",
       "      <td>0.0</td>\n",
       "      <td>1.0</td>\n",
       "    </tr>\n",
       "  </tbody>\n",
       "</table>\n",
       "</div>"
      ],
      "text/plain": [
       "            domain  mediabias_leftcenterbias  mediabias_leftbias  \\\n",
       "1335   2ndvote.com                       0.0                 0.0   \n",
       "1336   Abort73.com                       0.0                 0.0   \n",
       "1337      Aish.com                       0.0                 0.0   \n",
       "1338  AsianNews.it                       0.0                 0.0   \n",
       "1339      CAGW.org                       0.0                 0.0   \n",
       "\n",
       "      mediabias_rightcenterbias  mediabias_rightbias  \n",
       "1335                        0.0                  1.0  \n",
       "1336                        0.0                  1.0  \n",
       "1337                        0.0                  1.0  \n",
       "1338                        0.0                  1.0  \n",
       "1339                        0.0                  1.0  "
      ]
     },
     "execution_count": 13,
     "metadata": {},
     "output_type": "execute_result"
    }
   ],
   "source": [
    "df_domain_rightbias = df_liberal_conservative_domains[df_liberal_conservative_domains['mediabias_rightbias'] == 1]\n",
    "\n",
    "print('Shape: ', df_domain_rightbias.shape)\n",
    "df_domain_rightbias.head()"
   ]
  },
  {
   "cell_type": "code",
   "execution_count": 14,
   "id": "b3d9071a",
   "metadata": {},
   "outputs": [
    {
     "data": {
      "text/plain": [
       "564"
      ]
     },
     "execution_count": 14,
     "metadata": {},
     "output_type": "execute_result"
    }
   ],
   "source": [
    "df_right = df_domain_rightbias.merge(df_domain_leftbias, on = 'domain', how = 'outer')\n",
    "len(df_right)"
   ]
  },
  {
   "cell_type": "code",
   "execution_count": 15,
   "id": "4bbe982d",
   "metadata": {},
   "outputs": [
    {
     "data": {
      "text/plain": [
       "564"
      ]
     },
     "execution_count": 15,
     "metadata": {},
     "output_type": "execute_result"
    }
   ],
   "source": [
    "\n",
    "list_hardline_domains = df_right.domain.to_list()\n",
    "len(list_hardline_domains)"
   ]
  },
  {
   "cell_type": "markdown",
   "id": "5beae86a",
   "metadata": {},
   "source": [
    "## TweetsCov19"
   ]
  },
  {
   "cell_type": "markdown",
   "id": "962b82f9",
   "metadata": {},
   "source": [
    "***"
   ]
  },
  {
   "cell_type": "code",
   "execution_count": 16,
   "id": "ce8a2fc4",
   "metadata": {},
   "outputs": [
    {
     "name": "stdout",
     "output_type": "stream",
     "text": [
      "Shape : (9409841, 4)\n"
     ]
    },
    {
     "data": {
      "text/html": [
       "<div>\n",
       "<style scoped>\n",
       "    .dataframe tbody tr th:only-of-type {\n",
       "        vertical-align: middle;\n",
       "    }\n",
       "\n",
       "    .dataframe tbody tr th {\n",
       "        vertical-align: top;\n",
       "    }\n",
       "\n",
       "    .dataframe thead th {\n",
       "        text-align: right;\n",
       "    }\n",
       "</style>\n",
       "<table border=\"1\" class=\"dataframe\">\n",
       "  <thead>\n",
       "    <tr style=\"text-align: right;\">\n",
       "      <th></th>\n",
       "      <th>Tweet_Id</th>\n",
       "      <th>Username</th>\n",
       "      <th>Is_deleted</th>\n",
       "      <th>Domains</th>\n",
       "    </tr>\n",
       "  </thead>\n",
       "  <tbody>\n",
       "    <tr>\n",
       "      <th>0</th>\n",
       "      <td>1178791637348212736</td>\n",
       "      <td>c57d4fb895c5f4a33d2a2b24709f93b5</td>\n",
       "      <td>True</td>\n",
       "      <td>0</td>\n",
       "    </tr>\n",
       "    <tr>\n",
       "      <th>1</th>\n",
       "      <td>1178791641601232896</td>\n",
       "      <td>627f7d4ef584ba33a676a4ebcb861cdb</td>\n",
       "      <td>False</td>\n",
       "      <td>catholicnewsagency.com</td>\n",
       "    </tr>\n",
       "    <tr>\n",
       "      <th>2</th>\n",
       "      <td>1178791643509612547</td>\n",
       "      <td>7966d5716c1c4f33591b17755184e3d6</td>\n",
       "      <td>False</td>\n",
       "      <td>0</td>\n",
       "    </tr>\n",
       "    <tr>\n",
       "      <th>3</th>\n",
       "      <td>1178791644214235137</td>\n",
       "      <td>f17996c036ed4cd981f5448fe00d9ed2</td>\n",
       "      <td>False</td>\n",
       "      <td>0</td>\n",
       "    </tr>\n",
       "    <tr>\n",
       "      <th>4</th>\n",
       "      <td>1178791645371875329</td>\n",
       "      <td>32a54e5f6d8a67de1bffd2e689594dc8</td>\n",
       "      <td>False</td>\n",
       "      <td>0</td>\n",
       "    </tr>\n",
       "  </tbody>\n",
       "</table>\n",
       "</div>"
      ],
      "text/plain": [
       "              Tweet_Id                          Username  Is_deleted  \\\n",
       "0  1178791637348212736  c57d4fb895c5f4a33d2a2b24709f93b5        True   \n",
       "1  1178791641601232896  627f7d4ef584ba33a676a4ebcb861cdb       False   \n",
       "2  1178791643509612547  7966d5716c1c4f33591b17755184e3d6       False   \n",
       "3  1178791644214235137  f17996c036ed4cd981f5448fe00d9ed2       False   \n",
       "4  1178791645371875329  32a54e5f6d8a67de1bffd2e689594dc8       False   \n",
       "\n",
       "                  Domains  \n",
       "0                       0  \n",
       "1  catholicnewsagency.com  \n",
       "2                       0  \n",
       "3                       0  \n",
       "4                       0  "
      ]
     },
     "execution_count": 16,
     "metadata": {},
     "output_type": "execute_result"
    }
   ],
   "source": [
    "path_tweetscov19 = '../data/tweetscov19_id_isdeleted_domains.tsv'\n",
    "\n",
    "df_tweetscov19 = pd.read_csv(path_tweetscov19, sep='\\t', error_bad_lines=False, names=['Tweet_Id', 'Username', 'Is_deleted', 'Domains'])\n",
    "\n",
    "print('Shape :', df_tweetscov19.shape)\n",
    "df_tweetscov19.head()"
   ]
  },
  {
   "cell_type": "code",
   "execution_count": 17,
   "id": "705c23d9",
   "metadata": {},
   "outputs": [],
   "source": [
    "def get_number_of_moderate_domains(domains):\n",
    "    domains_list = domains.split()\n",
    "    score = 0\n",
    "    for i in range(0, len(domains_list)):\n",
    "        \n",
    "        #d = tldextract.extract(domains_list[i])\n",
    "        #d = d.domain\n",
    "        \n",
    "        d = domains_list[i]\n",
    "        \n",
    "        if d in list_moderat_domains:\n",
    "            score -=  1\n",
    "        \n",
    "    return score"
   ]
  },
  {
   "cell_type": "code",
   "execution_count": 18,
   "id": "24454a3d",
   "metadata": {},
   "outputs": [],
   "source": [
    "df_tweetscov19['Domains'] = df_tweetscov19['Domains'].astype(str)\n",
    "\n",
    "df_tweetscov19['Number_of_moderate_domains'] = df_tweetscov19.apply(lambda row: get_number_of_moderate_domains(row['Domains']) if (row['Domains'] != '0') else 0, axis=1)"
   ]
  },
  {
   "cell_type": "code",
   "execution_count": 19,
   "id": "c9733ad6",
   "metadata": {},
   "outputs": [
    {
     "data": {
      "text/html": [
       "<div>\n",
       "<style scoped>\n",
       "    .dataframe tbody tr th:only-of-type {\n",
       "        vertical-align: middle;\n",
       "    }\n",
       "\n",
       "    .dataframe tbody tr th {\n",
       "        vertical-align: top;\n",
       "    }\n",
       "\n",
       "    .dataframe thead th {\n",
       "        text-align: right;\n",
       "    }\n",
       "</style>\n",
       "<table border=\"1\" class=\"dataframe\">\n",
       "  <thead>\n",
       "    <tr style=\"text-align: right;\">\n",
       "      <th></th>\n",
       "      <th>Tweet_Id</th>\n",
       "      <th>Username</th>\n",
       "      <th>Is_deleted</th>\n",
       "      <th>Domains</th>\n",
       "      <th>Number_of_moderate_domains</th>\n",
       "    </tr>\n",
       "  </thead>\n",
       "  <tbody>\n",
       "    <tr>\n",
       "      <th>0</th>\n",
       "      <td>1178791637348212736</td>\n",
       "      <td>c57d4fb895c5f4a33d2a2b24709f93b5</td>\n",
       "      <td>True</td>\n",
       "      <td>0</td>\n",
       "      <td>0</td>\n",
       "    </tr>\n",
       "    <tr>\n",
       "      <th>1</th>\n",
       "      <td>1178791641601232896</td>\n",
       "      <td>627f7d4ef584ba33a676a4ebcb861cdb</td>\n",
       "      <td>False</td>\n",
       "      <td>catholicnewsagency.com</td>\n",
       "      <td>0</td>\n",
       "    </tr>\n",
       "    <tr>\n",
       "      <th>2</th>\n",
       "      <td>1178791643509612547</td>\n",
       "      <td>7966d5716c1c4f33591b17755184e3d6</td>\n",
       "      <td>False</td>\n",
       "      <td>0</td>\n",
       "      <td>0</td>\n",
       "    </tr>\n",
       "    <tr>\n",
       "      <th>3</th>\n",
       "      <td>1178791644214235137</td>\n",
       "      <td>f17996c036ed4cd981f5448fe00d9ed2</td>\n",
       "      <td>False</td>\n",
       "      <td>0</td>\n",
       "      <td>0</td>\n",
       "    </tr>\n",
       "    <tr>\n",
       "      <th>4</th>\n",
       "      <td>1178791645371875329</td>\n",
       "      <td>32a54e5f6d8a67de1bffd2e689594dc8</td>\n",
       "      <td>False</td>\n",
       "      <td>0</td>\n",
       "      <td>0</td>\n",
       "    </tr>\n",
       "  </tbody>\n",
       "</table>\n",
       "</div>"
      ],
      "text/plain": [
       "              Tweet_Id                          Username  Is_deleted  \\\n",
       "0  1178791637348212736  c57d4fb895c5f4a33d2a2b24709f93b5        True   \n",
       "1  1178791641601232896  627f7d4ef584ba33a676a4ebcb861cdb       False   \n",
       "2  1178791643509612547  7966d5716c1c4f33591b17755184e3d6       False   \n",
       "3  1178791644214235137  f17996c036ed4cd981f5448fe00d9ed2       False   \n",
       "4  1178791645371875329  32a54e5f6d8a67de1bffd2e689594dc8       False   \n",
       "\n",
       "                  Domains  Number_of_moderate_domains  \n",
       "0                       0                           0  \n",
       "1  catholicnewsagency.com                           0  \n",
       "2                       0                           0  \n",
       "3                       0                           0  \n",
       "4                       0                           0  "
      ]
     },
     "execution_count": 19,
     "metadata": {},
     "output_type": "execute_result"
    }
   ],
   "source": [
    "df_tweetscov19.head()"
   ]
  },
  {
   "cell_type": "code",
   "execution_count": 20,
   "id": "a30409a8",
   "metadata": {},
   "outputs": [
    {
     "name": "stdout",
     "output_type": "stream",
     "text": [
      "Number of Tweets with at least one moderate domains:  264415\n"
     ]
    }
   ],
   "source": [
    "tweets_with_moderate_domains = df_tweetscov19[df_tweetscov19['Number_of_moderate_domains'] < 0].shape\n",
    "\n",
    "print('Number of Tweets with at least one moderate domains: ', tweets_with_moderate_domains[0])"
   ]
  },
  {
   "cell_type": "code",
   "execution_count": 21,
   "id": "be4d302c",
   "metadata": {},
   "outputs": [],
   "source": [
    "def get_number_of_hardline_domains(domains):\n",
    "    domains_list = domains.split()\n",
    "    score = 0\n",
    "    for i in range(0, len(domains_list)):\n",
    "        \n",
    "        #d = tldextract.extract(domains_list[i])\n",
    "        #d = d.domain\n",
    "       \n",
    "        d = domains_list[i]\n",
    "        \n",
    "        if d in list_hardline_domains:\n",
    "            score +=  1\n",
    "        \n",
    "    return score"
   ]
  },
  {
   "cell_type": "code",
   "execution_count": 22,
   "id": "5fbdc8c4",
   "metadata": {},
   "outputs": [],
   "source": [
    "df_tweetscov19['Number_of_hardline_domains'] = df_tweetscov19.apply(lambda row: get_number_of_hardline_domains(row['Domains']) if (row['Domains'] != '0') else 0, axis=1)"
   ]
  },
  {
   "cell_type": "code",
   "execution_count": 23,
   "id": "989ab8a9",
   "metadata": {},
   "outputs": [
    {
     "data": {
      "text/html": [
       "<div>\n",
       "<style scoped>\n",
       "    .dataframe tbody tr th:only-of-type {\n",
       "        vertical-align: middle;\n",
       "    }\n",
       "\n",
       "    .dataframe tbody tr th {\n",
       "        vertical-align: top;\n",
       "    }\n",
       "\n",
       "    .dataframe thead th {\n",
       "        text-align: right;\n",
       "    }\n",
       "</style>\n",
       "<table border=\"1\" class=\"dataframe\">\n",
       "  <thead>\n",
       "    <tr style=\"text-align: right;\">\n",
       "      <th></th>\n",
       "      <th>Tweet_Id</th>\n",
       "      <th>Username</th>\n",
       "      <th>Is_deleted</th>\n",
       "      <th>Domains</th>\n",
       "      <th>Number_of_moderate_domains</th>\n",
       "      <th>Number_of_hardline_domains</th>\n",
       "    </tr>\n",
       "  </thead>\n",
       "  <tbody>\n",
       "    <tr>\n",
       "      <th>0</th>\n",
       "      <td>1178791637348212736</td>\n",
       "      <td>c57d4fb895c5f4a33d2a2b24709f93b5</td>\n",
       "      <td>True</td>\n",
       "      <td>0</td>\n",
       "      <td>0</td>\n",
       "      <td>0</td>\n",
       "    </tr>\n",
       "    <tr>\n",
       "      <th>1</th>\n",
       "      <td>1178791641601232896</td>\n",
       "      <td>627f7d4ef584ba33a676a4ebcb861cdb</td>\n",
       "      <td>False</td>\n",
       "      <td>catholicnewsagency.com</td>\n",
       "      <td>0</td>\n",
       "      <td>0</td>\n",
       "    </tr>\n",
       "    <tr>\n",
       "      <th>2</th>\n",
       "      <td>1178791643509612547</td>\n",
       "      <td>7966d5716c1c4f33591b17755184e3d6</td>\n",
       "      <td>False</td>\n",
       "      <td>0</td>\n",
       "      <td>0</td>\n",
       "      <td>0</td>\n",
       "    </tr>\n",
       "    <tr>\n",
       "      <th>3</th>\n",
       "      <td>1178791644214235137</td>\n",
       "      <td>f17996c036ed4cd981f5448fe00d9ed2</td>\n",
       "      <td>False</td>\n",
       "      <td>0</td>\n",
       "      <td>0</td>\n",
       "      <td>0</td>\n",
       "    </tr>\n",
       "    <tr>\n",
       "      <th>4</th>\n",
       "      <td>1178791645371875329</td>\n",
       "      <td>32a54e5f6d8a67de1bffd2e689594dc8</td>\n",
       "      <td>False</td>\n",
       "      <td>0</td>\n",
       "      <td>0</td>\n",
       "      <td>0</td>\n",
       "    </tr>\n",
       "  </tbody>\n",
       "</table>\n",
       "</div>"
      ],
      "text/plain": [
       "              Tweet_Id                          Username  Is_deleted  \\\n",
       "0  1178791637348212736  c57d4fb895c5f4a33d2a2b24709f93b5        True   \n",
       "1  1178791641601232896  627f7d4ef584ba33a676a4ebcb861cdb       False   \n",
       "2  1178791643509612547  7966d5716c1c4f33591b17755184e3d6       False   \n",
       "3  1178791644214235137  f17996c036ed4cd981f5448fe00d9ed2       False   \n",
       "4  1178791645371875329  32a54e5f6d8a67de1bffd2e689594dc8       False   \n",
       "\n",
       "                  Domains  Number_of_moderate_domains  \\\n",
       "0                       0                           0   \n",
       "1  catholicnewsagency.com                           0   \n",
       "2                       0                           0   \n",
       "3                       0                           0   \n",
       "4                       0                           0   \n",
       "\n",
       "   Number_of_hardline_domains  \n",
       "0                           0  \n",
       "1                           0  \n",
       "2                           0  \n",
       "3                           0  \n",
       "4                           0  "
      ]
     },
     "execution_count": 23,
     "metadata": {},
     "output_type": "execute_result"
    }
   ],
   "source": [
    "df_tweetscov19.head()"
   ]
  },
  {
   "cell_type": "code",
   "execution_count": 26,
   "id": "bb980814",
   "metadata": {},
   "outputs": [
    {
     "name": "stdout",
     "output_type": "stream",
     "text": [
      "tweets with at least one hardline domain:  158160\n"
     ]
    }
   ],
   "source": [
    "tweets_with_atleast_one_hardline_domain = df_tweetscov19[df_tweetscov19['Number_of_hardline_domains'] > 0].shape\n",
    "\n",
    "print('tweets with at least one hardline domain: ', tweets_with_atleast_one_hardline_domain[0])"
   ]
  },
  {
   "cell_type": "code",
   "execution_count": 27,
   "id": "99b4077c",
   "metadata": {},
   "outputs": [
    {
     "name": "stderr",
     "output_type": "stream",
     "text": [
      "<ipython-input-27-235e324510c5>:1: FutureWarning: Indexing with multiple keys (implicitly converted to a tuple of keys) will be deprecated, use a list instead.\n",
      "  df_tweetscov19_unique_user = df_tweetscov19.groupby('Username')['Number_of_moderate_domains', 'Number_of_hardline_domains'].sum()\n"
     ]
    }
   ],
   "source": [
    "df_tweetscov19_unique_user = df_tweetscov19.groupby('Username')['Number_of_moderate_domains', 'Number_of_hardline_domains'].sum()"
   ]
  },
  {
   "cell_type": "code",
   "execution_count": 28,
   "id": "aa76ce45",
   "metadata": {},
   "outputs": [
    {
     "name": "stdout",
     "output_type": "stream",
     "text": [
      "Number of unique users in TweetsCOV19:  4095876\n"
     ]
    }
   ],
   "source": [
    "unique_users = df_tweetscov19_unique_user.shape\n",
    "\n",
    "print('Number of unique users in TweetsCOV19: ', unique_users[0])"
   ]
  },
  {
   "cell_type": "code",
   "execution_count": 29,
   "id": "9d74fb31",
   "metadata": {},
   "outputs": [
    {
     "data": {
      "text/html": [
       "<div>\n",
       "<style scoped>\n",
       "    .dataframe tbody tr th:only-of-type {\n",
       "        vertical-align: middle;\n",
       "    }\n",
       "\n",
       "    .dataframe tbody tr th {\n",
       "        vertical-align: top;\n",
       "    }\n",
       "\n",
       "    .dataframe thead th {\n",
       "        text-align: right;\n",
       "    }\n",
       "</style>\n",
       "<table border=\"1\" class=\"dataframe\">\n",
       "  <thead>\n",
       "    <tr style=\"text-align: right;\">\n",
       "      <th></th>\n",
       "      <th>Number_of_moderate_domains</th>\n",
       "      <th>Number_of_hardline_domains</th>\n",
       "    </tr>\n",
       "    <tr>\n",
       "      <th>Username</th>\n",
       "      <th></th>\n",
       "      <th></th>\n",
       "    </tr>\n",
       "  </thead>\n",
       "  <tbody>\n",
       "    <tr>\n",
       "      <th>00008de3f61d5f04329ee6867d5475b9</th>\n",
       "      <td>0</td>\n",
       "      <td>1</td>\n",
       "    </tr>\n",
       "    <tr>\n",
       "      <th>00012a177385cd6e7590e2acb3f206e3</th>\n",
       "      <td>0</td>\n",
       "      <td>1</td>\n",
       "    </tr>\n",
       "    <tr>\n",
       "      <th>0001a863c159122c712c53258cf13c8b</th>\n",
       "      <td>0</td>\n",
       "      <td>1</td>\n",
       "    </tr>\n",
       "    <tr>\n",
       "      <th>000353a523eec0084e195fafc082a6a9</th>\n",
       "      <td>0</td>\n",
       "      <td>1</td>\n",
       "    </tr>\n",
       "    <tr>\n",
       "      <th>0003e8427d9272dd24f2bcb66b871ea9</th>\n",
       "      <td>0</td>\n",
       "      <td>2</td>\n",
       "    </tr>\n",
       "  </tbody>\n",
       "</table>\n",
       "</div>"
      ],
      "text/plain": [
       "                                  Number_of_moderate_domains  \\\n",
       "Username                                                       \n",
       "00008de3f61d5f04329ee6867d5475b9                           0   \n",
       "00012a177385cd6e7590e2acb3f206e3                           0   \n",
       "0001a863c159122c712c53258cf13c8b                           0   \n",
       "000353a523eec0084e195fafc082a6a9                           0   \n",
       "0003e8427d9272dd24f2bcb66b871ea9                           0   \n",
       "\n",
       "                                  Number_of_hardline_domains  \n",
       "Username                                                      \n",
       "00008de3f61d5f04329ee6867d5475b9                           1  \n",
       "00012a177385cd6e7590e2acb3f206e3                           1  \n",
       "0001a863c159122c712c53258cf13c8b                           1  \n",
       "000353a523eec0084e195fafc082a6a9                           1  \n",
       "0003e8427d9272dd24f2bcb66b871ea9                           2  "
      ]
     },
     "execution_count": 29,
     "metadata": {},
     "output_type": "execute_result"
    }
   ],
   "source": [
    "df_tweetscov19_unique_user[df_tweetscov19_unique_user['Number_of_hardline_domains']>0].head()"
   ]
  },
  {
   "cell_type": "code",
   "execution_count": 30,
   "id": "eb54ace2",
   "metadata": {},
   "outputs": [],
   "source": [
    "df_tweetscov19_unique_user['Sum_polarized_domains'] = df_tweetscov19_unique_user.apply(lambda row: (row['Number_of_hardline_domains'] - row['Number_of_moderate_domains']), axis=1)"
   ]
  },
  {
   "cell_type": "code",
   "execution_count": 31,
   "id": "2877036a",
   "metadata": {},
   "outputs": [
    {
     "data": {
      "text/html": [
       "<div>\n",
       "<style scoped>\n",
       "    .dataframe tbody tr th:only-of-type {\n",
       "        vertical-align: middle;\n",
       "    }\n",
       "\n",
       "    .dataframe tbody tr th {\n",
       "        vertical-align: top;\n",
       "    }\n",
       "\n",
       "    .dataframe thead th {\n",
       "        text-align: right;\n",
       "    }\n",
       "</style>\n",
       "<table border=\"1\" class=\"dataframe\">\n",
       "  <thead>\n",
       "    <tr style=\"text-align: right;\">\n",
       "      <th></th>\n",
       "      <th>Number_of_moderate_domains</th>\n",
       "      <th>Number_of_hardline_domains</th>\n",
       "      <th>Sum_polarized_domains</th>\n",
       "    </tr>\n",
       "    <tr>\n",
       "      <th>Username</th>\n",
       "      <th></th>\n",
       "      <th></th>\n",
       "      <th></th>\n",
       "    </tr>\n",
       "  </thead>\n",
       "  <tbody>\n",
       "    <tr>\n",
       "      <th>00008ca06f863b962f72cc9167d7978a</th>\n",
       "      <td>-1</td>\n",
       "      <td>0</td>\n",
       "      <td>1</td>\n",
       "    </tr>\n",
       "    <tr>\n",
       "      <th>00016e20a3865cb74581803c27d27b89</th>\n",
       "      <td>-1</td>\n",
       "      <td>0</td>\n",
       "      <td>1</td>\n",
       "    </tr>\n",
       "    <tr>\n",
       "      <th>000220d9d43b6b1ad7dbbdbfbcc53371</th>\n",
       "      <td>-1</td>\n",
       "      <td>0</td>\n",
       "      <td>1</td>\n",
       "    </tr>\n",
       "    <tr>\n",
       "      <th>0003fb847751a16fae91117947a259b7</th>\n",
       "      <td>-1</td>\n",
       "      <td>0</td>\n",
       "      <td>1</td>\n",
       "    </tr>\n",
       "    <tr>\n",
       "      <th>00053d9e1dc6f9efac2648ecd1d4ce03</th>\n",
       "      <td>-1</td>\n",
       "      <td>0</td>\n",
       "      <td>1</td>\n",
       "    </tr>\n",
       "  </tbody>\n",
       "</table>\n",
       "</div>"
      ],
      "text/plain": [
       "                                  Number_of_moderate_domains  \\\n",
       "Username                                                       \n",
       "00008ca06f863b962f72cc9167d7978a                          -1   \n",
       "00016e20a3865cb74581803c27d27b89                          -1   \n",
       "000220d9d43b6b1ad7dbbdbfbcc53371                          -1   \n",
       "0003fb847751a16fae91117947a259b7                          -1   \n",
       "00053d9e1dc6f9efac2648ecd1d4ce03                          -1   \n",
       "\n",
       "                                  Number_of_hardline_domains  \\\n",
       "Username                                                       \n",
       "00008ca06f863b962f72cc9167d7978a                           0   \n",
       "00016e20a3865cb74581803c27d27b89                           0   \n",
       "000220d9d43b6b1ad7dbbdbfbcc53371                           0   \n",
       "0003fb847751a16fae91117947a259b7                           0   \n",
       "00053d9e1dc6f9efac2648ecd1d4ce03                           0   \n",
       "\n",
       "                                  Sum_polarized_domains  \n",
       "Username                                                 \n",
       "00008ca06f863b962f72cc9167d7978a                      1  \n",
       "00016e20a3865cb74581803c27d27b89                      1  \n",
       "000220d9d43b6b1ad7dbbdbfbcc53371                      1  \n",
       "0003fb847751a16fae91117947a259b7                      1  \n",
       "00053d9e1dc6f9efac2648ecd1d4ce03                      1  "
      ]
     },
     "execution_count": 31,
     "metadata": {},
     "output_type": "execute_result"
    }
   ],
   "source": [
    "df_tweetscov19_unique_user[df_tweetscov19_unique_user['Number_of_moderate_domains']<0].head()"
   ]
  },
  {
   "cell_type": "code",
   "execution_count": 32,
   "id": "41b74775",
   "metadata": {},
   "outputs": [],
   "source": [
    "df_tweetscov19_unique_user['normalised_polarisation'] = df_tweetscov19_unique_user.apply(lambda row: (row['Number_of_moderate_domains'] + row['Number_of_hardline_domains']) / row['Sum_polarized_domains'] if row['Sum_polarized_domains'] != 0 else 0, axis=1)"
   ]
  },
  {
   "cell_type": "code",
   "execution_count": 33,
   "id": "67f970a9",
   "metadata": {},
   "outputs": [
    {
     "data": {
      "text/html": [
       "<div>\n",
       "<style scoped>\n",
       "    .dataframe tbody tr th:only-of-type {\n",
       "        vertical-align: middle;\n",
       "    }\n",
       "\n",
       "    .dataframe tbody tr th {\n",
       "        vertical-align: top;\n",
       "    }\n",
       "\n",
       "    .dataframe thead th {\n",
       "        text-align: right;\n",
       "    }\n",
       "</style>\n",
       "<table border=\"1\" class=\"dataframe\">\n",
       "  <thead>\n",
       "    <tr style=\"text-align: right;\">\n",
       "      <th></th>\n",
       "      <th>Number_of_moderate_domains</th>\n",
       "      <th>Number_of_hardline_domains</th>\n",
       "      <th>Sum_polarized_domains</th>\n",
       "      <th>normalised_polarisation</th>\n",
       "    </tr>\n",
       "    <tr>\n",
       "      <th>Username</th>\n",
       "      <th></th>\n",
       "      <th></th>\n",
       "      <th></th>\n",
       "      <th></th>\n",
       "    </tr>\n",
       "  </thead>\n",
       "  <tbody>\n",
       "    <tr>\n",
       "      <th>00065a00b971b5e1629d504e0ddf2da0</th>\n",
       "      <td>-4</td>\n",
       "      <td>2</td>\n",
       "      <td>6</td>\n",
       "      <td>-0.333333</td>\n",
       "    </tr>\n",
       "    <tr>\n",
       "      <th>0013aaa4da0461c58d0b1306af75af02</th>\n",
       "      <td>-12</td>\n",
       "      <td>20</td>\n",
       "      <td>32</td>\n",
       "      <td>0.250000</td>\n",
       "    </tr>\n",
       "    <tr>\n",
       "      <th>0028b1c0f33fc484e49c2ce2820cd4ae</th>\n",
       "      <td>-13</td>\n",
       "      <td>0</td>\n",
       "      <td>13</td>\n",
       "      <td>-1.000000</td>\n",
       "    </tr>\n",
       "    <tr>\n",
       "      <th>002f506ad2fa8c2cb570fa65d135de67</th>\n",
       "      <td>-8</td>\n",
       "      <td>12</td>\n",
       "      <td>20</td>\n",
       "      <td>0.200000</td>\n",
       "    </tr>\n",
       "    <tr>\n",
       "      <th>002f6fd90a56d5e3512012305fbf65f7</th>\n",
       "      <td>-5</td>\n",
       "      <td>0</td>\n",
       "      <td>5</td>\n",
       "      <td>-1.000000</td>\n",
       "    </tr>\n",
       "  </tbody>\n",
       "</table>\n",
       "</div>"
      ],
      "text/plain": [
       "                                  Number_of_moderate_domains  \\\n",
       "Username                                                       \n",
       "00065a00b971b5e1629d504e0ddf2da0                          -4   \n",
       "0013aaa4da0461c58d0b1306af75af02                         -12   \n",
       "0028b1c0f33fc484e49c2ce2820cd4ae                         -13   \n",
       "002f506ad2fa8c2cb570fa65d135de67                          -8   \n",
       "002f6fd90a56d5e3512012305fbf65f7                          -5   \n",
       "\n",
       "                                  Number_of_hardline_domains  \\\n",
       "Username                                                       \n",
       "00065a00b971b5e1629d504e0ddf2da0                           2   \n",
       "0013aaa4da0461c58d0b1306af75af02                          20   \n",
       "0028b1c0f33fc484e49c2ce2820cd4ae                           0   \n",
       "002f506ad2fa8c2cb570fa65d135de67                          12   \n",
       "002f6fd90a56d5e3512012305fbf65f7                           0   \n",
       "\n",
       "                                  Sum_polarized_domains  \\\n",
       "Username                                                  \n",
       "00065a00b971b5e1629d504e0ddf2da0                      6   \n",
       "0013aaa4da0461c58d0b1306af75af02                     32   \n",
       "0028b1c0f33fc484e49c2ce2820cd4ae                     13   \n",
       "002f506ad2fa8c2cb570fa65d135de67                     20   \n",
       "002f6fd90a56d5e3512012305fbf65f7                      5   \n",
       "\n",
       "                                  normalised_polarisation  \n",
       "Username                                                   \n",
       "00065a00b971b5e1629d504e0ddf2da0                -0.333333  \n",
       "0013aaa4da0461c58d0b1306af75af02                 0.250000  \n",
       "0028b1c0f33fc484e49c2ce2820cd4ae                -1.000000  \n",
       "002f506ad2fa8c2cb570fa65d135de67                 0.200000  \n",
       "002f6fd90a56d5e3512012305fbf65f7                -1.000000  "
      ]
     },
     "execution_count": 33,
     "metadata": {},
     "output_type": "execute_result"
    }
   ],
   "source": [
    "df_tweetscov19_unique_user[df_tweetscov19_unique_user['Number_of_moderate_domains']<-2].head()"
   ]
  },
  {
   "cell_type": "code",
   "execution_count": 34,
   "id": "c9f409c2",
   "metadata": {},
   "outputs": [
    {
     "name": "stdout",
     "output_type": "stream",
     "text": [
      "Number of users with with at least one polarized domain:  129134\n"
     ]
    }
   ],
   "source": [
    "users_with_with_atleast_one_polarized_domain = df_tweetscov19_unique_user[df_tweetscov19_unique_user['Sum_polarized_domains']>0]\n",
    "\n",
    "print('Number of users with with at least one polarized domain: ',users_with_with_atleast_one_polarized_domain.shape[0])"
   ]
  },
  {
   "cell_type": "code",
   "execution_count": 35,
   "id": "5d5c9163",
   "metadata": {},
   "outputs": [
    {
     "data": {
      "text/html": [
       "<div>\n",
       "<style scoped>\n",
       "    .dataframe tbody tr th:only-of-type {\n",
       "        vertical-align: middle;\n",
       "    }\n",
       "\n",
       "    .dataframe tbody tr th {\n",
       "        vertical-align: top;\n",
       "    }\n",
       "\n",
       "    .dataframe thead th {\n",
       "        text-align: right;\n",
       "    }\n",
       "</style>\n",
       "<table border=\"1\" class=\"dataframe\">\n",
       "  <thead>\n",
       "    <tr style=\"text-align: right;\">\n",
       "      <th></th>\n",
       "      <th>Number_of_moderate_domains</th>\n",
       "      <th>Number_of_hardline_domains</th>\n",
       "      <th>Sum_polarized_domains</th>\n",
       "      <th>normalised_polarisation</th>\n",
       "    </tr>\n",
       "    <tr>\n",
       "      <th>Username</th>\n",
       "      <th></th>\n",
       "      <th></th>\n",
       "      <th></th>\n",
       "      <th></th>\n",
       "    </tr>\n",
       "  </thead>\n",
       "  <tbody>\n",
       "    <tr>\n",
       "      <th>00084b153bbf7f4a8c1df3b638e07765</th>\n",
       "      <td>-1</td>\n",
       "      <td>1</td>\n",
       "      <td>2</td>\n",
       "      <td>0.0</td>\n",
       "    </tr>\n",
       "    <tr>\n",
       "      <th>000e23685aded21e1a41fbf670acf7ca</th>\n",
       "      <td>-1</td>\n",
       "      <td>1</td>\n",
       "      <td>2</td>\n",
       "      <td>0.0</td>\n",
       "    </tr>\n",
       "    <tr>\n",
       "      <th>0021ab6c166eb3b5b3c8139bdc3ae3f1</th>\n",
       "      <td>-1</td>\n",
       "      <td>1</td>\n",
       "      <td>2</td>\n",
       "      <td>0.0</td>\n",
       "    </tr>\n",
       "    <tr>\n",
       "      <th>0037a52b5297dd03726565e8aab3df54</th>\n",
       "      <td>-1</td>\n",
       "      <td>1</td>\n",
       "      <td>2</td>\n",
       "      <td>0.0</td>\n",
       "    </tr>\n",
       "    <tr>\n",
       "      <th>003939c963d399c0bf67f3d5d0058864</th>\n",
       "      <td>-1</td>\n",
       "      <td>1</td>\n",
       "      <td>2</td>\n",
       "      <td>0.0</td>\n",
       "    </tr>\n",
       "  </tbody>\n",
       "</table>\n",
       "</div>"
      ],
      "text/plain": [
       "                                  Number_of_moderate_domains  \\\n",
       "Username                                                       \n",
       "00084b153bbf7f4a8c1df3b638e07765                          -1   \n",
       "000e23685aded21e1a41fbf670acf7ca                          -1   \n",
       "0021ab6c166eb3b5b3c8139bdc3ae3f1                          -1   \n",
       "0037a52b5297dd03726565e8aab3df54                          -1   \n",
       "003939c963d399c0bf67f3d5d0058864                          -1   \n",
       "\n",
       "                                  Number_of_hardline_domains  \\\n",
       "Username                                                       \n",
       "00084b153bbf7f4a8c1df3b638e07765                           1   \n",
       "000e23685aded21e1a41fbf670acf7ca                           1   \n",
       "0021ab6c166eb3b5b3c8139bdc3ae3f1                           1   \n",
       "0037a52b5297dd03726565e8aab3df54                           1   \n",
       "003939c963d399c0bf67f3d5d0058864                           1   \n",
       "\n",
       "                                  Sum_polarized_domains  \\\n",
       "Username                                                  \n",
       "00084b153bbf7f4a8c1df3b638e07765                      2   \n",
       "000e23685aded21e1a41fbf670acf7ca                      2   \n",
       "0021ab6c166eb3b5b3c8139bdc3ae3f1                      2   \n",
       "0037a52b5297dd03726565e8aab3df54                      2   \n",
       "003939c963d399c0bf67f3d5d0058864                      2   \n",
       "\n",
       "                                  normalised_polarisation  \n",
       "Username                                                   \n",
       "00084b153bbf7f4a8c1df3b638e07765                      0.0  \n",
       "000e23685aded21e1a41fbf670acf7ca                      0.0  \n",
       "0021ab6c166eb3b5b3c8139bdc3ae3f1                      0.0  \n",
       "0037a52b5297dd03726565e8aab3df54                      0.0  \n",
       "003939c963d399c0bf67f3d5d0058864                      0.0  "
      ]
     },
     "execution_count": 35,
     "metadata": {},
     "output_type": "execute_result"
    }
   ],
   "source": [
    "users_with_with_atleast_one_polarized_domain[users_with_with_atleast_one_polarized_domain['normalised_polarisation'] == 0].head()"
   ]
  },
  {
   "cell_type": "code",
   "execution_count": 36,
   "id": "6f180522",
   "metadata": {},
   "outputs": [],
   "source": [
    "#df_tweetscov19_unique_users_without_zero_polarisation = df_tweetscov19_unique_user[df_tweetscov19_unique_user['normalised_polarisation'] != 0]"
   ]
  },
  {
   "cell_type": "code",
   "execution_count": 37,
   "id": "8cace1a0",
   "metadata": {},
   "outputs": [],
   "source": [
    "#unique_polarised_users = df_tweetscov19_unique_users_without_zero_polarisation.shape\n",
    "\n",
    "#print('Number of recognised polarized users in TweetsCOV19: ', unique_polarised_users[0])"
   ]
  },
  {
   "cell_type": "code",
   "execution_count": 38,
   "id": "9a5a82c8",
   "metadata": {},
   "outputs": [
    {
     "name": "stdout",
     "output_type": "stream",
     "text": [
      "Number of recognised hardline users in TweetsCOV19:  40879\n"
     ]
    }
   ],
   "source": [
    "number_of_hardline_users = users_with_with_atleast_one_polarized_domain[users_with_with_atleast_one_polarized_domain['normalised_polarisation'] > 0].shape\n",
    "\n",
    "print('Number of recognised hardline users in TweetsCOV19: ',number_of_hardline_users[0] )"
   ]
  },
  {
   "cell_type": "code",
   "execution_count": 39,
   "id": "56ec7e1f",
   "metadata": {},
   "outputs": [
    {
     "name": "stdout",
     "output_type": "stream",
     "text": [
      "Number of recognised moderate users in TweetsCOV19:  83364\n"
     ]
    }
   ],
   "source": [
    "number_of_moderate_users = users_with_with_atleast_one_polarized_domain[users_with_with_atleast_one_polarized_domain['normalised_polarisation'] < 0].shape\n",
    "\n",
    "print('Number of recognised moderate users in TweetsCOV19: ', number_of_moderate_users[0])"
   ]
  },
  {
   "cell_type": "code",
   "execution_count": 40,
   "id": "ad92bb16",
   "metadata": {},
   "outputs": [
    {
     "data": {
      "text/html": [
       "<div>\n",
       "<style scoped>\n",
       "    .dataframe tbody tr th:only-of-type {\n",
       "        vertical-align: middle;\n",
       "    }\n",
       "\n",
       "    .dataframe tbody tr th {\n",
       "        vertical-align: top;\n",
       "    }\n",
       "\n",
       "    .dataframe thead th {\n",
       "        text-align: right;\n",
       "    }\n",
       "</style>\n",
       "<table border=\"1\" class=\"dataframe\">\n",
       "  <thead>\n",
       "    <tr style=\"text-align: right;\">\n",
       "      <th></th>\n",
       "      <th>Username</th>\n",
       "      <th>Number_of_moderate_domains</th>\n",
       "      <th>Number_of_hardline_domains</th>\n",
       "      <th>Sum_polarized_domains</th>\n",
       "      <th>normalised_polarisation</th>\n",
       "    </tr>\n",
       "  </thead>\n",
       "  <tbody>\n",
       "    <tr>\n",
       "      <th>0</th>\n",
       "      <td>00008ca06f863b962f72cc9167d7978a</td>\n",
       "      <td>-1</td>\n",
       "      <td>0</td>\n",
       "      <td>1</td>\n",
       "      <td>-1.0</td>\n",
       "    </tr>\n",
       "    <tr>\n",
       "      <th>1</th>\n",
       "      <td>00008de3f61d5f04329ee6867d5475b9</td>\n",
       "      <td>0</td>\n",
       "      <td>1</td>\n",
       "      <td>1</td>\n",
       "      <td>1.0</td>\n",
       "    </tr>\n",
       "    <tr>\n",
       "      <th>2</th>\n",
       "      <td>00012a177385cd6e7590e2acb3f206e3</td>\n",
       "      <td>0</td>\n",
       "      <td>1</td>\n",
       "      <td>1</td>\n",
       "      <td>1.0</td>\n",
       "    </tr>\n",
       "    <tr>\n",
       "      <th>3</th>\n",
       "      <td>00016e20a3865cb74581803c27d27b89</td>\n",
       "      <td>-1</td>\n",
       "      <td>0</td>\n",
       "      <td>1</td>\n",
       "      <td>-1.0</td>\n",
       "    </tr>\n",
       "    <tr>\n",
       "      <th>4</th>\n",
       "      <td>0001a863c159122c712c53258cf13c8b</td>\n",
       "      <td>0</td>\n",
       "      <td>1</td>\n",
       "      <td>1</td>\n",
       "      <td>1.0</td>\n",
       "    </tr>\n",
       "  </tbody>\n",
       "</table>\n",
       "</div>"
      ],
      "text/plain": [
       "                           Username  Number_of_moderate_domains  \\\n",
       "0  00008ca06f863b962f72cc9167d7978a                          -1   \n",
       "1  00008de3f61d5f04329ee6867d5475b9                           0   \n",
       "2  00012a177385cd6e7590e2acb3f206e3                           0   \n",
       "3  00016e20a3865cb74581803c27d27b89                          -1   \n",
       "4  0001a863c159122c712c53258cf13c8b                           0   \n",
       "\n",
       "   Number_of_hardline_domains  Sum_polarized_domains  normalised_polarisation  \n",
       "0                           0                      1                     -1.0  \n",
       "1                           1                      1                      1.0  \n",
       "2                           1                      1                      1.0  \n",
       "3                           0                      1                     -1.0  \n",
       "4                           1                      1                      1.0  "
      ]
     },
     "execution_count": 40,
     "metadata": {},
     "output_type": "execute_result"
    }
   ],
   "source": [
    "users_with_with_atleast_one_polarized_domain = users_with_with_atleast_one_polarized_domain.reset_index()\n",
    "users_with_with_atleast_one_polarized_domain.head()"
   ]
  },
  {
   "cell_type": "markdown",
   "id": "a6701dc5",
   "metadata": {},
   "source": [
    "***"
   ]
  },
  {
   "cell_type": "markdown",
   "id": "6ae0cc7b",
   "metadata": {},
   "source": [
    "***"
   ]
  },
  {
   "cell_type": "code",
   "execution_count": 41,
   "id": "451f73e9",
   "metadata": {},
   "outputs": [],
   "source": [
    "df_tweetscov19 = df_tweetscov19 [['Tweet_Id', 'Number_of_moderate_domains', 'Number_of_hardline_domains']]\n",
    "\n",
    "path = '../data/tweetscov19_tweets_moderacy_polarized_v2.tsv'\n",
    "\n",
    "with open(path, 'w', newline='', encoding=\"utf-8\") as out_file:\n",
    "    tsv_writer = csv.writer(out_file, delimiter=\"\\t\")\n",
    "    for idx, row in df_tweetscov19.iterrows():\n",
    "        tsv_writer.writerow(row.values.tolist())"
   ]
  },
  {
   "cell_type": "markdown",
   "id": "36c89c0a",
   "metadata": {},
   "source": [
    "***"
   ]
  },
  {
   "cell_type": "code",
   "execution_count": 42,
   "id": "88b0f4c9",
   "metadata": {},
   "outputs": [],
   "source": [
    "\n",
    "pfad_tsv3 = '../data/tweetscov19_moderacy_polarized_users_with_atleast_one_polarized_domain_v2.tsv'\n",
    "\n",
    "with open(pfad_tsv3, 'w', newline='', encoding=\"utf-8\") as out_file:\n",
    "    tsv_writer = csv.writer(out_file, delimiter=\"\\t\")\n",
    "    for idx, row in users_with_with_atleast_one_polarized_domain.iterrows():\n",
    "        tsv_writer.writerow(row.values.tolist())"
   ]
  },
  {
   "cell_type": "markdown",
   "id": "ccb0f2f2",
   "metadata": {},
   "source": [
    "***"
   ]
  },
  {
   "cell_type": "markdown",
   "id": "ee3c5f68",
   "metadata": {},
   "source": [
    "***"
   ]
  },
  {
   "cell_type": "markdown",
   "id": "fb8b285a",
   "metadata": {},
   "source": [
    "## Polarisierungen berechnen\n",
    "### TweetsKB"
   ]
  },
  {
   "cell_type": "markdown",
   "id": "f1127fb8",
   "metadata": {},
   "source": [
    "***"
   ]
  },
  {
   "cell_type": "code",
   "execution_count": 43,
   "id": "78c338da",
   "metadata": {},
   "outputs": [
    {
     "name": "stdout",
     "output_type": "stream",
     "text": [
      "Shape : (9409841, 4)\n"
     ]
    },
    {
     "data": {
      "text/html": [
       "<div>\n",
       "<style scoped>\n",
       "    .dataframe tbody tr th:only-of-type {\n",
       "        vertical-align: middle;\n",
       "    }\n",
       "\n",
       "    .dataframe tbody tr th {\n",
       "        vertical-align: top;\n",
       "    }\n",
       "\n",
       "    .dataframe thead th {\n",
       "        text-align: right;\n",
       "    }\n",
       "</style>\n",
       "<table border=\"1\" class=\"dataframe\">\n",
       "  <thead>\n",
       "    <tr style=\"text-align: right;\">\n",
       "      <th></th>\n",
       "      <th>Tweet_Id</th>\n",
       "      <th>Username</th>\n",
       "      <th>Is_deleted</th>\n",
       "      <th>Domains</th>\n",
       "    </tr>\n",
       "  </thead>\n",
       "  <tbody>\n",
       "    <tr>\n",
       "      <th>0</th>\n",
       "      <td>1178791636039589889</td>\n",
       "      <td>DCComics</td>\n",
       "      <td>False</td>\n",
       "      <td>dcuniverseinfinite.com</td>\n",
       "    </tr>\n",
       "    <tr>\n",
       "      <th>1</th>\n",
       "      <td>1178791641265639424</td>\n",
       "      <td>seanberdyz</td>\n",
       "      <td>True</td>\n",
       "      <td>carrd.co</td>\n",
       "    </tr>\n",
       "    <tr>\n",
       "      <th>2</th>\n",
       "      <td>1178791640573579264</td>\n",
       "      <td>AnArtistAtBirth</td>\n",
       "      <td>True</td>\n",
       "      <td>0</td>\n",
       "    </tr>\n",
       "    <tr>\n",
       "      <th>3</th>\n",
       "      <td>1178791644797255680</td>\n",
       "      <td>lagosboygang</td>\n",
       "      <td>True</td>\n",
       "      <td>0</td>\n",
       "    </tr>\n",
       "    <tr>\n",
       "      <th>4</th>\n",
       "      <td>1178791648056217600</td>\n",
       "      <td>Phenom_Hoops</td>\n",
       "      <td>False</td>\n",
       "      <td>phenomhoopreport.com</td>\n",
       "    </tr>\n",
       "  </tbody>\n",
       "</table>\n",
       "</div>"
      ],
      "text/plain": [
       "              Tweet_Id         Username  Is_deleted                 Domains\n",
       "0  1178791636039589889         DCComics       False  dcuniverseinfinite.com\n",
       "1  1178791641265639424       seanberdyz        True                carrd.co\n",
       "2  1178791640573579264  AnArtistAtBirth        True                       0\n",
       "3  1178791644797255680     lagosboygang        True                       0\n",
       "4  1178791648056217600     Phenom_Hoops       False    phenomhoopreport.com"
      ]
     },
     "execution_count": 43,
     "metadata": {},
     "output_type": "execute_result"
    }
   ],
   "source": [
    "pfad_tsv = '../data/tweetskb_id_isdeleted_domains.tsv'\n",
    "\n",
    "df_tweetskb = pd.read_csv(pfad_tsv, sep='\\t', error_bad_lines=False, names=['Tweet_Id', 'Username', 'Is_deleted', 'Domains'])\n",
    "\n",
    "print('Shape :', df_tweetskb.shape)\n",
    "df_tweetskb.head()"
   ]
  },
  {
   "cell_type": "code",
   "execution_count": 44,
   "id": "386ac730",
   "metadata": {},
   "outputs": [],
   "source": [
    "df_tweetskb['Domains'] = df_tweetskb['Domains'].astype(str)\n",
    "\n",
    "df_tweetskb['Number_of_moderate_domains'] = df_tweetskb.apply(lambda row: get_number_of_moderate_domains(row['Domains']) if (row['Domains'] != '0') else 0, axis=1)"
   ]
  },
  {
   "cell_type": "code",
   "execution_count": 45,
   "id": "196793e3",
   "metadata": {},
   "outputs": [
    {
     "name": "stdout",
     "output_type": "stream",
     "text": [
      "Number of Tweets with at least one moderate domains:  57959\n"
     ]
    }
   ],
   "source": [
    "tweets_with_moderate_domains = df_tweetskb[df_tweetskb['Number_of_moderate_domains'] < 0].shape\n",
    "\n",
    "print('Number of Tweets with at least one moderate domains: ', tweets_with_moderate_domains[0])"
   ]
  },
  {
   "cell_type": "code",
   "execution_count": 46,
   "id": "b5b9e2cc",
   "metadata": {},
   "outputs": [],
   "source": [
    "df_tweetskb['Number_of_hardline_domains'] = df_tweetskb.apply(lambda row: get_number_of_hardline_domains(row['Domains']) if (row['Domains'] != '0') else 0, axis=1)"
   ]
  },
  {
   "cell_type": "code",
   "execution_count": 47,
   "id": "d0f5cf02",
   "metadata": {},
   "outputs": [
    {
     "name": "stdout",
     "output_type": "stream",
     "text": [
      "tweets with at least one hardline domain:  36013\n"
     ]
    }
   ],
   "source": [
    "tweets_with_one_hardline_domain = df_tweetskb[df_tweetskb['Number_of_hardline_domains'] > 0].shape\n",
    "\n",
    "print('tweets with at least one hardline domain: ', tweets_with_one_hardline_domain[0])"
   ]
  },
  {
   "cell_type": "code",
   "execution_count": 48,
   "id": "ae30e543",
   "metadata": {},
   "outputs": [
    {
     "name": "stderr",
     "output_type": "stream",
     "text": [
      "<ipython-input-48-ca5f8dec60c1>:1: FutureWarning: Indexing with multiple keys (implicitly converted to a tuple of keys) will be deprecated, use a list instead.\n",
      "  df_tweetskb_unique_user = df_tweetskb.groupby('Username')[ 'Number_of_moderate_domains', 'Number_of_hardline_domains'].sum()\n"
     ]
    }
   ],
   "source": [
    "df_tweetskb_unique_user = df_tweetskb.groupby('Username')[ 'Number_of_moderate_domains', 'Number_of_hardline_domains'].sum()"
   ]
  },
  {
   "cell_type": "code",
   "execution_count": 49,
   "id": "a520fd66",
   "metadata": {},
   "outputs": [
    {
     "name": "stdout",
     "output_type": "stream",
     "text": [
      "Number of unique users in TweetsKB:  5208425\n"
     ]
    }
   ],
   "source": [
    "unique_users = df_tweetskb_unique_user.shape\n",
    "\n",
    "print('Number of unique users in TweetsKB: ', unique_users[0])"
   ]
  },
  {
   "cell_type": "code",
   "execution_count": 63,
   "id": "c569aec9",
   "metadata": {},
   "outputs": [
    {
     "data": {
      "text/html": [
       "<div>\n",
       "<style scoped>\n",
       "    .dataframe tbody tr th:only-of-type {\n",
       "        vertical-align: middle;\n",
       "    }\n",
       "\n",
       "    .dataframe tbody tr th {\n",
       "        vertical-align: top;\n",
       "    }\n",
       "\n",
       "    .dataframe thead th {\n",
       "        text-align: right;\n",
       "    }\n",
       "</style>\n",
       "<table border=\"1\" class=\"dataframe\">\n",
       "  <thead>\n",
       "    <tr style=\"text-align: right;\">\n",
       "      <th></th>\n",
       "      <th>Number_of_moderate_domains</th>\n",
       "      <th>Number_of_hardline_domains</th>\n",
       "      <th>Sum_polarized_domains</th>\n",
       "      <th>normalised_polarisation</th>\n",
       "    </tr>\n",
       "    <tr>\n",
       "      <th>Username</th>\n",
       "      <th></th>\n",
       "      <th></th>\n",
       "      <th></th>\n",
       "      <th></th>\n",
       "    </tr>\n",
       "  </thead>\n",
       "  <tbody>\n",
       "    <tr>\n",
       "      <th>00000000</th>\n",
       "      <td>0</td>\n",
       "      <td>0</td>\n",
       "      <td>0</td>\n",
       "      <td>0.0</td>\n",
       "    </tr>\n",
       "    <tr>\n",
       "      <th>000000000yt</th>\n",
       "      <td>0</td>\n",
       "      <td>0</td>\n",
       "      <td>0</td>\n",
       "      <td>0.0</td>\n",
       "    </tr>\n",
       "    <tr>\n",
       "      <th>00000000martin</th>\n",
       "      <td>0</td>\n",
       "      <td>0</td>\n",
       "      <td>0</td>\n",
       "      <td>0.0</td>\n",
       "    </tr>\n",
       "    <tr>\n",
       "      <th>000000911a</th>\n",
       "      <td>0</td>\n",
       "      <td>0</td>\n",
       "      <td>0</td>\n",
       "      <td>0.0</td>\n",
       "    </tr>\n",
       "    <tr>\n",
       "      <th>000000_127</th>\n",
       "      <td>0</td>\n",
       "      <td>0</td>\n",
       "      <td>0</td>\n",
       "      <td>0.0</td>\n",
       "    </tr>\n",
       "  </tbody>\n",
       "</table>\n",
       "</div>"
      ],
      "text/plain": [
       "                Number_of_moderate_domains  Number_of_hardline_domains  \\\n",
       "Username                                                                 \n",
       "00000000                                 0                           0   \n",
       "000000000yt                              0                           0   \n",
       "00000000martin                           0                           0   \n",
       "000000911a                               0                           0   \n",
       "000000_127                               0                           0   \n",
       "\n",
       "                Sum_polarized_domains  normalised_polarisation  \n",
       "Username                                                        \n",
       "00000000                            0                      0.0  \n",
       "000000000yt                         0                      0.0  \n",
       "00000000martin                      0                      0.0  \n",
       "000000911a                          0                      0.0  \n",
       "000000_127                          0                      0.0  "
      ]
     },
     "execution_count": 63,
     "metadata": {},
     "output_type": "execute_result"
    }
   ],
   "source": [
    "df_tweetskb_unique_user.head()"
   ]
  },
  {
   "cell_type": "code",
   "execution_count": 51,
   "id": "0016a6ae",
   "metadata": {},
   "outputs": [],
   "source": [
    "df_tweetskb_unique_user['Sum_polarized_domains'] = df_tweetskb_unique_user.apply(lambda row:  (row['Number_of_hardline_domains'] - row['Number_of_moderate_domains']), axis=1)"
   ]
  },
  {
   "cell_type": "code",
   "execution_count": 52,
   "id": "e356d685",
   "metadata": {},
   "outputs": [
    {
     "data": {
      "text/html": [
       "<div>\n",
       "<style scoped>\n",
       "    .dataframe tbody tr th:only-of-type {\n",
       "        vertical-align: middle;\n",
       "    }\n",
       "\n",
       "    .dataframe tbody tr th {\n",
       "        vertical-align: top;\n",
       "    }\n",
       "\n",
       "    .dataframe thead th {\n",
       "        text-align: right;\n",
       "    }\n",
       "</style>\n",
       "<table border=\"1\" class=\"dataframe\">\n",
       "  <thead>\n",
       "    <tr style=\"text-align: right;\">\n",
       "      <th></th>\n",
       "      <th>Number_of_moderate_domains</th>\n",
       "      <th>Number_of_hardline_domains</th>\n",
       "      <th>Sum_polarized_domains</th>\n",
       "    </tr>\n",
       "    <tr>\n",
       "      <th>Username</th>\n",
       "      <th></th>\n",
       "      <th></th>\n",
       "      <th></th>\n",
       "    </tr>\n",
       "  </thead>\n",
       "  <tbody>\n",
       "    <tr>\n",
       "      <th>1066Live</th>\n",
       "      <td>-7</td>\n",
       "      <td>0</td>\n",
       "      <td>7</td>\n",
       "    </tr>\n",
       "    <tr>\n",
       "      <th>1120Eclipse</th>\n",
       "      <td>-7</td>\n",
       "      <td>4</td>\n",
       "      <td>11</td>\n",
       "    </tr>\n",
       "    <tr>\n",
       "      <th>13WHAM</th>\n",
       "      <td>-4</td>\n",
       "      <td>0</td>\n",
       "      <td>4</td>\n",
       "    </tr>\n",
       "    <tr>\n",
       "      <th>18AKGOYAL</th>\n",
       "      <td>-3</td>\n",
       "      <td>1</td>\n",
       "      <td>4</td>\n",
       "    </tr>\n",
       "    <tr>\n",
       "      <th>1CMartinez</th>\n",
       "      <td>-3</td>\n",
       "      <td>0</td>\n",
       "      <td>3</td>\n",
       "    </tr>\n",
       "  </tbody>\n",
       "</table>\n",
       "</div>"
      ],
      "text/plain": [
       "             Number_of_moderate_domains  Number_of_hardline_domains  \\\n",
       "Username                                                              \n",
       "1066Live                             -7                           0   \n",
       "1120Eclipse                          -7                           4   \n",
       "13WHAM                               -4                           0   \n",
       "18AKGOYAL                            -3                           1   \n",
       "1CMartinez                           -3                           0   \n",
       "\n",
       "             Sum_polarized_domains  \n",
       "Username                            \n",
       "1066Live                         7  \n",
       "1120Eclipse                     11  \n",
       "13WHAM                           4  \n",
       "18AKGOYAL                        4  \n",
       "1CMartinez                       3  "
      ]
     },
     "execution_count": 52,
     "metadata": {},
     "output_type": "execute_result"
    }
   ],
   "source": [
    "df_tweetskb_unique_user[df_tweetskb_unique_user['Number_of_moderate_domains']<-2].head()"
   ]
  },
  {
   "cell_type": "code",
   "execution_count": 53,
   "id": "e8249cbe",
   "metadata": {},
   "outputs": [],
   "source": [
    "df_tweetskb_unique_user['normalised_polarisation'] = df_tweetskb_unique_user.apply(lambda row: (row['Number_of_moderate_domains'] + row['Number_of_hardline_domains']) / row['Sum_polarized_domains'] if row['Sum_polarized_domains'] != 0 else 0, axis=1)"
   ]
  },
  {
   "cell_type": "code",
   "execution_count": 54,
   "id": "7f8e87fd",
   "metadata": {},
   "outputs": [
    {
     "name": "stdout",
     "output_type": "stream",
     "text": [
      "df tweetskb unique users with atleast one polarized domain:  48333\n"
     ]
    }
   ],
   "source": [
    "df_tweetskb_unique_users_with_atleast_one_polarized_domain= df_tweetskb_unique_user[df_tweetskb_unique_user['Sum_polarized_domains'] > 0]\n",
    "\n",
    "print('df tweetskb unique users with atleast one polarized domain: ', df_tweetskb_unique_users_with_atleast_one_polarized_domain.shape[0])"
   ]
  },
  {
   "cell_type": "code",
   "execution_count": 64,
   "id": "64d91376",
   "metadata": {},
   "outputs": [
    {
     "data": {
      "text/html": [
       "<div>\n",
       "<style scoped>\n",
       "    .dataframe tbody tr th:only-of-type {\n",
       "        vertical-align: middle;\n",
       "    }\n",
       "\n",
       "    .dataframe tbody tr th {\n",
       "        vertical-align: top;\n",
       "    }\n",
       "\n",
       "    .dataframe thead th {\n",
       "        text-align: right;\n",
       "    }\n",
       "</style>\n",
       "<table border=\"1\" class=\"dataframe\">\n",
       "  <thead>\n",
       "    <tr style=\"text-align: right;\">\n",
       "      <th></th>\n",
       "      <th>Username</th>\n",
       "      <th>Number_of_moderate_domains</th>\n",
       "      <th>Number_of_hardline_domains</th>\n",
       "      <th>Sum_polarized_domains</th>\n",
       "      <th>normalised_polarisation</th>\n",
       "    </tr>\n",
       "  </thead>\n",
       "  <tbody>\n",
       "    <tr>\n",
       "      <th>51</th>\n",
       "      <td>125LolaLola</td>\n",
       "      <td>-2</td>\n",
       "      <td>2</td>\n",
       "      <td>4</td>\n",
       "      <td>0.0</td>\n",
       "    </tr>\n",
       "    <tr>\n",
       "      <th>62</th>\n",
       "      <td>13thethe</td>\n",
       "      <td>-1</td>\n",
       "      <td>1</td>\n",
       "      <td>2</td>\n",
       "      <td>0.0</td>\n",
       "    </tr>\n",
       "    <tr>\n",
       "      <th>89</th>\n",
       "      <td>1969Maurice</td>\n",
       "      <td>-1</td>\n",
       "      <td>1</td>\n",
       "      <td>2</td>\n",
       "      <td>0.0</td>\n",
       "    </tr>\n",
       "    <tr>\n",
       "      <th>98</th>\n",
       "      <td>19Dumptrump</td>\n",
       "      <td>-1</td>\n",
       "      <td>1</td>\n",
       "      <td>2</td>\n",
       "      <td>0.0</td>\n",
       "    </tr>\n",
       "    <tr>\n",
       "      <th>169</th>\n",
       "      <td>1news_me</td>\n",
       "      <td>-2</td>\n",
       "      <td>2</td>\n",
       "      <td>4</td>\n",
       "      <td>0.0</td>\n",
       "    </tr>\n",
       "  </tbody>\n",
       "</table>\n",
       "</div>"
      ],
      "text/plain": [
       "        Username  Number_of_moderate_domains  Number_of_hardline_domains  \\\n",
       "51   125LolaLola                          -2                           2   \n",
       "62      13thethe                          -1                           1   \n",
       "89   1969Maurice                          -1                           1   \n",
       "98   19Dumptrump                          -1                           1   \n",
       "169     1news_me                          -2                           2   \n",
       "\n",
       "     Sum_polarized_domains  normalised_polarisation  \n",
       "51                       4                      0.0  \n",
       "62                       2                      0.0  \n",
       "89                       2                      0.0  \n",
       "98                       2                      0.0  \n",
       "169                      4                      0.0  "
      ]
     },
     "execution_count": 64,
     "metadata": {},
     "output_type": "execute_result"
    }
   ],
   "source": [
    "df_tweetskb_unique_users_with_atleast_one_polarized_domain[df_tweetskb_unique_users_with_atleast_one_polarized_domain['normalised_polarisation']==0].head()"
   ]
  },
  {
   "cell_type": "code",
   "execution_count": 56,
   "id": "28223d31",
   "metadata": {},
   "outputs": [],
   "source": [
    "#df_tweetskb_unique_users_without_zero_polarisation = df_tweetskb_unique_user[df_tweetskb_unique_user['normalised_polarisation'] != 0]"
   ]
  },
  {
   "cell_type": "code",
   "execution_count": 57,
   "id": "dc5dc567",
   "metadata": {},
   "outputs": [],
   "source": [
    "#number_of_polarised_users = df_tweetskb_unique_users_without_zero_polarisation.shape\n",
    "\n",
    "#print('Number of recognised polarised users in TweetsKB:  ', number_of_polarised_users[0])"
   ]
  },
  {
   "cell_type": "code",
   "execution_count": 58,
   "id": "8ec65892",
   "metadata": {},
   "outputs": [
    {
     "name": "stdout",
     "output_type": "stream",
     "text": [
      "Number of recognised hardline users in TweetsKB:  15573\n"
     ]
    }
   ],
   "source": [
    "number_of_hardline_users = df_tweetskb_unique_users_with_atleast_one_polarized_domain[df_tweetskb_unique_users_with_atleast_one_polarized_domain['normalised_polarisation'] > 0].shape\n",
    "\n",
    "print('Number of recognised hardline users in TweetsKB: ', number_of_hardline_users[0])"
   ]
  },
  {
   "cell_type": "code",
   "execution_count": 59,
   "id": "240de925",
   "metadata": {},
   "outputs": [
    {
     "name": "stdout",
     "output_type": "stream",
     "text": [
      "Number of recognised moderate users in TweetsKB:  31277\n"
     ]
    }
   ],
   "source": [
    "number_of_moderate_users = df_tweetskb_unique_users_with_atleast_one_polarized_domain[df_tweetskb_unique_users_with_atleast_one_polarized_domain['normalised_polarisation'] < 0].shape\n",
    "\n",
    "print('Number of recognised moderate users in TweetsKB: ', number_of_moderate_users[0])"
   ]
  },
  {
   "cell_type": "code",
   "execution_count": 60,
   "id": "a362e77c",
   "metadata": {},
   "outputs": [
    {
     "data": {
      "text/html": [
       "<div>\n",
       "<style scoped>\n",
       "    .dataframe tbody tr th:only-of-type {\n",
       "        vertical-align: middle;\n",
       "    }\n",
       "\n",
       "    .dataframe tbody tr th {\n",
       "        vertical-align: top;\n",
       "    }\n",
       "\n",
       "    .dataframe thead th {\n",
       "        text-align: right;\n",
       "    }\n",
       "</style>\n",
       "<table border=\"1\" class=\"dataframe\">\n",
       "  <thead>\n",
       "    <tr style=\"text-align: right;\">\n",
       "      <th></th>\n",
       "      <th>Username</th>\n",
       "      <th>Number_of_moderate_domains</th>\n",
       "      <th>Number_of_hardline_domains</th>\n",
       "      <th>Sum_polarized_domains</th>\n",
       "      <th>normalised_polarisation</th>\n",
       "    </tr>\n",
       "  </thead>\n",
       "  <tbody>\n",
       "    <tr>\n",
       "      <th>0</th>\n",
       "      <td>0000Condor</td>\n",
       "      <td>0</td>\n",
       "      <td>1</td>\n",
       "      <td>1</td>\n",
       "      <td>1.0</td>\n",
       "    </tr>\n",
       "    <tr>\n",
       "      <th>1</th>\n",
       "      <td>007AliSohrab</td>\n",
       "      <td>-1</td>\n",
       "      <td>0</td>\n",
       "      <td>1</td>\n",
       "      <td>-1.0</td>\n",
       "    </tr>\n",
       "    <tr>\n",
       "      <th>2</th>\n",
       "      <td>007plus100</td>\n",
       "      <td>-1</td>\n",
       "      <td>0</td>\n",
       "      <td>1</td>\n",
       "      <td>-1.0</td>\n",
       "    </tr>\n",
       "    <tr>\n",
       "      <th>3</th>\n",
       "      <td>01_zebra</td>\n",
       "      <td>0</td>\n",
       "      <td>1</td>\n",
       "      <td>1</td>\n",
       "      <td>1.0</td>\n",
       "    </tr>\n",
       "    <tr>\n",
       "      <th>4</th>\n",
       "      <td>01pod</td>\n",
       "      <td>-1</td>\n",
       "      <td>0</td>\n",
       "      <td>1</td>\n",
       "      <td>-1.0</td>\n",
       "    </tr>\n",
       "  </tbody>\n",
       "</table>\n",
       "</div>"
      ],
      "text/plain": [
       "       Username  Number_of_moderate_domains  Number_of_hardline_domains  \\\n",
       "0    0000Condor                           0                           1   \n",
       "1  007AliSohrab                          -1                           0   \n",
       "2    007plus100                          -1                           0   \n",
       "3      01_zebra                           0                           1   \n",
       "4         01pod                          -1                           0   \n",
       "\n",
       "   Sum_polarized_domains  normalised_polarisation  \n",
       "0                      1                      1.0  \n",
       "1                      1                     -1.0  \n",
       "2                      1                     -1.0  \n",
       "3                      1                      1.0  \n",
       "4                      1                     -1.0  "
      ]
     },
     "execution_count": 60,
     "metadata": {},
     "output_type": "execute_result"
    }
   ],
   "source": [
    "df_tweetskb_unique_users_with_atleast_one_polarized_domain = df_tweetskb_unique_users_with_atleast_one_polarized_domain.reset_index()\n",
    "df_tweetskb_unique_users_with_atleast_one_polarized_domain.head()"
   ]
  },
  {
   "cell_type": "markdown",
   "id": "aeab7e00",
   "metadata": {},
   "source": [
    "***"
   ]
  },
  {
   "cell_type": "markdown",
   "id": "af9a7442",
   "metadata": {},
   "source": [
    "***"
   ]
  },
  {
   "cell_type": "code",
   "execution_count": 61,
   "id": "c1f942af",
   "metadata": {},
   "outputs": [],
   "source": [
    "df_tweetskb = df_tweetskb[['Tweet_Id', 'Number_of_moderate_domains', 'Number_of_hardline_domains']]\n",
    "\n",
    "\n",
    "path = '../data/tweetskb_tweets_moderacy_polarized_v2.tsv'\n",
    "\n",
    "with open(path, 'w', newline='', encoding=\"utf-8\") as out_file:\n",
    "    tsv_writer = csv.writer(out_file, delimiter=\"\\t\")\n",
    "    for idx, row in df_tweetskb.iterrows():\n",
    "        tsv_writer.writerow(row.values.tolist())"
   ]
  },
  {
   "cell_type": "markdown",
   "id": "7bdb0478",
   "metadata": {},
   "source": [
    "***"
   ]
  },
  {
   "cell_type": "markdown",
   "id": "c3e9e3e8",
   "metadata": {},
   "source": [
    "***"
   ]
  },
  {
   "cell_type": "code",
   "execution_count": 65,
   "id": "15c4ac38",
   "metadata": {},
   "outputs": [],
   "source": [
    "pfad_tsv3 = '../data/tweetskb_moderacy_polarized_users_with_atleast_one_polarized_domain_v2.tsv'\n",
    "\n",
    "with open(pfad_tsv3, 'w', newline='', encoding=\"utf-8\") as out_file:\n",
    "    tsv_writer = csv.writer(out_file, delimiter=\"\\t\")\n",
    "    for idx, row in df_tweetskb_unique_users_with_atleast_one_polarized_domain.iterrows():\n",
    "        tsv_writer.writerow(row.values.tolist())"
   ]
  },
  {
   "cell_type": "code",
   "execution_count": null,
   "id": "2a73ec17",
   "metadata": {},
   "outputs": [],
   "source": []
  },
  {
   "cell_type": "code",
   "execution_count": null,
   "id": "7dd9cea8",
   "metadata": {},
   "outputs": [],
   "source": []
  },
  {
   "cell_type": "code",
   "execution_count": null,
   "id": "1819498e",
   "metadata": {},
   "outputs": [],
   "source": []
  }
 ],
 "metadata": {
  "kernelspec": {
   "display_name": "Python 3",
   "language": "python",
   "name": "python3"
  },
  "language_info": {
   "codemirror_mode": {
    "name": "ipython",
    "version": 3
   },
   "file_extension": ".py",
   "mimetype": "text/x-python",
   "name": "python",
   "nbconvert_exporter": "python",
   "pygments_lexer": "ipython3",
   "version": "3.8.8"
  }
 },
 "nbformat": 4,
 "nbformat_minor": 5
}
