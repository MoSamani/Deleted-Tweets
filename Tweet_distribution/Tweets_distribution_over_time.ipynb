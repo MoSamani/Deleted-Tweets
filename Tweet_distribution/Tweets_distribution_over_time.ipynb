{
 "cells": [
  {
   "cell_type": "code",
   "execution_count": 1,
   "id": "1415eac6",
   "metadata": {},
   "outputs": [],
   "source": [
    "import csv\n",
    "import pandas as pd\n",
    "import numpy as np\n",
    "import json\n",
    "\n",
    "csv.field_size_limit(100000000)\n",
    "pd.options.display.max_columns = None\n",
    "pd.options.display.max_rows = None\n",
    "from datetime import datetime\n",
    "\n",
    "import seaborn as sns\n",
    "import matplotlib.pyplot as plt\n",
    "%matplotlib inline \n",
    "import matplotlib.dates as mdates\n",
    "import matplotlib.ticker as tick\n",
    "\n",
    "pd.options.display.float_format = '{:.4f}'.format"
   ]
  },
  {
   "cell_type": "code",
   "execution_count": 2,
   "id": "bcfa364c",
   "metadata": {},
   "outputs": [],
   "source": [
    "#Labels\n",
    "TweetsCov19_labels = ['Tweet_Id', 'Username', 'Timestamp', 'Followers', 'Followees', 'Retweets', 'Favorites', 'Entities', 'Sentiment', 'Mentions', 'Hashtags', 'URLs', 'Text', 'Is_deleted', 'Number of Mentions', 'Number of Hashtags', 'Number of URLS', 'Domains', 'Textlength', 'Readability','Vader_neg', 'Vader_neu', 'Vader_pos', 'Vader_compound', 'Emojis', 'Number of Emojis',  'Emoji_neg', 'Emoji_neu', 'Emoji_pos', 'Emoji_average', 'Number of valued Emojis']\n",
    "TweetsKB_labels    = ['Tweet_Id', 'Username', 'Timestamp', 'Followers', 'Followees', 'Retweets', 'Favorites', 'Text', 'URLs', 'Is_deleted', 'Hashtags', 'Mentions', 'Number of Hashtags', 'Number of Mentions', 'Textlength', 'Readability', 'Domains', 'Number of URLs', 'Vader_pos', 'Vader_neu', 'Vader_neg', 'Vader_com' , 'Emojis', 'Number of Emojis','Emoji_neg', 'Emoji_neu', 'Emoji_pos', 'Emoji_average', 'Number of valued Emojis']\n",
    "#Path\n",
    "TweetsCov19_Pfad =  '../data/TweetsCov19_stichprobe_final.tsv'\n",
    "TweetsKB_Pfad =  '../data/Tweetskb_stichprobe_final.tsv'"
   ]
  },
  {
   "cell_type": "code",
   "execution_count": 13,
   "id": "75aa0972",
   "metadata": {},
   "outputs": [
    {
     "name": "stdout",
     "output_type": "stream",
     "text": [
      "Form (9409841, 31)\n"
     ]
    },
    {
     "data": {
      "text/html": [
       "<div>\n",
       "<style scoped>\n",
       "    .dataframe tbody tr th:only-of-type {\n",
       "        vertical-align: middle;\n",
       "    }\n",
       "\n",
       "    .dataframe tbody tr th {\n",
       "        vertical-align: top;\n",
       "    }\n",
       "\n",
       "    .dataframe thead th {\n",
       "        text-align: right;\n",
       "    }\n",
       "</style>\n",
       "<table border=\"1\" class=\"dataframe\">\n",
       "  <thead>\n",
       "    <tr style=\"text-align: right;\">\n",
       "      <th></th>\n",
       "      <th>Tweet_Id</th>\n",
       "      <th>Username</th>\n",
       "      <th>Timestamp</th>\n",
       "      <th>Followers</th>\n",
       "      <th>Followees</th>\n",
       "      <th>Retweets</th>\n",
       "      <th>Favorites</th>\n",
       "      <th>Entities</th>\n",
       "      <th>Sentiment</th>\n",
       "      <th>Mentions</th>\n",
       "      <th>Hashtags</th>\n",
       "      <th>URLs</th>\n",
       "      <th>Text</th>\n",
       "      <th>Is_deleted</th>\n",
       "      <th>Number of Mentions</th>\n",
       "      <th>Number of Hashtags</th>\n",
       "      <th>Number of URLS</th>\n",
       "      <th>Domains</th>\n",
       "      <th>Textlength</th>\n",
       "      <th>Readability</th>\n",
       "      <th>Vader_neg</th>\n",
       "      <th>Vader_neu</th>\n",
       "      <th>Vader_pos</th>\n",
       "      <th>Vader_compound</th>\n",
       "      <th>Emojis</th>\n",
       "      <th>Number of Emojis</th>\n",
       "      <th>Emoji_neg</th>\n",
       "      <th>Emoji_neu</th>\n",
       "      <th>Emoji_pos</th>\n",
       "      <th>Emoji_average</th>\n",
       "      <th>Number of valued Emojis</th>\n",
       "    </tr>\n",
       "  </thead>\n",
       "  <tbody>\n",
       "    <tr>\n",
       "      <th>0</th>\n",
       "      <td>1178791637348212736</td>\n",
       "      <td>c57d4fb895c5f4a33d2a2b24709f93b5</td>\n",
       "      <td>2019-09-30 22:00:01+00:00</td>\n",
       "      <td>764191</td>\n",
       "      <td>132</td>\n",
       "      <td>19</td>\n",
       "      <td>180</td>\n",
       "      <td>foodie:Foodie:-2.096663959988218;</td>\n",
       "      <td>1 -1</td>\n",
       "      <td>null;</td>\n",
       "      <td>HalloweenTime?</td>\n",
       "      <td>null;</td>\n",
       "      <td>Has your appetite materialized just as fast as...</td>\n",
       "      <td>True</td>\n",
       "      <td>0</td>\n",
       "      <td>1</td>\n",
       "      <td>0</td>\n",
       "      <td>0</td>\n",
       "      <td>155</td>\n",
       "      <td>76.5530</td>\n",
       "      <td>-0.0000</td>\n",
       "      <td>1.0000</td>\n",
       "      <td>0.0000</td>\n",
       "      <td>0.0000</td>\n",
       "      <td>[]</td>\n",
       "      <td>0</td>\n",
       "      <td>-0.0000</td>\n",
       "      <td>0.0000</td>\n",
       "      <td>0.0000</td>\n",
       "      <td>0.0000</td>\n",
       "      <td>0.0000</td>\n",
       "    </tr>\n",
       "    <tr>\n",
       "      <th>1</th>\n",
       "      <td>1178791641601232896</td>\n",
       "      <td>627f7d4ef584ba33a676a4ebcb861cdb</td>\n",
       "      <td>2019-09-30 22:00:02+00:00</td>\n",
       "      <td>321189</td>\n",
       "      <td>26833</td>\n",
       "      <td>32</td>\n",
       "      <td>43</td>\n",
       "      <td>mainland china:Mainland_China:-1.6252666161640...</td>\n",
       "      <td>1 -1</td>\n",
       "      <td>null;</td>\n",
       "      <td>HongKong</td>\n",
       "      <td>https://www.catholicnewsagency.com/news/amid-h...</td>\n",
       "      <td>The persecution of Catholics in mainland China...</td>\n",
       "      <td>False</td>\n",
       "      <td>0</td>\n",
       "      <td>1</td>\n",
       "      <td>1</td>\n",
       "      <td>catholicnewsagency.com</td>\n",
       "      <td>204</td>\n",
       "      <td>29.4680</td>\n",
       "      <td>-0.0000</td>\n",
       "      <td>0.9190</td>\n",
       "      <td>0.0810</td>\n",
       "      <td>0.3182</td>\n",
       "      <td>[]</td>\n",
       "      <td>0</td>\n",
       "      <td>-0.0000</td>\n",
       "      <td>0.0000</td>\n",
       "      <td>0.0000</td>\n",
       "      <td>0.0000</td>\n",
       "      <td>0.0000</td>\n",
       "    </tr>\n",
       "    <tr>\n",
       "      <th>2</th>\n",
       "      <td>1178791643509612547</td>\n",
       "      <td>7966d5716c1c4f33591b17755184e3d6</td>\n",
       "      <td>2019-09-30 22:00:03+00:00</td>\n",
       "      <td>14209</td>\n",
       "      <td>10623</td>\n",
       "      <td>90</td>\n",
       "      <td>182</td>\n",
       "      <td>brexit:Brexit:-1.582809637810362;hear hear:Hea...</td>\n",
       "      <td>1 -2</td>\n",
       "      <td>null;</td>\n",
       "      <td>Brexit</td>\n",
       "      <td>null;</td>\n",
       "      <td>Hear, hear..\\nEmily: You were an outspoken cri...</td>\n",
       "      <td>False</td>\n",
       "      <td>0</td>\n",
       "      <td>1</td>\n",
       "      <td>0</td>\n",
       "      <td>0</td>\n",
       "      <td>163</td>\n",
       "      <td>79.5340</td>\n",
       "      <td>-0.2020</td>\n",
       "      <td>0.7980</td>\n",
       "      <td>0.0000</td>\n",
       "      <td>-0.6486</td>\n",
       "      <td>[]</td>\n",
       "      <td>0</td>\n",
       "      <td>-0.0000</td>\n",
       "      <td>0.0000</td>\n",
       "      <td>0.0000</td>\n",
       "      <td>0.0000</td>\n",
       "      <td>0.0000</td>\n",
       "    </tr>\n",
       "    <tr>\n",
       "      <th>3</th>\n",
       "      <td>1178791644214235137</td>\n",
       "      <td>f17996c036ed4cd981f5448fe00d9ed2</td>\n",
       "      <td>2019-09-30 22:00:03+00:00</td>\n",
       "      <td>2264986</td>\n",
       "      <td>655</td>\n",
       "      <td>60</td>\n",
       "      <td>528</td>\n",
       "      <td>null;</td>\n",
       "      <td>3 -1</td>\n",
       "      <td>amstandardca.</td>\n",
       "      <td>BlueJays</td>\n",
       "      <td>null;</td>\n",
       "      <td>We wrapped up the season with a WINNING week! ...</td>\n",
       "      <td>False</td>\n",
       "      <td>1</td>\n",
       "      <td>1</td>\n",
       "      <td>0</td>\n",
       "      <td>0</td>\n",
       "      <td>132</td>\n",
       "      <td>85.8890</td>\n",
       "      <td>-0.0000</td>\n",
       "      <td>0.6240</td>\n",
       "      <td>0.3760</td>\n",
       "      <td>0.8633</td>\n",
       "      <td>[]</td>\n",
       "      <td>0</td>\n",
       "      <td>-0.0000</td>\n",
       "      <td>0.0000</td>\n",
       "      <td>0.0000</td>\n",
       "      <td>0.0000</td>\n",
       "      <td>0.0000</td>\n",
       "    </tr>\n",
       "    <tr>\n",
       "      <th>4</th>\n",
       "      <td>1178791645371875329</td>\n",
       "      <td>32a54e5f6d8a67de1bffd2e689594dc8</td>\n",
       "      <td>2019-09-30 22:00:03+00:00</td>\n",
       "      <td>171</td>\n",
       "      <td>138</td>\n",
       "      <td>33</td>\n",
       "      <td>117</td>\n",
       "      <td>my family:My_Family:-2.6353832182503094;roll t...</td>\n",
       "      <td>4 -1</td>\n",
       "      <td>null;</td>\n",
       "      <td>null;</td>\n",
       "      <td>null;</td>\n",
       "      <td>Super excited to announce that I will be spend...</td>\n",
       "      <td>False</td>\n",
       "      <td>0</td>\n",
       "      <td>0</td>\n",
       "      <td>0</td>\n",
       "      <td>0</td>\n",
       "      <td>257</td>\n",
       "      <td>61.2030</td>\n",
       "      <td>-0.0000</td>\n",
       "      <td>0.7650</td>\n",
       "      <td>0.2350</td>\n",
       "      <td>0.9117</td>\n",
       "      <td>['🐘', '🔴']</td>\n",
       "      <td>2</td>\n",
       "      <td>-0.0150</td>\n",
       "      <td>0.2650</td>\n",
       "      <td>0.2200</td>\n",
       "      <td>0.2235</td>\n",
       "      <td>2.0000</td>\n",
       "    </tr>\n",
       "  </tbody>\n",
       "</table>\n",
       "</div>"
      ],
      "text/plain": [
       "              Tweet_Id                          Username  \\\n",
       "0  1178791637348212736  c57d4fb895c5f4a33d2a2b24709f93b5   \n",
       "1  1178791641601232896  627f7d4ef584ba33a676a4ebcb861cdb   \n",
       "2  1178791643509612547  7966d5716c1c4f33591b17755184e3d6   \n",
       "3  1178791644214235137  f17996c036ed4cd981f5448fe00d9ed2   \n",
       "4  1178791645371875329  32a54e5f6d8a67de1bffd2e689594dc8   \n",
       "\n",
       "                   Timestamp  Followers  Followees  Retweets  Favorites  \\\n",
       "0  2019-09-30 22:00:01+00:00     764191        132        19        180   \n",
       "1  2019-09-30 22:00:02+00:00     321189      26833        32         43   \n",
       "2  2019-09-30 22:00:03+00:00      14209      10623        90        182   \n",
       "3  2019-09-30 22:00:03+00:00    2264986        655        60        528   \n",
       "4  2019-09-30 22:00:03+00:00        171        138        33        117   \n",
       "\n",
       "                                            Entities Sentiment       Mentions  \\\n",
       "0                  foodie:Foodie:-2.096663959988218;      1 -1          null;   \n",
       "1  mainland china:Mainland_China:-1.6252666161640...      1 -1          null;   \n",
       "2  brexit:Brexit:-1.582809637810362;hear hear:Hea...      1 -2          null;   \n",
       "3                                              null;      3 -1  amstandardca.   \n",
       "4  my family:My_Family:-2.6353832182503094;roll t...      4 -1          null;   \n",
       "\n",
       "         Hashtags                                               URLs  \\\n",
       "0  HalloweenTime?                                              null;   \n",
       "1        HongKong  https://www.catholicnewsagency.com/news/amid-h...   \n",
       "2          Brexit                                              null;   \n",
       "3        BlueJays                                              null;   \n",
       "4           null;                                              null;   \n",
       "\n",
       "                                                Text  Is_deleted  \\\n",
       "0  Has your appetite materialized just as fast as...        True   \n",
       "1  The persecution of Catholics in mainland China...       False   \n",
       "2  Hear, hear..\\nEmily: You were an outspoken cri...       False   \n",
       "3  We wrapped up the season with a WINNING week! ...       False   \n",
       "4  Super excited to announce that I will be spend...       False   \n",
       "\n",
       "   Number of Mentions  Number of Hashtags  Number of URLS  \\\n",
       "0                   0                   1               0   \n",
       "1                   0                   1               1   \n",
       "2                   0                   1               0   \n",
       "3                   1                   1               0   \n",
       "4                   0                   0               0   \n",
       "\n",
       "                  Domains  Textlength  Readability  Vader_neg  Vader_neu  \\\n",
       "0                       0         155      76.5530    -0.0000     1.0000   \n",
       "1  catholicnewsagency.com         204      29.4680    -0.0000     0.9190   \n",
       "2                       0         163      79.5340    -0.2020     0.7980   \n",
       "3                       0         132      85.8890    -0.0000     0.6240   \n",
       "4                       0         257      61.2030    -0.0000     0.7650   \n",
       "\n",
       "   Vader_pos  Vader_compound      Emojis  Number of Emojis  Emoji_neg  \\\n",
       "0     0.0000          0.0000          []                 0    -0.0000   \n",
       "1     0.0810          0.3182          []                 0    -0.0000   \n",
       "2     0.0000         -0.6486          []                 0    -0.0000   \n",
       "3     0.3760          0.8633          []                 0    -0.0000   \n",
       "4     0.2350          0.9117  ['🐘', '🔴']                 2    -0.0150   \n",
       "\n",
       "   Emoji_neu  Emoji_pos  Emoji_average  Number of valued Emojis  \n",
       "0     0.0000     0.0000         0.0000                   0.0000  \n",
       "1     0.0000     0.0000         0.0000                   0.0000  \n",
       "2     0.0000     0.0000         0.0000                   0.0000  \n",
       "3     0.0000     0.0000         0.0000                   0.0000  \n",
       "4     0.2650     0.2200         0.2235                   2.0000  "
      ]
     },
     "execution_count": 13,
     "metadata": {},
     "output_type": "execute_result"
    }
   ],
   "source": [
    "#Dataframe TweetsCov19 \n",
    "df_tweetscov19 = pd.read_csv(TweetsCov19_Pfad, sep='\\t', error_bad_lines=False, names=TweetsCov19_labels)\n",
    "print('Form', df_tweetscov19.shape)\n",
    "df_tweetscov19.head()"
   ]
  },
  {
   "cell_type": "code",
   "execution_count": 14,
   "id": "3c5533de",
   "metadata": {},
   "outputs": [],
   "source": [
    "df_del_cov19 = df_tweetscov19[df_tweetscov19['Is_deleted'] == True]\n",
    "df_undel_cov19 = df_tweetscov19[df_tweetscov19['Is_deleted'] == False]"
   ]
  },
  {
   "cell_type": "code",
   "execution_count": 3,
   "id": "31069909",
   "metadata": {},
   "outputs": [
    {
     "name": "stdout",
     "output_type": "stream",
     "text": [
      "Form : (9409841, 29)\n"
     ]
    },
    {
     "data": {
      "text/html": [
       "<div>\n",
       "<style scoped>\n",
       "    .dataframe tbody tr th:only-of-type {\n",
       "        vertical-align: middle;\n",
       "    }\n",
       "\n",
       "    .dataframe tbody tr th {\n",
       "        vertical-align: top;\n",
       "    }\n",
       "\n",
       "    .dataframe thead th {\n",
       "        text-align: right;\n",
       "    }\n",
       "</style>\n",
       "<table border=\"1\" class=\"dataframe\">\n",
       "  <thead>\n",
       "    <tr style=\"text-align: right;\">\n",
       "      <th></th>\n",
       "      <th>Tweet_Id</th>\n",
       "      <th>Username</th>\n",
       "      <th>Timestamp</th>\n",
       "      <th>Followers</th>\n",
       "      <th>Followees</th>\n",
       "      <th>Retweets</th>\n",
       "      <th>Favorites</th>\n",
       "      <th>Text</th>\n",
       "      <th>URLs</th>\n",
       "      <th>Is_deleted</th>\n",
       "      <th>Hashtags</th>\n",
       "      <th>Mentions</th>\n",
       "      <th>Number of Hashtags</th>\n",
       "      <th>Number of Mentions</th>\n",
       "      <th>Textlength</th>\n",
       "      <th>Readability</th>\n",
       "      <th>Domains</th>\n",
       "      <th>Number of URLs</th>\n",
       "      <th>Vader_pos</th>\n",
       "      <th>Vader_neu</th>\n",
       "      <th>Vader_neg</th>\n",
       "      <th>Vader_com</th>\n",
       "      <th>Emojis</th>\n",
       "      <th>Number of Emojis</th>\n",
       "      <th>Emoji_neg</th>\n",
       "      <th>Emoji_neu</th>\n",
       "      <th>Emoji_pos</th>\n",
       "      <th>Emoji_average</th>\n",
       "      <th>Number of valued Emojis</th>\n",
       "    </tr>\n",
       "  </thead>\n",
       "  <tbody>\n",
       "    <tr>\n",
       "      <th>0</th>\n",
       "      <td>1178791636039589889</td>\n",
       "      <td>DCComics</td>\n",
       "      <td>2019-09-30 22:00:01+00:00</td>\n",
       "      <td>3349606</td>\n",
       "      <td>563</td>\n",
       "      <td>2</td>\n",
       "      <td>13</td>\n",
       "      <td>Today on #DCDaily, the crew takes a deep dive ...</td>\n",
       "      <td>http://bit.ly/2mlNYpS:-:</td>\n",
       "      <td>False</td>\n",
       "      <td>['DCDaily']</td>\n",
       "      <td>['DCUTitans']</td>\n",
       "      <td>1</td>\n",
       "      <td>1</td>\n",
       "      <td>192</td>\n",
       "      <td>70.3500</td>\n",
       "      <td>dcuniverseinfinite.com</td>\n",
       "      <td>1</td>\n",
       "      <td>0.0000</td>\n",
       "      <td>1.0000</td>\n",
       "      <td>-0.0000</td>\n",
       "      <td>0.0000</td>\n",
       "      <td>[]</td>\n",
       "      <td>0</td>\n",
       "      <td>-0.0000</td>\n",
       "      <td>0.0000</td>\n",
       "      <td>0.0000</td>\n",
       "      <td>0.0000</td>\n",
       "      <td>0.0000</td>\n",
       "    </tr>\n",
       "    <tr>\n",
       "      <th>1</th>\n",
       "      <td>1178791641265639424</td>\n",
       "      <td>seanberdyz</td>\n",
       "      <td>2019-09-30 22:00:02+00:00</td>\n",
       "      <td>1203</td>\n",
       "      <td>499</td>\n",
       "      <td>4</td>\n",
       "      <td>20</td>\n",
       "      <td>𝘪’𝘮 𝘨𝘰𝘯𝘯𝘢 𝘣𝘦 𝘳𝘪𝘨𝘩𝘵 𝘩𝘦𝘳𝘦 ⟶ https://t.co/kOxWQL5...</td>\n",
       "      <td>http://ourownside.carrd.co:-:</td>\n",
       "      <td>True</td>\n",
       "      <td>[]</td>\n",
       "      <td>[]</td>\n",
       "      <td>0</td>\n",
       "      <td>0</td>\n",
       "      <td>73</td>\n",
       "      <td>82.3900</td>\n",
       "      <td>carrd.co</td>\n",
       "      <td>1</td>\n",
       "      <td>0.0000</td>\n",
       "      <td>1.0000</td>\n",
       "      <td>-0.0000</td>\n",
       "      <td>0.0000</td>\n",
       "      <td>[]</td>\n",
       "      <td>0</td>\n",
       "      <td>-0.0000</td>\n",
       "      <td>0.0000</td>\n",
       "      <td>0.0000</td>\n",
       "      <td>0.0000</td>\n",
       "      <td>0.0000</td>\n",
       "    </tr>\n",
       "    <tr>\n",
       "      <th>2</th>\n",
       "      <td>1178791640573579264</td>\n",
       "      <td>AnArtistAtBirth</td>\n",
       "      <td>2019-09-30 22:00:02+00:00</td>\n",
       "      <td>109</td>\n",
       "      <td>215</td>\n",
       "      <td>0</td>\n",
       "      <td>0</td>\n",
       "      <td>❛ 𝘠𝘰𝘶'𝘳𝘦 𝘴𝘪𝘵𝘵𝘪𝘯' 𝘰𝘯 𝘺𝘰𝘶𝘳 𝘧𝘦𝘦𝘭𝘪𝘯𝘨𝘴 . . . 𝘐'𝘮 𝘴𝘪...</td>\n",
       "      <td>null;</td>\n",
       "      <td>True</td>\n",
       "      <td>['𝘛𝘩𝘦𝘰𝘯𝘦']</td>\n",
       "      <td>[]</td>\n",
       "      <td>1</td>\n",
       "      <td>0</td>\n",
       "      <td>128</td>\n",
       "      <td>123.7550</td>\n",
       "      <td>0</td>\n",
       "      <td>0</td>\n",
       "      <td>0.0000</td>\n",
       "      <td>1.0000</td>\n",
       "      <td>-0.0000</td>\n",
       "      <td>0.0000</td>\n",
       "      <td>[]</td>\n",
       "      <td>0</td>\n",
       "      <td>-0.0000</td>\n",
       "      <td>0.0000</td>\n",
       "      <td>0.0000</td>\n",
       "      <td>0.0000</td>\n",
       "      <td>0.0000</td>\n",
       "    </tr>\n",
       "    <tr>\n",
       "      <th>3</th>\n",
       "      <td>1178791644797255680</td>\n",
       "      <td>lagosboygang</td>\n",
       "      <td>2019-09-30 22:00:03+00:00</td>\n",
       "      <td>571</td>\n",
       "      <td>1401</td>\n",
       "      <td>0</td>\n",
       "      <td>0</td>\n",
       "      <td>@Tiffany_o_ @UG_derrick That's the one i wanna...</td>\n",
       "      <td>null;</td>\n",
       "      <td>True</td>\n",
       "      <td>[]</td>\n",
       "      <td>['Tiffany_o_', 'UG_derrick']</td>\n",
       "      <td>0</td>\n",
       "      <td>2</td>\n",
       "      <td>77</td>\n",
       "      <td>105.9210</td>\n",
       "      <td>0</td>\n",
       "      <td>0</td>\n",
       "      <td>0.0000</td>\n",
       "      <td>1.0000</td>\n",
       "      <td>-0.0000</td>\n",
       "      <td>0.0000</td>\n",
       "      <td>[]</td>\n",
       "      <td>0</td>\n",
       "      <td>-0.0000</td>\n",
       "      <td>0.0000</td>\n",
       "      <td>0.0000</td>\n",
       "      <td>0.0000</td>\n",
       "      <td>0.0000</td>\n",
       "    </tr>\n",
       "    <tr>\n",
       "      <th>4</th>\n",
       "      <td>1178791648056217600</td>\n",
       "      <td>Phenom_Hoops</td>\n",
       "      <td>2019-09-30 22:00:04+00:00</td>\n",
       "      <td>25630</td>\n",
       "      <td>1674</td>\n",
       "      <td>1</td>\n",
       "      <td>1</td>\n",
       "      <td>2022 6’9 Perry Smith Jr. showcasing his high-m...</td>\n",
       "      <td>https://www.phenomhoopreport.com/2022-69-perry...</td>\n",
       "      <td>False</td>\n",
       "      <td>['PhenomHoops']</td>\n",
       "      <td>[]</td>\n",
       "      <td>1</td>\n",
       "      <td>0</td>\n",
       "      <td>227</td>\n",
       "      <td>65.9430</td>\n",
       "      <td>phenomhoopreport.com</td>\n",
       "      <td>1</td>\n",
       "      <td>0.0580</td>\n",
       "      <td>0.9420</td>\n",
       "      <td>-0.0000</td>\n",
       "      <td>0.2263</td>\n",
       "      <td>[]</td>\n",
       "      <td>0</td>\n",
       "      <td>-0.0000</td>\n",
       "      <td>0.0000</td>\n",
       "      <td>0.0000</td>\n",
       "      <td>0.0000</td>\n",
       "      <td>0.0000</td>\n",
       "    </tr>\n",
       "  </tbody>\n",
       "</table>\n",
       "</div>"
      ],
      "text/plain": [
       "              Tweet_Id         Username                  Timestamp  Followers  \\\n",
       "0  1178791636039589889         DCComics  2019-09-30 22:00:01+00:00    3349606   \n",
       "1  1178791641265639424       seanberdyz  2019-09-30 22:00:02+00:00       1203   \n",
       "2  1178791640573579264  AnArtistAtBirth  2019-09-30 22:00:02+00:00        109   \n",
       "3  1178791644797255680     lagosboygang  2019-09-30 22:00:03+00:00        571   \n",
       "4  1178791648056217600     Phenom_Hoops  2019-09-30 22:00:04+00:00      25630   \n",
       "\n",
       "   Followees  Retweets  Favorites  \\\n",
       "0        563         2         13   \n",
       "1        499         4         20   \n",
       "2        215         0          0   \n",
       "3       1401         0          0   \n",
       "4       1674         1          1   \n",
       "\n",
       "                                                Text  \\\n",
       "0  Today on #DCDaily, the crew takes a deep dive ...   \n",
       "1  𝘪’𝘮 𝘨𝘰𝘯𝘯𝘢 𝘣𝘦 𝘳𝘪𝘨𝘩𝘵 𝘩𝘦𝘳𝘦 ⟶ https://t.co/kOxWQL5...   \n",
       "2  ❛ 𝘠𝘰𝘶'𝘳𝘦 𝘴𝘪𝘵𝘵𝘪𝘯' 𝘰𝘯 𝘺𝘰𝘶𝘳 𝘧𝘦𝘦𝘭𝘪𝘯𝘨𝘴 . . . 𝘐'𝘮 𝘴𝘪...   \n",
       "3  @Tiffany_o_ @UG_derrick That's the one i wanna...   \n",
       "4  2022 6’9 Perry Smith Jr. showcasing his high-m...   \n",
       "\n",
       "                                                URLs  Is_deleted  \\\n",
       "0                           http://bit.ly/2mlNYpS:-:       False   \n",
       "1                      http://ourownside.carrd.co:-:        True   \n",
       "2                                              null;        True   \n",
       "3                                              null;        True   \n",
       "4  https://www.phenomhoopreport.com/2022-69-perry...       False   \n",
       "\n",
       "          Hashtags                      Mentions  Number of Hashtags  \\\n",
       "0      ['DCDaily']                 ['DCUTitans']                   1   \n",
       "1               []                            []                   0   \n",
       "2       ['𝘛𝘩𝘦𝘰𝘯𝘦']                            []                   1   \n",
       "3               []  ['Tiffany_o_', 'UG_derrick']                   0   \n",
       "4  ['PhenomHoops']                            []                   1   \n",
       "\n",
       "   Number of Mentions  Textlength  Readability                 Domains  \\\n",
       "0                   1         192      70.3500  dcuniverseinfinite.com   \n",
       "1                   0          73      82.3900                carrd.co   \n",
       "2                   0         128     123.7550                       0   \n",
       "3                   2          77     105.9210                       0   \n",
       "4                   0         227      65.9430    phenomhoopreport.com   \n",
       "\n",
       "   Number of URLs  Vader_pos  Vader_neu  Vader_neg  Vader_com Emojis  \\\n",
       "0               1     0.0000     1.0000    -0.0000     0.0000     []   \n",
       "1               1     0.0000     1.0000    -0.0000     0.0000     []   \n",
       "2               0     0.0000     1.0000    -0.0000     0.0000     []   \n",
       "3               0     0.0000     1.0000    -0.0000     0.0000     []   \n",
       "4               1     0.0580     0.9420    -0.0000     0.2263     []   \n",
       "\n",
       "   Number of Emojis  Emoji_neg  Emoji_neu  Emoji_pos  Emoji_average  \\\n",
       "0                 0    -0.0000     0.0000     0.0000         0.0000   \n",
       "1                 0    -0.0000     0.0000     0.0000         0.0000   \n",
       "2                 0    -0.0000     0.0000     0.0000         0.0000   \n",
       "3                 0    -0.0000     0.0000     0.0000         0.0000   \n",
       "4                 0    -0.0000     0.0000     0.0000         0.0000   \n",
       "\n",
       "   Number of valued Emojis  \n",
       "0                   0.0000  \n",
       "1                   0.0000  \n",
       "2                   0.0000  \n",
       "3                   0.0000  \n",
       "4                   0.0000  "
      ]
     },
     "execution_count": 3,
     "metadata": {},
     "output_type": "execute_result"
    }
   ],
   "source": [
    "#Dataframe TweetsKB \n",
    "df_tweetskb = pd.read_csv(TweetsKB_Pfad, sep='\\t', error_bad_lines=False, names=TweetsKB_labels)\n",
    "print('Form :', df_tweetskb.shape)\n",
    "df_tweetskb.head()"
   ]
  },
  {
   "cell_type": "code",
   "execution_count": 16,
   "id": "faab04a0",
   "metadata": {},
   "outputs": [],
   "source": [
    "df_del_kb = df_tweetskb[df_tweetskb['Is_deleted'] == True]\n",
    "df_undel_kb = df_tweetskb[df_tweetskb['Is_deleted'] == False]"
   ]
  },
  {
   "cell_type": "code",
   "execution_count": 8,
   "id": "2e62f62c",
   "metadata": {},
   "outputs": [],
   "source": [
    "\n",
    "def get_tweets_per_month(dataframe):\n",
    "    monaten = {}\n",
    "    for i in dataframe['Timestamp']:\n",
    "        monat = datetime.strptime(i, '%Y-%m-%d %H:%M:%S%z')\n",
    "        m = monat.strftime('%B')\n",
    "        if m not in monaten:\n",
    "            monaten[m] = 1\n",
    "        else:\n",
    "            monaten[m] = monaten[m]+1\n",
    "    m2 = { 'October': monaten['October'], 'November':monaten['November'], 'December':monaten['December'],'January': monaten['January'], 'February': monaten['February'], 'March': monaten['March'], 'April': monaten['April'], 'May': monaten['May']}\n",
    "    print(monaten)\n",
    "    return m2\n"
   ]
  },
  {
   "cell_type": "code",
   "execution_count": 9,
   "id": "bf51a39b",
   "metadata": {},
   "outputs": [
    {
     "name": "stdout",
     "output_type": "stream",
     "text": [
      "{'September': 447, 'October': 153934, 'November': 141547, 'December': 146171, 'January': 161787, 'February': 143121, 'March': 511405, 'April': 485399, 'May': 393690}\n",
      "{'September': 1224, 'October': 427223, 'November': 401781, 'December': 403657, 'January': 456580, 'February': 429612, 'March': 1911935, 'April': 1836599, 'May': 1403729}\n"
     ]
    }
   ],
   "source": [
    "del_dic_cov19 = get_tweets_per_month(df_del_cov19)\n",
    "undel_dic_cov19 = get_tweets_per_month(df_undel_cov19)\n"
   ]
  },
  {
   "cell_type": "code",
   "execution_count": 10,
   "id": "6ac5cc93",
   "metadata": {},
   "outputs": [
    {
     "name": "stdout",
     "output_type": "stream",
     "text": [
      "{'September': 1207, 'October': 323860, 'November': 307563, 'December': 323691, 'January': 335844, 'February': 298610, 'March': 351102, 'April': 383484, 'May': 397216}\n",
      "{'September': 2798, 'October': 764124, 'November': 733684, 'December': 758357, 'January': 816303, 'February': 746222, 'March': 910141, 'April': 963411, 'May': 992224}\n"
     ]
    }
   ],
   "source": [
    "del_dic_kb = get_tweets_per_month(df_del_kb)\n",
    "undel_dic_kb = get_tweets_per_month(df_undel_kb)\n"
   ]
  },
  {
   "cell_type": "code",
   "execution_count": 17,
   "id": "a2283210",
   "metadata": {},
   "outputs": [],
   "source": [
    "def millions(x, pos):\n",
    "    \"\"\"The two args are the value and tick position.\"\"\"\n",
    "    return '{:1.1f}M'.format(x*1e-6)\n",
    "\n",
    "def plot_tweets_pro_monat_en(non_deleted_cov19, deleted_cov19 , non_deleted_kb, deleted_kb, month):\n",
    "    list_non_deleted_cov19 = non_deleted_cov19\n",
    "    list_deleted_cov19 = deleted_cov19\n",
    "    list_non_deleted_kb = non_deleted_kb\n",
    "    list_deleted_kb = deleted_kb\n",
    "    list_month = month\n",
    "\n",
    "    x = np.arange(len(list_month))\n",
    "    w = 0.3\n",
    "    plt.rcParams[\"figure.figsize\"] = [10,8]\n",
    "    fig, ax = plt.subplots()\n",
    "\n",
    "    ax.bar(x + w/2, list_deleted_cov19, w, label='TweetsCOV19(Deleted)', color='peru', bottom = list_non_deleted_cov19)\n",
    "    ax.bar(x + w/2, list_non_deleted_cov19, w, label='TweetsCOV19(Non-deleted)', color='darkslateblue')\n",
    "    ax.bar(x - w/2, list_deleted_kb, w, label='TweetsKB(Deleted)', color='khaki', bottom = list_non_deleted_kb)\n",
    "    ax.bar(x - w/2, list_non_deleted_kb, w, label='TweetsKB(Non-deleted)', color='cornflowerblue')\n",
    "\n",
    "    ax.set_ylabel('Number of Tweets', fontsize=18)\n",
    "    #ax.set_title('Breakdown of posted and deleted tweets', fontweight=\"bold\")\n",
    "    ax.set_xticks(x)\n",
    "    ax.set_xticklabels(list_month, fontsize=19,  rotation='45')\n",
    "    ax.yaxis.set_major_formatter(millions)\n",
    "    ax.legend(fontsize=16)\n",
    "    ax.tick_params(axis='y', which='major', labelsize=16)\n",
    "\n",
    "    fig.tight_layout()\n",
    "    plt.show()\n",
    "\n",
    "    pfad='../plots/deletedtweetsovertime.pdf'\n",
    "    fig.savefig(pfad)\n"
   ]
  },
  {
   "cell_type": "code",
   "execution_count": 18,
   "id": "da05398d",
   "metadata": {},
   "outputs": [
    {
     "data": {
      "image/png": "[encoded data removed]",
      "text/plain": [
       "<Figure size 720x576 with 1 Axes>"
      ]
     },
     "metadata": {
      "needs_background": "light"
     },
     "output_type": "display_data"
    }
   ],
   "source": [
    "plot_tweets_pro_monat_en(list(undel_dic_cov19.values()), list(del_dic_cov19.values()), list(undel_dic_kb.values()), list(del_dic_kb.values()),  [ 'Oct 2019', 'Nov 2019', 'Dec 2019', 'Jan 2020', 'Feb 2020', 'Mar 2020', 'Apr 2020', 'May 2020'])\n"
   ]
  },
  {
   "cell_type": "markdown",
   "id": "46feaab3",
   "metadata": {},
   "source": [
    "***"
   ]
  },
  {
   "cell_type": "markdown",
   "id": "eb8f41a4",
   "metadata": {},
   "source": [
    "## Number of intersected Tweets between both datasets"
   ]
  },
  {
   "cell_type": "markdown",
   "id": "e5ee5153",
   "metadata": {},
   "source": [
    "***"
   ]
  },
  {
   "cell_type": "code",
   "execution_count": 19,
   "id": "14b218ee",
   "metadata": {},
   "outputs": [],
   "source": [
    "df = pd.merge(df_tweetscov19, df_tweetskb, on='Tweet_Id', how=\"inner\")"
   ]
  },
  {
   "cell_type": "code",
   "execution_count": 23,
   "id": "9a139285",
   "metadata": {},
   "outputs": [
    {
     "name": "stdout",
     "output_type": "stream",
     "text": [
      "Number of intersected Tweets:  466474\n"
     ]
    }
   ],
   "source": [
    "print('Number of intersected Tweets: ', df.shape[0])"
   ]
  },
  {
   "cell_type": "markdown",
   "id": "657ec092",
   "metadata": {},
   "source": [
    "***"
   ]
  },
  {
   "cell_type": "markdown",
   "id": "417ca0ec",
   "metadata": {},
   "source": [
    "## Number of deleted Tweets per user in both datasets"
   ]
  },
  {
   "cell_type": "markdown",
   "id": "25eb2258",
   "metadata": {},
   "source": [
    "***"
   ]
  },
  {
   "cell_type": "code",
   "execution_count": 38,
   "id": "33d210f7",
   "metadata": {},
   "outputs": [
    {
     "name": "stdout",
     "output_type": "stream",
     "text": [
      "Form : (9409841, 9)\n"
     ]
    },
    {
     "data": {
      "text/html": [
       "<div>\n",
       "<style scoped>\n",
       "    .dataframe tbody tr th:only-of-type {\n",
       "        vertical-align: middle;\n",
       "    }\n",
       "\n",
       "    .dataframe tbody tr th {\n",
       "        vertical-align: top;\n",
       "    }\n",
       "\n",
       "    .dataframe thead th {\n",
       "        text-align: right;\n",
       "    }\n",
       "</style>\n",
       "<table border=\"1\" class=\"dataframe\">\n",
       "  <thead>\n",
       "    <tr style=\"text-align: right;\">\n",
       "      <th></th>\n",
       "      <th>Tweet_Id</th>\n",
       "      <th>Username</th>\n",
       "      <th>Followers</th>\n",
       "      <th>Friends</th>\n",
       "      <th>is_deleted</th>\n",
       "      <th>Reputation</th>\n",
       "      <th>num_posted</th>\n",
       "      <th>num_deleted</th>\n",
       "      <th>Deletionratio</th>\n",
       "    </tr>\n",
       "  </thead>\n",
       "  <tbody>\n",
       "    <tr>\n",
       "      <th>0</th>\n",
       "      <td>1178791637348212736</td>\n",
       "      <td>c57d4fb895c5f4a33d2a2b24709f93b5</td>\n",
       "      <td>764191</td>\n",
       "      <td>132</td>\n",
       "      <td>True</td>\n",
       "      <td>0.9998</td>\n",
       "      <td>21</td>\n",
       "      <td>21</td>\n",
       "      <td>1.0000</td>\n",
       "    </tr>\n",
       "    <tr>\n",
       "      <th>1</th>\n",
       "      <td>1181705842275573766</td>\n",
       "      <td>c57d4fb895c5f4a33d2a2b24709f93b5</td>\n",
       "      <td>765034</td>\n",
       "      <td>132</td>\n",
       "      <td>True</td>\n",
       "      <td>0.9998</td>\n",
       "      <td>21</td>\n",
       "      <td>21</td>\n",
       "      <td>1.0000</td>\n",
       "    </tr>\n",
       "    <tr>\n",
       "      <th>2</th>\n",
       "      <td>1187828746503540738</td>\n",
       "      <td>c57d4fb895c5f4a33d2a2b24709f93b5</td>\n",
       "      <td>766578</td>\n",
       "      <td>132</td>\n",
       "      <td>True</td>\n",
       "      <td>0.9998</td>\n",
       "      <td>21</td>\n",
       "      <td>21</td>\n",
       "      <td>1.0000</td>\n",
       "    </tr>\n",
       "    <tr>\n",
       "      <th>3</th>\n",
       "      <td>1192622772658290688</td>\n",
       "      <td>c57d4fb895c5f4a33d2a2b24709f93b5</td>\n",
       "      <td>767939</td>\n",
       "      <td>133</td>\n",
       "      <td>True</td>\n",
       "      <td>0.9998</td>\n",
       "      <td>21</td>\n",
       "      <td>21</td>\n",
       "      <td>1.0000</td>\n",
       "    </tr>\n",
       "    <tr>\n",
       "      <th>4</th>\n",
       "      <td>1193272068621717504</td>\n",
       "      <td>c57d4fb895c5f4a33d2a2b24709f93b5</td>\n",
       "      <td>768180</td>\n",
       "      <td>133</td>\n",
       "      <td>True</td>\n",
       "      <td>0.9998</td>\n",
       "      <td>21</td>\n",
       "      <td>21</td>\n",
       "      <td>1.0000</td>\n",
       "    </tr>\n",
       "  </tbody>\n",
       "</table>\n",
       "</div>"
      ],
      "text/plain": [
       "              Tweet_Id                          Username  Followers  Friends  \\\n",
       "0  1178791637348212736  c57d4fb895c5f4a33d2a2b24709f93b5     764191      132   \n",
       "1  1181705842275573766  c57d4fb895c5f4a33d2a2b24709f93b5     765034      132   \n",
       "2  1187828746503540738  c57d4fb895c5f4a33d2a2b24709f93b5     766578      132   \n",
       "3  1192622772658290688  c57d4fb895c5f4a33d2a2b24709f93b5     767939      133   \n",
       "4  1193272068621717504  c57d4fb895c5f4a33d2a2b24709f93b5     768180      133   \n",
       "\n",
       "   is_deleted  Reputation  num_posted  num_deleted  Deletionratio  \n",
       "0        True      0.9998          21           21         1.0000  \n",
       "1        True      0.9998          21           21         1.0000  \n",
       "2        True      0.9998          21           21         1.0000  \n",
       "3        True      0.9998          21           21         1.0000  \n",
       "4        True      0.9998          21           21         1.0000  "
      ]
     },
     "execution_count": 38,
     "metadata": {},
     "output_type": "execute_result"
    }
   ],
   "source": [
    "pfad_tsv = '../data/TweetsCov19_alltweets_reputation_deletionratio.tsv'\n",
    "\n",
    "df_tweetscov19_alltweets_reputation_deletionratio = pd.read_csv(pfad_tsv, sep='\\t', error_bad_lines=False, names=['Tweet_Id', 'Username', 'Followers', 'Friends', 'is_deleted', 'Reputation', 'num_posted', 'num_deleted', 'Deletionratio'])\n",
    "\n",
    "print('Form :', df_tweetscov19_alltweets_reputation_deletionratio.shape)\n",
    "df_tweetscov19_alltweets_reputation_deletionratio.head()"
   ]
  },
  {
   "cell_type": "code",
   "execution_count": 40,
   "id": "7dd31a18",
   "metadata": {},
   "outputs": [
    {
     "name": "stdout",
     "output_type": "stream",
     "text": [
      "Form : (9409841, 9)\n"
     ]
    },
    {
     "data": {
      "text/html": [
       "<div>\n",
       "<style scoped>\n",
       "    .dataframe tbody tr th:only-of-type {\n",
       "        vertical-align: middle;\n",
       "    }\n",
       "\n",
       "    .dataframe tbody tr th {\n",
       "        vertical-align: top;\n",
       "    }\n",
       "\n",
       "    .dataframe thead th {\n",
       "        text-align: right;\n",
       "    }\n",
       "</style>\n",
       "<table border=\"1\" class=\"dataframe\">\n",
       "  <thead>\n",
       "    <tr style=\"text-align: right;\">\n",
       "      <th></th>\n",
       "      <th>Tweet_Id</th>\n",
       "      <th>Username</th>\n",
       "      <th>Followers</th>\n",
       "      <th>Friends</th>\n",
       "      <th>is_deleted</th>\n",
       "      <th>num_posted</th>\n",
       "      <th>num_deleted</th>\n",
       "      <th>Deletionratio</th>\n",
       "      <th>Reputation</th>\n",
       "    </tr>\n",
       "  </thead>\n",
       "  <tbody>\n",
       "    <tr>\n",
       "      <th>0</th>\n",
       "      <td>1178791636039589889</td>\n",
       "      <td>DCComics</td>\n",
       "      <td>3349606</td>\n",
       "      <td>563</td>\n",
       "      <td>False</td>\n",
       "      <td>42</td>\n",
       "      <td>0</td>\n",
       "      <td>0.0000</td>\n",
       "      <td>0.9998</td>\n",
       "    </tr>\n",
       "    <tr>\n",
       "      <th>1</th>\n",
       "      <td>1179833467644850176</td>\n",
       "      <td>DCComics</td>\n",
       "      <td>3351904</td>\n",
       "      <td>563</td>\n",
       "      <td>False</td>\n",
       "      <td>42</td>\n",
       "      <td>0</td>\n",
       "      <td>0.0000</td>\n",
       "      <td>0.9998</td>\n",
       "    </tr>\n",
       "    <tr>\n",
       "      <th>2</th>\n",
       "      <td>1180490470125965313</td>\n",
       "      <td>DCComics</td>\n",
       "      <td>3354879</td>\n",
       "      <td>563</td>\n",
       "      <td>False</td>\n",
       "      <td>42</td>\n",
       "      <td>0</td>\n",
       "      <td>0.0000</td>\n",
       "      <td>0.9998</td>\n",
       "    </tr>\n",
       "    <tr>\n",
       "      <th>3</th>\n",
       "      <td>1187059882534400000</td>\n",
       "      <td>DCComics</td>\n",
       "      <td>3369484</td>\n",
       "      <td>562</td>\n",
       "      <td>False</td>\n",
       "      <td>42</td>\n",
       "      <td>0</td>\n",
       "      <td>0.0000</td>\n",
       "      <td>0.9998</td>\n",
       "    </tr>\n",
       "    <tr>\n",
       "      <th>4</th>\n",
       "      <td>1190311668141580288</td>\n",
       "      <td>DCComics</td>\n",
       "      <td>3376154</td>\n",
       "      <td>564</td>\n",
       "      <td>False</td>\n",
       "      <td>42</td>\n",
       "      <td>0</td>\n",
       "      <td>0.0000</td>\n",
       "      <td>0.9998</td>\n",
       "    </tr>\n",
       "  </tbody>\n",
       "</table>\n",
       "</div>"
      ],
      "text/plain": [
       "              Tweet_Id  Username  Followers  Friends  is_deleted  num_posted  \\\n",
       "0  1178791636039589889  DCComics    3349606      563       False          42   \n",
       "1  1179833467644850176  DCComics    3351904      563       False          42   \n",
       "2  1180490470125965313  DCComics    3354879      563       False          42   \n",
       "3  1187059882534400000  DCComics    3369484      562       False          42   \n",
       "4  1190311668141580288  DCComics    3376154      564       False          42   \n",
       "\n",
       "   num_deleted  Deletionratio  Reputation  \n",
       "0            0         0.0000      0.9998  \n",
       "1            0         0.0000      0.9998  \n",
       "2            0         0.0000      0.9998  \n",
       "3            0         0.0000      0.9998  \n",
       "4            0         0.0000      0.9998  "
      ]
     },
     "execution_count": 40,
     "metadata": {},
     "output_type": "execute_result"
    }
   ],
   "source": [
    "path = '../data/TweetsKB_alltweets_reputation_deletionratio.tsv'\n",
    "\n",
    "df_tweetskb_alltweets_reputation_deletionratio = pd.read_csv(path, sep='\\t', error_bad_lines=False, names=['Tweet_Id', 'Username', 'Followers', 'Friends', 'is_deleted', 'num_posted', 'num_deleted', 'Deletionratio',  'Reputation'])\n",
    "\n",
    "print('Form :', df_tweetskb_alltweets_reputation_deletionratio.shape)\n",
    "df_tweetskb_alltweets_reputation_deletionratio.head()"
   ]
  },
  {
   "cell_type": "code",
   "execution_count": 31,
   "id": "31d6e7f9",
   "metadata": {},
   "outputs": [],
   "source": [
    "def number_of_deleted_tweets(df):\n",
    "    \n",
    "    User_nur_0 = 0\n",
    "    User_nur_1 = 0\n",
    "    User_nur_2 = 0\n",
    "    User_between_3_5 = 0\n",
    "    User_between_5_10 = 0\n",
    "    User_between_10_15 = 0\n",
    "    User_between_15_20 = 0\n",
    "    User_between_20_25 = 0\n",
    "    User_between_25_30 = 0\n",
    "    User_between_30_35 = 0\n",
    "    User_between_35_40 = 0\n",
    "    User_between_40_45 = 0\n",
    "    User_between_45_50 = 0\n",
    "    User_between_50_55 = 0\n",
    "    User_between_55_60 = 0\n",
    "    User_mehr_als_60 = 0\n",
    "    \n",
    "    for key, value in df.num_deleted.items():\n",
    "\n",
    "        #if key <10 :\n",
    "            #print (key, value)\n",
    "            \n",
    "        if value == 1 :\n",
    "            User_nur_1 = User_nur_1 + 1\n",
    "        if value == 2 :\n",
    "            User_nur_2 = User_nur_2 + 1\n",
    "        if value > 2 and value <= 5 :\n",
    "            User_between_3_5 = User_between_3_5 + 1\n",
    "        if value > 5 and value <= 10 :\n",
    "            User_between_5_10 = User_between_5_10 + 1\n",
    "        if value > 10 and value <= 15 :\n",
    "            User_between_10_15 = User_between_10_15 + 1\n",
    "        if value > 15 and value <= 20 :\n",
    "            User_between_15_20 = User_between_15_20 + 1\n",
    "        if value > 20 and value <= 25 :\n",
    "            User_between_20_25 = User_between_20_25 + 1\n",
    "        if value > 25 and value <= 30 :\n",
    "            User_between_25_30 = User_between_25_30 + 1\n",
    "        if value > 30 and value <= 35 :\n",
    "            User_between_30_35 = User_between_30_35 + 1\n",
    "        if value > 35 and value <= 40 :\n",
    "            User_between_35_40 = User_between_35_40 + 1\n",
    "        if value > 40 and value <= 45 :\n",
    "            User_between_40_45 = User_between_45_50 + 1\n",
    "        if value > 45 and value <= 50 :\n",
    "            User_between_45_50 = User_between_45_50 + 1\n",
    "        if value > 50 and value <= 55 :\n",
    "            User_between_50_55 = User_between_50_55 + 1\n",
    "        if value > 55 and value <= 60 :\n",
    "            User_between_55_60 = User_between_55_60 + 1\n",
    "        if value >= 60 :\n",
    "            User_mehr_als_60 = User_mehr_als_60 + 1\n",
    "            \n",
    "    List_number_of_tweeets = []\n",
    "    List_number_of_tweeets.append(User_nur_1)\n",
    "    List_number_of_tweeets.append(User_nur_2)\n",
    "    List_number_of_tweeets.append(User_between_3_5)\n",
    "    List_number_of_tweeets.append(User_between_5_10)\n",
    "    List_number_of_tweeets.append(User_between_10_15)\n",
    "    List_number_of_tweeets.append(User_between_15_20)\n",
    "    List_number_of_tweeets.append(User_between_20_25)\n",
    "    List_number_of_tweeets.append(User_between_25_30)\n",
    "    List_number_of_tweeets.append(User_between_30_35)\n",
    "    List_number_of_tweeets.append(User_between_35_40)\n",
    "    List_number_of_tweeets.append(User_between_40_45)\n",
    "    List_number_of_tweeets.append(User_between_45_50)\n",
    "    List_number_of_tweeets.append(User_between_50_55)\n",
    "    List_number_of_tweeets.append(User_between_55_60)\n",
    "    List_number_of_tweeets.append(User_mehr_als_60)\n",
    "    return List_number_of_tweeets"
   ]
  },
  {
   "cell_type": "code",
   "execution_count": 46,
   "id": "cae64aa5",
   "metadata": {},
   "outputs": [],
   "source": [
    "def plot_gelöschte_tweets_pero_Benutzer(list_1, list_2, title):\n",
    "    gelöschte_tweets_pero_Benutzer = list_1\n",
    "\n",
    "    list_3 = []\n",
    "    for i in range(0, len(gelöschte_tweets_pero_Benutzer)):\n",
    "        list_3.append((gelöschte_tweets_pero_Benutzer[i]/4095876) * 100)\n",
    "        \n",
    "    x = np.arange(len(list_2))\n",
    "    w = 1\n",
    "    plt.rcParams[\"figure.figsize\"] = [8,6]\n",
    "    fig, ax = plt.subplots()\n",
    "\n",
    "    ax.bar(x, list_3, w, label='Number of useres', color='mediumslateblue')\n",
    "    ax.yaxis.set_major_formatter(tick.PercentFormatter())\n",
    "    ax.set_ylabel('Percentage of users ', fontweight=\"bold\")\n",
    "    ax.set_xlabel('Number of tweets ', fontweight=\"bold\")\n",
    "    #ax.set_title('Anzahl der geloschten Tweets von Benutzern', fontweight=\"bold\")\n",
    "    ax.set_xticks(x)\n",
    "    ax.set_xticklabels(list_2, fontsize=12,  rotation='45')\n",
    "    ax.legend()\n",
    "\n",
    "    fig.tight_layout()\n",
    "    plt.savefig('../plots/'+title+'.pdf')\n",
    "    plt.show()\n"
   ]
  },
  {
   "cell_type": "code",
   "execution_count": 47,
   "id": "c70a9817",
   "metadata": {},
   "outputs": [
    {
     "name": "stdout",
     "output_type": "stream",
     "text": [
      "[814737, 132810, 88258, 26023, 7121, 3299, 1784, 1053, 724, 505, 293, 292, 263, 179, 1616]\n"
     ]
    },
    {
     "data": {
      "image/png": "[encoded data removed]",
      "text/plain": [
       "<Figure size 576x432 with 1 Axes>"
      ]
     },
     "metadata": {
      "needs_background": "light"
     },
     "output_type": "display_data"
    }
   ],
   "source": [
    "\n",
    "df_tweetscov19_uniqusers_num_deleted = df_tweetscov19_alltweets_reputation_deletionratio.drop_duplicates(subset=[\"Username\"])\n",
    "\n",
    "df_tweetscov19_uniqusers_num_deleted = df_tweetscov19_uniqusers_num_deleted[['num_deleted']]\n",
    "List_number_of_tweeets = number_of_deleted_tweets(df_tweetscov19_uniqusers_num_deleted)\n",
    "print(List_number_of_tweeets)\n",
    "\n",
    "plot_gelöschte_tweets_pero_Benutzer(List_number_of_tweeets, [ '1', '2', '3-5', '6-10', '11-15', '16-20', '21-25', '26-30', '31-35', '36-40', '41-45', '46-50', '51-55','56-60', '>60'], 'Barplot_tweetscov19_number_of_deleted_tweets_pro_benutzer')"
   ]
  },
  {
   "cell_type": "code",
   "execution_count": 48,
   "id": "47e3144c",
   "metadata": {},
   "outputs": [
    {
     "name": "stdout",
     "output_type": "stream",
     "text": [
      "[1214905, 199724, 129173, 34238, 8271, 3320, 1763, 898, 632, 420, 244, 246, 217, 134, 803]\n"
     ]
    },
    {
     "data": {
      "image/png": "[encoded data removed]",
      "text/plain": [
       "<Figure size 576x432 with 1 Axes>"
      ]
     },
     "metadata": {
      "needs_background": "light"
     },
     "output_type": "display_data"
    }
   ],
   "source": [
    "df_tweetskb_uniqusers_num_deleted = df_tweetskb_alltweets_reputation_deletionratio.drop_duplicates(subset=[\"Username\"])\n",
    "\n",
    "df_tweetskb_uniqusers_num_deleted = df_tweetskb_uniqusers_num_deleted[['num_deleted']]\n",
    "List_number_of_tweeets = number_of_deleted_tweets(df_tweetskb_uniqusers_num_deleted)\n",
    "print(List_number_of_tweeets)\n",
    "\n",
    "plot_gelöschte_tweets_pero_Benutzer(List_number_of_tweeets, [ '1', '2', '3-5', '6-10', '11-15', '16-20', '21-25', '26-30', '31-35', '36-40', '41-45', '46-50', '51-55','56-60', '>60'], 'Barplot_tweetskb_number_of_deleted_tweets_pro_benutzer')"
   ]
  },
  {
   "cell_type": "markdown",
   "id": "eab83aca",
   "metadata": {},
   "source": [
    "****"
   ]
  },
  {
   "cell_type": "code",
   "execution_count": 17,
   "id": "d4130602",
   "metadata": {},
   "outputs": [],
   "source": [
    "df_tweetscov19 = df_tweetscov19[['Tweet_Id', 'Username', 'Timestamp', 'Is_deleted',  'Domains']]"
   ]
  },
  {
   "cell_type": "code",
   "execution_count": 18,
   "id": "5286fc31",
   "metadata": {},
   "outputs": [
    {
     "data": {
      "text/html": [
       "<div>\n",
       "<style scoped>\n",
       "    .dataframe tbody tr th:only-of-type {\n",
       "        vertical-align: middle;\n",
       "    }\n",
       "\n",
       "    .dataframe tbody tr th {\n",
       "        vertical-align: top;\n",
       "    }\n",
       "\n",
       "    .dataframe thead th {\n",
       "        text-align: right;\n",
       "    }\n",
       "</style>\n",
       "<table border=\"1\" class=\"dataframe\">\n",
       "  <thead>\n",
       "    <tr style=\"text-align: right;\">\n",
       "      <th></th>\n",
       "      <th>Tweet_Id</th>\n",
       "      <th>Username</th>\n",
       "      <th>Timestamp</th>\n",
       "      <th>Is_deleted</th>\n",
       "      <th>Domains</th>\n",
       "    </tr>\n",
       "  </thead>\n",
       "  <tbody>\n",
       "    <tr>\n",
       "      <th>0</th>\n",
       "      <td>1178791637348212736</td>\n",
       "      <td>c57d4fb895c5f4a33d2a2b24709f93b5</td>\n",
       "      <td>2019-09-30 22:00:01+00:00</td>\n",
       "      <td>True</td>\n",
       "      <td>0</td>\n",
       "    </tr>\n",
       "    <tr>\n",
       "      <th>1</th>\n",
       "      <td>1178791641601232896</td>\n",
       "      <td>627f7d4ef584ba33a676a4ebcb861cdb</td>\n",
       "      <td>2019-09-30 22:00:02+00:00</td>\n",
       "      <td>False</td>\n",
       "      <td>catholicnewsagency.com</td>\n",
       "    </tr>\n",
       "    <tr>\n",
       "      <th>2</th>\n",
       "      <td>1178791643509612547</td>\n",
       "      <td>7966d5716c1c4f33591b17755184e3d6</td>\n",
       "      <td>2019-09-30 22:00:03+00:00</td>\n",
       "      <td>False</td>\n",
       "      <td>0</td>\n",
       "    </tr>\n",
       "    <tr>\n",
       "      <th>3</th>\n",
       "      <td>1178791644214235137</td>\n",
       "      <td>f17996c036ed4cd981f5448fe00d9ed2</td>\n",
       "      <td>2019-09-30 22:00:03+00:00</td>\n",
       "      <td>False</td>\n",
       "      <td>0</td>\n",
       "    </tr>\n",
       "    <tr>\n",
       "      <th>4</th>\n",
       "      <td>1178791645371875329</td>\n",
       "      <td>32a54e5f6d8a67de1bffd2e689594dc8</td>\n",
       "      <td>2019-09-30 22:00:03+00:00</td>\n",
       "      <td>False</td>\n",
       "      <td>0</td>\n",
       "    </tr>\n",
       "  </tbody>\n",
       "</table>\n",
       "</div>"
      ],
      "text/plain": [
       "              Tweet_Id                          Username  \\\n",
       "0  1178791637348212736  c57d4fb895c5f4a33d2a2b24709f93b5   \n",
       "1  1178791641601232896  627f7d4ef584ba33a676a4ebcb861cdb   \n",
       "2  1178791643509612547  7966d5716c1c4f33591b17755184e3d6   \n",
       "3  1178791644214235137  f17996c036ed4cd981f5448fe00d9ed2   \n",
       "4  1178791645371875329  32a54e5f6d8a67de1bffd2e689594dc8   \n",
       "\n",
       "                   Timestamp  Is_deleted                 Domains  \n",
       "0  2019-09-30 22:00:01+00:00        True                       0  \n",
       "1  2019-09-30 22:00:02+00:00       False  catholicnewsagency.com  \n",
       "2  2019-09-30 22:00:03+00:00       False                       0  \n",
       "3  2019-09-30 22:00:03+00:00       False                       0  \n",
       "4  2019-09-30 22:00:03+00:00       False                       0  "
      ]
     },
     "execution_count": 18,
     "metadata": {},
     "output_type": "execute_result"
    }
   ],
   "source": [
    "df_tweetscov19.head()"
   ]
  },
  {
   "cell_type": "code",
   "execution_count": 24,
   "id": "a7e5beb0",
   "metadata": {},
   "outputs": [
    {
     "data": {
      "text/plain": [
       "(2867084, 5)"
      ]
     },
     "execution_count": 24,
     "metadata": {},
     "output_type": "execute_result"
    }
   ],
   "source": [
    "df_tweetscov19_beforlockdown = df_tweetscov19[df_tweetscov19['Timestamp'] < '2020-03-01 00:00:00+00:00']\n",
    "df_tweetscov19_beforlockdown.shape"
   ]
  },
  {
   "cell_type": "code",
   "execution_count": 23,
   "id": "616ce745",
   "metadata": {},
   "outputs": [
    {
     "data": {
      "text/plain": [
       "(6542757, 5)"
      ]
     },
     "execution_count": 23,
     "metadata": {},
     "output_type": "execute_result"
    }
   ],
   "source": [
    "df_tweetscov19_afterlockdown = df_tweetscov19[df_tweetscov19['Timestamp'] >= '2020-03-01 00:00:00+00:00']\n",
    "df_tweetscov19_afterlockdown.shape"
   ]
  },
  {
   "cell_type": "code",
   "execution_count": 15,
   "id": "0cc90c71",
   "metadata": {},
   "outputs": [
    {
     "data": {
      "text/plain": [
       "(582828, 5)"
      ]
     },
     "execution_count": 15,
     "metadata": {},
     "output_type": "execute_result"
    }
   ],
   "source": [
    "df_tweetscov19_october2019 = df_tweetscov19[df_tweetscov19['Timestamp'] < '2019-11-01 00:00:00+00:00']\n",
    "df_tweetscov19_october2019.shape"
   ]
  },
  {
   "cell_type": "code",
   "execution_count": 13,
   "id": "555eb4ac",
   "metadata": {},
   "outputs": [
    {
     "data": {
      "text/plain": [
       "(543328, 5)"
      ]
     },
     "execution_count": 13,
     "metadata": {},
     "output_type": "execute_result"
    }
   ],
   "source": [
    "start_date = '2019-11-01 00:00:00+00:00'\n",
    "end_date = '2019-12-01 00:00:00+00:00'\n",
    "df_tweetscov19_november2019 = df_tweetscov19[(df_tweetscov19['Timestamp'] >= start_date) & (df_tweetscov19['Timestamp'] < end_date) ]\n",
    "df_tweetscov19_november2019.shape"
   ]
  },
  {
   "cell_type": "code",
   "execution_count": 9,
   "id": "e7f59fcf",
   "metadata": {},
   "outputs": [
    {
     "data": {
      "text/plain": [
       "(549828, 5)"
      ]
     },
     "execution_count": 9,
     "metadata": {},
     "output_type": "execute_result"
    }
   ],
   "source": [
    "start_date = '2019-12-01 00:00:00+00:00'\n",
    "end_date = '2020-01-01 00:00:00+00:00'\n",
    "df_tweetscov19_december2019 = df_tweetscov19[(df_tweetscov19['Timestamp'] >= start_date) & (df_tweetscov19['Timestamp'] < end_date) ]\n",
    "df_tweetscov19_december2019.shape"
   ]
  },
  {
   "cell_type": "code",
   "execution_count": 23,
   "id": "4bf620e1",
   "metadata": {},
   "outputs": [
    {
     "data": {
      "text/plain": [
       "(618367, 5)"
      ]
     },
     "execution_count": 23,
     "metadata": {},
     "output_type": "execute_result"
    }
   ],
   "source": [
    "start_date = '2020-01-01 00:00:00+00:00'\n",
    "end_date = '2020-02-01 00:00:00+00:00'\n",
    "df_tweetscov19_januar2020 = df_tweetscov19[(df_tweetscov19['Timestamp'] >= start_date) & (df_tweetscov19['Timestamp'] < end_date) ]\n",
    "df_tweetscov19_januar2020.shape"
   ]
  },
  {
   "cell_type": "code",
   "execution_count": 21,
   "id": "1a4a38f5",
   "metadata": {},
   "outputs": [
    {
     "data": {
      "text/plain": [
       "(572733, 5)"
      ]
     },
     "execution_count": 21,
     "metadata": {},
     "output_type": "execute_result"
    }
   ],
   "source": [
    "start_date = '2020-02-01 00:00:00+00:00'\n",
    "end_date = '2020-03-01 00:00:00+00:00'\n",
    "df_tweetscov19_februar2020 = df_tweetscov19[df_tweetscov19['Timestamp'] >= start_date] \n",
    "df_tweetscov19_februar2020 = df_tweetscov19_februar2020[df_tweetscov19_februar2020['Timestamp'] < end_date]\n",
    "df_tweetscov19_februar2020.shape"
   ]
  },
  {
   "cell_type": "code",
   "execution_count": 25,
   "id": "c0e3e556",
   "metadata": {},
   "outputs": [
    {
     "data": {
      "text/plain": [
       "(2423340, 5)"
      ]
     },
     "execution_count": 25,
     "metadata": {},
     "output_type": "execute_result"
    }
   ],
   "source": [
    "start_date = '2020-03-01 00:00:00+00:00'\n",
    "end_date = '2020-04-01 00:00:00+00:00'\n",
    "df_tweetscov19_maerz2020 = df_tweetscov19[df_tweetscov19['Timestamp'] >= start_date]\n",
    "df_tweetscov19_maerz2020 = df_tweetscov19_maerz2020[df_tweetscov19_maerz2020['Timestamp'] < end_date ]\n",
    "df_tweetscov19_maerz2020.shape"
   ]
  },
  {
   "cell_type": "code",
   "execution_count": 27,
   "id": "9d62771f",
   "metadata": {},
   "outputs": [
    {
     "data": {
      "text/plain": [
       "(2321998, 5)"
      ]
     },
     "execution_count": 27,
     "metadata": {},
     "output_type": "execute_result"
    }
   ],
   "source": [
    "start_date = '2020-04-01 00:00:00+00:00'\n",
    "end_date = '2020-05-01 00:00:00+00:00'\n",
    "df_tweetscov19_April2020 = df_tweetscov19[df_tweetscov19['Timestamp'] >= start_date]\n",
    "df_tweetscov19_April2020 = df_tweetscov19_April2020[df_tweetscov19_April2020['Timestamp'] < end_date ]\n",
    "df_tweetscov19_April2020.shape"
   ]
  },
  {
   "cell_type": "code",
   "execution_count": 29,
   "id": "6be3a0c6",
   "metadata": {},
   "outputs": [
    {
     "data": {
      "text/plain": [
       "(1797419, 5)"
      ]
     },
     "execution_count": 29,
     "metadata": {},
     "output_type": "execute_result"
    }
   ],
   "source": [
    "start_date = '2020-05-01 00:00:00+00:00'\n",
    "#end_date = '2020-05-01 00:00:00+00:00'\n",
    "df_tweetscov19_mai2020 = df_tweetscov19[df_tweetscov19['Timestamp'] >= start_date ]\n",
    "df_tweetscov19_mai2020.shape"
   ]
  },
  {
   "cell_type": "code",
   "execution_count": 30,
   "id": "089a9f4b",
   "metadata": {},
   "outputs": [],
   "source": [
    "path = '../data/df_tweetscov19_mai2020.tsv'\n",
    "\n",
    "with open(path, 'w', newline='', encoding=\"utf-8\") as out_file:\n",
    "    tsv_writer = csv.writer(out_file, delimiter=\"\\t\")\n",
    "    for idx, row in df_tweetscov19_mai2020.iterrows():\n",
    "        tsv_writer.writerow(row.values.tolist())"
   ]
  },
  {
   "cell_type": "markdown",
   "id": "bde39ab7",
   "metadata": {},
   "source": [
    "****"
   ]
  },
  {
   "cell_type": "markdown",
   "id": "579fcde9",
   "metadata": {},
   "source": [
    "# TweetsKB"
   ]
  },
  {
   "cell_type": "code",
   "execution_count": 4,
   "id": "e41f0e95",
   "metadata": {},
   "outputs": [
    {
     "data": {
      "text/html": [
       "<div>\n",
       "<style scoped>\n",
       "    .dataframe tbody tr th:only-of-type {\n",
       "        vertical-align: middle;\n",
       "    }\n",
       "\n",
       "    .dataframe tbody tr th {\n",
       "        vertical-align: top;\n",
       "    }\n",
       "\n",
       "    .dataframe thead th {\n",
       "        text-align: right;\n",
       "    }\n",
       "</style>\n",
       "<table border=\"1\" class=\"dataframe\">\n",
       "  <thead>\n",
       "    <tr style=\"text-align: right;\">\n",
       "      <th></th>\n",
       "      <th>Tweet_Id</th>\n",
       "      <th>Username</th>\n",
       "      <th>Timestamp</th>\n",
       "      <th>Is_deleted</th>\n",
       "      <th>Domains</th>\n",
       "    </tr>\n",
       "  </thead>\n",
       "  <tbody>\n",
       "    <tr>\n",
       "      <th>0</th>\n",
       "      <td>1178791636039589889</td>\n",
       "      <td>DCComics</td>\n",
       "      <td>2019-09-30 22:00:01+00:00</td>\n",
       "      <td>False</td>\n",
       "      <td>dcuniverseinfinite.com</td>\n",
       "    </tr>\n",
       "    <tr>\n",
       "      <th>1</th>\n",
       "      <td>1178791641265639424</td>\n",
       "      <td>seanberdyz</td>\n",
       "      <td>2019-09-30 22:00:02+00:00</td>\n",
       "      <td>True</td>\n",
       "      <td>carrd.co</td>\n",
       "    </tr>\n",
       "    <tr>\n",
       "      <th>2</th>\n",
       "      <td>1178791640573579264</td>\n",
       "      <td>AnArtistAtBirth</td>\n",
       "      <td>2019-09-30 22:00:02+00:00</td>\n",
       "      <td>True</td>\n",
       "      <td>0</td>\n",
       "    </tr>\n",
       "    <tr>\n",
       "      <th>3</th>\n",
       "      <td>1178791644797255680</td>\n",
       "      <td>lagosboygang</td>\n",
       "      <td>2019-09-30 22:00:03+00:00</td>\n",
       "      <td>True</td>\n",
       "      <td>0</td>\n",
       "    </tr>\n",
       "    <tr>\n",
       "      <th>4</th>\n",
       "      <td>1178791648056217600</td>\n",
       "      <td>Phenom_Hoops</td>\n",
       "      <td>2019-09-30 22:00:04+00:00</td>\n",
       "      <td>False</td>\n",
       "      <td>phenomhoopreport.com</td>\n",
       "    </tr>\n",
       "  </tbody>\n",
       "</table>\n",
       "</div>"
      ],
      "text/plain": [
       "              Tweet_Id         Username                  Timestamp  \\\n",
       "0  1178791636039589889         DCComics  2019-09-30 22:00:01+00:00   \n",
       "1  1178791641265639424       seanberdyz  2019-09-30 22:00:02+00:00   \n",
       "2  1178791640573579264  AnArtistAtBirth  2019-09-30 22:00:02+00:00   \n",
       "3  1178791644797255680     lagosboygang  2019-09-30 22:00:03+00:00   \n",
       "4  1178791648056217600     Phenom_Hoops  2019-09-30 22:00:04+00:00   \n",
       "\n",
       "   Is_deleted                 Domains  \n",
       "0       False  dcuniverseinfinite.com  \n",
       "1        True                carrd.co  \n",
       "2        True                       0  \n",
       "3        True                       0  \n",
       "4       False    phenomhoopreport.com  "
      ]
     },
     "execution_count": 4,
     "metadata": {},
     "output_type": "execute_result"
    }
   ],
   "source": [
    "df_tweetskb = df_tweetskb[['Tweet_Id', 'Username', 'Timestamp', 'Is_deleted',  'Domains']]\n",
    "df_tweetskb.head()"
   ]
  },
  {
   "cell_type": "code",
   "execution_count": 32,
   "id": "6f3741e4",
   "metadata": {},
   "outputs": [
    {
     "data": {
      "text/plain": [
       "(5412263, 5)"
      ]
     },
     "execution_count": 32,
     "metadata": {},
     "output_type": "execute_result"
    }
   ],
   "source": [
    "df_tweetskb_beforlockdown = df_tweetskb[df_tweetskb['Timestamp'] < '2020-03-01 00:00:00+00:00']\n",
    "df_tweetskb_beforlockdown.shape"
   ]
  },
  {
   "cell_type": "code",
   "execution_count": 5,
   "id": "2ab2340d",
   "metadata": {},
   "outputs": [
    {
     "data": {
      "text/plain": [
       "(3997578, 5)"
      ]
     },
     "execution_count": 5,
     "metadata": {},
     "output_type": "execute_result"
    }
   ],
   "source": [
    "df_tweetskb_afterlockdown = df_tweetskb[df_tweetskb['Timestamp'] >= '2020-03-01 00:00:00+00:00']\n",
    "df_tweetskb_afterlockdown.shape"
   ]
  },
  {
   "cell_type": "code",
   "execution_count": 35,
   "id": "9a62318a",
   "metadata": {},
   "outputs": [
    {
     "data": {
      "text/plain": [
       "(1091989, 5)"
      ]
     },
     "execution_count": 35,
     "metadata": {},
     "output_type": "execute_result"
    }
   ],
   "source": [
    "df_tweetskb_october2019 = df_tweetskb[df_tweetskb['Timestamp'] < '2019-11-01 00:00:00+00:00']\n",
    "df_tweetskb_october2019.shape"
   ]
  },
  {
   "cell_type": "code",
   "execution_count": 40,
   "id": "34b25353",
   "metadata": {},
   "outputs": [
    {
     "data": {
      "text/plain": [
       "(1041247, 5)"
      ]
     },
     "execution_count": 40,
     "metadata": {},
     "output_type": "execute_result"
    }
   ],
   "source": [
    "start_date = '2019-11-01 00:00:00+00:00'\n",
    "end_date = '2019-12-01 00:00:00+00:00'\n",
    "df_tweetskb_november2019 = df_tweetskb[(df_tweetskb['Timestamp'] >= start_date) & (df_tweetskb['Timestamp'] < end_date) ]\n",
    "df_tweetskb_november2019.shape"
   ]
  },
  {
   "cell_type": "code",
   "execution_count": 45,
   "id": "3aba0005",
   "metadata": {},
   "outputs": [
    {
     "data": {
      "text/plain": [
       "(1082048, 5)"
      ]
     },
     "execution_count": 45,
     "metadata": {},
     "output_type": "execute_result"
    }
   ],
   "source": [
    "start_date = '2019-12-01 00:00:00+00:00'\n",
    "end_date = '2020-01-01 00:00:00+00:00'\n",
    "df_tweetskb_december2019 = df_tweetskb[(df_tweetskb['Timestamp'] >= start_date) & (df_tweetskb['Timestamp'] < end_date) ]\n",
    "df_tweetskb_december2019.shape"
   ]
  },
  {
   "cell_type": "code",
   "execution_count": 47,
   "id": "23b2875e",
   "metadata": {},
   "outputs": [
    {
     "data": {
      "text/plain": [
       "(1152147, 5)"
      ]
     },
     "execution_count": 47,
     "metadata": {},
     "output_type": "execute_result"
    }
   ],
   "source": [
    "start_date = '2020-01-01 00:00:00+00:00'\n",
    "end_date = '2020-02-01 00:00:00+00:00'\n",
    "df_tweetskb_januar2020 = df_tweetscov19[(df_tweetskb['Timestamp'] >= start_date) & (df_tweetskb['Timestamp'] < end_date) ]\n",
    "df_tweetskb_januar2020.shape"
   ]
  },
  {
   "cell_type": "code",
   "execution_count": 49,
   "id": "7f4f6556",
   "metadata": {},
   "outputs": [
    {
     "data": {
      "text/plain": [
       "(1044832, 5)"
      ]
     },
     "execution_count": 49,
     "metadata": {},
     "output_type": "execute_result"
    }
   ],
   "source": [
    "start_date = '2020-02-01 00:00:00+00:00'\n",
    "end_date = '2020-03-01 00:00:00+00:00'\n",
    "df_tweetskb_februar2020 = df_tweetskb[df_tweetskb['Timestamp'] >= start_date] \n",
    "df_tweetskb_februar2020 = df_tweetskb_februar2020[df_tweetskb_februar2020['Timestamp'] < end_date]\n",
    "df_tweetskb_februar2020.shape"
   ]
  },
  {
   "cell_type": "code",
   "execution_count": 51,
   "id": "5b274e67",
   "metadata": {},
   "outputs": [
    {
     "data": {
      "text/plain": [
       "(1261243, 5)"
      ]
     },
     "execution_count": 51,
     "metadata": {},
     "output_type": "execute_result"
    }
   ],
   "source": [
    "start_date = '2020-03-01 00:00:00+00:00'\n",
    "end_date = '2020-04-01 00:00:00+00:00'\n",
    "df_tweetskb_maerz2020 = df_tweetskb[df_tweetskb['Timestamp'] >= start_date]\n",
    "df_tweetskb_maerz2020 = df_tweetskb_maerz2020[df_tweetskb_maerz2020['Timestamp'] < end_date ]\n",
    "df_tweetskb_maerz2020.shape"
   ]
  },
  {
   "cell_type": "code",
   "execution_count": 53,
   "id": "993ef025",
   "metadata": {},
   "outputs": [
    {
     "data": {
      "text/plain": [
       "(1346895, 5)"
      ]
     },
     "execution_count": 53,
     "metadata": {},
     "output_type": "execute_result"
    }
   ],
   "source": [
    "start_date = '2020-04-01 00:00:00+00:00'\n",
    "end_date = '2020-05-01 00:00:00+00:00'\n",
    "df_tweetskb_April2020 = df_tweetskb[df_tweetskb['Timestamp'] >= start_date]\n",
    "df_tweetskb_April2020 = df_tweetskb_April2020[df_tweetskb_April2020['Timestamp'] < end_date ]\n",
    "df_tweetskb_April2020.shape"
   ]
  },
  {
   "cell_type": "code",
   "execution_count": 55,
   "id": "48ecb5d2",
   "metadata": {},
   "outputs": [
    {
     "data": {
      "text/plain": [
       "(1389440, 5)"
      ]
     },
     "execution_count": 55,
     "metadata": {},
     "output_type": "execute_result"
    }
   ],
   "source": [
    "start_date = '2020-05-01 00:00:00+00:00'\n",
    "#end_date = '2020-05-01 00:00:00+00:00'\n",
    "df_tweetskb_mai2020 = df_tweetskb[df_tweetskb['Timestamp'] >= start_date ]\n",
    "df_tweetskb_mai2020.shape"
   ]
  },
  {
   "cell_type": "code",
   "execution_count": 6,
   "id": "02e8e3ec",
   "metadata": {},
   "outputs": [],
   "source": [
    "path = '../data/df_tweetskb_afterlockdown.tsv'\n",
    "\n",
    "with open(path, 'w', newline='', encoding=\"utf-8\") as out_file:\n",
    "    tsv_writer = csv.writer(out_file, delimiter=\"\\t\")\n",
    "    for idx, row in df_tweetskb_afterlockdown.iterrows():\n",
    "        tsv_writer.writerow(row.values.tolist())"
   ]
  },
  {
   "cell_type": "code",
   "execution_count": null,
   "id": "0f2d3533",
   "metadata": {},
   "outputs": [],
   "source": []
  }
 ],
 "metadata": {
  "kernelspec": {
   "display_name": "Python 3",
   "language": "python",
   "name": "python3"
  },
  "language_info": {
   "codemirror_mode": {
    "name": "ipython",
    "version": 3
   },
   "file_extension": ".py",
   "mimetype": "text/x-python",
   "name": "python",
   "nbconvert_exporter": "python",
   "pygments_lexer": "ipython3",
   "version": "3.8.8"
  }
 },
 "nbformat": 4,
 "nbformat_minor": 5
}
