{
 "cells": [
  {
   "cell_type": "code",
   "execution_count": 1,
   "id": "866f9a12",
   "metadata": {},
   "outputs": [],
   "source": [
    "import csv\n",
    "import pandas as pd\n",
    "import numpy as np\n",
    "import json\n",
    "\n",
    "csv.field_size_limit(100000000)\n",
    "pd.options.display.max_columns = None\n",
    "pd.options.display.max_rows = None\n",
    "from datetime import datetime\n",
    "\n",
    "import seaborn as sns\n",
    "import matplotlib.pyplot as plt\n",
    "%matplotlib inline \n",
    "import matplotlib.dates as mdates\n",
    "import matplotlib.ticker as tick\n",
    "\n",
    "pd.options.display.float_format = '{:.4f}'.format"
   ]
  },
  {
   "cell_type": "markdown",
   "id": "20bb847c",
   "metadata": {},
   "source": [
    "***"
   ]
  },
  {
   "cell_type": "markdown",
   "id": "7b458378",
   "metadata": {},
   "source": [
    "# TweetsCOV19"
   ]
  },
  {
   "cell_type": "markdown",
   "id": "691964f3",
   "metadata": {},
   "source": [
    "***"
   ]
  },
  {
   "cell_type": "code",
   "execution_count": 2,
   "id": "0472bfc3",
   "metadata": {},
   "outputs": [],
   "source": [
    "#Labels\n",
    "TweetsCov19_labels = ['Tweet_Id', 'Timestamp', 'Is_deleted','Sentistrengh_pos', 'Sentistrengh_neg', 'Sentistrengh_average']\n",
    "#Path\n",
    "TweetsCov19_Pfad =  '../data/tweetscov19_sentiment_analysis_sentistrength.tsv'"
   ]
  },
  {
   "cell_type": "code",
   "execution_count": 3,
   "id": "6cefe4aa",
   "metadata": {},
   "outputs": [
    {
     "name": "stdout",
     "output_type": "stream",
     "text": [
      "Form (9409841, 6)\n"
     ]
    },
    {
     "data": {
      "text/html": [
       "<div>\n",
       "<style scoped>\n",
       "    .dataframe tbody tr th:only-of-type {\n",
       "        vertical-align: middle;\n",
       "    }\n",
       "\n",
       "    .dataframe tbody tr th {\n",
       "        vertical-align: top;\n",
       "    }\n",
       "\n",
       "    .dataframe thead th {\n",
       "        text-align: right;\n",
       "    }\n",
       "</style>\n",
       "<table border=\"1\" class=\"dataframe\">\n",
       "  <thead>\n",
       "    <tr style=\"text-align: right;\">\n",
       "      <th></th>\n",
       "      <th>Tweet_Id</th>\n",
       "      <th>Timestamp</th>\n",
       "      <th>Is_deleted</th>\n",
       "      <th>Sentistrengh_pos</th>\n",
       "      <th>Sentistrengh_neg</th>\n",
       "      <th>Sentistrengh_average</th>\n",
       "    </tr>\n",
       "  </thead>\n",
       "  <tbody>\n",
       "    <tr>\n",
       "      <th>0</th>\n",
       "      <td>1178791637348212736</td>\n",
       "      <td>2019-09-30 22:00:01+00:00</td>\n",
       "      <td>True</td>\n",
       "      <td>1</td>\n",
       "      <td>-1</td>\n",
       "      <td>0</td>\n",
       "    </tr>\n",
       "    <tr>\n",
       "      <th>1</th>\n",
       "      <td>1178791641601232896</td>\n",
       "      <td>2019-09-30 22:00:02+00:00</td>\n",
       "      <td>False</td>\n",
       "      <td>1</td>\n",
       "      <td>-1</td>\n",
       "      <td>0</td>\n",
       "    </tr>\n",
       "    <tr>\n",
       "      <th>2</th>\n",
       "      <td>1178791643509612547</td>\n",
       "      <td>2019-09-30 22:00:03+00:00</td>\n",
       "      <td>False</td>\n",
       "      <td>1</td>\n",
       "      <td>-2</td>\n",
       "      <td>-1</td>\n",
       "    </tr>\n",
       "    <tr>\n",
       "      <th>3</th>\n",
       "      <td>1178791644214235137</td>\n",
       "      <td>2019-09-30 22:00:03+00:00</td>\n",
       "      <td>False</td>\n",
       "      <td>3</td>\n",
       "      <td>-1</td>\n",
       "      <td>2</td>\n",
       "    </tr>\n",
       "    <tr>\n",
       "      <th>4</th>\n",
       "      <td>1178791645371875329</td>\n",
       "      <td>2019-09-30 22:00:03+00:00</td>\n",
       "      <td>False</td>\n",
       "      <td>4</td>\n",
       "      <td>-1</td>\n",
       "      <td>3</td>\n",
       "    </tr>\n",
       "  </tbody>\n",
       "</table>\n",
       "</div>"
      ],
      "text/plain": [
       "              Tweet_Id                  Timestamp  Is_deleted  \\\n",
       "0  1178791637348212736  2019-09-30 22:00:01+00:00        True   \n",
       "1  1178791641601232896  2019-09-30 22:00:02+00:00       False   \n",
       "2  1178791643509612547  2019-09-30 22:00:03+00:00       False   \n",
       "3  1178791644214235137  2019-09-30 22:00:03+00:00       False   \n",
       "4  1178791645371875329  2019-09-30 22:00:03+00:00       False   \n",
       "\n",
       "   Sentistrengh_pos  Sentistrengh_neg  Sentistrengh_average  \n",
       "0                 1                -1                     0  \n",
       "1                 1                -1                     0  \n",
       "2                 1                -2                    -1  \n",
       "3                 3                -1                     2  \n",
       "4                 4                -1                     3  "
      ]
     },
     "execution_count": 3,
     "metadata": {},
     "output_type": "execute_result"
    }
   ],
   "source": [
    "#Dataframe TweetsCov19 \n",
    "df_tweetscov19 = pd.read_csv(TweetsCov19_Pfad, sep='\\t', error_bad_lines=False, names=TweetsCov19_labels)\n",
    "print('Form', df_tweetscov19.shape)\n",
    "df_tweetscov19.head()"
   ]
  },
  {
   "cell_type": "code",
   "execution_count": 5,
   "id": "4df8d347",
   "metadata": {},
   "outputs": [],
   "source": [
    "df_tweetscov19_del = df_tweetscov19[df_tweetscov19['Is_deleted'] == True]\n",
    "df_tweetscov19_undel = df_tweetscov19[df_tweetscov19['Is_deleted'] == False]"
   ]
  },
  {
   "cell_type": "code",
   "execution_count": 17,
   "id": "6ceb48f6",
   "metadata": {},
   "outputs": [],
   "source": [
    "\n",
    "def Sentiment_analysis_negativ_positiv_average(covid19tweets_del, covid19tweets_undel, titel):\n",
    "    df_del = covid19tweets_del\n",
    "    df_undel = covid19tweets_undel\n",
    "\n",
    "    df_del = df_del.reset_index()\n",
    "    df_undel = df_undel.reset_index()\n",
    "    \n",
    "    df_del['Sentistrengh_neg']= df_del['Sentistrengh_neg'].astype(float) \n",
    "    df_undel['Sentistrengh_neg']= df_undel['Sentistrengh_neg'].astype(float) \n",
    "    \n",
    "    df_del['Sentistrengh_average']= df_del['Sentistrengh_average'].astype(float) \n",
    "    df_undel['Sentistrengh_average']= df_undel['Sentistrengh_average'].astype(float) \n",
    "\n",
    "    df_del['Sentistrengh_pos']= df_del['Sentistrengh_pos'].astype(float) \n",
    "    df_undel['Sentistrengh_pos']= df_undel['Sentistrengh_pos'].astype(float) \n",
    "    \n",
    "    df_del.Timestamp = pd.to_datetime(df_del.Timestamp)\n",
    "    df_del.sort_values(by = ['Timestamp'], inplace=True, ascending = True)\n",
    "    df_del.index = df_del.Timestamp\n",
    "  \n",
    "    print('Number of deleted tweets: ', df_del['Tweet_Id'].size)\n",
    "    g = df_del.groupby(pd.DatetimeIndex(df_del['Timestamp']).normalize())\n",
    "    df_del  = g.mean()\n",
    "    \n",
    "     \n",
    "    \n",
    "    df_undel.Timestamp = pd.to_datetime(df_undel.Timestamp)\n",
    "    df_undel.sort_values(by = ['Timestamp'], inplace=True, ascending = True)\n",
    "    df_undel.index = df_undel.Timestamp\n",
    "    print('Number of non-deleted tweets: ', df_undel['Tweet_Id'].size)\n",
    "\n",
    "    g = df_undel.groupby(pd.DatetimeIndex(df_undel['Timestamp']).normalize())\n",
    "    df_undel  = g.mean()\n",
    "    \n",
    "    df_del.rename(columns = {'Sentistrengh_neg' : 'Deleted Tweets(negative)'}, inplace = True)\n",
    "    df_del.rename(columns = {'Sentistrengh_pos' : 'Deleted Tweets(positive)'}, inplace = True)\n",
    "    df_del.rename(columns = {'Sentistrengh_average' : 'Deleted Tweets(average)'}, inplace = True)\n",
    "\n",
    "    df_undel.rename(columns = {'Sentistrengh_neg' : 'Non-Deleted Tweets(negative)'}, inplace = True)\n",
    "    df_undel.rename(columns = {'Sentistrengh_pos' : 'Non-Deleted Tweets(positive)'}, inplace = True)\n",
    "    df_undel.rename(columns = {'Sentistrengh_average' : 'Non-Deleted Tweets(average)'}, inplace = True)\n",
    "\n",
    "    ax = df_del.plot(y=['Deleted Tweets(negative)'], figsize=(15,6), color = 'crimson')\n",
    "    df_del.plot(y=['Deleted Tweets(positive)'], color = 'darkgreen', ax = ax)\n",
    "    df_del.plot(y=['Deleted Tweets(compound)'], color = 'mediumblue', ax = ax)\n",
    "\n",
    "    df_undel.plot(y=['Non-Deleted Tweets(negative)'],style = '--' , color = 'crimson', ax = ax)\n",
    "    df_undel.plot(y=['Non-Deleted Tweets(positive)'],style = '--' , color = 'darkgreen', ax = ax)\n",
    "    df_undel.plot(y=['Non-Deleted Tweets(compound)'],style = '--' , color = 'mediumblue', ax = ax)\n",
    "    \n",
    "    ax.set_xlabel('', fontsize = 16)\n",
    "    ax.xaxis.set_major_locator(mdates.MonthLocator())\n",
    "\n",
    "    ax.xaxis.set_major_formatter(mdates.DateFormatter('%b %Y'))\n",
    "    #ax.tick_params(axis='y', which='major', labelsize=16)\n",
    "    plt.xticks(fontsize=16, rotation=45, ha='center')\n",
    "    #ax.set_xticklabels(rotation='45')\n",
    "    \n",
    "    ax.set_ylim([-2, 2])\n",
    "    ax.yaxis.set_major_formatter(tick.FormatStrFormatter('%.2f'))\n",
    "    ax.set_ylabel('Sentiment', fontsize = 19)\n",
    "    plt.gca().legend(loc='lower center', ncol = 2, fontsize=19, bbox_to_anchor=(0.5, -0.6))\n",
    "    \n",
    "    plt.savefig('../plots/'+titel+'.pdf', bbox_inches = 'tight')\n",
    "    plt.show()"
   ]
  },
  {
   "cell_type": "code",
   "execution_count": 18,
   "id": "b13fa81d",
   "metadata": {},
   "outputs": [
    {
     "name": "stdout",
     "output_type": "stream",
     "text": [
      "Number of deleted tweets:  2137501\n",
      "Number of non-deleted tweets:  7272340\n"
     ]
    },
    {
     "ename": "KeyError",
     "evalue": "\"None of [Index(['Deleted Tweets(compound)'], dtype='object')] are in the [columns]\"",
     "output_type": "error",
     "traceback": [
      "\u001b[1;31m---------------------------------------------------------------------------\u001b[0m",
      "\u001b[1;31mKeyError\u001b[0m                                  Traceback (most recent call last)",
      "\u001b[1;32m<ipython-input-18-e4646960bbd2>\u001b[0m in \u001b[0;36m<module>\u001b[1;34m\u001b[0m\n\u001b[1;32m----> 1\u001b[1;33m \u001b[0mSentiment_analysis_negativ_positiv_average\u001b[0m\u001b[1;33m(\u001b[0m\u001b[0mdf_tweetscov19_del\u001b[0m\u001b[1;33m,\u001b[0m \u001b[0mdf_tweetscov19_undel\u001b[0m\u001b[1;33m,\u001b[0m \u001b[1;34m'Stimmungsanalyse_sentistrength_tweetCOV19'\u001b[0m\u001b[1;33m)\u001b[0m\u001b[1;33m\u001b[0m\u001b[1;33m\u001b[0m\u001b[0m\n\u001b[0m",
      "\u001b[1;32m<ipython-input-17-827ddb36fb0e>\u001b[0m in \u001b[0;36mSentiment_analysis_negativ_positiv_average\u001b[1;34m(covid19tweets_del, covid19tweets_undel, titel)\u001b[0m\n\u001b[0;32m     43\u001b[0m     \u001b[0max\u001b[0m \u001b[1;33m=\u001b[0m \u001b[0mdf_del\u001b[0m\u001b[1;33m.\u001b[0m\u001b[0mplot\u001b[0m\u001b[1;33m(\u001b[0m\u001b[0my\u001b[0m\u001b[1;33m=\u001b[0m\u001b[1;33m[\u001b[0m\u001b[1;34m'Deleted Tweets(negative)'\u001b[0m\u001b[1;33m]\u001b[0m\u001b[1;33m,\u001b[0m \u001b[0mfigsize\u001b[0m\u001b[1;33m=\u001b[0m\u001b[1;33m(\u001b[0m\u001b[1;36m15\u001b[0m\u001b[1;33m,\u001b[0m\u001b[1;36m6\u001b[0m\u001b[1;33m)\u001b[0m\u001b[1;33m,\u001b[0m \u001b[0mcolor\u001b[0m \u001b[1;33m=\u001b[0m \u001b[1;34m'crimson'\u001b[0m\u001b[1;33m)\u001b[0m\u001b[1;33m\u001b[0m\u001b[1;33m\u001b[0m\u001b[0m\n\u001b[0;32m     44\u001b[0m     \u001b[0mdf_del\u001b[0m\u001b[1;33m.\u001b[0m\u001b[0mplot\u001b[0m\u001b[1;33m(\u001b[0m\u001b[0my\u001b[0m\u001b[1;33m=\u001b[0m\u001b[1;33m[\u001b[0m\u001b[1;34m'Deleted Tweets(positive)'\u001b[0m\u001b[1;33m]\u001b[0m\u001b[1;33m,\u001b[0m \u001b[0mcolor\u001b[0m \u001b[1;33m=\u001b[0m \u001b[1;34m'darkgreen'\u001b[0m\u001b[1;33m,\u001b[0m \u001b[0max\u001b[0m \u001b[1;33m=\u001b[0m \u001b[0max\u001b[0m\u001b[1;33m)\u001b[0m\u001b[1;33m\u001b[0m\u001b[1;33m\u001b[0m\u001b[0m\n\u001b[1;32m---> 45\u001b[1;33m     \u001b[0mdf_del\u001b[0m\u001b[1;33m.\u001b[0m\u001b[0mplot\u001b[0m\u001b[1;33m(\u001b[0m\u001b[0my\u001b[0m\u001b[1;33m=\u001b[0m\u001b[1;33m[\u001b[0m\u001b[1;34m'Deleted Tweets(compound)'\u001b[0m\u001b[1;33m]\u001b[0m\u001b[1;33m,\u001b[0m \u001b[0mcolor\u001b[0m \u001b[1;33m=\u001b[0m \u001b[1;34m'mediumblue'\u001b[0m\u001b[1;33m,\u001b[0m \u001b[0max\u001b[0m \u001b[1;33m=\u001b[0m \u001b[0max\u001b[0m\u001b[1;33m)\u001b[0m\u001b[1;33m\u001b[0m\u001b[1;33m\u001b[0m\u001b[0m\n\u001b[0m\u001b[0;32m     46\u001b[0m \u001b[1;33m\u001b[0m\u001b[0m\n\u001b[0;32m     47\u001b[0m     \u001b[0mdf_undel\u001b[0m\u001b[1;33m.\u001b[0m\u001b[0mplot\u001b[0m\u001b[1;33m(\u001b[0m\u001b[0my\u001b[0m\u001b[1;33m=\u001b[0m\u001b[1;33m[\u001b[0m\u001b[1;34m'Non-Deleted Tweets(negative)'\u001b[0m\u001b[1;33m]\u001b[0m\u001b[1;33m,\u001b[0m\u001b[0mstyle\u001b[0m \u001b[1;33m=\u001b[0m \u001b[1;34m'--'\u001b[0m \u001b[1;33m,\u001b[0m \u001b[0mcolor\u001b[0m \u001b[1;33m=\u001b[0m \u001b[1;34m'crimson'\u001b[0m\u001b[1;33m,\u001b[0m \u001b[0max\u001b[0m \u001b[1;33m=\u001b[0m \u001b[0max\u001b[0m\u001b[1;33m)\u001b[0m\u001b[1;33m\u001b[0m\u001b[1;33m\u001b[0m\u001b[0m\n",
      "\u001b[1;32m~\\anaconda3\\lib\\site-packages\\pandas\\plotting\\_core.py\u001b[0m in \u001b[0;36m__call__\u001b[1;34m(self, *args, **kwargs)\u001b[0m\n\u001b[0;32m    939\u001b[0m \u001b[1;33m\u001b[0m\u001b[0m\n\u001b[0;32m    940\u001b[0m                 \u001b[1;31m# don't overwrite\u001b[0m\u001b[1;33m\u001b[0m\u001b[1;33m\u001b[0m\u001b[1;33m\u001b[0m\u001b[0m\n\u001b[1;32m--> 941\u001b[1;33m                 \u001b[0mdata\u001b[0m \u001b[1;33m=\u001b[0m \u001b[0mdata\u001b[0m\u001b[1;33m[\u001b[0m\u001b[0my\u001b[0m\u001b[1;33m]\u001b[0m\u001b[1;33m.\u001b[0m\u001b[0mcopy\u001b[0m\u001b[1;33m(\u001b[0m\u001b[1;33m)\u001b[0m\u001b[1;33m\u001b[0m\u001b[1;33m\u001b[0m\u001b[0m\n\u001b[0m\u001b[0;32m    942\u001b[0m \u001b[1;33m\u001b[0m\u001b[0m\n\u001b[0;32m    943\u001b[0m                 \u001b[1;32mif\u001b[0m \u001b[0misinstance\u001b[0m\u001b[1;33m(\u001b[0m\u001b[0mdata\u001b[0m\u001b[1;33m,\u001b[0m \u001b[0mABCSeries\u001b[0m\u001b[1;33m)\u001b[0m\u001b[1;33m:\u001b[0m\u001b[1;33m\u001b[0m\u001b[1;33m\u001b[0m\u001b[0m\n",
      "\u001b[1;32m~\\anaconda3\\lib\\site-packages\\pandas\\core\\frame.py\u001b[0m in \u001b[0;36m__getitem__\u001b[1;34m(self, key)\u001b[0m\n\u001b[0;32m   3028\u001b[0m             \u001b[1;32mif\u001b[0m \u001b[0mis_iterator\u001b[0m\u001b[1;33m(\u001b[0m\u001b[0mkey\u001b[0m\u001b[1;33m)\u001b[0m\u001b[1;33m:\u001b[0m\u001b[1;33m\u001b[0m\u001b[1;33m\u001b[0m\u001b[0m\n\u001b[0;32m   3029\u001b[0m                 \u001b[0mkey\u001b[0m \u001b[1;33m=\u001b[0m \u001b[0mlist\u001b[0m\u001b[1;33m(\u001b[0m\u001b[0mkey\u001b[0m\u001b[1;33m)\u001b[0m\u001b[1;33m\u001b[0m\u001b[1;33m\u001b[0m\u001b[0m\n\u001b[1;32m-> 3030\u001b[1;33m             \u001b[0mindexer\u001b[0m \u001b[1;33m=\u001b[0m \u001b[0mself\u001b[0m\u001b[1;33m.\u001b[0m\u001b[0mloc\u001b[0m\u001b[1;33m.\u001b[0m\u001b[0m_get_listlike_indexer\u001b[0m\u001b[1;33m(\u001b[0m\u001b[0mkey\u001b[0m\u001b[1;33m,\u001b[0m \u001b[0maxis\u001b[0m\u001b[1;33m=\u001b[0m\u001b[1;36m1\u001b[0m\u001b[1;33m,\u001b[0m \u001b[0mraise_missing\u001b[0m\u001b[1;33m=\u001b[0m\u001b[1;32mTrue\u001b[0m\u001b[1;33m)\u001b[0m\u001b[1;33m[\u001b[0m\u001b[1;36m1\u001b[0m\u001b[1;33m]\u001b[0m\u001b[1;33m\u001b[0m\u001b[1;33m\u001b[0m\u001b[0m\n\u001b[0m\u001b[0;32m   3031\u001b[0m \u001b[1;33m\u001b[0m\u001b[0m\n\u001b[0;32m   3032\u001b[0m         \u001b[1;31m# take() does not accept boolean indexers\u001b[0m\u001b[1;33m\u001b[0m\u001b[1;33m\u001b[0m\u001b[1;33m\u001b[0m\u001b[0m\n",
      "\u001b[1;32m~\\anaconda3\\lib\\site-packages\\pandas\\core\\indexing.py\u001b[0m in \u001b[0;36m_get_listlike_indexer\u001b[1;34m(self, key, axis, raise_missing)\u001b[0m\n\u001b[0;32m   1264\u001b[0m             \u001b[0mkeyarr\u001b[0m\u001b[1;33m,\u001b[0m \u001b[0mindexer\u001b[0m\u001b[1;33m,\u001b[0m \u001b[0mnew_indexer\u001b[0m \u001b[1;33m=\u001b[0m \u001b[0max\u001b[0m\u001b[1;33m.\u001b[0m\u001b[0m_reindex_non_unique\u001b[0m\u001b[1;33m(\u001b[0m\u001b[0mkeyarr\u001b[0m\u001b[1;33m)\u001b[0m\u001b[1;33m\u001b[0m\u001b[1;33m\u001b[0m\u001b[0m\n\u001b[0;32m   1265\u001b[0m \u001b[1;33m\u001b[0m\u001b[0m\n\u001b[1;32m-> 1266\u001b[1;33m         \u001b[0mself\u001b[0m\u001b[1;33m.\u001b[0m\u001b[0m_validate_read_indexer\u001b[0m\u001b[1;33m(\u001b[0m\u001b[0mkeyarr\u001b[0m\u001b[1;33m,\u001b[0m \u001b[0mindexer\u001b[0m\u001b[1;33m,\u001b[0m \u001b[0maxis\u001b[0m\u001b[1;33m,\u001b[0m \u001b[0mraise_missing\u001b[0m\u001b[1;33m=\u001b[0m\u001b[0mraise_missing\u001b[0m\u001b[1;33m)\u001b[0m\u001b[1;33m\u001b[0m\u001b[1;33m\u001b[0m\u001b[0m\n\u001b[0m\u001b[0;32m   1267\u001b[0m         \u001b[1;32mreturn\u001b[0m \u001b[0mkeyarr\u001b[0m\u001b[1;33m,\u001b[0m \u001b[0mindexer\u001b[0m\u001b[1;33m\u001b[0m\u001b[1;33m\u001b[0m\u001b[0m\n\u001b[0;32m   1268\u001b[0m \u001b[1;33m\u001b[0m\u001b[0m\n",
      "\u001b[1;32m~\\anaconda3\\lib\\site-packages\\pandas\\core\\indexing.py\u001b[0m in \u001b[0;36m_validate_read_indexer\u001b[1;34m(self, key, indexer, axis, raise_missing)\u001b[0m\n\u001b[0;32m   1306\u001b[0m             \u001b[1;32mif\u001b[0m \u001b[0mmissing\u001b[0m \u001b[1;33m==\u001b[0m \u001b[0mlen\u001b[0m\u001b[1;33m(\u001b[0m\u001b[0mindexer\u001b[0m\u001b[1;33m)\u001b[0m\u001b[1;33m:\u001b[0m\u001b[1;33m\u001b[0m\u001b[1;33m\u001b[0m\u001b[0m\n\u001b[0;32m   1307\u001b[0m                 \u001b[0maxis_name\u001b[0m \u001b[1;33m=\u001b[0m \u001b[0mself\u001b[0m\u001b[1;33m.\u001b[0m\u001b[0mobj\u001b[0m\u001b[1;33m.\u001b[0m\u001b[0m_get_axis_name\u001b[0m\u001b[1;33m(\u001b[0m\u001b[0maxis\u001b[0m\u001b[1;33m)\u001b[0m\u001b[1;33m\u001b[0m\u001b[1;33m\u001b[0m\u001b[0m\n\u001b[1;32m-> 1308\u001b[1;33m                 \u001b[1;32mraise\u001b[0m \u001b[0mKeyError\u001b[0m\u001b[1;33m(\u001b[0m\u001b[1;34mf\"None of [{key}] are in the [{axis_name}]\"\u001b[0m\u001b[1;33m)\u001b[0m\u001b[1;33m\u001b[0m\u001b[1;33m\u001b[0m\u001b[0m\n\u001b[0m\u001b[0;32m   1309\u001b[0m \u001b[1;33m\u001b[0m\u001b[0m\n\u001b[0;32m   1310\u001b[0m             \u001b[0max\u001b[0m \u001b[1;33m=\u001b[0m \u001b[0mself\u001b[0m\u001b[1;33m.\u001b[0m\u001b[0mobj\u001b[0m\u001b[1;33m.\u001b[0m\u001b[0m_get_axis\u001b[0m\u001b[1;33m(\u001b[0m\u001b[0maxis\u001b[0m\u001b[1;33m)\u001b[0m\u001b[1;33m\u001b[0m\u001b[1;33m\u001b[0m\u001b[0m\n",
      "\u001b[1;31mKeyError\u001b[0m: \"None of [Index(['Deleted Tweets(compound)'], dtype='object')] are in the [columns]\""
     ]
    },
    {
     "data": {
      "image/png": "[encoded data removed]",
      "text/plain": [
       "<Figure size 1080x432 with 1 Axes>"
      ]
     },
     "metadata": {
      "needs_background": "light"
     },
     "output_type": "display_data"
    }
   ],
   "source": [
    "Sentiment_analysis_negativ_positiv_average(df_tweetscov19_del, df_tweetscov19_undel, 'Stimmungsanalyse_sentistrength_tweetCOV19')"
   ]
  },
  {
   "cell_type": "code",
   "execution_count": null,
   "id": "0588cb5c",
   "metadata": {},
   "outputs": [],
   "source": []
  }
 ],
 "metadata": {
  "kernelspec": {
   "display_name": "Python 3",
   "language": "python",
   "name": "python3"
  },
  "language_info": {
   "codemirror_mode": {
    "name": "ipython",
    "version": 3
   },
   "file_extension": ".py",
   "mimetype": "text/x-python",
   "name": "python",
   "nbconvert_exporter": "python",
   "pygments_lexer": "ipython3",
   "version": "3.8.8"
  }
 },
 "nbformat": 4,
 "nbformat_minor": 5
}
