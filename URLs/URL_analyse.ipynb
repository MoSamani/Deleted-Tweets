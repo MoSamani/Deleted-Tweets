{
 "cells": [
  {
   "cell_type": "code",
   "execution_count": 36,
   "id": "077cef39",
   "metadata": {},
   "outputs": [],
   "source": [
    "import csv\n",
    "import pandas as pd\n",
    "import numpy as np\n",
    "import json\n",
    "\n",
    "csv.field_size_limit(100000000)\n",
    "pd.options.display.max_columns = None\n",
    "pd.options.display.max_rows = None\n",
    "from datetime import datetime\n",
    "\n",
    "import seaborn as sns\n",
    "import matplotlib.pyplot as plt\n",
    "%matplotlib inline \n",
    "import matplotlib.dates as mdates\n",
    "import matplotlib.ticker as tick\n",
    "\n",
    "pd.options.display.float_format = '{:.4f}'.format"
   ]
  },
  {
   "cell_type": "markdown",
   "id": "c9c33492",
   "metadata": {},
   "source": [
    "***"
   ]
  },
  {
   "cell_type": "code",
   "execution_count": 286,
   "id": "0b699492",
   "metadata": {},
   "outputs": [],
   "source": [
    "path = '../data/df_domains_left_right.tsv'\n",
    "\n",
    "df_liberal_conservative_domains = pd.read_csv(path, sep='\\t', error_bad_lines=False)"
   ]
  },
  {
   "cell_type": "code",
   "execution_count": 287,
   "id": "c140e813",
   "metadata": {},
   "outputs": [
    {
     "name": "stdout",
     "output_type": "stream",
     "text": [
      "Shape:  (1589, 5)\n"
     ]
    },
    {
     "data": {
      "text/html": [
       "<div>\n",
       "<style scoped>\n",
       "    .dataframe tbody tr th:only-of-type {\n",
       "        vertical-align: middle;\n",
       "    }\n",
       "\n",
       "    .dataframe tbody tr th {\n",
       "        vertical-align: top;\n",
       "    }\n",
       "\n",
       "    .dataframe thead th {\n",
       "        text-align: right;\n",
       "    }\n",
       "</style>\n",
       "<table border=\"1\" class=\"dataframe\">\n",
       "  <thead>\n",
       "    <tr style=\"text-align: right;\">\n",
       "      <th></th>\n",
       "      <th>domain</th>\n",
       "      <th>mediabias_leftcenterbias</th>\n",
       "      <th>mediabias_leftbias</th>\n",
       "      <th>mediabias_rightcenterbias</th>\n",
       "      <th>mediabias_rightbias</th>\n",
       "    </tr>\n",
       "  </thead>\n",
       "  <tbody>\n",
       "    <tr>\n",
       "      <th>0</th>\n",
       "      <td>604now.com</td>\n",
       "      <td>1.0000</td>\n",
       "      <td>0.0000</td>\n",
       "      <td>0.0000</td>\n",
       "      <td>0.0000</td>\n",
       "    </tr>\n",
       "    <tr>\n",
       "      <th>1</th>\n",
       "      <td>972mag.com</td>\n",
       "      <td>1.0000</td>\n",
       "      <td>0.0000</td>\n",
       "      <td>0.0000</td>\n",
       "      <td>0.0000</td>\n",
       "    </tr>\n",
       "    <tr>\n",
       "      <th>2</th>\n",
       "      <td>Augustachronicle.com</td>\n",
       "      <td>1.0000</td>\n",
       "      <td>0.0000</td>\n",
       "      <td>0.0000</td>\n",
       "      <td>0.0000</td>\n",
       "    </tr>\n",
       "    <tr>\n",
       "      <th>3</th>\n",
       "      <td>Boston.com</td>\n",
       "      <td>1.0000</td>\n",
       "      <td>0.0000</td>\n",
       "      <td>0.0000</td>\n",
       "      <td>0.0000</td>\n",
       "    </tr>\n",
       "    <tr>\n",
       "      <th>4</th>\n",
       "      <td>Censor.NET</td>\n",
       "      <td>1.0000</td>\n",
       "      <td>0.0000</td>\n",
       "      <td>0.0000</td>\n",
       "      <td>0.0000</td>\n",
       "    </tr>\n",
       "  </tbody>\n",
       "</table>\n",
       "</div>"
      ],
      "text/plain": [
       "                 domain  mediabias_leftcenterbias  mediabias_leftbias  \\\n",
       "0            604now.com                    1.0000              0.0000   \n",
       "1            972mag.com                    1.0000              0.0000   \n",
       "2  Augustachronicle.com                    1.0000              0.0000   \n",
       "3            Boston.com                    1.0000              0.0000   \n",
       "4            Censor.NET                    1.0000              0.0000   \n",
       "\n",
       "   mediabias_rightcenterbias  mediabias_rightbias  \n",
       "0                     0.0000               0.0000  \n",
       "1                     0.0000               0.0000  \n",
       "2                     0.0000               0.0000  \n",
       "3                     0.0000               0.0000  \n",
       "4                     0.0000               0.0000  "
      ]
     },
     "execution_count": 287,
     "metadata": {},
     "output_type": "execute_result"
    }
   ],
   "source": [
    "print('Shape: ', df_liberal_conservative_domains.shape)\n",
    "df_liberal_conservative_domains.head()"
   ]
  },
  {
   "cell_type": "code",
   "execution_count": 288,
   "id": "95682d13",
   "metadata": {},
   "outputs": [
    {
     "name": "stdout",
     "output_type": "stream",
     "text": [
      "Shape:  (954, 5)\n"
     ]
    },
    {
     "data": {
      "text/html": [
       "<div>\n",
       "<style scoped>\n",
       "    .dataframe tbody tr th:only-of-type {\n",
       "        vertical-align: middle;\n",
       "    }\n",
       "\n",
       "    .dataframe tbody tr th {\n",
       "        vertical-align: top;\n",
       "    }\n",
       "\n",
       "    .dataframe thead th {\n",
       "        text-align: right;\n",
       "    }\n",
       "</style>\n",
       "<table border=\"1\" class=\"dataframe\">\n",
       "  <thead>\n",
       "    <tr style=\"text-align: right;\">\n",
       "      <th></th>\n",
       "      <th>domain</th>\n",
       "      <th>mediabias_leftcenterbias</th>\n",
       "      <th>mediabias_leftbias</th>\n",
       "      <th>mediabias_rightcenterbias</th>\n",
       "      <th>mediabias_rightbias</th>\n",
       "    </tr>\n",
       "  </thead>\n",
       "  <tbody>\n",
       "    <tr>\n",
       "      <th>0</th>\n",
       "      <td>604now.com</td>\n",
       "      <td>1.0000</td>\n",
       "      <td>0.0000</td>\n",
       "      <td>0.0000</td>\n",
       "      <td>0.0000</td>\n",
       "    </tr>\n",
       "    <tr>\n",
       "      <th>1</th>\n",
       "      <td>972mag.com</td>\n",
       "      <td>1.0000</td>\n",
       "      <td>0.0000</td>\n",
       "      <td>0.0000</td>\n",
       "      <td>0.0000</td>\n",
       "    </tr>\n",
       "    <tr>\n",
       "      <th>2</th>\n",
       "      <td>Augustachronicle.com</td>\n",
       "      <td>1.0000</td>\n",
       "      <td>0.0000</td>\n",
       "      <td>0.0000</td>\n",
       "      <td>0.0000</td>\n",
       "    </tr>\n",
       "    <tr>\n",
       "      <th>3</th>\n",
       "      <td>Boston.com</td>\n",
       "      <td>1.0000</td>\n",
       "      <td>0.0000</td>\n",
       "      <td>0.0000</td>\n",
       "      <td>0.0000</td>\n",
       "    </tr>\n",
       "    <tr>\n",
       "      <th>4</th>\n",
       "      <td>Censor.NET</td>\n",
       "      <td>1.0000</td>\n",
       "      <td>0.0000</td>\n",
       "      <td>0.0000</td>\n",
       "      <td>0.0000</td>\n",
       "    </tr>\n",
       "  </tbody>\n",
       "</table>\n",
       "</div>"
      ],
      "text/plain": [
       "                 domain  mediabias_leftcenterbias  mediabias_leftbias  \\\n",
       "0            604now.com                    1.0000              0.0000   \n",
       "1            972mag.com                    1.0000              0.0000   \n",
       "2  Augustachronicle.com                    1.0000              0.0000   \n",
       "3            Boston.com                    1.0000              0.0000   \n",
       "4            Censor.NET                    1.0000              0.0000   \n",
       "\n",
       "   mediabias_rightcenterbias  mediabias_rightbias  \n",
       "0                     0.0000               0.0000  \n",
       "1                     0.0000               0.0000  \n",
       "2                     0.0000               0.0000  \n",
       "3                     0.0000               0.0000  \n",
       "4                     0.0000               0.0000  "
      ]
     },
     "execution_count": 288,
     "metadata": {},
     "output_type": "execute_result"
    }
   ],
   "source": [
    "df_domains_left = df_liberal_conservative_domains[(df_liberal_conservative_domains['mediabias_leftbias'] == 1) | (df_liberal_conservative_domains['mediabias_leftcenterbias'] == 1)]\n",
    "\n",
    "print('Shape: ', df_domains_left.shape)\n",
    "df_domains_left.head()"
   ]
  },
  {
   "cell_type": "code",
   "execution_count": 289,
   "id": "d136de34",
   "metadata": {},
   "outputs": [
    {
     "name": "stdout",
     "output_type": "stream",
     "text": [
      "Shape:  (635, 5)\n"
     ]
    },
    {
     "data": {
      "text/html": [
       "<div>\n",
       "<style scoped>\n",
       "    .dataframe tbody tr th:only-of-type {\n",
       "        vertical-align: middle;\n",
       "    }\n",
       "\n",
       "    .dataframe tbody tr th {\n",
       "        vertical-align: top;\n",
       "    }\n",
       "\n",
       "    .dataframe thead th {\n",
       "        text-align: right;\n",
       "    }\n",
       "</style>\n",
       "<table border=\"1\" class=\"dataframe\">\n",
       "  <thead>\n",
       "    <tr style=\"text-align: right;\">\n",
       "      <th></th>\n",
       "      <th>domain</th>\n",
       "      <th>mediabias_leftcenterbias</th>\n",
       "      <th>mediabias_leftbias</th>\n",
       "      <th>mediabias_rightcenterbias</th>\n",
       "      <th>mediabias_rightbias</th>\n",
       "    </tr>\n",
       "  </thead>\n",
       "  <tbody>\n",
       "    <tr>\n",
       "      <th>954</th>\n",
       "      <td>13wham.com</td>\n",
       "      <td>0.0000</td>\n",
       "      <td>0.0000</td>\n",
       "      <td>1.0000</td>\n",
       "      <td>0.0000</td>\n",
       "    </tr>\n",
       "    <tr>\n",
       "      <th>955</th>\n",
       "      <td>19fortyfive.com</td>\n",
       "      <td>0.0000</td>\n",
       "      <td>0.0000</td>\n",
       "      <td>1.0000</td>\n",
       "      <td>0.0000</td>\n",
       "    </tr>\n",
       "    <tr>\n",
       "      <th>956</th>\n",
       "      <td>7news.com.au</td>\n",
       "      <td>0.0000</td>\n",
       "      <td>0.0000</td>\n",
       "      <td>1.0000</td>\n",
       "      <td>0.0000</td>\n",
       "    </tr>\n",
       "    <tr>\n",
       "      <th>957</th>\n",
       "      <td>9news.com.au</td>\n",
       "      <td>0.0000</td>\n",
       "      <td>0.0000</td>\n",
       "      <td>1.0000</td>\n",
       "      <td>0.0000</td>\n",
       "    </tr>\n",
       "    <tr>\n",
       "      <th>958</th>\n",
       "      <td>Deutschland.de</td>\n",
       "      <td>0.0000</td>\n",
       "      <td>0.0000</td>\n",
       "      <td>1.0000</td>\n",
       "      <td>0.0000</td>\n",
       "    </tr>\n",
       "  </tbody>\n",
       "</table>\n",
       "</div>"
      ],
      "text/plain": [
       "              domain  mediabias_leftcenterbias  mediabias_leftbias  \\\n",
       "954       13wham.com                    0.0000              0.0000   \n",
       "955  19fortyfive.com                    0.0000              0.0000   \n",
       "956     7news.com.au                    0.0000              0.0000   \n",
       "957     9news.com.au                    0.0000              0.0000   \n",
       "958   Deutschland.de                    0.0000              0.0000   \n",
       "\n",
       "     mediabias_rightcenterbias  mediabias_rightbias  \n",
       "954                     1.0000               0.0000  \n",
       "955                     1.0000               0.0000  \n",
       "956                     1.0000               0.0000  \n",
       "957                     1.0000               0.0000  \n",
       "958                     1.0000               0.0000  "
      ]
     },
     "execution_count": 289,
     "metadata": {},
     "output_type": "execute_result"
    }
   ],
   "source": [
    "df_domains_right = df_liberal_conservative_domains[(df_liberal_conservative_domains['mediabias_rightcenterbias'] == 1) | (df_liberal_conservative_domains['mediabias_rightbias'] == 1)]\n",
    "\n",
    "print('Shape: ', df_domains_right.shape)\n",
    "df_domains_right.head()"
   ]
  },
  {
   "cell_type": "code",
   "execution_count": 290,
   "id": "dc8d317a",
   "metadata": {},
   "outputs": [
    {
     "name": "stdout",
     "output_type": "stream",
     "text": [
      "Shape:  (1025, 5)\n"
     ]
    },
    {
     "data": {
      "text/html": [
       "<div>\n",
       "<style scoped>\n",
       "    .dataframe tbody tr th:only-of-type {\n",
       "        vertical-align: middle;\n",
       "    }\n",
       "\n",
       "    .dataframe tbody tr th {\n",
       "        vertical-align: top;\n",
       "    }\n",
       "\n",
       "    .dataframe thead th {\n",
       "        text-align: right;\n",
       "    }\n",
       "</style>\n",
       "<table border=\"1\" class=\"dataframe\">\n",
       "  <thead>\n",
       "    <tr style=\"text-align: right;\">\n",
       "      <th></th>\n",
       "      <th>domain</th>\n",
       "      <th>mediabias_leftcenterbias</th>\n",
       "      <th>mediabias_leftbias</th>\n",
       "      <th>mediabias_rightcenterbias</th>\n",
       "      <th>mediabias_rightbias</th>\n",
       "    </tr>\n",
       "  </thead>\n",
       "  <tbody>\n",
       "    <tr>\n",
       "      <th>0</th>\n",
       "      <td>604now.com</td>\n",
       "      <td>1.0000</td>\n",
       "      <td>0.0000</td>\n",
       "      <td>0.0000</td>\n",
       "      <td>0.0000</td>\n",
       "    </tr>\n",
       "    <tr>\n",
       "      <th>1</th>\n",
       "      <td>972mag.com</td>\n",
       "      <td>1.0000</td>\n",
       "      <td>0.0000</td>\n",
       "      <td>0.0000</td>\n",
       "      <td>0.0000</td>\n",
       "    </tr>\n",
       "    <tr>\n",
       "      <th>2</th>\n",
       "      <td>Augustachronicle.com</td>\n",
       "      <td>1.0000</td>\n",
       "      <td>0.0000</td>\n",
       "      <td>0.0000</td>\n",
       "      <td>0.0000</td>\n",
       "    </tr>\n",
       "    <tr>\n",
       "      <th>3</th>\n",
       "      <td>Boston.com</td>\n",
       "      <td>1.0000</td>\n",
       "      <td>0.0000</td>\n",
       "      <td>0.0000</td>\n",
       "      <td>0.0000</td>\n",
       "    </tr>\n",
       "    <tr>\n",
       "      <th>4</th>\n",
       "      <td>Censor.NET</td>\n",
       "      <td>1.0000</td>\n",
       "      <td>0.0000</td>\n",
       "      <td>0.0000</td>\n",
       "      <td>0.0000</td>\n",
       "    </tr>\n",
       "  </tbody>\n",
       "</table>\n",
       "</div>"
      ],
      "text/plain": [
       "                 domain  mediabias_leftcenterbias  mediabias_leftbias  \\\n",
       "0            604now.com                    1.0000              0.0000   \n",
       "1            972mag.com                    1.0000              0.0000   \n",
       "2  Augustachronicle.com                    1.0000              0.0000   \n",
       "3            Boston.com                    1.0000              0.0000   \n",
       "4            Censor.NET                    1.0000              0.0000   \n",
       "\n",
       "   mediabias_rightcenterbias  mediabias_rightbias  \n",
       "0                     0.0000               0.0000  \n",
       "1                     0.0000               0.0000  \n",
       "2                     0.0000               0.0000  \n",
       "3                     0.0000               0.0000  \n",
       "4                     0.0000               0.0000  "
      ]
     },
     "execution_count": 290,
     "metadata": {},
     "output_type": "execute_result"
    }
   ],
   "source": [
    "df_domains_moderate = df_liberal_conservative_domains[(df_liberal_conservative_domains['mediabias_rightcenterbias'] == 1) | (df_liberal_conservative_domains['mediabias_leftcenterbias'] == 1)]\n",
    "\n",
    "print('Shape: ', df_domains_moderate.shape)\n",
    "df_domains_moderate.head()"
   ]
  },
  {
   "cell_type": "code",
   "execution_count": 291,
   "id": "cc5083bf",
   "metadata": {},
   "outputs": [
    {
     "name": "stdout",
     "output_type": "stream",
     "text": [
      "Shape:  (564, 5)\n"
     ]
    },
    {
     "data": {
      "text/html": [
       "<div>\n",
       "<style scoped>\n",
       "    .dataframe tbody tr th:only-of-type {\n",
       "        vertical-align: middle;\n",
       "    }\n",
       "\n",
       "    .dataframe tbody tr th {\n",
       "        vertical-align: top;\n",
       "    }\n",
       "\n",
       "    .dataframe thead th {\n",
       "        text-align: right;\n",
       "    }\n",
       "</style>\n",
       "<table border=\"1\" class=\"dataframe\">\n",
       "  <thead>\n",
       "    <tr style=\"text-align: right;\">\n",
       "      <th></th>\n",
       "      <th>domain</th>\n",
       "      <th>mediabias_leftcenterbias</th>\n",
       "      <th>mediabias_leftbias</th>\n",
       "      <th>mediabias_rightcenterbias</th>\n",
       "      <th>mediabias_rightbias</th>\n",
       "    </tr>\n",
       "  </thead>\n",
       "  <tbody>\n",
       "    <tr>\n",
       "      <th>644</th>\n",
       "      <td>19thnews.org</td>\n",
       "      <td>0.0000</td>\n",
       "      <td>1.0000</td>\n",
       "      <td>0.0000</td>\n",
       "      <td>0.0000</td>\n",
       "    </tr>\n",
       "    <tr>\n",
       "      <th>645</th>\n",
       "      <td>Accountable.US</td>\n",
       "      <td>0.0000</td>\n",
       "      <td>1.0000</td>\n",
       "      <td>0.0000</td>\n",
       "      <td>0.0000</td>\n",
       "    </tr>\n",
       "    <tr>\n",
       "      <th>646</th>\n",
       "      <td>Brut.Media</td>\n",
       "      <td>0.0000</td>\n",
       "      <td>1.0000</td>\n",
       "      <td>0.0000</td>\n",
       "      <td>0.0000</td>\n",
       "    </tr>\n",
       "    <tr>\n",
       "      <th>647</th>\n",
       "      <td>JoeBiden.com</td>\n",
       "      <td>0.0000</td>\n",
       "      <td>1.0000</td>\n",
       "      <td>0.0000</td>\n",
       "      <td>0.0000</td>\n",
       "    </tr>\n",
       "    <tr>\n",
       "      <th>648</th>\n",
       "      <td>Them.us</td>\n",
       "      <td>0.0000</td>\n",
       "      <td>1.0000</td>\n",
       "      <td>0.0000</td>\n",
       "      <td>0.0000</td>\n",
       "    </tr>\n",
       "  </tbody>\n",
       "</table>\n",
       "</div>"
      ],
      "text/plain": [
       "             domain  mediabias_leftcenterbias  mediabias_leftbias  \\\n",
       "644    19thnews.org                    0.0000              1.0000   \n",
       "645  Accountable.US                    0.0000              1.0000   \n",
       "646      Brut.Media                    0.0000              1.0000   \n",
       "647    JoeBiden.com                    0.0000              1.0000   \n",
       "648         Them.us                    0.0000              1.0000   \n",
       "\n",
       "     mediabias_rightcenterbias  mediabias_rightbias  \n",
       "644                     0.0000               0.0000  \n",
       "645                     0.0000               0.0000  \n",
       "646                     0.0000               0.0000  \n",
       "647                     0.0000               0.0000  \n",
       "648                     0.0000               0.0000  "
      ]
     },
     "execution_count": 291,
     "metadata": {},
     "output_type": "execute_result"
    }
   ],
   "source": [
    "df_domains_hardliner = df_liberal_conservative_domains[(df_liberal_conservative_domains['mediabias_rightbias'] == 1) | (df_liberal_conservative_domains['mediabias_leftbias'] == 1)]\n",
    "\n",
    "print('Shape: ', df_domains_hardliner.shape)\n",
    "df_domains_hardliner.head()"
   ]
  },
  {
   "cell_type": "markdown",
   "id": "983180e6",
   "metadata": {},
   "source": [
    "***"
   ]
  },
  {
   "cell_type": "code",
   "execution_count": 292,
   "id": "2bca3880",
   "metadata": {},
   "outputs": [],
   "source": [
    "path = '../data/df_domains_pro_anti_science.tsv'\n",
    "\n",
    "df_domains_pro_and_anti_science = pd.read_csv(path, sep='\\t', error_bad_lines=False)"
   ]
  },
  {
   "cell_type": "code",
   "execution_count": 293,
   "id": "e7d084cd",
   "metadata": {},
   "outputs": [
    {
     "name": "stdout",
     "output_type": "stream",
     "text": [
      "Shape:  (1395, 4)\n"
     ]
    },
    {
     "data": {
      "text/html": [
       "<div>\n",
       "<style scoped>\n",
       "    .dataframe tbody tr th:only-of-type {\n",
       "        vertical-align: middle;\n",
       "    }\n",
       "\n",
       "    .dataframe tbody tr th {\n",
       "        vertical-align: top;\n",
       "    }\n",
       "\n",
       "    .dataframe thead th {\n",
       "        text-align: right;\n",
       "    }\n",
       "</style>\n",
       "<table border=\"1\" class=\"dataframe\">\n",
       "  <thead>\n",
       "    <tr style=\"text-align: right;\">\n",
       "      <th></th>\n",
       "      <th>domain</th>\n",
       "      <th>mediabias_proscience</th>\n",
       "      <th>mediabias_questionblesources</th>\n",
       "      <th>mediabias_conspiracy_psydoscience</th>\n",
       "    </tr>\n",
       "  </thead>\n",
       "  <tbody>\n",
       "    <tr>\n",
       "      <th>0</th>\n",
       "      <td>Covid.gov</td>\n",
       "      <td>1.0000</td>\n",
       "      <td>0.0000</td>\n",
       "      <td>0.0000</td>\n",
       "    </tr>\n",
       "    <tr>\n",
       "      <th>1</th>\n",
       "      <td>Drugs.com</td>\n",
       "      <td>1.0000</td>\n",
       "      <td>0.0000</td>\n",
       "      <td>0.0000</td>\n",
       "    </tr>\n",
       "    <tr>\n",
       "      <th>2</th>\n",
       "      <td>News-Medical.net</td>\n",
       "      <td>1.0000</td>\n",
       "      <td>0.0000</td>\n",
       "      <td>0.0000</td>\n",
       "    </tr>\n",
       "    <tr>\n",
       "      <th>3</th>\n",
       "      <td>SciTechDaily.com</td>\n",
       "      <td>1.0000</td>\n",
       "      <td>0.0000</td>\n",
       "      <td>0.0000</td>\n",
       "    </tr>\n",
       "    <tr>\n",
       "      <th>4</th>\n",
       "      <td>aaas.org</td>\n",
       "      <td>1.0000</td>\n",
       "      <td>0.0000</td>\n",
       "      <td>0.0000</td>\n",
       "    </tr>\n",
       "  </tbody>\n",
       "</table>\n",
       "</div>"
      ],
      "text/plain": [
       "             domain  mediabias_proscience  mediabias_questionblesources  \\\n",
       "0         Covid.gov                1.0000                        0.0000   \n",
       "1         Drugs.com                1.0000                        0.0000   \n",
       "2  News-Medical.net                1.0000                        0.0000   \n",
       "3  SciTechDaily.com                1.0000                        0.0000   \n",
       "4          aaas.org                1.0000                        0.0000   \n",
       "\n",
       "   mediabias_conspiracy_psydoscience  \n",
       "0                             0.0000  \n",
       "1                             0.0000  \n",
       "2                             0.0000  \n",
       "3                             0.0000  \n",
       "4                             0.0000  "
      ]
     },
     "execution_count": 293,
     "metadata": {},
     "output_type": "execute_result"
    }
   ],
   "source": [
    "print('Shape: ', df_domains_pro_and_anti_science.shape)\n",
    "df_domains_pro_and_anti_science.head()"
   ]
  },
  {
   "cell_type": "code",
   "execution_count": 294,
   "id": "ffbf3002",
   "metadata": {},
   "outputs": [
    {
     "name": "stdout",
     "output_type": "stream",
     "text": [
      "Shape:  (150, 4)\n"
     ]
    },
    {
     "data": {
      "text/html": [
       "<div>\n",
       "<style scoped>\n",
       "    .dataframe tbody tr th:only-of-type {\n",
       "        vertical-align: middle;\n",
       "    }\n",
       "\n",
       "    .dataframe tbody tr th {\n",
       "        vertical-align: top;\n",
       "    }\n",
       "\n",
       "    .dataframe thead th {\n",
       "        text-align: right;\n",
       "    }\n",
       "</style>\n",
       "<table border=\"1\" class=\"dataframe\">\n",
       "  <thead>\n",
       "    <tr style=\"text-align: right;\">\n",
       "      <th></th>\n",
       "      <th>domain</th>\n",
       "      <th>mediabias_proscience</th>\n",
       "      <th>mediabias_questionblesources</th>\n",
       "      <th>mediabias_conspiracy_psydoscience</th>\n",
       "    </tr>\n",
       "  </thead>\n",
       "  <tbody>\n",
       "    <tr>\n",
       "      <th>0</th>\n",
       "      <td>Covid.gov</td>\n",
       "      <td>1.0000</td>\n",
       "      <td>0.0000</td>\n",
       "      <td>0.0000</td>\n",
       "    </tr>\n",
       "    <tr>\n",
       "      <th>1</th>\n",
       "      <td>Drugs.com</td>\n",
       "      <td>1.0000</td>\n",
       "      <td>0.0000</td>\n",
       "      <td>0.0000</td>\n",
       "    </tr>\n",
       "    <tr>\n",
       "      <th>2</th>\n",
       "      <td>News-Medical.net</td>\n",
       "      <td>1.0000</td>\n",
       "      <td>0.0000</td>\n",
       "      <td>0.0000</td>\n",
       "    </tr>\n",
       "    <tr>\n",
       "      <th>3</th>\n",
       "      <td>SciTechDaily.com</td>\n",
       "      <td>1.0000</td>\n",
       "      <td>0.0000</td>\n",
       "      <td>0.0000</td>\n",
       "    </tr>\n",
       "    <tr>\n",
       "      <th>4</th>\n",
       "      <td>aaas.org</td>\n",
       "      <td>1.0000</td>\n",
       "      <td>0.0000</td>\n",
       "      <td>0.0000</td>\n",
       "    </tr>\n",
       "  </tbody>\n",
       "</table>\n",
       "</div>"
      ],
      "text/plain": [
       "             domain  mediabias_proscience  mediabias_questionblesources  \\\n",
       "0         Covid.gov                1.0000                        0.0000   \n",
       "1         Drugs.com                1.0000                        0.0000   \n",
       "2  News-Medical.net                1.0000                        0.0000   \n",
       "3  SciTechDaily.com                1.0000                        0.0000   \n",
       "4          aaas.org                1.0000                        0.0000   \n",
       "\n",
       "   mediabias_conspiracy_psydoscience  \n",
       "0                             0.0000  \n",
       "1                             0.0000  \n",
       "2                             0.0000  \n",
       "3                             0.0000  \n",
       "4                             0.0000  "
      ]
     },
     "execution_count": 294,
     "metadata": {},
     "output_type": "execute_result"
    }
   ],
   "source": [
    "df_domains_proscience = df_domains_pro_and_anti_science[df_domains_pro_and_anti_science['mediabias_proscience'] == 1]\n",
    "\n",
    "print('Shape: ', df_domains_proscience.shape)\n",
    "df_domains_proscience.head()"
   ]
  },
  {
   "cell_type": "code",
   "execution_count": 295,
   "id": "022134c4",
   "metadata": {},
   "outputs": [
    {
     "name": "stdout",
     "output_type": "stream",
     "text": [
      "Shape:  (1245, 4)\n"
     ]
    },
    {
     "data": {
      "text/html": [
       "<div>\n",
       "<style scoped>\n",
       "    .dataframe tbody tr th:only-of-type {\n",
       "        vertical-align: middle;\n",
       "    }\n",
       "\n",
       "    .dataframe tbody tr th {\n",
       "        vertical-align: top;\n",
       "    }\n",
       "\n",
       "    .dataframe thead th {\n",
       "        text-align: right;\n",
       "    }\n",
       "</style>\n",
       "<table border=\"1\" class=\"dataframe\">\n",
       "  <thead>\n",
       "    <tr style=\"text-align: right;\">\n",
       "      <th></th>\n",
       "      <th>domain</th>\n",
       "      <th>mediabias_proscience</th>\n",
       "      <th>mediabias_questionblesources</th>\n",
       "      <th>mediabias_conspiracy_psydoscience</th>\n",
       "    </tr>\n",
       "  </thead>\n",
       "  <tbody>\n",
       "    <tr>\n",
       "      <th>150</th>\n",
       "      <td>100percentfedup.com</td>\n",
       "      <td>0.0000</td>\n",
       "      <td>1.0000</td>\n",
       "      <td>0.0000</td>\n",
       "    </tr>\n",
       "    <tr>\n",
       "      <th>151</th>\n",
       "      <td>12minutos.com</td>\n",
       "      <td>0.0000</td>\n",
       "      <td>1.0000</td>\n",
       "      <td>0.0000</td>\n",
       "    </tr>\n",
       "    <tr>\n",
       "      <th>152</th>\n",
       "      <td>2020conservative.com</td>\n",
       "      <td>0.0000</td>\n",
       "      <td>1.0000</td>\n",
       "      <td>0.0000</td>\n",
       "    </tr>\n",
       "    <tr>\n",
       "      <th>153</th>\n",
       "      <td>24Jours.com</td>\n",
       "      <td>0.0000</td>\n",
       "      <td>1.0000</td>\n",
       "      <td>0.0000</td>\n",
       "    </tr>\n",
       "    <tr>\n",
       "      <th>154</th>\n",
       "      <td>4Chan.org</td>\n",
       "      <td>0.0000</td>\n",
       "      <td>1.0000</td>\n",
       "      <td>0.0000</td>\n",
       "    </tr>\n",
       "  </tbody>\n",
       "</table>\n",
       "</div>"
      ],
      "text/plain": [
       "                   domain  mediabias_proscience  mediabias_questionblesources  \\\n",
       "150   100percentfedup.com                0.0000                        1.0000   \n",
       "151         12minutos.com                0.0000                        1.0000   \n",
       "152  2020conservative.com                0.0000                        1.0000   \n",
       "153           24Jours.com                0.0000                        1.0000   \n",
       "154             4Chan.org                0.0000                        1.0000   \n",
       "\n",
       "     mediabias_conspiracy_psydoscience  \n",
       "150                             0.0000  \n",
       "151                             0.0000  \n",
       "152                             0.0000  \n",
       "153                             0.0000  \n",
       "154                             0.0000  "
      ]
     },
     "execution_count": 295,
     "metadata": {},
     "output_type": "execute_result"
    }
   ],
   "source": [
    "df_domains_antiscience = df_domains_pro_and_anti_science[(df_domains_pro_and_anti_science['mediabias_questionblesources'] == 1) | (df_domains_pro_and_anti_science['mediabias_conspiracy_psydoscience'] == 1)]\n",
    "\n",
    "print('Shape: ', df_domains_antiscience.shape)\n",
    "df_domains_antiscience.head()"
   ]
  },
  {
   "cell_type": "code",
   "execution_count": 296,
   "id": "b50cc2ab",
   "metadata": {},
   "outputs": [
    {
     "data": {
      "text/plain": [
       "(0, 4)"
      ]
     },
     "execution_count": 296,
     "metadata": {},
     "output_type": "execute_result"
    }
   ],
   "source": [
    "df_domains_antiscience[df_domains_antiscience['mediabias_proscience'] == 1].shape\n"
   ]
  },
  {
   "cell_type": "code",
   "execution_count": 297,
   "id": "298ea717",
   "metadata": {},
   "outputs": [],
   "source": [
    "df_domains_antiscience = df_domains_antiscience.drop(columns=['mediabias_proscience'])"
   ]
  },
  {
   "cell_type": "code",
   "execution_count": 298,
   "id": "f30500d1",
   "metadata": {},
   "outputs": [
    {
     "name": "stdout",
     "output_type": "stream",
     "text": [
      "Shape:  (1245, 3)\n"
     ]
    },
    {
     "data": {
      "text/html": [
       "<div>\n",
       "<style scoped>\n",
       "    .dataframe tbody tr th:only-of-type {\n",
       "        vertical-align: middle;\n",
       "    }\n",
       "\n",
       "    .dataframe tbody tr th {\n",
       "        vertical-align: top;\n",
       "    }\n",
       "\n",
       "    .dataframe thead th {\n",
       "        text-align: right;\n",
       "    }\n",
       "</style>\n",
       "<table border=\"1\" class=\"dataframe\">\n",
       "  <thead>\n",
       "    <tr style=\"text-align: right;\">\n",
       "      <th></th>\n",
       "      <th>domain</th>\n",
       "      <th>mediabias_questionblesources</th>\n",
       "      <th>mediabias_conspiracy_psydoscience</th>\n",
       "    </tr>\n",
       "  </thead>\n",
       "  <tbody>\n",
       "    <tr>\n",
       "      <th>150</th>\n",
       "      <td>100percentfedup.com</td>\n",
       "      <td>1.0000</td>\n",
       "      <td>0.0000</td>\n",
       "    </tr>\n",
       "    <tr>\n",
       "      <th>151</th>\n",
       "      <td>12minutos.com</td>\n",
       "      <td>1.0000</td>\n",
       "      <td>0.0000</td>\n",
       "    </tr>\n",
       "    <tr>\n",
       "      <th>152</th>\n",
       "      <td>2020conservative.com</td>\n",
       "      <td>1.0000</td>\n",
       "      <td>0.0000</td>\n",
       "    </tr>\n",
       "    <tr>\n",
       "      <th>153</th>\n",
       "      <td>24Jours.com</td>\n",
       "      <td>1.0000</td>\n",
       "      <td>0.0000</td>\n",
       "    </tr>\n",
       "    <tr>\n",
       "      <th>154</th>\n",
       "      <td>4Chan.org</td>\n",
       "      <td>1.0000</td>\n",
       "      <td>0.0000</td>\n",
       "    </tr>\n",
       "  </tbody>\n",
       "</table>\n",
       "</div>"
      ],
      "text/plain": [
       "                   domain  mediabias_questionblesources  \\\n",
       "150   100percentfedup.com                        1.0000   \n",
       "151         12minutos.com                        1.0000   \n",
       "152  2020conservative.com                        1.0000   \n",
       "153           24Jours.com                        1.0000   \n",
       "154             4Chan.org                        1.0000   \n",
       "\n",
       "     mediabias_conspiracy_psydoscience  \n",
       "150                             0.0000  \n",
       "151                             0.0000  \n",
       "152                             0.0000  \n",
       "153                             0.0000  \n",
       "154                             0.0000  "
      ]
     },
     "execution_count": 298,
     "metadata": {},
     "output_type": "execute_result"
    }
   ],
   "source": [
    "print('Shape: ', df_domains_antiscience.shape)\n",
    "df_domains_antiscience.head()"
   ]
  },
  {
   "cell_type": "code",
   "execution_count": 299,
   "id": "e178f941",
   "metadata": {},
   "outputs": [
    {
     "name": "stdout",
     "output_type": "stream",
     "text": [
      "shape:  (2984, 1)\n"
     ]
    }
   ],
   "source": [
    "df_domains_pro_and_anti_science = df_domains_pro_and_anti_science[['domain']]\n",
    "df_liberal_conservative_domains = df_liberal_conservative_domains[['domain']]\n",
    "df_domains_all_polarized = pd.merge(df_domains_pro_and_anti_science, df_liberal_conservative_domains, on='domain', how='outer')\n",
    "print('shape: ', df_domains_all_polarized.shape)"
   ]
  },
  {
   "cell_type": "markdown",
   "id": "4ce15024",
   "metadata": {},
   "source": [
    "***"
   ]
  },
  {
   "cell_type": "markdown",
   "id": "ff235794",
   "metadata": {},
   "source": [
    "# TweetsCOV19"
   ]
  },
  {
   "cell_type": "markdown",
   "id": "77be4427",
   "metadata": {},
   "source": [
    "***"
   ]
  },
  {
   "cell_type": "code",
   "execution_count": 16,
   "id": "6265d4b7",
   "metadata": {},
   "outputs": [],
   "source": [
    "TweetsCov19_labels = ['Tweet_Id', 'Username', 'Timestamp', 'Followers', 'Followees', 'Retweets', 'Favorites', 'Entities', 'Sentiment', 'Mentions', 'Hashtags', 'URLs', 'Text', 'Is_deleted', 'Number of Mentions', 'Number of Hashtags', 'Number of URLS', 'Domains', 'Textlength', 'Readability','Vader_neg', 'Vader_neu', 'Vader_pos', 'Vader_compound', 'Emojis', 'Number of Emojis',  'Emoji_neg', 'Emoji_neu', 'Emoji_pos', 'Emoji_average', 'Number of valued Emojis']\n",
    "TweetsCov19_Pfad =  '../data/TweetsCov19_stichprobe_final.tsv'\n"
   ]
  },
  {
   "cell_type": "code",
   "execution_count": 17,
   "id": "1942ebf7",
   "metadata": {},
   "outputs": [
    {
     "name": "stdout",
     "output_type": "stream",
     "text": [
      "Form (9409841, 31)\n"
     ]
    },
    {
     "data": {
      "text/html": [
       "<div>\n",
       "<style scoped>\n",
       "    .dataframe tbody tr th:only-of-type {\n",
       "        vertical-align: middle;\n",
       "    }\n",
       "\n",
       "    .dataframe tbody tr th {\n",
       "        vertical-align: top;\n",
       "    }\n",
       "\n",
       "    .dataframe thead th {\n",
       "        text-align: right;\n",
       "    }\n",
       "</style>\n",
       "<table border=\"1\" class=\"dataframe\">\n",
       "  <thead>\n",
       "    <tr style=\"text-align: right;\">\n",
       "      <th></th>\n",
       "      <th>Tweet_Id</th>\n",
       "      <th>Username</th>\n",
       "      <th>Timestamp</th>\n",
       "      <th>Followers</th>\n",
       "      <th>Followees</th>\n",
       "      <th>Retweets</th>\n",
       "      <th>Favorites</th>\n",
       "      <th>Entities</th>\n",
       "      <th>Sentiment</th>\n",
       "      <th>Mentions</th>\n",
       "      <th>Hashtags</th>\n",
       "      <th>URLs</th>\n",
       "      <th>Text</th>\n",
       "      <th>Is_deleted</th>\n",
       "      <th>Number of Mentions</th>\n",
       "      <th>Number of Hashtags</th>\n",
       "      <th>Number of URLS</th>\n",
       "      <th>Domains</th>\n",
       "      <th>Textlength</th>\n",
       "      <th>Readability</th>\n",
       "      <th>Vader_neg</th>\n",
       "      <th>Vader_neu</th>\n",
       "      <th>Vader_pos</th>\n",
       "      <th>Vader_compound</th>\n",
       "      <th>Emojis</th>\n",
       "      <th>Number of Emojis</th>\n",
       "      <th>Emoji_neg</th>\n",
       "      <th>Emoji_neu</th>\n",
       "      <th>Emoji_pos</th>\n",
       "      <th>Emoji_average</th>\n",
       "      <th>Number of valued Emojis</th>\n",
       "    </tr>\n",
       "  </thead>\n",
       "  <tbody>\n",
       "    <tr>\n",
       "      <th>0</th>\n",
       "      <td>1178791637348212736</td>\n",
       "      <td>c57d4fb895c5f4a33d2a2b24709f93b5</td>\n",
       "      <td>2019-09-30 22:00:01+00:00</td>\n",
       "      <td>764191</td>\n",
       "      <td>132</td>\n",
       "      <td>19</td>\n",
       "      <td>180</td>\n",
       "      <td>foodie:Foodie:-2.096663959988218;</td>\n",
       "      <td>1 -1</td>\n",
       "      <td>null;</td>\n",
       "      <td>HalloweenTime?</td>\n",
       "      <td>null;</td>\n",
       "      <td>Has your appetite materialized just as fast as...</td>\n",
       "      <td>True</td>\n",
       "      <td>0</td>\n",
       "      <td>1</td>\n",
       "      <td>0</td>\n",
       "      <td>0</td>\n",
       "      <td>155</td>\n",
       "      <td>76.5530</td>\n",
       "      <td>-0.0000</td>\n",
       "      <td>1.0000</td>\n",
       "      <td>0.0000</td>\n",
       "      <td>0.0000</td>\n",
       "      <td>[]</td>\n",
       "      <td>0</td>\n",
       "      <td>-0.0000</td>\n",
       "      <td>0.0000</td>\n",
       "      <td>0.0000</td>\n",
       "      <td>0.0000</td>\n",
       "      <td>0.0000</td>\n",
       "    </tr>\n",
       "    <tr>\n",
       "      <th>1</th>\n",
       "      <td>1178791641601232896</td>\n",
       "      <td>627f7d4ef584ba33a676a4ebcb861cdb</td>\n",
       "      <td>2019-09-30 22:00:02+00:00</td>\n",
       "      <td>321189</td>\n",
       "      <td>26833</td>\n",
       "      <td>32</td>\n",
       "      <td>43</td>\n",
       "      <td>mainland china:Mainland_China:-1.6252666161640...</td>\n",
       "      <td>1 -1</td>\n",
       "      <td>null;</td>\n",
       "      <td>HongKong</td>\n",
       "      <td>https://www.catholicnewsagency.com/news/amid-h...</td>\n",
       "      <td>The persecution of Catholics in mainland China...</td>\n",
       "      <td>False</td>\n",
       "      <td>0</td>\n",
       "      <td>1</td>\n",
       "      <td>1</td>\n",
       "      <td>catholicnewsagency.com</td>\n",
       "      <td>204</td>\n",
       "      <td>29.4680</td>\n",
       "      <td>-0.0000</td>\n",
       "      <td>0.9190</td>\n",
       "      <td>0.0810</td>\n",
       "      <td>0.3182</td>\n",
       "      <td>[]</td>\n",
       "      <td>0</td>\n",
       "      <td>-0.0000</td>\n",
       "      <td>0.0000</td>\n",
       "      <td>0.0000</td>\n",
       "      <td>0.0000</td>\n",
       "      <td>0.0000</td>\n",
       "    </tr>\n",
       "    <tr>\n",
       "      <th>2</th>\n",
       "      <td>1178791643509612547</td>\n",
       "      <td>7966d5716c1c4f33591b17755184e3d6</td>\n",
       "      <td>2019-09-30 22:00:03+00:00</td>\n",
       "      <td>14209</td>\n",
       "      <td>10623</td>\n",
       "      <td>90</td>\n",
       "      <td>182</td>\n",
       "      <td>brexit:Brexit:-1.582809637810362;hear hear:Hea...</td>\n",
       "      <td>1 -2</td>\n",
       "      <td>null;</td>\n",
       "      <td>Brexit</td>\n",
       "      <td>null;</td>\n",
       "      <td>Hear, hear..\\nEmily: You were an outspoken cri...</td>\n",
       "      <td>False</td>\n",
       "      <td>0</td>\n",
       "      <td>1</td>\n",
       "      <td>0</td>\n",
       "      <td>0</td>\n",
       "      <td>163</td>\n",
       "      <td>79.5340</td>\n",
       "      <td>-0.2020</td>\n",
       "      <td>0.7980</td>\n",
       "      <td>0.0000</td>\n",
       "      <td>-0.6486</td>\n",
       "      <td>[]</td>\n",
       "      <td>0</td>\n",
       "      <td>-0.0000</td>\n",
       "      <td>0.0000</td>\n",
       "      <td>0.0000</td>\n",
       "      <td>0.0000</td>\n",
       "      <td>0.0000</td>\n",
       "    </tr>\n",
       "    <tr>\n",
       "      <th>3</th>\n",
       "      <td>1178791644214235137</td>\n",
       "      <td>f17996c036ed4cd981f5448fe00d9ed2</td>\n",
       "      <td>2019-09-30 22:00:03+00:00</td>\n",
       "      <td>2264986</td>\n",
       "      <td>655</td>\n",
       "      <td>60</td>\n",
       "      <td>528</td>\n",
       "      <td>null;</td>\n",
       "      <td>3 -1</td>\n",
       "      <td>amstandardca.</td>\n",
       "      <td>BlueJays</td>\n",
       "      <td>null;</td>\n",
       "      <td>We wrapped up the season with a WINNING week! ...</td>\n",
       "      <td>False</td>\n",
       "      <td>1</td>\n",
       "      <td>1</td>\n",
       "      <td>0</td>\n",
       "      <td>0</td>\n",
       "      <td>132</td>\n",
       "      <td>85.8890</td>\n",
       "      <td>-0.0000</td>\n",
       "      <td>0.6240</td>\n",
       "      <td>0.3760</td>\n",
       "      <td>0.8633</td>\n",
       "      <td>[]</td>\n",
       "      <td>0</td>\n",
       "      <td>-0.0000</td>\n",
       "      <td>0.0000</td>\n",
       "      <td>0.0000</td>\n",
       "      <td>0.0000</td>\n",
       "      <td>0.0000</td>\n",
       "    </tr>\n",
       "    <tr>\n",
       "      <th>4</th>\n",
       "      <td>1178791645371875329</td>\n",
       "      <td>32a54e5f6d8a67de1bffd2e689594dc8</td>\n",
       "      <td>2019-09-30 22:00:03+00:00</td>\n",
       "      <td>171</td>\n",
       "      <td>138</td>\n",
       "      <td>33</td>\n",
       "      <td>117</td>\n",
       "      <td>my family:My_Family:-2.6353832182503094;roll t...</td>\n",
       "      <td>4 -1</td>\n",
       "      <td>null;</td>\n",
       "      <td>null;</td>\n",
       "      <td>null;</td>\n",
       "      <td>Super excited to announce that I will be spend...</td>\n",
       "      <td>False</td>\n",
       "      <td>0</td>\n",
       "      <td>0</td>\n",
       "      <td>0</td>\n",
       "      <td>0</td>\n",
       "      <td>257</td>\n",
       "      <td>61.2030</td>\n",
       "      <td>-0.0000</td>\n",
       "      <td>0.7650</td>\n",
       "      <td>0.2350</td>\n",
       "      <td>0.9117</td>\n",
       "      <td>['🐘', '🔴']</td>\n",
       "      <td>2</td>\n",
       "      <td>-0.0150</td>\n",
       "      <td>0.2650</td>\n",
       "      <td>0.2200</td>\n",
       "      <td>0.2235</td>\n",
       "      <td>2.0000</td>\n",
       "    </tr>\n",
       "  </tbody>\n",
       "</table>\n",
       "</div>"
      ],
      "text/plain": [
       "              Tweet_Id                          Username  \\\n",
       "0  1178791637348212736  c57d4fb895c5f4a33d2a2b24709f93b5   \n",
       "1  1178791641601232896  627f7d4ef584ba33a676a4ebcb861cdb   \n",
       "2  1178791643509612547  7966d5716c1c4f33591b17755184e3d6   \n",
       "3  1178791644214235137  f17996c036ed4cd981f5448fe00d9ed2   \n",
       "4  1178791645371875329  32a54e5f6d8a67de1bffd2e689594dc8   \n",
       "\n",
       "                   Timestamp  Followers  Followees  Retweets  Favorites  \\\n",
       "0  2019-09-30 22:00:01+00:00     764191        132        19        180   \n",
       "1  2019-09-30 22:00:02+00:00     321189      26833        32         43   \n",
       "2  2019-09-30 22:00:03+00:00      14209      10623        90        182   \n",
       "3  2019-09-30 22:00:03+00:00    2264986        655        60        528   \n",
       "4  2019-09-30 22:00:03+00:00        171        138        33        117   \n",
       "\n",
       "                                            Entities Sentiment       Mentions  \\\n",
       "0                  foodie:Foodie:-2.096663959988218;      1 -1          null;   \n",
       "1  mainland china:Mainland_China:-1.6252666161640...      1 -1          null;   \n",
       "2  brexit:Brexit:-1.582809637810362;hear hear:Hea...      1 -2          null;   \n",
       "3                                              null;      3 -1  amstandardca.   \n",
       "4  my family:My_Family:-2.6353832182503094;roll t...      4 -1          null;   \n",
       "\n",
       "         Hashtags                                               URLs  \\\n",
       "0  HalloweenTime?                                              null;   \n",
       "1        HongKong  https://www.catholicnewsagency.com/news/amid-h...   \n",
       "2          Brexit                                              null;   \n",
       "3        BlueJays                                              null;   \n",
       "4           null;                                              null;   \n",
       "\n",
       "                                                Text  Is_deleted  \\\n",
       "0  Has your appetite materialized just as fast as...        True   \n",
       "1  The persecution of Catholics in mainland China...       False   \n",
       "2  Hear, hear..\\nEmily: You were an outspoken cri...       False   \n",
       "3  We wrapped up the season with a WINNING week! ...       False   \n",
       "4  Super excited to announce that I will be spend...       False   \n",
       "\n",
       "   Number of Mentions  Number of Hashtags  Number of URLS  \\\n",
       "0                   0                   1               0   \n",
       "1                   0                   1               1   \n",
       "2                   0                   1               0   \n",
       "3                   1                   1               0   \n",
       "4                   0                   0               0   \n",
       "\n",
       "                  Domains  Textlength  Readability  Vader_neg  Vader_neu  \\\n",
       "0                       0         155      76.5530    -0.0000     1.0000   \n",
       "1  catholicnewsagency.com         204      29.4680    -0.0000     0.9190   \n",
       "2                       0         163      79.5340    -0.2020     0.7980   \n",
       "3                       0         132      85.8890    -0.0000     0.6240   \n",
       "4                       0         257      61.2030    -0.0000     0.7650   \n",
       "\n",
       "   Vader_pos  Vader_compound      Emojis  Number of Emojis  Emoji_neg  \\\n",
       "0     0.0000          0.0000          []                 0    -0.0000   \n",
       "1     0.0810          0.3182          []                 0    -0.0000   \n",
       "2     0.0000         -0.6486          []                 0    -0.0000   \n",
       "3     0.3760          0.8633          []                 0    -0.0000   \n",
       "4     0.2350          0.9117  ['🐘', '🔴']                 2    -0.0150   \n",
       "\n",
       "   Emoji_neu  Emoji_pos  Emoji_average  Number of valued Emojis  \n",
       "0     0.0000     0.0000         0.0000                   0.0000  \n",
       "1     0.0000     0.0000         0.0000                   0.0000  \n",
       "2     0.0000     0.0000         0.0000                   0.0000  \n",
       "3     0.0000     0.0000         0.0000                   0.0000  \n",
       "4     0.2650     0.2200         0.2235                   2.0000  "
      ]
     },
     "execution_count": 17,
     "metadata": {},
     "output_type": "execute_result"
    }
   ],
   "source": [
    "#Dataframe TweetsCov19 \n",
    "df_tweetscov19 = pd.read_csv(TweetsCov19_Pfad, sep='\\t', error_bad_lines=False, names=TweetsCov19_labels)\n",
    "print('Form', df_tweetscov19.shape)\n",
    "df_tweetscov19.head()"
   ]
  },
  {
   "cell_type": "code",
   "execution_count": 18,
   "id": "e2ced24b",
   "metadata": {},
   "outputs": [],
   "source": [
    "df_tweetscov19_del = df_tweetscov19[df_tweetscov19['Is_deleted'] == True]\n",
    "df_tweetscov19_undel = df_tweetscov19[df_tweetscov19['Is_deleted'] == False]"
   ]
  },
  {
   "cell_type": "code",
   "execution_count": 95,
   "id": "1947ee79",
   "metadata": {},
   "outputs": [],
   "source": [
    "\n",
    "def get_unique_domains_with_their_number_of_repeatation(df):\n",
    "    dict_domains = {}\n",
    "    i  = 0\n",
    "    for idx, row in df.iterrows():\n",
    "        list_domains = []\n",
    "        list_domains = (row.values.tolist()[0])\n",
    "        list_domains = str(list_domains).split()\n",
    "\n",
    "        #list_domains = np.array(list_domains)\n",
    "        #list_domains = np.unique(list_domains)\n",
    "        #list_domains = list_domains.tolist()\n",
    "\n",
    "        for i in range(0, len(list_domains)):\n",
    "            domain = list_domains[i]\n",
    "            if domain not in dict_domains:\n",
    "                dict_domains[domain] = 1\n",
    "            else :\n",
    "                dict_domains[domain] = dict_domains[domain] +1\n",
    "        #print(dict_tweetscov19_domaene)\n",
    "    return dict_domains"
   ]
  },
  {
   "cell_type": "code",
   "execution_count": 22,
   "id": "51ff5cc4",
   "metadata": {},
   "outputs": [],
   "source": [
    "df_tweetsCov19_domains = df_tweetscov19[['Domains']]\n",
    "dict_tweetscov19_domains = get_unique_domains_with_their_number_of_repeatation(df_tweetsCov19_domains)"
   ]
  },
  {
   "cell_type": "code",
   "execution_count": 23,
   "id": "bfb4a8c9",
   "metadata": {},
   "outputs": [],
   "source": [
    "df_dict_tweetsCov19_domains = pd.DataFrame(dict_tweetscov19_domains.items(), columns=['domain','Number'])"
   ]
  },
  {
   "cell_type": "code",
   "execution_count": 199,
   "id": "9e649697",
   "metadata": {},
   "outputs": [
    {
     "name": "stdout",
     "output_type": "stream",
     "text": [
      "Number of used Domains in TweetsCov19(unique) : 181022\n",
      "Number of used domains in TweetsCov19(sum) : 2508542\n"
     ]
    }
   ],
   "source": [
    "Number_of_domains = df_tweetscov19['Number of URLS'].sum()\n",
    "print('Number of used Domains in TweetsCov19(unique) :', df_dict_tweetsCov19_domains.domain.size -1) #-1 is label 0 for no Domains\n",
    "print('Number of used domains in TweetsCov19(sum) :', Number_of_domains)"
   ]
  },
  {
   "cell_type": "code",
   "execution_count": 200,
   "id": "61a4ebd3",
   "metadata": {},
   "outputs": [
    {
     "data": {
      "text/html": [
       "<div>\n",
       "<style scoped>\n",
       "    .dataframe tbody tr th:only-of-type {\n",
       "        vertical-align: middle;\n",
       "    }\n",
       "\n",
       "    .dataframe tbody tr th {\n",
       "        vertical-align: top;\n",
       "    }\n",
       "\n",
       "    .dataframe thead th {\n",
       "        text-align: right;\n",
       "    }\n",
       "</style>\n",
       "<table border=\"1\" class=\"dataframe\">\n",
       "  <thead>\n",
       "    <tr style=\"text-align: right;\">\n",
       "      <th></th>\n",
       "      <th>domain</th>\n",
       "      <th>Number</th>\n",
       "      <th>percent</th>\n",
       "    </tr>\n",
       "  </thead>\n",
       "  <tbody>\n",
       "    <tr>\n",
       "      <th>0</th>\n",
       "      <td>0</td>\n",
       "      <td>6990537</td>\n",
       "      <td>278.6693</td>\n",
       "    </tr>\n",
       "    <tr>\n",
       "      <th>3</th>\n",
       "      <td>twitter.com</td>\n",
       "      <td>270819</td>\n",
       "      <td>10.7959</td>\n",
       "    </tr>\n",
       "    <tr>\n",
       "      <th>19</th>\n",
       "      <td>youtube.com</td>\n",
       "      <td>122204</td>\n",
       "      <td>4.8715</td>\n",
       "    </tr>\n",
       "    <tr>\n",
       "      <th>52</th>\n",
       "      <td>instagram.com</td>\n",
       "      <td>60647</td>\n",
       "      <td>2.4176</td>\n",
       "    </tr>\n",
       "    <tr>\n",
       "      <th>8</th>\n",
       "      <td>nytimes.com</td>\n",
       "      <td>35661</td>\n",
       "      <td>1.4216</td>\n",
       "    </tr>\n",
       "    <tr>\n",
       "      <th>89</th>\n",
       "      <td>theguardian.com</td>\n",
       "      <td>33863</td>\n",
       "      <td>1.3499</td>\n",
       "    </tr>\n",
       "    <tr>\n",
       "      <th>11</th>\n",
       "      <td>cnn.com</td>\n",
       "      <td>29895</td>\n",
       "      <td>1.1917</td>\n",
       "    </tr>\n",
       "    <tr>\n",
       "      <th>25</th>\n",
       "      <td>washingtonpost.com</td>\n",
       "      <td>25083</td>\n",
       "      <td>0.9999</td>\n",
       "    </tr>\n",
       "    <tr>\n",
       "      <th>136</th>\n",
       "      <td>reuters.com</td>\n",
       "      <td>21310</td>\n",
       "      <td>0.8495</td>\n",
       "    </tr>\n",
       "    <tr>\n",
       "      <th>110</th>\n",
       "      <td>facebook.com</td>\n",
       "      <td>20776</td>\n",
       "      <td>0.8282</td>\n",
       "    </tr>\n",
       "  </tbody>\n",
       "</table>\n",
       "</div>"
      ],
      "text/plain": [
       "                 domain   Number  percent\n",
       "0                     0  6990537 278.6693\n",
       "3           twitter.com   270819  10.7959\n",
       "19          youtube.com   122204   4.8715\n",
       "52        instagram.com    60647   2.4176\n",
       "8           nytimes.com    35661   1.4216\n",
       "89      theguardian.com    33863   1.3499\n",
       "11              cnn.com    29895   1.1917\n",
       "25   washingtonpost.com    25083   0.9999\n",
       "136         reuters.com    21310   0.8495\n",
       "110        facebook.com    20776   0.8282"
      ]
     },
     "execution_count": 200,
     "metadata": {},
     "output_type": "execute_result"
    }
   ],
   "source": [
    "df_dict_tweetsCov19_domains['percent'] =  df_dict_tweetsCov19_domains['Number'].apply(lambda row : ((row /Number_of_domains) * 100) )\n",
    "\n",
    "df_dict_tweetsCov19_domains['Number'] = df_dict_tweetsCov19_domains['Number'].astype(int) \n",
    "df_dict_tweetsCov19_domains.sort_values(by = ['Number'], ascending = False, inplace = True)\n",
    "df_dict_tweetsCov19_domains.head(10)"
   ]
  },
  {
   "cell_type": "markdown",
   "id": "7de57246",
   "metadata": {},
   "source": [
    "***"
   ]
  },
  {
   "cell_type": "code",
   "execution_count": 300,
   "id": "28b46df1",
   "metadata": {},
   "outputs": [
    {
     "name": "stdout",
     "output_type": "stream",
     "text": [
      "shape:  (792, 7)\n"
     ]
    }
   ],
   "source": [
    "df_l = pd.merge(df_dict_tweetsCov19_domains, df_domains_left, on='domain', how='inner')\n",
    "print('shape: ', df_l.shape)"
   ]
  },
  {
   "cell_type": "code",
   "execution_count": 301,
   "id": "e674355f",
   "metadata": {},
   "outputs": [
    {
     "name": "stdout",
     "output_type": "stream",
     "text": [
      "shape:  (490, 7)\n"
     ]
    }
   ],
   "source": [
    "df_r = pd.merge(df_dict_tweetsCov19_domains, df_domains_right, on='domain', how='inner')\n",
    "print('shape: ', df_r.shape)"
   ]
  },
  {
   "cell_type": "code",
   "execution_count": 302,
   "id": "2a0c2d33",
   "metadata": {},
   "outputs": [
    {
     "name": "stdout",
     "output_type": "stream",
     "text": [
      "shape:  (837, 7)\n"
     ]
    }
   ],
   "source": [
    "df_mod = pd.merge(df_dict_tweetsCov19_domains, df_domains_moderate, on='domain', how='inner')\n",
    "print('shape: ', df_mod.shape)"
   ]
  },
  {
   "cell_type": "code",
   "execution_count": 303,
   "id": "3ebfee68",
   "metadata": {},
   "outputs": [
    {
     "name": "stdout",
     "output_type": "stream",
     "text": [
      "shape:  (445, 7)\n"
     ]
    }
   ],
   "source": [
    "df_hard = pd.merge(df_dict_tweetsCov19_domains, df_domains_hardliner, on='domain', how='inner')\n",
    "print('shape: ', df_hard.shape)"
   ]
  },
  {
   "cell_type": "code",
   "execution_count": 304,
   "id": "750dafc4",
   "metadata": {},
   "outputs": [
    {
     "name": "stdout",
     "output_type": "stream",
     "text": [
      "shape:  (121, 6)\n"
     ]
    }
   ],
   "source": [
    "df_prosc = pd.merge(df_dict_tweetsCov19_domains, df_domains_proscience, on='domain', how='inner')\n",
    "print('shape: ', df_prosc.shape)"
   ]
  },
  {
   "cell_type": "code",
   "execution_count": 305,
   "id": "748c8b30",
   "metadata": {},
   "outputs": [
    {
     "name": "stdout",
     "output_type": "stream",
     "text": [
      "shape:  (510, 5)\n"
     ]
    }
   ],
   "source": [
    "df_antisc = pd.merge(df_dict_tweetsCov19_domains, df_domains_antiscience, on='domain', how='inner')\n",
    "print('shape: ', df_antisc.shape)"
   ]
  },
  {
   "cell_type": "code",
   "execution_count": 306,
   "id": "9d9d9ea3",
   "metadata": {},
   "outputs": [
    {
     "name": "stdout",
     "output_type": "stream",
     "text": [
      "shape:  (1913, 3)\n"
     ]
    }
   ],
   "source": [
    "df_all_cov19 = pd.merge(df_dict_tweetsCov19_domains, df_domains_all_polarized, on='domain', how='inner')\n",
    "print('shape: ', df_all_cov19.shape)"
   ]
  },
  {
   "cell_type": "markdown",
   "id": "7ea44970",
   "metadata": {},
   "source": [
    "***"
   ]
  },
  {
   "cell_type": "markdown",
   "id": "c64f0cb7",
   "metadata": {},
   "source": [
    "## Non deleted"
   ]
  },
  {
   "cell_type": "code",
   "execution_count": 70,
   "id": "cb67e311",
   "metadata": {},
   "outputs": [],
   "source": [
    "df_tweetscov19_domains_undel = df_tweetscov19_undel[['Domains']]\n",
    "dict_tweetscov19_domains_undel = get_unique_domains_with_their_number_of_repeatation(df_tweetscov19_domains_undel)"
   ]
  },
  {
   "cell_type": "code",
   "execution_count": 261,
   "id": "a525a305",
   "metadata": {},
   "outputs": [],
   "source": [
    "df_dict_tweetscov19_domains_undel = pd.DataFrame(dict_tweetscov19_domains_undel.items(), columns=['domain','Number'])"
   ]
  },
  {
   "cell_type": "code",
   "execution_count": 262,
   "id": "8864d75c",
   "metadata": {},
   "outputs": [
    {
     "name": "stdout",
     "output_type": "stream",
     "text": [
      "Number of used Domains in non-deleted Tweets TweetsCov19(unique) : 164388\n",
      "Number of used domains in non-deleted Tweets TweetsCov19(sum) : 2102278\n"
     ]
    }
   ],
   "source": [
    "Number_of_domains_undel = df_tweetscov19_undel['Number of URLS'].sum()\n",
    "print('Number of used Domains in non-deleted Tweets TweetsCov19(unique) :', df_dict_tweetscov19_domains_undel.domain.size -1) #-1 is label 0 for no Domains\n",
    "print('Number of used domains in non-deleted Tweets TweetsCov19(sum) :', Number_of_domains_undel)"
   ]
  },
  {
   "cell_type": "code",
   "execution_count": 263,
   "id": "78589a76",
   "metadata": {},
   "outputs": [
    {
     "data": {
      "text/html": [
       "<div>\n",
       "<style scoped>\n",
       "    .dataframe tbody tr th:only-of-type {\n",
       "        vertical-align: middle;\n",
       "    }\n",
       "\n",
       "    .dataframe tbody tr th {\n",
       "        vertical-align: top;\n",
       "    }\n",
       "\n",
       "    .dataframe thead th {\n",
       "        text-align: right;\n",
       "    }\n",
       "</style>\n",
       "<table border=\"1\" class=\"dataframe\">\n",
       "  <thead>\n",
       "    <tr style=\"text-align: right;\">\n",
       "      <th></th>\n",
       "      <th>domain</th>\n",
       "      <th>Number</th>\n",
       "      <th>percent</th>\n",
       "    </tr>\n",
       "  </thead>\n",
       "  <tbody>\n",
       "    <tr>\n",
       "      <th>1</th>\n",
       "      <td>0</td>\n",
       "      <td>5241504</td>\n",
       "      <td>249.3250</td>\n",
       "    </tr>\n",
       "    <tr>\n",
       "      <th>3</th>\n",
       "      <td>twitter.com</td>\n",
       "      <td>210757</td>\n",
       "      <td>10.0252</td>\n",
       "    </tr>\n",
       "    <tr>\n",
       "      <th>17</th>\n",
       "      <td>youtube.com</td>\n",
       "      <td>92698</td>\n",
       "      <td>4.4094</td>\n",
       "    </tr>\n",
       "    <tr>\n",
       "      <th>43</th>\n",
       "      <td>instagram.com</td>\n",
       "      <td>54560</td>\n",
       "      <td>2.5953</td>\n",
       "    </tr>\n",
       "    <tr>\n",
       "      <th>8</th>\n",
       "      <td>nytimes.com</td>\n",
       "      <td>32304</td>\n",
       "      <td>1.5366</td>\n",
       "    </tr>\n",
       "    <tr>\n",
       "      <th>203</th>\n",
       "      <td>theguardian.com</td>\n",
       "      <td>30946</td>\n",
       "      <td>1.4720</td>\n",
       "    </tr>\n",
       "    <tr>\n",
       "      <th>151</th>\n",
       "      <td>cnn.com</td>\n",
       "      <td>27505</td>\n",
       "      <td>1.3083</td>\n",
       "    </tr>\n",
       "    <tr>\n",
       "      <th>21</th>\n",
       "      <td>washingtonpost.com</td>\n",
       "      <td>22975</td>\n",
       "      <td>1.0929</td>\n",
       "    </tr>\n",
       "    <tr>\n",
       "      <th>164</th>\n",
       "      <td>reuters.com</td>\n",
       "      <td>19515</td>\n",
       "      <td>0.9283</td>\n",
       "    </tr>\n",
       "    <tr>\n",
       "      <th>92</th>\n",
       "      <td>facebook.com</td>\n",
       "      <td>18165</td>\n",
       "      <td>0.8641</td>\n",
       "    </tr>\n",
       "  </tbody>\n",
       "</table>\n",
       "</div>"
      ],
      "text/plain": [
       "                 domain   Number  percent\n",
       "1                     0  5241504 249.3250\n",
       "3           twitter.com   210757  10.0252\n",
       "17          youtube.com    92698   4.4094\n",
       "43        instagram.com    54560   2.5953\n",
       "8           nytimes.com    32304   1.5366\n",
       "203     theguardian.com    30946   1.4720\n",
       "151             cnn.com    27505   1.3083\n",
       "21   washingtonpost.com    22975   1.0929\n",
       "164         reuters.com    19515   0.9283\n",
       "92         facebook.com    18165   0.8641"
      ]
     },
     "execution_count": 263,
     "metadata": {},
     "output_type": "execute_result"
    }
   ],
   "source": [
    "df_dict_tweetscov19_domains_undel['percent'] =  df_dict_tweetscov19_domains_undel['Number'].apply(lambda row : ((row /Number_of_domains_undel) * 100) )\n",
    "\n",
    "df_dict_tweetscov19_domains_undel['Number'] = df_dict_tweetscov19_domains_undel['Number'].astype(int) \n",
    "df_dict_tweetscov19_domains_undel.sort_values(by = ['Number'], ascending = False, inplace = True)\n",
    "df_dict_tweetscov19_domains_undel.head(10)"
   ]
  },
  {
   "cell_type": "code",
   "execution_count": 307,
   "id": "8f5238af",
   "metadata": {},
   "outputs": [
    {
     "name": "stdout",
     "output_type": "stream",
     "text": [
      "shape:  (786, 7)\n"
     ]
    }
   ],
   "source": [
    "df_l_undel = pd.merge(df_dict_tweetscov19_domains_undel, df_domains_left, on='domain', how='inner')\n",
    "print('shape: ', df_l_undel.shape)"
   ]
  },
  {
   "cell_type": "code",
   "execution_count": 308,
   "id": "f8af9742",
   "metadata": {},
   "outputs": [
    {
     "name": "stdout",
     "output_type": "stream",
     "text": [
      "shape:  (478, 7)\n"
     ]
    }
   ],
   "source": [
    "df_r_undel = pd.merge(df_dict_tweetscov19_domains_undel, df_domains_right, on='domain', how='inner')\n",
    "print('shape: ', df_r_undel.shape)"
   ]
  },
  {
   "cell_type": "code",
   "execution_count": 309,
   "id": "46426e5c",
   "metadata": {},
   "outputs": [
    {
     "name": "stdout",
     "output_type": "stream",
     "text": [
      "shape:  (828, 7)\n"
     ]
    }
   ],
   "source": [
    "df_mod_undel = pd.merge(df_dict_tweetscov19_domains_undel, df_domains_moderate, on='domain', how='inner')\n",
    "print('shape: ', df_mod_undel.shape)"
   ]
  },
  {
   "cell_type": "code",
   "execution_count": 310,
   "id": "d6769270",
   "metadata": {},
   "outputs": [
    {
     "name": "stdout",
     "output_type": "stream",
     "text": [
      "shape:  (436, 7)\n"
     ]
    }
   ],
   "source": [
    "df_hard_undel = pd.merge(df_dict_tweetscov19_domains_undel, df_domains_hardliner, on='domain', how='inner')\n",
    "print('shape: ', df_hard_undel.shape)"
   ]
  },
  {
   "cell_type": "code",
   "execution_count": 311,
   "id": "c8fe64cc",
   "metadata": {},
   "outputs": [
    {
     "name": "stdout",
     "output_type": "stream",
     "text": [
      "shape:  (119, 6)\n"
     ]
    }
   ],
   "source": [
    "df_prosc_undel = pd.merge(df_dict_tweetscov19_domains_undel, df_domains_proscience, on='domain', how='inner')\n",
    "print('shape: ', df_prosc_undel.shape)"
   ]
  },
  {
   "cell_type": "code",
   "execution_count": 312,
   "id": "60e68dba",
   "metadata": {},
   "outputs": [
    {
     "name": "stdout",
     "output_type": "stream",
     "text": [
      "shape:  (469, 5)\n"
     ]
    }
   ],
   "source": [
    "df_antisc_undel = pd.merge(df_dict_tweetscov19_domains_undel, df_domains_antiscience, on='domain', how='inner')\n",
    "print('shape: ', df_antisc_undel.shape)"
   ]
  },
  {
   "cell_type": "code",
   "execution_count": 313,
   "id": "4d074f90",
   "metadata": {},
   "outputs": [
    {
     "name": "stdout",
     "output_type": "stream",
     "text": [
      "shape:  (1852, 3)\n"
     ]
    }
   ],
   "source": [
    "df_all_undel_cov19 = pd.merge(df_dict_tweetscov19_domains_undel, df_domains_all_polarized, on='domain', how='inner')\n",
    "print('shape: ', df_all_undel_cov19.shape)"
   ]
  },
  {
   "cell_type": "markdown",
   "id": "c29b1d69",
   "metadata": {},
   "source": [
    "***"
   ]
  },
  {
   "cell_type": "markdown",
   "id": "c34a5995",
   "metadata": {},
   "source": [
    "# Deleted"
   ]
  },
  {
   "cell_type": "code",
   "execution_count": 81,
   "id": "0b770393",
   "metadata": {},
   "outputs": [],
   "source": [
    "df_tweetscov19_domains_del = df_tweetscov19_del[['Domains']]\n",
    "dict_tweetscov19_domains_del = get_unique_domains_with_their_number_of_repeatation(df_tweetscov19_domains_del)"
   ]
  },
  {
   "cell_type": "code",
   "execution_count": 82,
   "id": "bd57d291",
   "metadata": {},
   "outputs": [],
   "source": [
    "df_dict_tweetscov19_domains_del = pd.DataFrame(dict_tweetscov19_domains_del.items(), columns=['domain','Number'])"
   ]
  },
  {
   "cell_type": "code",
   "execution_count": 272,
   "id": "27961c14",
   "metadata": {},
   "outputs": [
    {
     "name": "stdout",
     "output_type": "stream",
     "text": [
      "Number of used Domains in deleted Tweets TweetsCov19(unique) : 34610\n",
      "Number of used domains in deleted Tweets TweetsCov19(sum) : 406264\n"
     ]
    }
   ],
   "source": [
    "Number_of_domains_del = df_tweetscov19_del['Number of URLS'].sum()\n",
    "print('Number of used Domains in deleted Tweets TweetsCov19(unique) :', df_dict_tweetscov19_domains_del.domain.size -1) #-1 is label 0 for no Domains\n",
    "print('Number of used domains in deleted Tweets TweetsCov19(sum) :', Number_of_domains_del)"
   ]
  },
  {
   "cell_type": "code",
   "execution_count": 273,
   "id": "bb4bb151",
   "metadata": {},
   "outputs": [
    {
     "data": {
      "text/html": [
       "<div>\n",
       "<style scoped>\n",
       "    .dataframe tbody tr th:only-of-type {\n",
       "        vertical-align: middle;\n",
       "    }\n",
       "\n",
       "    .dataframe tbody tr th {\n",
       "        vertical-align: top;\n",
       "    }\n",
       "\n",
       "    .dataframe thead th {\n",
       "        text-align: right;\n",
       "    }\n",
       "</style>\n",
       "<table border=\"1\" class=\"dataframe\">\n",
       "  <thead>\n",
       "    <tr style=\"text-align: right;\">\n",
       "      <th></th>\n",
       "      <th>domain</th>\n",
       "      <th>Number</th>\n",
       "      <th>percent</th>\n",
       "    </tr>\n",
       "  </thead>\n",
       "  <tbody>\n",
       "    <tr>\n",
       "      <th>0</th>\n",
       "      <td>0</td>\n",
       "      <td>1749033</td>\n",
       "      <td>430.5164</td>\n",
       "    </tr>\n",
       "    <tr>\n",
       "      <th>4</th>\n",
       "      <td>twitter.com</td>\n",
       "      <td>60062</td>\n",
       "      <td>14.7840</td>\n",
       "    </tr>\n",
       "    <tr>\n",
       "      <th>27</th>\n",
       "      <td>youtube.com</td>\n",
       "      <td>29506</td>\n",
       "      <td>7.2628</td>\n",
       "    </tr>\n",
       "    <tr>\n",
       "      <th>5</th>\n",
       "      <td>thegatewaypundit.com</td>\n",
       "      <td>10700</td>\n",
       "      <td>2.6338</td>\n",
       "    </tr>\n",
       "    <tr>\n",
       "      <th>17</th>\n",
       "      <td>foxnews.com</td>\n",
       "      <td>9122</td>\n",
       "      <td>2.2453</td>\n",
       "    </tr>\n",
       "    <tr>\n",
       "      <th>83</th>\n",
       "      <td>breitbart.com</td>\n",
       "      <td>7393</td>\n",
       "      <td>1.8198</td>\n",
       "    </tr>\n",
       "    <tr>\n",
       "      <th>12</th>\n",
       "      <td>onlyfans.com</td>\n",
       "      <td>6360</td>\n",
       "      <td>1.5655</td>\n",
       "    </tr>\n",
       "    <tr>\n",
       "      <th>101</th>\n",
       "      <td>instagram.com</td>\n",
       "      <td>6087</td>\n",
       "      <td>1.4983</td>\n",
       "    </tr>\n",
       "    <tr>\n",
       "      <th>77</th>\n",
       "      <td>nytimes.com</td>\n",
       "      <td>3357</td>\n",
       "      <td>0.8263</td>\n",
       "    </tr>\n",
       "    <tr>\n",
       "      <th>25</th>\n",
       "      <td>blogspot.com</td>\n",
       "      <td>2937</td>\n",
       "      <td>0.7229</td>\n",
       "    </tr>\n",
       "  </tbody>\n",
       "</table>\n",
       "</div>"
      ],
      "text/plain": [
       "                   domain   Number  percent\n",
       "0                       0  1749033 430.5164\n",
       "4             twitter.com    60062  14.7840\n",
       "27            youtube.com    29506   7.2628\n",
       "5    thegatewaypundit.com    10700   2.6338\n",
       "17            foxnews.com     9122   2.2453\n",
       "83          breitbart.com     7393   1.8198\n",
       "12           onlyfans.com     6360   1.5655\n",
       "101         instagram.com     6087   1.4983\n",
       "77            nytimes.com     3357   0.8263\n",
       "25           blogspot.com     2937   0.7229"
      ]
     },
     "execution_count": 273,
     "metadata": {},
     "output_type": "execute_result"
    }
   ],
   "source": [
    "df_dict_tweetscov19_domains_del['percent'] =  df_dict_tweetscov19_domains_del['Number'].apply(lambda row : ((row /Number_of_domains_del) * 100) )\n",
    "\n",
    "df_dict_tweetscov19_domains_del['Number'] = df_dict_tweetscov19_domains_del['Number'].astype(int) \n",
    "df_dict_tweetscov19_domains_del.sort_values(by = ['Number'], ascending = False, inplace = True)\n",
    "df_dict_tweetscov19_domains_del.head(10)"
   ]
  },
  {
   "cell_type": "code",
   "execution_count": 314,
   "id": "d7cf92ae",
   "metadata": {},
   "outputs": [
    {
     "name": "stdout",
     "output_type": "stream",
     "text": [
      "shape:  (620, 7)\n"
     ]
    }
   ],
   "source": [
    "df_l_del = pd.merge(df_dict_tweetscov19_domains_del, df_domains_left, on='domain', how='inner')\n",
    "print('shape: ', df_l_del.shape)"
   ]
  },
  {
   "cell_type": "code",
   "execution_count": 315,
   "id": "718e7315",
   "metadata": {},
   "outputs": [
    {
     "name": "stdout",
     "output_type": "stream",
     "text": [
      "shape:  (393, 7)\n"
     ]
    }
   ],
   "source": [
    "df_r_del = pd.merge(df_dict_tweetscov19_domains_del, df_domains_right, on='domain', how='inner')\n",
    "print('shape: ', df_r_del.shape)"
   ]
  },
  {
   "cell_type": "code",
   "execution_count": 317,
   "id": "d1a2dbc6",
   "metadata": {},
   "outputs": [
    {
     "name": "stdout",
     "output_type": "stream",
     "text": [
      "shape:  (671, 7)\n"
     ]
    }
   ],
   "source": [
    "df_mod_del = pd.merge(df_dict_tweetscov19_domains_del, df_domains_moderate, on='domain', how='inner')\n",
    "print('shape: ', df_mod_del.shape)"
   ]
  },
  {
   "cell_type": "code",
   "execution_count": 318,
   "id": "3d70fb54",
   "metadata": {},
   "outputs": [
    {
     "name": "stdout",
     "output_type": "stream",
     "text": [
      "shape:  (342, 7)\n"
     ]
    }
   ],
   "source": [
    "df_hard_del = pd.merge(df_dict_tweetscov19_domains_del, df_domains_hardliner, on='domain', how='inner')\n",
    "print('shape: ', df_hard_del.shape)"
   ]
  },
  {
   "cell_type": "code",
   "execution_count": 319,
   "id": "0ca1323f",
   "metadata": {},
   "outputs": [
    {
     "name": "stdout",
     "output_type": "stream",
     "text": [
      "shape:  (87, 6)\n"
     ]
    }
   ],
   "source": [
    "df_prosc_del = pd.merge(df_dict_tweetscov19_domains_del, df_domains_proscience, on='domain', how='inner')\n",
    "print('shape: ', df_prosc_del.shape)"
   ]
  },
  {
   "cell_type": "code",
   "execution_count": 320,
   "id": "da8cfa23",
   "metadata": {},
   "outputs": [
    {
     "name": "stdout",
     "output_type": "stream",
     "text": [
      "shape:  (403, 5)\n"
     ]
    }
   ],
   "source": [
    "df_antisc_del = pd.merge(df_dict_tweetscov19_domains_del, df_domains_antiscience, on='domain', how='inner')\n",
    "print('shape: ', df_antisc_del.shape)"
   ]
  },
  {
   "cell_type": "code",
   "execution_count": 321,
   "id": "fba5ba0f",
   "metadata": {},
   "outputs": [
    {
     "name": "stdout",
     "output_type": "stream",
     "text": [
      "shape:  (1503, 3)\n"
     ]
    }
   ],
   "source": [
    "df_all_del_cov19 = pd.merge(df_dict_tweetscov19_domains_del, df_domains_all_polarized, on='domain', how='inner')\n",
    "print('shape: ', df_all_del_cov19.shape)"
   ]
  },
  {
   "cell_type": "markdown",
   "id": "bf087f9f",
   "metadata": {},
   "source": [
    "***"
   ]
  },
  {
   "cell_type": "markdown",
   "id": "3e80960d",
   "metadata": {},
   "source": [
    "# TweetsKB"
   ]
  },
  {
   "cell_type": "markdown",
   "id": "58747be9",
   "metadata": {},
   "source": [
    "***"
   ]
  },
  {
   "cell_type": "code",
   "execution_count": 93,
   "id": "54d37f17",
   "metadata": {},
   "outputs": [],
   "source": [
    "TweetsKB_labels    = ['Tweet_Id', 'Username', 'Timestamp', 'Followers', 'Followees', 'Retweets', 'Favorites', 'Text', 'URLs', 'Is_deleted', 'Hashtags', 'Mentions', 'Number of Hashtags', 'Number of Mentions', 'Textlength', 'Readability', 'Domains', 'Number of URLs', 'Vader_pos', 'Vader_neu', 'Vader_neg', 'Vader_com' , 'Emojis', 'Number of Emojis','Emoji_neg', 'Emoji_neu', 'Emoji_pos', 'Emoji_average', 'Number of valued Emojis']\n",
    "TweetsKB_Pfad =  '../data/Tweetskb_stichprobe_final.tsv'"
   ]
  },
  {
   "cell_type": "code",
   "execution_count": 94,
   "id": "3b7e9bd1",
   "metadata": {},
   "outputs": [
    {
     "name": "stdout",
     "output_type": "stream",
     "text": [
      "Form : (9409841, 29)\n"
     ]
    },
    {
     "data": {
      "text/html": [
       "<div>\n",
       "<style scoped>\n",
       "    .dataframe tbody tr th:only-of-type {\n",
       "        vertical-align: middle;\n",
       "    }\n",
       "\n",
       "    .dataframe tbody tr th {\n",
       "        vertical-align: top;\n",
       "    }\n",
       "\n",
       "    .dataframe thead th {\n",
       "        text-align: right;\n",
       "    }\n",
       "</style>\n",
       "<table border=\"1\" class=\"dataframe\">\n",
       "  <thead>\n",
       "    <tr style=\"text-align: right;\">\n",
       "      <th></th>\n",
       "      <th>Tweet_Id</th>\n",
       "      <th>Username</th>\n",
       "      <th>Timestamp</th>\n",
       "      <th>Followers</th>\n",
       "      <th>Followees</th>\n",
       "      <th>Retweets</th>\n",
       "      <th>Favorites</th>\n",
       "      <th>Text</th>\n",
       "      <th>URLs</th>\n",
       "      <th>Is_deleted</th>\n",
       "      <th>Hashtags</th>\n",
       "      <th>Mentions</th>\n",
       "      <th>Number of Hashtags</th>\n",
       "      <th>Number of Mentions</th>\n",
       "      <th>Textlength</th>\n",
       "      <th>Readability</th>\n",
       "      <th>Domains</th>\n",
       "      <th>Number of URLs</th>\n",
       "      <th>Vader_pos</th>\n",
       "      <th>Vader_neu</th>\n",
       "      <th>Vader_neg</th>\n",
       "      <th>Vader_com</th>\n",
       "      <th>Emojis</th>\n",
       "      <th>Number of Emojis</th>\n",
       "      <th>Emoji_neg</th>\n",
       "      <th>Emoji_neu</th>\n",
       "      <th>Emoji_pos</th>\n",
       "      <th>Emoji_average</th>\n",
       "      <th>Number of valued Emojis</th>\n",
       "    </tr>\n",
       "  </thead>\n",
       "  <tbody>\n",
       "    <tr>\n",
       "      <th>0</th>\n",
       "      <td>1178791636039589889</td>\n",
       "      <td>DCComics</td>\n",
       "      <td>2019-09-30 22:00:01+00:00</td>\n",
       "      <td>3349606</td>\n",
       "      <td>563</td>\n",
       "      <td>2</td>\n",
       "      <td>13</td>\n",
       "      <td>Today on #DCDaily, the crew takes a deep dive ...</td>\n",
       "      <td>http://bit.ly/2mlNYpS:-:</td>\n",
       "      <td>False</td>\n",
       "      <td>['DCDaily']</td>\n",
       "      <td>['DCUTitans']</td>\n",
       "      <td>1</td>\n",
       "      <td>1</td>\n",
       "      <td>192</td>\n",
       "      <td>70.3500</td>\n",
       "      <td>dcuniverseinfinite.com</td>\n",
       "      <td>1</td>\n",
       "      <td>0.0000</td>\n",
       "      <td>1.0000</td>\n",
       "      <td>-0.0000</td>\n",
       "      <td>0.0000</td>\n",
       "      <td>[]</td>\n",
       "      <td>0</td>\n",
       "      <td>-0.0000</td>\n",
       "      <td>0.0000</td>\n",
       "      <td>0.0000</td>\n",
       "      <td>0.0000</td>\n",
       "      <td>0.0000</td>\n",
       "    </tr>\n",
       "    <tr>\n",
       "      <th>1</th>\n",
       "      <td>1178791641265639424</td>\n",
       "      <td>seanberdyz</td>\n",
       "      <td>2019-09-30 22:00:02+00:00</td>\n",
       "      <td>1203</td>\n",
       "      <td>499</td>\n",
       "      <td>4</td>\n",
       "      <td>20</td>\n",
       "      <td>𝘪’𝘮 𝘨𝘰𝘯𝘯𝘢 𝘣𝘦 𝘳𝘪𝘨𝘩𝘵 𝘩𝘦𝘳𝘦 ⟶ https://t.co/kOxWQL5...</td>\n",
       "      <td>http://ourownside.carrd.co:-:</td>\n",
       "      <td>True</td>\n",
       "      <td>[]</td>\n",
       "      <td>[]</td>\n",
       "      <td>0</td>\n",
       "      <td>0</td>\n",
       "      <td>73</td>\n",
       "      <td>82.3900</td>\n",
       "      <td>carrd.co</td>\n",
       "      <td>1</td>\n",
       "      <td>0.0000</td>\n",
       "      <td>1.0000</td>\n",
       "      <td>-0.0000</td>\n",
       "      <td>0.0000</td>\n",
       "      <td>[]</td>\n",
       "      <td>0</td>\n",
       "      <td>-0.0000</td>\n",
       "      <td>0.0000</td>\n",
       "      <td>0.0000</td>\n",
       "      <td>0.0000</td>\n",
       "      <td>0.0000</td>\n",
       "    </tr>\n",
       "    <tr>\n",
       "      <th>2</th>\n",
       "      <td>1178791640573579264</td>\n",
       "      <td>AnArtistAtBirth</td>\n",
       "      <td>2019-09-30 22:00:02+00:00</td>\n",
       "      <td>109</td>\n",
       "      <td>215</td>\n",
       "      <td>0</td>\n",
       "      <td>0</td>\n",
       "      <td>❛ 𝘠𝘰𝘶'𝘳𝘦 𝘴𝘪𝘵𝘵𝘪𝘯' 𝘰𝘯 𝘺𝘰𝘶𝘳 𝘧𝘦𝘦𝘭𝘪𝘯𝘨𝘴 . . . 𝘐'𝘮 𝘴𝘪...</td>\n",
       "      <td>null;</td>\n",
       "      <td>True</td>\n",
       "      <td>['𝘛𝘩𝘦𝘰𝘯𝘦']</td>\n",
       "      <td>[]</td>\n",
       "      <td>1</td>\n",
       "      <td>0</td>\n",
       "      <td>128</td>\n",
       "      <td>123.7550</td>\n",
       "      <td>0</td>\n",
       "      <td>0</td>\n",
       "      <td>0.0000</td>\n",
       "      <td>1.0000</td>\n",
       "      <td>-0.0000</td>\n",
       "      <td>0.0000</td>\n",
       "      <td>[]</td>\n",
       "      <td>0</td>\n",
       "      <td>-0.0000</td>\n",
       "      <td>0.0000</td>\n",
       "      <td>0.0000</td>\n",
       "      <td>0.0000</td>\n",
       "      <td>0.0000</td>\n",
       "    </tr>\n",
       "    <tr>\n",
       "      <th>3</th>\n",
       "      <td>1178791644797255680</td>\n",
       "      <td>lagosboygang</td>\n",
       "      <td>2019-09-30 22:00:03+00:00</td>\n",
       "      <td>571</td>\n",
       "      <td>1401</td>\n",
       "      <td>0</td>\n",
       "      <td>0</td>\n",
       "      <td>@Tiffany_o_ @UG_derrick That's the one i wanna...</td>\n",
       "      <td>null;</td>\n",
       "      <td>True</td>\n",
       "      <td>[]</td>\n",
       "      <td>['Tiffany_o_', 'UG_derrick']</td>\n",
       "      <td>0</td>\n",
       "      <td>2</td>\n",
       "      <td>77</td>\n",
       "      <td>105.9210</td>\n",
       "      <td>0</td>\n",
       "      <td>0</td>\n",
       "      <td>0.0000</td>\n",
       "      <td>1.0000</td>\n",
       "      <td>-0.0000</td>\n",
       "      <td>0.0000</td>\n",
       "      <td>[]</td>\n",
       "      <td>0</td>\n",
       "      <td>-0.0000</td>\n",
       "      <td>0.0000</td>\n",
       "      <td>0.0000</td>\n",
       "      <td>0.0000</td>\n",
       "      <td>0.0000</td>\n",
       "    </tr>\n",
       "    <tr>\n",
       "      <th>4</th>\n",
       "      <td>1178791648056217600</td>\n",
       "      <td>Phenom_Hoops</td>\n",
       "      <td>2019-09-30 22:00:04+00:00</td>\n",
       "      <td>25630</td>\n",
       "      <td>1674</td>\n",
       "      <td>1</td>\n",
       "      <td>1</td>\n",
       "      <td>2022 6’9 Perry Smith Jr. showcasing his high-m...</td>\n",
       "      <td>https://www.phenomhoopreport.com/2022-69-perry...</td>\n",
       "      <td>False</td>\n",
       "      <td>['PhenomHoops']</td>\n",
       "      <td>[]</td>\n",
       "      <td>1</td>\n",
       "      <td>0</td>\n",
       "      <td>227</td>\n",
       "      <td>65.9430</td>\n",
       "      <td>phenomhoopreport.com</td>\n",
       "      <td>1</td>\n",
       "      <td>0.0580</td>\n",
       "      <td>0.9420</td>\n",
       "      <td>-0.0000</td>\n",
       "      <td>0.2263</td>\n",
       "      <td>[]</td>\n",
       "      <td>0</td>\n",
       "      <td>-0.0000</td>\n",
       "      <td>0.0000</td>\n",
       "      <td>0.0000</td>\n",
       "      <td>0.0000</td>\n",
       "      <td>0.0000</td>\n",
       "    </tr>\n",
       "  </tbody>\n",
       "</table>\n",
       "</div>"
      ],
      "text/plain": [
       "              Tweet_Id         Username                  Timestamp  Followers  \\\n",
       "0  1178791636039589889         DCComics  2019-09-30 22:00:01+00:00    3349606   \n",
       "1  1178791641265639424       seanberdyz  2019-09-30 22:00:02+00:00       1203   \n",
       "2  1178791640573579264  AnArtistAtBirth  2019-09-30 22:00:02+00:00        109   \n",
       "3  1178791644797255680     lagosboygang  2019-09-30 22:00:03+00:00        571   \n",
       "4  1178791648056217600     Phenom_Hoops  2019-09-30 22:00:04+00:00      25630   \n",
       "\n",
       "   Followees  Retweets  Favorites  \\\n",
       "0        563         2         13   \n",
       "1        499         4         20   \n",
       "2        215         0          0   \n",
       "3       1401         0          0   \n",
       "4       1674         1          1   \n",
       "\n",
       "                                                Text  \\\n",
       "0  Today on #DCDaily, the crew takes a deep dive ...   \n",
       "1  𝘪’𝘮 𝘨𝘰𝘯𝘯𝘢 𝘣𝘦 𝘳𝘪𝘨𝘩𝘵 𝘩𝘦𝘳𝘦 ⟶ https://t.co/kOxWQL5...   \n",
       "2  ❛ 𝘠𝘰𝘶'𝘳𝘦 𝘴𝘪𝘵𝘵𝘪𝘯' 𝘰𝘯 𝘺𝘰𝘶𝘳 𝘧𝘦𝘦𝘭𝘪𝘯𝘨𝘴 . . . 𝘐'𝘮 𝘴𝘪...   \n",
       "3  @Tiffany_o_ @UG_derrick That's the one i wanna...   \n",
       "4  2022 6’9 Perry Smith Jr. showcasing his high-m...   \n",
       "\n",
       "                                                URLs  Is_deleted  \\\n",
       "0                           http://bit.ly/2mlNYpS:-:       False   \n",
       "1                      http://ourownside.carrd.co:-:        True   \n",
       "2                                              null;        True   \n",
       "3                                              null;        True   \n",
       "4  https://www.phenomhoopreport.com/2022-69-perry...       False   \n",
       "\n",
       "          Hashtags                      Mentions  Number of Hashtags  \\\n",
       "0      ['DCDaily']                 ['DCUTitans']                   1   \n",
       "1               []                            []                   0   \n",
       "2       ['𝘛𝘩𝘦𝘰𝘯𝘦']                            []                   1   \n",
       "3               []  ['Tiffany_o_', 'UG_derrick']                   0   \n",
       "4  ['PhenomHoops']                            []                   1   \n",
       "\n",
       "   Number of Mentions  Textlength  Readability                 Domains  \\\n",
       "0                   1         192      70.3500  dcuniverseinfinite.com   \n",
       "1                   0          73      82.3900                carrd.co   \n",
       "2                   0         128     123.7550                       0   \n",
       "3                   2          77     105.9210                       0   \n",
       "4                   0         227      65.9430    phenomhoopreport.com   \n",
       "\n",
       "   Number of URLs  Vader_pos  Vader_neu  Vader_neg  Vader_com Emojis  \\\n",
       "0               1     0.0000     1.0000    -0.0000     0.0000     []   \n",
       "1               1     0.0000     1.0000    -0.0000     0.0000     []   \n",
       "2               0     0.0000     1.0000    -0.0000     0.0000     []   \n",
       "3               0     0.0000     1.0000    -0.0000     0.0000     []   \n",
       "4               1     0.0580     0.9420    -0.0000     0.2263     []   \n",
       "\n",
       "   Number of Emojis  Emoji_neg  Emoji_neu  Emoji_pos  Emoji_average  \\\n",
       "0                 0    -0.0000     0.0000     0.0000         0.0000   \n",
       "1                 0    -0.0000     0.0000     0.0000         0.0000   \n",
       "2                 0    -0.0000     0.0000     0.0000         0.0000   \n",
       "3                 0    -0.0000     0.0000     0.0000         0.0000   \n",
       "4                 0    -0.0000     0.0000     0.0000         0.0000   \n",
       "\n",
       "   Number of valued Emojis  \n",
       "0                   0.0000  \n",
       "1                   0.0000  \n",
       "2                   0.0000  \n",
       "3                   0.0000  \n",
       "4                   0.0000  "
      ]
     },
     "execution_count": 94,
     "metadata": {},
     "output_type": "execute_result"
    }
   ],
   "source": [
    "#Dataframe TweetsKB \n",
    "df_tweetskb = pd.read_csv(TweetsKB_Pfad, sep='\\t', error_bad_lines=False, names=TweetsKB_labels)\n",
    "print('Form :', df_tweetskb.shape)\n",
    "df_tweetskb.head()"
   ]
  },
  {
   "cell_type": "code",
   "execution_count": 97,
   "id": "b7762373",
   "metadata": {},
   "outputs": [],
   "source": [
    "df_tweetskb_del = df_tweetskb[df_tweetskb['Is_deleted'] == True]\n",
    "df_tweetskb_undel = df_tweetskb[df_tweetskb['Is_deleted'] == False]"
   ]
  },
  {
   "cell_type": "markdown",
   "id": "d15e3fcd",
   "metadata": {},
   "source": [
    "***"
   ]
  },
  {
   "cell_type": "code",
   "execution_count": 96,
   "id": "f631bd26",
   "metadata": {},
   "outputs": [],
   "source": [
    "df_tweetskb_domains = df_tweetskb[['Domains']]\n",
    "dict_tweetskb_domains = get_unique_domains_with_their_number_of_repeatation(df_tweetskb_domains)"
   ]
  },
  {
   "cell_type": "code",
   "execution_count": 98,
   "id": "28387162",
   "metadata": {},
   "outputs": [],
   "source": [
    "df_dict_tweetskb_domains = pd.DataFrame(dict_tweetskb_domains.items(), columns=['domain','Number'])"
   ]
  },
  {
   "cell_type": "code",
   "execution_count": 226,
   "id": "69aaae22",
   "metadata": {},
   "outputs": [
    {
     "name": "stdout",
     "output_type": "stream",
     "text": [
      "Number of used Domains in TweetsCov19(unique) : 147068\n",
      "Number of used domains in TweetsCov19(sum) : 1460380\n"
     ]
    }
   ],
   "source": [
    "Number_of_domains = df_tweetskb['Number of URLs'].sum()\n",
    "print('Number of used Domains in TweetsCov19(unique) :', df_dict_tweetskb_domains.domain.size -1) #-1 is label 0 for no Domains\n",
    "print('Number of used domains in TweetsCov19(sum) :', Number_of_domains)"
   ]
  },
  {
   "cell_type": "code",
   "execution_count": 227,
   "id": "1d71800f",
   "metadata": {},
   "outputs": [
    {
     "data": {
      "text/html": [
       "<div>\n",
       "<style scoped>\n",
       "    .dataframe tbody tr th:only-of-type {\n",
       "        vertical-align: middle;\n",
       "    }\n",
       "\n",
       "    .dataframe tbody tr th {\n",
       "        vertical-align: top;\n",
       "    }\n",
       "\n",
       "    .dataframe thead th {\n",
       "        text-align: right;\n",
       "    }\n",
       "</style>\n",
       "<table border=\"1\" class=\"dataframe\">\n",
       "  <thead>\n",
       "    <tr style=\"text-align: right;\">\n",
       "      <th></th>\n",
       "      <th>domain</th>\n",
       "      <th>Number</th>\n",
       "      <th>percent</th>\n",
       "    </tr>\n",
       "  </thead>\n",
       "  <tbody>\n",
       "    <tr>\n",
       "      <th>2</th>\n",
       "      <td>0</td>\n",
       "      <td>8024014</td>\n",
       "      <td>549.4470</td>\n",
       "    </tr>\n",
       "    <tr>\n",
       "      <th>14</th>\n",
       "      <td>twitter.com</td>\n",
       "      <td>262420</td>\n",
       "      <td>17.9693</td>\n",
       "    </tr>\n",
       "    <tr>\n",
       "      <th>28</th>\n",
       "      <td>youtu.be</td>\n",
       "      <td>65221</td>\n",
       "      <td>4.4660</td>\n",
       "    </tr>\n",
       "    <tr>\n",
       "      <th>37</th>\n",
       "      <td>instagram.com</td>\n",
       "      <td>50601</td>\n",
       "      <td>3.4649</td>\n",
       "    </tr>\n",
       "    <tr>\n",
       "      <th>348</th>\n",
       "      <td>twittascope.com</td>\n",
       "      <td>37526</td>\n",
       "      <td>2.5696</td>\n",
       "    </tr>\n",
       "    <tr>\n",
       "      <th>31</th>\n",
       "      <td>fllwrs.com</td>\n",
       "      <td>32446</td>\n",
       "      <td>2.2218</td>\n",
       "    </tr>\n",
       "    <tr>\n",
       "      <th>65</th>\n",
       "      <td>youtube.com</td>\n",
       "      <td>26646</td>\n",
       "      <td>1.8246</td>\n",
       "    </tr>\n",
       "    <tr>\n",
       "      <th>77</th>\n",
       "      <td>onlyfans.com</td>\n",
       "      <td>18630</td>\n",
       "      <td>1.2757</td>\n",
       "    </tr>\n",
       "    <tr>\n",
       "      <th>80</th>\n",
       "      <td>twitch.tv</td>\n",
       "      <td>15256</td>\n",
       "      <td>1.0447</td>\n",
       "    </tr>\n",
       "    <tr>\n",
       "      <th>62</th>\n",
       "      <td>facebook.com</td>\n",
       "      <td>15067</td>\n",
       "      <td>1.0317</td>\n",
       "    </tr>\n",
       "  </tbody>\n",
       "</table>\n",
       "</div>"
      ],
      "text/plain": [
       "              domain   Number  percent\n",
       "2                  0  8024014 549.4470\n",
       "14       twitter.com   262420  17.9693\n",
       "28          youtu.be    65221   4.4660\n",
       "37     instagram.com    50601   3.4649\n",
       "348  twittascope.com    37526   2.5696\n",
       "31        fllwrs.com    32446   2.2218\n",
       "65       youtube.com    26646   1.8246\n",
       "77      onlyfans.com    18630   1.2757\n",
       "80         twitch.tv    15256   1.0447\n",
       "62      facebook.com    15067   1.0317"
      ]
     },
     "execution_count": 227,
     "metadata": {},
     "output_type": "execute_result"
    }
   ],
   "source": [
    "df_dict_tweetskb_domains['percent'] =  df_dict_tweetskb_domains['Number'].apply(lambda row : ((row /Number_of_domains) * 100) )\n",
    "\n",
    "df_dict_tweetskb_domains['Number'] = df_dict_tweetskb_domains['Number'].astype(int) \n",
    "df_dict_tweetskb_domains.sort_values(by = ['Number'], ascending = False, inplace = True)\n",
    "df_dict_tweetskb_domains.head(10)"
   ]
  },
  {
   "cell_type": "markdown",
   "id": "141d13b5",
   "metadata": {},
   "source": [
    "***"
   ]
  },
  {
   "cell_type": "code",
   "execution_count": 322,
   "id": "f4720c13",
   "metadata": {},
   "outputs": [
    {
     "name": "stdout",
     "output_type": "stream",
     "text": [
      "shape:  (760, 7)\n"
     ]
    }
   ],
   "source": [
    "df_l_kb = pd.merge(df_dict_tweetskb_domains, df_domains_left, on='domain', how='inner')\n",
    "print('shape: ', df_l_kb.shape)"
   ]
  },
  {
   "cell_type": "code",
   "execution_count": 323,
   "id": "25ae1e5a",
   "metadata": {},
   "outputs": [
    {
     "name": "stdout",
     "output_type": "stream",
     "text": [
      "shape:  (460, 7)\n"
     ]
    }
   ],
   "source": [
    "df_r_kb = pd.merge(df_dict_tweetskb_domains, df_domains_right, on='domain', how='inner')\n",
    "print('shape: ', df_r_kb.shape)"
   ]
  },
  {
   "cell_type": "code",
   "execution_count": 324,
   "id": "8149b0c3",
   "metadata": {},
   "outputs": [
    {
     "name": "stdout",
     "output_type": "stream",
     "text": [
      "shape:  (799, 7)\n"
     ]
    }
   ],
   "source": [
    "df_mod_kb = pd.merge(df_dict_tweetskb_domains, df_domains_moderate, on='domain', how='inner')\n",
    "print('shape: ', df_mod_kb.shape)"
   ]
  },
  {
   "cell_type": "code",
   "execution_count": 325,
   "id": "9d2e91d8",
   "metadata": {},
   "outputs": [
    {
     "name": "stdout",
     "output_type": "stream",
     "text": [
      "shape:  (421, 7)\n"
     ]
    }
   ],
   "source": [
    "df_hard_kb = pd.merge(df_dict_tweetskb_domains, df_domains_hardliner, on='domain', how='inner')\n",
    "print('shape: ', df_hard_kb.shape)"
   ]
  },
  {
   "cell_type": "code",
   "execution_count": 326,
   "id": "47ff256e",
   "metadata": {},
   "outputs": [
    {
     "name": "stdout",
     "output_type": "stream",
     "text": [
      "shape:  (114, 6)\n"
     ]
    }
   ],
   "source": [
    "df_prosc_kb= pd.merge(df_dict_tweetskb_domains, df_domains_proscience, on='domain', how='inner')\n",
    "print('shape: ', df_prosc_kb.shape)"
   ]
  },
  {
   "cell_type": "code",
   "execution_count": 327,
   "id": "f9493b01",
   "metadata": {},
   "outputs": [
    {
     "name": "stdout",
     "output_type": "stream",
     "text": [
      "shape:  (463, 5)\n"
     ]
    }
   ],
   "source": [
    "df_antisc_kb = pd.merge(df_dict_tweetskb_domains, df_domains_antiscience, on='domain', how='inner')\n",
    "print('shape: ', df_antisc_kb.shape)"
   ]
  },
  {
   "cell_type": "code",
   "execution_count": 328,
   "id": "86207464",
   "metadata": {},
   "outputs": [
    {
     "name": "stdout",
     "output_type": "stream",
     "text": [
      "shape:  (1797, 3)\n"
     ]
    }
   ],
   "source": [
    "df_all_kb = pd.merge(df_dict_tweetskb_domains, df_domains_all_polarized, on='domain', how='inner')\n",
    "print('shape: ', df_all_kb.shape)"
   ]
  },
  {
   "cell_type": "markdown",
   "id": "c88564dd",
   "metadata": {},
   "source": [
    "***"
   ]
  },
  {
   "cell_type": "markdown",
   "id": "39be4b8c",
   "metadata": {},
   "source": [
    "## Non deleted"
   ]
  },
  {
   "cell_type": "code",
   "execution_count": 142,
   "id": "5336e0cd",
   "metadata": {},
   "outputs": [],
   "source": [
    "df_tweetskb_domains_undel = df_tweetskb_undel[['Domains']]\n",
    "dict_tweetskb_domains_undel = get_unique_domains_with_their_number_of_repeatation(df_tweetskb_domains_undel)"
   ]
  },
  {
   "cell_type": "code",
   "execution_count": 143,
   "id": "b39cd1f7",
   "metadata": {},
   "outputs": [],
   "source": [
    "df_dict_tweetskb_domains_undel = pd.DataFrame(dict_tweetskb_domains_undel.items(), columns=['domain','Number'])"
   ]
  },
  {
   "cell_type": "code",
   "execution_count": 235,
   "id": "12433675",
   "metadata": {},
   "outputs": [
    {
     "name": "stdout",
     "output_type": "stream",
     "text": [
      "Number of used Domains in non deleted TweetsCov19(unique) : 129118\n",
      "Number of used domains in non deleted TweetsCov19(sum) : 1130977\n"
     ]
    }
   ],
   "source": [
    "Number_of_domains_undel = df_tweetskb_undel['Number of URLs'].sum()\n",
    "print('Number of used Domains in non deleted TweetsCov19(unique) :', df_dict_tweetskb_domains_undel.domain.size -1) #-1 is label 0 for no Domains\n",
    "print('Number of used domains in non deleted TweetsCov19(sum) :', Number_of_domains_undel)"
   ]
  },
  {
   "cell_type": "code",
   "execution_count": 175,
   "id": "b17e274f",
   "metadata": {},
   "outputs": [
    {
     "data": {
      "text/html": [
       "<div>\n",
       "<style scoped>\n",
       "    .dataframe tbody tr th:only-of-type {\n",
       "        vertical-align: middle;\n",
       "    }\n",
       "\n",
       "    .dataframe tbody tr th {\n",
       "        vertical-align: top;\n",
       "    }\n",
       "\n",
       "    .dataframe thead th {\n",
       "        text-align: right;\n",
       "    }\n",
       "</style>\n",
       "<table border=\"1\" class=\"dataframe\">\n",
       "  <thead>\n",
       "    <tr style=\"text-align: right;\">\n",
       "      <th></th>\n",
       "      <th>domain</th>\n",
       "      <th>Number</th>\n",
       "      <th>percent</th>\n",
       "    </tr>\n",
       "  </thead>\n",
       "  <tbody>\n",
       "    <tr>\n",
       "      <th>2</th>\n",
       "      <td>0</td>\n",
       "      <td>5609983</td>\n",
       "      <td>496.0298</td>\n",
       "    </tr>\n",
       "    <tr>\n",
       "      <th>10</th>\n",
       "      <td>twitter.com</td>\n",
       "      <td>193662</td>\n",
       "      <td>17.1234</td>\n",
       "    </tr>\n",
       "    <tr>\n",
       "      <th>20</th>\n",
       "      <td>youtu.be</td>\n",
       "      <td>47906</td>\n",
       "      <td>4.2358</td>\n",
       "    </tr>\n",
       "    <tr>\n",
       "      <th>27</th>\n",
       "      <td>instagram.com</td>\n",
       "      <td>43938</td>\n",
       "      <td>3.8850</td>\n",
       "    </tr>\n",
       "    <tr>\n",
       "      <th>294</th>\n",
       "      <td>twittascope.com</td>\n",
       "      <td>33973</td>\n",
       "      <td>3.0039</td>\n",
       "    </tr>\n",
       "    <tr>\n",
       "      <th>49</th>\n",
       "      <td>youtube.com</td>\n",
       "      <td>20513</td>\n",
       "      <td>1.8137</td>\n",
       "    </tr>\n",
       "    <tr>\n",
       "      <th>22</th>\n",
       "      <td>fllwrs.com</td>\n",
       "      <td>20323</td>\n",
       "      <td>1.7969</td>\n",
       "    </tr>\n",
       "    <tr>\n",
       "      <th>47</th>\n",
       "      <td>facebook.com</td>\n",
       "      <td>13042</td>\n",
       "      <td>1.1532</td>\n",
       "    </tr>\n",
       "    <tr>\n",
       "      <th>61</th>\n",
       "      <td>twitch.tv</td>\n",
       "      <td>12098</td>\n",
       "      <td>1.0697</td>\n",
       "    </tr>\n",
       "    <tr>\n",
       "      <th>59</th>\n",
       "      <td>onlyfans.com</td>\n",
       "      <td>8326</td>\n",
       "      <td>0.7362</td>\n",
       "    </tr>\n",
       "  </tbody>\n",
       "</table>\n",
       "</div>"
      ],
      "text/plain": [
       "              domain   Number  percent\n",
       "2                  0  5609983 496.0298\n",
       "10       twitter.com   193662  17.1234\n",
       "20          youtu.be    47906   4.2358\n",
       "27     instagram.com    43938   3.8850\n",
       "294  twittascope.com    33973   3.0039\n",
       "49       youtube.com    20513   1.8137\n",
       "22        fllwrs.com    20323   1.7969\n",
       "47      facebook.com    13042   1.1532\n",
       "61         twitch.tv    12098   1.0697\n",
       "59      onlyfans.com     8326   0.7362"
      ]
     },
     "execution_count": 175,
     "metadata": {},
     "output_type": "execute_result"
    }
   ],
   "source": [
    "df_dict_tweetskb_domains_undel['percent'] =  df_dict_tweetskb_domains_undel['Number'].apply(lambda row : ((row /Number_of_domains_undel) * 100) )\n",
    "\n",
    "df_dict_tweetskb_domains_undel['Number'] = df_dict_tweetskb_domains_undel['Number'].astype(int) \n",
    "df_dict_tweetskb_domains_undel.sort_values(by = ['Number'], ascending = False, inplace = True)\n",
    "df_dict_tweetskb_domains_undel.head(10)"
   ]
  },
  {
   "cell_type": "code",
   "execution_count": 329,
   "id": "582b42a6",
   "metadata": {},
   "outputs": [
    {
     "name": "stdout",
     "output_type": "stream",
     "text": [
      "shape:  (752, 7)\n"
     ]
    }
   ],
   "source": [
    "df_l_kb_undel = pd.merge(df_dict_tweetskb_domains_undel, df_domains_left, on='domain', how='inner')\n",
    "print('shape: ', df_l_kb_undel.shape)"
   ]
  },
  {
   "cell_type": "code",
   "execution_count": 330,
   "id": "3eca38b9",
   "metadata": {},
   "outputs": [
    {
     "name": "stdout",
     "output_type": "stream",
     "text": [
      "shape:  (442, 7)\n"
     ]
    }
   ],
   "source": [
    "df_r_kb_undel = pd.merge(df_dict_tweetskb_domains_undel, df_domains_right, on='domain', how='inner')\n",
    "print('shape: ', df_r_kb_undel.shape)"
   ]
  },
  {
   "cell_type": "code",
   "execution_count": 331,
   "id": "9e3de512",
   "metadata": {},
   "outputs": [
    {
     "name": "stdout",
     "output_type": "stream",
     "text": [
      "shape:  (789, 7)\n"
     ]
    }
   ],
   "source": [
    "df_mod_kb_undel = pd.merge(df_dict_tweetskb_domains_undel, df_domains_moderate, on='domain', how='inner')\n",
    "print('shape: ', df_mod_kb_undel.shape)"
   ]
  },
  {
   "cell_type": "code",
   "execution_count": 332,
   "id": "a2c87127",
   "metadata": {},
   "outputs": [
    {
     "name": "stdout",
     "output_type": "stream",
     "text": [
      "shape:  (405, 7)\n"
     ]
    }
   ],
   "source": [
    "df_hard_kb_undel = pd.merge(df_dict_tweetskb_domains_undel, df_domains_hardliner, on='domain', how='inner')\n",
    "print('shape: ', df_hard_kb_undel.shape)"
   ]
  },
  {
   "cell_type": "code",
   "execution_count": 333,
   "id": "0d997a2e",
   "metadata": {},
   "outputs": [
    {
     "name": "stdout",
     "output_type": "stream",
     "text": [
      "shape:  (112, 6)\n"
     ]
    }
   ],
   "source": [
    "df_prosc_kb_undel = pd.merge(df_dict_tweetskb_domains_undel, df_domains_proscience, on='domain', how='inner')\n",
    "print('shape: ', df_prosc_kb_undel.shape)"
   ]
  },
  {
   "cell_type": "code",
   "execution_count": 334,
   "id": "4f566e3c",
   "metadata": {},
   "outputs": [
    {
     "name": "stdout",
     "output_type": "stream",
     "text": [
      "shape:  (414, 5)\n"
     ]
    }
   ],
   "source": [
    "df_antisc_undel = pd.merge(df_dict_tweetskb_domains_undel, df_domains_antiscience, on='domain', how='inner')\n",
    "print('shape: ', df_antisc_undel.shape)"
   ]
  },
  {
   "cell_type": "code",
   "execution_count": 335,
   "id": "568715da",
   "metadata": {},
   "outputs": [
    {
     "name": "stdout",
     "output_type": "stream",
     "text": [
      "shape:  (1720, 3)\n"
     ]
    }
   ],
   "source": [
    "df_all_undel_kb = pd.merge(df_dict_tweetskb_domains_undel, df_domains_all_polarized, on='domain', how='inner')\n",
    "print('shape: ', df_all_undel_kb.shape)"
   ]
  },
  {
   "cell_type": "markdown",
   "id": "6e2f74a4",
   "metadata": {},
   "source": [
    "***"
   ]
  },
  {
   "cell_type": "markdown",
   "id": "c27d4a06",
   "metadata": {},
   "source": [
    "## Deleted"
   ]
  },
  {
   "cell_type": "code",
   "execution_count": 153,
   "id": "05269a5d",
   "metadata": {},
   "outputs": [],
   "source": [
    "df_tweetskb_domains_del = df_tweetskb_del[['Domains']]\n",
    "dict_tweetskb_domains_del = get_unique_domains_with_their_number_of_repeatation(df_tweetskb_domains_del)"
   ]
  },
  {
   "cell_type": "code",
   "execution_count": 164,
   "id": "f80e1d9a",
   "metadata": {},
   "outputs": [],
   "source": [
    "df_dict_tweetskb_domains_del = pd.DataFrame(dict_tweetskb_domains_del.items(), columns=['domain','Number'])"
   ]
  },
  {
   "cell_type": "code",
   "execution_count": 243,
   "id": "5ab59b80",
   "metadata": {},
   "outputs": [
    {
     "name": "stdout",
     "output_type": "stream",
     "text": [
      "Number of used Domains in deleted TweetsCov19(unique) : 31417\n",
      "Number of used domains in deleted TweetsCov19(sum) : 329403\n"
     ]
    }
   ],
   "source": [
    "Number_of_domains_del = df_tweetskb_del['Number of URLs'].sum()\n",
    "print('Number of used Domains in deleted TweetsCov19(unique) :', df_dict_tweetskb_domains_del.domain.size -1) #-1 is label 0 for no Domains\n",
    "print('Number of used domains in deleted TweetsCov19(sum) :', Number_of_domains_del)"
   ]
  },
  {
   "cell_type": "code",
   "execution_count": 244,
   "id": "886e9b38",
   "metadata": {},
   "outputs": [
    {
     "data": {
      "text/html": [
       "<div>\n",
       "<style scoped>\n",
       "    .dataframe tbody tr th:only-of-type {\n",
       "        vertical-align: middle;\n",
       "    }\n",
       "\n",
       "    .dataframe tbody tr th {\n",
       "        vertical-align: top;\n",
       "    }\n",
       "\n",
       "    .dataframe thead th {\n",
       "        text-align: right;\n",
       "    }\n",
       "</style>\n",
       "<table border=\"1\" class=\"dataframe\">\n",
       "  <thead>\n",
       "    <tr style=\"text-align: right;\">\n",
       "      <th></th>\n",
       "      <th>domain</th>\n",
       "      <th>Number</th>\n",
       "      <th>percent</th>\n",
       "    </tr>\n",
       "  </thead>\n",
       "  <tbody>\n",
       "    <tr>\n",
       "      <th>1</th>\n",
       "      <td>0</td>\n",
       "      <td>2414031</td>\n",
       "      <td>732.8503</td>\n",
       "    </tr>\n",
       "    <tr>\n",
       "      <th>7</th>\n",
       "      <td>twitter.com</td>\n",
       "      <td>68758</td>\n",
       "      <td>20.8735</td>\n",
       "    </tr>\n",
       "    <tr>\n",
       "      <th>35</th>\n",
       "      <td>youtu.be</td>\n",
       "      <td>17315</td>\n",
       "      <td>5.2565</td>\n",
       "    </tr>\n",
       "    <tr>\n",
       "      <th>13</th>\n",
       "      <td>fllwrs.com</td>\n",
       "      <td>12123</td>\n",
       "      <td>3.6803</td>\n",
       "    </tr>\n",
       "    <tr>\n",
       "      <th>32</th>\n",
       "      <td>onlyfans.com</td>\n",
       "      <td>10304</td>\n",
       "      <td>3.1281</td>\n",
       "    </tr>\n",
       "    <tr>\n",
       "      <th>18</th>\n",
       "      <td>instagram.com</td>\n",
       "      <td>6663</td>\n",
       "      <td>2.0228</td>\n",
       "    </tr>\n",
       "    <tr>\n",
       "      <th>116</th>\n",
       "      <td>youtube.com</td>\n",
       "      <td>6133</td>\n",
       "      <td>1.8619</td>\n",
       "    </tr>\n",
       "    <tr>\n",
       "      <th>10</th>\n",
       "      <td>blogspot.com</td>\n",
       "      <td>3946</td>\n",
       "      <td>1.1979</td>\n",
       "    </tr>\n",
       "    <tr>\n",
       "      <th>41</th>\n",
       "      <td>sumall.com</td>\n",
       "      <td>3819</td>\n",
       "      <td>1.1594</td>\n",
       "    </tr>\n",
       "    <tr>\n",
       "      <th>78</th>\n",
       "      <td>spotify.com</td>\n",
       "      <td>3561</td>\n",
       "      <td>1.0810</td>\n",
       "    </tr>\n",
       "  </tbody>\n",
       "</table>\n",
       "</div>"
      ],
      "text/plain": [
       "            domain   Number  percent\n",
       "1                0  2414031 732.8503\n",
       "7      twitter.com    68758  20.8735\n",
       "35        youtu.be    17315   5.2565\n",
       "13      fllwrs.com    12123   3.6803\n",
       "32    onlyfans.com    10304   3.1281\n",
       "18   instagram.com     6663   2.0228\n",
       "116    youtube.com     6133   1.8619\n",
       "10    blogspot.com     3946   1.1979\n",
       "41      sumall.com     3819   1.1594\n",
       "78     spotify.com     3561   1.0810"
      ]
     },
     "execution_count": 244,
     "metadata": {},
     "output_type": "execute_result"
    }
   ],
   "source": [
    "df_dict_tweetskb_domains_del['percent'] =  df_dict_tweetskb_domains_del['Number'].apply(lambda row : ((row /Number_of_domains_del) * 100) )\n",
    "\n",
    "df_dict_tweetskb_domains_del['Number'] = df_dict_tweetskb_domains_del['Number'].astype(int) \n",
    "df_dict_tweetskb_domains_del.sort_values(by = ['Number'], ascending = False, inplace = True)\n",
    "df_dict_tweetskb_domains_del.head(10)"
   ]
  },
  {
   "cell_type": "code",
   "execution_count": 245,
   "id": "62a95958",
   "metadata": {},
   "outputs": [
    {
     "name": "stdout",
     "output_type": "stream",
     "text": [
      "shape:  (520, 7)\n"
     ]
    }
   ],
   "source": [
    "df_l_del_kb = pd.merge(df_dict_tweetskb_domains_del, df_left, on='domain', how='inner')\n",
    "print('shape: ', df_l_del_kb.shape)"
   ]
  },
  {
   "cell_type": "code",
   "execution_count": 246,
   "id": "2b1b23f7",
   "metadata": {},
   "outputs": [
    {
     "name": "stdout",
     "output_type": "stream",
     "text": [
      "shape:  (332, 7)\n"
     ]
    }
   ],
   "source": [
    "df_r_del_kb = pd.merge(df_dict_tweetskb_domains_del, df_right, on='domain', how='inner')\n",
    "print('shape: ', df_r_del_kb.shape)"
   ]
  },
  {
   "cell_type": "code",
   "execution_count": 247,
   "id": "d7698a15",
   "metadata": {},
   "outputs": [
    {
     "name": "stdout",
     "output_type": "stream",
     "text": [
      "shape:  (544, 7)\n"
     ]
    }
   ],
   "source": [
    "df_mod_del_kb = pd.merge(df_dict_tweetskb_domains_del, df_moderate, on='domain', how='inner')\n",
    "print('shape: ', df_mod_del_kb.shape)"
   ]
  },
  {
   "cell_type": "code",
   "execution_count": 248,
   "id": "0bb2aaea",
   "metadata": {},
   "outputs": [
    {
     "name": "stdout",
     "output_type": "stream",
     "text": [
      "shape:  (308, 7)\n"
     ]
    }
   ],
   "source": [
    "df_hard_del_kb = pd.merge(df_dict_tweetskb_domains_del, df_hardliner, on='domain', how='inner')\n",
    "print('shape: ', df_hard_del_kb.shape)"
   ]
  },
  {
   "cell_type": "code",
   "execution_count": 284,
   "id": "f4fe840f",
   "metadata": {},
   "outputs": [
    {
     "name": "stdout",
     "output_type": "stream",
     "text": [
      "shape:  (78, 6)\n"
     ]
    }
   ],
   "source": [
    "df_prosc_del_kb = pd.merge(df_dict_tweetskb_domains_del, df_domains_proscience, on='domain', how='inner')\n",
    "print('shape: ', df_prosc_del_kb.shape)"
   ]
  },
  {
   "cell_type": "code",
   "execution_count": 250,
   "id": "ce57f825",
   "metadata": {},
   "outputs": [
    {
     "name": "stdout",
     "output_type": "stream",
     "text": [
      "shape:  (348, 5)\n"
     ]
    }
   ],
   "source": [
    "df_antisc_del_kb = pd.merge(df_dict_tweetskb_domains_del, df_domains_antiscience, on='domain', how='inner')\n",
    "print('shape: ', df_antisc_del_kb.shape)"
   ]
  },
  {
   "cell_type": "code",
   "execution_count": 251,
   "id": "7201f7e7",
   "metadata": {},
   "outputs": [
    {
     "name": "stdout",
     "output_type": "stream",
     "text": [
      "shape:  (1278, 3)\n"
     ]
    }
   ],
   "source": [
    "df_all_del_kb = pd.merge(df_dict_tweetskb_domains_del, df_domains_all_polarized, on='domain', how='inner')\n",
    "print('shape: ', df_all_del_kb.shape)"
   ]
  },
  {
   "cell_type": "code",
   "execution_count": null,
   "id": "56398ae4",
   "metadata": {},
   "outputs": [],
   "source": []
  }
 ],
 "metadata": {
  "kernelspec": {
   "display_name": "Python 3",
   "language": "python",
   "name": "python3"
  },
  "language_info": {
   "codemirror_mode": {
    "name": "ipython",
    "version": 3
   },
   "file_extension": ".py",
   "mimetype": "text/x-python",
   "name": "python",
   "nbconvert_exporter": "python",
   "pygments_lexer": "ipython3",
   "version": "3.8.8"
  }
 },
 "nbformat": 4,
 "nbformat_minor": 5
}
