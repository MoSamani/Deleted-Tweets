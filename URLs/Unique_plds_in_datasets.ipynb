{
 "cells": [
  {
   "cell_type": "code",
   "execution_count": 1,
   "id": "55f6cd63",
   "metadata": {},
   "outputs": [],
   "source": [
    "import csv\n",
    "import pandas as pd\n",
    "import numpy as np\n",
    "import json\n",
    "\n",
    "csv.field_size_limit(100000000)\n",
    "pd.options.display.max_columns = None\n",
    "pd.options.display.max_rows = None\n",
    "from datetime import datetime\n",
    "\n",
    "import seaborn as sns\n",
    "import matplotlib.pyplot as plt\n",
    "%matplotlib inline \n",
    "import matplotlib.dates as mdates\n",
    "import matplotlib.ticker as tick\n",
    "\n",
    "import warnings\n",
    "warnings.filterwarnings(\"ignore\")\n",
    "pd.options.display.float_format = '{:.2f}'.format"
   ]
  },
  {
   "cell_type": "markdown",
   "id": "d25650a2",
   "metadata": {},
   "source": [
    "# Read Data"
   ]
  },
  {
   "cell_type": "code",
   "execution_count": 2,
   "id": "7efcab08",
   "metadata": {},
   "outputs": [],
   "source": [
    "\n",
    "#Labels\n",
    "TweetsCov19_labels = ['Tweet_Id', 'Username', 'Timestamp', 'Followers', 'Followees', 'Retweets', 'Favorites', 'Entities', 'Sentiment', 'Mentions', 'Hashtags', 'URLs', 'Text', 'Is_deleted', 'Number of Mentions', 'Number of Hashtags', 'Number of URLs', 'Domains']#, 'Readability','Vader_neg', 'Vader_neu', 'Vader_pos', 'Vader_compound', 'Emojis', 'Number of Emojis',  'Emoji_neg', 'Emoji_neu', 'Emoji_pos', 'Emoji_average', 'Number of valued Emojis']\n",
    "#TweetsKB_labels    = ['Tweet_Id', 'Username', 'Timestamp', 'Followers', 'Followees', 'Retweets', 'Favorites', 'Text', 'URLs', 'Is_deleted', 'Hashtags', 'Mentions', 'Number of Hashtags', 'Number of Mentions', 'Textlength', 'Readability', 'Domains', 'Number of URLs', 'Vader_pos', 'Vader_neu', 'Vader_neg', 'Vader_com' , 'Emojis', 'Number of Emojis','Emoji_neg', 'Emoji_neu', 'Emoji_pos', 'Emoji_average', 'Number of valued Emojis']\n",
    "TweetsKB_labels    = ['Tweet_Id', \"Username\", 'Timestamp', 'Followers', 'Followees', 'Retweets', 'Favorites', 'Text', 'URLs', 'Is_deleted', 'Hashtags', 'Mentions', 'Number of Hashtags', 'Number of Mentions', 'Domains', 'Number of URLs' ]\n",
    "#Path\n",
    "TweetsCov19_Pfad =  '../data/TweetsCov19_stichprobe_final.tsv'\n",
    "TweetsKB_Pfad =  '../data/Tweetskb_stichprobe_final.tsv'"
   ]
  },
  {
   "cell_type": "code",
   "execution_count": 3,
   "id": "c5a83cee",
   "metadata": {},
   "outputs": [
    {
     "name": "stdout",
     "output_type": "stream",
     "text": [
      "Shape: (9409841, 18)\n"
     ]
    },
    {
     "data": {
      "text/html": [
       "<div>\n",
       "<style scoped>\n",
       "    .dataframe tbody tr th:only-of-type {\n",
       "        vertical-align: middle;\n",
       "    }\n",
       "\n",
       "    .dataframe tbody tr th {\n",
       "        vertical-align: top;\n",
       "    }\n",
       "\n",
       "    .dataframe thead th {\n",
       "        text-align: right;\n",
       "    }\n",
       "</style>\n",
       "<table border=\"1\" class=\"dataframe\">\n",
       "  <thead>\n",
       "    <tr style=\"text-align: right;\">\n",
       "      <th></th>\n",
       "      <th>Tweet_Id</th>\n",
       "      <th>Username</th>\n",
       "      <th>Timestamp</th>\n",
       "      <th>Followers</th>\n",
       "      <th>Followees</th>\n",
       "      <th>Retweets</th>\n",
       "      <th>Favorites</th>\n",
       "      <th>Entities</th>\n",
       "      <th>Sentiment</th>\n",
       "      <th>Mentions</th>\n",
       "      <th>Hashtags</th>\n",
       "      <th>URLs</th>\n",
       "      <th>Text</th>\n",
       "      <th>Is_deleted</th>\n",
       "      <th>Number of Mentions</th>\n",
       "      <th>Number of Hashtags</th>\n",
       "      <th>Number of URLs</th>\n",
       "      <th>Domains</th>\n",
       "    </tr>\n",
       "  </thead>\n",
       "  <tbody>\n",
       "    <tr>\n",
       "      <th>0</th>\n",
       "      <td>1245863586842284033</td>\n",
       "      <td>3d4b19ffcac6afbaccc02caa041f2052</td>\n",
       "      <td>Fri Apr 03 00:00:00 +0000 2020</td>\n",
       "      <td>141018</td>\n",
       "      <td>1467</td>\n",
       "      <td>20</td>\n",
       "      <td>24</td>\n",
       "      <td>time is of the essence:Time_Is_of_the_Essence:...</td>\n",
       "      <td>2 -1</td>\n",
       "      <td>null;</td>\n",
       "      <td>Coronavirus MedicareForAll</td>\n",
       "      <td>https://www.cnn.com/2020/03/31/politics/pentag...</td>\n",
       "      <td>Time is of the essence!!! Trump’s delayed resp...</td>\n",
       "      <td>False</td>\n",
       "      <td>0</td>\n",
       "      <td>2</td>\n",
       "      <td>1</td>\n",
       "      <td>cnn.com</td>\n",
       "    </tr>\n",
       "    <tr>\n",
       "      <th>1</th>\n",
       "      <td>1245863584900370434</td>\n",
       "      <td>f1ca5c285adac0d2e8a7bfc07700212a</td>\n",
       "      <td>Fri Apr 03 00:00:00 +0000 2020</td>\n",
       "      <td>18252</td>\n",
       "      <td>248</td>\n",
       "      <td>2</td>\n",
       "      <td>2</td>\n",
       "      <td>null;</td>\n",
       "      <td>1 -1</td>\n",
       "      <td>null;</td>\n",
       "      <td>null;</td>\n",
       "      <td>https://www.egypttoday.com/Article/1/83263/COV...</td>\n",
       "      <td>The head of the World Health Organization voic...</td>\n",
       "      <td>False</td>\n",
       "      <td>0</td>\n",
       "      <td>0</td>\n",
       "      <td>1</td>\n",
       "      <td>egypttoday.com</td>\n",
       "    </tr>\n",
       "    <tr>\n",
       "      <th>2</th>\n",
       "      <td>1245863585764405248</td>\n",
       "      <td>3332f974940607397430092bcc46d8e3</td>\n",
       "      <td>Fri Apr 03 00:00:00 +0000 2020</td>\n",
       "      <td>2037578</td>\n",
       "      <td>154</td>\n",
       "      <td>571</td>\n",
       "      <td>1390</td>\n",
       "      <td>virgin orbit:Virgin_Orbit:-1.0115699785055032;...</td>\n",
       "      <td>2 -1</td>\n",
       "      <td>null;</td>\n",
       "      <td>COVID19Pandemic</td>\n",
       "      <td>https://www.wired.com/story/race-build-more-ve...</td>\n",
       "      <td>Ventilators are in short supply. So Virgin Orb...</td>\n",
       "      <td>False</td>\n",
       "      <td>0</td>\n",
       "      <td>1</td>\n",
       "      <td>1</td>\n",
       "      <td>wired.com</td>\n",
       "    </tr>\n",
       "    <tr>\n",
       "      <th>3</th>\n",
       "      <td>1245863585491771398</td>\n",
       "      <td>447929823d4b289aad11483444a3cb28</td>\n",
       "      <td>Fri Apr 03 00:00:00 +0000 2020</td>\n",
       "      <td>563499</td>\n",
       "      <td>418</td>\n",
       "      <td>10</td>\n",
       "      <td>61</td>\n",
       "      <td>null;</td>\n",
       "      <td>1 -1</td>\n",
       "      <td>null;</td>\n",
       "      <td>KUWTK</td>\n",
       "      <td>null;</td>\n",
       "      <td>Kourt's just giving back what she gets 🤷‍♀️ A ...</td>\n",
       "      <td>False</td>\n",
       "      <td>0</td>\n",
       "      <td>1</td>\n",
       "      <td>0</td>\n",
       "      <td>0</td>\n",
       "    </tr>\n",
       "    <tr>\n",
       "      <th>4</th>\n",
       "      <td>1245863586318204928</td>\n",
       "      <td>b831a7b4065ae8f585b7a2c67f8c4751</td>\n",
       "      <td>Fri Apr 03 00:00:00 +0000 2020</td>\n",
       "      <td>110</td>\n",
       "      <td>3</td>\n",
       "      <td>0</td>\n",
       "      <td>0</td>\n",
       "      <td>happening now:Happening_Now:-2.624722884110382;</td>\n",
       "      <td>1 -2</td>\n",
       "      <td>null;</td>\n",
       "      <td>null;</td>\n",
       "      <td>http://us04web.zoom.us/j/542793419:-:</td>\n",
       "      <td>Zoom Code live happening now (already started)...</td>\n",
       "      <td>True</td>\n",
       "      <td>0</td>\n",
       "      <td>0</td>\n",
       "      <td>1</td>\n",
       "      <td>zoom.us</td>\n",
       "    </tr>\n",
       "  </tbody>\n",
       "</table>\n",
       "</div>"
      ],
      "text/plain": [
       "              Tweet_Id                          Username  \\\n",
       "0  1245863586842284033  3d4b19ffcac6afbaccc02caa041f2052   \n",
       "1  1245863584900370434  f1ca5c285adac0d2e8a7bfc07700212a   \n",
       "2  1245863585764405248  3332f974940607397430092bcc46d8e3   \n",
       "3  1245863585491771398  447929823d4b289aad11483444a3cb28   \n",
       "4  1245863586318204928  b831a7b4065ae8f585b7a2c67f8c4751   \n",
       "\n",
       "                        Timestamp  Followers  Followees  Retweets  Favorites  \\\n",
       "0  Fri Apr 03 00:00:00 +0000 2020     141018       1467        20         24   \n",
       "1  Fri Apr 03 00:00:00 +0000 2020      18252        248         2          2   \n",
       "2  Fri Apr 03 00:00:00 +0000 2020    2037578        154       571       1390   \n",
       "3  Fri Apr 03 00:00:00 +0000 2020     563499        418        10         61   \n",
       "4  Fri Apr 03 00:00:00 +0000 2020        110          3         0          0   \n",
       "\n",
       "                                            Entities Sentiment Mentions  \\\n",
       "0  time is of the essence:Time_Is_of_the_Essence:...      2 -1    null;   \n",
       "1                                              null;      1 -1    null;   \n",
       "2  virgin orbit:Virgin_Orbit:-1.0115699785055032;...      2 -1    null;   \n",
       "3                                              null;      1 -1    null;   \n",
       "4    happening now:Happening_Now:-2.624722884110382;      1 -2    null;   \n",
       "\n",
       "                     Hashtags  \\\n",
       "0  Coronavirus MedicareForAll   \n",
       "1                       null;   \n",
       "2             COVID19Pandemic   \n",
       "3                       KUWTK   \n",
       "4                       null;   \n",
       "\n",
       "                                                URLs  \\\n",
       "0  https://www.cnn.com/2020/03/31/politics/pentag...   \n",
       "1  https://www.egypttoday.com/Article/1/83263/COV...   \n",
       "2  https://www.wired.com/story/race-build-more-ve...   \n",
       "3                                              null;   \n",
       "4              http://us04web.zoom.us/j/542793419:-:   \n",
       "\n",
       "                                                Text  Is_deleted  \\\n",
       "0  Time is of the essence!!! Trump’s delayed resp...       False   \n",
       "1  The head of the World Health Organization voic...       False   \n",
       "2  Ventilators are in short supply. So Virgin Orb...       False   \n",
       "3  Kourt's just giving back what she gets 🤷‍♀️ A ...       False   \n",
       "4  Zoom Code live happening now (already started)...        True   \n",
       "\n",
       "   Number of Mentions  Number of Hashtags  Number of URLs         Domains  \n",
       "0                   0                   2               1         cnn.com  \n",
       "1                   0                   0               1  egypttoday.com  \n",
       "2                   0                   1               1       wired.com  \n",
       "3                   0                   1               0               0  \n",
       "4                   0                   0               1         zoom.us  "
      ]
     },
     "execution_count": 3,
     "metadata": {},
     "output_type": "execute_result"
    }
   ],
   "source": [
    "#Dataframe TweetsCov19 \n",
    "df_tweetscov19 = pd.read_csv(TweetsCov19_Pfad, sep='\\t', error_bad_lines=False, names=TweetsCov19_labels)\n",
    "print('Shape:', df_tweetscov19.shape)\n",
    "df_tweetscov19.head()"
   ]
  },
  {
   "cell_type": "code",
   "execution_count": 4,
   "id": "f86b9828",
   "metadata": {},
   "outputs": [
    {
     "name": "stdout",
     "output_type": "stream",
     "text": [
      "Form : (9409841, 16)\n"
     ]
    },
    {
     "data": {
      "text/html": [
       "<div>\n",
       "<style scoped>\n",
       "    .dataframe tbody tr th:only-of-type {\n",
       "        vertical-align: middle;\n",
       "    }\n",
       "\n",
       "    .dataframe tbody tr th {\n",
       "        vertical-align: top;\n",
       "    }\n",
       "\n",
       "    .dataframe thead th {\n",
       "        text-align: right;\n",
       "    }\n",
       "</style>\n",
       "<table border=\"1\" class=\"dataframe\">\n",
       "  <thead>\n",
       "    <tr style=\"text-align: right;\">\n",
       "      <th></th>\n",
       "      <th>Tweet_Id</th>\n",
       "      <th>Username</th>\n",
       "      <th>Timestamp</th>\n",
       "      <th>Followers</th>\n",
       "      <th>Followees</th>\n",
       "      <th>Retweets</th>\n",
       "      <th>Favorites</th>\n",
       "      <th>Text</th>\n",
       "      <th>URLs</th>\n",
       "      <th>Is_deleted</th>\n",
       "      <th>Hashtags</th>\n",
       "      <th>Mentions</th>\n",
       "      <th>Number of Hashtags</th>\n",
       "      <th>Number of Mentions</th>\n",
       "      <th>Domains</th>\n",
       "      <th>Number of URLs</th>\n",
       "    </tr>\n",
       "  </thead>\n",
       "  <tbody>\n",
       "    <tr>\n",
       "      <th>0</th>\n",
       "      <td>1178791636039589889</td>\n",
       "      <td>DCComics</td>\n",
       "      <td>2019-09-30 22:00:01+00:00</td>\n",
       "      <td>3349606</td>\n",
       "      <td>563</td>\n",
       "      <td>2</td>\n",
       "      <td>13</td>\n",
       "      <td>Today on #DCDaily, the crew takes a deep dive ...</td>\n",
       "      <td>http://bit.ly/2mlNYpS:-:</td>\n",
       "      <td>False</td>\n",
       "      <td>['DCDaily']</td>\n",
       "      <td>['DCUTitans']</td>\n",
       "      <td>1</td>\n",
       "      <td>1</td>\n",
       "      <td>dcuniverseinfinite.com</td>\n",
       "      <td>1</td>\n",
       "    </tr>\n",
       "    <tr>\n",
       "      <th>1</th>\n",
       "      <td>1178791641265639424</td>\n",
       "      <td>seanberdyz</td>\n",
       "      <td>2019-09-30 22:00:02+00:00</td>\n",
       "      <td>1203</td>\n",
       "      <td>499</td>\n",
       "      <td>4</td>\n",
       "      <td>20</td>\n",
       "      <td>𝘪’𝘮 𝘨𝘰𝘯𝘯𝘢 𝘣𝘦 𝘳𝘪𝘨𝘩𝘵 𝘩𝘦𝘳𝘦 ⟶ https://t.co/kOxWQL5...</td>\n",
       "      <td>http://ourownside.carrd.co:-:</td>\n",
       "      <td>True</td>\n",
       "      <td>[]</td>\n",
       "      <td>[]</td>\n",
       "      <td>0</td>\n",
       "      <td>0</td>\n",
       "      <td>carrd.co</td>\n",
       "      <td>1</td>\n",
       "    </tr>\n",
       "    <tr>\n",
       "      <th>2</th>\n",
       "      <td>1178791640573579264</td>\n",
       "      <td>AnArtistAtBirth</td>\n",
       "      <td>2019-09-30 22:00:02+00:00</td>\n",
       "      <td>109</td>\n",
       "      <td>215</td>\n",
       "      <td>0</td>\n",
       "      <td>0</td>\n",
       "      <td>❛ 𝘠𝘰𝘶'𝘳𝘦 𝘴𝘪𝘵𝘵𝘪𝘯' 𝘰𝘯 𝘺𝘰𝘶𝘳 𝘧𝘦𝘦𝘭𝘪𝘯𝘨𝘴 . . . 𝘐'𝘮 𝘴𝘪...</td>\n",
       "      <td>null;</td>\n",
       "      <td>True</td>\n",
       "      <td>['𝘛𝘩𝘦𝘰𝘯𝘦']</td>\n",
       "      <td>[]</td>\n",
       "      <td>1</td>\n",
       "      <td>0</td>\n",
       "      <td>0</td>\n",
       "      <td>0</td>\n",
       "    </tr>\n",
       "    <tr>\n",
       "      <th>3</th>\n",
       "      <td>1178791644797255680</td>\n",
       "      <td>lagosboygang</td>\n",
       "      <td>2019-09-30 22:00:03+00:00</td>\n",
       "      <td>571</td>\n",
       "      <td>1401</td>\n",
       "      <td>0</td>\n",
       "      <td>0</td>\n",
       "      <td>@Tiffany_o_ @UG_derrick That's the one i wanna...</td>\n",
       "      <td>null;</td>\n",
       "      <td>True</td>\n",
       "      <td>[]</td>\n",
       "      <td>['Tiffany_o_', 'UG_derrick']</td>\n",
       "      <td>0</td>\n",
       "      <td>2</td>\n",
       "      <td>0</td>\n",
       "      <td>0</td>\n",
       "    </tr>\n",
       "    <tr>\n",
       "      <th>4</th>\n",
       "      <td>1178791648056217600</td>\n",
       "      <td>Phenom_Hoops</td>\n",
       "      <td>2019-09-30 22:00:04+00:00</td>\n",
       "      <td>25630</td>\n",
       "      <td>1674</td>\n",
       "      <td>1</td>\n",
       "      <td>1</td>\n",
       "      <td>2022 6’9 Perry Smith Jr. showcasing his high-m...</td>\n",
       "      <td>https://www.phenomhoopreport.com/2022-69-perry...</td>\n",
       "      <td>False</td>\n",
       "      <td>['PhenomHoops']</td>\n",
       "      <td>[]</td>\n",
       "      <td>1</td>\n",
       "      <td>0</td>\n",
       "      <td>phenomhoopreport.com</td>\n",
       "      <td>1</td>\n",
       "    </tr>\n",
       "  </tbody>\n",
       "</table>\n",
       "</div>"
      ],
      "text/plain": [
       "              Tweet_Id         Username                  Timestamp  Followers  \\\n",
       "0  1178791636039589889         DCComics  2019-09-30 22:00:01+00:00    3349606   \n",
       "1  1178791641265639424       seanberdyz  2019-09-30 22:00:02+00:00       1203   \n",
       "2  1178791640573579264  AnArtistAtBirth  2019-09-30 22:00:02+00:00        109   \n",
       "3  1178791644797255680     lagosboygang  2019-09-30 22:00:03+00:00        571   \n",
       "4  1178791648056217600     Phenom_Hoops  2019-09-30 22:00:04+00:00      25630   \n",
       "\n",
       "   Followees  Retweets  Favorites  \\\n",
       "0        563         2         13   \n",
       "1        499         4         20   \n",
       "2        215         0          0   \n",
       "3       1401         0          0   \n",
       "4       1674         1          1   \n",
       "\n",
       "                                                Text  \\\n",
       "0  Today on #DCDaily, the crew takes a deep dive ...   \n",
       "1  𝘪’𝘮 𝘨𝘰𝘯𝘯𝘢 𝘣𝘦 𝘳𝘪𝘨𝘩𝘵 𝘩𝘦𝘳𝘦 ⟶ https://t.co/kOxWQL5...   \n",
       "2  ❛ 𝘠𝘰𝘶'𝘳𝘦 𝘴𝘪𝘵𝘵𝘪𝘯' 𝘰𝘯 𝘺𝘰𝘶𝘳 𝘧𝘦𝘦𝘭𝘪𝘯𝘨𝘴 . . . 𝘐'𝘮 𝘴𝘪...   \n",
       "3  @Tiffany_o_ @UG_derrick That's the one i wanna...   \n",
       "4  2022 6’9 Perry Smith Jr. showcasing his high-m...   \n",
       "\n",
       "                                                URLs  Is_deleted  \\\n",
       "0                           http://bit.ly/2mlNYpS:-:       False   \n",
       "1                      http://ourownside.carrd.co:-:        True   \n",
       "2                                              null;        True   \n",
       "3                                              null;        True   \n",
       "4  https://www.phenomhoopreport.com/2022-69-perry...       False   \n",
       "\n",
       "          Hashtags                      Mentions  Number of Hashtags  \\\n",
       "0      ['DCDaily']                 ['DCUTitans']                   1   \n",
       "1               []                            []                   0   \n",
       "2       ['𝘛𝘩𝘦𝘰𝘯𝘦']                            []                   1   \n",
       "3               []  ['Tiffany_o_', 'UG_derrick']                   0   \n",
       "4  ['PhenomHoops']                            []                   1   \n",
       "\n",
       "   Number of Mentions                 Domains  Number of URLs  \n",
       "0                   1  dcuniverseinfinite.com               1  \n",
       "1                   0                carrd.co               1  \n",
       "2                   0                       0               0  \n",
       "3                   2                       0               0  \n",
       "4                   0    phenomhoopreport.com               1  "
      ]
     },
     "execution_count": 4,
     "metadata": {},
     "output_type": "execute_result"
    }
   ],
   "source": [
    "#Dataframe TweetsKB \n",
    "df_tweetskb = pd.read_csv(TweetsKB_Pfad, sep='\\t', error_bad_lines=False, names=TweetsKB_labels)\n",
    "print('Form :', df_tweetskb.shape)\n",
    "df_tweetskb.head()"
   ]
  },
  {
   "cell_type": "code",
   "execution_count": 8,
   "id": "2f1fac21",
   "metadata": {},
   "outputs": [],
   "source": [
    "df_del_cov19 = df_tweetscov19[df_tweetscov19['Is_deleted'] == True]\n",
    "df_undel_cov19 = df_tweetscov19[df_tweetscov19['Is_deleted'] == False]\n",
    "df_del_kb = df_tweetskb[df_tweetskb['Is_deleted'] == True]\n",
    "df_undel_kb = df_tweetskb[df_tweetskb['Is_deleted'] == False]"
   ]
  },
  {
   "cell_type": "code",
   "execution_count": 9,
   "id": "42bca269",
   "metadata": {},
   "outputs": [
    {
     "data": {
      "text/plain": [
       "2508542"
      ]
     },
     "execution_count": 9,
     "metadata": {},
     "output_type": "execute_result"
    }
   ],
   "source": [
    "df_tweetscov19[\"Number of URLs\"].sum()"
   ]
  },
  {
   "cell_type": "code",
   "execution_count": 10,
   "id": "ba6b6440",
   "metadata": {},
   "outputs": [
    {
     "data": {
      "text/plain": [
       "406264"
      ]
     },
     "execution_count": 10,
     "metadata": {},
     "output_type": "execute_result"
    }
   ],
   "source": [
    "df_del_cov19[\"Number of URLs\"].sum()"
   ]
  },
  {
   "cell_type": "code",
   "execution_count": 11,
   "id": "797a36a3",
   "metadata": {},
   "outputs": [
    {
     "data": {
      "text/plain": [
       "2102278"
      ]
     },
     "execution_count": 11,
     "metadata": {},
     "output_type": "execute_result"
    }
   ],
   "source": [
    "df_undel_cov19[\"Number of URLs\"].sum()"
   ]
  },
  {
   "cell_type": "code",
   "execution_count": 12,
   "id": "7fceb881",
   "metadata": {},
   "outputs": [
    {
     "data": {
      "text/plain": [
       "1460380"
      ]
     },
     "execution_count": 12,
     "metadata": {},
     "output_type": "execute_result"
    }
   ],
   "source": [
    "df_tweetskb[\"Number of URLs\"].sum()"
   ]
  },
  {
   "cell_type": "code",
   "execution_count": 13,
   "id": "1aad329f",
   "metadata": {},
   "outputs": [
    {
     "data": {
      "text/plain": [
       "329403"
      ]
     },
     "execution_count": 13,
     "metadata": {},
     "output_type": "execute_result"
    }
   ],
   "source": [
    "df_del_kb[\"Number of URLs\"].sum()"
   ]
  },
  {
   "cell_type": "code",
   "execution_count": 14,
   "id": "47493d96",
   "metadata": {},
   "outputs": [
    {
     "data": {
      "text/plain": [
       "1130977"
      ]
     },
     "execution_count": 14,
     "metadata": {},
     "output_type": "execute_result"
    }
   ],
   "source": [
    "df_undel_kb[\"Number of URLs\"].sum()"
   ]
  },
  {
   "cell_type": "markdown",
   "id": "ab33d564",
   "metadata": {},
   "source": [
    "## Unique PLDs in Datasets"
   ]
  },
  {
   "cell_type": "markdown",
   "id": "b3dc0410",
   "metadata": {},
   "source": [
    "- TweetsCOV19"
   ]
  },
  {
   "cell_type": "code",
   "execution_count": 15,
   "id": "00fbbaca",
   "metadata": {},
   "outputs": [
    {
     "data": {
      "text/plain": [
       "359"
      ]
     },
     "execution_count": 15,
     "metadata": {},
     "output_type": "execute_result"
    }
   ],
   "source": [
    "df_tweetscov19[\"Domains\"].isna().sum()"
   ]
  },
  {
   "cell_type": "code",
   "execution_count": 16,
   "id": "b96a3b21",
   "metadata": {},
   "outputs": [],
   "source": [
    "df_tweetscov19[\"Domains\"] = df_tweetscov19[\"Domains\"].replace(pd.NA, 0 )"
   ]
  },
  {
   "cell_type": "markdown",
   "id": "aae63724",
   "metadata": {},
   "source": [
    "- Posted"
   ]
  },
  {
   "cell_type": "code",
   "execution_count": 18,
   "id": "e861bb62",
   "metadata": {},
   "outputs": [],
   "source": [
    "import ast\n",
    "\n",
    "#Zuerst wird hier eine neue Dataframe erzeugt, die nur die Domäne enthält.\n",
    "#Dann geht die funktion jede zeile der Dataframe durch, und alle Domäne, die in einem Tweet geben, durchsucht.\n",
    "#Jede neue Domain wird zu der Dictionary hinzugefügt.\n",
    "#Bei jeder Wiederholung erhöht die Methode die Value von dementsprechender Domain um eins.\n",
    "\n",
    "def get_unique_plds(df):\n",
    "    df_domains = df[['Domains']]\n",
    "\n",
    "    dict_domains = {}\n",
    "\n",
    "    for idx, row in df_domains.iterrows():\n",
    "        list_domain = []\n",
    "        \n",
    "        list_domain = str(row[\"Domains\"]).split()\n",
    "\n",
    "#         list_domain = np.array(list_domain)\n",
    "#         list_domain = np.unique(list_domain)\n",
    "#         list_domain = list_domain.tolist()\n",
    "\n",
    "        for domain in (list_domain):\n",
    "            if domain not in dict_domains:\n",
    "                dict_domains[domain] = 1\n",
    "            else :\n",
    "                dict_domains[domain] = dict_domains[domain] +1\n",
    "    return dict_domains"
   ]
  },
  {
   "cell_type": "code",
   "execution_count": 19,
   "id": "1761d168",
   "metadata": {},
   "outputs": [],
   "source": [
    "df_tweetsCov19_domains = get_unique_plds(df_tweetscov19)"
   ]
  },
  {
   "cell_type": "code",
   "execution_count": 20,
   "id": "850dfef0",
   "metadata": {},
   "outputs": [
    {
     "data": {
      "text/html": [
       "<div>\n",
       "<style scoped>\n",
       "    .dataframe tbody tr th:only-of-type {\n",
       "        vertical-align: middle;\n",
       "    }\n",
       "\n",
       "    .dataframe tbody tr th {\n",
       "        vertical-align: top;\n",
       "    }\n",
       "\n",
       "    .dataframe thead th {\n",
       "        text-align: right;\n",
       "    }\n",
       "</style>\n",
       "<table border=\"1\" class=\"dataframe\">\n",
       "  <thead>\n",
       "    <tr style=\"text-align: right;\">\n",
       "      <th></th>\n",
       "      <th>Domain</th>\n",
       "      <th>counter</th>\n",
       "    </tr>\n",
       "  </thead>\n",
       "  <tbody>\n",
       "    <tr>\n",
       "      <th>3</th>\n",
       "      <td>0</td>\n",
       "      <td>6990896</td>\n",
       "    </tr>\n",
       "    <tr>\n",
       "      <th>60</th>\n",
       "      <td>twitter.com</td>\n",
       "      <td>270819</td>\n",
       "    </tr>\n",
       "    <tr>\n",
       "      <th>41</th>\n",
       "      <td>youtube.com</td>\n",
       "      <td>122204</td>\n",
       "    </tr>\n",
       "    <tr>\n",
       "      <th>10</th>\n",
       "      <td>instagram.com</td>\n",
       "      <td>60647</td>\n",
       "    </tr>\n",
       "    <tr>\n",
       "      <th>184</th>\n",
       "      <td>nytimes.com</td>\n",
       "      <td>35661</td>\n",
       "    </tr>\n",
       "  </tbody>\n",
       "</table>\n",
       "</div>"
      ],
      "text/plain": [
       "            Domain  counter\n",
       "3                0  6990896\n",
       "60     twitter.com   270819\n",
       "41     youtube.com   122204\n",
       "10   instagram.com    60647\n",
       "184    nytimes.com    35661"
      ]
     },
     "execution_count": 20,
     "metadata": {},
     "output_type": "execute_result"
    }
   ],
   "source": [
    "df_dict_tweetscov19_domains = pd.DataFrame(df_tweetsCov19_domains.items(), columns=['Domain','counter'])\n",
    "df_dict_tweetscov19_domains.sort_values(by=[\"counter\"], ascending=False).head()"
   ]
  },
  {
   "cell_type": "code",
   "execution_count": 21,
   "id": "57d190bf",
   "metadata": {},
   "outputs": [
    {
     "data": {
      "text/plain": [
       "(181021, 2)"
      ]
     },
     "execution_count": 21,
     "metadata": {},
     "output_type": "execute_result"
    }
   ],
   "source": [
    "df_dict_tweetscov19_domains[df_dict_tweetscov19_domains[\"Domain\"]!= \"0\"].shape"
   ]
  },
  {
   "cell_type": "code",
   "execution_count": 22,
   "id": "39f9c1e0",
   "metadata": {},
   "outputs": [
    {
     "name": "stdout",
     "output_type": "stream",
     "text": [
      "Number of Domains in TweetsCov19(unique) : 181021\n",
      "Number of URLs in TweetsCov19(sum) : 2508542\n"
     ]
    }
   ],
   "source": [
    "number_of_domains = df_tweetscov19['Number of URLs'].sum()\n",
    "print('Number of Domains in TweetsCov19(unique) :', df_dict_tweetscov19_domains.Domain.size -1)\n",
    "print('Number of URLs in TweetsCov19(sum) :', number_of_domains)"
   ]
  },
  {
   "cell_type": "markdown",
   "id": "5ff41f44",
   "metadata": {},
   "source": [
    "- deleted"
   ]
  },
  {
   "cell_type": "code",
   "execution_count": 195,
   "id": "192a048c",
   "metadata": {},
   "outputs": [],
   "source": [
    "df_del_cov19_domains = get_unique_plds(df_del_cov19)"
   ]
  },
  {
   "cell_type": "code",
   "execution_count": 197,
   "id": "ffc7d300",
   "metadata": {},
   "outputs": [
    {
     "name": "stdout",
     "output_type": "stream",
     "text": [
      "Number of Domains in TweetsCov19(unique) : 34609\n",
      "Number of URLs in TweetsCov19(sum) : 406264\n"
     ]
    }
   ],
   "source": [
    "df_dict_del_tweetscov19_domains = pd.DataFrame(df_del_cov19_domains.items(), columns=['Domain','count'])\n",
    "number_of_domains = df_del_cov19['Number of URLs'].sum()\n",
    "\n",
    "print('Number of Domains in TweetsCov19(unique) :', df_dict_del_tweetscov19_domains.Domain.size -1)\n",
    "print('Number of URLs in TweetsCov19(sum) :', number_of_domains)"
   ]
  },
  {
   "cell_type": "markdown",
   "id": "43360cc0",
   "metadata": {},
   "source": [
    "- None-deleted"
   ]
  },
  {
   "cell_type": "code",
   "execution_count": 198,
   "id": "72a9aeba",
   "metadata": {},
   "outputs": [],
   "source": [
    "df_undel_cov19_domains = get_unique_plds(df_undel_cov19)"
   ]
  },
  {
   "cell_type": "code",
   "execution_count": 199,
   "id": "9c3db94f",
   "metadata": {},
   "outputs": [
    {
     "name": "stdout",
     "output_type": "stream",
     "text": [
      "Number of Domains in TweetsCov19(unique) : 164387\n",
      "Number of URLs in TweetsCov19(sum) : 2102278\n"
     ]
    }
   ],
   "source": [
    "df_dict_undel_tweetscov19_domains = pd.DataFrame(df_undel_cov19_domains.items(), columns=['Domain','count'])\n",
    "number_of_domains = df_undel_cov19['Number of URLs'].sum()\n",
    "\n",
    "print('Number of Domains in TweetsCov19(unique) :', df_dict_undel_tweetscov19_domains.Domain.size -1)\n",
    "print('Number of URLs in TweetsCov19(sum) :', number_of_domains)"
   ]
  },
  {
   "cell_type": "code",
   "execution_count": 24,
   "id": "84678f9a",
   "metadata": {},
   "outputs": [],
   "source": [
    "# pfad_tsv = '../data/tweetsCov19_unique_URL.tsv'\n",
    "\n",
    "# with open(pfad_tsv, 'w', newline='', encoding=\"utf-8\") as out_file:\n",
    "#     tsv_writer = csv.writer(out_file, delimiter=\"\\t\")\n",
    "#     for idx, row in df_dict_tweetscov19_domains.iterrows():\n",
    "#         tsv_writer.writerow(row.values.tolist())"
   ]
  },
  {
   "cell_type": "markdown",
   "id": "68dfcfa5",
   "metadata": {},
   "source": [
    "## TweetsKB"
   ]
  },
  {
   "cell_type": "code",
   "execution_count": 25,
   "id": "076f9240",
   "metadata": {},
   "outputs": [
    {
     "data": {
      "text/plain": [
       "0"
      ]
     },
     "execution_count": 25,
     "metadata": {},
     "output_type": "execute_result"
    }
   ],
   "source": [
    "df_tweetskb[\"Domains\"].isna().sum()"
   ]
  },
  {
   "cell_type": "code",
   "execution_count": 26,
   "id": "98855548",
   "metadata": {},
   "outputs": [],
   "source": [
    "df_tweetskb[\"Domains\"] = df_tweetskb[\"Domains\"].replace(pd.NA, 0 )"
   ]
  },
  {
   "cell_type": "markdown",
   "id": "0ace2088",
   "metadata": {},
   "source": [
    "- Posted"
   ]
  },
  {
   "cell_type": "code",
   "execution_count": 28,
   "id": "c1309f25",
   "metadata": {},
   "outputs": [],
   "source": [
    "df_tweetskb_domains = get_unique_plds(df_tweetskb)"
   ]
  },
  {
   "cell_type": "code",
   "execution_count": 29,
   "id": "d3589ad8",
   "metadata": {},
   "outputs": [
    {
     "data": {
      "text/html": [
       "<div>\n",
       "<style scoped>\n",
       "    .dataframe tbody tr th:only-of-type {\n",
       "        vertical-align: middle;\n",
       "    }\n",
       "\n",
       "    .dataframe tbody tr th {\n",
       "        vertical-align: top;\n",
       "    }\n",
       "\n",
       "    .dataframe thead th {\n",
       "        text-align: right;\n",
       "    }\n",
       "</style>\n",
       "<table border=\"1\" class=\"dataframe\">\n",
       "  <thead>\n",
       "    <tr style=\"text-align: right;\">\n",
       "      <th></th>\n",
       "      <th>Domain</th>\n",
       "      <th>counter</th>\n",
       "    </tr>\n",
       "  </thead>\n",
       "  <tbody>\n",
       "    <tr>\n",
       "      <th>2</th>\n",
       "      <td>0</td>\n",
       "      <td>8024014</td>\n",
       "    </tr>\n",
       "    <tr>\n",
       "      <th>14</th>\n",
       "      <td>twitter.com</td>\n",
       "      <td>262420</td>\n",
       "    </tr>\n",
       "    <tr>\n",
       "      <th>28</th>\n",
       "      <td>youtu.be</td>\n",
       "      <td>65221</td>\n",
       "    </tr>\n",
       "    <tr>\n",
       "      <th>37</th>\n",
       "      <td>instagram.com</td>\n",
       "      <td>50601</td>\n",
       "    </tr>\n",
       "    <tr>\n",
       "      <th>348</th>\n",
       "      <td>twittascope.com</td>\n",
       "      <td>37526</td>\n",
       "    </tr>\n",
       "  </tbody>\n",
       "</table>\n",
       "</div>"
      ],
      "text/plain": [
       "              Domain  counter\n",
       "2                  0  8024014\n",
       "14       twitter.com   262420\n",
       "28          youtu.be    65221\n",
       "37     instagram.com    50601\n",
       "348  twittascope.com    37526"
      ]
     },
     "execution_count": 29,
     "metadata": {},
     "output_type": "execute_result"
    }
   ],
   "source": [
    "df_dict_tweetskb_domains = pd.DataFrame(df_tweetskb_domains.items(), columns=['Domain','counter'])\n",
    "df_dict_tweetskb_domains.sort_values(by=[\"counter\"], ascending=False).head()"
   ]
  },
  {
   "cell_type": "code",
   "execution_count": 30,
   "id": "cb6399da",
   "metadata": {},
   "outputs": [
    {
     "data": {
      "text/plain": [
       "(147068, 2)"
      ]
     },
     "execution_count": 30,
     "metadata": {},
     "output_type": "execute_result"
    }
   ],
   "source": [
    "df_dict_tweetskb_domains[df_dict_tweetskb_domains[\"Domain\"]!= \"0\"].shape"
   ]
  },
  {
   "cell_type": "code",
   "execution_count": 206,
   "id": "cfcbf15e",
   "metadata": {},
   "outputs": [
    {
     "name": "stdout",
     "output_type": "stream",
     "text": [
      "Number of Domains in Tweetskb(unique) : 147068\n",
      "Number of URLs in Tweetskb(sum) : 1460380\n"
     ]
    }
   ],
   "source": [
    "number_of_domains = df_tweetskb['Number of URLs'].sum()\n",
    "print('Number of Domains in Tweetskb(unique) :', df_dict_tweetskb_domains.Domain.size -1)\n",
    "print('Number of URLs in Tweetskb(sum) :', number_of_domains)"
   ]
  },
  {
   "cell_type": "markdown",
   "id": "eaeb8d63",
   "metadata": {},
   "source": [
    "- deleted"
   ]
  },
  {
   "cell_type": "code",
   "execution_count": 207,
   "id": "968cef4d",
   "metadata": {},
   "outputs": [],
   "source": [
    "df_del_kb_domains = get_unique_plds(df_del_kb)"
   ]
  },
  {
   "cell_type": "code",
   "execution_count": 208,
   "id": "d50cf043",
   "metadata": {},
   "outputs": [
    {
     "name": "stdout",
     "output_type": "stream",
     "text": [
      "Number of Domains in Tweetskb(unique) : 31417\n",
      "Number of URLs in Tweetskb(sum) : 329403\n"
     ]
    }
   ],
   "source": [
    "df_dict_del_tweetskb_domains = pd.DataFrame(df_del_kb_domains.items(), columns=['Domain','count'])\n",
    "number_of_domains = df_del_kb['Number of URLs'].sum()\n",
    "\n",
    "print('Number of Domains in Tweetskb(unique) :', df_dict_del_tweetskb_domains.Domain.size -1)\n",
    "print('Number of URLs in Tweetskb(sum) :', number_of_domains)"
   ]
  },
  {
   "cell_type": "markdown",
   "id": "612707e3",
   "metadata": {},
   "source": [
    "- None-deleted"
   ]
  },
  {
   "cell_type": "code",
   "execution_count": 209,
   "id": "af9929f7",
   "metadata": {},
   "outputs": [],
   "source": [
    "df_undel_kb_domains = get_unique_plds(df_undel_kb)"
   ]
  },
  {
   "cell_type": "code",
   "execution_count": 210,
   "id": "59a89aaa",
   "metadata": {},
   "outputs": [
    {
     "name": "stdout",
     "output_type": "stream",
     "text": [
      "Number of Domains in Tweetskb(unique) : 129118\n",
      "Number of URLs in Tweetskb(sum) : 1130977\n"
     ]
    }
   ],
   "source": [
    "df_dict_undel_tweetskb_domains = pd.DataFrame(df_undel_kb_domains.items(), columns=['Domain','count'])\n",
    "number_of_domains = df_undel_kb['Number of URLs'].sum()\n",
    "\n",
    "print('Number of Domains in Tweetskb(unique) :', df_dict_undel_tweetskb_domains.Domain.size -1)\n",
    "print('Number of URLs in Tweetskb(sum) :', number_of_domains)"
   ]
  },
  {
   "cell_type": "code",
   "execution_count": 31,
   "id": "e261da54",
   "metadata": {},
   "outputs": [],
   "source": [
    "# pfad_tsv = '../data/tweetsKB_unique_URL.tsv'\n",
    "\n",
    "# with open(pfad_tsv, 'w', newline='', encoding=\"utf-8\") as out_file:\n",
    "#     tsv_writer = csv.writer(out_file, delimiter=\"\\t\")\n",
    "#     for idx, row in df_dict_tweetskb_domains.iterrows():\n",
    "#         tsv_writer.writerow(row.values.tolist())"
   ]
  },
  {
   "cell_type": "code",
   "execution_count": null,
   "id": "bca23a7c",
   "metadata": {},
   "outputs": [],
   "source": []
  }
 ],
 "metadata": {
  "kernelspec": {
   "display_name": "Python 3",
   "language": "python",
   "name": "python3"
  },
  "language_info": {
   "codemirror_mode": {
    "name": "ipython",
    "version": 3
   },
   "file_extension": ".py",
   "mimetype": "text/x-python",
   "name": "python",
   "nbconvert_exporter": "python",
   "pygments_lexer": "ipython3",
   "version": "3.8.8"
  }
 },
 "nbformat": 4,
 "nbformat_minor": 5
}
