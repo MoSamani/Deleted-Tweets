{
 "cells": [
  {
   "cell_type": "code",
   "execution_count": 1,
   "id": "1e776b58",
   "metadata": {},
   "outputs": [],
   "source": [
    "#CSV Bibliothek importieren \n",
    "import csv\n",
    "#Pandas importieren und als pd bezeichnen\n",
    "import pandas as pd\n",
    "#Numpy importieren und als np bezeichnen \n",
    "import numpy as np\n",
    "#Json Biliothek importieren\n",
    "import json\n",
    "#Obere Schranke für die Größe der Daten auf 100,000,000 setzen  \n",
    "csv.field_size_limit(100000000)\n",
    "#Maximale Anzahl von Zeilen und Spalten Zeigen \n",
    "pd.options.display.max_columns = None\n",
    "pd.options.display.max_rows = None\n",
    "#Extraktion der Domäne\n",
    "import tldextract"
   ]
  },
  {
   "cell_type": "markdown",
   "id": "1157839f",
   "metadata": {},
   "source": [
    "***"
   ]
  },
  {
   "cell_type": "markdown",
   "id": "0bc60b2d",
   "metadata": {},
   "source": [
    "### Pro_science domains"
   ]
  },
  {
   "cell_type": "code",
   "execution_count": 2,
   "id": "e0da2226",
   "metadata": {},
   "outputs": [],
   "source": [
    "path = '../data/df_domains_pro_anti_science.tsv'\n",
    "\n",
    "df_domains_pro_and_anti_science = pd.read_csv(path, sep='\\t', error_bad_lines=False)"
   ]
  },
  {
   "cell_type": "code",
   "execution_count": 3,
   "id": "39085495",
   "metadata": {},
   "outputs": [
    {
     "name": "stdout",
     "output_type": "stream",
     "text": [
      "Shape:  (1395, 4)\n"
     ]
    },
    {
     "data": {
      "text/html": [
       "<div>\n",
       "<style scoped>\n",
       "    .dataframe tbody tr th:only-of-type {\n",
       "        vertical-align: middle;\n",
       "    }\n",
       "\n",
       "    .dataframe tbody tr th {\n",
       "        vertical-align: top;\n",
       "    }\n",
       "\n",
       "    .dataframe thead th {\n",
       "        text-align: right;\n",
       "    }\n",
       "</style>\n",
       "<table border=\"1\" class=\"dataframe\">\n",
       "  <thead>\n",
       "    <tr style=\"text-align: right;\">\n",
       "      <th></th>\n",
       "      <th>domain</th>\n",
       "      <th>mediabias_proscience</th>\n",
       "      <th>mediabias_questionblesources</th>\n",
       "      <th>mediabias_conspiracy_psydoscience</th>\n",
       "    </tr>\n",
       "  </thead>\n",
       "  <tbody>\n",
       "    <tr>\n",
       "      <th>0</th>\n",
       "      <td>Covid.gov</td>\n",
       "      <td>1.0</td>\n",
       "      <td>0.0</td>\n",
       "      <td>0.0</td>\n",
       "    </tr>\n",
       "    <tr>\n",
       "      <th>1</th>\n",
       "      <td>Drugs.com</td>\n",
       "      <td>1.0</td>\n",
       "      <td>0.0</td>\n",
       "      <td>0.0</td>\n",
       "    </tr>\n",
       "    <tr>\n",
       "      <th>2</th>\n",
       "      <td>News-Medical.net</td>\n",
       "      <td>1.0</td>\n",
       "      <td>0.0</td>\n",
       "      <td>0.0</td>\n",
       "    </tr>\n",
       "    <tr>\n",
       "      <th>3</th>\n",
       "      <td>SciTechDaily.com</td>\n",
       "      <td>1.0</td>\n",
       "      <td>0.0</td>\n",
       "      <td>0.0</td>\n",
       "    </tr>\n",
       "    <tr>\n",
       "      <th>4</th>\n",
       "      <td>aaas.org</td>\n",
       "      <td>1.0</td>\n",
       "      <td>0.0</td>\n",
       "      <td>0.0</td>\n",
       "    </tr>\n",
       "  </tbody>\n",
       "</table>\n",
       "</div>"
      ],
      "text/plain": [
       "             domain  mediabias_proscience  mediabias_questionblesources  \\\n",
       "0         Covid.gov                   1.0                           0.0   \n",
       "1         Drugs.com                   1.0                           0.0   \n",
       "2  News-Medical.net                   1.0                           0.0   \n",
       "3  SciTechDaily.com                   1.0                           0.0   \n",
       "4          aaas.org                   1.0                           0.0   \n",
       "\n",
       "   mediabias_conspiracy_psydoscience  \n",
       "0                                0.0  \n",
       "1                                0.0  \n",
       "2                                0.0  \n",
       "3                                0.0  \n",
       "4                                0.0  "
      ]
     },
     "execution_count": 3,
     "metadata": {},
     "output_type": "execute_result"
    }
   ],
   "source": [
    "print('Shape: ', df_domains_pro_and_anti_science.shape)\n",
    "df_domains_pro_and_anti_science.head()"
   ]
  },
  {
   "cell_type": "code",
   "execution_count": 4,
   "id": "fd8cb2ba",
   "metadata": {},
   "outputs": [
    {
     "name": "stdout",
     "output_type": "stream",
     "text": [
      "Shape:  (150, 4)\n"
     ]
    },
    {
     "data": {
      "text/html": [
       "<div>\n",
       "<style scoped>\n",
       "    .dataframe tbody tr th:only-of-type {\n",
       "        vertical-align: middle;\n",
       "    }\n",
       "\n",
       "    .dataframe tbody tr th {\n",
       "        vertical-align: top;\n",
       "    }\n",
       "\n",
       "    .dataframe thead th {\n",
       "        text-align: right;\n",
       "    }\n",
       "</style>\n",
       "<table border=\"1\" class=\"dataframe\">\n",
       "  <thead>\n",
       "    <tr style=\"text-align: right;\">\n",
       "      <th></th>\n",
       "      <th>domain</th>\n",
       "      <th>mediabias_proscience</th>\n",
       "      <th>mediabias_questionblesources</th>\n",
       "      <th>mediabias_conspiracy_psydoscience</th>\n",
       "    </tr>\n",
       "  </thead>\n",
       "  <tbody>\n",
       "    <tr>\n",
       "      <th>0</th>\n",
       "      <td>Covid.gov</td>\n",
       "      <td>1.0</td>\n",
       "      <td>0.0</td>\n",
       "      <td>0.0</td>\n",
       "    </tr>\n",
       "    <tr>\n",
       "      <th>1</th>\n",
       "      <td>Drugs.com</td>\n",
       "      <td>1.0</td>\n",
       "      <td>0.0</td>\n",
       "      <td>0.0</td>\n",
       "    </tr>\n",
       "    <tr>\n",
       "      <th>2</th>\n",
       "      <td>News-Medical.net</td>\n",
       "      <td>1.0</td>\n",
       "      <td>0.0</td>\n",
       "      <td>0.0</td>\n",
       "    </tr>\n",
       "    <tr>\n",
       "      <th>3</th>\n",
       "      <td>SciTechDaily.com</td>\n",
       "      <td>1.0</td>\n",
       "      <td>0.0</td>\n",
       "      <td>0.0</td>\n",
       "    </tr>\n",
       "    <tr>\n",
       "      <th>4</th>\n",
       "      <td>aaas.org</td>\n",
       "      <td>1.0</td>\n",
       "      <td>0.0</td>\n",
       "      <td>0.0</td>\n",
       "    </tr>\n",
       "  </tbody>\n",
       "</table>\n",
       "</div>"
      ],
      "text/plain": [
       "             domain  mediabias_proscience  mediabias_questionblesources  \\\n",
       "0         Covid.gov                   1.0                           0.0   \n",
       "1         Drugs.com                   1.0                           0.0   \n",
       "2  News-Medical.net                   1.0                           0.0   \n",
       "3  SciTechDaily.com                   1.0                           0.0   \n",
       "4          aaas.org                   1.0                           0.0   \n",
       "\n",
       "   mediabias_conspiracy_psydoscience  \n",
       "0                                0.0  \n",
       "1                                0.0  \n",
       "2                                0.0  \n",
       "3                                0.0  \n",
       "4                                0.0  "
      ]
     },
     "execution_count": 4,
     "metadata": {},
     "output_type": "execute_result"
    }
   ],
   "source": [
    "df_proscience_domains = df_domains_pro_and_anti_science[df_domains_pro_and_anti_science['mediabias_proscience'] == 1]\n",
    "\n",
    "print('Shape: ', df_proscience_domains.shape)\n",
    "df_proscience_domains.head()"
   ]
  },
  {
   "cell_type": "code",
   "execution_count": 5,
   "id": "e4fd3099",
   "metadata": {},
   "outputs": [
    {
     "data": {
      "text/plain": [
       "150"
      ]
     },
     "execution_count": 5,
     "metadata": {},
     "output_type": "execute_result"
    }
   ],
   "source": [
    "list_proscience_domains = df_proscience_domains.domain.tolist()\n",
    "len(list_proscience_domains)"
   ]
  },
  {
   "cell_type": "markdown",
   "id": "c215a9a0",
   "metadata": {},
   "source": [
    "***"
   ]
  },
  {
   "cell_type": "markdown",
   "id": "5edafb48",
   "metadata": {},
   "source": [
    "## Anti_science"
   ]
  },
  {
   "cell_type": "markdown",
   "id": "e7fb2978",
   "metadata": {},
   "source": [
    "***"
   ]
  },
  {
   "cell_type": "code",
   "execution_count": 6,
   "id": "87c7ba33",
   "metadata": {},
   "outputs": [
    {
     "name": "stdout",
     "output_type": "stream",
     "text": [
      "Shape:  (908, 4)\n"
     ]
    },
    {
     "data": {
      "text/html": [
       "<div>\n",
       "<style scoped>\n",
       "    .dataframe tbody tr th:only-of-type {\n",
       "        vertical-align: middle;\n",
       "    }\n",
       "\n",
       "    .dataframe tbody tr th {\n",
       "        vertical-align: top;\n",
       "    }\n",
       "\n",
       "    .dataframe thead th {\n",
       "        text-align: right;\n",
       "    }\n",
       "</style>\n",
       "<table border=\"1\" class=\"dataframe\">\n",
       "  <thead>\n",
       "    <tr style=\"text-align: right;\">\n",
       "      <th></th>\n",
       "      <th>domain</th>\n",
       "      <th>mediabias_proscience</th>\n",
       "      <th>mediabias_questionblesources</th>\n",
       "      <th>mediabias_conspiracy_psydoscience</th>\n",
       "    </tr>\n",
       "  </thead>\n",
       "  <tbody>\n",
       "    <tr>\n",
       "      <th>150</th>\n",
       "      <td>100percentfedup.com</td>\n",
       "      <td>0.0</td>\n",
       "      <td>1.0</td>\n",
       "      <td>0.0</td>\n",
       "    </tr>\n",
       "    <tr>\n",
       "      <th>151</th>\n",
       "      <td>12minutos.com</td>\n",
       "      <td>0.0</td>\n",
       "      <td>1.0</td>\n",
       "      <td>0.0</td>\n",
       "    </tr>\n",
       "    <tr>\n",
       "      <th>152</th>\n",
       "      <td>2020conservative.com</td>\n",
       "      <td>0.0</td>\n",
       "      <td>1.0</td>\n",
       "      <td>0.0</td>\n",
       "    </tr>\n",
       "    <tr>\n",
       "      <th>153</th>\n",
       "      <td>24Jours.com</td>\n",
       "      <td>0.0</td>\n",
       "      <td>1.0</td>\n",
       "      <td>0.0</td>\n",
       "    </tr>\n",
       "    <tr>\n",
       "      <th>154</th>\n",
       "      <td>4Chan.org</td>\n",
       "      <td>0.0</td>\n",
       "      <td>1.0</td>\n",
       "      <td>0.0</td>\n",
       "    </tr>\n",
       "  </tbody>\n",
       "</table>\n",
       "</div>"
      ],
      "text/plain": [
       "                   domain  mediabias_proscience  mediabias_questionblesources  \\\n",
       "150   100percentfedup.com                   0.0                           1.0   \n",
       "151         12minutos.com                   0.0                           1.0   \n",
       "152  2020conservative.com                   0.0                           1.0   \n",
       "153           24Jours.com                   0.0                           1.0   \n",
       "154             4Chan.org                   0.0                           1.0   \n",
       "\n",
       "     mediabias_conspiracy_psydoscience  \n",
       "150                                0.0  \n",
       "151                                0.0  \n",
       "152                                0.0  \n",
       "153                                0.0  \n",
       "154                                0.0  "
      ]
     },
     "execution_count": 6,
     "metadata": {},
     "output_type": "execute_result"
    }
   ],
   "source": [
    "df_domains_questionblesources = df_domains_pro_and_anti_science[df_domains_pro_and_anti_science['mediabias_questionblesources'] == 1]\n",
    "\n",
    "print('Shape: ', df_domains_questionblesources.shape)\n",
    "df_domains_questionblesources.head()"
   ]
  },
  {
   "cell_type": "code",
   "execution_count": 7,
   "id": "97721e65",
   "metadata": {},
   "outputs": [],
   "source": [
    "list_domains_questionblesources = df_domains_questionblesources.domain.tolist()"
   ]
  },
  {
   "cell_type": "code",
   "execution_count": 8,
   "id": "b48b3eb4",
   "metadata": {},
   "outputs": [
    {
     "name": "stdout",
     "output_type": "stream",
     "text": [
      "Shape:  (337, 4)\n"
     ]
    },
    {
     "data": {
      "text/html": [
       "<div>\n",
       "<style scoped>\n",
       "    .dataframe tbody tr th:only-of-type {\n",
       "        vertical-align: middle;\n",
       "    }\n",
       "\n",
       "    .dataframe tbody tr th {\n",
       "        vertical-align: top;\n",
       "    }\n",
       "\n",
       "    .dataframe thead th {\n",
       "        text-align: right;\n",
       "    }\n",
       "</style>\n",
       "<table border=\"1\" class=\"dataframe\">\n",
       "  <thead>\n",
       "    <tr style=\"text-align: right;\">\n",
       "      <th></th>\n",
       "      <th>domain</th>\n",
       "      <th>mediabias_proscience</th>\n",
       "      <th>mediabias_questionblesources</th>\n",
       "      <th>mediabias_conspiracy_psydoscience</th>\n",
       "    </tr>\n",
       "  </thead>\n",
       "  <tbody>\n",
       "    <tr>\n",
       "      <th>1058</th>\n",
       "      <td>2020ElectionCenter.com</td>\n",
       "      <td>0.0</td>\n",
       "      <td>0.0</td>\n",
       "      <td>1.0</td>\n",
       "    </tr>\n",
       "    <tr>\n",
       "      <th>1059</th>\n",
       "      <td>21stcenturywire.com</td>\n",
       "      <td>0.0</td>\n",
       "      <td>0.0</td>\n",
       "      <td>1.0</td>\n",
       "    </tr>\n",
       "    <tr>\n",
       "      <th>1060</th>\n",
       "      <td>369news.net</td>\n",
       "      <td>0.0</td>\n",
       "      <td>0.0</td>\n",
       "      <td>1.0</td>\n",
       "    </tr>\n",
       "    <tr>\n",
       "      <th>1061</th>\n",
       "      <td>79Days.News</td>\n",
       "      <td>0.0</td>\n",
       "      <td>0.0</td>\n",
       "      <td>1.0</td>\n",
       "    </tr>\n",
       "    <tr>\n",
       "      <th>1062</th>\n",
       "      <td>911truth.org</td>\n",
       "      <td>0.0</td>\n",
       "      <td>0.0</td>\n",
       "      <td>1.0</td>\n",
       "    </tr>\n",
       "  </tbody>\n",
       "</table>\n",
       "</div>"
      ],
      "text/plain": [
       "                      domain  mediabias_proscience  \\\n",
       "1058  2020ElectionCenter.com                   0.0   \n",
       "1059     21stcenturywire.com                   0.0   \n",
       "1060             369news.net                   0.0   \n",
       "1061             79Days.News                   0.0   \n",
       "1062            911truth.org                   0.0   \n",
       "\n",
       "      mediabias_questionblesources  mediabias_conspiracy_psydoscience  \n",
       "1058                           0.0                                1.0  \n",
       "1059                           0.0                                1.0  \n",
       "1060                           0.0                                1.0  \n",
       "1061                           0.0                                1.0  \n",
       "1062                           0.0                                1.0  "
      ]
     },
     "execution_count": 8,
     "metadata": {},
     "output_type": "execute_result"
    }
   ],
   "source": [
    "df_domains_conspiracy_psydoscience = df_domains_pro_and_anti_science[df_domains_pro_and_anti_science['mediabias_conspiracy_psydoscience'] == 1]\n",
    "\n",
    "print('Shape: ', df_domains_conspiracy_psydoscience.shape)\n",
    "df_domains_conspiracy_psydoscience.head()"
   ]
  },
  {
   "cell_type": "code",
   "execution_count": 9,
   "id": "7da93543",
   "metadata": {},
   "outputs": [],
   "source": [
    "list_domains_conspiracy_psydoscience = df_domains_conspiracy_psydoscience.domain.tolist()"
   ]
  },
  {
   "cell_type": "code",
   "execution_count": 10,
   "id": "fdae9386",
   "metadata": {},
   "outputs": [
    {
     "data": {
      "text/plain": [
       "1245"
      ]
     },
     "execution_count": 10,
     "metadata": {},
     "output_type": "execute_result"
    }
   ],
   "source": [
    "list_antiscience_domains = []\n",
    "list_antiscience_domains.extend(list_domains_conspiracy_psydoscience)\n",
    "list_antiscience_domains.extend(list_domains_questionblesources)\n",
    "len(list_antiscience_domains)"
   ]
  },
  {
   "cell_type": "markdown",
   "id": "671c9eda",
   "metadata": {},
   "source": [
    "## Polarisierungen berechnen\n",
    "### TweetsCov19\n",
    "### User Polarisation"
   ]
  },
  {
   "cell_type": "markdown",
   "id": "7c900d28",
   "metadata": {},
   "source": [
    "---"
   ]
  },
  {
   "cell_type": "code",
   "execution_count": 11,
   "id": "07fbc657",
   "metadata": {},
   "outputs": [
    {
     "name": "stdout",
     "output_type": "stream",
     "text": [
      "Shape : (9409841, 4)\n"
     ]
    },
    {
     "data": {
      "text/html": [
       "<div>\n",
       "<style scoped>\n",
       "    .dataframe tbody tr th:only-of-type {\n",
       "        vertical-align: middle;\n",
       "    }\n",
       "\n",
       "    .dataframe tbody tr th {\n",
       "        vertical-align: top;\n",
       "    }\n",
       "\n",
       "    .dataframe thead th {\n",
       "        text-align: right;\n",
       "    }\n",
       "</style>\n",
       "<table border=\"1\" class=\"dataframe\">\n",
       "  <thead>\n",
       "    <tr style=\"text-align: right;\">\n",
       "      <th></th>\n",
       "      <th>Tweet_Id</th>\n",
       "      <th>Username</th>\n",
       "      <th>Is_deleted</th>\n",
       "      <th>Domains</th>\n",
       "    </tr>\n",
       "  </thead>\n",
       "  <tbody>\n",
       "    <tr>\n",
       "      <th>0</th>\n",
       "      <td>1178791637348212736</td>\n",
       "      <td>c57d4fb895c5f4a33d2a2b24709f93b5</td>\n",
       "      <td>True</td>\n",
       "      <td>0</td>\n",
       "    </tr>\n",
       "    <tr>\n",
       "      <th>1</th>\n",
       "      <td>1178791641601232896</td>\n",
       "      <td>627f7d4ef584ba33a676a4ebcb861cdb</td>\n",
       "      <td>False</td>\n",
       "      <td>catholicnewsagency.com</td>\n",
       "    </tr>\n",
       "    <tr>\n",
       "      <th>2</th>\n",
       "      <td>1178791643509612547</td>\n",
       "      <td>7966d5716c1c4f33591b17755184e3d6</td>\n",
       "      <td>False</td>\n",
       "      <td>0</td>\n",
       "    </tr>\n",
       "    <tr>\n",
       "      <th>3</th>\n",
       "      <td>1178791644214235137</td>\n",
       "      <td>f17996c036ed4cd981f5448fe00d9ed2</td>\n",
       "      <td>False</td>\n",
       "      <td>0</td>\n",
       "    </tr>\n",
       "    <tr>\n",
       "      <th>4</th>\n",
       "      <td>1178791645371875329</td>\n",
       "      <td>32a54e5f6d8a67de1bffd2e689594dc8</td>\n",
       "      <td>False</td>\n",
       "      <td>0</td>\n",
       "    </tr>\n",
       "  </tbody>\n",
       "</table>\n",
       "</div>"
      ],
      "text/plain": [
       "              Tweet_Id                          Username  Is_deleted  \\\n",
       "0  1178791637348212736  c57d4fb895c5f4a33d2a2b24709f93b5        True   \n",
       "1  1178791641601232896  627f7d4ef584ba33a676a4ebcb861cdb       False   \n",
       "2  1178791643509612547  7966d5716c1c4f33591b17755184e3d6       False   \n",
       "3  1178791644214235137  f17996c036ed4cd981f5448fe00d9ed2       False   \n",
       "4  1178791645371875329  32a54e5f6d8a67de1bffd2e689594dc8       False   \n",
       "\n",
       "                  Domains  \n",
       "0                       0  \n",
       "1  catholicnewsagency.com  \n",
       "2                       0  \n",
       "3                       0  \n",
       "4                       0  "
      ]
     },
     "execution_count": 11,
     "metadata": {},
     "output_type": "execute_result"
    }
   ],
   "source": [
    "path = '../data/tweetscov19_id_isdeleted_domains.tsv'\n",
    "\n",
    "df_tweetscov19 = pd.read_csv(path, sep='\\t', error_bad_lines=False, names=['Tweet_Id', 'Username' ,'Is_deleted', 'Domains'])\n",
    "\n",
    "print('Shape :', df_tweetscov19.shape)\n",
    "df_tweetscov19.head()"
   ]
  },
  {
   "cell_type": "code",
   "execution_count": 12,
   "id": "3cb3e7fc",
   "metadata": {},
   "outputs": [],
   "source": [
    "def get_number_of_antiscience_domains(domains):\n",
    "    domains_list = domains.split()\n",
    "    score = 0\n",
    "    for i in range(0, len(domains_list)):\n",
    "        \n",
    "        #d = tldextract.extract(domains_list[i])\n",
    "        #d = d.domain          \n",
    "        d = domains_list[i]\n",
    "        \n",
    "        if d in list_antiscience_domains:\n",
    "            score -=  1\n",
    "        \n",
    "    return score"
   ]
  },
  {
   "cell_type": "markdown",
   "id": "7f0953df",
   "metadata": {},
   "source": [
    "- Calculation of antiscience domains"
   ]
  },
  {
   "cell_type": "code",
   "execution_count": 13,
   "id": "ae558792",
   "metadata": {},
   "outputs": [],
   "source": [
    "df_tweetscov19['Domains'] = df_tweetscov19['Domains'].astype(str)\n",
    "\n",
    "df_tweetscov19['number_of_antisciens_domains'] = df_tweetscov19.apply(lambda row: get_number_of_antiscience_domains(row['Domains']) if (row['Domains'] != '0') else 0, axis=1)"
   ]
  },
  {
   "cell_type": "code",
   "execution_count": 14,
   "id": "0990d023",
   "metadata": {},
   "outputs": [
    {
     "data": {
      "text/html": [
       "<div>\n",
       "<style scoped>\n",
       "    .dataframe tbody tr th:only-of-type {\n",
       "        vertical-align: middle;\n",
       "    }\n",
       "\n",
       "    .dataframe tbody tr th {\n",
       "        vertical-align: top;\n",
       "    }\n",
       "\n",
       "    .dataframe thead th {\n",
       "        text-align: right;\n",
       "    }\n",
       "</style>\n",
       "<table border=\"1\" class=\"dataframe\">\n",
       "  <thead>\n",
       "    <tr style=\"text-align: right;\">\n",
       "      <th></th>\n",
       "      <th>Tweet_Id</th>\n",
       "      <th>Username</th>\n",
       "      <th>Is_deleted</th>\n",
       "      <th>Domains</th>\n",
       "      <th>number_of_antisciens_domains</th>\n",
       "    </tr>\n",
       "  </thead>\n",
       "  <tbody>\n",
       "    <tr>\n",
       "      <th>0</th>\n",
       "      <td>1178791637348212736</td>\n",
       "      <td>c57d4fb895c5f4a33d2a2b24709f93b5</td>\n",
       "      <td>True</td>\n",
       "      <td>0</td>\n",
       "      <td>0</td>\n",
       "    </tr>\n",
       "    <tr>\n",
       "      <th>1</th>\n",
       "      <td>1178791641601232896</td>\n",
       "      <td>627f7d4ef584ba33a676a4ebcb861cdb</td>\n",
       "      <td>False</td>\n",
       "      <td>catholicnewsagency.com</td>\n",
       "      <td>0</td>\n",
       "    </tr>\n",
       "    <tr>\n",
       "      <th>2</th>\n",
       "      <td>1178791643509612547</td>\n",
       "      <td>7966d5716c1c4f33591b17755184e3d6</td>\n",
       "      <td>False</td>\n",
       "      <td>0</td>\n",
       "      <td>0</td>\n",
       "    </tr>\n",
       "    <tr>\n",
       "      <th>3</th>\n",
       "      <td>1178791644214235137</td>\n",
       "      <td>f17996c036ed4cd981f5448fe00d9ed2</td>\n",
       "      <td>False</td>\n",
       "      <td>0</td>\n",
       "      <td>0</td>\n",
       "    </tr>\n",
       "    <tr>\n",
       "      <th>4</th>\n",
       "      <td>1178791645371875329</td>\n",
       "      <td>32a54e5f6d8a67de1bffd2e689594dc8</td>\n",
       "      <td>False</td>\n",
       "      <td>0</td>\n",
       "      <td>0</td>\n",
       "    </tr>\n",
       "  </tbody>\n",
       "</table>\n",
       "</div>"
      ],
      "text/plain": [
       "              Tweet_Id                          Username  Is_deleted  \\\n",
       "0  1178791637348212736  c57d4fb895c5f4a33d2a2b24709f93b5        True   \n",
       "1  1178791641601232896  627f7d4ef584ba33a676a4ebcb861cdb       False   \n",
       "2  1178791643509612547  7966d5716c1c4f33591b17755184e3d6       False   \n",
       "3  1178791644214235137  f17996c036ed4cd981f5448fe00d9ed2       False   \n",
       "4  1178791645371875329  32a54e5f6d8a67de1bffd2e689594dc8       False   \n",
       "\n",
       "                  Domains  number_of_antisciens_domains  \n",
       "0                       0                             0  \n",
       "1  catholicnewsagency.com                             0  \n",
       "2                       0                             0  \n",
       "3                       0                             0  \n",
       "4                       0                             0  "
      ]
     },
     "execution_count": 14,
     "metadata": {},
     "output_type": "execute_result"
    }
   ],
   "source": [
    "df_tweetscov19.head()"
   ]
  },
  {
   "cell_type": "code",
   "execution_count": 15,
   "id": "929329d4",
   "metadata": {},
   "outputs": [
    {
     "name": "stdout",
     "output_type": "stream",
     "text": [
      "Number of tweets with at least one antiscience Domain:  113408\n"
     ]
    }
   ],
   "source": [
    "tweets_with_antiscience_domains = df_tweetscov19[df_tweetscov19['number_of_antisciens_domains'] < 0].shape\n",
    "\n",
    "print('Number of tweets with at least one antiscience Domain: ', tweets_with_antiscience_domains[0])"
   ]
  },
  {
   "cell_type": "code",
   "execution_count": 16,
   "id": "1b5e497d",
   "metadata": {},
   "outputs": [],
   "source": [
    "def get_number_of_proscience_domains(domains):\n",
    "    domains_list = domains.split()\n",
    "    score = 0\n",
    "    for i in range(0, len(domains_list)):\n",
    "        \n",
    "        #d = tldextract.extract(domains_list[i])\n",
    "        #d = d.domain\n",
    "       \n",
    "            \n",
    "        d = domains_list[i]\n",
    "        if d in list_proscience_domains:\n",
    "            score +=  1\n",
    "        \n",
    "    return score"
   ]
  },
  {
   "cell_type": "markdown",
   "id": "afa6936b",
   "metadata": {},
   "source": [
    "- Calculation of peroscience domains"
   ]
  },
  {
   "cell_type": "code",
   "execution_count": 17,
   "id": "f0bbb3ce",
   "metadata": {},
   "outputs": [],
   "source": [
    "df_tweetscov19['number_of_prosciens_domains'] = df_tweetscov19.apply(lambda row: get_number_of_proscience_domains(row['Domains']) if (row['Domains'] != '0') else 0, axis=1)"
   ]
  },
  {
   "cell_type": "code",
   "execution_count": 18,
   "id": "5996a6e6",
   "metadata": {},
   "outputs": [
    {
     "data": {
      "text/html": [
       "<div>\n",
       "<style scoped>\n",
       "    .dataframe tbody tr th:only-of-type {\n",
       "        vertical-align: middle;\n",
       "    }\n",
       "\n",
       "    .dataframe tbody tr th {\n",
       "        vertical-align: top;\n",
       "    }\n",
       "\n",
       "    .dataframe thead th {\n",
       "        text-align: right;\n",
       "    }\n",
       "</style>\n",
       "<table border=\"1\" class=\"dataframe\">\n",
       "  <thead>\n",
       "    <tr style=\"text-align: right;\">\n",
       "      <th></th>\n",
       "      <th>Tweet_Id</th>\n",
       "      <th>Username</th>\n",
       "      <th>Is_deleted</th>\n",
       "      <th>Domains</th>\n",
       "      <th>number_of_antisciens_domains</th>\n",
       "      <th>number_of_prosciens_domains</th>\n",
       "    </tr>\n",
       "  </thead>\n",
       "  <tbody>\n",
       "    <tr>\n",
       "      <th>0</th>\n",
       "      <td>1178791637348212736</td>\n",
       "      <td>c57d4fb895c5f4a33d2a2b24709f93b5</td>\n",
       "      <td>True</td>\n",
       "      <td>0</td>\n",
       "      <td>0</td>\n",
       "      <td>0</td>\n",
       "    </tr>\n",
       "    <tr>\n",
       "      <th>1</th>\n",
       "      <td>1178791641601232896</td>\n",
       "      <td>627f7d4ef584ba33a676a4ebcb861cdb</td>\n",
       "      <td>False</td>\n",
       "      <td>catholicnewsagency.com</td>\n",
       "      <td>0</td>\n",
       "      <td>0</td>\n",
       "    </tr>\n",
       "    <tr>\n",
       "      <th>2</th>\n",
       "      <td>1178791643509612547</td>\n",
       "      <td>7966d5716c1c4f33591b17755184e3d6</td>\n",
       "      <td>False</td>\n",
       "      <td>0</td>\n",
       "      <td>0</td>\n",
       "      <td>0</td>\n",
       "    </tr>\n",
       "    <tr>\n",
       "      <th>3</th>\n",
       "      <td>1178791644214235137</td>\n",
       "      <td>f17996c036ed4cd981f5448fe00d9ed2</td>\n",
       "      <td>False</td>\n",
       "      <td>0</td>\n",
       "      <td>0</td>\n",
       "      <td>0</td>\n",
       "    </tr>\n",
       "    <tr>\n",
       "      <th>4</th>\n",
       "      <td>1178791645371875329</td>\n",
       "      <td>32a54e5f6d8a67de1bffd2e689594dc8</td>\n",
       "      <td>False</td>\n",
       "      <td>0</td>\n",
       "      <td>0</td>\n",
       "      <td>0</td>\n",
       "    </tr>\n",
       "  </tbody>\n",
       "</table>\n",
       "</div>"
      ],
      "text/plain": [
       "              Tweet_Id                          Username  Is_deleted  \\\n",
       "0  1178791637348212736  c57d4fb895c5f4a33d2a2b24709f93b5        True   \n",
       "1  1178791641601232896  627f7d4ef584ba33a676a4ebcb861cdb       False   \n",
       "2  1178791643509612547  7966d5716c1c4f33591b17755184e3d6       False   \n",
       "3  1178791644214235137  f17996c036ed4cd981f5448fe00d9ed2       False   \n",
       "4  1178791645371875329  32a54e5f6d8a67de1bffd2e689594dc8       False   \n",
       "\n",
       "                  Domains  number_of_antisciens_domains  \\\n",
       "0                       0                             0   \n",
       "1  catholicnewsagency.com                             0   \n",
       "2                       0                             0   \n",
       "3                       0                             0   \n",
       "4                       0                             0   \n",
       "\n",
       "   number_of_prosciens_domains  \n",
       "0                            0  \n",
       "1                            0  \n",
       "2                            0  \n",
       "3                            0  \n",
       "4                            0  "
      ]
     },
     "execution_count": 18,
     "metadata": {},
     "output_type": "execute_result"
    }
   ],
   "source": [
    "df_tweetscov19.head()"
   ]
  },
  {
   "cell_type": "code",
   "execution_count": 19,
   "id": "2d37c01b",
   "metadata": {},
   "outputs": [
    {
     "name": "stdout",
     "output_type": "stream",
     "text": [
      "Number of tweets with at least one proscience domain:  34962\n"
     ]
    }
   ],
   "source": [
    "tweets_with_proscience_domains = df_tweetscov19[df_tweetscov19['number_of_prosciens_domains'] > 0].shape\n",
    "\n",
    "print('Number of tweets with at least one proscience domain: ', tweets_with_proscience_domains[0])"
   ]
  },
  {
   "cell_type": "markdown",
   "id": "312c255a",
   "metadata": {},
   "source": [
    "- Groupby user"
   ]
  },
  {
   "cell_type": "code",
   "execution_count": 20,
   "id": "61021db8",
   "metadata": {},
   "outputs": [
    {
     "name": "stderr",
     "output_type": "stream",
     "text": [
      "<ipython-input-20-5a729d8510a2>:1: FutureWarning: Indexing with multiple keys (implicitly converted to a tuple of keys) will be deprecated, use a list instead.\n",
      "  df_tweetscov19_unique_user = df_tweetscov19.groupby('Username')[ 'number_of_antisciens_domains', 'number_of_prosciens_domains'].sum()\n"
     ]
    }
   ],
   "source": [
    "\n",
    "df_tweetscov19_unique_user = df_tweetscov19.groupby('Username')[ 'number_of_antisciens_domains', 'number_of_prosciens_domains'].sum()"
   ]
  },
  {
   "cell_type": "code",
   "execution_count": 21,
   "id": "b8047044",
   "metadata": {},
   "outputs": [
    {
     "name": "stdout",
     "output_type": "stream",
     "text": [
      "Number of unique users in TweetsCOV19:  4095876\n"
     ]
    }
   ],
   "source": [
    "number_of_unique_useres = df_tweetscov19_unique_user.shape\n",
    "\n",
    "print('Number of unique users in TweetsCOV19: ', number_of_unique_useres[0])"
   ]
  },
  {
   "cell_type": "code",
   "execution_count": 22,
   "id": "fcd94807",
   "metadata": {},
   "outputs": [
    {
     "data": {
      "text/html": [
       "<div>\n",
       "<style scoped>\n",
       "    .dataframe tbody tr th:only-of-type {\n",
       "        vertical-align: middle;\n",
       "    }\n",
       "\n",
       "    .dataframe tbody tr th {\n",
       "        vertical-align: top;\n",
       "    }\n",
       "\n",
       "    .dataframe thead th {\n",
       "        text-align: right;\n",
       "    }\n",
       "</style>\n",
       "<table border=\"1\" class=\"dataframe\">\n",
       "  <thead>\n",
       "    <tr style=\"text-align: right;\">\n",
       "      <th></th>\n",
       "      <th>number_of_antisciens_domains</th>\n",
       "      <th>number_of_prosciens_domains</th>\n",
       "    </tr>\n",
       "    <tr>\n",
       "      <th>Username</th>\n",
       "      <th></th>\n",
       "      <th></th>\n",
       "    </tr>\n",
       "  </thead>\n",
       "  <tbody>\n",
       "    <tr>\n",
       "      <th>0002eb2aff20e181397afe8cdebdd395</th>\n",
       "      <td>0</td>\n",
       "      <td>1</td>\n",
       "    </tr>\n",
       "    <tr>\n",
       "      <th>0006a238065c3acb128041e666b58f07</th>\n",
       "      <td>0</td>\n",
       "      <td>2</td>\n",
       "    </tr>\n",
       "    <tr>\n",
       "      <th>0008667130fe3776676804ff59e8ce3b</th>\n",
       "      <td>0</td>\n",
       "      <td>3</td>\n",
       "    </tr>\n",
       "    <tr>\n",
       "      <th>000d4b29789dbf222f58a0b29a63b0e1</th>\n",
       "      <td>0</td>\n",
       "      <td>1</td>\n",
       "    </tr>\n",
       "    <tr>\n",
       "      <th>000e3562755686866515f367bb4d457b</th>\n",
       "      <td>0</td>\n",
       "      <td>1</td>\n",
       "    </tr>\n",
       "  </tbody>\n",
       "</table>\n",
       "</div>"
      ],
      "text/plain": [
       "                                  number_of_antisciens_domains  \\\n",
       "Username                                                         \n",
       "0002eb2aff20e181397afe8cdebdd395                             0   \n",
       "0006a238065c3acb128041e666b58f07                             0   \n",
       "0008667130fe3776676804ff59e8ce3b                             0   \n",
       "000d4b29789dbf222f58a0b29a63b0e1                             0   \n",
       "000e3562755686866515f367bb4d457b                             0   \n",
       "\n",
       "                                  number_of_prosciens_domains  \n",
       "Username                                                       \n",
       "0002eb2aff20e181397afe8cdebdd395                            1  \n",
       "0006a238065c3acb128041e666b58f07                            2  \n",
       "0008667130fe3776676804ff59e8ce3b                            3  \n",
       "000d4b29789dbf222f58a0b29a63b0e1                            1  \n",
       "000e3562755686866515f367bb4d457b                            1  "
      ]
     },
     "execution_count": 22,
     "metadata": {},
     "output_type": "execute_result"
    }
   ],
   "source": [
    "df_tweetscov19_unique_user[df_tweetscov19_unique_user['number_of_prosciens_domains']>0].head()"
   ]
  },
  {
   "cell_type": "code",
   "execution_count": 23,
   "id": "0480020e",
   "metadata": {},
   "outputs": [],
   "source": [
    "df_tweetscov19_unique_user['Sum_polarized_domains'] = df_tweetscov19_unique_user.apply(lambda row:  (row['number_of_prosciens_domains'] - row['number_of_antisciens_domains']), axis=1)"
   ]
  },
  {
   "cell_type": "code",
   "execution_count": 24,
   "id": "d7409983",
   "metadata": {},
   "outputs": [
    {
     "data": {
      "text/html": [
       "<div>\n",
       "<style scoped>\n",
       "    .dataframe tbody tr th:only-of-type {\n",
       "        vertical-align: middle;\n",
       "    }\n",
       "\n",
       "    .dataframe tbody tr th {\n",
       "        vertical-align: top;\n",
       "    }\n",
       "\n",
       "    .dataframe thead th {\n",
       "        text-align: right;\n",
       "    }\n",
       "</style>\n",
       "<table border=\"1\" class=\"dataframe\">\n",
       "  <thead>\n",
       "    <tr style=\"text-align: right;\">\n",
       "      <th></th>\n",
       "      <th>number_of_antisciens_domains</th>\n",
       "      <th>number_of_prosciens_domains</th>\n",
       "      <th>Sum_polarized_domains</th>\n",
       "    </tr>\n",
       "    <tr>\n",
       "      <th>Username</th>\n",
       "      <th></th>\n",
       "      <th></th>\n",
       "      <th></th>\n",
       "    </tr>\n",
       "  </thead>\n",
       "  <tbody>\n",
       "    <tr>\n",
       "      <th>000238f324f5063164908c27a7f310cd</th>\n",
       "      <td>-1</td>\n",
       "      <td>0</td>\n",
       "      <td>1</td>\n",
       "    </tr>\n",
       "    <tr>\n",
       "      <th>00065a00b971b5e1629d504e0ddf2da0</th>\n",
       "      <td>-3</td>\n",
       "      <td>0</td>\n",
       "      <td>3</td>\n",
       "    </tr>\n",
       "    <tr>\n",
       "      <th>000795932bf3bc3ab05b5efc1b07104b</th>\n",
       "      <td>-1</td>\n",
       "      <td>0</td>\n",
       "      <td>1</td>\n",
       "    </tr>\n",
       "    <tr>\n",
       "      <th>00084b153bbf7f4a8c1df3b638e07765</th>\n",
       "      <td>-8</td>\n",
       "      <td>0</td>\n",
       "      <td>8</td>\n",
       "    </tr>\n",
       "    <tr>\n",
       "      <th>00098f7374d9ea6b43df2c97931ecf01</th>\n",
       "      <td>-1</td>\n",
       "      <td>0</td>\n",
       "      <td>1</td>\n",
       "    </tr>\n",
       "  </tbody>\n",
       "</table>\n",
       "</div>"
      ],
      "text/plain": [
       "                                  number_of_antisciens_domains  \\\n",
       "Username                                                         \n",
       "000238f324f5063164908c27a7f310cd                            -1   \n",
       "00065a00b971b5e1629d504e0ddf2da0                            -3   \n",
       "000795932bf3bc3ab05b5efc1b07104b                            -1   \n",
       "00084b153bbf7f4a8c1df3b638e07765                            -8   \n",
       "00098f7374d9ea6b43df2c97931ecf01                            -1   \n",
       "\n",
       "                                  number_of_prosciens_domains  \\\n",
       "Username                                                        \n",
       "000238f324f5063164908c27a7f310cd                            0   \n",
       "00065a00b971b5e1629d504e0ddf2da0                            0   \n",
       "000795932bf3bc3ab05b5efc1b07104b                            0   \n",
       "00084b153bbf7f4a8c1df3b638e07765                            0   \n",
       "00098f7374d9ea6b43df2c97931ecf01                            0   \n",
       "\n",
       "                                  Sum_polarized_domains  \n",
       "Username                                                 \n",
       "000238f324f5063164908c27a7f310cd                      1  \n",
       "00065a00b971b5e1629d504e0ddf2da0                      3  \n",
       "000795932bf3bc3ab05b5efc1b07104b                      1  \n",
       "00084b153bbf7f4a8c1df3b638e07765                      8  \n",
       "00098f7374d9ea6b43df2c97931ecf01                      1  "
      ]
     },
     "execution_count": 24,
     "metadata": {},
     "output_type": "execute_result"
    }
   ],
   "source": [
    "df_tweetscov19_unique_user[df_tweetscov19_unique_user['number_of_antisciens_domains']<0].head()"
   ]
  },
  {
   "cell_type": "code",
   "execution_count": 25,
   "id": "93703b97",
   "metadata": {},
   "outputs": [],
   "source": [
    "df_tweetscov19_unique_user['normalised_polarisation'] = df_tweetscov19_unique_user.apply(lambda row: (row['number_of_antisciens_domains'] + row['number_of_prosciens_domains']) / row['Sum_polarized_domains'] if row['Sum_polarized_domains'] != 0 else 0, axis=1)"
   ]
  },
  {
   "cell_type": "code",
   "execution_count": 26,
   "id": "5fa996a6",
   "metadata": {},
   "outputs": [
    {
     "data": {
      "text/html": [
       "<div>\n",
       "<style scoped>\n",
       "    .dataframe tbody tr th:only-of-type {\n",
       "        vertical-align: middle;\n",
       "    }\n",
       "\n",
       "    .dataframe tbody tr th {\n",
       "        vertical-align: top;\n",
       "    }\n",
       "\n",
       "    .dataframe thead th {\n",
       "        text-align: right;\n",
       "    }\n",
       "</style>\n",
       "<table border=\"1\" class=\"dataframe\">\n",
       "  <thead>\n",
       "    <tr style=\"text-align: right;\">\n",
       "      <th></th>\n",
       "      <th>number_of_antisciens_domains</th>\n",
       "      <th>number_of_prosciens_domains</th>\n",
       "      <th>Sum_polarized_domains</th>\n",
       "      <th>normalised_polarisation</th>\n",
       "    </tr>\n",
       "    <tr>\n",
       "      <th>Username</th>\n",
       "      <th></th>\n",
       "      <th></th>\n",
       "      <th></th>\n",
       "      <th></th>\n",
       "    </tr>\n",
       "  </thead>\n",
       "  <tbody>\n",
       "    <tr>\n",
       "      <th>00065a00b971b5e1629d504e0ddf2da0</th>\n",
       "      <td>-3</td>\n",
       "      <td>0</td>\n",
       "      <td>3</td>\n",
       "      <td>-1.00000</td>\n",
       "    </tr>\n",
       "    <tr>\n",
       "      <th>00084b153bbf7f4a8c1df3b638e07765</th>\n",
       "      <td>-8</td>\n",
       "      <td>0</td>\n",
       "      <td>8</td>\n",
       "      <td>-1.00000</td>\n",
       "    </tr>\n",
       "    <tr>\n",
       "      <th>0013aaa4da0461c58d0b1306af75af02</th>\n",
       "      <td>-16</td>\n",
       "      <td>5</td>\n",
       "      <td>21</td>\n",
       "      <td>-0.52381</td>\n",
       "    </tr>\n",
       "    <tr>\n",
       "      <th>00231111ddf5695458a1354b2dba79e3</th>\n",
       "      <td>-3</td>\n",
       "      <td>0</td>\n",
       "      <td>3</td>\n",
       "      <td>-1.00000</td>\n",
       "    </tr>\n",
       "    <tr>\n",
       "      <th>0023797612d9ad76ffd7024c324c499c</th>\n",
       "      <td>-7</td>\n",
       "      <td>0</td>\n",
       "      <td>7</td>\n",
       "      <td>-1.00000</td>\n",
       "    </tr>\n",
       "  </tbody>\n",
       "</table>\n",
       "</div>"
      ],
      "text/plain": [
       "                                  number_of_antisciens_domains  \\\n",
       "Username                                                         \n",
       "00065a00b971b5e1629d504e0ddf2da0                            -3   \n",
       "00084b153bbf7f4a8c1df3b638e07765                            -8   \n",
       "0013aaa4da0461c58d0b1306af75af02                           -16   \n",
       "00231111ddf5695458a1354b2dba79e3                            -3   \n",
       "0023797612d9ad76ffd7024c324c499c                            -7   \n",
       "\n",
       "                                  number_of_prosciens_domains  \\\n",
       "Username                                                        \n",
       "00065a00b971b5e1629d504e0ddf2da0                            0   \n",
       "00084b153bbf7f4a8c1df3b638e07765                            0   \n",
       "0013aaa4da0461c58d0b1306af75af02                            5   \n",
       "00231111ddf5695458a1354b2dba79e3                            0   \n",
       "0023797612d9ad76ffd7024c324c499c                            0   \n",
       "\n",
       "                                  Sum_polarized_domains  \\\n",
       "Username                                                  \n",
       "00065a00b971b5e1629d504e0ddf2da0                      3   \n",
       "00084b153bbf7f4a8c1df3b638e07765                      8   \n",
       "0013aaa4da0461c58d0b1306af75af02                     21   \n",
       "00231111ddf5695458a1354b2dba79e3                      3   \n",
       "0023797612d9ad76ffd7024c324c499c                      7   \n",
       "\n",
       "                                  normalised_polarisation  \n",
       "Username                                                   \n",
       "00065a00b971b5e1629d504e0ddf2da0                 -1.00000  \n",
       "00084b153bbf7f4a8c1df3b638e07765                 -1.00000  \n",
       "0013aaa4da0461c58d0b1306af75af02                 -0.52381  \n",
       "00231111ddf5695458a1354b2dba79e3                 -1.00000  \n",
       "0023797612d9ad76ffd7024c324c499c                 -1.00000  "
      ]
     },
     "execution_count": 26,
     "metadata": {},
     "output_type": "execute_result"
    }
   ],
   "source": [
    "df_tweetscov19_unique_user[df_tweetscov19_unique_user['number_of_antisciens_domains']<-2].head()"
   ]
  },
  {
   "cell_type": "code",
   "execution_count": 27,
   "id": "4af33ee5",
   "metadata": {},
   "outputs": [
    {
     "name": "stdout",
     "output_type": "stream",
     "text": [
      "Number of proscience polarized users in TWeetsCOV19:  18352\n"
     ]
    }
   ],
   "source": [
    "number_of_proscience_polarized_users = df_tweetscov19_unique_user[df_tweetscov19_unique_user['normalised_polarisation'] > 0].shape\n",
    "\n",
    "print('Number of proscience polarized users in TWeetsCOV19: ', number_of_proscience_polarized_users[0])"
   ]
  },
  {
   "cell_type": "code",
   "execution_count": 28,
   "id": "ec4dc261",
   "metadata": {},
   "outputs": [
    {
     "name": "stdout",
     "output_type": "stream",
     "text": [
      "Number of antiscience polarized users in TWeetsCOV19:  25591\n"
     ]
    }
   ],
   "source": [
    "number_of_antiscience_polarized_users = df_tweetscov19_unique_user[df_tweetscov19_unique_user['normalised_polarisation'] < 0].shape\n",
    "\n",
    "print('Number of antiscience polarized users in TWeetsCOV19: ', number_of_antiscience_polarized_users[0])"
   ]
  },
  {
   "cell_type": "code",
   "execution_count": 29,
   "id": "9801d73b",
   "metadata": {},
   "outputs": [
    {
     "name": "stdout",
     "output_type": "stream",
     "text": [
      "Number of antiscience polarized users in TWeetsCOV19:  550\n"
     ]
    }
   ],
   "source": [
    "number_of_neutral_users = df_tweetscov19_unique_user[(df_tweetscov19_unique_user['normalised_polarisation'] == 0) & (df_tweetscov19_unique_user['Sum_polarized_domains'] > 0)].shape\n",
    "\n",
    "print('Number of antiscience polarized users in TWeetsCOV19: ', number_of_neutral_users[0])"
   ]
  },
  {
   "cell_type": "code",
   "execution_count": 30,
   "id": "88bfa070",
   "metadata": {},
   "outputs": [
    {
     "data": {
      "text/plain": [
       "(44493, 4)"
      ]
     },
     "execution_count": 30,
     "metadata": {},
     "output_type": "execute_result"
    }
   ],
   "source": [
    "df_tweetscov19_unique_user = df_tweetscov19_unique_user[df_tweetscov19_unique_user['Sum_polarized_domains']>0]\n",
    "df_tweetscov19_unique_user.shape"
   ]
  },
  {
   "cell_type": "markdown",
   "id": "393f3960",
   "metadata": {},
   "source": [
    "****"
   ]
  },
  {
   "cell_type": "markdown",
   "id": "7e398b4f",
   "metadata": {},
   "source": [
    "### Tweet Polarisation"
   ]
  },
  {
   "cell_type": "code",
   "execution_count": 31,
   "id": "d3a18761",
   "metadata": {},
   "outputs": [
    {
     "data": {
      "text/html": [
       "<div>\n",
       "<style scoped>\n",
       "    .dataframe tbody tr th:only-of-type {\n",
       "        vertical-align: middle;\n",
       "    }\n",
       "\n",
       "    .dataframe tbody tr th {\n",
       "        vertical-align: top;\n",
       "    }\n",
       "\n",
       "    .dataframe thead th {\n",
       "        text-align: right;\n",
       "    }\n",
       "</style>\n",
       "<table border=\"1\" class=\"dataframe\">\n",
       "  <thead>\n",
       "    <tr style=\"text-align: right;\">\n",
       "      <th></th>\n",
       "      <th>Tweet_Id</th>\n",
       "      <th>Username</th>\n",
       "      <th>Is_deleted</th>\n",
       "      <th>Domains</th>\n",
       "      <th>number_of_antisciens_domains</th>\n",
       "      <th>number_of_prosciens_domains</th>\n",
       "    </tr>\n",
       "  </thead>\n",
       "  <tbody>\n",
       "    <tr>\n",
       "      <th>0</th>\n",
       "      <td>1178791637348212736</td>\n",
       "      <td>c57d4fb895c5f4a33d2a2b24709f93b5</td>\n",
       "      <td>True</td>\n",
       "      <td>0</td>\n",
       "      <td>0</td>\n",
       "      <td>0</td>\n",
       "    </tr>\n",
       "  </tbody>\n",
       "</table>\n",
       "</div>"
      ],
      "text/plain": [
       "              Tweet_Id                          Username  Is_deleted Domains  \\\n",
       "0  1178791637348212736  c57d4fb895c5f4a33d2a2b24709f93b5        True       0   \n",
       "\n",
       "   number_of_antisciens_domains  number_of_prosciens_domains  \n",
       "0                             0                            0  "
      ]
     },
     "execution_count": 31,
     "metadata": {},
     "output_type": "execute_result"
    }
   ],
   "source": [
    "df_tweetscov19.head(1)"
   ]
  },
  {
   "cell_type": "code",
   "execution_count": 32,
   "id": "cc6175b7",
   "metadata": {
    "scrolled": true
   },
   "outputs": [
    {
     "data": {
      "text/html": [
       "<div>\n",
       "<style scoped>\n",
       "    .dataframe tbody tr th:only-of-type {\n",
       "        vertical-align: middle;\n",
       "    }\n",
       "\n",
       "    .dataframe tbody tr th {\n",
       "        vertical-align: top;\n",
       "    }\n",
       "\n",
       "    .dataframe thead th {\n",
       "        text-align: right;\n",
       "    }\n",
       "</style>\n",
       "<table border=\"1\" class=\"dataframe\">\n",
       "  <thead>\n",
       "    <tr style=\"text-align: right;\">\n",
       "      <th></th>\n",
       "      <th>Tweet_Id</th>\n",
       "      <th>Username</th>\n",
       "      <th>Is_deleted</th>\n",
       "      <th>Domains</th>\n",
       "      <th>number_of_antisciens_domains</th>\n",
       "      <th>number_of_prosciens_domains</th>\n",
       "      <th>Sum_polarized_domains</th>\n",
       "    </tr>\n",
       "  </thead>\n",
       "  <tbody>\n",
       "    <tr>\n",
       "      <th>0</th>\n",
       "      <td>1178791637348212736</td>\n",
       "      <td>c57d4fb895c5f4a33d2a2b24709f93b5</td>\n",
       "      <td>True</td>\n",
       "      <td>0</td>\n",
       "      <td>0</td>\n",
       "      <td>0</td>\n",
       "      <td>0</td>\n",
       "    </tr>\n",
       "  </tbody>\n",
       "</table>\n",
       "</div>"
      ],
      "text/plain": [
       "              Tweet_Id                          Username  Is_deleted Domains  \\\n",
       "0  1178791637348212736  c57d4fb895c5f4a33d2a2b24709f93b5        True       0   \n",
       "\n",
       "   number_of_antisciens_domains  number_of_prosciens_domains  \\\n",
       "0                             0                            0   \n",
       "\n",
       "   Sum_polarized_domains  \n",
       "0                      0  "
      ]
     },
     "execution_count": 32,
     "metadata": {},
     "output_type": "execute_result"
    }
   ],
   "source": [
    "df_tweetscov19['Sum_polarized_domains'] = df_tweetscov19.apply(lambda row: ((row['number_of_prosciens_domains'] - row['number_of_antisciens_domains'])), axis=1)\n",
    "df_tweetscov19.head(1)"
   ]
  },
  {
   "cell_type": "code",
   "execution_count": 33,
   "id": "621536b8",
   "metadata": {},
   "outputs": [],
   "source": [
    "df_tweetscov19['tweet_science_polarisation'] = df_tweetscov19.apply(lambda row: (row['number_of_prosciens_domains'] + row['number_of_antisciens_domains']) / row['Sum_polarized_domains'] if row['Sum_polarized_domains'] != 0 else 0, axis=1)"
   ]
  },
  {
   "cell_type": "code",
   "execution_count": 34,
   "id": "792b8b89",
   "metadata": {},
   "outputs": [
    {
     "data": {
      "text/plain": [
       "(113348, 8)"
      ]
     },
     "execution_count": 34,
     "metadata": {},
     "output_type": "execute_result"
    }
   ],
   "source": [
    "df_tweetscov19[df_tweetscov19.tweet_science_polarisation < 0].shape"
   ]
  },
  {
   "cell_type": "code",
   "execution_count": 35,
   "id": "118a2b2a",
   "metadata": {},
   "outputs": [
    {
     "data": {
      "text/plain": [
       "(113348, 8)"
      ]
     },
     "execution_count": 35,
     "metadata": {},
     "output_type": "execute_result"
    }
   ],
   "source": [
    "df_tweetscov19[df_tweetscov19.tweet_science_polarisation < 0].shape"
   ]
  },
  {
   "cell_type": "code",
   "execution_count": 36,
   "id": "8d9d9de1",
   "metadata": {},
   "outputs": [
    {
     "data": {
      "text/plain": [
       "(54, 8)"
      ]
     },
     "execution_count": 36,
     "metadata": {},
     "output_type": "execute_result"
    }
   ],
   "source": [
    "df_tweetscov19[(df_tweetscov19.tweet_science_polarisation ==0) & (df_tweetscov19.Sum_polarized_domains > 0)].shape"
   ]
  },
  {
   "cell_type": "code",
   "execution_count": 37,
   "id": "f83ec268",
   "metadata": {},
   "outputs": [
    {
     "data": {
      "text/html": [
       "<div>\n",
       "<style scoped>\n",
       "    .dataframe tbody tr th:only-of-type {\n",
       "        vertical-align: middle;\n",
       "    }\n",
       "\n",
       "    .dataframe tbody tr th {\n",
       "        vertical-align: top;\n",
       "    }\n",
       "\n",
       "    .dataframe thead th {\n",
       "        text-align: right;\n",
       "    }\n",
       "</style>\n",
       "<table border=\"1\" class=\"dataframe\">\n",
       "  <thead>\n",
       "    <tr style=\"text-align: right;\">\n",
       "      <th></th>\n",
       "      <th>Tweet_Id</th>\n",
       "      <th>Username</th>\n",
       "      <th>Is_deleted</th>\n",
       "      <th>Domains</th>\n",
       "      <th>number_of_antisciens_domains</th>\n",
       "      <th>number_of_prosciens_domains</th>\n",
       "      <th>Sum_polarized_domains</th>\n",
       "      <th>tweet_science_polarisation</th>\n",
       "    </tr>\n",
       "  </thead>\n",
       "  <tbody>\n",
       "    <tr>\n",
       "      <th>80534</th>\n",
       "      <td>1180301618874597377</td>\n",
       "      <td>3c13ba3b4e8e25728b775d9150abc6d4</td>\n",
       "      <td>False</td>\n",
       "      <td>physiciansforinformedconsent.org nih.gov</td>\n",
       "      <td>-1</td>\n",
       "      <td>1</td>\n",
       "      <td>2</td>\n",
       "      <td>0.0</td>\n",
       "    </tr>\n",
       "    <tr>\n",
       "      <th>229697</th>\n",
       "      <td>1183097600238440448</td>\n",
       "      <td>2fdbbc5fd674bddbfa9a956c124dc0e2</td>\n",
       "      <td>True</td>\n",
       "      <td>drjockers.com naturalsociety.com healthline.com</td>\n",
       "      <td>-1</td>\n",
       "      <td>1</td>\n",
       "      <td>2</td>\n",
       "      <td>0.0</td>\n",
       "    </tr>\n",
       "    <tr>\n",
       "      <th>565041</th>\n",
       "      <td>1189723681745977345</td>\n",
       "      <td>3c13ba3b4e8e25728b775d9150abc6d4</td>\n",
       "      <td>False</td>\n",
       "      <td>cdc.gov physiciansforinformedconsent.org</td>\n",
       "      <td>-1</td>\n",
       "      <td>1</td>\n",
       "      <td>2</td>\n",
       "      <td>0.0</td>\n",
       "    </tr>\n",
       "    <tr>\n",
       "      <th>751335</th>\n",
       "      <td>1193379767678066689</td>\n",
       "      <td>3c13ba3b4e8e25728b775d9150abc6d4</td>\n",
       "      <td>False</td>\n",
       "      <td>nih.gov physiciansforinformedconsent.org</td>\n",
       "      <td>-1</td>\n",
       "      <td>1</td>\n",
       "      <td>2</td>\n",
       "      <td>0.0</td>\n",
       "    </tr>\n",
       "    <tr>\n",
       "      <th>823371</th>\n",
       "      <td>1194783525586771968</td>\n",
       "      <td>3c13ba3b4e8e25728b775d9150abc6d4</td>\n",
       "      <td>False</td>\n",
       "      <td>physiciansforinformedconsent.org nih.gov</td>\n",
       "      <td>-1</td>\n",
       "      <td>1</td>\n",
       "      <td>2</td>\n",
       "      <td>0.0</td>\n",
       "    </tr>\n",
       "    <tr>\n",
       "      <th>993307</th>\n",
       "      <td>1198088828898164736</td>\n",
       "      <td>3c13ba3b4e8e25728b775d9150abc6d4</td>\n",
       "      <td>False</td>\n",
       "      <td>physiciansforinformedconsent.org nih.gov</td>\n",
       "      <td>-1</td>\n",
       "      <td>1</td>\n",
       "      <td>2</td>\n",
       "      <td>0.0</td>\n",
       "    </tr>\n",
       "    <tr>\n",
       "      <th>1382295</th>\n",
       "      <td>1205903298391400456</td>\n",
       "      <td>3c13ba3b4e8e25728b775d9150abc6d4</td>\n",
       "      <td>False</td>\n",
       "      <td>physiciansforinformedconsent.org nih.gov</td>\n",
       "      <td>-1</td>\n",
       "      <td>1</td>\n",
       "      <td>2</td>\n",
       "      <td>0.0</td>\n",
       "    </tr>\n",
       "    <tr>\n",
       "      <th>1425627</th>\n",
       "      <td>1206777552351698945</td>\n",
       "      <td>3c13ba3b4e8e25728b775d9150abc6d4</td>\n",
       "      <td>False</td>\n",
       "      <td>physiciansforinformedconsent.org nih.gov</td>\n",
       "      <td>-1</td>\n",
       "      <td>1</td>\n",
       "      <td>2</td>\n",
       "      <td>0.0</td>\n",
       "    </tr>\n",
       "    <tr>\n",
       "      <th>1658186</th>\n",
       "      <td>1211791344374624256</td>\n",
       "      <td>3c13ba3b4e8e25728b775d9150abc6d4</td>\n",
       "      <td>False</td>\n",
       "      <td>nih.gov physiciansforinformedconsent.org</td>\n",
       "      <td>-1</td>\n",
       "      <td>1</td>\n",
       "      <td>2</td>\n",
       "      <td>0.0</td>\n",
       "    </tr>\n",
       "    <tr>\n",
       "      <th>1754614</th>\n",
       "      <td>1213762086985248768</td>\n",
       "      <td>3c13ba3b4e8e25728b775d9150abc6d4</td>\n",
       "      <td>False</td>\n",
       "      <td>nih.gov physiciansforinformedconsent.org</td>\n",
       "      <td>-1</td>\n",
       "      <td>1</td>\n",
       "      <td>2</td>\n",
       "      <td>0.0</td>\n",
       "    </tr>\n",
       "    <tr>\n",
       "      <th>1943326</th>\n",
       "      <td>1217198916363587584</td>\n",
       "      <td>184f8985e5545575eeb3146a5f1d4a3a</td>\n",
       "      <td>False</td>\n",
       "      <td>sciencedirect.com dailymail.co.uk</td>\n",
       "      <td>-1</td>\n",
       "      <td>1</td>\n",
       "      <td>2</td>\n",
       "      <td>0.0</td>\n",
       "    </tr>\n",
       "    <tr>\n",
       "      <th>2189156</th>\n",
       "      <td>1221615571164377089</td>\n",
       "      <td>3c13ba3b4e8e25728b775d9150abc6d4</td>\n",
       "      <td>False</td>\n",
       "      <td>physiciansforinformedconsent.org nih.gov</td>\n",
       "      <td>-1</td>\n",
       "      <td>1</td>\n",
       "      <td>2</td>\n",
       "      <td>0.0</td>\n",
       "    </tr>\n",
       "    <tr>\n",
       "      <th>2351158</th>\n",
       "      <td>1224218201032019968</td>\n",
       "      <td>8534ffb8bfcb8a9e81eff2bfc246b746</td>\n",
       "      <td>True</td>\n",
       "      <td>childrenshealthdefense.org vaccines.net nih.gov</td>\n",
       "      <td>-1</td>\n",
       "      <td>1</td>\n",
       "      <td>2</td>\n",
       "      <td>0.0</td>\n",
       "    </tr>\n",
       "    <tr>\n",
       "      <th>2397198</th>\n",
       "      <td>1225607140607324160</td>\n",
       "      <td>34af76987348f7c889e08406f7d3b13c</td>\n",
       "      <td>False</td>\n",
       "      <td>nvic.org cdc.gov fda.gov</td>\n",
       "      <td>-1</td>\n",
       "      <td>1</td>\n",
       "      <td>2</td>\n",
       "      <td>0.0</td>\n",
       "    </tr>\n",
       "    <tr>\n",
       "      <th>2497774</th>\n",
       "      <td>1227442349661396992</td>\n",
       "      <td>40ac9f8593dce049547de6f85b61f96c</td>\n",
       "      <td>False</td>\n",
       "      <td>xinhuanet.com who.int</td>\n",
       "      <td>-1</td>\n",
       "      <td>1</td>\n",
       "      <td>2</td>\n",
       "      <td>0.0</td>\n",
       "    </tr>\n",
       "    <tr>\n",
       "      <th>2579797</th>\n",
       "      <td>1229175138953895937</td>\n",
       "      <td>3c13ba3b4e8e25728b775d9150abc6d4</td>\n",
       "      <td>False</td>\n",
       "      <td>nih.gov lww.com physiciansforinformedconsent.org</td>\n",
       "      <td>-1</td>\n",
       "      <td>1</td>\n",
       "      <td>2</td>\n",
       "      <td>0.0</td>\n",
       "    </tr>\n",
       "    <tr>\n",
       "      <th>2600142</th>\n",
       "      <td>1229557164890607616</td>\n",
       "      <td>3c13ba3b4e8e25728b775d9150abc6d4</td>\n",
       "      <td>True</td>\n",
       "      <td>physiciansforinformedconsent.org nih.gov</td>\n",
       "      <td>-1</td>\n",
       "      <td>1</td>\n",
       "      <td>2</td>\n",
       "      <td>0.0</td>\n",
       "    </tr>\n",
       "    <tr>\n",
       "      <th>2697947</th>\n",
       "      <td>1232113006508756994</td>\n",
       "      <td>3c13ba3b4e8e25728b775d9150abc6d4</td>\n",
       "      <td>False</td>\n",
       "      <td>nih.gov physiciansforinformedconsent.org</td>\n",
       "      <td>-1</td>\n",
       "      <td>1</td>\n",
       "      <td>2</td>\n",
       "      <td>0.0</td>\n",
       "    </tr>\n",
       "    <tr>\n",
       "      <th>2780876</th>\n",
       "      <td>1233058236921778176</td>\n",
       "      <td>3c13ba3b4e8e25728b775d9150abc6d4</td>\n",
       "      <td>False</td>\n",
       "      <td>physiciansforinformedconsent.org nih.gov</td>\n",
       "      <td>-1</td>\n",
       "      <td>1</td>\n",
       "      <td>2</td>\n",
       "      <td>0.0</td>\n",
       "    </tr>\n",
       "    <tr>\n",
       "      <th>2833276</th>\n",
       "      <td>1233516507465965568</td>\n",
       "      <td>3c13ba3b4e8e25728b775d9150abc6d4</td>\n",
       "      <td>True</td>\n",
       "      <td>nih.gov physiciansforinformedconsent.org</td>\n",
       "      <td>-1</td>\n",
       "      <td>1</td>\n",
       "      <td>2</td>\n",
       "      <td>0.0</td>\n",
       "    </tr>\n",
       "    <tr>\n",
       "      <th>2871944</th>\n",
       "      <td>1233974331023036416</td>\n",
       "      <td>dd81ad41fd587648f4c241beba4ceee8</td>\n",
       "      <td>False</td>\n",
       "      <td>xinhuanet.com nih.gov</td>\n",
       "      <td>-1</td>\n",
       "      <td>1</td>\n",
       "      <td>2</td>\n",
       "      <td>0.0</td>\n",
       "    </tr>\n",
       "    <tr>\n",
       "      <th>2960225</th>\n",
       "      <td>1235375746392129536</td>\n",
       "      <td>3c13ba3b4e8e25728b775d9150abc6d4</td>\n",
       "      <td>True</td>\n",
       "      <td>nih.gov physiciansforinformedconsent.org</td>\n",
       "      <td>-1</td>\n",
       "      <td>1</td>\n",
       "      <td>2</td>\n",
       "      <td>0.0</td>\n",
       "    </tr>\n",
       "    <tr>\n",
       "      <th>3003029</th>\n",
       "      <td>1235785445910482945</td>\n",
       "      <td>3c13ba3b4e8e25728b775d9150abc6d4</td>\n",
       "      <td>False</td>\n",
       "      <td>nih.gov springer.com physiciansforinformedcons...</td>\n",
       "      <td>-1</td>\n",
       "      <td>1</td>\n",
       "      <td>2</td>\n",
       "      <td>0.0</td>\n",
       "    </tr>\n",
       "    <tr>\n",
       "      <th>3024169</th>\n",
       "      <td>1235999129521750016</td>\n",
       "      <td>3c13ba3b4e8e25728b775d9150abc6d4</td>\n",
       "      <td>False</td>\n",
       "      <td>physiciansforinformedconsent.org nih.gov</td>\n",
       "      <td>-1</td>\n",
       "      <td>1</td>\n",
       "      <td>2</td>\n",
       "      <td>0.0</td>\n",
       "    </tr>\n",
       "    <tr>\n",
       "      <th>3086871</th>\n",
       "      <td>1236668551324459008</td>\n",
       "      <td>3c13ba3b4e8e25728b775d9150abc6d4</td>\n",
       "      <td>False</td>\n",
       "      <td>physiciansforinformedconsent.org medscape.com</td>\n",
       "      <td>-1</td>\n",
       "      <td>1</td>\n",
       "      <td>2</td>\n",
       "      <td>0.0</td>\n",
       "    </tr>\n",
       "    <tr>\n",
       "      <th>3093131</th>\n",
       "      <td>1236720475209949185</td>\n",
       "      <td>84f182d60d99801d9b5ae2ee2d970de7</td>\n",
       "      <td>False</td>\n",
       "      <td>sciencedirect.com additudemag.com</td>\n",
       "      <td>-1</td>\n",
       "      <td>1</td>\n",
       "      <td>2</td>\n",
       "      <td>0.0</td>\n",
       "    </tr>\n",
       "    <tr>\n",
       "      <th>3218791</th>\n",
       "      <td>1237780163015979008</td>\n",
       "      <td>3c13ba3b4e8e25728b775d9150abc6d4</td>\n",
       "      <td>False</td>\n",
       "      <td>sciencedirect.com physiciansforinformedconsent...</td>\n",
       "      <td>-1</td>\n",
       "      <td>1</td>\n",
       "      <td>2</td>\n",
       "      <td>0.0</td>\n",
       "    </tr>\n",
       "    <tr>\n",
       "      <th>3748014</th>\n",
       "      <td>1239930295790571520</td>\n",
       "      <td>3c13ba3b4e8e25728b775d9150abc6d4</td>\n",
       "      <td>False</td>\n",
       "      <td>physiciansforinformedconsent.org nih.gov</td>\n",
       "      <td>-1</td>\n",
       "      <td>1</td>\n",
       "      <td>2</td>\n",
       "      <td>0.0</td>\n",
       "    </tr>\n",
       "    <tr>\n",
       "      <th>4755918</th>\n",
       "      <td>1243212015138529281</td>\n",
       "      <td>f09c9d49e3cd287a4eebcaf90e06aedd</td>\n",
       "      <td>False</td>\n",
       "      <td>westernjournal.com nature.com</td>\n",
       "      <td>-1</td>\n",
       "      <td>1</td>\n",
       "      <td>2</td>\n",
       "      <td>0.0</td>\n",
       "    </tr>\n",
       "    <tr>\n",
       "      <th>5012627</th>\n",
       "      <td>1244121112755294208</td>\n",
       "      <td>3c13ba3b4e8e25728b775d9150abc6d4</td>\n",
       "      <td>False</td>\n",
       "      <td>physiciansforinformedconsent.org nih.gov</td>\n",
       "      <td>-1</td>\n",
       "      <td>1</td>\n",
       "      <td>2</td>\n",
       "      <td>0.0</td>\n",
       "    </tr>\n",
       "    <tr>\n",
       "      <th>5059685</th>\n",
       "      <td>1244313013391253504</td>\n",
       "      <td>f09c9d49e3cd287a4eebcaf90e06aedd</td>\n",
       "      <td>False</td>\n",
       "      <td>nejm.org wnd.com</td>\n",
       "      <td>-1</td>\n",
       "      <td>1</td>\n",
       "      <td>2</td>\n",
       "      <td>0.0</td>\n",
       "    </tr>\n",
       "    <tr>\n",
       "      <th>5254701</th>\n",
       "      <td>1245026222901547009</td>\n",
       "      <td>dd8c2537cc93e122fcce0fc26eaeaeaa</td>\n",
       "      <td>True</td>\n",
       "      <td>cdc.gov theconservativetreehouse.com</td>\n",
       "      <td>-1</td>\n",
       "      <td>1</td>\n",
       "      <td>2</td>\n",
       "      <td>0.0</td>\n",
       "    </tr>\n",
       "    <tr>\n",
       "      <th>5287725</th>\n",
       "      <td>1245127756289134597</td>\n",
       "      <td>3c13ba3b4e8e25728b775d9150abc6d4</td>\n",
       "      <td>False</td>\n",
       "      <td>physiciansforinformedconsent.org nih.gov</td>\n",
       "      <td>-1</td>\n",
       "      <td>1</td>\n",
       "      <td>2</td>\n",
       "      <td>0.0</td>\n",
       "    </tr>\n",
       "    <tr>\n",
       "      <th>5556082</th>\n",
       "      <td>1246240654260199424</td>\n",
       "      <td>a479e7e925e543c3dc0ba4f3d9ebe8e4</td>\n",
       "      <td>False</td>\n",
       "      <td>who.int viewpoint-us2020.org dailymail.co.uk</td>\n",
       "      <td>-1</td>\n",
       "      <td>1</td>\n",
       "      <td>2</td>\n",
       "      <td>0.0</td>\n",
       "    </tr>\n",
       "    <tr>\n",
       "      <th>5593401</th>\n",
       "      <td>1246431839004135424</td>\n",
       "      <td>a7bf142429878b9f5a50ff4d7da3413d</td>\n",
       "      <td>False</td>\n",
       "      <td>sciencealert.com dailymail.co.uk nytimes.com p...</td>\n",
       "      <td>-1</td>\n",
       "      <td>1</td>\n",
       "      <td>2</td>\n",
       "      <td>0.0</td>\n",
       "    </tr>\n",
       "    <tr>\n",
       "      <th>5654809</th>\n",
       "      <td>1246686349631127553</td>\n",
       "      <td>a7bf142429878b9f5a50ff4d7da3413d</td>\n",
       "      <td>False</td>\n",
       "      <td>sciencealert.com dailymail.co.uk nytimes.com p...</td>\n",
       "      <td>-1</td>\n",
       "      <td>1</td>\n",
       "      <td>2</td>\n",
       "      <td>0.0</td>\n",
       "    </tr>\n",
       "    <tr>\n",
       "      <th>5716812</th>\n",
       "      <td>1246932668429852673</td>\n",
       "      <td>342c5b26f824c3066725ddafd88d2075</td>\n",
       "      <td>False</td>\n",
       "      <td>trialsitenews.com thelancet.com europeanpharma...</td>\n",
       "      <td>-1</td>\n",
       "      <td>1</td>\n",
       "      <td>2</td>\n",
       "      <td>0.0</td>\n",
       "    </tr>\n",
       "    <tr>\n",
       "      <th>5742903</th>\n",
       "      <td>1247069985220026368</td>\n",
       "      <td>488ddd9b1094a75716ec69ea500b88eb</td>\n",
       "      <td>False</td>\n",
       "      <td>xinhuanet.com nationalgeographic.com</td>\n",
       "      <td>-1</td>\n",
       "      <td>1</td>\n",
       "      <td>2</td>\n",
       "      <td>0.0</td>\n",
       "    </tr>\n",
       "    <tr>\n",
       "      <th>5761033</th>\n",
       "      <td>1247153760985583616</td>\n",
       "      <td>5da04b86bfd08c31ee294123b59a6d79</td>\n",
       "      <td>True</td>\n",
       "      <td>healthdata.org thegatewaypundit.com</td>\n",
       "      <td>-1</td>\n",
       "      <td>1</td>\n",
       "      <td>2</td>\n",
       "      <td>0.0</td>\n",
       "    </tr>\n",
       "    <tr>\n",
       "      <th>5895069</th>\n",
       "      <td>1247653652367650819</td>\n",
       "      <td>a2f416b4030b81479c472b74eafe5fcb</td>\n",
       "      <td>True</td>\n",
       "      <td>nowthisnews.com documentcloud.org youtube.com ...</td>\n",
       "      <td>-1</td>\n",
       "      <td>1</td>\n",
       "      <td>2</td>\n",
       "      <td>0.0</td>\n",
       "    </tr>\n",
       "    <tr>\n",
       "      <th>5912873</th>\n",
       "      <td>1247738703834841089</td>\n",
       "      <td>3c13ba3b4e8e25728b775d9150abc6d4</td>\n",
       "      <td>False</td>\n",
       "      <td>physiciansforinformedconsent.org researchgate.net</td>\n",
       "      <td>-1</td>\n",
       "      <td>1</td>\n",
       "      <td>2</td>\n",
       "      <td>0.0</td>\n",
       "    </tr>\n",
       "    <tr>\n",
       "      <th>6454864</th>\n",
       "      <td>1250139651396034561</td>\n",
       "      <td>cc59508ebfcc886d4bd805b0f406f281</td>\n",
       "      <td>True</td>\n",
       "      <td>zerohedge.com archive.org nih.gov</td>\n",
       "      <td>-1</td>\n",
       "      <td>1</td>\n",
       "      <td>2</td>\n",
       "      <td>0.0</td>\n",
       "    </tr>\n",
       "    <tr>\n",
       "      <th>6558924</th>\n",
       "      <td>1250598694279434241</td>\n",
       "      <td>ab3c84d6b5f084787abf1699a7a2a910</td>\n",
       "      <td>False</td>\n",
       "      <td>westernjournal.com cdc.gov</td>\n",
       "      <td>-1</td>\n",
       "      <td>1</td>\n",
       "      <td>2</td>\n",
       "      <td>0.0</td>\n",
       "    </tr>\n",
       "    <tr>\n",
       "      <th>6798477</th>\n",
       "      <td>1251726731305717762</td>\n",
       "      <td>3c13ba3b4e8e25728b775d9150abc6d4</td>\n",
       "      <td>False</td>\n",
       "      <td>physiciansforinformedconsent.org nih.gov</td>\n",
       "      <td>-1</td>\n",
       "      <td>1</td>\n",
       "      <td>2</td>\n",
       "      <td>0.0</td>\n",
       "    </tr>\n",
       "    <tr>\n",
       "      <th>6951874</th>\n",
       "      <td>1252529725529939969</td>\n",
       "      <td>f8e7adf3bd1022ea56f16f58915c5dda</td>\n",
       "      <td>True</td>\n",
       "      <td>sciencedirect.com childrenshealthdefense.org</td>\n",
       "      <td>-1</td>\n",
       "      <td>1</td>\n",
       "      <td>2</td>\n",
       "      <td>0.0</td>\n",
       "    </tr>\n",
       "    <tr>\n",
       "      <th>7299596</th>\n",
       "      <td>1254289229024198656</td>\n",
       "      <td>3c13ba3b4e8e25728b775d9150abc6d4</td>\n",
       "      <td>False</td>\n",
       "      <td>physiciansforinformedconsent.org sciencedirect...</td>\n",
       "      <td>-1</td>\n",
       "      <td>1</td>\n",
       "      <td>2</td>\n",
       "      <td>0.0</td>\n",
       "    </tr>\n",
       "    <tr>\n",
       "      <th>7355456</th>\n",
       "      <td>1254615618768101376</td>\n",
       "      <td>103050d5289b6fcee7d227fa70309f2e</td>\n",
       "      <td>False</td>\n",
       "      <td>cdc.gov medicaldaily.com</td>\n",
       "      <td>-1</td>\n",
       "      <td>1</td>\n",
       "      <td>2</td>\n",
       "      <td>0.0</td>\n",
       "    </tr>\n",
       "    <tr>\n",
       "      <th>7725482</th>\n",
       "      <td>1256662904100646912</td>\n",
       "      <td>1d00db50f515d3e9a1d782a6f1a11072</td>\n",
       "      <td>False</td>\n",
       "      <td>theepochtimes.com biospace.com</td>\n",
       "      <td>-1</td>\n",
       "      <td>1</td>\n",
       "      <td>2</td>\n",
       "      <td>0.0</td>\n",
       "    </tr>\n",
       "    <tr>\n",
       "      <th>7740641</th>\n",
       "      <td>1256760375527313408</td>\n",
       "      <td>41453e5e097737132f0d9db92f191a80</td>\n",
       "      <td>True</td>\n",
       "      <td>thegatewaypundit.com cdc.gov</td>\n",
       "      <td>-1</td>\n",
       "      <td>1</td>\n",
       "      <td>2</td>\n",
       "      <td>0.0</td>\n",
       "    </tr>\n",
       "    <tr>\n",
       "      <th>7800037</th>\n",
       "      <td>1257136628700778497</td>\n",
       "      <td>3c13ba3b4e8e25728b775d9150abc6d4</td>\n",
       "      <td>False</td>\n",
       "      <td>physiciansforinformedconsent.org nih.gov</td>\n",
       "      <td>-1</td>\n",
       "      <td>1</td>\n",
       "      <td>2</td>\n",
       "      <td>0.0</td>\n",
       "    </tr>\n",
       "    <tr>\n",
       "      <th>8292519</th>\n",
       "      <td>1260042027506569222</td>\n",
       "      <td>3c13ba3b4e8e25728b775d9150abc6d4</td>\n",
       "      <td>False</td>\n",
       "      <td>physiciansforinformedconsent.org nature.com</td>\n",
       "      <td>-1</td>\n",
       "      <td>1</td>\n",
       "      <td>2</td>\n",
       "      <td>0.0</td>\n",
       "    </tr>\n",
       "    <tr>\n",
       "      <th>8421656</th>\n",
       "      <td>1260766809562779650</td>\n",
       "      <td>3c13ba3b4e8e25728b775d9150abc6d4</td>\n",
       "      <td>False</td>\n",
       "      <td>sciencedirect.com physiciansforinformedconsent...</td>\n",
       "      <td>-1</td>\n",
       "      <td>1</td>\n",
       "      <td>2</td>\n",
       "      <td>0.0</td>\n",
       "    </tr>\n",
       "    <tr>\n",
       "      <th>8453205</th>\n",
       "      <td>1260961440023941122</td>\n",
       "      <td>f05838a481d301c9845b4217384c5f8f</td>\n",
       "      <td>True</td>\n",
       "      <td>coda.io change.org aapsonline.org researchgate...</td>\n",
       "      <td>-1</td>\n",
       "      <td>1</td>\n",
       "      <td>2</td>\n",
       "      <td>0.0</td>\n",
       "    </tr>\n",
       "    <tr>\n",
       "      <th>9233746</th>\n",
       "      <td>1266068409105747968</td>\n",
       "      <td>b314a0b4fb25e338b6f213f3a47a217c</td>\n",
       "      <td>False</td>\n",
       "      <td>investors.com google.com geopolitics.co popsci...</td>\n",
       "      <td>-1</td>\n",
       "      <td>1</td>\n",
       "      <td>2</td>\n",
       "      <td>0.0</td>\n",
       "    </tr>\n",
       "  </tbody>\n",
       "</table>\n",
       "</div>"
      ],
      "text/plain": [
       "                    Tweet_Id                          Username  Is_deleted  \\\n",
       "80534    1180301618874597377  3c13ba3b4e8e25728b775d9150abc6d4       False   \n",
       "229697   1183097600238440448  2fdbbc5fd674bddbfa9a956c124dc0e2        True   \n",
       "565041   1189723681745977345  3c13ba3b4e8e25728b775d9150abc6d4       False   \n",
       "751335   1193379767678066689  3c13ba3b4e8e25728b775d9150abc6d4       False   \n",
       "823371   1194783525586771968  3c13ba3b4e8e25728b775d9150abc6d4       False   \n",
       "993307   1198088828898164736  3c13ba3b4e8e25728b775d9150abc6d4       False   \n",
       "1382295  1205903298391400456  3c13ba3b4e8e25728b775d9150abc6d4       False   \n",
       "1425627  1206777552351698945  3c13ba3b4e8e25728b775d9150abc6d4       False   \n",
       "1658186  1211791344374624256  3c13ba3b4e8e25728b775d9150abc6d4       False   \n",
       "1754614  1213762086985248768  3c13ba3b4e8e25728b775d9150abc6d4       False   \n",
       "1943326  1217198916363587584  184f8985e5545575eeb3146a5f1d4a3a       False   \n",
       "2189156  1221615571164377089  3c13ba3b4e8e25728b775d9150abc6d4       False   \n",
       "2351158  1224218201032019968  8534ffb8bfcb8a9e81eff2bfc246b746        True   \n",
       "2397198  1225607140607324160  34af76987348f7c889e08406f7d3b13c       False   \n",
       "2497774  1227442349661396992  40ac9f8593dce049547de6f85b61f96c       False   \n",
       "2579797  1229175138953895937  3c13ba3b4e8e25728b775d9150abc6d4       False   \n",
       "2600142  1229557164890607616  3c13ba3b4e8e25728b775d9150abc6d4        True   \n",
       "2697947  1232113006508756994  3c13ba3b4e8e25728b775d9150abc6d4       False   \n",
       "2780876  1233058236921778176  3c13ba3b4e8e25728b775d9150abc6d4       False   \n",
       "2833276  1233516507465965568  3c13ba3b4e8e25728b775d9150abc6d4        True   \n",
       "2871944  1233974331023036416  dd81ad41fd587648f4c241beba4ceee8       False   \n",
       "2960225  1235375746392129536  3c13ba3b4e8e25728b775d9150abc6d4        True   \n",
       "3003029  1235785445910482945  3c13ba3b4e8e25728b775d9150abc6d4       False   \n",
       "3024169  1235999129521750016  3c13ba3b4e8e25728b775d9150abc6d4       False   \n",
       "3086871  1236668551324459008  3c13ba3b4e8e25728b775d9150abc6d4       False   \n",
       "3093131  1236720475209949185  84f182d60d99801d9b5ae2ee2d970de7       False   \n",
       "3218791  1237780163015979008  3c13ba3b4e8e25728b775d9150abc6d4       False   \n",
       "3748014  1239930295790571520  3c13ba3b4e8e25728b775d9150abc6d4       False   \n",
       "4755918  1243212015138529281  f09c9d49e3cd287a4eebcaf90e06aedd       False   \n",
       "5012627  1244121112755294208  3c13ba3b4e8e25728b775d9150abc6d4       False   \n",
       "5059685  1244313013391253504  f09c9d49e3cd287a4eebcaf90e06aedd       False   \n",
       "5254701  1245026222901547009  dd8c2537cc93e122fcce0fc26eaeaeaa        True   \n",
       "5287725  1245127756289134597  3c13ba3b4e8e25728b775d9150abc6d4       False   \n",
       "5556082  1246240654260199424  a479e7e925e543c3dc0ba4f3d9ebe8e4       False   \n",
       "5593401  1246431839004135424  a7bf142429878b9f5a50ff4d7da3413d       False   \n",
       "5654809  1246686349631127553  a7bf142429878b9f5a50ff4d7da3413d       False   \n",
       "5716812  1246932668429852673  342c5b26f824c3066725ddafd88d2075       False   \n",
       "5742903  1247069985220026368  488ddd9b1094a75716ec69ea500b88eb       False   \n",
       "5761033  1247153760985583616  5da04b86bfd08c31ee294123b59a6d79        True   \n",
       "5895069  1247653652367650819  a2f416b4030b81479c472b74eafe5fcb        True   \n",
       "5912873  1247738703834841089  3c13ba3b4e8e25728b775d9150abc6d4       False   \n",
       "6454864  1250139651396034561  cc59508ebfcc886d4bd805b0f406f281        True   \n",
       "6558924  1250598694279434241  ab3c84d6b5f084787abf1699a7a2a910       False   \n",
       "6798477  1251726731305717762  3c13ba3b4e8e25728b775d9150abc6d4       False   \n",
       "6951874  1252529725529939969  f8e7adf3bd1022ea56f16f58915c5dda        True   \n",
       "7299596  1254289229024198656  3c13ba3b4e8e25728b775d9150abc6d4       False   \n",
       "7355456  1254615618768101376  103050d5289b6fcee7d227fa70309f2e       False   \n",
       "7725482  1256662904100646912  1d00db50f515d3e9a1d782a6f1a11072       False   \n",
       "7740641  1256760375527313408  41453e5e097737132f0d9db92f191a80        True   \n",
       "7800037  1257136628700778497  3c13ba3b4e8e25728b775d9150abc6d4       False   \n",
       "8292519  1260042027506569222  3c13ba3b4e8e25728b775d9150abc6d4       False   \n",
       "8421656  1260766809562779650  3c13ba3b4e8e25728b775d9150abc6d4       False   \n",
       "8453205  1260961440023941122  f05838a481d301c9845b4217384c5f8f        True   \n",
       "9233746  1266068409105747968  b314a0b4fb25e338b6f213f3a47a217c       False   \n",
       "\n",
       "                                                   Domains  \\\n",
       "80534             physiciansforinformedconsent.org nih.gov   \n",
       "229697     drjockers.com naturalsociety.com healthline.com   \n",
       "565041            cdc.gov physiciansforinformedconsent.org   \n",
       "751335            nih.gov physiciansforinformedconsent.org   \n",
       "823371            physiciansforinformedconsent.org nih.gov   \n",
       "993307            physiciansforinformedconsent.org nih.gov   \n",
       "1382295           physiciansforinformedconsent.org nih.gov   \n",
       "1425627           physiciansforinformedconsent.org nih.gov   \n",
       "1658186           nih.gov physiciansforinformedconsent.org   \n",
       "1754614           nih.gov physiciansforinformedconsent.org   \n",
       "1943326                  sciencedirect.com dailymail.co.uk   \n",
       "2189156           physiciansforinformedconsent.org nih.gov   \n",
       "2351158    childrenshealthdefense.org vaccines.net nih.gov   \n",
       "2397198                           nvic.org cdc.gov fda.gov   \n",
       "2497774                              xinhuanet.com who.int   \n",
       "2579797   nih.gov lww.com physiciansforinformedconsent.org   \n",
       "2600142           physiciansforinformedconsent.org nih.gov   \n",
       "2697947           nih.gov physiciansforinformedconsent.org   \n",
       "2780876           physiciansforinformedconsent.org nih.gov   \n",
       "2833276           nih.gov physiciansforinformedconsent.org   \n",
       "2871944                              xinhuanet.com nih.gov   \n",
       "2960225           nih.gov physiciansforinformedconsent.org   \n",
       "3003029  nih.gov springer.com physiciansforinformedcons...   \n",
       "3024169           physiciansforinformedconsent.org nih.gov   \n",
       "3086871      physiciansforinformedconsent.org medscape.com   \n",
       "3093131                  sciencedirect.com additudemag.com   \n",
       "3218791  sciencedirect.com physiciansforinformedconsent...   \n",
       "3748014           physiciansforinformedconsent.org nih.gov   \n",
       "4755918                      westernjournal.com nature.com   \n",
       "5012627           physiciansforinformedconsent.org nih.gov   \n",
       "5059685                                   nejm.org wnd.com   \n",
       "5254701               cdc.gov theconservativetreehouse.com   \n",
       "5287725           physiciansforinformedconsent.org nih.gov   \n",
       "5556082       who.int viewpoint-us2020.org dailymail.co.uk   \n",
       "5593401  sciencealert.com dailymail.co.uk nytimes.com p...   \n",
       "5654809  sciencealert.com dailymail.co.uk nytimes.com p...   \n",
       "5716812  trialsitenews.com thelancet.com europeanpharma...   \n",
       "5742903               xinhuanet.com nationalgeographic.com   \n",
       "5761033                healthdata.org thegatewaypundit.com   \n",
       "5895069  nowthisnews.com documentcloud.org youtube.com ...   \n",
       "5912873  physiciansforinformedconsent.org researchgate.net   \n",
       "6454864                  zerohedge.com archive.org nih.gov   \n",
       "6558924                         westernjournal.com cdc.gov   \n",
       "6798477           physiciansforinformedconsent.org nih.gov   \n",
       "6951874       sciencedirect.com childrenshealthdefense.org   \n",
       "7299596  physiciansforinformedconsent.org sciencedirect...   \n",
       "7355456                           cdc.gov medicaldaily.com   \n",
       "7725482                     theepochtimes.com biospace.com   \n",
       "7740641                       thegatewaypundit.com cdc.gov   \n",
       "7800037           physiciansforinformedconsent.org nih.gov   \n",
       "8292519        physiciansforinformedconsent.org nature.com   \n",
       "8421656  sciencedirect.com physiciansforinformedconsent...   \n",
       "8453205  coda.io change.org aapsonline.org researchgate...   \n",
       "9233746  investors.com google.com geopolitics.co popsci...   \n",
       "\n",
       "         number_of_antisciens_domains  number_of_prosciens_domains  \\\n",
       "80534                              -1                            1   \n",
       "229697                             -1                            1   \n",
       "565041                             -1                            1   \n",
       "751335                             -1                            1   \n",
       "823371                             -1                            1   \n",
       "993307                             -1                            1   \n",
       "1382295                            -1                            1   \n",
       "1425627                            -1                            1   \n",
       "1658186                            -1                            1   \n",
       "1754614                            -1                            1   \n",
       "1943326                            -1                            1   \n",
       "2189156                            -1                            1   \n",
       "2351158                            -1                            1   \n",
       "2397198                            -1                            1   \n",
       "2497774                            -1                            1   \n",
       "2579797                            -1                            1   \n",
       "2600142                            -1                            1   \n",
       "2697947                            -1                            1   \n",
       "2780876                            -1                            1   \n",
       "2833276                            -1                            1   \n",
       "2871944                            -1                            1   \n",
       "2960225                            -1                            1   \n",
       "3003029                            -1                            1   \n",
       "3024169                            -1                            1   \n",
       "3086871                            -1                            1   \n",
       "3093131                            -1                            1   \n",
       "3218791                            -1                            1   \n",
       "3748014                            -1                            1   \n",
       "4755918                            -1                            1   \n",
       "5012627                            -1                            1   \n",
       "5059685                            -1                            1   \n",
       "5254701                            -1                            1   \n",
       "5287725                            -1                            1   \n",
       "5556082                            -1                            1   \n",
       "5593401                            -1                            1   \n",
       "5654809                            -1                            1   \n",
       "5716812                            -1                            1   \n",
       "5742903                            -1                            1   \n",
       "5761033                            -1                            1   \n",
       "5895069                            -1                            1   \n",
       "5912873                            -1                            1   \n",
       "6454864                            -1                            1   \n",
       "6558924                            -1                            1   \n",
       "6798477                            -1                            1   \n",
       "6951874                            -1                            1   \n",
       "7299596                            -1                            1   \n",
       "7355456                            -1                            1   \n",
       "7725482                            -1                            1   \n",
       "7740641                            -1                            1   \n",
       "7800037                            -1                            1   \n",
       "8292519                            -1                            1   \n",
       "8421656                            -1                            1   \n",
       "8453205                            -1                            1   \n",
       "9233746                            -1                            1   \n",
       "\n",
       "         Sum_polarized_domains  tweet_science_polarisation  \n",
       "80534                        2                         0.0  \n",
       "229697                       2                         0.0  \n",
       "565041                       2                         0.0  \n",
       "751335                       2                         0.0  \n",
       "823371                       2                         0.0  \n",
       "993307                       2                         0.0  \n",
       "1382295                      2                         0.0  \n",
       "1425627                      2                         0.0  \n",
       "1658186                      2                         0.0  \n",
       "1754614                      2                         0.0  \n",
       "1943326                      2                         0.0  \n",
       "2189156                      2                         0.0  \n",
       "2351158                      2                         0.0  \n",
       "2397198                      2                         0.0  \n",
       "2497774                      2                         0.0  \n",
       "2579797                      2                         0.0  \n",
       "2600142                      2                         0.0  \n",
       "2697947                      2                         0.0  \n",
       "2780876                      2                         0.0  \n",
       "2833276                      2                         0.0  \n",
       "2871944                      2                         0.0  \n",
       "2960225                      2                         0.0  \n",
       "3003029                      2                         0.0  \n",
       "3024169                      2                         0.0  \n",
       "3086871                      2                         0.0  \n",
       "3093131                      2                         0.0  \n",
       "3218791                      2                         0.0  \n",
       "3748014                      2                         0.0  \n",
       "4755918                      2                         0.0  \n",
       "5012627                      2                         0.0  \n",
       "5059685                      2                         0.0  \n",
       "5254701                      2                         0.0  \n",
       "5287725                      2                         0.0  \n",
       "5556082                      2                         0.0  \n",
       "5593401                      2                         0.0  \n",
       "5654809                      2                         0.0  \n",
       "5716812                      2                         0.0  \n",
       "5742903                      2                         0.0  \n",
       "5761033                      2                         0.0  \n",
       "5895069                      2                         0.0  \n",
       "5912873                      2                         0.0  \n",
       "6454864                      2                         0.0  \n",
       "6558924                      2                         0.0  \n",
       "6798477                      2                         0.0  \n",
       "6951874                      2                         0.0  \n",
       "7299596                      2                         0.0  \n",
       "7355456                      2                         0.0  \n",
       "7725482                      2                         0.0  \n",
       "7740641                      2                         0.0  \n",
       "7800037                      2                         0.0  \n",
       "8292519                      2                         0.0  \n",
       "8421656                      2                         0.0  \n",
       "8453205                      2                         0.0  \n",
       "9233746                      2                         0.0  "
      ]
     },
     "execution_count": 37,
     "metadata": {},
     "output_type": "execute_result"
    }
   ],
   "source": [
    "df_tweetscov19[(df_tweetscov19.tweet_science_polarisation ==0) & (df_tweetscov19.Sum_polarized_domains > 0)]"
   ]
  },
  {
   "cell_type": "code",
   "execution_count": 39,
   "id": "1efcf301",
   "metadata": {},
   "outputs": [
    {
     "data": {
      "text/plain": [
       "(148308, 8)"
      ]
     },
     "execution_count": 39,
     "metadata": {},
     "output_type": "execute_result"
    }
   ],
   "source": [
    "df_tweetscov19 = df_tweetscov19[df_tweetscov19.Sum_polarized_domains > 0]\n",
    "df_tweetscov19.shape"
   ]
  },
  {
   "cell_type": "markdown",
   "id": "d3ee52dc",
   "metadata": {},
   "source": [
    "***"
   ]
  },
  {
   "cell_type": "markdown",
   "id": "21e3b13b",
   "metadata": {},
   "source": [
    "***"
   ]
  },
  {
   "cell_type": "code",
   "execution_count": 52,
   "id": "c784f718",
   "metadata": {},
   "outputs": [],
   "source": [
    "# df_tweetscov19 = df_tweetscov19[['Tweet_Id', 'number_of_antisciens_domains', 'number_of_prosciens_domains', 'Sum_polarized_domains', 'tweet_science_polarisation']]\n",
    "\n",
    "\n",
    "# path = '../data/tweetscov19_science_polarized_tweets.tsv'\n",
    "\n",
    "# df_tweetscov19.Tweet_Id = df_tweetscov19.Tweet_Id.astype(str)\n",
    "\n",
    "# with open(path, 'w', newline='', encoding=\"utf-8\") as out_file:\n",
    "#     tsv_writer = csv.writer(out_file, delimiter=\"\\t\")\n",
    "#     for idx, row in df_tweetscov19.iterrows():\n",
    "#         tsv_writer.writerow(row.values.tolist())"
   ]
  },
  {
   "cell_type": "code",
   "execution_count": 53,
   "id": "785cf834",
   "metadata": {},
   "outputs": [],
   "source": [
    "# df_tweetscov19_unique_user = df_tweetscov19_unique_user.reset_index()\n",
    "# df_tweetscov19_unique_user.head()\n",
    "\n",
    "# pfad_tsv3 = '../data/tweetscov19_science_polarized_users.tsv'\n",
    "\n",
    "# with open(pfad_tsv3, 'w', newline='', encoding=\"utf-8\") as out_file:\n",
    "#     tsv_writer = csv.writer(out_file, delimiter=\"\\t\")\n",
    "#     for idx, row in df_tweetscov19_unique_user.iterrows():\n",
    "#         tsv_writer.writerow(row.values.tolist())"
   ]
  },
  {
   "cell_type": "markdown",
   "id": "28d5c15e",
   "metadata": {},
   "source": [
    "***"
   ]
  },
  {
   "cell_type": "markdown",
   "id": "252d04c5",
   "metadata": {},
   "source": [
    "## Polarisierungen berechnen\n",
    "### TweetsKB\n",
    "### User Polarisation\n"
   ]
  },
  {
   "cell_type": "markdown",
   "id": "70abba15",
   "metadata": {},
   "source": [
    "***"
   ]
  },
  {
   "cell_type": "code",
   "execution_count": 54,
   "id": "0c06e05d",
   "metadata": {},
   "outputs": [
    {
     "name": "stdout",
     "output_type": "stream",
     "text": [
      "Shape : (9409841, 4)\n"
     ]
    },
    {
     "data": {
      "text/html": [
       "<div>\n",
       "<style scoped>\n",
       "    .dataframe tbody tr th:only-of-type {\n",
       "        vertical-align: middle;\n",
       "    }\n",
       "\n",
       "    .dataframe tbody tr th {\n",
       "        vertical-align: top;\n",
       "    }\n",
       "\n",
       "    .dataframe thead th {\n",
       "        text-align: right;\n",
       "    }\n",
       "</style>\n",
       "<table border=\"1\" class=\"dataframe\">\n",
       "  <thead>\n",
       "    <tr style=\"text-align: right;\">\n",
       "      <th></th>\n",
       "      <th>Tweet_Id</th>\n",
       "      <th>Username</th>\n",
       "      <th>Is_deleted</th>\n",
       "      <th>Domains</th>\n",
       "    </tr>\n",
       "  </thead>\n",
       "  <tbody>\n",
       "    <tr>\n",
       "      <th>0</th>\n",
       "      <td>1178791636039589889</td>\n",
       "      <td>DCComics</td>\n",
       "      <td>False</td>\n",
       "      <td>dcuniverseinfinite.com</td>\n",
       "    </tr>\n",
       "    <tr>\n",
       "      <th>1</th>\n",
       "      <td>1178791641265639424</td>\n",
       "      <td>seanberdyz</td>\n",
       "      <td>True</td>\n",
       "      <td>carrd.co</td>\n",
       "    </tr>\n",
       "    <tr>\n",
       "      <th>2</th>\n",
       "      <td>1178791640573579264</td>\n",
       "      <td>AnArtistAtBirth</td>\n",
       "      <td>True</td>\n",
       "      <td>0</td>\n",
       "    </tr>\n",
       "    <tr>\n",
       "      <th>3</th>\n",
       "      <td>1178791644797255680</td>\n",
       "      <td>lagosboygang</td>\n",
       "      <td>True</td>\n",
       "      <td>0</td>\n",
       "    </tr>\n",
       "    <tr>\n",
       "      <th>4</th>\n",
       "      <td>1178791648056217600</td>\n",
       "      <td>Phenom_Hoops</td>\n",
       "      <td>False</td>\n",
       "      <td>phenomhoopreport.com</td>\n",
       "    </tr>\n",
       "  </tbody>\n",
       "</table>\n",
       "</div>"
      ],
      "text/plain": [
       "              Tweet_Id         Username  Is_deleted                 Domains\n",
       "0  1178791636039589889         DCComics       False  dcuniverseinfinite.com\n",
       "1  1178791641265639424       seanberdyz        True                carrd.co\n",
       "2  1178791640573579264  AnArtistAtBirth        True                       0\n",
       "3  1178791644797255680     lagosboygang        True                       0\n",
       "4  1178791648056217600     Phenom_Hoops       False    phenomhoopreport.com"
      ]
     },
     "execution_count": 54,
     "metadata": {},
     "output_type": "execute_result"
    }
   ],
   "source": [
    "pfad_tsv3 = '../data/tweetskb_id_isdeleted_domains.tsv'\n",
    "\n",
    "df_tweetskb = pd.read_csv(pfad_tsv3, sep='\\t', error_bad_lines=False, names=['Tweet_Id', 'Username' ,'Is_deleted', 'Domains'])\n",
    "\n",
    "print('Shape :', df_tweetskb.shape)\n",
    "df_tweetskb.head()"
   ]
  },
  {
   "cell_type": "markdown",
   "id": "0675eee6",
   "metadata": {},
   "source": [
    "- Calculation of antiscience domains"
   ]
  },
  {
   "cell_type": "code",
   "execution_count": 55,
   "id": "6fb2914d",
   "metadata": {},
   "outputs": [],
   "source": [
    "df_tweetskb['Domains'] = df_tweetskb['Domains'].astype(str)\n",
    "df_tweetskb['number_of_antisciens_domains'] = df_tweetskb.apply(lambda row: get_number_of_antiscience_domains(row['Domains']) if (row['Domains'] != '0') else 0, axis=1)"
   ]
  },
  {
   "cell_type": "code",
   "execution_count": 56,
   "id": "0d6ae275",
   "metadata": {},
   "outputs": [
    {
     "name": "stdout",
     "output_type": "stream",
     "text": [
      "Number of tweets with at least one antiscience Domain:  27483\n"
     ]
    }
   ],
   "source": [
    "tweets_with_antiscience_domains = df_tweetskb[df_tweetskb['number_of_antisciens_domains'] < 0].shape\n",
    "\n",
    "print('Number of tweets with at least one antiscience Domain: ', tweets_with_antiscience_domains[0])"
   ]
  },
  {
   "cell_type": "markdown",
   "id": "293b6c99",
   "metadata": {},
   "source": [
    "- Calculation of proscience domains"
   ]
  },
  {
   "cell_type": "code",
   "execution_count": 57,
   "id": "84693b26",
   "metadata": {},
   "outputs": [],
   "source": [
    "df_tweetskb['number_of_prosciens_domains'] = df_tweetskb.apply(lambda row: get_number_of_proscience_domains(row['Domains']) if (row['Domains'] != '0') else 0, axis=1)"
   ]
  },
  {
   "cell_type": "code",
   "execution_count": 58,
   "id": "7de83846",
   "metadata": {},
   "outputs": [
    {
     "name": "stdout",
     "output_type": "stream",
     "text": [
      "Number of tweets with at least one proscience Domain:  6599\n"
     ]
    }
   ],
   "source": [
    "tweets_with_proscience_domains = df_tweetskb[df_tweetskb['number_of_prosciens_domains'] > 0].shape\n",
    "\n",
    "print('Number of tweets with at least one proscience Domain: ', tweets_with_proscience_domains[0])"
   ]
  },
  {
   "cell_type": "markdown",
   "id": "7458c69e",
   "metadata": {},
   "source": [
    "- groupby"
   ]
  },
  {
   "cell_type": "code",
   "execution_count": 59,
   "id": "b9f3e654",
   "metadata": {},
   "outputs": [
    {
     "name": "stderr",
     "output_type": "stream",
     "text": [
      "<ipython-input-59-532f45cc846d>:1: FutureWarning: Indexing with multiple keys (implicitly converted to a tuple of keys) will be deprecated, use a list instead.\n",
      "  df_tweetskb_unique_user = df_tweetskb.groupby('Username')[ 'number_of_antisciens_domains', 'number_of_prosciens_domains'].sum()\n"
     ]
    }
   ],
   "source": [
    "\n",
    "df_tweetskb_unique_user = df_tweetskb.groupby('Username')[ 'number_of_antisciens_domains', 'number_of_prosciens_domains'].sum()"
   ]
  },
  {
   "cell_type": "code",
   "execution_count": 60,
   "id": "083f81c8",
   "metadata": {},
   "outputs": [
    {
     "name": "stdout",
     "output_type": "stream",
     "text": [
      "Number of unique users in TweetsKB:  5208425\n"
     ]
    }
   ],
   "source": [
    "unique_users = df_tweetskb_unique_user.shape\n",
    "\n",
    "print('Number of unique users in TweetsKB: ', unique_users[0])"
   ]
  },
  {
   "cell_type": "code",
   "execution_count": 61,
   "id": "b8be5f81",
   "metadata": {},
   "outputs": [
    {
     "data": {
      "text/html": [
       "<div>\n",
       "<style scoped>\n",
       "    .dataframe tbody tr th:only-of-type {\n",
       "        vertical-align: middle;\n",
       "    }\n",
       "\n",
       "    .dataframe tbody tr th {\n",
       "        vertical-align: top;\n",
       "    }\n",
       "\n",
       "    .dataframe thead th {\n",
       "        text-align: right;\n",
       "    }\n",
       "</style>\n",
       "<table border=\"1\" class=\"dataframe\">\n",
       "  <thead>\n",
       "    <tr style=\"text-align: right;\">\n",
       "      <th></th>\n",
       "      <th>number_of_antisciens_domains</th>\n",
       "      <th>number_of_prosciens_domains</th>\n",
       "    </tr>\n",
       "    <tr>\n",
       "      <th>Username</th>\n",
       "      <th></th>\n",
       "      <th></th>\n",
       "    </tr>\n",
       "  </thead>\n",
       "  <tbody>\n",
       "    <tr>\n",
       "      <th>00000000</th>\n",
       "      <td>0</td>\n",
       "      <td>0</td>\n",
       "    </tr>\n",
       "    <tr>\n",
       "      <th>000000000yt</th>\n",
       "      <td>0</td>\n",
       "      <td>0</td>\n",
       "    </tr>\n",
       "    <tr>\n",
       "      <th>00000000martin</th>\n",
       "      <td>0</td>\n",
       "      <td>0</td>\n",
       "    </tr>\n",
       "    <tr>\n",
       "      <th>000000911a</th>\n",
       "      <td>0</td>\n",
       "      <td>0</td>\n",
       "    </tr>\n",
       "    <tr>\n",
       "      <th>000000_127</th>\n",
       "      <td>0</td>\n",
       "      <td>0</td>\n",
       "    </tr>\n",
       "  </tbody>\n",
       "</table>\n",
       "</div>"
      ],
      "text/plain": [
       "                number_of_antisciens_domains  number_of_prosciens_domains\n",
       "Username                                                                 \n",
       "00000000                                   0                            0\n",
       "000000000yt                                0                            0\n",
       "00000000martin                             0                            0\n",
       "000000911a                                 0                            0\n",
       "000000_127                                 0                            0"
      ]
     },
     "execution_count": 61,
     "metadata": {},
     "output_type": "execute_result"
    }
   ],
   "source": [
    "df_tweetskb_unique_user.head()"
   ]
  },
  {
   "cell_type": "code",
   "execution_count": 62,
   "id": "4b40c366",
   "metadata": {},
   "outputs": [],
   "source": [
    "df_tweetskb_unique_user['Sum_polarized_domains'] = df_tweetskb_unique_user.apply(lambda row: (row['number_of_prosciens_domains'] - row['number_of_antisciens_domains']), axis=1)"
   ]
  },
  {
   "cell_type": "code",
   "execution_count": 63,
   "id": "4bd8ed8c",
   "metadata": {},
   "outputs": [
    {
     "data": {
      "text/html": [
       "<div>\n",
       "<style scoped>\n",
       "    .dataframe tbody tr th:only-of-type {\n",
       "        vertical-align: middle;\n",
       "    }\n",
       "\n",
       "    .dataframe tbody tr th {\n",
       "        vertical-align: top;\n",
       "    }\n",
       "\n",
       "    .dataframe thead th {\n",
       "        text-align: right;\n",
       "    }\n",
       "</style>\n",
       "<table border=\"1\" class=\"dataframe\">\n",
       "  <thead>\n",
       "    <tr style=\"text-align: right;\">\n",
       "      <th></th>\n",
       "      <th>number_of_antisciens_domains</th>\n",
       "      <th>number_of_prosciens_domains</th>\n",
       "      <th>Sum_polarized_domains</th>\n",
       "    </tr>\n",
       "    <tr>\n",
       "      <th>Username</th>\n",
       "      <th></th>\n",
       "      <th></th>\n",
       "      <th></th>\n",
       "    </tr>\n",
       "  </thead>\n",
       "  <tbody>\n",
       "    <tr>\n",
       "      <th>100PercFEDUP</th>\n",
       "      <td>-8</td>\n",
       "      <td>0</td>\n",
       "      <td>8</td>\n",
       "    </tr>\n",
       "    <tr>\n",
       "      <th>10thAmendment</th>\n",
       "      <td>-10</td>\n",
       "      <td>0</td>\n",
       "      <td>10</td>\n",
       "    </tr>\n",
       "    <tr>\n",
       "      <th>1234renodog</th>\n",
       "      <td>-3</td>\n",
       "      <td>0</td>\n",
       "      <td>3</td>\n",
       "    </tr>\n",
       "    <tr>\n",
       "      <th>123RHGreen</th>\n",
       "      <td>-21</td>\n",
       "      <td>0</td>\n",
       "      <td>21</td>\n",
       "    </tr>\n",
       "    <tr>\n",
       "      <th>125LolaLola</th>\n",
       "      <td>-3</td>\n",
       "      <td>0</td>\n",
       "      <td>3</td>\n",
       "    </tr>\n",
       "  </tbody>\n",
       "</table>\n",
       "</div>"
      ],
      "text/plain": [
       "               number_of_antisciens_domains  number_of_prosciens_domains  \\\n",
       "Username                                                                   \n",
       "100PercFEDUP                             -8                            0   \n",
       "10thAmendment                           -10                            0   \n",
       "1234renodog                              -3                            0   \n",
       "123RHGreen                              -21                            0   \n",
       "125LolaLola                              -3                            0   \n",
       "\n",
       "               Sum_polarized_domains  \n",
       "Username                              \n",
       "100PercFEDUP                       8  \n",
       "10thAmendment                     10  \n",
       "1234renodog                        3  \n",
       "123RHGreen                        21  \n",
       "125LolaLola                        3  "
      ]
     },
     "execution_count": 63,
     "metadata": {},
     "output_type": "execute_result"
    }
   ],
   "source": [
    "df_tweetskb_unique_user[df_tweetskb_unique_user['number_of_antisciens_domains']<-2].head()"
   ]
  },
  {
   "cell_type": "code",
   "execution_count": 64,
   "id": "a1a28c7a",
   "metadata": {},
   "outputs": [],
   "source": [
    "df_tweetskb_unique_user['normalised_polarisation'] = df_tweetskb_unique_user.apply(lambda row: (row['number_of_antisciens_domains'] + row['number_of_prosciens_domains']) / row['Sum_polarized_domains'] if row['Sum_polarized_domains'] != 0 else 0, axis=1)"
   ]
  },
  {
   "cell_type": "code",
   "execution_count": 65,
   "id": "f0a3cf50",
   "metadata": {},
   "outputs": [
    {
     "name": "stdout",
     "output_type": "stream",
     "text": [
      "Number of proscience polarized users in TWeetsKB:  4769\n"
     ]
    }
   ],
   "source": [
    "number_of_proscience_polarized_users = df_tweetskb_unique_user[df_tweetskb_unique_user['normalised_polarisation'] > 0]\n",
    "\n",
    "print('Number of proscience polarized users in TWeetsKB: ', number_of_proscience_polarized_users.shape[0])"
   ]
  },
  {
   "cell_type": "code",
   "execution_count": 66,
   "id": "b8132fec",
   "metadata": {},
   "outputs": [
    {
     "name": "stdout",
     "output_type": "stream",
     "text": [
      "Number of antiscience polarized users in TWeetsKB:  10493\n"
     ]
    }
   ],
   "source": [
    "number_of_antiscience_polarized_users = df_tweetskb_unique_user[df_tweetskb_unique_user['normalised_polarisation'] < 0].shape\n",
    "\n",
    "print('Number of antiscience polarized users in TWeetsKB: ', number_of_antiscience_polarized_users[0])"
   ]
  },
  {
   "cell_type": "code",
   "execution_count": 67,
   "id": "ac4ccbeb",
   "metadata": {},
   "outputs": [
    {
     "name": "stdout",
     "output_type": "stream",
     "text": [
      "Number of neutrale users in TWeetsKB:  63\n"
     ]
    }
   ],
   "source": [
    "number_of_neutrale_users = df_tweetskb_unique_user[(df_tweetskb_unique_user['normalised_polarisation'] == 0) & (df_tweetskb_unique_user['Sum_polarized_domains'] > 0)]\n",
    "\n",
    "print('Number of neutrale users in TWeetsKB: ', number_of_neutrale_users.shape[0])"
   ]
  },
  {
   "cell_type": "code",
   "execution_count": 68,
   "id": "401683e0",
   "metadata": {},
   "outputs": [
    {
     "data": {
      "text/plain": [
       "(15325, 4)"
      ]
     },
     "execution_count": 68,
     "metadata": {},
     "output_type": "execute_result"
    }
   ],
   "source": [
    "df_tweetskb_unique_user = df_tweetskb_unique_user[df_tweetskb_unique_user['Sum_polarized_domains']>0]\n",
    "df_tweetskb_unique_user.shape"
   ]
  },
  {
   "cell_type": "markdown",
   "id": "3fe00d32",
   "metadata": {},
   "source": [
    "***"
   ]
  },
  {
   "cell_type": "markdown",
   "id": "ff68995b",
   "metadata": {},
   "source": [
    "### Tweet polarisation"
   ]
  },
  {
   "cell_type": "code",
   "execution_count": 69,
   "id": "64ac132a",
   "metadata": {},
   "outputs": [
    {
     "data": {
      "text/html": [
       "<div>\n",
       "<style scoped>\n",
       "    .dataframe tbody tr th:only-of-type {\n",
       "        vertical-align: middle;\n",
       "    }\n",
       "\n",
       "    .dataframe tbody tr th {\n",
       "        vertical-align: top;\n",
       "    }\n",
       "\n",
       "    .dataframe thead th {\n",
       "        text-align: right;\n",
       "    }\n",
       "</style>\n",
       "<table border=\"1\" class=\"dataframe\">\n",
       "  <thead>\n",
       "    <tr style=\"text-align: right;\">\n",
       "      <th></th>\n",
       "      <th>Tweet_Id</th>\n",
       "      <th>Username</th>\n",
       "      <th>Is_deleted</th>\n",
       "      <th>Domains</th>\n",
       "      <th>number_of_antisciens_domains</th>\n",
       "      <th>number_of_prosciens_domains</th>\n",
       "    </tr>\n",
       "  </thead>\n",
       "  <tbody>\n",
       "    <tr>\n",
       "      <th>0</th>\n",
       "      <td>1178791636039589889</td>\n",
       "      <td>DCComics</td>\n",
       "      <td>False</td>\n",
       "      <td>dcuniverseinfinite.com</td>\n",
       "      <td>0</td>\n",
       "      <td>0</td>\n",
       "    </tr>\n",
       "  </tbody>\n",
       "</table>\n",
       "</div>"
      ],
      "text/plain": [
       "              Tweet_Id  Username  Is_deleted                 Domains  \\\n",
       "0  1178791636039589889  DCComics       False  dcuniverseinfinite.com   \n",
       "\n",
       "   number_of_antisciens_domains  number_of_prosciens_domains  \n",
       "0                             0                            0  "
      ]
     },
     "execution_count": 69,
     "metadata": {},
     "output_type": "execute_result"
    }
   ],
   "source": [
    "df_tweetskb.head(1)"
   ]
  },
  {
   "cell_type": "code",
   "execution_count": 70,
   "id": "19a56021",
   "metadata": {},
   "outputs": [
    {
     "data": {
      "text/html": [
       "<div>\n",
       "<style scoped>\n",
       "    .dataframe tbody tr th:only-of-type {\n",
       "        vertical-align: middle;\n",
       "    }\n",
       "\n",
       "    .dataframe tbody tr th {\n",
       "        vertical-align: top;\n",
       "    }\n",
       "\n",
       "    .dataframe thead th {\n",
       "        text-align: right;\n",
       "    }\n",
       "</style>\n",
       "<table border=\"1\" class=\"dataframe\">\n",
       "  <thead>\n",
       "    <tr style=\"text-align: right;\">\n",
       "      <th></th>\n",
       "      <th>Tweet_Id</th>\n",
       "      <th>Username</th>\n",
       "      <th>Is_deleted</th>\n",
       "      <th>Domains</th>\n",
       "      <th>number_of_antisciens_domains</th>\n",
       "      <th>number_of_prosciens_domains</th>\n",
       "      <th>Sum_polarized_domains</th>\n",
       "    </tr>\n",
       "  </thead>\n",
       "  <tbody>\n",
       "    <tr>\n",
       "      <th>0</th>\n",
       "      <td>1178791636039589889</td>\n",
       "      <td>DCComics</td>\n",
       "      <td>False</td>\n",
       "      <td>dcuniverseinfinite.com</td>\n",
       "      <td>0</td>\n",
       "      <td>0</td>\n",
       "      <td>0</td>\n",
       "    </tr>\n",
       "  </tbody>\n",
       "</table>\n",
       "</div>"
      ],
      "text/plain": [
       "              Tweet_Id  Username  Is_deleted                 Domains  \\\n",
       "0  1178791636039589889  DCComics       False  dcuniverseinfinite.com   \n",
       "\n",
       "   number_of_antisciens_domains  number_of_prosciens_domains  \\\n",
       "0                             0                            0   \n",
       "\n",
       "   Sum_polarized_domains  \n",
       "0                      0  "
      ]
     },
     "execution_count": 70,
     "metadata": {},
     "output_type": "execute_result"
    }
   ],
   "source": [
    "df_tweetskb['Sum_polarized_domains'] = df_tweetskb.apply(lambda row: ((row['number_of_prosciens_domains'] - row['number_of_antisciens_domains'])), axis=1)\n",
    "df_tweetskb.head(1)"
   ]
  },
  {
   "cell_type": "code",
   "execution_count": 71,
   "id": "170ff877",
   "metadata": {},
   "outputs": [],
   "source": [
    "df_tweetskb['tweet_science_polarisation'] = df_tweetskb.apply(lambda row: (row['number_of_prosciens_domains'] + row['number_of_antisciens_domains']) / row['Sum_polarized_domains'] if row['Sum_polarized_domains'] != 0 else 0, axis=1)"
   ]
  },
  {
   "cell_type": "code",
   "execution_count": 72,
   "id": "1ac7d724",
   "metadata": {},
   "outputs": [
    {
     "data": {
      "text/plain": [
       "(6598, 8)"
      ]
     },
     "execution_count": 72,
     "metadata": {},
     "output_type": "execute_result"
    }
   ],
   "source": [
    "df_tweetskb[df_tweetskb.tweet_science_polarisation > 0].shape"
   ]
  },
  {
   "cell_type": "code",
   "execution_count": 73,
   "id": "955c21c3",
   "metadata": {},
   "outputs": [
    {
     "data": {
      "text/plain": [
       "(27482, 8)"
      ]
     },
     "execution_count": 73,
     "metadata": {},
     "output_type": "execute_result"
    }
   ],
   "source": [
    "df_tweetskb[df_tweetskb.tweet_science_polarisation < 0].shape"
   ]
  },
  {
   "cell_type": "code",
   "execution_count": 74,
   "id": "9a4876bd",
   "metadata": {},
   "outputs": [
    {
     "data": {
      "text/plain": [
       "(1, 8)"
      ]
     },
     "execution_count": 74,
     "metadata": {},
     "output_type": "execute_result"
    }
   ],
   "source": [
    "df_tweetskb[(df_tweetskb.tweet_science_polarisation ==0) & (df_tweetskb.Sum_polarized_domains > 0)].shape"
   ]
  },
  {
   "cell_type": "code",
   "execution_count": 75,
   "id": "2c1949fe",
   "metadata": {
    "scrolled": true
   },
   "outputs": [
    {
     "data": {
      "text/html": [
       "<div>\n",
       "<style scoped>\n",
       "    .dataframe tbody tr th:only-of-type {\n",
       "        vertical-align: middle;\n",
       "    }\n",
       "\n",
       "    .dataframe tbody tr th {\n",
       "        vertical-align: top;\n",
       "    }\n",
       "\n",
       "    .dataframe thead th {\n",
       "        text-align: right;\n",
       "    }\n",
       "</style>\n",
       "<table border=\"1\" class=\"dataframe\">\n",
       "  <thead>\n",
       "    <tr style=\"text-align: right;\">\n",
       "      <th></th>\n",
       "      <th>Tweet_Id</th>\n",
       "      <th>Username</th>\n",
       "      <th>Is_deleted</th>\n",
       "      <th>Domains</th>\n",
       "      <th>number_of_antisciens_domains</th>\n",
       "      <th>number_of_prosciens_domains</th>\n",
       "      <th>Sum_polarized_domains</th>\n",
       "      <th>tweet_science_polarisation</th>\n",
       "    </tr>\n",
       "  </thead>\n",
       "  <tbody>\n",
       "    <tr>\n",
       "      <th>9180639</th>\n",
       "      <td>1244313013391253504</td>\n",
       "      <td>NikolovScience</td>\n",
       "      <td>False</td>\n",
       "      <td>nejm.org wnd.com</td>\n",
       "      <td>-1</td>\n",
       "      <td>1</td>\n",
       "      <td>2</td>\n",
       "      <td>0.0</td>\n",
       "    </tr>\n",
       "  </tbody>\n",
       "</table>\n",
       "</div>"
      ],
      "text/plain": [
       "                    Tweet_Id        Username  Is_deleted           Domains  \\\n",
       "9180639  1244313013391253504  NikolovScience       False  nejm.org wnd.com   \n",
       "\n",
       "         number_of_antisciens_domains  number_of_prosciens_domains  \\\n",
       "9180639                            -1                            1   \n",
       "\n",
       "         Sum_polarized_domains  tweet_science_polarisation  \n",
       "9180639                      2                         0.0  "
      ]
     },
     "execution_count": 75,
     "metadata": {},
     "output_type": "execute_result"
    }
   ],
   "source": [
    "df_tweetskb[(df_tweetskb.tweet_science_polarisation ==0) & (df_tweetskb.Sum_polarized_domains > 0)]"
   ]
  },
  {
   "cell_type": "code",
   "execution_count": null,
   "id": "6087f6cb",
   "metadata": {},
   "outputs": [],
   "source": [
    "df_tweetskb = df_tweetskb[df_tweetskb.Sum_polarized_domains > 0]"
   ]
  },
  {
   "cell_type": "markdown",
   "id": "1b4bf50f",
   "metadata": {},
   "source": [
    "***"
   ]
  },
  {
   "cell_type": "code",
   "execution_count": 76,
   "id": "f6363d2b",
   "metadata": {},
   "outputs": [],
   "source": [
    "df_tweetskb = df_tweetskb[['Tweet_Id', 'number_of_antisciens_domains', 'number_of_prosciens_domains', 'Sum_polarized_domains', 'tweet_science_polarisation']]\n",
    "\n",
    "path = '../data/tweetskb_science_polarized_tweets.tsv'\n",
    "\n",
    "df_tweetskb.Tweet_Id = df_tweetskb.Tweet_Id.astype(str)\n",
    "\n",
    "with open(path, 'w', newline='', encoding=\"utf-8\") as out_file:\n",
    "    tsv_writer = csv.writer(out_file, delimiter=\"\\t\")\n",
    "    for idx, row in df_tweetskb.iterrows():\n",
    "        tsv_writer.writerow(row.values.tolist())"
   ]
  },
  {
   "cell_type": "code",
   "execution_count": 77,
   "id": "f56478e0",
   "metadata": {},
   "outputs": [],
   "source": [
    "# df_tweetskb_unique_user = df_tweetskb_unique_user.reset_index()\n",
    "# df_tweetskb_unique_user.head()\n",
    "\n",
    "# pfad_tsv3 = '../data/tweetskb_science_polarized_users.tsv'\n",
    "\n",
    "# with open(pfad_tsv3, 'w', newline='', encoding=\"utf-8\") as out_file:\n",
    "#     tsv_writer = csv.writer(out_file, delimiter=\"\\t\")\n",
    "#     for idx, row in df_tweetskb_unique_user.iterrows():\n",
    "#         tsv_writer.writerow(row.values.tolist())"
   ]
  },
  {
   "cell_type": "code",
   "execution_count": null,
   "id": "910793f4",
   "metadata": {},
   "outputs": [],
   "source": []
  }
 ],
 "metadata": {
  "kernelspec": {
   "display_name": "Python 3",
   "language": "python",
   "name": "python3"
  },
  "language_info": {
   "codemirror_mode": {
    "name": "ipython",
    "version": 3
   },
   "file_extension": ".py",
   "mimetype": "text/x-python",
   "name": "python",
   "nbconvert_exporter": "python",
   "pygments_lexer": "ipython3",
   "version": "3.8.8"
  }
 },
 "nbformat": 4,
 "nbformat_minor": 5
}
