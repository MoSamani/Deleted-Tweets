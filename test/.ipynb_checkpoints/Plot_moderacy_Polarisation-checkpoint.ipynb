{
 "cells": [
  {
   "cell_type": "code",
   "execution_count": 1,
   "id": "bc0f3bba",
   "metadata": {},
   "outputs": [],
   "source": [
    "#CSV Bibliothek importieren \n",
    "import csv\n",
    "#Pandas importieren und als pd bezeichnen\n",
    "import pandas as pd\n",
    "#Numpy importieren und als np bezeichnen \n",
    "import numpy as np\n",
    "#Json Biliothek importieren\n",
    "import json\n",
    "#Obere Schranke für die Größe der Daten auf 100,000,000 setzen  \n",
    "csv.field_size_limit(100000000)\n",
    "#Maximale Anzahl von Zeilen und Spalten Zeigen \n",
    "pd.options.display.max_columns = None\n",
    "pd.options.display.max_rows = None\n",
    "#Um die Zeiträume bearbeiten zu können\n",
    "from datetime import datetime\n",
    "#Seaborn für die Plot importieren\n",
    "import seaborn as sns\n",
    "#matplotlib Importieren und als plt bezeichnen\n",
    "import matplotlib\n",
    "import matplotlib.pyplot as plt\n",
    "#Macht die Plots inline\n",
    "%matplotlib inline \n",
    "#dates importieren, um Zeitstempel bearbeiten zu können\n",
    "import matplotlib.dates as mdates\n",
    "#tick importieren\n",
    "import matplotlib.ticker as tick\n",
    "#Die Nachkommastellen auf 4 Zashlen einschränken\n",
    "pd.options.display.float_format = '{:.4f}'.format\n",
    "\n",
    "from matplotlib.ticker import ScalarFormatter\n",
    "from matplotlib import ticker\n",
    "import warnings\n",
    "warnings.filterwarnings(\"ignore\")"
   ]
  },
  {
   "cell_type": "markdown",
   "id": "1f1764da",
   "metadata": {},
   "source": [
    "***"
   ]
  },
  {
   "cell_type": "markdown",
   "id": "51d397bc",
   "metadata": {},
   "source": [
    "# TweetsCov19\n",
    "## KDE-Plot"
   ]
  },
  {
   "cell_type": "markdown",
   "id": "416aeea1",
   "metadata": {},
   "source": [
    "****"
   ]
  },
  {
   "cell_type": "markdown",
   "id": "69f69cf2",
   "metadata": {},
   "source": [
    "### Merge polarized tweets mit polarized sers"
   ]
  },
  {
   "cell_type": "code",
   "execution_count": 2,
   "id": "48e088e3",
   "metadata": {},
   "outputs": [
    {
     "name": "stdout",
     "output_type": "stream",
     "text": [
      "Shape : (759735, 12)\n"
     ]
    },
    {
     "data": {
      "text/html": [
       "<div>\n",
       "<style scoped>\n",
       "    .dataframe tbody tr th:only-of-type {\n",
       "        vertical-align: middle;\n",
       "    }\n",
       "\n",
       "    .dataframe tbody tr th {\n",
       "        vertical-align: top;\n",
       "    }\n",
       "\n",
       "    .dataframe thead th {\n",
       "        text-align: right;\n",
       "    }\n",
       "</style>\n",
       "<table border=\"1\" class=\"dataframe\">\n",
       "  <thead>\n",
       "    <tr style=\"text-align: right;\">\n",
       "      <th></th>\n",
       "      <th>Tweet_Id</th>\n",
       "      <th>Username</th>\n",
       "      <th>Timestamp</th>\n",
       "      <th>Deletionratio</th>\n",
       "      <th>Reputation</th>\n",
       "      <th>is_deleted</th>\n",
       "      <th>user_political_polarisation</th>\n",
       "      <th>user_science_polarisation</th>\n",
       "      <th>user_moderacy_polarisation</th>\n",
       "      <th>tweet_political_polarisation</th>\n",
       "      <th>tweet_science_polarisation</th>\n",
       "      <th>tweet_moderacy_polarisation</th>\n",
       "    </tr>\n",
       "  </thead>\n",
       "  <tbody>\n",
       "    <tr>\n",
       "      <th>0</th>\n",
       "      <td>1184746364158271488</td>\n",
       "      <td>7966d5716c1c4f33591b17755184e3d6</td>\n",
       "      <td>2019-10-17 08:21:59+00:00</td>\n",
       "      <td>0.2083</td>\n",
       "      <td>0.5722</td>\n",
       "      <td>False</td>\n",
       "      <td>-0.5000</td>\n",
       "      <td>NaN</td>\n",
       "      <td>-1.0000</td>\n",
       "      <td>-1.0000</td>\n",
       "      <td>NaN</td>\n",
       "      <td>-1.0000</td>\n",
       "    </tr>\n",
       "    <tr>\n",
       "      <th>1</th>\n",
       "      <td>1189964117941145600</td>\n",
       "      <td>7966d5716c1c4f33591b17755184e3d6</td>\n",
       "      <td>2019-10-31 17:55:28+00:00</td>\n",
       "      <td>0.2083</td>\n",
       "      <td>0.5722</td>\n",
       "      <td>False</td>\n",
       "      <td>-0.5000</td>\n",
       "      <td>NaN</td>\n",
       "      <td>-1.0000</td>\n",
       "      <td>-1.0000</td>\n",
       "      <td>NaN</td>\n",
       "      <td>-1.0000</td>\n",
       "    </tr>\n",
       "    <tr>\n",
       "      <th>2</th>\n",
       "      <td>1194209649693724672</td>\n",
       "      <td>7966d5716c1c4f33591b17755184e3d6</td>\n",
       "      <td>2019-11-12 11:05:42+00:00</td>\n",
       "      <td>0.2083</td>\n",
       "      <td>0.5722</td>\n",
       "      <td>False</td>\n",
       "      <td>-0.5000</td>\n",
       "      <td>NaN</td>\n",
       "      <td>-1.0000</td>\n",
       "      <td>1.0000</td>\n",
       "      <td>NaN</td>\n",
       "      <td>-1.0000</td>\n",
       "    </tr>\n",
       "    <tr>\n",
       "      <th>3</th>\n",
       "      <td>1199086061789569027</td>\n",
       "      <td>7966d5716c1c4f33591b17755184e3d6</td>\n",
       "      <td>2019-11-25 22:02:49+00:00</td>\n",
       "      <td>0.2083</td>\n",
       "      <td>0.5722</td>\n",
       "      <td>False</td>\n",
       "      <td>-0.5000</td>\n",
       "      <td>NaN</td>\n",
       "      <td>-1.0000</td>\n",
       "      <td>-1.0000</td>\n",
       "      <td>NaN</td>\n",
       "      <td>-1.0000</td>\n",
       "    </tr>\n",
       "    <tr>\n",
       "      <th>4</th>\n",
       "      <td>1245109655979937794</td>\n",
       "      <td>28a869fd50fc0846a5d0125a2cebcf84</td>\n",
       "      <td>2020-03-31 22:04:09+00:00</td>\n",
       "      <td>0.0172</td>\n",
       "      <td>0.4959</td>\n",
       "      <td>False</td>\n",
       "      <td>1.0000</td>\n",
       "      <td>NaN</td>\n",
       "      <td>1.0000</td>\n",
       "      <td>1.0000</td>\n",
       "      <td>NaN</td>\n",
       "      <td>1.0000</td>\n",
       "    </tr>\n",
       "  </tbody>\n",
       "</table>\n",
       "</div>"
      ],
      "text/plain": [
       "              Tweet_Id                          Username  \\\n",
       "0  1184746364158271488  7966d5716c1c4f33591b17755184e3d6   \n",
       "1  1189964117941145600  7966d5716c1c4f33591b17755184e3d6   \n",
       "2  1194209649693724672  7966d5716c1c4f33591b17755184e3d6   \n",
       "3  1199086061789569027  7966d5716c1c4f33591b17755184e3d6   \n",
       "4  1245109655979937794  28a869fd50fc0846a5d0125a2cebcf84   \n",
       "\n",
       "                   Timestamp  Deletionratio  Reputation  is_deleted  \\\n",
       "0  2019-10-17 08:21:59+00:00         0.2083      0.5722       False   \n",
       "1  2019-10-31 17:55:28+00:00         0.2083      0.5722       False   \n",
       "2  2019-11-12 11:05:42+00:00         0.2083      0.5722       False   \n",
       "3  2019-11-25 22:02:49+00:00         0.2083      0.5722       False   \n",
       "4  2020-03-31 22:04:09+00:00         0.0172      0.4959       False   \n",
       "\n",
       "   user_political_polarisation  user_science_polarisation  \\\n",
       "0                      -0.5000                        NaN   \n",
       "1                      -0.5000                        NaN   \n",
       "2                      -0.5000                        NaN   \n",
       "3                      -0.5000                        NaN   \n",
       "4                       1.0000                        NaN   \n",
       "\n",
       "   user_moderacy_polarisation  tweet_political_polarisation  \\\n",
       "0                     -1.0000                       -1.0000   \n",
       "1                     -1.0000                       -1.0000   \n",
       "2                     -1.0000                        1.0000   \n",
       "3                     -1.0000                       -1.0000   \n",
       "4                      1.0000                        1.0000   \n",
       "\n",
       "   tweet_science_polarisation  tweet_moderacy_polarisation  \n",
       "0                         NaN                      -1.0000  \n",
       "1                         NaN                      -1.0000  \n",
       "2                         NaN                      -1.0000  \n",
       "3                         NaN                      -1.0000  \n",
       "4                         NaN                       1.0000  "
      ]
     },
     "execution_count": 2,
     "metadata": {},
     "output_type": "execute_result"
    }
   ],
   "source": [
    "path = '../data/tweetsCov19_polarized_users_and_tweets_deletionratio_reputation_timestamp.tsv'\n",
    "\n",
    "df_tweetscov19_reputation_deletionratio = pd.read_csv(path, sep='\\t', error_bad_lines=False, names=['Tweet_Id', 'Username', 'Timestamp', 'Deletionratio', 'Reputation', 'is_deleted', 'user_political_polarisation', 'user_science_polarisation', 'user_moderacy_polarisation', 'tweet_political_polarisation', 'tweet_science_polarisation', 'tweet_moderacy_polarisation'])\n",
    "\n",
    "print('Shape :', df_tweetscov19_reputation_deletionratio.shape)\n",
    "df_tweetscov19_reputation_deletionratio.head()"
   ]
  },
  {
   "cell_type": "code",
   "execution_count": 17,
   "id": "7834a324",
   "metadata": {},
   "outputs": [
    {
     "data": {
      "text/plain": [
       "(692134, 12)"
      ]
     },
     "execution_count": 17,
     "metadata": {},
     "output_type": "execute_result"
    }
   ],
   "source": [
    "df_tweetscov19_moderacy_polarized_user = df_tweetscov19_reputation_deletionratio[df_tweetscov19_reputation_deletionratio.user_moderacy_polarisation.notna()]\n",
    "df_tweetscov19_moderacy_polarized_user.shape"
   ]
  },
  {
   "cell_type": "code",
   "execution_count": 18,
   "id": "3326ba3a",
   "metadata": {},
   "outputs": [
    {
     "data": {
      "text/plain": [
       "(611835, 12)"
      ]
     },
     "execution_count": 18,
     "metadata": {},
     "output_type": "execute_result"
    }
   ],
   "source": [
    "df_tweetscov19_moderacy_polarized_tweets = df_tweetscov19_moderacy_polarized_user[df_tweetscov19_moderacy_polarized_user.tweet_moderacy_polarisation.notna()]\n",
    "df_tweetscov19_moderacy_polarized_tweets.shape"
   ]
  },
  {
   "cell_type": "code",
   "execution_count": 19,
   "id": "31f6cc97",
   "metadata": {},
   "outputs": [
    {
     "data": {
      "text/plain": [
       "176301"
      ]
     },
     "execution_count": 19,
     "metadata": {},
     "output_type": "execute_result"
    }
   ],
   "source": [
    "len(df_tweetscov19_moderacy_polarized_tweets.Username.unique())"
   ]
  },
  {
   "cell_type": "markdown",
   "id": "789d1b0e",
   "metadata": {},
   "source": [
    "----"
   ]
  },
  {
   "cell_type": "markdown",
   "id": "80d15bc0",
   "metadata": {},
   "source": [
    "### User polarisation per month"
   ]
  },
  {
   "cell_type": "code",
   "execution_count": 6,
   "id": "23622d47",
   "metadata": {},
   "outputs": [],
   "source": [
    "df_tweetscov19 = df_tweetscov19_moderacy_polarized_tweets.copy()"
   ]
  },
  {
   "cell_type": "code",
   "execution_count": 7,
   "id": "d17544ba",
   "metadata": {},
   "outputs": [
    {
     "name": "stdout",
     "output_type": "stream",
     "text": [
      "October:  -0.495\n",
      "November:  -0.555\n",
      "December:  -0.531\n",
      "Januar:  -0.538\n",
      "February:  -0.534\n",
      "March:  -0.521\n",
      "April:  -0.555\n",
      "Mai:  -0.557\n"
     ]
    }
   ],
   "source": [
    "pol_col = 'user_moderacy_polarisation'\n",
    "df = df_tweetscov19.drop_duplicates(subset=['Username'])\n",
    "\n",
    "\n",
    "October = df[df['Timestamp'] < '2019-11-01 00:00:00+00:00']\n",
    "print('October: ', '{0:.3g}'.format(October[pol_col].mean()))\n",
    "\n",
    "\n",
    "start_date = '2019-11-01 00:00:00+00:00'\n",
    "end_date = '2019-12-01 00:00:00+00:00'\n",
    "November =  df[(df['Timestamp'] >= start_date) & (df['Timestamp'] < end_date) ]\n",
    "print('November: ', '{0:.3g}'.format(November[pol_col].mean()))\n",
    "\n",
    "\n",
    "start_date = '2019-12-01 00:00:00+00:00'\n",
    "end_date = '2020-01-01 00:00:00+00:00'\n",
    "December = df[(df['Timestamp'] >= start_date) & (df['Timestamp'] < end_date) ]\n",
    "print('December: ', '{0:.3g}'.format(December[pol_col].mean()))\n",
    "\n",
    "start_date = '2020-01-01 00:00:00+00:00'\n",
    "end_date = '2020-02-01 00:00:00+00:00'\n",
    "Januar = df[(df['Timestamp'] >= start_date) & (df['Timestamp'] < end_date) ]\n",
    "print('Januar: ', '{0:.3g}'.format(Januar[pol_col].mean()))\n",
    "\n",
    "start_date = '2020-02-01 00:00:00+00:00'\n",
    "end_date = '2020-03-01 00:00:00+00:00'\n",
    "Februar = df[(df['Timestamp'] >= start_date) & (df['Timestamp'] < end_date) ] \n",
    "print('February: ', '{0:.3g}'.format(Februar[pol_col].mean()))\n",
    "\n",
    "start_date = '2020-03-01 00:00:00+00:00'\n",
    "end_date = '2020-04-01 00:00:00+00:00'\n",
    "March = df[(df['Timestamp'] >= start_date) & (df['Timestamp'] < end_date)]\n",
    "print('March: ', '{0:.3g}'.format(March[pol_col].mean()))\n",
    "\n",
    "start_date = '2020-04-01 00:00:00+00:00'\n",
    "end_date = '2020-05-01 00:00:00+00:00'\n",
    "April = df[(df['Timestamp'] >= start_date) & (df['Timestamp'] < end_date)]\n",
    "print('April: ', '{0:.3g}'.format(April[pol_col].mean()))\n",
    "\n",
    "start_date = '2020-05-01 00:00:00+00:00'\n",
    "Mai = df[df['Timestamp'] >= start_date ]\n",
    "print('Mai: ', '{0:.3g}'.format(Mai[pol_col].mean()))\n"
   ]
  },
  {
   "cell_type": "markdown",
   "id": "bc90aef4",
   "metadata": {},
   "source": [
    "***"
   ]
  },
  {
   "cell_type": "code",
   "execution_count": 15,
   "id": "0ba29a87",
   "metadata": {},
   "outputs": [
    {
     "name": "stdout",
     "output_type": "stream",
     "text": [
      "Alle Users: 176301\n"
     ]
    }
   ],
   "source": [
    "print('Alle Users:', df_tweetscov19.Username.unique().size)\n"
   ]
  },
  {
   "cell_type": "code",
   "execution_count": 16,
   "id": "24f63218",
   "metadata": {},
   "outputs": [],
   "source": [
    "df_tweetscov19_del = df_tweetscov19[df_tweetscov19['is_deleted']==True]\n",
    "df_tweetscov19_undel = df_tweetscov19[df_tweetscov19['is_deleted']==False]"
   ]
  },
  {
   "cell_type": "code",
   "execution_count": 17,
   "id": "299d05c2",
   "metadata": {},
   "outputs": [
    {
     "name": "stdout",
     "output_type": "stream",
     "text": [
      "Deleted Tweets: (73183, 10)\n",
      "Non-deleted Tweets: (538652, 10)\n"
     ]
    }
   ],
   "source": [
    "print('Deleted Tweets:', df_tweetscov19_del.shape)\n",
    "print('Non-deleted Tweets:', df_tweetscov19_undel.shape)\n"
   ]
  },
  {
   "cell_type": "code",
   "execution_count": 18,
   "id": "4f5fe32c",
   "metadata": {},
   "outputs": [
    {
     "name": "stdout",
     "output_type": "stream",
     "text": [
      "Alle Users: 176301\n",
      "Alle hard. Users in gesammten Tweets: 36665\n",
      "Tweets of hard. Users in gesammten Tweets: 136636\n",
      "Alle mod. Users in gesammten Tweets: 134005\n",
      "Tweets of mod. Users in gesammten Tweets: 460670\n"
     ]
    }
   ],
   "source": [
    "print('Alle Users:', df_tweetscov19.Username.unique().size)\n",
    "\n",
    "df = df_tweetscov19[df_tweetscov19['user_moderacy_polarisation']>0]\n",
    "print('Alle hard. Users in gesammten Tweets:', df.Username.unique().size)\n",
    "print('Tweets of hard. Users in gesammten Tweets:', df.shape[0])\n",
    "\n",
    "df = df_tweetscov19[df_tweetscov19['user_moderacy_polarisation']<0]\n",
    "print('Alle mod. Users in gesammten Tweets:', df.Username.unique().size)\n",
    "print('Tweets of mod. Users in gesammten Tweets:', df.shape[0])\n"
   ]
  },
  {
   "cell_type": "code",
   "execution_count": 12,
   "id": "5a98a975",
   "metadata": {},
   "outputs": [
    {
     "name": "stdout",
     "output_type": "stream",
     "text": [
      "Alle Users: 30765\n",
      "Alle hard. Users in gelöschten Tweets: 8962\n",
      "Tweets of hard. Users in gesammten Tweets: 26780\n",
      "Alle mod. Users in  gelöschten Tweets: 20556\n",
      "Tweets of mod. Users in gesammten Tweets: 43358\n"
     ]
    }
   ],
   "source": [
    "print('Alle Users:', df_tweetscov19_del.Username.unique().size)\n",
    "\n",
    "df = df_tweetscov19_del[df_tweetscov19_del['user_moderacy_polarisation']>0]\n",
    "print('Alle hard. Users in gelöschten Tweets:', df.Username.unique().size)\n",
    "print('Tweets of hard. Users in gesammten Tweets:', df.shape[0])\n",
    "\n",
    "\n",
    "df = df_tweetscov19_del[df_tweetscov19_del['user_moderacy_polarisation']<0]\n",
    "print('Alle mod. Users in  gelöschten Tweets:', df.Username.unique().size)\n",
    "print('Tweets of mod. Users in gesammten Tweets:', df.shape[0])\n"
   ]
  },
  {
   "cell_type": "code",
   "execution_count": 13,
   "id": "f17b5c22",
   "metadata": {},
   "outputs": [
    {
     "name": "stdout",
     "output_type": "stream",
     "text": [
      "Alle Users: 148488\n",
      "Alle hard. Users in nicht gelöschten Tweets: 28159\n",
      "Tweets of hard. Users in gesammten Tweets: 109856\n",
      "Alle mod. Users in nicht gelöschten Tweets: 115758\n",
      "Tweets of mod. Users in gesammten Tweets: 417312\n"
     ]
    }
   ],
   "source": [
    "print('Alle Users:', df_tweetscov19_undel.Username.unique().size)\n",
    "\n",
    "df = df_tweetscov19_undel[df_tweetscov19_undel['user_moderacy_polarisation']>0]\n",
    "print('Alle hard. Users in nicht gelöschten Tweets:', df.Username.unique().size)\n",
    "print('Tweets of hard. Users in gesammten Tweets:', df.shape[0])\n",
    "\n",
    "df = df_tweetscov19_undel[df_tweetscov19_undel['user_moderacy_polarisation']<0]\n",
    "print('Alle mod. Users in nicht gelöschten Tweets:', df.Username.unique().size)\n",
    "print('Tweets of mod. Users in gesammten Tweets:', df.shape[0])\n"
   ]
  },
  {
   "cell_type": "code",
   "execution_count": 15,
   "id": "ec9abaf7",
   "metadata": {},
   "outputs": [
    {
     "name": "stdout",
     "output_type": "stream",
     "text": [
      "Alle Users: 5631\n",
      "Alle neutral Users in gelöschten Tweets: 1247\n",
      "Tweets of neutral Users in gelöschten Tweets: 3045\n",
      "Alle neutral Users in nicht gelöschten Tweets: 4571\n",
      "Tweets of neutral Users in nicht gelöschten Tweets: 11484\n"
     ]
    }
   ],
   "source": [
    "df_tweetscov19_neutral = df_tweetscov19[df_tweetscov19['user_moderacy_polarisation']==0]\n",
    "print('Alle Users:', df_tweetscov19_neutral.Username.unique().size)\n",
    "\n",
    "df = df_tweetscov19_del[df_tweetscov19_del['user_moderacy_polarisation']==0]\n",
    "print('Alle neutral Users in gelöschten Tweets:', df.Username.unique().size)\n",
    "print('Tweets of neutral Users in gelöschten Tweets:', df.shape[0])\n",
    "\n",
    "df = df_tweetscov19_undel[df_tweetscov19_undel['user_moderacy_polarisation']==0]\n",
    "print('Alle neutral Users in nicht gelöschten Tweets:', df.Username.unique().size)\n",
    "print('Tweets of neutral Users in nicht gelöschten Tweets:', df.shape[0])"
   ]
  },
  {
   "cell_type": "code",
   "execution_count": 8,
   "id": "6d96c43a",
   "metadata": {},
   "outputs": [],
   "source": [
    "def plot_kdeplot_v2(df, hue, x, x_label, titel, name): \n",
    "    \n",
    "    #fig = plt.figure()\n",
    "    #ax = fig.add_subplot()\n",
    "    #ax = sns.kdeplot(data=df, x=x, hue=hue, fill=True, legend= False)\n",
    "    ax = sns.kdeplot(data=df, x=x, hue=hue, multiple=\"fill\", legend= False)\n",
    "\n",
    "    #plt.rcParams[\"figure.figsize\"] = [7,5]\n",
    "\n",
    "    ax.set_title('Moderacy', fontsize=22)\n",
    "    ax.set_ylabel(ylabel='Density', fontsize=22)\n",
    "    ax.set_xlabel(xlabel=x_label, fontsize=22)\n",
    "\n",
    "    ax.tick_params(axis='x', which='major', labelsize=18)\n",
    "    ax.tick_params(axis='y', which='major', labelsize=18)\n",
    "\n",
    "    #plt.margins(0.02)\n",
    "    #fig.tight_layout()\n",
    "    #plt.show()\n",
    "    #plt.legend(labels = ['Deleted','Non-deleted'], bbox_to_anchor=(0.2, 1.13), ncol=2, loc=2, borderaxespad=0, fontsize=12)\n",
    "    #g.set_title(titel, fontweight=\"bold\")\n",
    "    #plt.legend(labels = ['Deleted','Non-deleted'], bbox_to_anchor=(1.02, 1.), loc=2, borderaxespad=0)\n",
    "    plt.legend([],[], frameon=False)\n",
    "\n",
    "    plt.tight_layout()\n",
    "    plt.savefig('../plots/'+name+'.pdf')\n"
   ]
  },
  {
   "cell_type": "code",
   "execution_count": 21,
   "id": "a4731a07",
   "metadata": {},
   "outputs": [
    {
     "data": {
      "image/png": "[encoded data removed]",
      "text/plain": [
       "<Figure size 432x288 with 1 Axes>"
      ]
     },
     "metadata": {
      "needs_background": "light"
     },
     "output_type": "display_data"
    }
   ],
   "source": [
    "df = df_tweetscov19[['is_deleted', 'user_moderacy_polarisation']]\n",
    "plot_kdeplot_v2(df, 'is_deleted','user_moderacy_polarisation' ,'Moderate <-> Hardline' ,'TweetsCov19', 'kdeplot_tweetscov19_moderacy_all_users_Normalizethestackeddistribution_v2')"
   ]
  },
  {
   "cell_type": "code",
   "execution_count": 9,
   "id": "ed7a7e60",
   "metadata": {},
   "outputs": [
    {
     "data": {
      "image/png": "[encoded data removed]",
      "text/plain": [
       "<Figure size 432x288 with 1 Axes>"
      ]
     },
     "metadata": {
      "needs_background": "light"
     },
     "output_type": "display_data"
    }
   ],
   "source": [
    "df = df_tweetscov19[['is_deleted', 'tweet_moderacy_polarisation']]\n",
    "plot_kdeplot_v2(df, 'is_deleted','tweet_moderacy_polarisation' ,'Moderate <-> Hardline' ,'TweetsCov19', 'kdeplot_tweetscov19_moderacy_all_tweets_Normalizethestackeddistribution_v2')"
   ]
  },
  {
   "cell_type": "markdown",
   "id": "adefd05a",
   "metadata": {},
   "source": [
    "***"
   ]
  },
  {
   "cell_type": "markdown",
   "id": "03402bb8",
   "metadata": {},
   "source": [
    "# Histogram"
   ]
  },
  {
   "cell_type": "markdown",
   "id": "e27aa2ae",
   "metadata": {},
   "source": [
    "***"
   ]
  },
  {
   "cell_type": "markdown",
   "id": "2b37a20a",
   "metadata": {},
   "source": [
    "***"
   ]
  },
  {
   "cell_type": "code",
   "execution_count": 26,
   "id": "8bfe9a17",
   "metadata": {},
   "outputs": [],
   "source": [
    "def thousands(x, pos):\n",
    "    if x <1000 :\n",
    "        return '{:1.0f}'.format(x*1e-3)\n",
    "    \"\"\"The two args are the value and tick position.\"\"\"\n",
    "    return '{:1.0f}k'.format(x*1e-3)\n",
    "\n",
    "def plot_histogram(df, titel):\n",
    "    \n",
    "    fig, ax = plt.subplots()\n",
    "    \n",
    "    N, bins, patches = ax.hist(df, bins=11, color = 'gray')\n",
    "    patches[5].set_label('Neutral')\n",
    "    patches[5].set_facecolor('gray')\n",
    "    for i in range(0,5):\n",
    "        patches[i].set_facecolor('pink')\n",
    "    patches[1].set_label('Moderate')\n",
    "    for i in range(6,len(patches)):\n",
    "        patches[i].set_facecolor('purple')\n",
    "    patches[9].set_label('Hardline')\n",
    "        \n",
    "    ax.tick_params(axis='x', which='major', labelsize=18)\n",
    "    ax.tick_params(axis='y', which='major', labelsize=18)\n",
    "\n",
    "    figsize=(8, 6)\n",
    "    ax.set_title('Moderacy', fontsize=22)\n",
    "    ax.set_ylabel('Number of Tweets', fontsize=22)\n",
    "    ax.set_xlabel(xlabel='Moderate <-> Hardline' , fontsize=22)\n",
    "    ax.yaxis.set_major_formatter(thousands)\n",
    "\n",
    "    #plt.title('Political polarization', fontsize=18)\n",
    "    plt.legend(loc='upper center', fontsize=14)\n",
    "    plt.tight_layout()\n",
    "    plt.savefig('../plots/'+titel+'.pdf')"
   ]
  },
  {
   "cell_type": "code",
   "execution_count": 27,
   "id": "5e6525ce",
   "metadata": {},
   "outputs": [],
   "source": [
    "df_tweetscov19_del = df_tweetscov19[df_tweetscov19['is_deleted']==True]\n",
    "df_tweetscov19_undel = df_tweetscov19[df_tweetscov19['is_deleted']==False]"
   ]
  },
  {
   "cell_type": "code",
   "execution_count": 28,
   "id": "4ce7e89b",
   "metadata": {},
   "outputs": [
    {
     "data": {
      "text/plain": [
       "(28710, 6)"
      ]
     },
     "execution_count": 28,
     "metadata": {},
     "output_type": "execute_result"
    }
   ],
   "source": [
    "df_tweetscov19_del[df_tweetscov19_del.tweet_moderacy_polarisation > 0].shape"
   ]
  },
  {
   "cell_type": "code",
   "execution_count": 29,
   "id": "00291b88",
   "metadata": {},
   "outputs": [
    {
     "data": {
      "image/png": "[encoded data removed]",
      "text/plain": [
       "<Figure size 432x288 with 1 Axes>"
      ]
     },
     "metadata": {
      "needs_background": "light"
     },
     "output_type": "display_data"
    }
   ],
   "source": [
    "#df = df_tweetscov19.drop_duplicates(subset=['Username'])\n",
    "df = df_tweetscov19\n",
    "plot_histogram(df['tweet_moderacy_polarisation'],'hist_tweetsCov19_moderacy_polarized_tweets(alltweets)')"
   ]
  },
  {
   "cell_type": "code",
   "execution_count": 30,
   "id": "7b4293a0",
   "metadata": {},
   "outputs": [
    {
     "data": {
      "image/png": "[encoded data removed]",
      "text/plain": [
       "<Figure size 432x288 with 1 Axes>"
      ]
     },
     "metadata": {
      "needs_background": "light"
     },
     "output_type": "display_data"
    }
   ],
   "source": [
    "#df = df_tweetscov19_del.drop_duplicates(subset=['Username'])\n",
    "df = df_tweetscov19_del\n",
    "plot_histogram(df['tweet_moderacy_polarisation'],'hist_tweetsCov19_moderacy_polarized_tweets(deletedtweets)')"
   ]
  },
  {
   "cell_type": "code",
   "execution_count": 31,
   "id": "73f2b0d2",
   "metadata": {},
   "outputs": [
    {
     "data": {
      "image/png": "[encoded data removed]",
      "text/plain": [
       "<Figure size 432x288 with 1 Axes>"
      ]
     },
     "metadata": {
      "needs_background": "light"
     },
     "output_type": "display_data"
    }
   ],
   "source": [
    "#df = df_tweetscov19_undel.drop_duplicates(subset=['Username'])\n",
    "df = df_tweetscov19_undel\n",
    "plot_histogram(df['tweet_moderacy_polarisation'],'hist_tweetsCov19_moderacy_polarized_tweets(nondeletedtweets)')"
   ]
  },
  {
   "cell_type": "markdown",
   "id": "41f6f69f",
   "metadata": {},
   "source": [
    "***"
   ]
  },
  {
   "cell_type": "markdown",
   "id": "b4b96aba",
   "metadata": {},
   "source": [
    "# Heatmap\n",
    "### Reputation-Polarisierung"
   ]
  },
  {
   "cell_type": "markdown",
   "id": "6c7a069e",
   "metadata": {},
   "source": [
    "***"
   ]
  },
  {
   "cell_type": "markdown",
   "id": "20e773da",
   "metadata": {},
   "source": [
    "***"
   ]
  },
  {
   "cell_type": "code",
   "execution_count": 32,
   "id": "6f11a673",
   "metadata": {},
   "outputs": [],
   "source": [
    "import plotly.express as px\n",
    "import plotly.graph_objs as go\n",
    "import plotly.offline as pyo\n",
    "\n",
    "def density_hp(df, title, x, y, color):\n",
    "    fig = px.density_heatmap(df, x=x, y=y, nbinsx=20, nbinsy=20, color_continuous_scale=color)\n",
    "    fig.layout.height = 500\n",
    "    fig.layout.width = 600\n",
    "    fig.update_layout(\n",
    "        title= dict(\n",
    "            text= \"Moderacy\",\n",
    "            y=0.95,\n",
    "            x=0.45,\n",
    "            xanchor= 'center',\n",
    "            yanchor= 'top'),\n",
    "        titlefont = dict(\n",
    "             family = 'Arial, sans-serif',\n",
    "             size = 32,\n",
    "             color = 'Black'\n",
    "              ),\n",
    "        xaxis = dict(\n",
    "            title='Moderate <-> Hardline',\n",
    "            \n",
    "            tickmode = 'linear',\n",
    "            tickformat=\".1f\",\n",
    "            dtick = 0.5,\n",
    "            tickfont = dict(\n",
    "            family = 'Arial, sans-serif',\n",
    "            size = 28,\n",
    "            color = 'black'\n",
    "              ),\n",
    "            titlefont = dict(\n",
    "             family = 'Arial, sans-serif',\n",
    "             size = 32,\n",
    "             color = 'Black'\n",
    "              ),\n",
    "            ),\n",
    "        yaxis = dict(\n",
    "            tickmode = 'linear',\n",
    "            tickformat=\".1f\",\n",
    "            dtick = 0.5,\n",
    "            tickfont = dict(\n",
    "            family = 'Arial, sans-serif',\n",
    "            size = 28,\n",
    "            color = 'black'\n",
    "              ),\n",
    "        titlefont = dict(\n",
    "             family = 'Arial, sans-serif',\n",
    "             size = 32,\n",
    "             color = 'Black'\n",
    "              ),\n",
    "            ),\n",
    "        coloraxis_colorbar=dict(\n",
    "            title=\"Tweets\",\n",
    "            thicknessmode=\"pixels\",\n",
    "            titlefont = dict(\n",
    "             family = 'Arial, sans-serif',\n",
    "             size = 32,\n",
    "             color = 'Black'\n",
    "              ),\n",
    "            tickfont = dict(\n",
    "            family = 'Arial, sans-serif',\n",
    "            size = 25,\n",
    "            color = 'black'\n",
    "              ),\n",
    "            ),\n",
    "\n",
    "\n",
    "        )\n",
    "\n",
    "    #fig.show()\n",
    "    pyo.plot(fig, filename=title+\".html\")\n",
    "    fig.write_image('../plots/heatmaps/'+title+'.pdf')"
   ]
  },
  {
   "cell_type": "code",
   "execution_count": 33,
   "id": "6c34b6e0",
   "metadata": {},
   "outputs": [],
   "source": [
    "#All Tweets\n",
    "df = df_tweetscov19[['is_deleted', 'user_moderacy_polarisation', 'Reputation']]\n",
    "\n",
    "df_del =  df[df['is_deleted']==True]\n",
    "df_undel = df[df['is_deleted']==False]"
   ]
  },
  {
   "cell_type": "code",
   "execution_count": 34,
   "id": "bba2781a",
   "metadata": {},
   "outputs": [],
   "source": [
    "density_hp(df,'density_hp_moderacy_polarisation_tweetscov19_alltweets_v2' ,'user_moderacy_polarisation', 'Reputation', 'Purples')"
   ]
  },
  {
   "cell_type": "code",
   "execution_count": 35,
   "id": "ecbec1ab",
   "metadata": {},
   "outputs": [],
   "source": [
    "density_hp(df_del,'density_hp_moderacy_polarisation_tweetscov19_deleted_v2' ,'user_moderacy_polarisation', 'Reputation', 'Purples')"
   ]
  },
  {
   "cell_type": "code",
   "execution_count": 36,
   "id": "39c73247",
   "metadata": {},
   "outputs": [],
   "source": [
    "density_hp(df_undel,'density_hp_moderacy_polarisation_tweetscov19_nondeleted_v2' ,'user_moderacy_polarisation', 'Reputation', 'Purples')"
   ]
  },
  {
   "cell_type": "markdown",
   "id": "6be3c299",
   "metadata": {},
   "source": [
    "***"
   ]
  },
  {
   "cell_type": "markdown",
   "id": "fe42d579",
   "metadata": {},
   "source": [
    "***"
   ]
  },
  {
   "cell_type": "markdown",
   "id": "c3eeffb0",
   "metadata": {},
   "source": [
    "# TweetKB"
   ]
  },
  {
   "cell_type": "markdown",
   "id": "8248f2ca",
   "metadata": {},
   "source": [
    "***"
   ]
  },
  {
   "cell_type": "code",
   "execution_count": 8,
   "id": "3978bb60",
   "metadata": {},
   "outputs": [
    {
     "name": "stdout",
     "output_type": "stream",
     "text": [
      "Shape : (167677, 12)\n"
     ]
    },
    {
     "data": {
      "text/html": [
       "<div>\n",
       "<style scoped>\n",
       "    .dataframe tbody tr th:only-of-type {\n",
       "        vertical-align: middle;\n",
       "    }\n",
       "\n",
       "    .dataframe tbody tr th {\n",
       "        vertical-align: top;\n",
       "    }\n",
       "\n",
       "    .dataframe thead th {\n",
       "        text-align: right;\n",
       "    }\n",
       "</style>\n",
       "<table border=\"1\" class=\"dataframe\">\n",
       "  <thead>\n",
       "    <tr style=\"text-align: right;\">\n",
       "      <th></th>\n",
       "      <th>Tweet_Id</th>\n",
       "      <th>Username</th>\n",
       "      <th>Timestamp</th>\n",
       "      <th>Deletionratio</th>\n",
       "      <th>Reputation</th>\n",
       "      <th>is_deleted</th>\n",
       "      <th>user_political_polarisation</th>\n",
       "      <th>user_science_polarisation</th>\n",
       "      <th>user_moderacy_polarisation</th>\n",
       "      <th>tweet_political_polarisation</th>\n",
       "      <th>tweet_science_polarisation</th>\n",
       "      <th>tweet_moderacy_polarisation</th>\n",
       "    </tr>\n",
       "  </thead>\n",
       "  <tbody>\n",
       "    <tr>\n",
       "      <th>0</th>\n",
       "      <td>1266775106803638274</td>\n",
       "      <td>0000Condor</td>\n",
       "      <td>2020-05-30 16:54:55+00:00</td>\n",
       "      <td>1.0000</td>\n",
       "      <td>0.2556</td>\n",
       "      <td>True</td>\n",
       "      <td>-1.0000</td>\n",
       "      <td>NaN</td>\n",
       "      <td>1.0000</td>\n",
       "      <td>-1.0000</td>\n",
       "      <td>NaN</td>\n",
       "      <td>1.0000</td>\n",
       "    </tr>\n",
       "    <tr>\n",
       "      <th>1</th>\n",
       "      <td>1259886239416676352</td>\n",
       "      <td>007AliSohrab</td>\n",
       "      <td>2020-05-11 16:41:01+00:00</td>\n",
       "      <td>1.0000</td>\n",
       "      <td>0.9820</td>\n",
       "      <td>True</td>\n",
       "      <td>0.0000</td>\n",
       "      <td>NaN</td>\n",
       "      <td>-1.0000</td>\n",
       "      <td>-1.0000</td>\n",
       "      <td>NaN</td>\n",
       "      <td>-1.0000</td>\n",
       "    </tr>\n",
       "    <tr>\n",
       "      <th>2</th>\n",
       "      <td>1267107608684445697</td>\n",
       "      <td>007AliSohrab</td>\n",
       "      <td>2020-05-31 14:56:10+00:00</td>\n",
       "      <td>1.0000</td>\n",
       "      <td>0.9820</td>\n",
       "      <td>True</td>\n",
       "      <td>0.0000</td>\n",
       "      <td>NaN</td>\n",
       "      <td>-1.0000</td>\n",
       "      <td>1.0000</td>\n",
       "      <td>NaN</td>\n",
       "      <td>-1.0000</td>\n",
       "    </tr>\n",
       "    <tr>\n",
       "      <th>3</th>\n",
       "      <td>1213105603993718784</td>\n",
       "      <td>007newsandviews</td>\n",
       "      <td>2020-01-03 14:31:29+00:00</td>\n",
       "      <td>0.0000</td>\n",
       "      <td>0.4828</td>\n",
       "      <td>False</td>\n",
       "      <td>-1.0000</td>\n",
       "      <td>NaN</td>\n",
       "      <td>-1.0000</td>\n",
       "      <td>-1.0000</td>\n",
       "      <td>NaN</td>\n",
       "      <td>-1.0000</td>\n",
       "    </tr>\n",
       "    <tr>\n",
       "      <th>4</th>\n",
       "      <td>1178783067688833025</td>\n",
       "      <td>007plus100</td>\n",
       "      <td>2019-09-30 21:25:58+00:00</td>\n",
       "      <td>0.0000</td>\n",
       "      <td>0.3980</td>\n",
       "      <td>False</td>\n",
       "      <td>-1.0000</td>\n",
       "      <td>NaN</td>\n",
       "      <td>-1.0000</td>\n",
       "      <td>-1.0000</td>\n",
       "      <td>NaN</td>\n",
       "      <td>-1.0000</td>\n",
       "    </tr>\n",
       "  </tbody>\n",
       "</table>\n",
       "</div>"
      ],
      "text/plain": [
       "              Tweet_Id         Username                  Timestamp  \\\n",
       "0  1266775106803638274       0000Condor  2020-05-30 16:54:55+00:00   \n",
       "1  1259886239416676352     007AliSohrab  2020-05-11 16:41:01+00:00   \n",
       "2  1267107608684445697     007AliSohrab  2020-05-31 14:56:10+00:00   \n",
       "3  1213105603993718784  007newsandviews  2020-01-03 14:31:29+00:00   \n",
       "4  1178783067688833025       007plus100  2019-09-30 21:25:58+00:00   \n",
       "\n",
       "   Deletionratio  Reputation  is_deleted  user_political_polarisation  \\\n",
       "0         1.0000      0.2556        True                      -1.0000   \n",
       "1         1.0000      0.9820        True                       0.0000   \n",
       "2         1.0000      0.9820        True                       0.0000   \n",
       "3         0.0000      0.4828       False                      -1.0000   \n",
       "4         0.0000      0.3980       False                      -1.0000   \n",
       "\n",
       "   user_science_polarisation  user_moderacy_polarisation  \\\n",
       "0                        NaN                      1.0000   \n",
       "1                        NaN                     -1.0000   \n",
       "2                        NaN                     -1.0000   \n",
       "3                        NaN                     -1.0000   \n",
       "4                        NaN                     -1.0000   \n",
       "\n",
       "   tweet_political_polarisation  tweet_science_polarisation  \\\n",
       "0                       -1.0000                         NaN   \n",
       "1                       -1.0000                         NaN   \n",
       "2                        1.0000                         NaN   \n",
       "3                       -1.0000                         NaN   \n",
       "4                       -1.0000                         NaN   \n",
       "\n",
       "   tweet_moderacy_polarisation  \n",
       "0                       1.0000  \n",
       "1                      -1.0000  \n",
       "2                      -1.0000  \n",
       "3                      -1.0000  \n",
       "4                      -1.0000  "
      ]
     },
     "execution_count": 8,
     "metadata": {},
     "output_type": "execute_result"
    }
   ],
   "source": [
    "path = '../data/tweetsKB_polarized_users_and_tweets_deletionratio_reputation_timestamp.tsv'\n",
    "\n",
    "df_tweetskb_reputation_deletionratio = pd.read_csv(path, sep='\\t', error_bad_lines=False, names=['Tweet_Id', 'Username', 'Timestamp', 'Deletionratio', 'Reputation', 'is_deleted', 'user_political_polarisation', 'user_science_polarisation', 'user_moderacy_polarisation', 'tweet_political_polarisation', 'tweet_science_polarisation', 'tweet_moderacy_polarisation'])\n",
    "\n",
    "print('Shape :', df_tweetskb_reputation_deletionratio.shape)\n",
    "df_tweetskb_reputation_deletionratio.head()"
   ]
  },
  {
   "cell_type": "code",
   "execution_count": 9,
   "id": "d59f0067",
   "metadata": {},
   "outputs": [
    {
     "data": {
      "text/plain": [
       "(147435, 12)"
      ]
     },
     "execution_count": 9,
     "metadata": {},
     "output_type": "execute_result"
    }
   ],
   "source": [
    "df_tweetskb_moderacy_polarized_user = df_tweetskb_reputation_deletionratio[df_tweetskb_reputation_deletionratio.user_moderacy_polarisation.notna()]\n",
    "df_tweetskb_moderacy_polarized_user.shape"
   ]
  },
  {
   "cell_type": "code",
   "execution_count": 10,
   "id": "52ee9d8e",
   "metadata": {},
   "outputs": [
    {
     "data": {
      "text/plain": [
       "(133676, 12)"
      ]
     },
     "execution_count": 10,
     "metadata": {},
     "output_type": "execute_result"
    }
   ],
   "source": [
    "df_tweetskb_moderacy_polarized_tweets = df_tweetskb_moderacy_polarized_user[df_tweetskb_moderacy_polarized_user.tweet_moderacy_polarisation.notna()]\n",
    "df_tweetskb_moderacy_polarized_tweets.shape"
   ]
  },
  {
   "cell_type": "code",
   "execution_count": 11,
   "id": "769e11f0",
   "metadata": {},
   "outputs": [
    {
     "data": {
      "text/plain": [
       "67511"
      ]
     },
     "execution_count": 11,
     "metadata": {},
     "output_type": "execute_result"
    }
   ],
   "source": [
    "len(df_tweetskb_moderacy_polarized_tweets.Username.unique())"
   ]
  },
  {
   "cell_type": "markdown",
   "id": "59bae727",
   "metadata": {},
   "source": [
    "----"
   ]
  },
  {
   "cell_type": "code",
   "execution_count": 12,
   "id": "9339aed0",
   "metadata": {},
   "outputs": [],
   "source": [
    "df_tweetskb = df_tweetskb_moderacy_polarized_tweets.copy()"
   ]
  },
  {
   "cell_type": "code",
   "execution_count": 13,
   "id": "39042b10",
   "metadata": {},
   "outputs": [
    {
     "name": "stdout",
     "output_type": "stream",
     "text": [
      "October:  -0.496\n",
      "November:  -0.527\n",
      "December:  -0.562\n",
      "Januar:  -0.509\n",
      "February:  -0.542\n",
      "March:  -0.577\n",
      "April:  -0.582\n",
      "Mai:  -0.552\n"
     ]
    }
   ],
   "source": [
    "pol_col = 'user_moderacy_polarisation'\n",
    "df = df_tweetskb.drop_duplicates(subset=['Username'])\n",
    "\n",
    "\n",
    "October = df[df['Timestamp'] < '2019-11-01 00:00:00+00:00']\n",
    "print('October: ', '{0:.3g}'.format(October[pol_col].mean()))\n",
    "\n",
    "\n",
    "start_date = '2019-11-01 00:00:00+00:00'\n",
    "end_date = '2019-12-01 00:00:00+00:00'\n",
    "November =  df[(df['Timestamp'] >= start_date) & (df['Timestamp'] < end_date) ]\n",
    "print('November: ', '{0:.3g}'.format(November[pol_col].mean()))\n",
    "\n",
    "\n",
    "start_date = '2019-12-01 00:00:00+00:00'\n",
    "end_date = '2020-01-01 00:00:00+00:00'\n",
    "December = df[(df['Timestamp'] >= start_date) & (df['Timestamp'] < end_date) ]\n",
    "print('December: ', '{0:.3g}'.format(December[pol_col].mean()))\n",
    "\n",
    "start_date = '2020-01-01 00:00:00+00:00'\n",
    "end_date = '2020-02-01 00:00:00+00:00'\n",
    "Januar = df[(df['Timestamp'] >= start_date) & (df['Timestamp'] < end_date) ]\n",
    "print('Januar: ', '{0:.3g}'.format(Januar[pol_col].mean()))\n",
    "\n",
    "start_date = '2020-02-01 00:00:00+00:00'\n",
    "end_date = '2020-03-01 00:00:00+00:00'\n",
    "Februar = df[(df['Timestamp'] >= start_date) & (df['Timestamp'] < end_date) ] \n",
    "print('February: ', '{0:.3g}'.format(Februar[pol_col].mean()))\n",
    "\n",
    "start_date = '2020-03-01 00:00:00+00:00'\n",
    "end_date = '2020-04-01 00:00:00+00:00'\n",
    "March = df[(df['Timestamp'] >= start_date) & (df['Timestamp'] < end_date)]\n",
    "print('March: ', '{0:.3g}'.format(March[pol_col].mean()))\n",
    "\n",
    "start_date = '2020-04-01 00:00:00+00:00'\n",
    "end_date = '2020-05-01 00:00:00+00:00'\n",
    "April = df[(df['Timestamp'] >= start_date) & (df['Timestamp'] < end_date)]\n",
    "print('April: ', '{0:.3g}'.format(April[pol_col].mean()))\n",
    "\n",
    "start_date = '2020-05-01 00:00:00+00:00'\n",
    "Mai = df[df['Timestamp'] >= start_date ]\n",
    "print('Mai: ', '{0:.3g}'.format(Mai[pol_col].mean()))\n"
   ]
  },
  {
   "cell_type": "markdown",
   "id": "aee6babf",
   "metadata": {},
   "source": [
    "***"
   ]
  },
  {
   "cell_type": "markdown",
   "id": "60777bde",
   "metadata": {},
   "source": [
    "## KDE-Plot"
   ]
  },
  {
   "cell_type": "code",
   "execution_count": 29,
   "id": "8f2a64b3",
   "metadata": {},
   "outputs": [
    {
     "name": "stdout",
     "output_type": "stream",
     "text": [
      "Alle Users: 67511\n"
     ]
    }
   ],
   "source": [
    "print('Alle Users:', df_tweetskb.Username.unique().size)\n"
   ]
  },
  {
   "cell_type": "code",
   "execution_count": 30,
   "id": "8bf427e7",
   "metadata": {},
   "outputs": [],
   "source": [
    "df_tweetskb_del = df_tweetskb[df_tweetskb['is_deleted']==True]\n",
    "df_tweetskb_undel = df_tweetskb[df_tweetskb['is_deleted']==False]"
   ]
  },
  {
   "cell_type": "code",
   "execution_count": 31,
   "id": "8e42e48c",
   "metadata": {},
   "outputs": [
    {
     "name": "stdout",
     "output_type": "stream",
     "text": [
      "Deleted Tweets: (19849, 10)\n",
      "Non-deleted Tweets: (113827, 10)\n"
     ]
    }
   ],
   "source": [
    "print('Deleted Tweets:', df_tweetskb_del.shape)\n",
    "print('Non-deleted Tweets:', df_tweetskb_undel.shape)"
   ]
  },
  {
   "cell_type": "code",
   "execution_count": 32,
   "id": "cb85bdd4",
   "metadata": {},
   "outputs": [
    {
     "name": "stdout",
     "output_type": "stream",
     "text": [
      "Alle Users: 67511\n",
      "Alle hard. Users in gesammten Tweets: 14319\n",
      "Tweets of hard. Users in gesammten Tweets: 31650\n",
      "Alle mod. Users in gesammten Tweets: 51334\n",
      "Tweets of mod. Users in gesammten Tweets: 97359\n"
     ]
    }
   ],
   "source": [
    "print('Alle Users:', df_tweetskb.Username.unique().size)\n",
    "\n",
    "df = df_tweetskb[df_tweetskb['user_moderacy_polarisation']>0]\n",
    "print('Alle hard. Users in gesammten Tweets:', df.Username.unique().size)\n",
    "print('Tweets of hard. Users in gesammten Tweets:', df.shape[0])\n",
    "\n",
    "df = df_tweetskb[df_tweetskb['user_moderacy_polarisation']<0]\n",
    "print('Alle mod. Users in gesammten Tweets:', df.Username.unique().size)\n",
    "print('Tweets of mod. Users in gesammten Tweets:', df.shape[0])\n"
   ]
  },
  {
   "cell_type": "code",
   "execution_count": 62,
   "id": "8759951b",
   "metadata": {},
   "outputs": [
    {
     "name": "stdout",
     "output_type": "stream",
     "text": [
      "Alle Users: 12392\n",
      "Alle hard. Users in gelöschten Tweets: 3707\n",
      "Tweets of hard. Users in gesammten Tweets: 6956\n",
      "Alle mod. Users in gelöschten Tweets: 8234\n",
      "Tweets of mod. Users in gesammten Tweets: 11782\n"
     ]
    }
   ],
   "source": [
    "print('Alle Users:', df_tweetskb_del.Username.unique().size)\n",
    "\n",
    "df = df_tweetskb_del[df_tweetskb_del['user_moderacy_polarisation']>0]\n",
    "print('Alle hard. Users in gelöschten Tweets:', df.Username.unique().size)\n",
    "print('Tweets of hard. Users in gesammten Tweets:', df.shape[0])\n",
    "\n",
    "\n",
    "df = df_tweetskb_del[df_tweetskb_del['user_moderacy_polarisation']<0]\n",
    "print('Alle mod. Users in gelöschten Tweets:', df.Username.unique().size)\n",
    "print('Tweets of mod. Users in gesammten Tweets:', df.shape[0])\n"
   ]
  },
  {
   "cell_type": "code",
   "execution_count": 63,
   "id": "ec7610ba",
   "metadata": {},
   "outputs": [
    {
     "name": "stdout",
     "output_type": "stream",
     "text": [
      "Alle Users: 55759\n",
      "Alle hard. Users in nicht gelöschten Tweets: 10726\n",
      "Tweets of hard. Users in gesammten Tweets: 24694\n",
      "Alle mod. Users in nicht gelöschten Tweets: 43566\n",
      "Tweets of mod. Users in gesammten Tweets: 85577\n"
     ]
    }
   ],
   "source": [
    "print('Alle Users:', df_tweetskb_undel.Username.unique().size)\n",
    "\n",
    "df = df_tweetskb_undel[df_tweetskb_undel['user_moderacy_polarisation']>0]\n",
    "print('Alle hard. Users in nicht gelöschten Tweets:', df.Username.unique().size)\n",
    "print('Tweets of hard. Users in gesammten Tweets:', df.shape[0])\n",
    "\n",
    "\n",
    "df = df_tweetskb_undel[df_tweetskb_undel['user_moderacy_polarisation']<0]\n",
    "print('Alle mod. Users in nicht gelöschten Tweets:', df.Username.unique().size)\n",
    "print('Tweets of mod. Users in gesammten Tweets:', df.shape[0])\n"
   ]
  },
  {
   "cell_type": "code",
   "execution_count": 64,
   "id": "9fbe3932",
   "metadata": {},
   "outputs": [
    {
     "name": "stdout",
     "output_type": "stream",
     "text": [
      "Alle Users: 1858\n",
      "Alle neutral Users in gelöschten Tweets: 451\n",
      "Tweets of neutral Users in gelöschten Tweets: 1111\n",
      "Alle neutral Users in nicht gelöschten Tweets: 1467\n",
      "Tweets of neutral Users in nicht gelöschten Tweets: 3556\n"
     ]
    }
   ],
   "source": [
    "df_tweetskb_neutral = df_tweetskb[df_tweetskb['user_moderacy_polarisation']==0]\n",
    "print('Alle Users:', df_tweetskb_neutral.Username.unique().size)\n",
    "\n",
    "df = df_tweetskb_del[df_tweetskb_del['user_moderacy_polarisation']==0]\n",
    "print('Alle neutral Users in gelöschten Tweets:', df.Username.unique().size)\n",
    "print('Tweets of neutral Users in gelöschten Tweets:', df.shape[0])\n",
    "\n",
    "df = df_tweetskb_undel[df_tweetskb_undel['user_moderacy_polarisation']==0]\n",
    "print('Alle neutral Users in nicht gelöschten Tweets:', df.Username.unique().size)\n",
    "print('Tweets of neutral Users in nicht gelöschten Tweets:', df.shape[0])"
   ]
  },
  {
   "cell_type": "code",
   "execution_count": 67,
   "id": "05f82dcd",
   "metadata": {},
   "outputs": [
    {
     "data": {
      "image/png": "[encoded data removed]",
      "text/plain": [
       "<Figure size 432x288 with 1 Axes>"
      ]
     },
     "metadata": {
      "needs_background": "light"
     },
     "output_type": "display_data"
    }
   ],
   "source": [
    "df = df_tweetskb[['is_deleted', 'user_moderacy_polarisation']]\n",
    "plot_kdeplot_v2(df, 'is_deleted','user_moderacy_polarisation' ,'Moderate <-> Hardline' ,'TweetsCov19', 'kdeplot_tweetskb_moderacy_all_users_Normalizethestackeddistribution_v2')"
   ]
  },
  {
   "cell_type": "code",
   "execution_count": 16,
   "id": "deef2ac6",
   "metadata": {},
   "outputs": [
    {
     "data": {
      "image/png": "[encoded data removed]",
      "text/plain": [
       "<Figure size 432x288 with 1 Axes>"
      ]
     },
     "metadata": {
      "needs_background": "light"
     },
     "output_type": "display_data"
    }
   ],
   "source": [
    "df = df_tweetskb[['is_deleted', 'tweet_moderacy_polarisation']]\n",
    "plot_kdeplot_v2(df, 'is_deleted','tweet_moderacy_polarisation' ,'Moderate <-> Hardline' ,'TweetsCov19', 'kdeplot_tweetskb_moderacy_all_tweets_Normalizethestackeddistribution_v2')"
   ]
  },
  {
   "cell_type": "markdown",
   "id": "e1ffbb69",
   "metadata": {},
   "source": [
    "***"
   ]
  },
  {
   "cell_type": "markdown",
   "id": "3cdc5fc0",
   "metadata": {},
   "source": [
    "# Histogram"
   ]
  },
  {
   "cell_type": "markdown",
   "id": "b86cabba",
   "metadata": {},
   "source": [
    "***"
   ]
  },
  {
   "cell_type": "markdown",
   "id": "6f8956b0",
   "metadata": {},
   "source": [
    "****"
   ]
  },
  {
   "cell_type": "code",
   "execution_count": 70,
   "id": "b3b99678",
   "metadata": {},
   "outputs": [],
   "source": [
    "def thousands(x, pos):\n",
    "    if x <1000 :\n",
    "        return '{:1.0f}'.format(x*1e-3)\n",
    "    \"\"\"The two args are the value and tick position.\"\"\"\n",
    "    return '{:1.0f}k'.format(x*1e-3)\n",
    "\n",
    "def plot_histogram_kb(df, titel):\n",
    "    \n",
    "    fig, ax = plt.subplots()\n",
    "    colors = ['b', 'r']\n",
    "    labels = ['Liberale', 'konservativ']\n",
    "    \n",
    "    N, bins, patches = ax.hist(df, bins=11, color = 'gray')\n",
    "    patches[5].set_label('Neutral')\n",
    "    patches[5].set_facecolor('gray')\n",
    "    for i in range(0,5):\n",
    "        patches[i].set_facecolor('pink')\n",
    "    patches[1].set_label('Moderate')\n",
    "    for i in range(6,len(patches)):\n",
    "        patches[i].set_facecolor('purple')\n",
    "    patches[9].set_label('Hardline')\n",
    "   \n",
    "          \n",
    "    ax.tick_params(axis='x', which='major', labelsize=18)\n",
    "    ax.tick_params(axis='y', which='major', labelsize=18)\n",
    "\n",
    "    figsize=(8, 6)\n",
    "    ax.set_title('Moderacy', fontsize=22)\n",
    "    ax.set_ylabel('Number of Tweets', fontsize=22)\n",
    "    ax.set_xlabel(xlabel='Moderate <-> Hardline' , fontsize=22)\n",
    "    ax.yaxis.set_major_formatter(thousands)\n",
    "\n",
    "    #plt.title('Political polarization', fontsize=18)\n",
    "    plt.legend( fontsize=14)\n",
    "    plt.tight_layout()\n",
    "    plt.savefig('../plots/'+titel+'.pdf')"
   ]
  },
  {
   "cell_type": "code",
   "execution_count": 71,
   "id": "7a0bb985",
   "metadata": {},
   "outputs": [],
   "source": [
    "df_tweetskb_del = df_tweetskb[df_tweetskb['is_deleted']==True]\n",
    "df_tweetskb_undel = df_tweetskb[df_tweetskb['is_deleted']==False]"
   ]
  },
  {
   "cell_type": "code",
   "execution_count": 72,
   "id": "ace6739c",
   "metadata": {},
   "outputs": [
    {
     "data": {
      "image/png": "[encoded data removed]",
      "text/plain": [
       "<Figure size 432x288 with 1 Axes>"
      ]
     },
     "metadata": {
      "needs_background": "light"
     },
     "output_type": "display_data"
    }
   ],
   "source": [
    "#All Tweets\n",
    "#df = df_tweetskb.drop_duplicates(subset=['Username'])\n",
    "df = df_tweetskb\n",
    "plot_histogram_kb(df['tweet_moderacy_polarisation'],'hist_tweetsKB_moderacy_polarized_tweets(alltweets)')"
   ]
  },
  {
   "cell_type": "code",
   "execution_count": 73,
   "id": "aa8fcf1b",
   "metadata": {},
   "outputs": [
    {
     "data": {
      "image/png": "[encoded data removed]",
      "text/plain": [
       "<Figure size 432x288 with 1 Axes>"
      ]
     },
     "metadata": {
      "needs_background": "light"
     },
     "output_type": "display_data"
    }
   ],
   "source": [
    "#df = df_tweetskb_del.drop_duplicates(subset=['Username'])\n",
    "df = df_tweetskb_del\n",
    "plot_histogram_kb(df['tweet_moderacy_polarisation'],'hist_tweetsKB_moderacy_polarized_tweets(deletedtweets)')"
   ]
  },
  {
   "cell_type": "code",
   "execution_count": 74,
   "id": "9dd4ceb2",
   "metadata": {},
   "outputs": [
    {
     "data": {
      "image/png": "[encoded data removed]",
      "text/plain": [
       "<Figure size 432x288 with 1 Axes>"
      ]
     },
     "metadata": {
      "needs_background": "light"
     },
     "output_type": "display_data"
    }
   ],
   "source": [
    "#df = df_tweetskb_undel.drop_duplicates(subset=['Username'])\n",
    "df = df_tweetskb_undel\n",
    "plot_histogram_kb(df['tweet_moderacy_polarisation'],'hist_tweetsKB_moderacy_polarized_tweets(nondeletedtweets)')"
   ]
  },
  {
   "cell_type": "markdown",
   "id": "73a4b3b1",
   "metadata": {},
   "source": [
    "***"
   ]
  },
  {
   "cell_type": "markdown",
   "id": "53b2687d",
   "metadata": {},
   "source": [
    "# Heatmap\n",
    "### Reputation-Polarisierung"
   ]
  },
  {
   "cell_type": "markdown",
   "id": "cbc1ed08",
   "metadata": {},
   "source": [
    "***"
   ]
  },
  {
   "cell_type": "code",
   "execution_count": 13,
   "id": "1ae3da92",
   "metadata": {},
   "outputs": [],
   "source": [
    "#All Tweets\n",
    "df = df_tweetskb[['is_deleted', 'user_moderacy_polarisation', 'Reputation']]\n",
    "\n",
    "df_del =  df[df['is_deleted']==True]\n",
    "df_undel = df[df['is_deleted']==False]"
   ]
  },
  {
   "cell_type": "code",
   "execution_count": 75,
   "id": "c0c73604",
   "metadata": {},
   "outputs": [],
   "source": [
    "density_hp(df,'density_hp_moderacy_polarisation_tweetskb_alltweets_v2' ,'user_moderacy_polarisation', 'Reputation', 'Purples')"
   ]
  },
  {
   "cell_type": "code",
   "execution_count": 76,
   "id": "c61d2f17",
   "metadata": {},
   "outputs": [],
   "source": [
    "density_hp(df_del,'density_hp_moderacy_polarisation_tweetskb_deleted_v2' ,'user_moderacy_polarisation', 'Reputation', 'Purples')"
   ]
  },
  {
   "cell_type": "code",
   "execution_count": 77,
   "id": "974528a5",
   "metadata": {},
   "outputs": [],
   "source": [
    "density_hp(df_undel,'density_hp_moderacy_polarisation_tweetskb_nondeleted_v2' ,'user_moderacy_polarisation', 'Reputation', 'Purples')"
   ]
  }
 ],
 "metadata": {
  "kernelspec": {
   "display_name": "Python 3",
   "language": "python",
   "name": "python3"
  },
  "language_info": {
   "codemirror_mode": {
    "name": "ipython",
    "version": 3
   },
   "file_extension": ".py",
   "mimetype": "text/x-python",
   "name": "python",
   "nbconvert_exporter": "python",
   "pygments_lexer": "ipython3",
   "version": "3.8.8"
  }
 },
 "nbformat": 4,
 "nbformat_minor": 5
}
