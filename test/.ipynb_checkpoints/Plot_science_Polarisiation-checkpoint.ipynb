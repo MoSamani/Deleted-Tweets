{
 "cells": [
  {
   "cell_type": "code",
   "execution_count": 1,
   "id": "bc0f3bba",
   "metadata": {},
   "outputs": [],
   "source": [
    "#CSV Bibliothek importieren \n",
    "import csv\n",
    "#Pandas importieren und als pd bezeichnen\n",
    "import pandas as pd\n",
    "#Numpy importieren und als np bezeichnen \n",
    "import numpy as np\n",
    "#Json Biliothek importieren\n",
    "import json\n",
    "#Obere Schranke für die Größe der Daten auf 100,000,000 setzen  \n",
    "csv.field_size_limit(100000000)\n",
    "#Maximale Anzahl von Zeilen und Spalten Zeigen \n",
    "pd.options.display.max_columns = None\n",
    "pd.options.display.max_rows = None\n",
    "#Um die Zeiträume bearbeiten zu können\n",
    "from datetime import datetime\n",
    "#Seaborn für die Plot importieren\n",
    "import seaborn as sns\n",
    "#matplotlib Importieren und als plt bezeichnen\n",
    "import matplotlib\n",
    "import matplotlib.pyplot as plt\n",
    "#Macht die Plots inline\n",
    "%matplotlib inline \n",
    "#dates importieren, um Zeitstempel bearbeiten zu können\n",
    "import matplotlib.dates as mdates\n",
    "#tick importieren\n",
    "import matplotlib.ticker as tick\n",
    "#Die Nachkommastellen auf 4 Zashlen einschränken\n",
    "pd.options.display.float_format = '{:.4f}'.format\n",
    "\n",
    "from matplotlib.ticker import ScalarFormatter\n",
    "from matplotlib import ticker\n",
    "\n",
    "import warnings\n",
    "warnings.filterwarnings(\"ignore\")"
   ]
  },
  {
   "cell_type": "markdown",
   "id": "61c9e610",
   "metadata": {},
   "source": [
    "***"
   ]
  },
  {
   "cell_type": "markdown",
   "id": "baed96c1",
   "metadata": {},
   "source": [
    "# TweetsCov19\n",
    "## KDE-Plot"
   ]
  },
  {
   "cell_type": "markdown",
   "id": "dac7220a",
   "metadata": {},
   "source": [
    "***"
   ]
  },
  {
   "cell_type": "markdown",
   "id": "f3c424c4",
   "metadata": {},
   "source": [
    "### Merge polarized Tweets mit polarized Users"
   ]
  },
  {
   "cell_type": "code",
   "execution_count": 2,
   "id": "ff38ac5f",
   "metadata": {},
   "outputs": [
    {
     "name": "stdout",
     "output_type": "stream",
     "text": [
      "Shape : (2231354, 9)\n"
     ]
    },
    {
     "data": {
      "text/html": [
       "<div>\n",
       "<style scoped>\n",
       "    .dataframe tbody tr th:only-of-type {\n",
       "        vertical-align: middle;\n",
       "    }\n",
       "\n",
       "    .dataframe tbody tr th {\n",
       "        vertical-align: top;\n",
       "    }\n",
       "\n",
       "    .dataframe thead th {\n",
       "        text-align: right;\n",
       "    }\n",
       "</style>\n",
       "<table border=\"1\" class=\"dataframe\">\n",
       "  <thead>\n",
       "    <tr style=\"text-align: right;\">\n",
       "      <th></th>\n",
       "      <th>Tweet_Id</th>\n",
       "      <th>Username</th>\n",
       "      <th>Deletionratio</th>\n",
       "      <th>Reputation</th>\n",
       "      <th>is_deleted</th>\n",
       "      <th>user_political_polarisation</th>\n",
       "      <th>user_science_polarisation</th>\n",
       "      <th>user_moderacy_polarisation</th>\n",
       "      <th>Timestamp</th>\n",
       "    </tr>\n",
       "  </thead>\n",
       "  <tbody>\n",
       "    <tr>\n",
       "      <th>0</th>\n",
       "      <td>1178791643509612547</td>\n",
       "      <td>7966d5716c1c4f33591b17755184e3d6</td>\n",
       "      <td>0.2083</td>\n",
       "      <td>0.5722</td>\n",
       "      <td>False</td>\n",
       "      <td>-0.5000</td>\n",
       "      <td>0.0000</td>\n",
       "      <td>-1.0000</td>\n",
       "      <td>2019-09-30 22:00:03+00:00</td>\n",
       "    </tr>\n",
       "    <tr>\n",
       "      <th>1</th>\n",
       "      <td>1179408833728466944</td>\n",
       "      <td>7966d5716c1c4f33591b17755184e3d6</td>\n",
       "      <td>0.2083</td>\n",
       "      <td>0.5722</td>\n",
       "      <td>True</td>\n",
       "      <td>-0.5000</td>\n",
       "      <td>0.0000</td>\n",
       "      <td>-1.0000</td>\n",
       "      <td>2019-10-02 14:52:32+00:00</td>\n",
       "    </tr>\n",
       "    <tr>\n",
       "      <th>2</th>\n",
       "      <td>1182683474827739136</td>\n",
       "      <td>7966d5716c1c4f33591b17755184e3d6</td>\n",
       "      <td>0.2083</td>\n",
       "      <td>0.5722</td>\n",
       "      <td>False</td>\n",
       "      <td>-0.5000</td>\n",
       "      <td>0.0000</td>\n",
       "      <td>-1.0000</td>\n",
       "      <td>2019-10-11 15:44:48+00:00</td>\n",
       "    </tr>\n",
       "    <tr>\n",
       "      <th>3</th>\n",
       "      <td>1184746364158271488</td>\n",
       "      <td>7966d5716c1c4f33591b17755184e3d6</td>\n",
       "      <td>0.2083</td>\n",
       "      <td>0.5722</td>\n",
       "      <td>False</td>\n",
       "      <td>-0.5000</td>\n",
       "      <td>0.0000</td>\n",
       "      <td>-1.0000</td>\n",
       "      <td>2019-10-17 08:21:59+00:00</td>\n",
       "    </tr>\n",
       "    <tr>\n",
       "      <th>4</th>\n",
       "      <td>1185117204628623360</td>\n",
       "      <td>7966d5716c1c4f33591b17755184e3d6</td>\n",
       "      <td>0.2083</td>\n",
       "      <td>0.5722</td>\n",
       "      <td>True</td>\n",
       "      <td>-0.5000</td>\n",
       "      <td>0.0000</td>\n",
       "      <td>-1.0000</td>\n",
       "      <td>2019-10-18 08:55:34+00:00</td>\n",
       "    </tr>\n",
       "  </tbody>\n",
       "</table>\n",
       "</div>"
      ],
      "text/plain": [
       "              Tweet_Id                          Username  Deletionratio  \\\n",
       "0  1178791643509612547  7966d5716c1c4f33591b17755184e3d6         0.2083   \n",
       "1  1179408833728466944  7966d5716c1c4f33591b17755184e3d6         0.2083   \n",
       "2  1182683474827739136  7966d5716c1c4f33591b17755184e3d6         0.2083   \n",
       "3  1184746364158271488  7966d5716c1c4f33591b17755184e3d6         0.2083   \n",
       "4  1185117204628623360  7966d5716c1c4f33591b17755184e3d6         0.2083   \n",
       "\n",
       "   Reputation  is_deleted  user_political_polarisation  \\\n",
       "0      0.5722       False                      -0.5000   \n",
       "1      0.5722        True                      -0.5000   \n",
       "2      0.5722       False                      -0.5000   \n",
       "3      0.5722       False                      -0.5000   \n",
       "4      0.5722        True                      -0.5000   \n",
       "\n",
       "   user_science_polarisation  user_moderacy_polarisation  \\\n",
       "0                     0.0000                     -1.0000   \n",
       "1                     0.0000                     -1.0000   \n",
       "2                     0.0000                     -1.0000   \n",
       "3                     0.0000                     -1.0000   \n",
       "4                     0.0000                     -1.0000   \n",
       "\n",
       "                   Timestamp  \n",
       "0  2019-09-30 22:00:03+00:00  \n",
       "1  2019-10-02 14:52:32+00:00  \n",
       "2  2019-10-11 15:44:48+00:00  \n",
       "3  2019-10-17 08:21:59+00:00  \n",
       "4  2019-10-18 08:55:34+00:00  "
      ]
     },
     "execution_count": 2,
     "metadata": {},
     "output_type": "execute_result"
    }
   ],
   "source": [
    "path = '../data/tweetsCov19_polarized_users_deletionratio_reputation_timestamp.tsv'\n",
    "\n",
    "df_tweetscov19_reputation_deletionratio = pd.read_csv(path, sep='\\t', error_bad_lines=False, names=['Tweet_Id', 'Username', 'Deletionratio', 'Reputation', 'is_deleted', 'user_political_polarisation', 'user_science_polarisation', 'user_moderacy_polarisation', 'Timestamp'])\n",
    "\n",
    "print('Shape :', df_tweetscov19_reputation_deletionratio.shape)\n",
    "df_tweetscov19_reputation_deletionratio.head()"
   ]
  },
  {
   "cell_type": "code",
   "execution_count": 3,
   "id": "bcf4a120",
   "metadata": {},
   "outputs": [
    {
     "name": "stdout",
     "output_type": "stream",
     "text": [
      "Shape : (44493, 5)\n"
     ]
    },
    {
     "data": {
      "text/html": [
       "<div>\n",
       "<style scoped>\n",
       "    .dataframe tbody tr th:only-of-type {\n",
       "        vertical-align: middle;\n",
       "    }\n",
       "\n",
       "    .dataframe tbody tr th {\n",
       "        vertical-align: top;\n",
       "    }\n",
       "\n",
       "    .dataframe thead th {\n",
       "        text-align: right;\n",
       "    }\n",
       "</style>\n",
       "<table border=\"1\" class=\"dataframe\">\n",
       "  <thead>\n",
       "    <tr style=\"text-align: right;\">\n",
       "      <th></th>\n",
       "      <th>Username</th>\n",
       "      <th>Number_of_antiscience_domains</th>\n",
       "      <th>Number_of_proscience_domains</th>\n",
       "      <th>Sum_polarised_domains</th>\n",
       "      <th>user_science_polarisation</th>\n",
       "    </tr>\n",
       "  </thead>\n",
       "  <tbody>\n",
       "    <tr>\n",
       "      <th>0</th>\n",
       "      <td>000238f324f5063164908c27a7f310cd</td>\n",
       "      <td>-1</td>\n",
       "      <td>0</td>\n",
       "      <td>1</td>\n",
       "      <td>-1.0000</td>\n",
       "    </tr>\n",
       "    <tr>\n",
       "      <th>1</th>\n",
       "      <td>0002eb2aff20e181397afe8cdebdd395</td>\n",
       "      <td>0</td>\n",
       "      <td>1</td>\n",
       "      <td>1</td>\n",
       "      <td>1.0000</td>\n",
       "    </tr>\n",
       "    <tr>\n",
       "      <th>2</th>\n",
       "      <td>00065a00b971b5e1629d504e0ddf2da0</td>\n",
       "      <td>-3</td>\n",
       "      <td>0</td>\n",
       "      <td>3</td>\n",
       "      <td>-1.0000</td>\n",
       "    </tr>\n",
       "    <tr>\n",
       "      <th>3</th>\n",
       "      <td>0006a238065c3acb128041e666b58f07</td>\n",
       "      <td>0</td>\n",
       "      <td>2</td>\n",
       "      <td>2</td>\n",
       "      <td>1.0000</td>\n",
       "    </tr>\n",
       "    <tr>\n",
       "      <th>4</th>\n",
       "      <td>000795932bf3bc3ab05b5efc1b07104b</td>\n",
       "      <td>-1</td>\n",
       "      <td>0</td>\n",
       "      <td>1</td>\n",
       "      <td>-1.0000</td>\n",
       "    </tr>\n",
       "  </tbody>\n",
       "</table>\n",
       "</div>"
      ],
      "text/plain": [
       "                           Username  Number_of_antiscience_domains  \\\n",
       "0  000238f324f5063164908c27a7f310cd                             -1   \n",
       "1  0002eb2aff20e181397afe8cdebdd395                              0   \n",
       "2  00065a00b971b5e1629d504e0ddf2da0                             -3   \n",
       "3  0006a238065c3acb128041e666b58f07                              0   \n",
       "4  000795932bf3bc3ab05b5efc1b07104b                             -1   \n",
       "\n",
       "   Number_of_proscience_domains  Sum_polarised_domains  \\\n",
       "0                             0                      1   \n",
       "1                             1                      1   \n",
       "2                             0                      3   \n",
       "3                             2                      2   \n",
       "4                             0                      1   \n",
       "\n",
       "   user_science_polarisation  \n",
       "0                    -1.0000  \n",
       "1                     1.0000  \n",
       "2                    -1.0000  \n",
       "3                     1.0000  \n",
       "4                    -1.0000  "
      ]
     },
     "execution_count": 3,
     "metadata": {},
     "output_type": "execute_result"
    }
   ],
   "source": [
    "path = '../data/tweetscov19_science_polarized_users.tsv'\n",
    "\n",
    "df_tweetscov19_science_polarized = pd.read_csv(path, sep='\\t', error_bad_lines=False, names=['Username', 'Number_of_antiscience_domains', 'Number_of_proscience_domains', 'Sum_polarised_domains', 'user_science_polarisation'])\n",
    "\n",
    "print('Shape :', df_tweetscov19_science_polarized.shape)\n",
    "df_tweetscov19_science_polarized.head()"
   ]
  },
  {
   "cell_type": "code",
   "execution_count": 6,
   "id": "f36d305b",
   "metadata": {},
   "outputs": [
    {
     "name": "stdout",
     "output_type": "stream",
     "text": [
      "Form : (905746, 9)\n"
     ]
    },
    {
     "data": {
      "text/html": [
       "<div>\n",
       "<style scoped>\n",
       "    .dataframe tbody tr th:only-of-type {\n",
       "        vertical-align: middle;\n",
       "    }\n",
       "\n",
       "    .dataframe tbody tr th {\n",
       "        vertical-align: top;\n",
       "    }\n",
       "\n",
       "    .dataframe thead th {\n",
       "        text-align: right;\n",
       "    }\n",
       "</style>\n",
       "<table border=\"1\" class=\"dataframe\">\n",
       "  <thead>\n",
       "    <tr style=\"text-align: right;\">\n",
       "      <th></th>\n",
       "      <th>Tweet_Id</th>\n",
       "      <th>Username</th>\n",
       "      <th>Deletionratio</th>\n",
       "      <th>Reputation</th>\n",
       "      <th>is_deleted</th>\n",
       "      <th>user_political_polarisation</th>\n",
       "      <th>user_science_polarisation</th>\n",
       "      <th>user_moderacy_polarisation</th>\n",
       "      <th>Timestamp</th>\n",
       "    </tr>\n",
       "  </thead>\n",
       "  <tbody>\n",
       "    <tr>\n",
       "      <th>0</th>\n",
       "      <td>1178791774627811328</td>\n",
       "      <td>cd45cd8eae02f9b33d9e7de16042534d</td>\n",
       "      <td>0.0293</td>\n",
       "      <td>0.8605</td>\n",
       "      <td>False</td>\n",
       "      <td>0.3333</td>\n",
       "      <td>-1.0000</td>\n",
       "      <td>0.3333</td>\n",
       "      <td>2019-09-30 22:00:34+00:00</td>\n",
       "    </tr>\n",
       "    <tr>\n",
       "      <th>1</th>\n",
       "      <td>1179349595299729409</td>\n",
       "      <td>cd45cd8eae02f9b33d9e7de16042534d</td>\n",
       "      <td>0.0293</td>\n",
       "      <td>0.8605</td>\n",
       "      <td>False</td>\n",
       "      <td>0.3333</td>\n",
       "      <td>-1.0000</td>\n",
       "      <td>0.3333</td>\n",
       "      <td>2019-10-02 10:57:09+00:00</td>\n",
       "    </tr>\n",
       "    <tr>\n",
       "      <th>2</th>\n",
       "      <td>1179362665724043269</td>\n",
       "      <td>cd45cd8eae02f9b33d9e7de16042534d</td>\n",
       "      <td>0.0293</td>\n",
       "      <td>0.8605</td>\n",
       "      <td>True</td>\n",
       "      <td>0.3333</td>\n",
       "      <td>-1.0000</td>\n",
       "      <td>0.3333</td>\n",
       "      <td>2019-10-02 11:49:05+00:00</td>\n",
       "    </tr>\n",
       "    <tr>\n",
       "      <th>3</th>\n",
       "      <td>1179588665917476865</td>\n",
       "      <td>cd45cd8eae02f9b33d9e7de16042534d</td>\n",
       "      <td>0.0293</td>\n",
       "      <td>0.8605</td>\n",
       "      <td>False</td>\n",
       "      <td>0.3333</td>\n",
       "      <td>-1.0000</td>\n",
       "      <td>0.3333</td>\n",
       "      <td>2019-10-03 02:47:08+00:00</td>\n",
       "    </tr>\n",
       "    <tr>\n",
       "      <th>4</th>\n",
       "      <td>1179943073020862465</td>\n",
       "      <td>cd45cd8eae02f9b33d9e7de16042534d</td>\n",
       "      <td>0.0293</td>\n",
       "      <td>0.8605</td>\n",
       "      <td>False</td>\n",
       "      <td>0.3333</td>\n",
       "      <td>-1.0000</td>\n",
       "      <td>0.3333</td>\n",
       "      <td>2019-10-04 02:15:25+00:00</td>\n",
       "    </tr>\n",
       "  </tbody>\n",
       "</table>\n",
       "</div>"
      ],
      "text/plain": [
       "              Tweet_Id                          Username  Deletionratio  \\\n",
       "0  1178791774627811328  cd45cd8eae02f9b33d9e7de16042534d         0.0293   \n",
       "1  1179349595299729409  cd45cd8eae02f9b33d9e7de16042534d         0.0293   \n",
       "2  1179362665724043269  cd45cd8eae02f9b33d9e7de16042534d         0.0293   \n",
       "3  1179588665917476865  cd45cd8eae02f9b33d9e7de16042534d         0.0293   \n",
       "4  1179943073020862465  cd45cd8eae02f9b33d9e7de16042534d         0.0293   \n",
       "\n",
       "   Reputation  is_deleted  user_political_polarisation  \\\n",
       "0      0.8605       False                       0.3333   \n",
       "1      0.8605       False                       0.3333   \n",
       "2      0.8605        True                       0.3333   \n",
       "3      0.8605       False                       0.3333   \n",
       "4      0.8605       False                       0.3333   \n",
       "\n",
       "   user_science_polarisation  user_moderacy_polarisation  \\\n",
       "0                    -1.0000                      0.3333   \n",
       "1                    -1.0000                      0.3333   \n",
       "2                    -1.0000                      0.3333   \n",
       "3                    -1.0000                      0.3333   \n",
       "4                    -1.0000                      0.3333   \n",
       "\n",
       "                   Timestamp  \n",
       "0  2019-09-30 22:00:34+00:00  \n",
       "1  2019-10-02 10:57:09+00:00  \n",
       "2  2019-10-02 11:49:05+00:00  \n",
       "3  2019-10-03 02:47:08+00:00  \n",
       "4  2019-10-04 02:15:25+00:00  "
      ]
     },
     "execution_count": 6,
     "metadata": {},
     "output_type": "execute_result"
    }
   ],
   "source": [
    "df_tweetscov19_science_polarized = df_tweetscov19_science_polarized[['Username']]\n",
    "\n",
    "df_tweetscov19_users = pd.merge(df_tweetscov19_reputation_deletionratio, df_tweetscov19_science_polarized, on='Username', how='inner')\n",
    "print('Form :', df_tweetscov19_users.shape)\n",
    "df_tweetscov19_users.head()"
   ]
  },
  {
   "cell_type": "markdown",
   "id": "1d3ced49",
   "metadata": {},
   "source": [
    "****"
   ]
  },
  {
   "cell_type": "code",
   "execution_count": 7,
   "id": "7292fa88",
   "metadata": {},
   "outputs": [
    {
     "name": "stdout",
     "output_type": "stream",
     "text": [
      "Shape : (148308, 5)\n"
     ]
    },
    {
     "data": {
      "text/html": [
       "<div>\n",
       "<style scoped>\n",
       "    .dataframe tbody tr th:only-of-type {\n",
       "        vertical-align: middle;\n",
       "    }\n",
       "\n",
       "    .dataframe tbody tr th {\n",
       "        vertical-align: top;\n",
       "    }\n",
       "\n",
       "    .dataframe thead th {\n",
       "        text-align: right;\n",
       "    }\n",
       "</style>\n",
       "<table border=\"1\" class=\"dataframe\">\n",
       "  <thead>\n",
       "    <tr style=\"text-align: right;\">\n",
       "      <th></th>\n",
       "      <th>Tweet_Id</th>\n",
       "      <th>number_of_antisciens_domains</th>\n",
       "      <th>number_of_prosciens_domains</th>\n",
       "      <th>Sum_polarized_domains</th>\n",
       "      <th>tweet_science_polarisation</th>\n",
       "    </tr>\n",
       "  </thead>\n",
       "  <tbody>\n",
       "    <tr>\n",
       "      <th>0</th>\n",
       "      <td>1178791818135314432</td>\n",
       "      <td>-1</td>\n",
       "      <td>0</td>\n",
       "      <td>1</td>\n",
       "      <td>-1.0000</td>\n",
       "    </tr>\n",
       "    <tr>\n",
       "      <th>1</th>\n",
       "      <td>1178791899769049091</td>\n",
       "      <td>0</td>\n",
       "      <td>1</td>\n",
       "      <td>1</td>\n",
       "      <td>1.0000</td>\n",
       "    </tr>\n",
       "    <tr>\n",
       "      <th>2</th>\n",
       "      <td>1178792638838956032</td>\n",
       "      <td>-1</td>\n",
       "      <td>0</td>\n",
       "      <td>1</td>\n",
       "      <td>-1.0000</td>\n",
       "    </tr>\n",
       "    <tr>\n",
       "      <th>3</th>\n",
       "      <td>1178793544804454402</td>\n",
       "      <td>-1</td>\n",
       "      <td>0</td>\n",
       "      <td>1</td>\n",
       "      <td>-1.0000</td>\n",
       "    </tr>\n",
       "    <tr>\n",
       "      <th>4</th>\n",
       "      <td>1178794161350139904</td>\n",
       "      <td>0</td>\n",
       "      <td>1</td>\n",
       "      <td>1</td>\n",
       "      <td>1.0000</td>\n",
       "    </tr>\n",
       "  </tbody>\n",
       "</table>\n",
       "</div>"
      ],
      "text/plain": [
       "              Tweet_Id  number_of_antisciens_domains  \\\n",
       "0  1178791818135314432                            -1   \n",
       "1  1178791899769049091                             0   \n",
       "2  1178792638838956032                            -1   \n",
       "3  1178793544804454402                            -1   \n",
       "4  1178794161350139904                             0   \n",
       "\n",
       "   number_of_prosciens_domains  Sum_polarized_domains  \\\n",
       "0                            0                      1   \n",
       "1                            1                      1   \n",
       "2                            0                      1   \n",
       "3                            0                      1   \n",
       "4                            1                      1   \n",
       "\n",
       "   tweet_science_polarisation  \n",
       "0                     -1.0000  \n",
       "1                      1.0000  \n",
       "2                     -1.0000  \n",
       "3                     -1.0000  \n",
       "4                      1.0000  "
      ]
     },
     "execution_count": 7,
     "metadata": {},
     "output_type": "execute_result"
    }
   ],
   "source": [
    "path = '../data/tweetscov19_science_polarized_tweets.tsv'\n",
    "\n",
    "df_tweetscov19_science_polarized_tweets = pd.read_csv(path, sep='\\t', error_bad_lines=False, dtype={'Tweet_Id':'object'} ,names=['Tweet_Id', 'number_of_antisciens_domains', 'number_of_prosciens_domains', 'Sum_polarized_domains', 'tweet_science_polarisation'])\n",
    "\n",
    "print('Shape :', df_tweetscov19_science_polarized_tweets.shape)\n",
    "df_tweetscov19_science_polarized_tweets.head()"
   ]
  },
  {
   "cell_type": "code",
   "execution_count": 8,
   "id": "d77d739f",
   "metadata": {},
   "outputs": [
    {
     "data": {
      "text/plain": [
       "(148308, 10)"
      ]
     },
     "execution_count": 8,
     "metadata": {},
     "output_type": "execute_result"
    }
   ],
   "source": [
    "df_tweetscov19_science_polarized_tweets = df_tweetscov19_science_polarized_tweets[['Tweet_Id', 'tweet_science_polarisation']]\n",
    "\n",
    "df_tweetscov19_users.Tweet_Id = df_tweetscov19_users.Tweet_Id.astype(str)\n",
    "df_tweetscov19_science_polarized_tweets.Tweet_Id = df_tweetscov19_science_polarized_tweets.Tweet_Id.astype(str)\n",
    "\n",
    "df_tweetscov19 = pd.merge(df_tweetscov19_users, df_tweetscov19_science_polarized_tweets, on='Tweet_Id', how='inner')\n",
    "df_tweetscov19.shape"
   ]
  },
  {
   "cell_type": "code",
   "execution_count": 10,
   "id": "de5d0c66",
   "metadata": {},
   "outputs": [
    {
     "data": {
      "text/html": [
       "<div>\n",
       "<style scoped>\n",
       "    .dataframe tbody tr th:only-of-type {\n",
       "        vertical-align: middle;\n",
       "    }\n",
       "\n",
       "    .dataframe tbody tr th {\n",
       "        vertical-align: top;\n",
       "    }\n",
       "\n",
       "    .dataframe thead th {\n",
       "        text-align: right;\n",
       "    }\n",
       "</style>\n",
       "<table border=\"1\" class=\"dataframe\">\n",
       "  <thead>\n",
       "    <tr style=\"text-align: right;\">\n",
       "      <th></th>\n",
       "      <th>Tweet_Id</th>\n",
       "      <th>Username</th>\n",
       "      <th>Deletionratio</th>\n",
       "      <th>Reputation</th>\n",
       "      <th>is_deleted</th>\n",
       "      <th>user_political_polarisation</th>\n",
       "      <th>user_science_polarisation</th>\n",
       "      <th>user_moderacy_polarisation</th>\n",
       "      <th>Timestamp</th>\n",
       "      <th>tweet_science_polarisation</th>\n",
       "    </tr>\n",
       "  </thead>\n",
       "  <tbody>\n",
       "    <tr>\n",
       "      <th>0</th>\n",
       "      <td>1182577070167265280</td>\n",
       "      <td>cd45cd8eae02f9b33d9e7de16042534d</td>\n",
       "      <td>0.0293</td>\n",
       "      <td>0.8605</td>\n",
       "      <td>True</td>\n",
       "      <td>0.3333</td>\n",
       "      <td>-1.0000</td>\n",
       "      <td>0.3333</td>\n",
       "      <td>2019-10-11 08:41:59+00:00</td>\n",
       "      <td>-1.0000</td>\n",
       "    </tr>\n",
       "  </tbody>\n",
       "</table>\n",
       "</div>"
      ],
      "text/plain": [
       "              Tweet_Id                          Username  Deletionratio  \\\n",
       "0  1182577070167265280  cd45cd8eae02f9b33d9e7de16042534d         0.0293   \n",
       "\n",
       "   Reputation  is_deleted  user_political_polarisation  \\\n",
       "0      0.8605        True                       0.3333   \n",
       "\n",
       "   user_science_polarisation  user_moderacy_polarisation  \\\n",
       "0                    -1.0000                      0.3333   \n",
       "\n",
       "                   Timestamp  tweet_science_polarisation  \n",
       "0  2019-10-11 08:41:59+00:00                     -1.0000  "
      ]
     },
     "execution_count": 10,
     "metadata": {},
     "output_type": "execute_result"
    }
   ],
   "source": [
    "df_tweetscov19.head(1)"
   ]
  },
  {
   "cell_type": "markdown",
   "id": "c5f54282",
   "metadata": {},
   "source": [
    "----"
   ]
  },
  {
   "cell_type": "code",
   "execution_count": 11,
   "id": "96637ce1",
   "metadata": {},
   "outputs": [
    {
     "name": "stdout",
     "output_type": "stream",
     "text": [
      "October:  -0.446\n",
      "November:  -0.278\n",
      "December:  -0.3\n",
      "Januar:  -0.22\n",
      "February:  -0.182\n",
      "March:  -0.0548\n",
      "April:  -0.146\n",
      "Mai:  -0.094\n"
     ]
    }
   ],
   "source": [
    "pol_col = 'user_science_polarisation'\n",
    "df = df_tweetscov19.drop_duplicates(subset=['Username'])\n",
    "\n",
    "\n",
    "October = df[df['Timestamp'] < '2019-11-01 00:00:00+00:00']\n",
    "print('October: ', '{0:.3g}'.format(October[pol_col].mean()))\n",
    "\n",
    "\n",
    "start_date = '2019-11-01 00:00:00+00:00'\n",
    "end_date = '2019-12-01 00:00:00+00:00'\n",
    "November =  df[(df['Timestamp'] >= start_date) & (df['Timestamp'] < end_date) ]\n",
    "print('November: ', '{0:.3g}'.format(November[pol_col].mean()))\n",
    "\n",
    "\n",
    "start_date = '2019-12-01 00:00:00+00:00'\n",
    "end_date = '2020-01-01 00:00:00+00:00'\n",
    "December = df[(df['Timestamp'] >= start_date) & (df['Timestamp'] < end_date) ]\n",
    "print('December: ', '{0:.3g}'.format(December[pol_col].mean()))\n",
    "\n",
    "start_date = '2020-01-01 00:00:00+00:00'\n",
    "end_date = '2020-02-01 00:00:00+00:00'\n",
    "Januar = df[(df['Timestamp'] >= start_date) & (df['Timestamp'] < end_date) ]\n",
    "print('Januar: ', '{0:.3g}'.format(Januar[pol_col].mean()))\n",
    "\n",
    "start_date = '2020-02-01 00:00:00+00:00'\n",
    "end_date = '2020-03-01 00:00:00+00:00'\n",
    "Februar = df[(df['Timestamp'] >= start_date) & (df['Timestamp'] < end_date) ] \n",
    "print('February: ', '{0:.3g}'.format(Februar[pol_col].mean()))\n",
    "\n",
    "start_date = '2020-03-01 00:00:00+00:00'\n",
    "end_date = '2020-04-01 00:00:00+00:00'\n",
    "March = df[(df['Timestamp'] >= start_date) & (df['Timestamp'] < end_date)]\n",
    "print('March: ', '{0:.3g}'.format(March[pol_col].mean()))\n",
    "\n",
    "start_date = '2020-04-01 00:00:00+00:00'\n",
    "end_date = '2020-05-01 00:00:00+00:00'\n",
    "April = df[(df['Timestamp'] >= start_date) & (df['Timestamp'] < end_date)]\n",
    "print('April: ', '{0:.3g}'.format(April[pol_col].mean()))\n",
    "\n",
    "start_date = '2020-05-01 00:00:00+00:00'\n",
    "Mai = df[df['Timestamp'] >= start_date ]\n",
    "print('Mai: ', '{0:.3g}'.format(Mai[pol_col].mean()))"
   ]
  },
  {
   "cell_type": "markdown",
   "id": "657dc4cc",
   "metadata": {},
   "source": [
    "***"
   ]
  },
  {
   "cell_type": "code",
   "execution_count": 13,
   "id": "5607aaa8",
   "metadata": {},
   "outputs": [
    {
     "name": "stdout",
     "output_type": "stream",
     "text": [
      "Alle Users: 44493\n"
     ]
    }
   ],
   "source": [
    "print('Alle Users:', df_tweetscov19.Username.unique().size)\n"
   ]
  },
  {
   "cell_type": "code",
   "execution_count": 14,
   "id": "094c5420",
   "metadata": {},
   "outputs": [],
   "source": [
    "df_tweetscov19_del = df_tweetscov19[df_tweetscov19['is_deleted']==True]\n",
    "df_tweetscov19_undel = df_tweetscov19[df_tweetscov19['is_deleted']==False]"
   ]
  },
  {
   "cell_type": "code",
   "execution_count": 15,
   "id": "28aa8928",
   "metadata": {},
   "outputs": [
    {
     "name": "stdout",
     "output_type": "stream",
     "text": [
      "Deleted Tweets: (49542, 10)\n",
      "Non-deleted Tweets: (98766, 10)\n"
     ]
    }
   ],
   "source": [
    "print('Deleted Tweets:', df_tweetscov19_del.shape)\n",
    "print('Non-deleted Tweets:', df_tweetscov19_undel.shape)"
   ]
  },
  {
   "cell_type": "code",
   "execution_count": 18,
   "id": "1d64901d",
   "metadata": {},
   "outputs": [
    {
     "name": "stdout",
     "output_type": "stream",
     "text": [
      "Alle Users: 44493\n",
      "Alle pro. Users in gesammten Tweets: 18352\n",
      "Tweets of pro. Users in gesammten Tweets: 32828\n",
      "Alle anti. Users in gesammten Tweets: 25591\n",
      "Tweets of anti. Users in gesammten Tweets: 114230\n"
     ]
    }
   ],
   "source": [
    "print('Alle Users:', df_tweetscov19.Username.unique().size)\n",
    "\n",
    "df = df_tweetscov19[df_tweetscov19['user_science_polarisation']>0]\n",
    "print('Alle pro. Users in gesammten Tweets:', df.Username.unique().size)\n",
    "print('Tweets of pro. Users in gesammten Tweets:', df.shape[0])\n",
    "\n",
    "df = df_tweetscov19[df_tweetscov19['user_science_polarisation']<0]\n",
    "print('Alle anti. Users in gesammten Tweets:', df.Username.unique().size)\n",
    "print('Tweets of anti. Users in gesammten Tweets:', df.shape[0])\n"
   ]
  },
  {
   "cell_type": "code",
   "execution_count": 19,
   "id": "aa4f2d7b",
   "metadata": {},
   "outputs": [
    {
     "name": "stdout",
     "output_type": "stream",
     "text": [
      "Alle Users: 12782\n",
      "Alle pro. Users in gelöschten Tweets: 2629\n",
      "Tweets of pro. Users in gelöschten Tweets: 3333\n",
      "Alle anti. Users in gelöschten Tweets: 9993\n",
      "Tweets of anti. Users in gelöschten Tweets: 45884\n"
     ]
    }
   ],
   "source": [
    "print('Alle Users:', df_tweetscov19_del.Username.unique().size)\n",
    "\n",
    "df = df_tweetscov19_del[df_tweetscov19_del['user_science_polarisation']>0]\n",
    "print('Alle pro. Users in gelöschten Tweets:', df.Username.unique().size)\n",
    "print('Tweets of pro. Users in gelöschten Tweets:', df.shape[0])\n",
    "\n",
    "df = df_tweetscov19_del[df_tweetscov19_del['user_science_polarisation']<0]\n",
    "print('Alle anti. Users in gelöschten Tweets:', df.Username.unique().size)\n",
    "print('Tweets of anti. Users in gelöschten Tweets:', df.shape[0])\n"
   ]
  },
  {
   "cell_type": "code",
   "execution_count": 20,
   "id": "2fd0a340",
   "metadata": {},
   "outputs": [
    {
     "name": "stdout",
     "output_type": "stream",
     "text": [
      "Alle Users: 32327\n",
      "Alle pro. Users in nicht gelöschten Tweets: 15882\n",
      "Tweets of pro. Users in nicht gelöschten Tweets: 29495\n",
      "Alle anti. Users in nicht gelöschten Tweets: 16031\n",
      "Tweets of anti. Users in nicht gelöschten Tweets: 68346\n"
     ]
    }
   ],
   "source": [
    "print('Alle Users:', df_tweetscov19_undel.Username.unique().size)\n",
    "\n",
    "df = df_tweetscov19_undel[df_tweetscov19_undel['user_science_polarisation']>0]\n",
    "print('Alle pro. Users in nicht gelöschten Tweets:', df.Username.unique().size)\n",
    "print('Tweets of pro. Users in nicht gelöschten Tweets:', df.shape[0])\n",
    "\n",
    "df = df_tweetscov19_undel[df_tweetscov19_undel['user_science_polarisation']<0]\n",
    "print('Alle anti. Users in nicht gelöschten Tweets:', df.Username.unique().size)\n",
    "print('Tweets of anti. Users in nicht gelöschten Tweets:', df.shape[0])\n"
   ]
  },
  {
   "cell_type": "code",
   "execution_count": 21,
   "id": "25cb55f1",
   "metadata": {},
   "outputs": [
    {
     "name": "stdout",
     "output_type": "stream",
     "text": [
      "Alle Users: 550\n",
      "Alle neutral Users in gelöschten Tweets: 160\n",
      "Tweets of neutral Users in gelöschten Tweets: 325\n",
      "Alle neutral Users in nicht gelöschten Tweets: 414\n",
      "Tweets of neutral Users in nicht gelöschten Tweets: 925\n"
     ]
    }
   ],
   "source": [
    "df_tweetscov19_neutral = df_tweetscov19[df_tweetscov19['user_science_polarisation']==0]\n",
    "print('Alle Users:', df_tweetscov19_neutral.Username.unique().size)\n",
    "\n",
    "df = df_tweetscov19_del[df_tweetscov19_del['user_science_polarisation']==0]\n",
    "print('Alle neutral Users in gelöschten Tweets:', df.Username.unique().size)\n",
    "print('Tweets of neutral Users in gelöschten Tweets:', df.shape[0])\n",
    "\n",
    "df = df_tweetscov19_undel[df_tweetscov19_undel['user_science_polarisation']==0]\n",
    "print('Alle neutral Users in nicht gelöschten Tweets:', df.Username.unique().size)\n",
    "print('Tweets of neutral Users in nicht gelöschten Tweets:', df.shape[0])"
   ]
  },
  {
   "cell_type": "code",
   "execution_count": 24,
   "id": "1d09ccc3",
   "metadata": {},
   "outputs": [],
   "source": [
    "def plot_kdeplot_v2(df, hue, x, x_label, titel, name): \n",
    "    \n",
    "    #fig = plt.figure()\n",
    "    #ax = fig.add_subplot()\n",
    "    #ax = sns.kdeplot(data=df, x=x, hue=hue, fill=True, legend= False)\n",
    "    ax = sns.kdeplot(data=df, x=x, hue=hue, multiple=\"fill\", legend= False)\n",
    "\n",
    "    #plt.rcParams[\"figure.figsize\"] = [7,5]\n",
    "\n",
    "    ax.set_title('Science', fontsize=22)\n",
    "    ax.set_ylabel(ylabel='Density', fontsize=22)\n",
    "    ax.set_xlabel(xlabel=x_label, fontsize=22)\n",
    "\n",
    "    ax.tick_params(axis='x', which='major', labelsize=18)\n",
    "    ax.tick_params(axis='y', which='major', labelsize=18)\n",
    "\n",
    "    #plt.margins(0.02)\n",
    "    #fig.tight_layout()\n",
    "    #plt.show()\n",
    "    #plt.legend(labels = ['Deleted','Non-deleted'], bbox_to_anchor=(0.2, 1.13), ncol=2, loc=2, borderaxespad=0, fontsize=12)\n",
    "    #g.set_title(titel, fontweight=\"bold\")\n",
    "    #plt.legend(labels = ['Deleted','Non-deleted'], bbox_to_anchor=(1.02, 1.), loc=2, borderaxespad=0)\n",
    "    plt.legend([],[], frameon=False)\n",
    "    plt.tight_layout()\n",
    "    plt.savefig('../plots/'+name+'.pdf')\n"
   ]
  },
  {
   "cell_type": "code",
   "execution_count": 25,
   "id": "1c78b677",
   "metadata": {},
   "outputs": [
    {
     "data": {
      "image/png": "[encoded data removed]",
      "text/plain": [
       "<Figure size 432x288 with 1 Axes>"
      ]
     },
     "metadata": {
      "needs_background": "light"
     },
     "output_type": "display_data"
    }
   ],
   "source": [
    "df = df_tweetscov19[['is_deleted', 'user_science_polarisation']]\n",
    "plot_kdeplot_v2(df, 'is_deleted','user_science_polarisation' ,'Anti-science <-> Pro-science' ,'TweetsCov19', 'kdeplot_tweetscov19_science_all_users_Normalizethestackeddistribution_v2')"
   ]
  },
  {
   "cell_type": "code",
   "execution_count": 26,
   "id": "e0b9926f",
   "metadata": {},
   "outputs": [
    {
     "data": {
      "image/png": "[encoded data removed]",
      "text/plain": [
       "<Figure size 432x288 with 1 Axes>"
      ]
     },
     "metadata": {
      "needs_background": "light"
     },
     "output_type": "display_data"
    }
   ],
   "source": [
    "df = df_tweetscov19[['is_deleted', 'tweet_science_polarisation']]\n",
    "plot_kdeplot_v2(df, 'is_deleted','tweet_science_polarisation' ,'Anti-science <-> Pro-science' ,'TweetsCov19', 'kdeplot_tweetscov19_science_all_tweets_Normalizethestackeddistribution_v2')"
   ]
  },
  {
   "cell_type": "markdown",
   "id": "e91dd532",
   "metadata": {},
   "source": [
    "***"
   ]
  },
  {
   "cell_type": "markdown",
   "id": "9dbd96ec",
   "metadata": {},
   "source": [
    "# Histogram"
   ]
  },
  {
   "cell_type": "markdown",
   "id": "8375fd69",
   "metadata": {},
   "source": [
    "***"
   ]
  },
  {
   "cell_type": "markdown",
   "id": "cb30a177",
   "metadata": {},
   "source": [
    "***"
   ]
  },
  {
   "cell_type": "code",
   "execution_count": 30,
   "id": "4873a3a3",
   "metadata": {},
   "outputs": [],
   "source": [
    "def thousands(x, pos):\n",
    "    if x <1000 :\n",
    "        return '{:1.0f}'.format(x*1e-3)\n",
    "    \"\"\"The two args are the value and tick position.\"\"\"\n",
    "    return '{:1.0f}k'.format(x*1e-3)\n",
    "\n",
    "def plot_histogram(df, titel):\n",
    "    \n",
    "    fig, ax = plt.subplots()\n",
    "    \n",
    "    \n",
    "    N, bins, patches = ax.hist(df, bins=11, color = 'gray')\n",
    "    patches[5].set_label('Neutral')\n",
    "    patches[5].set_facecolor('gray')\n",
    "    for i in range(0,5):\n",
    "        patches[i].set_facecolor('forestgreen')\n",
    "    patches[1].set_label('Anti-Science')\n",
    "    for i in range(6,len(patches)):\n",
    "        patches[i].set_facecolor('gold')\n",
    "    patches[9].set_label('Pro-Science')\n",
    "    ax.tick_params(axis='x', which='major', labelsize=18)\n",
    "    ax.tick_params(axis='y', which='major', labelsize=18)\n",
    "\n",
    "    figsize=(8, 6)\n",
    "    ax.set_title('Science', fontsize=22)\n",
    "    ax.set_ylabel('Number of Tweets', fontsize=22)\n",
    "    ax.set_xlabel(xlabel='Anti-science <-> Pro-science', fontsize=22)\n",
    "    ax.yaxis.set_major_formatter(thousands)\n",
    "\n",
    "    #f = ticker.ScalarFormatter(useOffset=False, useMathText=True)\n",
    "    #g = lambda x,pos : \"${}$\".format(f._formatSciNotation('%1.10e' % x))\n",
    "    #ax.yaxis.set_major_formatter(ticker.FuncFormatter(g))\n",
    "    \n",
    "    #plt.title('Political polarization', fontsize=18)\n",
    "    plt.legend(loc='upper center', fontsize=14)\n",
    "    #plt.legend( fontsize=12)\n",
    "\n",
    "    plt.tight_layout()\n",
    "    plt.savefig('../plots/'+titel+'.pdf')"
   ]
  },
  {
   "cell_type": "code",
   "execution_count": 31,
   "id": "8dd48948",
   "metadata": {},
   "outputs": [],
   "source": [
    "df_tweetscov19_del = df_tweetscov19[df_tweetscov19['is_deleted']==True]\n",
    "df_tweetscov19_undel = df_tweetscov19[df_tweetscov19['is_deleted']==False]"
   ]
  },
  {
   "cell_type": "code",
   "execution_count": 32,
   "id": "94d6f66c",
   "metadata": {},
   "outputs": [],
   "source": [
    "#matplotlib.rcParams['font.family'] = ['sans-serif']"
   ]
  },
  {
   "cell_type": "code",
   "execution_count": 33,
   "id": "9d69aa05",
   "metadata": {},
   "outputs": [
    {
     "data": {
      "image/png": "[encoded data removed]",
      "text/plain": [
       "<Figure size 432x288 with 1 Axes>"
      ]
     },
     "metadata": {
      "needs_background": "light"
     },
     "output_type": "display_data"
    }
   ],
   "source": [
    "#df = df_tweetscov19.drop_duplicates(subset=['Username'])\n",
    "df = df_tweetscov19\n",
    "plot_histogram(df['tweet_science_polarisation'],'hist_tweetsCov19_science_polarized_tweets(alltweets)')"
   ]
  },
  {
   "cell_type": "code",
   "execution_count": 34,
   "id": "18d39e9a",
   "metadata": {},
   "outputs": [
    {
     "data": {
      "image/png": "[encoded data removed]",
      "text/plain": [
       "<Figure size 432x288 with 1 Axes>"
      ]
     },
     "metadata": {
      "needs_background": "light"
     },
     "output_type": "display_data"
    }
   ],
   "source": [
    "#df = df_tweetscov19_del.drop_duplicates(subset=['Username'])\n",
    "df = df_tweetscov19_del\n",
    "plot_histogram(df['tweet_science_polarisation'],'hist_tweetsCov19_science_polarized_tweets(deletedtweets)')"
   ]
  },
  {
   "cell_type": "code",
   "execution_count": 35,
   "id": "793c94a7",
   "metadata": {},
   "outputs": [
    {
     "data": {
      "image/png": "[encoded data removed]",
      "text/plain": [
       "<Figure size 432x288 with 1 Axes>"
      ]
     },
     "metadata": {
      "needs_background": "light"
     },
     "output_type": "display_data"
    }
   ],
   "source": [
    "#df = df_tweetscov19_undel.drop_duplicates(subset=['Username'])\n",
    "df = df_tweetscov19_undel\n",
    "plot_histogram(df['tweet_science_polarisation'],'hist_tweetsCov19_science_polarized_tweets(nondeletedtweets)')"
   ]
  },
  {
   "cell_type": "markdown",
   "id": "9aca78fd",
   "metadata": {},
   "source": [
    "***"
   ]
  },
  {
   "cell_type": "markdown",
   "id": "c420f855",
   "metadata": {},
   "source": [
    "# Heatmap\n",
    "### Reputation-Polarisierung"
   ]
  },
  {
   "cell_type": "markdown",
   "id": "312838da",
   "metadata": {},
   "source": [
    "***"
   ]
  },
  {
   "cell_type": "markdown",
   "id": "1701cd74",
   "metadata": {},
   "source": [
    "***"
   ]
  },
  {
   "cell_type": "code",
   "execution_count": 36,
   "id": "e4955211",
   "metadata": {},
   "outputs": [],
   "source": [
    "import plotly.express as px\n",
    "import plotly.graph_objs as go\n",
    "import plotly.offline as pyo\n",
    "\n",
    "def density_hp(df, title, x, y, color):\n",
    "    fig = px.density_heatmap(df, x=x, y=y, nbinsx=20, nbinsy=20, color_continuous_scale=color)\n",
    "    fig.layout.height = 500\n",
    "    fig.layout.width = 600\n",
    "    fig.update_layout(\n",
    "        title= dict(\n",
    "            text= \"Science\",\n",
    "            y=0.95,\n",
    "            x=0.45,\n",
    "            xanchor= 'center',\n",
    "            yanchor= 'top'),\n",
    "        titlefont = dict(\n",
    "             family = 'Arial, sans-serif',\n",
    "             size = 32,\n",
    "             color = 'Black'\n",
    "              ),\n",
    "        xaxis = dict(\n",
    "            title='Anti-science  <->  Pro-science',\n",
    "            \n",
    "            tickmode = 'linear',\n",
    "            tickformat=\".1f\",\n",
    "            dtick = 0.5,\n",
    "            tickfont = dict(\n",
    "            family = 'Arial, sans-serif',\n",
    "            size = 28,\n",
    "            color = 'black'\n",
    "              ),\n",
    "            titlefont = dict(\n",
    "             family = 'Arial, sans-serif',\n",
    "             size = 32,\n",
    "             color = 'Black'\n",
    "              ),\n",
    "            ),\n",
    "        yaxis = dict(\n",
    "            tickmode = 'linear',\n",
    "            tickformat=\".1f\",\n",
    "            dtick = 0.5,\n",
    "            tickfont = dict(\n",
    "            family = 'Arial, sans-serif',\n",
    "            size = 28,\n",
    "            color = 'black'\n",
    "              ),\n",
    "        titlefont = dict(\n",
    "             family = 'Arial, sans-serif',\n",
    "             size = 32,\n",
    "             color = 'Black'\n",
    "              ),\n",
    "            ),\n",
    "        coloraxis_colorbar=dict(\n",
    "            title=\"Tweets\",\n",
    "            thicknessmode=\"pixels\",\n",
    "            titlefont = dict(\n",
    "             family = 'Arial, sans-serif',\n",
    "             size = 32,\n",
    "             color = 'Black'\n",
    "              ),\n",
    "            tickfont = dict(\n",
    "            family = 'Arial, sans-serif',\n",
    "            size = 25,\n",
    "            color = 'black'\n",
    "              ),\n",
    "            ),\n",
    "\n",
    "\n",
    "        )\n",
    "\n",
    "    #fig.show()\n",
    "    pyo.plot(fig, filename=title+\".html\")\n",
    "    fig.write_image('../plots/heatmaps/'+title+'.pdf')"
   ]
  },
  {
   "cell_type": "code",
   "execution_count": 37,
   "id": "89797641",
   "metadata": {},
   "outputs": [],
   "source": [
    "#All Tweets\n",
    "df = df_tweetscov19[['is_deleted', 'user_science_polarisation', 'Reputation']]\n",
    "\n",
    "df_del =  df[df['is_deleted']==True]\n",
    "df_undel = df[df['is_deleted']==False]"
   ]
  },
  {
   "cell_type": "code",
   "execution_count": 38,
   "id": "a7a2da15",
   "metadata": {},
   "outputs": [],
   "source": [
    "density_hp(df,'density_hp_science_polarisation_tweetscov19_alltweets_v2' ,'user_science_polarisation', 'Reputation', 'Greens')"
   ]
  },
  {
   "cell_type": "code",
   "execution_count": 39,
   "id": "79df53cf",
   "metadata": {},
   "outputs": [],
   "source": [
    "density_hp(df_del,'density_hp_science_polarisation_tweetscov19_deleted_v2' ,'user_science_polarisation', 'Reputation', 'Greens')"
   ]
  },
  {
   "cell_type": "code",
   "execution_count": 40,
   "id": "0c7bedaf",
   "metadata": {},
   "outputs": [],
   "source": [
    "density_hp(df_undel,'density_hp_science_polarisation_tweetscov19_nondeleted_v2' ,'user_science_polarisation', 'Reputation', 'Greens')"
   ]
  },
  {
   "cell_type": "markdown",
   "id": "c2e1bda5",
   "metadata": {},
   "source": [
    "****"
   ]
  },
  {
   "cell_type": "markdown",
   "id": "7936fc79",
   "metadata": {},
   "source": [
    "***"
   ]
  },
  {
   "cell_type": "markdown",
   "id": "c3eeffb0",
   "metadata": {},
   "source": [
    "# TweetKB\n",
    "## KDE-Plot"
   ]
  },
  {
   "cell_type": "markdown",
   "id": "bf1449e0",
   "metadata": {},
   "source": [
    "***"
   ]
  },
  {
   "cell_type": "markdown",
   "id": "6e12a800",
   "metadata": {},
   "source": [
    "### Merge alle Tweets mit polarized Users"
   ]
  },
  {
   "cell_type": "code",
   "execution_count": 22,
   "id": "42b97ad5",
   "metadata": {},
   "outputs": [
    {
     "name": "stdout",
     "output_type": "stream",
     "text": [
      "Shape : (556583, 9)\n"
     ]
    },
    {
     "data": {
      "text/html": [
       "<div>\n",
       "<style scoped>\n",
       "    .dataframe tbody tr th:only-of-type {\n",
       "        vertical-align: middle;\n",
       "    }\n",
       "\n",
       "    .dataframe tbody tr th {\n",
       "        vertical-align: top;\n",
       "    }\n",
       "\n",
       "    .dataframe thead th {\n",
       "        text-align: right;\n",
       "    }\n",
       "</style>\n",
       "<table border=\"1\" class=\"dataframe\">\n",
       "  <thead>\n",
       "    <tr style=\"text-align: right;\">\n",
       "      <th></th>\n",
       "      <th>Tweet_Id</th>\n",
       "      <th>Username</th>\n",
       "      <th>Deletionratio</th>\n",
       "      <th>Reputation</th>\n",
       "      <th>is_deleted</th>\n",
       "      <th>user_political_polarisation</th>\n",
       "      <th>user_science_polarisation</th>\n",
       "      <th>user_moderacy_polarisation</th>\n",
       "      <th>Timestamp</th>\n",
       "    </tr>\n",
       "  </thead>\n",
       "  <tbody>\n",
       "    <tr>\n",
       "      <th>0</th>\n",
       "      <td>1266775106803638274</td>\n",
       "      <td>0000Condor</td>\n",
       "      <td>1.0000</td>\n",
       "      <td>0.2556</td>\n",
       "      <td>True</td>\n",
       "      <td>-1.0000</td>\n",
       "      <td>0.0000</td>\n",
       "      <td>1.0000</td>\n",
       "      <td>2020-05-30 16:54:55+00:00</td>\n",
       "    </tr>\n",
       "    <tr>\n",
       "      <th>1</th>\n",
       "      <td>1223853670619475968</td>\n",
       "      <td>007AliSohrab</td>\n",
       "      <td>1.0000</td>\n",
       "      <td>0.9820</td>\n",
       "      <td>True</td>\n",
       "      <td>0.0000</td>\n",
       "      <td>0.0000</td>\n",
       "      <td>-1.0000</td>\n",
       "      <td>2020-02-02 06:20:27+00:00</td>\n",
       "    </tr>\n",
       "    <tr>\n",
       "      <th>2</th>\n",
       "      <td>1235648403742142464</td>\n",
       "      <td>007AliSohrab</td>\n",
       "      <td>1.0000</td>\n",
       "      <td>0.9820</td>\n",
       "      <td>True</td>\n",
       "      <td>0.0000</td>\n",
       "      <td>0.0000</td>\n",
       "      <td>-1.0000</td>\n",
       "      <td>2020-03-05 19:28:31+00:00</td>\n",
       "    </tr>\n",
       "    <tr>\n",
       "      <th>3</th>\n",
       "      <td>1235787184721907712</td>\n",
       "      <td>007AliSohrab</td>\n",
       "      <td>1.0000</td>\n",
       "      <td>0.9820</td>\n",
       "      <td>True</td>\n",
       "      <td>0.0000</td>\n",
       "      <td>0.0000</td>\n",
       "      <td>-1.0000</td>\n",
       "      <td>2020-03-06 04:39:59+00:00</td>\n",
       "    </tr>\n",
       "    <tr>\n",
       "      <th>4</th>\n",
       "      <td>1244655252730548224</td>\n",
       "      <td>007AliSohrab</td>\n",
       "      <td>1.0000</td>\n",
       "      <td>0.9820</td>\n",
       "      <td>True</td>\n",
       "      <td>0.0000</td>\n",
       "      <td>0.0000</td>\n",
       "      <td>-1.0000</td>\n",
       "      <td>2020-03-30 15:58:31+00:00</td>\n",
       "    </tr>\n",
       "  </tbody>\n",
       "</table>\n",
       "</div>"
      ],
      "text/plain": [
       "              Tweet_Id      Username  Deletionratio  Reputation  is_deleted  \\\n",
       "0  1266775106803638274    0000Condor         1.0000      0.2556        True   \n",
       "1  1223853670619475968  007AliSohrab         1.0000      0.9820        True   \n",
       "2  1235648403742142464  007AliSohrab         1.0000      0.9820        True   \n",
       "3  1235787184721907712  007AliSohrab         1.0000      0.9820        True   \n",
       "4  1244655252730548224  007AliSohrab         1.0000      0.9820        True   \n",
       "\n",
       "   user_political_polarisation  user_science_polarisation  \\\n",
       "0                      -1.0000                     0.0000   \n",
       "1                       0.0000                     0.0000   \n",
       "2                       0.0000                     0.0000   \n",
       "3                       0.0000                     0.0000   \n",
       "4                       0.0000                     0.0000   \n",
       "\n",
       "   user_moderacy_polarisation                  Timestamp  \n",
       "0                      1.0000  2020-05-30 16:54:55+00:00  \n",
       "1                     -1.0000  2020-02-02 06:20:27+00:00  \n",
       "2                     -1.0000  2020-03-05 19:28:31+00:00  \n",
       "3                     -1.0000  2020-03-06 04:39:59+00:00  \n",
       "4                     -1.0000  2020-03-30 15:58:31+00:00  "
      ]
     },
     "execution_count": 22,
     "metadata": {},
     "output_type": "execute_result"
    }
   ],
   "source": [
    "path = '../data/tweetskb_polarized_users_deletionratio_reputation_timestamp.tsv'\n",
    "\n",
    "df_tweetskb_reputation_deletionratio = pd.read_csv(path, sep='\\t', error_bad_lines=False, dtype={'Tweet_Id':'object'}, names=['Tweet_Id', 'Username', 'Deletionratio', 'Reputation', 'is_deleted', 'user_political_polarisation', 'user_science_polarisation', 'user_moderacy_polarisation', 'Timestamp'])\n",
    "\n",
    "print('Shape :', df_tweetskb_reputation_deletionratio.shape)\n",
    "df_tweetskb_reputation_deletionratio.head()"
   ]
  },
  {
   "cell_type": "code",
   "execution_count": 23,
   "id": "76579ee2",
   "metadata": {},
   "outputs": [
    {
     "name": "stdout",
     "output_type": "stream",
     "text": [
      "Shape : (15325, 5)\n"
     ]
    },
    {
     "data": {
      "text/html": [
       "<div>\n",
       "<style scoped>\n",
       "    .dataframe tbody tr th:only-of-type {\n",
       "        vertical-align: middle;\n",
       "    }\n",
       "\n",
       "    .dataframe tbody tr th {\n",
       "        vertical-align: top;\n",
       "    }\n",
       "\n",
       "    .dataframe thead th {\n",
       "        text-align: right;\n",
       "    }\n",
       "</style>\n",
       "<table border=\"1\" class=\"dataframe\">\n",
       "  <thead>\n",
       "    <tr style=\"text-align: right;\">\n",
       "      <th></th>\n",
       "      <th>Username</th>\n",
       "      <th>Number_of_antiscience_domains</th>\n",
       "      <th>Number_of_proscience_domains</th>\n",
       "      <th>Sum_polarised_domains</th>\n",
       "      <th>user_science_polarisation</th>\n",
       "    </tr>\n",
       "  </thead>\n",
       "  <tbody>\n",
       "    <tr>\n",
       "      <th>0</th>\n",
       "      <td>000000hSure</td>\n",
       "      <td>-1</td>\n",
       "      <td>0</td>\n",
       "      <td>1</td>\n",
       "      <td>-1.0000</td>\n",
       "    </tr>\n",
       "    <tr>\n",
       "      <th>1</th>\n",
       "      <td>01splcheck</td>\n",
       "      <td>-1</td>\n",
       "      <td>0</td>\n",
       "      <td>1</td>\n",
       "      <td>-1.0000</td>\n",
       "    </tr>\n",
       "    <tr>\n",
       "      <th>2</th>\n",
       "      <td>01sth02</td>\n",
       "      <td>0</td>\n",
       "      <td>1</td>\n",
       "      <td>1</td>\n",
       "      <td>1.0000</td>\n",
       "    </tr>\n",
       "    <tr>\n",
       "      <th>3</th>\n",
       "      <td>0Bettymowery2</td>\n",
       "      <td>-1</td>\n",
       "      <td>0</td>\n",
       "      <td>1</td>\n",
       "      <td>-1.0000</td>\n",
       "    </tr>\n",
       "    <tr>\n",
       "      <th>4</th>\n",
       "      <td>0Ludicris5</td>\n",
       "      <td>-2</td>\n",
       "      <td>0</td>\n",
       "      <td>2</td>\n",
       "      <td>-1.0000</td>\n",
       "    </tr>\n",
       "  </tbody>\n",
       "</table>\n",
       "</div>"
      ],
      "text/plain": [
       "        Username  Number_of_antiscience_domains  Number_of_proscience_domains  \\\n",
       "0    000000hSure                             -1                             0   \n",
       "1     01splcheck                             -1                             0   \n",
       "2        01sth02                              0                             1   \n",
       "3  0Bettymowery2                             -1                             0   \n",
       "4     0Ludicris5                             -2                             0   \n",
       "\n",
       "   Sum_polarised_domains  user_science_polarisation  \n",
       "0                      1                    -1.0000  \n",
       "1                      1                    -1.0000  \n",
       "2                      1                     1.0000  \n",
       "3                      1                    -1.0000  \n",
       "4                      2                    -1.0000  "
      ]
     },
     "execution_count": 23,
     "metadata": {},
     "output_type": "execute_result"
    }
   ],
   "source": [
    "path = '../data/tweetskb_science_polarized_users.tsv'\n",
    "\n",
    "df_tweetskb_science_polarized_users = pd.read_csv(path, sep='\\t', error_bad_lines=False, names=['Username', 'Number_of_antiscience_domains', 'Number_of_proscience_domains', 'Sum_polarised_domains', 'user_science_polarisation'])\n",
    "\n",
    "print('Shape :', df_tweetskb_science_polarized_users.shape)\n",
    "df_tweetskb_science_polarized_users.head()"
   ]
  },
  {
   "cell_type": "code",
   "execution_count": 24,
   "id": "f65ef4d0",
   "metadata": {},
   "outputs": [
    {
     "name": "stdout",
     "output_type": "stream",
     "text": [
      "Form : (159330, 9)\n"
     ]
    },
    {
     "data": {
      "text/html": [
       "<div>\n",
       "<style scoped>\n",
       "    .dataframe tbody tr th:only-of-type {\n",
       "        vertical-align: middle;\n",
       "    }\n",
       "\n",
       "    .dataframe tbody tr th {\n",
       "        vertical-align: top;\n",
       "    }\n",
       "\n",
       "    .dataframe thead th {\n",
       "        text-align: right;\n",
       "    }\n",
       "</style>\n",
       "<table border=\"1\" class=\"dataframe\">\n",
       "  <thead>\n",
       "    <tr style=\"text-align: right;\">\n",
       "      <th></th>\n",
       "      <th>Tweet_Id</th>\n",
       "      <th>Username</th>\n",
       "      <th>Deletionratio</th>\n",
       "      <th>Reputation</th>\n",
       "      <th>is_deleted</th>\n",
       "      <th>user_political_polarisation</th>\n",
       "      <th>user_science_polarisation</th>\n",
       "      <th>user_moderacy_polarisation</th>\n",
       "      <th>Timestamp</th>\n",
       "    </tr>\n",
       "  </thead>\n",
       "  <tbody>\n",
       "    <tr>\n",
       "      <th>0</th>\n",
       "      <td>1213516280302592000</td>\n",
       "      <td>0Bettymowery2</td>\n",
       "      <td>0.0000</td>\n",
       "      <td>0.4324</td>\n",
       "      <td>False</td>\n",
       "      <td>0.3333</td>\n",
       "      <td>-1.0000</td>\n",
       "      <td>0.3333</td>\n",
       "      <td>2020-01-04 17:43:21+00:00</td>\n",
       "    </tr>\n",
       "    <tr>\n",
       "      <th>1</th>\n",
       "      <td>1226175378072522754</td>\n",
       "      <td>0Bettymowery2</td>\n",
       "      <td>0.0000</td>\n",
       "      <td>0.4324</td>\n",
       "      <td>False</td>\n",
       "      <td>0.3333</td>\n",
       "      <td>-1.0000</td>\n",
       "      <td>0.3333</td>\n",
       "      <td>2020-02-08 16:06:06+00:00</td>\n",
       "    </tr>\n",
       "    <tr>\n",
       "      <th>2</th>\n",
       "      <td>1228303755151630337</td>\n",
       "      <td>0Bettymowery2</td>\n",
       "      <td>0.0000</td>\n",
       "      <td>0.4324</td>\n",
       "      <td>False</td>\n",
       "      <td>0.3333</td>\n",
       "      <td>-1.0000</td>\n",
       "      <td>0.3333</td>\n",
       "      <td>2020-02-14 13:03:30+00:00</td>\n",
       "    </tr>\n",
       "    <tr>\n",
       "      <th>3</th>\n",
       "      <td>1257007763777036295</td>\n",
       "      <td>0Bettymowery2</td>\n",
       "      <td>0.0000</td>\n",
       "      <td>0.4324</td>\n",
       "      <td>False</td>\n",
       "      <td>0.3333</td>\n",
       "      <td>-1.0000</td>\n",
       "      <td>0.3333</td>\n",
       "      <td>2020-05-03 18:02:59+00:00</td>\n",
       "    </tr>\n",
       "    <tr>\n",
       "      <th>4</th>\n",
       "      <td>1263486723549511683</td>\n",
       "      <td>0Bettymowery2</td>\n",
       "      <td>0.0000</td>\n",
       "      <td>0.4324</td>\n",
       "      <td>False</td>\n",
       "      <td>0.3333</td>\n",
       "      <td>-1.0000</td>\n",
       "      <td>0.3333</td>\n",
       "      <td>2020-05-21 15:08:03+00:00</td>\n",
       "    </tr>\n",
       "  </tbody>\n",
       "</table>\n",
       "</div>"
      ],
      "text/plain": [
       "              Tweet_Id       Username  Deletionratio  Reputation  is_deleted  \\\n",
       "0  1213516280302592000  0Bettymowery2         0.0000      0.4324       False   \n",
       "1  1226175378072522754  0Bettymowery2         0.0000      0.4324       False   \n",
       "2  1228303755151630337  0Bettymowery2         0.0000      0.4324       False   \n",
       "3  1257007763777036295  0Bettymowery2         0.0000      0.4324       False   \n",
       "4  1263486723549511683  0Bettymowery2         0.0000      0.4324       False   \n",
       "\n",
       "   user_political_polarisation  user_science_polarisation  \\\n",
       "0                       0.3333                    -1.0000   \n",
       "1                       0.3333                    -1.0000   \n",
       "2                       0.3333                    -1.0000   \n",
       "3                       0.3333                    -1.0000   \n",
       "4                       0.3333                    -1.0000   \n",
       "\n",
       "   user_moderacy_polarisation                  Timestamp  \n",
       "0                      0.3333  2020-01-04 17:43:21+00:00  \n",
       "1                      0.3333  2020-02-08 16:06:06+00:00  \n",
       "2                      0.3333  2020-02-14 13:03:30+00:00  \n",
       "3                      0.3333  2020-05-03 18:02:59+00:00  \n",
       "4                      0.3333  2020-05-21 15:08:03+00:00  "
      ]
     },
     "execution_count": 24,
     "metadata": {},
     "output_type": "execute_result"
    }
   ],
   "source": [
    "df_tweetskb_science_polarized_users = df_tweetskb_science_polarized_users[['Username']]\n",
    "\n",
    "df_tweetskb_users = pd.merge(df_tweetskb_reputation_deletionratio, df_tweetskb_science_polarized_users, on='Username', how='inner')\n",
    "print('Form :', df_tweetskb_users.shape)\n",
    "df_tweetskb_users.head()"
   ]
  },
  {
   "cell_type": "markdown",
   "id": "84eb4b13",
   "metadata": {},
   "source": [
    "***"
   ]
  },
  {
   "cell_type": "code",
   "execution_count": 20,
   "id": "6f9eb96f",
   "metadata": {},
   "outputs": [
    {
     "name": "stdout",
     "output_type": "stream",
     "text": [
      "Shape : (34081, 5)\n"
     ]
    },
    {
     "data": {
      "text/html": [
       "<div>\n",
       "<style scoped>\n",
       "    .dataframe tbody tr th:only-of-type {\n",
       "        vertical-align: middle;\n",
       "    }\n",
       "\n",
       "    .dataframe tbody tr th {\n",
       "        vertical-align: top;\n",
       "    }\n",
       "\n",
       "    .dataframe thead th {\n",
       "        text-align: right;\n",
       "    }\n",
       "</style>\n",
       "<table border=\"1\" class=\"dataframe\">\n",
       "  <thead>\n",
       "    <tr style=\"text-align: right;\">\n",
       "      <th></th>\n",
       "      <th>Tweet_Id</th>\n",
       "      <th>number_of_antisciens_domains</th>\n",
       "      <th>number_of_prosciens_domains</th>\n",
       "      <th>Sum_polarized_domains</th>\n",
       "      <th>tweet_science_polarisation</th>\n",
       "    </tr>\n",
       "  </thead>\n",
       "  <tbody>\n",
       "    <tr>\n",
       "      <th>0</th>\n",
       "      <td>1178791802725376003</td>\n",
       "      <td>0</td>\n",
       "      <td>1</td>\n",
       "      <td>1</td>\n",
       "      <td>1.0000</td>\n",
       "    </tr>\n",
       "    <tr>\n",
       "      <th>1</th>\n",
       "      <td>1178793504056713224</td>\n",
       "      <td>-1</td>\n",
       "      <td>0</td>\n",
       "      <td>1</td>\n",
       "      <td>-1.0000</td>\n",
       "    </tr>\n",
       "    <tr>\n",
       "      <th>2</th>\n",
       "      <td>1178794456075522049</td>\n",
       "      <td>-1</td>\n",
       "      <td>0</td>\n",
       "      <td>1</td>\n",
       "      <td>-1.0000</td>\n",
       "    </tr>\n",
       "    <tr>\n",
       "      <th>3</th>\n",
       "      <td>1178794475918954496</td>\n",
       "      <td>-1</td>\n",
       "      <td>0</td>\n",
       "      <td>1</td>\n",
       "      <td>-1.0000</td>\n",
       "    </tr>\n",
       "    <tr>\n",
       "      <th>4</th>\n",
       "      <td>1178794990035701761</td>\n",
       "      <td>-1</td>\n",
       "      <td>0</td>\n",
       "      <td>1</td>\n",
       "      <td>-1.0000</td>\n",
       "    </tr>\n",
       "  </tbody>\n",
       "</table>\n",
       "</div>"
      ],
      "text/plain": [
       "              Tweet_Id  number_of_antisciens_domains  \\\n",
       "0  1178791802725376003                             0   \n",
       "1  1178793504056713224                            -1   \n",
       "2  1178794456075522049                            -1   \n",
       "3  1178794475918954496                            -1   \n",
       "4  1178794990035701761                            -1   \n",
       "\n",
       "   number_of_prosciens_domains  Sum_polarized_domains  \\\n",
       "0                            1                      1   \n",
       "1                            0                      1   \n",
       "2                            0                      1   \n",
       "3                            0                      1   \n",
       "4                            0                      1   \n",
       "\n",
       "   tweet_science_polarisation  \n",
       "0                      1.0000  \n",
       "1                     -1.0000  \n",
       "2                     -1.0000  \n",
       "3                     -1.0000  \n",
       "4                     -1.0000  "
      ]
     },
     "execution_count": 20,
     "metadata": {},
     "output_type": "execute_result"
    }
   ],
   "source": [
    "path = '../data/tweetskb_science_polarized_tweets.tsv'\n",
    "\n",
    "df_tweetskb_science_polarized_tweets = pd.read_csv(path, sep='\\t', error_bad_lines=False, dtype={'Tweet_Id':'object'} ,names=['Tweet_Id', 'number_of_antisciens_domains', 'number_of_prosciens_domains', 'Sum_polarized_domains', 'tweet_science_polarisation'])\n",
    "\n",
    "print('Shape :', df_tweetskb_science_polarized_tweets.shape)\n",
    "df_tweetskb_science_polarized_tweets.head()"
   ]
  },
  {
   "cell_type": "code",
   "execution_count": 25,
   "id": "74536445",
   "metadata": {},
   "outputs": [
    {
     "data": {
      "text/plain": [
       "(34081, 10)"
      ]
     },
     "execution_count": 25,
     "metadata": {},
     "output_type": "execute_result"
    }
   ],
   "source": [
    "df_tweetskb_science_polarized_tweets = df_tweetskb_science_polarized_tweets[['Tweet_Id', 'tweet_science_polarisation']]\n",
    "\n",
    "df_tweetskb = pd.merge(df_tweetskb_users, df_tweetskb_science_polarized_tweets, on='Tweet_Id', how='inner')\n",
    "df_tweetskb.shape"
   ]
  },
  {
   "cell_type": "code",
   "execution_count": 27,
   "id": "220a0e8c",
   "metadata": {},
   "outputs": [
    {
     "data": {
      "text/html": [
       "<div>\n",
       "<style scoped>\n",
       "    .dataframe tbody tr th:only-of-type {\n",
       "        vertical-align: middle;\n",
       "    }\n",
       "\n",
       "    .dataframe tbody tr th {\n",
       "        vertical-align: top;\n",
       "    }\n",
       "\n",
       "    .dataframe thead th {\n",
       "        text-align: right;\n",
       "    }\n",
       "</style>\n",
       "<table border=\"1\" class=\"dataframe\">\n",
       "  <thead>\n",
       "    <tr style=\"text-align: right;\">\n",
       "      <th></th>\n",
       "      <th>Tweet_Id</th>\n",
       "      <th>Username</th>\n",
       "      <th>Deletionratio</th>\n",
       "      <th>Reputation</th>\n",
       "      <th>is_deleted</th>\n",
       "      <th>user_political_polarisation</th>\n",
       "      <th>user_science_polarisation</th>\n",
       "      <th>user_moderacy_polarisation</th>\n",
       "      <th>Timestamp</th>\n",
       "      <th>tweet_science_polarisation</th>\n",
       "    </tr>\n",
       "  </thead>\n",
       "  <tbody>\n",
       "    <tr>\n",
       "      <th>0</th>\n",
       "      <td>1257007763777036295</td>\n",
       "      <td>0Bettymowery2</td>\n",
       "      <td>0.0000</td>\n",
       "      <td>0.4324</td>\n",
       "      <td>False</td>\n",
       "      <td>0.3333</td>\n",
       "      <td>-1.0000</td>\n",
       "      <td>0.3333</td>\n",
       "      <td>2020-05-03 18:02:59+00:00</td>\n",
       "      <td>-1.0000</td>\n",
       "    </tr>\n",
       "  </tbody>\n",
       "</table>\n",
       "</div>"
      ],
      "text/plain": [
       "              Tweet_Id       Username  Deletionratio  Reputation  is_deleted  \\\n",
       "0  1257007763777036295  0Bettymowery2         0.0000      0.4324       False   \n",
       "\n",
       "   user_political_polarisation  user_science_polarisation  \\\n",
       "0                       0.3333                    -1.0000   \n",
       "\n",
       "   user_moderacy_polarisation                  Timestamp  \\\n",
       "0                      0.3333  2020-05-03 18:02:59+00:00   \n",
       "\n",
       "   tweet_science_polarisation  \n",
       "0                     -1.0000  "
      ]
     },
     "execution_count": 27,
     "metadata": {},
     "output_type": "execute_result"
    }
   ],
   "source": [
    "df_tweetskb.head(1)"
   ]
  },
  {
   "cell_type": "markdown",
   "id": "ec192f6e",
   "metadata": {},
   "source": [
    "----"
   ]
  },
  {
   "cell_type": "code",
   "execution_count": 28,
   "id": "5eb7517c",
   "metadata": {},
   "outputs": [
    {
     "name": "stdout",
     "output_type": "stream",
     "text": [
      "October:  -0.532\n",
      "November:  -0.441\n",
      "December:  -0.462\n",
      "Januar:  -0.456\n",
      "February:  -0.303\n",
      "March:  -0.16\n",
      "April:  -0.23\n",
      "Mai:  -0.315\n"
     ]
    }
   ],
   "source": [
    "pol_col = 'user_science_polarisation'\n",
    "df = df_tweetskb.drop_duplicates(subset=['Username'])\n",
    "\n",
    "\n",
    "October = df[df['Timestamp'] < '2019-11-01 00:00:00+00:00']\n",
    "print('October: ', '{0:.3g}'.format(October[pol_col].mean()))\n",
    "\n",
    "\n",
    "start_date = '2019-11-01 00:00:00+00:00'\n",
    "end_date = '2019-12-01 00:00:00+00:00'\n",
    "November =  df[(df['Timestamp'] >= start_date) & (df['Timestamp'] < end_date) ]\n",
    "print('November: ', '{0:.3g}'.format(November[pol_col].mean()))\n",
    "\n",
    "\n",
    "start_date = '2019-12-01 00:00:00+00:00'\n",
    "end_date = '2020-01-01 00:00:00+00:00'\n",
    "December = df[(df['Timestamp'] >= start_date) & (df['Timestamp'] < end_date) ]\n",
    "print('December: ', '{0:.3g}'.format(December[pol_col].mean()))\n",
    "\n",
    "start_date = '2020-01-01 00:00:00+00:00'\n",
    "end_date = '2020-02-01 00:00:00+00:00'\n",
    "Januar = df[(df['Timestamp'] >= start_date) & (df['Timestamp'] < end_date) ]\n",
    "print('Januar: ', '{0:.3g}'.format(Januar[pol_col].mean()))\n",
    "\n",
    "start_date = '2020-02-01 00:00:00+00:00'\n",
    "end_date = '2020-03-01 00:00:00+00:00'\n",
    "Februar = df[(df['Timestamp'] >= start_date) & (df['Timestamp'] < end_date) ] \n",
    "print('February: ', '{0:.3g}'.format(Februar[pol_col].mean()))\n",
    "\n",
    "start_date = '2020-03-01 00:00:00+00:00'\n",
    "end_date = '2020-04-01 00:00:00+00:00'\n",
    "March = df[(df['Timestamp'] >= start_date) & (df['Timestamp'] < end_date)]\n",
    "print('March: ', '{0:.3g}'.format(March[pol_col].mean()))\n",
    "\n",
    "start_date = '2020-04-01 00:00:00+00:00'\n",
    "end_date = '2020-05-01 00:00:00+00:00'\n",
    "April = df[(df['Timestamp'] >= start_date) & (df['Timestamp'] < end_date)]\n",
    "print('April: ', '{0:.3g}'.format(April[pol_col].mean()))\n",
    "\n",
    "start_date = '2020-05-01 00:00:00+00:00'\n",
    "Mai = df[df['Timestamp'] >= start_date ]\n",
    "print('Mai: ', '{0:.3g}'.format(Mai[pol_col].mean()))\n",
    "\n"
   ]
  },
  {
   "cell_type": "markdown",
   "id": "9056150b",
   "metadata": {},
   "source": [
    "***"
   ]
  },
  {
   "cell_type": "code",
   "execution_count": 29,
   "id": "704b1995",
   "metadata": {},
   "outputs": [
    {
     "name": "stdout",
     "output_type": "stream",
     "text": [
      "Alle Users: 15325\n"
     ]
    }
   ],
   "source": [
    "print('Alle Users:', df_tweetskb.Username.unique().size)\n"
   ]
  },
  {
   "cell_type": "code",
   "execution_count": 30,
   "id": "dfc11c2d",
   "metadata": {},
   "outputs": [],
   "source": [
    "df_tweetskb_del = df_tweetskb[df_tweetskb['is_deleted']==True]\n",
    "df_tweetskb_undel = df_tweetskb[df_tweetskb['is_deleted']==False]"
   ]
  },
  {
   "cell_type": "code",
   "execution_count": 31,
   "id": "962387dd",
   "metadata": {},
   "outputs": [
    {
     "name": "stdout",
     "output_type": "stream",
     "text": [
      "Deleted Tweets: (12912, 10)\n",
      "Non-deleted Tweets: (21169, 10)\n"
     ]
    }
   ],
   "source": [
    "print('Deleted Tweets:', df_tweetskb_del.shape)\n",
    "print('Non-deleted Tweets:', df_tweetskb_undel.shape)"
   ]
  },
  {
   "cell_type": "code",
   "execution_count": 33,
   "id": "3a91b334",
   "metadata": {},
   "outputs": [
    {
     "name": "stdout",
     "output_type": "stream",
     "text": [
      "Alle Users: 15325\n",
      "Alle pro. Users in gesammten Tweets: 4769\n",
      "Tweets of pro. Users in gesammten Tweets: 6427\n",
      "Alle anti. Users in gesammten Tweets: 10493\n",
      "Tweets of anti. Users in gesammten Tweets: 27522\n"
     ]
    }
   ],
   "source": [
    "print('Alle Users:', df_tweetskb.Username.unique().size)\n",
    "\n",
    "df = df_tweetskb[df_tweetskb['user_science_polarisation']>0]\n",
    "print('Alle pro. Users in gesammten Tweets:', df.Username.unique().size)\n",
    "print('Tweets of pro. Users in gesammten Tweets:', df.shape[0])\n",
    "\n",
    "df = df_tweetskb[df_tweetskb['user_science_polarisation']<0]\n",
    "print('Alle anti. Users in gesammten Tweets:', df.Username.unique().size)\n",
    "print('Tweets of anti. Users in gesammten Tweets:', df.shape[0])\n"
   ]
  },
  {
   "cell_type": "code",
   "execution_count": 68,
   "id": "52fc2fda",
   "metadata": {},
   "outputs": [
    {
     "name": "stdout",
     "output_type": "stream",
     "text": [
      "Alle Users: 5051\n",
      "Alle pro. Users in gelöschten Tweets: 581\n",
      "Tweets of pro. Users in gelöschten Tweets: 652\n",
      "Alle anti. Users in gelöschten Tweets: 4451\n",
      "Tweets of anti. Users in gelöschten Tweets: 12225\n"
     ]
    }
   ],
   "source": [
    "print('Alle Users:', df_tweetskb_del.Username.unique().size)\n",
    "\n",
    "df = df_tweetskb_del[df_tweetskb_del['user_science_polarisation']>0]\n",
    "print('Alle pro. Users in gelöschten Tweets:', df.Username.unique().size)\n",
    "print('Tweets of pro. Users in gelöschten Tweets:', df.shape[0])\n",
    "\n",
    "df = df_tweetskb_del[df_tweetskb_del['user_science_polarisation']<0]\n",
    "print('Alle anti. Users in gelöschten Tweets:', df.Username.unique().size)\n",
    "print('Tweets of anti. Users in gelöschten Tweets:', df.shape[0])\n"
   ]
  },
  {
   "cell_type": "code",
   "execution_count": 69,
   "id": "fd83f396",
   "metadata": {},
   "outputs": [
    {
     "name": "stdout",
     "output_type": "stream",
     "text": [
      "Alle Users: 10381\n",
      "Alle pro. Users in nicht gelöschten Tweets: 4205\n",
      "Tweets of pro. Users in nicht gelöschten Tweets: 5775\n",
      "Alle anti. Users in nicht gelöschten Tweets: 6129\n",
      "Tweets of anti. Users in nicht gelöschten Tweets: 15297\n"
     ]
    }
   ],
   "source": [
    "print('Alle Users:', df_tweetskb_undel.Username.unique().size)\n",
    "\n",
    "df = df_tweetskb_undel[df_tweetskb_undel['user_science_polarisation']>0]\n",
    "print('Alle pro. Users in nicht gelöschten Tweets:', df.Username.unique().size)\n",
    "print('Tweets of pro. Users in nicht gelöschten Tweets:', df.shape[0])\n",
    "\n",
    "df = df_tweetskb_undel[df_tweetskb_undel['user_science_polarisation']<0]\n",
    "print('Alle anti. Users in nicht gelöschten Tweets:', df.Username.unique().size)\n",
    "print('Tweets of anti. Users in nicht gelöschten Tweets:', df.shape[0])\n"
   ]
  },
  {
   "cell_type": "code",
   "execution_count": 70,
   "id": "6fb4a89b",
   "metadata": {},
   "outputs": [
    {
     "name": "stdout",
     "output_type": "stream",
     "text": [
      "Alle Users: 63\n",
      "Alle neutral Users in gelöschten Tweets: 19\n",
      "Tweets of neutral Users in gelöschten Tweets: 35\n",
      "Alle neutral Users in nicht gelöschten Tweets: 47\n",
      "Tweets of neutral Users in nicht gelöschten Tweets: 97\n"
     ]
    }
   ],
   "source": [
    "df_tweetskb_neutral = df_tweetskb[df_tweetskb['user_science_polarisation']==0]\n",
    "print('Alle Users:', df_tweetskb_neutral.Username.unique().size)\n",
    "\n",
    "df = df_tweetskb_del[df_tweetskb_del['user_science_polarisation']==0]\n",
    "print('Alle neutral Users in gelöschten Tweets:', df.Username.unique().size)\n",
    "print('Tweets of neutral Users in gelöschten Tweets:', df.shape[0])\n",
    "\n",
    "df = df_tweetskb_undel[df_tweetskb_undel['user_science_polarisation']==0]\n",
    "print('Alle neutral Users in nicht gelöschten Tweets:', df.Username.unique().size)\n",
    "print('Tweets of neutral Users in nicht gelöschten Tweets:', df.shape[0])"
   ]
  },
  {
   "cell_type": "code",
   "execution_count": 72,
   "id": "7d81a510",
   "metadata": {},
   "outputs": [
    {
     "data": {
      "image/png": "[encoded data removed]",
      "text/plain": [
       "<Figure size 432x288 with 1 Axes>"
      ]
     },
     "metadata": {
      "needs_background": "light"
     },
     "output_type": "display_data"
    }
   ],
   "source": [
    "df = df_tweetskb[['is_deleted', 'user_science_polarisation']]\n",
    "plot_kdeplot_v2(df, 'is_deleted','user_science_polarisation' ,'Anti-science <-> Pro-science' ,'TweetsCov19', 'kdeplot_tweetskb_science_all_users_Normalizethestackeddistribution_v2')"
   ]
  },
  {
   "cell_type": "code",
   "execution_count": 73,
   "id": "c891c0b7",
   "metadata": {},
   "outputs": [
    {
     "data": {
      "image/png": "[encoded data removed]",
      "text/plain": [
       "<Figure size 432x288 with 1 Axes>"
      ]
     },
     "metadata": {
      "needs_background": "light"
     },
     "output_type": "display_data"
    }
   ],
   "source": [
    "df = df_tweetskb[['is_deleted', 'tweet_science_polarisation']]\n",
    "plot_kdeplot_v2(df, 'is_deleted','tweet_science_polarisation' ,'Anti-science <-> Pro-science' ,'TweetsCov19', 'kdeplot_tweetskb_science_all_tweets_Normalizethestackeddistribution_v2')"
   ]
  },
  {
   "cell_type": "markdown",
   "id": "2df3ceb7",
   "metadata": {},
   "source": [
    "***"
   ]
  },
  {
   "cell_type": "markdown",
   "id": "43c28fa3",
   "metadata": {},
   "source": [
    "# Histogram"
   ]
  },
  {
   "cell_type": "markdown",
   "id": "0479e55b",
   "metadata": {},
   "source": [
    "***"
   ]
  },
  {
   "cell_type": "markdown",
   "id": "c7cd9f69",
   "metadata": {},
   "source": [
    "---"
   ]
  },
  {
   "cell_type": "code",
   "execution_count": 75,
   "id": "4fbc8a56",
   "metadata": {},
   "outputs": [],
   "source": [
    "def thousands(x, pos):\n",
    "    if x <1000 :\n",
    "        return '{:1.0f}'.format(x*1e-3)\n",
    "    \"\"\"The two args are the value and tick position.\"\"\"\n",
    "    return '{:1.0f}k'.format(x*1e-3)\n",
    "\n",
    "def plot_histogram_kb(df, titel):\n",
    "    \n",
    "    fig, ax = plt.subplots()\n",
    "    colors = ['b', 'r']\n",
    "    labels = ['Liberale', 'konservativ']\n",
    "    \n",
    "    N, bins, patches = ax.hist(df, bins=11, color = 'gray')\n",
    "    patches[5].set_label('Neutral')\n",
    "    patches[5].set_facecolor('gray')\n",
    "    for i in range(0,5):\n",
    "        patches[i].set_facecolor('forestgreen')\n",
    "    patches[1].set_label('Anti-Science')\n",
    "    for i in range(6,len(patches)):\n",
    "        patches[i].set_facecolor('gold')\n",
    "    patches[9].set_label('Pro-Science')\n",
    "\n",
    "    ax.tick_params(axis='x', which='major', labelsize=18)\n",
    "    ax.tick_params(axis='y', which='major', labelsize=18)\n",
    "\n",
    "    figsize=(8, 6)\n",
    "    ax.set_title('Science', fontsize=22)\n",
    "    ax.set_ylabel('Number of Tweets', fontsize=22)\n",
    "    ax.set_xlabel(xlabel='Anti-science <-> Pro-science', fontsize=22)\n",
    "    ax.yaxis.set_major_formatter(thousands)\n",
    "\n",
    "    #plt.title('Political polarization', fontsize=18)\n",
    "    plt.legend( fontsize=14)\n",
    "    #plt.legend(loc='upper center', fontsize=14)\n",
    "\n",
    "    plt.tight_layout()\n",
    "\n",
    "    plt.savefig('../plots/'+titel+'.pdf')"
   ]
  },
  {
   "cell_type": "code",
   "execution_count": 76,
   "id": "e69eaa55",
   "metadata": {},
   "outputs": [],
   "source": [
    "df_tweetskb_del = df_tweetskb[df_tweetskb['is_deleted']==True]\n",
    "df_tweetskb_undel = df_tweetskb[df_tweetskb['is_deleted']==False]"
   ]
  },
  {
   "cell_type": "code",
   "execution_count": 77,
   "id": "da9f5dc9",
   "metadata": {},
   "outputs": [
    {
     "data": {
      "image/png": "[encoded data removed]",
      "text/plain": [
       "<Figure size 432x288 with 1 Axes>"
      ]
     },
     "metadata": {
      "needs_background": "light"
     },
     "output_type": "display_data"
    }
   ],
   "source": [
    "#All Tweets\n",
    "#df = df_tweetskb.drop_duplicates(subset=['Username'])\n",
    "df = df_tweetskb\n",
    "plot_histogram_kb(df['tweet_science_polarisation'],'hist_tweetsKB_science_polarized_tweets(alltweets)')"
   ]
  },
  {
   "cell_type": "code",
   "execution_count": 78,
   "id": "9e1c454e",
   "metadata": {},
   "outputs": [
    {
     "data": {
      "image/png": "[encoded data removed]",
      "text/plain": [
       "<Figure size 432x288 with 1 Axes>"
      ]
     },
     "metadata": {
      "needs_background": "light"
     },
     "output_type": "display_data"
    }
   ],
   "source": [
    "#df = df_tweetskb_del.drop_duplicates(subset=['Username'])\n",
    "df = df_tweetskb_del\n",
    "plot_histogram_kb(df['tweet_science_polarisation'],'hist_tweetsKB_science_polarized_tweets(deletedtweets)')"
   ]
  },
  {
   "cell_type": "code",
   "execution_count": 79,
   "id": "d750b37a",
   "metadata": {},
   "outputs": [
    {
     "data": {
      "image/png": "[encoded data removed]",
      "text/plain": [
       "<Figure size 432x288 with 1 Axes>"
      ]
     },
     "metadata": {
      "needs_background": "light"
     },
     "output_type": "display_data"
    }
   ],
   "source": [
    "#df = df_tweetskb_undel.drop_duplicates(subset=['Username'])\n",
    "df = df_tweetskb_undel\n",
    "plot_histogram_kb(df['tweet_science_polarisation'],'hist_tweetsKB_science_polarized_tweets(nondeletedtweets)')"
   ]
  },
  {
   "cell_type": "markdown",
   "id": "cfa3d02f",
   "metadata": {},
   "source": [
    "***"
   ]
  },
  {
   "cell_type": "markdown",
   "id": "52a5c2c3",
   "metadata": {},
   "source": [
    "# Heatmap\n",
    "### Reputation-Polarisierung"
   ]
  },
  {
   "cell_type": "markdown",
   "id": "4f4369ed",
   "metadata": {},
   "source": [
    "***"
   ]
  },
  {
   "cell_type": "code",
   "execution_count": 81,
   "id": "baf011d3",
   "metadata": {},
   "outputs": [],
   "source": [
    "#All Tweets\n",
    "df = df_tweetskb[['is_deleted', 'user_science_polarisation', 'Reputation']]\n",
    "\n",
    "df_del =  df[df['is_deleted']==True]\n",
    "df_undel = df[df['is_deleted']==False]"
   ]
  },
  {
   "cell_type": "code",
   "execution_count": 82,
   "id": "848a1754",
   "metadata": {},
   "outputs": [],
   "source": [
    "density_hp(df,'density_hp_science_polarisation_tweetskb_alltweets_v2' ,'user_science_polarisation', 'Reputation', 'Greens')"
   ]
  },
  {
   "cell_type": "code",
   "execution_count": 83,
   "id": "14e588da",
   "metadata": {},
   "outputs": [],
   "source": [
    "density_hp(df_del,'density_hp_science_polarisation_tweetskb_deleted_v2' ,'user_science_polarisation', 'Reputation', 'Greens')"
   ]
  },
  {
   "cell_type": "code",
   "execution_count": 84,
   "id": "c0bdfd49",
   "metadata": {},
   "outputs": [],
   "source": [
    "density_hp(df_undel,'density_hp_science_polarisation_tweetskb_nondeleted_v2' ,'user_science_polarisation', 'Reputation', 'Greens')"
   ]
  },
  {
   "cell_type": "code",
   "execution_count": null,
   "id": "02995bd7",
   "metadata": {},
   "outputs": [],
   "source": []
  }
 ],
 "metadata": {
  "kernelspec": {
   "display_name": "Python 3",
   "language": "python",
   "name": "python3"
  },
  "language_info": {
   "codemirror_mode": {
    "name": "ipython",
    "version": 3
   },
   "file_extension": ".py",
   "mimetype": "text/x-python",
   "name": "python",
   "nbconvert_exporter": "python",
   "pygments_lexer": "ipython3",
   "version": "3.8.8"
  }
 },
 "nbformat": 4,
 "nbformat_minor": 5
}
