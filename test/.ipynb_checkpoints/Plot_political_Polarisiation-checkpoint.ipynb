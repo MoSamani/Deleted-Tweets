{
 "cells": [
  {
   "cell_type": "code",
   "execution_count": 39,
   "id": "bc0f3bba",
   "metadata": {},
   "outputs": [],
   "source": [
    "#CSV Bibliothek importieren \n",
    "import csv\n",
    "#Pandas importieren und als pd bezeichnen\n",
    "import pandas as pd\n",
    "#Numpy importieren und als np bezeichnen \n",
    "import numpy as np\n",
    "#Json Biliothek importieren\n",
    "import json\n",
    "#Obere Schranke für die Größe der Daten auf 100,000,000 setzen  \n",
    "csv.field_size_limit(100000000)\n",
    "#Maximale Anzahl von Zeilen und Spalten Zeigen \n",
    "pd.options.display.max_columns = None\n",
    "pd.options.display.max_rows = None\n",
    "#Um die Zeiträume bearbeiten zu können\n",
    "from datetime import datetime\n",
    "#Seaborn für die Plot importieren\n",
    "import seaborn as sns\n",
    "#matplotlib Importieren und als plt bezeichnen\n",
    "import matplotlib.pyplot as plt\n",
    "#Macht die Plots inline\n",
    "%matplotlib inline \n",
    "#dates importieren, um Zeitstempel bearbeiten zu können\n",
    "import matplotlib.dates as mdates\n",
    "#tick importieren\n",
    "import matplotlib.ticker as tick\n",
    "#Die Nachkommastellen auf 4 Zashlen einschränken\n",
    "pd.options.display.float_format = '{:.4f}'.format\n",
    "\n",
    "import matplotlib.ticker                         # here's where the formatter is\n",
    "from matplotlib.ticker import ScalarFormatter\n",
    "from matplotlib import ticker\n",
    "\n",
    "import warnings\n",
    "warnings.filterwarnings(\"ignore\")"
   ]
  },
  {
   "cell_type": "markdown",
   "id": "7441c811",
   "metadata": {},
   "source": [
    "***"
   ]
  },
  {
   "cell_type": "markdown",
   "id": "97baa349",
   "metadata": {},
   "source": [
    "# TweetsCov19\n",
    "## KDE-Plot"
   ]
  },
  {
   "cell_type": "markdown",
   "id": "2dbf8ada",
   "metadata": {},
   "source": [
    "***"
   ]
  },
  {
   "cell_type": "markdown",
   "id": "3adaf3d1",
   "metadata": {},
   "source": [
    "### Merge alle Tweets mit polarized Users"
   ]
  },
  {
   "cell_type": "code",
   "execution_count": 40,
   "id": "df9fb2f2",
   "metadata": {},
   "outputs": [
    {
     "name": "stdout",
     "output_type": "stream",
     "text": [
      "Shape : (2231354, 9)\n"
     ]
    },
    {
     "data": {
      "text/html": [
       "<div>\n",
       "<style scoped>\n",
       "    .dataframe tbody tr th:only-of-type {\n",
       "        vertical-align: middle;\n",
       "    }\n",
       "\n",
       "    .dataframe tbody tr th {\n",
       "        vertical-align: top;\n",
       "    }\n",
       "\n",
       "    .dataframe thead th {\n",
       "        text-align: right;\n",
       "    }\n",
       "</style>\n",
       "<table border=\"1\" class=\"dataframe\">\n",
       "  <thead>\n",
       "    <tr style=\"text-align: right;\">\n",
       "      <th></th>\n",
       "      <th>Tweet_Id</th>\n",
       "      <th>Username</th>\n",
       "      <th>Deletionratio</th>\n",
       "      <th>Reputation</th>\n",
       "      <th>is_deleted</th>\n",
       "      <th>user_political_polarisation</th>\n",
       "      <th>user_science_polarisation</th>\n",
       "      <th>user_moderacy_polarisation</th>\n",
       "      <th>Timestamp</th>\n",
       "    </tr>\n",
       "  </thead>\n",
       "  <tbody>\n",
       "    <tr>\n",
       "      <th>0</th>\n",
       "      <td>1178791643509612547</td>\n",
       "      <td>7966d5716c1c4f33591b17755184e3d6</td>\n",
       "      <td>0.2083</td>\n",
       "      <td>0.5722</td>\n",
       "      <td>False</td>\n",
       "      <td>-0.5000</td>\n",
       "      <td>0.0000</td>\n",
       "      <td>-1.0000</td>\n",
       "      <td>2019-09-30 22:00:03+00:00</td>\n",
       "    </tr>\n",
       "    <tr>\n",
       "      <th>1</th>\n",
       "      <td>1179408833728466944</td>\n",
       "      <td>7966d5716c1c4f33591b17755184e3d6</td>\n",
       "      <td>0.2083</td>\n",
       "      <td>0.5722</td>\n",
       "      <td>True</td>\n",
       "      <td>-0.5000</td>\n",
       "      <td>0.0000</td>\n",
       "      <td>-1.0000</td>\n",
       "      <td>2019-10-02 14:52:32+00:00</td>\n",
       "    </tr>\n",
       "    <tr>\n",
       "      <th>2</th>\n",
       "      <td>1182683474827739136</td>\n",
       "      <td>7966d5716c1c4f33591b17755184e3d6</td>\n",
       "      <td>0.2083</td>\n",
       "      <td>0.5722</td>\n",
       "      <td>False</td>\n",
       "      <td>-0.5000</td>\n",
       "      <td>0.0000</td>\n",
       "      <td>-1.0000</td>\n",
       "      <td>2019-10-11 15:44:48+00:00</td>\n",
       "    </tr>\n",
       "    <tr>\n",
       "      <th>3</th>\n",
       "      <td>1184746364158271488</td>\n",
       "      <td>7966d5716c1c4f33591b17755184e3d6</td>\n",
       "      <td>0.2083</td>\n",
       "      <td>0.5722</td>\n",
       "      <td>False</td>\n",
       "      <td>-0.5000</td>\n",
       "      <td>0.0000</td>\n",
       "      <td>-1.0000</td>\n",
       "      <td>2019-10-17 08:21:59+00:00</td>\n",
       "    </tr>\n",
       "    <tr>\n",
       "      <th>4</th>\n",
       "      <td>1185117204628623360</td>\n",
       "      <td>7966d5716c1c4f33591b17755184e3d6</td>\n",
       "      <td>0.2083</td>\n",
       "      <td>0.5722</td>\n",
       "      <td>True</td>\n",
       "      <td>-0.5000</td>\n",
       "      <td>0.0000</td>\n",
       "      <td>-1.0000</td>\n",
       "      <td>2019-10-18 08:55:34+00:00</td>\n",
       "    </tr>\n",
       "  </tbody>\n",
       "</table>\n",
       "</div>"
      ],
      "text/plain": [
       "              Tweet_Id                          Username  Deletionratio  \\\n",
       "0  1178791643509612547  7966d5716c1c4f33591b17755184e3d6         0.2083   \n",
       "1  1179408833728466944  7966d5716c1c4f33591b17755184e3d6         0.2083   \n",
       "2  1182683474827739136  7966d5716c1c4f33591b17755184e3d6         0.2083   \n",
       "3  1184746364158271488  7966d5716c1c4f33591b17755184e3d6         0.2083   \n",
       "4  1185117204628623360  7966d5716c1c4f33591b17755184e3d6         0.2083   \n",
       "\n",
       "   Reputation  is_deleted  user_political_polarisation  \\\n",
       "0      0.5722       False                      -0.5000   \n",
       "1      0.5722        True                      -0.5000   \n",
       "2      0.5722       False                      -0.5000   \n",
       "3      0.5722       False                      -0.5000   \n",
       "4      0.5722        True                      -0.5000   \n",
       "\n",
       "   user_science_polarisation  user_moderacy_polarisation  \\\n",
       "0                     0.0000                     -1.0000   \n",
       "1                     0.0000                     -1.0000   \n",
       "2                     0.0000                     -1.0000   \n",
       "3                     0.0000                     -1.0000   \n",
       "4                     0.0000                     -1.0000   \n",
       "\n",
       "                   Timestamp  \n",
       "0  2019-09-30 22:00:03+00:00  \n",
       "1  2019-10-02 14:52:32+00:00  \n",
       "2  2019-10-11 15:44:48+00:00  \n",
       "3  2019-10-17 08:21:59+00:00  \n",
       "4  2019-10-18 08:55:34+00:00  "
      ]
     },
     "execution_count": 40,
     "metadata": {},
     "output_type": "execute_result"
    }
   ],
   "source": [
    "path = '../data/tweetsCov19_polarized_users_deletionratio_reputation_timestamp.tsv'\n",
    "\n",
    "df_tweetscov19_reputation_deletionratio = pd.read_csv(path, sep='\\t', error_bad_lines=False, names=['Tweet_Id', 'Username', 'Deletionratio', 'Reputation', 'is_deleted', 'user_political_polarisation', 'user_science_polarisation', 'user_moderacy_polarisation', 'Timestamp'])\n",
    "\n",
    "print('Shape :', df_tweetscov19_reputation_deletionratio.shape)\n",
    "df_tweetscov19_reputation_deletionratio.head()"
   ]
  },
  {
   "cell_type": "code",
   "execution_count": 41,
   "id": "d9a264e9",
   "metadata": {},
   "outputs": [
    {
     "name": "stdout",
     "output_type": "stream",
     "text": [
      "Shape : (176301, 5)\n"
     ]
    },
    {
     "data": {
      "text/html": [
       "<div>\n",
       "<style scoped>\n",
       "    .dataframe tbody tr th:only-of-type {\n",
       "        vertical-align: middle;\n",
       "    }\n",
       "\n",
       "    .dataframe tbody tr th {\n",
       "        vertical-align: top;\n",
       "    }\n",
       "\n",
       "    .dataframe thead th {\n",
       "        text-align: right;\n",
       "    }\n",
       "</style>\n",
       "<table border=\"1\" class=\"dataframe\">\n",
       "  <thead>\n",
       "    <tr style=\"text-align: right;\">\n",
       "      <th></th>\n",
       "      <th>Username</th>\n",
       "      <th>Number_of_liberals</th>\n",
       "      <th>Number_of_conservatives</th>\n",
       "      <th>Sum_polarised_domains</th>\n",
       "      <th>user_political_polarisation</th>\n",
       "    </tr>\n",
       "  </thead>\n",
       "  <tbody>\n",
       "    <tr>\n",
       "      <th>0</th>\n",
       "      <td>00008ca06f863b962f72cc9167d7978a</td>\n",
       "      <td>-1</td>\n",
       "      <td>0</td>\n",
       "      <td>1</td>\n",
       "      <td>-1.0000</td>\n",
       "    </tr>\n",
       "    <tr>\n",
       "      <th>1</th>\n",
       "      <td>00008de3f61d5f04329ee6867d5475b9</td>\n",
       "      <td>-1</td>\n",
       "      <td>0</td>\n",
       "      <td>1</td>\n",
       "      <td>-1.0000</td>\n",
       "    </tr>\n",
       "    <tr>\n",
       "      <th>2</th>\n",
       "      <td>00012a177385cd6e7590e2acb3f206e3</td>\n",
       "      <td>-1</td>\n",
       "      <td>0</td>\n",
       "      <td>1</td>\n",
       "      <td>-1.0000</td>\n",
       "    </tr>\n",
       "    <tr>\n",
       "      <th>3</th>\n",
       "      <td>00016e20a3865cb74581803c27d27b89</td>\n",
       "      <td>-1</td>\n",
       "      <td>0</td>\n",
       "      <td>1</td>\n",
       "      <td>-1.0000</td>\n",
       "    </tr>\n",
       "    <tr>\n",
       "      <th>4</th>\n",
       "      <td>000186b796b0eb667801aad27ca978eb</td>\n",
       "      <td>-2</td>\n",
       "      <td>0</td>\n",
       "      <td>2</td>\n",
       "      <td>-1.0000</td>\n",
       "    </tr>\n",
       "  </tbody>\n",
       "</table>\n",
       "</div>"
      ],
      "text/plain": [
       "                           Username  Number_of_liberals  \\\n",
       "0  00008ca06f863b962f72cc9167d7978a                  -1   \n",
       "1  00008de3f61d5f04329ee6867d5475b9                  -1   \n",
       "2  00012a177385cd6e7590e2acb3f206e3                  -1   \n",
       "3  00016e20a3865cb74581803c27d27b89                  -1   \n",
       "4  000186b796b0eb667801aad27ca978eb                  -2   \n",
       "\n",
       "   Number_of_conservatives  Sum_polarised_domains  user_political_polarisation  \n",
       "0                        0                      1                      -1.0000  \n",
       "1                        0                      1                      -1.0000  \n",
       "2                        0                      1                      -1.0000  \n",
       "3                        0                      1                      -1.0000  \n",
       "4                        0                      2                      -1.0000  "
      ]
     },
     "execution_count": 41,
     "metadata": {},
     "output_type": "execute_result"
    }
   ],
   "source": [
    "path = '../data/tweetscov19_political_polarized_useres.tsv'\n",
    "\n",
    "df_tweetscov19_political_polarized_user = pd.read_csv(path, sep='\\t', error_bad_lines=False, names=['Username', 'Number_of_liberals', 'Number_of_conservatives', 'Sum_polarised_domains', 'user_political_polarisation'])\n",
    "\n",
    "print('Shape :', df_tweetscov19_political_polarized_user.shape)\n",
    "df_tweetscov19_political_polarized_user.head()"
   ]
  },
  {
   "cell_type": "code",
   "execution_count": 42,
   "id": "36d9969d",
   "metadata": {},
   "outputs": [
    {
     "data": {
      "text/plain": [
       "(2057978, 9)"
      ]
     },
     "execution_count": 42,
     "metadata": {},
     "output_type": "execute_result"
    }
   ],
   "source": [
    "df_tweetscov19_political_polarized_user = df_tweetscov19_political_polarized_user[[ 'Username']]\n",
    "\n",
    "df_tweetscov19_users =  pd.merge(df_tweetscov19_reputation_deletionratio, df_tweetscov19_political_polarized_user, on = 'Username', how='inner')\n",
    "df_tweetscov19_users.shape"
   ]
  },
  {
   "cell_type": "code",
   "execution_count": 43,
   "id": "2dc486eb",
   "metadata": {},
   "outputs": [
    {
     "data": {
      "text/html": [
       "<div>\n",
       "<style scoped>\n",
       "    .dataframe tbody tr th:only-of-type {\n",
       "        vertical-align: middle;\n",
       "    }\n",
       "\n",
       "    .dataframe tbody tr th {\n",
       "        vertical-align: top;\n",
       "    }\n",
       "\n",
       "    .dataframe thead th {\n",
       "        text-align: right;\n",
       "    }\n",
       "</style>\n",
       "<table border=\"1\" class=\"dataframe\">\n",
       "  <thead>\n",
       "    <tr style=\"text-align: right;\">\n",
       "      <th></th>\n",
       "      <th>Tweet_Id</th>\n",
       "      <th>Username</th>\n",
       "      <th>Deletionratio</th>\n",
       "      <th>Reputation</th>\n",
       "      <th>is_deleted</th>\n",
       "      <th>user_political_polarisation</th>\n",
       "      <th>user_science_polarisation</th>\n",
       "      <th>user_moderacy_polarisation</th>\n",
       "      <th>Timestamp</th>\n",
       "    </tr>\n",
       "  </thead>\n",
       "  <tbody>\n",
       "    <tr>\n",
       "      <th>0</th>\n",
       "      <td>1178791643509612547</td>\n",
       "      <td>7966d5716c1c4f33591b17755184e3d6</td>\n",
       "      <td>0.2083</td>\n",
       "      <td>0.5722</td>\n",
       "      <td>False</td>\n",
       "      <td>-0.5000</td>\n",
       "      <td>0.0000</td>\n",
       "      <td>-1.0000</td>\n",
       "      <td>2019-09-30 22:00:03+00:00</td>\n",
       "    </tr>\n",
       "  </tbody>\n",
       "</table>\n",
       "</div>"
      ],
      "text/plain": [
       "              Tweet_Id                          Username  Deletionratio  \\\n",
       "0  1178791643509612547  7966d5716c1c4f33591b17755184e3d6         0.2083   \n",
       "\n",
       "   Reputation  is_deleted  user_political_polarisation  \\\n",
       "0      0.5722       False                      -0.5000   \n",
       "\n",
       "   user_science_polarisation  user_moderacy_polarisation  \\\n",
       "0                     0.0000                     -1.0000   \n",
       "\n",
       "                   Timestamp  \n",
       "0  2019-09-30 22:00:03+00:00  "
      ]
     },
     "execution_count": 43,
     "metadata": {},
     "output_type": "execute_result"
    }
   ],
   "source": [
    "df_tweetscov19_users.head(1)"
   ]
  },
  {
   "cell_type": "markdown",
   "id": "eef58c6a",
   "metadata": {},
   "source": [
    "### Nur polarisierten Tweets"
   ]
  },
  {
   "cell_type": "code",
   "execution_count": 44,
   "id": "cdd4ff08",
   "metadata": {},
   "outputs": [
    {
     "name": "stdout",
     "output_type": "stream",
     "text": [
      "Shape : (611835, 5)\n"
     ]
    },
    {
     "data": {
      "text/html": [
       "<div>\n",
       "<style scoped>\n",
       "    .dataframe tbody tr th:only-of-type {\n",
       "        vertical-align: middle;\n",
       "    }\n",
       "\n",
       "    .dataframe tbody tr th {\n",
       "        vertical-align: top;\n",
       "    }\n",
       "\n",
       "    .dataframe thead th {\n",
       "        text-align: right;\n",
       "    }\n",
       "</style>\n",
       "<table border=\"1\" class=\"dataframe\">\n",
       "  <thead>\n",
       "    <tr style=\"text-align: right;\">\n",
       "      <th></th>\n",
       "      <th>Tweet_Id</th>\n",
       "      <th>Number_of_liberals</th>\n",
       "      <th>Number_of_conservatives</th>\n",
       "      <th>Sum_polarized_domains</th>\n",
       "      <th>tweet_political_polarisation</th>\n",
       "    </tr>\n",
       "  </thead>\n",
       "  <tbody>\n",
       "    <tr>\n",
       "      <th>0</th>\n",
       "      <td>1178791675315011589</td>\n",
       "      <td>-1</td>\n",
       "      <td>0</td>\n",
       "      <td>1</td>\n",
       "      <td>-1.0000</td>\n",
       "    </tr>\n",
       "    <tr>\n",
       "      <th>1</th>\n",
       "      <td>1178791745447968768</td>\n",
       "      <td>-1</td>\n",
       "      <td>0</td>\n",
       "      <td>1</td>\n",
       "      <td>-1.0000</td>\n",
       "    </tr>\n",
       "    <tr>\n",
       "      <th>2</th>\n",
       "      <td>1178791856890503170</td>\n",
       "      <td>-1</td>\n",
       "      <td>0</td>\n",
       "      <td>1</td>\n",
       "      <td>-1.0000</td>\n",
       "    </tr>\n",
       "    <tr>\n",
       "      <th>3</th>\n",
       "      <td>1178791939728130048</td>\n",
       "      <td>-1</td>\n",
       "      <td>0</td>\n",
       "      <td>1</td>\n",
       "      <td>-1.0000</td>\n",
       "    </tr>\n",
       "    <tr>\n",
       "      <th>4</th>\n",
       "      <td>1178791946413846529</td>\n",
       "      <td>-1</td>\n",
       "      <td>0</td>\n",
       "      <td>1</td>\n",
       "      <td>-1.0000</td>\n",
       "    </tr>\n",
       "  </tbody>\n",
       "</table>\n",
       "</div>"
      ],
      "text/plain": [
       "              Tweet_Id  Number_of_liberals  Number_of_conservatives  \\\n",
       "0  1178791675315011589                  -1                        0   \n",
       "1  1178791745447968768                  -1                        0   \n",
       "2  1178791856890503170                  -1                        0   \n",
       "3  1178791939728130048                  -1                        0   \n",
       "4  1178791946413846529                  -1                        0   \n",
       "\n",
       "   Sum_polarized_domains  tweet_political_polarisation  \n",
       "0                      1                       -1.0000  \n",
       "1                      1                       -1.0000  \n",
       "2                      1                       -1.0000  \n",
       "3                      1                       -1.0000  \n",
       "4                      1                       -1.0000  "
      ]
     },
     "execution_count": 44,
     "metadata": {},
     "output_type": "execute_result"
    }
   ],
   "source": [
    "path = '../data/tweetscov19_political_polarized_tweets.tsv'\n",
    "\n",
    "df_tweetscov19_political_polarized_tweets = pd.read_csv(path, sep='\\t', error_bad_lines=False, names=['Tweet_Id', 'Number_of_liberals', 'Number_of_conservatives', 'Sum_polarized_domains', 'tweet_political_polarisation'])\n",
    "\n",
    "print('Shape :', df_tweetscov19_political_polarized_tweets.shape)\n",
    "df_tweetscov19_political_polarized_tweets.head()"
   ]
  },
  {
   "cell_type": "code",
   "execution_count": 45,
   "id": "2ea2afd0",
   "metadata": {},
   "outputs": [
    {
     "data": {
      "text/plain": [
       "(611835, 10)"
      ]
     },
     "execution_count": 45,
     "metadata": {},
     "output_type": "execute_result"
    }
   ],
   "source": [
    "df_tweetscov19_political_polarized_tweets = df_tweetscov19_political_polarized_tweets[['Tweet_Id', 'tweet_political_polarisation']]\n",
    "\n",
    "df_tweetscov19 = pd.merge(df_tweetscov19_users, df_tweetscov19_political_polarized_tweets, on='Tweet_Id', how='inner')\n",
    "df_tweetscov19.shape"
   ]
  },
  {
   "cell_type": "code",
   "execution_count": 46,
   "id": "f41e4768",
   "metadata": {},
   "outputs": [
    {
     "data": {
      "text/html": [
       "<div>\n",
       "<style scoped>\n",
       "    .dataframe tbody tr th:only-of-type {\n",
       "        vertical-align: middle;\n",
       "    }\n",
       "\n",
       "    .dataframe tbody tr th {\n",
       "        vertical-align: top;\n",
       "    }\n",
       "\n",
       "    .dataframe thead th {\n",
       "        text-align: right;\n",
       "    }\n",
       "</style>\n",
       "<table border=\"1\" class=\"dataframe\">\n",
       "  <thead>\n",
       "    <tr style=\"text-align: right;\">\n",
       "      <th></th>\n",
       "      <th>Tweet_Id</th>\n",
       "      <th>Username</th>\n",
       "      <th>Deletionratio</th>\n",
       "      <th>Reputation</th>\n",
       "      <th>is_deleted</th>\n",
       "      <th>user_political_polarisation</th>\n",
       "      <th>user_science_polarisation</th>\n",
       "      <th>user_moderacy_polarisation</th>\n",
       "      <th>Timestamp</th>\n",
       "      <th>tweet_political_polarisation</th>\n",
       "    </tr>\n",
       "  </thead>\n",
       "  <tbody>\n",
       "    <tr>\n",
       "      <th>0</th>\n",
       "      <td>1184746364158271488</td>\n",
       "      <td>7966d5716c1c4f33591b17755184e3d6</td>\n",
       "      <td>0.2083</td>\n",
       "      <td>0.5722</td>\n",
       "      <td>False</td>\n",
       "      <td>-0.5000</td>\n",
       "      <td>0.0000</td>\n",
       "      <td>-1.0000</td>\n",
       "      <td>2019-10-17 08:21:59+00:00</td>\n",
       "      <td>-1.0000</td>\n",
       "    </tr>\n",
       "  </tbody>\n",
       "</table>\n",
       "</div>"
      ],
      "text/plain": [
       "              Tweet_Id                          Username  Deletionratio  \\\n",
       "0  1184746364158271488  7966d5716c1c4f33591b17755184e3d6         0.2083   \n",
       "\n",
       "   Reputation  is_deleted  user_political_polarisation  \\\n",
       "0      0.5722       False                      -0.5000   \n",
       "\n",
       "   user_science_polarisation  user_moderacy_polarisation  \\\n",
       "0                     0.0000                     -1.0000   \n",
       "\n",
       "                   Timestamp  tweet_political_polarisation  \n",
       "0  2019-10-17 08:21:59+00:00                       -1.0000  "
      ]
     },
     "execution_count": 46,
     "metadata": {},
     "output_type": "execute_result"
    }
   ],
   "source": [
    "df_tweetscov19.head(1)"
   ]
  },
  {
   "cell_type": "markdown",
   "id": "6890ed3f",
   "metadata": {},
   "source": [
    "***"
   ]
  },
  {
   "cell_type": "code",
   "execution_count": 47,
   "id": "62a3e643",
   "metadata": {},
   "outputs": [
    {
     "name": "stdout",
     "output_type": "stream",
     "text": [
      "October:  -0.494\n",
      "November:  -0.537\n",
      "December:  -0.524\n",
      "Januar:  -0.547\n",
      "February:  -0.538\n",
      "March:  -0.602\n",
      "April:  -0.54\n",
      "Mai:  -0.518\n"
     ]
    }
   ],
   "source": [
    "pol_col = 'user_political_polarisation'\n",
    "df = df_tweetscov19.drop_duplicates(subset=['Username'])\n",
    "\n",
    "\n",
    "October = df[df['Timestamp'] < '2019-11-01 00:00:00+00:00']\n",
    "print('October: ', '{0:.3g}'.format(October[pol_col].mean()))\n",
    "\n",
    "\n",
    "start_date = '2019-11-01 00:00:00+00:00'\n",
    "end_date = '2019-12-01 00:00:00+00:00'\n",
    "November =  df[(df['Timestamp'] >= start_date) & (df['Timestamp'] < end_date) ]\n",
    "print('November: ', '{0:.3g}'.format(November[pol_col].mean()))\n",
    "\n",
    "\n",
    "start_date = '2019-12-01 00:00:00+00:00'\n",
    "end_date = '2020-01-01 00:00:00+00:00'\n",
    "December = df[(df['Timestamp'] >= start_date) & (df['Timestamp'] < end_date) ]\n",
    "print('December: ', '{0:.3g}'.format(December[pol_col].mean()))\n",
    "\n",
    "start_date = '2020-01-01 00:00:00+00:00'\n",
    "end_date = '2020-02-01 00:00:00+00:00'\n",
    "Januar = df[(df['Timestamp'] >= start_date) & (df['Timestamp'] < end_date) ]\n",
    "print('Januar: ', '{0:.3g}'.format(Januar[pol_col].mean()))\n",
    "\n",
    "start_date = '2020-02-01 00:00:00+00:00'\n",
    "end_date = '2020-03-01 00:00:00+00:00'\n",
    "Februar = df[(df['Timestamp'] >= start_date) & (df['Timestamp'] < end_date) ] \n",
    "print('February: ', '{0:.3g}'.format(Februar[pol_col].mean()))\n",
    "\n",
    "start_date = '2020-03-01 00:00:00+00:00'\n",
    "end_date = '2020-04-01 00:00:00+00:00'\n",
    "March = df[(df['Timestamp'] >= start_date) & (df['Timestamp'] < end_date)]\n",
    "print('March: ', '{0:.3g}'.format(March[pol_col].mean()))\n",
    "\n",
    "start_date = '2020-04-01 00:00:00+00:00'\n",
    "end_date = '2020-05-01 00:00:00+00:00'\n",
    "April = df[(df['Timestamp'] >= start_date) & (df['Timestamp'] < end_date)]\n",
    "print('April: ', '{0:.3g}'.format(April[pol_col].mean()))\n",
    "\n",
    "start_date = '2020-05-01 00:00:00+00:00'\n",
    "Mai = df[df['Timestamp'] >= start_date ]\n",
    "print('Mai: ', '{0:.3g}'.format(Mai[pol_col].mean()))\n"
   ]
  },
  {
   "cell_type": "markdown",
   "id": "72566cc0",
   "metadata": {},
   "source": [
    "***"
   ]
  },
  {
   "cell_type": "markdown",
   "id": "9e83b836",
   "metadata": {},
   "source": [
    "****"
   ]
  },
  {
   "cell_type": "code",
   "execution_count": 49,
   "id": "a77bd8a7",
   "metadata": {},
   "outputs": [
    {
     "name": "stdout",
     "output_type": "stream",
     "text": [
      "Alle Users: 176301\n"
     ]
    }
   ],
   "source": [
    "print('Alle Users:', df_tweetscov19_users_and_tweets.Username.unique().size)"
   ]
  },
  {
   "cell_type": "code",
   "execution_count": 50,
   "id": "881afb25",
   "metadata": {},
   "outputs": [],
   "source": [
    "df_tweetscov19 = df_tweetscov19_users_and_tweets.copy()\n",
    "df_tweetscov19_del = df_tweetscov19_users_and_tweets[df_tweetscov19_users_and_tweets['is_deleted']==True]\n",
    "df_tweetscov19_undel = df_tweetscov19_users_and_tweets[df_tweetscov19_users_and_tweets['is_deleted']==False]"
   ]
  },
  {
   "cell_type": "code",
   "execution_count": 51,
   "id": "36bfb305",
   "metadata": {},
   "outputs": [
    {
     "name": "stdout",
     "output_type": "stream",
     "text": [
      "Deleted Tweets: (73183, 10)\n",
      "Non-deleted Tweets: (538652, 10)\n"
     ]
    }
   ],
   "source": [
    "print('Deleted Tweets:', df_tweetscov19_del.shape)\n",
    "print('Non-deleted Tweets:', df_tweetscov19_undel.shape)\n"
   ]
  },
  {
   "cell_type": "code",
   "execution_count": 52,
   "id": "1abe12b7",
   "metadata": {},
   "outputs": [
    {
     "name": "stdout",
     "output_type": "stream",
     "text": [
      "Alle Users: 176301\n",
      "Alle kon. Users in gesammten Tweets: 36179\n",
      "Tweets of kon. Users in gesammten Tweets: 124791\n",
      "Alle lib. Users in gesammten Tweets: 135174\n",
      "Tweets of lib. Users in gesammten Tweets: 474624\n"
     ]
    }
   ],
   "source": [
    "print('Alle Users:', df_tweetscov19.Username.unique().size)\n",
    "\n",
    "df = df_tweetscov19[df_tweetscov19['user_political_polarisation']>0]\n",
    "print('Alle kon. Users in gesammten Tweets:', df.Username.unique().size)\n",
    "print('Tweets of kon. Users in gesammten Tweets:', df.shape[0])\n",
    "\n",
    "\n",
    "df = df_tweetscov19[df_tweetscov19['user_political_polarisation']<0]\n",
    "print('Alle lib. Users in gesammten Tweets:', df.Username.unique().size)\n",
    "print('Tweets of lib. Users in gesammten Tweets:', df.shape[0])\n"
   ]
  },
  {
   "cell_type": "code",
   "execution_count": 53,
   "id": "7863c283",
   "metadata": {},
   "outputs": [
    {
     "name": "stdout",
     "output_type": "stream",
     "text": [
      "Alle Users: 30765\n",
      "Number of deleted Tweets: (73183, 10)\n",
      "Alle kon. Users in gelöschten Tweets: 9140\n",
      "Tweets of kon. Users in gelöschten Tweets: 27901\n",
      "Alle lib. Users in gelöschten Tweets: 20569\n",
      "Tweets of lib. Users in gelöschten Tweets: 42849\n"
     ]
    }
   ],
   "source": [
    "print('Alle Users:', df_tweetscov19_del.Username.unique().size)\n",
    "print('Number of deleted Tweets:', df_tweetscov19_del.shape)\n",
    "df = df_tweetscov19_del[df_tweetscov19_del['user_political_polarisation']>0]\n",
    "print('Alle kon. Users in gelöschten Tweets:', df.Username.unique().size)\n",
    "print('Tweets of kon. Users in gelöschten Tweets:', df.shape[0])\n",
    "\n",
    "\n",
    "\n",
    "df = df_tweetscov19_del[df_tweetscov19_del['user_political_polarisation']<0]\n",
    "print('Alle lib. Users in gelöschten Tweets:', df.Username.unique().size)\n",
    "print('Tweets of lib. Users in gelöschten Tweets:', df.shape[0])\n"
   ]
  },
  {
   "cell_type": "code",
   "execution_count": 54,
   "id": "214c871e",
   "metadata": {},
   "outputs": [
    {
     "name": "stdout",
     "output_type": "stream",
     "text": [
      "Alle Users: 148488\n",
      "Number of undeleted Tweets: (538652, 10)\n",
      "Alle kon. Users in nicht gelöschten Tweets: 27627\n",
      "Tweets of kon. Users in nicht gelöschten Tweets: 96890\n",
      "Alle lib. Users in nicht gelöschten Tweets: 116808\n",
      "Tweets of lib. Users in nicht gelöschten Tweets: 431775\n"
     ]
    }
   ],
   "source": [
    "print('Alle Users:', df_tweetscov19_undel.Username.unique().size)\n",
    "print('Number of undeleted Tweets:', df_tweetscov19_undel.shape)\n",
    "\n",
    "df = df_tweetscov19_undel[df_tweetscov19_undel['user_political_polarisation']>0]\n",
    "print('Alle kon. Users in nicht gelöschten Tweets:', df.Username.unique().size)\n",
    "print('Tweets of kon. Users in nicht gelöschten Tweets:', df.shape[0])\n",
    "\n",
    "\n",
    "df = df_tweetscov19_undel[df_tweetscov19_undel['user_political_polarisation']<0]\n",
    "print('Alle lib. Users in nicht gelöschten Tweets:', df.Username.unique().size)\n",
    "print('Tweets of lib. Users in nicht gelöschten Tweets:', df.shape[0])\n"
   ]
  },
  {
   "cell_type": "code",
   "execution_count": 55,
   "id": "c9b16baa",
   "metadata": {},
   "outputs": [
    {
     "name": "stdout",
     "output_type": "stream",
     "text": [
      "Alle Users: 4948\n",
      "Alle. Tweets: 189\n",
      "Alle neutral Users in gelöschten Tweets: 1056\n",
      "Tweets of neutral Users in gelöschten Tweets: 2433\n",
      "Neutrale. Tweets in gelöschten Tweets: 37\n",
      "Alle neutral Users in nicht gelöschten Tweets: 4053\n",
      "Tweets of neutral Users in nicht gelöschten Tweets: 9987\n",
      "Neutrale. Tweets in nicht gelöschten Tweets: 152\n"
     ]
    }
   ],
   "source": [
    "df_tweetscov19_neutral = df_tweetscov19[df_tweetscov19['user_political_polarisation']==0]\n",
    "print('Alle Users:', df_tweetscov19_neutral.Username.unique().size)\n",
    "print('Alle. Tweets:', df_tweetscov19.query(\"tweet_political_polarisation == 0\").shape[0])\n",
    "\n",
    "df = df_tweetscov19_del[df_tweetscov19_del['user_political_polarisation']==0]\n",
    "print('Alle neutral Users in gelöschten Tweets:', df.Username.unique().size)\n",
    "print('Tweets of neutral Users in gelöschten Tweets:', df.shape[0])\n",
    "print('Neutrale. Tweets in gelöschten Tweets:', df_tweetscov19_del.query(\"tweet_political_polarisation == 0\").shape[0])\n",
    "\n",
    "df = df_tweetscov19_undel[df_tweetscov19_undel['user_political_polarisation']==0]\n",
    "print('Alle neutral Users in nicht gelöschten Tweets:', df.Username.unique().size)\n",
    "print('Tweets of neutral Users in nicht gelöschten Tweets:', df.shape[0])\n",
    "print('Neutrale. Tweets in nicht gelöschten Tweets:', df_tweetscov19_undel.query(\"tweet_political_polarisation == 0\").shape[0])\n"
   ]
  },
  {
   "cell_type": "code",
   "execution_count": 19,
   "id": "eb9a7f1d",
   "metadata": {},
   "outputs": [],
   "source": [
    "\n",
    "def plot_kdeplot_v2(df, hue, x, x_label, titel, name):\n",
    "    #sns.color_palette(\"RdPu\", 10)\n",
    "    ax = sns.kdeplot(data=df, x=x, hue=hue, multiple=\"fill\")\n",
    "    \n",
    "    ax.set_title('Political', fontsize=22)\n",
    "    ax.set_ylabel(ylabel='Density', fontsize=22)\n",
    "    ax.set_xlabel(xlabel=x_label, fontsize=22)\n",
    "\n",
    "    ax.tick_params(axis='x', which='major', labelsize=18)\n",
    "    ax.tick_params(axis='y', which='major', labelsize=18)\n",
    "\n",
    "    #plt.legend(labels = ['Deleted','Non-deleted'], bbox_to_anchor=(0.2, 1.13), ncol=2, loc=2, borderaxespad=0, fontsize=12)\n",
    "    plt.legend([],[], frameon=False)\n",
    "    plt.tight_layout()\n",
    "    plt.savefig('../plots/'+name+'.pdf')\n",
    "    "
   ]
  },
  {
   "cell_type": "code",
   "execution_count": 33,
   "id": "9179f3b8",
   "metadata": {},
   "outputs": [
    {
     "data": {
      "image/png": "[encoded data removed]",
      "text/plain": [
       "<Figure size 432x288 with 1 Axes>"
      ]
     },
     "metadata": {
      "needs_background": "light"
     },
     "output_type": "display_data"
    }
   ],
   "source": [
    "df = df_tweetscov19[['is_deleted', 'user_political_polarisation']]\n",
    "plot_kdeplot_v2(df, 'is_deleted','user_political_polarisation' ,'          Liberal <-> Conservative' ,'TweetsCov19', 'kdeplot_tweetscov19_politic_all_users_Normalizethestackeddistribution_v2')"
   ]
  },
  {
   "cell_type": "code",
   "execution_count": 34,
   "id": "e86c928f",
   "metadata": {},
   "outputs": [
    {
     "data": {
      "image/png": "[encoded data removed]",
      "text/plain": [
       "<Figure size 432x288 with 1 Axes>"
      ]
     },
     "metadata": {
      "needs_background": "light"
     },
     "output_type": "display_data"
    }
   ],
   "source": [
    "df = df_tweetscov19[['is_deleted', 'tweet_political_polarisation']]\n",
    "plot_kdeplot_v2(df, 'is_deleted','tweet_political_polarisation' ,'          Liberal <-> Conservative' ,'TweetsCov19', 'kdeplot_tweetscov19_politic_all_tweets_Normalizethestackeddistribution_v2')"
   ]
  },
  {
   "cell_type": "markdown",
   "id": "a4bc651d",
   "metadata": {},
   "source": [
    "***"
   ]
  },
  {
   "cell_type": "markdown",
   "id": "1308b352",
   "metadata": {},
   "source": [
    "# Histogram"
   ]
  },
  {
   "cell_type": "markdown",
   "id": "80833a32",
   "metadata": {},
   "source": [
    "***"
   ]
  },
  {
   "cell_type": "markdown",
   "id": "6f237839",
   "metadata": {},
   "source": [
    "***"
   ]
  },
  {
   "cell_type": "code",
   "execution_count": 21,
   "id": "1429d880",
   "metadata": {},
   "outputs": [],
   "source": [
    "class MathTextSciFormatter(ticker.Formatter):\n",
    "    def __init__(self, fmt=\"%1.2e\"):\n",
    "        self.fmt = fmt\n",
    "    def __call__(self, x, pos=None):\n",
    "        s = self.fmt % x\n",
    "        decimal_point = '.'\n",
    "        positive_sign = '+'\n",
    "        tup = s.split('e')\n",
    "        significand = tup[0].rstrip(decimal_point)\n",
    "        sign = tup[1][0].replace(positive_sign, '')\n",
    "        exponent = tup[1][1:].lstrip('0')\n",
    "        if exponent:\n",
    "            exponent = '10^{%s%s}' % (sign, exponent)\n",
    "        if significand and exponent:\n",
    "            s =  r'%s{\\times}%s' % (significand, exponent)\n",
    "        else:\n",
    "            s =  r'%s%s' % (significand, exponent)\n",
    "        return \"${}$\".format(s)\n",
    "    \n",
    "def thousands(x, pos):\n",
    "    if x <1000 :\n",
    "        return '{:1.0f}'.format(x*1e-3)\n",
    "    \"\"\"The two args are the value and tick position.\"\"\"\n",
    "    return '{:1.0f}k'.format(x*1e-3)\n",
    "\n",
    "def plot_histogram(df, titel):\n",
    "    \n",
    "    #figure(figsize=(8, 6), dpi=80)\n",
    "    \n",
    "    fig, ax = plt.subplots()\n",
    "    colors = ['b', 'r']\n",
    "    labels = ['Liberale', 'konservativ']\n",
    "    \n",
    "    N, bins, patches = ax.hist(df, bins=11, color = 'gray')\n",
    "    \n",
    "    patches[5].set_label('Neutral')\n",
    "    patches[5].set_facecolor('gray')\n",
    "    for i in range(0,5):\n",
    "        patches[i].set_facecolor('b')\n",
    "    patches[2].set_label('Liberal')\n",
    "    \n",
    "    \n",
    "    for i in range(6,len(patches)):\n",
    "        patches[i].set_facecolor('r')\n",
    "    patches[9].set_label('Conservative')\n",
    "\n",
    "    ax.tick_params(axis='x', which='major', labelsize=18)\n",
    "    ax.tick_params(axis='y', which='major', labelsize=18)\n",
    "\n",
    "    figsize=(8, 6)\n",
    "    ax.set_title('Political', fontname=\"Arial\", fontsize=22)\n",
    "    ax.set_ylabel('Number of Tweets', fontsize=22)\n",
    "    ax.set_xlabel(xlabel='          Liberal <-> Conservative' , fontsize=22)\n",
    "    #ax.set_yscale(\"log\")\n",
    "    ax.yaxis.set_major_formatter(thousands)\n",
    "    #ax.yaxis.set_major_formatter(MathTextSciFormatter(\"%1.2e\"))\n",
    "    \n",
    "    #f = ticker.ScalarFormatter(useOffset=False, useMathText=True)\n",
    "    #g = lambda x,pos : \"${}$\".format(f._formatSciNotation('%1.10e' % x))\n",
    "    #ax.yaxis.set_major_formatter(ticker.FuncFormatter(g))\n",
    "\n",
    "    \n",
    "    #plt.title('Political polarization', fontsize=18)\n",
    "    plt.legend(loc='upper center', fontsize=14)\n",
    "    plt.tight_layout()\n",
    "\n",
    "    #plt.savefig('../plots/'+titel+'.pdf')"
   ]
  },
  {
   "cell_type": "code",
   "execution_count": 39,
   "id": "1009b406",
   "metadata": {},
   "outputs": [],
   "source": [
    "df_tweetscov19_del = df_tweetscov19[df_tweetscov19['is_deleted']==True]\n",
    "df_tweetscov19_undel = df_tweetscov19[df_tweetscov19['is_deleted']==False]"
   ]
  },
  {
   "cell_type": "code",
   "execution_count": 40,
   "id": "f9fea6bc",
   "metadata": {},
   "outputs": [
    {
     "data": {
      "text/plain": [
       "(29245, 6)"
      ]
     },
     "execution_count": 40,
     "metadata": {},
     "output_type": "execute_result"
    }
   ],
   "source": [
    "df_tweetscov19_del[df_tweetscov19_del.tweet_political_polarisation > 0].shape"
   ]
  },
  {
   "cell_type": "code",
   "execution_count": 25,
   "id": "9164d3ea",
   "metadata": {},
   "outputs": [],
   "source": [
    "#plt.rcParams[\"font.family\"] = \"Arial\""
   ]
  },
  {
   "cell_type": "code",
   "execution_count": 41,
   "id": "bce163ec",
   "metadata": {},
   "outputs": [
    {
     "data": {
      "image/png": "[encoded data removed]",
      "text/plain": [
       "<Figure size 432x288 with 1 Axes>"
      ]
     },
     "metadata": {
      "needs_background": "light"
     },
     "output_type": "display_data"
    }
   ],
   "source": [
    "#df = df_tweetscov19.drop_duplicates(subset=['tweet_political_polarisation'])\n",
    "df = df_tweetscov19\n",
    "plot_histogram(df['tweet_political_polarisation'],'hist_tweetsCov19_political_polarized_tweets(alltweets)')"
   ]
  },
  {
   "cell_type": "code",
   "execution_count": 42,
   "id": "66e11cfc",
   "metadata": {},
   "outputs": [
    {
     "data": {
      "image/png": "[encoded data removed]",
      "text/plain": [
       "<Figure size 432x288 with 1 Axes>"
      ]
     },
     "metadata": {
      "needs_background": "light"
     },
     "output_type": "display_data"
    }
   ],
   "source": [
    "#df = df_tweetscov19_del.drop_duplicates(subset=['Username'])\n",
    "df = df_tweetscov19_del\n",
    "plot_histogram(df['tweet_political_polarisation'],'hist_tweetsCov19_political_polarized_tweets(deletedtweets)')"
   ]
  },
  {
   "cell_type": "code",
   "execution_count": 43,
   "id": "f624bfd2",
   "metadata": {},
   "outputs": [
    {
     "data": {
      "image/png": "[encoded data removed]",
      "text/plain": [
       "<Figure size 432x288 with 1 Axes>"
      ]
     },
     "metadata": {
      "needs_background": "light"
     },
     "output_type": "display_data"
    }
   ],
   "source": [
    "#df = df_tweetscov19_undel.drop_duplicates(subset=['Username'])\n",
    "df = df_tweetscov19_undel\n",
    "plot_histogram(df['tweet_political_polarisation'],'hist_tweetsCov19_political_polarized_tweets(nondeletedtweets)')"
   ]
  },
  {
   "cell_type": "markdown",
   "id": "370ba637",
   "metadata": {},
   "source": [
    "----"
   ]
  },
  {
   "cell_type": "markdown",
   "id": "1d7f4933",
   "metadata": {},
   "source": [
    "***"
   ]
  },
  {
   "cell_type": "markdown",
   "id": "c3c2b1c9",
   "metadata": {},
   "source": [
    "# Heatmap\n",
    "## Reputation-Polarisierung"
   ]
  },
  {
   "cell_type": "markdown",
   "id": "1c388449",
   "metadata": {},
   "source": [
    "***"
   ]
  },
  {
   "cell_type": "markdown",
   "id": "81c4b824",
   "metadata": {},
   "source": [
    "***"
   ]
  },
  {
   "cell_type": "code",
   "execution_count": 22,
   "id": "1ea93656",
   "metadata": {},
   "outputs": [],
   "source": [
    "import plotly.express as px\n",
    "import plotly.graph_objs as go\n",
    "import plotly.offline as pyo\n",
    "\n",
    "def density_hp(df, title, x, y, color):\n",
    "    fig = px.density_heatmap(df, x=x, y=y, nbinsx=20, nbinsy=20, color_continuous_scale=color)\n",
    "    fig.layout.height = 500\n",
    "    fig.layout.width = 600\n",
    "    fig.update_layout(\n",
    "        title= dict(\n",
    "            text= \"Political\",\n",
    "            y=0.95,\n",
    "            x=0.45,\n",
    "            xanchor= 'center',\n",
    "            yanchor= 'top'),\n",
    "        titlefont = dict(\n",
    "             family = 'Arial, sans-serif',\n",
    "             size = 32,\n",
    "             color = 'Black'\n",
    "              ),\n",
    "        xaxis = dict(\n",
    "            title='Liberal  <->  Conservative',\n",
    "            \n",
    "            tickmode = 'linear',\n",
    "            tickformat=\".1f\",\n",
    "            dtick = 0.5,\n",
    "            tickfont = dict(\n",
    "            family = 'Arial, sans-serif',\n",
    "            size = 28,\n",
    "            color = 'black'\n",
    "              ),\n",
    "            titlefont = dict(\n",
    "             family = 'Arial, sans-serif',\n",
    "             size = 32,\n",
    "             color = 'Black'\n",
    "              ),\n",
    "            ),\n",
    "        yaxis = dict(\n",
    "            tickmode = 'linear',\n",
    "            tickformat=\".1f\",\n",
    "            dtick = 0.5,\n",
    "            tickfont = dict(\n",
    "            family = 'Arial, sans-serif',\n",
    "            size =28,\n",
    "            color = 'black'\n",
    "              ),\n",
    "        titlefont = dict(\n",
    "             family = 'Arial, sans-serif',\n",
    "             size = 32,\n",
    "             color = 'Black'\n",
    "              ),\n",
    "            ),\n",
    "        coloraxis_colorbar=dict(\n",
    "            title=\"Tweets\",\n",
    "            thicknessmode=\"pixels\",\n",
    "            titlefont = dict(\n",
    "             family = 'Arial, sans-serif',\n",
    "             size = 32,\n",
    "             color = 'Black'\n",
    "              ),\n",
    "            tickfont = dict(\n",
    "            family = 'Arial, sans-serif',\n",
    "            size = 25,\n",
    "            color = 'black'\n",
    "              ),\n",
    "            ),\n",
    "\n",
    "\n",
    "        )\n",
    "\n",
    "    #fig.show()\n",
    "    pyo.plot(fig, filename=title+\".html\")\n",
    "    fig.write_image('../plots/heatmaps/'+title+'.pdf')"
   ]
  },
  {
   "cell_type": "code",
   "execution_count": 52,
   "id": "78a79e56",
   "metadata": {},
   "outputs": [],
   "source": [
    "df = df_tweetscov19[['is_deleted', 'user_political_polarisation', 'Reputation']]\n",
    "\n",
    "df_del =  df[df['is_deleted']==True]\n",
    "df_undel = df[df['is_deleted']==False]"
   ]
  },
  {
   "cell_type": "code",
   "execution_count": 53,
   "id": "92e9ba40",
   "metadata": {},
   "outputs": [
    {
     "data": {
      "text/plain": [
       "(538652, 3)"
      ]
     },
     "execution_count": 53,
     "metadata": {},
     "output_type": "execute_result"
    }
   ],
   "source": [
    "df_undel.shape"
   ]
  },
  {
   "cell_type": "code",
   "execution_count": 54,
   "id": "f5a0addc",
   "metadata": {},
   "outputs": [
    {
     "data": {
      "text/plain": [
       "(73183, 3)"
      ]
     },
     "execution_count": 54,
     "metadata": {},
     "output_type": "execute_result"
    }
   ],
   "source": [
    "df_del.shape"
   ]
  },
  {
   "cell_type": "code",
   "execution_count": 56,
   "id": "f302addd",
   "metadata": {},
   "outputs": [],
   "source": [
    "density_hp(df,'density_hp_political_polarisation_tweetscov19_alltweets_v2' ,'user_political_polarisation', 'Reputation', 'Blues')"
   ]
  },
  {
   "cell_type": "code",
   "execution_count": 57,
   "id": "6b42900d",
   "metadata": {},
   "outputs": [],
   "source": [
    "density_hp(df_del,'density_hp_political_polarisation_tweetscov19_deleted_v2' ,'user_political_polarisation', 'Reputation', 'Blues')"
   ]
  },
  {
   "cell_type": "code",
   "execution_count": 58,
   "id": "103a999f",
   "metadata": {},
   "outputs": [],
   "source": [
    "density_hp(df_undel,'density_hp_political_polarisation_tweetscov19_nondeleted_v2' ,'user_political_polarisation', 'Reputation', 'Blues')"
   ]
  },
  {
   "cell_type": "markdown",
   "id": "37e9fbe4",
   "metadata": {},
   "source": [
    "***"
   ]
  },
  {
   "cell_type": "markdown",
   "id": "e4acae3c",
   "metadata": {},
   "source": [
    "***"
   ]
  },
  {
   "cell_type": "markdown",
   "id": "c3eeffb0",
   "metadata": {},
   "source": [
    "# TweetKB\n",
    "## KDE-Plot"
   ]
  },
  {
   "cell_type": "markdown",
   "id": "9759ab87",
   "metadata": {},
   "source": [
    "***"
   ]
  },
  {
   "cell_type": "markdown",
   "id": "c64d876f",
   "metadata": {},
   "source": [
    "### Merge alle Tweets mit polarized Users"
   ]
  },
  {
   "cell_type": "code",
   "execution_count": 25,
   "id": "a9f33717",
   "metadata": {},
   "outputs": [
    {
     "name": "stdout",
     "output_type": "stream",
     "text": [
      "Shape : (556583, 9)\n"
     ]
    },
    {
     "data": {
      "text/html": [
       "<div>\n",
       "<style scoped>\n",
       "    .dataframe tbody tr th:only-of-type {\n",
       "        vertical-align: middle;\n",
       "    }\n",
       "\n",
       "    .dataframe tbody tr th {\n",
       "        vertical-align: top;\n",
       "    }\n",
       "\n",
       "    .dataframe thead th {\n",
       "        text-align: right;\n",
       "    }\n",
       "</style>\n",
       "<table border=\"1\" class=\"dataframe\">\n",
       "  <thead>\n",
       "    <tr style=\"text-align: right;\">\n",
       "      <th></th>\n",
       "      <th>Tweet_Id</th>\n",
       "      <th>Username</th>\n",
       "      <th>Deletionratio</th>\n",
       "      <th>Reputation</th>\n",
       "      <th>is_deleted</th>\n",
       "      <th>user_political_polarisation</th>\n",
       "      <th>user_science_polarisation</th>\n",
       "      <th>user_moderacy_polarisation</th>\n",
       "      <th>Timestamp</th>\n",
       "    </tr>\n",
       "  </thead>\n",
       "  <tbody>\n",
       "    <tr>\n",
       "      <th>0</th>\n",
       "      <td>1266775106803638274</td>\n",
       "      <td>0000Condor</td>\n",
       "      <td>1.0000</td>\n",
       "      <td>0.2556</td>\n",
       "      <td>True</td>\n",
       "      <td>-1.0000</td>\n",
       "      <td>0.0000</td>\n",
       "      <td>1.0000</td>\n",
       "      <td>2020-05-30 16:54:55+00:00</td>\n",
       "    </tr>\n",
       "    <tr>\n",
       "      <th>1</th>\n",
       "      <td>1223853670619475968</td>\n",
       "      <td>007AliSohrab</td>\n",
       "      <td>1.0000</td>\n",
       "      <td>0.9820</td>\n",
       "      <td>True</td>\n",
       "      <td>0.0000</td>\n",
       "      <td>0.0000</td>\n",
       "      <td>-1.0000</td>\n",
       "      <td>2020-02-02 06:20:27+00:00</td>\n",
       "    </tr>\n",
       "    <tr>\n",
       "      <th>2</th>\n",
       "      <td>1235648403742142464</td>\n",
       "      <td>007AliSohrab</td>\n",
       "      <td>1.0000</td>\n",
       "      <td>0.9820</td>\n",
       "      <td>True</td>\n",
       "      <td>0.0000</td>\n",
       "      <td>0.0000</td>\n",
       "      <td>-1.0000</td>\n",
       "      <td>2020-03-05 19:28:31+00:00</td>\n",
       "    </tr>\n",
       "    <tr>\n",
       "      <th>3</th>\n",
       "      <td>1235787184721907712</td>\n",
       "      <td>007AliSohrab</td>\n",
       "      <td>1.0000</td>\n",
       "      <td>0.9820</td>\n",
       "      <td>True</td>\n",
       "      <td>0.0000</td>\n",
       "      <td>0.0000</td>\n",
       "      <td>-1.0000</td>\n",
       "      <td>2020-03-06 04:39:59+00:00</td>\n",
       "    </tr>\n",
       "    <tr>\n",
       "      <th>4</th>\n",
       "      <td>1244655252730548224</td>\n",
       "      <td>007AliSohrab</td>\n",
       "      <td>1.0000</td>\n",
       "      <td>0.9820</td>\n",
       "      <td>True</td>\n",
       "      <td>0.0000</td>\n",
       "      <td>0.0000</td>\n",
       "      <td>-1.0000</td>\n",
       "      <td>2020-03-30 15:58:31+00:00</td>\n",
       "    </tr>\n",
       "  </tbody>\n",
       "</table>\n",
       "</div>"
      ],
      "text/plain": [
       "              Tweet_Id      Username  Deletionratio  Reputation  is_deleted  \\\n",
       "0  1266775106803638274    0000Condor         1.0000      0.2556        True   \n",
       "1  1223853670619475968  007AliSohrab         1.0000      0.9820        True   \n",
       "2  1235648403742142464  007AliSohrab         1.0000      0.9820        True   \n",
       "3  1235787184721907712  007AliSohrab         1.0000      0.9820        True   \n",
       "4  1244655252730548224  007AliSohrab         1.0000      0.9820        True   \n",
       "\n",
       "   user_political_polarisation  user_science_polarisation  \\\n",
       "0                      -1.0000                     0.0000   \n",
       "1                       0.0000                     0.0000   \n",
       "2                       0.0000                     0.0000   \n",
       "3                       0.0000                     0.0000   \n",
       "4                       0.0000                     0.0000   \n",
       "\n",
       "   user_moderacy_polarisation                  Timestamp  \n",
       "0                      1.0000  2020-05-30 16:54:55+00:00  \n",
       "1                     -1.0000  2020-02-02 06:20:27+00:00  \n",
       "2                     -1.0000  2020-03-05 19:28:31+00:00  \n",
       "3                     -1.0000  2020-03-06 04:39:59+00:00  \n",
       "4                     -1.0000  2020-03-30 15:58:31+00:00  "
      ]
     },
     "execution_count": 25,
     "metadata": {},
     "output_type": "execute_result"
    }
   ],
   "source": [
    "path = '../data/tweetskb_polarized_users_deletionratio_reputation_timestamp.tsv'\n",
    "\n",
    "df_tweetskb_reputation_deletionratio = pd.read_csv(path, sep='\\t', error_bad_lines=False, names=['Tweet_Id', 'Username', 'Deletionratio', 'Reputation', 'is_deleted', 'user_political_polarisation', 'user_science_polarisation', 'user_moderacy_polarisation', 'Timestamp'])\n",
    "\n",
    "print('Shape :', df_tweetskb_reputation_deletionratio.shape)\n",
    "df_tweetskb_reputation_deletionratio.head()"
   ]
  },
  {
   "cell_type": "code",
   "execution_count": 26,
   "id": "aabc4484",
   "metadata": {},
   "outputs": [
    {
     "name": "stdout",
     "output_type": "stream",
     "text": [
      "Shape : (67511, 5)\n"
     ]
    },
    {
     "data": {
      "text/html": [
       "<div>\n",
       "<style scoped>\n",
       "    .dataframe tbody tr th:only-of-type {\n",
       "        vertical-align: middle;\n",
       "    }\n",
       "\n",
       "    .dataframe tbody tr th {\n",
       "        vertical-align: top;\n",
       "    }\n",
       "\n",
       "    .dataframe thead th {\n",
       "        text-align: right;\n",
       "    }\n",
       "</style>\n",
       "<table border=\"1\" class=\"dataframe\">\n",
       "  <thead>\n",
       "    <tr style=\"text-align: right;\">\n",
       "      <th></th>\n",
       "      <th>Username</th>\n",
       "      <th>Number_of_liberals</th>\n",
       "      <th>Number_of_conservatives</th>\n",
       "      <th>Sum_polarised_domains</th>\n",
       "      <th>user_political_polarisation</th>\n",
       "    </tr>\n",
       "  </thead>\n",
       "  <tbody>\n",
       "    <tr>\n",
       "      <th>0</th>\n",
       "      <td>0000Condor</td>\n",
       "      <td>-1</td>\n",
       "      <td>0</td>\n",
       "      <td>1</td>\n",
       "      <td>-1.0000</td>\n",
       "    </tr>\n",
       "    <tr>\n",
       "      <th>1</th>\n",
       "      <td>007AliSohrab</td>\n",
       "      <td>-1</td>\n",
       "      <td>1</td>\n",
       "      <td>2</td>\n",
       "      <td>0.0000</td>\n",
       "    </tr>\n",
       "    <tr>\n",
       "      <th>2</th>\n",
       "      <td>007newsandviews</td>\n",
       "      <td>-1</td>\n",
       "      <td>0</td>\n",
       "      <td>1</td>\n",
       "      <td>-1.0000</td>\n",
       "    </tr>\n",
       "    <tr>\n",
       "      <th>3</th>\n",
       "      <td>007plus100</td>\n",
       "      <td>-1</td>\n",
       "      <td>0</td>\n",
       "      <td>1</td>\n",
       "      <td>-1.0000</td>\n",
       "    </tr>\n",
       "    <tr>\n",
       "      <th>4</th>\n",
       "      <td>00CelebNewz00</td>\n",
       "      <td>-1</td>\n",
       "      <td>0</td>\n",
       "      <td>1</td>\n",
       "      <td>-1.0000</td>\n",
       "    </tr>\n",
       "  </tbody>\n",
       "</table>\n",
       "</div>"
      ],
      "text/plain": [
       "          Username  Number_of_liberals  Number_of_conservatives  \\\n",
       "0       0000Condor                  -1                        0   \n",
       "1     007AliSohrab                  -1                        1   \n",
       "2  007newsandviews                  -1                        0   \n",
       "3       007plus100                  -1                        0   \n",
       "4    00CelebNewz00                  -1                        0   \n",
       "\n",
       "   Sum_polarised_domains  user_political_polarisation  \n",
       "0                      1                      -1.0000  \n",
       "1                      2                       0.0000  \n",
       "2                      1                      -1.0000  \n",
       "3                      1                      -1.0000  \n",
       "4                      1                      -1.0000  "
      ]
     },
     "execution_count": 26,
     "metadata": {},
     "output_type": "execute_result"
    }
   ],
   "source": [
    "path = '../data/tweetskb_political_polarized_users.tsv'\n",
    "\n",
    "df_tweetskb_political_polarized_users = pd.read_csv(path, sep='\\t', error_bad_lines=False, names=['Username', 'Number_of_liberals', 'Number_of_conservatives', 'Sum_polarised_domains', 'user_political_polarisation'])\n",
    "\n",
    "print('Shape :', df_tweetskb_political_polarized_users.shape)\n",
    "df_tweetskb_political_polarized_users.head()"
   ]
  },
  {
   "cell_type": "code",
   "execution_count": 30,
   "id": "2e299472",
   "metadata": {},
   "outputs": [
    {
     "name": "stdout",
     "output_type": "stream",
     "text": [
      "Form : (501063, 9)\n"
     ]
    },
    {
     "data": {
      "text/html": [
       "<div>\n",
       "<style scoped>\n",
       "    .dataframe tbody tr th:only-of-type {\n",
       "        vertical-align: middle;\n",
       "    }\n",
       "\n",
       "    .dataframe tbody tr th {\n",
       "        vertical-align: top;\n",
       "    }\n",
       "\n",
       "    .dataframe thead th {\n",
       "        text-align: right;\n",
       "    }\n",
       "</style>\n",
       "<table border=\"1\" class=\"dataframe\">\n",
       "  <thead>\n",
       "    <tr style=\"text-align: right;\">\n",
       "      <th></th>\n",
       "      <th>Tweet_Id</th>\n",
       "      <th>Username</th>\n",
       "      <th>Deletionratio</th>\n",
       "      <th>Reputation</th>\n",
       "      <th>is_deleted</th>\n",
       "      <th>user_political_polarisation</th>\n",
       "      <th>user_science_polarisation</th>\n",
       "      <th>user_moderacy_polarisation</th>\n",
       "      <th>Timestamp</th>\n",
       "    </tr>\n",
       "  </thead>\n",
       "  <tbody>\n",
       "    <tr>\n",
       "      <th>0</th>\n",
       "      <td>1266775106803638274</td>\n",
       "      <td>0000Condor</td>\n",
       "      <td>1.0000</td>\n",
       "      <td>0.2556</td>\n",
       "      <td>True</td>\n",
       "      <td>-1.0000</td>\n",
       "      <td>0.0000</td>\n",
       "      <td>1.0000</td>\n",
       "      <td>2020-05-30 16:54:55+00:00</td>\n",
       "    </tr>\n",
       "    <tr>\n",
       "      <th>1</th>\n",
       "      <td>1223853670619475968</td>\n",
       "      <td>007AliSohrab</td>\n",
       "      <td>1.0000</td>\n",
       "      <td>0.9820</td>\n",
       "      <td>True</td>\n",
       "      <td>0.0000</td>\n",
       "      <td>0.0000</td>\n",
       "      <td>-1.0000</td>\n",
       "      <td>2020-02-02 06:20:27+00:00</td>\n",
       "    </tr>\n",
       "    <tr>\n",
       "      <th>2</th>\n",
       "      <td>1235648403742142464</td>\n",
       "      <td>007AliSohrab</td>\n",
       "      <td>1.0000</td>\n",
       "      <td>0.9820</td>\n",
       "      <td>True</td>\n",
       "      <td>0.0000</td>\n",
       "      <td>0.0000</td>\n",
       "      <td>-1.0000</td>\n",
       "      <td>2020-03-05 19:28:31+00:00</td>\n",
       "    </tr>\n",
       "    <tr>\n",
       "      <th>3</th>\n",
       "      <td>1235787184721907712</td>\n",
       "      <td>007AliSohrab</td>\n",
       "      <td>1.0000</td>\n",
       "      <td>0.9820</td>\n",
       "      <td>True</td>\n",
       "      <td>0.0000</td>\n",
       "      <td>0.0000</td>\n",
       "      <td>-1.0000</td>\n",
       "      <td>2020-03-06 04:39:59+00:00</td>\n",
       "    </tr>\n",
       "    <tr>\n",
       "      <th>4</th>\n",
       "      <td>1244655252730548224</td>\n",
       "      <td>007AliSohrab</td>\n",
       "      <td>1.0000</td>\n",
       "      <td>0.9820</td>\n",
       "      <td>True</td>\n",
       "      <td>0.0000</td>\n",
       "      <td>0.0000</td>\n",
       "      <td>-1.0000</td>\n",
       "      <td>2020-03-30 15:58:31+00:00</td>\n",
       "    </tr>\n",
       "  </tbody>\n",
       "</table>\n",
       "</div>"
      ],
      "text/plain": [
       "              Tweet_Id      Username  Deletionratio  Reputation  is_deleted  \\\n",
       "0  1266775106803638274    0000Condor         1.0000      0.2556        True   \n",
       "1  1223853670619475968  007AliSohrab         1.0000      0.9820        True   \n",
       "2  1235648403742142464  007AliSohrab         1.0000      0.9820        True   \n",
       "3  1235787184721907712  007AliSohrab         1.0000      0.9820        True   \n",
       "4  1244655252730548224  007AliSohrab         1.0000      0.9820        True   \n",
       "\n",
       "   user_political_polarisation  user_science_polarisation  \\\n",
       "0                      -1.0000                     0.0000   \n",
       "1                       0.0000                     0.0000   \n",
       "2                       0.0000                     0.0000   \n",
       "3                       0.0000                     0.0000   \n",
       "4                       0.0000                     0.0000   \n",
       "\n",
       "   user_moderacy_polarisation                  Timestamp  \n",
       "0                      1.0000  2020-05-30 16:54:55+00:00  \n",
       "1                     -1.0000  2020-02-02 06:20:27+00:00  \n",
       "2                     -1.0000  2020-03-05 19:28:31+00:00  \n",
       "3                     -1.0000  2020-03-06 04:39:59+00:00  \n",
       "4                     -1.0000  2020-03-30 15:58:31+00:00  "
      ]
     },
     "execution_count": 30,
     "metadata": {},
     "output_type": "execute_result"
    }
   ],
   "source": [
    "df_tweetskb_political_polarized_users = df_tweetskb_political_polarized_users[['Username']]\n",
    "\n",
    "df_tweetskb_user= pd.merge(df_tweetskb_reputation_deletionratio, df_tweetskb_political_polarized_users, on='Username', how='inner')\n",
    "print('Form :', df_tweetskb_user.shape)\n",
    "df_tweetskb_user.head()"
   ]
  },
  {
   "cell_type": "markdown",
   "id": "09c9085e",
   "metadata": {},
   "source": [
    "------------"
   ]
  },
  {
   "cell_type": "markdown",
   "id": "e9fb239f",
   "metadata": {},
   "source": [
    "### Nur polarisierten Tweets"
   ]
  },
  {
   "cell_type": "code",
   "execution_count": 28,
   "id": "42ba7968",
   "metadata": {},
   "outputs": [
    {
     "name": "stdout",
     "output_type": "stream",
     "text": [
      "Shape : (133676, 5)\n"
     ]
    },
    {
     "data": {
      "text/html": [
       "<div>\n",
       "<style scoped>\n",
       "    .dataframe tbody tr th:only-of-type {\n",
       "        vertical-align: middle;\n",
       "    }\n",
       "\n",
       "    .dataframe tbody tr th {\n",
       "        vertical-align: top;\n",
       "    }\n",
       "\n",
       "    .dataframe thead th {\n",
       "        text-align: right;\n",
       "    }\n",
       "</style>\n",
       "<table border=\"1\" class=\"dataframe\">\n",
       "  <thead>\n",
       "    <tr style=\"text-align: right;\">\n",
       "      <th></th>\n",
       "      <th>Tweet_Id</th>\n",
       "      <th>Number_of_liberals</th>\n",
       "      <th>Number_of_conservatives</th>\n",
       "      <th>Sum_polarized_domains</th>\n",
       "      <th>tweet_political_polarisation</th>\n",
       "    </tr>\n",
       "  </thead>\n",
       "  <tbody>\n",
       "    <tr>\n",
       "      <th>0</th>\n",
       "      <td>1178791665735208960</td>\n",
       "      <td>0</td>\n",
       "      <td>1</td>\n",
       "      <td>1</td>\n",
       "      <td>1.0000</td>\n",
       "    </tr>\n",
       "    <tr>\n",
       "      <th>1</th>\n",
       "      <td>1178792395573383168</td>\n",
       "      <td>0</td>\n",
       "      <td>1</td>\n",
       "      <td>1</td>\n",
       "      <td>1.0000</td>\n",
       "    </tr>\n",
       "    <tr>\n",
       "      <th>2</th>\n",
       "      <td>1178792740664102913</td>\n",
       "      <td>-1</td>\n",
       "      <td>0</td>\n",
       "      <td>1</td>\n",
       "      <td>-1.0000</td>\n",
       "    </tr>\n",
       "    <tr>\n",
       "      <th>3</th>\n",
       "      <td>1178793142134292481</td>\n",
       "      <td>-1</td>\n",
       "      <td>0</td>\n",
       "      <td>1</td>\n",
       "      <td>-1.0000</td>\n",
       "    </tr>\n",
       "    <tr>\n",
       "      <th>4</th>\n",
       "      <td>1178793578350497806</td>\n",
       "      <td>-1</td>\n",
       "      <td>0</td>\n",
       "      <td>1</td>\n",
       "      <td>-1.0000</td>\n",
       "    </tr>\n",
       "  </tbody>\n",
       "</table>\n",
       "</div>"
      ],
      "text/plain": [
       "              Tweet_Id  Number_of_liberals  Number_of_conservatives  \\\n",
       "0  1178791665735208960                   0                        1   \n",
       "1  1178792395573383168                   0                        1   \n",
       "2  1178792740664102913                  -1                        0   \n",
       "3  1178793142134292481                  -1                        0   \n",
       "4  1178793578350497806                  -1                        0   \n",
       "\n",
       "   Sum_polarized_domains  tweet_political_polarisation  \n",
       "0                      1                        1.0000  \n",
       "1                      1                        1.0000  \n",
       "2                      1                       -1.0000  \n",
       "3                      1                       -1.0000  \n",
       "4                      1                       -1.0000  "
      ]
     },
     "execution_count": 28,
     "metadata": {},
     "output_type": "execute_result"
    }
   ],
   "source": [
    "path = '../data/tweetskb_political_polarized_tweets.tsv'\n",
    "\n",
    "df_tweetskb_political_polarized_tweets = pd.read_csv(path, sep='\\t', error_bad_lines=False, names=['Tweet_Id', 'Number_of_liberals', 'Number_of_conservatives', 'Sum_polarized_domains', 'tweet_political_polarisation'])\n",
    "\n",
    "print('Shape :', df_tweetskb_political_polarized_tweets.shape)\n",
    "df_tweetskb_political_polarized_tweets.head()"
   ]
  },
  {
   "cell_type": "code",
   "execution_count": 32,
   "id": "d890e094",
   "metadata": {},
   "outputs": [
    {
     "data": {
      "text/plain": [
       "(133676, 10)"
      ]
     },
     "execution_count": 32,
     "metadata": {},
     "output_type": "execute_result"
    }
   ],
   "source": [
    "df_tweetskb_political_polarized_tweets = df_tweetskb_political_polarized_tweets[['Tweet_Id', 'tweet_political_polarisation']]\n",
    "\n",
    "df_tweetskb = pd.merge(df_tweetskb_user, df_tweetskb_political_polarized_tweets, on='Tweet_Id', how='inner')\n",
    "df_tweetskb.shape"
   ]
  },
  {
   "cell_type": "code",
   "execution_count": 33,
   "id": "ad308887",
   "metadata": {},
   "outputs": [
    {
     "data": {
      "text/html": [
       "<div>\n",
       "<style scoped>\n",
       "    .dataframe tbody tr th:only-of-type {\n",
       "        vertical-align: middle;\n",
       "    }\n",
       "\n",
       "    .dataframe tbody tr th {\n",
       "        vertical-align: top;\n",
       "    }\n",
       "\n",
       "    .dataframe thead th {\n",
       "        text-align: right;\n",
       "    }\n",
       "</style>\n",
       "<table border=\"1\" class=\"dataframe\">\n",
       "  <thead>\n",
       "    <tr style=\"text-align: right;\">\n",
       "      <th></th>\n",
       "      <th>Tweet_Id</th>\n",
       "      <th>Username</th>\n",
       "      <th>Deletionratio</th>\n",
       "      <th>Reputation</th>\n",
       "      <th>is_deleted</th>\n",
       "      <th>user_political_polarisation</th>\n",
       "      <th>user_science_polarisation</th>\n",
       "      <th>user_moderacy_polarisation</th>\n",
       "      <th>Timestamp</th>\n",
       "      <th>tweet_political_polarisation</th>\n",
       "    </tr>\n",
       "  </thead>\n",
       "  <tbody>\n",
       "    <tr>\n",
       "      <th>0</th>\n",
       "      <td>1266775106803638274</td>\n",
       "      <td>0000Condor</td>\n",
       "      <td>1.0000</td>\n",
       "      <td>0.2556</td>\n",
       "      <td>True</td>\n",
       "      <td>-1.0000</td>\n",
       "      <td>0.0000</td>\n",
       "      <td>1.0000</td>\n",
       "      <td>2020-05-30 16:54:55+00:00</td>\n",
       "      <td>-1.0000</td>\n",
       "    </tr>\n",
       "  </tbody>\n",
       "</table>\n",
       "</div>"
      ],
      "text/plain": [
       "              Tweet_Id    Username  Deletionratio  Reputation  is_deleted  \\\n",
       "0  1266775106803638274  0000Condor         1.0000      0.2556        True   \n",
       "\n",
       "   user_political_polarisation  user_science_polarisation  \\\n",
       "0                      -1.0000                     0.0000   \n",
       "\n",
       "   user_moderacy_polarisation                  Timestamp  \\\n",
       "0                      1.0000  2020-05-30 16:54:55+00:00   \n",
       "\n",
       "   tweet_political_polarisation  \n",
       "0                       -1.0000  "
      ]
     },
     "execution_count": 33,
     "metadata": {},
     "output_type": "execute_result"
    }
   ],
   "source": [
    "df_tweetskb.head(1)"
   ]
  },
  {
   "cell_type": "markdown",
   "id": "133b44bc",
   "metadata": {},
   "source": [
    "***"
   ]
  },
  {
   "cell_type": "code",
   "execution_count": 38,
   "id": "4ac57d7d",
   "metadata": {},
   "outputs": [
    {
     "name": "stdout",
     "output_type": "stream",
     "text": [
      "October:  -0.507\n",
      "November:  -0.519\n",
      "December:  -0.513\n",
      "Januar:  -0.524\n",
      "February:  -0.521\n",
      "March:  -0.594\n",
      "April:  -0.546\n",
      "Mai:  -0.525\n"
     ]
    }
   ],
   "source": [
    "pol_col = 'user_political_polarisation'\n",
    "df = df_tweetskb.drop_duplicates(subset=['Username'])\n",
    "\n",
    "\n",
    "October = df[df['Timestamp'] < '2019-11-01 00:00:00+00:00']\n",
    "print('October: ', '{0:.3g}'.format(October[pol_col].mean()))\n",
    "\n",
    "\n",
    "start_date = '2019-11-01 00:00:00+00:00'\n",
    "end_date = '2019-12-01 00:00:00+00:00'\n",
    "November =  df[(df['Timestamp'] >= start_date) & (df['Timestamp'] < end_date) ]\n",
    "print('November: ', '{0:.3g}'.format(November[pol_col].mean()))\n",
    "\n",
    "\n",
    "start_date = '2019-12-01 00:00:00+00:00'\n",
    "end_date = '2020-01-01 00:00:00+00:00'\n",
    "December = df[(df['Timestamp'] >= start_date) & (df['Timestamp'] < end_date) ]\n",
    "print('December: ', '{0:.3g}'.format(December[pol_col].mean()))\n",
    "\n",
    "start_date = '2020-01-01 00:00:00+00:00'\n",
    "end_date = '2020-02-01 00:00:00+00:00'\n",
    "Januar = df[(df['Timestamp'] >= start_date) & (df['Timestamp'] < end_date) ]\n",
    "print('Januar: ', '{0:.3g}'.format(Januar[pol_col].mean()))\n",
    "\n",
    "start_date = '2020-02-01 00:00:00+00:00'\n",
    "end_date = '2020-03-01 00:00:00+00:00'\n",
    "Februar = df[(df['Timestamp'] >= start_date) & (df['Timestamp'] < end_date) ] \n",
    "print('February: ', '{0:.3g}'.format(Februar[pol_col].mean()))\n",
    "\n",
    "start_date = '2020-03-01 00:00:00+00:00'\n",
    "end_date = '2020-04-01 00:00:00+00:00'\n",
    "March = df[(df['Timestamp'] >= start_date) & (df['Timestamp'] < end_date)]\n",
    "print('March: ', '{0:.3g}'.format(March[pol_col].mean()))\n",
    "\n",
    "start_date = '2020-04-01 00:00:00+00:00'\n",
    "end_date = '2020-05-01 00:00:00+00:00'\n",
    "April = df[(df['Timestamp'] >= start_date) & (df['Timestamp'] < end_date)]\n",
    "print('April: ', '{0:.3g}'.format(April[pol_col].mean()))\n",
    "\n",
    "start_date = '2020-05-01 00:00:00+00:00'\n",
    "Mai = df[df['Timestamp'] >= start_date ]\n",
    "print('Mai: ', '{0:.3g}'.format(Mai[pol_col].mean()))\n"
   ]
  },
  {
   "cell_type": "markdown",
   "id": "01a1cdfc",
   "metadata": {},
   "source": [
    "***"
   ]
  },
  {
   "cell_type": "code",
   "execution_count": 35,
   "id": "de977da0",
   "metadata": {},
   "outputs": [
    {
     "name": "stdout",
     "output_type": "stream",
     "text": [
      "Alle Users: 67511\n"
     ]
    }
   ],
   "source": [
    "df_tweetskb = df_tweetskb_users_and_tweets.copy()\n",
    "print('Alle Users:', df_tweetskb.Username.unique().size)\n"
   ]
  },
  {
   "cell_type": "code",
   "execution_count": 36,
   "id": "6ad4da9a",
   "metadata": {},
   "outputs": [],
   "source": [
    "df_tweetskb_del = df_tweetskb[df_tweetskb['is_deleted']==True]\n",
    "df_tweetskb_undel = df_tweetskb[df_tweetskb['is_deleted']==False]"
   ]
  },
  {
   "cell_type": "code",
   "execution_count": 37,
   "id": "d7bcaf3e",
   "metadata": {},
   "outputs": [
    {
     "name": "stdout",
     "output_type": "stream",
     "text": [
      "Deleted Tweets: (19849, 6)\n",
      "Non-deleted Tweets: (113827, 6)\n"
     ]
    }
   ],
   "source": [
    "print('Deleted Tweets:', df_tweetskb_del.shape)\n",
    "print('Non-deleted Tweets:', df_tweetskb_undel.shape)\n"
   ]
  },
  {
   "cell_type": "code",
   "execution_count": 39,
   "id": "f54c3dfb",
   "metadata": {},
   "outputs": [
    {
     "name": "stdout",
     "output_type": "stream",
     "text": [
      "Alle Users: 67511\n",
      "Alle kon. Users in gesammten Tweets: 14967\n",
      "Tweets of kon. Users in gesammten Tweets: 30310\n",
      "Kon. tweets : 28798\n",
      "Alle lib. Users in gesammten Tweets: 51060\n",
      "Tweets of lib. Users in gesammten Tweets: 99863\n",
      "Lib. tweets : 97314\n"
     ]
    }
   ],
   "source": [
    "print('Alle Users:', df_tweetskb.Username.unique().size)\n",
    "\n",
    "df = df_tweetskb[df_tweetskb['user_political_polarisation']>0]\n",
    "print('Alle kon. Users in gesammten Tweets:', df.Username.unique().size)\n",
    "print('Tweets of kon. Users in gesammten Tweets:', df.shape[0])\n",
    "print('Kon. tweets :', df.query(\"tweet_political_polarisation > 0\").shape[0])\n",
    "\n",
    "\n",
    "df = df_tweetskb[df_tweetskb['user_political_polarisation']<0]\n",
    "print('Alle lib. Users in gesammten Tweets:', df.Username.unique().size)\n",
    "print('Tweets of lib. Users in gesammten Tweets:', df.shape[0])\n",
    "print('Lib. tweets :', df.query(\"tweet_political_polarisation < 0\").shape[0])\n"
   ]
  },
  {
   "cell_type": "code",
   "execution_count": 40,
   "id": "8211b33e",
   "metadata": {},
   "outputs": [
    {
     "name": "stdout",
     "output_type": "stream",
     "text": [
      "Alle Users: 12392\n",
      "Alle kon. Users in gelöschten Tweets: 3805\n",
      "Tweets of kon. Users in gesammten Tweets: 7119\n",
      "Kon. tweets : 6602\n",
      "Alle lib. Users in gelöschten Tweets: 8237\n",
      "Tweets of lib. Users in gesammten Tweets: 11910\n",
      "Lib. tweets : 11425\n"
     ]
    }
   ],
   "source": [
    "print('Alle Users:', df_tweetskb_del.Username.unique().size)\n",
    "\n",
    "df = df_tweetskb_del[df_tweetskb_del['user_political_polarisation']>0]\n",
    "print('Alle kon. Users in gelöschten Tweets:', df.Username.unique().size)\n",
    "print('Tweets of kon. Users in gesammten Tweets:', df.shape[0])\n",
    "print('Kon. tweets :', df.query(\"tweet_political_polarisation > 0\").shape[0])\n",
    "\n",
    "\n",
    "df = df_tweetskb_del[df_tweetskb_del['user_political_polarisation']<0]\n",
    "print('Alle lib. Users in gelöschten Tweets:', df.Username.unique().size)\n",
    "print('Tweets of lib. Users in gesammten Tweets:', df.shape[0])\n",
    "print('Lib. tweets :', df.query(\"tweet_political_polarisation < 0\").shape[0])\n"
   ]
  },
  {
   "cell_type": "code",
   "execution_count": 42,
   "id": "655192d0",
   "metadata": {},
   "outputs": [
    {
     "name": "stdout",
     "output_type": "stream",
     "text": [
      "Alle Users: 55759\n",
      "Alle kon. Users in nicht gelöschten Tweets: 11294\n",
      "Tweets of kon. Users in gesammten Tweets: 23191\n",
      "Kon. tweets : 22196\n",
      "Alle lib. Users in nicht gelöschten Tweets: 43297\n",
      "Tweets of lib. Users in gesammten Tweets: 87953\n",
      "Lib. tweets : 85889\n"
     ]
    }
   ],
   "source": [
    "print('Alle Users:', df_tweetskb_undel.Username.unique().size)\n",
    "\n",
    "df = df_tweetskb_undel[df_tweetskb_undel['user_political_polarisation']>0]\n",
    "print('Alle kon. Users in nicht gelöschten Tweets:', df.Username.unique().size)\n",
    "print('Tweets of kon. Users in gesammten Tweets:', df.shape[0])\n",
    "print('Kon. tweets :', df.query(\"tweet_political_polarisation > 0\").shape[0])\n",
    "\n",
    "\n",
    "df = df_tweetskb_undel[df_tweetskb_undel['user_political_polarisation']<0]\n",
    "print('Alle lib. Users in nicht gelöschten Tweets:', df.Username.unique().size)\n",
    "print('Tweets of lib. Users in gesammten Tweets:', df.shape[0])\n",
    "print('Lib. tweets :', df.query(\"tweet_political_polarisation <0\").shape[0])\n"
   ]
  },
  {
   "cell_type": "code",
   "execution_count": 43,
   "id": "bb144c07",
   "metadata": {},
   "outputs": [
    {
     "name": "stdout",
     "output_type": "stream",
     "text": [
      "Alle Users: 1484\n",
      "neutrale. tweets in allen Tweets: 40\n",
      "Alle neutral Users in gelöschten Tweets: 350\n",
      "Tweets of neutral Users in gelöschten Tweets: 820\n",
      "neutrale. tweets in gelöschten: 16\n",
      "Alle neutral Users in nicht gelöschten Tweets: 1168\n",
      "Tweets of neutral Users in nicht gelöschten Tweets: 2683\n",
      "neutrale. tweets in nicht gelöschten : 24\n"
     ]
    }
   ],
   "source": [
    "df_tweetskb_neutral = df_tweetskb[df_tweetskb['user_political_polarisation']==0]\n",
    "print('Alle Users:', df_tweetskb_neutral.Username.unique().size)\n",
    "print('neutrale. tweets in allen Tweets:', df_tweetskb.query(\"tweet_political_polarisation == 0\").shape[0])\n",
    "\n",
    "\n",
    "df = df_tweetskb_del[df_tweetskb_del['user_political_polarisation']==0]\n",
    "print('Alle neutral Users in gelöschten Tweets:', df.Username.unique().size)\n",
    "print('Tweets of neutral Users in gelöschten Tweets:', df.shape[0])\n",
    "print('neutrale. tweets in gelöschten:', df_tweetskb_del.query(\"tweet_political_polarisation == 0\").shape[0])\n",
    "\n",
    "\n",
    "df = df_tweetskb_undel[df_tweetskb_undel['user_political_polarisation']==0]\n",
    "print('Alle neutral Users in nicht gelöschten Tweets:', df.Username.unique().size)\n",
    "print('Tweets of neutral Users in nicht gelöschten Tweets:', df.shape[0])\n",
    "print('neutrale. tweets in nicht gelöschten :', df_tweetskb_undel.query(\"tweet_political_polarisation == 0\").shape[0])\n"
   ]
  },
  {
   "cell_type": "code",
   "execution_count": 23,
   "id": "96dd2427",
   "metadata": {},
   "outputs": [
    {
     "data": {
      "image/png": "[encoded data removed]",
      "text/plain": [
       "<Figure size 432x288 with 1 Axes>"
      ]
     },
     "metadata": {
      "needs_background": "light"
     },
     "output_type": "display_data"
    }
   ],
   "source": [
    "df = df_tweetskb[['is_deleted', 'tweet_political_polarisation']]\n",
    "plot_kdeplot_v1(df, 'is_deleted','tweet_political_polarisation' ,'Politic' ,'TweetsCov19', 'kdeplot_tweetskb_politic_alltweets_conditionaldistribution_v2')"
   ]
  },
  {
   "cell_type": "code",
   "execution_count": 24,
   "id": "1e3d1eea",
   "metadata": {},
   "outputs": [
    {
     "data": {
      "image/png": "[encoded data removed]",
      "text/plain": [
       "<Figure size 432x288 with 1 Axes>"
      ]
     },
     "metadata": {
      "needs_background": "light"
     },
     "output_type": "display_data"
    }
   ],
   "source": [
    "df = df_tweetskb[['is_deleted', 'user_political_polarisation']]\n",
    "plot_kdeplot_v2(df, 'is_deleted','user_political_polarisation' ,'          Liberal <-> Conservative' ,'TweetsCov19', 'kdeplot_tweetskb_politic_alltuserss_Normalizethestackeddistribution_v2')"
   ]
  },
  {
   "cell_type": "code",
   "execution_count": 25,
   "id": "31f2c27d",
   "metadata": {},
   "outputs": [
    {
     "data": {
      "image/png": "[encoded data removed]",
      "text/plain": [
       "<Figure size 432x288 with 1 Axes>"
      ]
     },
     "metadata": {
      "needs_background": "light"
     },
     "output_type": "display_data"
    }
   ],
   "source": [
    "df = df_tweetskb[['is_deleted', 'tweet_political_polarisation']]\n",
    "plot_kdeplot_v2(df, 'is_deleted','tweet_political_polarisation' ,'          Liberal <-> Conservative' ,'TweetsCov19', 'kdeplot_tweetskb_politic_allttweets_Normalizethestackeddistribution_v2')"
   ]
  },
  {
   "cell_type": "code",
   "execution_count": 26,
   "id": "4eb56d59",
   "metadata": {},
   "outputs": [
    {
     "data": {
      "image/png": "[encoded data removed]",
      "text/plain": [
       "<Figure size 432x288 with 1 Axes>"
      ]
     },
     "metadata": {
      "needs_background": "light"
     },
     "output_type": "display_data"
    }
   ],
   "source": [
    "df = df_tweetskb[['is_deleted', 'tweet_political_polarisation']]\n",
    "plot_kdeplot_v3(df, 'is_deleted','tweet_political_polarisation' ,'Politic' ,'TweetsCov19', 'kdeplot_tweetskb_politic_alltweets_cumulativedistributionfunction_v2')"
   ]
  },
  {
   "cell_type": "markdown",
   "id": "c848345b",
   "metadata": {},
   "source": [
    "# Histogram"
   ]
  },
  {
   "cell_type": "markdown",
   "id": "afa753db",
   "metadata": {},
   "source": [
    "***"
   ]
  },
  {
   "cell_type": "markdown",
   "id": "d05bfee3",
   "metadata": {},
   "source": [
    "***"
   ]
  },
  {
   "cell_type": "code",
   "execution_count": 27,
   "id": "c16059e8",
   "metadata": {},
   "outputs": [],
   "source": [
    "def thousands(x, pos):\n",
    "    if x <1000 :\n",
    "        return '{:1.0f}'.format(x*1e-3)\n",
    "    \"\"\"The two args are the value and tick position.\"\"\"\n",
    "    return '{:1.0f}k'.format(x*1e-3)\n",
    "\n",
    "def plot_histogram_kb(df, titel):\n",
    "    #figure(figsize=(8, 6), dpi=80)\n",
    "    \n",
    "    fig, ax = plt.subplots()\n",
    "    colors = ['b', 'r']\n",
    "    #labels = ['Liberale', 'konservativ']\n",
    "    \n",
    "    N, bins, patches = ax.hist(df, bins=11, color = 'gray')\n",
    "    patches[5].set_label('Neutral')\n",
    "    patches[5].set_facecolor('gray')\n",
    "    for i in range(0,5):\n",
    "        patches[i].set_facecolor('b')\n",
    "    patches[1].set_label('Liberal')\n",
    "    for i in range(6,len(patches)):\n",
    "        patches[i].set_facecolor('r')\n",
    "    patches[9].set_label('Conservative')\n",
    "    \n",
    "          \n",
    "    ax.tick_params(axis='x', which='major', labelsize=18)\n",
    "    ax.tick_params(axis='y', which='major', labelsize=18)\n",
    "\n",
    "    figsize=(8, 6)\n",
    "    ax.set_title('Political', fontsize=22)\n",
    "    ax.set_ylabel('Number of Tweets', fontsize=22)\n",
    "    ax.set_xlabel(xlabel='          Liberal <-> Conservative' , fontsize=22)\n",
    "    ax.yaxis.set_major_formatter(thousands)\n",
    "\n",
    "    #f = ticker.ScalarFormatter(useOffset=False, useMathText=True)\n",
    "    #g = lambda x,pos : \"${}$\".format(f._formatSciNotation('%1.10e' % x))\n",
    "    #ax.yaxis.set_major_formatter(ticker.FuncFormatter(g))\n",
    "\n",
    "    #plt.title('Political polarization', fontsize=18)\n",
    "    plt.legend( fontsize=14)\n",
    "    plt.tight_layout()\n",
    "    plt.savefig('../plots/'+titel+'.pdf')"
   ]
  },
  {
   "cell_type": "code",
   "execution_count": 28,
   "id": "9b82fcf1",
   "metadata": {},
   "outputs": [],
   "source": [
    "df_tweetskb_del = df_tweetskb[df_tweetskb['is_deleted']==True]\n",
    "df_tweetskb_undel = df_tweetskb[df_tweetskb['is_deleted']==False]"
   ]
  },
  {
   "cell_type": "code",
   "execution_count": 29,
   "id": "0b13732f",
   "metadata": {},
   "outputs": [
    {
     "data": {
      "text/html": [
       "<div>\n",
       "<style scoped>\n",
       "    .dataframe tbody tr th:only-of-type {\n",
       "        vertical-align: middle;\n",
       "    }\n",
       "\n",
       "    .dataframe tbody tr th {\n",
       "        vertical-align: top;\n",
       "    }\n",
       "\n",
       "    .dataframe thead th {\n",
       "        text-align: right;\n",
       "    }\n",
       "</style>\n",
       "<table border=\"1\" class=\"dataframe\">\n",
       "  <thead>\n",
       "    <tr style=\"text-align: right;\">\n",
       "      <th></th>\n",
       "      <th>Tweet_Id</th>\n",
       "      <th>Reputation</th>\n",
       "      <th>user_political_polarisation</th>\n",
       "      <th>tweet_political_polarisation</th>\n",
       "    </tr>\n",
       "  </thead>\n",
       "  <tbody>\n",
       "    <tr>\n",
       "      <th>count</th>\n",
       "      <td>133676.0000</td>\n",
       "      <td>133676.0000</td>\n",
       "      <td>133676.0000</td>\n",
       "      <td>133676.0000</td>\n",
       "    </tr>\n",
       "    <tr>\n",
       "      <th>mean</th>\n",
       "      <td>1224523106819237120.0000</td>\n",
       "      <td>0.6815</td>\n",
       "      <td>-0.5049</td>\n",
       "      <td>-0.5048</td>\n",
       "    </tr>\n",
       "    <tr>\n",
       "      <th>std</th>\n",
       "      <td>25825512773752748.0000</td>\n",
       "      <td>0.2825</td>\n",
       "      <td>0.7948</td>\n",
       "      <td>0.8630</td>\n",
       "    </tr>\n",
       "    <tr>\n",
       "      <th>min</th>\n",
       "      <td>1178756354229575680.0000</td>\n",
       "      <td>0.0000</td>\n",
       "      <td>-1.0000</td>\n",
       "      <td>-1.0000</td>\n",
       "    </tr>\n",
       "    <tr>\n",
       "      <th>25%</th>\n",
       "      <td>1201884184186289152.0000</td>\n",
       "      <td>0.4815</td>\n",
       "      <td>-1.0000</td>\n",
       "      <td>-1.0000</td>\n",
       "    </tr>\n",
       "    <tr>\n",
       "      <th>50%</th>\n",
       "      <td>1225821280636712960.0000</td>\n",
       "      <td>0.6898</td>\n",
       "      <td>-1.0000</td>\n",
       "      <td>-1.0000</td>\n",
       "    </tr>\n",
       "    <tr>\n",
       "      <th>75%</th>\n",
       "      <td>1247016435906282496.0000</td>\n",
       "      <td>0.9786</td>\n",
       "      <td>0.0000</td>\n",
       "      <td>-1.0000</td>\n",
       "    </tr>\n",
       "    <tr>\n",
       "      <th>max</th>\n",
       "      <td>1267214246229598208.0000</td>\n",
       "      <td>1.0000</td>\n",
       "      <td>1.0000</td>\n",
       "      <td>1.0000</td>\n",
       "    </tr>\n",
       "  </tbody>\n",
       "</table>\n",
       "</div>"
      ],
      "text/plain": [
       "                      Tweet_Id  Reputation  user_political_polarisation  \\\n",
       "count              133676.0000 133676.0000                  133676.0000   \n",
       "mean  1224523106819237120.0000      0.6815                      -0.5049   \n",
       "std     25825512773752748.0000      0.2825                       0.7948   \n",
       "min   1178756354229575680.0000      0.0000                      -1.0000   \n",
       "25%   1201884184186289152.0000      0.4815                      -1.0000   \n",
       "50%   1225821280636712960.0000      0.6898                      -1.0000   \n",
       "75%   1247016435906282496.0000      0.9786                       0.0000   \n",
       "max   1267214246229598208.0000      1.0000                       1.0000   \n",
       "\n",
       "       tweet_political_polarisation  \n",
       "count                   133676.0000  \n",
       "mean                        -0.5048  \n",
       "std                          0.8630  \n",
       "min                         -1.0000  \n",
       "25%                         -1.0000  \n",
       "50%                         -1.0000  \n",
       "75%                         -1.0000  \n",
       "max                          1.0000  "
      ]
     },
     "execution_count": 29,
     "metadata": {},
     "output_type": "execute_result"
    }
   ],
   "source": [
    "df_tweetskb.describe()"
   ]
  },
  {
   "cell_type": "code",
   "execution_count": 30,
   "id": "93c12b63",
   "metadata": {},
   "outputs": [
    {
     "data": {
      "image/png": "[encoded data removed]",
      "text/plain": [
       "<Figure size 432x288 with 1 Axes>"
      ]
     },
     "metadata": {
      "needs_background": "light"
     },
     "output_type": "display_data"
    }
   ],
   "source": [
    "#All Tweets\n",
    "#df = df_tweetskb.drop_duplicates(subset=['Username'])\n",
    "df = df_tweetskb\n",
    "plot_histogram_kb(df['tweet_political_polarisation'],'hist_tweetsKB_political_polarized_tweets(alltweets)')"
   ]
  },
  {
   "cell_type": "code",
   "execution_count": 31,
   "id": "3fd4a90d",
   "metadata": {},
   "outputs": [
    {
     "data": {
      "image/png": "[encoded data removed]",
      "text/plain": [
       "<Figure size 432x288 with 1 Axes>"
      ]
     },
     "metadata": {
      "needs_background": "light"
     },
     "output_type": "display_data"
    }
   ],
   "source": [
    "#df = df_tweetskb_del.drop_duplicates(subset=['Username'])\n",
    "df = df_tweetskb_del\n",
    "plot_histogram_kb(df['tweet_political_polarisation'],'hist_tweetsKB_political_polarized_tweets(deletedtweets)')"
   ]
  },
  {
   "cell_type": "code",
   "execution_count": 32,
   "id": "ff9382ce",
   "metadata": {},
   "outputs": [
    {
     "data": {
      "image/png": "[encoded data removed]",
      "text/plain": [
       "<Figure size 432x288 with 1 Axes>"
      ]
     },
     "metadata": {
      "needs_background": "light"
     },
     "output_type": "display_data"
    }
   ],
   "source": [
    "df = df_tweetskb_undel.drop_duplicates(subset=['Username'])\n",
    "df = df_tweetskb_undel\n",
    "plot_histogram_kb(df['tweet_political_polarisation'],'hist_tweetsKB_political_polarized_tweets(nondeletedtweets)')"
   ]
  },
  {
   "cell_type": "markdown",
   "id": "f3fea809",
   "metadata": {},
   "source": [
    "***"
   ]
  },
  {
   "cell_type": "markdown",
   "id": "86564d09",
   "metadata": {},
   "source": [
    "# Heatmap\n",
    "### Reputation-Polarisierung"
   ]
  },
  {
   "cell_type": "markdown",
   "id": "c26d220b",
   "metadata": {},
   "source": [
    "***"
   ]
  },
  {
   "cell_type": "code",
   "execution_count": 34,
   "id": "d76ce51a",
   "metadata": {},
   "outputs": [],
   "source": [
    "df = df_tweetskb[['is_deleted', 'user_political_polarisation', 'Reputation']]\n",
    "\n",
    "df_del =  df[df['is_deleted']==True]\n",
    "df_undel = df[df['is_deleted']==False]"
   ]
  },
  {
   "cell_type": "code",
   "execution_count": 35,
   "id": "e00a8b1a",
   "metadata": {},
   "outputs": [],
   "source": [
    "density_hp(df,'density_hp_political_polarisation_tweetskb_alltweets_v2' ,'user_political_polarisation', 'Reputation', 'Blues')"
   ]
  },
  {
   "cell_type": "code",
   "execution_count": 37,
   "id": "971aee72",
   "metadata": {},
   "outputs": [],
   "source": [
    "density_hp(df_del,'density_hp_political_polarisation_tweetskb_deleted_v2' ,'user_political_polarisation', 'Reputation', 'Blues')"
   ]
  },
  {
   "cell_type": "code",
   "execution_count": 38,
   "id": "6765ad34",
   "metadata": {},
   "outputs": [],
   "source": [
    "density_hp(df_undel,'density_hp_political_polarisation_tweetskb_nondeleted_v2' ,'user_political_polarisation', 'Reputation', 'Blues')"
   ]
  },
  {
   "cell_type": "code",
   "execution_count": null,
   "id": "ac4c4dec",
   "metadata": {},
   "outputs": [],
   "source": []
  }
 ],
 "metadata": {
  "kernelspec": {
   "display_name": "Python 3",
   "language": "python",
   "name": "python3"
  },
  "language_info": {
   "codemirror_mode": {
    "name": "ipython",
    "version": 3
   },
   "file_extension": ".py",
   "mimetype": "text/x-python",
   "name": "python",
   "nbconvert_exporter": "python",
   "pygments_lexer": "ipython3",
   "version": "3.8.8"
  }
 },
 "nbformat": 4,
 "nbformat_minor": 5
}
