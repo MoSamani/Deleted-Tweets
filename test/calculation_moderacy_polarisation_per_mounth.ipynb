{
 "cells": [
  {
   "cell_type": "code",
   "execution_count": 1,
   "id": "48980fe5",
   "metadata": {},
   "outputs": [],
   "source": [
    "#CSV Bibliothek importieren \n",
    "import csv\n",
    "#Pandas importieren und als pd bezeichnen\n",
    "import pandas as pd\n",
    "#Numpy importieren und als np bezeichnen \n",
    "import numpy as np\n",
    "#Json Biliothek importieren\n",
    "import json\n",
    "#Obere Schranke für die Größe der Daten auf 100,000,000 setzen  \n",
    "csv.field_size_limit(100000000)\n",
    "#Maximale Anzahl von Zeilen und Spalten Zeigen \n",
    "pd.options.display.max_columns = None\n",
    "pd.options.display.max_rows = None\n",
    "#Extraktion der Domäne\n",
    "import tldextract\n",
    "import warnings\n",
    "warnings.filterwarnings('ignore')\n"
   ]
  },
  {
   "cell_type": "markdown",
   "id": "0323ee4a",
   "metadata": {},
   "source": [
    "***"
   ]
  },
  {
   "cell_type": "markdown",
   "id": "8302f676",
   "metadata": {},
   "source": [
    "***"
   ]
  },
  {
   "cell_type": "markdown",
   "id": "91d9ada2",
   "metadata": {},
   "source": [
    "### Moderate"
   ]
  },
  {
   "cell_type": "code",
   "execution_count": 2,
   "id": "334bee4c",
   "metadata": {},
   "outputs": [],
   "source": [
    "path = '../data/df_domains_left_right.tsv'\n",
    "\n",
    "df_liberal_conservative_domains = pd.read_csv(path, sep='\\t', error_bad_lines=False)"
   ]
  },
  {
   "cell_type": "code",
   "execution_count": 3,
   "id": "f109882b",
   "metadata": {},
   "outputs": [
    {
     "name": "stdout",
     "output_type": "stream",
     "text": [
      "Shape:  (1589, 5)\n"
     ]
    },
    {
     "data": {
      "text/html": [
       "<div>\n",
       "<style scoped>\n",
       "    .dataframe tbody tr th:only-of-type {\n",
       "        vertical-align: middle;\n",
       "    }\n",
       "\n",
       "    .dataframe tbody tr th {\n",
       "        vertical-align: top;\n",
       "    }\n",
       "\n",
       "    .dataframe thead th {\n",
       "        text-align: right;\n",
       "    }\n",
       "</style>\n",
       "<table border=\"1\" class=\"dataframe\">\n",
       "  <thead>\n",
       "    <tr style=\"text-align: right;\">\n",
       "      <th></th>\n",
       "      <th>domain</th>\n",
       "      <th>mediabias_leftcenterbias</th>\n",
       "      <th>mediabias_leftbias</th>\n",
       "      <th>mediabias_rightcenterbias</th>\n",
       "      <th>mediabias_rightbias</th>\n",
       "    </tr>\n",
       "  </thead>\n",
       "  <tbody>\n",
       "    <tr>\n",
       "      <th>0</th>\n",
       "      <td>604now.com</td>\n",
       "      <td>1.0</td>\n",
       "      <td>0.0</td>\n",
       "      <td>0.0</td>\n",
       "      <td>0.0</td>\n",
       "    </tr>\n",
       "    <tr>\n",
       "      <th>1</th>\n",
       "      <td>972mag.com</td>\n",
       "      <td>1.0</td>\n",
       "      <td>0.0</td>\n",
       "      <td>0.0</td>\n",
       "      <td>0.0</td>\n",
       "    </tr>\n",
       "    <tr>\n",
       "      <th>2</th>\n",
       "      <td>Augustachronicle.com</td>\n",
       "      <td>1.0</td>\n",
       "      <td>0.0</td>\n",
       "      <td>0.0</td>\n",
       "      <td>0.0</td>\n",
       "    </tr>\n",
       "    <tr>\n",
       "      <th>3</th>\n",
       "      <td>Boston.com</td>\n",
       "      <td>1.0</td>\n",
       "      <td>0.0</td>\n",
       "      <td>0.0</td>\n",
       "      <td>0.0</td>\n",
       "    </tr>\n",
       "    <tr>\n",
       "      <th>4</th>\n",
       "      <td>Censor.NET</td>\n",
       "      <td>1.0</td>\n",
       "      <td>0.0</td>\n",
       "      <td>0.0</td>\n",
       "      <td>0.0</td>\n",
       "    </tr>\n",
       "  </tbody>\n",
       "</table>\n",
       "</div>"
      ],
      "text/plain": [
       "                 domain  mediabias_leftcenterbias  mediabias_leftbias  \\\n",
       "0            604now.com                       1.0                 0.0   \n",
       "1            972mag.com                       1.0                 0.0   \n",
       "2  Augustachronicle.com                       1.0                 0.0   \n",
       "3            Boston.com                       1.0                 0.0   \n",
       "4            Censor.NET                       1.0                 0.0   \n",
       "\n",
       "   mediabias_rightcenterbias  mediabias_rightbias  \n",
       "0                        0.0                  0.0  \n",
       "1                        0.0                  0.0  \n",
       "2                        0.0                  0.0  \n",
       "3                        0.0                  0.0  \n",
       "4                        0.0                  0.0  "
      ]
     },
     "execution_count": 3,
     "metadata": {},
     "output_type": "execute_result"
    }
   ],
   "source": [
    "print('Shape: ', df_liberal_conservative_domains.shape)\n",
    "df_liberal_conservative_domains.head()"
   ]
  },
  {
   "cell_type": "code",
   "execution_count": 4,
   "id": "312227dc",
   "metadata": {},
   "outputs": [
    {
     "name": "stdout",
     "output_type": "stream",
     "text": [
      "Shape:  (644, 5)\n"
     ]
    },
    {
     "data": {
      "text/html": [
       "<div>\n",
       "<style scoped>\n",
       "    .dataframe tbody tr th:only-of-type {\n",
       "        vertical-align: middle;\n",
       "    }\n",
       "\n",
       "    .dataframe tbody tr th {\n",
       "        vertical-align: top;\n",
       "    }\n",
       "\n",
       "    .dataframe thead th {\n",
       "        text-align: right;\n",
       "    }\n",
       "</style>\n",
       "<table border=\"1\" class=\"dataframe\">\n",
       "  <thead>\n",
       "    <tr style=\"text-align: right;\">\n",
       "      <th></th>\n",
       "      <th>domain</th>\n",
       "      <th>mediabias_leftcenterbias</th>\n",
       "      <th>mediabias_leftbias</th>\n",
       "      <th>mediabias_rightcenterbias</th>\n",
       "      <th>mediabias_rightbias</th>\n",
       "    </tr>\n",
       "  </thead>\n",
       "  <tbody>\n",
       "    <tr>\n",
       "      <th>0</th>\n",
       "      <td>604now.com</td>\n",
       "      <td>1.0</td>\n",
       "      <td>0.0</td>\n",
       "      <td>0.0</td>\n",
       "      <td>0.0</td>\n",
       "    </tr>\n",
       "    <tr>\n",
       "      <th>1</th>\n",
       "      <td>972mag.com</td>\n",
       "      <td>1.0</td>\n",
       "      <td>0.0</td>\n",
       "      <td>0.0</td>\n",
       "      <td>0.0</td>\n",
       "    </tr>\n",
       "    <tr>\n",
       "      <th>2</th>\n",
       "      <td>Augustachronicle.com</td>\n",
       "      <td>1.0</td>\n",
       "      <td>0.0</td>\n",
       "      <td>0.0</td>\n",
       "      <td>0.0</td>\n",
       "    </tr>\n",
       "    <tr>\n",
       "      <th>3</th>\n",
       "      <td>Boston.com</td>\n",
       "      <td>1.0</td>\n",
       "      <td>0.0</td>\n",
       "      <td>0.0</td>\n",
       "      <td>0.0</td>\n",
       "    </tr>\n",
       "    <tr>\n",
       "      <th>4</th>\n",
       "      <td>Censor.NET</td>\n",
       "      <td>1.0</td>\n",
       "      <td>0.0</td>\n",
       "      <td>0.0</td>\n",
       "      <td>0.0</td>\n",
       "    </tr>\n",
       "  </tbody>\n",
       "</table>\n",
       "</div>"
      ],
      "text/plain": [
       "                 domain  mediabias_leftcenterbias  mediabias_leftbias  \\\n",
       "0            604now.com                       1.0                 0.0   \n",
       "1            972mag.com                       1.0                 0.0   \n",
       "2  Augustachronicle.com                       1.0                 0.0   \n",
       "3            Boston.com                       1.0                 0.0   \n",
       "4            Censor.NET                       1.0                 0.0   \n",
       "\n",
       "   mediabias_rightcenterbias  mediabias_rightbias  \n",
       "0                        0.0                  0.0  \n",
       "1                        0.0                  0.0  \n",
       "2                        0.0                  0.0  \n",
       "3                        0.0                  0.0  \n",
       "4                        0.0                  0.0  "
      ]
     },
     "execution_count": 4,
     "metadata": {},
     "output_type": "execute_result"
    }
   ],
   "source": [
    "df_domain_leftcenterbias = df_liberal_conservative_domains[df_liberal_conservative_domains['mediabias_leftcenterbias'] == 1]\n",
    "\n",
    "print('Shape: ', df_domain_leftcenterbias.shape)\n",
    "df_domain_leftcenterbias.head()"
   ]
  },
  {
   "cell_type": "code",
   "execution_count": 5,
   "id": "b1057b99",
   "metadata": {},
   "outputs": [],
   "source": [
    "list_domain_leftcenterbias = df_domain_leftcenterbias.domain.tolist()"
   ]
  },
  {
   "cell_type": "code",
   "execution_count": 6,
   "id": "e73506ee",
   "metadata": {},
   "outputs": [],
   "source": [
    "def get_unique_items(l1):\n",
    "    l1 = np.array(l1)\n",
    "    l1 = np.unique(l1)\n",
    "    l1 = l1.tolist()\n",
    "    \n",
    "    return l1"
   ]
  },
  {
   "cell_type": "code",
   "execution_count": 7,
   "id": "81ff2715",
   "metadata": {},
   "outputs": [
    {
     "data": {
      "text/plain": [
       "644"
      ]
     },
     "execution_count": 7,
     "metadata": {},
     "output_type": "execute_result"
    }
   ],
   "source": [
    "list_domain_leftcenterbias = get_unique_items(list_domain_leftcenterbias)\n",
    "len(list_domain_leftcenterbias)"
   ]
  },
  {
   "cell_type": "code",
   "execution_count": 8,
   "id": "5d4ebde9",
   "metadata": {},
   "outputs": [
    {
     "name": "stdout",
     "output_type": "stream",
     "text": [
      "Shape:  (381, 5)\n"
     ]
    },
    {
     "data": {
      "text/html": [
       "<div>\n",
       "<style scoped>\n",
       "    .dataframe tbody tr th:only-of-type {\n",
       "        vertical-align: middle;\n",
       "    }\n",
       "\n",
       "    .dataframe tbody tr th {\n",
       "        vertical-align: top;\n",
       "    }\n",
       "\n",
       "    .dataframe thead th {\n",
       "        text-align: right;\n",
       "    }\n",
       "</style>\n",
       "<table border=\"1\" class=\"dataframe\">\n",
       "  <thead>\n",
       "    <tr style=\"text-align: right;\">\n",
       "      <th></th>\n",
       "      <th>domain</th>\n",
       "      <th>mediabias_leftcenterbias</th>\n",
       "      <th>mediabias_leftbias</th>\n",
       "      <th>mediabias_rightcenterbias</th>\n",
       "      <th>mediabias_rightbias</th>\n",
       "    </tr>\n",
       "  </thead>\n",
       "  <tbody>\n",
       "    <tr>\n",
       "      <th>954</th>\n",
       "      <td>13wham.com</td>\n",
       "      <td>0.0</td>\n",
       "      <td>0.0</td>\n",
       "      <td>1.0</td>\n",
       "      <td>0.0</td>\n",
       "    </tr>\n",
       "    <tr>\n",
       "      <th>955</th>\n",
       "      <td>19fortyfive.com</td>\n",
       "      <td>0.0</td>\n",
       "      <td>0.0</td>\n",
       "      <td>1.0</td>\n",
       "      <td>0.0</td>\n",
       "    </tr>\n",
       "    <tr>\n",
       "      <th>956</th>\n",
       "      <td>7news.com.au</td>\n",
       "      <td>0.0</td>\n",
       "      <td>0.0</td>\n",
       "      <td>1.0</td>\n",
       "      <td>0.0</td>\n",
       "    </tr>\n",
       "    <tr>\n",
       "      <th>957</th>\n",
       "      <td>9news.com.au</td>\n",
       "      <td>0.0</td>\n",
       "      <td>0.0</td>\n",
       "      <td>1.0</td>\n",
       "      <td>0.0</td>\n",
       "    </tr>\n",
       "    <tr>\n",
       "      <th>958</th>\n",
       "      <td>Deutschland.de</td>\n",
       "      <td>0.0</td>\n",
       "      <td>0.0</td>\n",
       "      <td>1.0</td>\n",
       "      <td>0.0</td>\n",
       "    </tr>\n",
       "  </tbody>\n",
       "</table>\n",
       "</div>"
      ],
      "text/plain": [
       "              domain  mediabias_leftcenterbias  mediabias_leftbias  \\\n",
       "954       13wham.com                       0.0                 0.0   \n",
       "955  19fortyfive.com                       0.0                 0.0   \n",
       "956     7news.com.au                       0.0                 0.0   \n",
       "957     9news.com.au                       0.0                 0.0   \n",
       "958   Deutschland.de                       0.0                 0.0   \n",
       "\n",
       "     mediabias_rightcenterbias  mediabias_rightbias  \n",
       "954                        1.0                  0.0  \n",
       "955                        1.0                  0.0  \n",
       "956                        1.0                  0.0  \n",
       "957                        1.0                  0.0  \n",
       "958                        1.0                  0.0  "
      ]
     },
     "execution_count": 8,
     "metadata": {},
     "output_type": "execute_result"
    }
   ],
   "source": [
    "df_domain_rightcenterbias = df_liberal_conservative_domains[df_liberal_conservative_domains['mediabias_rightcenterbias'] == 1]\n",
    "\n",
    "print('Shape: ', df_domain_rightcenterbias.shape)\n",
    "df_domain_rightcenterbias.head()"
   ]
  },
  {
   "cell_type": "markdown",
   "id": "1c291278",
   "metadata": {},
   "source": [
    "***"
   ]
  },
  {
   "cell_type": "code",
   "execution_count": 9,
   "id": "3b7157e7",
   "metadata": {},
   "outputs": [
    {
     "data": {
      "text/plain": [
       "381"
      ]
     },
     "execution_count": 9,
     "metadata": {},
     "output_type": "execute_result"
    }
   ],
   "source": [
    "list_domain_rightcenterbias = df_domain_rightcenterbias.domain.tolist()\n",
    "\n",
    "list_domain_rightcenterbias = get_unique_items(list_domain_rightcenterbias)\n",
    "len(list_domain_rightcenterbias)"
   ]
  },
  {
   "cell_type": "code",
   "execution_count": 10,
   "id": "7d3f5484",
   "metadata": {},
   "outputs": [
    {
     "data": {
      "text/plain": [
       "1025"
      ]
     },
     "execution_count": 10,
     "metadata": {},
     "output_type": "execute_result"
    }
   ],
   "source": [
    "list_moderat_domains = []\n",
    "\n",
    "list_moderat_domains.extend(list_domain_rightcenterbias)\n",
    "list_moderat_domains.extend(list_domain_leftcenterbias)\n",
    "\n",
    "list_moderat_domains = get_unique_items(list_moderat_domains)\n",
    "len(list_moderat_domains)"
   ]
  },
  {
   "cell_type": "markdown",
   "id": "ba157f46",
   "metadata": {},
   "source": [
    "***"
   ]
  },
  {
   "cell_type": "markdown",
   "id": "058e9d66",
   "metadata": {},
   "source": [
    "## Hardline"
   ]
  },
  {
   "cell_type": "code",
   "execution_count": 11,
   "id": "56ec1541",
   "metadata": {},
   "outputs": [
    {
     "name": "stdout",
     "output_type": "stream",
     "text": [
      "Shape:  (310, 5)\n"
     ]
    },
    {
     "data": {
      "text/html": [
       "<div>\n",
       "<style scoped>\n",
       "    .dataframe tbody tr th:only-of-type {\n",
       "        vertical-align: middle;\n",
       "    }\n",
       "\n",
       "    .dataframe tbody tr th {\n",
       "        vertical-align: top;\n",
       "    }\n",
       "\n",
       "    .dataframe thead th {\n",
       "        text-align: right;\n",
       "    }\n",
       "</style>\n",
       "<table border=\"1\" class=\"dataframe\">\n",
       "  <thead>\n",
       "    <tr style=\"text-align: right;\">\n",
       "      <th></th>\n",
       "      <th>domain</th>\n",
       "      <th>mediabias_leftcenterbias</th>\n",
       "      <th>mediabias_leftbias</th>\n",
       "      <th>mediabias_rightcenterbias</th>\n",
       "      <th>mediabias_rightbias</th>\n",
       "    </tr>\n",
       "  </thead>\n",
       "  <tbody>\n",
       "    <tr>\n",
       "      <th>644</th>\n",
       "      <td>19thnews.org</td>\n",
       "      <td>0.0</td>\n",
       "      <td>1.0</td>\n",
       "      <td>0.0</td>\n",
       "      <td>0.0</td>\n",
       "    </tr>\n",
       "    <tr>\n",
       "      <th>645</th>\n",
       "      <td>Accountable.US</td>\n",
       "      <td>0.0</td>\n",
       "      <td>1.0</td>\n",
       "      <td>0.0</td>\n",
       "      <td>0.0</td>\n",
       "    </tr>\n",
       "    <tr>\n",
       "      <th>646</th>\n",
       "      <td>Brut.Media</td>\n",
       "      <td>0.0</td>\n",
       "      <td>1.0</td>\n",
       "      <td>0.0</td>\n",
       "      <td>0.0</td>\n",
       "    </tr>\n",
       "    <tr>\n",
       "      <th>647</th>\n",
       "      <td>JoeBiden.com</td>\n",
       "      <td>0.0</td>\n",
       "      <td>1.0</td>\n",
       "      <td>0.0</td>\n",
       "      <td>0.0</td>\n",
       "    </tr>\n",
       "    <tr>\n",
       "      <th>648</th>\n",
       "      <td>Them.us</td>\n",
       "      <td>0.0</td>\n",
       "      <td>1.0</td>\n",
       "      <td>0.0</td>\n",
       "      <td>0.0</td>\n",
       "    </tr>\n",
       "  </tbody>\n",
       "</table>\n",
       "</div>"
      ],
      "text/plain": [
       "             domain  mediabias_leftcenterbias  mediabias_leftbias  \\\n",
       "644    19thnews.org                       0.0                 1.0   \n",
       "645  Accountable.US                       0.0                 1.0   \n",
       "646      Brut.Media                       0.0                 1.0   \n",
       "647    JoeBiden.com                       0.0                 1.0   \n",
       "648         Them.us                       0.0                 1.0   \n",
       "\n",
       "     mediabias_rightcenterbias  mediabias_rightbias  \n",
       "644                        0.0                  0.0  \n",
       "645                        0.0                  0.0  \n",
       "646                        0.0                  0.0  \n",
       "647                        0.0                  0.0  \n",
       "648                        0.0                  0.0  "
      ]
     },
     "execution_count": 11,
     "metadata": {},
     "output_type": "execute_result"
    }
   ],
   "source": [
    "df_domain_leftbias = df_liberal_conservative_domains[df_liberal_conservative_domains['mediabias_leftbias'] == 1]\n",
    "\n",
    "print('Shape: ', df_domain_leftbias.shape)\n",
    "df_domain_leftbias.head()"
   ]
  },
  {
   "cell_type": "code",
   "execution_count": 12,
   "id": "9b5c6b27",
   "metadata": {},
   "outputs": [
    {
     "data": {
      "text/plain": [
       "310"
      ]
     },
     "execution_count": 12,
     "metadata": {},
     "output_type": "execute_result"
    }
   ],
   "source": [
    "list_domain_leftbias = df_domain_leftbias.domain.tolist()\n",
    "\n",
    "list_domain_leftbias = get_unique_items(list_domain_leftbias)\n",
    "len(list_domain_leftbias)"
   ]
  },
  {
   "cell_type": "code",
   "execution_count": 13,
   "id": "09b8f28d",
   "metadata": {},
   "outputs": [
    {
     "name": "stdout",
     "output_type": "stream",
     "text": [
      "Shape:  (254, 5)\n"
     ]
    },
    {
     "data": {
      "text/html": [
       "<div>\n",
       "<style scoped>\n",
       "    .dataframe tbody tr th:only-of-type {\n",
       "        vertical-align: middle;\n",
       "    }\n",
       "\n",
       "    .dataframe tbody tr th {\n",
       "        vertical-align: top;\n",
       "    }\n",
       "\n",
       "    .dataframe thead th {\n",
       "        text-align: right;\n",
       "    }\n",
       "</style>\n",
       "<table border=\"1\" class=\"dataframe\">\n",
       "  <thead>\n",
       "    <tr style=\"text-align: right;\">\n",
       "      <th></th>\n",
       "      <th>domain</th>\n",
       "      <th>mediabias_leftcenterbias</th>\n",
       "      <th>mediabias_leftbias</th>\n",
       "      <th>mediabias_rightcenterbias</th>\n",
       "      <th>mediabias_rightbias</th>\n",
       "    </tr>\n",
       "  </thead>\n",
       "  <tbody>\n",
       "    <tr>\n",
       "      <th>1335</th>\n",
       "      <td>2ndvote.com</td>\n",
       "      <td>0.0</td>\n",
       "      <td>0.0</td>\n",
       "      <td>0.0</td>\n",
       "      <td>1.0</td>\n",
       "    </tr>\n",
       "    <tr>\n",
       "      <th>1336</th>\n",
       "      <td>Abort73.com</td>\n",
       "      <td>0.0</td>\n",
       "      <td>0.0</td>\n",
       "      <td>0.0</td>\n",
       "      <td>1.0</td>\n",
       "    </tr>\n",
       "    <tr>\n",
       "      <th>1337</th>\n",
       "      <td>Aish.com</td>\n",
       "      <td>0.0</td>\n",
       "      <td>0.0</td>\n",
       "      <td>0.0</td>\n",
       "      <td>1.0</td>\n",
       "    </tr>\n",
       "    <tr>\n",
       "      <th>1338</th>\n",
       "      <td>AsianNews.it</td>\n",
       "      <td>0.0</td>\n",
       "      <td>0.0</td>\n",
       "      <td>0.0</td>\n",
       "      <td>1.0</td>\n",
       "    </tr>\n",
       "    <tr>\n",
       "      <th>1339</th>\n",
       "      <td>CAGW.org</td>\n",
       "      <td>0.0</td>\n",
       "      <td>0.0</td>\n",
       "      <td>0.0</td>\n",
       "      <td>1.0</td>\n",
       "    </tr>\n",
       "  </tbody>\n",
       "</table>\n",
       "</div>"
      ],
      "text/plain": [
       "            domain  mediabias_leftcenterbias  mediabias_leftbias  \\\n",
       "1335   2ndvote.com                       0.0                 0.0   \n",
       "1336   Abort73.com                       0.0                 0.0   \n",
       "1337      Aish.com                       0.0                 0.0   \n",
       "1338  AsianNews.it                       0.0                 0.0   \n",
       "1339      CAGW.org                       0.0                 0.0   \n",
       "\n",
       "      mediabias_rightcenterbias  mediabias_rightbias  \n",
       "1335                        0.0                  1.0  \n",
       "1336                        0.0                  1.0  \n",
       "1337                        0.0                  1.0  \n",
       "1338                        0.0                  1.0  \n",
       "1339                        0.0                  1.0  "
      ]
     },
     "execution_count": 13,
     "metadata": {},
     "output_type": "execute_result"
    }
   ],
   "source": [
    "df_domain_rightbias = df_liberal_conservative_domains[df_liberal_conservative_domains['mediabias_rightbias'] == 1]\n",
    "\n",
    "print('Shape: ', df_domain_rightbias.shape)\n",
    "df_domain_rightbias.head()"
   ]
  },
  {
   "cell_type": "code",
   "execution_count": 14,
   "id": "b3d9071a",
   "metadata": {},
   "outputs": [
    {
     "data": {
      "text/plain": [
       "254"
      ]
     },
     "execution_count": 14,
     "metadata": {},
     "output_type": "execute_result"
    }
   ],
   "source": [
    "list_domain_rightbias = df_domain_rightbias.domain.tolist()\n",
    "\n",
    "list_domain_rightbias = get_unique_items(list_domain_rightbias)\n",
    "len(list_domain_rightbias)"
   ]
  },
  {
   "cell_type": "code",
   "execution_count": 15,
   "id": "4bbe982d",
   "metadata": {},
   "outputs": [
    {
     "data": {
      "text/plain": [
       "564"
      ]
     },
     "execution_count": 15,
     "metadata": {},
     "output_type": "execute_result"
    }
   ],
   "source": [
    "list_hardline_domains = []\n",
    "list_hardline_domains.extend(list_domain_rightbias)\n",
    "list_hardline_domains.extend(list_domain_leftbias)\n",
    "\n",
    "list_hardline_domains = get_unique_items(list_hardline_domains)\n",
    "len(list_hardline_domains)"
   ]
  },
  {
   "cell_type": "markdown",
   "id": "5beae86a",
   "metadata": {},
   "source": [
    "## Polarisierungen berechnen\n",
    "### TweetsCov19\n",
    "### User Polarisation"
   ]
  },
  {
   "cell_type": "markdown",
   "id": "962b82f9",
   "metadata": {},
   "source": [
    "***"
   ]
  },
  {
   "cell_type": "code",
   "execution_count": 81,
   "id": "ce8a2fc4",
   "metadata": {},
   "outputs": [
    {
     "name": "stdout",
     "output_type": "stream",
     "text": [
      "Shape : (9409841, 4)\n"
     ]
    },
    {
     "data": {
      "text/html": [
       "<div>\n",
       "<style scoped>\n",
       "    .dataframe tbody tr th:only-of-type {\n",
       "        vertical-align: middle;\n",
       "    }\n",
       "\n",
       "    .dataframe tbody tr th {\n",
       "        vertical-align: top;\n",
       "    }\n",
       "\n",
       "    .dataframe thead th {\n",
       "        text-align: right;\n",
       "    }\n",
       "</style>\n",
       "<table border=\"1\" class=\"dataframe\">\n",
       "  <thead>\n",
       "    <tr style=\"text-align: right;\">\n",
       "      <th></th>\n",
       "      <th>Tweet_Id</th>\n",
       "      <th>Username</th>\n",
       "      <th>Is_deleted</th>\n",
       "      <th>Domains</th>\n",
       "    </tr>\n",
       "  </thead>\n",
       "  <tbody>\n",
       "    <tr>\n",
       "      <th>0</th>\n",
       "      <td>1178791637348212736</td>\n",
       "      <td>c57d4fb895c5f4a33d2a2b24709f93b5</td>\n",
       "      <td>True</td>\n",
       "      <td>0</td>\n",
       "    </tr>\n",
       "    <tr>\n",
       "      <th>1</th>\n",
       "      <td>1178791641601232896</td>\n",
       "      <td>627f7d4ef584ba33a676a4ebcb861cdb</td>\n",
       "      <td>False</td>\n",
       "      <td>catholicnewsagency.com</td>\n",
       "    </tr>\n",
       "    <tr>\n",
       "      <th>2</th>\n",
       "      <td>1178791643509612547</td>\n",
       "      <td>7966d5716c1c4f33591b17755184e3d6</td>\n",
       "      <td>False</td>\n",
       "      <td>0</td>\n",
       "    </tr>\n",
       "    <tr>\n",
       "      <th>3</th>\n",
       "      <td>1178791644214235137</td>\n",
       "      <td>f17996c036ed4cd981f5448fe00d9ed2</td>\n",
       "      <td>False</td>\n",
       "      <td>0</td>\n",
       "    </tr>\n",
       "    <tr>\n",
       "      <th>4</th>\n",
       "      <td>1178791645371875329</td>\n",
       "      <td>32a54e5f6d8a67de1bffd2e689594dc8</td>\n",
       "      <td>False</td>\n",
       "      <td>0</td>\n",
       "    </tr>\n",
       "  </tbody>\n",
       "</table>\n",
       "</div>"
      ],
      "text/plain": [
       "              Tweet_Id                          Username  Is_deleted  \\\n",
       "0  1178791637348212736  c57d4fb895c5f4a33d2a2b24709f93b5        True   \n",
       "1  1178791641601232896  627f7d4ef584ba33a676a4ebcb861cdb       False   \n",
       "2  1178791643509612547  7966d5716c1c4f33591b17755184e3d6       False   \n",
       "3  1178791644214235137  f17996c036ed4cd981f5448fe00d9ed2       False   \n",
       "4  1178791645371875329  32a54e5f6d8a67de1bffd2e689594dc8       False   \n",
       "\n",
       "                  Domains  \n",
       "0                       0  \n",
       "1  catholicnewsagency.com  \n",
       "2                       0  \n",
       "3                       0  \n",
       "4                       0  "
      ]
     },
     "execution_count": 81,
     "metadata": {},
     "output_type": "execute_result"
    }
   ],
   "source": [
    "path = '../data/tweetscov19_id_isdeleted_domains.tsv'\n",
    "\n",
    "df_tweetscov19 = pd.read_csv(path, sep='\\t', error_bad_lines=False, names=['Tweet_Id', 'Username' , 'Is_deleted', 'Domains'])\n",
    "\n",
    "print('Shape :', df_tweetscov19.shape)\n",
    "df_tweetscov19.head()"
   ]
  },
  {
   "cell_type": "code",
   "execution_count": 82,
   "id": "c652b0b5",
   "metadata": {},
   "outputs": [
    {
     "name": "stdout",
     "output_type": "stream",
     "text": [
      "Shape : (9409841, 3)\n"
     ]
    },
    {
     "data": {
      "text/html": [
       "<div>\n",
       "<style scoped>\n",
       "    .dataframe tbody tr th:only-of-type {\n",
       "        vertical-align: middle;\n",
       "    }\n",
       "\n",
       "    .dataframe tbody tr th {\n",
       "        vertical-align: top;\n",
       "    }\n",
       "\n",
       "    .dataframe thead th {\n",
       "        text-align: right;\n",
       "    }\n",
       "</style>\n",
       "<table border=\"1\" class=\"dataframe\">\n",
       "  <thead>\n",
       "    <tr style=\"text-align: right;\">\n",
       "      <th></th>\n",
       "      <th>Tweet_Id</th>\n",
       "      <th>Username</th>\n",
       "      <th>Timestamp</th>\n",
       "    </tr>\n",
       "  </thead>\n",
       "  <tbody>\n",
       "    <tr>\n",
       "      <th>0</th>\n",
       "      <td>1178791637348212736</td>\n",
       "      <td>c57d4fb895c5f4a33d2a2b24709f93b5</td>\n",
       "      <td>2019-09-30 22:00:01+00:00</td>\n",
       "    </tr>\n",
       "    <tr>\n",
       "      <th>1</th>\n",
       "      <td>1178791641601232896</td>\n",
       "      <td>627f7d4ef584ba33a676a4ebcb861cdb</td>\n",
       "      <td>2019-09-30 22:00:02+00:00</td>\n",
       "    </tr>\n",
       "    <tr>\n",
       "      <th>2</th>\n",
       "      <td>1178791643509612547</td>\n",
       "      <td>7966d5716c1c4f33591b17755184e3d6</td>\n",
       "      <td>2019-09-30 22:00:03+00:00</td>\n",
       "    </tr>\n",
       "    <tr>\n",
       "      <th>3</th>\n",
       "      <td>1178791644214235137</td>\n",
       "      <td>f17996c036ed4cd981f5448fe00d9ed2</td>\n",
       "      <td>2019-09-30 22:00:03+00:00</td>\n",
       "    </tr>\n",
       "    <tr>\n",
       "      <th>4</th>\n",
       "      <td>1178791645371875329</td>\n",
       "      <td>32a54e5f6d8a67de1bffd2e689594dc8</td>\n",
       "      <td>2019-09-30 22:00:03+00:00</td>\n",
       "    </tr>\n",
       "  </tbody>\n",
       "</table>\n",
       "</div>"
      ],
      "text/plain": [
       "              Tweet_Id                          Username  \\\n",
       "0  1178791637348212736  c57d4fb895c5f4a33d2a2b24709f93b5   \n",
       "1  1178791641601232896  627f7d4ef584ba33a676a4ebcb861cdb   \n",
       "2  1178791643509612547  7966d5716c1c4f33591b17755184e3d6   \n",
       "3  1178791644214235137  f17996c036ed4cd981f5448fe00d9ed2   \n",
       "4  1178791645371875329  32a54e5f6d8a67de1bffd2e689594dc8   \n",
       "\n",
       "                   Timestamp  \n",
       "0  2019-09-30 22:00:01+00:00  \n",
       "1  2019-09-30 22:00:02+00:00  \n",
       "2  2019-09-30 22:00:03+00:00  \n",
       "3  2019-09-30 22:00:03+00:00  \n",
       "4  2019-09-30 22:00:03+00:00  "
      ]
     },
     "execution_count": 82,
     "metadata": {},
     "output_type": "execute_result"
    }
   ],
   "source": [
    "path = '../data/tweetsCov19_tweetsid_username_timestamp.tsv'\n",
    "\n",
    "df_tweetscov19_id_user_time = pd.read_csv(path, sep='\\t', error_bad_lines=False, names=['Tweet_Id', 'Username', 'Timestamp'])\n",
    "\n",
    "print('Shape :', df_tweetscov19_id_user_time.shape)\n",
    "df_tweetscov19_id_user_time.head()"
   ]
  },
  {
   "cell_type": "code",
   "execution_count": 83,
   "id": "2776d74d",
   "metadata": {},
   "outputs": [
    {
     "data": {
      "text/html": [
       "<div>\n",
       "<style scoped>\n",
       "    .dataframe tbody tr th:only-of-type {\n",
       "        vertical-align: middle;\n",
       "    }\n",
       "\n",
       "    .dataframe tbody tr th {\n",
       "        vertical-align: top;\n",
       "    }\n",
       "\n",
       "    .dataframe thead th {\n",
       "        text-align: right;\n",
       "    }\n",
       "</style>\n",
       "<table border=\"1\" class=\"dataframe\">\n",
       "  <thead>\n",
       "    <tr style=\"text-align: right;\">\n",
       "      <th></th>\n",
       "      <th>Tweet_Id</th>\n",
       "      <th>Username</th>\n",
       "      <th>Is_deleted</th>\n",
       "      <th>Domains</th>\n",
       "      <th>Timestamp</th>\n",
       "    </tr>\n",
       "  </thead>\n",
       "  <tbody>\n",
       "    <tr>\n",
       "      <th>0</th>\n",
       "      <td>1178791637348212736</td>\n",
       "      <td>c57d4fb895c5f4a33d2a2b24709f93b5</td>\n",
       "      <td>True</td>\n",
       "      <td>0</td>\n",
       "      <td>2019-09-30 22:00:01+00:00</td>\n",
       "    </tr>\n",
       "  </tbody>\n",
       "</table>\n",
       "</div>"
      ],
      "text/plain": [
       "              Tweet_Id                          Username  Is_deleted Domains  \\\n",
       "0  1178791637348212736  c57d4fb895c5f4a33d2a2b24709f93b5        True       0   \n",
       "\n",
       "                   Timestamp  \n",
       "0  2019-09-30 22:00:01+00:00  "
      ]
     },
     "execution_count": 83,
     "metadata": {},
     "output_type": "execute_result"
    }
   ],
   "source": [
    "df_tweetscov19_id_user_time = df_tweetscov19_id_user_time[['Tweet_Id', 'Timestamp']]\n",
    "df_tweetscov19 = pd.merge(df_tweetscov19, df_tweetscov19_id_user_time, how='inner', on='Tweet_Id')\n",
    "df_tweetscov19.head(1)"
   ]
  },
  {
   "cell_type": "code",
   "execution_count": 84,
   "id": "872ec7a1",
   "metadata": {},
   "outputs": [
    {
     "data": {
      "text/plain": [
       "(9409841, 5)"
      ]
     },
     "execution_count": 84,
     "metadata": {},
     "output_type": "execute_result"
    }
   ],
   "source": [
    "df_tweetscov19.shape"
   ]
  },
  {
   "cell_type": "code",
   "execution_count": 16,
   "id": "305595b5",
   "metadata": {},
   "outputs": [],
   "source": [
    "def get_tweets_per_mounth(df):\n",
    "    \n",
    "    october = df[df['Timestamp'] < '2019-11-01 00:00:00+00:00']\n",
    "    print('Number of Tweets in October: ', october.shape[0])\n",
    "    \n",
    "    start_date = '2019-11-01 00:00:00+00:00'\n",
    "    end_date = '2019-12-01 00:00:00+00:00'\n",
    "    november = df[(df['Timestamp'] >= start_date) & (df['Timestamp'] < end_date) ]\n",
    "    print('Number of Tweets in November: ', november.shape[0])\n",
    "    \n",
    "    start_date = '2019-12-01 00:00:00+00:00'\n",
    "    end_date = '2020-01-01 00:00:00+00:00'\n",
    "    december = df[(df['Timestamp'] >= start_date) & (df['Timestamp'] < end_date) ]\n",
    "    print('Number of Tweets in November: ', december.shape[0])\n",
    "    \n",
    "    start_date = '2020-01-01 00:00:00+00:00'\n",
    "    end_date = '2020-02-01 00:00:00+00:00'\n",
    "    januar = df[(df['Timestamp'] >= start_date) & (df['Timestamp'] < end_date) ]\n",
    "    print('Number of Tweets in Januar: ', januar.shape[0])\n",
    "\n",
    "    start_date = '2020-02-01 00:00:00+00:00'\n",
    "    end_date = '2020-03-01 00:00:00+00:00'\n",
    "    februar = df[df['Timestamp'] >= start_date]\n",
    "    februar = februar[februar['Timestamp'] < end_date]\n",
    "    print('Number of Tweets in February: ', februar.shape[0])\n",
    "    \n",
    "    start_date = '2020-03-01 00:00:00+00:00'\n",
    "    end_date = '2020-04-01 00:00:00+00:00'\n",
    "    march = df[df['Timestamp'] >= start_date]\n",
    "    march = df[df['Timestamp'] < end_date ]\n",
    "    print('Number of Tweets in March: ', march.shape[0])\n",
    "\n",
    "    start_date = '2020-04-01 00:00:00+00:00'\n",
    "    end_date = '2020-05-01 00:00:00+00:00'\n",
    "    april = df[df['Timestamp'] >= start_date]\n",
    "    april = april[april['Timestamp'] < end_date ]\n",
    "    print('Number of Tweets in April: ', april.shape[0])\n",
    "\n",
    "    start_date = '2020-05-01 00:00:00+00:00'\n",
    "    #end_date = '2020-05-01 00:00:00+00:00'\n",
    "    may = df[df['Timestamp'] >= start_date ]\n",
    "    print('Number of Tweets in May: ', may.shape[0])\n",
    "\n",
    "\n",
    "    return october, november, december, januar, februar, march, april, may"
   ]
  },
  {
   "cell_type": "code",
   "execution_count": 17,
   "id": "705c23d9",
   "metadata": {},
   "outputs": [],
   "source": [
    "def get_number_of_moderate_domains(domains):\n",
    "    domains_list = domains.split()\n",
    "    score = 0\n",
    "    for i in range(0, len(domains_list)):\n",
    "        \n",
    "        #d = tldextract.extract(domains_list[i])\n",
    "        #d = d.domain\n",
    "        \n",
    "        d = domains_list[i]\n",
    "        \n",
    "        if d in list_moderat_domains:\n",
    "            score -=  1\n",
    "        \n",
    "    return score"
   ]
  },
  {
   "cell_type": "code",
   "execution_count": 18,
   "id": "0c345741",
   "metadata": {},
   "outputs": [],
   "source": [
    "def get_number_of_hardline_domains(domains):\n",
    "    domains_list = domains.split()\n",
    "    score = 0\n",
    "    for i in range(0, len(domains_list)):\n",
    "        \n",
    "        #d = tldextract.extract(domains_list[i])\n",
    "        #d = d.domain\n",
    "       \n",
    "        d = domains_list[i]\n",
    "        \n",
    "        if d in list_hardline_domains:\n",
    "            score +=  1\n",
    "        \n",
    "    return score"
   ]
  },
  {
   "cell_type": "code",
   "execution_count": 19,
   "id": "25a8416f",
   "metadata": {},
   "outputs": [],
   "source": [
    "def get_polarized_users(df, dim1, dim2, user_polarisation, mounth):\n",
    "    \n",
    "    df.Domains = df.Domains.astype(str)\n",
    "\n",
    "    df[dim1] = df.apply(lambda row: get_number_of_moderate_domains(row.Domains) if (row.Domains != '0') else 0, axis=1)\n",
    "    num_domains_dim1 = df[df[dim1] < 0].shape[0]\n",
    "    #print(f\"{dim1} : {num_domains_dim1}\")\n",
    "    \n",
    "    df[dim2] = df.apply(lambda row: get_number_of_hardline_domains(row.Domains) if (row.Domains != '0') else 0, axis=1)\n",
    "    num_domains_dim2 = df[df[dim2] > 0].shape[0]\n",
    "    #print(f'{dim2}: {num_domains_dim2}')\n",
    "    \n",
    "    df_unique_users = df.groupby('Username')[ dim1, dim2].sum()\n",
    "    #print(f'Number of unique users in Dataframe: {df_unique_users.shape[0]}')\n",
    "    \n",
    "    df_unique_users['count_polarized_domains'] = df_unique_users.apply(lambda row: ((row[dim2] - row[dim1])), axis=1)\n",
    "    df_unique_users[user_polarisation] = df_unique_users.apply(lambda row: (row[dim1] + row[dim2]) / row.count_polarized_domains if row.count_polarized_domains != 0 else 0, axis=1)\n",
    "    \n",
    "    ########################### Prints ########################\n",
    "    \n",
    "    number_of_unique_users = df_unique_users[df_unique_users.count_polarized_domains>0].shape[0]\n",
    "    #print('Number of recognised polarized users: ', number_of_unique_users)\n",
    "    print(f'{mounth}: ', '{0:.3g}'.format(df_unique_users[df_unique_users['count_polarized_domains'] > 0][polarisation].mean()))\n",
    "    return df, df_unique_users\n",
    "    "
   ]
  },
  {
   "cell_type": "markdown",
   "id": "a791527d",
   "metadata": {},
   "source": [
    "## Spliting dataframe"
   ]
  },
  {
   "cell_type": "code",
   "execution_count": 89,
   "id": "a8d8e68f",
   "metadata": {},
   "outputs": [
    {
     "name": "stdout",
     "output_type": "stream",
     "text": [
      "Number of Tweets in October:  582828\n",
      "Number of Tweets in November:  543328\n",
      "Number of Tweets in November:  549828\n",
      "Number of Tweets in Januar:  618367\n",
      "Number of Tweets in February:  572733\n",
      "Number of Tweets in March:  5290424\n",
      "Number of Tweets in April:  2321998\n",
      "Number of Tweets in May:  1797419\n"
     ]
    }
   ],
   "source": [
    "october, november, december, januar, februar, march, april, may = get_tweets_per_mounth(df_tweetscov19 )"
   ]
  },
  {
   "cell_type": "markdown",
   "id": "cdeb0905",
   "metadata": {},
   "source": [
    "## User polarisation per mounth"
   ]
  },
  {
   "cell_type": "code",
   "execution_count": 90,
   "id": "b3dec20b",
   "metadata": {},
   "outputs": [
    {
     "name": "stdout",
     "output_type": "stream",
     "text": [
      "October:  -0.484\n",
      "November:  -0.53\n",
      "December:  -0.513\n",
      "Januar:  -0.528\n",
      "Februar:  -0.52\n",
      "March:  -0.525\n",
      "April:  -0.542\n",
      "May:  -0.538\n"
     ]
    }
   ],
   "source": [
    "polarisation = 'user_moderacy_polarisation'\n",
    "\n",
    "df_tweets_of_october, october = get_polarized_users(october, 'Number_of_moderate_domains', 'Number_of_hardline_domains', polarisation, 'October')\n",
    "df_tweets_of_november, november = get_polarized_users(november, 'Number_of_moderate_domains', 'Number_of_hardline_domains', polarisation, 'November')\n",
    "df_tweets_of_december, december = get_polarized_users(december, 'Number_of_moderate_domains', 'Number_of_hardline_domains', polarisation, 'December')\n",
    "df_tweets_of_januar, januar = get_polarized_users(januar, 'Number_of_moderate_domains', 'Number_of_hardline_domains', polarisation, 'Januar')\n",
    "df_tweets_of_februar, februar = get_polarized_users(februar, 'Number_of_moderate_domains', 'Number_of_hardline_domains', polarisation, 'Februar')\n",
    "df_tweets_of_march, march = get_polarized_users(march, 'Number_of_moderate_domains', 'Number_of_hardline_domains', polarisation, 'March')\n",
    "df_tweets_of_april, april = get_polarized_users(april, 'Number_of_moderate_domains', 'Number_of_hardline_domains', polarisation, 'April')\n",
    "df_tweets_of_may, may = get_polarized_users(may, 'Number_of_moderate_domains', 'Number_of_hardline_domains', polarisation, 'May')\n"
   ]
  },
  {
   "cell_type": "markdown",
   "id": "a6701dc5",
   "metadata": {},
   "source": [
    "***"
   ]
  },
  {
   "cell_type": "markdown",
   "id": "fb8b285a",
   "metadata": {},
   "source": [
    "## Polarisierungen berechnen\n",
    "### TweetsKB\n",
    "### User polarisation"
   ]
  },
  {
   "cell_type": "markdown",
   "id": "f1127fb8",
   "metadata": {},
   "source": [
    "***"
   ]
  },
  {
   "cell_type": "code",
   "execution_count": 20,
   "id": "78c338da",
   "metadata": {},
   "outputs": [
    {
     "name": "stdout",
     "output_type": "stream",
     "text": [
      "Shape : (9409841, 4)\n"
     ]
    },
    {
     "data": {
      "text/html": [
       "<div>\n",
       "<style scoped>\n",
       "    .dataframe tbody tr th:only-of-type {\n",
       "        vertical-align: middle;\n",
       "    }\n",
       "\n",
       "    .dataframe tbody tr th {\n",
       "        vertical-align: top;\n",
       "    }\n",
       "\n",
       "    .dataframe thead th {\n",
       "        text-align: right;\n",
       "    }\n",
       "</style>\n",
       "<table border=\"1\" class=\"dataframe\">\n",
       "  <thead>\n",
       "    <tr style=\"text-align: right;\">\n",
       "      <th></th>\n",
       "      <th>Tweet_Id</th>\n",
       "      <th>Username</th>\n",
       "      <th>Is_deleted</th>\n",
       "      <th>Domains</th>\n",
       "    </tr>\n",
       "  </thead>\n",
       "  <tbody>\n",
       "    <tr>\n",
       "      <th>0</th>\n",
       "      <td>1178791636039589889</td>\n",
       "      <td>DCComics</td>\n",
       "      <td>False</td>\n",
       "      <td>dcuniverseinfinite.com</td>\n",
       "    </tr>\n",
       "    <tr>\n",
       "      <th>1</th>\n",
       "      <td>1178791641265639424</td>\n",
       "      <td>seanberdyz</td>\n",
       "      <td>True</td>\n",
       "      <td>carrd.co</td>\n",
       "    </tr>\n",
       "    <tr>\n",
       "      <th>2</th>\n",
       "      <td>1178791640573579264</td>\n",
       "      <td>AnArtistAtBirth</td>\n",
       "      <td>True</td>\n",
       "      <td>0</td>\n",
       "    </tr>\n",
       "    <tr>\n",
       "      <th>3</th>\n",
       "      <td>1178791644797255680</td>\n",
       "      <td>lagosboygang</td>\n",
       "      <td>True</td>\n",
       "      <td>0</td>\n",
       "    </tr>\n",
       "    <tr>\n",
       "      <th>4</th>\n",
       "      <td>1178791648056217600</td>\n",
       "      <td>Phenom_Hoops</td>\n",
       "      <td>False</td>\n",
       "      <td>phenomhoopreport.com</td>\n",
       "    </tr>\n",
       "  </tbody>\n",
       "</table>\n",
       "</div>"
      ],
      "text/plain": [
       "              Tweet_Id         Username  Is_deleted                 Domains\n",
       "0  1178791636039589889         DCComics       False  dcuniverseinfinite.com\n",
       "1  1178791641265639424       seanberdyz        True                carrd.co\n",
       "2  1178791640573579264  AnArtistAtBirth        True                       0\n",
       "3  1178791644797255680     lagosboygang        True                       0\n",
       "4  1178791648056217600     Phenom_Hoops       False    phenomhoopreport.com"
      ]
     },
     "execution_count": 20,
     "metadata": {},
     "output_type": "execute_result"
    }
   ],
   "source": [
    "pfad_tsv3 = '../data/tweetskb_id_isdeleted_domains.tsv'\n",
    "\n",
    "df_tweetskb = pd.read_csv(pfad_tsv3, sep='\\t', error_bad_lines=False, names=['Tweet_Id', 'Username' , 'Is_deleted', 'Domains'])\n",
    "pd.options.display.max_columns = None\n",
    "print('Shape :', df_tweetskb.shape)\n",
    "df_tweetskb.head()"
   ]
  },
  {
   "cell_type": "code",
   "execution_count": 21,
   "id": "a3f59a17",
   "metadata": {},
   "outputs": [
    {
     "name": "stdout",
     "output_type": "stream",
     "text": [
      "Shape : (9409841, 3)\n"
     ]
    },
    {
     "data": {
      "text/html": [
       "<div>\n",
       "<style scoped>\n",
       "    .dataframe tbody tr th:only-of-type {\n",
       "        vertical-align: middle;\n",
       "    }\n",
       "\n",
       "    .dataframe tbody tr th {\n",
       "        vertical-align: top;\n",
       "    }\n",
       "\n",
       "    .dataframe thead th {\n",
       "        text-align: right;\n",
       "    }\n",
       "</style>\n",
       "<table border=\"1\" class=\"dataframe\">\n",
       "  <thead>\n",
       "    <tr style=\"text-align: right;\">\n",
       "      <th></th>\n",
       "      <th>Tweet_Id</th>\n",
       "      <th>Username</th>\n",
       "      <th>Timestamp</th>\n",
       "    </tr>\n",
       "  </thead>\n",
       "  <tbody>\n",
       "    <tr>\n",
       "      <th>0</th>\n",
       "      <td>1178791636039589889</td>\n",
       "      <td>DCComics</td>\n",
       "      <td>2019-09-30 22:00:01+00:00</td>\n",
       "    </tr>\n",
       "    <tr>\n",
       "      <th>1</th>\n",
       "      <td>1178791641265639424</td>\n",
       "      <td>seanberdyz</td>\n",
       "      <td>2019-09-30 22:00:02+00:00</td>\n",
       "    </tr>\n",
       "    <tr>\n",
       "      <th>2</th>\n",
       "      <td>1178791640573579264</td>\n",
       "      <td>AnArtistAtBirth</td>\n",
       "      <td>2019-09-30 22:00:02+00:00</td>\n",
       "    </tr>\n",
       "    <tr>\n",
       "      <th>3</th>\n",
       "      <td>1178791644797255680</td>\n",
       "      <td>lagosboygang</td>\n",
       "      <td>2019-09-30 22:00:03+00:00</td>\n",
       "    </tr>\n",
       "    <tr>\n",
       "      <th>4</th>\n",
       "      <td>1178791648056217600</td>\n",
       "      <td>Phenom_Hoops</td>\n",
       "      <td>2019-09-30 22:00:04+00:00</td>\n",
       "    </tr>\n",
       "  </tbody>\n",
       "</table>\n",
       "</div>"
      ],
      "text/plain": [
       "              Tweet_Id         Username                  Timestamp\n",
       "0  1178791636039589889         DCComics  2019-09-30 22:00:01+00:00\n",
       "1  1178791641265639424       seanberdyz  2019-09-30 22:00:02+00:00\n",
       "2  1178791640573579264  AnArtistAtBirth  2019-09-30 22:00:02+00:00\n",
       "3  1178791644797255680     lagosboygang  2019-09-30 22:00:03+00:00\n",
       "4  1178791648056217600     Phenom_Hoops  2019-09-30 22:00:04+00:00"
      ]
     },
     "execution_count": 21,
     "metadata": {},
     "output_type": "execute_result"
    }
   ],
   "source": [
    "path = '../data/df_tweetskb_tweetsid_username_timestamp.tsv'\n",
    "\n",
    "df_tweetskb_id_user_time = pd.read_csv(path, sep='\\t', dtype={'Tweet_Id':'object'}, error_bad_lines=False, names=['Tweet_Id', 'Username', 'Timestamp'])\n",
    "\n",
    "print('Shape :', df_tweetskb_id_user_time.shape)\n",
    "df_tweetskb_id_user_time.head()"
   ]
  },
  {
   "cell_type": "code",
   "execution_count": 22,
   "id": "dec496dd",
   "metadata": {},
   "outputs": [
    {
     "data": {
      "text/html": [
       "<div>\n",
       "<style scoped>\n",
       "    .dataframe tbody tr th:only-of-type {\n",
       "        vertical-align: middle;\n",
       "    }\n",
       "\n",
       "    .dataframe tbody tr th {\n",
       "        vertical-align: top;\n",
       "    }\n",
       "\n",
       "    .dataframe thead th {\n",
       "        text-align: right;\n",
       "    }\n",
       "</style>\n",
       "<table border=\"1\" class=\"dataframe\">\n",
       "  <thead>\n",
       "    <tr style=\"text-align: right;\">\n",
       "      <th></th>\n",
       "      <th>Tweet_Id</th>\n",
       "      <th>Username</th>\n",
       "      <th>Is_deleted</th>\n",
       "      <th>Domains</th>\n",
       "      <th>Timestamp</th>\n",
       "    </tr>\n",
       "  </thead>\n",
       "  <tbody>\n",
       "    <tr>\n",
       "      <th>0</th>\n",
       "      <td>1178791636039589889</td>\n",
       "      <td>DCComics</td>\n",
       "      <td>False</td>\n",
       "      <td>dcuniverseinfinite.com</td>\n",
       "      <td>2019-09-30 22:00:01+00:00</td>\n",
       "    </tr>\n",
       "  </tbody>\n",
       "</table>\n",
       "</div>"
      ],
      "text/plain": [
       "              Tweet_Id  Username  Is_deleted                 Domains  \\\n",
       "0  1178791636039589889  DCComics       False  dcuniverseinfinite.com   \n",
       "\n",
       "                   Timestamp  \n",
       "0  2019-09-30 22:00:01+00:00  "
      ]
     },
     "execution_count": 22,
     "metadata": {},
     "output_type": "execute_result"
    }
   ],
   "source": [
    "df_tweetskb_id_user_time = df_tweetskb_id_user_time[['Tweet_Id', 'Timestamp']]\n",
    "\n",
    "df_tweetskb.Tweet_Id = df_tweetskb.Tweet_Id.astype(str) \n",
    "df_tweetskb_id_user_time.Tweet_Id = df_tweetskb_id_user_time.Tweet_Id.astype(str) \n",
    "\n",
    "df_tweetskb = pd.merge(df_tweetskb, df_tweetskb_id_user_time, how='inner', on='Tweet_Id')\n",
    "df_tweetskb.head(1)"
   ]
  },
  {
   "cell_type": "markdown",
   "id": "9597c540",
   "metadata": {},
   "source": [
    "## Spliting dataframe"
   ]
  },
  {
   "cell_type": "code",
   "execution_count": 24,
   "id": "c6fcbe20",
   "metadata": {},
   "outputs": [
    {
     "name": "stdout",
     "output_type": "stream",
     "text": [
      "Number of Tweets in October:  1091989\n",
      "Number of Tweets in November:  1041247\n",
      "Number of Tweets in November:  1082048\n",
      "Number of Tweets in Januar:  1152147\n",
      "Number of Tweets in February:  1044832\n",
      "Number of Tweets in March:  6673506\n",
      "Number of Tweets in April:  1346895\n",
      "Number of Tweets in May:  1389440\n"
     ]
    }
   ],
   "source": [
    "october, november, december, januar, februar, march, april, may = get_tweets_per_mounth(df_tweetskb )"
   ]
  },
  {
   "cell_type": "markdown",
   "id": "01ff958e",
   "metadata": {},
   "source": [
    "## User polarisation per mounth"
   ]
  },
  {
   "cell_type": "code",
   "execution_count": 25,
   "id": "95c5fb21",
   "metadata": {
    "scrolled": true
   },
   "outputs": [
    {
     "name": "stdout",
     "output_type": "stream",
     "text": [
      "October:  -0.496\n",
      "November:  -0.49\n",
      "December:  -0.518\n",
      "Januar:  -0.48\n",
      "Februar:  -0.495\n",
      "March:  -0.531\n",
      "April:  -0.535\n",
      "May:  -0.511\n"
     ]
    }
   ],
   "source": [
    "polarisation = 'user_moderacy_polarisation'\n",
    "\n",
    "df_tweets_of_october, october = get_polarized_users(october, 'Number_of_moderate_domains', 'Number_of_hardline_domains', polarisation, 'October')\n",
    "df_tweets_of_november, november = get_polarized_users(november, 'Number_of_moderate_domains', 'Number_of_hardline_domains', polarisation, 'November')\n",
    "df_tweets_of_december, december = get_polarized_users(december, 'Number_of_moderate_domains', 'Number_of_hardline_domains', polarisation, 'December')\n",
    "df_tweets_of_januar, januar = get_polarized_users(januar, 'Number_of_moderate_domains', 'Number_of_hardline_domains', polarisation, 'Januar')\n",
    "df_tweets_of_februar, februar = get_polarized_users(februar, 'Number_of_moderate_domains', 'Number_of_hardline_domains', polarisation, 'Februar')\n",
    "df_tweets_of_march, march = get_polarized_users(march, 'Number_of_moderate_domains', 'Number_of_hardline_domains', polarisation, 'March')\n",
    "df_tweets_of_april, april = get_polarized_users(april, 'Number_of_moderate_domains', 'Number_of_hardline_domains', polarisation, 'April')\n",
    "df_tweets_of_may, may = get_polarized_users(may, 'Number_of_moderate_domains', 'Number_of_hardline_domains', polarisation, 'May')\n"
   ]
  },
  {
   "cell_type": "markdown",
   "id": "aeab7e00",
   "metadata": {},
   "source": [
    "***"
   ]
  },
  {
   "cell_type": "code",
   "execution_count": null,
   "id": "b4f2670a",
   "metadata": {},
   "outputs": [],
   "source": []
  }
 ],
 "metadata": {
  "kernelspec": {
   "display_name": "Python 3",
   "language": "python",
   "name": "python3"
  },
  "language_info": {
   "codemirror_mode": {
    "name": "ipython",
    "version": 3
   },
   "file_extension": ".py",
   "mimetype": "text/x-python",
   "name": "python",
   "nbconvert_exporter": "python",
   "pygments_lexer": "ipython3",
   "version": "3.8.8"
  }
 },
 "nbformat": 4,
 "nbformat_minor": 5
}
