{
 "cells": [
  {
   "cell_type": "code",
   "execution_count": 1,
   "id": "a51ce0c5",
   "metadata": {},
   "outputs": [],
   "source": [
    "#Import CSV Bibliothek \n",
    "import csv\n",
    "#Import Pandas and label it as pd\n",
    "import pandas as pd\n",
    "#Import numpy and label it as np \n",
    "import numpy as np\n",
    "#Import Json library\n",
    "import json\n",
    "#Set size of Data on 100,000,000 line  \n",
    "csv.field_size_limit(100000000)\n",
    "#Display max. rows and columns \n",
    "pd.options.display.max_columns = None\n",
    "pd.options.display.max_rows = None\n",
    "#Import tldextract for extraction of Domains\n",
    "import tldextract\n",
    "#Show warnings just in console \n",
    "import warnings\n",
    "warnings.filterwarnings('ignore')\n"
   ]
  },
  {
   "cell_type": "code",
   "execution_count": 2,
   "id": "6c91f156",
   "metadata": {},
   "outputs": [
    {
     "name": "stdout",
     "output_type": "stream",
     "text": [
      "954\n",
      "635\n"
     ]
    }
   ],
   "source": [
    "path = '../data/df_domains_left_right.tsv'\n",
    "\n",
    "df_liberal_conservative_domains = pd.read_csv(path, sep='\\t', error_bad_lines=False)\n",
    "\n",
    "df_leftcenterbias = df_liberal_conservative_domains[df_liberal_conservative_domains['mediabias_leftcenterbias'] == 1]\n",
    "list_leftcenterbias_domains = df_leftcenterbias.domain.tolist()\n",
    "\n",
    "df_leftbias = df_liberal_conservative_domains[df_liberal_conservative_domains['mediabias_leftbias'] == 1]\n",
    "list_leftbias_domains = df_leftbias.domain.tolist()\n",
    "list_liberal_domains = []\n",
    "\n",
    "list_liberal_domains.extend(list_leftbias_domains)\n",
    "list_liberal_domains.extend(list_leftcenterbias_domains)\n",
    "print(len(list_liberal_domains))\n",
    "\n",
    "df_rightcenterbias = df_liberal_conservative_domains[df_liberal_conservative_domains['mediabias_rightcenterbias'] == 1]\n",
    "list_rightcenterbias_domains = df_rightcenterbias.domain.tolist()\n",
    "\n",
    "df_rightbias = df_liberal_conservative_domains[df_liberal_conservative_domains['mediabias_rightbias'] == 1]\n",
    "list_rightbias_domains = df_rightbias.domain.tolist()\n",
    "\n",
    "list_conservative_domains = []\n",
    "\n",
    "list_conservative_domains.extend(list_rightbias_domains)\n",
    "list_conservative_domains.extend(list_rightcenterbias_domains)\n",
    "\n",
    "print(len(list_conservative_domains))"
   ]
  },
  {
   "cell_type": "code",
   "execution_count": 3,
   "id": "8cc9d59a",
   "metadata": {},
   "outputs": [],
   "source": [
    "def get_number_of_liberal_domains(domains):\n",
    "    \n",
    "    domains_list = domains.split()\n",
    "    score = 0\n",
    "    \n",
    "    for i in range(0, len(domains_list)):\n",
    "        \n",
    "        #d = tldextract.extract(domains_list[i])\n",
    "        #d = d.domain\n",
    "        d = domains_list[i]\n",
    "        \n",
    "        if d in list_liberal_domains:\n",
    "            score -=  1\n",
    "        \n",
    "    return score"
   ]
  },
  {
   "cell_type": "code",
   "execution_count": 4,
   "id": "c648cdc1",
   "metadata": {},
   "outputs": [],
   "source": [
    "def get_number_of_conservative_domains(domains):\n",
    "    domains_list = domains.split()\n",
    "    score = 0\n",
    "    for i in range(0, len(domains_list)):\n",
    "        \n",
    "        #d = tldextract.extract(domains_list[i])\n",
    "        #d = d.domain\n",
    "        d =  domains_list[i]\n",
    "        \n",
    "        if d in list_conservative_domains:\n",
    "            score +=  1\n",
    "        \n",
    "    return score"
   ]
  },
  {
   "cell_type": "code",
   "execution_count": 15,
   "id": "3f385b12",
   "metadata": {},
   "outputs": [],
   "source": [
    "def get_polarized_users(df, dim1, dim2, user_polarisation):\n",
    "    \n",
    "    df.Domains = df.Domains.astype(str)\n",
    "\n",
    "    df[dim1] = df.apply(lambda row: get_number_of_liberal_domains(row.Domains) if (row.Domains != '0') else 0, axis=1)\n",
    "    num_domains_dim1 = df[df[dim1] < 0].shape[0]\n",
    "    #print(f\"{dim1} : {num_domains_dim1}\")\n",
    "    \n",
    "    df[dim2] = df.apply(lambda row: get_number_of_conservative_domains(row.Domains) if (row.Domains != '0') else 0, axis=1)\n",
    "    num_domains_dim2 = df[df[dim2] > 0].shape[0]\n",
    "    #print(f'{dim2}: {num_domains_dim2}')\n",
    "    \n",
    "    df_unique_users = df.groupby('Username')[ dim1, dim2].sum()\n",
    "    \n",
    "    df_unique_users['count_polarized_domains'] = df_unique_users.apply(lambda row: ((row[dim2] - row[dim1])), axis=1)\n",
    "    df_unique_users[user_polarisation] = df_unique_users.apply(lambda row: (row[dim1] + row[dim2]) / row.count_polarized_domains if row.count_polarized_domains != 0 else 0, axis=1)\n",
    "    \n",
    "    ########################### Prints ########################\n",
    "    \n",
    "    number_of_unique_users = df_unique_users[df_unique_users.count_polarized_domains>0].shape[0]\n",
    "    print('Number of recognised polarized users: ', number_of_unique_users)\n",
    "    return df, df_unique_users"
   ]
  },
  {
   "cell_type": "code",
   "execution_count": 23,
   "id": "e8affafe",
   "metadata": {},
   "outputs": [
    {
     "name": "stdout",
     "output_type": "stream",
     "text": [
      "Tweets in october: 582828\n",
      "Number of recognised polarized users:  13391\n",
      "October:  -0.497\n",
      "-------------------------------------------\n"
     ]
    }
   ],
   "source": [
    "labels = ['Tweet_Id', 'Username', 'Timestamp', 'Is_deleted', 'Domains']\n",
    "polarisation = 'user_political_polarisation'\n",
    "\n",
    "path = '../data/df_tweetscov19_october2019.tsv'\n",
    "October = pd.read_csv(path, sep='\\t', error_bad_lines=False, names=labels)\n",
    "print(f'Tweets in october:', October.shape[0])\n",
    "df, October = get_polarized_users(October, 'Number_of_liberals', 'Number_of_conservatives', polarisation)\n",
    "print('October: ', '{0:.3g}'.format(October[October['count_polarized_domains'] > 0][polarisation].mean()))\n",
    "print('---------------------------------------------')"
   ]
  },
  {
   "cell_type": "code",
   "execution_count": null,
   "id": "7655d00d",
   "metadata": {},
   "outputs": [],
   "source": []
  }
 ],
 "metadata": {
  "kernelspec": {
   "display_name": "Python 3",
   "language": "python",
   "name": "python3"
  },
  "language_info": {
   "codemirror_mode": {
    "name": "ipython",
    "version": 3
   },
   "file_extension": ".py",
   "mimetype": "text/x-python",
   "name": "python",
   "nbconvert_exporter": "python",
   "pygments_lexer": "ipython3",
   "version": "3.8.8"
  }
 },
 "nbformat": 4,
 "nbformat_minor": 5
}
