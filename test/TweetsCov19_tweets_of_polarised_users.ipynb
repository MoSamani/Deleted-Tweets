{
 "cells": [
  {
   "cell_type": "code",
   "execution_count": 1,
   "id": "fdd244af",
   "metadata": {},
   "outputs": [],
   "source": [
    "#Import CSV Bibliothek \n",
    "import csv\n",
    "#Import Pandas and label it as pd\n",
    "import pandas as pd\n",
    "#Import numpy and label it as np \n",
    "import numpy as np\n",
    "#Import Json library\n",
    "import json\n",
    "#Set size of Data on 100,000,000 line  \n",
    "csv.field_size_limit(100000000)\n",
    "#Display max. rows and columns \n",
    "pd.options.display.max_columns = None\n",
    "pd.options.display.max_rows = None\n",
    "#Import tldextract for extraction of Domains\n",
    "import tldextract\n",
    "#Show warnings just in console \n",
    "import warnings\n",
    "warnings.filterwarnings('ignore')"
   ]
  },
  {
   "cell_type": "markdown",
   "id": "5d6e4d0a",
   "metadata": {},
   "source": [
    "***"
   ]
  },
  {
   "cell_type": "markdown",
   "id": "484279dc",
   "metadata": {},
   "source": [
    "# TweetsCov19\n",
    "## Merge user polarisation"
   ]
  },
  {
   "cell_type": "markdown",
   "id": "37cd937a",
   "metadata": {},
   "source": [
    "***"
   ]
  },
  {
   "cell_type": "code",
   "execution_count": 2,
   "id": "9b8cd6fd",
   "metadata": {},
   "outputs": [
    {
     "name": "stdout",
     "output_type": "stream",
     "text": [
      "Shape : (176301, 5)\n"
     ]
    },
    {
     "data": {
      "text/html": [
       "<div>\n",
       "<style scoped>\n",
       "    .dataframe tbody tr th:only-of-type {\n",
       "        vertical-align: middle;\n",
       "    }\n",
       "\n",
       "    .dataframe tbody tr th {\n",
       "        vertical-align: top;\n",
       "    }\n",
       "\n",
       "    .dataframe thead th {\n",
       "        text-align: right;\n",
       "    }\n",
       "</style>\n",
       "<table border=\"1\" class=\"dataframe\">\n",
       "  <thead>\n",
       "    <tr style=\"text-align: right;\">\n",
       "      <th></th>\n",
       "      <th>Username</th>\n",
       "      <th>Number_of_liberals</th>\n",
       "      <th>Number_of_conservatives</th>\n",
       "      <th>Sum_polarised_domains</th>\n",
       "      <th>user_political_polarisation</th>\n",
       "    </tr>\n",
       "  </thead>\n",
       "  <tbody>\n",
       "    <tr>\n",
       "      <th>0</th>\n",
       "      <td>00008ca06f863b962f72cc9167d7978a</td>\n",
       "      <td>-1</td>\n",
       "      <td>0</td>\n",
       "      <td>1</td>\n",
       "      <td>-1.0</td>\n",
       "    </tr>\n",
       "    <tr>\n",
       "      <th>1</th>\n",
       "      <td>00008de3f61d5f04329ee6867d5475b9</td>\n",
       "      <td>-1</td>\n",
       "      <td>0</td>\n",
       "      <td>1</td>\n",
       "      <td>-1.0</td>\n",
       "    </tr>\n",
       "    <tr>\n",
       "      <th>2</th>\n",
       "      <td>00012a177385cd6e7590e2acb3f206e3</td>\n",
       "      <td>-1</td>\n",
       "      <td>0</td>\n",
       "      <td>1</td>\n",
       "      <td>-1.0</td>\n",
       "    </tr>\n",
       "    <tr>\n",
       "      <th>3</th>\n",
       "      <td>00016e20a3865cb74581803c27d27b89</td>\n",
       "      <td>-1</td>\n",
       "      <td>0</td>\n",
       "      <td>1</td>\n",
       "      <td>-1.0</td>\n",
       "    </tr>\n",
       "    <tr>\n",
       "      <th>4</th>\n",
       "      <td>000186b796b0eb667801aad27ca978eb</td>\n",
       "      <td>-2</td>\n",
       "      <td>0</td>\n",
       "      <td>2</td>\n",
       "      <td>-1.0</td>\n",
       "    </tr>\n",
       "  </tbody>\n",
       "</table>\n",
       "</div>"
      ],
      "text/plain": [
       "                           Username  Number_of_liberals  \\\n",
       "0  00008ca06f863b962f72cc9167d7978a                  -1   \n",
       "1  00008de3f61d5f04329ee6867d5475b9                  -1   \n",
       "2  00012a177385cd6e7590e2acb3f206e3                  -1   \n",
       "3  00016e20a3865cb74581803c27d27b89                  -1   \n",
       "4  000186b796b0eb667801aad27ca978eb                  -2   \n",
       "\n",
       "   Number_of_conservatives  Sum_polarised_domains  user_political_polarisation  \n",
       "0                        0                      1                         -1.0  \n",
       "1                        0                      1                         -1.0  \n",
       "2                        0                      1                         -1.0  \n",
       "3                        0                      1                         -1.0  \n",
       "4                        0                      2                         -1.0  "
      ]
     },
     "execution_count": 2,
     "metadata": {},
     "output_type": "execute_result"
    }
   ],
   "source": [
    "path = '../data/tweetscov19_political_polarized_useres.tsv'\n",
    "\n",
    "df_tweetscov19_political_polarized = pd.read_csv(path, sep='\\t', error_bad_lines=False, names=['Username', 'Number_of_liberals', 'Number_of_conservatives', 'Sum_polarised_domains', 'user_political_polarisation'])\n",
    "\n",
    "print('Shape :', df_tweetscov19_political_polarized.shape)\n",
    "df_tweetscov19_political_polarized.head()"
   ]
  },
  {
   "cell_type": "code",
   "execution_count": 3,
   "id": "26720448",
   "metadata": {},
   "outputs": [
    {
     "name": "stdout",
     "output_type": "stream",
     "text": [
      "Shape : (44493, 5)\n"
     ]
    },
    {
     "data": {
      "text/html": [
       "<div>\n",
       "<style scoped>\n",
       "    .dataframe tbody tr th:only-of-type {\n",
       "        vertical-align: middle;\n",
       "    }\n",
       "\n",
       "    .dataframe tbody tr th {\n",
       "        vertical-align: top;\n",
       "    }\n",
       "\n",
       "    .dataframe thead th {\n",
       "        text-align: right;\n",
       "    }\n",
       "</style>\n",
       "<table border=\"1\" class=\"dataframe\">\n",
       "  <thead>\n",
       "    <tr style=\"text-align: right;\">\n",
       "      <th></th>\n",
       "      <th>Username</th>\n",
       "      <th>Number_of_antiscience_domains</th>\n",
       "      <th>Number_of_proscience_domains</th>\n",
       "      <th>Sum_polarised_domains</th>\n",
       "      <th>user_science_polarisation</th>\n",
       "    </tr>\n",
       "  </thead>\n",
       "  <tbody>\n",
       "    <tr>\n",
       "      <th>0</th>\n",
       "      <td>000238f324f5063164908c27a7f310cd</td>\n",
       "      <td>-1</td>\n",
       "      <td>0</td>\n",
       "      <td>1</td>\n",
       "      <td>-1.0</td>\n",
       "    </tr>\n",
       "    <tr>\n",
       "      <th>1</th>\n",
       "      <td>0002eb2aff20e181397afe8cdebdd395</td>\n",
       "      <td>0</td>\n",
       "      <td>1</td>\n",
       "      <td>1</td>\n",
       "      <td>1.0</td>\n",
       "    </tr>\n",
       "    <tr>\n",
       "      <th>2</th>\n",
       "      <td>00065a00b971b5e1629d504e0ddf2da0</td>\n",
       "      <td>-3</td>\n",
       "      <td>0</td>\n",
       "      <td>3</td>\n",
       "      <td>-1.0</td>\n",
       "    </tr>\n",
       "    <tr>\n",
       "      <th>3</th>\n",
       "      <td>0006a238065c3acb128041e666b58f07</td>\n",
       "      <td>0</td>\n",
       "      <td>2</td>\n",
       "      <td>2</td>\n",
       "      <td>1.0</td>\n",
       "    </tr>\n",
       "    <tr>\n",
       "      <th>4</th>\n",
       "      <td>000795932bf3bc3ab05b5efc1b07104b</td>\n",
       "      <td>-1</td>\n",
       "      <td>0</td>\n",
       "      <td>1</td>\n",
       "      <td>-1.0</td>\n",
       "    </tr>\n",
       "  </tbody>\n",
       "</table>\n",
       "</div>"
      ],
      "text/plain": [
       "                           Username  Number_of_antiscience_domains  \\\n",
       "0  000238f324f5063164908c27a7f310cd                             -1   \n",
       "1  0002eb2aff20e181397afe8cdebdd395                              0   \n",
       "2  00065a00b971b5e1629d504e0ddf2da0                             -3   \n",
       "3  0006a238065c3acb128041e666b58f07                              0   \n",
       "4  000795932bf3bc3ab05b5efc1b07104b                             -1   \n",
       "\n",
       "   Number_of_proscience_domains  Sum_polarised_domains  \\\n",
       "0                             0                      1   \n",
       "1                             1                      1   \n",
       "2                             0                      3   \n",
       "3                             2                      2   \n",
       "4                             0                      1   \n",
       "\n",
       "   user_science_polarisation  \n",
       "0                       -1.0  \n",
       "1                        1.0  \n",
       "2                       -1.0  \n",
       "3                        1.0  \n",
       "4                       -1.0  "
      ]
     },
     "execution_count": 3,
     "metadata": {},
     "output_type": "execute_result"
    }
   ],
   "source": [
    "path = '../data/tweetscov19_science_polarized_users.tsv'\n",
    "\n",
    "df_tweetscov19_science_polarized = pd.read_csv(path, sep='\\t', error_bad_lines=False, names=['Username', 'Number_of_antiscience_domains', 'Number_of_proscience_domains', 'Sum_polarised_domains', 'user_science_polarisation'])\n",
    "\n",
    "print('Shape :', df_tweetscov19_science_polarized.shape)\n",
    "df_tweetscov19_science_polarized.head()"
   ]
  },
  {
   "cell_type": "code",
   "execution_count": 4,
   "id": "6e3eb207",
   "metadata": {},
   "outputs": [
    {
     "name": "stdout",
     "output_type": "stream",
     "text": [
      "Shape : (176301, 5)\n"
     ]
    },
    {
     "data": {
      "text/html": [
       "<div>\n",
       "<style scoped>\n",
       "    .dataframe tbody tr th:only-of-type {\n",
       "        vertical-align: middle;\n",
       "    }\n",
       "\n",
       "    .dataframe tbody tr th {\n",
       "        vertical-align: top;\n",
       "    }\n",
       "\n",
       "    .dataframe thead th {\n",
       "        text-align: right;\n",
       "    }\n",
       "</style>\n",
       "<table border=\"1\" class=\"dataframe\">\n",
       "  <thead>\n",
       "    <tr style=\"text-align: right;\">\n",
       "      <th></th>\n",
       "      <th>Username</th>\n",
       "      <th>Number_of_moderates</th>\n",
       "      <th>Number_of_hardlines</th>\n",
       "      <th>Sum_polarised_domains</th>\n",
       "      <th>user_moderacy_polarisation</th>\n",
       "    </tr>\n",
       "  </thead>\n",
       "  <tbody>\n",
       "    <tr>\n",
       "      <th>0</th>\n",
       "      <td>00008ca06f863b962f72cc9167d7978a</td>\n",
       "      <td>-1</td>\n",
       "      <td>0</td>\n",
       "      <td>1</td>\n",
       "      <td>-1.0</td>\n",
       "    </tr>\n",
       "    <tr>\n",
       "      <th>1</th>\n",
       "      <td>00008de3f61d5f04329ee6867d5475b9</td>\n",
       "      <td>0</td>\n",
       "      <td>1</td>\n",
       "      <td>1</td>\n",
       "      <td>1.0</td>\n",
       "    </tr>\n",
       "    <tr>\n",
       "      <th>2</th>\n",
       "      <td>00012a177385cd6e7590e2acb3f206e3</td>\n",
       "      <td>0</td>\n",
       "      <td>1</td>\n",
       "      <td>1</td>\n",
       "      <td>1.0</td>\n",
       "    </tr>\n",
       "    <tr>\n",
       "      <th>3</th>\n",
       "      <td>00016e20a3865cb74581803c27d27b89</td>\n",
       "      <td>-1</td>\n",
       "      <td>0</td>\n",
       "      <td>1</td>\n",
       "      <td>-1.0</td>\n",
       "    </tr>\n",
       "    <tr>\n",
       "      <th>4</th>\n",
       "      <td>000186b796b0eb667801aad27ca978eb</td>\n",
       "      <td>-2</td>\n",
       "      <td>0</td>\n",
       "      <td>2</td>\n",
       "      <td>-1.0</td>\n",
       "    </tr>\n",
       "  </tbody>\n",
       "</table>\n",
       "</div>"
      ],
      "text/plain": [
       "                           Username  Number_of_moderates  Number_of_hardlines  \\\n",
       "0  00008ca06f863b962f72cc9167d7978a                   -1                    0   \n",
       "1  00008de3f61d5f04329ee6867d5475b9                    0                    1   \n",
       "2  00012a177385cd6e7590e2acb3f206e3                    0                    1   \n",
       "3  00016e20a3865cb74581803c27d27b89                   -1                    0   \n",
       "4  000186b796b0eb667801aad27ca978eb                   -2                    0   \n",
       "\n",
       "   Sum_polarised_domains  user_moderacy_polarisation  \n",
       "0                      1                        -1.0  \n",
       "1                      1                         1.0  \n",
       "2                      1                         1.0  \n",
       "3                      1                        -1.0  \n",
       "4                      2                        -1.0  "
      ]
     },
     "execution_count": 4,
     "metadata": {},
     "output_type": "execute_result"
    }
   ],
   "source": [
    "path = '../data/tweetscov19_moderacy_polarized_users.tsv'\n",
    "\n",
    "df_tweetscov19_moderacy_polarized = pd.read_csv(path, sep='\\t', error_bad_lines=False, names=['Username', 'Number_of_moderates', 'Number_of_hardlines', 'Sum_polarised_domains', 'user_moderacy_polarisation'])\n",
    "\n",
    "print('Shape :', df_tweetscov19_moderacy_polarized.shape)\n",
    "df_tweetscov19_moderacy_polarized.head()"
   ]
  },
  {
   "cell_type": "code",
   "execution_count": 5,
   "id": "83d5ec68",
   "metadata": {},
   "outputs": [
    {
     "data": {
      "text/plain": [
       "(15710, 4)"
      ]
     },
     "execution_count": 5,
     "metadata": {},
     "output_type": "execute_result"
    }
   ],
   "source": [
    "\n",
    "df_tweetscov19_political_polarized = df_tweetscov19_political_polarized[['Username', 'user_political_polarisation']]\n",
    "df_tweetscov19_science_polarized = df_tweetscov19_science_polarized[['Username', 'user_science_polarisation']]\n",
    "df_tweetscov19_moderacy_polarized = df_tweetscov19_moderacy_polarized[['Username', 'user_moderacy_polarisation']]\n",
    "\n",
    "df_tweetscov19_user = pd.merge(df_tweetscov19_political_polarized, df_tweetscov19_science_polarized, on='Username', how='inner')\n",
    "df_tweetscov19_user = pd.merge(df_tweetscov19_user, df_tweetscov19_moderacy_polarized, on='Username', how='inner')\n",
    "df_tweetscov19_user.shape"
   ]
  },
  {
   "cell_type": "code",
   "execution_count": 6,
   "id": "210fe0fc",
   "metadata": {},
   "outputs": [
    {
     "data": {
      "text/plain": [
       "(205084, 4)"
      ]
     },
     "execution_count": 6,
     "metadata": {},
     "output_type": "execute_result"
    }
   ],
   "source": [
    "\n",
    "df_tweetscov19_political_polarized = df_tweetscov19_political_polarized[['Username', 'user_political_polarisation']]\n",
    "df_tweetscov19_science_polarized = df_tweetscov19_science_polarized[['Username', 'user_science_polarisation']]\n",
    "df_tweetscov19_moderacy_polarized = df_tweetscov19_moderacy_polarized[['Username', 'user_moderacy_polarisation']]\n",
    "\n",
    "df_tweetscov19_user = pd.merge(df_tweetscov19_political_polarized, df_tweetscov19_science_polarized, on='Username', how='outer')\n",
    "df_tweetscov19_user = pd.merge(df_tweetscov19_user, df_tweetscov19_moderacy_polarized, on='Username', how='outer')\n",
    "df_tweetscov19_user.shape"
   ]
  },
  {
   "cell_type": "code",
   "execution_count": 7,
   "id": "cd1591ca",
   "metadata": {},
   "outputs": [
    {
     "data": {
      "text/html": [
       "<div>\n",
       "<style scoped>\n",
       "    .dataframe tbody tr th:only-of-type {\n",
       "        vertical-align: middle;\n",
       "    }\n",
       "\n",
       "    .dataframe tbody tr th {\n",
       "        vertical-align: top;\n",
       "    }\n",
       "\n",
       "    .dataframe thead th {\n",
       "        text-align: right;\n",
       "    }\n",
       "</style>\n",
       "<table border=\"1\" class=\"dataframe\">\n",
       "  <thead>\n",
       "    <tr style=\"text-align: right;\">\n",
       "      <th></th>\n",
       "      <th>Username</th>\n",
       "      <th>user_political_polarisation</th>\n",
       "      <th>user_science_polarisation</th>\n",
       "      <th>user_moderacy_polarisation</th>\n",
       "    </tr>\n",
       "  </thead>\n",
       "  <tbody>\n",
       "    <tr>\n",
       "      <th>0</th>\n",
       "      <td>00008ca06f863b962f72cc9167d7978a</td>\n",
       "      <td>-1.0</td>\n",
       "      <td>NaN</td>\n",
       "      <td>-1.0</td>\n",
       "    </tr>\n",
       "    <tr>\n",
       "      <th>1</th>\n",
       "      <td>00008de3f61d5f04329ee6867d5475b9</td>\n",
       "      <td>-1.0</td>\n",
       "      <td>NaN</td>\n",
       "      <td>1.0</td>\n",
       "    </tr>\n",
       "    <tr>\n",
       "      <th>2</th>\n",
       "      <td>00012a177385cd6e7590e2acb3f206e3</td>\n",
       "      <td>-1.0</td>\n",
       "      <td>NaN</td>\n",
       "      <td>1.0</td>\n",
       "    </tr>\n",
       "    <tr>\n",
       "      <th>3</th>\n",
       "      <td>00016e20a3865cb74581803c27d27b89</td>\n",
       "      <td>-1.0</td>\n",
       "      <td>NaN</td>\n",
       "      <td>-1.0</td>\n",
       "    </tr>\n",
       "    <tr>\n",
       "      <th>4</th>\n",
       "      <td>000186b796b0eb667801aad27ca978eb</td>\n",
       "      <td>-1.0</td>\n",
       "      <td>NaN</td>\n",
       "      <td>-1.0</td>\n",
       "    </tr>\n",
       "  </tbody>\n",
       "</table>\n",
       "</div>"
      ],
      "text/plain": [
       "                           Username  user_political_polarisation  \\\n",
       "0  00008ca06f863b962f72cc9167d7978a                         -1.0   \n",
       "1  00008de3f61d5f04329ee6867d5475b9                         -1.0   \n",
       "2  00012a177385cd6e7590e2acb3f206e3                         -1.0   \n",
       "3  00016e20a3865cb74581803c27d27b89                         -1.0   \n",
       "4  000186b796b0eb667801aad27ca978eb                         -1.0   \n",
       "\n",
       "   user_science_polarisation  user_moderacy_polarisation  \n",
       "0                        NaN                        -1.0  \n",
       "1                        NaN                         1.0  \n",
       "2                        NaN                         1.0  \n",
       "3                        NaN                        -1.0  \n",
       "4                        NaN                        -1.0  "
      ]
     },
     "execution_count": 7,
     "metadata": {},
     "output_type": "execute_result"
    }
   ],
   "source": [
    "df_tweetscov19_user.head()"
   ]
  },
  {
   "cell_type": "code",
   "execution_count": 8,
   "id": "4be774df",
   "metadata": {},
   "outputs": [
    {
     "data": {
      "text/plain": [
       "205084"
      ]
     },
     "execution_count": 8,
     "metadata": {},
     "output_type": "execute_result"
    }
   ],
   "source": [
    "len(df_tweetscov19_user.Username.unique())"
   ]
  },
  {
   "cell_type": "code",
   "execution_count": 9,
   "id": "9896fc1e",
   "metadata": {},
   "outputs": [
    {
     "data": {
      "text/plain": [
       "(8, 4)"
      ]
     },
     "execution_count": 9,
     "metadata": {},
     "output_type": "execute_result"
    }
   ],
   "source": [
    "cond1 = df_tweetscov19_user.user_political_polarisation == 0\n",
    "cond2 = df_tweetscov19_user.user_science_polarisation == 0\n",
    "cond3 = df_tweetscov19_user.user_moderacy_polarisation == 0\n",
    "\n",
    "df_tweetscov19_user[cond1 & cond2 & cond3].shape"
   ]
  },
  {
   "cell_type": "code",
   "execution_count": 10,
   "id": "4ad5048e",
   "metadata": {},
   "outputs": [
    {
     "data": {
      "text/plain": [
       "(9499, 4)"
      ]
     },
     "execution_count": 10,
     "metadata": {},
     "output_type": "execute_result"
    }
   ],
   "source": [
    "df_tweetscov19_user[cond1 | cond2 | cond3].shape"
   ]
  },
  {
   "cell_type": "code",
   "execution_count": 11,
   "id": "c5a93efb",
   "metadata": {},
   "outputs": [
    {
     "data": {
      "text/plain": [
       "(205076, 4)"
      ]
     },
     "execution_count": 11,
     "metadata": {},
     "output_type": "execute_result"
    }
   ],
   "source": [
    "df_tweetscov19_user[~cond1 | ~cond2 | ~cond3].shape"
   ]
  },
  {
   "cell_type": "markdown",
   "id": "49005da1",
   "metadata": {},
   "source": [
    "***"
   ]
  },
  {
   "cell_type": "code",
   "execution_count": 12,
   "id": "58e67a2b",
   "metadata": {},
   "outputs": [
    {
     "name": "stdout",
     "output_type": "stream",
     "text": [
      "Form : (9409841, 9)\n"
     ]
    },
    {
     "data": {
      "text/html": [
       "<div>\n",
       "<style scoped>\n",
       "    .dataframe tbody tr th:only-of-type {\n",
       "        vertical-align: middle;\n",
       "    }\n",
       "\n",
       "    .dataframe tbody tr th {\n",
       "        vertical-align: top;\n",
       "    }\n",
       "\n",
       "    .dataframe thead th {\n",
       "        text-align: right;\n",
       "    }\n",
       "</style>\n",
       "<table border=\"1\" class=\"dataframe\">\n",
       "  <thead>\n",
       "    <tr style=\"text-align: right;\">\n",
       "      <th></th>\n",
       "      <th>Tweet_Id</th>\n",
       "      <th>Username</th>\n",
       "      <th>Followers</th>\n",
       "      <th>Friends</th>\n",
       "      <th>is_deleted</th>\n",
       "      <th>Reputation</th>\n",
       "      <th>num_posted</th>\n",
       "      <th>num_deleted</th>\n",
       "      <th>Deletionratio</th>\n",
       "    </tr>\n",
       "  </thead>\n",
       "  <tbody>\n",
       "    <tr>\n",
       "      <th>0</th>\n",
       "      <td>1178791637348212736</td>\n",
       "      <td>c57d4fb895c5f4a33d2a2b24709f93b5</td>\n",
       "      <td>764191</td>\n",
       "      <td>132</td>\n",
       "      <td>True</td>\n",
       "      <td>0.999827</td>\n",
       "      <td>21</td>\n",
       "      <td>21</td>\n",
       "      <td>1.0</td>\n",
       "    </tr>\n",
       "    <tr>\n",
       "      <th>1</th>\n",
       "      <td>1181705842275573766</td>\n",
       "      <td>c57d4fb895c5f4a33d2a2b24709f93b5</td>\n",
       "      <td>765034</td>\n",
       "      <td>132</td>\n",
       "      <td>True</td>\n",
       "      <td>0.999827</td>\n",
       "      <td>21</td>\n",
       "      <td>21</td>\n",
       "      <td>1.0</td>\n",
       "    </tr>\n",
       "    <tr>\n",
       "      <th>2</th>\n",
       "      <td>1187828746503540738</td>\n",
       "      <td>c57d4fb895c5f4a33d2a2b24709f93b5</td>\n",
       "      <td>766578</td>\n",
       "      <td>132</td>\n",
       "      <td>True</td>\n",
       "      <td>0.999827</td>\n",
       "      <td>21</td>\n",
       "      <td>21</td>\n",
       "      <td>1.0</td>\n",
       "    </tr>\n",
       "    <tr>\n",
       "      <th>3</th>\n",
       "      <td>1192622772658290688</td>\n",
       "      <td>c57d4fb895c5f4a33d2a2b24709f93b5</td>\n",
       "      <td>767939</td>\n",
       "      <td>133</td>\n",
       "      <td>True</td>\n",
       "      <td>0.999827</td>\n",
       "      <td>21</td>\n",
       "      <td>21</td>\n",
       "      <td>1.0</td>\n",
       "    </tr>\n",
       "    <tr>\n",
       "      <th>4</th>\n",
       "      <td>1193272068621717504</td>\n",
       "      <td>c57d4fb895c5f4a33d2a2b24709f93b5</td>\n",
       "      <td>768180</td>\n",
       "      <td>133</td>\n",
       "      <td>True</td>\n",
       "      <td>0.999827</td>\n",
       "      <td>21</td>\n",
       "      <td>21</td>\n",
       "      <td>1.0</td>\n",
       "    </tr>\n",
       "  </tbody>\n",
       "</table>\n",
       "</div>"
      ],
      "text/plain": [
       "              Tweet_Id                          Username  Followers  Friends  \\\n",
       "0  1178791637348212736  c57d4fb895c5f4a33d2a2b24709f93b5     764191      132   \n",
       "1  1181705842275573766  c57d4fb895c5f4a33d2a2b24709f93b5     765034      132   \n",
       "2  1187828746503540738  c57d4fb895c5f4a33d2a2b24709f93b5     766578      132   \n",
       "3  1192622772658290688  c57d4fb895c5f4a33d2a2b24709f93b5     767939      133   \n",
       "4  1193272068621717504  c57d4fb895c5f4a33d2a2b24709f93b5     768180      133   \n",
       "\n",
       "   is_deleted  Reputation  num_posted  num_deleted  Deletionratio  \n",
       "0        True    0.999827          21           21            1.0  \n",
       "1        True    0.999827          21           21            1.0  \n",
       "2        True    0.999827          21           21            1.0  \n",
       "3        True    0.999827          21           21            1.0  \n",
       "4        True    0.999827          21           21            1.0  "
      ]
     },
     "execution_count": 12,
     "metadata": {},
     "output_type": "execute_result"
    }
   ],
   "source": [
    "pfad_tsv = '../data/TweetsCov19_alltweets_reputation_deletionratio.tsv'\n",
    "\n",
    "df_tweetscov19_alltweets_reputation_deletionratio = pd.read_csv(pfad_tsv, sep='\\t', error_bad_lines=False, names=['Tweet_Id', 'Username', 'Followers', 'Friends', 'is_deleted', 'Reputation', 'num_posted', 'num_deleted', 'Deletionratio'])\n",
    "\n",
    "print('Form :', df_tweetscov19_alltweets_reputation_deletionratio.shape)\n",
    "df_tweetscov19_alltweets_reputation_deletionratio.head()"
   ]
  },
  {
   "cell_type": "code",
   "execution_count": 13,
   "id": "e2b8930b",
   "metadata": {},
   "outputs": [
    {
     "data": {
      "text/plain": [
       "(205084, 4)"
      ]
     },
     "execution_count": 13,
     "metadata": {},
     "output_type": "execute_result"
    }
   ],
   "source": [
    "df_tweetscov19_alltweets_reputation_deletionratio = df_tweetscov19_alltweets_reputation_deletionratio[['Tweet_Id', 'Username', 'Deletionratio', 'Reputation', 'is_deleted']]\n",
    "\n",
    "df_tweetscov19_political_polarized = df_tweetscov19_political_polarized[['Username', 'user_political_polarisation']]\n",
    "df_tweetscov19_science_polarized = df_tweetscov19_science_polarized[['Username', 'user_science_polarisation']]\n",
    "df_tweetscov19_moderacy_polarized = df_tweetscov19_moderacy_polarized[['Username', 'user_moderacy_polarisation']]\n",
    "\n",
    "df_tweetscov19_user = pd.merge(df_tweetscov19_political_polarized, df_tweetscov19_science_polarized, on='Username', how='outer')\n",
    "df_tweetscov19_user = pd.merge(df_tweetscov19_user, df_tweetscov19_moderacy_polarized, on='Username', how='outer')\n",
    "\n",
    "df_tweetscov19_user.shape"
   ]
  },
  {
   "cell_type": "code",
   "execution_count": 14,
   "id": "4a0f9a2a",
   "metadata": {},
   "outputs": [
    {
     "name": "stdout",
     "output_type": "stream",
     "text": [
      "Form : (2231354, 8)\n"
     ]
    },
    {
     "data": {
      "text/html": [
       "<div>\n",
       "<style scoped>\n",
       "    .dataframe tbody tr th:only-of-type {\n",
       "        vertical-align: middle;\n",
       "    }\n",
       "\n",
       "    .dataframe tbody tr th {\n",
       "        vertical-align: top;\n",
       "    }\n",
       "\n",
       "    .dataframe thead th {\n",
       "        text-align: right;\n",
       "    }\n",
       "</style>\n",
       "<table border=\"1\" class=\"dataframe\">\n",
       "  <thead>\n",
       "    <tr style=\"text-align: right;\">\n",
       "      <th></th>\n",
       "      <th>Tweet_Id</th>\n",
       "      <th>Username</th>\n",
       "      <th>Deletionratio</th>\n",
       "      <th>Reputation</th>\n",
       "      <th>is_deleted</th>\n",
       "      <th>user_political_polarisation</th>\n",
       "      <th>user_science_polarisation</th>\n",
       "      <th>user_moderacy_polarisation</th>\n",
       "    </tr>\n",
       "  </thead>\n",
       "  <tbody>\n",
       "    <tr>\n",
       "      <th>0</th>\n",
       "      <td>1178791643509612547</td>\n",
       "      <td>7966d5716c1c4f33591b17755184e3d6</td>\n",
       "      <td>0.208333</td>\n",
       "      <td>0.572205</td>\n",
       "      <td>False</td>\n",
       "      <td>-0.5</td>\n",
       "      <td>NaN</td>\n",
       "      <td>-1.0</td>\n",
       "    </tr>\n",
       "    <tr>\n",
       "      <th>1</th>\n",
       "      <td>1179408833728466944</td>\n",
       "      <td>7966d5716c1c4f33591b17755184e3d6</td>\n",
       "      <td>0.208333</td>\n",
       "      <td>0.572205</td>\n",
       "      <td>True</td>\n",
       "      <td>-0.5</td>\n",
       "      <td>NaN</td>\n",
       "      <td>-1.0</td>\n",
       "    </tr>\n",
       "    <tr>\n",
       "      <th>2</th>\n",
       "      <td>1182683474827739136</td>\n",
       "      <td>7966d5716c1c4f33591b17755184e3d6</td>\n",
       "      <td>0.208333</td>\n",
       "      <td>0.572205</td>\n",
       "      <td>False</td>\n",
       "      <td>-0.5</td>\n",
       "      <td>NaN</td>\n",
       "      <td>-1.0</td>\n",
       "    </tr>\n",
       "    <tr>\n",
       "      <th>3</th>\n",
       "      <td>1184746364158271488</td>\n",
       "      <td>7966d5716c1c4f33591b17755184e3d6</td>\n",
       "      <td>0.208333</td>\n",
       "      <td>0.572205</td>\n",
       "      <td>False</td>\n",
       "      <td>-0.5</td>\n",
       "      <td>NaN</td>\n",
       "      <td>-1.0</td>\n",
       "    </tr>\n",
       "    <tr>\n",
       "      <th>4</th>\n",
       "      <td>1185117204628623360</td>\n",
       "      <td>7966d5716c1c4f33591b17755184e3d6</td>\n",
       "      <td>0.208333</td>\n",
       "      <td>0.572205</td>\n",
       "      <td>True</td>\n",
       "      <td>-0.5</td>\n",
       "      <td>NaN</td>\n",
       "      <td>-1.0</td>\n",
       "    </tr>\n",
       "  </tbody>\n",
       "</table>\n",
       "</div>"
      ],
      "text/plain": [
       "              Tweet_Id                          Username  Deletionratio  \\\n",
       "0  1178791643509612547  7966d5716c1c4f33591b17755184e3d6       0.208333   \n",
       "1  1179408833728466944  7966d5716c1c4f33591b17755184e3d6       0.208333   \n",
       "2  1182683474827739136  7966d5716c1c4f33591b17755184e3d6       0.208333   \n",
       "3  1184746364158271488  7966d5716c1c4f33591b17755184e3d6       0.208333   \n",
       "4  1185117204628623360  7966d5716c1c4f33591b17755184e3d6       0.208333   \n",
       "\n",
       "   Reputation  is_deleted  user_political_polarisation  \\\n",
       "0    0.572205       False                         -0.5   \n",
       "1    0.572205        True                         -0.5   \n",
       "2    0.572205       False                         -0.5   \n",
       "3    0.572205       False                         -0.5   \n",
       "4    0.572205        True                         -0.5   \n",
       "\n",
       "   user_science_polarisation  user_moderacy_polarisation  \n",
       "0                        NaN                        -1.0  \n",
       "1                        NaN                        -1.0  \n",
       "2                        NaN                        -1.0  \n",
       "3                        NaN                        -1.0  \n",
       "4                        NaN                        -1.0  "
      ]
     },
     "execution_count": 14,
     "metadata": {},
     "output_type": "execute_result"
    }
   ],
   "source": [
    "\n",
    "df_tweetscov19_polarized_user = pd.merge(df_tweetscov19_alltweets_reputation_deletionratio, df_tweetscov19_user, on='Username', how='inner')#, indicator=True)\n",
    "print('Form :', df_tweetscov19_polarized_user.shape)\n",
    "df_tweetscov19_polarized_user.head()"
   ]
  },
  {
   "cell_type": "code",
   "execution_count": 15,
   "id": "28232d72",
   "metadata": {},
   "outputs": [],
   "source": [
    "df_tweetscov19_polarized_user = df_tweetscov19_polarized_user.replace(np.nan, 0)"
   ]
  },
  {
   "cell_type": "code",
   "execution_count": 16,
   "id": "eb86f59f",
   "metadata": {},
   "outputs": [
    {
     "data": {
      "text/html": [
       "<div>\n",
       "<style scoped>\n",
       "    .dataframe tbody tr th:only-of-type {\n",
       "        vertical-align: middle;\n",
       "    }\n",
       "\n",
       "    .dataframe tbody tr th {\n",
       "        vertical-align: top;\n",
       "    }\n",
       "\n",
       "    .dataframe thead th {\n",
       "        text-align: right;\n",
       "    }\n",
       "</style>\n",
       "<table border=\"1\" class=\"dataframe\">\n",
       "  <thead>\n",
       "    <tr style=\"text-align: right;\">\n",
       "      <th></th>\n",
       "      <th>Tweet_Id</th>\n",
       "      <th>Username</th>\n",
       "      <th>Deletionratio</th>\n",
       "      <th>Reputation</th>\n",
       "      <th>is_deleted</th>\n",
       "      <th>user_political_polarisation</th>\n",
       "      <th>user_science_polarisation</th>\n",
       "      <th>user_moderacy_polarisation</th>\n",
       "    </tr>\n",
       "  </thead>\n",
       "  <tbody>\n",
       "    <tr>\n",
       "      <th>5364</th>\n",
       "      <td>1178791899769049091</td>\n",
       "      <td>9d9bb22c54cb933330f754d686d2fb2f</td>\n",
       "      <td>0.0</td>\n",
       "      <td>0.988202</td>\n",
       "      <td>False</td>\n",
       "      <td>0.0</td>\n",
       "      <td>1.0</td>\n",
       "      <td>0.0</td>\n",
       "    </tr>\n",
       "    <tr>\n",
       "      <th>5365</th>\n",
       "      <td>1209202438005305345</td>\n",
       "      <td>9d9bb22c54cb933330f754d686d2fb2f</td>\n",
       "      <td>0.0</td>\n",
       "      <td>0.988202</td>\n",
       "      <td>False</td>\n",
       "      <td>0.0</td>\n",
       "      <td>1.0</td>\n",
       "      <td>0.0</td>\n",
       "    </tr>\n",
       "    <tr>\n",
       "      <th>5366</th>\n",
       "      <td>1210198745742221312</td>\n",
       "      <td>9d9bb22c54cb933330f754d686d2fb2f</td>\n",
       "      <td>0.0</td>\n",
       "      <td>0.988202</td>\n",
       "      <td>False</td>\n",
       "      <td>0.0</td>\n",
       "      <td>1.0</td>\n",
       "      <td>0.0</td>\n",
       "    </tr>\n",
       "    <tr>\n",
       "      <th>5367</th>\n",
       "      <td>1242571946853834753</td>\n",
       "      <td>9d9bb22c54cb933330f754d686d2fb2f</td>\n",
       "      <td>0.0</td>\n",
       "      <td>0.988202</td>\n",
       "      <td>False</td>\n",
       "      <td>0.0</td>\n",
       "      <td>1.0</td>\n",
       "      <td>0.0</td>\n",
       "    </tr>\n",
       "    <tr>\n",
       "      <th>5368</th>\n",
       "      <td>1245060830145765377</td>\n",
       "      <td>9d9bb22c54cb933330f754d686d2fb2f</td>\n",
       "      <td>0.0</td>\n",
       "      <td>0.988202</td>\n",
       "      <td>False</td>\n",
       "      <td>0.0</td>\n",
       "      <td>1.0</td>\n",
       "      <td>0.0</td>\n",
       "    </tr>\n",
       "  </tbody>\n",
       "</table>\n",
       "</div>"
      ],
      "text/plain": [
       "                 Tweet_Id                          Username  Deletionratio  \\\n",
       "5364  1178791899769049091  9d9bb22c54cb933330f754d686d2fb2f            0.0   \n",
       "5365  1209202438005305345  9d9bb22c54cb933330f754d686d2fb2f            0.0   \n",
       "5366  1210198745742221312  9d9bb22c54cb933330f754d686d2fb2f            0.0   \n",
       "5367  1242571946853834753  9d9bb22c54cb933330f754d686d2fb2f            0.0   \n",
       "5368  1245060830145765377  9d9bb22c54cb933330f754d686d2fb2f            0.0   \n",
       "\n",
       "      Reputation  is_deleted  user_political_polarisation  \\\n",
       "5364    0.988202       False                          0.0   \n",
       "5365    0.988202       False                          0.0   \n",
       "5366    0.988202       False                          0.0   \n",
       "5367    0.988202       False                          0.0   \n",
       "5368    0.988202       False                          0.0   \n",
       "\n",
       "      user_science_polarisation  user_moderacy_polarisation  \n",
       "5364                        1.0                         0.0  \n",
       "5365                        1.0                         0.0  \n",
       "5366                        1.0                         0.0  \n",
       "5367                        1.0                         0.0  \n",
       "5368                        1.0                         0.0  "
      ]
     },
     "execution_count": 16,
     "metadata": {},
     "output_type": "execute_result"
    }
   ],
   "source": [
    "df_tweetscov19_polarized_user[df_tweetscov19_polarized_user['user_moderacy_polarisation'] == 0].head()"
   ]
  },
  {
   "cell_type": "markdown",
   "id": "2631edf9",
   "metadata": {},
   "source": [
    "### Add Timestamp"
   ]
  },
  {
   "cell_type": "code",
   "execution_count": 17,
   "id": "9970341e",
   "metadata": {},
   "outputs": [
    {
     "name": "stdout",
     "output_type": "stream",
     "text": [
      "Shape : (9409841, 3)\n"
     ]
    },
    {
     "data": {
      "text/html": [
       "<div>\n",
       "<style scoped>\n",
       "    .dataframe tbody tr th:only-of-type {\n",
       "        vertical-align: middle;\n",
       "    }\n",
       "\n",
       "    .dataframe tbody tr th {\n",
       "        vertical-align: top;\n",
       "    }\n",
       "\n",
       "    .dataframe thead th {\n",
       "        text-align: right;\n",
       "    }\n",
       "</style>\n",
       "<table border=\"1\" class=\"dataframe\">\n",
       "  <thead>\n",
       "    <tr style=\"text-align: right;\">\n",
       "      <th></th>\n",
       "      <th>Tweet_Id</th>\n",
       "      <th>Username</th>\n",
       "      <th>Timestamp</th>\n",
       "    </tr>\n",
       "  </thead>\n",
       "  <tbody>\n",
       "    <tr>\n",
       "      <th>0</th>\n",
       "      <td>1178791637348212736</td>\n",
       "      <td>c57d4fb895c5f4a33d2a2b24709f93b5</td>\n",
       "      <td>2019-09-30 22:00:01+00:00</td>\n",
       "    </tr>\n",
       "    <tr>\n",
       "      <th>1</th>\n",
       "      <td>1178791641601232896</td>\n",
       "      <td>627f7d4ef584ba33a676a4ebcb861cdb</td>\n",
       "      <td>2019-09-30 22:00:02+00:00</td>\n",
       "    </tr>\n",
       "    <tr>\n",
       "      <th>2</th>\n",
       "      <td>1178791643509612547</td>\n",
       "      <td>7966d5716c1c4f33591b17755184e3d6</td>\n",
       "      <td>2019-09-30 22:00:03+00:00</td>\n",
       "    </tr>\n",
       "    <tr>\n",
       "      <th>3</th>\n",
       "      <td>1178791644214235137</td>\n",
       "      <td>f17996c036ed4cd981f5448fe00d9ed2</td>\n",
       "      <td>2019-09-30 22:00:03+00:00</td>\n",
       "    </tr>\n",
       "    <tr>\n",
       "      <th>4</th>\n",
       "      <td>1178791645371875329</td>\n",
       "      <td>32a54e5f6d8a67de1bffd2e689594dc8</td>\n",
       "      <td>2019-09-30 22:00:03+00:00</td>\n",
       "    </tr>\n",
       "  </tbody>\n",
       "</table>\n",
       "</div>"
      ],
      "text/plain": [
       "              Tweet_Id                          Username  \\\n",
       "0  1178791637348212736  c57d4fb895c5f4a33d2a2b24709f93b5   \n",
       "1  1178791641601232896  627f7d4ef584ba33a676a4ebcb861cdb   \n",
       "2  1178791643509612547  7966d5716c1c4f33591b17755184e3d6   \n",
       "3  1178791644214235137  f17996c036ed4cd981f5448fe00d9ed2   \n",
       "4  1178791645371875329  32a54e5f6d8a67de1bffd2e689594dc8   \n",
       "\n",
       "                   Timestamp  \n",
       "0  2019-09-30 22:00:01+00:00  \n",
       "1  2019-09-30 22:00:02+00:00  \n",
       "2  2019-09-30 22:00:03+00:00  \n",
       "3  2019-09-30 22:00:03+00:00  \n",
       "4  2019-09-30 22:00:03+00:00  "
      ]
     },
     "execution_count": 17,
     "metadata": {},
     "output_type": "execute_result"
    }
   ],
   "source": [
    "path = '../data/tweetsCov19_tweetsid_username_timestamp.tsv'\n",
    "\n",
    "df_tweetscov19_id_user_time = pd.read_csv(path, sep='\\t', error_bad_lines=False, names=['Tweet_Id', 'Username', 'Timestamp'])\n",
    "\n",
    "print('Shape :', df_tweetscov19_id_user_time.shape)\n",
    "df_tweetscov19_id_user_time.head()"
   ]
  },
  {
   "cell_type": "code",
   "execution_count": 18,
   "id": "f357c077",
   "metadata": {},
   "outputs": [
    {
     "data": {
      "text/html": [
       "<div>\n",
       "<style scoped>\n",
       "    .dataframe tbody tr th:only-of-type {\n",
       "        vertical-align: middle;\n",
       "    }\n",
       "\n",
       "    .dataframe tbody tr th {\n",
       "        vertical-align: top;\n",
       "    }\n",
       "\n",
       "    .dataframe thead th {\n",
       "        text-align: right;\n",
       "    }\n",
       "</style>\n",
       "<table border=\"1\" class=\"dataframe\">\n",
       "  <thead>\n",
       "    <tr style=\"text-align: right;\">\n",
       "      <th></th>\n",
       "      <th>Tweet_Id</th>\n",
       "      <th>Username</th>\n",
       "      <th>Deletionratio</th>\n",
       "      <th>Reputation</th>\n",
       "      <th>is_deleted</th>\n",
       "      <th>user_political_polarisation</th>\n",
       "      <th>user_science_polarisation</th>\n",
       "      <th>user_moderacy_polarisation</th>\n",
       "      <th>Timestamp</th>\n",
       "    </tr>\n",
       "  </thead>\n",
       "  <tbody>\n",
       "    <tr>\n",
       "      <th>0</th>\n",
       "      <td>1178791643509612547</td>\n",
       "      <td>7966d5716c1c4f33591b17755184e3d6</td>\n",
       "      <td>0.208333</td>\n",
       "      <td>0.572205</td>\n",
       "      <td>False</td>\n",
       "      <td>-0.5</td>\n",
       "      <td>0.0</td>\n",
       "      <td>-1.0</td>\n",
       "      <td>2019-09-30 22:00:03+00:00</td>\n",
       "    </tr>\n",
       "  </tbody>\n",
       "</table>\n",
       "</div>"
      ],
      "text/plain": [
       "              Tweet_Id                          Username  Deletionratio  \\\n",
       "0  1178791643509612547  7966d5716c1c4f33591b17755184e3d6       0.208333   \n",
       "\n",
       "   Reputation  is_deleted  user_political_polarisation  \\\n",
       "0    0.572205       False                         -0.5   \n",
       "\n",
       "   user_science_polarisation  user_moderacy_polarisation  \\\n",
       "0                        0.0                        -1.0   \n",
       "\n",
       "                   Timestamp  \n",
       "0  2019-09-30 22:00:03+00:00  "
      ]
     },
     "execution_count": 18,
     "metadata": {},
     "output_type": "execute_result"
    }
   ],
   "source": [
    "df_tweetscov19_id_user_time = df_tweetscov19_id_user_time[['Tweet_Id', 'Timestamp']]\n",
    "df_tweetscov19_polarized_user = pd.merge(df_tweetscov19_polarized_user, df_tweetscov19_id_user_time, how='inner', on='Tweet_Id')\n",
    "df_tweetscov19_polarized_user.head(1)"
   ]
  },
  {
   "cell_type": "code",
   "execution_count": 19,
   "id": "8106fc1e",
   "metadata": {},
   "outputs": [
    {
     "data": {
      "text/plain": [
       "(2231354, 9)"
      ]
     },
     "execution_count": 19,
     "metadata": {},
     "output_type": "execute_result"
    }
   ],
   "source": [
    "df_tweetscov19_polarized_user.shape"
   ]
  },
  {
   "cell_type": "code",
   "execution_count": 20,
   "id": "3c9dc41b",
   "metadata": {},
   "outputs": [],
   "source": [
    "# pfad_tsv = '../data/tweetsCov19_polarized_users_deletionratio_reputation_timestamp.tsv'\n",
    "\n",
    "# with open(pfad_tsv, 'w', newline='', encoding=\"utf-8\") as out_file:\n",
    "#     tsv_writer = csv.writer(out_file, delimiter=\"\\t\")\n",
    "#     for idx, row in df_tweetscov19_polarized_user.iterrows():\n",
    "#         tsv_writer.writerow(row.values.tolist())"
   ]
  },
  {
   "cell_type": "markdown",
   "id": "447bdb00",
   "metadata": {},
   "source": [
    "-------------------------"
   ]
  },
  {
   "cell_type": "markdown",
   "id": "6432c230",
   "metadata": {},
   "source": [
    "## Merge tweets polarisation"
   ]
  },
  {
   "cell_type": "code",
   "execution_count": 21,
   "id": "210d5889",
   "metadata": {},
   "outputs": [
    {
     "name": "stdout",
     "output_type": "stream",
     "text": [
      "Shape : (611835, 5)\n"
     ]
    },
    {
     "data": {
      "text/html": [
       "<div>\n",
       "<style scoped>\n",
       "    .dataframe tbody tr th:only-of-type {\n",
       "        vertical-align: middle;\n",
       "    }\n",
       "\n",
       "    .dataframe tbody tr th {\n",
       "        vertical-align: top;\n",
       "    }\n",
       "\n",
       "    .dataframe thead th {\n",
       "        text-align: right;\n",
       "    }\n",
       "</style>\n",
       "<table border=\"1\" class=\"dataframe\">\n",
       "  <thead>\n",
       "    <tr style=\"text-align: right;\">\n",
       "      <th></th>\n",
       "      <th>Tweet_Id</th>\n",
       "      <th>Number_of_liberals</th>\n",
       "      <th>Number_of_conservatives</th>\n",
       "      <th>Sum_polarized_domains</th>\n",
       "      <th>tweet_political_polarisation</th>\n",
       "    </tr>\n",
       "  </thead>\n",
       "  <tbody>\n",
       "    <tr>\n",
       "      <th>0</th>\n",
       "      <td>1178791675315011589</td>\n",
       "      <td>-1</td>\n",
       "      <td>0</td>\n",
       "      <td>1</td>\n",
       "      <td>-1.0</td>\n",
       "    </tr>\n",
       "    <tr>\n",
       "      <th>1</th>\n",
       "      <td>1178791745447968768</td>\n",
       "      <td>-1</td>\n",
       "      <td>0</td>\n",
       "      <td>1</td>\n",
       "      <td>-1.0</td>\n",
       "    </tr>\n",
       "    <tr>\n",
       "      <th>2</th>\n",
       "      <td>1178791856890503170</td>\n",
       "      <td>-1</td>\n",
       "      <td>0</td>\n",
       "      <td>1</td>\n",
       "      <td>-1.0</td>\n",
       "    </tr>\n",
       "    <tr>\n",
       "      <th>3</th>\n",
       "      <td>1178791939728130048</td>\n",
       "      <td>-1</td>\n",
       "      <td>0</td>\n",
       "      <td>1</td>\n",
       "      <td>-1.0</td>\n",
       "    </tr>\n",
       "    <tr>\n",
       "      <th>4</th>\n",
       "      <td>1178791946413846529</td>\n",
       "      <td>-1</td>\n",
       "      <td>0</td>\n",
       "      <td>1</td>\n",
       "      <td>-1.0</td>\n",
       "    </tr>\n",
       "  </tbody>\n",
       "</table>\n",
       "</div>"
      ],
      "text/plain": [
       "              Tweet_Id  Number_of_liberals  Number_of_conservatives  \\\n",
       "0  1178791675315011589                  -1                        0   \n",
       "1  1178791745447968768                  -1                        0   \n",
       "2  1178791856890503170                  -1                        0   \n",
       "3  1178791939728130048                  -1                        0   \n",
       "4  1178791946413846529                  -1                        0   \n",
       "\n",
       "   Sum_polarized_domains  tweet_political_polarisation  \n",
       "0                      1                          -1.0  \n",
       "1                      1                          -1.0  \n",
       "2                      1                          -1.0  \n",
       "3                      1                          -1.0  \n",
       "4                      1                          -1.0  "
      ]
     },
     "execution_count": 21,
     "metadata": {},
     "output_type": "execute_result"
    }
   ],
   "source": [
    "path = '../data/tweetscov19_political_polarized_tweets.tsv'\n",
    "\n",
    "df_tweetscov19_political_polarized_tweets = pd.read_csv(path, sep='\\t', error_bad_lines=False, names=['Tweet_Id', 'Number_of_liberals', 'Number_of_conservatives', 'Sum_polarized_domains', 'tweet_political_polarisation'])\n",
    "\n",
    "print('Shape :', df_tweetscov19_political_polarized_tweets.shape)\n",
    "df_tweetscov19_political_polarized_tweets.head()"
   ]
  },
  {
   "cell_type": "code",
   "execution_count": 22,
   "id": "e083fc85",
   "metadata": {},
   "outputs": [
    {
     "name": "stdout",
     "output_type": "stream",
     "text": [
      "Shape : (148308, 5)\n"
     ]
    },
    {
     "data": {
      "text/html": [
       "<div>\n",
       "<style scoped>\n",
       "    .dataframe tbody tr th:only-of-type {\n",
       "        vertical-align: middle;\n",
       "    }\n",
       "\n",
       "    .dataframe tbody tr th {\n",
       "        vertical-align: top;\n",
       "    }\n",
       "\n",
       "    .dataframe thead th {\n",
       "        text-align: right;\n",
       "    }\n",
       "</style>\n",
       "<table border=\"1\" class=\"dataframe\">\n",
       "  <thead>\n",
       "    <tr style=\"text-align: right;\">\n",
       "      <th></th>\n",
       "      <th>Tweet_Id</th>\n",
       "      <th>number_of_antisciens_domains</th>\n",
       "      <th>number_of_prosciens_domains</th>\n",
       "      <th>Sum_polarized_domains</th>\n",
       "      <th>tweet_science_polarisation</th>\n",
       "    </tr>\n",
       "  </thead>\n",
       "  <tbody>\n",
       "    <tr>\n",
       "      <th>0</th>\n",
       "      <td>1178791818135314432</td>\n",
       "      <td>-1</td>\n",
       "      <td>0</td>\n",
       "      <td>1</td>\n",
       "      <td>-1.0</td>\n",
       "    </tr>\n",
       "    <tr>\n",
       "      <th>1</th>\n",
       "      <td>1178791899769049091</td>\n",
       "      <td>0</td>\n",
       "      <td>1</td>\n",
       "      <td>1</td>\n",
       "      <td>1.0</td>\n",
       "    </tr>\n",
       "    <tr>\n",
       "      <th>2</th>\n",
       "      <td>1178792638838956032</td>\n",
       "      <td>-1</td>\n",
       "      <td>0</td>\n",
       "      <td>1</td>\n",
       "      <td>-1.0</td>\n",
       "    </tr>\n",
       "    <tr>\n",
       "      <th>3</th>\n",
       "      <td>1178793544804454402</td>\n",
       "      <td>-1</td>\n",
       "      <td>0</td>\n",
       "      <td>1</td>\n",
       "      <td>-1.0</td>\n",
       "    </tr>\n",
       "    <tr>\n",
       "      <th>4</th>\n",
       "      <td>1178794161350139904</td>\n",
       "      <td>0</td>\n",
       "      <td>1</td>\n",
       "      <td>1</td>\n",
       "      <td>1.0</td>\n",
       "    </tr>\n",
       "  </tbody>\n",
       "</table>\n",
       "</div>"
      ],
      "text/plain": [
       "              Tweet_Id  number_of_antisciens_domains  \\\n",
       "0  1178791818135314432                            -1   \n",
       "1  1178791899769049091                             0   \n",
       "2  1178792638838956032                            -1   \n",
       "3  1178793544804454402                            -1   \n",
       "4  1178794161350139904                             0   \n",
       "\n",
       "   number_of_prosciens_domains  Sum_polarized_domains  \\\n",
       "0                            0                      1   \n",
       "1                            1                      1   \n",
       "2                            0                      1   \n",
       "3                            0                      1   \n",
       "4                            1                      1   \n",
       "\n",
       "   tweet_science_polarisation  \n",
       "0                        -1.0  \n",
       "1                         1.0  \n",
       "2                        -1.0  \n",
       "3                        -1.0  \n",
       "4                         1.0  "
      ]
     },
     "execution_count": 22,
     "metadata": {},
     "output_type": "execute_result"
    }
   ],
   "source": [
    "path = '../data/tweetscov19_science_polarized_tweets.tsv'\n",
    "\n",
    "df_tweetscov19_science_polarized_tweets = pd.read_csv(path, sep='\\t', error_bad_lines=False, dtype={'Tweet_Id':'object'} ,names=['Tweet_Id', 'number_of_antisciens_domains', 'number_of_prosciens_domains', 'Sum_polarized_domains', 'tweet_science_polarisation'])\n",
    "\n",
    "print('Shape :', df_tweetscov19_science_polarized_tweets.shape)\n",
    "df_tweetscov19_science_polarized_tweets.head()"
   ]
  },
  {
   "cell_type": "code",
   "execution_count": 23,
   "id": "b44412a0",
   "metadata": {
    "scrolled": true
   },
   "outputs": [
    {
     "name": "stdout",
     "output_type": "stream",
     "text": [
      "Shape : (611835, 5)\n"
     ]
    },
    {
     "data": {
      "text/html": [
       "<div>\n",
       "<style scoped>\n",
       "    .dataframe tbody tr th:only-of-type {\n",
       "        vertical-align: middle;\n",
       "    }\n",
       "\n",
       "    .dataframe tbody tr th {\n",
       "        vertical-align: top;\n",
       "    }\n",
       "\n",
       "    .dataframe thead th {\n",
       "        text-align: right;\n",
       "    }\n",
       "</style>\n",
       "<table border=\"1\" class=\"dataframe\">\n",
       "  <thead>\n",
       "    <tr style=\"text-align: right;\">\n",
       "      <th></th>\n",
       "      <th>Tweet_Id</th>\n",
       "      <th>Number_of_moderate_domains</th>\n",
       "      <th>Number_of_hardline_domains</th>\n",
       "      <th>Sum_polarized_domains</th>\n",
       "      <th>tweet_moderacy_polarisation</th>\n",
       "    </tr>\n",
       "  </thead>\n",
       "  <tbody>\n",
       "    <tr>\n",
       "      <th>0</th>\n",
       "      <td>1178791675315011589</td>\n",
       "      <td>-1</td>\n",
       "      <td>0</td>\n",
       "      <td>1</td>\n",
       "      <td>-1.0</td>\n",
       "    </tr>\n",
       "    <tr>\n",
       "      <th>1</th>\n",
       "      <td>1178791745447968768</td>\n",
       "      <td>0</td>\n",
       "      <td>1</td>\n",
       "      <td>1</td>\n",
       "      <td>1.0</td>\n",
       "    </tr>\n",
       "    <tr>\n",
       "      <th>2</th>\n",
       "      <td>1178791856890503170</td>\n",
       "      <td>-1</td>\n",
       "      <td>0</td>\n",
       "      <td>1</td>\n",
       "      <td>-1.0</td>\n",
       "    </tr>\n",
       "    <tr>\n",
       "      <th>3</th>\n",
       "      <td>1178791939728130048</td>\n",
       "      <td>-1</td>\n",
       "      <td>0</td>\n",
       "      <td>1</td>\n",
       "      <td>-1.0</td>\n",
       "    </tr>\n",
       "    <tr>\n",
       "      <th>4</th>\n",
       "      <td>1178791946413846529</td>\n",
       "      <td>0</td>\n",
       "      <td>1</td>\n",
       "      <td>1</td>\n",
       "      <td>1.0</td>\n",
       "    </tr>\n",
       "  </tbody>\n",
       "</table>\n",
       "</div>"
      ],
      "text/plain": [
       "              Tweet_Id  Number_of_moderate_domains  \\\n",
       "0  1178791675315011589                          -1   \n",
       "1  1178791745447968768                           0   \n",
       "2  1178791856890503170                          -1   \n",
       "3  1178791939728130048                          -1   \n",
       "4  1178791946413846529                           0   \n",
       "\n",
       "   Number_of_hardline_domains  Sum_polarized_domains  \\\n",
       "0                           0                      1   \n",
       "1                           1                      1   \n",
       "2                           0                      1   \n",
       "3                           0                      1   \n",
       "4                           1                      1   \n",
       "\n",
       "   tweet_moderacy_polarisation  \n",
       "0                         -1.0  \n",
       "1                          1.0  \n",
       "2                         -1.0  \n",
       "3                         -1.0  \n",
       "4                          1.0  "
      ]
     },
     "execution_count": 23,
     "metadata": {},
     "output_type": "execute_result"
    }
   ],
   "source": [
    "path = '../data/tweetscov19_moderacy_polarized_tweets.tsv'\n",
    "\n",
    "df_tweetscov19_moderacy_polarized_tweets = pd.read_csv(path, sep='\\t', error_bad_lines=False, names=['Tweet_Id', 'Number_of_moderate_domains', 'Number_of_hardline_domains', 'Sum_polarized_domains', 'tweet_moderacy_polarisation'])\n",
    "\n",
    "print('Shape :', df_tweetscov19_moderacy_polarized_tweets.shape)\n",
    "df_tweetscov19_moderacy_polarized_tweets.head()"
   ]
  },
  {
   "cell_type": "code",
   "execution_count": 24,
   "id": "b0678bb3",
   "metadata": {},
   "outputs": [],
   "source": [
    "df_tweetscov19_political_polarized_tweets = df_tweetscov19_political_polarized_tweets[['Tweet_Id', 'tweet_political_polarisation']]\n",
    "df_tweetscov19_science_polarized_tweets = df_tweetscov19_science_polarized_tweets[['Tweet_Id', 'tweet_science_polarisation']]\n",
    "df_tweetscov19_moderacy_polarized_tweets = df_tweetscov19_moderacy_polarized_tweets[['Tweet_Id', 'tweet_moderacy_polarisation']]\n",
    "\n",
    "df_tweetscov19_polarized_user.Tweet_Id = df_tweetscov19_polarized_user.Tweet_Id.astype(str) \n",
    "df_tweetscov19_political_polarized_tweets.Tweet_Id = df_tweetscov19_political_polarized_tweets.Tweet_Id.astype(str) \n",
    "df_tweetscov19_science_polarized_tweets.Tweet_Id = df_tweetscov19_science_polarized_tweets.Tweet_Id.astype(str) \n",
    "df_tweetscov19_moderacy_polarized_tweets.Tweet_Id = df_tweetscov19_moderacy_polarized_tweets.Tweet_Id.astype(str) \n",
    "\n",
    "df_tweetscov19_polarized_tweets = pd.merge(df_tweetscov19_political_polarized_tweets, df_tweetscov19_science_polarized_tweets, on= 'Tweet_Id', how='outer' )\n",
    "df_tweetscov19_polarized_tweets = pd.merge(df_tweetscov19_polarized_tweets, df_tweetscov19_moderacy_polarized_tweets, on= 'Tweet_Id', how='left' )"
   ]
  },
  {
   "cell_type": "code",
   "execution_count": 25,
   "id": "11173547",
   "metadata": {},
   "outputs": [
    {
     "data": {
      "text/html": [
       "<div>\n",
       "<style scoped>\n",
       "    .dataframe tbody tr th:only-of-type {\n",
       "        vertical-align: middle;\n",
       "    }\n",
       "\n",
       "    .dataframe tbody tr th {\n",
       "        vertical-align: top;\n",
       "    }\n",
       "\n",
       "    .dataframe thead th {\n",
       "        text-align: right;\n",
       "    }\n",
       "</style>\n",
       "<table border=\"1\" class=\"dataframe\">\n",
       "  <thead>\n",
       "    <tr style=\"text-align: right;\">\n",
       "      <th></th>\n",
       "      <th>Tweet_Id</th>\n",
       "      <th>tweet_political_polarisation</th>\n",
       "      <th>tweet_science_polarisation</th>\n",
       "      <th>tweet_moderacy_polarisation</th>\n",
       "    </tr>\n",
       "  </thead>\n",
       "  <tbody>\n",
       "    <tr>\n",
       "      <th>0</th>\n",
       "      <td>1178791675315011589</td>\n",
       "      <td>-1.0</td>\n",
       "      <td>NaN</td>\n",
       "      <td>-1.0</td>\n",
       "    </tr>\n",
       "    <tr>\n",
       "      <th>1</th>\n",
       "      <td>1178791745447968768</td>\n",
       "      <td>-1.0</td>\n",
       "      <td>NaN</td>\n",
       "      <td>1.0</td>\n",
       "    </tr>\n",
       "    <tr>\n",
       "      <th>2</th>\n",
       "      <td>1178791856890503170</td>\n",
       "      <td>-1.0</td>\n",
       "      <td>NaN</td>\n",
       "      <td>-1.0</td>\n",
       "    </tr>\n",
       "    <tr>\n",
       "      <th>3</th>\n",
       "      <td>1178791939728130048</td>\n",
       "      <td>-1.0</td>\n",
       "      <td>NaN</td>\n",
       "      <td>-1.0</td>\n",
       "    </tr>\n",
       "    <tr>\n",
       "      <th>4</th>\n",
       "      <td>1178791946413846529</td>\n",
       "      <td>-1.0</td>\n",
       "      <td>NaN</td>\n",
       "      <td>1.0</td>\n",
       "    </tr>\n",
       "  </tbody>\n",
       "</table>\n",
       "</div>"
      ],
      "text/plain": [
       "              Tweet_Id  tweet_political_polarisation  \\\n",
       "0  1178791675315011589                          -1.0   \n",
       "1  1178791745447968768                          -1.0   \n",
       "2  1178791856890503170                          -1.0   \n",
       "3  1178791939728130048                          -1.0   \n",
       "4  1178791946413846529                          -1.0   \n",
       "\n",
       "   tweet_science_polarisation  tweet_moderacy_polarisation  \n",
       "0                         NaN                         -1.0  \n",
       "1                         NaN                          1.0  \n",
       "2                         NaN                         -1.0  \n",
       "3                         NaN                         -1.0  \n",
       "4                         NaN                          1.0  "
      ]
     },
     "execution_count": 25,
     "metadata": {},
     "output_type": "execute_result"
    }
   ],
   "source": [
    "df_tweetscov19_polarized_tweets.head()"
   ]
  },
  {
   "cell_type": "code",
   "execution_count": 26,
   "id": "c37bdfc8",
   "metadata": {},
   "outputs": [
    {
     "data": {
      "text/plain": [
       "(759735, 4)"
      ]
     },
     "execution_count": 26,
     "metadata": {},
     "output_type": "execute_result"
    }
   ],
   "source": [
    "df_tweetscov19_polarized_tweets.shape"
   ]
  },
  {
   "cell_type": "code",
   "execution_count": 27,
   "id": "cf6ea26c",
   "metadata": {},
   "outputs": [
    {
     "data": {
      "text/plain": [
       "(759735, 12)"
      ]
     },
     "execution_count": 27,
     "metadata": {},
     "output_type": "execute_result"
    }
   ],
   "source": [
    "df_tweetscov19_polarized_user_and_tweet = pd.merge(df_tweetscov19_polarized_user, df_tweetscov19_polarized_tweets, how='inner', on='Tweet_Id')\n",
    "df_tweetscov19_polarized_user_and_tweet.shape"
   ]
  },
  {
   "cell_type": "code",
   "execution_count": 28,
   "id": "3e85e502",
   "metadata": {},
   "outputs": [
    {
     "data": {
      "text/html": [
       "<div>\n",
       "<style scoped>\n",
       "    .dataframe tbody tr th:only-of-type {\n",
       "        vertical-align: middle;\n",
       "    }\n",
       "\n",
       "    .dataframe tbody tr th {\n",
       "        vertical-align: top;\n",
       "    }\n",
       "\n",
       "    .dataframe thead th {\n",
       "        text-align: right;\n",
       "    }\n",
       "</style>\n",
       "<table border=\"1\" class=\"dataframe\">\n",
       "  <thead>\n",
       "    <tr style=\"text-align: right;\">\n",
       "      <th></th>\n",
       "      <th>Tweet_Id</th>\n",
       "      <th>Username</th>\n",
       "      <th>Timestamp</th>\n",
       "      <th>Deletionratio</th>\n",
       "      <th>Reputation</th>\n",
       "      <th>is_deleted</th>\n",
       "      <th>user_political_polarisation</th>\n",
       "      <th>user_science_polarisation</th>\n",
       "      <th>user_moderacy_polarisation</th>\n",
       "      <th>tweet_political_polarisation</th>\n",
       "      <th>tweet_science_polarisation</th>\n",
       "      <th>tweet_moderacy_polarisation</th>\n",
       "    </tr>\n",
       "  </thead>\n",
       "  <tbody>\n",
       "    <tr>\n",
       "      <th>0</th>\n",
       "      <td>1184746364158271488</td>\n",
       "      <td>7966d5716c1c4f33591b17755184e3d6</td>\n",
       "      <td>2019-10-17 08:21:59+00:00</td>\n",
       "      <td>0.208333</td>\n",
       "      <td>0.572205</td>\n",
       "      <td>False</td>\n",
       "      <td>-0.5</td>\n",
       "      <td>0.0</td>\n",
       "      <td>-1.0</td>\n",
       "      <td>-1.0</td>\n",
       "      <td>NaN</td>\n",
       "      <td>-1.0</td>\n",
       "    </tr>\n",
       "  </tbody>\n",
       "</table>\n",
       "</div>"
      ],
      "text/plain": [
       "              Tweet_Id                          Username  \\\n",
       "0  1184746364158271488  7966d5716c1c4f33591b17755184e3d6   \n",
       "\n",
       "                   Timestamp  Deletionratio  Reputation  is_deleted  \\\n",
       "0  2019-10-17 08:21:59+00:00       0.208333    0.572205       False   \n",
       "\n",
       "   user_political_polarisation  user_science_polarisation  \\\n",
       "0                         -0.5                        0.0   \n",
       "\n",
       "   user_moderacy_polarisation  tweet_political_polarisation  \\\n",
       "0                        -1.0                          -1.0   \n",
       "\n",
       "   tweet_science_polarisation  tweet_moderacy_polarisation  \n",
       "0                         NaN                         -1.0  "
      ]
     },
     "execution_count": 28,
     "metadata": {},
     "output_type": "execute_result"
    }
   ],
   "source": [
    "df_tweetscov19_polarized_user_and_tweet = df_tweetscov19_polarized_user_and_tweet[['Tweet_Id', 'Username', 'Timestamp', 'Deletionratio', 'Reputation', 'is_deleted', 'user_political_polarisation', 'user_science_polarisation', 'user_moderacy_polarisation', 'tweet_political_polarisation', 'tweet_science_polarisation', 'tweet_moderacy_polarisation']]\n",
    "# df_tweetscov19_polarized_user_and_tweet = df_tweetscov19_polarized_user_and_tweet.replace(np.nan, 0)\n",
    "df_tweetscov19_polarized_user_and_tweet.head(1)"
   ]
  },
  {
   "cell_type": "code",
   "execution_count": 29,
   "id": "74ea7e88",
   "metadata": {},
   "outputs": [
    {
     "name": "stdout",
     "output_type": "stream",
     "text": [
      "Deletd :  122623\n",
      "Undeleted:  637112\n"
     ]
    }
   ],
   "source": [
    "deleted = df_tweetscov19_polarized_user_and_tweet[df_tweetscov19_polarized_user_and_tweet.is_deleted == True].shape[0]\n",
    "undeleted = df_tweetscov19_polarized_user_and_tweet[df_tweetscov19_polarized_user_and_tweet.is_deleted == False].shape[0]\n",
    "\n",
    "print('Deletd : ',deleted)\n",
    "print('Undeleted: ',undeleted)"
   ]
  },
  {
   "cell_type": "code",
   "execution_count": 30,
   "id": "e8ed39b2",
   "metadata": {},
   "outputs": [
    {
     "data": {
      "text/plain": [
       "205084"
      ]
     },
     "execution_count": 30,
     "metadata": {},
     "output_type": "execute_result"
    }
   ],
   "source": [
    "len(df_tweetscov19_polarized_user_and_tweet.Username.unique())"
   ]
  },
  {
   "cell_type": "code",
   "execution_count": null,
   "id": "e596d3a3",
   "metadata": {},
   "outputs": [],
   "source": []
  },
  {
   "cell_type": "code",
   "execution_count": 37,
   "id": "f0092c4a",
   "metadata": {},
   "outputs": [],
   "source": [
    "# pfad_tsv = '../data/tweetsCov19_polarized_users_and_tweets_deletionratio_reputation_timestamp.tsv'\n",
    "\n",
    "# with open(pfad_tsv, 'w', newline='', encoding=\"utf-8\") as out_file:\n",
    "#     tsv_writer = csv.writer(out_file, delimiter=\"\\t\")\n",
    "#     for idx, row in df_tweetscov19_polarized_user_and_tweet.iterrows():\n",
    "#         tsv_writer.writerow(row.values.tolist())"
   ]
  },
  {
   "cell_type": "markdown",
   "id": "e0c07acb",
   "metadata": {},
   "source": [
    "-----------------"
   ]
  }
 ],
 "metadata": {
  "kernelspec": {
   "display_name": "Python 3",
   "language": "python",
   "name": "python3"
  },
  "language_info": {
   "codemirror_mode": {
    "name": "ipython",
    "version": 3
   },
   "file_extension": ".py",
   "mimetype": "text/x-python",
   "name": "python",
   "nbconvert_exporter": "python",
   "pygments_lexer": "ipython3",
   "version": "3.8.8"
  }
 },
 "nbformat": 4,
 "nbformat_minor": 5
}
