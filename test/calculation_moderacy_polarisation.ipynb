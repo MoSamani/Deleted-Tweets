{
 "cells": [
  {
   "cell_type": "code",
   "execution_count": 2,
   "id": "48980fe5",
   "metadata": {},
   "outputs": [],
   "source": [
    "#CSV Bibliothek importieren \n",
    "import csv\n",
    "#Pandas importieren und als pd bezeichnen\n",
    "import pandas as pd\n",
    "#Numpy importieren und als np bezeichnen \n",
    "import numpy as np\n",
    "#Json Biliothek importieren\n",
    "import json\n",
    "#Obere Schranke für die Größe der Daten auf 100,000,000 setzen  \n",
    "csv.field_size_limit(100000000)\n",
    "#Maximale Anzahl von Zeilen und Spalten Zeigen \n",
    "pd.options.display.max_columns = None\n",
    "pd.options.display.max_rows = None\n",
    "#Extraktion der Domäne\n",
    "import tldextract\n",
    "import warnings\n",
    "warnings.filterwarnings('ignore')\n"
   ]
  },
  {
   "cell_type": "markdown",
   "id": "0323ee4a",
   "metadata": {},
   "source": [
    "***"
   ]
  },
  {
   "cell_type": "markdown",
   "id": "8302f676",
   "metadata": {},
   "source": [
    "***"
   ]
  },
  {
   "cell_type": "markdown",
   "id": "91d9ada2",
   "metadata": {},
   "source": [
    "### Moderate"
   ]
  },
  {
   "cell_type": "code",
   "execution_count": 3,
   "id": "334bee4c",
   "metadata": {},
   "outputs": [],
   "source": [
    "path = '../data/df_domains_left_right.tsv'\n",
    "\n",
    "df_liberal_conservative_domains = pd.read_csv(path, sep='\\t', error_bad_lines=False)"
   ]
  },
  {
   "cell_type": "code",
   "execution_count": 4,
   "id": "f109882b",
   "metadata": {},
   "outputs": [
    {
     "name": "stdout",
     "output_type": "stream",
     "text": [
      "Shape:  (1589, 5)\n"
     ]
    },
    {
     "data": {
      "text/html": [
       "<div>\n",
       "<style scoped>\n",
       "    .dataframe tbody tr th:only-of-type {\n",
       "        vertical-align: middle;\n",
       "    }\n",
       "\n",
       "    .dataframe tbody tr th {\n",
       "        vertical-align: top;\n",
       "    }\n",
       "\n",
       "    .dataframe thead th {\n",
       "        text-align: right;\n",
       "    }\n",
       "</style>\n",
       "<table border=\"1\" class=\"dataframe\">\n",
       "  <thead>\n",
       "    <tr style=\"text-align: right;\">\n",
       "      <th></th>\n",
       "      <th>domain</th>\n",
       "      <th>mediabias_leftcenterbias</th>\n",
       "      <th>mediabias_leftbias</th>\n",
       "      <th>mediabias_rightcenterbias</th>\n",
       "      <th>mediabias_rightbias</th>\n",
       "    </tr>\n",
       "  </thead>\n",
       "  <tbody>\n",
       "    <tr>\n",
       "      <th>0</th>\n",
       "      <td>604now.com</td>\n",
       "      <td>1.0</td>\n",
       "      <td>0.0</td>\n",
       "      <td>0.0</td>\n",
       "      <td>0.0</td>\n",
       "    </tr>\n",
       "    <tr>\n",
       "      <th>1</th>\n",
       "      <td>972mag.com</td>\n",
       "      <td>1.0</td>\n",
       "      <td>0.0</td>\n",
       "      <td>0.0</td>\n",
       "      <td>0.0</td>\n",
       "    </tr>\n",
       "    <tr>\n",
       "      <th>2</th>\n",
       "      <td>Augustachronicle.com</td>\n",
       "      <td>1.0</td>\n",
       "      <td>0.0</td>\n",
       "      <td>0.0</td>\n",
       "      <td>0.0</td>\n",
       "    </tr>\n",
       "    <tr>\n",
       "      <th>3</th>\n",
       "      <td>Boston.com</td>\n",
       "      <td>1.0</td>\n",
       "      <td>0.0</td>\n",
       "      <td>0.0</td>\n",
       "      <td>0.0</td>\n",
       "    </tr>\n",
       "    <tr>\n",
       "      <th>4</th>\n",
       "      <td>Censor.NET</td>\n",
       "      <td>1.0</td>\n",
       "      <td>0.0</td>\n",
       "      <td>0.0</td>\n",
       "      <td>0.0</td>\n",
       "    </tr>\n",
       "  </tbody>\n",
       "</table>\n",
       "</div>"
      ],
      "text/plain": [
       "                 domain  mediabias_leftcenterbias  mediabias_leftbias  \\\n",
       "0            604now.com                       1.0                 0.0   \n",
       "1            972mag.com                       1.0                 0.0   \n",
       "2  Augustachronicle.com                       1.0                 0.0   \n",
       "3            Boston.com                       1.0                 0.0   \n",
       "4            Censor.NET                       1.0                 0.0   \n",
       "\n",
       "   mediabias_rightcenterbias  mediabias_rightbias  \n",
       "0                        0.0                  0.0  \n",
       "1                        0.0                  0.0  \n",
       "2                        0.0                  0.0  \n",
       "3                        0.0                  0.0  \n",
       "4                        0.0                  0.0  "
      ]
     },
     "execution_count": 4,
     "metadata": {},
     "output_type": "execute_result"
    }
   ],
   "source": [
    "print('Shape: ', df_liberal_conservative_domains.shape)\n",
    "df_liberal_conservative_domains.head()"
   ]
  },
  {
   "cell_type": "code",
   "execution_count": 5,
   "id": "312227dc",
   "metadata": {},
   "outputs": [
    {
     "name": "stdout",
     "output_type": "stream",
     "text": [
      "Shape:  (644, 5)\n"
     ]
    },
    {
     "data": {
      "text/html": [
       "<div>\n",
       "<style scoped>\n",
       "    .dataframe tbody tr th:only-of-type {\n",
       "        vertical-align: middle;\n",
       "    }\n",
       "\n",
       "    .dataframe tbody tr th {\n",
       "        vertical-align: top;\n",
       "    }\n",
       "\n",
       "    .dataframe thead th {\n",
       "        text-align: right;\n",
       "    }\n",
       "</style>\n",
       "<table border=\"1\" class=\"dataframe\">\n",
       "  <thead>\n",
       "    <tr style=\"text-align: right;\">\n",
       "      <th></th>\n",
       "      <th>domain</th>\n",
       "      <th>mediabias_leftcenterbias</th>\n",
       "      <th>mediabias_leftbias</th>\n",
       "      <th>mediabias_rightcenterbias</th>\n",
       "      <th>mediabias_rightbias</th>\n",
       "    </tr>\n",
       "  </thead>\n",
       "  <tbody>\n",
       "    <tr>\n",
       "      <th>0</th>\n",
       "      <td>604now.com</td>\n",
       "      <td>1.0</td>\n",
       "      <td>0.0</td>\n",
       "      <td>0.0</td>\n",
       "      <td>0.0</td>\n",
       "    </tr>\n",
       "    <tr>\n",
       "      <th>1</th>\n",
       "      <td>972mag.com</td>\n",
       "      <td>1.0</td>\n",
       "      <td>0.0</td>\n",
       "      <td>0.0</td>\n",
       "      <td>0.0</td>\n",
       "    </tr>\n",
       "    <tr>\n",
       "      <th>2</th>\n",
       "      <td>Augustachronicle.com</td>\n",
       "      <td>1.0</td>\n",
       "      <td>0.0</td>\n",
       "      <td>0.0</td>\n",
       "      <td>0.0</td>\n",
       "    </tr>\n",
       "    <tr>\n",
       "      <th>3</th>\n",
       "      <td>Boston.com</td>\n",
       "      <td>1.0</td>\n",
       "      <td>0.0</td>\n",
       "      <td>0.0</td>\n",
       "      <td>0.0</td>\n",
       "    </tr>\n",
       "    <tr>\n",
       "      <th>4</th>\n",
       "      <td>Censor.NET</td>\n",
       "      <td>1.0</td>\n",
       "      <td>0.0</td>\n",
       "      <td>0.0</td>\n",
       "      <td>0.0</td>\n",
       "    </tr>\n",
       "  </tbody>\n",
       "</table>\n",
       "</div>"
      ],
      "text/plain": [
       "                 domain  mediabias_leftcenterbias  mediabias_leftbias  \\\n",
       "0            604now.com                       1.0                 0.0   \n",
       "1            972mag.com                       1.0                 0.0   \n",
       "2  Augustachronicle.com                       1.0                 0.0   \n",
       "3            Boston.com                       1.0                 0.0   \n",
       "4            Censor.NET                       1.0                 0.0   \n",
       "\n",
       "   mediabias_rightcenterbias  mediabias_rightbias  \n",
       "0                        0.0                  0.0  \n",
       "1                        0.0                  0.0  \n",
       "2                        0.0                  0.0  \n",
       "3                        0.0                  0.0  \n",
       "4                        0.0                  0.0  "
      ]
     },
     "execution_count": 5,
     "metadata": {},
     "output_type": "execute_result"
    }
   ],
   "source": [
    "df_domain_leftcenterbias = df_liberal_conservative_domains[df_liberal_conservative_domains['mediabias_leftcenterbias'] == 1]\n",
    "\n",
    "print('Shape: ', df_domain_leftcenterbias.shape)\n",
    "df_domain_leftcenterbias.head()"
   ]
  },
  {
   "cell_type": "code",
   "execution_count": 6,
   "id": "b1057b99",
   "metadata": {},
   "outputs": [],
   "source": [
    "list_domain_leftcenterbias = df_domain_leftcenterbias.domain.tolist()"
   ]
  },
  {
   "cell_type": "code",
   "execution_count": 7,
   "id": "e73506ee",
   "metadata": {},
   "outputs": [],
   "source": [
    "def get_unique_items(l1):\n",
    "    l1 = np.array(l1)\n",
    "    l1 = np.unique(l1)\n",
    "    l1 = l1.tolist()\n",
    "    \n",
    "    return l1"
   ]
  },
  {
   "cell_type": "code",
   "execution_count": 8,
   "id": "81ff2715",
   "metadata": {},
   "outputs": [
    {
     "data": {
      "text/plain": [
       "644"
      ]
     },
     "execution_count": 8,
     "metadata": {},
     "output_type": "execute_result"
    }
   ],
   "source": [
    "list_domain_leftcenterbias = get_unique_items(list_domain_leftcenterbias)\n",
    "len(list_domain_leftcenterbias)"
   ]
  },
  {
   "cell_type": "code",
   "execution_count": 9,
   "id": "5d4ebde9",
   "metadata": {},
   "outputs": [
    {
     "name": "stdout",
     "output_type": "stream",
     "text": [
      "Shape:  (381, 5)\n"
     ]
    },
    {
     "data": {
      "text/html": [
       "<div>\n",
       "<style scoped>\n",
       "    .dataframe tbody tr th:only-of-type {\n",
       "        vertical-align: middle;\n",
       "    }\n",
       "\n",
       "    .dataframe tbody tr th {\n",
       "        vertical-align: top;\n",
       "    }\n",
       "\n",
       "    .dataframe thead th {\n",
       "        text-align: right;\n",
       "    }\n",
       "</style>\n",
       "<table border=\"1\" class=\"dataframe\">\n",
       "  <thead>\n",
       "    <tr style=\"text-align: right;\">\n",
       "      <th></th>\n",
       "      <th>domain</th>\n",
       "      <th>mediabias_leftcenterbias</th>\n",
       "      <th>mediabias_leftbias</th>\n",
       "      <th>mediabias_rightcenterbias</th>\n",
       "      <th>mediabias_rightbias</th>\n",
       "    </tr>\n",
       "  </thead>\n",
       "  <tbody>\n",
       "    <tr>\n",
       "      <th>954</th>\n",
       "      <td>13wham.com</td>\n",
       "      <td>0.0</td>\n",
       "      <td>0.0</td>\n",
       "      <td>1.0</td>\n",
       "      <td>0.0</td>\n",
       "    </tr>\n",
       "    <tr>\n",
       "      <th>955</th>\n",
       "      <td>19fortyfive.com</td>\n",
       "      <td>0.0</td>\n",
       "      <td>0.0</td>\n",
       "      <td>1.0</td>\n",
       "      <td>0.0</td>\n",
       "    </tr>\n",
       "    <tr>\n",
       "      <th>956</th>\n",
       "      <td>7news.com.au</td>\n",
       "      <td>0.0</td>\n",
       "      <td>0.0</td>\n",
       "      <td>1.0</td>\n",
       "      <td>0.0</td>\n",
       "    </tr>\n",
       "    <tr>\n",
       "      <th>957</th>\n",
       "      <td>9news.com.au</td>\n",
       "      <td>0.0</td>\n",
       "      <td>0.0</td>\n",
       "      <td>1.0</td>\n",
       "      <td>0.0</td>\n",
       "    </tr>\n",
       "    <tr>\n",
       "      <th>958</th>\n",
       "      <td>Deutschland.de</td>\n",
       "      <td>0.0</td>\n",
       "      <td>0.0</td>\n",
       "      <td>1.0</td>\n",
       "      <td>0.0</td>\n",
       "    </tr>\n",
       "  </tbody>\n",
       "</table>\n",
       "</div>"
      ],
      "text/plain": [
       "              domain  mediabias_leftcenterbias  mediabias_leftbias  \\\n",
       "954       13wham.com                       0.0                 0.0   \n",
       "955  19fortyfive.com                       0.0                 0.0   \n",
       "956     7news.com.au                       0.0                 0.0   \n",
       "957     9news.com.au                       0.0                 0.0   \n",
       "958   Deutschland.de                       0.0                 0.0   \n",
       "\n",
       "     mediabias_rightcenterbias  mediabias_rightbias  \n",
       "954                        1.0                  0.0  \n",
       "955                        1.0                  0.0  \n",
       "956                        1.0                  0.0  \n",
       "957                        1.0                  0.0  \n",
       "958                        1.0                  0.0  "
      ]
     },
     "execution_count": 9,
     "metadata": {},
     "output_type": "execute_result"
    }
   ],
   "source": [
    "df_domain_rightcenterbias = df_liberal_conservative_domains[df_liberal_conservative_domains['mediabias_rightcenterbias'] == 1]\n",
    "\n",
    "print('Shape: ', df_domain_rightcenterbias.shape)\n",
    "df_domain_rightcenterbias.head()"
   ]
  },
  {
   "cell_type": "markdown",
   "id": "1c291278",
   "metadata": {},
   "source": [
    "***"
   ]
  },
  {
   "cell_type": "code",
   "execution_count": 10,
   "id": "3b7157e7",
   "metadata": {},
   "outputs": [
    {
     "data": {
      "text/plain": [
       "381"
      ]
     },
     "execution_count": 10,
     "metadata": {},
     "output_type": "execute_result"
    }
   ],
   "source": [
    "list_domain_rightcenterbias = df_domain_rightcenterbias.domain.tolist()\n",
    "\n",
    "list_domain_rightcenterbias = get_unique_items(list_domain_rightcenterbias)\n",
    "len(list_domain_rightcenterbias)"
   ]
  },
  {
   "cell_type": "code",
   "execution_count": 11,
   "id": "7d3f5484",
   "metadata": {},
   "outputs": [
    {
     "data": {
      "text/plain": [
       "1025"
      ]
     },
     "execution_count": 11,
     "metadata": {},
     "output_type": "execute_result"
    }
   ],
   "source": [
    "list_moderat_domains = []\n",
    "\n",
    "list_moderat_domains.extend(list_domain_rightcenterbias)\n",
    "list_moderat_domains.extend(list_domain_leftcenterbias)\n",
    "\n",
    "list_moderat_domains = get_unique_items(list_moderat_domains)\n",
    "len(list_moderat_domains)"
   ]
  },
  {
   "cell_type": "markdown",
   "id": "ba157f46",
   "metadata": {},
   "source": [
    "***"
   ]
  },
  {
   "cell_type": "markdown",
   "id": "058e9d66",
   "metadata": {},
   "source": [
    "## Hardline"
   ]
  },
  {
   "cell_type": "code",
   "execution_count": 12,
   "id": "56ec1541",
   "metadata": {},
   "outputs": [
    {
     "name": "stdout",
     "output_type": "stream",
     "text": [
      "Shape:  (310, 5)\n"
     ]
    },
    {
     "data": {
      "text/html": [
       "<div>\n",
       "<style scoped>\n",
       "    .dataframe tbody tr th:only-of-type {\n",
       "        vertical-align: middle;\n",
       "    }\n",
       "\n",
       "    .dataframe tbody tr th {\n",
       "        vertical-align: top;\n",
       "    }\n",
       "\n",
       "    .dataframe thead th {\n",
       "        text-align: right;\n",
       "    }\n",
       "</style>\n",
       "<table border=\"1\" class=\"dataframe\">\n",
       "  <thead>\n",
       "    <tr style=\"text-align: right;\">\n",
       "      <th></th>\n",
       "      <th>domain</th>\n",
       "      <th>mediabias_leftcenterbias</th>\n",
       "      <th>mediabias_leftbias</th>\n",
       "      <th>mediabias_rightcenterbias</th>\n",
       "      <th>mediabias_rightbias</th>\n",
       "    </tr>\n",
       "  </thead>\n",
       "  <tbody>\n",
       "    <tr>\n",
       "      <th>644</th>\n",
       "      <td>19thnews.org</td>\n",
       "      <td>0.0</td>\n",
       "      <td>1.0</td>\n",
       "      <td>0.0</td>\n",
       "      <td>0.0</td>\n",
       "    </tr>\n",
       "    <tr>\n",
       "      <th>645</th>\n",
       "      <td>Accountable.US</td>\n",
       "      <td>0.0</td>\n",
       "      <td>1.0</td>\n",
       "      <td>0.0</td>\n",
       "      <td>0.0</td>\n",
       "    </tr>\n",
       "    <tr>\n",
       "      <th>646</th>\n",
       "      <td>Brut.Media</td>\n",
       "      <td>0.0</td>\n",
       "      <td>1.0</td>\n",
       "      <td>0.0</td>\n",
       "      <td>0.0</td>\n",
       "    </tr>\n",
       "    <tr>\n",
       "      <th>647</th>\n",
       "      <td>JoeBiden.com</td>\n",
       "      <td>0.0</td>\n",
       "      <td>1.0</td>\n",
       "      <td>0.0</td>\n",
       "      <td>0.0</td>\n",
       "    </tr>\n",
       "    <tr>\n",
       "      <th>648</th>\n",
       "      <td>Them.us</td>\n",
       "      <td>0.0</td>\n",
       "      <td>1.0</td>\n",
       "      <td>0.0</td>\n",
       "      <td>0.0</td>\n",
       "    </tr>\n",
       "  </tbody>\n",
       "</table>\n",
       "</div>"
      ],
      "text/plain": [
       "             domain  mediabias_leftcenterbias  mediabias_leftbias  \\\n",
       "644    19thnews.org                       0.0                 1.0   \n",
       "645  Accountable.US                       0.0                 1.0   \n",
       "646      Brut.Media                       0.0                 1.0   \n",
       "647    JoeBiden.com                       0.0                 1.0   \n",
       "648         Them.us                       0.0                 1.0   \n",
       "\n",
       "     mediabias_rightcenterbias  mediabias_rightbias  \n",
       "644                        0.0                  0.0  \n",
       "645                        0.0                  0.0  \n",
       "646                        0.0                  0.0  \n",
       "647                        0.0                  0.0  \n",
       "648                        0.0                  0.0  "
      ]
     },
     "execution_count": 12,
     "metadata": {},
     "output_type": "execute_result"
    }
   ],
   "source": [
    "df_domain_leftbias = df_liberal_conservative_domains[df_liberal_conservative_domains['mediabias_leftbias'] == 1]\n",
    "\n",
    "print('Shape: ', df_domain_leftbias.shape)\n",
    "df_domain_leftbias.head()"
   ]
  },
  {
   "cell_type": "code",
   "execution_count": 13,
   "id": "9b5c6b27",
   "metadata": {},
   "outputs": [
    {
     "data": {
      "text/plain": [
       "310"
      ]
     },
     "execution_count": 13,
     "metadata": {},
     "output_type": "execute_result"
    }
   ],
   "source": [
    "list_domain_leftbias = df_domain_leftbias.domain.tolist()\n",
    "\n",
    "list_domain_leftbias = get_unique_items(list_domain_leftbias)\n",
    "len(list_domain_leftbias)"
   ]
  },
  {
   "cell_type": "code",
   "execution_count": 14,
   "id": "09b8f28d",
   "metadata": {},
   "outputs": [
    {
     "name": "stdout",
     "output_type": "stream",
     "text": [
      "Shape:  (254, 5)\n"
     ]
    },
    {
     "data": {
      "text/html": [
       "<div>\n",
       "<style scoped>\n",
       "    .dataframe tbody tr th:only-of-type {\n",
       "        vertical-align: middle;\n",
       "    }\n",
       "\n",
       "    .dataframe tbody tr th {\n",
       "        vertical-align: top;\n",
       "    }\n",
       "\n",
       "    .dataframe thead th {\n",
       "        text-align: right;\n",
       "    }\n",
       "</style>\n",
       "<table border=\"1\" class=\"dataframe\">\n",
       "  <thead>\n",
       "    <tr style=\"text-align: right;\">\n",
       "      <th></th>\n",
       "      <th>domain</th>\n",
       "      <th>mediabias_leftcenterbias</th>\n",
       "      <th>mediabias_leftbias</th>\n",
       "      <th>mediabias_rightcenterbias</th>\n",
       "      <th>mediabias_rightbias</th>\n",
       "    </tr>\n",
       "  </thead>\n",
       "  <tbody>\n",
       "    <tr>\n",
       "      <th>1335</th>\n",
       "      <td>2ndvote.com</td>\n",
       "      <td>0.0</td>\n",
       "      <td>0.0</td>\n",
       "      <td>0.0</td>\n",
       "      <td>1.0</td>\n",
       "    </tr>\n",
       "    <tr>\n",
       "      <th>1336</th>\n",
       "      <td>Abort73.com</td>\n",
       "      <td>0.0</td>\n",
       "      <td>0.0</td>\n",
       "      <td>0.0</td>\n",
       "      <td>1.0</td>\n",
       "    </tr>\n",
       "    <tr>\n",
       "      <th>1337</th>\n",
       "      <td>Aish.com</td>\n",
       "      <td>0.0</td>\n",
       "      <td>0.0</td>\n",
       "      <td>0.0</td>\n",
       "      <td>1.0</td>\n",
       "    </tr>\n",
       "    <tr>\n",
       "      <th>1338</th>\n",
       "      <td>AsianNews.it</td>\n",
       "      <td>0.0</td>\n",
       "      <td>0.0</td>\n",
       "      <td>0.0</td>\n",
       "      <td>1.0</td>\n",
       "    </tr>\n",
       "    <tr>\n",
       "      <th>1339</th>\n",
       "      <td>CAGW.org</td>\n",
       "      <td>0.0</td>\n",
       "      <td>0.0</td>\n",
       "      <td>0.0</td>\n",
       "      <td>1.0</td>\n",
       "    </tr>\n",
       "  </tbody>\n",
       "</table>\n",
       "</div>"
      ],
      "text/plain": [
       "            domain  mediabias_leftcenterbias  mediabias_leftbias  \\\n",
       "1335   2ndvote.com                       0.0                 0.0   \n",
       "1336   Abort73.com                       0.0                 0.0   \n",
       "1337      Aish.com                       0.0                 0.0   \n",
       "1338  AsianNews.it                       0.0                 0.0   \n",
       "1339      CAGW.org                       0.0                 0.0   \n",
       "\n",
       "      mediabias_rightcenterbias  mediabias_rightbias  \n",
       "1335                        0.0                  1.0  \n",
       "1336                        0.0                  1.0  \n",
       "1337                        0.0                  1.0  \n",
       "1338                        0.0                  1.0  \n",
       "1339                        0.0                  1.0  "
      ]
     },
     "execution_count": 14,
     "metadata": {},
     "output_type": "execute_result"
    }
   ],
   "source": [
    "df_domain_rightbias = df_liberal_conservative_domains[df_liberal_conservative_domains['mediabias_rightbias'] == 1]\n",
    "\n",
    "print('Shape: ', df_domain_rightbias.shape)\n",
    "df_domain_rightbias.head()"
   ]
  },
  {
   "cell_type": "code",
   "execution_count": 15,
   "id": "b3d9071a",
   "metadata": {},
   "outputs": [
    {
     "data": {
      "text/plain": [
       "254"
      ]
     },
     "execution_count": 15,
     "metadata": {},
     "output_type": "execute_result"
    }
   ],
   "source": [
    "list_domain_rightbias = df_domain_rightbias.domain.tolist()\n",
    "\n",
    "list_domain_rightbias = get_unique_items(list_domain_rightbias)\n",
    "len(list_domain_rightbias)"
   ]
  },
  {
   "cell_type": "code",
   "execution_count": 16,
   "id": "4bbe982d",
   "metadata": {},
   "outputs": [
    {
     "data": {
      "text/plain": [
       "564"
      ]
     },
     "execution_count": 16,
     "metadata": {},
     "output_type": "execute_result"
    }
   ],
   "source": [
    "list_hardline_domains = []\n",
    "list_hardline_domains.extend(list_domain_rightbias)\n",
    "list_hardline_domains.extend(list_domain_leftbias)\n",
    "\n",
    "list_hardline_domains = get_unique_items(list_hardline_domains)\n",
    "len(list_hardline_domains)"
   ]
  },
  {
   "cell_type": "markdown",
   "id": "5beae86a",
   "metadata": {},
   "source": [
    "## Polarisierungen berechnen\n",
    "### TweetsCov19\n",
    "### User Polarisation"
   ]
  },
  {
   "cell_type": "markdown",
   "id": "962b82f9",
   "metadata": {},
   "source": [
    "***"
   ]
  },
  {
   "cell_type": "code",
   "execution_count": 17,
   "id": "ce8a2fc4",
   "metadata": {},
   "outputs": [
    {
     "name": "stdout",
     "output_type": "stream",
     "text": [
      "Shape : (9409841, 4)\n"
     ]
    },
    {
     "data": {
      "text/html": [
       "<div>\n",
       "<style scoped>\n",
       "    .dataframe tbody tr th:only-of-type {\n",
       "        vertical-align: middle;\n",
       "    }\n",
       "\n",
       "    .dataframe tbody tr th {\n",
       "        vertical-align: top;\n",
       "    }\n",
       "\n",
       "    .dataframe thead th {\n",
       "        text-align: right;\n",
       "    }\n",
       "</style>\n",
       "<table border=\"1\" class=\"dataframe\">\n",
       "  <thead>\n",
       "    <tr style=\"text-align: right;\">\n",
       "      <th></th>\n",
       "      <th>Tweet_Id</th>\n",
       "      <th>Username</th>\n",
       "      <th>Is_deleted</th>\n",
       "      <th>Domains</th>\n",
       "    </tr>\n",
       "  </thead>\n",
       "  <tbody>\n",
       "    <tr>\n",
       "      <th>0</th>\n",
       "      <td>1178791637348212736</td>\n",
       "      <td>c57d4fb895c5f4a33d2a2b24709f93b5</td>\n",
       "      <td>True</td>\n",
       "      <td>0</td>\n",
       "    </tr>\n",
       "    <tr>\n",
       "      <th>1</th>\n",
       "      <td>1178791641601232896</td>\n",
       "      <td>627f7d4ef584ba33a676a4ebcb861cdb</td>\n",
       "      <td>False</td>\n",
       "      <td>catholicnewsagency.com</td>\n",
       "    </tr>\n",
       "    <tr>\n",
       "      <th>2</th>\n",
       "      <td>1178791643509612547</td>\n",
       "      <td>7966d5716c1c4f33591b17755184e3d6</td>\n",
       "      <td>False</td>\n",
       "      <td>0</td>\n",
       "    </tr>\n",
       "    <tr>\n",
       "      <th>3</th>\n",
       "      <td>1178791644214235137</td>\n",
       "      <td>f17996c036ed4cd981f5448fe00d9ed2</td>\n",
       "      <td>False</td>\n",
       "      <td>0</td>\n",
       "    </tr>\n",
       "    <tr>\n",
       "      <th>4</th>\n",
       "      <td>1178791645371875329</td>\n",
       "      <td>32a54e5f6d8a67de1bffd2e689594dc8</td>\n",
       "      <td>False</td>\n",
       "      <td>0</td>\n",
       "    </tr>\n",
       "  </tbody>\n",
       "</table>\n",
       "</div>"
      ],
      "text/plain": [
       "              Tweet_Id                          Username  Is_deleted  \\\n",
       "0  1178791637348212736  c57d4fb895c5f4a33d2a2b24709f93b5        True   \n",
       "1  1178791641601232896  627f7d4ef584ba33a676a4ebcb861cdb       False   \n",
       "2  1178791643509612547  7966d5716c1c4f33591b17755184e3d6       False   \n",
       "3  1178791644214235137  f17996c036ed4cd981f5448fe00d9ed2       False   \n",
       "4  1178791645371875329  32a54e5f6d8a67de1bffd2e689594dc8       False   \n",
       "\n",
       "                  Domains  \n",
       "0                       0  \n",
       "1  catholicnewsagency.com  \n",
       "2                       0  \n",
       "3                       0  \n",
       "4                       0  "
      ]
     },
     "execution_count": 17,
     "metadata": {},
     "output_type": "execute_result"
    }
   ],
   "source": [
    "path = '../data/tweetscov19_id_isdeleted_domains.tsv'\n",
    "\n",
    "df_tweetscov19 = pd.read_csv(path, sep='\\t', error_bad_lines=False, names=['Tweet_Id', 'Username' , 'Is_deleted', 'Domains'])\n",
    "\n",
    "print('Shape :', df_tweetscov19.shape)\n",
    "df_tweetscov19.head()"
   ]
  },
  {
   "cell_type": "code",
   "execution_count": 18,
   "id": "705c23d9",
   "metadata": {},
   "outputs": [],
   "source": [
    "def get_number_of_moderate_domains(domains):\n",
    "    domains_list = domains.split()\n",
    "    score = 0\n",
    "    for i in range(0, len(domains_list)):\n",
    "        \n",
    "        #d = tldextract.extract(domains_list[i])\n",
    "        #d = d.domain\n",
    "        \n",
    "        d = domains_list[i]\n",
    "        \n",
    "        if d in list_moderat_domains:\n",
    "            score -=  1\n",
    "        \n",
    "    return score"
   ]
  },
  {
   "cell_type": "code",
   "execution_count": 19,
   "id": "0c345741",
   "metadata": {},
   "outputs": [],
   "source": [
    "def get_number_of_hardline_domains(domains):\n",
    "    domains_list = domains.split()\n",
    "    score = 0\n",
    "    for i in range(0, len(domains_list)):\n",
    "        \n",
    "        #d = tldextract.extract(domains_list[i])\n",
    "        #d = d.domain\n",
    "       \n",
    "        d = domains_list[i]\n",
    "        \n",
    "        if d in list_hardline_domains:\n",
    "            score +=  1\n",
    "        \n",
    "    return score"
   ]
  },
  {
   "cell_type": "code",
   "execution_count": 20,
   "id": "25a8416f",
   "metadata": {},
   "outputs": [],
   "source": [
    "def get_polarized_users(df, dim1, dim2, user_polarisation):\n",
    "    \n",
    "    df.Domains = df.Domains.astype(str)\n",
    "\n",
    "    df[dim1] = df.apply(lambda row: get_number_of_moderate_domains(row.Domains) if (row.Domains != '0') else 0, axis=1)\n",
    "    num_domains_dim1 = df_tweetscov19[df_tweetscov19[dim1] < 0].shape[0]\n",
    "    #print(f\"{dim1} : {num_domains_dim1}\")\n",
    "    \n",
    "    df[dim2] = df.apply(lambda row: get_number_of_hardline_domains(row.Domains) if (row.Domains != '0') else 0, axis=1)\n",
    "    num_domains_dim2 = df_tweetscov19[df_tweetscov19[dim2] > 0].shape[0]\n",
    "    #print(f'{dim2}: {num_domains_dim2}')\n",
    "    \n",
    "    df_unique_users = df.groupby('Username')[ dim1, dim2].sum()\n",
    "    print(f'Number of unique users in Dataframe: {df_unique_users.shape[0]}')\n",
    "    \n",
    "    df_unique_users['Sum_polarized_domains'] = df_unique_users.apply(lambda row: ((row[dim2] - row[dim1])), axis=1)\n",
    "    df_unique_users[user_polarisation] = df_unique_users.apply(lambda row: (row[dim1] + row[dim2]) / row.Sum_polarized_domains if row.Sum_polarized_domains != 0 else 0, axis=1)\n",
    "    \n",
    "    ########################### Prints ########################\n",
    "    \n",
    "    conservatives = df_unique_users[df_unique_users[user_polarisation] > 0].shape[0]\n",
    "    print('Number of recegnised conservatives : ', conservatives)\n",
    "\n",
    "    liberals = df_unique_users[df_unique_users[user_polarisation] < 0].shape[0]\n",
    "    print('Number of recegnised liberals : ', liberals)\n",
    "\n",
    "    number_of_neutrale_users = df_unique_users[(df_unique_users[user_polarisation] == 0) & (df_unique_users.Sum_polarized_domains > 0)].shape[0]\n",
    "    print('Number of recognised neutral users: ', number_of_neutrale_users)\n",
    "\n",
    "    number_of_unique_users = df_unique_users[df_unique_users.Sum_polarized_domains>0].shape[0]\n",
    "    print('Number of recognised polarized users: ', number_of_unique_users)\n",
    "    \n",
    "    return df, df_unique_users"
   ]
  },
  {
   "cell_type": "code",
   "execution_count": 21,
   "id": "2b09c59d",
   "metadata": {},
   "outputs": [
    {
     "name": "stdout",
     "output_type": "stream",
     "text": [
      "Number of unique users in Dataframe: 4095876\n",
      "Number of recegnised conservatives :  36665\n",
      "Number of recegnised liberals :  134005\n",
      "Number of recognised neutral users:  5631\n",
      "Number of recognised polarized users:  176301\n"
     ]
    }
   ],
   "source": [
    "df_tweetscov19, df_tweetscov19_unique_users = get_polarized_users(df_tweetscov19, 'Number_of_moderate_domains', 'Number_of_hardline_domains', 'user_moderacy_polarisation')"
   ]
  },
  {
   "cell_type": "markdown",
   "id": "a6701dc5",
   "metadata": {},
   "source": [
    "***"
   ]
  },
  {
   "cell_type": "markdown",
   "id": "a846d584",
   "metadata": {},
   "source": [
    "### Tweet Polarisation"
   ]
  },
  {
   "cell_type": "code",
   "execution_count": 22,
   "id": "0c0d2fc9",
   "metadata": {},
   "outputs": [],
   "source": [
    "def get_polarized_tweets(df, dim1, dim2, tweet_polarisation):\n",
    "    \n",
    "    df['Sum_polarized_domains'] = df.apply(lambda row: ((row[dim2] - row[dim1])), axis=1)\n",
    "    df[tweet_polarisation] = df.apply(lambda row: (row[dim1] + row[dim2]) / row['Sum_polarized_domains'] if row['Sum_polarized_domains'] != 0 else 0, axis=1)\n",
    "    \n",
    "    ###################### Prints ########################\n",
    "    \n",
    "    liberal_tweets = df[df[tweet_polarisation] < 0].shape[0]\n",
    "    print(f\"liberal_tweets: {liberal_tweets}\")\n",
    "\n",
    "    conservative_tweets = df[df[tweet_polarisation] > 0].shape[0]\n",
    "    print(f\"conservative_tweets: {conservative_tweets}\")\n",
    "\n",
    "    neutral_tweets = df[(df[tweet_polarisation] == 0) & (df.Sum_polarized_domains > 0)].shape[0]\n",
    "    print(f\"neutral_tweets: {neutral_tweets}\")\n",
    "\n",
    "    polarized_tweets = df[df.Sum_polarized_domains > 0].shape[0]\n",
    "    print(f\"polarized_tweets: {polarized_tweets}\")\n",
    "\n",
    "    return df"
   ]
  },
  {
   "cell_type": "code",
   "execution_count": 23,
   "id": "8c561473",
   "metadata": {},
   "outputs": [
    {
     "name": "stdout",
     "output_type": "stream",
     "text": [
      "liberal_tweets: 453723\n",
      "conservative_tweets: 157864\n",
      "neutral_tweets: 248\n",
      "polarized_tweets: 611835\n"
     ]
    }
   ],
   "source": [
    "df_tweetscov19 = get_polarized_tweets(df_tweetscov19, 'Number_of_moderate_domains', 'Number_of_hardline_domains', 'tweet_political_polarisation')"
   ]
  },
  {
   "cell_type": "markdown",
   "id": "6ae0cc7b",
   "metadata": {},
   "source": [
    "***"
   ]
  },
  {
   "cell_type": "code",
   "execution_count": 44,
   "id": "451f73e9",
   "metadata": {},
   "outputs": [],
   "source": [
    "# df_tweetscov19 = df_tweetscov19 [['Tweet_Id', 'Number_of_moderate_domains', 'Number_of_hardline_domains', 'Sum_polarized_domains', 'tweet_moderacy_polarisation']]\n",
    "\n",
    "# path = '../data/tweetscov19_moderacy_polarized_tweets.tsv'\n",
    "\n",
    "# df_tweetscov19.Tweet_Id = df_tweetscov19.Tweet_Id.astype(str)\n",
    "\n",
    "# with open(path, 'w', newline='', encoding=\"utf-8\") as out_file:\n",
    "#     tsv_writer = csv.writer(out_file, delimiter=\"\\t\")\n",
    "#     for idx, row in df_tweetscov19.iterrows():\n",
    "#         tsv_writer.writerow(row.values.tolist())"
   ]
  },
  {
   "cell_type": "code",
   "execution_count": 45,
   "id": "efe04c69",
   "metadata": {},
   "outputs": [],
   "source": [
    "# df_tweetscov19_unique_user = df_tweetscov19_unique_user.reset_index()\n",
    "# df_tweetscov19_unique_user.head()\n",
    "\n",
    "# pfad_tsv3 = '../data/tweetscov19_moderacy_polarized_users.tsv'\n",
    "\n",
    "# with open(pfad_tsv3, 'w', newline='', encoding=\"utf-8\") as out_file:\n",
    "#     tsv_writer = csv.writer(out_file, delimiter=\"\\t\")\n",
    "#     for idx, row in df_tweetscov19_unique_user.iterrows():\n",
    "#         tsv_writer.writerow(row.values.tolist())"
   ]
  },
  {
   "cell_type": "markdown",
   "id": "ee3c5f68",
   "metadata": {},
   "source": [
    "***"
   ]
  },
  {
   "cell_type": "markdown",
   "id": "fb8b285a",
   "metadata": {},
   "source": [
    "## Polarisierungen berechnen\n",
    "### TweetsKB\n",
    "### User polarisation"
   ]
  },
  {
   "cell_type": "markdown",
   "id": "f1127fb8",
   "metadata": {},
   "source": [
    "***"
   ]
  },
  {
   "cell_type": "code",
   "execution_count": 25,
   "id": "78c338da",
   "metadata": {},
   "outputs": [
    {
     "name": "stdout",
     "output_type": "stream",
     "text": [
      "Shape : (9409841, 4)\n"
     ]
    },
    {
     "data": {
      "text/html": [
       "<div>\n",
       "<style scoped>\n",
       "    .dataframe tbody tr th:only-of-type {\n",
       "        vertical-align: middle;\n",
       "    }\n",
       "\n",
       "    .dataframe tbody tr th {\n",
       "        vertical-align: top;\n",
       "    }\n",
       "\n",
       "    .dataframe thead th {\n",
       "        text-align: right;\n",
       "    }\n",
       "</style>\n",
       "<table border=\"1\" class=\"dataframe\">\n",
       "  <thead>\n",
       "    <tr style=\"text-align: right;\">\n",
       "      <th></th>\n",
       "      <th>Tweet_Id</th>\n",
       "      <th>Username</th>\n",
       "      <th>Is_deleted</th>\n",
       "      <th>Domains</th>\n",
       "    </tr>\n",
       "  </thead>\n",
       "  <tbody>\n",
       "    <tr>\n",
       "      <th>0</th>\n",
       "      <td>1178791636039589889</td>\n",
       "      <td>DCComics</td>\n",
       "      <td>False</td>\n",
       "      <td>dcuniverseinfinite.com</td>\n",
       "    </tr>\n",
       "    <tr>\n",
       "      <th>1</th>\n",
       "      <td>1178791641265639424</td>\n",
       "      <td>seanberdyz</td>\n",
       "      <td>True</td>\n",
       "      <td>carrd.co</td>\n",
       "    </tr>\n",
       "    <tr>\n",
       "      <th>2</th>\n",
       "      <td>1178791640573579264</td>\n",
       "      <td>AnArtistAtBirth</td>\n",
       "      <td>True</td>\n",
       "      <td>0</td>\n",
       "    </tr>\n",
       "    <tr>\n",
       "      <th>3</th>\n",
       "      <td>1178791644797255680</td>\n",
       "      <td>lagosboygang</td>\n",
       "      <td>True</td>\n",
       "      <td>0</td>\n",
       "    </tr>\n",
       "    <tr>\n",
       "      <th>4</th>\n",
       "      <td>1178791648056217600</td>\n",
       "      <td>Phenom_Hoops</td>\n",
       "      <td>False</td>\n",
       "      <td>phenomhoopreport.com</td>\n",
       "    </tr>\n",
       "  </tbody>\n",
       "</table>\n",
       "</div>"
      ],
      "text/plain": [
       "              Tweet_Id         Username  Is_deleted                 Domains\n",
       "0  1178791636039589889         DCComics       False  dcuniverseinfinite.com\n",
       "1  1178791641265639424       seanberdyz        True                carrd.co\n",
       "2  1178791640573579264  AnArtistAtBirth        True                       0\n",
       "3  1178791644797255680     lagosboygang        True                       0\n",
       "4  1178791648056217600     Phenom_Hoops       False    phenomhoopreport.com"
      ]
     },
     "execution_count": 25,
     "metadata": {},
     "output_type": "execute_result"
    }
   ],
   "source": [
    "pfad_tsv3 = '../data/tweetskb_id_isdeleted_domains.tsv'\n",
    "\n",
    "df_tweetskb = pd.read_csv(pfad_tsv3, sep='\\t', error_bad_lines=False, names=['Tweet_Id', 'Username' , 'Is_deleted', 'Domains'])\n",
    "pd.options.display.max_columns = None\n",
    "print('Shape :', df_tweetskb.shape)\n",
    "df_tweetskb.head()"
   ]
  },
  {
   "cell_type": "code",
   "execution_count": 26,
   "id": "9c6aec4e",
   "metadata": {},
   "outputs": [
    {
     "name": "stdout",
     "output_type": "stream",
     "text": [
      "Number of unique users in Dataframe: 5208425\n",
      "Number of recegnised conservatives :  14319\n",
      "Number of recegnised liberals :  51334\n",
      "Number of recognised neutral users:  1858\n",
      "Number of recognised polarized users:  67511\n"
     ]
    }
   ],
   "source": [
    "df_tweetskb, df_tweetskb_unique_users = get_polarized_users(df_tweetskb, 'Number_of_moderate_domains', 'Number_of_hardline_domains', 'user_moderacy_polarisation')"
   ]
  },
  {
   "cell_type": "markdown",
   "id": "123dab97",
   "metadata": {},
   "source": [
    "### Tweet Polarisation"
   ]
  },
  {
   "cell_type": "code",
   "execution_count": 27,
   "id": "440c9802",
   "metadata": {},
   "outputs": [
    {
     "name": "stdout",
     "output_type": "stream",
     "text": [
      "liberal_tweets: 97682\n",
      "conservative_tweets: 35943\n",
      "neutral_tweets: 51\n",
      "polarized_tweets: 133676\n"
     ]
    }
   ],
   "source": [
    "df_tweetskb = get_polarized_tweets(df_tweetskb, 'Number_of_moderate_domains', 'Number_of_hardline_domains', 'tweet_political_polarisation')"
   ]
  },
  {
   "cell_type": "markdown",
   "id": "aeab7e00",
   "metadata": {},
   "source": [
    "***"
   ]
  },
  {
   "cell_type": "markdown",
   "id": "af9a7442",
   "metadata": {},
   "source": [
    "***"
   ]
  },
  {
   "cell_type": "code",
   "execution_count": 69,
   "id": "883953c0",
   "metadata": {},
   "outputs": [],
   "source": [
    "# df_tweetskb = df_tweetskb[['Tweet_Id', 'Number_of_moderate_domains', 'Number_of_hardline_domains', 'Sum_polarized_domains', 'tweet_moderacy_polarisation']]\n",
    "\n",
    "# path = '../data/tweetskb_moderacy_polarized_tweets.tsv'\n",
    "\n",
    "# df_tweetskb.Tweet_Id = df_tweetskb.Tweet_Id.astype(str)\n",
    "\n",
    "\n",
    "# with open(path, 'w', newline='', encoding=\"utf-8\") as out_file:\n",
    "#     tsv_writer = csv.writer(out_file, delimiter=\"\\t\")\n",
    "#     for idx, row in df_tweetskb.iterrows():\n",
    "#         tsv_writer.writerow(row.values.tolist())"
   ]
  },
  {
   "cell_type": "code",
   "execution_count": 70,
   "id": "15c4ac38",
   "metadata": {},
   "outputs": [],
   "source": [
    "# df_tweetskb_unique_user = df_tweetskb_unique_user.reset_index()\n",
    "# df_tweetskb_unique_user.head()\n",
    "\n",
    "# pfad_tsv3 = '../data/tweetskb_moderacy_polarized_users.tsv'\n",
    "\n",
    "# with open(pfad_tsv3, 'w', newline='', encoding=\"utf-8\") as out_file:\n",
    "#     tsv_writer = csv.writer(out_file, delimiter=\"\\t\")\n",
    "#     for idx, row in df_tweetskb_unique_user.iterrows():\n",
    "#         tsv_writer.writerow(row.values.tolist())"
   ]
  },
  {
   "cell_type": "code",
   "execution_count": null,
   "id": "f2132a67",
   "metadata": {},
   "outputs": [],
   "source": []
  }
 ],
 "metadata": {
  "kernelspec": {
   "display_name": "Python 3",
   "language": "python",
   "name": "python3"
  },
  "language_info": {
   "codemirror_mode": {
    "name": "ipython",
    "version": 3
   },
   "file_extension": ".py",
   "mimetype": "text/x-python",
   "name": "python",
   "nbconvert_exporter": "python",
   "pygments_lexer": "ipython3",
   "version": "3.8.8"
  }
 },
 "nbformat": 4,
 "nbformat_minor": 5
}
